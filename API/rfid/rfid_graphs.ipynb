{
 "cells": [
  {
   "cell_type": "code",
   "execution_count": 34,
   "metadata": {},
   "outputs": [],
   "source": [
    "import plotly.express as px\n",
    "import os\n",
    "import pandas as pd\n",
    "import numpy as np\n",
    "import plotly.graph_objects as go\n",
    "\n",
    "#import csv\n",
    "pd.set_option('display.max_rows', None)  # Display all rows\n"
   ]
  },
  {
   "cell_type": "code",
   "execution_count": 35,
   "metadata": {},
   "outputs": [],
   "source": [
    "#if not os.path.exists(\"images\"):\n",
    "#    os.mkdir(\"images\")\n",
    "\n",
    "dataset = \"rfid\"\n",
    "\n",
    "def process_file(file_number, date):\n",
    "    folder_path = dataset + '_' + date + '/'\n",
    "    file_path = os.path.join(folder_path, f'rfid_{date}_{file_number}.csv')\n",
    "    if os.path.exists(file_path):\n",
    "        #print(file_path)\n",
    "        if file_number == \"final\":\n",
    "            #file_path = os.path.join(\"rfid_fabrica\", f'rfid_final.csv')\n",
    "            df = pd.read_csv(file_path, parse_dates=['Stamp'])\n",
    "            if df.shape[1] == 6:\n",
    "                df = df.drop(df.columns[0], axis=1)\n",
    "                df = df.drop(df.columns[1], axis=1)\n",
    "                df = df.drop(df.columns[2], axis=1)\n",
    "\n",
    "\n",
    "            if df.shape[1] == 4:\n",
    "                df = df.drop(df.columns[3], axis=1)\n",
    "                df = df.drop(df.columns[1], axis=1)\n",
    "            df.to_csv(file_path, index = False)\n",
    "\n",
    "        else:\n",
    "            df = pd.read_csv(file_path, parse_dates=['ts'])\n",
    "\n",
    "            # Remove first empty column if it exists\n",
    "            if df.shape[1] == 3:\n",
    "                df = df.drop(df.columns[0], axis=1)\n",
    "            # Remove entries with 'gabarit' equal to 0\n",
    "            df= df[df['gabarit'] != 0]\n",
    "\n",
    "            # Write the updated DataFrame back to the CSV file\n",
    "            df.to_csv(file_path, index = False)\n",
    "            # Reset the index of the DataFrame\n",
    "            df = df.reset_index(drop = True) \n",
    "    else:\n",
    "        return pd.DataFrame\n",
    "\n",
    "    return df\n",
    "\n",
    "day = \"09\"\n",
    "month = \"10\"\n",
    "date = day + \"_\" + month #change date accordingly\n",
    "date_year = \"2023-\" + month + \"-\" + day\n",
    "\n",
    "df1 = process_file(\"1\",date)\n",
    "df2 = process_file(\"2\",date)\n",
    "df3 = process_file(\"3\",date)\n",
    "df4 = process_file(\"final\",date)\n",
    "\n",
    "\n"
   ]
  },
  {
   "cell_type": "code",
   "execution_count": 36,
   "metadata": {},
   "outputs": [],
   "source": [
    "def time_in_station_fun(df):\n",
    "    \"\"\"\n",
    "    Calculates and records the time spent in a station for each occurrence of a 'gabarit' in a DataFrame in seconds.\n",
    "\n",
    "    Parameters:\n",
    "        - df: DataFrame containing timestamps and 'gabarit' values.\n",
    "\n",
    "    Returns:\n",
    "        DataFrame with an added 'time_in_station' column representing the time\n",
    "        spent in the station for each occurrence (in seconds).\n",
    "    \"\"\"\n",
    "    \n",
    "    curr_gabarit = 0\n",
    "    index_i = 0  # Initialize index_i outside the loop\n",
    "    index_f = 0  # Initialize index_f outside the loop\n",
    "    cnt = 0\n",
    "    df_in = pd.DataFrame(columns=['ts', 'gabarit', 'time_in_station'])\n",
    "    #df_in['ts'] = pd.to_datetime(df['ts'])\n",
    "\n",
    "    for i in range(df.shape[0]): #0 to 129\n",
    "        if i != 0: # not first index\n",
    "            if ((df.loc[i, 'gabarit'] != curr_gabarit)):\n",
    "                # routine to present final result\n",
    "                df_in, cnt = calc_time_in_station(df, df_in, index_i, index_f, cnt)\n",
    "            \n",
    "          \n",
    "            # new gabarit is found, i = f\n",
    "            if df.loc[i, 'gabarit'] != df.loc[i-1, 'gabarit']:\n",
    "                curr_gabarit = df.loc[i, 'gabarit']\n",
    "                index_i = i # starts the interval\n",
    "                index_f = i\n",
    "        else: # for first entry, i = f\n",
    "            curr_gabarit = df.loc[i, 'gabarit']\n",
    "            index_i = i\n",
    "            index_f = i\n",
    "\n",
    "        \n",
    "        if i != df.shape[0] - 1: # not last index \n",
    "            if df.loc[i, 'gabarit'] == df.loc[i+1, 'gabarit']:\n",
    "                index_f = i+1\n",
    "        else:\n",
    "            index_f = i           \n",
    "            df_in, cnt = calc_time_in_station(df, df_in, index_i, index_f, cnt)\n",
    "\n",
    "    return df_in\n",
    "\n",
    "\n",
    "# calculates time and writes it in dataframe\n",
    "def calc_time_in_station(df, df_in, index_i, index_f, cnt):\n",
    "    if index_f - index_i == 0:\n",
    "        time_in_station = 1\n",
    "    else: \n",
    "        time_in_station = ((df.loc[index_f, 'ts'] - df.loc[index_i, 'ts']).total_seconds() + 1)\n",
    "\n",
    "    df_in.loc[cnt,'ts'] = df.loc[index_i, 'ts']\n",
    "    df_in.loc[cnt,'gabarit'] = df.loc[index_i, 'gabarit']\n",
    "    df_in.loc[cnt,'time_in_station'] = time_in_station\n",
    "\n",
    "    cnt += 1\n",
    "\n",
    "    return df_in, cnt\n",
    "\n",
    "\n",
    "def plot_time_in_station(df, station):\n",
    "    df = df[df['time_in_station'] != 0]\n",
    "    # Create a scatter plot using Plotly Express\n",
    "    if station == 1:\n",
    "        title_plot_var = 'Begginning of Stage 3'\n",
    "    elif station == 2:\n",
    "        title_plot_var = 'End of Stage 3'\n",
    "    elif station == 3:\n",
    "        title_plot_var = 'Begginning of Stage 7'\n",
    "\n",
    "    title_plot = 'Plot of Time in ' + title_plot_var + ' over Time'\n",
    "\n",
    "    ts_values = np.array(df['ts'])\n",
    "    df['time_in_station'] = df['time_in_station'] / 60\n",
    "\n",
    "    # Create a scatter plot using go.Scatter\n",
    "    scatter = go.Scatter(x=ts_values, y=df['time_in_station'], mode='markers', \n",
    "                        name='Scatter Plot', marker=dict(color='blue'))\n",
    "\n",
    "    # Create a layout\n",
    "    layout = go.Layout(\n",
    "        title=title_plot,\n",
    "        xaxis=dict(title='Timestamp', range=[date_year + ' 09:00:00', date_year + ' 18:00:00']),  # Set the range for the x-axis\n",
    "        yaxis=dict(title='Time in Station', range=[-0.2, 3])  # Set the range for the y-axis\n",
    "    )\n",
    "\n",
    "    # Create a figure and add the scatter trace\n",
    "    fig = go.Figure(data=[scatter], layout=layout)\n",
    "\n",
    "    # Show the plot\n",
    "    fig.show()\n",
    "    fig.write_image(\"images/fig_\" + dataset + \"_\" + day + \"_\" + month + \"_\" + str(station) + \".svg\")\n",
    "\n"
   ]
  },
  {
   "cell_type": "code",
   "execution_count": 37,
   "metadata": {},
   "outputs": [],
   "source": [
    "plot = 0\n",
    "display_df = 0\n",
    "df_in_1 = time_in_station_fun(df1)\n",
    "df_in_2 = time_in_station_fun(df2)\n",
    "df_in_3 = time_in_station_fun(df3)\n",
    "\n",
    "if display_df:\n",
    "    display(df_in_1)\n",
    "    display(df_in_2)\n",
    "    display(df_in_3)\n",
    "\n",
    "if plot:\n",
    "    plot_time_in_station(df_in_1,1)\n",
    "    plot_time_in_station(df_in_2,2)\n",
    "    plot_time_in_station(df_in_3,3)\n",
    "\n"
   ]
  },
  {
   "cell_type": "code",
   "execution_count": 38,
   "metadata": {},
   "outputs": [],
   "source": [
    "\n",
    "\n",
    "def time_between_station(df1, df2, station1, station2, max_time):\n",
    "    \"\"\"\n",
    "    Finds and records the time difference between occurrences of the same 'gabarit' in two DataFrames,\n",
    "    df1 and df2, within a specified time window.\n",
    "\n",
    "    Parameters:\n",
    "        - df1: DataFrame containing timestamps and 'gabarit' values for station1.\n",
    "        - df2: DataFrame containing timestamps and 'gabarit' values for station2.\n",
    "        - station1: Identifier for the first station.\n",
    "        - station2: Identifier for the second station.\n",
    "        - max_time: Maximum time window to search for matching occurrences (in minutes).\n",
    "    \n",
    "    Returns:\n",
    "        DataFrame with columns 'gabarit', 'ts' (timestamp), and 'time_bet_station1_station2'\n",
    "        representing the time difference (in minutes) between corresponding occurrences in\n",
    "        station1 and station2 within the specified time window.\n",
    "    \"\"\"\n",
    "    \n",
    "    df_bet = pd.DataFrame(columns=['gabarit', f'time_bet_{station1}_{station2}'])\n",
    "    df_bet['ts'] = pd.NaT  # initialize as datetime type\n",
    "\n",
    " \n",
    "    if (station1 != 3 and station2 != 4): ##1 2 or 2 3 \n",
    "        column_order = ['ts', 'gabarit', f'time_bet_{station1}_{station2}']\n",
    "        df_bet = df_bet[column_order]\n",
    "        df_bet = find_matching_gabarit(df1, df2, station1, station2, max_time, df_bet)\n",
    "    else:\n",
    "        df_bet['model'] = ''\n",
    "        df_bet['state'] = ''\n",
    "        column_order = ['ts', 'gabarit', 'model', f'time_bet_{station1}_{station2}','state']\n",
    "        df_bet = df_bet[column_order]\n",
    "        df_bet = find_matching_gabarit_final(df1, df2, df_bet)\n",
    "\n",
    "    return df_bet\n",
    "\n",
    "\n",
    "def find_matching_gabarit(df1,df2,station1, station2, max_time, df_bet):\n",
    "\n",
    "    cnt = 0\n",
    "            \n",
    "    for index in range(df1.shape[0]):\n",
    "        start_time = df1.loc[index, 'ts']\n",
    "        end_time = start_time + pd.Timedelta(minutes=max_time)\n",
    "        matching_rows = df2[(df2['ts'] >= start_time) & \n",
    "                            (df2['ts'] <= end_time) \n",
    "                                & (df2['gabarit'] == df1.loc[index,'gabarit'])]\n",
    "        if not matching_rows.empty:\n",
    "            first_occurrence = matching_rows.iloc[0]\n",
    "            \n",
    "            # df1: initial time stamp, time_in_station_1\n",
    "            # df2: initial time stamp, time_in_station_2\n",
    "            if (station1 == 1 and station2 == 2):\n",
    "                time_bet = (first_occurrence['time_in_station'] +\n",
    "                        (first_occurrence['ts'] - df1.loc[index, 'ts']).total_seconds()) # in seconds\n",
    "            else:\n",
    "                time_bet = ((first_occurrence['ts'] - df1.loc[index, 'ts'] # in seconds\n",
    "                            - pd.Timedelta(seconds = df1.loc[index, 'time_in_station'])).total_seconds())\n",
    "\n",
    "                #df1: 10:06:00 17\n",
    "                #     10:07:30 17\n",
    "                #df2: 10:07:10 17\n",
    "            #    time_bet = (df1.loc[index, 'time_in_station'] + first_occurrence['time_in_station'])\n",
    "\n",
    "            df_bet.loc[cnt, 'ts'] = df1.loc[index, 'ts']  # Copy the timestamp for reference\n",
    "            df_bet.loc[cnt, 'gabarit'] = first_occurrence['gabarit']\n",
    "            df_bet.loc[cnt, f'time_bet_{station1}_{station2}'] = time_bet #round,2\n",
    "            cnt += 1\n",
    "        \n",
    "    return df_bet\n",
    "\n",
    "def find_matching_gabarit_final(df1, df2, df_bet):\n",
    "\n",
    "    cnt = 0\n",
    "            \n",
    "    for index in range(df1.shape[0]):\n",
    "        start_time = (df1.loc[index, 'ts'] + pd.Timedelta(seconds = df1.loc[index, 'time_in_station'])\n",
    "                      + pd.Timedelta(seconds=20)) # not possible to have a test that takes less than 20 seconds\n",
    "        matching_rows = df2[(df2['Stamp'] >= start_time)]\n",
    "\n",
    "\n",
    "        if not matching_rows.empty:\n",
    "            first_occurrence = matching_rows.iloc[0]\n",
    "            \n",
    "            # df1: initial time stamp, time_in_station_1\n",
    "            # df2: initial time stamp, time_in_station_2\n",
    "            time_bet = ((first_occurrence['Stamp'] - df1.loc[index, 'ts']).total_seconds()) # in minutes\n",
    "\n",
    "            df_bet.loc[cnt, 'ts'] = df1.loc[index, 'ts']  # Copy the timestamp for reference\n",
    "            df_bet.loc[cnt, 'gabarit'] = df1.loc[index,'gabarit']\n",
    "            #print(cnt)\n",
    "            #print(type(first_occurrence['Model']))\n",
    "            #print(first_occurrence['Model'])\n",
    "            df_bet.loc[cnt, 'model'] = str(first_occurrence['Model'])\n",
    "            df_bet.loc[cnt, 'state'] = str(first_occurrence['Status'])\n",
    "            df_bet.loc[cnt, f'time_bet_3_4'] = time_bet\n",
    "            cnt += 1\n",
    "        \n",
    "    return df_bet\n",
    "\n",
    "\n",
    "\n",
    "display_df_ = 0\n",
    "\n",
    "df_bet_12 = time_between_station(df_in_1, df_in_2, 1, 2, max_time = 5)\n",
    "df_bet_23 = time_between_station(df_in_2, df_in_3, 2, 3, max_time = 20)\n",
    "df_bet_34 = time_between_station(df_in_3, df4, 3, 4, max_time = 0)\n",
    "\n",
    "if display_df_:\n",
    "    display(df_bet_12)\n",
    "    display(df_bet_23)\n",
    "    display(df_bet_34)\n",
    "\n",
    "\n"
   ]
  },
  {
   "cell_type": "code",
   "execution_count": 39,
   "metadata": {},
   "outputs": [
    {
     "name": "stdout",
     "output_type": "stream",
     "text": [
      "Percentage of gabarits scanned in sensor 1: 74.24%\n",
      "Percentage of gabarits scanned in sensor 2: 50.51%\n",
      "Percentage of gabarits scanned in sensor 3: 60.0%\n"
     ]
    }
   ],
   "source": [
    "def perc_of_gabarits_found(df_in, df4, station):\n",
    "    gab_scanned = df_in.shape[0]\n",
    "    gab_factory = df4.shape[0]\n",
    "    perc = gab_scanned / gab_factory * 100\n",
    "    perc = round(perc,2)\n",
    "    \n",
    "    if station == 4:\n",
    "        #display(df4)\n",
    "        #display(df_in) \n",
    "        ok_count = df_in['state'].value_counts().get('OK', 0)\n",
    "        #print(f'ok: {ok_count}')\n",
    "        ko_count =gab_scanned - ok_count\n",
    "        perc_ok = round(ok_count / gab_scanned *100)\n",
    "        perc_ko = round(100 - perc_ok)\n",
    "        print(f\"Percentage of gabarits scanned in every sensor: {perc}%, which of those occured OK:{ok_count} and KO:{ko_count}\")\n",
    "    else: \n",
    "        print(f\"Percentage of gabarits scanned in sensor {station}: {perc}%\")\n",
    "    \n",
    "    return perc\n",
    "\n",
    "\n",
    "perc1 = perc_of_gabarits_found(df_in_1, df4, 1)\n",
    "perc2 = perc_of_gabarits_found(df_in_2, df4, 2)\n",
    "perc3 = perc_of_gabarits_found(df_in_3, df4, 3)\n"
   ]
  },
  {
   "cell_type": "code",
   "execution_count": 100,
   "metadata": {},
   "outputs": [
    {
     "name": "stdout",
     "output_type": "stream",
     "text": [
      "Percentage of gabarits scanned in every sensor: 23.73%, which of those occured OK:66 and KO:4\n"
     ]
    },
    {
     "name": "stderr",
     "output_type": "stream",
     "text": [
      "c:\\Users\\isacc\\miniconda3\\Lib\\site-packages\\_plotly_utils\\basevalidators.py:105: FutureWarning:\n",
      "\n",
      "The behavior of DatetimeProperties.to_pydatetime is deprecated, in a future version this will return a Series containing python datetime objects instead of an ndarray. To retain the old behavior, call `np.array` on the result\n",
      "\n"
     ]
    },
    {
     "data": {
      "application/vnd.plotly.v1+json": {
       "config": {
        "plotlyServerURL": "https://plot.ly"
       },
       "data": [
        {
         "alignmentgroup": "True",
         "hovertemplate": "color=SPT120018W_time_bet_1_2<br>Timestamp=%{x}<br>Time (minutes)=%{y}<extra></extra>",
         "legendgroup": "SPT120018W_time_bet_1_2",
         "marker": {
          "color": "maroon",
          "pattern": {
           "shape": ""
          }
         },
         "name": "SPT120018W_time_bet_1_2",
         "offsetgroup": "SPT120018W_time_bet_1_2",
         "orientation": "v",
         "showlegend": true,
         "textposition": "auto",
         "type": "bar",
         "x": [
          "2023-10-09T09:20:34",
          "2023-10-09T09:21:29",
          "2023-10-09T09:28:10",
          "2023-10-09T09:34:48",
          "2023-10-09T09:37:49",
          "2023-10-09T09:54:19",
          "2023-10-09T10:09:13",
          "2023-10-09T10:14:11",
          "2023-10-09T10:15:42",
          "2023-10-09T10:18:32",
          "2023-10-09T10:55:47",
          "2023-10-09T10:58:22",
          "2023-10-09T10:59:49",
          "2023-10-09T11:01:49",
          "2023-10-09T11:04:35",
          "2023-10-09T11:07:04",
          "2023-10-09T11:10:55",
          "2023-10-09T11:21:06",
          "2023-10-09T11:29:21",
          "2023-10-09T11:33:51",
          "2023-10-09T11:36:37",
          "2023-10-09T11:51:48",
          "2023-10-09T11:54:43",
          "2023-10-09T11:55:58",
          "2023-10-09T11:57:54",
          "2023-10-09T12:00:40",
          "2023-10-09T12:12:43",
          "2023-10-09T12:17:10",
          "2023-10-09T12:28:03",
          "2023-10-09T12:30:48",
          "2023-10-09T12:38:16",
          "2023-10-09T12:39:47",
          "2023-10-09T12:42:43",
          "2023-10-09T12:45:20",
          "2023-10-09T12:46:38",
          "2023-10-09T12:48:38",
          "2023-10-09T12:55:52",
          "2023-10-09T14:02:18",
          "2023-10-09T14:05:22",
          "2023-10-09T14:23:09",
          "2023-10-09T14:28:47",
          "2023-10-09T14:31:20",
          "2023-10-09T14:40:10",
          "2023-10-09T14:41:26",
          "2023-10-09T14:42:52",
          "2023-10-09T14:45:33",
          "2023-10-09T15:02:00",
          "2023-10-09T15:17:34",
          "2023-10-09T15:20:20",
          "2023-10-09T15:23:22",
          "2023-10-09T15:28:35",
          "2023-10-09T15:36:34",
          "2023-10-09T15:46:38",
          "2023-10-09T15:48:12",
          "2023-10-09T15:53:42",
          "2023-10-09T16:11:10",
          "2023-10-09T16:17:46",
          "2023-10-09T16:20:21",
          "2023-10-09T16:49:20",
          "2023-10-09T16:53:32",
          "2023-10-09T16:59:16",
          "2023-10-09T17:02:02",
          "2023-10-09T17:11:02",
          "2023-10-09T17:11:22",
          "2023-10-09T17:17:20",
          "2023-10-09T17:25:37",
          "2023-10-09T17:29:40",
          "2023-10-09T17:32:33",
          "2023-10-09T17:33:59",
          "2023-10-09T17:40:36"
         ],
         "xaxis": "x",
         "y": [
          0.6,
          1.12,
          0.05,
          0.05,
          1.28,
          0.05,
          1.52,
          0.07,
          0.07,
          2,
          0.47,
          0.55,
          0.48,
          0.07,
          0.05,
          0.05,
          0.9,
          0.57,
          0.63,
          0.07,
          1.85,
          0.08,
          0.07,
          0.07,
          0.05,
          0.67,
          0.07,
          0.07,
          1.1,
          0.08,
          0.7,
          0.7,
          0.62,
          0.15,
          0.05,
          0.03,
          0.07,
          1.17,
          0.72,
          1.08,
          0.85,
          0.83,
          0.75,
          0.83,
          0.07,
          0.07,
          0.05,
          1.63,
          0.07,
          0.05,
          0.05,
          0.07,
          0.13,
          1.77,
          0.62,
          0.07,
          0.05,
          0.33,
          1.68,
          0.13,
          1.42,
          0.07,
          0.35,
          1.93,
          0.12,
          1.17,
          0.07,
          0.07,
          1.03,
          0.05
         ],
         "yaxis": "y"
        },
        {
         "alignmentgroup": "True",
         "hovertemplate": "color=SPT120018W_time_bet_2_3<br>Timestamp=%{x}<br>Time (minutes)=%{y}<extra></extra>",
         "legendgroup": "SPT120018W_time_bet_2_3",
         "marker": {
          "color": "red",
          "pattern": {
           "shape": ""
          }
         },
         "name": "SPT120018W_time_bet_2_3",
         "offsetgroup": "SPT120018W_time_bet_2_3",
         "orientation": "v",
         "showlegend": true,
         "textposition": "auto",
         "type": "bar",
         "x": [
          "2023-10-09T09:20:34",
          "2023-10-09T09:21:29",
          "2023-10-09T09:28:10",
          "2023-10-09T09:34:48",
          "2023-10-09T09:37:49",
          "2023-10-09T09:54:19",
          "2023-10-09T10:09:13",
          "2023-10-09T10:14:11",
          "2023-10-09T10:15:42",
          "2023-10-09T10:18:32",
          "2023-10-09T10:55:47",
          "2023-10-09T10:58:22",
          "2023-10-09T10:59:49",
          "2023-10-09T11:01:49",
          "2023-10-09T11:04:35",
          "2023-10-09T11:07:04",
          "2023-10-09T11:10:55",
          "2023-10-09T11:21:06",
          "2023-10-09T11:29:21",
          "2023-10-09T11:33:51",
          "2023-10-09T11:36:37",
          "2023-10-09T11:51:48",
          "2023-10-09T11:54:43",
          "2023-10-09T11:55:58",
          "2023-10-09T11:57:54",
          "2023-10-09T12:00:40",
          "2023-10-09T12:12:43",
          "2023-10-09T12:17:10",
          "2023-10-09T12:28:03",
          "2023-10-09T12:30:48",
          "2023-10-09T12:38:16",
          "2023-10-09T12:39:47",
          "2023-10-09T12:42:43",
          "2023-10-09T12:45:20",
          "2023-10-09T12:46:38",
          "2023-10-09T12:48:38",
          "2023-10-09T12:55:52",
          "2023-10-09T14:02:18",
          "2023-10-09T14:05:22",
          "2023-10-09T14:23:09",
          "2023-10-09T14:28:47",
          "2023-10-09T14:31:20",
          "2023-10-09T14:40:10",
          "2023-10-09T14:41:26",
          "2023-10-09T14:42:52",
          "2023-10-09T14:45:33",
          "2023-10-09T15:02:00",
          "2023-10-09T15:17:34",
          "2023-10-09T15:20:20",
          "2023-10-09T15:23:22",
          "2023-10-09T15:28:35",
          "2023-10-09T15:36:34",
          "2023-10-09T15:46:38",
          "2023-10-09T15:48:12",
          "2023-10-09T15:53:42",
          "2023-10-09T16:11:10",
          "2023-10-09T16:17:46",
          "2023-10-09T16:20:21",
          "2023-10-09T16:49:20",
          "2023-10-09T16:53:32",
          "2023-10-09T16:59:16",
          "2023-10-09T17:02:02",
          "2023-10-09T17:11:02",
          "2023-10-09T17:11:22",
          "2023-10-09T17:17:20",
          "2023-10-09T17:25:37",
          "2023-10-09T17:29:40",
          "2023-10-09T17:32:33",
          "2023-10-09T17:33:59",
          "2023-10-09T17:40:36"
         ],
         "xaxis": "x",
         "y": [
          3.67,
          4.22,
          3.35,
          3.53,
          7.52,
          8.42,
          4.55,
          4.23,
          4.27,
          4.18,
          2.48,
          3.68,
          3.1,
          3.55,
          16.95,
          3.35,
          3.43,
          3.95,
          3.37,
          18.62,
          2.75,
          3.82,
          3.87,
          4.17,
          4.62,
          4.18,
          4.37,
          4.1,
          3.07,
          2.8,
          3.65,
          8.12,
          3.68,
          4.58,
          4.25,
          3.55,
          3.32,
          3.43,
          5.58,
          19.82,
          2.7,
          3.85,
          4.38,
          4.27,
          5.22,
          3.65,
          3.03,
          2.32,
          2.73,
          2.43,
          3.02,
          5.05,
          4,
          3.28,
          3.78,
          4.18,
          3.57,
          4.57,
          2.85,
          2.92,
          3.97,
          4.93,
          3.17,
          2.8,
          4.28,
          3.43,
          3.63,
          3.65,
          2.93,
          2.65
         ],
         "yaxis": "y"
        },
        {
         "alignmentgroup": "True",
         "hovertemplate": "color=SPT120018W_time_bet_3_4<br>Timestamp=%{x}<br>Time (minutes)=%{y}<extra></extra>",
         "legendgroup": "SPT120018W_time_bet_3_4",
         "marker": {
          "color": "lightcoral",
          "pattern": {
           "shape": ""
          }
         },
         "name": "SPT120018W_time_bet_3_4",
         "offsetgroup": "SPT120018W_time_bet_3_4",
         "orientation": "v",
         "showlegend": true,
         "textposition": "auto",
         "type": "bar",
         "x": [
          "2023-10-09T09:20:34",
          "2023-10-09T09:21:29",
          "2023-10-09T09:28:10",
          "2023-10-09T09:34:48",
          "2023-10-09T09:37:49",
          "2023-10-09T09:54:19",
          "2023-10-09T10:09:13",
          "2023-10-09T10:14:11",
          "2023-10-09T10:15:42",
          "2023-10-09T10:18:32",
          "2023-10-09T10:55:47",
          "2023-10-09T10:58:22",
          "2023-10-09T10:59:49",
          "2023-10-09T11:01:49",
          "2023-10-09T11:04:35",
          "2023-10-09T11:07:04",
          "2023-10-09T11:10:55",
          "2023-10-09T11:21:06",
          "2023-10-09T11:29:21",
          "2023-10-09T11:33:51",
          "2023-10-09T11:36:37",
          "2023-10-09T11:51:48",
          "2023-10-09T11:54:43",
          "2023-10-09T11:55:58",
          "2023-10-09T11:57:54",
          "2023-10-09T12:00:40",
          "2023-10-09T12:12:43",
          "2023-10-09T12:17:10",
          "2023-10-09T12:28:03",
          "2023-10-09T12:30:48",
          "2023-10-09T12:38:16",
          "2023-10-09T12:39:47",
          "2023-10-09T12:42:43",
          "2023-10-09T12:45:20",
          "2023-10-09T12:46:38",
          "2023-10-09T12:48:38",
          "2023-10-09T12:55:52",
          "2023-10-09T14:02:18",
          "2023-10-09T14:05:22",
          "2023-10-09T14:23:09",
          "2023-10-09T14:28:47",
          "2023-10-09T14:31:20",
          "2023-10-09T14:40:10",
          "2023-10-09T14:41:26",
          "2023-10-09T14:42:52",
          "2023-10-09T14:45:33",
          "2023-10-09T15:02:00",
          "2023-10-09T15:17:34",
          "2023-10-09T15:20:20",
          "2023-10-09T15:23:22",
          "2023-10-09T15:28:35",
          "2023-10-09T15:36:34",
          "2023-10-09T15:46:38",
          "2023-10-09T15:48:12",
          "2023-10-09T15:53:42",
          "2023-10-09T16:11:10",
          "2023-10-09T16:17:46",
          "2023-10-09T16:20:21",
          "2023-10-09T16:49:20",
          "2023-10-09T16:53:32",
          "2023-10-09T16:59:16",
          "2023-10-09T17:02:02",
          "2023-10-09T17:11:02",
          "2023-10-09T17:11:22",
          "2023-10-09T17:17:20",
          "2023-10-09T17:25:37",
          "2023-10-09T17:29:40",
          "2023-10-09T17:32:33",
          "2023-10-09T17:33:59",
          "2023-10-09T17:40:36"
         ],
         "xaxis": "x",
         "y": [
          1.45,
          0.48,
          1.05,
          2.35,
          1.78,
          1.77,
          2.38,
          2.95,
          1.4,
          2.05,
          1.65,
          2.08,
          1.28,
          0.53,
          1.8,
          2.82,
          1.82,
          1.48,
          2.83,
          1.22,
          3.18,
          2.23,
          1.82,
          1.85,
          1.53,
          2.4,
          1.6,
          1.62,
          1.15,
          1.4,
          0.67,
          1.48,
          0.87,
          1.38,
          1.83,
          0.55,
          61.25,
          4.53,
          1.93,
          1.33,
          1.05,
          1.52,
          1.13,
          2.2,
          2.52,
          1.4,
          0.6,
          1.3,
          2.55,
          1.55,
          1.18,
          1.83,
          0.5,
          1.85,
          1.35,
          1.62,
          2.12,
          1.78,
          2.45,
          1.8,
          1.47,
          0.82,
          1.22,
          1.37,
          1.73,
          2.87,
          1.38,
          1.42,
          2.78,
          1.08
         ],
         "yaxis": "y"
        }
       ],
       "layout": {
        "barmode": "relative",
        "legend": {
         "title": {
          "text": "color"
         },
         "tracegroupgap": 0
        },
        "template": {
         "data": {
          "bar": [
           {
            "error_x": {
             "color": "#2a3f5f"
            },
            "error_y": {
             "color": "#2a3f5f"
            },
            "marker": {
             "line": {
              "color": "#E5ECF6",
              "width": 0.5
             },
             "pattern": {
              "fillmode": "overlay",
              "size": 10,
              "solidity": 0.2
             }
            },
            "type": "bar"
           }
          ],
          "barpolar": [
           {
            "marker": {
             "line": {
              "color": "#E5ECF6",
              "width": 0.5
             },
             "pattern": {
              "fillmode": "overlay",
              "size": 10,
              "solidity": 0.2
             }
            },
            "type": "barpolar"
           }
          ],
          "carpet": [
           {
            "aaxis": {
             "endlinecolor": "#2a3f5f",
             "gridcolor": "white",
             "linecolor": "white",
             "minorgridcolor": "white",
             "startlinecolor": "#2a3f5f"
            },
            "baxis": {
             "endlinecolor": "#2a3f5f",
             "gridcolor": "white",
             "linecolor": "white",
             "minorgridcolor": "white",
             "startlinecolor": "#2a3f5f"
            },
            "type": "carpet"
           }
          ],
          "choropleth": [
           {
            "colorbar": {
             "outlinewidth": 0,
             "ticks": ""
            },
            "type": "choropleth"
           }
          ],
          "contour": [
           {
            "colorbar": {
             "outlinewidth": 0,
             "ticks": ""
            },
            "colorscale": [
             [
              0,
              "#0d0887"
             ],
             [
              0.1111111111111111,
              "#46039f"
             ],
             [
              0.2222222222222222,
              "#7201a8"
             ],
             [
              0.3333333333333333,
              "#9c179e"
             ],
             [
              0.4444444444444444,
              "#bd3786"
             ],
             [
              0.5555555555555556,
              "#d8576b"
             ],
             [
              0.6666666666666666,
              "#ed7953"
             ],
             [
              0.7777777777777778,
              "#fb9f3a"
             ],
             [
              0.8888888888888888,
              "#fdca26"
             ],
             [
              1,
              "#f0f921"
             ]
            ],
            "type": "contour"
           }
          ],
          "contourcarpet": [
           {
            "colorbar": {
             "outlinewidth": 0,
             "ticks": ""
            },
            "type": "contourcarpet"
           }
          ],
          "heatmap": [
           {
            "colorbar": {
             "outlinewidth": 0,
             "ticks": ""
            },
            "colorscale": [
             [
              0,
              "#0d0887"
             ],
             [
              0.1111111111111111,
              "#46039f"
             ],
             [
              0.2222222222222222,
              "#7201a8"
             ],
             [
              0.3333333333333333,
              "#9c179e"
             ],
             [
              0.4444444444444444,
              "#bd3786"
             ],
             [
              0.5555555555555556,
              "#d8576b"
             ],
             [
              0.6666666666666666,
              "#ed7953"
             ],
             [
              0.7777777777777778,
              "#fb9f3a"
             ],
             [
              0.8888888888888888,
              "#fdca26"
             ],
             [
              1,
              "#f0f921"
             ]
            ],
            "type": "heatmap"
           }
          ],
          "heatmapgl": [
           {
            "colorbar": {
             "outlinewidth": 0,
             "ticks": ""
            },
            "colorscale": [
             [
              0,
              "#0d0887"
             ],
             [
              0.1111111111111111,
              "#46039f"
             ],
             [
              0.2222222222222222,
              "#7201a8"
             ],
             [
              0.3333333333333333,
              "#9c179e"
             ],
             [
              0.4444444444444444,
              "#bd3786"
             ],
             [
              0.5555555555555556,
              "#d8576b"
             ],
             [
              0.6666666666666666,
              "#ed7953"
             ],
             [
              0.7777777777777778,
              "#fb9f3a"
             ],
             [
              0.8888888888888888,
              "#fdca26"
             ],
             [
              1,
              "#f0f921"
             ]
            ],
            "type": "heatmapgl"
           }
          ],
          "histogram": [
           {
            "marker": {
             "pattern": {
              "fillmode": "overlay",
              "size": 10,
              "solidity": 0.2
             }
            },
            "type": "histogram"
           }
          ],
          "histogram2d": [
           {
            "colorbar": {
             "outlinewidth": 0,
             "ticks": ""
            },
            "colorscale": [
             [
              0,
              "#0d0887"
             ],
             [
              0.1111111111111111,
              "#46039f"
             ],
             [
              0.2222222222222222,
              "#7201a8"
             ],
             [
              0.3333333333333333,
              "#9c179e"
             ],
             [
              0.4444444444444444,
              "#bd3786"
             ],
             [
              0.5555555555555556,
              "#d8576b"
             ],
             [
              0.6666666666666666,
              "#ed7953"
             ],
             [
              0.7777777777777778,
              "#fb9f3a"
             ],
             [
              0.8888888888888888,
              "#fdca26"
             ],
             [
              1,
              "#f0f921"
             ]
            ],
            "type": "histogram2d"
           }
          ],
          "histogram2dcontour": [
           {
            "colorbar": {
             "outlinewidth": 0,
             "ticks": ""
            },
            "colorscale": [
             [
              0,
              "#0d0887"
             ],
             [
              0.1111111111111111,
              "#46039f"
             ],
             [
              0.2222222222222222,
              "#7201a8"
             ],
             [
              0.3333333333333333,
              "#9c179e"
             ],
             [
              0.4444444444444444,
              "#bd3786"
             ],
             [
              0.5555555555555556,
              "#d8576b"
             ],
             [
              0.6666666666666666,
              "#ed7953"
             ],
             [
              0.7777777777777778,
              "#fb9f3a"
             ],
             [
              0.8888888888888888,
              "#fdca26"
             ],
             [
              1,
              "#f0f921"
             ]
            ],
            "type": "histogram2dcontour"
           }
          ],
          "mesh3d": [
           {
            "colorbar": {
             "outlinewidth": 0,
             "ticks": ""
            },
            "type": "mesh3d"
           }
          ],
          "parcoords": [
           {
            "line": {
             "colorbar": {
              "outlinewidth": 0,
              "ticks": ""
             }
            },
            "type": "parcoords"
           }
          ],
          "pie": [
           {
            "automargin": true,
            "type": "pie"
           }
          ],
          "scatter": [
           {
            "fillpattern": {
             "fillmode": "overlay",
             "size": 10,
             "solidity": 0.2
            },
            "type": "scatter"
           }
          ],
          "scatter3d": [
           {
            "line": {
             "colorbar": {
              "outlinewidth": 0,
              "ticks": ""
             }
            },
            "marker": {
             "colorbar": {
              "outlinewidth": 0,
              "ticks": ""
             }
            },
            "type": "scatter3d"
           }
          ],
          "scattercarpet": [
           {
            "marker": {
             "colorbar": {
              "outlinewidth": 0,
              "ticks": ""
             }
            },
            "type": "scattercarpet"
           }
          ],
          "scattergeo": [
           {
            "marker": {
             "colorbar": {
              "outlinewidth": 0,
              "ticks": ""
             }
            },
            "type": "scattergeo"
           }
          ],
          "scattergl": [
           {
            "marker": {
             "colorbar": {
              "outlinewidth": 0,
              "ticks": ""
             }
            },
            "type": "scattergl"
           }
          ],
          "scattermapbox": [
           {
            "marker": {
             "colorbar": {
              "outlinewidth": 0,
              "ticks": ""
             }
            },
            "type": "scattermapbox"
           }
          ],
          "scatterpolar": [
           {
            "marker": {
             "colorbar": {
              "outlinewidth": 0,
              "ticks": ""
             }
            },
            "type": "scatterpolar"
           }
          ],
          "scatterpolargl": [
           {
            "marker": {
             "colorbar": {
              "outlinewidth": 0,
              "ticks": ""
             }
            },
            "type": "scatterpolargl"
           }
          ],
          "scatterternary": [
           {
            "marker": {
             "colorbar": {
              "outlinewidth": 0,
              "ticks": ""
             }
            },
            "type": "scatterternary"
           }
          ],
          "surface": [
           {
            "colorbar": {
             "outlinewidth": 0,
             "ticks": ""
            },
            "colorscale": [
             [
              0,
              "#0d0887"
             ],
             [
              0.1111111111111111,
              "#46039f"
             ],
             [
              0.2222222222222222,
              "#7201a8"
             ],
             [
              0.3333333333333333,
              "#9c179e"
             ],
             [
              0.4444444444444444,
              "#bd3786"
             ],
             [
              0.5555555555555556,
              "#d8576b"
             ],
             [
              0.6666666666666666,
              "#ed7953"
             ],
             [
              0.7777777777777778,
              "#fb9f3a"
             ],
             [
              0.8888888888888888,
              "#fdca26"
             ],
             [
              1,
              "#f0f921"
             ]
            ],
            "type": "surface"
           }
          ],
          "table": [
           {
            "cells": {
             "fill": {
              "color": "#EBF0F8"
             },
             "line": {
              "color": "white"
             }
            },
            "header": {
             "fill": {
              "color": "#C8D4E3"
             },
             "line": {
              "color": "white"
             }
            },
            "type": "table"
           }
          ]
         },
         "layout": {
          "annotationdefaults": {
           "arrowcolor": "#2a3f5f",
           "arrowhead": 0,
           "arrowwidth": 1
          },
          "autotypenumbers": "strict",
          "coloraxis": {
           "colorbar": {
            "outlinewidth": 0,
            "ticks": ""
           }
          },
          "colorscale": {
           "diverging": [
            [
             0,
             "#8e0152"
            ],
            [
             0.1,
             "#c51b7d"
            ],
            [
             0.2,
             "#de77ae"
            ],
            [
             0.3,
             "#f1b6da"
            ],
            [
             0.4,
             "#fde0ef"
            ],
            [
             0.5,
             "#f7f7f7"
            ],
            [
             0.6,
             "#e6f5d0"
            ],
            [
             0.7,
             "#b8e186"
            ],
            [
             0.8,
             "#7fbc41"
            ],
            [
             0.9,
             "#4d9221"
            ],
            [
             1,
             "#276419"
            ]
           ],
           "sequential": [
            [
             0,
             "#0d0887"
            ],
            [
             0.1111111111111111,
             "#46039f"
            ],
            [
             0.2222222222222222,
             "#7201a8"
            ],
            [
             0.3333333333333333,
             "#9c179e"
            ],
            [
             0.4444444444444444,
             "#bd3786"
            ],
            [
             0.5555555555555556,
             "#d8576b"
            ],
            [
             0.6666666666666666,
             "#ed7953"
            ],
            [
             0.7777777777777778,
             "#fb9f3a"
            ],
            [
             0.8888888888888888,
             "#fdca26"
            ],
            [
             1,
             "#f0f921"
            ]
           ],
           "sequentialminus": [
            [
             0,
             "#0d0887"
            ],
            [
             0.1111111111111111,
             "#46039f"
            ],
            [
             0.2222222222222222,
             "#7201a8"
            ],
            [
             0.3333333333333333,
             "#9c179e"
            ],
            [
             0.4444444444444444,
             "#bd3786"
            ],
            [
             0.5555555555555556,
             "#d8576b"
            ],
            [
             0.6666666666666666,
             "#ed7953"
            ],
            [
             0.7777777777777778,
             "#fb9f3a"
            ],
            [
             0.8888888888888888,
             "#fdca26"
            ],
            [
             1,
             "#f0f921"
            ]
           ]
          },
          "colorway": [
           "#636efa",
           "#EF553B",
           "#00cc96",
           "#ab63fa",
           "#FFA15A",
           "#19d3f3",
           "#FF6692",
           "#B6E880",
           "#FF97FF",
           "#FECB52"
          ],
          "font": {
           "color": "#2a3f5f"
          },
          "geo": {
           "bgcolor": "white",
           "lakecolor": "white",
           "landcolor": "#E5ECF6",
           "showlakes": true,
           "showland": true,
           "subunitcolor": "white"
          },
          "hoverlabel": {
           "align": "left"
          },
          "hovermode": "closest",
          "mapbox": {
           "style": "light"
          },
          "paper_bgcolor": "white",
          "plot_bgcolor": "#E5ECF6",
          "polar": {
           "angularaxis": {
            "gridcolor": "white",
            "linecolor": "white",
            "ticks": ""
           },
           "bgcolor": "#E5ECF6",
           "radialaxis": {
            "gridcolor": "white",
            "linecolor": "white",
            "ticks": ""
           }
          },
          "scene": {
           "xaxis": {
            "backgroundcolor": "#E5ECF6",
            "gridcolor": "white",
            "gridwidth": 2,
            "linecolor": "white",
            "showbackground": true,
            "ticks": "",
            "zerolinecolor": "white"
           },
           "yaxis": {
            "backgroundcolor": "#E5ECF6",
            "gridcolor": "white",
            "gridwidth": 2,
            "linecolor": "white",
            "showbackground": true,
            "ticks": "",
            "zerolinecolor": "white"
           },
           "zaxis": {
            "backgroundcolor": "#E5ECF6",
            "gridcolor": "white",
            "gridwidth": 2,
            "linecolor": "white",
            "showbackground": true,
            "ticks": "",
            "zerolinecolor": "white"
           }
          },
          "shapedefaults": {
           "line": {
            "color": "#2a3f5f"
           }
          },
          "ternary": {
           "aaxis": {
            "gridcolor": "white",
            "linecolor": "white",
            "ticks": ""
           },
           "baxis": {
            "gridcolor": "white",
            "linecolor": "white",
            "ticks": ""
           },
           "bgcolor": "#E5ECF6",
           "caxis": {
            "gridcolor": "white",
            "linecolor": "white",
            "ticks": ""
           }
          },
          "title": {
           "x": 0.05
          },
          "xaxis": {
           "automargin": true,
           "gridcolor": "white",
           "linecolor": "white",
           "ticks": "",
           "title": {
            "standoff": 15
           },
           "zerolinecolor": "white",
           "zerolinewidth": 2
          },
          "yaxis": {
           "automargin": true,
           "gridcolor": "white",
           "linecolor": "white",
           "ticks": "",
           "title": {
            "standoff": 15
           },
           "zerolinecolor": "white",
           "zerolinewidth": 2
          }
         }
        },
        "title": {
         "text": "Time Between Stations"
        },
        "xaxis": {
         "anchor": "y",
         "domain": [
          0,
          1
         ],
         "title": {
          "text": "Timestamp"
         }
        },
        "yaxis": {
         "anchor": "x",
         "domain": [
          0,
          1
         ],
         "title": {
          "text": "Time (minutes)"
         }
        }
       }
      }
     },
     "metadata": {},
     "output_type": "display_data"
    }
   ],
   "source": [
    "\n",
    "def all_time_between_station(df12, df23, df34):\n",
    "    #df_bet_all = pd.DataFrame(columns = ['ts1','time_bet_12','ts2', 'ts2','time_bet_23','ts3','time_bet_34','gabarit','model'])\n",
    "    df_bet_all = pd.DataFrame(columns = ['ts','gabarit', 'model','time_bet_1_2','time_bet_2_3','time_bet_3_4','state']) \n",
    "    #display(df12)\n",
    "    #display(df23)\n",
    "    #display(df34)\n",
    "\n",
    "    cnt = 0\n",
    "    for index in range(df12.shape[0]):\n",
    "\n",
    "        start_time = (df12.loc[index, 'ts'] + pd.Timedelta(seconds = df12.loc[index, f'time_bet_1_2'])\n",
    "                       - pd.Timedelta(seconds=2))\n",
    "        end_time = start_time + pd.Timedelta(seconds=3)\n",
    "\n",
    "        matching_rows = df23[(df23['ts'] >= start_time) & (df23['ts'] <= end_time) \n",
    "                                & (df23['gabarit'] == df12.loc[index,'gabarit'])]\n",
    "        if not matching_rows.empty:\n",
    "            \n",
    "            first_occurrence = matching_rows.iloc[0]\n",
    "\n",
    "            #df_bet_all.loc[cnt, 'ts'] = df12.loc[index, 'ts']  # Copy the timestamp for reference\n",
    "            #df_bet_all.loc[cnt, 'gabarit'] = first_occurrence['gabarit']\n",
    "            #df_bet_all.loc[cnt, 'time_bet_1_2'] = df12.loc[index, 'time_bet_1_2'] \n",
    "            #df_bet_all.loc[cnt, 'time_bet_2_3'] = first_occurrence['time_bet_2_3'] \n",
    "            #cnt += 1\n",
    "\n",
    "            start_time2 = (first_occurrence['ts'] + pd.Timedelta(seconds = first_occurrence[f'time_bet_2_3']) \n",
    "                          - pd.Timedelta(seconds=1))\n",
    "            end_time2 = start_time2 +   pd.Timedelta(seconds=3)\n",
    "            matching_rows2 = df34[(df34['ts'] >= start_time2) & (df34['ts'] <= end_time2) \n",
    "                                & (df34['gabarit'] == first_occurrence['gabarit'])]\n",
    "            \n",
    "            if not matching_rows2.empty:\n",
    "\n",
    "                first_occurrence2 = matching_rows2.iloc[0]\n",
    "                df_bet_all.loc[cnt, 'ts'] = df12.loc[index, 'ts']  # Copy the timestamp for reference\n",
    "                df_bet_all.loc[cnt, 'gabarit'] = first_occurrence['gabarit']\n",
    "                df_bet_all.loc[cnt, 'time_bet_1_2'] = df12.loc[index, 'time_bet_1_2'] \n",
    "                df_bet_all.loc[cnt, 'time_bet_2_3'] = first_occurrence['time_bet_2_3'] \n",
    "\n",
    "                df_bet_all.loc[cnt, 'time_bet_3_4'] = first_occurrence2['time_bet_3_4']\n",
    "                df_bet_all.loc[cnt, 'model'] = str(first_occurrence2['model'])\n",
    "                df_bet_all.loc[cnt, 'state'] = str(first_occurrence2['state'])\n",
    "            \n",
    "                cnt += 1\n",
    "\n",
    "    return df_bet_all\n",
    "\n",
    "\n",
    "\n",
    "def plot_time_in_station(df):\n",
    "    #display(px.data.medals_wide())\n",
    "\n",
    "    df['time_bet_1_2'] = df['time_bet_1_2'].astype(int)\n",
    "    df['time_bet_2_3'] = df['time_bet_2_3'].astype(int)\n",
    "    df['time_bet_3_4'] = df['time_bet_3_4'].astype(int)\n",
    "    melted_df = pd.melt(df, id_vars=['ts','model','state'], value_vars=['time_bet_1_2','time_bet_2_3','time_bet_3_4'],var_name='time_bet', value_name='time')    \n",
    "    melted_df['color'] = melted_df['model'] + '_' + melted_df['time_bet']\n",
    "    color_discrete_map = {#\"HAMLET-49_time_bet_1_2\": 'darkblue',\n",
    "                          #\"HAMLET-49_time_bet_2_3\": 'cornflowerblue', \n",
    "                          #\"HAMLET-49_time_bet_3_4\": 'lightblue',\n",
    "                          \"SPT130023W_time_bet_1_2\": 'darkblue',\n",
    "                          \"SPT130023W_time_bet_2_3\": 'dodgerblue', \n",
    "                          \"SPT130023W_time_bet_3_4\": 'lightskyblue',\n",
    "\n",
    "                          \"SPT120018W_time_bet_1_2\": 'maroon',\n",
    "                          \"SPT120018W_time_bet_2_3\":'red',\n",
    "                          \"SPT120018W_time_bet_3_4\": 'lightcoral',\n",
    "\n",
    "                          \"ORIONT-40_time_bet_1_2\": 'forestgreen',\n",
    "                          \"ORIONT-40_time_bet_2_3\": 'limegreen', \n",
    "                          \"ORIONT-40_time_bet_3_4\": 'lightgreen',\n",
    "                          \n",
    "                          \"OCTAN-40_time_bet_1_2\": 'indigo',\n",
    "                          \"OCTAN-40_time_bet_2_3\": 'mediumorchid', \n",
    "                          \"OCTAN-40_time_bet_3_4\": 'plum',}\n",
    "    \n",
    "    #display(melted_df)\n",
    "    melted_df['time'] = round(melted_df['time']/60,2)\n",
    "    fig = px.bar(melted_df, x=\"ts\", y=\"time\", \n",
    "                labels={\"ts\": \"Timestamp\", \"time\": \"Time (minutes)\"},\n",
    "                color = 'color',\n",
    "                color_discrete_map = color_discrete_map,\n",
    "                title=\"Time Between Stations\")\n",
    "    fig.show()\n",
    "\n",
    "\n",
    "\n",
    "\n",
    "\n",
    "\n",
    "df_bet_all = all_time_between_station(df_bet_12, df_bet_23,df_bet_34)\n",
    "#display(df_bet_all)\n",
    "perc_all = perc_of_gabarits_found(df_bet_all, df4, 4)\n",
    "\n",
    "plot_time_in_station(df_bet_all)\n",
    "    "
   ]
  },
  {
   "cell_type": "code",
   "execution_count": 111,
   "metadata": {},
   "outputs": [],
   "source": [
    "def remove_outliers(df, av_time):\n",
    "    # Ensure the column 'time_in_station' exists\n",
    "    if 'time_in_station' not in df.columns:\n",
    "        print(\"Error: 'time_in_station' column not found.\")\n",
    "        return df\n",
    "    \n",
    "\n",
    "    # Remove rows where 'time_in_station' is greater than 5 minutes\n",
    "    df = df[df['time_in_station'] <= av_time / 60]\n",
    "\n",
    "    return df\n",
    "\n",
    "    \n",
    "def remove_outlier_quart(df,value):\n",
    "    # Calculate the first quartile (Q1) and third quartile (Q3)\n",
    "    filtered_df = pd.DataFrame\n",
    "    Q1 = df[value].quantile(0.25)\n",
    "    Q3 = df[value].quantile(0.75)\n",
    "\n",
    "    # Calculate the Interquartile Range (IQR)\n",
    "    IQR = Q3 - Q1\n",
    "\n",
    "    # Define the lower and upper bounds to filter outliers\n",
    "    lower_bound = Q1 - 1.5 * IQR\n",
    "    upper_bound = Q3 + 1.5 * IQR\n",
    "\n",
    "    # Filter out values outside the specified range\n",
    "    filtered_df = df[(df[value] >= lower_bound) & (df[value] <= upper_bound)]\n",
    "\n",
    "    return(filtered_df)"
   ]
  },
  {
   "cell_type": "code",
   "execution_count": 122,
   "metadata": {},
   "outputs": [
    {
     "name": "stderr",
     "output_type": "stream",
     "text": [
      "c:\\Users\\isacc\\miniconda3\\Lib\\site-packages\\_plotly_utils\\basevalidators.py:105: FutureWarning:\n",
      "\n",
      "The behavior of DatetimeProperties.to_pydatetime is deprecated, in a future version this will return a Series containing python datetime objects instead of an ndarray. To retain the old behavior, call `np.array` on the result\n",
      "\n"
     ]
    },
    {
     "data": {
      "application/vnd.plotly.v1+json": {
       "config": {
        "plotlyServerURL": "https://plot.ly"
       },
       "data": [
        {
         "alignmentgroup": "True",
         "base": [
          "OK",
          "OK",
          "OK",
          "OK",
          "OK",
          "OK",
          "OK",
          "OK",
          "OK",
          "OK",
          "OK",
          "OK",
          "OK",
          "OK",
          "OK",
          "OK",
          "OK",
          "OK",
          "OK",
          "OK",
          "OK",
          "OK",
          "OK",
          "OK",
          "OK",
          "OK",
          "OK",
          "OK",
          "OK",
          "OK",
          "OK",
          "OK",
          "OK",
          "OK",
          "OK",
          "OK",
          "OK",
          "OK",
          "OK",
          "OK",
          "OK",
          "OK",
          "OK",
          "OK",
          "OK",
          "OK",
          "OK",
          "OK",
          "OK",
          "OK",
          "OK",
          "OK",
          "OK",
          "OK",
          "OK",
          "OK",
          "OK",
          "OK",
          "OK"
         ],
         "hovertemplate": "state=%{base}<br>Timestamp=%{x}<br>med_total_time=%{y}<extra></extra>",
         "legendgroup": "OK",
         "marker": {
          "color": "limegreen",
          "pattern": {
           "shape": ""
          }
         },
         "name": "OK",
         "offsetgroup": "OK",
         "orientation": "v",
         "showlegend": true,
         "textposition": "auto",
         "type": "bar",
         "x": [
          "2023-10-09T09:20:34",
          "2023-10-09T09:21:29",
          "2023-10-09T09:28:10",
          "2023-10-09T09:34:48",
          "2023-10-09T10:09:13",
          "2023-10-09T10:14:11",
          "2023-10-09T10:15:42",
          "2023-10-09T10:18:32",
          "2023-10-09T10:55:47",
          "2023-10-09T10:58:22",
          "2023-10-09T10:59:49",
          "2023-10-09T11:01:49",
          "2023-10-09T11:07:04",
          "2023-10-09T11:10:55",
          "2023-10-09T11:21:06",
          "2023-10-09T11:29:21",
          "2023-10-09T11:36:37",
          "2023-10-09T11:51:48",
          "2023-10-09T11:54:43",
          "2023-10-09T11:55:58",
          "2023-10-09T11:57:54",
          "2023-10-09T12:12:43",
          "2023-10-09T12:17:10",
          "2023-10-09T12:28:03",
          "2023-10-09T12:30:48",
          "2023-10-09T12:42:43",
          "2023-10-09T12:45:20",
          "2023-10-09T12:46:38",
          "2023-10-09T12:48:38",
          "2023-10-09T14:02:18",
          "2023-10-09T14:05:22",
          "2023-10-09T14:28:47",
          "2023-10-09T14:31:20",
          "2023-10-09T14:40:10",
          "2023-10-09T14:41:26",
          "2023-10-09T14:42:52",
          "2023-10-09T14:45:33",
          "2023-10-09T15:02:00",
          "2023-10-09T15:17:34",
          "2023-10-09T15:20:20",
          "2023-10-09T15:23:22",
          "2023-10-09T15:28:35",
          "2023-10-09T15:36:34",
          "2023-10-09T15:46:38",
          "2023-10-09T15:48:12",
          "2023-10-09T15:53:42",
          "2023-10-09T16:11:10",
          "2023-10-09T16:20:21",
          "2023-10-09T16:49:20",
          "2023-10-09T16:59:16",
          "2023-10-09T17:02:02",
          "2023-10-09T17:11:02",
          "2023-10-09T17:11:22",
          "2023-10-09T17:17:20",
          "2023-10-09T17:25:37",
          "2023-10-09T17:29:40",
          "2023-10-09T17:32:33",
          "2023-10-09T17:33:59",
          "2023-10-09T17:40:36"
         ],
         "xaxis": "x",
         "y": [
          5.72,
          5.82,
          4.45,
          5.93,
          8.45,
          7.25,
          5.73,
          8.23,
          4.6,
          6.32,
          4.87,
          4.15,
          6.22,
          6.15,
          6,
          6.83,
          7.78,
          6.13,
          5.75,
          6.08,
          6.2,
          6.03,
          5.78,
          5.32,
          4.28,
          5.17,
          6.12,
          6.13,
          4.13,
          9.13,
          8.23,
          4.6,
          6.2,
          6.27,
          7.3,
          7.8,
          5.12,
          3.68,
          5.25,
          5.35,
          4.03,
          4.25,
          6.95,
          4.63,
          6.9,
          5.75,
          5.87,
          6.68,
          6.98,
          6.85,
          5.82,
          4.73,
          6.1,
          6.13,
          7.47,
          5.08,
          5.13,
          6.75,
          3.78
         ],
         "yaxis": "y"
        },
        {
         "alignmentgroup": "True",
         "base": [
          "KO",
          "KO",
          "KO",
          "KO"
         ],
         "hovertemplate": "state=%{base}<br>Timestamp=%{x}<br>med_total_time=%{y}<extra></extra>",
         "legendgroup": "KO",
         "marker": {
          "color": "red",
          "pattern": {
           "shape": ""
          }
         },
         "name": "KO",
         "offsetgroup": "KO",
         "orientation": "v",
         "showlegend": true,
         "textposition": "auto",
         "type": "bar",
         "x": [
          "2023-10-09T12:00:40",
          "2023-10-09T12:38:16",
          "2023-10-09T16:17:46",
          "2023-10-09T16:53:32"
         ],
         "xaxis": "x",
         "y": [
          7.25,
          5.02,
          5.73,
          4.85
         ],
         "yaxis": "y"
        }
       ],
       "layout": {
        "barmode": "relative",
        "legend": {
         "title": {
          "text": "state"
         },
         "tracegroupgap": 0
        },
        "template": {
         "data": {
          "bar": [
           {
            "error_x": {
             "color": "#2a3f5f"
            },
            "error_y": {
             "color": "#2a3f5f"
            },
            "marker": {
             "line": {
              "color": "#E5ECF6",
              "width": 0.5
             },
             "pattern": {
              "fillmode": "overlay",
              "size": 10,
              "solidity": 0.2
             }
            },
            "type": "bar"
           }
          ],
          "barpolar": [
           {
            "marker": {
             "line": {
              "color": "#E5ECF6",
              "width": 0.5
             },
             "pattern": {
              "fillmode": "overlay",
              "size": 10,
              "solidity": 0.2
             }
            },
            "type": "barpolar"
           }
          ],
          "carpet": [
           {
            "aaxis": {
             "endlinecolor": "#2a3f5f",
             "gridcolor": "white",
             "linecolor": "white",
             "minorgridcolor": "white",
             "startlinecolor": "#2a3f5f"
            },
            "baxis": {
             "endlinecolor": "#2a3f5f",
             "gridcolor": "white",
             "linecolor": "white",
             "minorgridcolor": "white",
             "startlinecolor": "#2a3f5f"
            },
            "type": "carpet"
           }
          ],
          "choropleth": [
           {
            "colorbar": {
             "outlinewidth": 0,
             "ticks": ""
            },
            "type": "choropleth"
           }
          ],
          "contour": [
           {
            "colorbar": {
             "outlinewidth": 0,
             "ticks": ""
            },
            "colorscale": [
             [
              0,
              "#0d0887"
             ],
             [
              0.1111111111111111,
              "#46039f"
             ],
             [
              0.2222222222222222,
              "#7201a8"
             ],
             [
              0.3333333333333333,
              "#9c179e"
             ],
             [
              0.4444444444444444,
              "#bd3786"
             ],
             [
              0.5555555555555556,
              "#d8576b"
             ],
             [
              0.6666666666666666,
              "#ed7953"
             ],
             [
              0.7777777777777778,
              "#fb9f3a"
             ],
             [
              0.8888888888888888,
              "#fdca26"
             ],
             [
              1,
              "#f0f921"
             ]
            ],
            "type": "contour"
           }
          ],
          "contourcarpet": [
           {
            "colorbar": {
             "outlinewidth": 0,
             "ticks": ""
            },
            "type": "contourcarpet"
           }
          ],
          "heatmap": [
           {
            "colorbar": {
             "outlinewidth": 0,
             "ticks": ""
            },
            "colorscale": [
             [
              0,
              "#0d0887"
             ],
             [
              0.1111111111111111,
              "#46039f"
             ],
             [
              0.2222222222222222,
              "#7201a8"
             ],
             [
              0.3333333333333333,
              "#9c179e"
             ],
             [
              0.4444444444444444,
              "#bd3786"
             ],
             [
              0.5555555555555556,
              "#d8576b"
             ],
             [
              0.6666666666666666,
              "#ed7953"
             ],
             [
              0.7777777777777778,
              "#fb9f3a"
             ],
             [
              0.8888888888888888,
              "#fdca26"
             ],
             [
              1,
              "#f0f921"
             ]
            ],
            "type": "heatmap"
           }
          ],
          "heatmapgl": [
           {
            "colorbar": {
             "outlinewidth": 0,
             "ticks": ""
            },
            "colorscale": [
             [
              0,
              "#0d0887"
             ],
             [
              0.1111111111111111,
              "#46039f"
             ],
             [
              0.2222222222222222,
              "#7201a8"
             ],
             [
              0.3333333333333333,
              "#9c179e"
             ],
             [
              0.4444444444444444,
              "#bd3786"
             ],
             [
              0.5555555555555556,
              "#d8576b"
             ],
             [
              0.6666666666666666,
              "#ed7953"
             ],
             [
              0.7777777777777778,
              "#fb9f3a"
             ],
             [
              0.8888888888888888,
              "#fdca26"
             ],
             [
              1,
              "#f0f921"
             ]
            ],
            "type": "heatmapgl"
           }
          ],
          "histogram": [
           {
            "marker": {
             "pattern": {
              "fillmode": "overlay",
              "size": 10,
              "solidity": 0.2
             }
            },
            "type": "histogram"
           }
          ],
          "histogram2d": [
           {
            "colorbar": {
             "outlinewidth": 0,
             "ticks": ""
            },
            "colorscale": [
             [
              0,
              "#0d0887"
             ],
             [
              0.1111111111111111,
              "#46039f"
             ],
             [
              0.2222222222222222,
              "#7201a8"
             ],
             [
              0.3333333333333333,
              "#9c179e"
             ],
             [
              0.4444444444444444,
              "#bd3786"
             ],
             [
              0.5555555555555556,
              "#d8576b"
             ],
             [
              0.6666666666666666,
              "#ed7953"
             ],
             [
              0.7777777777777778,
              "#fb9f3a"
             ],
             [
              0.8888888888888888,
              "#fdca26"
             ],
             [
              1,
              "#f0f921"
             ]
            ],
            "type": "histogram2d"
           }
          ],
          "histogram2dcontour": [
           {
            "colorbar": {
             "outlinewidth": 0,
             "ticks": ""
            },
            "colorscale": [
             [
              0,
              "#0d0887"
             ],
             [
              0.1111111111111111,
              "#46039f"
             ],
             [
              0.2222222222222222,
              "#7201a8"
             ],
             [
              0.3333333333333333,
              "#9c179e"
             ],
             [
              0.4444444444444444,
              "#bd3786"
             ],
             [
              0.5555555555555556,
              "#d8576b"
             ],
             [
              0.6666666666666666,
              "#ed7953"
             ],
             [
              0.7777777777777778,
              "#fb9f3a"
             ],
             [
              0.8888888888888888,
              "#fdca26"
             ],
             [
              1,
              "#f0f921"
             ]
            ],
            "type": "histogram2dcontour"
           }
          ],
          "mesh3d": [
           {
            "colorbar": {
             "outlinewidth": 0,
             "ticks": ""
            },
            "type": "mesh3d"
           }
          ],
          "parcoords": [
           {
            "line": {
             "colorbar": {
              "outlinewidth": 0,
              "ticks": ""
             }
            },
            "type": "parcoords"
           }
          ],
          "pie": [
           {
            "automargin": true,
            "type": "pie"
           }
          ],
          "scatter": [
           {
            "fillpattern": {
             "fillmode": "overlay",
             "size": 10,
             "solidity": 0.2
            },
            "type": "scatter"
           }
          ],
          "scatter3d": [
           {
            "line": {
             "colorbar": {
              "outlinewidth": 0,
              "ticks": ""
             }
            },
            "marker": {
             "colorbar": {
              "outlinewidth": 0,
              "ticks": ""
             }
            },
            "type": "scatter3d"
           }
          ],
          "scattercarpet": [
           {
            "marker": {
             "colorbar": {
              "outlinewidth": 0,
              "ticks": ""
             }
            },
            "type": "scattercarpet"
           }
          ],
          "scattergeo": [
           {
            "marker": {
             "colorbar": {
              "outlinewidth": 0,
              "ticks": ""
             }
            },
            "type": "scattergeo"
           }
          ],
          "scattergl": [
           {
            "marker": {
             "colorbar": {
              "outlinewidth": 0,
              "ticks": ""
             }
            },
            "type": "scattergl"
           }
          ],
          "scattermapbox": [
           {
            "marker": {
             "colorbar": {
              "outlinewidth": 0,
              "ticks": ""
             }
            },
            "type": "scattermapbox"
           }
          ],
          "scatterpolar": [
           {
            "marker": {
             "colorbar": {
              "outlinewidth": 0,
              "ticks": ""
             }
            },
            "type": "scatterpolar"
           }
          ],
          "scatterpolargl": [
           {
            "marker": {
             "colorbar": {
              "outlinewidth": 0,
              "ticks": ""
             }
            },
            "type": "scatterpolargl"
           }
          ],
          "scatterternary": [
           {
            "marker": {
             "colorbar": {
              "outlinewidth": 0,
              "ticks": ""
             }
            },
            "type": "scatterternary"
           }
          ],
          "surface": [
           {
            "colorbar": {
             "outlinewidth": 0,
             "ticks": ""
            },
            "colorscale": [
             [
              0,
              "#0d0887"
             ],
             [
              0.1111111111111111,
              "#46039f"
             ],
             [
              0.2222222222222222,
              "#7201a8"
             ],
             [
              0.3333333333333333,
              "#9c179e"
             ],
             [
              0.4444444444444444,
              "#bd3786"
             ],
             [
              0.5555555555555556,
              "#d8576b"
             ],
             [
              0.6666666666666666,
              "#ed7953"
             ],
             [
              0.7777777777777778,
              "#fb9f3a"
             ],
             [
              0.8888888888888888,
              "#fdca26"
             ],
             [
              1,
              "#f0f921"
             ]
            ],
            "type": "surface"
           }
          ],
          "table": [
           {
            "cells": {
             "fill": {
              "color": "#EBF0F8"
             },
             "line": {
              "color": "white"
             }
            },
            "header": {
             "fill": {
              "color": "#C8D4E3"
             },
             "line": {
              "color": "white"
             }
            },
            "type": "table"
           }
          ]
         },
         "layout": {
          "annotationdefaults": {
           "arrowcolor": "#2a3f5f",
           "arrowhead": 0,
           "arrowwidth": 1
          },
          "autotypenumbers": "strict",
          "coloraxis": {
           "colorbar": {
            "outlinewidth": 0,
            "ticks": ""
           }
          },
          "colorscale": {
           "diverging": [
            [
             0,
             "#8e0152"
            ],
            [
             0.1,
             "#c51b7d"
            ],
            [
             0.2,
             "#de77ae"
            ],
            [
             0.3,
             "#f1b6da"
            ],
            [
             0.4,
             "#fde0ef"
            ],
            [
             0.5,
             "#f7f7f7"
            ],
            [
             0.6,
             "#e6f5d0"
            ],
            [
             0.7,
             "#b8e186"
            ],
            [
             0.8,
             "#7fbc41"
            ],
            [
             0.9,
             "#4d9221"
            ],
            [
             1,
             "#276419"
            ]
           ],
           "sequential": [
            [
             0,
             "#0d0887"
            ],
            [
             0.1111111111111111,
             "#46039f"
            ],
            [
             0.2222222222222222,
             "#7201a8"
            ],
            [
             0.3333333333333333,
             "#9c179e"
            ],
            [
             0.4444444444444444,
             "#bd3786"
            ],
            [
             0.5555555555555556,
             "#d8576b"
            ],
            [
             0.6666666666666666,
             "#ed7953"
            ],
            [
             0.7777777777777778,
             "#fb9f3a"
            ],
            [
             0.8888888888888888,
             "#fdca26"
            ],
            [
             1,
             "#f0f921"
            ]
           ],
           "sequentialminus": [
            [
             0,
             "#0d0887"
            ],
            [
             0.1111111111111111,
             "#46039f"
            ],
            [
             0.2222222222222222,
             "#7201a8"
            ],
            [
             0.3333333333333333,
             "#9c179e"
            ],
            [
             0.4444444444444444,
             "#bd3786"
            ],
            [
             0.5555555555555556,
             "#d8576b"
            ],
            [
             0.6666666666666666,
             "#ed7953"
            ],
            [
             0.7777777777777778,
             "#fb9f3a"
            ],
            [
             0.8888888888888888,
             "#fdca26"
            ],
            [
             1,
             "#f0f921"
            ]
           ]
          },
          "colorway": [
           "#636efa",
           "#EF553B",
           "#00cc96",
           "#ab63fa",
           "#FFA15A",
           "#19d3f3",
           "#FF6692",
           "#B6E880",
           "#FF97FF",
           "#FECB52"
          ],
          "font": {
           "color": "#2a3f5f"
          },
          "geo": {
           "bgcolor": "white",
           "lakecolor": "white",
           "landcolor": "#E5ECF6",
           "showlakes": true,
           "showland": true,
           "subunitcolor": "white"
          },
          "hoverlabel": {
           "align": "left"
          },
          "hovermode": "closest",
          "mapbox": {
           "style": "light"
          },
          "paper_bgcolor": "white",
          "plot_bgcolor": "#E5ECF6",
          "polar": {
           "angularaxis": {
            "gridcolor": "white",
            "linecolor": "white",
            "ticks": ""
           },
           "bgcolor": "#E5ECF6",
           "radialaxis": {
            "gridcolor": "white",
            "linecolor": "white",
            "ticks": ""
           }
          },
          "scene": {
           "xaxis": {
            "backgroundcolor": "#E5ECF6",
            "gridcolor": "white",
            "gridwidth": 2,
            "linecolor": "white",
            "showbackground": true,
            "ticks": "",
            "zerolinecolor": "white"
           },
           "yaxis": {
            "backgroundcolor": "#E5ECF6",
            "gridcolor": "white",
            "gridwidth": 2,
            "linecolor": "white",
            "showbackground": true,
            "ticks": "",
            "zerolinecolor": "white"
           },
           "zaxis": {
            "backgroundcolor": "#E5ECF6",
            "gridcolor": "white",
            "gridwidth": 2,
            "linecolor": "white",
            "showbackground": true,
            "ticks": "",
            "zerolinecolor": "white"
           }
          },
          "shapedefaults": {
           "line": {
            "color": "#2a3f5f"
           }
          },
          "ternary": {
           "aaxis": {
            "gridcolor": "white",
            "linecolor": "white",
            "ticks": ""
           },
           "baxis": {
            "gridcolor": "white",
            "linecolor": "white",
            "ticks": ""
           },
           "bgcolor": "#E5ECF6",
           "caxis": {
            "gridcolor": "white",
            "linecolor": "white",
            "ticks": ""
           }
          },
          "title": {
           "x": 0.05
          },
          "xaxis": {
           "automargin": true,
           "gridcolor": "white",
           "linecolor": "white",
           "ticks": "",
           "title": {
            "standoff": 15
           },
           "zerolinecolor": "white",
           "zerolinewidth": 2
          },
          "yaxis": {
           "automargin": true,
           "gridcolor": "white",
           "linecolor": "white",
           "ticks": "",
           "title": {
            "standoff": 15
           },
           "zerolinecolor": "white",
           "zerolinewidth": 2
          }
         }
        },
        "title": {
         "text": "Median Total Time (morning)"
        },
        "xaxis": {
         "anchor": "y",
         "domain": [
          0,
          1
         ],
         "range": [
          "2023-10-09T09:00:00",
          "2023-10-09T13:00:00"
         ],
         "title": {
          "text": "Timestamp"
         }
        },
        "yaxis": {
         "anchor": "x",
         "domain": [
          0,
          1
         ],
         "title": {
          "text": "med_total_time"
         }
        }
       }
      }
     },
     "metadata": {},
     "output_type": "display_data"
    },
    {
     "name": "stderr",
     "output_type": "stream",
     "text": [
      "c:\\Users\\isacc\\miniconda3\\Lib\\site-packages\\_plotly_utils\\basevalidators.py:105: FutureWarning:\n",
      "\n",
      "The behavior of DatetimeProperties.to_pydatetime is deprecated, in a future version this will return a Series containing python datetime objects instead of an ndarray. To retain the old behavior, call `np.array` on the result\n",
      "\n"
     ]
    },
    {
     "data": {
      "application/vnd.plotly.v1+json": {
       "config": {
        "plotlyServerURL": "https://plot.ly"
       },
       "data": [
        {
         "alignmentgroup": "True",
         "hovertemplate": "state=OK<br>Timestamp=%{x}<br>med_total_time=%{y}<extra></extra>",
         "legendgroup": "OK",
         "marker": {
          "color": "limegreen",
          "pattern": {
           "shape": ""
          }
         },
         "name": "OK",
         "offsetgroup": "OK",
         "orientation": "v",
         "showlegend": true,
         "textposition": "auto",
         "type": "bar",
         "x": [
          "2023-10-09T09:20:34",
          "2023-10-09T09:21:29",
          "2023-10-09T09:28:10",
          "2023-10-09T09:34:48",
          "2023-10-09T10:09:13",
          "2023-10-09T10:14:11",
          "2023-10-09T10:15:42",
          "2023-10-09T10:18:32",
          "2023-10-09T10:55:47",
          "2023-10-09T10:58:22",
          "2023-10-09T10:59:49",
          "2023-10-09T11:01:49",
          "2023-10-09T11:07:04",
          "2023-10-09T11:10:55",
          "2023-10-09T11:21:06",
          "2023-10-09T11:29:21",
          "2023-10-09T11:36:37",
          "2023-10-09T11:51:48",
          "2023-10-09T11:54:43",
          "2023-10-09T11:55:58",
          "2023-10-09T11:57:54",
          "2023-10-09T12:12:43",
          "2023-10-09T12:17:10",
          "2023-10-09T12:28:03",
          "2023-10-09T12:30:48",
          "2023-10-09T12:42:43",
          "2023-10-09T12:45:20",
          "2023-10-09T12:46:38",
          "2023-10-09T12:48:38",
          "2023-10-09T14:02:18",
          "2023-10-09T14:05:22",
          "2023-10-09T14:28:47",
          "2023-10-09T14:31:20",
          "2023-10-09T14:40:10",
          "2023-10-09T14:41:26",
          "2023-10-09T14:42:52",
          "2023-10-09T14:45:33",
          "2023-10-09T15:02:00",
          "2023-10-09T15:17:34",
          "2023-10-09T15:20:20",
          "2023-10-09T15:23:22",
          "2023-10-09T15:28:35",
          "2023-10-09T15:36:34",
          "2023-10-09T15:46:38",
          "2023-10-09T15:48:12",
          "2023-10-09T15:53:42",
          "2023-10-09T16:11:10",
          "2023-10-09T16:20:21",
          "2023-10-09T16:49:20",
          "2023-10-09T16:59:16",
          "2023-10-09T17:02:02",
          "2023-10-09T17:11:02",
          "2023-10-09T17:11:22",
          "2023-10-09T17:17:20",
          "2023-10-09T17:25:37",
          "2023-10-09T17:29:40",
          "2023-10-09T17:32:33",
          "2023-10-09T17:33:59",
          "2023-10-09T17:40:36"
         ],
         "xaxis": "x",
         "y": [
          5.72,
          5.82,
          4.45,
          5.93,
          8.45,
          7.25,
          5.73,
          8.23,
          4.6,
          6.32,
          4.87,
          4.15,
          6.22,
          6.15,
          6,
          6.83,
          7.78,
          6.13,
          5.75,
          6.08,
          6.2,
          6.03,
          5.78,
          5.32,
          4.28,
          5.17,
          6.12,
          6.13,
          4.13,
          9.13,
          8.23,
          4.6,
          6.2,
          6.27,
          7.3,
          7.8,
          5.12,
          3.68,
          5.25,
          5.35,
          4.03,
          4.25,
          6.95,
          4.63,
          6.9,
          5.75,
          5.87,
          6.68,
          6.98,
          6.85,
          5.82,
          4.73,
          6.1,
          6.13,
          7.47,
          5.08,
          5.13,
          6.75,
          3.78
         ],
         "yaxis": "y"
        },
        {
         "alignmentgroup": "True",
         "hovertemplate": "state=KO<br>Timestamp=%{x}<br>med_total_time=%{y}<extra></extra>",
         "legendgroup": "KO",
         "marker": {
          "color": "red",
          "pattern": {
           "shape": ""
          }
         },
         "name": "KO",
         "offsetgroup": "KO",
         "orientation": "v",
         "showlegend": true,
         "textposition": "auto",
         "type": "bar",
         "x": [
          "2023-10-09T12:00:40",
          "2023-10-09T12:38:16",
          "2023-10-09T16:17:46",
          "2023-10-09T16:53:32"
         ],
         "xaxis": "x",
         "y": [
          7.25,
          5.02,
          5.73,
          4.85
         ],
         "yaxis": "y"
        }
       ],
       "layout": {
        "barmode": "relative",
        "legend": {
         "title": {
          "text": "state"
         },
         "tracegroupgap": 0
        },
        "template": {
         "data": {
          "bar": [
           {
            "error_x": {
             "color": "#2a3f5f"
            },
            "error_y": {
             "color": "#2a3f5f"
            },
            "marker": {
             "line": {
              "color": "#E5ECF6",
              "width": 0.5
             },
             "pattern": {
              "fillmode": "overlay",
              "size": 10,
              "solidity": 0.2
             }
            },
            "type": "bar"
           }
          ],
          "barpolar": [
           {
            "marker": {
             "line": {
              "color": "#E5ECF6",
              "width": 0.5
             },
             "pattern": {
              "fillmode": "overlay",
              "size": 10,
              "solidity": 0.2
             }
            },
            "type": "barpolar"
           }
          ],
          "carpet": [
           {
            "aaxis": {
             "endlinecolor": "#2a3f5f",
             "gridcolor": "white",
             "linecolor": "white",
             "minorgridcolor": "white",
             "startlinecolor": "#2a3f5f"
            },
            "baxis": {
             "endlinecolor": "#2a3f5f",
             "gridcolor": "white",
             "linecolor": "white",
             "minorgridcolor": "white",
             "startlinecolor": "#2a3f5f"
            },
            "type": "carpet"
           }
          ],
          "choropleth": [
           {
            "colorbar": {
             "outlinewidth": 0,
             "ticks": ""
            },
            "type": "choropleth"
           }
          ],
          "contour": [
           {
            "colorbar": {
             "outlinewidth": 0,
             "ticks": ""
            },
            "colorscale": [
             [
              0,
              "#0d0887"
             ],
             [
              0.1111111111111111,
              "#46039f"
             ],
             [
              0.2222222222222222,
              "#7201a8"
             ],
             [
              0.3333333333333333,
              "#9c179e"
             ],
             [
              0.4444444444444444,
              "#bd3786"
             ],
             [
              0.5555555555555556,
              "#d8576b"
             ],
             [
              0.6666666666666666,
              "#ed7953"
             ],
             [
              0.7777777777777778,
              "#fb9f3a"
             ],
             [
              0.8888888888888888,
              "#fdca26"
             ],
             [
              1,
              "#f0f921"
             ]
            ],
            "type": "contour"
           }
          ],
          "contourcarpet": [
           {
            "colorbar": {
             "outlinewidth": 0,
             "ticks": ""
            },
            "type": "contourcarpet"
           }
          ],
          "heatmap": [
           {
            "colorbar": {
             "outlinewidth": 0,
             "ticks": ""
            },
            "colorscale": [
             [
              0,
              "#0d0887"
             ],
             [
              0.1111111111111111,
              "#46039f"
             ],
             [
              0.2222222222222222,
              "#7201a8"
             ],
             [
              0.3333333333333333,
              "#9c179e"
             ],
             [
              0.4444444444444444,
              "#bd3786"
             ],
             [
              0.5555555555555556,
              "#d8576b"
             ],
             [
              0.6666666666666666,
              "#ed7953"
             ],
             [
              0.7777777777777778,
              "#fb9f3a"
             ],
             [
              0.8888888888888888,
              "#fdca26"
             ],
             [
              1,
              "#f0f921"
             ]
            ],
            "type": "heatmap"
           }
          ],
          "heatmapgl": [
           {
            "colorbar": {
             "outlinewidth": 0,
             "ticks": ""
            },
            "colorscale": [
             [
              0,
              "#0d0887"
             ],
             [
              0.1111111111111111,
              "#46039f"
             ],
             [
              0.2222222222222222,
              "#7201a8"
             ],
             [
              0.3333333333333333,
              "#9c179e"
             ],
             [
              0.4444444444444444,
              "#bd3786"
             ],
             [
              0.5555555555555556,
              "#d8576b"
             ],
             [
              0.6666666666666666,
              "#ed7953"
             ],
             [
              0.7777777777777778,
              "#fb9f3a"
             ],
             [
              0.8888888888888888,
              "#fdca26"
             ],
             [
              1,
              "#f0f921"
             ]
            ],
            "type": "heatmapgl"
           }
          ],
          "histogram": [
           {
            "marker": {
             "pattern": {
              "fillmode": "overlay",
              "size": 10,
              "solidity": 0.2
             }
            },
            "type": "histogram"
           }
          ],
          "histogram2d": [
           {
            "colorbar": {
             "outlinewidth": 0,
             "ticks": ""
            },
            "colorscale": [
             [
              0,
              "#0d0887"
             ],
             [
              0.1111111111111111,
              "#46039f"
             ],
             [
              0.2222222222222222,
              "#7201a8"
             ],
             [
              0.3333333333333333,
              "#9c179e"
             ],
             [
              0.4444444444444444,
              "#bd3786"
             ],
             [
              0.5555555555555556,
              "#d8576b"
             ],
             [
              0.6666666666666666,
              "#ed7953"
             ],
             [
              0.7777777777777778,
              "#fb9f3a"
             ],
             [
              0.8888888888888888,
              "#fdca26"
             ],
             [
              1,
              "#f0f921"
             ]
            ],
            "type": "histogram2d"
           }
          ],
          "histogram2dcontour": [
           {
            "colorbar": {
             "outlinewidth": 0,
             "ticks": ""
            },
            "colorscale": [
             [
              0,
              "#0d0887"
             ],
             [
              0.1111111111111111,
              "#46039f"
             ],
             [
              0.2222222222222222,
              "#7201a8"
             ],
             [
              0.3333333333333333,
              "#9c179e"
             ],
             [
              0.4444444444444444,
              "#bd3786"
             ],
             [
              0.5555555555555556,
              "#d8576b"
             ],
             [
              0.6666666666666666,
              "#ed7953"
             ],
             [
              0.7777777777777778,
              "#fb9f3a"
             ],
             [
              0.8888888888888888,
              "#fdca26"
             ],
             [
              1,
              "#f0f921"
             ]
            ],
            "type": "histogram2dcontour"
           }
          ],
          "mesh3d": [
           {
            "colorbar": {
             "outlinewidth": 0,
             "ticks": ""
            },
            "type": "mesh3d"
           }
          ],
          "parcoords": [
           {
            "line": {
             "colorbar": {
              "outlinewidth": 0,
              "ticks": ""
             }
            },
            "type": "parcoords"
           }
          ],
          "pie": [
           {
            "automargin": true,
            "type": "pie"
           }
          ],
          "scatter": [
           {
            "fillpattern": {
             "fillmode": "overlay",
             "size": 10,
             "solidity": 0.2
            },
            "type": "scatter"
           }
          ],
          "scatter3d": [
           {
            "line": {
             "colorbar": {
              "outlinewidth": 0,
              "ticks": ""
             }
            },
            "marker": {
             "colorbar": {
              "outlinewidth": 0,
              "ticks": ""
             }
            },
            "type": "scatter3d"
           }
          ],
          "scattercarpet": [
           {
            "marker": {
             "colorbar": {
              "outlinewidth": 0,
              "ticks": ""
             }
            },
            "type": "scattercarpet"
           }
          ],
          "scattergeo": [
           {
            "marker": {
             "colorbar": {
              "outlinewidth": 0,
              "ticks": ""
             }
            },
            "type": "scattergeo"
           }
          ],
          "scattergl": [
           {
            "marker": {
             "colorbar": {
              "outlinewidth": 0,
              "ticks": ""
             }
            },
            "type": "scattergl"
           }
          ],
          "scattermapbox": [
           {
            "marker": {
             "colorbar": {
              "outlinewidth": 0,
              "ticks": ""
             }
            },
            "type": "scattermapbox"
           }
          ],
          "scatterpolar": [
           {
            "marker": {
             "colorbar": {
              "outlinewidth": 0,
              "ticks": ""
             }
            },
            "type": "scatterpolar"
           }
          ],
          "scatterpolargl": [
           {
            "marker": {
             "colorbar": {
              "outlinewidth": 0,
              "ticks": ""
             }
            },
            "type": "scatterpolargl"
           }
          ],
          "scatterternary": [
           {
            "marker": {
             "colorbar": {
              "outlinewidth": 0,
              "ticks": ""
             }
            },
            "type": "scatterternary"
           }
          ],
          "surface": [
           {
            "colorbar": {
             "outlinewidth": 0,
             "ticks": ""
            },
            "colorscale": [
             [
              0,
              "#0d0887"
             ],
             [
              0.1111111111111111,
              "#46039f"
             ],
             [
              0.2222222222222222,
              "#7201a8"
             ],
             [
              0.3333333333333333,
              "#9c179e"
             ],
             [
              0.4444444444444444,
              "#bd3786"
             ],
             [
              0.5555555555555556,
              "#d8576b"
             ],
             [
              0.6666666666666666,
              "#ed7953"
             ],
             [
              0.7777777777777778,
              "#fb9f3a"
             ],
             [
              0.8888888888888888,
              "#fdca26"
             ],
             [
              1,
              "#f0f921"
             ]
            ],
            "type": "surface"
           }
          ],
          "table": [
           {
            "cells": {
             "fill": {
              "color": "#EBF0F8"
             },
             "line": {
              "color": "white"
             }
            },
            "header": {
             "fill": {
              "color": "#C8D4E3"
             },
             "line": {
              "color": "white"
             }
            },
            "type": "table"
           }
          ]
         },
         "layout": {
          "annotationdefaults": {
           "arrowcolor": "#2a3f5f",
           "arrowhead": 0,
           "arrowwidth": 1
          },
          "autotypenumbers": "strict",
          "coloraxis": {
           "colorbar": {
            "outlinewidth": 0,
            "ticks": ""
           }
          },
          "colorscale": {
           "diverging": [
            [
             0,
             "#8e0152"
            ],
            [
             0.1,
             "#c51b7d"
            ],
            [
             0.2,
             "#de77ae"
            ],
            [
             0.3,
             "#f1b6da"
            ],
            [
             0.4,
             "#fde0ef"
            ],
            [
             0.5,
             "#f7f7f7"
            ],
            [
             0.6,
             "#e6f5d0"
            ],
            [
             0.7,
             "#b8e186"
            ],
            [
             0.8,
             "#7fbc41"
            ],
            [
             0.9,
             "#4d9221"
            ],
            [
             1,
             "#276419"
            ]
           ],
           "sequential": [
            [
             0,
             "#0d0887"
            ],
            [
             0.1111111111111111,
             "#46039f"
            ],
            [
             0.2222222222222222,
             "#7201a8"
            ],
            [
             0.3333333333333333,
             "#9c179e"
            ],
            [
             0.4444444444444444,
             "#bd3786"
            ],
            [
             0.5555555555555556,
             "#d8576b"
            ],
            [
             0.6666666666666666,
             "#ed7953"
            ],
            [
             0.7777777777777778,
             "#fb9f3a"
            ],
            [
             0.8888888888888888,
             "#fdca26"
            ],
            [
             1,
             "#f0f921"
            ]
           ],
           "sequentialminus": [
            [
             0,
             "#0d0887"
            ],
            [
             0.1111111111111111,
             "#46039f"
            ],
            [
             0.2222222222222222,
             "#7201a8"
            ],
            [
             0.3333333333333333,
             "#9c179e"
            ],
            [
             0.4444444444444444,
             "#bd3786"
            ],
            [
             0.5555555555555556,
             "#d8576b"
            ],
            [
             0.6666666666666666,
             "#ed7953"
            ],
            [
             0.7777777777777778,
             "#fb9f3a"
            ],
            [
             0.8888888888888888,
             "#fdca26"
            ],
            [
             1,
             "#f0f921"
            ]
           ]
          },
          "colorway": [
           "#636efa",
           "#EF553B",
           "#00cc96",
           "#ab63fa",
           "#FFA15A",
           "#19d3f3",
           "#FF6692",
           "#B6E880",
           "#FF97FF",
           "#FECB52"
          ],
          "font": {
           "color": "#2a3f5f"
          },
          "geo": {
           "bgcolor": "white",
           "lakecolor": "white",
           "landcolor": "#E5ECF6",
           "showlakes": true,
           "showland": true,
           "subunitcolor": "white"
          },
          "hoverlabel": {
           "align": "left"
          },
          "hovermode": "closest",
          "mapbox": {
           "style": "light"
          },
          "paper_bgcolor": "white",
          "plot_bgcolor": "#E5ECF6",
          "polar": {
           "angularaxis": {
            "gridcolor": "white",
            "linecolor": "white",
            "ticks": ""
           },
           "bgcolor": "#E5ECF6",
           "radialaxis": {
            "gridcolor": "white",
            "linecolor": "white",
            "ticks": ""
           }
          },
          "scene": {
           "xaxis": {
            "backgroundcolor": "#E5ECF6",
            "gridcolor": "white",
            "gridwidth": 2,
            "linecolor": "white",
            "showbackground": true,
            "ticks": "",
            "zerolinecolor": "white"
           },
           "yaxis": {
            "backgroundcolor": "#E5ECF6",
            "gridcolor": "white",
            "gridwidth": 2,
            "linecolor": "white",
            "showbackground": true,
            "ticks": "",
            "zerolinecolor": "white"
           },
           "zaxis": {
            "backgroundcolor": "#E5ECF6",
            "gridcolor": "white",
            "gridwidth": 2,
            "linecolor": "white",
            "showbackground": true,
            "ticks": "",
            "zerolinecolor": "white"
           }
          },
          "shapedefaults": {
           "line": {
            "color": "#2a3f5f"
           }
          },
          "ternary": {
           "aaxis": {
            "gridcolor": "white",
            "linecolor": "white",
            "ticks": ""
           },
           "baxis": {
            "gridcolor": "white",
            "linecolor": "white",
            "ticks": ""
           },
           "bgcolor": "#E5ECF6",
           "caxis": {
            "gridcolor": "white",
            "linecolor": "white",
            "ticks": ""
           }
          },
          "title": {
           "x": 0.05
          },
          "xaxis": {
           "automargin": true,
           "gridcolor": "white",
           "linecolor": "white",
           "ticks": "",
           "title": {
            "standoff": 15
           },
           "zerolinecolor": "white",
           "zerolinewidth": 2
          },
          "yaxis": {
           "automargin": true,
           "gridcolor": "white",
           "linecolor": "white",
           "ticks": "",
           "title": {
            "standoff": 15
           },
           "zerolinecolor": "white",
           "zerolinewidth": 2
          }
         }
        },
        "title": {
         "text": "Median Total Time (afternoon)"
        },
        "xaxis": {
         "anchor": "y",
         "domain": [
          0,
          1
         ],
         "range": [
          "2023-10-09T14:00:00",
          "2023-10-09T18:00:00"
         ],
         "title": {
          "text": "Timestamp"
         }
        },
        "yaxis": {
         "anchor": "x",
         "domain": [
          0,
          1
         ],
         "title": {
          "text": "med_total_time"
         }
        }
       }
      }
     },
     "metadata": {},
     "output_type": "display_data"
    }
   ],
   "source": [
    "def median_time_fun(df):\n",
    "    # Group by 'model' and calculate the median for each group in df_med\n",
    "    df_med = pd.DataFrame(columns = ['date','model','time_bet_1_2', 'time_bet_2_3', 'time_bet_3_4','med_total_time'])\n",
    "\n",
    "    df['ts'] = pd.to_datetime(df['ts'])\n",
    "    date = df['ts'].dt.date\n",
    "\n",
    "    df['med_total_time'] = df[['time_bet_1_2', 'time_bet_2_3', 'time_bet_3_4']].sum(axis=1)\n",
    "    df_plot = df\n",
    "\n",
    "    df = df.drop(['ts', 'gabarit','state'], axis=1) #doesn't matter\n",
    "  \n",
    "    median_total_time = df.groupby('model').median()\n",
    "    df_med = median_total_time.reset_index()\n",
    "    df_med['date'] = date\n",
    "        \n",
    "    #display(df_med)\n",
    "\n",
    "    return df_plot,df_med #, median_total_time_s\n",
    "\n",
    "\n",
    "def plot_ok_ko(df):\n",
    "        #display(melted_df)\n",
    "    color_discrete_map = {\"OK\": 'limegreen',\n",
    "                          \"KO\": 'red'}\n",
    "    #display(df)\n",
    "    df.loc[:,'med_total_time'] = round(df['med_total_time']/60,2)\n",
    "    fig = px.bar(df, x=\"ts\", y=\"med_total_time\", \n",
    "                labels={\"ts\": \"Timestamp\", \"time\": \"Time (minutes)\"},\n",
    "                #\n",
    "                color = 'state',\n",
    "                #base = 'ts',\n",
    "                color_discrete_map = color_discrete_map,\n",
    "                base = 'state',\n",
    "                #width=10, # customize width here\n",
    "                #argap = 0.5,\n",
    "                title=\"Median Total Time (morning)\",)\n",
    "    target_date = pd.to_datetime(f\"2023-{month}-{day}\")\n",
    "\n",
    "    fig.update_xaxes(range=[target_date + pd.to_timedelta(\"09:00:00\"), target_date + pd.to_timedelta(\"13:00:00\")])\n",
    "  # Set your desired date range\n",
    "    fig.show()\n",
    "\n",
    "    fig2 = px.bar(df, x=\"ts\", y=\"med_total_time\", \n",
    "                labels={\"ts\": \"Timestamp\", \"time\": \"Time (minutes)\"},\n",
    "                color = 'state',\n",
    "                color_discrete_map = color_discrete_map,\n",
    "                #width=10, # customize width here\n",
    "                #argap = 0.5,\n",
    "                title=\"Median Total Time (afternoon)\",)\n",
    "    target_date = pd.to_datetime(f\"2023-{month}-{day}\")\n",
    "\n",
    "    fig2.update_xaxes(range=[target_date + pd.to_timedelta(\"14:00:00\"), target_date + pd.to_timedelta(\"18:00:00\")])\n",
    "  # Set your desired date range\n",
    "    fig2.show()\n",
    "\n",
    "\n",
    "#median_time,median_total_time = \n",
    "df_sum_time, df_med = median_time_fun(df_bet_all)\n",
    "df_sum_time_filt = remove_outlier_quart(df_sum_time, 'med_total_time')\n",
    "plot_ok_ko(df_sum_time_filt)\n",
    "\n"
   ]
  },
  {
   "cell_type": "markdown",
   "metadata": {},
   "source": [
    "This section will now gather a range of days and calculate the time in and between stations and then present the average per day.\n"
   ]
  },
  {
   "cell_type": "code",
   "execution_count": 31,
   "metadata": {},
   "outputs": [
    {
     "name": "stdout",
     "output_type": "stream",
     "text": [
      "25_09\n",
      "Percentage of gabarits scanned in sensor 1: 30.92%\n",
      "Percentage of gabarits scanned in sensor 2: 64.47%\n",
      "Percentage of gabarits scanned in sensor 3: 45.39%\n",
      "Percentage of gabarits scanned in every sensor: 11.18%, which of those occured OK:33 and KO:1\n"
     ]
    },
    {
     "data": {
      "text/html": [
       "<div>\n",
       "<style scoped>\n",
       "    .dataframe tbody tr th:only-of-type {\n",
       "        vertical-align: middle;\n",
       "    }\n",
       "\n",
       "    .dataframe tbody tr th {\n",
       "        vertical-align: top;\n",
       "    }\n",
       "\n",
       "    .dataframe thead th {\n",
       "        text-align: right;\n",
       "    }\n",
       "</style>\n",
       "<table border=\"1\" class=\"dataframe\">\n",
       "  <thead>\n",
       "    <tr style=\"text-align: right;\">\n",
       "      <th></th>\n",
       "      <th>model</th>\n",
       "      <th>time_bet_1_2</th>\n",
       "      <th>time_bet_2_3</th>\n",
       "      <th>time_bet_3_4</th>\n",
       "      <th>med_total_time</th>\n",
       "      <th>date</th>\n",
       "    </tr>\n",
       "  </thead>\n",
       "  <tbody>\n",
       "    <tr>\n",
       "      <th>0</th>\n",
       "      <td>SPT120018W</td>\n",
       "      <td>7.0</td>\n",
       "      <td>219.5</td>\n",
       "      <td>78.5</td>\n",
       "      <td>352.0</td>\n",
       "      <td>2023-09-25</td>\n",
       "    </tr>\n",
       "  </tbody>\n",
       "</table>\n",
       "</div>"
      ],
      "text/plain": [
       "        model time_bet_1_2 time_bet_2_3 time_bet_3_4 med_total_time  \\\n",
       "0  SPT120018W          7.0        219.5         78.5          352.0   \n",
       "\n",
       "         date  \n",
       "0  2023-09-25  "
      ]
     },
     "metadata": {},
     "output_type": "display_data"
    },
    {
     "name": "stdout",
     "output_type": "stream",
     "text": [
      "\n",
      "26_09\n",
      "No data in that date\n",
      "27_09\n",
      "No data in that date\n",
      "28_09\n",
      "Percentage of gabarits scanned in sensor 1: 22.78%\n",
      "Percentage of gabarits scanned in sensor 2: 32.28%\n",
      "Percentage of gabarits scanned in sensor 3: 44.62%\n",
      "Percentage of gabarits scanned in every sensor: 7.59%, which of those occured OK:23 and KO:1\n"
     ]
    },
    {
     "data": {
      "text/html": [
       "<div>\n",
       "<style scoped>\n",
       "    .dataframe tbody tr th:only-of-type {\n",
       "        vertical-align: middle;\n",
       "    }\n",
       "\n",
       "    .dataframe tbody tr th {\n",
       "        vertical-align: top;\n",
       "    }\n",
       "\n",
       "    .dataframe thead th {\n",
       "        text-align: right;\n",
       "    }\n",
       "</style>\n",
       "<table border=\"1\" class=\"dataframe\">\n",
       "  <thead>\n",
       "    <tr style=\"text-align: right;\">\n",
       "      <th></th>\n",
       "      <th>model</th>\n",
       "      <th>time_bet_1_2</th>\n",
       "      <th>time_bet_2_3</th>\n",
       "      <th>time_bet_3_4</th>\n",
       "      <th>med_total_time</th>\n",
       "      <th>date</th>\n",
       "    </tr>\n",
       "  </thead>\n",
       "  <tbody>\n",
       "    <tr>\n",
       "      <th>0</th>\n",
       "      <td>SPT120018W</td>\n",
       "      <td>3.0</td>\n",
       "      <td>225.5</td>\n",
       "      <td>81.0</td>\n",
       "      <td>303.5</td>\n",
       "      <td>2023-09-28</td>\n",
       "    </tr>\n",
       "  </tbody>\n",
       "</table>\n",
       "</div>"
      ],
      "text/plain": [
       "        model time_bet_1_2 time_bet_2_3 time_bet_3_4 med_total_time  \\\n",
       "0  SPT120018W          3.0        225.5         81.0          303.5   \n",
       "\n",
       "         date  \n",
       "0  2023-09-28  "
      ]
     },
     "metadata": {},
     "output_type": "display_data"
    },
    {
     "name": "stdout",
     "output_type": "stream",
     "text": [
      "\n",
      "29_09\n",
      "No data in that date\n",
      "30_09\n",
      "No data in that date\n",
      "01_10\n",
      "No data in that date\n",
      "02_10\n",
      "Percentage of gabarits scanned in sensor 1: 50.33%\n",
      "Percentage of gabarits scanned in sensor 2: 44.0%\n",
      "Percentage of gabarits scanned in sensor 3: 39.33%\n",
      "Percentage of gabarits scanned in every sensor: 17.67%, which of those occured OK:51 and KO:2\n"
     ]
    },
    {
     "data": {
      "text/html": [
       "<div>\n",
       "<style scoped>\n",
       "    .dataframe tbody tr th:only-of-type {\n",
       "        vertical-align: middle;\n",
       "    }\n",
       "\n",
       "    .dataframe tbody tr th {\n",
       "        vertical-align: top;\n",
       "    }\n",
       "\n",
       "    .dataframe thead th {\n",
       "        text-align: right;\n",
       "    }\n",
       "</style>\n",
       "<table border=\"1\" class=\"dataframe\">\n",
       "  <thead>\n",
       "    <tr style=\"text-align: right;\">\n",
       "      <th></th>\n",
       "      <th>model</th>\n",
       "      <th>time_bet_1_2</th>\n",
       "      <th>time_bet_2_3</th>\n",
       "      <th>time_bet_3_4</th>\n",
       "      <th>med_total_time</th>\n",
       "      <th>date</th>\n",
       "    </tr>\n",
       "  </thead>\n",
       "  <tbody>\n",
       "    <tr>\n",
       "      <th>0</th>\n",
       "      <td>SPT120018W</td>\n",
       "      <td>3.0</td>\n",
       "      <td>266.0</td>\n",
       "      <td>84.0</td>\n",
       "      <td>377.0</td>\n",
       "      <td>2023-10-02</td>\n",
       "    </tr>\n",
       "  </tbody>\n",
       "</table>\n",
       "</div>"
      ],
      "text/plain": [
       "        model time_bet_1_2 time_bet_2_3 time_bet_3_4 med_total_time  \\\n",
       "0  SPT120018W          3.0        266.0         84.0          377.0   \n",
       "\n",
       "         date  \n",
       "0  2023-10-02  "
      ]
     },
     "metadata": {},
     "output_type": "display_data"
    },
    {
     "name": "stdout",
     "output_type": "stream",
     "text": [
      "\n",
      "03_10\n",
      "Percentage of gabarits scanned in sensor 1: 73.8%\n",
      "Percentage of gabarits scanned in sensor 2: 59.11%\n",
      "Percentage of gabarits scanned in sensor 3: 47.28%\n",
      "Percentage of gabarits scanned in every sensor: 29.39%, which of those occured OK:88 and KO:4\n"
     ]
    },
    {
     "data": {
      "text/html": [
       "<div>\n",
       "<style scoped>\n",
       "    .dataframe tbody tr th:only-of-type {\n",
       "        vertical-align: middle;\n",
       "    }\n",
       "\n",
       "    .dataframe tbody tr th {\n",
       "        vertical-align: top;\n",
       "    }\n",
       "\n",
       "    .dataframe thead th {\n",
       "        text-align: right;\n",
       "    }\n",
       "</style>\n",
       "<table border=\"1\" class=\"dataframe\">\n",
       "  <thead>\n",
       "    <tr style=\"text-align: right;\">\n",
       "      <th></th>\n",
       "      <th>model</th>\n",
       "      <th>time_bet_1_2</th>\n",
       "      <th>time_bet_2_3</th>\n",
       "      <th>time_bet_3_4</th>\n",
       "      <th>med_total_time</th>\n",
       "      <th>date</th>\n",
       "    </tr>\n",
       "  </thead>\n",
       "  <tbody>\n",
       "    <tr>\n",
       "      <th>0</th>\n",
       "      <td>SPT120018W</td>\n",
       "      <td>3.0</td>\n",
       "      <td>221.0</td>\n",
       "      <td>82.0</td>\n",
       "      <td>329.0</td>\n",
       "      <td>2023-10-03</td>\n",
       "    </tr>\n",
       "  </tbody>\n",
       "</table>\n",
       "</div>"
      ],
      "text/plain": [
       "        model time_bet_1_2 time_bet_2_3 time_bet_3_4 med_total_time  \\\n",
       "0  SPT120018W          3.0        221.0         82.0          329.0   \n",
       "\n",
       "         date  \n",
       "0  2023-10-03  "
      ]
     },
     "metadata": {},
     "output_type": "display_data"
    },
    {
     "name": "stdout",
     "output_type": "stream",
     "text": [
      "\n",
      "04_10\n",
      "No data in that date\n",
      "05_10\n",
      "No data in that date\n",
      "06_10\n",
      "Percentage of gabarits scanned in sensor 1: 72.25%\n",
      "Percentage of gabarits scanned in sensor 2: 10.98%\n",
      "Percentage of gabarits scanned in sensor 3: 48.27%\n",
      "Percentage of gabarits scanned in every sensor: 4.05%, which of those occured OK:13 and KO:1\n"
     ]
    },
    {
     "data": {
      "text/html": [
       "<div>\n",
       "<style scoped>\n",
       "    .dataframe tbody tr th:only-of-type {\n",
       "        vertical-align: middle;\n",
       "    }\n",
       "\n",
       "    .dataframe tbody tr th {\n",
       "        vertical-align: top;\n",
       "    }\n",
       "\n",
       "    .dataframe thead th {\n",
       "        text-align: right;\n",
       "    }\n",
       "</style>\n",
       "<table border=\"1\" class=\"dataframe\">\n",
       "  <thead>\n",
       "    <tr style=\"text-align: right;\">\n",
       "      <th></th>\n",
       "      <th>model</th>\n",
       "      <th>time_bet_1_2</th>\n",
       "      <th>time_bet_2_3</th>\n",
       "      <th>time_bet_3_4</th>\n",
       "      <th>med_total_time</th>\n",
       "      <th>date</th>\n",
       "    </tr>\n",
       "  </thead>\n",
       "  <tbody>\n",
       "    <tr>\n",
       "      <th>0</th>\n",
       "      <td>SPT120018W</td>\n",
       "      <td>3.0</td>\n",
       "      <td>297.0</td>\n",
       "      <td>70.0</td>\n",
       "      <td>386.0</td>\n",
       "      <td>2023-10-06</td>\n",
       "    </tr>\n",
       "  </tbody>\n",
       "</table>\n",
       "</div>"
      ],
      "text/plain": [
       "        model time_bet_1_2 time_bet_2_3 time_bet_3_4 med_total_time  \\\n",
       "0  SPT120018W          3.0        297.0         70.0          386.0   \n",
       "\n",
       "         date  \n",
       "0  2023-10-06  "
      ]
     },
     "metadata": {},
     "output_type": "display_data"
    },
    {
     "name": "stdout",
     "output_type": "stream",
     "text": [
      "\n",
      "07_10\n",
      "No data in that date\n",
      "08_10\n",
      "No data in that date\n",
      "09_10\n",
      "Percentage of gabarits scanned in sensor 1: 74.24%\n",
      "Percentage of gabarits scanned in sensor 2: 50.51%\n",
      "Percentage of gabarits scanned in sensor 3: 60.0%\n",
      "Percentage of gabarits scanned in every sensor: 24.41%, which of those occured OK:66 and KO:6\n"
     ]
    },
    {
     "data": {
      "text/html": [
       "<div>\n",
       "<style scoped>\n",
       "    .dataframe tbody tr th:only-of-type {\n",
       "        vertical-align: middle;\n",
       "    }\n",
       "\n",
       "    .dataframe tbody tr th {\n",
       "        vertical-align: top;\n",
       "    }\n",
       "\n",
       "    .dataframe thead th {\n",
       "        text-align: right;\n",
       "    }\n",
       "</style>\n",
       "<table border=\"1\" class=\"dataframe\">\n",
       "  <thead>\n",
       "    <tr style=\"text-align: right;\">\n",
       "      <th></th>\n",
       "      <th>model</th>\n",
       "      <th>time_bet_1_2</th>\n",
       "      <th>time_bet_2_3</th>\n",
       "      <th>time_bet_3_4</th>\n",
       "      <th>med_total_time</th>\n",
       "      <th>date</th>\n",
       "    </tr>\n",
       "  </thead>\n",
       "  <tbody>\n",
       "    <tr>\n",
       "      <th>0</th>\n",
       "      <td>SPT120018W</td>\n",
       "      <td>11.0</td>\n",
       "      <td>224.0</td>\n",
       "      <td>96.5</td>\n",
       "      <td>366.5</td>\n",
       "      <td>2023-10-09</td>\n",
       "    </tr>\n",
       "  </tbody>\n",
       "</table>\n",
       "</div>"
      ],
      "text/plain": [
       "        model time_bet_1_2 time_bet_2_3 time_bet_3_4 med_total_time  \\\n",
       "0  SPT120018W         11.0        224.0         96.5          366.5   \n",
       "\n",
       "         date  \n",
       "0  2023-10-09  "
      ]
     },
     "metadata": {},
     "output_type": "display_data"
    },
    {
     "name": "stdout",
     "output_type": "stream",
     "text": [
      "\n",
      "10_10\n",
      "Percentage of gabarits scanned in sensor 1: 84.71%\n",
      "Percentage of gabarits scanned in sensor 2: 45.54%\n",
      "Percentage of gabarits scanned in sensor 3: 62.42%\n",
      "Percentage of gabarits scanned in every sensor: 21.34%, which of those occured OK:67 and KO:0\n"
     ]
    },
    {
     "data": {
      "text/html": [
       "<div>\n",
       "<style scoped>\n",
       "    .dataframe tbody tr th:only-of-type {\n",
       "        vertical-align: middle;\n",
       "    }\n",
       "\n",
       "    .dataframe tbody tr th {\n",
       "        vertical-align: top;\n",
       "    }\n",
       "\n",
       "    .dataframe thead th {\n",
       "        text-align: right;\n",
       "    }\n",
       "</style>\n",
       "<table border=\"1\" class=\"dataframe\">\n",
       "  <thead>\n",
       "    <tr style=\"text-align: right;\">\n",
       "      <th></th>\n",
       "      <th>model</th>\n",
       "      <th>time_bet_1_2</th>\n",
       "      <th>time_bet_2_3</th>\n",
       "      <th>time_bet_3_4</th>\n",
       "      <th>med_total_time</th>\n",
       "      <th>date</th>\n",
       "    </tr>\n",
       "  </thead>\n",
       "  <tbody>\n",
       "    <tr>\n",
       "      <th>0</th>\n",
       "      <td>SPT130023W</td>\n",
       "      <td>33.0</td>\n",
       "      <td>200.0</td>\n",
       "      <td>104.0</td>\n",
       "      <td>343.0</td>\n",
       "      <td>2023-10-10</td>\n",
       "    </tr>\n",
       "  </tbody>\n",
       "</table>\n",
       "</div>"
      ],
      "text/plain": [
       "        model time_bet_1_2 time_bet_2_3 time_bet_3_4 med_total_time  \\\n",
       "0  SPT130023W         33.0        200.0        104.0          343.0   \n",
       "\n",
       "         date  \n",
       "0  2023-10-10  "
      ]
     },
     "metadata": {},
     "output_type": "display_data"
    },
    {
     "name": "stdout",
     "output_type": "stream",
     "text": [
      "\n",
      "11_10\n",
      "Percentage of gabarits scanned in sensor 1: 78.15%\n",
      "Percentage of gabarits scanned in sensor 2: 27.41%\n",
      "Percentage of gabarits scanned in sensor 3: 63.33%\n",
      "Percentage of gabarits scanned in every sensor: 9.63%, which of those occured OK:25 and KO:1\n"
     ]
    },
    {
     "data": {
      "text/html": [
       "<div>\n",
       "<style scoped>\n",
       "    .dataframe tbody tr th:only-of-type {\n",
       "        vertical-align: middle;\n",
       "    }\n",
       "\n",
       "    .dataframe tbody tr th {\n",
       "        vertical-align: top;\n",
       "    }\n",
       "\n",
       "    .dataframe thead th {\n",
       "        text-align: right;\n",
       "    }\n",
       "</style>\n",
       "<table border=\"1\" class=\"dataframe\">\n",
       "  <thead>\n",
       "    <tr style=\"text-align: right;\">\n",
       "      <th></th>\n",
       "      <th>model</th>\n",
       "      <th>time_bet_1_2</th>\n",
       "      <th>time_bet_2_3</th>\n",
       "      <th>time_bet_3_4</th>\n",
       "      <th>med_total_time</th>\n",
       "      <th>date</th>\n",
       "    </tr>\n",
       "  </thead>\n",
       "  <tbody>\n",
       "    <tr>\n",
       "      <th>0</th>\n",
       "      <td>SPT130023W</td>\n",
       "      <td>55.0</td>\n",
       "      <td>238.5</td>\n",
       "      <td>97.0</td>\n",
       "      <td>413.5</td>\n",
       "      <td>2023-10-11</td>\n",
       "    </tr>\n",
       "  </tbody>\n",
       "</table>\n",
       "</div>"
      ],
      "text/plain": [
       "        model time_bet_1_2 time_bet_2_3 time_bet_3_4 med_total_time  \\\n",
       "0  SPT130023W         55.0        238.5         97.0          413.5   \n",
       "\n",
       "         date  \n",
       "0  2023-10-11  "
      ]
     },
     "metadata": {},
     "output_type": "display_data"
    },
    {
     "name": "stdout",
     "output_type": "stream",
     "text": [
      "\n"
     ]
    }
   ],
   "source": [
    "start_date = '25/09/2023'\n",
    "end_date = '11/10/2023'\n",
    "\n",
    "start_date = pd.to_datetime(start_date, format='%d/%m/%Y')\n",
    "end_date = pd.to_datetime(end_date, format='%d/%m/%Y')\n",
    "\n",
    "# Create a date range\n",
    "date_range = pd.date_range(start=start_date, end=end_date)\n",
    "\n",
    "df_all_med = pd.DataFrame()\n",
    "\n",
    "def aggregate_dates(df_all_med,date_range):\n",
    "    \n",
    "    print_v = 0\n",
    "    for date in date_range:\n",
    "\n",
    "        \n",
    "        day = str(date.day).zfill(2)\n",
    "        month = str(date.month).zfill(2)\n",
    "        date_ = day + \"_\" + month\n",
    "        print(date_)\n",
    "\n",
    "        df1 = process_file(\"1\",date_)\n",
    "        if df1.empty:\n",
    "            print(\"No data in that date\")\n",
    "            continue            \n",
    "        df2 = process_file(\"2\",date_)\n",
    "        df3 = process_file(\"3\",date_)\n",
    "        df4 = process_file(\"final\",date_)\n",
    "        if df4.empty:\n",
    "            print(\"No testing data in that date\")\n",
    "            continue     \n",
    "        if print_v:\n",
    "            print(df1)\n",
    "            print(df2)\n",
    "            print(df3)\n",
    "            print(df4)\n",
    "\n",
    "\n",
    "        df_in_1 = time_in_station_fun(df1)\n",
    "        df_in_2 = time_in_station_fun(df2)\n",
    "        df_in_3 = time_in_station_fun(df3)\n",
    "        if print_v:\n",
    "            print(df_in_1)\n",
    "            print(df_in_2)\n",
    "            print(df_in_3)\n",
    "\n",
    "\n",
    "        df_bet_12 = time_between_station(df_in_1, df_in_2, 1, 2, max_time = 5)\n",
    "        df_bet_23 = time_between_station(df_in_2, df_in_3, 2, 3, max_time = 20)\n",
    "        df_bet_34 = time_between_station(df_in_3, df4, 3, 4, max_time = 0)\n",
    "        if print_v:\n",
    "            print(df_bet_12)\n",
    "            print(df_bet_23)\n",
    "            print(df_bet_34)\n",
    "\n",
    "\n",
    "        perc1 = perc_of_gabarits_found(df_in_1, df4, 1)\n",
    "        perc2 = perc_of_gabarits_found(df_in_2, df4, 2)\n",
    "        perc3 = perc_of_gabarits_found(df_in_3, df4, 3)\n",
    "\n",
    "        df_bet_all = all_time_between_station(df_bet_12, df_bet_23,df_bet_34)\n",
    "        perc4 = perc_of_gabarits_found(df_bet_all, df4, 4)\n",
    "        if print_v:\n",
    "            print(df_bet_all)\n",
    "        \n",
    "        _,df_med = median_time_fun(df_bet_all)\n",
    "        display(df_med)\n",
    "        print()\n",
    "\n",
    "        df_all_med = pd.concat([df_all_med, df_med])\n",
    "\n",
    "\n",
    "    return df_all_med\n",
    "\n",
    "df_all_med = aggregate_dates(df_all_med,date_range)\n",
    "\n",
    "\n",
    "\n"
   ]
  },
  {
   "cell_type": "code",
   "execution_count": 44,
   "metadata": {},
   "outputs": [
    {
     "data": {
      "text/html": [
       "<div>\n",
       "<style scoped>\n",
       "    .dataframe tbody tr th:only-of-type {\n",
       "        vertical-align: middle;\n",
       "    }\n",
       "\n",
       "    .dataframe tbody tr th {\n",
       "        vertical-align: top;\n",
       "    }\n",
       "\n",
       "    .dataframe thead th {\n",
       "        text-align: right;\n",
       "    }\n",
       "</style>\n",
       "<table border=\"1\" class=\"dataframe\">\n",
       "  <thead>\n",
       "    <tr style=\"text-align: right;\">\n",
       "      <th></th>\n",
       "      <th>model</th>\n",
       "      <th>time_bet_1_2</th>\n",
       "      <th>time_bet_2_3</th>\n",
       "      <th>time_bet_3_4</th>\n",
       "      <th>med_total_time</th>\n",
       "      <th>date</th>\n",
       "      <th>med_total_time_</th>\n",
       "    </tr>\n",
       "  </thead>\n",
       "  <tbody>\n",
       "    <tr>\n",
       "      <th>0</th>\n",
       "      <td>SPT120018W</td>\n",
       "      <td>7.0</td>\n",
       "      <td>219.5</td>\n",
       "      <td>78.5</td>\n",
       "      <td>352.0</td>\n",
       "      <td>2023-09-25</td>\n",
       "      <td>5.866667</td>\n",
       "    </tr>\n",
       "    <tr>\n",
       "      <th>0</th>\n",
       "      <td>SPT120018W</td>\n",
       "      <td>3.0</td>\n",
       "      <td>225.5</td>\n",
       "      <td>81.0</td>\n",
       "      <td>303.5</td>\n",
       "      <td>2023-09-28</td>\n",
       "      <td>5.058333</td>\n",
       "    </tr>\n",
       "    <tr>\n",
       "      <th>0</th>\n",
       "      <td>SPT120018W</td>\n",
       "      <td>3.0</td>\n",
       "      <td>266.0</td>\n",
       "      <td>84.0</td>\n",
       "      <td>377.0</td>\n",
       "      <td>2023-10-02</td>\n",
       "      <td>6.283333</td>\n",
       "    </tr>\n",
       "    <tr>\n",
       "      <th>0</th>\n",
       "      <td>SPT120018W</td>\n",
       "      <td>3.0</td>\n",
       "      <td>221.0</td>\n",
       "      <td>82.0</td>\n",
       "      <td>329.0</td>\n",
       "      <td>2023-10-03</td>\n",
       "      <td>5.483333</td>\n",
       "    </tr>\n",
       "    <tr>\n",
       "      <th>0</th>\n",
       "      <td>SPT120018W</td>\n",
       "      <td>3.0</td>\n",
       "      <td>297.0</td>\n",
       "      <td>70.0</td>\n",
       "      <td>386.0</td>\n",
       "      <td>2023-10-06</td>\n",
       "      <td>6.433333</td>\n",
       "    </tr>\n",
       "    <tr>\n",
       "      <th>0</th>\n",
       "      <td>SPT120018W</td>\n",
       "      <td>11.0</td>\n",
       "      <td>224.0</td>\n",
       "      <td>96.5</td>\n",
       "      <td>366.5</td>\n",
       "      <td>2023-10-09</td>\n",
       "      <td>6.108333</td>\n",
       "    </tr>\n",
       "    <tr>\n",
       "      <th>0</th>\n",
       "      <td>SPT130023W</td>\n",
       "      <td>33.0</td>\n",
       "      <td>200.0</td>\n",
       "      <td>104.0</td>\n",
       "      <td>343.0</td>\n",
       "      <td>2023-10-10</td>\n",
       "      <td>5.716667</td>\n",
       "    </tr>\n",
       "    <tr>\n",
       "      <th>0</th>\n",
       "      <td>SPT130023W</td>\n",
       "      <td>55.0</td>\n",
       "      <td>238.5</td>\n",
       "      <td>97.0</td>\n",
       "      <td>413.5</td>\n",
       "      <td>2023-10-11</td>\n",
       "      <td>6.891667</td>\n",
       "    </tr>\n",
       "  </tbody>\n",
       "</table>\n",
       "</div>"
      ],
      "text/plain": [
       "        model time_bet_1_2 time_bet_2_3 time_bet_3_4 med_total_time  \\\n",
       "0  SPT120018W          7.0        219.5         78.5          352.0   \n",
       "0  SPT120018W          3.0        225.5         81.0          303.5   \n",
       "0  SPT120018W          3.0        266.0         84.0          377.0   \n",
       "0  SPT120018W          3.0        221.0         82.0          329.0   \n",
       "0  SPT120018W          3.0        297.0         70.0          386.0   \n",
       "0  SPT120018W         11.0        224.0         96.5          366.5   \n",
       "0  SPT130023W         33.0        200.0        104.0          343.0   \n",
       "0  SPT130023W         55.0        238.5         97.0          413.5   \n",
       "\n",
       "         date med_total_time_  \n",
       "0  2023-09-25        5.866667  \n",
       "0  2023-09-28        5.058333  \n",
       "0  2023-10-02        6.283333  \n",
       "0  2023-10-03        5.483333  \n",
       "0  2023-10-06        6.433333  \n",
       "0  2023-10-09        6.108333  \n",
       "0  2023-10-10        5.716667  \n",
       "0  2023-10-11        6.891667  "
      ]
     },
     "metadata": {},
     "output_type": "display_data"
    },
    {
     "data": {
      "application/vnd.plotly.v1+json": {
       "config": {
        "plotlyServerURL": "https://plot.ly"
       },
       "data": [
        {
         "alignmentgroup": "True",
         "hovertemplate": "model=SPT120018W<br>date=%{x}<br>med_total_time_=%{y}<extra></extra>",
         "legendgroup": "SPT120018W",
         "marker": {
          "color": "red",
          "pattern": {
           "shape": ""
          }
         },
         "name": "SPT120018W",
         "offsetgroup": "SPT120018W",
         "orientation": "v",
         "showlegend": true,
         "textposition": "auto",
         "type": "bar",
         "x": [
          "2023-09-25",
          "2023-09-28",
          "2023-10-02",
          "2023-10-03",
          "2023-10-06",
          "2023-10-09"
         ],
         "xaxis": "x",
         "y": [
          5.866666666666666,
          5.058333333333334,
          6.283333333333333,
          5.483333333333333,
          6.433333333333334,
          6.108333333333333
         ],
         "yaxis": "y"
        },
        {
         "alignmentgroup": "True",
         "hovertemplate": "model=SPT130023W<br>date=%{x}<br>med_total_time_=%{y}<extra></extra>",
         "legendgroup": "SPT130023W",
         "marker": {
          "color": "dodgerblue",
          "pattern": {
           "shape": ""
          }
         },
         "name": "SPT130023W",
         "offsetgroup": "SPT130023W",
         "orientation": "v",
         "showlegend": true,
         "textposition": "auto",
         "type": "bar",
         "x": [
          "2023-10-10",
          "2023-10-11"
         ],
         "xaxis": "x",
         "y": [
          5.716666666666667,
          6.891666666666667
         ],
         "yaxis": "y"
        }
       ],
       "layout": {
        "barmode": "group",
        "legend": {
         "title": {
          "text": "Model"
         },
         "tracegroupgap": 0
        },
        "margin": {
         "t": 60
        },
        "template": {
         "data": {
          "bar": [
           {
            "error_x": {
             "color": "#2a3f5f"
            },
            "error_y": {
             "color": "#2a3f5f"
            },
            "marker": {
             "line": {
              "color": "#E5ECF6",
              "width": 0.5
             },
             "pattern": {
              "fillmode": "overlay",
              "size": 10,
              "solidity": 0.2
             }
            },
            "type": "bar"
           }
          ],
          "barpolar": [
           {
            "marker": {
             "line": {
              "color": "#E5ECF6",
              "width": 0.5
             },
             "pattern": {
              "fillmode": "overlay",
              "size": 10,
              "solidity": 0.2
             }
            },
            "type": "barpolar"
           }
          ],
          "carpet": [
           {
            "aaxis": {
             "endlinecolor": "#2a3f5f",
             "gridcolor": "white",
             "linecolor": "white",
             "minorgridcolor": "white",
             "startlinecolor": "#2a3f5f"
            },
            "baxis": {
             "endlinecolor": "#2a3f5f",
             "gridcolor": "white",
             "linecolor": "white",
             "minorgridcolor": "white",
             "startlinecolor": "#2a3f5f"
            },
            "type": "carpet"
           }
          ],
          "choropleth": [
           {
            "colorbar": {
             "outlinewidth": 0,
             "ticks": ""
            },
            "type": "choropleth"
           }
          ],
          "contour": [
           {
            "colorbar": {
             "outlinewidth": 0,
             "ticks": ""
            },
            "colorscale": [
             [
              0,
              "#0d0887"
             ],
             [
              0.1111111111111111,
              "#46039f"
             ],
             [
              0.2222222222222222,
              "#7201a8"
             ],
             [
              0.3333333333333333,
              "#9c179e"
             ],
             [
              0.4444444444444444,
              "#bd3786"
             ],
             [
              0.5555555555555556,
              "#d8576b"
             ],
             [
              0.6666666666666666,
              "#ed7953"
             ],
             [
              0.7777777777777778,
              "#fb9f3a"
             ],
             [
              0.8888888888888888,
              "#fdca26"
             ],
             [
              1,
              "#f0f921"
             ]
            ],
            "type": "contour"
           }
          ],
          "contourcarpet": [
           {
            "colorbar": {
             "outlinewidth": 0,
             "ticks": ""
            },
            "type": "contourcarpet"
           }
          ],
          "heatmap": [
           {
            "colorbar": {
             "outlinewidth": 0,
             "ticks": ""
            },
            "colorscale": [
             [
              0,
              "#0d0887"
             ],
             [
              0.1111111111111111,
              "#46039f"
             ],
             [
              0.2222222222222222,
              "#7201a8"
             ],
             [
              0.3333333333333333,
              "#9c179e"
             ],
             [
              0.4444444444444444,
              "#bd3786"
             ],
             [
              0.5555555555555556,
              "#d8576b"
             ],
             [
              0.6666666666666666,
              "#ed7953"
             ],
             [
              0.7777777777777778,
              "#fb9f3a"
             ],
             [
              0.8888888888888888,
              "#fdca26"
             ],
             [
              1,
              "#f0f921"
             ]
            ],
            "type": "heatmap"
           }
          ],
          "heatmapgl": [
           {
            "colorbar": {
             "outlinewidth": 0,
             "ticks": ""
            },
            "colorscale": [
             [
              0,
              "#0d0887"
             ],
             [
              0.1111111111111111,
              "#46039f"
             ],
             [
              0.2222222222222222,
              "#7201a8"
             ],
             [
              0.3333333333333333,
              "#9c179e"
             ],
             [
              0.4444444444444444,
              "#bd3786"
             ],
             [
              0.5555555555555556,
              "#d8576b"
             ],
             [
              0.6666666666666666,
              "#ed7953"
             ],
             [
              0.7777777777777778,
              "#fb9f3a"
             ],
             [
              0.8888888888888888,
              "#fdca26"
             ],
             [
              1,
              "#f0f921"
             ]
            ],
            "type": "heatmapgl"
           }
          ],
          "histogram": [
           {
            "marker": {
             "pattern": {
              "fillmode": "overlay",
              "size": 10,
              "solidity": 0.2
             }
            },
            "type": "histogram"
           }
          ],
          "histogram2d": [
           {
            "colorbar": {
             "outlinewidth": 0,
             "ticks": ""
            },
            "colorscale": [
             [
              0,
              "#0d0887"
             ],
             [
              0.1111111111111111,
              "#46039f"
             ],
             [
              0.2222222222222222,
              "#7201a8"
             ],
             [
              0.3333333333333333,
              "#9c179e"
             ],
             [
              0.4444444444444444,
              "#bd3786"
             ],
             [
              0.5555555555555556,
              "#d8576b"
             ],
             [
              0.6666666666666666,
              "#ed7953"
             ],
             [
              0.7777777777777778,
              "#fb9f3a"
             ],
             [
              0.8888888888888888,
              "#fdca26"
             ],
             [
              1,
              "#f0f921"
             ]
            ],
            "type": "histogram2d"
           }
          ],
          "histogram2dcontour": [
           {
            "colorbar": {
             "outlinewidth": 0,
             "ticks": ""
            },
            "colorscale": [
             [
              0,
              "#0d0887"
             ],
             [
              0.1111111111111111,
              "#46039f"
             ],
             [
              0.2222222222222222,
              "#7201a8"
             ],
             [
              0.3333333333333333,
              "#9c179e"
             ],
             [
              0.4444444444444444,
              "#bd3786"
             ],
             [
              0.5555555555555556,
              "#d8576b"
             ],
             [
              0.6666666666666666,
              "#ed7953"
             ],
             [
              0.7777777777777778,
              "#fb9f3a"
             ],
             [
              0.8888888888888888,
              "#fdca26"
             ],
             [
              1,
              "#f0f921"
             ]
            ],
            "type": "histogram2dcontour"
           }
          ],
          "mesh3d": [
           {
            "colorbar": {
             "outlinewidth": 0,
             "ticks": ""
            },
            "type": "mesh3d"
           }
          ],
          "parcoords": [
           {
            "line": {
             "colorbar": {
              "outlinewidth": 0,
              "ticks": ""
             }
            },
            "type": "parcoords"
           }
          ],
          "pie": [
           {
            "automargin": true,
            "type": "pie"
           }
          ],
          "scatter": [
           {
            "fillpattern": {
             "fillmode": "overlay",
             "size": 10,
             "solidity": 0.2
            },
            "type": "scatter"
           }
          ],
          "scatter3d": [
           {
            "line": {
             "colorbar": {
              "outlinewidth": 0,
              "ticks": ""
             }
            },
            "marker": {
             "colorbar": {
              "outlinewidth": 0,
              "ticks": ""
             }
            },
            "type": "scatter3d"
           }
          ],
          "scattercarpet": [
           {
            "marker": {
             "colorbar": {
              "outlinewidth": 0,
              "ticks": ""
             }
            },
            "type": "scattercarpet"
           }
          ],
          "scattergeo": [
           {
            "marker": {
             "colorbar": {
              "outlinewidth": 0,
              "ticks": ""
             }
            },
            "type": "scattergeo"
           }
          ],
          "scattergl": [
           {
            "marker": {
             "colorbar": {
              "outlinewidth": 0,
              "ticks": ""
             }
            },
            "type": "scattergl"
           }
          ],
          "scattermapbox": [
           {
            "marker": {
             "colorbar": {
              "outlinewidth": 0,
              "ticks": ""
             }
            },
            "type": "scattermapbox"
           }
          ],
          "scatterpolar": [
           {
            "marker": {
             "colorbar": {
              "outlinewidth": 0,
              "ticks": ""
             }
            },
            "type": "scatterpolar"
           }
          ],
          "scatterpolargl": [
           {
            "marker": {
             "colorbar": {
              "outlinewidth": 0,
              "ticks": ""
             }
            },
            "type": "scatterpolargl"
           }
          ],
          "scatterternary": [
           {
            "marker": {
             "colorbar": {
              "outlinewidth": 0,
              "ticks": ""
             }
            },
            "type": "scatterternary"
           }
          ],
          "surface": [
           {
            "colorbar": {
             "outlinewidth": 0,
             "ticks": ""
            },
            "colorscale": [
             [
              0,
              "#0d0887"
             ],
             [
              0.1111111111111111,
              "#46039f"
             ],
             [
              0.2222222222222222,
              "#7201a8"
             ],
             [
              0.3333333333333333,
              "#9c179e"
             ],
             [
              0.4444444444444444,
              "#bd3786"
             ],
             [
              0.5555555555555556,
              "#d8576b"
             ],
             [
              0.6666666666666666,
              "#ed7953"
             ],
             [
              0.7777777777777778,
              "#fb9f3a"
             ],
             [
              0.8888888888888888,
              "#fdca26"
             ],
             [
              1,
              "#f0f921"
             ]
            ],
            "type": "surface"
           }
          ],
          "table": [
           {
            "cells": {
             "fill": {
              "color": "#EBF0F8"
             },
             "line": {
              "color": "white"
             }
            },
            "header": {
             "fill": {
              "color": "#C8D4E3"
             },
             "line": {
              "color": "white"
             }
            },
            "type": "table"
           }
          ]
         },
         "layout": {
          "annotationdefaults": {
           "arrowcolor": "#2a3f5f",
           "arrowhead": 0,
           "arrowwidth": 1
          },
          "autotypenumbers": "strict",
          "coloraxis": {
           "colorbar": {
            "outlinewidth": 0,
            "ticks": ""
           }
          },
          "colorscale": {
           "diverging": [
            [
             0,
             "#8e0152"
            ],
            [
             0.1,
             "#c51b7d"
            ],
            [
             0.2,
             "#de77ae"
            ],
            [
             0.3,
             "#f1b6da"
            ],
            [
             0.4,
             "#fde0ef"
            ],
            [
             0.5,
             "#f7f7f7"
            ],
            [
             0.6,
             "#e6f5d0"
            ],
            [
             0.7,
             "#b8e186"
            ],
            [
             0.8,
             "#7fbc41"
            ],
            [
             0.9,
             "#4d9221"
            ],
            [
             1,
             "#276419"
            ]
           ],
           "sequential": [
            [
             0,
             "#0d0887"
            ],
            [
             0.1111111111111111,
             "#46039f"
            ],
            [
             0.2222222222222222,
             "#7201a8"
            ],
            [
             0.3333333333333333,
             "#9c179e"
            ],
            [
             0.4444444444444444,
             "#bd3786"
            ],
            [
             0.5555555555555556,
             "#d8576b"
            ],
            [
             0.6666666666666666,
             "#ed7953"
            ],
            [
             0.7777777777777778,
             "#fb9f3a"
            ],
            [
             0.8888888888888888,
             "#fdca26"
            ],
            [
             1,
             "#f0f921"
            ]
           ],
           "sequentialminus": [
            [
             0,
             "#0d0887"
            ],
            [
             0.1111111111111111,
             "#46039f"
            ],
            [
             0.2222222222222222,
             "#7201a8"
            ],
            [
             0.3333333333333333,
             "#9c179e"
            ],
            [
             0.4444444444444444,
             "#bd3786"
            ],
            [
             0.5555555555555556,
             "#d8576b"
            ],
            [
             0.6666666666666666,
             "#ed7953"
            ],
            [
             0.7777777777777778,
             "#fb9f3a"
            ],
            [
             0.8888888888888888,
             "#fdca26"
            ],
            [
             1,
             "#f0f921"
            ]
           ]
          },
          "colorway": [
           "#636efa",
           "#EF553B",
           "#00cc96",
           "#ab63fa",
           "#FFA15A",
           "#19d3f3",
           "#FF6692",
           "#B6E880",
           "#FF97FF",
           "#FECB52"
          ],
          "font": {
           "color": "#2a3f5f"
          },
          "geo": {
           "bgcolor": "white",
           "lakecolor": "white",
           "landcolor": "#E5ECF6",
           "showlakes": true,
           "showland": true,
           "subunitcolor": "white"
          },
          "hoverlabel": {
           "align": "left"
          },
          "hovermode": "closest",
          "mapbox": {
           "style": "light"
          },
          "paper_bgcolor": "white",
          "plot_bgcolor": "#E5ECF6",
          "polar": {
           "angularaxis": {
            "gridcolor": "white",
            "linecolor": "white",
            "ticks": ""
           },
           "bgcolor": "#E5ECF6",
           "radialaxis": {
            "gridcolor": "white",
            "linecolor": "white",
            "ticks": ""
           }
          },
          "scene": {
           "xaxis": {
            "backgroundcolor": "#E5ECF6",
            "gridcolor": "white",
            "gridwidth": 2,
            "linecolor": "white",
            "showbackground": true,
            "ticks": "",
            "zerolinecolor": "white"
           },
           "yaxis": {
            "backgroundcolor": "#E5ECF6",
            "gridcolor": "white",
            "gridwidth": 2,
            "linecolor": "white",
            "showbackground": true,
            "ticks": "",
            "zerolinecolor": "white"
           },
           "zaxis": {
            "backgroundcolor": "#E5ECF6",
            "gridcolor": "white",
            "gridwidth": 2,
            "linecolor": "white",
            "showbackground": true,
            "ticks": "",
            "zerolinecolor": "white"
           }
          },
          "shapedefaults": {
           "line": {
            "color": "#2a3f5f"
           }
          },
          "ternary": {
           "aaxis": {
            "gridcolor": "white",
            "linecolor": "white",
            "ticks": ""
           },
           "baxis": {
            "gridcolor": "white",
            "linecolor": "white",
            "ticks": ""
           },
           "bgcolor": "#E5ECF6",
           "caxis": {
            "gridcolor": "white",
            "linecolor": "white",
            "ticks": ""
           }
          },
          "title": {
           "x": 0.05
          },
          "xaxis": {
           "automargin": true,
           "gridcolor": "white",
           "linecolor": "white",
           "ticks": "",
           "title": {
            "standoff": 15
           },
           "zerolinecolor": "white",
           "zerolinewidth": 2
          },
          "yaxis": {
           "automargin": true,
           "gridcolor": "white",
           "linecolor": "white",
           "ticks": "",
           "title": {
            "standoff": 15
           },
           "zerolinecolor": "white",
           "zerolinewidth": 2
          }
         }
        },
        "title": {
         "text": "Median Total Time by Model"
        },
        "xaxis": {
         "anchor": "y",
         "domain": [
          0,
          1
         ],
         "title": {
          "text": "Date"
         }
        },
        "yaxis": {
         "anchor": "x",
         "domain": [
          0,
          1
         ],
         "title": {
          "text": "Median Total Time (minutes)"
         }
        }
       }
      }
     },
     "metadata": {},
     "output_type": "display_data"
    },
    {
     "name": "stdout",
     "output_type": "stream",
     "text": [
      "yo\n"
     ]
    },
    {
     "name": "stderr",
     "output_type": "stream",
     "text": [
      "C:\\Users\\isacc\\AppData\\Local\\Temp\\ipykernel_8952\\2906350691.py:61: SettingWithCopyWarning:\n",
      "\n",
      "\n",
      "A value is trying to be set on a copy of a slice from a DataFrame.\n",
      "Try using .loc[row_indexer,col_indexer] = value instead\n",
      "\n",
      "See the caveats in the documentation: https://pandas.pydata.org/pandas-docs/stable/user_guide/indexing.html#returning-a-view-versus-a-copy\n",
      "\n"
     ]
    },
    {
     "data": {
      "application/vnd.plotly.v1+json": {
       "config": {
        "plotlyServerURL": "https://plot.ly"
       },
       "data": [
        {
         "alignmentgroup": "True",
         "hovertemplate": "color=SPT120018W_time_bet_1_2<br>date=%{x}<br>time_=%{y}<extra></extra>",
         "legendgroup": "SPT120018W_time_bet_1_2",
         "marker": {
          "color": "maroon",
          "pattern": {
           "shape": ""
          }
         },
         "name": "SPT120018W_time_bet_1_2",
         "offsetgroup": "SPT120018W_time_bet_1_2",
         "orientation": "v",
         "showlegend": true,
         "textposition": "auto",
         "type": "bar",
         "x": [
          "2023-09-25",
          "2023-09-28",
          "2023-10-02",
          "2023-10-03",
          "2023-10-06",
          "2023-10-09"
         ],
         "xaxis": "x",
         "y": [
          0.11666666666666667,
          0.05,
          0.05,
          0.05,
          0.05,
          0.18333333333333332
         ],
         "yaxis": "y"
        },
        {
         "alignmentgroup": "True",
         "hovertemplate": "color=SPT120018W_time_bet_2_3<br>date=%{x}<br>time_=%{y}<extra></extra>",
         "legendgroup": "SPT120018W_time_bet_2_3",
         "marker": {
          "color": "red",
          "pattern": {
           "shape": ""
          }
         },
         "name": "SPT120018W_time_bet_2_3",
         "offsetgroup": "SPT120018W_time_bet_2_3",
         "orientation": "v",
         "showlegend": true,
         "textposition": "auto",
         "type": "bar",
         "x": [
          "2023-09-25",
          "2023-09-28",
          "2023-10-02",
          "2023-10-03",
          "2023-10-06",
          "2023-10-09"
         ],
         "xaxis": "x",
         "y": [
          3.658333333333333,
          3.7583333333333333,
          4.433333333333334,
          3.683333333333333,
          4.95,
          3.7333333333333334
         ],
         "yaxis": "y"
        },
        {
         "alignmentgroup": "True",
         "hovertemplate": "color=SPT120018W_time_bet_3_4<br>date=%{x}<br>time_=%{y}<extra></extra>",
         "legendgroup": "SPT120018W_time_bet_3_4",
         "marker": {
          "color": "lightcoral",
          "pattern": {
           "shape": ""
          }
         },
         "name": "SPT120018W_time_bet_3_4",
         "offsetgroup": "SPT120018W_time_bet_3_4",
         "orientation": "v",
         "showlegend": true,
         "textposition": "auto",
         "type": "bar",
         "x": [
          "2023-09-25",
          "2023-09-28",
          "2023-10-02",
          "2023-10-03",
          "2023-10-06",
          "2023-10-09"
         ],
         "xaxis": "x",
         "y": [
          1.3083333333333333,
          1.35,
          1.4,
          1.3666666666666667,
          1.1666666666666667,
          1.6083333333333334
         ],
         "yaxis": "y"
        }
       ],
       "layout": {
        "barmode": "relative",
        "legend": {
         "title": {
          "text": "Time Bet"
         },
         "tracegroupgap": 0
        },
        "template": {
         "data": {
          "bar": [
           {
            "error_x": {
             "color": "#2a3f5f"
            },
            "error_y": {
             "color": "#2a3f5f"
            },
            "marker": {
             "line": {
              "color": "#E5ECF6",
              "width": 0.5
             },
             "pattern": {
              "fillmode": "overlay",
              "size": 10,
              "solidity": 0.2
             }
            },
            "type": "bar"
           }
          ],
          "barpolar": [
           {
            "marker": {
             "line": {
              "color": "#E5ECF6",
              "width": 0.5
             },
             "pattern": {
              "fillmode": "overlay",
              "size": 10,
              "solidity": 0.2
             }
            },
            "type": "barpolar"
           }
          ],
          "carpet": [
           {
            "aaxis": {
             "endlinecolor": "#2a3f5f",
             "gridcolor": "white",
             "linecolor": "white",
             "minorgridcolor": "white",
             "startlinecolor": "#2a3f5f"
            },
            "baxis": {
             "endlinecolor": "#2a3f5f",
             "gridcolor": "white",
             "linecolor": "white",
             "minorgridcolor": "white",
             "startlinecolor": "#2a3f5f"
            },
            "type": "carpet"
           }
          ],
          "choropleth": [
           {
            "colorbar": {
             "outlinewidth": 0,
             "ticks": ""
            },
            "type": "choropleth"
           }
          ],
          "contour": [
           {
            "colorbar": {
             "outlinewidth": 0,
             "ticks": ""
            },
            "colorscale": [
             [
              0,
              "#0d0887"
             ],
             [
              0.1111111111111111,
              "#46039f"
             ],
             [
              0.2222222222222222,
              "#7201a8"
             ],
             [
              0.3333333333333333,
              "#9c179e"
             ],
             [
              0.4444444444444444,
              "#bd3786"
             ],
             [
              0.5555555555555556,
              "#d8576b"
             ],
             [
              0.6666666666666666,
              "#ed7953"
             ],
             [
              0.7777777777777778,
              "#fb9f3a"
             ],
             [
              0.8888888888888888,
              "#fdca26"
             ],
             [
              1,
              "#f0f921"
             ]
            ],
            "type": "contour"
           }
          ],
          "contourcarpet": [
           {
            "colorbar": {
             "outlinewidth": 0,
             "ticks": ""
            },
            "type": "contourcarpet"
           }
          ],
          "heatmap": [
           {
            "colorbar": {
             "outlinewidth": 0,
             "ticks": ""
            },
            "colorscale": [
             [
              0,
              "#0d0887"
             ],
             [
              0.1111111111111111,
              "#46039f"
             ],
             [
              0.2222222222222222,
              "#7201a8"
             ],
             [
              0.3333333333333333,
              "#9c179e"
             ],
             [
              0.4444444444444444,
              "#bd3786"
             ],
             [
              0.5555555555555556,
              "#d8576b"
             ],
             [
              0.6666666666666666,
              "#ed7953"
             ],
             [
              0.7777777777777778,
              "#fb9f3a"
             ],
             [
              0.8888888888888888,
              "#fdca26"
             ],
             [
              1,
              "#f0f921"
             ]
            ],
            "type": "heatmap"
           }
          ],
          "heatmapgl": [
           {
            "colorbar": {
             "outlinewidth": 0,
             "ticks": ""
            },
            "colorscale": [
             [
              0,
              "#0d0887"
             ],
             [
              0.1111111111111111,
              "#46039f"
             ],
             [
              0.2222222222222222,
              "#7201a8"
             ],
             [
              0.3333333333333333,
              "#9c179e"
             ],
             [
              0.4444444444444444,
              "#bd3786"
             ],
             [
              0.5555555555555556,
              "#d8576b"
             ],
             [
              0.6666666666666666,
              "#ed7953"
             ],
             [
              0.7777777777777778,
              "#fb9f3a"
             ],
             [
              0.8888888888888888,
              "#fdca26"
             ],
             [
              1,
              "#f0f921"
             ]
            ],
            "type": "heatmapgl"
           }
          ],
          "histogram": [
           {
            "marker": {
             "pattern": {
              "fillmode": "overlay",
              "size": 10,
              "solidity": 0.2
             }
            },
            "type": "histogram"
           }
          ],
          "histogram2d": [
           {
            "colorbar": {
             "outlinewidth": 0,
             "ticks": ""
            },
            "colorscale": [
             [
              0,
              "#0d0887"
             ],
             [
              0.1111111111111111,
              "#46039f"
             ],
             [
              0.2222222222222222,
              "#7201a8"
             ],
             [
              0.3333333333333333,
              "#9c179e"
             ],
             [
              0.4444444444444444,
              "#bd3786"
             ],
             [
              0.5555555555555556,
              "#d8576b"
             ],
             [
              0.6666666666666666,
              "#ed7953"
             ],
             [
              0.7777777777777778,
              "#fb9f3a"
             ],
             [
              0.8888888888888888,
              "#fdca26"
             ],
             [
              1,
              "#f0f921"
             ]
            ],
            "type": "histogram2d"
           }
          ],
          "histogram2dcontour": [
           {
            "colorbar": {
             "outlinewidth": 0,
             "ticks": ""
            },
            "colorscale": [
             [
              0,
              "#0d0887"
             ],
             [
              0.1111111111111111,
              "#46039f"
             ],
             [
              0.2222222222222222,
              "#7201a8"
             ],
             [
              0.3333333333333333,
              "#9c179e"
             ],
             [
              0.4444444444444444,
              "#bd3786"
             ],
             [
              0.5555555555555556,
              "#d8576b"
             ],
             [
              0.6666666666666666,
              "#ed7953"
             ],
             [
              0.7777777777777778,
              "#fb9f3a"
             ],
             [
              0.8888888888888888,
              "#fdca26"
             ],
             [
              1,
              "#f0f921"
             ]
            ],
            "type": "histogram2dcontour"
           }
          ],
          "mesh3d": [
           {
            "colorbar": {
             "outlinewidth": 0,
             "ticks": ""
            },
            "type": "mesh3d"
           }
          ],
          "parcoords": [
           {
            "line": {
             "colorbar": {
              "outlinewidth": 0,
              "ticks": ""
             }
            },
            "type": "parcoords"
           }
          ],
          "pie": [
           {
            "automargin": true,
            "type": "pie"
           }
          ],
          "scatter": [
           {
            "fillpattern": {
             "fillmode": "overlay",
             "size": 10,
             "solidity": 0.2
            },
            "type": "scatter"
           }
          ],
          "scatter3d": [
           {
            "line": {
             "colorbar": {
              "outlinewidth": 0,
              "ticks": ""
             }
            },
            "marker": {
             "colorbar": {
              "outlinewidth": 0,
              "ticks": ""
             }
            },
            "type": "scatter3d"
           }
          ],
          "scattercarpet": [
           {
            "marker": {
             "colorbar": {
              "outlinewidth": 0,
              "ticks": ""
             }
            },
            "type": "scattercarpet"
           }
          ],
          "scattergeo": [
           {
            "marker": {
             "colorbar": {
              "outlinewidth": 0,
              "ticks": ""
             }
            },
            "type": "scattergeo"
           }
          ],
          "scattergl": [
           {
            "marker": {
             "colorbar": {
              "outlinewidth": 0,
              "ticks": ""
             }
            },
            "type": "scattergl"
           }
          ],
          "scattermapbox": [
           {
            "marker": {
             "colorbar": {
              "outlinewidth": 0,
              "ticks": ""
             }
            },
            "type": "scattermapbox"
           }
          ],
          "scatterpolar": [
           {
            "marker": {
             "colorbar": {
              "outlinewidth": 0,
              "ticks": ""
             }
            },
            "type": "scatterpolar"
           }
          ],
          "scatterpolargl": [
           {
            "marker": {
             "colorbar": {
              "outlinewidth": 0,
              "ticks": ""
             }
            },
            "type": "scatterpolargl"
           }
          ],
          "scatterternary": [
           {
            "marker": {
             "colorbar": {
              "outlinewidth": 0,
              "ticks": ""
             }
            },
            "type": "scatterternary"
           }
          ],
          "surface": [
           {
            "colorbar": {
             "outlinewidth": 0,
             "ticks": ""
            },
            "colorscale": [
             [
              0,
              "#0d0887"
             ],
             [
              0.1111111111111111,
              "#46039f"
             ],
             [
              0.2222222222222222,
              "#7201a8"
             ],
             [
              0.3333333333333333,
              "#9c179e"
             ],
             [
              0.4444444444444444,
              "#bd3786"
             ],
             [
              0.5555555555555556,
              "#d8576b"
             ],
             [
              0.6666666666666666,
              "#ed7953"
             ],
             [
              0.7777777777777778,
              "#fb9f3a"
             ],
             [
              0.8888888888888888,
              "#fdca26"
             ],
             [
              1,
              "#f0f921"
             ]
            ],
            "type": "surface"
           }
          ],
          "table": [
           {
            "cells": {
             "fill": {
              "color": "#EBF0F8"
             },
             "line": {
              "color": "white"
             }
            },
            "header": {
             "fill": {
              "color": "#C8D4E3"
             },
             "line": {
              "color": "white"
             }
            },
            "type": "table"
           }
          ]
         },
         "layout": {
          "annotationdefaults": {
           "arrowcolor": "#2a3f5f",
           "arrowhead": 0,
           "arrowwidth": 1
          },
          "autotypenumbers": "strict",
          "coloraxis": {
           "colorbar": {
            "outlinewidth": 0,
            "ticks": ""
           }
          },
          "colorscale": {
           "diverging": [
            [
             0,
             "#8e0152"
            ],
            [
             0.1,
             "#c51b7d"
            ],
            [
             0.2,
             "#de77ae"
            ],
            [
             0.3,
             "#f1b6da"
            ],
            [
             0.4,
             "#fde0ef"
            ],
            [
             0.5,
             "#f7f7f7"
            ],
            [
             0.6,
             "#e6f5d0"
            ],
            [
             0.7,
             "#b8e186"
            ],
            [
             0.8,
             "#7fbc41"
            ],
            [
             0.9,
             "#4d9221"
            ],
            [
             1,
             "#276419"
            ]
           ],
           "sequential": [
            [
             0,
             "#0d0887"
            ],
            [
             0.1111111111111111,
             "#46039f"
            ],
            [
             0.2222222222222222,
             "#7201a8"
            ],
            [
             0.3333333333333333,
             "#9c179e"
            ],
            [
             0.4444444444444444,
             "#bd3786"
            ],
            [
             0.5555555555555556,
             "#d8576b"
            ],
            [
             0.6666666666666666,
             "#ed7953"
            ],
            [
             0.7777777777777778,
             "#fb9f3a"
            ],
            [
             0.8888888888888888,
             "#fdca26"
            ],
            [
             1,
             "#f0f921"
            ]
           ],
           "sequentialminus": [
            [
             0,
             "#0d0887"
            ],
            [
             0.1111111111111111,
             "#46039f"
            ],
            [
             0.2222222222222222,
             "#7201a8"
            ],
            [
             0.3333333333333333,
             "#9c179e"
            ],
            [
             0.4444444444444444,
             "#bd3786"
            ],
            [
             0.5555555555555556,
             "#d8576b"
            ],
            [
             0.6666666666666666,
             "#ed7953"
            ],
            [
             0.7777777777777778,
             "#fb9f3a"
            ],
            [
             0.8888888888888888,
             "#fdca26"
            ],
            [
             1,
             "#f0f921"
            ]
           ]
          },
          "colorway": [
           "#636efa",
           "#EF553B",
           "#00cc96",
           "#ab63fa",
           "#FFA15A",
           "#19d3f3",
           "#FF6692",
           "#B6E880",
           "#FF97FF",
           "#FECB52"
          ],
          "font": {
           "color": "#2a3f5f"
          },
          "geo": {
           "bgcolor": "white",
           "lakecolor": "white",
           "landcolor": "#E5ECF6",
           "showlakes": true,
           "showland": true,
           "subunitcolor": "white"
          },
          "hoverlabel": {
           "align": "left"
          },
          "hovermode": "closest",
          "mapbox": {
           "style": "light"
          },
          "paper_bgcolor": "white",
          "plot_bgcolor": "#E5ECF6",
          "polar": {
           "angularaxis": {
            "gridcolor": "white",
            "linecolor": "white",
            "ticks": ""
           },
           "bgcolor": "#E5ECF6",
           "radialaxis": {
            "gridcolor": "white",
            "linecolor": "white",
            "ticks": ""
           }
          },
          "scene": {
           "xaxis": {
            "backgroundcolor": "#E5ECF6",
            "gridcolor": "white",
            "gridwidth": 2,
            "linecolor": "white",
            "showbackground": true,
            "ticks": "",
            "zerolinecolor": "white"
           },
           "yaxis": {
            "backgroundcolor": "#E5ECF6",
            "gridcolor": "white",
            "gridwidth": 2,
            "linecolor": "white",
            "showbackground": true,
            "ticks": "",
            "zerolinecolor": "white"
           },
           "zaxis": {
            "backgroundcolor": "#E5ECF6",
            "gridcolor": "white",
            "gridwidth": 2,
            "linecolor": "white",
            "showbackground": true,
            "ticks": "",
            "zerolinecolor": "white"
           }
          },
          "shapedefaults": {
           "line": {
            "color": "#2a3f5f"
           }
          },
          "ternary": {
           "aaxis": {
            "gridcolor": "white",
            "linecolor": "white",
            "ticks": ""
           },
           "baxis": {
            "gridcolor": "white",
            "linecolor": "white",
            "ticks": ""
           },
           "bgcolor": "#E5ECF6",
           "caxis": {
            "gridcolor": "white",
            "linecolor": "white",
            "ticks": ""
           }
          },
          "title": {
           "x": 0.05
          },
          "xaxis": {
           "automargin": true,
           "gridcolor": "white",
           "linecolor": "white",
           "ticks": "",
           "title": {
            "standoff": 15
           },
           "zerolinecolor": "white",
           "zerolinewidth": 2
          },
          "yaxis": {
           "automargin": true,
           "gridcolor": "white",
           "linecolor": "white",
           "ticks": "",
           "title": {
            "standoff": 15
           },
           "zerolinecolor": "white",
           "zerolinewidth": 2
          }
         }
        },
        "title": {
         "text": "Time per process for Model: SPT120018W"
        },
        "xaxis": {
         "anchor": "y",
         "domain": [
          0,
          1
         ],
         "range": [
          "2023-09-24T00:00:00",
          "2023-10-12T00:00:00"
         ],
         "title": {
          "text": "Date"
         }
        },
        "yaxis": {
         "anchor": "x",
         "domain": [
          0,
          1
         ],
         "title": {
          "text": "Time per station (minutes)"
         }
        }
       }
      }
     },
     "metadata": {},
     "output_type": "display_data"
    },
    {
     "name": "stdout",
     "output_type": "stream",
     "text": [
      "yo\n"
     ]
    },
    {
     "name": "stderr",
     "output_type": "stream",
     "text": [
      "C:\\Users\\isacc\\AppData\\Local\\Temp\\ipykernel_8952\\2906350691.py:61: SettingWithCopyWarning:\n",
      "\n",
      "\n",
      "A value is trying to be set on a copy of a slice from a DataFrame.\n",
      "Try using .loc[row_indexer,col_indexer] = value instead\n",
      "\n",
      "See the caveats in the documentation: https://pandas.pydata.org/pandas-docs/stable/user_guide/indexing.html#returning-a-view-versus-a-copy\n",
      "\n"
     ]
    },
    {
     "data": {
      "application/vnd.plotly.v1+json": {
       "config": {
        "plotlyServerURL": "https://plot.ly"
       },
       "data": [
        {
         "alignmentgroup": "True",
         "hovertemplate": "color=SPT130023W_time_bet_1_2<br>date=%{x}<br>time_=%{y}<extra></extra>",
         "legendgroup": "SPT130023W_time_bet_1_2",
         "marker": {
          "color": "darkblue",
          "pattern": {
           "shape": ""
          }
         },
         "name": "SPT130023W_time_bet_1_2",
         "offsetgroup": "SPT130023W_time_bet_1_2",
         "orientation": "v",
         "showlegend": true,
         "textposition": "auto",
         "type": "bar",
         "x": [
          "2023-10-10",
          "2023-10-11"
         ],
         "xaxis": "x",
         "y": [
          0.55,
          0.9166666666666666
         ],
         "yaxis": "y"
        },
        {
         "alignmentgroup": "True",
         "hovertemplate": "color=SPT130023W_time_bet_2_3<br>date=%{x}<br>time_=%{y}<extra></extra>",
         "legendgroup": "SPT130023W_time_bet_2_3",
         "marker": {
          "color": "dodgerblue",
          "pattern": {
           "shape": ""
          }
         },
         "name": "SPT130023W_time_bet_2_3",
         "offsetgroup": "SPT130023W_time_bet_2_3",
         "orientation": "v",
         "showlegend": true,
         "textposition": "auto",
         "type": "bar",
         "x": [
          "2023-10-10",
          "2023-10-11"
         ],
         "xaxis": "x",
         "y": [
          3.3333333333333335,
          3.975
         ],
         "yaxis": "y"
        },
        {
         "alignmentgroup": "True",
         "hovertemplate": "color=SPT130023W_time_bet_3_4<br>date=%{x}<br>time_=%{y}<extra></extra>",
         "legendgroup": "SPT130023W_time_bet_3_4",
         "marker": {
          "color": "lightskyblue",
          "pattern": {
           "shape": ""
          }
         },
         "name": "SPT130023W_time_bet_3_4",
         "offsetgroup": "SPT130023W_time_bet_3_4",
         "orientation": "v",
         "showlegend": true,
         "textposition": "auto",
         "type": "bar",
         "x": [
          "2023-10-10",
          "2023-10-11"
         ],
         "xaxis": "x",
         "y": [
          1.7333333333333334,
          1.6166666666666667
         ],
         "yaxis": "y"
        }
       ],
       "layout": {
        "barmode": "relative",
        "legend": {
         "title": {
          "text": "Time Bet"
         },
         "tracegroupgap": 0
        },
        "template": {
         "data": {
          "bar": [
           {
            "error_x": {
             "color": "#2a3f5f"
            },
            "error_y": {
             "color": "#2a3f5f"
            },
            "marker": {
             "line": {
              "color": "#E5ECF6",
              "width": 0.5
             },
             "pattern": {
              "fillmode": "overlay",
              "size": 10,
              "solidity": 0.2
             }
            },
            "type": "bar"
           }
          ],
          "barpolar": [
           {
            "marker": {
             "line": {
              "color": "#E5ECF6",
              "width": 0.5
             },
             "pattern": {
              "fillmode": "overlay",
              "size": 10,
              "solidity": 0.2
             }
            },
            "type": "barpolar"
           }
          ],
          "carpet": [
           {
            "aaxis": {
             "endlinecolor": "#2a3f5f",
             "gridcolor": "white",
             "linecolor": "white",
             "minorgridcolor": "white",
             "startlinecolor": "#2a3f5f"
            },
            "baxis": {
             "endlinecolor": "#2a3f5f",
             "gridcolor": "white",
             "linecolor": "white",
             "minorgridcolor": "white",
             "startlinecolor": "#2a3f5f"
            },
            "type": "carpet"
           }
          ],
          "choropleth": [
           {
            "colorbar": {
             "outlinewidth": 0,
             "ticks": ""
            },
            "type": "choropleth"
           }
          ],
          "contour": [
           {
            "colorbar": {
             "outlinewidth": 0,
             "ticks": ""
            },
            "colorscale": [
             [
              0,
              "#0d0887"
             ],
             [
              0.1111111111111111,
              "#46039f"
             ],
             [
              0.2222222222222222,
              "#7201a8"
             ],
             [
              0.3333333333333333,
              "#9c179e"
             ],
             [
              0.4444444444444444,
              "#bd3786"
             ],
             [
              0.5555555555555556,
              "#d8576b"
             ],
             [
              0.6666666666666666,
              "#ed7953"
             ],
             [
              0.7777777777777778,
              "#fb9f3a"
             ],
             [
              0.8888888888888888,
              "#fdca26"
             ],
             [
              1,
              "#f0f921"
             ]
            ],
            "type": "contour"
           }
          ],
          "contourcarpet": [
           {
            "colorbar": {
             "outlinewidth": 0,
             "ticks": ""
            },
            "type": "contourcarpet"
           }
          ],
          "heatmap": [
           {
            "colorbar": {
             "outlinewidth": 0,
             "ticks": ""
            },
            "colorscale": [
             [
              0,
              "#0d0887"
             ],
             [
              0.1111111111111111,
              "#46039f"
             ],
             [
              0.2222222222222222,
              "#7201a8"
             ],
             [
              0.3333333333333333,
              "#9c179e"
             ],
             [
              0.4444444444444444,
              "#bd3786"
             ],
             [
              0.5555555555555556,
              "#d8576b"
             ],
             [
              0.6666666666666666,
              "#ed7953"
             ],
             [
              0.7777777777777778,
              "#fb9f3a"
             ],
             [
              0.8888888888888888,
              "#fdca26"
             ],
             [
              1,
              "#f0f921"
             ]
            ],
            "type": "heatmap"
           }
          ],
          "heatmapgl": [
           {
            "colorbar": {
             "outlinewidth": 0,
             "ticks": ""
            },
            "colorscale": [
             [
              0,
              "#0d0887"
             ],
             [
              0.1111111111111111,
              "#46039f"
             ],
             [
              0.2222222222222222,
              "#7201a8"
             ],
             [
              0.3333333333333333,
              "#9c179e"
             ],
             [
              0.4444444444444444,
              "#bd3786"
             ],
             [
              0.5555555555555556,
              "#d8576b"
             ],
             [
              0.6666666666666666,
              "#ed7953"
             ],
             [
              0.7777777777777778,
              "#fb9f3a"
             ],
             [
              0.8888888888888888,
              "#fdca26"
             ],
             [
              1,
              "#f0f921"
             ]
            ],
            "type": "heatmapgl"
           }
          ],
          "histogram": [
           {
            "marker": {
             "pattern": {
              "fillmode": "overlay",
              "size": 10,
              "solidity": 0.2
             }
            },
            "type": "histogram"
           }
          ],
          "histogram2d": [
           {
            "colorbar": {
             "outlinewidth": 0,
             "ticks": ""
            },
            "colorscale": [
             [
              0,
              "#0d0887"
             ],
             [
              0.1111111111111111,
              "#46039f"
             ],
             [
              0.2222222222222222,
              "#7201a8"
             ],
             [
              0.3333333333333333,
              "#9c179e"
             ],
             [
              0.4444444444444444,
              "#bd3786"
             ],
             [
              0.5555555555555556,
              "#d8576b"
             ],
             [
              0.6666666666666666,
              "#ed7953"
             ],
             [
              0.7777777777777778,
              "#fb9f3a"
             ],
             [
              0.8888888888888888,
              "#fdca26"
             ],
             [
              1,
              "#f0f921"
             ]
            ],
            "type": "histogram2d"
           }
          ],
          "histogram2dcontour": [
           {
            "colorbar": {
             "outlinewidth": 0,
             "ticks": ""
            },
            "colorscale": [
             [
              0,
              "#0d0887"
             ],
             [
              0.1111111111111111,
              "#46039f"
             ],
             [
              0.2222222222222222,
              "#7201a8"
             ],
             [
              0.3333333333333333,
              "#9c179e"
             ],
             [
              0.4444444444444444,
              "#bd3786"
             ],
             [
              0.5555555555555556,
              "#d8576b"
             ],
             [
              0.6666666666666666,
              "#ed7953"
             ],
             [
              0.7777777777777778,
              "#fb9f3a"
             ],
             [
              0.8888888888888888,
              "#fdca26"
             ],
             [
              1,
              "#f0f921"
             ]
            ],
            "type": "histogram2dcontour"
           }
          ],
          "mesh3d": [
           {
            "colorbar": {
             "outlinewidth": 0,
             "ticks": ""
            },
            "type": "mesh3d"
           }
          ],
          "parcoords": [
           {
            "line": {
             "colorbar": {
              "outlinewidth": 0,
              "ticks": ""
             }
            },
            "type": "parcoords"
           }
          ],
          "pie": [
           {
            "automargin": true,
            "type": "pie"
           }
          ],
          "scatter": [
           {
            "fillpattern": {
             "fillmode": "overlay",
             "size": 10,
             "solidity": 0.2
            },
            "type": "scatter"
           }
          ],
          "scatter3d": [
           {
            "line": {
             "colorbar": {
              "outlinewidth": 0,
              "ticks": ""
             }
            },
            "marker": {
             "colorbar": {
              "outlinewidth": 0,
              "ticks": ""
             }
            },
            "type": "scatter3d"
           }
          ],
          "scattercarpet": [
           {
            "marker": {
             "colorbar": {
              "outlinewidth": 0,
              "ticks": ""
             }
            },
            "type": "scattercarpet"
           }
          ],
          "scattergeo": [
           {
            "marker": {
             "colorbar": {
              "outlinewidth": 0,
              "ticks": ""
             }
            },
            "type": "scattergeo"
           }
          ],
          "scattergl": [
           {
            "marker": {
             "colorbar": {
              "outlinewidth": 0,
              "ticks": ""
             }
            },
            "type": "scattergl"
           }
          ],
          "scattermapbox": [
           {
            "marker": {
             "colorbar": {
              "outlinewidth": 0,
              "ticks": ""
             }
            },
            "type": "scattermapbox"
           }
          ],
          "scatterpolar": [
           {
            "marker": {
             "colorbar": {
              "outlinewidth": 0,
              "ticks": ""
             }
            },
            "type": "scatterpolar"
           }
          ],
          "scatterpolargl": [
           {
            "marker": {
             "colorbar": {
              "outlinewidth": 0,
              "ticks": ""
             }
            },
            "type": "scatterpolargl"
           }
          ],
          "scatterternary": [
           {
            "marker": {
             "colorbar": {
              "outlinewidth": 0,
              "ticks": ""
             }
            },
            "type": "scatterternary"
           }
          ],
          "surface": [
           {
            "colorbar": {
             "outlinewidth": 0,
             "ticks": ""
            },
            "colorscale": [
             [
              0,
              "#0d0887"
             ],
             [
              0.1111111111111111,
              "#46039f"
             ],
             [
              0.2222222222222222,
              "#7201a8"
             ],
             [
              0.3333333333333333,
              "#9c179e"
             ],
             [
              0.4444444444444444,
              "#bd3786"
             ],
             [
              0.5555555555555556,
              "#d8576b"
             ],
             [
              0.6666666666666666,
              "#ed7953"
             ],
             [
              0.7777777777777778,
              "#fb9f3a"
             ],
             [
              0.8888888888888888,
              "#fdca26"
             ],
             [
              1,
              "#f0f921"
             ]
            ],
            "type": "surface"
           }
          ],
          "table": [
           {
            "cells": {
             "fill": {
              "color": "#EBF0F8"
             },
             "line": {
              "color": "white"
             }
            },
            "header": {
             "fill": {
              "color": "#C8D4E3"
             },
             "line": {
              "color": "white"
             }
            },
            "type": "table"
           }
          ]
         },
         "layout": {
          "annotationdefaults": {
           "arrowcolor": "#2a3f5f",
           "arrowhead": 0,
           "arrowwidth": 1
          },
          "autotypenumbers": "strict",
          "coloraxis": {
           "colorbar": {
            "outlinewidth": 0,
            "ticks": ""
           }
          },
          "colorscale": {
           "diverging": [
            [
             0,
             "#8e0152"
            ],
            [
             0.1,
             "#c51b7d"
            ],
            [
             0.2,
             "#de77ae"
            ],
            [
             0.3,
             "#f1b6da"
            ],
            [
             0.4,
             "#fde0ef"
            ],
            [
             0.5,
             "#f7f7f7"
            ],
            [
             0.6,
             "#e6f5d0"
            ],
            [
             0.7,
             "#b8e186"
            ],
            [
             0.8,
             "#7fbc41"
            ],
            [
             0.9,
             "#4d9221"
            ],
            [
             1,
             "#276419"
            ]
           ],
           "sequential": [
            [
             0,
             "#0d0887"
            ],
            [
             0.1111111111111111,
             "#46039f"
            ],
            [
             0.2222222222222222,
             "#7201a8"
            ],
            [
             0.3333333333333333,
             "#9c179e"
            ],
            [
             0.4444444444444444,
             "#bd3786"
            ],
            [
             0.5555555555555556,
             "#d8576b"
            ],
            [
             0.6666666666666666,
             "#ed7953"
            ],
            [
             0.7777777777777778,
             "#fb9f3a"
            ],
            [
             0.8888888888888888,
             "#fdca26"
            ],
            [
             1,
             "#f0f921"
            ]
           ],
           "sequentialminus": [
            [
             0,
             "#0d0887"
            ],
            [
             0.1111111111111111,
             "#46039f"
            ],
            [
             0.2222222222222222,
             "#7201a8"
            ],
            [
             0.3333333333333333,
             "#9c179e"
            ],
            [
             0.4444444444444444,
             "#bd3786"
            ],
            [
             0.5555555555555556,
             "#d8576b"
            ],
            [
             0.6666666666666666,
             "#ed7953"
            ],
            [
             0.7777777777777778,
             "#fb9f3a"
            ],
            [
             0.8888888888888888,
             "#fdca26"
            ],
            [
             1,
             "#f0f921"
            ]
           ]
          },
          "colorway": [
           "#636efa",
           "#EF553B",
           "#00cc96",
           "#ab63fa",
           "#FFA15A",
           "#19d3f3",
           "#FF6692",
           "#B6E880",
           "#FF97FF",
           "#FECB52"
          ],
          "font": {
           "color": "#2a3f5f"
          },
          "geo": {
           "bgcolor": "white",
           "lakecolor": "white",
           "landcolor": "#E5ECF6",
           "showlakes": true,
           "showland": true,
           "subunitcolor": "white"
          },
          "hoverlabel": {
           "align": "left"
          },
          "hovermode": "closest",
          "mapbox": {
           "style": "light"
          },
          "paper_bgcolor": "white",
          "plot_bgcolor": "#E5ECF6",
          "polar": {
           "angularaxis": {
            "gridcolor": "white",
            "linecolor": "white",
            "ticks": ""
           },
           "bgcolor": "#E5ECF6",
           "radialaxis": {
            "gridcolor": "white",
            "linecolor": "white",
            "ticks": ""
           }
          },
          "scene": {
           "xaxis": {
            "backgroundcolor": "#E5ECF6",
            "gridcolor": "white",
            "gridwidth": 2,
            "linecolor": "white",
            "showbackground": true,
            "ticks": "",
            "zerolinecolor": "white"
           },
           "yaxis": {
            "backgroundcolor": "#E5ECF6",
            "gridcolor": "white",
            "gridwidth": 2,
            "linecolor": "white",
            "showbackground": true,
            "ticks": "",
            "zerolinecolor": "white"
           },
           "zaxis": {
            "backgroundcolor": "#E5ECF6",
            "gridcolor": "white",
            "gridwidth": 2,
            "linecolor": "white",
            "showbackground": true,
            "ticks": "",
            "zerolinecolor": "white"
           }
          },
          "shapedefaults": {
           "line": {
            "color": "#2a3f5f"
           }
          },
          "ternary": {
           "aaxis": {
            "gridcolor": "white",
            "linecolor": "white",
            "ticks": ""
           },
           "baxis": {
            "gridcolor": "white",
            "linecolor": "white",
            "ticks": ""
           },
           "bgcolor": "#E5ECF6",
           "caxis": {
            "gridcolor": "white",
            "linecolor": "white",
            "ticks": ""
           }
          },
          "title": {
           "x": 0.05
          },
          "xaxis": {
           "automargin": true,
           "gridcolor": "white",
           "linecolor": "white",
           "ticks": "",
           "title": {
            "standoff": 15
           },
           "zerolinecolor": "white",
           "zerolinewidth": 2
          },
          "yaxis": {
           "automargin": true,
           "gridcolor": "white",
           "linecolor": "white",
           "ticks": "",
           "title": {
            "standoff": 15
           },
           "zerolinecolor": "white",
           "zerolinewidth": 2
          }
         }
        },
        "title": {
         "text": "Time per process for Model: SPT130023W"
        },
        "xaxis": {
         "anchor": "y",
         "domain": [
          0,
          1
         ],
         "range": [
          "2023-09-24T00:00:00",
          "2023-10-12T00:00:00"
         ],
         "title": {
          "text": "Date"
         }
        },
        "yaxis": {
         "anchor": "x",
         "domain": [
          0,
          1
         ],
         "title": {
          "text": "Time per station (minutes)"
         }
        }
       }
      }
     },
     "metadata": {},
     "output_type": "display_data"
    }
   ],
   "source": [
    "\n",
    "def plot_time_in_station_days(df):\n",
    "    display(df)\n",
    "    \n",
    "    color_discrete_map_ = {\"SPT130023W\": 'dodgerblue',\n",
    "                          \"SPT120018W\": 'red',\n",
    "                          \"ORIONT-40\": 'limegreen', \n",
    "                          \"OCTAN-40\": 'mediumorchid'\n",
    "                          }\n",
    "\n",
    "\n",
    "    # Create a bar plot for each model\n",
    "    df['med_total_time_'] = df['med_total_time']/60\n",
    "    #df['med_total_time'] = df['med_total_time'].astype(int)\n",
    "    fig = px.bar(df, x='date', y='med_total_time_', \n",
    "                 color='model', \n",
    "                 color_discrete_map = color_discrete_map_,\n",
    "                 barmode='group')\n",
    "\n",
    "    # Update layout for better visualization\n",
    "\n",
    "    fig.update_layout(\n",
    "        title='Median Total Time by Model',\n",
    "        xaxis_title='Date',\n",
    "        yaxis_title='Median Total Time (minutes)',\n",
    "        legend_title='Model',\n",
    "        barmode='group'\n",
    "    )\n",
    "\n",
    "    # Show the plot\n",
    "    fig.show()\n",
    "\n",
    "    melted_df = pd.melt(df, id_vars=['date','model','med_total_time'], value_vars=['time_bet_1_2','time_bet_2_3','time_bet_3_4'],var_name='time_bet', value_name='time')    \n",
    "    melted_df['color'] = melted_df['model'] + '_' + melted_df['time_bet']\n",
    "    color_discrete_map = {\"SPT130023W_time_bet_1_2\": 'darkblue',\n",
    "                          \"SPT130023W_time_bet_2_3\": 'dodgerblue', \n",
    "                          \"SPT130023W_time_bet_3_4\": 'lightskyblue',\n",
    "                          #\"HAMLET-49_time_bet_1_2\": 'darkblue',\n",
    "\n",
    "                          \"SPT120018W_time_bet_1_2\": 'maroon',\n",
    "                          \"SPT120018W_time_bet_2_3\":'red',\n",
    "                          \"SPT120018W_time_bet_3_4\": 'lightcoral',\n",
    "                          #\"ORIONT-40_time_bet_1_2\": 'forestgreen',\n",
    "                          #\"ORIONT-40_time_bet_2_3\": 'limegreen', \n",
    "                          #\"ORIONT-40_time_bet_3_4\": 'lightgreen',\n",
    "                            \n",
    "                          #\"ORIONT-40_time_bet_1_2\": 'forestgreen',\n",
    "                          #\"ORIONT-40_time_bet_2_3\": 'limegreen', \n",
    "                          #\"ORIONT-40_time_bet_3_4\": 'lightgreen',\n",
    "                          \n",
    "                          \"OCTAN-40_time_bet_1_2\": 'indigo',\n",
    "                          \"OCTAN-40_time_bet_2_3\": 'mediumorchid', \n",
    "                          \"OCTAN-40_time_bet_3_4\": 'plum',}\n",
    "\n",
    "\n",
    "\n",
    "    #model\ttime_bet_1_2, time_bet_2_3, time_bet_3_4, med_total_time, date\n",
    "    \n",
    "    for model in melted_df['model'].unique():\n",
    "        df_model = melted_df[melted_df['model'] == model]\n",
    "\n",
    "        df_model.loc[:,'time_'] = df_model['time']/60\n",
    "        print(\"yo\")\n",
    "        #df_model['time'] = df_model['time'].astype(int)\n",
    "        # Create a bar plot for the current model\n",
    "        fig4 = px.bar(df_model, x='date', y='time_', \n",
    "                    color='color',\n",
    "                    labels={'time': 'Time'},\n",
    "                    color_discrete_map = color_discrete_map,\n",
    "                    title=f'Time per process for Model: {model}')\n",
    "\n",
    "\n",
    "        #\n",
    "        fig4.update_xaxes(range=[start_date - pd.Timedelta(days = 1), end_date + pd.Timedelta(days = 1)])  # Set your desired date range\n",
    "\n",
    "\n",
    "        # Update layout for better visualization\n",
    "        fig4.update_layout(\n",
    "            xaxis_title='Date',\n",
    "            yaxis_title='Time per station (minutes)',\n",
    "            legend_title='Time Bet',\n",
    "        )\n",
    "\n",
    "        # Show the plot\n",
    "        fig4.show()\n",
    "\n",
    "\n",
    "plot_time_in_station_days(df_all_med)\n"
   ]
  }
 ],
 "metadata": {
  "kernelspec": {
   "display_name": "base",
   "language": "python",
   "name": "python3"
  },
  "language_info": {
   "codemirror_mode": {
    "name": "ipython",
    "version": 3
   },
   "file_extension": ".py",
   "mimetype": "text/x-python",
   "name": "python",
   "nbconvert_exporter": "python",
   "pygments_lexer": "ipython3",
   "version": "3.11.4"
  },
  "orig_nbformat": 4
 },
 "nbformat": 4,
 "nbformat_minor": 2
}
