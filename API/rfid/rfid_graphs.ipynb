{
 "cells": [
  {
   "cell_type": "code",
   "execution_count": 68,
   "metadata": {},
   "outputs": [],
   "source": [
    "import plotly.express as px\n",
    "import os\n",
    "import pandas as pd\n",
    "import numpy as np\n",
    "import plotly.graph_objects as go\n",
    "\n",
    "#import csv\n",
    "pd.set_option('display.max_rows', None)  # Display all rows\n"
   ]
  },
  {
   "cell_type": "code",
   "execution_count": 69,
   "metadata": {},
   "outputs": [],
   "source": [
    "if not os.path.exists(\"images\"):\n",
    "    os.mkdir(\"images\")\n",
    "\n",
    "day = \"25\"\n",
    "month = \"09\"\n",
    "dataset = \"rfid\"\n",
    "\n",
    "date = day + \"_\" + month #change date accordingly\n",
    "date_year = \"2023-\" + month + \"-\" + day\n",
    "\n",
    "folder_path = dataset + '_' + date + '/'\n",
    "\n",
    "\n",
    "def process_file(file_number, date):\n",
    "    file_path = os.path.join(folder_path, f'rfid_{date}_{file_number}.csv')\n",
    "\n",
    "    if file_number == \"final\":\n",
    "        df = pd.read_csv(file_path, parse_dates=['Stamp'])\n",
    "        if df.shape[1] == 4:\n",
    "            df = df.drop(df.columns[3], axis=1)\n",
    "            df = df.drop(df.columns[1], axis=1)\n",
    "\n",
    "    else:\n",
    "        df = pd.read_csv(file_path, parse_dates=['ts'])\n",
    "\n",
    "        # Remove first empty column if it exists\n",
    "        if df.shape[1] == 3:\n",
    "            df = df.drop(df.columns[0], axis=1)\n",
    "        # Remove entries with 'gabarit' equal to 0\n",
    "        df= df[df['gabarit'] != 0]\n",
    "\n",
    "        # Write the updated DataFrame back to the CSV file\n",
    "        df.to_csv(file_path, index = False)\n",
    "        # Reset the index of the DataFrame\n",
    "        df = df.reset_index(drop = True)\n",
    "\n",
    "    return df\n",
    "\n",
    "df1 = process_file(\"1\",date)\n",
    "df2 = process_file(\"2\",date)\n",
    "df3 = process_file(\"3\",date)\n",
    "df4 = process_file(\"final\",date)\n",
    "\n"
   ]
  },
  {
   "cell_type": "code",
   "execution_count": 70,
   "metadata": {},
   "outputs": [],
   "source": [
    "\n",
    "def time_in_station_fun(df):\n",
    "    \"\"\"\n",
    "    Calculates and records the time spent in a station for each occurrence of a 'gabarit' in a DataFrame in seconds.\n",
    "\n",
    "    Parameters:\n",
    "        - df: DataFrame containing timestamps and 'gabarit' values.\n",
    "\n",
    "    Returns:\n",
    "        DataFrame with an added 'time_in_station' column representing the time\n",
    "        spent in the station for each occurrence (in seconds).\n",
    "    \"\"\"\n",
    "    \n",
    "    curr_gabarit = 0\n",
    "    index_i = 0  # Initialize index_i outside the loop\n",
    "    index_f = 0  # Initialize index_f outside the loop\n",
    "    cnt = 0\n",
    "    df_in = pd.DataFrame(columns=['ts', 'gabarit', 'time_in_station'])\n",
    "    #df_in['ts'] = pd.to_datetime(df['ts'])\n",
    "\n",
    "    for i in range(df.shape[0]): #0 to 129\n",
    "        if i != 0: # not first index\n",
    "            if ((df.loc[i, 'gabarit'] != curr_gabarit)):\n",
    "                # routine to present final result\n",
    "                df_in, cnt = calc_time_in_station(df, df_in, index_i, index_f, cnt)\n",
    "            \n",
    "          \n",
    "            # new gabarit is found, i = f\n",
    "            if df.loc[i, 'gabarit'] != df.loc[i-1, 'gabarit']:\n",
    "                curr_gabarit = df.loc[i, 'gabarit']\n",
    "                index_i = i # starts the interval\n",
    "                index_f = i\n",
    "        else: # for first entry, i = f\n",
    "            curr_gabarit = df.loc[i, 'gabarit']\n",
    "            index_i = i\n",
    "            index_f = i\n",
    "\n",
    "        \n",
    "        if i != df.shape[0] - 1: # not last index \n",
    "            if df.loc[i, 'gabarit'] == df.loc[i+1, 'gabarit']:\n",
    "                index_f = i+1\n",
    "        else:\n",
    "            index_f = i           \n",
    "            df_in, cnt = calc_time_in_station(df, df_in, index_i, index_f, cnt)\n",
    "\n",
    "    return df_in\n",
    "\n",
    "\n",
    "# calculates time and writes it in dataframe\n",
    "def calc_time_in_station(df, df_in, index_i, index_f, cnt):\n",
    "    if index_f - index_i == 0:\n",
    "        time_in_station = 1\n",
    "    else: \n",
    "        time_in_station = ((df.loc[index_f, 'ts'] - df.loc[index_i, 'ts']).total_seconds() + 1)\n",
    "\n",
    "    #print(f\"time_in_station is {time_in_station}\")\n",
    "    df_in.loc[cnt,'ts'] = df.loc[index_i, 'ts']\n",
    "    df_in.loc[cnt,'gabarit'] = df.loc[index_i, 'gabarit']\n",
    "    df_in.loc[cnt,'time_in_station'] = time_in_station\n",
    "\n",
    "    #df.loc[index_f, 'time_in_station'] = round(time_in_station,2)\n",
    "    cnt += 1\n",
    "\n",
    "    return df_in, cnt\n",
    "\n",
    "\n",
    "def plot_time_in_station(df, station):\n",
    "    df = df[df['time_in_station'] != 0]\n",
    "    # Create a scatter plot using Plotly Express\n",
    "    if station == 1:\n",
    "        title_plot_var = 'Begginning of Stage 3'\n",
    "    elif station == 2:\n",
    "        title_plot_var = 'End of Stage 3'\n",
    "    elif station == 3:\n",
    "        title_plot_var = 'Begginning of Stage 7'\n",
    "\n",
    "    title_plot = 'Plot of Time in ' + title_plot_var + ' over Time'\n",
    "\n",
    "    ts_values = np.array(df['ts'])\n",
    "    df['time_in_station'] = df['time_in_station'] / 60\n",
    "\n",
    "    # Create a scatter plot using go.Scatter\n",
    "    scatter = go.Scatter(x=ts_values, y=df['time_in_station'], mode='markers', \n",
    "                        name='Scatter Plot', marker=dict(color='blue'))\n",
    "\n",
    "    # Create a layout\n",
    "    layout = go.Layout(\n",
    "        title=title_plot,\n",
    "        xaxis=dict(title='Timestamp', range=[date_year + ' 09:00:00', date_year + ' 18:00:00']),  # Set the range for the x-axis\n",
    "        yaxis=dict(title='Time in Station', range=[-0.2, 3])  # Set the range for the y-axis\n",
    "    )\n",
    "\n",
    "    # Create a figure and add the scatter trace\n",
    "    fig = go.Figure(data=[scatter], layout=layout)\n",
    "\n",
    "    # Show the plot\n",
    "    fig.show()\n",
    "    fig.write_image(\"images/fig_\" + dataset + \"_\" + day + \"_\" + month + \"_\" + str(station) + \".svg\")\n",
    "\n"
   ]
  },
  {
   "cell_type": "code",
   "execution_count": 71,
   "metadata": {},
   "outputs": [],
   "source": [
    "def remove_outliers(df, max_time):\n",
    "    # Ensure the column 'time_in_station' exists\n",
    "    if 'time_in_station' not in df.columns:\n",
    "        print(\"Error: 'time_in_station' column not found.\")\n",
    "        return df\n",
    "    \n",
    "    \n",
    "\n",
    "    # Remove rows where 'time_in_station' is greater than 5 minutes\n",
    "    df = df[df['time_in_station'] <= max_time / 60]\n",
    "\n",
    "    return df"
   ]
  },
  {
   "cell_type": "code",
   "execution_count": 72,
   "metadata": {},
   "outputs": [],
   "source": [
    "plot = 0\n",
    "display_df = 0\n",
    "\n",
    "df_in_1 = time_in_station_fun(df1)\n",
    "df_in_2 = time_in_station_fun(df2)\n",
    "df_in_3 = time_in_station_fun(df3)\n",
    "\n",
    "if display_df:\n",
    "    display(df_in_1)\n",
    "    display(df_in_2)\n",
    "    display(df_in_3)\n",
    "\n",
    "if plot:\n",
    "    plot_time_in_station(df_in_1,1)\n",
    "    plot_time_in_station(df_in_2,2)\n",
    "    plot_time_in_station(df_in_3,3)\n",
    "\n"
   ]
  },
  {
   "cell_type": "code",
   "execution_count": 73,
   "metadata": {},
   "outputs": [
    {
     "name": "stderr",
     "output_type": "stream",
     "text": [
      "C:\\Users\\isacc\\AppData\\Local\\Temp\\ipykernel_18288\\131695183.py:92: FutureWarning:\n",
      "\n",
      "Setting an item of incompatible dtype is deprecated and will raise in a future error of pandas. Value 'HAMLET-49' has dtype incompatible with float64, please explicitly cast to a compatible dtype first.\n",
      "\n"
     ]
    }
   ],
   "source": [
    "\n",
    "\n",
    "def time_between_station(df1, df2, station1, station2, max_time):\n",
    "    \"\"\"\n",
    "    Finds and records the time difference between occurrences of the same 'gabarit' in two DataFrames,\n",
    "    df1 and df2, within a specified time window.\n",
    "\n",
    "    Parameters:\n",
    "        - df1: DataFrame containing timestamps and 'gabarit' values for station1.\n",
    "        - df2: DataFrame containing timestamps and 'gabarit' values for station2.\n",
    "        - station1: Identifier for the first station.\n",
    "        - station2: Identifier for the second station.\n",
    "        - max_time: Maximum time window to search for matching occurrences (in minutes).\n",
    "    \n",
    "    Returns:\n",
    "        DataFrame with columns 'gabarit', 'ts' (timestamp), and 'time_bet_station1_station2'\n",
    "        representing the time difference (in minutes) between corresponding occurrences in\n",
    "        station1 and station2 within the specified time window.\n",
    "    \"\"\"\n",
    "    \n",
    "    df_bet = pd.DataFrame(columns=['gabarit', f'time_bet_{station1}_{station2}'])\n",
    "    df_bet['ts'] = pd.NaT  # initialize as datetime type\n",
    "\n",
    " \n",
    "    if (station1 != 3 and station2 != 4): ##1 2 or 2 3 \n",
    "        column_order = ['ts', 'gabarit', f'time_bet_{station1}_{station2}']\n",
    "        df_bet = df_bet[column_order]\n",
    "        df_bet = find_matching_gabarit(df1, df2, station1, station2, max_time, df_bet)\n",
    "    else:\n",
    "        df_bet['model'] = np.nan\n",
    "        column_order = ['ts', 'gabarit', 'model', f'time_bet_{station1}_{station2}']\n",
    "        df_bet = df_bet[column_order]\n",
    "        df_bet = find_matching_gabarit_final(df1, df2, df_bet)\n",
    "\n",
    "    return df_bet\n",
    "\n",
    "\n",
    "def find_matching_gabarit(df1,df2,station1, station2, max_time, df_bet):\n",
    "\n",
    "    cnt = 0\n",
    "            \n",
    "    for index in range(df1.shape[0]):\n",
    "        start_time = df1.loc[index, 'ts']\n",
    "        end_time = start_time + pd.Timedelta(minutes=max_time)\n",
    "        matching_rows = df2[(df2['ts'] >= start_time) & \n",
    "                            (df2['ts'] <= end_time) \n",
    "                                & (df2['gabarit'] == df1.loc[index,'gabarit'])]\n",
    "        if not matching_rows.empty:\n",
    "            first_occurrence = matching_rows.iloc[0]\n",
    "            \n",
    "            # df1: initial time stamp, time_in_station_1\n",
    "            # df2: initial time stamp, time_in_station_2\n",
    "            if (station1 == 1 and station2 == 2):\n",
    "                time_bet = (first_occurrence['time_in_station'] +\n",
    "                        (first_occurrence['ts'] - df1.loc[index, 'ts']).total_seconds()) # in seconds\n",
    "            else:\n",
    "                time_bet = ((first_occurrence['ts'] - df1.loc[index, 'ts'] # in seconds\n",
    "                            - pd.Timedelta(seconds = df1.loc[index, 'time_in_station'])).total_seconds())\n",
    "\n",
    "                #df1: 10:06:00 17\n",
    "                #     10:07:30 17\n",
    "                #df2: 10:07:10 17\n",
    "            #    time_bet = (df1.loc[index, 'time_in_station'] + first_occurrence['time_in_station'])\n",
    "\n",
    "            df_bet.loc[cnt, 'ts'] = df1.loc[index, 'ts']  # Copy the timestamp for reference\n",
    "            df_bet.loc[cnt, 'gabarit'] = first_occurrence['gabarit']\n",
    "            df_bet.loc[cnt, f'time_bet_{station1}_{station2}'] = time_bet #round,2\n",
    "            cnt += 1\n",
    "        \n",
    "    return df_bet\n",
    "\n",
    "def find_matching_gabarit_final(df1, df2, df_bet):\n",
    "\n",
    "    cnt = 0\n",
    "            \n",
    "    for index in range(df1.shape[0]):\n",
    "        start_time = (df1.loc[index, 'ts'] + pd.Timedelta(seconds = df1.loc[index, 'time_in_station'])\n",
    "                      + pd.Timedelta(seconds=20)) # not possible to have a test that takes less than 20 seconds\n",
    "        matching_rows = df2[(df2['Stamp'] >= start_time)]\n",
    "\n",
    "\n",
    "        if not matching_rows.empty:\n",
    "            first_occurrence = matching_rows.iloc[0]\n",
    "            \n",
    "            # df1: initial time stamp, time_in_station_1\n",
    "            # df2: initial time stamp, time_in_station_2\n",
    "            time_bet = ((first_occurrence['Stamp'] - df1.loc[index, 'ts']).total_seconds()) # in minutes\n",
    "\n",
    "            df_bet.loc[cnt, 'ts'] = df1.loc[index, 'ts']  # Copy the timestamp for reference\n",
    "            df_bet.loc[cnt, 'gabarit'] = df1.loc[index,'gabarit']\n",
    "            #print(cnt)\n",
    "            #print(type(first_occurrence['Model']))\n",
    "            #print(first_occurrence['Model'])\n",
    "            df_bet.loc[cnt, 'model'] = str(first_occurrence['Model'])\n",
    "            df_bet.loc[cnt, f'time_bet_3_4'] = time_bet\n",
    "            cnt += 1\n",
    "        \n",
    "    return df_bet\n",
    "\n",
    "\n",
    "\n",
    "display_df_ = 0\n",
    "\n",
    "df_bet_12 = time_between_station(df_in_1, df_in_2, 1, 2, max_time = 10)\n",
    "df_bet_23 = time_between_station(df_in_2, df_in_3, 2, 3, max_time = 20)\n",
    "df_bet_34 = time_between_station(df_in_3, df4, 3, 4, max_time = 0)\n",
    "\n",
    "if display_df_:\n",
    "    display(df_bet_12)\n",
    "    display(df_bet_23)\n",
    "    display(df_bet_34)\n",
    "\n",
    "\n",
    "\n"
   ]
  },
  {
   "cell_type": "code",
   "execution_count": 79,
   "metadata": {},
   "outputs": [
    {
     "name": "stdout",
     "output_type": "stream",
     "text": [
      "Percentage of gabarits scanned in all sensors: 7.52%\n"
     ]
    },
    {
     "name": "stderr",
     "output_type": "stream",
     "text": [
      "c:\\Users\\isacc\\miniconda3\\Lib\\site-packages\\_plotly_utils\\basevalidators.py:105: FutureWarning:\n",
      "\n",
      "The behavior of DatetimeProperties.to_pydatetime is deprecated, in a future version this will return a Series containing python datetime objects instead of an ndarray. To retain the old behavior, call `np.array` on the result\n",
      "\n"
     ]
    },
    {
     "data": {
      "application/vnd.plotly.v1+json": {
       "config": {
        "plotlyServerURL": "https://plot.ly"
       },
       "data": [
        {
         "alignmentgroup": "True",
         "hovertemplate": "color=HAMLET-49_time_bet_1_2<br>Timestamp=%{x}<br>Time (minutes)=%{y}<extra></extra>",
         "legendgroup": "HAMLET-49_time_bet_1_2",
         "marker": {
          "color": "darkblue",
          "pattern": {
           "shape": ""
          }
         },
         "name": "HAMLET-49_time_bet_1_2",
         "offsetgroup": "HAMLET-49_time_bet_1_2",
         "orientation": "v",
         "showlegend": true,
         "textposition": "auto",
         "type": "bar",
         "x": [
          "2023-09-25T10:15:26",
          "2023-09-25T10:16:52",
          "2023-09-25T10:18:18",
          "2023-09-25T10:51:09",
          "2023-09-25T11:17:13",
          "2023-09-25T12:34:00",
          "2023-09-25T12:36:42",
          "2023-09-25T14:14:55",
          "2023-09-25T14:16:34",
          "2023-09-25T14:19:32",
          "2023-09-25T14:28:48",
          "2023-09-25T14:47:15"
         ],
         "xaxis": "x",
         "y": [
          0.48,
          0.2,
          0.05,
          0.08,
          0.03,
          0.03,
          0.05,
          0.28,
          0.07,
          1.43,
          0.22,
          4.43
         ],
         "yaxis": "y"
        },
        {
         "alignmentgroup": "True",
         "hovertemplate": "color=SPT120018W_time_bet_1_2<br>Timestamp=%{x}<br>Time (minutes)=%{y}<extra></extra>",
         "legendgroup": "SPT120018W_time_bet_1_2",
         "marker": {
          "color": "maroon",
          "pattern": {
           "shape": ""
          }
         },
         "name": "SPT120018W_time_bet_1_2",
         "offsetgroup": "SPT120018W_time_bet_1_2",
         "orientation": "v",
         "showlegend": true,
         "textposition": "auto",
         "type": "bar",
         "x": [
          "2023-09-25T10:20:25",
          "2023-09-25T10:53:57",
          "2023-09-25T10:58:22",
          "2023-09-25T11:10:51",
          "2023-09-25T11:12:06",
          "2023-09-25T11:18:40",
          "2023-09-25T11:28:44",
          "2023-09-25T11:29:18",
          "2023-09-25T11:33:40",
          "2023-09-25T11:42:18",
          "2023-09-25T11:46:46",
          "2023-09-25T11:49:22",
          "2023-09-25T11:55:54",
          "2023-09-25T12:01:14",
          "2023-09-25T12:07:21",
          "2023-09-25T12:10:45",
          "2023-09-25T12:14:17",
          "2023-09-25T12:42:32",
          "2023-09-25T14:13:40",
          "2023-09-25T14:22:10",
          "2023-09-25T14:52:07",
          "2023-09-25T15:04:28"
         ],
         "xaxis": "x",
         "y": [
          1.35,
          0.68,
          0.93,
          0.08,
          0.08,
          0.05,
          0.15,
          0.05,
          0.05,
          0.45,
          0.08,
          0.27,
          1.75,
          0.05,
          1.58,
          0.05,
          0.6,
          0.12,
          0.05,
          0.1,
          1.07,
          0.12
         ],
         "yaxis": "y"
        },
        {
         "alignmentgroup": "True",
         "hovertemplate": "color=HAMLET-49_time_bet_2_3<br>Timestamp=%{x}<br>Time (minutes)=%{y}<extra></extra>",
         "legendgroup": "HAMLET-49_time_bet_2_3",
         "marker": {
          "color": "cornflowerblue",
          "pattern": {
           "shape": ""
          }
         },
         "name": "HAMLET-49_time_bet_2_3",
         "offsetgroup": "HAMLET-49_time_bet_2_3",
         "orientation": "v",
         "showlegend": true,
         "textposition": "auto",
         "type": "bar",
         "x": [
          "2023-09-25T10:15:26",
          "2023-09-25T10:16:52",
          "2023-09-25T10:18:18",
          "2023-09-25T10:51:09",
          "2023-09-25T11:17:13",
          "2023-09-25T12:34:00",
          "2023-09-25T12:36:42",
          "2023-09-25T14:14:55",
          "2023-09-25T14:16:34",
          "2023-09-25T14:19:32",
          "2023-09-25T14:28:48",
          "2023-09-25T14:47:15"
         ],
         "xaxis": "x",
         "y": [
          2.58,
          3.43,
          4.22,
          3.23,
          3.43,
          2.8,
          3.65,
          4.63,
          18.9,
          4.32,
          2.05,
          3
         ],
         "yaxis": "y"
        },
        {
         "alignmentgroup": "True",
         "hovertemplate": "color=SPT120018W_time_bet_2_3<br>Timestamp=%{x}<br>Time (minutes)=%{y}<extra></extra>",
         "legendgroup": "SPT120018W_time_bet_2_3",
         "marker": {
          "color": "red",
          "pattern": {
           "shape": ""
          }
         },
         "name": "SPT120018W_time_bet_2_3",
         "offsetgroup": "SPT120018W_time_bet_2_3",
         "orientation": "v",
         "showlegend": true,
         "textposition": "auto",
         "type": "bar",
         "x": [
          "2023-09-25T10:20:25",
          "2023-09-25T10:53:57",
          "2023-09-25T10:58:22",
          "2023-09-25T11:10:51",
          "2023-09-25T11:12:06",
          "2023-09-25T11:18:40",
          "2023-09-25T11:28:44",
          "2023-09-25T11:29:18",
          "2023-09-25T11:33:40",
          "2023-09-25T11:42:18",
          "2023-09-25T11:46:46",
          "2023-09-25T11:49:22",
          "2023-09-25T11:55:54",
          "2023-09-25T12:01:14",
          "2023-09-25T12:07:21",
          "2023-09-25T12:10:45",
          "2023-09-25T12:14:17",
          "2023-09-25T12:42:32",
          "2023-09-25T14:13:40",
          "2023-09-25T14:22:10",
          "2023-09-25T14:52:07",
          "2023-09-25T15:04:28"
         ],
         "xaxis": "x",
         "y": [
          5.08,
          4.63,
          3.02,
          3.28,
          4.45,
          4.68,
          2.37,
          3.65,
          3.18,
          5.03,
          3.47,
          3.95,
          19.43,
          18.32,
          6.1,
          6.28,
          4.72,
          2.95,
          3.67,
          4.28,
          3.45,
          2.45
         ],
         "yaxis": "y"
        },
        {
         "alignmentgroup": "True",
         "hovertemplate": "color=HAMLET-49_time_bet_3_4<br>Timestamp=%{x}<br>Time (minutes)=%{y}<extra></extra>",
         "legendgroup": "HAMLET-49_time_bet_3_4",
         "marker": {
          "color": "lightblue",
          "pattern": {
           "shape": ""
          }
         },
         "name": "HAMLET-49_time_bet_3_4",
         "offsetgroup": "HAMLET-49_time_bet_3_4",
         "orientation": "v",
         "showlegend": true,
         "textposition": "auto",
         "type": "bar",
         "x": [
          "2023-09-25T10:15:26",
          "2023-09-25T10:16:52",
          "2023-09-25T10:18:18",
          "2023-09-25T10:51:09",
          "2023-09-25T11:17:13",
          "2023-09-25T12:34:00",
          "2023-09-25T12:36:42",
          "2023-09-25T14:14:55",
          "2023-09-25T14:16:34",
          "2023-09-25T14:19:32",
          "2023-09-25T14:28:48",
          "2023-09-25T14:47:15"
         ],
         "xaxis": "x",
         "y": [
          1.38,
          1.65,
          1.37,
          3.27,
          2.2,
          0.67,
          0.52,
          0.38,
          1.43,
          1.47,
          0.73,
          0.35
         ],
         "yaxis": "y"
        },
        {
         "alignmentgroup": "True",
         "hovertemplate": "color=SPT120018W_time_bet_3_4<br>Timestamp=%{x}<br>Time (minutes)=%{y}<extra></extra>",
         "legendgroup": "SPT120018W_time_bet_3_4",
         "marker": {
          "color": "lightcoral",
          "pattern": {
           "shape": ""
          }
         },
         "name": "SPT120018W_time_bet_3_4",
         "offsetgroup": "SPT120018W_time_bet_3_4",
         "orientation": "v",
         "showlegend": true,
         "textposition": "auto",
         "type": "bar",
         "x": [
          "2023-09-25T10:20:25",
          "2023-09-25T10:53:57",
          "2023-09-25T10:58:22",
          "2023-09-25T11:10:51",
          "2023-09-25T11:12:06",
          "2023-09-25T11:18:40",
          "2023-09-25T11:28:44",
          "2023-09-25T11:29:18",
          "2023-09-25T11:33:40",
          "2023-09-25T11:42:18",
          "2023-09-25T11:46:46",
          "2023-09-25T11:49:22",
          "2023-09-25T11:55:54",
          "2023-09-25T12:01:14",
          "2023-09-25T12:07:21",
          "2023-09-25T12:10:45",
          "2023-09-25T12:14:17",
          "2023-09-25T12:42:32",
          "2023-09-25T14:13:40",
          "2023-09-25T14:22:10",
          "2023-09-25T14:52:07",
          "2023-09-25T15:04:28"
         ],
         "xaxis": "x",
         "y": [
          3.37,
          1.02,
          1.12,
          0.77,
          1.58,
          0.6,
          2.47,
          0.72,
          0.83,
          1.48,
          0.83,
          0.52,
          0.58,
          1.9,
          1.57,
          0.58,
          1.9,
          0.77,
          2.25,
          1.85,
          1.4,
          0.87
         ],
         "yaxis": "y"
        }
       ],
       "layout": {
        "barmode": "relative",
        "legend": {
         "title": {
          "text": "color"
         },
         "tracegroupgap": 0
        },
        "template": {
         "data": {
          "bar": [
           {
            "error_x": {
             "color": "#2a3f5f"
            },
            "error_y": {
             "color": "#2a3f5f"
            },
            "marker": {
             "line": {
              "color": "#E5ECF6",
              "width": 0.5
             },
             "pattern": {
              "fillmode": "overlay",
              "size": 10,
              "solidity": 0.2
             }
            },
            "type": "bar"
           }
          ],
          "barpolar": [
           {
            "marker": {
             "line": {
              "color": "#E5ECF6",
              "width": 0.5
             },
             "pattern": {
              "fillmode": "overlay",
              "size": 10,
              "solidity": 0.2
             }
            },
            "type": "barpolar"
           }
          ],
          "carpet": [
           {
            "aaxis": {
             "endlinecolor": "#2a3f5f",
             "gridcolor": "white",
             "linecolor": "white",
             "minorgridcolor": "white",
             "startlinecolor": "#2a3f5f"
            },
            "baxis": {
             "endlinecolor": "#2a3f5f",
             "gridcolor": "white",
             "linecolor": "white",
             "minorgridcolor": "white",
             "startlinecolor": "#2a3f5f"
            },
            "type": "carpet"
           }
          ],
          "choropleth": [
           {
            "colorbar": {
             "outlinewidth": 0,
             "ticks": ""
            },
            "type": "choropleth"
           }
          ],
          "contour": [
           {
            "colorbar": {
             "outlinewidth": 0,
             "ticks": ""
            },
            "colorscale": [
             [
              0,
              "#0d0887"
             ],
             [
              0.1111111111111111,
              "#46039f"
             ],
             [
              0.2222222222222222,
              "#7201a8"
             ],
             [
              0.3333333333333333,
              "#9c179e"
             ],
             [
              0.4444444444444444,
              "#bd3786"
             ],
             [
              0.5555555555555556,
              "#d8576b"
             ],
             [
              0.6666666666666666,
              "#ed7953"
             ],
             [
              0.7777777777777778,
              "#fb9f3a"
             ],
             [
              0.8888888888888888,
              "#fdca26"
             ],
             [
              1,
              "#f0f921"
             ]
            ],
            "type": "contour"
           }
          ],
          "contourcarpet": [
           {
            "colorbar": {
             "outlinewidth": 0,
             "ticks": ""
            },
            "type": "contourcarpet"
           }
          ],
          "heatmap": [
           {
            "colorbar": {
             "outlinewidth": 0,
             "ticks": ""
            },
            "colorscale": [
             [
              0,
              "#0d0887"
             ],
             [
              0.1111111111111111,
              "#46039f"
             ],
             [
              0.2222222222222222,
              "#7201a8"
             ],
             [
              0.3333333333333333,
              "#9c179e"
             ],
             [
              0.4444444444444444,
              "#bd3786"
             ],
             [
              0.5555555555555556,
              "#d8576b"
             ],
             [
              0.6666666666666666,
              "#ed7953"
             ],
             [
              0.7777777777777778,
              "#fb9f3a"
             ],
             [
              0.8888888888888888,
              "#fdca26"
             ],
             [
              1,
              "#f0f921"
             ]
            ],
            "type": "heatmap"
           }
          ],
          "heatmapgl": [
           {
            "colorbar": {
             "outlinewidth": 0,
             "ticks": ""
            },
            "colorscale": [
             [
              0,
              "#0d0887"
             ],
             [
              0.1111111111111111,
              "#46039f"
             ],
             [
              0.2222222222222222,
              "#7201a8"
             ],
             [
              0.3333333333333333,
              "#9c179e"
             ],
             [
              0.4444444444444444,
              "#bd3786"
             ],
             [
              0.5555555555555556,
              "#d8576b"
             ],
             [
              0.6666666666666666,
              "#ed7953"
             ],
             [
              0.7777777777777778,
              "#fb9f3a"
             ],
             [
              0.8888888888888888,
              "#fdca26"
             ],
             [
              1,
              "#f0f921"
             ]
            ],
            "type": "heatmapgl"
           }
          ],
          "histogram": [
           {
            "marker": {
             "pattern": {
              "fillmode": "overlay",
              "size": 10,
              "solidity": 0.2
             }
            },
            "type": "histogram"
           }
          ],
          "histogram2d": [
           {
            "colorbar": {
             "outlinewidth": 0,
             "ticks": ""
            },
            "colorscale": [
             [
              0,
              "#0d0887"
             ],
             [
              0.1111111111111111,
              "#46039f"
             ],
             [
              0.2222222222222222,
              "#7201a8"
             ],
             [
              0.3333333333333333,
              "#9c179e"
             ],
             [
              0.4444444444444444,
              "#bd3786"
             ],
             [
              0.5555555555555556,
              "#d8576b"
             ],
             [
              0.6666666666666666,
              "#ed7953"
             ],
             [
              0.7777777777777778,
              "#fb9f3a"
             ],
             [
              0.8888888888888888,
              "#fdca26"
             ],
             [
              1,
              "#f0f921"
             ]
            ],
            "type": "histogram2d"
           }
          ],
          "histogram2dcontour": [
           {
            "colorbar": {
             "outlinewidth": 0,
             "ticks": ""
            },
            "colorscale": [
             [
              0,
              "#0d0887"
             ],
             [
              0.1111111111111111,
              "#46039f"
             ],
             [
              0.2222222222222222,
              "#7201a8"
             ],
             [
              0.3333333333333333,
              "#9c179e"
             ],
             [
              0.4444444444444444,
              "#bd3786"
             ],
             [
              0.5555555555555556,
              "#d8576b"
             ],
             [
              0.6666666666666666,
              "#ed7953"
             ],
             [
              0.7777777777777778,
              "#fb9f3a"
             ],
             [
              0.8888888888888888,
              "#fdca26"
             ],
             [
              1,
              "#f0f921"
             ]
            ],
            "type": "histogram2dcontour"
           }
          ],
          "mesh3d": [
           {
            "colorbar": {
             "outlinewidth": 0,
             "ticks": ""
            },
            "type": "mesh3d"
           }
          ],
          "parcoords": [
           {
            "line": {
             "colorbar": {
              "outlinewidth": 0,
              "ticks": ""
             }
            },
            "type": "parcoords"
           }
          ],
          "pie": [
           {
            "automargin": true,
            "type": "pie"
           }
          ],
          "scatter": [
           {
            "fillpattern": {
             "fillmode": "overlay",
             "size": 10,
             "solidity": 0.2
            },
            "type": "scatter"
           }
          ],
          "scatter3d": [
           {
            "line": {
             "colorbar": {
              "outlinewidth": 0,
              "ticks": ""
             }
            },
            "marker": {
             "colorbar": {
              "outlinewidth": 0,
              "ticks": ""
             }
            },
            "type": "scatter3d"
           }
          ],
          "scattercarpet": [
           {
            "marker": {
             "colorbar": {
              "outlinewidth": 0,
              "ticks": ""
             }
            },
            "type": "scattercarpet"
           }
          ],
          "scattergeo": [
           {
            "marker": {
             "colorbar": {
              "outlinewidth": 0,
              "ticks": ""
             }
            },
            "type": "scattergeo"
           }
          ],
          "scattergl": [
           {
            "marker": {
             "colorbar": {
              "outlinewidth": 0,
              "ticks": ""
             }
            },
            "type": "scattergl"
           }
          ],
          "scattermapbox": [
           {
            "marker": {
             "colorbar": {
              "outlinewidth": 0,
              "ticks": ""
             }
            },
            "type": "scattermapbox"
           }
          ],
          "scatterpolar": [
           {
            "marker": {
             "colorbar": {
              "outlinewidth": 0,
              "ticks": ""
             }
            },
            "type": "scatterpolar"
           }
          ],
          "scatterpolargl": [
           {
            "marker": {
             "colorbar": {
              "outlinewidth": 0,
              "ticks": ""
             }
            },
            "type": "scatterpolargl"
           }
          ],
          "scatterternary": [
           {
            "marker": {
             "colorbar": {
              "outlinewidth": 0,
              "ticks": ""
             }
            },
            "type": "scatterternary"
           }
          ],
          "surface": [
           {
            "colorbar": {
             "outlinewidth": 0,
             "ticks": ""
            },
            "colorscale": [
             [
              0,
              "#0d0887"
             ],
             [
              0.1111111111111111,
              "#46039f"
             ],
             [
              0.2222222222222222,
              "#7201a8"
             ],
             [
              0.3333333333333333,
              "#9c179e"
             ],
             [
              0.4444444444444444,
              "#bd3786"
             ],
             [
              0.5555555555555556,
              "#d8576b"
             ],
             [
              0.6666666666666666,
              "#ed7953"
             ],
             [
              0.7777777777777778,
              "#fb9f3a"
             ],
             [
              0.8888888888888888,
              "#fdca26"
             ],
             [
              1,
              "#f0f921"
             ]
            ],
            "type": "surface"
           }
          ],
          "table": [
           {
            "cells": {
             "fill": {
              "color": "#EBF0F8"
             },
             "line": {
              "color": "white"
             }
            },
            "header": {
             "fill": {
              "color": "#C8D4E3"
             },
             "line": {
              "color": "white"
             }
            },
            "type": "table"
           }
          ]
         },
         "layout": {
          "annotationdefaults": {
           "arrowcolor": "#2a3f5f",
           "arrowhead": 0,
           "arrowwidth": 1
          },
          "autotypenumbers": "strict",
          "coloraxis": {
           "colorbar": {
            "outlinewidth": 0,
            "ticks": ""
           }
          },
          "colorscale": {
           "diverging": [
            [
             0,
             "#8e0152"
            ],
            [
             0.1,
             "#c51b7d"
            ],
            [
             0.2,
             "#de77ae"
            ],
            [
             0.3,
             "#f1b6da"
            ],
            [
             0.4,
             "#fde0ef"
            ],
            [
             0.5,
             "#f7f7f7"
            ],
            [
             0.6,
             "#e6f5d0"
            ],
            [
             0.7,
             "#b8e186"
            ],
            [
             0.8,
             "#7fbc41"
            ],
            [
             0.9,
             "#4d9221"
            ],
            [
             1,
             "#276419"
            ]
           ],
           "sequential": [
            [
             0,
             "#0d0887"
            ],
            [
             0.1111111111111111,
             "#46039f"
            ],
            [
             0.2222222222222222,
             "#7201a8"
            ],
            [
             0.3333333333333333,
             "#9c179e"
            ],
            [
             0.4444444444444444,
             "#bd3786"
            ],
            [
             0.5555555555555556,
             "#d8576b"
            ],
            [
             0.6666666666666666,
             "#ed7953"
            ],
            [
             0.7777777777777778,
             "#fb9f3a"
            ],
            [
             0.8888888888888888,
             "#fdca26"
            ],
            [
             1,
             "#f0f921"
            ]
           ],
           "sequentialminus": [
            [
             0,
             "#0d0887"
            ],
            [
             0.1111111111111111,
             "#46039f"
            ],
            [
             0.2222222222222222,
             "#7201a8"
            ],
            [
             0.3333333333333333,
             "#9c179e"
            ],
            [
             0.4444444444444444,
             "#bd3786"
            ],
            [
             0.5555555555555556,
             "#d8576b"
            ],
            [
             0.6666666666666666,
             "#ed7953"
            ],
            [
             0.7777777777777778,
             "#fb9f3a"
            ],
            [
             0.8888888888888888,
             "#fdca26"
            ],
            [
             1,
             "#f0f921"
            ]
           ]
          },
          "colorway": [
           "#636efa",
           "#EF553B",
           "#00cc96",
           "#ab63fa",
           "#FFA15A",
           "#19d3f3",
           "#FF6692",
           "#B6E880",
           "#FF97FF",
           "#FECB52"
          ],
          "font": {
           "color": "#2a3f5f"
          },
          "geo": {
           "bgcolor": "white",
           "lakecolor": "white",
           "landcolor": "#E5ECF6",
           "showlakes": true,
           "showland": true,
           "subunitcolor": "white"
          },
          "hoverlabel": {
           "align": "left"
          },
          "hovermode": "closest",
          "mapbox": {
           "style": "light"
          },
          "paper_bgcolor": "white",
          "plot_bgcolor": "#E5ECF6",
          "polar": {
           "angularaxis": {
            "gridcolor": "white",
            "linecolor": "white",
            "ticks": ""
           },
           "bgcolor": "#E5ECF6",
           "radialaxis": {
            "gridcolor": "white",
            "linecolor": "white",
            "ticks": ""
           }
          },
          "scene": {
           "xaxis": {
            "backgroundcolor": "#E5ECF6",
            "gridcolor": "white",
            "gridwidth": 2,
            "linecolor": "white",
            "showbackground": true,
            "ticks": "",
            "zerolinecolor": "white"
           },
           "yaxis": {
            "backgroundcolor": "#E5ECF6",
            "gridcolor": "white",
            "gridwidth": 2,
            "linecolor": "white",
            "showbackground": true,
            "ticks": "",
            "zerolinecolor": "white"
           },
           "zaxis": {
            "backgroundcolor": "#E5ECF6",
            "gridcolor": "white",
            "gridwidth": 2,
            "linecolor": "white",
            "showbackground": true,
            "ticks": "",
            "zerolinecolor": "white"
           }
          },
          "shapedefaults": {
           "line": {
            "color": "#2a3f5f"
           }
          },
          "ternary": {
           "aaxis": {
            "gridcolor": "white",
            "linecolor": "white",
            "ticks": ""
           },
           "baxis": {
            "gridcolor": "white",
            "linecolor": "white",
            "ticks": ""
           },
           "bgcolor": "#E5ECF6",
           "caxis": {
            "gridcolor": "white",
            "linecolor": "white",
            "ticks": ""
           }
          },
          "title": {
           "x": 0.05
          },
          "xaxis": {
           "automargin": true,
           "gridcolor": "white",
           "linecolor": "white",
           "ticks": "",
           "title": {
            "standoff": 15
           },
           "zerolinecolor": "white",
           "zerolinewidth": 2
          },
          "yaxis": {
           "automargin": true,
           "gridcolor": "white",
           "linecolor": "white",
           "ticks": "",
           "title": {
            "standoff": 15
           },
           "zerolinecolor": "white",
           "zerolinewidth": 2
          }
         }
        },
        "title": {
         "text": "Time Between Stations"
        },
        "xaxis": {
         "anchor": "y",
         "domain": [
          0,
          1
         ],
         "title": {
          "text": "Timestamp"
         }
        },
        "yaxis": {
         "anchor": "x",
         "domain": [
          0,
          1
         ],
         "title": {
          "text": "Time (minutes)"
         }
        }
       }
      }
     },
     "metadata": {},
     "output_type": "display_data"
    }
   ],
   "source": [
    "\n",
    "def all_time_between_station(df12, df23, df34):\n",
    "    #df_bet_all = pd.DataFrame(columns = ['ts1','time_bet_12','ts2', 'ts2','time_bet_23','ts3','time_bet_34','gabarit','model'])\n",
    "    df_bet_all = pd.DataFrame(columns = ['ts','gabarit', 'model','time_bet_1_2','time_bet_2_3','time_bet_3_4']) \n",
    "    \n",
    "    cnt = 0\n",
    "    cnt2 = 0\n",
    "    for index in range(df12.shape[0]):\n",
    "        start_time = (df12.loc[index, 'ts'] + pd.Timedelta(seconds = df12.loc[index, 'time_bet_1_2'])\n",
    "                       - pd.Timedelta(seconds=2))\n",
    "        end_time = start_time + pd.Timedelta(seconds=3)\n",
    "\n",
    "        matching_rows = df23[(df23['ts'] >= start_time) & (df23['ts'] <= end_time) \n",
    "                                & (df23['gabarit'] == df12.loc[index,'gabarit'])]\n",
    "        if not matching_rows.empty:\n",
    "            first_occurrence = matching_rows.iloc[0]\n",
    "\n",
    "            df_bet_all.loc[cnt, 'ts'] = df12.loc[index, 'ts']  # Copy the timestamp for reference\n",
    "            df_bet_all.loc[cnt, 'gabarit'] = first_occurrence['gabarit']\n",
    "            df_bet_all.loc[cnt, 'time_bet_1_2'] = df12.loc[index, 'time_bet_1_2'] \n",
    "            df_bet_all.loc[cnt, 'time_bet_2_3'] = first_occurrence['time_bet_2_3'] \n",
    "            cnt += 1\n",
    "\n",
    "            start_time2 = (first_occurrence['ts'] + pd.Timedelta(seconds = first_occurrence['time_bet_2_3']) \n",
    "                          - pd.Timedelta(seconds=1))\n",
    "            end_time2 = start_time2 +   pd.Timedelta(seconds=3)\n",
    "            matching_rows2 = df34[(df34['ts'] >= start_time2) & (df34['ts'] <= end_time2) \n",
    "                                & (df34['gabarit'] == first_occurrence['gabarit'])]\n",
    "            \n",
    "            if not matching_rows2.empty:\n",
    "                first_occurrence2 = matching_rows2.iloc[0]\n",
    "           \n",
    "                df_bet_all.loc[cnt2, 'time_bet_3_4'] = first_occurrence2['time_bet_3_4']\n",
    "                #print(first_occurrence2)\n",
    "                df_bet_all.loc[cnt2, 'model'] = str(first_occurrence2['model'])\n",
    "  \n",
    "                cnt2 += 1\n",
    "\n",
    "    return df_bet_all\n",
    "\n",
    "\n",
    "def plot_time_in_station(df):\n",
    "    #display(px.data.medals_wide())\n",
    "\n",
    "    df['time_bet_1_2'] = df['time_bet_1_2'].astype(int)\n",
    "    df['time_bet_2_3'] = df['time_bet_2_3'].astype(int)\n",
    "    df['time_bet_3_4'] = df['time_bet_3_4'].astype(int)\n",
    "    melted_df = pd.melt(df, id_vars=['ts','model'], value_vars=['time_bet_1_2','time_bet_2_3','time_bet_3_4'],var_name='time_bet', value_name='time')\n",
    "    \n",
    "\n",
    "    melted_df['color'] = melted_df['model'] + '_' + melted_df['time_bet']\n",
    "    color_discrete_map = {\"HAMLET-49_time_bet_1_2\": 'darkblue',\n",
    "                          \"HAMLET-49_time_bet_2_3\": 'cornflowerblue', \n",
    "                          \"HAMLET-49_time_bet_3_4\": 'lightblue',\n",
    "                          \"SPT120018W_time_bet_1_2\": 'maroon',\n",
    "                          \"SPT120018W_time_bet_2_3\":'red',\n",
    "                          \"SPT120018W_time_bet_3_4\": 'lightcoral'}\n",
    "\n",
    "    #display(melted_df)\n",
    "    melted_df[\"time\"] = round(melted_df[\"time\"]/60,2)\n",
    "    fig = px.bar(melted_df, x=\"ts\", y=\"time\", \n",
    "                labels={\"ts\": \"Timestamp\", \"time\": \"Time (minutes)\"},\n",
    "                color = 'color',\n",
    "                color_discrete_map = color_discrete_map,\n",
    "                title=\"Time Between Stations\")\n",
    "    #fig.update_xaxes(range=['2023-09-25 11:00:00', '2023-09-25 15:00:00'])\n",
    "    #fig.update_traces(width=10)\n",
    "\n",
    "\n",
    "    fig.show()\n",
    "\n",
    "\n",
    "\n",
    "\n",
    "df_bet_all = all_time_between_station(df_bet_12, df_bet_23,df_bet_34)\n",
    "perc_all = perc_of_gabarits_found(df_bet_all,df4, sensor = 4)\n",
    "\n",
    "#display(df_bet_all)\n",
    "plot_time_in_station(df_bet_all)\n",
    "\n",
    "\n",
    "\n",
    "#plot_time_\n",
    "    "
   ]
  },
  {
   "cell_type": "code",
   "execution_count": null,
   "metadata": {},
   "outputs": [],
   "source": []
  }
 ],
 "metadata": {
  "kernelspec": {
   "display_name": "base",
   "language": "python",
   "name": "python3"
  },
  "language_info": {
   "codemirror_mode": {
    "name": "ipython",
    "version": 3
   },
   "file_extension": ".py",
   "mimetype": "text/x-python",
   "name": "python",
   "nbconvert_exporter": "python",
   "pygments_lexer": "ipython3",
   "version": "3.11.4"
  },
  "orig_nbformat": 4
 },
 "nbformat": 4,
 "nbformat_minor": 2
}
