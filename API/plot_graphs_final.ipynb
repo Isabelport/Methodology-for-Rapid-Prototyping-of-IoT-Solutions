{
 "cells": [
  {
   "cell_type": "code",
   "execution_count": null,
   "metadata": {},
   "outputs": [],
   "source": [
    "import plotly.express as px\n",
    "import os\n",
    "import pandas as pd\n",
    "import numpy as np\n",
    "import plotly.graph_objects as go\n",
    "\n",
    "#import csv\n",
    "pd.set_option('display.max_rows', None)  # Display all rows"
   ]
  },
  {
   "cell_type": "code",
   "execution_count": null,
   "metadata": {},
   "outputs": [],
   "source": [
    "day = \"28\"\n",
    "month = \"09\"\n",
    "dataset = \"rfid\"\n",
    "date = day + \"_\" + month #change date accordingly\n",
    "date_year = \"2023-\" + month + \"-\" + day\n",
    "\n",
    "folder_path = dataset + '_' + date + '/'\n",
    "\n",
    "def process_final_file(date):\n",
    "    file_path = os.path.join(folder_path, f'rfid_{date}_final.csv')\n",
    "\n",
    "    #if first time\n",
    "    #df = pd.read_csv(file_path,  sep=';')\n",
    "    #df['Stamp'] = pd.to_datetime(df['Stamp'], format='%d/%m/%Y %H:%M')\n",
    "\n",
    "    #else\n",
    "    df = pd.read_csv(file_path)\n",
    "\n",
    "    #continue\n",
    "    df.to_csv(file_path, index = False)\n",
    "\n",
    "    # Remove last column if it exists\n",
    "    if df.shape[1] == 4:\n",
    "        df = df.drop(df.columns[3], axis=1)\n",
    "        df = df.drop(df.columns[1], axis=1)\n",
    "    \n",
    "    return df\n",
    "\n",
    "df_final = process_final_file(date)\n",
    "display(df_final)"
   ]
  }
 ],
 "metadata": {
  "language_info": {
   "name": "python"
  },
  "orig_nbformat": 4
 },
 "nbformat": 4,
 "nbformat_minor": 2
}
