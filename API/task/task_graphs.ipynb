{
 "cells": [
  {
   "cell_type": "code",
   "execution_count": 2,
   "metadata": {},
   "outputs": [],
   "source": [
    "import plotly.express as px\n",
    "import os\n",
    "import pandas as pd\n",
    "import numpy as np\n",
    "import plotly.graph_objects as go\n",
    "\n",
    "#import csv\n",
    "pd.set_option('display.max_rows', None)  # Display all rows"
   ]
  },
  {
   "cell_type": "code",
   "execution_count": 3,
   "metadata": {},
   "outputs": [
    {
     "data": {
      "text/html": [
       "<div>\n",
       "<style scoped>\n",
       "    .dataframe tbody tr th:only-of-type {\n",
       "        vertical-align: middle;\n",
       "    }\n",
       "\n",
       "    .dataframe tbody tr th {\n",
       "        vertical-align: top;\n",
       "    }\n",
       "\n",
       "    .dataframe thead th {\n",
       "        text-align: right;\n",
       "    }\n",
       "</style>\n",
       "<table border=\"1\" class=\"dataframe\">\n",
       "  <thead>\n",
       "    <tr style=\"text-align: right;\">\n",
       "      <th></th>\n",
       "      <th>ts</th>\n",
       "      <th>task</th>\n",
       "      <th>empid</th>\n",
       "      <th>sec</th>\n",
       "    </tr>\n",
       "  </thead>\n",
       "  <tbody>\n",
       "    <tr>\n",
       "      <th>0</th>\n",
       "      <td>2023-09-27 10:19:27</td>\n",
       "      <td>0</td>\n",
       "      <td>0</td>\n",
       "      <td>217</td>\n",
       "    </tr>\n",
       "    <tr>\n",
       "      <th>1</th>\n",
       "      <td>2023-09-27 10:19:43</td>\n",
       "      <td>1</td>\n",
       "      <td>0</td>\n",
       "      <td>14</td>\n",
       "    </tr>\n",
       "    <tr>\n",
       "      <th>2</th>\n",
       "      <td>2023-09-27 10:19:58</td>\n",
       "      <td>1</td>\n",
       "      <td>0</td>\n",
       "      <td>15</td>\n",
       "    </tr>\n",
       "    <tr>\n",
       "      <th>3</th>\n",
       "      <td>2023-09-27 10:20:16</td>\n",
       "      <td>1</td>\n",
       "      <td>0</td>\n",
       "      <td>17</td>\n",
       "    </tr>\n",
       "    <tr>\n",
       "      <th>4</th>\n",
       "      <td>2023-09-27 10:20:31</td>\n",
       "      <td>1</td>\n",
       "      <td>0</td>\n",
       "      <td>15</td>\n",
       "    </tr>\n",
       "    <tr>\n",
       "      <th>5</th>\n",
       "      <td>2023-09-27 10:20:48</td>\n",
       "      <td>1</td>\n",
       "      <td>0</td>\n",
       "      <td>16</td>\n",
       "    </tr>\n",
       "    <tr>\n",
       "      <th>6</th>\n",
       "      <td>2023-09-27 10:21:01</td>\n",
       "      <td>1</td>\n",
       "      <td>0</td>\n",
       "      <td>13</td>\n",
       "    </tr>\n",
       "    <tr>\n",
       "      <th>7</th>\n",
       "      <td>2023-09-27 10:21:14</td>\n",
       "      <td>1</td>\n",
       "      <td>0</td>\n",
       "      <td>12</td>\n",
       "    </tr>\n",
       "    <tr>\n",
       "      <th>8</th>\n",
       "      <td>2023-09-27 10:21:30</td>\n",
       "      <td>1</td>\n",
       "      <td>0</td>\n",
       "      <td>16</td>\n",
       "    </tr>\n",
       "    <tr>\n",
       "      <th>9</th>\n",
       "      <td>2023-09-27 10:21:43</td>\n",
       "      <td>1</td>\n",
       "      <td>0</td>\n",
       "      <td>12</td>\n",
       "    </tr>\n",
       "    <tr>\n",
       "      <th>10</th>\n",
       "      <td>2023-09-27 10:21:55</td>\n",
       "      <td>1</td>\n",
       "      <td>0</td>\n",
       "      <td>12</td>\n",
       "    </tr>\n",
       "    <tr>\n",
       "      <th>11</th>\n",
       "      <td>2023-09-27 10:22:06</td>\n",
       "      <td>1</td>\n",
       "      <td>0</td>\n",
       "      <td>11</td>\n",
       "    </tr>\n",
       "    <tr>\n",
       "      <th>12</th>\n",
       "      <td>2023-09-27 10:22:18</td>\n",
       "      <td>1</td>\n",
       "      <td>0</td>\n",
       "      <td>12</td>\n",
       "    </tr>\n",
       "    <tr>\n",
       "      <th>13</th>\n",
       "      <td>2023-09-27 10:22:30</td>\n",
       "      <td>1</td>\n",
       "      <td>0</td>\n",
       "      <td>11</td>\n",
       "    </tr>\n",
       "    <tr>\n",
       "      <th>14</th>\n",
       "      <td>2023-09-27 10:22:42</td>\n",
       "      <td>1</td>\n",
       "      <td>0</td>\n",
       "      <td>12</td>\n",
       "    </tr>\n",
       "    <tr>\n",
       "      <th>15</th>\n",
       "      <td>2023-09-27 10:22:53</td>\n",
       "      <td>1</td>\n",
       "      <td>0</td>\n",
       "      <td>11</td>\n",
       "    </tr>\n",
       "    <tr>\n",
       "      <th>16</th>\n",
       "      <td>2023-09-27 10:23:05</td>\n",
       "      <td>1</td>\n",
       "      <td>0</td>\n",
       "      <td>11</td>\n",
       "    </tr>\n",
       "    <tr>\n",
       "      <th>17</th>\n",
       "      <td>2023-09-27 10:23:17</td>\n",
       "      <td>1</td>\n",
       "      <td>0</td>\n",
       "      <td>12</td>\n",
       "    </tr>\n",
       "    <tr>\n",
       "      <th>18</th>\n",
       "      <td>2023-09-27 10:23:29</td>\n",
       "      <td>1</td>\n",
       "      <td>0</td>\n",
       "      <td>12</td>\n",
       "    </tr>\n",
       "    <tr>\n",
       "      <th>19</th>\n",
       "      <td>2023-09-27 10:23:41</td>\n",
       "      <td>1</td>\n",
       "      <td>0</td>\n",
       "      <td>12</td>\n",
       "    </tr>\n",
       "    <tr>\n",
       "      <th>20</th>\n",
       "      <td>2023-09-27 10:23:54</td>\n",
       "      <td>1</td>\n",
       "      <td>0</td>\n",
       "      <td>12</td>\n",
       "    </tr>\n",
       "    <tr>\n",
       "      <th>21</th>\n",
       "      <td>2023-09-27 10:24:06</td>\n",
       "      <td>1</td>\n",
       "      <td>0</td>\n",
       "      <td>11</td>\n",
       "    </tr>\n",
       "    <tr>\n",
       "      <th>22</th>\n",
       "      <td>2023-09-27 10:24:17</td>\n",
       "      <td>1</td>\n",
       "      <td>0</td>\n",
       "      <td>12</td>\n",
       "    </tr>\n",
       "    <tr>\n",
       "      <th>23</th>\n",
       "      <td>2023-09-27 10:24:30</td>\n",
       "      <td>1</td>\n",
       "      <td>0</td>\n",
       "      <td>12</td>\n",
       "    </tr>\n",
       "    <tr>\n",
       "      <th>24</th>\n",
       "      <td>2023-09-27 10:25:11</td>\n",
       "      <td>0</td>\n",
       "      <td>0</td>\n",
       "      <td>26</td>\n",
       "    </tr>\n",
       "    <tr>\n",
       "      <th>25</th>\n",
       "      <td>2023-09-27 10:25:54</td>\n",
       "      <td>4</td>\n",
       "      <td>0</td>\n",
       "      <td>41</td>\n",
       "    </tr>\n",
       "    <tr>\n",
       "      <th>26</th>\n",
       "      <td>2023-09-27 10:26:07</td>\n",
       "      <td>4</td>\n",
       "      <td>0</td>\n",
       "      <td>12</td>\n",
       "    </tr>\n",
       "    <tr>\n",
       "      <th>27</th>\n",
       "      <td>2023-09-27 10:26:51</td>\n",
       "      <td>4</td>\n",
       "      <td>0</td>\n",
       "      <td>43</td>\n",
       "    </tr>\n",
       "    <tr>\n",
       "      <th>28</th>\n",
       "      <td>2023-09-27 10:27:32</td>\n",
       "      <td>4</td>\n",
       "      <td>0</td>\n",
       "      <td>40</td>\n",
       "    </tr>\n",
       "    <tr>\n",
       "      <th>29</th>\n",
       "      <td>2023-09-27 10:28:15</td>\n",
       "      <td>4</td>\n",
       "      <td>0</td>\n",
       "      <td>42</td>\n",
       "    </tr>\n",
       "    <tr>\n",
       "      <th>30</th>\n",
       "      <td>2023-09-27 10:28:56</td>\n",
       "      <td>4</td>\n",
       "      <td>0</td>\n",
       "      <td>40</td>\n",
       "    </tr>\n",
       "    <tr>\n",
       "      <th>31</th>\n",
       "      <td>2023-09-27 10:29:39</td>\n",
       "      <td>4</td>\n",
       "      <td>0</td>\n",
       "      <td>42</td>\n",
       "    </tr>\n",
       "    <tr>\n",
       "      <th>32</th>\n",
       "      <td>2023-09-27 10:30:23</td>\n",
       "      <td>4</td>\n",
       "      <td>0</td>\n",
       "      <td>43</td>\n",
       "    </tr>\n",
       "    <tr>\n",
       "      <th>33</th>\n",
       "      <td>2023-09-27 10:31:04</td>\n",
       "      <td>4</td>\n",
       "      <td>0</td>\n",
       "      <td>40</td>\n",
       "    </tr>\n",
       "    <tr>\n",
       "      <th>34</th>\n",
       "      <td>2023-09-27 10:32:18</td>\n",
       "      <td>0</td>\n",
       "      <td>0</td>\n",
       "      <td>21</td>\n",
       "    </tr>\n",
       "    <tr>\n",
       "      <th>35</th>\n",
       "      <td>2023-09-27 10:32:18</td>\n",
       "      <td>2</td>\n",
       "      <td>0</td>\n",
       "      <td>13</td>\n",
       "    </tr>\n",
       "    <tr>\n",
       "      <th>36</th>\n",
       "      <td>2023-09-27 10:32:18</td>\n",
       "      <td>2</td>\n",
       "      <td>0</td>\n",
       "      <td>11</td>\n",
       "    </tr>\n",
       "    <tr>\n",
       "      <th>37</th>\n",
       "      <td>2023-09-27 10:32:33</td>\n",
       "      <td>2</td>\n",
       "      <td>0</td>\n",
       "      <td>12</td>\n",
       "    </tr>\n",
       "    <tr>\n",
       "      <th>38</th>\n",
       "      <td>2023-09-27 10:32:45</td>\n",
       "      <td>2</td>\n",
       "      <td>0</td>\n",
       "      <td>12</td>\n",
       "    </tr>\n",
       "    <tr>\n",
       "      <th>39</th>\n",
       "      <td>2023-09-27 10:32:58</td>\n",
       "      <td>2</td>\n",
       "      <td>0</td>\n",
       "      <td>13</td>\n",
       "    </tr>\n",
       "    <tr>\n",
       "      <th>40</th>\n",
       "      <td>2023-09-27 10:33:10</td>\n",
       "      <td>2</td>\n",
       "      <td>0</td>\n",
       "      <td>11</td>\n",
       "    </tr>\n",
       "    <tr>\n",
       "      <th>41</th>\n",
       "      <td>2023-09-27 10:33:22</td>\n",
       "      <td>2</td>\n",
       "      <td>0</td>\n",
       "      <td>12</td>\n",
       "    </tr>\n",
       "    <tr>\n",
       "      <th>42</th>\n",
       "      <td>2023-09-27 10:33:35</td>\n",
       "      <td>2</td>\n",
       "      <td>0</td>\n",
       "      <td>13</td>\n",
       "    </tr>\n",
       "    <tr>\n",
       "      <th>43</th>\n",
       "      <td>2023-09-27 10:33:47</td>\n",
       "      <td>2</td>\n",
       "      <td>0</td>\n",
       "      <td>11</td>\n",
       "    </tr>\n",
       "    <tr>\n",
       "      <th>44</th>\n",
       "      <td>2023-09-27 10:33:59</td>\n",
       "      <td>2</td>\n",
       "      <td>0</td>\n",
       "      <td>12</td>\n",
       "    </tr>\n",
       "    <tr>\n",
       "      <th>45</th>\n",
       "      <td>2023-09-27 10:34:11</td>\n",
       "      <td>2</td>\n",
       "      <td>0</td>\n",
       "      <td>12</td>\n",
       "    </tr>\n",
       "    <tr>\n",
       "      <th>46</th>\n",
       "      <td>2023-09-27 10:34:23</td>\n",
       "      <td>2</td>\n",
       "      <td>0</td>\n",
       "      <td>11</td>\n",
       "    </tr>\n",
       "    <tr>\n",
       "      <th>47</th>\n",
       "      <td>2023-09-27 12:34:24</td>\n",
       "      <td>0</td>\n",
       "      <td>0</td>\n",
       "      <td>5890</td>\n",
       "    </tr>\n",
       "    <tr>\n",
       "      <th>48</th>\n",
       "      <td>2023-09-27 12:34:38</td>\n",
       "      <td>1</td>\n",
       "      <td>0</td>\n",
       "      <td>12</td>\n",
       "    </tr>\n",
       "    <tr>\n",
       "      <th>49</th>\n",
       "      <td>2023-09-27 12:34:51</td>\n",
       "      <td>1</td>\n",
       "      <td>0</td>\n",
       "      <td>12</td>\n",
       "    </tr>\n",
       "    <tr>\n",
       "      <th>50</th>\n",
       "      <td>2023-09-27 12:35:04</td>\n",
       "      <td>1</td>\n",
       "      <td>0</td>\n",
       "      <td>13</td>\n",
       "    </tr>\n",
       "    <tr>\n",
       "      <th>51</th>\n",
       "      <td>2023-09-27 12:35:16</td>\n",
       "      <td>1</td>\n",
       "      <td>0</td>\n",
       "      <td>12</td>\n",
       "    </tr>\n",
       "    <tr>\n",
       "      <th>52</th>\n",
       "      <td>2023-09-27 12:35:29</td>\n",
       "      <td>1</td>\n",
       "      <td>0</td>\n",
       "      <td>12</td>\n",
       "    </tr>\n",
       "    <tr>\n",
       "      <th>53</th>\n",
       "      <td>2023-09-27 12:35:41</td>\n",
       "      <td>1</td>\n",
       "      <td>0</td>\n",
       "      <td>12</td>\n",
       "    </tr>\n",
       "    <tr>\n",
       "      <th>54</th>\n",
       "      <td>2023-09-27 12:35:52</td>\n",
       "      <td>1</td>\n",
       "      <td>0</td>\n",
       "      <td>11</td>\n",
       "    </tr>\n",
       "    <tr>\n",
       "      <th>55</th>\n",
       "      <td>2023-09-27 12:36:05</td>\n",
       "      <td>1</td>\n",
       "      <td>0</td>\n",
       "      <td>12</td>\n",
       "    </tr>\n",
       "    <tr>\n",
       "      <th>56</th>\n",
       "      <td>2023-09-27 12:36:18</td>\n",
       "      <td>1</td>\n",
       "      <td>0</td>\n",
       "      <td>13</td>\n",
       "    </tr>\n",
       "    <tr>\n",
       "      <th>57</th>\n",
       "      <td>2023-09-27 12:36:29</td>\n",
       "      <td>1</td>\n",
       "      <td>0</td>\n",
       "      <td>11</td>\n",
       "    </tr>\n",
       "    <tr>\n",
       "      <th>58</th>\n",
       "      <td>2023-09-27 12:36:42</td>\n",
       "      <td>1</td>\n",
       "      <td>0</td>\n",
       "      <td>12</td>\n",
       "    </tr>\n",
       "    <tr>\n",
       "      <th>59</th>\n",
       "      <td>2023-09-27 12:36:53</td>\n",
       "      <td>1</td>\n",
       "      <td>0</td>\n",
       "      <td>11</td>\n",
       "    </tr>\n",
       "    <tr>\n",
       "      <th>60</th>\n",
       "      <td>2023-09-27 12:37:05</td>\n",
       "      <td>1</td>\n",
       "      <td>0</td>\n",
       "      <td>12</td>\n",
       "    </tr>\n",
       "    <tr>\n",
       "      <th>61</th>\n",
       "      <td>2023-09-27 12:37:18</td>\n",
       "      <td>1</td>\n",
       "      <td>0</td>\n",
       "      <td>12</td>\n",
       "    </tr>\n",
       "    <tr>\n",
       "      <th>62</th>\n",
       "      <td>2023-09-27 12:37:34</td>\n",
       "      <td>0</td>\n",
       "      <td>0</td>\n",
       "      <td>15</td>\n",
       "    </tr>\n",
       "    <tr>\n",
       "      <th>63</th>\n",
       "      <td>2023-09-27 12:38:16</td>\n",
       "      <td>4</td>\n",
       "      <td>0</td>\n",
       "      <td>40</td>\n",
       "    </tr>\n",
       "    <tr>\n",
       "      <th>64</th>\n",
       "      <td>2023-09-27 12:38:57</td>\n",
       "      <td>4</td>\n",
       "      <td>0</td>\n",
       "      <td>39</td>\n",
       "    </tr>\n",
       "    <tr>\n",
       "      <th>65</th>\n",
       "      <td>2023-09-27 12:39:40</td>\n",
       "      <td>4</td>\n",
       "      <td>0</td>\n",
       "      <td>42</td>\n",
       "    </tr>\n",
       "    <tr>\n",
       "      <th>66</th>\n",
       "      <td>2023-09-27 12:40:20</td>\n",
       "      <td>4</td>\n",
       "      <td>0</td>\n",
       "      <td>40</td>\n",
       "    </tr>\n",
       "    <tr>\n",
       "      <th>67</th>\n",
       "      <td>2023-09-27 12:41:00</td>\n",
       "      <td>4</td>\n",
       "      <td>0</td>\n",
       "      <td>39</td>\n",
       "    </tr>\n",
       "    <tr>\n",
       "      <th>68</th>\n",
       "      <td>2023-09-27 12:41:42</td>\n",
       "      <td>4</td>\n",
       "      <td>0</td>\n",
       "      <td>41</td>\n",
       "    </tr>\n",
       "    <tr>\n",
       "      <th>69</th>\n",
       "      <td>2023-09-27 12:42:23</td>\n",
       "      <td>4</td>\n",
       "      <td>0</td>\n",
       "      <td>40</td>\n",
       "    </tr>\n",
       "    <tr>\n",
       "      <th>70</th>\n",
       "      <td>2023-09-27 12:43:04</td>\n",
       "      <td>4</td>\n",
       "      <td>0</td>\n",
       "      <td>40</td>\n",
       "    </tr>\n",
       "    <tr>\n",
       "      <th>71</th>\n",
       "      <td>2023-09-27 12:43:46</td>\n",
       "      <td>4</td>\n",
       "      <td>0</td>\n",
       "      <td>41</td>\n",
       "    </tr>\n",
       "    <tr>\n",
       "      <th>72</th>\n",
       "      <td>2023-09-27 12:44:15</td>\n",
       "      <td>0</td>\n",
       "      <td>0</td>\n",
       "      <td>52</td>\n",
       "    </tr>\n",
       "    <tr>\n",
       "      <th>73</th>\n",
       "      <td>2023-09-27 12:44:31</td>\n",
       "      <td>0</td>\n",
       "      <td>0</td>\n",
       "      <td>4</td>\n",
       "    </tr>\n",
       "    <tr>\n",
       "      <th>74</th>\n",
       "      <td>2023-09-27 12:44:44</td>\n",
       "      <td>2</td>\n",
       "      <td>0</td>\n",
       "      <td>12</td>\n",
       "    </tr>\n",
       "    <tr>\n",
       "      <th>75</th>\n",
       "      <td>2023-09-27 12:44:57</td>\n",
       "      <td>2</td>\n",
       "      <td>0</td>\n",
       "      <td>12</td>\n",
       "    </tr>\n",
       "    <tr>\n",
       "      <th>76</th>\n",
       "      <td>2023-09-27 12:45:08</td>\n",
       "      <td>2</td>\n",
       "      <td>0</td>\n",
       "      <td>11</td>\n",
       "    </tr>\n",
       "    <tr>\n",
       "      <th>77</th>\n",
       "      <td>2023-09-27 12:45:22</td>\n",
       "      <td>2</td>\n",
       "      <td>0</td>\n",
       "      <td>13</td>\n",
       "    </tr>\n",
       "    <tr>\n",
       "      <th>78</th>\n",
       "      <td>2023-09-27 12:45:35</td>\n",
       "      <td>2</td>\n",
       "      <td>0</td>\n",
       "      <td>13</td>\n",
       "    </tr>\n",
       "    <tr>\n",
       "      <th>79</th>\n",
       "      <td>2023-09-27 12:45:47</td>\n",
       "      <td>2</td>\n",
       "      <td>0</td>\n",
       "      <td>12</td>\n",
       "    </tr>\n",
       "    <tr>\n",
       "      <th>80</th>\n",
       "      <td>2023-09-27 12:46:00</td>\n",
       "      <td>2</td>\n",
       "      <td>0</td>\n",
       "      <td>12</td>\n",
       "    </tr>\n",
       "    <tr>\n",
       "      <th>81</th>\n",
       "      <td>2023-09-27 12:46:13</td>\n",
       "      <td>2</td>\n",
       "      <td>0</td>\n",
       "      <td>13</td>\n",
       "    </tr>\n",
       "    <tr>\n",
       "      <th>82</th>\n",
       "      <td>2023-09-27 12:46:26</td>\n",
       "      <td>2</td>\n",
       "      <td>0</td>\n",
       "      <td>12</td>\n",
       "    </tr>\n",
       "    <tr>\n",
       "      <th>83</th>\n",
       "      <td>2023-09-27 12:46:38</td>\n",
       "      <td>2</td>\n",
       "      <td>0</td>\n",
       "      <td>12</td>\n",
       "    </tr>\n",
       "    <tr>\n",
       "      <th>84</th>\n",
       "      <td>2023-09-27 12:46:50</td>\n",
       "      <td>2</td>\n",
       "      <td>0</td>\n",
       "      <td>12</td>\n",
       "    </tr>\n",
       "    <tr>\n",
       "      <th>85</th>\n",
       "      <td>2023-09-27 12:47:03</td>\n",
       "      <td>2</td>\n",
       "      <td>0</td>\n",
       "      <td>12</td>\n",
       "    </tr>\n",
       "    <tr>\n",
       "      <th>86</th>\n",
       "      <td>2023-09-27 12:47:28</td>\n",
       "      <td>2</td>\n",
       "      <td>0</td>\n",
       "      <td>12</td>\n",
       "    </tr>\n",
       "    <tr>\n",
       "      <th>87</th>\n",
       "      <td>2023-09-27 12:47:28</td>\n",
       "      <td>2</td>\n",
       "      <td>0</td>\n",
       "      <td>12</td>\n",
       "    </tr>\n",
       "    <tr>\n",
       "      <th>88</th>\n",
       "      <td>2023-09-27 12:47:41</td>\n",
       "      <td>2</td>\n",
       "      <td>0</td>\n",
       "      <td>12</td>\n",
       "    </tr>\n",
       "  </tbody>\n",
       "</table>\n",
       "</div>"
      ],
      "text/plain": [
       "                    ts  task  empid   sec\n",
       "0  2023-09-27 10:19:27     0      0   217\n",
       "1  2023-09-27 10:19:43     1      0    14\n",
       "2  2023-09-27 10:19:58     1      0    15\n",
       "3  2023-09-27 10:20:16     1      0    17\n",
       "4  2023-09-27 10:20:31     1      0    15\n",
       "5  2023-09-27 10:20:48     1      0    16\n",
       "6  2023-09-27 10:21:01     1      0    13\n",
       "7  2023-09-27 10:21:14     1      0    12\n",
       "8  2023-09-27 10:21:30     1      0    16\n",
       "9  2023-09-27 10:21:43     1      0    12\n",
       "10 2023-09-27 10:21:55     1      0    12\n",
       "11 2023-09-27 10:22:06     1      0    11\n",
       "12 2023-09-27 10:22:18     1      0    12\n",
       "13 2023-09-27 10:22:30     1      0    11\n",
       "14 2023-09-27 10:22:42     1      0    12\n",
       "15 2023-09-27 10:22:53     1      0    11\n",
       "16 2023-09-27 10:23:05     1      0    11\n",
       "17 2023-09-27 10:23:17     1      0    12\n",
       "18 2023-09-27 10:23:29     1      0    12\n",
       "19 2023-09-27 10:23:41     1      0    12\n",
       "20 2023-09-27 10:23:54     1      0    12\n",
       "21 2023-09-27 10:24:06     1      0    11\n",
       "22 2023-09-27 10:24:17     1      0    12\n",
       "23 2023-09-27 10:24:30     1      0    12\n",
       "24 2023-09-27 10:25:11     0      0    26\n",
       "25 2023-09-27 10:25:54     4      0    41\n",
       "26 2023-09-27 10:26:07     4      0    12\n",
       "27 2023-09-27 10:26:51     4      0    43\n",
       "28 2023-09-27 10:27:32     4      0    40\n",
       "29 2023-09-27 10:28:15     4      0    42\n",
       "30 2023-09-27 10:28:56     4      0    40\n",
       "31 2023-09-27 10:29:39     4      0    42\n",
       "32 2023-09-27 10:30:23     4      0    43\n",
       "33 2023-09-27 10:31:04     4      0    40\n",
       "34 2023-09-27 10:32:18     0      0    21\n",
       "35 2023-09-27 10:32:18     2      0    13\n",
       "36 2023-09-27 10:32:18     2      0    11\n",
       "37 2023-09-27 10:32:33     2      0    12\n",
       "38 2023-09-27 10:32:45     2      0    12\n",
       "39 2023-09-27 10:32:58     2      0    13\n",
       "40 2023-09-27 10:33:10     2      0    11\n",
       "41 2023-09-27 10:33:22     2      0    12\n",
       "42 2023-09-27 10:33:35     2      0    13\n",
       "43 2023-09-27 10:33:47     2      0    11\n",
       "44 2023-09-27 10:33:59     2      0    12\n",
       "45 2023-09-27 10:34:11     2      0    12\n",
       "46 2023-09-27 10:34:23     2      0    11\n",
       "47 2023-09-27 12:34:24     0      0  5890\n",
       "48 2023-09-27 12:34:38     1      0    12\n",
       "49 2023-09-27 12:34:51     1      0    12\n",
       "50 2023-09-27 12:35:04     1      0    13\n",
       "51 2023-09-27 12:35:16     1      0    12\n",
       "52 2023-09-27 12:35:29     1      0    12\n",
       "53 2023-09-27 12:35:41     1      0    12\n",
       "54 2023-09-27 12:35:52     1      0    11\n",
       "55 2023-09-27 12:36:05     1      0    12\n",
       "56 2023-09-27 12:36:18     1      0    13\n",
       "57 2023-09-27 12:36:29     1      0    11\n",
       "58 2023-09-27 12:36:42     1      0    12\n",
       "59 2023-09-27 12:36:53     1      0    11\n",
       "60 2023-09-27 12:37:05     1      0    12\n",
       "61 2023-09-27 12:37:18     1      0    12\n",
       "62 2023-09-27 12:37:34     0      0    15\n",
       "63 2023-09-27 12:38:16     4      0    40\n",
       "64 2023-09-27 12:38:57     4      0    39\n",
       "65 2023-09-27 12:39:40     4      0    42\n",
       "66 2023-09-27 12:40:20     4      0    40\n",
       "67 2023-09-27 12:41:00     4      0    39\n",
       "68 2023-09-27 12:41:42     4      0    41\n",
       "69 2023-09-27 12:42:23     4      0    40\n",
       "70 2023-09-27 12:43:04     4      0    40\n",
       "71 2023-09-27 12:43:46     4      0    41\n",
       "72 2023-09-27 12:44:15     0      0    52\n",
       "73 2023-09-27 12:44:31     0      0     4\n",
       "74 2023-09-27 12:44:44     2      0    12\n",
       "75 2023-09-27 12:44:57     2      0    12\n",
       "76 2023-09-27 12:45:08     2      0    11\n",
       "77 2023-09-27 12:45:22     2      0    13\n",
       "78 2023-09-27 12:45:35     2      0    13\n",
       "79 2023-09-27 12:45:47     2      0    12\n",
       "80 2023-09-27 12:46:00     2      0    12\n",
       "81 2023-09-27 12:46:13     2      0    13\n",
       "82 2023-09-27 12:46:26     2      0    12\n",
       "83 2023-09-27 12:46:38     2      0    12\n",
       "84 2023-09-27 12:46:50     2      0    12\n",
       "85 2023-09-27 12:47:03     2      0    12\n",
       "86 2023-09-27 12:47:28     2      0    12\n",
       "87 2023-09-27 12:47:28     2      0    12\n",
       "88 2023-09-27 12:47:41     2      0    12"
      ]
     },
     "metadata": {},
     "output_type": "display_data"
    }
   ],
   "source": [
    "if not os.path.exists(\"images\"):\n",
    "    os.mkdir(\"images\")\n",
    "\n",
    "day = \"27\"\n",
    "month = \"09\"\n",
    "dataset = \"task\"\n",
    "\n",
    "date = day + \"_\" + month #change date accordingly\n",
    "date_year = \"2023-\" + month + \"-\" + day\n",
    "\n",
    "folder_path = dataset + '_' + date + '/'\n",
    "\n",
    "\n",
    "def process_file(date):\n",
    "    file_path = os.path.join(f'{dataset}_{date}.csv')\n",
    "\n",
    "    df = pd.read_csv(file_path, parse_dates=['ts'])\n",
    "\n",
    "    # Remove first empty column if it exists\n",
    "    if df.shape[1] == 5:\n",
    "        df = df.drop(df.columns[0], axis=1)\n",
    "    # Remove entries with 'gabarit' equal to 0\n",
    "    df= df[df['sec'] != 0]\n",
    "\n",
    "    # Write the updated DataFrame back to the CSV file\n",
    "    df.to_csv(file_path, index = False)\n",
    "    # Reset the index of the DataFrame\n",
    "    df = df.reset_index(drop = True)\n",
    "\n",
    "    return df\n",
    "\n",
    "df = process_file(date)\n",
    "display(df)"
   ]
  },
  {
   "cell_type": "code",
   "execution_count": 4,
   "metadata": {},
   "outputs": [
    {
     "data": {
      "text/html": [
       "<div>\n",
       "<style scoped>\n",
       "    .dataframe tbody tr th:only-of-type {\n",
       "        vertical-align: middle;\n",
       "    }\n",
       "\n",
       "    .dataframe tbody tr th {\n",
       "        vertical-align: top;\n",
       "    }\n",
       "\n",
       "    .dataframe thead th {\n",
       "        text-align: right;\n",
       "    }\n",
       "</style>\n",
       "<table border=\"1\" class=\"dataframe\">\n",
       "  <thead>\n",
       "    <tr style=\"text-align: right;\">\n",
       "      <th></th>\n",
       "      <th>ts</th>\n",
       "      <th>empid</th>\n",
       "      <th>emp_name</th>\n",
       "      <th>task</th>\n",
       "      <th>task_name</th>\n",
       "      <th>sec</th>\n",
       "    </tr>\n",
       "  </thead>\n",
       "  <tbody>\n",
       "    <tr>\n",
       "      <th>1</th>\n",
       "      <td>2023-09-27 10:19:43</td>\n",
       "      <td>0</td>\n",
       "      <td>Fernando</td>\n",
       "      <td>1</td>\n",
       "      <td>TEKOX Red Black Cables</td>\n",
       "      <td>14</td>\n",
       "    </tr>\n",
       "    <tr>\n",
       "      <th>2</th>\n",
       "      <td>2023-09-27 10:19:58</td>\n",
       "      <td>0</td>\n",
       "      <td>Fernando</td>\n",
       "      <td>1</td>\n",
       "      <td>TEKOX Red Black Cables</td>\n",
       "      <td>15</td>\n",
       "    </tr>\n",
       "    <tr>\n",
       "      <th>3</th>\n",
       "      <td>2023-09-27 10:20:16</td>\n",
       "      <td>0</td>\n",
       "      <td>Fernando</td>\n",
       "      <td>1</td>\n",
       "      <td>TEKOX Red Black Cables</td>\n",
       "      <td>17</td>\n",
       "    </tr>\n",
       "    <tr>\n",
       "      <th>4</th>\n",
       "      <td>2023-09-27 10:20:31</td>\n",
       "      <td>0</td>\n",
       "      <td>Fernando</td>\n",
       "      <td>1</td>\n",
       "      <td>TEKOX Red Black Cables</td>\n",
       "      <td>15</td>\n",
       "    </tr>\n",
       "    <tr>\n",
       "      <th>5</th>\n",
       "      <td>2023-09-27 10:20:48</td>\n",
       "      <td>0</td>\n",
       "      <td>Fernando</td>\n",
       "      <td>1</td>\n",
       "      <td>TEKOX Red Black Cables</td>\n",
       "      <td>16</td>\n",
       "    </tr>\n",
       "    <tr>\n",
       "      <th>6</th>\n",
       "      <td>2023-09-27 10:21:01</td>\n",
       "      <td>0</td>\n",
       "      <td>Fernando</td>\n",
       "      <td>1</td>\n",
       "      <td>TEKOX Red Black Cables</td>\n",
       "      <td>13</td>\n",
       "    </tr>\n",
       "    <tr>\n",
       "      <th>7</th>\n",
       "      <td>2023-09-27 10:21:14</td>\n",
       "      <td>0</td>\n",
       "      <td>Fernando</td>\n",
       "      <td>1</td>\n",
       "      <td>TEKOX Red Black Cables</td>\n",
       "      <td>12</td>\n",
       "    </tr>\n",
       "    <tr>\n",
       "      <th>8</th>\n",
       "      <td>2023-09-27 10:21:30</td>\n",
       "      <td>0</td>\n",
       "      <td>Fernando</td>\n",
       "      <td>1</td>\n",
       "      <td>TEKOX Red Black Cables</td>\n",
       "      <td>16</td>\n",
       "    </tr>\n",
       "    <tr>\n",
       "      <th>9</th>\n",
       "      <td>2023-09-27 10:21:43</td>\n",
       "      <td>0</td>\n",
       "      <td>Fernando</td>\n",
       "      <td>1</td>\n",
       "      <td>TEKOX Red Black Cables</td>\n",
       "      <td>12</td>\n",
       "    </tr>\n",
       "    <tr>\n",
       "      <th>10</th>\n",
       "      <td>2023-09-27 10:21:55</td>\n",
       "      <td>0</td>\n",
       "      <td>Fernando</td>\n",
       "      <td>1</td>\n",
       "      <td>TEKOX Red Black Cables</td>\n",
       "      <td>12</td>\n",
       "    </tr>\n",
       "    <tr>\n",
       "      <th>11</th>\n",
       "      <td>2023-09-27 10:22:06</td>\n",
       "      <td>0</td>\n",
       "      <td>Fernando</td>\n",
       "      <td>1</td>\n",
       "      <td>TEKOX Red Black Cables</td>\n",
       "      <td>11</td>\n",
       "    </tr>\n",
       "    <tr>\n",
       "      <th>12</th>\n",
       "      <td>2023-09-27 10:22:18</td>\n",
       "      <td>0</td>\n",
       "      <td>Fernando</td>\n",
       "      <td>1</td>\n",
       "      <td>TEKOX Red Black Cables</td>\n",
       "      <td>12</td>\n",
       "    </tr>\n",
       "    <tr>\n",
       "      <th>13</th>\n",
       "      <td>2023-09-27 10:22:30</td>\n",
       "      <td>0</td>\n",
       "      <td>Fernando</td>\n",
       "      <td>1</td>\n",
       "      <td>TEKOX Red Black Cables</td>\n",
       "      <td>11</td>\n",
       "    </tr>\n",
       "    <tr>\n",
       "      <th>14</th>\n",
       "      <td>2023-09-27 10:22:42</td>\n",
       "      <td>0</td>\n",
       "      <td>Fernando</td>\n",
       "      <td>1</td>\n",
       "      <td>TEKOX Red Black Cables</td>\n",
       "      <td>12</td>\n",
       "    </tr>\n",
       "    <tr>\n",
       "      <th>15</th>\n",
       "      <td>2023-09-27 10:22:53</td>\n",
       "      <td>0</td>\n",
       "      <td>Fernando</td>\n",
       "      <td>1</td>\n",
       "      <td>TEKOX Red Black Cables</td>\n",
       "      <td>11</td>\n",
       "    </tr>\n",
       "    <tr>\n",
       "      <th>16</th>\n",
       "      <td>2023-09-27 10:23:05</td>\n",
       "      <td>0</td>\n",
       "      <td>Fernando</td>\n",
       "      <td>1</td>\n",
       "      <td>TEKOX Red Black Cables</td>\n",
       "      <td>11</td>\n",
       "    </tr>\n",
       "    <tr>\n",
       "      <th>17</th>\n",
       "      <td>2023-09-27 10:23:17</td>\n",
       "      <td>0</td>\n",
       "      <td>Fernando</td>\n",
       "      <td>1</td>\n",
       "      <td>TEKOX Red Black Cables</td>\n",
       "      <td>12</td>\n",
       "    </tr>\n",
       "    <tr>\n",
       "      <th>18</th>\n",
       "      <td>2023-09-27 10:23:29</td>\n",
       "      <td>0</td>\n",
       "      <td>Fernando</td>\n",
       "      <td>1</td>\n",
       "      <td>TEKOX Red Black Cables</td>\n",
       "      <td>12</td>\n",
       "    </tr>\n",
       "    <tr>\n",
       "      <th>19</th>\n",
       "      <td>2023-09-27 10:23:41</td>\n",
       "      <td>0</td>\n",
       "      <td>Fernando</td>\n",
       "      <td>1</td>\n",
       "      <td>TEKOX Red Black Cables</td>\n",
       "      <td>12</td>\n",
       "    </tr>\n",
       "    <tr>\n",
       "      <th>20</th>\n",
       "      <td>2023-09-27 10:23:54</td>\n",
       "      <td>0</td>\n",
       "      <td>Fernando</td>\n",
       "      <td>1</td>\n",
       "      <td>TEKOX Red Black Cables</td>\n",
       "      <td>12</td>\n",
       "    </tr>\n",
       "    <tr>\n",
       "      <th>21</th>\n",
       "      <td>2023-09-27 10:24:06</td>\n",
       "      <td>0</td>\n",
       "      <td>Fernando</td>\n",
       "      <td>1</td>\n",
       "      <td>TEKOX Red Black Cables</td>\n",
       "      <td>11</td>\n",
       "    </tr>\n",
       "    <tr>\n",
       "      <th>22</th>\n",
       "      <td>2023-09-27 10:24:17</td>\n",
       "      <td>0</td>\n",
       "      <td>Fernando</td>\n",
       "      <td>1</td>\n",
       "      <td>TEKOX Red Black Cables</td>\n",
       "      <td>12</td>\n",
       "    </tr>\n",
       "    <tr>\n",
       "      <th>23</th>\n",
       "      <td>2023-09-27 10:24:30</td>\n",
       "      <td>0</td>\n",
       "      <td>Fernando</td>\n",
       "      <td>1</td>\n",
       "      <td>TEKOX Red Black Cables</td>\n",
       "      <td>12</td>\n",
       "    </tr>\n",
       "    <tr>\n",
       "      <th>25</th>\n",
       "      <td>2023-09-27 10:25:54</td>\n",
       "      <td>0</td>\n",
       "      <td>Fernando</td>\n",
       "      <td>4</td>\n",
       "      <td>Screws in Boards</td>\n",
       "      <td>41</td>\n",
       "    </tr>\n",
       "    <tr>\n",
       "      <th>26</th>\n",
       "      <td>2023-09-27 10:26:07</td>\n",
       "      <td>0</td>\n",
       "      <td>Fernando</td>\n",
       "      <td>4</td>\n",
       "      <td>Screws in Boards</td>\n",
       "      <td>12</td>\n",
       "    </tr>\n",
       "    <tr>\n",
       "      <th>27</th>\n",
       "      <td>2023-09-27 10:26:51</td>\n",
       "      <td>0</td>\n",
       "      <td>Fernando</td>\n",
       "      <td>4</td>\n",
       "      <td>Screws in Boards</td>\n",
       "      <td>43</td>\n",
       "    </tr>\n",
       "    <tr>\n",
       "      <th>28</th>\n",
       "      <td>2023-09-27 10:27:32</td>\n",
       "      <td>0</td>\n",
       "      <td>Fernando</td>\n",
       "      <td>4</td>\n",
       "      <td>Screws in Boards</td>\n",
       "      <td>40</td>\n",
       "    </tr>\n",
       "    <tr>\n",
       "      <th>29</th>\n",
       "      <td>2023-09-27 10:28:15</td>\n",
       "      <td>0</td>\n",
       "      <td>Fernando</td>\n",
       "      <td>4</td>\n",
       "      <td>Screws in Boards</td>\n",
       "      <td>42</td>\n",
       "    </tr>\n",
       "    <tr>\n",
       "      <th>30</th>\n",
       "      <td>2023-09-27 10:28:56</td>\n",
       "      <td>0</td>\n",
       "      <td>Fernando</td>\n",
       "      <td>4</td>\n",
       "      <td>Screws in Boards</td>\n",
       "      <td>40</td>\n",
       "    </tr>\n",
       "    <tr>\n",
       "      <th>31</th>\n",
       "      <td>2023-09-27 10:29:39</td>\n",
       "      <td>0</td>\n",
       "      <td>Fernando</td>\n",
       "      <td>4</td>\n",
       "      <td>Screws in Boards</td>\n",
       "      <td>42</td>\n",
       "    </tr>\n",
       "    <tr>\n",
       "      <th>32</th>\n",
       "      <td>2023-09-27 10:30:23</td>\n",
       "      <td>0</td>\n",
       "      <td>Fernando</td>\n",
       "      <td>4</td>\n",
       "      <td>Screws in Boards</td>\n",
       "      <td>43</td>\n",
       "    </tr>\n",
       "    <tr>\n",
       "      <th>33</th>\n",
       "      <td>2023-09-27 10:31:04</td>\n",
       "      <td>0</td>\n",
       "      <td>Fernando</td>\n",
       "      <td>4</td>\n",
       "      <td>Screws in Boards</td>\n",
       "      <td>40</td>\n",
       "    </tr>\n",
       "    <tr>\n",
       "      <th>35</th>\n",
       "      <td>2023-09-27 10:32:18</td>\n",
       "      <td>0</td>\n",
       "      <td>Fernando</td>\n",
       "      <td>2</td>\n",
       "      <td>TEKOX Blue Brown Cables</td>\n",
       "      <td>13</td>\n",
       "    </tr>\n",
       "    <tr>\n",
       "      <th>36</th>\n",
       "      <td>2023-09-27 10:32:18</td>\n",
       "      <td>0</td>\n",
       "      <td>Fernando</td>\n",
       "      <td>2</td>\n",
       "      <td>TEKOX Blue Brown Cables</td>\n",
       "      <td>11</td>\n",
       "    </tr>\n",
       "    <tr>\n",
       "      <th>37</th>\n",
       "      <td>2023-09-27 10:32:33</td>\n",
       "      <td>0</td>\n",
       "      <td>Fernando</td>\n",
       "      <td>2</td>\n",
       "      <td>TEKOX Blue Brown Cables</td>\n",
       "      <td>12</td>\n",
       "    </tr>\n",
       "    <tr>\n",
       "      <th>38</th>\n",
       "      <td>2023-09-27 10:32:45</td>\n",
       "      <td>0</td>\n",
       "      <td>Fernando</td>\n",
       "      <td>2</td>\n",
       "      <td>TEKOX Blue Brown Cables</td>\n",
       "      <td>12</td>\n",
       "    </tr>\n",
       "    <tr>\n",
       "      <th>39</th>\n",
       "      <td>2023-09-27 10:32:58</td>\n",
       "      <td>0</td>\n",
       "      <td>Fernando</td>\n",
       "      <td>2</td>\n",
       "      <td>TEKOX Blue Brown Cables</td>\n",
       "      <td>13</td>\n",
       "    </tr>\n",
       "    <tr>\n",
       "      <th>40</th>\n",
       "      <td>2023-09-27 10:33:10</td>\n",
       "      <td>0</td>\n",
       "      <td>Fernando</td>\n",
       "      <td>2</td>\n",
       "      <td>TEKOX Blue Brown Cables</td>\n",
       "      <td>11</td>\n",
       "    </tr>\n",
       "    <tr>\n",
       "      <th>41</th>\n",
       "      <td>2023-09-27 10:33:22</td>\n",
       "      <td>0</td>\n",
       "      <td>Fernando</td>\n",
       "      <td>2</td>\n",
       "      <td>TEKOX Blue Brown Cables</td>\n",
       "      <td>12</td>\n",
       "    </tr>\n",
       "    <tr>\n",
       "      <th>42</th>\n",
       "      <td>2023-09-27 10:33:35</td>\n",
       "      <td>0</td>\n",
       "      <td>Fernando</td>\n",
       "      <td>2</td>\n",
       "      <td>TEKOX Blue Brown Cables</td>\n",
       "      <td>13</td>\n",
       "    </tr>\n",
       "    <tr>\n",
       "      <th>43</th>\n",
       "      <td>2023-09-27 10:33:47</td>\n",
       "      <td>0</td>\n",
       "      <td>Fernando</td>\n",
       "      <td>2</td>\n",
       "      <td>TEKOX Blue Brown Cables</td>\n",
       "      <td>11</td>\n",
       "    </tr>\n",
       "    <tr>\n",
       "      <th>44</th>\n",
       "      <td>2023-09-27 10:33:59</td>\n",
       "      <td>0</td>\n",
       "      <td>Fernando</td>\n",
       "      <td>2</td>\n",
       "      <td>TEKOX Blue Brown Cables</td>\n",
       "      <td>12</td>\n",
       "    </tr>\n",
       "    <tr>\n",
       "      <th>45</th>\n",
       "      <td>2023-09-27 10:34:11</td>\n",
       "      <td>0</td>\n",
       "      <td>Fernando</td>\n",
       "      <td>2</td>\n",
       "      <td>TEKOX Blue Brown Cables</td>\n",
       "      <td>12</td>\n",
       "    </tr>\n",
       "    <tr>\n",
       "      <th>46</th>\n",
       "      <td>2023-09-27 10:34:23</td>\n",
       "      <td>0</td>\n",
       "      <td>Fernando</td>\n",
       "      <td>2</td>\n",
       "      <td>TEKOX Blue Brown Cables</td>\n",
       "      <td>11</td>\n",
       "    </tr>\n",
       "    <tr>\n",
       "      <th>48</th>\n",
       "      <td>2023-09-27 12:34:38</td>\n",
       "      <td>0</td>\n",
       "      <td>Fernando</td>\n",
       "      <td>1</td>\n",
       "      <td>TEKOX Red Black Cables</td>\n",
       "      <td>12</td>\n",
       "    </tr>\n",
       "    <tr>\n",
       "      <th>49</th>\n",
       "      <td>2023-09-27 12:34:51</td>\n",
       "      <td>0</td>\n",
       "      <td>Fernando</td>\n",
       "      <td>1</td>\n",
       "      <td>TEKOX Red Black Cables</td>\n",
       "      <td>12</td>\n",
       "    </tr>\n",
       "    <tr>\n",
       "      <th>50</th>\n",
       "      <td>2023-09-27 12:35:04</td>\n",
       "      <td>0</td>\n",
       "      <td>Fernando</td>\n",
       "      <td>1</td>\n",
       "      <td>TEKOX Red Black Cables</td>\n",
       "      <td>13</td>\n",
       "    </tr>\n",
       "    <tr>\n",
       "      <th>51</th>\n",
       "      <td>2023-09-27 12:35:16</td>\n",
       "      <td>0</td>\n",
       "      <td>Fernando</td>\n",
       "      <td>1</td>\n",
       "      <td>TEKOX Red Black Cables</td>\n",
       "      <td>12</td>\n",
       "    </tr>\n",
       "    <tr>\n",
       "      <th>52</th>\n",
       "      <td>2023-09-27 12:35:29</td>\n",
       "      <td>0</td>\n",
       "      <td>Fernando</td>\n",
       "      <td>1</td>\n",
       "      <td>TEKOX Red Black Cables</td>\n",
       "      <td>12</td>\n",
       "    </tr>\n",
       "    <tr>\n",
       "      <th>53</th>\n",
       "      <td>2023-09-27 12:35:41</td>\n",
       "      <td>0</td>\n",
       "      <td>Fernando</td>\n",
       "      <td>1</td>\n",
       "      <td>TEKOX Red Black Cables</td>\n",
       "      <td>12</td>\n",
       "    </tr>\n",
       "    <tr>\n",
       "      <th>54</th>\n",
       "      <td>2023-09-27 12:35:52</td>\n",
       "      <td>0</td>\n",
       "      <td>Fernando</td>\n",
       "      <td>1</td>\n",
       "      <td>TEKOX Red Black Cables</td>\n",
       "      <td>11</td>\n",
       "    </tr>\n",
       "    <tr>\n",
       "      <th>55</th>\n",
       "      <td>2023-09-27 12:36:05</td>\n",
       "      <td>0</td>\n",
       "      <td>Fernando</td>\n",
       "      <td>1</td>\n",
       "      <td>TEKOX Red Black Cables</td>\n",
       "      <td>12</td>\n",
       "    </tr>\n",
       "    <tr>\n",
       "      <th>56</th>\n",
       "      <td>2023-09-27 12:36:18</td>\n",
       "      <td>0</td>\n",
       "      <td>Fernando</td>\n",
       "      <td>1</td>\n",
       "      <td>TEKOX Red Black Cables</td>\n",
       "      <td>13</td>\n",
       "    </tr>\n",
       "    <tr>\n",
       "      <th>57</th>\n",
       "      <td>2023-09-27 12:36:29</td>\n",
       "      <td>0</td>\n",
       "      <td>Fernando</td>\n",
       "      <td>1</td>\n",
       "      <td>TEKOX Red Black Cables</td>\n",
       "      <td>11</td>\n",
       "    </tr>\n",
       "    <tr>\n",
       "      <th>58</th>\n",
       "      <td>2023-09-27 12:36:42</td>\n",
       "      <td>0</td>\n",
       "      <td>Fernando</td>\n",
       "      <td>1</td>\n",
       "      <td>TEKOX Red Black Cables</td>\n",
       "      <td>12</td>\n",
       "    </tr>\n",
       "    <tr>\n",
       "      <th>59</th>\n",
       "      <td>2023-09-27 12:36:53</td>\n",
       "      <td>0</td>\n",
       "      <td>Fernando</td>\n",
       "      <td>1</td>\n",
       "      <td>TEKOX Red Black Cables</td>\n",
       "      <td>11</td>\n",
       "    </tr>\n",
       "    <tr>\n",
       "      <th>60</th>\n",
       "      <td>2023-09-27 12:37:05</td>\n",
       "      <td>0</td>\n",
       "      <td>Fernando</td>\n",
       "      <td>1</td>\n",
       "      <td>TEKOX Red Black Cables</td>\n",
       "      <td>12</td>\n",
       "    </tr>\n",
       "    <tr>\n",
       "      <th>61</th>\n",
       "      <td>2023-09-27 12:37:18</td>\n",
       "      <td>0</td>\n",
       "      <td>Fernando</td>\n",
       "      <td>1</td>\n",
       "      <td>TEKOX Red Black Cables</td>\n",
       "      <td>12</td>\n",
       "    </tr>\n",
       "    <tr>\n",
       "      <th>63</th>\n",
       "      <td>2023-09-27 12:38:16</td>\n",
       "      <td>0</td>\n",
       "      <td>Fernando</td>\n",
       "      <td>4</td>\n",
       "      <td>Screws in Boards</td>\n",
       "      <td>40</td>\n",
       "    </tr>\n",
       "    <tr>\n",
       "      <th>64</th>\n",
       "      <td>2023-09-27 12:38:57</td>\n",
       "      <td>0</td>\n",
       "      <td>Fernando</td>\n",
       "      <td>4</td>\n",
       "      <td>Screws in Boards</td>\n",
       "      <td>39</td>\n",
       "    </tr>\n",
       "    <tr>\n",
       "      <th>65</th>\n",
       "      <td>2023-09-27 12:39:40</td>\n",
       "      <td>0</td>\n",
       "      <td>Fernando</td>\n",
       "      <td>4</td>\n",
       "      <td>Screws in Boards</td>\n",
       "      <td>42</td>\n",
       "    </tr>\n",
       "    <tr>\n",
       "      <th>66</th>\n",
       "      <td>2023-09-27 12:40:20</td>\n",
       "      <td>0</td>\n",
       "      <td>Fernando</td>\n",
       "      <td>4</td>\n",
       "      <td>Screws in Boards</td>\n",
       "      <td>40</td>\n",
       "    </tr>\n",
       "    <tr>\n",
       "      <th>67</th>\n",
       "      <td>2023-09-27 12:41:00</td>\n",
       "      <td>0</td>\n",
       "      <td>Fernando</td>\n",
       "      <td>4</td>\n",
       "      <td>Screws in Boards</td>\n",
       "      <td>39</td>\n",
       "    </tr>\n",
       "    <tr>\n",
       "      <th>68</th>\n",
       "      <td>2023-09-27 12:41:42</td>\n",
       "      <td>0</td>\n",
       "      <td>Fernando</td>\n",
       "      <td>4</td>\n",
       "      <td>Screws in Boards</td>\n",
       "      <td>41</td>\n",
       "    </tr>\n",
       "    <tr>\n",
       "      <th>69</th>\n",
       "      <td>2023-09-27 12:42:23</td>\n",
       "      <td>0</td>\n",
       "      <td>Fernando</td>\n",
       "      <td>4</td>\n",
       "      <td>Screws in Boards</td>\n",
       "      <td>40</td>\n",
       "    </tr>\n",
       "    <tr>\n",
       "      <th>70</th>\n",
       "      <td>2023-09-27 12:43:04</td>\n",
       "      <td>0</td>\n",
       "      <td>Fernando</td>\n",
       "      <td>4</td>\n",
       "      <td>Screws in Boards</td>\n",
       "      <td>40</td>\n",
       "    </tr>\n",
       "    <tr>\n",
       "      <th>71</th>\n",
       "      <td>2023-09-27 12:43:46</td>\n",
       "      <td>0</td>\n",
       "      <td>Fernando</td>\n",
       "      <td>4</td>\n",
       "      <td>Screws in Boards</td>\n",
       "      <td>41</td>\n",
       "    </tr>\n",
       "    <tr>\n",
       "      <th>74</th>\n",
       "      <td>2023-09-27 12:44:44</td>\n",
       "      <td>0</td>\n",
       "      <td>Fernando</td>\n",
       "      <td>2</td>\n",
       "      <td>TEKOX Blue Brown Cables</td>\n",
       "      <td>12</td>\n",
       "    </tr>\n",
       "    <tr>\n",
       "      <th>75</th>\n",
       "      <td>2023-09-27 12:44:57</td>\n",
       "      <td>0</td>\n",
       "      <td>Fernando</td>\n",
       "      <td>2</td>\n",
       "      <td>TEKOX Blue Brown Cables</td>\n",
       "      <td>12</td>\n",
       "    </tr>\n",
       "    <tr>\n",
       "      <th>76</th>\n",
       "      <td>2023-09-27 12:45:08</td>\n",
       "      <td>0</td>\n",
       "      <td>Fernando</td>\n",
       "      <td>2</td>\n",
       "      <td>TEKOX Blue Brown Cables</td>\n",
       "      <td>11</td>\n",
       "    </tr>\n",
       "    <tr>\n",
       "      <th>77</th>\n",
       "      <td>2023-09-27 12:45:22</td>\n",
       "      <td>0</td>\n",
       "      <td>Fernando</td>\n",
       "      <td>2</td>\n",
       "      <td>TEKOX Blue Brown Cables</td>\n",
       "      <td>13</td>\n",
       "    </tr>\n",
       "    <tr>\n",
       "      <th>78</th>\n",
       "      <td>2023-09-27 12:45:35</td>\n",
       "      <td>0</td>\n",
       "      <td>Fernando</td>\n",
       "      <td>2</td>\n",
       "      <td>TEKOX Blue Brown Cables</td>\n",
       "      <td>13</td>\n",
       "    </tr>\n",
       "    <tr>\n",
       "      <th>79</th>\n",
       "      <td>2023-09-27 12:45:47</td>\n",
       "      <td>0</td>\n",
       "      <td>Fernando</td>\n",
       "      <td>2</td>\n",
       "      <td>TEKOX Blue Brown Cables</td>\n",
       "      <td>12</td>\n",
       "    </tr>\n",
       "    <tr>\n",
       "      <th>80</th>\n",
       "      <td>2023-09-27 12:46:00</td>\n",
       "      <td>0</td>\n",
       "      <td>Fernando</td>\n",
       "      <td>2</td>\n",
       "      <td>TEKOX Blue Brown Cables</td>\n",
       "      <td>12</td>\n",
       "    </tr>\n",
       "    <tr>\n",
       "      <th>81</th>\n",
       "      <td>2023-09-27 12:46:13</td>\n",
       "      <td>0</td>\n",
       "      <td>Fernando</td>\n",
       "      <td>2</td>\n",
       "      <td>TEKOX Blue Brown Cables</td>\n",
       "      <td>13</td>\n",
       "    </tr>\n",
       "    <tr>\n",
       "      <th>82</th>\n",
       "      <td>2023-09-27 12:46:26</td>\n",
       "      <td>0</td>\n",
       "      <td>Fernando</td>\n",
       "      <td>2</td>\n",
       "      <td>TEKOX Blue Brown Cables</td>\n",
       "      <td>12</td>\n",
       "    </tr>\n",
       "    <tr>\n",
       "      <th>83</th>\n",
       "      <td>2023-09-27 12:46:38</td>\n",
       "      <td>0</td>\n",
       "      <td>Fernando</td>\n",
       "      <td>2</td>\n",
       "      <td>TEKOX Blue Brown Cables</td>\n",
       "      <td>12</td>\n",
       "    </tr>\n",
       "    <tr>\n",
       "      <th>84</th>\n",
       "      <td>2023-09-27 12:46:50</td>\n",
       "      <td>0</td>\n",
       "      <td>Fernando</td>\n",
       "      <td>2</td>\n",
       "      <td>TEKOX Blue Brown Cables</td>\n",
       "      <td>12</td>\n",
       "    </tr>\n",
       "    <tr>\n",
       "      <th>85</th>\n",
       "      <td>2023-09-27 12:47:03</td>\n",
       "      <td>0</td>\n",
       "      <td>Fernando</td>\n",
       "      <td>2</td>\n",
       "      <td>TEKOX Blue Brown Cables</td>\n",
       "      <td>12</td>\n",
       "    </tr>\n",
       "    <tr>\n",
       "      <th>86</th>\n",
       "      <td>2023-09-27 12:47:28</td>\n",
       "      <td>0</td>\n",
       "      <td>Fernando</td>\n",
       "      <td>2</td>\n",
       "      <td>TEKOX Blue Brown Cables</td>\n",
       "      <td>12</td>\n",
       "    </tr>\n",
       "    <tr>\n",
       "      <th>87</th>\n",
       "      <td>2023-09-27 12:47:28</td>\n",
       "      <td>0</td>\n",
       "      <td>Fernando</td>\n",
       "      <td>2</td>\n",
       "      <td>TEKOX Blue Brown Cables</td>\n",
       "      <td>12</td>\n",
       "    </tr>\n",
       "    <tr>\n",
       "      <th>88</th>\n",
       "      <td>2023-09-27 12:47:41</td>\n",
       "      <td>0</td>\n",
       "      <td>Fernando</td>\n",
       "      <td>2</td>\n",
       "      <td>TEKOX Blue Brown Cables</td>\n",
       "      <td>12</td>\n",
       "    </tr>\n",
       "  </tbody>\n",
       "</table>\n",
       "</div>"
      ],
      "text/plain": [
       "                    ts  empid  emp_name  task                task_name  sec\n",
       "1  2023-09-27 10:19:43      0  Fernando     1   TEKOX Red Black Cables   14\n",
       "2  2023-09-27 10:19:58      0  Fernando     1   TEKOX Red Black Cables   15\n",
       "3  2023-09-27 10:20:16      0  Fernando     1   TEKOX Red Black Cables   17\n",
       "4  2023-09-27 10:20:31      0  Fernando     1   TEKOX Red Black Cables   15\n",
       "5  2023-09-27 10:20:48      0  Fernando     1   TEKOX Red Black Cables   16\n",
       "6  2023-09-27 10:21:01      0  Fernando     1   TEKOX Red Black Cables   13\n",
       "7  2023-09-27 10:21:14      0  Fernando     1   TEKOX Red Black Cables   12\n",
       "8  2023-09-27 10:21:30      0  Fernando     1   TEKOX Red Black Cables   16\n",
       "9  2023-09-27 10:21:43      0  Fernando     1   TEKOX Red Black Cables   12\n",
       "10 2023-09-27 10:21:55      0  Fernando     1   TEKOX Red Black Cables   12\n",
       "11 2023-09-27 10:22:06      0  Fernando     1   TEKOX Red Black Cables   11\n",
       "12 2023-09-27 10:22:18      0  Fernando     1   TEKOX Red Black Cables   12\n",
       "13 2023-09-27 10:22:30      0  Fernando     1   TEKOX Red Black Cables   11\n",
       "14 2023-09-27 10:22:42      0  Fernando     1   TEKOX Red Black Cables   12\n",
       "15 2023-09-27 10:22:53      0  Fernando     1   TEKOX Red Black Cables   11\n",
       "16 2023-09-27 10:23:05      0  Fernando     1   TEKOX Red Black Cables   11\n",
       "17 2023-09-27 10:23:17      0  Fernando     1   TEKOX Red Black Cables   12\n",
       "18 2023-09-27 10:23:29      0  Fernando     1   TEKOX Red Black Cables   12\n",
       "19 2023-09-27 10:23:41      0  Fernando     1   TEKOX Red Black Cables   12\n",
       "20 2023-09-27 10:23:54      0  Fernando     1   TEKOX Red Black Cables   12\n",
       "21 2023-09-27 10:24:06      0  Fernando     1   TEKOX Red Black Cables   11\n",
       "22 2023-09-27 10:24:17      0  Fernando     1   TEKOX Red Black Cables   12\n",
       "23 2023-09-27 10:24:30      0  Fernando     1   TEKOX Red Black Cables   12\n",
       "25 2023-09-27 10:25:54      0  Fernando     4         Screws in Boards   41\n",
       "26 2023-09-27 10:26:07      0  Fernando     4         Screws in Boards   12\n",
       "27 2023-09-27 10:26:51      0  Fernando     4         Screws in Boards   43\n",
       "28 2023-09-27 10:27:32      0  Fernando     4         Screws in Boards   40\n",
       "29 2023-09-27 10:28:15      0  Fernando     4         Screws in Boards   42\n",
       "30 2023-09-27 10:28:56      0  Fernando     4         Screws in Boards   40\n",
       "31 2023-09-27 10:29:39      0  Fernando     4         Screws in Boards   42\n",
       "32 2023-09-27 10:30:23      0  Fernando     4         Screws in Boards   43\n",
       "33 2023-09-27 10:31:04      0  Fernando     4         Screws in Boards   40\n",
       "35 2023-09-27 10:32:18      0  Fernando     2  TEKOX Blue Brown Cables   13\n",
       "36 2023-09-27 10:32:18      0  Fernando     2  TEKOX Blue Brown Cables   11\n",
       "37 2023-09-27 10:32:33      0  Fernando     2  TEKOX Blue Brown Cables   12\n",
       "38 2023-09-27 10:32:45      0  Fernando     2  TEKOX Blue Brown Cables   12\n",
       "39 2023-09-27 10:32:58      0  Fernando     2  TEKOX Blue Brown Cables   13\n",
       "40 2023-09-27 10:33:10      0  Fernando     2  TEKOX Blue Brown Cables   11\n",
       "41 2023-09-27 10:33:22      0  Fernando     2  TEKOX Blue Brown Cables   12\n",
       "42 2023-09-27 10:33:35      0  Fernando     2  TEKOX Blue Brown Cables   13\n",
       "43 2023-09-27 10:33:47      0  Fernando     2  TEKOX Blue Brown Cables   11\n",
       "44 2023-09-27 10:33:59      0  Fernando     2  TEKOX Blue Brown Cables   12\n",
       "45 2023-09-27 10:34:11      0  Fernando     2  TEKOX Blue Brown Cables   12\n",
       "46 2023-09-27 10:34:23      0  Fernando     2  TEKOX Blue Brown Cables   11\n",
       "48 2023-09-27 12:34:38      0  Fernando     1   TEKOX Red Black Cables   12\n",
       "49 2023-09-27 12:34:51      0  Fernando     1   TEKOX Red Black Cables   12\n",
       "50 2023-09-27 12:35:04      0  Fernando     1   TEKOX Red Black Cables   13\n",
       "51 2023-09-27 12:35:16      0  Fernando     1   TEKOX Red Black Cables   12\n",
       "52 2023-09-27 12:35:29      0  Fernando     1   TEKOX Red Black Cables   12\n",
       "53 2023-09-27 12:35:41      0  Fernando     1   TEKOX Red Black Cables   12\n",
       "54 2023-09-27 12:35:52      0  Fernando     1   TEKOX Red Black Cables   11\n",
       "55 2023-09-27 12:36:05      0  Fernando     1   TEKOX Red Black Cables   12\n",
       "56 2023-09-27 12:36:18      0  Fernando     1   TEKOX Red Black Cables   13\n",
       "57 2023-09-27 12:36:29      0  Fernando     1   TEKOX Red Black Cables   11\n",
       "58 2023-09-27 12:36:42      0  Fernando     1   TEKOX Red Black Cables   12\n",
       "59 2023-09-27 12:36:53      0  Fernando     1   TEKOX Red Black Cables   11\n",
       "60 2023-09-27 12:37:05      0  Fernando     1   TEKOX Red Black Cables   12\n",
       "61 2023-09-27 12:37:18      0  Fernando     1   TEKOX Red Black Cables   12\n",
       "63 2023-09-27 12:38:16      0  Fernando     4         Screws in Boards   40\n",
       "64 2023-09-27 12:38:57      0  Fernando     4         Screws in Boards   39\n",
       "65 2023-09-27 12:39:40      0  Fernando     4         Screws in Boards   42\n",
       "66 2023-09-27 12:40:20      0  Fernando     4         Screws in Boards   40\n",
       "67 2023-09-27 12:41:00      0  Fernando     4         Screws in Boards   39\n",
       "68 2023-09-27 12:41:42      0  Fernando     4         Screws in Boards   41\n",
       "69 2023-09-27 12:42:23      0  Fernando     4         Screws in Boards   40\n",
       "70 2023-09-27 12:43:04      0  Fernando     4         Screws in Boards   40\n",
       "71 2023-09-27 12:43:46      0  Fernando     4         Screws in Boards   41\n",
       "74 2023-09-27 12:44:44      0  Fernando     2  TEKOX Blue Brown Cables   12\n",
       "75 2023-09-27 12:44:57      0  Fernando     2  TEKOX Blue Brown Cables   12\n",
       "76 2023-09-27 12:45:08      0  Fernando     2  TEKOX Blue Brown Cables   11\n",
       "77 2023-09-27 12:45:22      0  Fernando     2  TEKOX Blue Brown Cables   13\n",
       "78 2023-09-27 12:45:35      0  Fernando     2  TEKOX Blue Brown Cables   13\n",
       "79 2023-09-27 12:45:47      0  Fernando     2  TEKOX Blue Brown Cables   12\n",
       "80 2023-09-27 12:46:00      0  Fernando     2  TEKOX Blue Brown Cables   12\n",
       "81 2023-09-27 12:46:13      0  Fernando     2  TEKOX Blue Brown Cables   13\n",
       "82 2023-09-27 12:46:26      0  Fernando     2  TEKOX Blue Brown Cables   12\n",
       "83 2023-09-27 12:46:38      0  Fernando     2  TEKOX Blue Brown Cables   12\n",
       "84 2023-09-27 12:46:50      0  Fernando     2  TEKOX Blue Brown Cables   12\n",
       "85 2023-09-27 12:47:03      0  Fernando     2  TEKOX Blue Brown Cables   12\n",
       "86 2023-09-27 12:47:28      0  Fernando     2  TEKOX Blue Brown Cables   12\n",
       "87 2023-09-27 12:47:28      0  Fernando     2  TEKOX Blue Brown Cables   12\n",
       "88 2023-09-27 12:47:41      0  Fernando     2  TEKOX Blue Brown Cables   12"
      ]
     },
     "metadata": {},
     "output_type": "display_data"
    },
    {
     "name": "stdout",
     "output_type": "stream",
     "text": [
      "                 task_name  sec\n",
      "0         Screws in Boards  705\n",
      "1  TEKOX Blue Brown Cables  325\n",
      "2   TEKOX Red Black Cables  460\n"
     ]
    },
    {
     "data": {
      "application/vnd.plotly.v1+json": {
       "config": {
        "plotlyServerURL": "https://plot.ly"
       },
       "data": [
        {
         "domain": {
          "x": [
           0,
           1
          ],
          "y": [
           0,
           1
          ]
         },
         "hovertemplate": "task_name=%{label}<br>sec=%{value}<extra></extra>",
         "labels": [
          "Screws in Boards",
          "TEKOX Blue Brown Cables",
          "TEKOX Red Black Cables"
         ],
         "legendgroup": "",
         "name": "",
         "showlegend": true,
         "type": "pie",
         "values": [
          705,
          325,
          460
         ]
        }
       ],
       "layout": {
        "legend": {
         "tracegroupgap": 0
        },
        "template": {
         "data": {
          "bar": [
           {
            "error_x": {
             "color": "#2a3f5f"
            },
            "error_y": {
             "color": "#2a3f5f"
            },
            "marker": {
             "line": {
              "color": "#E5ECF6",
              "width": 0.5
             },
             "pattern": {
              "fillmode": "overlay",
              "size": 10,
              "solidity": 0.2
             }
            },
            "type": "bar"
           }
          ],
          "barpolar": [
           {
            "marker": {
             "line": {
              "color": "#E5ECF6",
              "width": 0.5
             },
             "pattern": {
              "fillmode": "overlay",
              "size": 10,
              "solidity": 0.2
             }
            },
            "type": "barpolar"
           }
          ],
          "carpet": [
           {
            "aaxis": {
             "endlinecolor": "#2a3f5f",
             "gridcolor": "white",
             "linecolor": "white",
             "minorgridcolor": "white",
             "startlinecolor": "#2a3f5f"
            },
            "baxis": {
             "endlinecolor": "#2a3f5f",
             "gridcolor": "white",
             "linecolor": "white",
             "minorgridcolor": "white",
             "startlinecolor": "#2a3f5f"
            },
            "type": "carpet"
           }
          ],
          "choropleth": [
           {
            "colorbar": {
             "outlinewidth": 0,
             "ticks": ""
            },
            "type": "choropleth"
           }
          ],
          "contour": [
           {
            "colorbar": {
             "outlinewidth": 0,
             "ticks": ""
            },
            "colorscale": [
             [
              0,
              "#0d0887"
             ],
             [
              0.1111111111111111,
              "#46039f"
             ],
             [
              0.2222222222222222,
              "#7201a8"
             ],
             [
              0.3333333333333333,
              "#9c179e"
             ],
             [
              0.4444444444444444,
              "#bd3786"
             ],
             [
              0.5555555555555556,
              "#d8576b"
             ],
             [
              0.6666666666666666,
              "#ed7953"
             ],
             [
              0.7777777777777778,
              "#fb9f3a"
             ],
             [
              0.8888888888888888,
              "#fdca26"
             ],
             [
              1,
              "#f0f921"
             ]
            ],
            "type": "contour"
           }
          ],
          "contourcarpet": [
           {
            "colorbar": {
             "outlinewidth": 0,
             "ticks": ""
            },
            "type": "contourcarpet"
           }
          ],
          "heatmap": [
           {
            "colorbar": {
             "outlinewidth": 0,
             "ticks": ""
            },
            "colorscale": [
             [
              0,
              "#0d0887"
             ],
             [
              0.1111111111111111,
              "#46039f"
             ],
             [
              0.2222222222222222,
              "#7201a8"
             ],
             [
              0.3333333333333333,
              "#9c179e"
             ],
             [
              0.4444444444444444,
              "#bd3786"
             ],
             [
              0.5555555555555556,
              "#d8576b"
             ],
             [
              0.6666666666666666,
              "#ed7953"
             ],
             [
              0.7777777777777778,
              "#fb9f3a"
             ],
             [
              0.8888888888888888,
              "#fdca26"
             ],
             [
              1,
              "#f0f921"
             ]
            ],
            "type": "heatmap"
           }
          ],
          "heatmapgl": [
           {
            "colorbar": {
             "outlinewidth": 0,
             "ticks": ""
            },
            "colorscale": [
             [
              0,
              "#0d0887"
             ],
             [
              0.1111111111111111,
              "#46039f"
             ],
             [
              0.2222222222222222,
              "#7201a8"
             ],
             [
              0.3333333333333333,
              "#9c179e"
             ],
             [
              0.4444444444444444,
              "#bd3786"
             ],
             [
              0.5555555555555556,
              "#d8576b"
             ],
             [
              0.6666666666666666,
              "#ed7953"
             ],
             [
              0.7777777777777778,
              "#fb9f3a"
             ],
             [
              0.8888888888888888,
              "#fdca26"
             ],
             [
              1,
              "#f0f921"
             ]
            ],
            "type": "heatmapgl"
           }
          ],
          "histogram": [
           {
            "marker": {
             "pattern": {
              "fillmode": "overlay",
              "size": 10,
              "solidity": 0.2
             }
            },
            "type": "histogram"
           }
          ],
          "histogram2d": [
           {
            "colorbar": {
             "outlinewidth": 0,
             "ticks": ""
            },
            "colorscale": [
             [
              0,
              "#0d0887"
             ],
             [
              0.1111111111111111,
              "#46039f"
             ],
             [
              0.2222222222222222,
              "#7201a8"
             ],
             [
              0.3333333333333333,
              "#9c179e"
             ],
             [
              0.4444444444444444,
              "#bd3786"
             ],
             [
              0.5555555555555556,
              "#d8576b"
             ],
             [
              0.6666666666666666,
              "#ed7953"
             ],
             [
              0.7777777777777778,
              "#fb9f3a"
             ],
             [
              0.8888888888888888,
              "#fdca26"
             ],
             [
              1,
              "#f0f921"
             ]
            ],
            "type": "histogram2d"
           }
          ],
          "histogram2dcontour": [
           {
            "colorbar": {
             "outlinewidth": 0,
             "ticks": ""
            },
            "colorscale": [
             [
              0,
              "#0d0887"
             ],
             [
              0.1111111111111111,
              "#46039f"
             ],
             [
              0.2222222222222222,
              "#7201a8"
             ],
             [
              0.3333333333333333,
              "#9c179e"
             ],
             [
              0.4444444444444444,
              "#bd3786"
             ],
             [
              0.5555555555555556,
              "#d8576b"
             ],
             [
              0.6666666666666666,
              "#ed7953"
             ],
             [
              0.7777777777777778,
              "#fb9f3a"
             ],
             [
              0.8888888888888888,
              "#fdca26"
             ],
             [
              1,
              "#f0f921"
             ]
            ],
            "type": "histogram2dcontour"
           }
          ],
          "mesh3d": [
           {
            "colorbar": {
             "outlinewidth": 0,
             "ticks": ""
            },
            "type": "mesh3d"
           }
          ],
          "parcoords": [
           {
            "line": {
             "colorbar": {
              "outlinewidth": 0,
              "ticks": ""
             }
            },
            "type": "parcoords"
           }
          ],
          "pie": [
           {
            "automargin": true,
            "type": "pie"
           }
          ],
          "scatter": [
           {
            "fillpattern": {
             "fillmode": "overlay",
             "size": 10,
             "solidity": 0.2
            },
            "type": "scatter"
           }
          ],
          "scatter3d": [
           {
            "line": {
             "colorbar": {
              "outlinewidth": 0,
              "ticks": ""
             }
            },
            "marker": {
             "colorbar": {
              "outlinewidth": 0,
              "ticks": ""
             }
            },
            "type": "scatter3d"
           }
          ],
          "scattercarpet": [
           {
            "marker": {
             "colorbar": {
              "outlinewidth": 0,
              "ticks": ""
             }
            },
            "type": "scattercarpet"
           }
          ],
          "scattergeo": [
           {
            "marker": {
             "colorbar": {
              "outlinewidth": 0,
              "ticks": ""
             }
            },
            "type": "scattergeo"
           }
          ],
          "scattergl": [
           {
            "marker": {
             "colorbar": {
              "outlinewidth": 0,
              "ticks": ""
             }
            },
            "type": "scattergl"
           }
          ],
          "scattermapbox": [
           {
            "marker": {
             "colorbar": {
              "outlinewidth": 0,
              "ticks": ""
             }
            },
            "type": "scattermapbox"
           }
          ],
          "scatterpolar": [
           {
            "marker": {
             "colorbar": {
              "outlinewidth": 0,
              "ticks": ""
             }
            },
            "type": "scatterpolar"
           }
          ],
          "scatterpolargl": [
           {
            "marker": {
             "colorbar": {
              "outlinewidth": 0,
              "ticks": ""
             }
            },
            "type": "scatterpolargl"
           }
          ],
          "scatterternary": [
           {
            "marker": {
             "colorbar": {
              "outlinewidth": 0,
              "ticks": ""
             }
            },
            "type": "scatterternary"
           }
          ],
          "surface": [
           {
            "colorbar": {
             "outlinewidth": 0,
             "ticks": ""
            },
            "colorscale": [
             [
              0,
              "#0d0887"
             ],
             [
              0.1111111111111111,
              "#46039f"
             ],
             [
              0.2222222222222222,
              "#7201a8"
             ],
             [
              0.3333333333333333,
              "#9c179e"
             ],
             [
              0.4444444444444444,
              "#bd3786"
             ],
             [
              0.5555555555555556,
              "#d8576b"
             ],
             [
              0.6666666666666666,
              "#ed7953"
             ],
             [
              0.7777777777777778,
              "#fb9f3a"
             ],
             [
              0.8888888888888888,
              "#fdca26"
             ],
             [
              1,
              "#f0f921"
             ]
            ],
            "type": "surface"
           }
          ],
          "table": [
           {
            "cells": {
             "fill": {
              "color": "#EBF0F8"
             },
             "line": {
              "color": "white"
             }
            },
            "header": {
             "fill": {
              "color": "#C8D4E3"
             },
             "line": {
              "color": "white"
             }
            },
            "type": "table"
           }
          ]
         },
         "layout": {
          "annotationdefaults": {
           "arrowcolor": "#2a3f5f",
           "arrowhead": 0,
           "arrowwidth": 1
          },
          "autotypenumbers": "strict",
          "coloraxis": {
           "colorbar": {
            "outlinewidth": 0,
            "ticks": ""
           }
          },
          "colorscale": {
           "diverging": [
            [
             0,
             "#8e0152"
            ],
            [
             0.1,
             "#c51b7d"
            ],
            [
             0.2,
             "#de77ae"
            ],
            [
             0.3,
             "#f1b6da"
            ],
            [
             0.4,
             "#fde0ef"
            ],
            [
             0.5,
             "#f7f7f7"
            ],
            [
             0.6,
             "#e6f5d0"
            ],
            [
             0.7,
             "#b8e186"
            ],
            [
             0.8,
             "#7fbc41"
            ],
            [
             0.9,
             "#4d9221"
            ],
            [
             1,
             "#276419"
            ]
           ],
           "sequential": [
            [
             0,
             "#0d0887"
            ],
            [
             0.1111111111111111,
             "#46039f"
            ],
            [
             0.2222222222222222,
             "#7201a8"
            ],
            [
             0.3333333333333333,
             "#9c179e"
            ],
            [
             0.4444444444444444,
             "#bd3786"
            ],
            [
             0.5555555555555556,
             "#d8576b"
            ],
            [
             0.6666666666666666,
             "#ed7953"
            ],
            [
             0.7777777777777778,
             "#fb9f3a"
            ],
            [
             0.8888888888888888,
             "#fdca26"
            ],
            [
             1,
             "#f0f921"
            ]
           ],
           "sequentialminus": [
            [
             0,
             "#0d0887"
            ],
            [
             0.1111111111111111,
             "#46039f"
            ],
            [
             0.2222222222222222,
             "#7201a8"
            ],
            [
             0.3333333333333333,
             "#9c179e"
            ],
            [
             0.4444444444444444,
             "#bd3786"
            ],
            [
             0.5555555555555556,
             "#d8576b"
            ],
            [
             0.6666666666666666,
             "#ed7953"
            ],
            [
             0.7777777777777778,
             "#fb9f3a"
            ],
            [
             0.8888888888888888,
             "#fdca26"
            ],
            [
             1,
             "#f0f921"
            ]
           ]
          },
          "colorway": [
           "#636efa",
           "#EF553B",
           "#00cc96",
           "#ab63fa",
           "#FFA15A",
           "#19d3f3",
           "#FF6692",
           "#B6E880",
           "#FF97FF",
           "#FECB52"
          ],
          "font": {
           "color": "#2a3f5f"
          },
          "geo": {
           "bgcolor": "white",
           "lakecolor": "white",
           "landcolor": "#E5ECF6",
           "showlakes": true,
           "showland": true,
           "subunitcolor": "white"
          },
          "hoverlabel": {
           "align": "left"
          },
          "hovermode": "closest",
          "mapbox": {
           "style": "light"
          },
          "paper_bgcolor": "white",
          "plot_bgcolor": "#E5ECF6",
          "polar": {
           "angularaxis": {
            "gridcolor": "white",
            "linecolor": "white",
            "ticks": ""
           },
           "bgcolor": "#E5ECF6",
           "radialaxis": {
            "gridcolor": "white",
            "linecolor": "white",
            "ticks": ""
           }
          },
          "scene": {
           "xaxis": {
            "backgroundcolor": "#E5ECF6",
            "gridcolor": "white",
            "gridwidth": 2,
            "linecolor": "white",
            "showbackground": true,
            "ticks": "",
            "zerolinecolor": "white"
           },
           "yaxis": {
            "backgroundcolor": "#E5ECF6",
            "gridcolor": "white",
            "gridwidth": 2,
            "linecolor": "white",
            "showbackground": true,
            "ticks": "",
            "zerolinecolor": "white"
           },
           "zaxis": {
            "backgroundcolor": "#E5ECF6",
            "gridcolor": "white",
            "gridwidth": 2,
            "linecolor": "white",
            "showbackground": true,
            "ticks": "",
            "zerolinecolor": "white"
           }
          },
          "shapedefaults": {
           "line": {
            "color": "#2a3f5f"
           }
          },
          "ternary": {
           "aaxis": {
            "gridcolor": "white",
            "linecolor": "white",
            "ticks": ""
           },
           "baxis": {
            "gridcolor": "white",
            "linecolor": "white",
            "ticks": ""
           },
           "bgcolor": "#E5ECF6",
           "caxis": {
            "gridcolor": "white",
            "linecolor": "white",
            "ticks": ""
           }
          },
          "title": {
           "x": 0.05
          },
          "xaxis": {
           "automargin": true,
           "gridcolor": "white",
           "linecolor": "white",
           "ticks": "",
           "title": {
            "standoff": 15
           },
           "zerolinecolor": "white",
           "zerolinewidth": 2
          },
          "yaxis": {
           "automargin": true,
           "gridcolor": "white",
           "linecolor": "white",
           "ticks": "",
           "title": {
            "standoff": 15
           },
           "zerolinecolor": "white",
           "zerolinewidth": 2
          }
         }
        },
        "title": {
         "text": "Time Spent in Each Task"
        }
       }
      }
     },
     "metadata": {},
     "output_type": "display_data"
    },
    {
     "name": "stdout",
     "output_type": "stream",
     "text": [
      "                 task_name  sec\n",
      "0         Screws in Boards  705\n",
      "1  TEKOX Blue Brown Cables  325\n",
      "2   TEKOX Red Black Cables  460\n"
     ]
    },
    {
     "data": {
      "application/vnd.plotly.v1+json": {
       "config": {
        "plotlyServerURL": "https://plot.ly"
       },
       "data": [
        {
         "domain": {
          "x": [
           0,
           1
          ],
          "y": [
           0,
           1
          ]
         },
         "hovertemplate": "emp_name=%{label}<br>sec=%{value}<extra></extra>",
         "labels": [
          "Fernando"
         ],
         "legendgroup": "",
         "name": "",
         "showlegend": true,
         "type": "pie",
         "values": [
          1490
         ]
        }
       ],
       "layout": {
        "legend": {
         "tracegroupgap": 0
        },
        "template": {
         "data": {
          "bar": [
           {
            "error_x": {
             "color": "#2a3f5f"
            },
            "error_y": {
             "color": "#2a3f5f"
            },
            "marker": {
             "line": {
              "color": "#E5ECF6",
              "width": 0.5
             },
             "pattern": {
              "fillmode": "overlay",
              "size": 10,
              "solidity": 0.2
             }
            },
            "type": "bar"
           }
          ],
          "barpolar": [
           {
            "marker": {
             "line": {
              "color": "#E5ECF6",
              "width": 0.5
             },
             "pattern": {
              "fillmode": "overlay",
              "size": 10,
              "solidity": 0.2
             }
            },
            "type": "barpolar"
           }
          ],
          "carpet": [
           {
            "aaxis": {
             "endlinecolor": "#2a3f5f",
             "gridcolor": "white",
             "linecolor": "white",
             "minorgridcolor": "white",
             "startlinecolor": "#2a3f5f"
            },
            "baxis": {
             "endlinecolor": "#2a3f5f",
             "gridcolor": "white",
             "linecolor": "white",
             "minorgridcolor": "white",
             "startlinecolor": "#2a3f5f"
            },
            "type": "carpet"
           }
          ],
          "choropleth": [
           {
            "colorbar": {
             "outlinewidth": 0,
             "ticks": ""
            },
            "type": "choropleth"
           }
          ],
          "contour": [
           {
            "colorbar": {
             "outlinewidth": 0,
             "ticks": ""
            },
            "colorscale": [
             [
              0,
              "#0d0887"
             ],
             [
              0.1111111111111111,
              "#46039f"
             ],
             [
              0.2222222222222222,
              "#7201a8"
             ],
             [
              0.3333333333333333,
              "#9c179e"
             ],
             [
              0.4444444444444444,
              "#bd3786"
             ],
             [
              0.5555555555555556,
              "#d8576b"
             ],
             [
              0.6666666666666666,
              "#ed7953"
             ],
             [
              0.7777777777777778,
              "#fb9f3a"
             ],
             [
              0.8888888888888888,
              "#fdca26"
             ],
             [
              1,
              "#f0f921"
             ]
            ],
            "type": "contour"
           }
          ],
          "contourcarpet": [
           {
            "colorbar": {
             "outlinewidth": 0,
             "ticks": ""
            },
            "type": "contourcarpet"
           }
          ],
          "heatmap": [
           {
            "colorbar": {
             "outlinewidth": 0,
             "ticks": ""
            },
            "colorscale": [
             [
              0,
              "#0d0887"
             ],
             [
              0.1111111111111111,
              "#46039f"
             ],
             [
              0.2222222222222222,
              "#7201a8"
             ],
             [
              0.3333333333333333,
              "#9c179e"
             ],
             [
              0.4444444444444444,
              "#bd3786"
             ],
             [
              0.5555555555555556,
              "#d8576b"
             ],
             [
              0.6666666666666666,
              "#ed7953"
             ],
             [
              0.7777777777777778,
              "#fb9f3a"
             ],
             [
              0.8888888888888888,
              "#fdca26"
             ],
             [
              1,
              "#f0f921"
             ]
            ],
            "type": "heatmap"
           }
          ],
          "heatmapgl": [
           {
            "colorbar": {
             "outlinewidth": 0,
             "ticks": ""
            },
            "colorscale": [
             [
              0,
              "#0d0887"
             ],
             [
              0.1111111111111111,
              "#46039f"
             ],
             [
              0.2222222222222222,
              "#7201a8"
             ],
             [
              0.3333333333333333,
              "#9c179e"
             ],
             [
              0.4444444444444444,
              "#bd3786"
             ],
             [
              0.5555555555555556,
              "#d8576b"
             ],
             [
              0.6666666666666666,
              "#ed7953"
             ],
             [
              0.7777777777777778,
              "#fb9f3a"
             ],
             [
              0.8888888888888888,
              "#fdca26"
             ],
             [
              1,
              "#f0f921"
             ]
            ],
            "type": "heatmapgl"
           }
          ],
          "histogram": [
           {
            "marker": {
             "pattern": {
              "fillmode": "overlay",
              "size": 10,
              "solidity": 0.2
             }
            },
            "type": "histogram"
           }
          ],
          "histogram2d": [
           {
            "colorbar": {
             "outlinewidth": 0,
             "ticks": ""
            },
            "colorscale": [
             [
              0,
              "#0d0887"
             ],
             [
              0.1111111111111111,
              "#46039f"
             ],
             [
              0.2222222222222222,
              "#7201a8"
             ],
             [
              0.3333333333333333,
              "#9c179e"
             ],
             [
              0.4444444444444444,
              "#bd3786"
             ],
             [
              0.5555555555555556,
              "#d8576b"
             ],
             [
              0.6666666666666666,
              "#ed7953"
             ],
             [
              0.7777777777777778,
              "#fb9f3a"
             ],
             [
              0.8888888888888888,
              "#fdca26"
             ],
             [
              1,
              "#f0f921"
             ]
            ],
            "type": "histogram2d"
           }
          ],
          "histogram2dcontour": [
           {
            "colorbar": {
             "outlinewidth": 0,
             "ticks": ""
            },
            "colorscale": [
             [
              0,
              "#0d0887"
             ],
             [
              0.1111111111111111,
              "#46039f"
             ],
             [
              0.2222222222222222,
              "#7201a8"
             ],
             [
              0.3333333333333333,
              "#9c179e"
             ],
             [
              0.4444444444444444,
              "#bd3786"
             ],
             [
              0.5555555555555556,
              "#d8576b"
             ],
             [
              0.6666666666666666,
              "#ed7953"
             ],
             [
              0.7777777777777778,
              "#fb9f3a"
             ],
             [
              0.8888888888888888,
              "#fdca26"
             ],
             [
              1,
              "#f0f921"
             ]
            ],
            "type": "histogram2dcontour"
           }
          ],
          "mesh3d": [
           {
            "colorbar": {
             "outlinewidth": 0,
             "ticks": ""
            },
            "type": "mesh3d"
           }
          ],
          "parcoords": [
           {
            "line": {
             "colorbar": {
              "outlinewidth": 0,
              "ticks": ""
             }
            },
            "type": "parcoords"
           }
          ],
          "pie": [
           {
            "automargin": true,
            "type": "pie"
           }
          ],
          "scatter": [
           {
            "fillpattern": {
             "fillmode": "overlay",
             "size": 10,
             "solidity": 0.2
            },
            "type": "scatter"
           }
          ],
          "scatter3d": [
           {
            "line": {
             "colorbar": {
              "outlinewidth": 0,
              "ticks": ""
             }
            },
            "marker": {
             "colorbar": {
              "outlinewidth": 0,
              "ticks": ""
             }
            },
            "type": "scatter3d"
           }
          ],
          "scattercarpet": [
           {
            "marker": {
             "colorbar": {
              "outlinewidth": 0,
              "ticks": ""
             }
            },
            "type": "scattercarpet"
           }
          ],
          "scattergeo": [
           {
            "marker": {
             "colorbar": {
              "outlinewidth": 0,
              "ticks": ""
             }
            },
            "type": "scattergeo"
           }
          ],
          "scattergl": [
           {
            "marker": {
             "colorbar": {
              "outlinewidth": 0,
              "ticks": ""
             }
            },
            "type": "scattergl"
           }
          ],
          "scattermapbox": [
           {
            "marker": {
             "colorbar": {
              "outlinewidth": 0,
              "ticks": ""
             }
            },
            "type": "scattermapbox"
           }
          ],
          "scatterpolar": [
           {
            "marker": {
             "colorbar": {
              "outlinewidth": 0,
              "ticks": ""
             }
            },
            "type": "scatterpolar"
           }
          ],
          "scatterpolargl": [
           {
            "marker": {
             "colorbar": {
              "outlinewidth": 0,
              "ticks": ""
             }
            },
            "type": "scatterpolargl"
           }
          ],
          "scatterternary": [
           {
            "marker": {
             "colorbar": {
              "outlinewidth": 0,
              "ticks": ""
             }
            },
            "type": "scatterternary"
           }
          ],
          "surface": [
           {
            "colorbar": {
             "outlinewidth": 0,
             "ticks": ""
            },
            "colorscale": [
             [
              0,
              "#0d0887"
             ],
             [
              0.1111111111111111,
              "#46039f"
             ],
             [
              0.2222222222222222,
              "#7201a8"
             ],
             [
              0.3333333333333333,
              "#9c179e"
             ],
             [
              0.4444444444444444,
              "#bd3786"
             ],
             [
              0.5555555555555556,
              "#d8576b"
             ],
             [
              0.6666666666666666,
              "#ed7953"
             ],
             [
              0.7777777777777778,
              "#fb9f3a"
             ],
             [
              0.8888888888888888,
              "#fdca26"
             ],
             [
              1,
              "#f0f921"
             ]
            ],
            "type": "surface"
           }
          ],
          "table": [
           {
            "cells": {
             "fill": {
              "color": "#EBF0F8"
             },
             "line": {
              "color": "white"
             }
            },
            "header": {
             "fill": {
              "color": "#C8D4E3"
             },
             "line": {
              "color": "white"
             }
            },
            "type": "table"
           }
          ]
         },
         "layout": {
          "annotationdefaults": {
           "arrowcolor": "#2a3f5f",
           "arrowhead": 0,
           "arrowwidth": 1
          },
          "autotypenumbers": "strict",
          "coloraxis": {
           "colorbar": {
            "outlinewidth": 0,
            "ticks": ""
           }
          },
          "colorscale": {
           "diverging": [
            [
             0,
             "#8e0152"
            ],
            [
             0.1,
             "#c51b7d"
            ],
            [
             0.2,
             "#de77ae"
            ],
            [
             0.3,
             "#f1b6da"
            ],
            [
             0.4,
             "#fde0ef"
            ],
            [
             0.5,
             "#f7f7f7"
            ],
            [
             0.6,
             "#e6f5d0"
            ],
            [
             0.7,
             "#b8e186"
            ],
            [
             0.8,
             "#7fbc41"
            ],
            [
             0.9,
             "#4d9221"
            ],
            [
             1,
             "#276419"
            ]
           ],
           "sequential": [
            [
             0,
             "#0d0887"
            ],
            [
             0.1111111111111111,
             "#46039f"
            ],
            [
             0.2222222222222222,
             "#7201a8"
            ],
            [
             0.3333333333333333,
             "#9c179e"
            ],
            [
             0.4444444444444444,
             "#bd3786"
            ],
            [
             0.5555555555555556,
             "#d8576b"
            ],
            [
             0.6666666666666666,
             "#ed7953"
            ],
            [
             0.7777777777777778,
             "#fb9f3a"
            ],
            [
             0.8888888888888888,
             "#fdca26"
            ],
            [
             1,
             "#f0f921"
            ]
           ],
           "sequentialminus": [
            [
             0,
             "#0d0887"
            ],
            [
             0.1111111111111111,
             "#46039f"
            ],
            [
             0.2222222222222222,
             "#7201a8"
            ],
            [
             0.3333333333333333,
             "#9c179e"
            ],
            [
             0.4444444444444444,
             "#bd3786"
            ],
            [
             0.5555555555555556,
             "#d8576b"
            ],
            [
             0.6666666666666666,
             "#ed7953"
            ],
            [
             0.7777777777777778,
             "#fb9f3a"
            ],
            [
             0.8888888888888888,
             "#fdca26"
            ],
            [
             1,
             "#f0f921"
            ]
           ]
          },
          "colorway": [
           "#636efa",
           "#EF553B",
           "#00cc96",
           "#ab63fa",
           "#FFA15A",
           "#19d3f3",
           "#FF6692",
           "#B6E880",
           "#FF97FF",
           "#FECB52"
          ],
          "font": {
           "color": "#2a3f5f"
          },
          "geo": {
           "bgcolor": "white",
           "lakecolor": "white",
           "landcolor": "#E5ECF6",
           "showlakes": true,
           "showland": true,
           "subunitcolor": "white"
          },
          "hoverlabel": {
           "align": "left"
          },
          "hovermode": "closest",
          "mapbox": {
           "style": "light"
          },
          "paper_bgcolor": "white",
          "plot_bgcolor": "#E5ECF6",
          "polar": {
           "angularaxis": {
            "gridcolor": "white",
            "linecolor": "white",
            "ticks": ""
           },
           "bgcolor": "#E5ECF6",
           "radialaxis": {
            "gridcolor": "white",
            "linecolor": "white",
            "ticks": ""
           }
          },
          "scene": {
           "xaxis": {
            "backgroundcolor": "#E5ECF6",
            "gridcolor": "white",
            "gridwidth": 2,
            "linecolor": "white",
            "showbackground": true,
            "ticks": "",
            "zerolinecolor": "white"
           },
           "yaxis": {
            "backgroundcolor": "#E5ECF6",
            "gridcolor": "white",
            "gridwidth": 2,
            "linecolor": "white",
            "showbackground": true,
            "ticks": "",
            "zerolinecolor": "white"
           },
           "zaxis": {
            "backgroundcolor": "#E5ECF6",
            "gridcolor": "white",
            "gridwidth": 2,
            "linecolor": "white",
            "showbackground": true,
            "ticks": "",
            "zerolinecolor": "white"
           }
          },
          "shapedefaults": {
           "line": {
            "color": "#2a3f5f"
           }
          },
          "ternary": {
           "aaxis": {
            "gridcolor": "white",
            "linecolor": "white",
            "ticks": ""
           },
           "baxis": {
            "gridcolor": "white",
            "linecolor": "white",
            "ticks": ""
           },
           "bgcolor": "#E5ECF6",
           "caxis": {
            "gridcolor": "white",
            "linecolor": "white",
            "ticks": ""
           }
          },
          "title": {
           "x": 0.05
          },
          "xaxis": {
           "automargin": true,
           "gridcolor": "white",
           "linecolor": "white",
           "ticks": "",
           "title": {
            "standoff": 15
           },
           "zerolinecolor": "white",
           "zerolinewidth": 2
          },
          "yaxis": {
           "automargin": true,
           "gridcolor": "white",
           "linecolor": "white",
           "ticks": "",
           "title": {
            "standoff": 15
           },
           "zerolinecolor": "white",
           "zerolinewidth": 2
          }
         }
        },
        "title": {
         "text": "Time Worked by Each Employee"
        }
       }
      }
     },
     "metadata": {},
     "output_type": "display_data"
    }
   ],
   "source": [
    "include_break = 0\n",
    "# Create a new column 'task_label' based on the mapping\n",
    "task_label_mapping = {0: 'Break', 1: 'TEKOX Red Black Cables', 2: 'TEKOX Blue Brown Cables', 3: 'MFALG Assembly',\n",
    "                      4: 'Screws in Boards', 5: 'Extra activity 1', 6: 'Extra Activity 2', 7: 'Unkown Activity'}\n",
    "df['task_name'] = df['task'].map(task_label_mapping)\n",
    "\n",
    "emp_label_mapping = {0: 'Fernando', 1: 'Antonio', 2: 'Daniela', 3: 'Diogo', 4: 'Elisabete',5: 'Isabel', 6: 'Joao', \n",
    "                     7:'Joaquim',8:'Lidia',9:'Maria',10:'Mario',11:'Patricia',12:'Raquel',13:'Ana',14:'Paulo',15:'Luis'}\n",
    "df['emp_name'] = df['empid'].map(emp_label_mapping)\n",
    "\n",
    "column_order = ['ts', 'empid','emp_name','task','task_name','sec']\n",
    "df = df[column_order]\n",
    "# Exclude task '0' from the DataFrame\n",
    "if not include_break:\n",
    "    df1 = df[df['task'] != 0]\n",
    "else:\n",
    "    df1 = df\n",
    "display(df1)\n",
    "\n",
    "#TASK\n",
    "# Sum the 'sec' values based on the 'task' column\n",
    "sum_by_task = df1.groupby('task_name')['sec'].sum().reset_index()\n",
    "print(sum_by_task)\n",
    "\n",
    "# Create a pie chart\n",
    "fig_task = px.pie(sum_by_task, names='task_name', values='sec', title='Time Spent in Each Task')\n",
    "fig_task.show()\n",
    "\n",
    "#EMPLOYEE // do not work in break\n",
    "df1 = df[df['task'] != 0]\n",
    "# Sum the 'sec' values based on the 'emp_name' column\n",
    "sum_by_emp = df1.groupby('emp_name')['sec'].sum().reset_index()\n",
    "print(sum_by_task)\n",
    "\n",
    "# Create a pie chart\n",
    "fig_emp = px.pie(sum_by_emp, names='emp_name', values='sec', title='Time Worked by Each Employee')\n",
    "fig_emp.show()\n",
    "\n",
    "\n",
    "\n",
    "#for i in unique_values:\n",
    "#    total_time[i] = \n",
    "    "
   ]
  },
  {
   "cell_type": "code",
   "execution_count": 13,
   "metadata": {},
   "outputs": [
    {
     "name": "stderr",
     "output_type": "stream",
     "text": [
      "c:\\Users\\isacc\\miniconda3\\Lib\\site-packages\\_plotly_utils\\basevalidators.py:105: FutureWarning:\n",
      "\n",
      "The behavior of DatetimeProperties.to_pydatetime is deprecated, in a future version this will return a Series containing python datetime objects instead of an ndarray. To retain the old behavior, call `np.array` on the result\n",
      "\n"
     ]
    },
    {
     "data": {
      "text/html": [
       "<div>\n",
       "<style scoped>\n",
       "    .dataframe tbody tr th:only-of-type {\n",
       "        vertical-align: middle;\n",
       "    }\n",
       "\n",
       "    .dataframe tbody tr th {\n",
       "        vertical-align: top;\n",
       "    }\n",
       "\n",
       "    .dataframe thead th {\n",
       "        text-align: right;\n",
       "    }\n",
       "</style>\n",
       "<table border=\"1\" class=\"dataframe\">\n",
       "  <thead>\n",
       "    <tr style=\"text-align: right;\">\n",
       "      <th></th>\n",
       "      <th>ts</th>\n",
       "      <th>empid</th>\n",
       "      <th>emp_name</th>\n",
       "      <th>task</th>\n",
       "      <th>task_name</th>\n",
       "      <th>sec</th>\n",
       "      <th>color</th>\n",
       "    </tr>\n",
       "  </thead>\n",
       "  <tbody>\n",
       "    <tr>\n",
       "      <th>1</th>\n",
       "      <td>2023-09-27 10:19:43</td>\n",
       "      <td>0</td>\n",
       "      <td>Fernando</td>\n",
       "      <td>1</td>\n",
       "      <td>TEKOX Red Black Cables</td>\n",
       "      <td>14</td>\n",
       "      <td>red</td>\n",
       "    </tr>\n",
       "    <tr>\n",
       "      <th>2</th>\n",
       "      <td>2023-09-27 10:19:58</td>\n",
       "      <td>0</td>\n",
       "      <td>Fernando</td>\n",
       "      <td>1</td>\n",
       "      <td>TEKOX Red Black Cables</td>\n",
       "      <td>15</td>\n",
       "      <td>red</td>\n",
       "    </tr>\n",
       "    <tr>\n",
       "      <th>3</th>\n",
       "      <td>2023-09-27 10:20:16</td>\n",
       "      <td>0</td>\n",
       "      <td>Fernando</td>\n",
       "      <td>1</td>\n",
       "      <td>TEKOX Red Black Cables</td>\n",
       "      <td>17</td>\n",
       "      <td>red</td>\n",
       "    </tr>\n",
       "    <tr>\n",
       "      <th>4</th>\n",
       "      <td>2023-09-27 10:20:31</td>\n",
       "      <td>0</td>\n",
       "      <td>Fernando</td>\n",
       "      <td>1</td>\n",
       "      <td>TEKOX Red Black Cables</td>\n",
       "      <td>15</td>\n",
       "      <td>red</td>\n",
       "    </tr>\n",
       "    <tr>\n",
       "      <th>5</th>\n",
       "      <td>2023-09-27 10:20:48</td>\n",
       "      <td>0</td>\n",
       "      <td>Fernando</td>\n",
       "      <td>1</td>\n",
       "      <td>TEKOX Red Black Cables</td>\n",
       "      <td>16</td>\n",
       "      <td>red</td>\n",
       "    </tr>\n",
       "    <tr>\n",
       "      <th>6</th>\n",
       "      <td>2023-09-27 10:21:01</td>\n",
       "      <td>0</td>\n",
       "      <td>Fernando</td>\n",
       "      <td>1</td>\n",
       "      <td>TEKOX Red Black Cables</td>\n",
       "      <td>13</td>\n",
       "      <td>red</td>\n",
       "    </tr>\n",
       "    <tr>\n",
       "      <th>7</th>\n",
       "      <td>2023-09-27 10:21:14</td>\n",
       "      <td>0</td>\n",
       "      <td>Fernando</td>\n",
       "      <td>1</td>\n",
       "      <td>TEKOX Red Black Cables</td>\n",
       "      <td>12</td>\n",
       "      <td>red</td>\n",
       "    </tr>\n",
       "    <tr>\n",
       "      <th>8</th>\n",
       "      <td>2023-09-27 10:21:30</td>\n",
       "      <td>0</td>\n",
       "      <td>Fernando</td>\n",
       "      <td>1</td>\n",
       "      <td>TEKOX Red Black Cables</td>\n",
       "      <td>16</td>\n",
       "      <td>red</td>\n",
       "    </tr>\n",
       "    <tr>\n",
       "      <th>9</th>\n",
       "      <td>2023-09-27 10:21:43</td>\n",
       "      <td>0</td>\n",
       "      <td>Fernando</td>\n",
       "      <td>1</td>\n",
       "      <td>TEKOX Red Black Cables</td>\n",
       "      <td>12</td>\n",
       "      <td>red</td>\n",
       "    </tr>\n",
       "    <tr>\n",
       "      <th>10</th>\n",
       "      <td>2023-09-27 10:21:55</td>\n",
       "      <td>0</td>\n",
       "      <td>Fernando</td>\n",
       "      <td>1</td>\n",
       "      <td>TEKOX Red Black Cables</td>\n",
       "      <td>12</td>\n",
       "      <td>red</td>\n",
       "    </tr>\n",
       "    <tr>\n",
       "      <th>11</th>\n",
       "      <td>2023-09-27 10:22:06</td>\n",
       "      <td>0</td>\n",
       "      <td>Fernando</td>\n",
       "      <td>1</td>\n",
       "      <td>TEKOX Red Black Cables</td>\n",
       "      <td>11</td>\n",
       "      <td>red</td>\n",
       "    </tr>\n",
       "    <tr>\n",
       "      <th>12</th>\n",
       "      <td>2023-09-27 10:22:18</td>\n",
       "      <td>0</td>\n",
       "      <td>Fernando</td>\n",
       "      <td>1</td>\n",
       "      <td>TEKOX Red Black Cables</td>\n",
       "      <td>12</td>\n",
       "      <td>red</td>\n",
       "    </tr>\n",
       "    <tr>\n",
       "      <th>13</th>\n",
       "      <td>2023-09-27 10:22:30</td>\n",
       "      <td>0</td>\n",
       "      <td>Fernando</td>\n",
       "      <td>1</td>\n",
       "      <td>TEKOX Red Black Cables</td>\n",
       "      <td>11</td>\n",
       "      <td>red</td>\n",
       "    </tr>\n",
       "    <tr>\n",
       "      <th>14</th>\n",
       "      <td>2023-09-27 10:22:42</td>\n",
       "      <td>0</td>\n",
       "      <td>Fernando</td>\n",
       "      <td>1</td>\n",
       "      <td>TEKOX Red Black Cables</td>\n",
       "      <td>12</td>\n",
       "      <td>red</td>\n",
       "    </tr>\n",
       "    <tr>\n",
       "      <th>15</th>\n",
       "      <td>2023-09-27 10:22:53</td>\n",
       "      <td>0</td>\n",
       "      <td>Fernando</td>\n",
       "      <td>1</td>\n",
       "      <td>TEKOX Red Black Cables</td>\n",
       "      <td>11</td>\n",
       "      <td>red</td>\n",
       "    </tr>\n",
       "    <tr>\n",
       "      <th>16</th>\n",
       "      <td>2023-09-27 10:23:05</td>\n",
       "      <td>0</td>\n",
       "      <td>Fernando</td>\n",
       "      <td>1</td>\n",
       "      <td>TEKOX Red Black Cables</td>\n",
       "      <td>11</td>\n",
       "      <td>red</td>\n",
       "    </tr>\n",
       "    <tr>\n",
       "      <th>17</th>\n",
       "      <td>2023-09-27 10:23:17</td>\n",
       "      <td>0</td>\n",
       "      <td>Fernando</td>\n",
       "      <td>1</td>\n",
       "      <td>TEKOX Red Black Cables</td>\n",
       "      <td>12</td>\n",
       "      <td>red</td>\n",
       "    </tr>\n",
       "    <tr>\n",
       "      <th>18</th>\n",
       "      <td>2023-09-27 10:23:29</td>\n",
       "      <td>0</td>\n",
       "      <td>Fernando</td>\n",
       "      <td>1</td>\n",
       "      <td>TEKOX Red Black Cables</td>\n",
       "      <td>12</td>\n",
       "      <td>red</td>\n",
       "    </tr>\n",
       "    <tr>\n",
       "      <th>19</th>\n",
       "      <td>2023-09-27 10:23:41</td>\n",
       "      <td>0</td>\n",
       "      <td>Fernando</td>\n",
       "      <td>1</td>\n",
       "      <td>TEKOX Red Black Cables</td>\n",
       "      <td>12</td>\n",
       "      <td>red</td>\n",
       "    </tr>\n",
       "    <tr>\n",
       "      <th>20</th>\n",
       "      <td>2023-09-27 10:23:54</td>\n",
       "      <td>0</td>\n",
       "      <td>Fernando</td>\n",
       "      <td>1</td>\n",
       "      <td>TEKOX Red Black Cables</td>\n",
       "      <td>12</td>\n",
       "      <td>red</td>\n",
       "    </tr>\n",
       "    <tr>\n",
       "      <th>21</th>\n",
       "      <td>2023-09-27 10:24:06</td>\n",
       "      <td>0</td>\n",
       "      <td>Fernando</td>\n",
       "      <td>1</td>\n",
       "      <td>TEKOX Red Black Cables</td>\n",
       "      <td>11</td>\n",
       "      <td>red</td>\n",
       "    </tr>\n",
       "    <tr>\n",
       "      <th>22</th>\n",
       "      <td>2023-09-27 10:24:17</td>\n",
       "      <td>0</td>\n",
       "      <td>Fernando</td>\n",
       "      <td>1</td>\n",
       "      <td>TEKOX Red Black Cables</td>\n",
       "      <td>12</td>\n",
       "      <td>red</td>\n",
       "    </tr>\n",
       "    <tr>\n",
       "      <th>23</th>\n",
       "      <td>2023-09-27 10:24:30</td>\n",
       "      <td>0</td>\n",
       "      <td>Fernando</td>\n",
       "      <td>1</td>\n",
       "      <td>TEKOX Red Black Cables</td>\n",
       "      <td>12</td>\n",
       "      <td>red</td>\n",
       "    </tr>\n",
       "    <tr>\n",
       "      <th>25</th>\n",
       "      <td>2023-09-27 10:25:54</td>\n",
       "      <td>0</td>\n",
       "      <td>Fernando</td>\n",
       "      <td>4</td>\n",
       "      <td>Screws in Boards</td>\n",
       "      <td>41</td>\n",
       "      <td>gray</td>\n",
       "    </tr>\n",
       "    <tr>\n",
       "      <th>26</th>\n",
       "      <td>2023-09-27 10:26:07</td>\n",
       "      <td>0</td>\n",
       "      <td>Fernando</td>\n",
       "      <td>4</td>\n",
       "      <td>Screws in Boards</td>\n",
       "      <td>12</td>\n",
       "      <td>gray</td>\n",
       "    </tr>\n",
       "    <tr>\n",
       "      <th>27</th>\n",
       "      <td>2023-09-27 10:26:51</td>\n",
       "      <td>0</td>\n",
       "      <td>Fernando</td>\n",
       "      <td>4</td>\n",
       "      <td>Screws in Boards</td>\n",
       "      <td>43</td>\n",
       "      <td>gray</td>\n",
       "    </tr>\n",
       "    <tr>\n",
       "      <th>28</th>\n",
       "      <td>2023-09-27 10:27:32</td>\n",
       "      <td>0</td>\n",
       "      <td>Fernando</td>\n",
       "      <td>4</td>\n",
       "      <td>Screws in Boards</td>\n",
       "      <td>40</td>\n",
       "      <td>gray</td>\n",
       "    </tr>\n",
       "    <tr>\n",
       "      <th>29</th>\n",
       "      <td>2023-09-27 10:28:15</td>\n",
       "      <td>0</td>\n",
       "      <td>Fernando</td>\n",
       "      <td>4</td>\n",
       "      <td>Screws in Boards</td>\n",
       "      <td>42</td>\n",
       "      <td>gray</td>\n",
       "    </tr>\n",
       "    <tr>\n",
       "      <th>30</th>\n",
       "      <td>2023-09-27 10:28:56</td>\n",
       "      <td>0</td>\n",
       "      <td>Fernando</td>\n",
       "      <td>4</td>\n",
       "      <td>Screws in Boards</td>\n",
       "      <td>40</td>\n",
       "      <td>gray</td>\n",
       "    </tr>\n",
       "    <tr>\n",
       "      <th>31</th>\n",
       "      <td>2023-09-27 10:29:39</td>\n",
       "      <td>0</td>\n",
       "      <td>Fernando</td>\n",
       "      <td>4</td>\n",
       "      <td>Screws in Boards</td>\n",
       "      <td>42</td>\n",
       "      <td>gray</td>\n",
       "    </tr>\n",
       "    <tr>\n",
       "      <th>32</th>\n",
       "      <td>2023-09-27 10:30:23</td>\n",
       "      <td>0</td>\n",
       "      <td>Fernando</td>\n",
       "      <td>4</td>\n",
       "      <td>Screws in Boards</td>\n",
       "      <td>43</td>\n",
       "      <td>gray</td>\n",
       "    </tr>\n",
       "    <tr>\n",
       "      <th>33</th>\n",
       "      <td>2023-09-27 10:31:04</td>\n",
       "      <td>0</td>\n",
       "      <td>Fernando</td>\n",
       "      <td>4</td>\n",
       "      <td>Screws in Boards</td>\n",
       "      <td>40</td>\n",
       "      <td>gray</td>\n",
       "    </tr>\n",
       "    <tr>\n",
       "      <th>35</th>\n",
       "      <td>2023-09-27 10:32:18</td>\n",
       "      <td>0</td>\n",
       "      <td>Fernando</td>\n",
       "      <td>2</td>\n",
       "      <td>TEKOX Blue Brown Cables</td>\n",
       "      <td>13</td>\n",
       "      <td>blue</td>\n",
       "    </tr>\n",
       "    <tr>\n",
       "      <th>36</th>\n",
       "      <td>2023-09-27 10:32:18</td>\n",
       "      <td>0</td>\n",
       "      <td>Fernando</td>\n",
       "      <td>2</td>\n",
       "      <td>TEKOX Blue Brown Cables</td>\n",
       "      <td>11</td>\n",
       "      <td>blue</td>\n",
       "    </tr>\n",
       "    <tr>\n",
       "      <th>37</th>\n",
       "      <td>2023-09-27 10:32:33</td>\n",
       "      <td>0</td>\n",
       "      <td>Fernando</td>\n",
       "      <td>2</td>\n",
       "      <td>TEKOX Blue Brown Cables</td>\n",
       "      <td>12</td>\n",
       "      <td>blue</td>\n",
       "    </tr>\n",
       "    <tr>\n",
       "      <th>38</th>\n",
       "      <td>2023-09-27 10:32:45</td>\n",
       "      <td>0</td>\n",
       "      <td>Fernando</td>\n",
       "      <td>2</td>\n",
       "      <td>TEKOX Blue Brown Cables</td>\n",
       "      <td>12</td>\n",
       "      <td>blue</td>\n",
       "    </tr>\n",
       "    <tr>\n",
       "      <th>39</th>\n",
       "      <td>2023-09-27 10:32:58</td>\n",
       "      <td>0</td>\n",
       "      <td>Fernando</td>\n",
       "      <td>2</td>\n",
       "      <td>TEKOX Blue Brown Cables</td>\n",
       "      <td>13</td>\n",
       "      <td>blue</td>\n",
       "    </tr>\n",
       "    <tr>\n",
       "      <th>40</th>\n",
       "      <td>2023-09-27 10:33:10</td>\n",
       "      <td>0</td>\n",
       "      <td>Fernando</td>\n",
       "      <td>2</td>\n",
       "      <td>TEKOX Blue Brown Cables</td>\n",
       "      <td>11</td>\n",
       "      <td>blue</td>\n",
       "    </tr>\n",
       "    <tr>\n",
       "      <th>41</th>\n",
       "      <td>2023-09-27 10:33:22</td>\n",
       "      <td>0</td>\n",
       "      <td>Fernando</td>\n",
       "      <td>2</td>\n",
       "      <td>TEKOX Blue Brown Cables</td>\n",
       "      <td>12</td>\n",
       "      <td>blue</td>\n",
       "    </tr>\n",
       "    <tr>\n",
       "      <th>42</th>\n",
       "      <td>2023-09-27 10:33:35</td>\n",
       "      <td>0</td>\n",
       "      <td>Fernando</td>\n",
       "      <td>2</td>\n",
       "      <td>TEKOX Blue Brown Cables</td>\n",
       "      <td>13</td>\n",
       "      <td>blue</td>\n",
       "    </tr>\n",
       "    <tr>\n",
       "      <th>43</th>\n",
       "      <td>2023-09-27 10:33:47</td>\n",
       "      <td>0</td>\n",
       "      <td>Fernando</td>\n",
       "      <td>2</td>\n",
       "      <td>TEKOX Blue Brown Cables</td>\n",
       "      <td>11</td>\n",
       "      <td>blue</td>\n",
       "    </tr>\n",
       "    <tr>\n",
       "      <th>44</th>\n",
       "      <td>2023-09-27 10:33:59</td>\n",
       "      <td>0</td>\n",
       "      <td>Fernando</td>\n",
       "      <td>2</td>\n",
       "      <td>TEKOX Blue Brown Cables</td>\n",
       "      <td>12</td>\n",
       "      <td>blue</td>\n",
       "    </tr>\n",
       "    <tr>\n",
       "      <th>45</th>\n",
       "      <td>2023-09-27 10:34:11</td>\n",
       "      <td>0</td>\n",
       "      <td>Fernando</td>\n",
       "      <td>2</td>\n",
       "      <td>TEKOX Blue Brown Cables</td>\n",
       "      <td>12</td>\n",
       "      <td>blue</td>\n",
       "    </tr>\n",
       "    <tr>\n",
       "      <th>46</th>\n",
       "      <td>2023-09-27 10:34:23</td>\n",
       "      <td>0</td>\n",
       "      <td>Fernando</td>\n",
       "      <td>2</td>\n",
       "      <td>TEKOX Blue Brown Cables</td>\n",
       "      <td>11</td>\n",
       "      <td>blue</td>\n",
       "    </tr>\n",
       "    <tr>\n",
       "      <th>48</th>\n",
       "      <td>2023-09-27 12:34:38</td>\n",
       "      <td>0</td>\n",
       "      <td>Fernando</td>\n",
       "      <td>1</td>\n",
       "      <td>TEKOX Red Black Cables</td>\n",
       "      <td>12</td>\n",
       "      <td>red</td>\n",
       "    </tr>\n",
       "    <tr>\n",
       "      <th>49</th>\n",
       "      <td>2023-09-27 12:34:51</td>\n",
       "      <td>0</td>\n",
       "      <td>Fernando</td>\n",
       "      <td>1</td>\n",
       "      <td>TEKOX Red Black Cables</td>\n",
       "      <td>12</td>\n",
       "      <td>red</td>\n",
       "    </tr>\n",
       "    <tr>\n",
       "      <th>50</th>\n",
       "      <td>2023-09-27 12:35:04</td>\n",
       "      <td>0</td>\n",
       "      <td>Fernando</td>\n",
       "      <td>1</td>\n",
       "      <td>TEKOX Red Black Cables</td>\n",
       "      <td>13</td>\n",
       "      <td>red</td>\n",
       "    </tr>\n",
       "    <tr>\n",
       "      <th>51</th>\n",
       "      <td>2023-09-27 12:35:16</td>\n",
       "      <td>0</td>\n",
       "      <td>Fernando</td>\n",
       "      <td>1</td>\n",
       "      <td>TEKOX Red Black Cables</td>\n",
       "      <td>12</td>\n",
       "      <td>red</td>\n",
       "    </tr>\n",
       "    <tr>\n",
       "      <th>52</th>\n",
       "      <td>2023-09-27 12:35:29</td>\n",
       "      <td>0</td>\n",
       "      <td>Fernando</td>\n",
       "      <td>1</td>\n",
       "      <td>TEKOX Red Black Cables</td>\n",
       "      <td>12</td>\n",
       "      <td>red</td>\n",
       "    </tr>\n",
       "    <tr>\n",
       "      <th>53</th>\n",
       "      <td>2023-09-27 12:35:41</td>\n",
       "      <td>0</td>\n",
       "      <td>Fernando</td>\n",
       "      <td>1</td>\n",
       "      <td>TEKOX Red Black Cables</td>\n",
       "      <td>12</td>\n",
       "      <td>red</td>\n",
       "    </tr>\n",
       "    <tr>\n",
       "      <th>54</th>\n",
       "      <td>2023-09-27 12:35:52</td>\n",
       "      <td>0</td>\n",
       "      <td>Fernando</td>\n",
       "      <td>1</td>\n",
       "      <td>TEKOX Red Black Cables</td>\n",
       "      <td>11</td>\n",
       "      <td>red</td>\n",
       "    </tr>\n",
       "    <tr>\n",
       "      <th>55</th>\n",
       "      <td>2023-09-27 12:36:05</td>\n",
       "      <td>0</td>\n",
       "      <td>Fernando</td>\n",
       "      <td>1</td>\n",
       "      <td>TEKOX Red Black Cables</td>\n",
       "      <td>12</td>\n",
       "      <td>red</td>\n",
       "    </tr>\n",
       "    <tr>\n",
       "      <th>56</th>\n",
       "      <td>2023-09-27 12:36:18</td>\n",
       "      <td>0</td>\n",
       "      <td>Fernando</td>\n",
       "      <td>1</td>\n",
       "      <td>TEKOX Red Black Cables</td>\n",
       "      <td>13</td>\n",
       "      <td>red</td>\n",
       "    </tr>\n",
       "    <tr>\n",
       "      <th>57</th>\n",
       "      <td>2023-09-27 12:36:29</td>\n",
       "      <td>0</td>\n",
       "      <td>Fernando</td>\n",
       "      <td>1</td>\n",
       "      <td>TEKOX Red Black Cables</td>\n",
       "      <td>11</td>\n",
       "      <td>red</td>\n",
       "    </tr>\n",
       "    <tr>\n",
       "      <th>58</th>\n",
       "      <td>2023-09-27 12:36:42</td>\n",
       "      <td>0</td>\n",
       "      <td>Fernando</td>\n",
       "      <td>1</td>\n",
       "      <td>TEKOX Red Black Cables</td>\n",
       "      <td>12</td>\n",
       "      <td>red</td>\n",
       "    </tr>\n",
       "    <tr>\n",
       "      <th>59</th>\n",
       "      <td>2023-09-27 12:36:53</td>\n",
       "      <td>0</td>\n",
       "      <td>Fernando</td>\n",
       "      <td>1</td>\n",
       "      <td>TEKOX Red Black Cables</td>\n",
       "      <td>11</td>\n",
       "      <td>red</td>\n",
       "    </tr>\n",
       "    <tr>\n",
       "      <th>60</th>\n",
       "      <td>2023-09-27 12:37:05</td>\n",
       "      <td>0</td>\n",
       "      <td>Fernando</td>\n",
       "      <td>1</td>\n",
       "      <td>TEKOX Red Black Cables</td>\n",
       "      <td>12</td>\n",
       "      <td>red</td>\n",
       "    </tr>\n",
       "    <tr>\n",
       "      <th>61</th>\n",
       "      <td>2023-09-27 12:37:18</td>\n",
       "      <td>0</td>\n",
       "      <td>Fernando</td>\n",
       "      <td>1</td>\n",
       "      <td>TEKOX Red Black Cables</td>\n",
       "      <td>12</td>\n",
       "      <td>red</td>\n",
       "    </tr>\n",
       "    <tr>\n",
       "      <th>63</th>\n",
       "      <td>2023-09-27 12:38:16</td>\n",
       "      <td>0</td>\n",
       "      <td>Fernando</td>\n",
       "      <td>4</td>\n",
       "      <td>Screws in Boards</td>\n",
       "      <td>40</td>\n",
       "      <td>gray</td>\n",
       "    </tr>\n",
       "    <tr>\n",
       "      <th>64</th>\n",
       "      <td>2023-09-27 12:38:57</td>\n",
       "      <td>0</td>\n",
       "      <td>Fernando</td>\n",
       "      <td>4</td>\n",
       "      <td>Screws in Boards</td>\n",
       "      <td>39</td>\n",
       "      <td>gray</td>\n",
       "    </tr>\n",
       "    <tr>\n",
       "      <th>65</th>\n",
       "      <td>2023-09-27 12:39:40</td>\n",
       "      <td>0</td>\n",
       "      <td>Fernando</td>\n",
       "      <td>4</td>\n",
       "      <td>Screws in Boards</td>\n",
       "      <td>42</td>\n",
       "      <td>gray</td>\n",
       "    </tr>\n",
       "    <tr>\n",
       "      <th>66</th>\n",
       "      <td>2023-09-27 12:40:20</td>\n",
       "      <td>0</td>\n",
       "      <td>Fernando</td>\n",
       "      <td>4</td>\n",
       "      <td>Screws in Boards</td>\n",
       "      <td>40</td>\n",
       "      <td>gray</td>\n",
       "    </tr>\n",
       "    <tr>\n",
       "      <th>67</th>\n",
       "      <td>2023-09-27 12:41:00</td>\n",
       "      <td>0</td>\n",
       "      <td>Fernando</td>\n",
       "      <td>4</td>\n",
       "      <td>Screws in Boards</td>\n",
       "      <td>39</td>\n",
       "      <td>gray</td>\n",
       "    </tr>\n",
       "    <tr>\n",
       "      <th>68</th>\n",
       "      <td>2023-09-27 12:41:42</td>\n",
       "      <td>0</td>\n",
       "      <td>Fernando</td>\n",
       "      <td>4</td>\n",
       "      <td>Screws in Boards</td>\n",
       "      <td>41</td>\n",
       "      <td>gray</td>\n",
       "    </tr>\n",
       "    <tr>\n",
       "      <th>69</th>\n",
       "      <td>2023-09-27 12:42:23</td>\n",
       "      <td>0</td>\n",
       "      <td>Fernando</td>\n",
       "      <td>4</td>\n",
       "      <td>Screws in Boards</td>\n",
       "      <td>40</td>\n",
       "      <td>gray</td>\n",
       "    </tr>\n",
       "    <tr>\n",
       "      <th>70</th>\n",
       "      <td>2023-09-27 12:43:04</td>\n",
       "      <td>0</td>\n",
       "      <td>Fernando</td>\n",
       "      <td>4</td>\n",
       "      <td>Screws in Boards</td>\n",
       "      <td>40</td>\n",
       "      <td>gray</td>\n",
       "    </tr>\n",
       "    <tr>\n",
       "      <th>71</th>\n",
       "      <td>2023-09-27 12:43:46</td>\n",
       "      <td>0</td>\n",
       "      <td>Fernando</td>\n",
       "      <td>4</td>\n",
       "      <td>Screws in Boards</td>\n",
       "      <td>41</td>\n",
       "      <td>gray</td>\n",
       "    </tr>\n",
       "    <tr>\n",
       "      <th>74</th>\n",
       "      <td>2023-09-27 12:44:44</td>\n",
       "      <td>0</td>\n",
       "      <td>Fernando</td>\n",
       "      <td>2</td>\n",
       "      <td>TEKOX Blue Brown Cables</td>\n",
       "      <td>12</td>\n",
       "      <td>blue</td>\n",
       "    </tr>\n",
       "    <tr>\n",
       "      <th>75</th>\n",
       "      <td>2023-09-27 12:44:57</td>\n",
       "      <td>0</td>\n",
       "      <td>Fernando</td>\n",
       "      <td>2</td>\n",
       "      <td>TEKOX Blue Brown Cables</td>\n",
       "      <td>12</td>\n",
       "      <td>blue</td>\n",
       "    </tr>\n",
       "    <tr>\n",
       "      <th>76</th>\n",
       "      <td>2023-09-27 12:45:08</td>\n",
       "      <td>0</td>\n",
       "      <td>Fernando</td>\n",
       "      <td>2</td>\n",
       "      <td>TEKOX Blue Brown Cables</td>\n",
       "      <td>11</td>\n",
       "      <td>blue</td>\n",
       "    </tr>\n",
       "    <tr>\n",
       "      <th>77</th>\n",
       "      <td>2023-09-27 12:45:22</td>\n",
       "      <td>0</td>\n",
       "      <td>Fernando</td>\n",
       "      <td>2</td>\n",
       "      <td>TEKOX Blue Brown Cables</td>\n",
       "      <td>13</td>\n",
       "      <td>blue</td>\n",
       "    </tr>\n",
       "    <tr>\n",
       "      <th>78</th>\n",
       "      <td>2023-09-27 12:45:35</td>\n",
       "      <td>0</td>\n",
       "      <td>Fernando</td>\n",
       "      <td>2</td>\n",
       "      <td>TEKOX Blue Brown Cables</td>\n",
       "      <td>13</td>\n",
       "      <td>blue</td>\n",
       "    </tr>\n",
       "    <tr>\n",
       "      <th>79</th>\n",
       "      <td>2023-09-27 12:45:47</td>\n",
       "      <td>0</td>\n",
       "      <td>Fernando</td>\n",
       "      <td>2</td>\n",
       "      <td>TEKOX Blue Brown Cables</td>\n",
       "      <td>12</td>\n",
       "      <td>blue</td>\n",
       "    </tr>\n",
       "    <tr>\n",
       "      <th>80</th>\n",
       "      <td>2023-09-27 12:46:00</td>\n",
       "      <td>0</td>\n",
       "      <td>Fernando</td>\n",
       "      <td>2</td>\n",
       "      <td>TEKOX Blue Brown Cables</td>\n",
       "      <td>12</td>\n",
       "      <td>blue</td>\n",
       "    </tr>\n",
       "    <tr>\n",
       "      <th>81</th>\n",
       "      <td>2023-09-27 12:46:13</td>\n",
       "      <td>0</td>\n",
       "      <td>Fernando</td>\n",
       "      <td>2</td>\n",
       "      <td>TEKOX Blue Brown Cables</td>\n",
       "      <td>13</td>\n",
       "      <td>blue</td>\n",
       "    </tr>\n",
       "    <tr>\n",
       "      <th>82</th>\n",
       "      <td>2023-09-27 12:46:26</td>\n",
       "      <td>0</td>\n",
       "      <td>Fernando</td>\n",
       "      <td>2</td>\n",
       "      <td>TEKOX Blue Brown Cables</td>\n",
       "      <td>12</td>\n",
       "      <td>blue</td>\n",
       "    </tr>\n",
       "    <tr>\n",
       "      <th>83</th>\n",
       "      <td>2023-09-27 12:46:38</td>\n",
       "      <td>0</td>\n",
       "      <td>Fernando</td>\n",
       "      <td>2</td>\n",
       "      <td>TEKOX Blue Brown Cables</td>\n",
       "      <td>12</td>\n",
       "      <td>blue</td>\n",
       "    </tr>\n",
       "    <tr>\n",
       "      <th>84</th>\n",
       "      <td>2023-09-27 12:46:50</td>\n",
       "      <td>0</td>\n",
       "      <td>Fernando</td>\n",
       "      <td>2</td>\n",
       "      <td>TEKOX Blue Brown Cables</td>\n",
       "      <td>12</td>\n",
       "      <td>blue</td>\n",
       "    </tr>\n",
       "    <tr>\n",
       "      <th>85</th>\n",
       "      <td>2023-09-27 12:47:03</td>\n",
       "      <td>0</td>\n",
       "      <td>Fernando</td>\n",
       "      <td>2</td>\n",
       "      <td>TEKOX Blue Brown Cables</td>\n",
       "      <td>12</td>\n",
       "      <td>blue</td>\n",
       "    </tr>\n",
       "    <tr>\n",
       "      <th>86</th>\n",
       "      <td>2023-09-27 12:47:28</td>\n",
       "      <td>0</td>\n",
       "      <td>Fernando</td>\n",
       "      <td>2</td>\n",
       "      <td>TEKOX Blue Brown Cables</td>\n",
       "      <td>12</td>\n",
       "      <td>blue</td>\n",
       "    </tr>\n",
       "    <tr>\n",
       "      <th>87</th>\n",
       "      <td>2023-09-27 12:47:28</td>\n",
       "      <td>0</td>\n",
       "      <td>Fernando</td>\n",
       "      <td>2</td>\n",
       "      <td>TEKOX Blue Brown Cables</td>\n",
       "      <td>12</td>\n",
       "      <td>blue</td>\n",
       "    </tr>\n",
       "    <tr>\n",
       "      <th>88</th>\n",
       "      <td>2023-09-27 12:47:41</td>\n",
       "      <td>0</td>\n",
       "      <td>Fernando</td>\n",
       "      <td>2</td>\n",
       "      <td>TEKOX Blue Brown Cables</td>\n",
       "      <td>12</td>\n",
       "      <td>blue</td>\n",
       "    </tr>\n",
       "  </tbody>\n",
       "</table>\n",
       "</div>"
      ],
      "text/plain": [
       "                    ts  empid  emp_name  task                task_name  sec  \\\n",
       "1  2023-09-27 10:19:43      0  Fernando     1   TEKOX Red Black Cables   14   \n",
       "2  2023-09-27 10:19:58      0  Fernando     1   TEKOX Red Black Cables   15   \n",
       "3  2023-09-27 10:20:16      0  Fernando     1   TEKOX Red Black Cables   17   \n",
       "4  2023-09-27 10:20:31      0  Fernando     1   TEKOX Red Black Cables   15   \n",
       "5  2023-09-27 10:20:48      0  Fernando     1   TEKOX Red Black Cables   16   \n",
       "6  2023-09-27 10:21:01      0  Fernando     1   TEKOX Red Black Cables   13   \n",
       "7  2023-09-27 10:21:14      0  Fernando     1   TEKOX Red Black Cables   12   \n",
       "8  2023-09-27 10:21:30      0  Fernando     1   TEKOX Red Black Cables   16   \n",
       "9  2023-09-27 10:21:43      0  Fernando     1   TEKOX Red Black Cables   12   \n",
       "10 2023-09-27 10:21:55      0  Fernando     1   TEKOX Red Black Cables   12   \n",
       "11 2023-09-27 10:22:06      0  Fernando     1   TEKOX Red Black Cables   11   \n",
       "12 2023-09-27 10:22:18      0  Fernando     1   TEKOX Red Black Cables   12   \n",
       "13 2023-09-27 10:22:30      0  Fernando     1   TEKOX Red Black Cables   11   \n",
       "14 2023-09-27 10:22:42      0  Fernando     1   TEKOX Red Black Cables   12   \n",
       "15 2023-09-27 10:22:53      0  Fernando     1   TEKOX Red Black Cables   11   \n",
       "16 2023-09-27 10:23:05      0  Fernando     1   TEKOX Red Black Cables   11   \n",
       "17 2023-09-27 10:23:17      0  Fernando     1   TEKOX Red Black Cables   12   \n",
       "18 2023-09-27 10:23:29      0  Fernando     1   TEKOX Red Black Cables   12   \n",
       "19 2023-09-27 10:23:41      0  Fernando     1   TEKOX Red Black Cables   12   \n",
       "20 2023-09-27 10:23:54      0  Fernando     1   TEKOX Red Black Cables   12   \n",
       "21 2023-09-27 10:24:06      0  Fernando     1   TEKOX Red Black Cables   11   \n",
       "22 2023-09-27 10:24:17      0  Fernando     1   TEKOX Red Black Cables   12   \n",
       "23 2023-09-27 10:24:30      0  Fernando     1   TEKOX Red Black Cables   12   \n",
       "25 2023-09-27 10:25:54      0  Fernando     4         Screws in Boards   41   \n",
       "26 2023-09-27 10:26:07      0  Fernando     4         Screws in Boards   12   \n",
       "27 2023-09-27 10:26:51      0  Fernando     4         Screws in Boards   43   \n",
       "28 2023-09-27 10:27:32      0  Fernando     4         Screws in Boards   40   \n",
       "29 2023-09-27 10:28:15      0  Fernando     4         Screws in Boards   42   \n",
       "30 2023-09-27 10:28:56      0  Fernando     4         Screws in Boards   40   \n",
       "31 2023-09-27 10:29:39      0  Fernando     4         Screws in Boards   42   \n",
       "32 2023-09-27 10:30:23      0  Fernando     4         Screws in Boards   43   \n",
       "33 2023-09-27 10:31:04      0  Fernando     4         Screws in Boards   40   \n",
       "35 2023-09-27 10:32:18      0  Fernando     2  TEKOX Blue Brown Cables   13   \n",
       "36 2023-09-27 10:32:18      0  Fernando     2  TEKOX Blue Brown Cables   11   \n",
       "37 2023-09-27 10:32:33      0  Fernando     2  TEKOX Blue Brown Cables   12   \n",
       "38 2023-09-27 10:32:45      0  Fernando     2  TEKOX Blue Brown Cables   12   \n",
       "39 2023-09-27 10:32:58      0  Fernando     2  TEKOX Blue Brown Cables   13   \n",
       "40 2023-09-27 10:33:10      0  Fernando     2  TEKOX Blue Brown Cables   11   \n",
       "41 2023-09-27 10:33:22      0  Fernando     2  TEKOX Blue Brown Cables   12   \n",
       "42 2023-09-27 10:33:35      0  Fernando     2  TEKOX Blue Brown Cables   13   \n",
       "43 2023-09-27 10:33:47      0  Fernando     2  TEKOX Blue Brown Cables   11   \n",
       "44 2023-09-27 10:33:59      0  Fernando     2  TEKOX Blue Brown Cables   12   \n",
       "45 2023-09-27 10:34:11      0  Fernando     2  TEKOX Blue Brown Cables   12   \n",
       "46 2023-09-27 10:34:23      0  Fernando     2  TEKOX Blue Brown Cables   11   \n",
       "48 2023-09-27 12:34:38      0  Fernando     1   TEKOX Red Black Cables   12   \n",
       "49 2023-09-27 12:34:51      0  Fernando     1   TEKOX Red Black Cables   12   \n",
       "50 2023-09-27 12:35:04      0  Fernando     1   TEKOX Red Black Cables   13   \n",
       "51 2023-09-27 12:35:16      0  Fernando     1   TEKOX Red Black Cables   12   \n",
       "52 2023-09-27 12:35:29      0  Fernando     1   TEKOX Red Black Cables   12   \n",
       "53 2023-09-27 12:35:41      0  Fernando     1   TEKOX Red Black Cables   12   \n",
       "54 2023-09-27 12:35:52      0  Fernando     1   TEKOX Red Black Cables   11   \n",
       "55 2023-09-27 12:36:05      0  Fernando     1   TEKOX Red Black Cables   12   \n",
       "56 2023-09-27 12:36:18      0  Fernando     1   TEKOX Red Black Cables   13   \n",
       "57 2023-09-27 12:36:29      0  Fernando     1   TEKOX Red Black Cables   11   \n",
       "58 2023-09-27 12:36:42      0  Fernando     1   TEKOX Red Black Cables   12   \n",
       "59 2023-09-27 12:36:53      0  Fernando     1   TEKOX Red Black Cables   11   \n",
       "60 2023-09-27 12:37:05      0  Fernando     1   TEKOX Red Black Cables   12   \n",
       "61 2023-09-27 12:37:18      0  Fernando     1   TEKOX Red Black Cables   12   \n",
       "63 2023-09-27 12:38:16      0  Fernando     4         Screws in Boards   40   \n",
       "64 2023-09-27 12:38:57      0  Fernando     4         Screws in Boards   39   \n",
       "65 2023-09-27 12:39:40      0  Fernando     4         Screws in Boards   42   \n",
       "66 2023-09-27 12:40:20      0  Fernando     4         Screws in Boards   40   \n",
       "67 2023-09-27 12:41:00      0  Fernando     4         Screws in Boards   39   \n",
       "68 2023-09-27 12:41:42      0  Fernando     4         Screws in Boards   41   \n",
       "69 2023-09-27 12:42:23      0  Fernando     4         Screws in Boards   40   \n",
       "70 2023-09-27 12:43:04      0  Fernando     4         Screws in Boards   40   \n",
       "71 2023-09-27 12:43:46      0  Fernando     4         Screws in Boards   41   \n",
       "74 2023-09-27 12:44:44      0  Fernando     2  TEKOX Blue Brown Cables   12   \n",
       "75 2023-09-27 12:44:57      0  Fernando     2  TEKOX Blue Brown Cables   12   \n",
       "76 2023-09-27 12:45:08      0  Fernando     2  TEKOX Blue Brown Cables   11   \n",
       "77 2023-09-27 12:45:22      0  Fernando     2  TEKOX Blue Brown Cables   13   \n",
       "78 2023-09-27 12:45:35      0  Fernando     2  TEKOX Blue Brown Cables   13   \n",
       "79 2023-09-27 12:45:47      0  Fernando     2  TEKOX Blue Brown Cables   12   \n",
       "80 2023-09-27 12:46:00      0  Fernando     2  TEKOX Blue Brown Cables   12   \n",
       "81 2023-09-27 12:46:13      0  Fernando     2  TEKOX Blue Brown Cables   13   \n",
       "82 2023-09-27 12:46:26      0  Fernando     2  TEKOX Blue Brown Cables   12   \n",
       "83 2023-09-27 12:46:38      0  Fernando     2  TEKOX Blue Brown Cables   12   \n",
       "84 2023-09-27 12:46:50      0  Fernando     2  TEKOX Blue Brown Cables   12   \n",
       "85 2023-09-27 12:47:03      0  Fernando     2  TEKOX Blue Brown Cables   12   \n",
       "86 2023-09-27 12:47:28      0  Fernando     2  TEKOX Blue Brown Cables   12   \n",
       "87 2023-09-27 12:47:28      0  Fernando     2  TEKOX Blue Brown Cables   12   \n",
       "88 2023-09-27 12:47:41      0  Fernando     2  TEKOX Blue Brown Cables   12   \n",
       "\n",
       "   color  \n",
       "1    red  \n",
       "2    red  \n",
       "3    red  \n",
       "4    red  \n",
       "5    red  \n",
       "6    red  \n",
       "7    red  \n",
       "8    red  \n",
       "9    red  \n",
       "10   red  \n",
       "11   red  \n",
       "12   red  \n",
       "13   red  \n",
       "14   red  \n",
       "15   red  \n",
       "16   red  \n",
       "17   red  \n",
       "18   red  \n",
       "19   red  \n",
       "20   red  \n",
       "21   red  \n",
       "22   red  \n",
       "23   red  \n",
       "25  gray  \n",
       "26  gray  \n",
       "27  gray  \n",
       "28  gray  \n",
       "29  gray  \n",
       "30  gray  \n",
       "31  gray  \n",
       "32  gray  \n",
       "33  gray  \n",
       "35  blue  \n",
       "36  blue  \n",
       "37  blue  \n",
       "38  blue  \n",
       "39  blue  \n",
       "40  blue  \n",
       "41  blue  \n",
       "42  blue  \n",
       "43  blue  \n",
       "44  blue  \n",
       "45  blue  \n",
       "46  blue  \n",
       "48   red  \n",
       "49   red  \n",
       "50   red  \n",
       "51   red  \n",
       "52   red  \n",
       "53   red  \n",
       "54   red  \n",
       "55   red  \n",
       "56   red  \n",
       "57   red  \n",
       "58   red  \n",
       "59   red  \n",
       "60   red  \n",
       "61   red  \n",
       "63  gray  \n",
       "64  gray  \n",
       "65  gray  \n",
       "66  gray  \n",
       "67  gray  \n",
       "68  gray  \n",
       "69  gray  \n",
       "70  gray  \n",
       "71  gray  \n",
       "74  blue  \n",
       "75  blue  \n",
       "76  blue  \n",
       "77  blue  \n",
       "78  blue  \n",
       "79  blue  \n",
       "80  blue  \n",
       "81  blue  \n",
       "82  blue  \n",
       "83  blue  \n",
       "84  blue  \n",
       "85  blue  \n",
       "86  blue  \n",
       "87  blue  \n",
       "88  blue  "
      ]
     },
     "metadata": {},
     "output_type": "display_data"
    },
    {
     "data": {
      "application/vnd.plotly.v1+json": {
       "config": {
        "plotlyServerURL": "https://plot.ly"
       },
       "data": [
        {
         "alignmentgroup": "True",
         "hovertemplate": "Task names=TEKOX Red Black Cables<br>Timestamp=%{x}<br>Time (seconds)=%{y}<extra></extra>",
         "legendgroup": "TEKOX Red Black Cables",
         "marker": {
          "color": "#636efa",
          "pattern": {
           "shape": ""
          }
         },
         "name": "TEKOX Red Black Cables",
         "offsetgroup": "TEKOX Red Black Cables",
         "orientation": "v",
         "showlegend": true,
         "textposition": "auto",
         "type": "bar",
         "x": [
          "2023-09-27T10:19:43",
          "2023-09-27T10:19:58",
          "2023-09-27T10:20:16",
          "2023-09-27T10:20:31",
          "2023-09-27T10:20:48",
          "2023-09-27T10:21:01",
          "2023-09-27T10:21:14",
          "2023-09-27T10:21:30",
          "2023-09-27T10:21:43",
          "2023-09-27T10:21:55",
          "2023-09-27T10:22:06",
          "2023-09-27T10:22:18",
          "2023-09-27T10:22:30",
          "2023-09-27T10:22:42",
          "2023-09-27T10:22:53",
          "2023-09-27T10:23:05",
          "2023-09-27T10:23:17",
          "2023-09-27T10:23:29",
          "2023-09-27T10:23:41",
          "2023-09-27T10:23:54",
          "2023-09-27T10:24:06",
          "2023-09-27T10:24:17",
          "2023-09-27T10:24:30",
          "2023-09-27T12:34:38",
          "2023-09-27T12:34:51",
          "2023-09-27T12:35:04",
          "2023-09-27T12:35:16",
          "2023-09-27T12:35:29",
          "2023-09-27T12:35:41",
          "2023-09-27T12:35:52",
          "2023-09-27T12:36:05",
          "2023-09-27T12:36:18",
          "2023-09-27T12:36:29",
          "2023-09-27T12:36:42",
          "2023-09-27T12:36:53",
          "2023-09-27T12:37:05",
          "2023-09-27T12:37:18"
         ],
         "xaxis": "x",
         "y": [
          14,
          15,
          17,
          15,
          16,
          13,
          12,
          16,
          12,
          12,
          11,
          12,
          11,
          12,
          11,
          11,
          12,
          12,
          12,
          12,
          11,
          12,
          12,
          12,
          12,
          13,
          12,
          12,
          12,
          11,
          12,
          13,
          11,
          12,
          11,
          12,
          12
         ],
         "yaxis": "y"
        },
        {
         "alignmentgroup": "True",
         "hovertemplate": "Task names=Screws in Boards<br>Timestamp=%{x}<br>Time (seconds)=%{y}<extra></extra>",
         "legendgroup": "Screws in Boards",
         "marker": {
          "color": "#EF553B",
          "pattern": {
           "shape": ""
          }
         },
         "name": "Screws in Boards",
         "offsetgroup": "Screws in Boards",
         "orientation": "v",
         "showlegend": true,
         "textposition": "auto",
         "type": "bar",
         "x": [
          "2023-09-27T10:25:54",
          "2023-09-27T10:26:07",
          "2023-09-27T10:26:51",
          "2023-09-27T10:27:32",
          "2023-09-27T10:28:15",
          "2023-09-27T10:28:56",
          "2023-09-27T10:29:39",
          "2023-09-27T10:30:23",
          "2023-09-27T10:31:04",
          "2023-09-27T12:38:16",
          "2023-09-27T12:38:57",
          "2023-09-27T12:39:40",
          "2023-09-27T12:40:20",
          "2023-09-27T12:41:00",
          "2023-09-27T12:41:42",
          "2023-09-27T12:42:23",
          "2023-09-27T12:43:04",
          "2023-09-27T12:43:46"
         ],
         "xaxis": "x",
         "y": [
          41,
          12,
          43,
          40,
          42,
          40,
          42,
          43,
          40,
          40,
          39,
          42,
          40,
          39,
          41,
          40,
          40,
          41
         ],
         "yaxis": "y"
        },
        {
         "alignmentgroup": "True",
         "hovertemplate": "Task names=TEKOX Blue Brown Cables<br>Timestamp=%{x}<br>Time (seconds)=%{y}<extra></extra>",
         "legendgroup": "TEKOX Blue Brown Cables",
         "marker": {
          "color": "#00cc96",
          "pattern": {
           "shape": ""
          }
         },
         "name": "TEKOX Blue Brown Cables",
         "offsetgroup": "TEKOX Blue Brown Cables",
         "orientation": "v",
         "showlegend": true,
         "textposition": "auto",
         "type": "bar",
         "x": [
          "2023-09-27T10:32:18",
          "2023-09-27T10:32:18",
          "2023-09-27T10:32:33",
          "2023-09-27T10:32:45",
          "2023-09-27T10:32:58",
          "2023-09-27T10:33:10",
          "2023-09-27T10:33:22",
          "2023-09-27T10:33:35",
          "2023-09-27T10:33:47",
          "2023-09-27T10:33:59",
          "2023-09-27T10:34:11",
          "2023-09-27T10:34:23",
          "2023-09-27T12:44:44",
          "2023-09-27T12:44:57",
          "2023-09-27T12:45:08",
          "2023-09-27T12:45:22",
          "2023-09-27T12:45:35",
          "2023-09-27T12:45:47",
          "2023-09-27T12:46:00",
          "2023-09-27T12:46:13",
          "2023-09-27T12:46:26",
          "2023-09-27T12:46:38",
          "2023-09-27T12:46:50",
          "2023-09-27T12:47:03",
          "2023-09-27T12:47:28",
          "2023-09-27T12:47:28",
          "2023-09-27T12:47:41"
         ],
         "xaxis": "x",
         "y": [
          13,
          11,
          12,
          12,
          13,
          11,
          12,
          13,
          11,
          12,
          12,
          11,
          12,
          12,
          11,
          13,
          13,
          12,
          12,
          13,
          12,
          12,
          12,
          12,
          12,
          12,
          12
         ],
         "yaxis": "y"
        }
       ],
       "layout": {
        "barmode": "relative",
        "legend": {
         "title": {
          "text": "Task names"
         },
         "tracegroupgap": 0
        },
        "template": {
         "data": {
          "bar": [
           {
            "error_x": {
             "color": "#2a3f5f"
            },
            "error_y": {
             "color": "#2a3f5f"
            },
            "marker": {
             "line": {
              "color": "#E5ECF6",
              "width": 0.5
             },
             "pattern": {
              "fillmode": "overlay",
              "size": 10,
              "solidity": 0.2
             }
            },
            "type": "bar"
           }
          ],
          "barpolar": [
           {
            "marker": {
             "line": {
              "color": "#E5ECF6",
              "width": 0.5
             },
             "pattern": {
              "fillmode": "overlay",
              "size": 10,
              "solidity": 0.2
             }
            },
            "type": "barpolar"
           }
          ],
          "carpet": [
           {
            "aaxis": {
             "endlinecolor": "#2a3f5f",
             "gridcolor": "white",
             "linecolor": "white",
             "minorgridcolor": "white",
             "startlinecolor": "#2a3f5f"
            },
            "baxis": {
             "endlinecolor": "#2a3f5f",
             "gridcolor": "white",
             "linecolor": "white",
             "minorgridcolor": "white",
             "startlinecolor": "#2a3f5f"
            },
            "type": "carpet"
           }
          ],
          "choropleth": [
           {
            "colorbar": {
             "outlinewidth": 0,
             "ticks": ""
            },
            "type": "choropleth"
           }
          ],
          "contour": [
           {
            "colorbar": {
             "outlinewidth": 0,
             "ticks": ""
            },
            "colorscale": [
             [
              0,
              "#0d0887"
             ],
             [
              0.1111111111111111,
              "#46039f"
             ],
             [
              0.2222222222222222,
              "#7201a8"
             ],
             [
              0.3333333333333333,
              "#9c179e"
             ],
             [
              0.4444444444444444,
              "#bd3786"
             ],
             [
              0.5555555555555556,
              "#d8576b"
             ],
             [
              0.6666666666666666,
              "#ed7953"
             ],
             [
              0.7777777777777778,
              "#fb9f3a"
             ],
             [
              0.8888888888888888,
              "#fdca26"
             ],
             [
              1,
              "#f0f921"
             ]
            ],
            "type": "contour"
           }
          ],
          "contourcarpet": [
           {
            "colorbar": {
             "outlinewidth": 0,
             "ticks": ""
            },
            "type": "contourcarpet"
           }
          ],
          "heatmap": [
           {
            "colorbar": {
             "outlinewidth": 0,
             "ticks": ""
            },
            "colorscale": [
             [
              0,
              "#0d0887"
             ],
             [
              0.1111111111111111,
              "#46039f"
             ],
             [
              0.2222222222222222,
              "#7201a8"
             ],
             [
              0.3333333333333333,
              "#9c179e"
             ],
             [
              0.4444444444444444,
              "#bd3786"
             ],
             [
              0.5555555555555556,
              "#d8576b"
             ],
             [
              0.6666666666666666,
              "#ed7953"
             ],
             [
              0.7777777777777778,
              "#fb9f3a"
             ],
             [
              0.8888888888888888,
              "#fdca26"
             ],
             [
              1,
              "#f0f921"
             ]
            ],
            "type": "heatmap"
           }
          ],
          "heatmapgl": [
           {
            "colorbar": {
             "outlinewidth": 0,
             "ticks": ""
            },
            "colorscale": [
             [
              0,
              "#0d0887"
             ],
             [
              0.1111111111111111,
              "#46039f"
             ],
             [
              0.2222222222222222,
              "#7201a8"
             ],
             [
              0.3333333333333333,
              "#9c179e"
             ],
             [
              0.4444444444444444,
              "#bd3786"
             ],
             [
              0.5555555555555556,
              "#d8576b"
             ],
             [
              0.6666666666666666,
              "#ed7953"
             ],
             [
              0.7777777777777778,
              "#fb9f3a"
             ],
             [
              0.8888888888888888,
              "#fdca26"
             ],
             [
              1,
              "#f0f921"
             ]
            ],
            "type": "heatmapgl"
           }
          ],
          "histogram": [
           {
            "marker": {
             "pattern": {
              "fillmode": "overlay",
              "size": 10,
              "solidity": 0.2
             }
            },
            "type": "histogram"
           }
          ],
          "histogram2d": [
           {
            "colorbar": {
             "outlinewidth": 0,
             "ticks": ""
            },
            "colorscale": [
             [
              0,
              "#0d0887"
             ],
             [
              0.1111111111111111,
              "#46039f"
             ],
             [
              0.2222222222222222,
              "#7201a8"
             ],
             [
              0.3333333333333333,
              "#9c179e"
             ],
             [
              0.4444444444444444,
              "#bd3786"
             ],
             [
              0.5555555555555556,
              "#d8576b"
             ],
             [
              0.6666666666666666,
              "#ed7953"
             ],
             [
              0.7777777777777778,
              "#fb9f3a"
             ],
             [
              0.8888888888888888,
              "#fdca26"
             ],
             [
              1,
              "#f0f921"
             ]
            ],
            "type": "histogram2d"
           }
          ],
          "histogram2dcontour": [
           {
            "colorbar": {
             "outlinewidth": 0,
             "ticks": ""
            },
            "colorscale": [
             [
              0,
              "#0d0887"
             ],
             [
              0.1111111111111111,
              "#46039f"
             ],
             [
              0.2222222222222222,
              "#7201a8"
             ],
             [
              0.3333333333333333,
              "#9c179e"
             ],
             [
              0.4444444444444444,
              "#bd3786"
             ],
             [
              0.5555555555555556,
              "#d8576b"
             ],
             [
              0.6666666666666666,
              "#ed7953"
             ],
             [
              0.7777777777777778,
              "#fb9f3a"
             ],
             [
              0.8888888888888888,
              "#fdca26"
             ],
             [
              1,
              "#f0f921"
             ]
            ],
            "type": "histogram2dcontour"
           }
          ],
          "mesh3d": [
           {
            "colorbar": {
             "outlinewidth": 0,
             "ticks": ""
            },
            "type": "mesh3d"
           }
          ],
          "parcoords": [
           {
            "line": {
             "colorbar": {
              "outlinewidth": 0,
              "ticks": ""
             }
            },
            "type": "parcoords"
           }
          ],
          "pie": [
           {
            "automargin": true,
            "type": "pie"
           }
          ],
          "scatter": [
           {
            "fillpattern": {
             "fillmode": "overlay",
             "size": 10,
             "solidity": 0.2
            },
            "type": "scatter"
           }
          ],
          "scatter3d": [
           {
            "line": {
             "colorbar": {
              "outlinewidth": 0,
              "ticks": ""
             }
            },
            "marker": {
             "colorbar": {
              "outlinewidth": 0,
              "ticks": ""
             }
            },
            "type": "scatter3d"
           }
          ],
          "scattercarpet": [
           {
            "marker": {
             "colorbar": {
              "outlinewidth": 0,
              "ticks": ""
             }
            },
            "type": "scattercarpet"
           }
          ],
          "scattergeo": [
           {
            "marker": {
             "colorbar": {
              "outlinewidth": 0,
              "ticks": ""
             }
            },
            "type": "scattergeo"
           }
          ],
          "scattergl": [
           {
            "marker": {
             "colorbar": {
              "outlinewidth": 0,
              "ticks": ""
             }
            },
            "type": "scattergl"
           }
          ],
          "scattermapbox": [
           {
            "marker": {
             "colorbar": {
              "outlinewidth": 0,
              "ticks": ""
             }
            },
            "type": "scattermapbox"
           }
          ],
          "scatterpolar": [
           {
            "marker": {
             "colorbar": {
              "outlinewidth": 0,
              "ticks": ""
             }
            },
            "type": "scatterpolar"
           }
          ],
          "scatterpolargl": [
           {
            "marker": {
             "colorbar": {
              "outlinewidth": 0,
              "ticks": ""
             }
            },
            "type": "scatterpolargl"
           }
          ],
          "scatterternary": [
           {
            "marker": {
             "colorbar": {
              "outlinewidth": 0,
              "ticks": ""
             }
            },
            "type": "scatterternary"
           }
          ],
          "surface": [
           {
            "colorbar": {
             "outlinewidth": 0,
             "ticks": ""
            },
            "colorscale": [
             [
              0,
              "#0d0887"
             ],
             [
              0.1111111111111111,
              "#46039f"
             ],
             [
              0.2222222222222222,
              "#7201a8"
             ],
             [
              0.3333333333333333,
              "#9c179e"
             ],
             [
              0.4444444444444444,
              "#bd3786"
             ],
             [
              0.5555555555555556,
              "#d8576b"
             ],
             [
              0.6666666666666666,
              "#ed7953"
             ],
             [
              0.7777777777777778,
              "#fb9f3a"
             ],
             [
              0.8888888888888888,
              "#fdca26"
             ],
             [
              1,
              "#f0f921"
             ]
            ],
            "type": "surface"
           }
          ],
          "table": [
           {
            "cells": {
             "fill": {
              "color": "#EBF0F8"
             },
             "line": {
              "color": "white"
             }
            },
            "header": {
             "fill": {
              "color": "#C8D4E3"
             },
             "line": {
              "color": "white"
             }
            },
            "type": "table"
           }
          ]
         },
         "layout": {
          "annotationdefaults": {
           "arrowcolor": "#2a3f5f",
           "arrowhead": 0,
           "arrowwidth": 1
          },
          "autotypenumbers": "strict",
          "coloraxis": {
           "colorbar": {
            "outlinewidth": 0,
            "ticks": ""
           }
          },
          "colorscale": {
           "diverging": [
            [
             0,
             "#8e0152"
            ],
            [
             0.1,
             "#c51b7d"
            ],
            [
             0.2,
             "#de77ae"
            ],
            [
             0.3,
             "#f1b6da"
            ],
            [
             0.4,
             "#fde0ef"
            ],
            [
             0.5,
             "#f7f7f7"
            ],
            [
             0.6,
             "#e6f5d0"
            ],
            [
             0.7,
             "#b8e186"
            ],
            [
             0.8,
             "#7fbc41"
            ],
            [
             0.9,
             "#4d9221"
            ],
            [
             1,
             "#276419"
            ]
           ],
           "sequential": [
            [
             0,
             "#0d0887"
            ],
            [
             0.1111111111111111,
             "#46039f"
            ],
            [
             0.2222222222222222,
             "#7201a8"
            ],
            [
             0.3333333333333333,
             "#9c179e"
            ],
            [
             0.4444444444444444,
             "#bd3786"
            ],
            [
             0.5555555555555556,
             "#d8576b"
            ],
            [
             0.6666666666666666,
             "#ed7953"
            ],
            [
             0.7777777777777778,
             "#fb9f3a"
            ],
            [
             0.8888888888888888,
             "#fdca26"
            ],
            [
             1,
             "#f0f921"
            ]
           ],
           "sequentialminus": [
            [
             0,
             "#0d0887"
            ],
            [
             0.1111111111111111,
             "#46039f"
            ],
            [
             0.2222222222222222,
             "#7201a8"
            ],
            [
             0.3333333333333333,
             "#9c179e"
            ],
            [
             0.4444444444444444,
             "#bd3786"
            ],
            [
             0.5555555555555556,
             "#d8576b"
            ],
            [
             0.6666666666666666,
             "#ed7953"
            ],
            [
             0.7777777777777778,
             "#fb9f3a"
            ],
            [
             0.8888888888888888,
             "#fdca26"
            ],
            [
             1,
             "#f0f921"
            ]
           ]
          },
          "colorway": [
           "#636efa",
           "#EF553B",
           "#00cc96",
           "#ab63fa",
           "#FFA15A",
           "#19d3f3",
           "#FF6692",
           "#B6E880",
           "#FF97FF",
           "#FECB52"
          ],
          "font": {
           "color": "#2a3f5f"
          },
          "geo": {
           "bgcolor": "white",
           "lakecolor": "white",
           "landcolor": "#E5ECF6",
           "showlakes": true,
           "showland": true,
           "subunitcolor": "white"
          },
          "hoverlabel": {
           "align": "left"
          },
          "hovermode": "closest",
          "mapbox": {
           "style": "light"
          },
          "paper_bgcolor": "white",
          "plot_bgcolor": "#E5ECF6",
          "polar": {
           "angularaxis": {
            "gridcolor": "white",
            "linecolor": "white",
            "ticks": ""
           },
           "bgcolor": "#E5ECF6",
           "radialaxis": {
            "gridcolor": "white",
            "linecolor": "white",
            "ticks": ""
           }
          },
          "scene": {
           "xaxis": {
            "backgroundcolor": "#E5ECF6",
            "gridcolor": "white",
            "gridwidth": 2,
            "linecolor": "white",
            "showbackground": true,
            "ticks": "",
            "zerolinecolor": "white"
           },
           "yaxis": {
            "backgroundcolor": "#E5ECF6",
            "gridcolor": "white",
            "gridwidth": 2,
            "linecolor": "white",
            "showbackground": true,
            "ticks": "",
            "zerolinecolor": "white"
           },
           "zaxis": {
            "backgroundcolor": "#E5ECF6",
            "gridcolor": "white",
            "gridwidth": 2,
            "linecolor": "white",
            "showbackground": true,
            "ticks": "",
            "zerolinecolor": "white"
           }
          },
          "shapedefaults": {
           "line": {
            "color": "#2a3f5f"
           }
          },
          "ternary": {
           "aaxis": {
            "gridcolor": "white",
            "linecolor": "white",
            "ticks": ""
           },
           "baxis": {
            "gridcolor": "white",
            "linecolor": "white",
            "ticks": ""
           },
           "bgcolor": "#E5ECF6",
           "caxis": {
            "gridcolor": "white",
            "linecolor": "white",
            "ticks": ""
           }
          },
          "title": {
           "x": 0.05
          },
          "xaxis": {
           "automargin": true,
           "gridcolor": "white",
           "linecolor": "white",
           "ticks": "",
           "title": {
            "standoff": 15
           },
           "zerolinecolor": "white",
           "zerolinewidth": 2
          },
          "yaxis": {
           "automargin": true,
           "gridcolor": "white",
           "linecolor": "white",
           "ticks": "",
           "title": {
            "standoff": 15
           },
           "zerolinecolor": "white",
           "zerolinewidth": 2
          }
         }
        },
        "title": {
         "text": "Tasks Performed Over Time"
        },
        "xaxis": {
         "anchor": "y",
         "domain": [
          0,
          1
         ],
         "title": {
          "text": "Timestamp"
         }
        },
        "yaxis": {
         "anchor": "x",
         "domain": [
          0,
          1
         ],
         "title": {
          "text": "Time (seconds)"
         }
        }
       }
      }
     },
     "metadata": {},
     "output_type": "display_data"
    }
   ],
   "source": [
    "def plot_tasks_in_time(df):\n",
    "    #display(px.data.medals_wide())\n",
    "    # Create a dictionary to map models to colors\n",
    "    #task_label_mapping = {0: 'Break', 1: 'TEKOX Red Black Cables', 2: 'TEKOX Blue Brown Cables', 3: 'MFALG Assembly',\n",
    "    #                  4: 'Screws in Boards', 5: 'Extra activity 1', 6: 'Extra Activity 2', 7: 'Unkown Activity'}\n",
    "    color_discrete = {0: 'black', 1: 'red', 2: 'blue', 3: 'yellow',\n",
    "                      4: 'gray', 5: 'orange', 6: 'purple', 7: 'cyan'}\n",
    "    \n",
    "    df.loc[:,'color'] = df['task'].map(color_discrete)\n",
    "\n",
    "    #fig = px.bar(df, x=\"ts\", y=\"sec\", \n",
    "    #            labels={\"ts\": \"Timestamp\", \"sec\": \"Time (seconds)\",'task': 'Task'},\n",
    "    #            color = \"color\",\n",
    "    #            title='Tasks Performed Over Time')\n",
    "              \n",
    "    fig = px.bar(df, x=\"ts\", y=\"sec\", \n",
    "                color=\"task_name\",\n",
    "                labels={\"ts\": \"Timestamp\", \"sec\": \"Time (seconds)\",'task_name': 'Task names'},\n",
    "                #color_discrete_map = color_discrete,\n",
    "                #labels={'task': 'Task'}, \n",
    "                title='Tasks Performed Over Time')\n",
    "    display(df)\n",
    "    fig.show()\n",
    "\n",
    "plot_tasks_in_time(df1)"
   ]
  }
 ],
 "metadata": {
  "kernelspec": {
   "display_name": "base",
   "language": "python",
   "name": "python3"
  },
  "language_info": {
   "codemirror_mode": {
    "name": "ipython",
    "version": 3
   },
   "file_extension": ".py",
   "mimetype": "text/x-python",
   "name": "python",
   "nbconvert_exporter": "python",
   "pygments_lexer": "ipython3",
   "version": "3.11.4"
  }
 },
 "nbformat": 4,
 "nbformat_minor": 2
}
