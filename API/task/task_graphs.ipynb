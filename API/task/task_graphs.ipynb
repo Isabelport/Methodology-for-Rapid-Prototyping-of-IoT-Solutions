{
 "cells": [
  {
   "cell_type": "code",
   "execution_count": 1,
   "metadata": {},
   "outputs": [],
   "source": [
    "import plotly.express as px\n",
    "import os\n",
    "import pandas as pd\n",
    "import numpy as np\n",
    "import plotly.graph_objects as go\n",
    "from plotly.subplots import make_subplots\n",
    "import datetime\n",
    "import math \n",
    "\n",
    "#import csv\n",
    "pd.set_option('display.max_rows', None)  # Display all rows"
   ]
  },
  {
   "cell_type": "code",
   "execution_count": 2,
   "metadata": {},
   "outputs": [
    {
     "name": "stdout",
     "output_type": "stream",
     "text": [
      "data_fabrica/task_07_09.csv\n"
     ]
    }
   ],
   "source": [
    "if not os.path.exists(\"images\"):\n",
    "    os.mkdir(\"images\")\n",
    "\n",
    "day = \"07\"\n",
    "month = \"09\"\n",
    "date = day + \"_\" + month #change date accordingly\n",
    "date_year = \"2023-\" + month + \"-\" + day\n",
    "\n",
    "def process_file(date):\n",
    "    file_path = os.path.join('data_fabrica/',f'task_{date}.csv')\n",
    "    print(file_path)\n",
    "    if os.path.exists(file_path):\n",
    "\n",
    "        df = pd.read_csv(file_path, parse_dates=['ts'])\n",
    "\n",
    "        # Remove first empty column if it exists\n",
    "        if df.shape[1] == 5:\n",
    "            df = df.drop(df.columns[0], axis=1)\n",
    "        # Remove entries with 'sec' equal to 0\n",
    "        df= df[df['sec'] != 0]\n",
    "\n",
    "        # Write the updated DataFrame back to the CSV file\n",
    "        df.to_csv(file_path, index = False)\n",
    "        # Reset the index of the DataFrame\n",
    "        df = df.reset_index(drop = True)\n",
    "\n",
    "        # Create a new column 'task_label' based on the mapping\n",
    "        task_label_mapping = {0: 'Break', 1: 'TEKOX Red Black Cables', 2: 'TEKOX Blue Brown Cables', 3: 'MFALG Assembly',\n",
    "                            4: 'Screws in Boards', 5: 'Extra activity 1', 6: 'Extra Activity 2', 7: 'Unkown Activity'}\n",
    "        df['task_name'] = df['task'].map(task_label_mapping)\n",
    "\n",
    "\n",
    "        emp_label_mapping = {0: 'Fernando', 1: 'Antonio', 2: 'Daniela', 3: 'Diogo', 4: 'Elisabete',5: 'Isabel', 6: 'Joao', \n",
    "                            7:'Joaquim',8:'Lidia',9:'Maria',10:'Mario',11:'Patricia',12:'Raquel',13:'Ana',14:'Paulo',15:'Luis'}\n",
    "        df['emp_name'] = df['empid'].map(emp_label_mapping)\n",
    "        #display(df)\n",
    "    else:\n",
    "        return pd.DataFrame\n",
    "    return df\n",
    "\n",
    "df = process_file(date)\n",
    "#display(df)"
   ]
  },
  {
   "cell_type": "code",
   "execution_count": 3,
   "metadata": {},
   "outputs": [
    {
     "name": "stdout",
     "output_type": "stream",
     "text": [
      "[ 0. nan nan nan nan 24. nan nan]\n",
      "Reference average\n",
      "[1136.66666667   12.           12.          144.           40.\n",
      "   60.                   nan           nan]\n",
      "Outliers:\n",
      "Task: 0\n",
      "Average: 1136.67\n",
      "Median: 80.0\n",
      "Variance: 3452097.33\n",
      "Standard deviation: 1857.98\n",
      "Count: 3.0\n",
      "total secs: 3410\n",
      "Count per hour: 3\n",
      "\n",
      "Task: 5\n",
      "Average: 24.41\n",
      "Median: 24.0\n",
      "Variance: 23.55\n",
      "Standard deviation: 4.85\n",
      "Count: 444.0\n",
      "total secs: 10838\n",
      "Count per hour: 147\n",
      "\n",
      "Outliers removed: 38\n"
     ]
    }
   ],
   "source": [
    "def remove_outliers(df,alpha):\n",
    "    ref_av_time = np.array([-1,12.0, 12, 144, 40, 60, -1, -1])\n",
    "\n",
    "    ref_av_time[0] = df[df['task'] == 0]['sec'].mean()\n",
    "    #ref_av_time[5] = df[df['task'] == 5]['sec'].mean()\n",
    "    ref_av_time[6] = df[df['task'] == 6]['sec'].mean()\n",
    "    ref_av_time[7] = df[df['task'] == 7]['sec'].mean()\n",
    "\n",
    "    my_med_time = np.zeros(8)\n",
    "    my_av_time = np.zeros(8)\n",
    "    for task_id in range(1,8):\n",
    "        my_med_time[task_id] = df[df['task'] == task_id]['sec'].median()\n",
    "        my_av_time[task_id] = df[df['task'] == task_id]['sec'].mean()\n",
    "    print(my_med_time)\n",
    "    \n",
    "    print(\"Reference average\")\n",
    "    print(ref_av_time)\n",
    "    outliers = 0\n",
    "    use_ref = 0\n",
    "    print(\"Outliers:\")\n",
    "    for index, row in df.iterrows():\n",
    "        for task_id in range(1,8):\n",
    "                if ((row['task'] == task_id) and ((row['sec'] < (1 - alpha) * my_med_time[task_id]) or (row['sec'] > (2) * my_med_time[task_id]))):\n",
    "                    outliers += 1\n",
    "                    #print(row['task_name'],row['sec'])\n",
    "                    df = df.drop(index=index)\n",
    "    \n",
    "    mean_and_variance(df)\n",
    "    print(f\"Outliers removed: {outliers}\")\n",
    "    return df\n",
    "\n",
    "def mean_and_variance(df):\n",
    "\n",
    "    av_time = np.zeros(8)\n",
    "    var_time = np.zeros(8)\n",
    "    med_time = np.zeros(8)\n",
    "    count_task = np.zeros(8)\n",
    "    for task_id in range(0,8):\n",
    "        count_task[task_id] = df.loc[df['task'] == task_id].shape[0]\n",
    "        task_data = df[df['task'] == task_id]['sec']\n",
    "        sum_task = task_data.sum()\n",
    "        av_time[task_id] = task_data.mean()\n",
    "        med_time[task_id] = task_data.median()\n",
    "        var_time[task_id] = task_data.var()\n",
    "        \n",
    "        if not math.isnan(av_time[task_id]):\n",
    "            print(f\"Task: {task_id}\")\n",
    "            print(f\"Average: {round(av_time[task_id],2)}\")\n",
    "            print(f\"Median: {round(med_time[task_id],2)}\")\n",
    "        #if not math.isnan(var_time[task_id]):\n",
    "            print(f\"Variance: {round(var_time[task_id],2)}\")        \n",
    "            std_dev = np.sqrt(var_time[task_id])\n",
    "            print(f\"Standard deviation: {round(std_dev,2)}\")\n",
    "            print(f\"Count: {count_task[task_id]}\")\n",
    "            print(f\"total secs: {sum_task}\")\n",
    "            #print(f\"mean i guess:  {sum_task/count_task[task_id]}\")\n",
    "            count_per_hour = 3600*count_task[task_id]/sum_task\n",
    "            print(f\"Count per hour: {round(count_per_hour)}\")\n",
    "            print()\n",
    "    return \n",
    "\n",
    "if not df.empty:\n",
    "    df1 = remove_outliers(df, alpha = 0.5)\n",
    "#display(df1)"
   ]
  },
  {
   "cell_type": "code",
   "execution_count": 4,
   "metadata": {},
   "outputs": [
    {
     "name": "stdout",
     "output_type": "stream",
     "text": [
      "Time person was near: 0 days 04:41:10\n"
     ]
    }
   ],
   "source": [
    "#taskdistance_01_08.csv\n",
    "distance_near = 800\n",
    "distance_delta = 50\n",
    "\n",
    "\n",
    "def process_file_distance(date):\n",
    "    file_path = os.path.join('data_distance/',f'taskdistance_{date}.csv')\n",
    "    if os.path.exists(file_path):\n",
    "\n",
    "        df = pd.read_csv(file_path, parse_dates=['ts'])\n",
    "        #print(df.shape[1] == 3)\n",
    "        #print(not('state' in df.columns))\n",
    "        # Remove first empty column if it exists\n",
    "        if ((df.shape[1] == 3) & (not ('state' in df.columns) | (not ('state1' in df.columns)))):\n",
    "            df = df.drop(df.columns[0], axis=1)\n",
    "\n",
    "            \n",
    "        # Write the updated DataFrame back to the CSV file\n",
    "        df.to_csv(file_path, index = False)\n",
    "        # Condition 1: If distance is less than 800, set state to 1 (near)\n",
    "        df['state'] = (df['distance'] < distance_near).astype(int)\n",
    "\n",
    "        # Condition 2: If delta of distance is less than 5cm, set state to 0 (away)\n",
    "        condition = abs(df['distance'].diff()) < distance_delta\n",
    "        df.loc[condition, 'state'] = 0\n",
    "\n",
    "        # Condition 3: If state is near away near or away near away, change the state of the middle to match the others\n",
    "        near_away_near = (df['state'] == 1) & (df['state'].shift() == 0) & (df['state'].shift(-1) == 0)\n",
    "        away_near_away = (df['state'] == 0) & (df['state'].shift() == 1) & (df['state'].shift(-1) == 1)\n",
    "        condition2 = near_away_near | away_near_away\n",
    "        df.loc[condition2, 'state'] = df['state'].shift(-1)\n",
    "        df.loc[condition2, 'state'] = df['state'].shift(-1)\n",
    "        \n",
    "        # Write the updated DataFrame back to the CSV file\n",
    "        df.to_csv(file_path, index = False)\n",
    "\n",
    "        # Reset the index of the DataFrame\n",
    "        df = df.reset_index(drop = True)\n",
    "\n",
    "    else:\n",
    "        return pd.DataFrame\n",
    "    return df\n",
    "    \n",
    "def fun_time_near(df):\n",
    "    \n",
    "    time_near = time_near = pd.Timedelta(seconds=0)\n",
    "    near_rows = df[(df['state'] == 1) & (df['state'].shift(-1) == 1)]\n",
    "    \n",
    "    if 'time_diff' not in df.columns:\n",
    "        df['time_diff'] = None  # or initialize with appropriate values\n",
    "\n",
    "    df.loc[near_rows.index, 'time_diff'] = near_rows['ts'].diff()\n",
    "\n",
    "    for i in range(len(near_rows) - 1):\n",
    "        current_index = near_rows.index[i]\n",
    "        next_index = near_rows.index[i + 1]\n",
    "\n",
    "        if next_index == current_index + 1:\n",
    "            time_near += df.loc[next_index, 'time_diff']\n",
    "            \n",
    "        else:\n",
    "            continue\n",
    "\n",
    "            \n",
    "    return df, time_near\n",
    "    \n",
    "def update_df_distance(df,df_dist):\n",
    "    # Iterate through the rows of the second DataFrame and update the 'state' in the first DataFrame\n",
    "    for index, row in df.iterrows():\n",
    "        # Check conditions\n",
    "        if row['task'] != 0 and not pd.isna(row['sec']):\n",
    "            # Find the next timestamp with the same value in df1\n",
    "            time_range = pd.Timedelta(seconds=30)\n",
    "            next_ts = df_dist.loc[(df_dist['ts'] > row['ts']) & (df_dist['ts'] <= row['ts'] + time_range), 'ts'].min()\n",
    "\n",
    "            #print(next_ts)\n",
    "            # Update 'state' in df1\n",
    "            if next_ts is not pd.NaT:\n",
    "                df_dist.loc[df_dist['ts'] == next_ts, 'state'] = 1\n",
    "    return df_dist\n",
    "\n",
    "df_dist = process_file_distance(date)\n",
    "if not df1.empty:\n",
    "    df_distance = update_df_distance(df1,df_dist)\n",
    "    df_distance.to_csv(f'data_distance/taskdistance_{date}.csv', index = False)\n",
    "\n",
    "df_distance_, total_time_near = fun_time_near(df_distance)\n",
    "print(f\"Time person was near: {total_time_near}\")\n",
    "#25 min\n",
    "#14"
   ]
  },
  {
   "cell_type": "code",
   "execution_count": 5,
   "metadata": {},
   "outputs": [
    {
     "name": "stdout",
     "output_type": "stream",
     "text": [
      "Extra activity 1 10838\n",
      "0 days 03:00:38\n"
     ]
    },
    {
     "data": {
      "application/vnd.plotly.v1+json": {
       "config": {
        "plotlyServerURL": "https://plot.ly"
       },
       "data": [
        {
         "customdata": [
          [
           "Extra activity 1"
          ]
         ],
         "domain": {
          "x": [
           0,
           1
          ],
          "y": [
           0,
           1
          ]
         },
         "hovertemplate": "task_name=%{customdata[0]}<br>sec=%{value}<extra></extra>",
         "labels": [
          "Extra activity 1"
         ],
         "legendgroup": "",
         "marker": {
          "colors": [
           "darkorange"
          ]
         },
         "name": "",
         "showlegend": true,
         "type": "pie",
         "values": [
          10838
         ]
        }
       ],
       "layout": {
        "legend": {
         "tracegroupgap": 0
        },
        "margin": {
         "t": 60
        },
        "template": {
         "data": {
          "bar": [
           {
            "error_x": {
             "color": "#2a3f5f"
            },
            "error_y": {
             "color": "#2a3f5f"
            },
            "marker": {
             "line": {
              "color": "#E5ECF6",
              "width": 0.5
             },
             "pattern": {
              "fillmode": "overlay",
              "size": 10,
              "solidity": 0.2
             }
            },
            "type": "bar"
           }
          ],
          "barpolar": [
           {
            "marker": {
             "line": {
              "color": "#E5ECF6",
              "width": 0.5
             },
             "pattern": {
              "fillmode": "overlay",
              "size": 10,
              "solidity": 0.2
             }
            },
            "type": "barpolar"
           }
          ],
          "carpet": [
           {
            "aaxis": {
             "endlinecolor": "#2a3f5f",
             "gridcolor": "white",
             "linecolor": "white",
             "minorgridcolor": "white",
             "startlinecolor": "#2a3f5f"
            },
            "baxis": {
             "endlinecolor": "#2a3f5f",
             "gridcolor": "white",
             "linecolor": "white",
             "minorgridcolor": "white",
             "startlinecolor": "#2a3f5f"
            },
            "type": "carpet"
           }
          ],
          "choropleth": [
           {
            "colorbar": {
             "outlinewidth": 0,
             "ticks": ""
            },
            "type": "choropleth"
           }
          ],
          "contour": [
           {
            "colorbar": {
             "outlinewidth": 0,
             "ticks": ""
            },
            "colorscale": [
             [
              0,
              "#0d0887"
             ],
             [
              0.1111111111111111,
              "#46039f"
             ],
             [
              0.2222222222222222,
              "#7201a8"
             ],
             [
              0.3333333333333333,
              "#9c179e"
             ],
             [
              0.4444444444444444,
              "#bd3786"
             ],
             [
              0.5555555555555556,
              "#d8576b"
             ],
             [
              0.6666666666666666,
              "#ed7953"
             ],
             [
              0.7777777777777778,
              "#fb9f3a"
             ],
             [
              0.8888888888888888,
              "#fdca26"
             ],
             [
              1,
              "#f0f921"
             ]
            ],
            "type": "contour"
           }
          ],
          "contourcarpet": [
           {
            "colorbar": {
             "outlinewidth": 0,
             "ticks": ""
            },
            "type": "contourcarpet"
           }
          ],
          "heatmap": [
           {
            "colorbar": {
             "outlinewidth": 0,
             "ticks": ""
            },
            "colorscale": [
             [
              0,
              "#0d0887"
             ],
             [
              0.1111111111111111,
              "#46039f"
             ],
             [
              0.2222222222222222,
              "#7201a8"
             ],
             [
              0.3333333333333333,
              "#9c179e"
             ],
             [
              0.4444444444444444,
              "#bd3786"
             ],
             [
              0.5555555555555556,
              "#d8576b"
             ],
             [
              0.6666666666666666,
              "#ed7953"
             ],
             [
              0.7777777777777778,
              "#fb9f3a"
             ],
             [
              0.8888888888888888,
              "#fdca26"
             ],
             [
              1,
              "#f0f921"
             ]
            ],
            "type": "heatmap"
           }
          ],
          "heatmapgl": [
           {
            "colorbar": {
             "outlinewidth": 0,
             "ticks": ""
            },
            "colorscale": [
             [
              0,
              "#0d0887"
             ],
             [
              0.1111111111111111,
              "#46039f"
             ],
             [
              0.2222222222222222,
              "#7201a8"
             ],
             [
              0.3333333333333333,
              "#9c179e"
             ],
             [
              0.4444444444444444,
              "#bd3786"
             ],
             [
              0.5555555555555556,
              "#d8576b"
             ],
             [
              0.6666666666666666,
              "#ed7953"
             ],
             [
              0.7777777777777778,
              "#fb9f3a"
             ],
             [
              0.8888888888888888,
              "#fdca26"
             ],
             [
              1,
              "#f0f921"
             ]
            ],
            "type": "heatmapgl"
           }
          ],
          "histogram": [
           {
            "marker": {
             "pattern": {
              "fillmode": "overlay",
              "size": 10,
              "solidity": 0.2
             }
            },
            "type": "histogram"
           }
          ],
          "histogram2d": [
           {
            "colorbar": {
             "outlinewidth": 0,
             "ticks": ""
            },
            "colorscale": [
             [
              0,
              "#0d0887"
             ],
             [
              0.1111111111111111,
              "#46039f"
             ],
             [
              0.2222222222222222,
              "#7201a8"
             ],
             [
              0.3333333333333333,
              "#9c179e"
             ],
             [
              0.4444444444444444,
              "#bd3786"
             ],
             [
              0.5555555555555556,
              "#d8576b"
             ],
             [
              0.6666666666666666,
              "#ed7953"
             ],
             [
              0.7777777777777778,
              "#fb9f3a"
             ],
             [
              0.8888888888888888,
              "#fdca26"
             ],
             [
              1,
              "#f0f921"
             ]
            ],
            "type": "histogram2d"
           }
          ],
          "histogram2dcontour": [
           {
            "colorbar": {
             "outlinewidth": 0,
             "ticks": ""
            },
            "colorscale": [
             [
              0,
              "#0d0887"
             ],
             [
              0.1111111111111111,
              "#46039f"
             ],
             [
              0.2222222222222222,
              "#7201a8"
             ],
             [
              0.3333333333333333,
              "#9c179e"
             ],
             [
              0.4444444444444444,
              "#bd3786"
             ],
             [
              0.5555555555555556,
              "#d8576b"
             ],
             [
              0.6666666666666666,
              "#ed7953"
             ],
             [
              0.7777777777777778,
              "#fb9f3a"
             ],
             [
              0.8888888888888888,
              "#fdca26"
             ],
             [
              1,
              "#f0f921"
             ]
            ],
            "type": "histogram2dcontour"
           }
          ],
          "mesh3d": [
           {
            "colorbar": {
             "outlinewidth": 0,
             "ticks": ""
            },
            "type": "mesh3d"
           }
          ],
          "parcoords": [
           {
            "line": {
             "colorbar": {
              "outlinewidth": 0,
              "ticks": ""
             }
            },
            "type": "parcoords"
           }
          ],
          "pie": [
           {
            "automargin": true,
            "type": "pie"
           }
          ],
          "scatter": [
           {
            "fillpattern": {
             "fillmode": "overlay",
             "size": 10,
             "solidity": 0.2
            },
            "type": "scatter"
           }
          ],
          "scatter3d": [
           {
            "line": {
             "colorbar": {
              "outlinewidth": 0,
              "ticks": ""
             }
            },
            "marker": {
             "colorbar": {
              "outlinewidth": 0,
              "ticks": ""
             }
            },
            "type": "scatter3d"
           }
          ],
          "scattercarpet": [
           {
            "marker": {
             "colorbar": {
              "outlinewidth": 0,
              "ticks": ""
             }
            },
            "type": "scattercarpet"
           }
          ],
          "scattergeo": [
           {
            "marker": {
             "colorbar": {
              "outlinewidth": 0,
              "ticks": ""
             }
            },
            "type": "scattergeo"
           }
          ],
          "scattergl": [
           {
            "marker": {
             "colorbar": {
              "outlinewidth": 0,
              "ticks": ""
             }
            },
            "type": "scattergl"
           }
          ],
          "scattermapbox": [
           {
            "marker": {
             "colorbar": {
              "outlinewidth": 0,
              "ticks": ""
             }
            },
            "type": "scattermapbox"
           }
          ],
          "scatterpolar": [
           {
            "marker": {
             "colorbar": {
              "outlinewidth": 0,
              "ticks": ""
             }
            },
            "type": "scatterpolar"
           }
          ],
          "scatterpolargl": [
           {
            "marker": {
             "colorbar": {
              "outlinewidth": 0,
              "ticks": ""
             }
            },
            "type": "scatterpolargl"
           }
          ],
          "scatterternary": [
           {
            "marker": {
             "colorbar": {
              "outlinewidth": 0,
              "ticks": ""
             }
            },
            "type": "scatterternary"
           }
          ],
          "surface": [
           {
            "colorbar": {
             "outlinewidth": 0,
             "ticks": ""
            },
            "colorscale": [
             [
              0,
              "#0d0887"
             ],
             [
              0.1111111111111111,
              "#46039f"
             ],
             [
              0.2222222222222222,
              "#7201a8"
             ],
             [
              0.3333333333333333,
              "#9c179e"
             ],
             [
              0.4444444444444444,
              "#bd3786"
             ],
             [
              0.5555555555555556,
              "#d8576b"
             ],
             [
              0.6666666666666666,
              "#ed7953"
             ],
             [
              0.7777777777777778,
              "#fb9f3a"
             ],
             [
              0.8888888888888888,
              "#fdca26"
             ],
             [
              1,
              "#f0f921"
             ]
            ],
            "type": "surface"
           }
          ],
          "table": [
           {
            "cells": {
             "fill": {
              "color": "#EBF0F8"
             },
             "line": {
              "color": "white"
             }
            },
            "header": {
             "fill": {
              "color": "#C8D4E3"
             },
             "line": {
              "color": "white"
             }
            },
            "type": "table"
           }
          ]
         },
         "layout": {
          "annotationdefaults": {
           "arrowcolor": "#2a3f5f",
           "arrowhead": 0,
           "arrowwidth": 1
          },
          "autotypenumbers": "strict",
          "coloraxis": {
           "colorbar": {
            "outlinewidth": 0,
            "ticks": ""
           }
          },
          "colorscale": {
           "diverging": [
            [
             0,
             "#8e0152"
            ],
            [
             0.1,
             "#c51b7d"
            ],
            [
             0.2,
             "#de77ae"
            ],
            [
             0.3,
             "#f1b6da"
            ],
            [
             0.4,
             "#fde0ef"
            ],
            [
             0.5,
             "#f7f7f7"
            ],
            [
             0.6,
             "#e6f5d0"
            ],
            [
             0.7,
             "#b8e186"
            ],
            [
             0.8,
             "#7fbc41"
            ],
            [
             0.9,
             "#4d9221"
            ],
            [
             1,
             "#276419"
            ]
           ],
           "sequential": [
            [
             0,
             "#0d0887"
            ],
            [
             0.1111111111111111,
             "#46039f"
            ],
            [
             0.2222222222222222,
             "#7201a8"
            ],
            [
             0.3333333333333333,
             "#9c179e"
            ],
            [
             0.4444444444444444,
             "#bd3786"
            ],
            [
             0.5555555555555556,
             "#d8576b"
            ],
            [
             0.6666666666666666,
             "#ed7953"
            ],
            [
             0.7777777777777778,
             "#fb9f3a"
            ],
            [
             0.8888888888888888,
             "#fdca26"
            ],
            [
             1,
             "#f0f921"
            ]
           ],
           "sequentialminus": [
            [
             0,
             "#0d0887"
            ],
            [
             0.1111111111111111,
             "#46039f"
            ],
            [
             0.2222222222222222,
             "#7201a8"
            ],
            [
             0.3333333333333333,
             "#9c179e"
            ],
            [
             0.4444444444444444,
             "#bd3786"
            ],
            [
             0.5555555555555556,
             "#d8576b"
            ],
            [
             0.6666666666666666,
             "#ed7953"
            ],
            [
             0.7777777777777778,
             "#fb9f3a"
            ],
            [
             0.8888888888888888,
             "#fdca26"
            ],
            [
             1,
             "#f0f921"
            ]
           ]
          },
          "colorway": [
           "#636efa",
           "#EF553B",
           "#00cc96",
           "#ab63fa",
           "#FFA15A",
           "#19d3f3",
           "#FF6692",
           "#B6E880",
           "#FF97FF",
           "#FECB52"
          ],
          "font": {
           "color": "#2a3f5f"
          },
          "geo": {
           "bgcolor": "white",
           "lakecolor": "white",
           "landcolor": "#E5ECF6",
           "showlakes": true,
           "showland": true,
           "subunitcolor": "white"
          },
          "hoverlabel": {
           "align": "left"
          },
          "hovermode": "closest",
          "mapbox": {
           "style": "light"
          },
          "paper_bgcolor": "white",
          "plot_bgcolor": "#E5ECF6",
          "polar": {
           "angularaxis": {
            "gridcolor": "white",
            "linecolor": "white",
            "ticks": ""
           },
           "bgcolor": "#E5ECF6",
           "radialaxis": {
            "gridcolor": "white",
            "linecolor": "white",
            "ticks": ""
           }
          },
          "scene": {
           "xaxis": {
            "backgroundcolor": "#E5ECF6",
            "gridcolor": "white",
            "gridwidth": 2,
            "linecolor": "white",
            "showbackground": true,
            "ticks": "",
            "zerolinecolor": "white"
           },
           "yaxis": {
            "backgroundcolor": "#E5ECF6",
            "gridcolor": "white",
            "gridwidth": 2,
            "linecolor": "white",
            "showbackground": true,
            "ticks": "",
            "zerolinecolor": "white"
           },
           "zaxis": {
            "backgroundcolor": "#E5ECF6",
            "gridcolor": "white",
            "gridwidth": 2,
            "linecolor": "white",
            "showbackground": true,
            "ticks": "",
            "zerolinecolor": "white"
           }
          },
          "shapedefaults": {
           "line": {
            "color": "#2a3f5f"
           }
          },
          "ternary": {
           "aaxis": {
            "gridcolor": "white",
            "linecolor": "white",
            "ticks": ""
           },
           "baxis": {
            "gridcolor": "white",
            "linecolor": "white",
            "ticks": ""
           },
           "bgcolor": "#E5ECF6",
           "caxis": {
            "gridcolor": "white",
            "linecolor": "white",
            "ticks": ""
           }
          },
          "title": {
           "x": 0.05
          },
          "xaxis": {
           "automargin": true,
           "gridcolor": "white",
           "linecolor": "white",
           "ticks": "",
           "title": {
            "standoff": 15
           },
           "zerolinecolor": "white",
           "zerolinewidth": 2
          },
          "yaxis": {
           "automargin": true,
           "gridcolor": "white",
           "linecolor": "white",
           "ticks": "",
           "title": {
            "standoff": 15
           },
           "zerolinecolor": "white",
           "zerolinewidth": 2
          }
         }
        },
        "width": 600
       }
      }
     },
     "metadata": {},
     "output_type": "display_data"
    },
    {
     "name": "stdout",
     "output_type": "stream",
     "text": [
      "Fernando 10838\n",
      "0 days 03:00:38\n"
     ]
    },
    {
     "data": {
      "application/vnd.plotly.v1+json": {
       "config": {
        "plotlyServerURL": "https://plot.ly"
       },
       "data": [
        {
         "customdata": [
          [
           "Fernando"
          ]
         ],
         "domain": {
          "x": [
           0,
           1
          ],
          "y": [
           0,
           1
          ]
         },
         "hovertemplate": "emp_name=%{customdata[0]}<br>sec=%{value}<extra></extra>",
         "labels": [
          "Fernando"
         ],
         "legendgroup": "",
         "marker": {
          "colors": [
           "cornflowerblue"
          ]
         },
         "name": "",
         "showlegend": true,
         "type": "pie",
         "values": [
          10838
         ]
        }
       ],
       "layout": {
        "legend": {
         "tracegroupgap": 0
        },
        "margin": {
         "t": 60
        },
        "template": {
         "data": {
          "bar": [
           {
            "error_x": {
             "color": "#2a3f5f"
            },
            "error_y": {
             "color": "#2a3f5f"
            },
            "marker": {
             "line": {
              "color": "#E5ECF6",
              "width": 0.5
             },
             "pattern": {
              "fillmode": "overlay",
              "size": 10,
              "solidity": 0.2
             }
            },
            "type": "bar"
           }
          ],
          "barpolar": [
           {
            "marker": {
             "line": {
              "color": "#E5ECF6",
              "width": 0.5
             },
             "pattern": {
              "fillmode": "overlay",
              "size": 10,
              "solidity": 0.2
             }
            },
            "type": "barpolar"
           }
          ],
          "carpet": [
           {
            "aaxis": {
             "endlinecolor": "#2a3f5f",
             "gridcolor": "white",
             "linecolor": "white",
             "minorgridcolor": "white",
             "startlinecolor": "#2a3f5f"
            },
            "baxis": {
             "endlinecolor": "#2a3f5f",
             "gridcolor": "white",
             "linecolor": "white",
             "minorgridcolor": "white",
             "startlinecolor": "#2a3f5f"
            },
            "type": "carpet"
           }
          ],
          "choropleth": [
           {
            "colorbar": {
             "outlinewidth": 0,
             "ticks": ""
            },
            "type": "choropleth"
           }
          ],
          "contour": [
           {
            "colorbar": {
             "outlinewidth": 0,
             "ticks": ""
            },
            "colorscale": [
             [
              0,
              "#0d0887"
             ],
             [
              0.1111111111111111,
              "#46039f"
             ],
             [
              0.2222222222222222,
              "#7201a8"
             ],
             [
              0.3333333333333333,
              "#9c179e"
             ],
             [
              0.4444444444444444,
              "#bd3786"
             ],
             [
              0.5555555555555556,
              "#d8576b"
             ],
             [
              0.6666666666666666,
              "#ed7953"
             ],
             [
              0.7777777777777778,
              "#fb9f3a"
             ],
             [
              0.8888888888888888,
              "#fdca26"
             ],
             [
              1,
              "#f0f921"
             ]
            ],
            "type": "contour"
           }
          ],
          "contourcarpet": [
           {
            "colorbar": {
             "outlinewidth": 0,
             "ticks": ""
            },
            "type": "contourcarpet"
           }
          ],
          "heatmap": [
           {
            "colorbar": {
             "outlinewidth": 0,
             "ticks": ""
            },
            "colorscale": [
             [
              0,
              "#0d0887"
             ],
             [
              0.1111111111111111,
              "#46039f"
             ],
             [
              0.2222222222222222,
              "#7201a8"
             ],
             [
              0.3333333333333333,
              "#9c179e"
             ],
             [
              0.4444444444444444,
              "#bd3786"
             ],
             [
              0.5555555555555556,
              "#d8576b"
             ],
             [
              0.6666666666666666,
              "#ed7953"
             ],
             [
              0.7777777777777778,
              "#fb9f3a"
             ],
             [
              0.8888888888888888,
              "#fdca26"
             ],
             [
              1,
              "#f0f921"
             ]
            ],
            "type": "heatmap"
           }
          ],
          "heatmapgl": [
           {
            "colorbar": {
             "outlinewidth": 0,
             "ticks": ""
            },
            "colorscale": [
             [
              0,
              "#0d0887"
             ],
             [
              0.1111111111111111,
              "#46039f"
             ],
             [
              0.2222222222222222,
              "#7201a8"
             ],
             [
              0.3333333333333333,
              "#9c179e"
             ],
             [
              0.4444444444444444,
              "#bd3786"
             ],
             [
              0.5555555555555556,
              "#d8576b"
             ],
             [
              0.6666666666666666,
              "#ed7953"
             ],
             [
              0.7777777777777778,
              "#fb9f3a"
             ],
             [
              0.8888888888888888,
              "#fdca26"
             ],
             [
              1,
              "#f0f921"
             ]
            ],
            "type": "heatmapgl"
           }
          ],
          "histogram": [
           {
            "marker": {
             "pattern": {
              "fillmode": "overlay",
              "size": 10,
              "solidity": 0.2
             }
            },
            "type": "histogram"
           }
          ],
          "histogram2d": [
           {
            "colorbar": {
             "outlinewidth": 0,
             "ticks": ""
            },
            "colorscale": [
             [
              0,
              "#0d0887"
             ],
             [
              0.1111111111111111,
              "#46039f"
             ],
             [
              0.2222222222222222,
              "#7201a8"
             ],
             [
              0.3333333333333333,
              "#9c179e"
             ],
             [
              0.4444444444444444,
              "#bd3786"
             ],
             [
              0.5555555555555556,
              "#d8576b"
             ],
             [
              0.6666666666666666,
              "#ed7953"
             ],
             [
              0.7777777777777778,
              "#fb9f3a"
             ],
             [
              0.8888888888888888,
              "#fdca26"
             ],
             [
              1,
              "#f0f921"
             ]
            ],
            "type": "histogram2d"
           }
          ],
          "histogram2dcontour": [
           {
            "colorbar": {
             "outlinewidth": 0,
             "ticks": ""
            },
            "colorscale": [
             [
              0,
              "#0d0887"
             ],
             [
              0.1111111111111111,
              "#46039f"
             ],
             [
              0.2222222222222222,
              "#7201a8"
             ],
             [
              0.3333333333333333,
              "#9c179e"
             ],
             [
              0.4444444444444444,
              "#bd3786"
             ],
             [
              0.5555555555555556,
              "#d8576b"
             ],
             [
              0.6666666666666666,
              "#ed7953"
             ],
             [
              0.7777777777777778,
              "#fb9f3a"
             ],
             [
              0.8888888888888888,
              "#fdca26"
             ],
             [
              1,
              "#f0f921"
             ]
            ],
            "type": "histogram2dcontour"
           }
          ],
          "mesh3d": [
           {
            "colorbar": {
             "outlinewidth": 0,
             "ticks": ""
            },
            "type": "mesh3d"
           }
          ],
          "parcoords": [
           {
            "line": {
             "colorbar": {
              "outlinewidth": 0,
              "ticks": ""
             }
            },
            "type": "parcoords"
           }
          ],
          "pie": [
           {
            "automargin": true,
            "type": "pie"
           }
          ],
          "scatter": [
           {
            "fillpattern": {
             "fillmode": "overlay",
             "size": 10,
             "solidity": 0.2
            },
            "type": "scatter"
           }
          ],
          "scatter3d": [
           {
            "line": {
             "colorbar": {
              "outlinewidth": 0,
              "ticks": ""
             }
            },
            "marker": {
             "colorbar": {
              "outlinewidth": 0,
              "ticks": ""
             }
            },
            "type": "scatter3d"
           }
          ],
          "scattercarpet": [
           {
            "marker": {
             "colorbar": {
              "outlinewidth": 0,
              "ticks": ""
             }
            },
            "type": "scattercarpet"
           }
          ],
          "scattergeo": [
           {
            "marker": {
             "colorbar": {
              "outlinewidth": 0,
              "ticks": ""
             }
            },
            "type": "scattergeo"
           }
          ],
          "scattergl": [
           {
            "marker": {
             "colorbar": {
              "outlinewidth": 0,
              "ticks": ""
             }
            },
            "type": "scattergl"
           }
          ],
          "scattermapbox": [
           {
            "marker": {
             "colorbar": {
              "outlinewidth": 0,
              "ticks": ""
             }
            },
            "type": "scattermapbox"
           }
          ],
          "scatterpolar": [
           {
            "marker": {
             "colorbar": {
              "outlinewidth": 0,
              "ticks": ""
             }
            },
            "type": "scatterpolar"
           }
          ],
          "scatterpolargl": [
           {
            "marker": {
             "colorbar": {
              "outlinewidth": 0,
              "ticks": ""
             }
            },
            "type": "scatterpolargl"
           }
          ],
          "scatterternary": [
           {
            "marker": {
             "colorbar": {
              "outlinewidth": 0,
              "ticks": ""
             }
            },
            "type": "scatterternary"
           }
          ],
          "surface": [
           {
            "colorbar": {
             "outlinewidth": 0,
             "ticks": ""
            },
            "colorscale": [
             [
              0,
              "#0d0887"
             ],
             [
              0.1111111111111111,
              "#46039f"
             ],
             [
              0.2222222222222222,
              "#7201a8"
             ],
             [
              0.3333333333333333,
              "#9c179e"
             ],
             [
              0.4444444444444444,
              "#bd3786"
             ],
             [
              0.5555555555555556,
              "#d8576b"
             ],
             [
              0.6666666666666666,
              "#ed7953"
             ],
             [
              0.7777777777777778,
              "#fb9f3a"
             ],
             [
              0.8888888888888888,
              "#fdca26"
             ],
             [
              1,
              "#f0f921"
             ]
            ],
            "type": "surface"
           }
          ],
          "table": [
           {
            "cells": {
             "fill": {
              "color": "#EBF0F8"
             },
             "line": {
              "color": "white"
             }
            },
            "header": {
             "fill": {
              "color": "#C8D4E3"
             },
             "line": {
              "color": "white"
             }
            },
            "type": "table"
           }
          ]
         },
         "layout": {
          "annotationdefaults": {
           "arrowcolor": "#2a3f5f",
           "arrowhead": 0,
           "arrowwidth": 1
          },
          "autotypenumbers": "strict",
          "coloraxis": {
           "colorbar": {
            "outlinewidth": 0,
            "ticks": ""
           }
          },
          "colorscale": {
           "diverging": [
            [
             0,
             "#8e0152"
            ],
            [
             0.1,
             "#c51b7d"
            ],
            [
             0.2,
             "#de77ae"
            ],
            [
             0.3,
             "#f1b6da"
            ],
            [
             0.4,
             "#fde0ef"
            ],
            [
             0.5,
             "#f7f7f7"
            ],
            [
             0.6,
             "#e6f5d0"
            ],
            [
             0.7,
             "#b8e186"
            ],
            [
             0.8,
             "#7fbc41"
            ],
            [
             0.9,
             "#4d9221"
            ],
            [
             1,
             "#276419"
            ]
           ],
           "sequential": [
            [
             0,
             "#0d0887"
            ],
            [
             0.1111111111111111,
             "#46039f"
            ],
            [
             0.2222222222222222,
             "#7201a8"
            ],
            [
             0.3333333333333333,
             "#9c179e"
            ],
            [
             0.4444444444444444,
             "#bd3786"
            ],
            [
             0.5555555555555556,
             "#d8576b"
            ],
            [
             0.6666666666666666,
             "#ed7953"
            ],
            [
             0.7777777777777778,
             "#fb9f3a"
            ],
            [
             0.8888888888888888,
             "#fdca26"
            ],
            [
             1,
             "#f0f921"
            ]
           ],
           "sequentialminus": [
            [
             0,
             "#0d0887"
            ],
            [
             0.1111111111111111,
             "#46039f"
            ],
            [
             0.2222222222222222,
             "#7201a8"
            ],
            [
             0.3333333333333333,
             "#9c179e"
            ],
            [
             0.4444444444444444,
             "#bd3786"
            ],
            [
             0.5555555555555556,
             "#d8576b"
            ],
            [
             0.6666666666666666,
             "#ed7953"
            ],
            [
             0.7777777777777778,
             "#fb9f3a"
            ],
            [
             0.8888888888888888,
             "#fdca26"
            ],
            [
             1,
             "#f0f921"
            ]
           ]
          },
          "colorway": [
           "#636efa",
           "#EF553B",
           "#00cc96",
           "#ab63fa",
           "#FFA15A",
           "#19d3f3",
           "#FF6692",
           "#B6E880",
           "#FF97FF",
           "#FECB52"
          ],
          "font": {
           "color": "#2a3f5f"
          },
          "geo": {
           "bgcolor": "white",
           "lakecolor": "white",
           "landcolor": "#E5ECF6",
           "showlakes": true,
           "showland": true,
           "subunitcolor": "white"
          },
          "hoverlabel": {
           "align": "left"
          },
          "hovermode": "closest",
          "mapbox": {
           "style": "light"
          },
          "paper_bgcolor": "white",
          "plot_bgcolor": "#E5ECF6",
          "polar": {
           "angularaxis": {
            "gridcolor": "white",
            "linecolor": "white",
            "ticks": ""
           },
           "bgcolor": "#E5ECF6",
           "radialaxis": {
            "gridcolor": "white",
            "linecolor": "white",
            "ticks": ""
           }
          },
          "scene": {
           "xaxis": {
            "backgroundcolor": "#E5ECF6",
            "gridcolor": "white",
            "gridwidth": 2,
            "linecolor": "white",
            "showbackground": true,
            "ticks": "",
            "zerolinecolor": "white"
           },
           "yaxis": {
            "backgroundcolor": "#E5ECF6",
            "gridcolor": "white",
            "gridwidth": 2,
            "linecolor": "white",
            "showbackground": true,
            "ticks": "",
            "zerolinecolor": "white"
           },
           "zaxis": {
            "backgroundcolor": "#E5ECF6",
            "gridcolor": "white",
            "gridwidth": 2,
            "linecolor": "white",
            "showbackground": true,
            "ticks": "",
            "zerolinecolor": "white"
           }
          },
          "shapedefaults": {
           "line": {
            "color": "#2a3f5f"
           }
          },
          "ternary": {
           "aaxis": {
            "gridcolor": "white",
            "linecolor": "white",
            "ticks": ""
           },
           "baxis": {
            "gridcolor": "white",
            "linecolor": "white",
            "ticks": ""
           },
           "bgcolor": "#E5ECF6",
           "caxis": {
            "gridcolor": "white",
            "linecolor": "white",
            "ticks": ""
           }
          },
          "title": {
           "x": 0.05
          },
          "xaxis": {
           "automargin": true,
           "gridcolor": "white",
           "linecolor": "white",
           "ticks": "",
           "title": {
            "standoff": 15
           },
           "zerolinecolor": "white",
           "zerolinewidth": 2
          },
          "yaxis": {
           "automargin": true,
           "gridcolor": "white",
           "linecolor": "white",
           "ticks": "",
           "title": {
            "standoff": 15
           },
           "zerolinecolor": "white",
           "zerolinewidth": 2
          }
         }
        },
        "width": 550
       }
      }
     },
     "metadata": {},
     "output_type": "display_data"
    }
   ],
   "source": [
    "include_break_pie = 0\n",
    "\n",
    "def plot_pie(df):\n",
    "\n",
    "    color_discrete_task = { 'Break': 'navy', 'TEKOX Red Black Cables': 'tomato', 'TEKOX Blue Brown Cables': 'cornflowerblue', 'MFALG Assembly': 'gold',\n",
    "                      'Screws in Boards': 'darkgray', 'Extra activity 1': 'darkorange', 'Extra Activity 2': 'violet', 'Unkown Activity': 'limegreen'}\n",
    "    \n",
    "    color_discrete_emp = {'Fernando': 'cornflowerblue', 'Luis': 'yellowgreen'}\n",
    "\n",
    "    column_order = ['ts', 'empid','emp_name','task','task_name','sec']\n",
    "    df = df[column_order]\n",
    "    # Exclude task '0' from the DataFrame\n",
    "    if not include_break_pie:\n",
    "        df1 = df[df['task'] != 0]\n",
    "    else:\n",
    "        df1 = df\n",
    "    #display(df1)\n",
    "    #TASK\n",
    "    # Sum the 'sec' values based on the 'task' column\n",
    "    sum_by_task = df1.groupby('task_name')['sec'].sum().reset_index()\n",
    "\n",
    "    for index,row in sum_by_task.iterrows():\n",
    "        print(row['task_name'],row['sec'])\n",
    "        sum_task_dt =  pd.Timedelta(seconds = row['sec'])\n",
    "        print(sum_task_dt)\n",
    "\n",
    "    # Create a pie chart\n",
    "    fig_task = px.pie(sum_by_task, names='task_name', \n",
    "                      values='sec',\n",
    "                      color = 'task_name',\n",
    "                      color_discrete_map = color_discrete_task, \n",
    "                      width = 600)\n",
    "                      #title='Time Spent in Each Task')\n",
    "    fig_task.show()\n",
    "    fig_task.write_image('images/taskpie_' + date + '.png')\n",
    "\n",
    "\n",
    "\n",
    "    #EMPLOYEE // do not work in break\n",
    "    df2 = df1[df1['task'] != 0]\n",
    "    # Sum the 'sec' values based on the 'emp_name' column\n",
    "    sum_by_emp = df2.groupby('emp_name')['sec'].sum().reset_index()\n",
    "    #print(sum_by_emp['sec'])\n",
    "    #print(sum_by_emp)\n",
    "    for index,row in sum_by_emp.iterrows():\n",
    "        print(row['emp_name'],row['sec'])\n",
    "        sum_emp_dt =  pd.Timedelta(seconds = row['sec'])\n",
    "        print(sum_emp_dt)\n",
    "\n",
    "    # Create a pie chart\n",
    "    fig_emp = px.pie(sum_by_emp, names='emp_name', \n",
    "                     values='sec', \n",
    "                     color = 'emp_name',\n",
    "                      color_discrete_map = color_discrete_emp,\n",
    "                      width = 550)\n",
    "                      #title='Time Worked by Each Employee')\n",
    "    fig_emp.show()\n",
    "\n",
    "    #fig_emp.write_image('images/emppie_' + date + '.png')\n",
    "\n",
    "    return sum_by_task, sum_emp_dt\n",
    "sum_by_task, sum_emp_dt = plot_pie(df1)\n",
    "#for i in unique_values:\n",
    "#    total_time[i] = \n",
    "    "
   ]
  },
  {
   "cell_type": "code",
   "execution_count": 6,
   "metadata": {},
   "outputs": [
    {
     "name": "stderr",
     "output_type": "stream",
     "text": [
      "c:\\Users\\isacc\\miniconda3\\Lib\\site-packages\\_plotly_utils\\basevalidators.py:105: FutureWarning:\n",
      "\n",
      "The behavior of DatetimeProperties.to_pydatetime is deprecated, in a future version this will return a Series containing python datetime objects instead of an ndarray. To retain the old behavior, call `np.array` on the result\n",
      "\n"
     ]
    },
    {
     "data": {
      "application/vnd.plotly.v1+json": {
       "config": {
        "plotlyServerURL": "https://plot.ly"
       },
       "data": [
        {
         "alignmentgroup": "True",
         "hovertemplate": "Task names=Extra activity 1<br>Timestamp=%{x}<br>Duration (seconds)=%{y}<extra></extra>",
         "legendgroup": "Extra activity 1",
         "marker": {
          "color": "darkorange",
          "pattern": {
           "shape": ""
          }
         },
         "name": "Extra activity 1",
         "offsetgroup": "Extra activity 1",
         "orientation": "v",
         "showlegend": true,
         "textposition": "auto",
         "type": "bar",
         "width": 21000,
         "x": [
          "2023-09-07T09:00:17",
          "2023-09-07T09:00:40",
          "2023-09-07T09:01:06",
          "2023-09-07T09:01:32",
          "2023-09-07T09:02:00",
          "2023-09-07T09:02:26",
          "2023-09-07T09:02:53",
          "2023-09-07T09:03:16",
          "2023-09-07T09:03:40",
          "2023-09-07T09:04:05",
          "2023-09-07T09:04:29",
          "2023-09-07T09:04:55",
          "2023-09-07T09:05:18",
          "2023-09-07T09:05:39",
          "2023-09-07T09:06:06",
          "2023-09-07T09:06:33",
          "2023-09-07T09:06:59",
          "2023-09-07T09:07:24",
          "2023-09-07T09:07:53",
          "2023-09-07T09:08:21",
          "2023-09-07T09:08:58",
          "2023-09-07T09:09:23",
          "2023-09-07T09:14:17",
          "2023-09-07T09:15:07",
          "2023-09-07T09:15:27",
          "2023-09-07T09:15:50",
          "2023-09-07T09:16:14",
          "2023-09-07T09:16:38",
          "2023-09-07T09:17:01",
          "2023-09-07T09:17:46",
          "2023-09-07T09:18:16",
          "2023-09-07T09:18:40",
          "2023-09-07T09:19:02",
          "2023-09-07T09:19:26",
          "2023-09-07T09:19:55",
          "2023-09-07T09:20:21",
          "2023-09-07T09:20:46",
          "2023-09-07T09:21:09",
          "2023-09-07T09:21:32",
          "2023-09-07T09:21:56",
          "2023-09-07T09:23:07",
          "2023-09-07T09:23:35",
          "2023-09-07T09:23:59",
          "2023-09-07T09:24:49",
          "2023-09-07T09:26:26",
          "2023-09-07T09:26:51",
          "2023-09-07T09:27:14",
          "2023-09-07T09:27:40",
          "2023-09-07T09:30:18",
          "2023-09-07T09:30:31",
          "2023-09-07T09:30:58",
          "2023-09-07T09:31:23",
          "2023-09-07T09:33:19",
          "2023-09-07T09:33:46",
          "2023-09-07T09:34:12",
          "2023-09-07T09:34:37",
          "2023-09-07T09:35:12",
          "2023-09-07T09:35:27",
          "2023-09-07T09:35:51",
          "2023-09-07T09:36:17",
          "2023-09-07T09:36:43",
          "2023-09-07T09:37:09",
          "2023-09-07T09:37:34",
          "2023-09-07T09:39:32",
          "2023-09-07T09:39:53",
          "2023-09-07T09:40:23",
          "2023-09-07T09:40:48",
          "2023-09-07T09:41:11",
          "2023-09-07T09:41:34",
          "2023-09-07T09:42:04",
          "2023-09-07T09:42:25",
          "2023-09-07T09:42:51",
          "2023-09-07T09:43:15",
          "2023-09-07T09:43:38",
          "2023-09-07T09:44:02",
          "2023-09-07T09:44:25",
          "2023-09-07T09:45:38",
          "2023-09-07T09:46:03",
          "2023-09-07T09:49:19",
          "2023-09-07T09:49:44",
          "2023-09-07T09:50:10",
          "2023-09-07T09:50:35",
          "2023-09-07T09:51:01",
          "2023-09-07T09:51:25",
          "2023-09-07T09:52:43",
          "2023-09-07T09:53:07",
          "2023-09-07T09:54:22",
          "2023-09-07T09:54:47",
          "2023-09-07T09:55:35",
          "2023-09-07T09:55:58",
          "2023-09-07T09:56:23",
          "2023-09-07T09:56:47",
          "2023-09-07T09:57:13",
          "2023-09-07T09:57:36",
          "2023-09-07T09:58:01",
          "2023-09-07T09:58:26",
          "2023-09-07T09:58:50",
          "2023-09-07T09:59:13",
          "2023-09-07T09:59:39",
          "2023-09-07T10:00:02",
          "2023-09-07T10:00:31",
          "2023-09-07T10:00:58",
          "2023-09-07T10:01:48",
          "2023-09-07T10:02:14",
          "2023-09-07T10:02:41",
          "2023-09-07T10:03:06",
          "2023-09-07T10:03:31",
          "2023-09-07T10:04:20",
          "2023-09-07T10:04:56",
          "2023-09-07T10:05:24",
          "2023-09-07T10:05:52",
          "2023-09-07T10:06:21",
          "2023-09-07T10:06:42",
          "2023-09-07T10:07:18",
          "2023-09-07T10:07:44",
          "2023-09-07T10:08:06",
          "2023-09-07T10:08:29",
          "2023-09-07T10:08:52",
          "2023-09-07T10:09:18",
          "2023-09-07T10:09:49",
          "2023-09-07T10:10:20",
          "2023-09-07T10:10:51",
          "2023-09-07T10:11:21",
          "2023-09-07T10:11:45",
          "2023-09-07T10:12:07",
          "2023-09-07T10:12:33",
          "2023-09-07T10:12:56",
          "2023-09-07T10:13:20",
          "2023-09-07T10:13:44",
          "2023-09-07T10:14:09",
          "2023-09-07T10:14:37",
          "2023-09-07T10:15:04",
          "2023-09-07T10:15:30",
          "2023-09-07T10:16:14",
          "2023-09-07T10:16:42",
          "2023-09-07T10:17:06",
          "2023-09-07T10:17:31",
          "2023-09-07T10:17:56",
          "2023-09-07T10:18:43",
          "2023-09-07T10:18:45",
          "2023-09-07T10:19:08",
          "2023-09-07T10:19:33",
          "2023-09-07T10:20:23",
          "2023-09-07T10:20:51",
          "2023-09-07T10:21:16",
          "2023-09-07T10:21:43",
          "2023-09-07T10:22:07",
          "2023-09-07T10:22:31",
          "2023-09-07T10:22:56",
          "2023-09-07T10:23:28",
          "2023-09-07T10:23:52",
          "2023-09-07T10:24:19",
          "2023-09-07T10:24:50",
          "2023-09-07T10:25:16",
          "2023-09-07T10:25:43",
          "2023-09-07T10:26:06",
          "2023-09-07T10:26:34",
          "2023-09-07T10:26:57",
          "2023-09-07T10:51:28",
          "2023-09-07T10:51:51",
          "2023-09-07T10:52:14",
          "2023-09-07T10:52:39",
          "2023-09-07T10:53:04",
          "2023-09-07T10:53:27",
          "2023-09-07T10:53:51",
          "2023-09-07T10:54:17",
          "2023-09-07T10:54:41",
          "2023-09-07T10:55:05",
          "2023-09-07T10:55:29",
          "2023-09-07T10:56:13",
          "2023-09-07T10:56:37",
          "2023-09-07T10:57:01",
          "2023-09-07T10:57:24",
          "2023-09-07T10:57:48",
          "2023-09-07T10:58:11",
          "2023-09-07T10:58:36",
          "2023-09-07T10:59:00",
          "2023-09-07T10:59:27",
          "2023-09-07T10:59:50",
          "2023-09-07T11:00:16",
          "2023-09-07T11:00:40",
          "2023-09-07T11:01:09",
          "2023-09-07T11:02:31",
          "2023-09-07T11:02:55",
          "2023-09-07T11:03:20",
          "2023-09-07T11:03:45",
          "2023-09-07T11:04:08",
          "2023-09-07T11:04:30",
          "2023-09-07T11:04:55",
          "2023-09-07T11:05:17",
          "2023-09-07T11:05:41",
          "2023-09-07T11:06:06",
          "2023-09-07T11:06:31",
          "2023-09-07T11:07:01",
          "2023-09-07T11:07:24",
          "2023-09-07T11:07:48",
          "2023-09-07T11:08:10",
          "2023-09-07T11:08:33",
          "2023-09-07T11:08:57",
          "2023-09-07T11:09:21",
          "2023-09-07T11:09:46",
          "2023-09-07T11:10:09",
          "2023-09-07T11:10:33",
          "2023-09-07T11:10:58",
          "2023-09-07T11:11:24",
          "2023-09-07T11:11:47",
          "2023-09-07T11:13:50",
          "2023-09-07T11:14:18",
          "2023-09-07T11:14:41",
          "2023-09-07T11:15:04",
          "2023-09-07T11:15:31",
          "2023-09-07T11:16:03",
          "2023-09-07T11:16:26",
          "2023-09-07T11:16:51",
          "2023-09-07T11:17:17",
          "2023-09-07T11:17:41",
          "2023-09-07T11:18:05",
          "2023-09-07T11:18:30",
          "2023-09-07T11:18:53",
          "2023-09-07T11:20:51",
          "2023-09-07T11:21:24",
          "2023-09-07T11:26:45",
          "2023-09-07T11:27:12",
          "2023-09-07T11:27:37",
          "2023-09-07T11:28:02",
          "2023-09-07T11:28:29",
          "2023-09-07T11:31:37",
          "2023-09-07T11:32:01",
          "2023-09-07T11:32:25",
          "2023-09-07T11:32:47",
          "2023-09-07T11:33:14",
          "2023-09-07T11:33:36",
          "2023-09-07T11:33:59",
          "2023-09-07T11:34:24",
          "2023-09-07T11:34:51",
          "2023-09-07T11:35:18",
          "2023-09-07T11:35:42",
          "2023-09-07T11:36:05",
          "2023-09-07T11:36:27",
          "2023-09-07T11:36:49",
          "2023-09-07T11:37:13",
          "2023-09-07T11:37:37",
          "2023-09-07T11:38:03",
          "2023-09-07T11:38:30",
          "2023-09-07T11:38:56",
          "2023-09-07T11:39:21",
          "2023-09-07T11:39:46",
          "2023-09-07T11:40:13",
          "2023-09-07T11:42:10",
          "2023-09-07T11:42:36",
          "2023-09-07T11:43:00",
          "2023-09-07T11:43:27",
          "2023-09-07T11:43:55",
          "2023-09-07T11:44:17",
          "2023-09-07T11:44:43",
          "2023-09-07T11:45:07",
          "2023-09-07T11:45:30",
          "2023-09-07T11:45:54",
          "2023-09-07T11:46:20",
          "2023-09-07T11:46:45",
          "2023-09-07T11:47:09",
          "2023-09-07T11:47:34",
          "2023-09-07T11:47:57",
          "2023-09-07T11:48:22",
          "2023-09-07T11:48:47",
          "2023-09-07T11:49:09",
          "2023-09-07T11:49:33",
          "2023-09-07T11:49:58",
          "2023-09-07T11:50:23",
          "2023-09-07T11:56:57",
          "2023-09-07T11:57:22",
          "2023-09-07T11:57:45",
          "2023-09-07T11:58:07",
          "2023-09-07T11:58:30",
          "2023-09-07T11:58:53",
          "2023-09-07T11:59:16",
          "2023-09-07T11:59:41",
          "2023-09-07T12:00:06",
          "2023-09-07T12:00:30",
          "2023-09-07T12:07:07",
          "2023-09-07T12:07:54",
          "2023-09-07T12:08:25",
          "2023-09-07T12:08:43",
          "2023-09-07T12:08:58",
          "2023-09-07T12:09:26",
          "2023-09-07T12:09:56",
          "2023-09-07T12:10:13",
          "2023-09-07T12:10:28",
          "2023-09-07T12:10:44",
          "2023-09-07T12:11:00",
          "2023-09-07T12:11:23",
          "2023-09-07T12:11:50",
          "2023-09-07T12:13:47",
          "2023-09-07T12:14:20",
          "2023-09-07T12:14:35",
          "2023-09-07T12:14:50",
          "2023-09-07T12:15:06",
          "2023-09-07T12:15:21",
          "2023-09-07T12:15:42",
          "2023-09-07T12:16:14",
          "2023-09-07T12:16:29",
          "2023-09-07T12:16:48",
          "2023-09-07T12:18:23",
          "2023-09-07T12:18:47",
          "2023-09-07T12:19:11",
          "2023-09-07T12:19:33",
          "2023-09-07T12:19:58",
          "2023-09-07T12:20:21",
          "2023-09-07T12:20:45",
          "2023-09-07T12:21:07",
          "2023-09-07T12:21:34",
          "2023-09-07T12:24:03",
          "2023-09-07T12:24:26",
          "2023-09-07T12:24:48",
          "2023-09-07T12:25:18",
          "2023-09-07T12:25:43",
          "2023-09-07T12:26:07",
          "2023-09-07T12:26:29",
          "2023-09-07T12:27:13",
          "2023-09-07T12:27:42",
          "2023-09-07T12:29:11",
          "2023-09-07T12:29:33",
          "2023-09-07T12:29:54",
          "2023-09-07T12:30:16",
          "2023-09-07T12:30:40",
          "2023-09-07T12:31:22",
          "2023-09-07T12:31:45",
          "2023-09-07T12:32:08",
          "2023-09-07T12:34:39",
          "2023-09-07T12:35:04",
          "2023-09-07T12:35:30",
          "2023-09-07T12:35:55",
          "2023-09-07T12:36:18",
          "2023-09-07T12:36:42",
          "2023-09-07T12:38:23",
          "2023-09-07T12:38:47",
          "2023-09-07T12:39:10",
          "2023-09-07T12:39:33",
          "2023-09-07T12:39:58",
          "2023-09-07T12:40:23",
          "2023-09-07T12:40:50",
          "2023-09-07T12:41:17",
          "2023-09-07T12:41:39",
          "2023-09-07T12:42:02",
          "2023-09-07T12:42:29",
          "2023-09-07T12:42:52",
          "2023-09-07T12:43:15",
          "2023-09-07T12:43:42",
          "2023-09-07T12:44:04",
          "2023-09-07T12:44:26",
          "2023-09-07T12:44:47",
          "2023-09-07T12:45:11",
          "2023-09-07T12:45:32",
          "2023-09-07T12:45:58",
          "2023-09-07T12:46:20",
          "2023-09-07T12:46:41",
          "2023-09-07T12:47:18",
          "2023-09-07T12:47:41",
          "2023-09-07T12:48:29",
          "2023-09-07T12:48:55",
          "2023-09-07T12:49:18",
          "2023-09-07T12:49:43",
          "2023-09-07T12:51:07",
          "2023-09-07T12:51:30",
          "2023-09-07T12:51:53",
          "2023-09-07T12:52:16",
          "2023-09-07T12:52:40",
          "2023-09-07T12:53:02",
          "2023-09-07T12:53:23",
          "2023-09-07T12:53:45",
          "2023-09-07T12:54:07",
          "2023-09-07T12:54:30",
          "2023-09-07T12:54:54",
          "2023-09-07T12:55:17",
          "2023-09-07T12:55:39",
          "2023-09-07T12:56:02",
          "2023-09-07T12:56:24",
          "2023-09-07T12:56:52",
          "2023-09-07T12:57:14",
          "2023-09-07T12:57:36",
          "2023-09-07T12:58:05",
          "2023-09-07T14:03:26",
          "2023-09-07T14:03:51",
          "2023-09-07T14:04:23",
          "2023-09-07T14:04:45",
          "2023-09-07T14:05:08",
          "2023-09-07T14:05:30",
          "2023-09-07T14:05:53",
          "2023-09-07T14:06:25",
          "2023-09-07T14:06:47",
          "2023-09-07T14:07:11",
          "2023-09-07T14:07:35",
          "2023-09-07T14:07:59",
          "2023-09-07T14:08:25",
          "2023-09-07T14:08:47",
          "2023-09-07T14:09:11",
          "2023-09-07T14:09:35",
          "2023-09-07T14:09:58",
          "2023-09-07T14:10:23",
          "2023-09-07T14:10:45",
          "2023-09-07T14:11:07",
          "2023-09-07T14:11:32",
          "2023-09-07T14:12:05",
          "2023-09-07T14:12:32",
          "2023-09-07T14:17:32",
          "2023-09-07T14:46:11",
          "2023-09-07T14:47:26",
          "2023-09-07T14:47:51",
          "2023-09-07T14:48:09",
          "2023-09-07T14:49:35",
          "2023-09-07T14:50:06",
          "2023-09-07T14:50:30",
          "2023-09-07T14:51:01",
          "2023-09-07T14:51:24",
          "2023-09-07T14:51:49",
          "2023-09-07T14:55:06",
          "2023-09-07T14:56:00",
          "2023-09-07T14:56:23",
          "2023-09-07T14:56:45",
          "2023-09-07T14:57:10",
          "2023-09-07T14:57:39",
          "2023-09-07T14:58:01",
          "2023-09-07T14:58:41",
          "2023-09-07T14:58:53",
          "2023-09-07T14:59:15",
          "2023-09-07T15:00:54",
          "2023-09-07T15:01:35",
          "2023-09-07T15:01:42",
          "2023-09-07T15:02:08",
          "2023-09-07T15:02:41",
          "2023-09-07T15:03:03",
          "2023-09-07T15:03:30",
          "2023-09-07T15:05:24",
          "2023-09-07T15:05:47",
          "2023-09-07T15:06:12",
          "2023-09-07T15:07:01",
          "2023-09-07T15:08:49",
          "2023-09-07T15:09:56",
          "2023-09-07T15:10:47",
          "2023-09-07T15:10:54",
          "2023-09-07T15:16:37",
          "2023-09-07T15:17:09",
          "2023-09-07T15:18:46",
          "2023-09-07T15:22:55"
         ],
         "xaxis": "x",
         "y": [
          22,
          21,
          26,
          25,
          28,
          25,
          27,
          22,
          23,
          24,
          24,
          25,
          23,
          21,
          26,
          26,
          26,
          24,
          28,
          28,
          35,
          25,
          21,
          23,
          20,
          23,
          23,
          24,
          22,
          44,
          29,
          23,
          21,
          24,
          28,
          26,
          24,
          23,
          22,
          24,
          21,
          27,
          24,
          48,
          26,
          24,
          22,
          25,
          27,
          14,
          25,
          24,
          14,
          27,
          25,
          25,
          33,
          15,
          24,
          25,
          26,
          25,
          24,
          33,
          21,
          28,
          25,
          23,
          22,
          29,
          21,
          23,
          25,
          22,
          23,
          23,
          22,
          25,
          24,
          25,
          25,
          24,
          26,
          23,
          26,
          24,
          23,
          25,
          46,
          24,
          24,
          24,
          24,
          23,
          25,
          24,
          23,
          23,
          25,
          23,
          28,
          27,
          48,
          26,
          25,
          25,
          25,
          47,
          36,
          27,
          27,
          24,
          21,
          36,
          25,
          21,
          22,
          23,
          25,
          30,
          30,
          31,
          29,
          23,
          22,
          25,
          22,
          24,
          23,
          24,
          28,
          26,
          25,
          44,
          27,
          23,
          24,
          24,
          25,
          24,
          23,
          24,
          25,
          22,
          25,
          26,
          24,
          22,
          25,
          32,
          23,
          27,
          30,
          13,
          26,
          22,
          27,
          23,
          24,
          22,
          23,
          24,
          25,
          22,
          23,
          25,
          25,
          22,
          24,
          43,
          23,
          24,
          22,
          23,
          23,
          25,
          22,
          27,
          22,
          25,
          24,
          29,
          25,
          23,
          25,
          24,
          23,
          21,
          25,
          21,
          23,
          25,
          24,
          29,
          23,
          23,
          22,
          22,
          24,
          23,
          25,
          22,
          24,
          24,
          26,
          23,
          27,
          28,
          23,
          22,
          26,
          31,
          23,
          24,
          26,
          23,
          24,
          24,
          23,
          31,
          24,
          25,
          26,
          24,
          25,
          26,
          22,
          23,
          23,
          22,
          27,
          21,
          22,
          25,
          26,
          27,
          23,
          22,
          22,
          22,
          24,
          23,
          25,
          26,
          26,
          24,
          25,
          26,
          45,
          25,
          24,
          26,
          27,
          22,
          25,
          24,
          22,
          24,
          25,
          24,
          23,
          25,
          23,
          24,
          25,
          21,
          23,
          25,
          24,
          26,
          25,
          22,
          21,
          23,
          22,
          23,
          24,
          25,
          24,
          17,
          46,
          31,
          17,
          15,
          27,
          19,
          16,
          15,
          15,
          16,
          22,
          17,
          19,
          33,
          14,
          14,
          16,
          15,
          20,
          31,
          15,
          18,
          25,
          23,
          23,
          22,
          24,
          22,
          24,
          22,
          26,
          23,
          22,
          20,
          31,
          24,
          23,
          22,
          43,
          29,
          28,
          22,
          21,
          21,
          23,
          42,
          22,
          22,
          21,
          24,
          25,
          24,
          23,
          24,
          29,
          22,
          23,
          23,
          24,
          24,
          27,
          26,
          22,
          23,
          26,
          23,
          22,
          26,
          22,
          21,
          21,
          23,
          21,
          26,
          20,
          21,
          36,
          23,
          46,
          26,
          23,
          23,
          21,
          22,
          23,
          23,
          23,
          21,
          20,
          22,
          22,
          22,
          24,
          22,
          22,
          22,
          22,
          27,
          22,
          21,
          28,
          22,
          24,
          31,
          21,
          23,
          22,
          22,
          30,
          23,
          23,
          24,
          23,
          26,
          21,
          23,
          23,
          23,
          25,
          21,
          21,
          25,
          32,
          26,
          27,
          24,
          23,
          20,
          22,
          23,
          21,
          24,
          28,
          24,
          23,
          23,
          21,
          22,
          22,
          24,
          25,
          25,
          27,
          12,
          21,
          23,
          24,
          23,
          25,
          26,
          22,
          24,
          35,
          23,
          22,
          24,
          23,
          13,
          22,
          13,
          25,
          31,
          19,
          39
         ],
         "yaxis": "y"
        },
        {
         "line": {
          "color": "tomato",
          "shape": "hv"
         },
         "name": "Presence indicator",
         "type": "scatter",
         "x": [
          "2023-09-07T09:00:11.000000000",
          "2023-09-07T09:00:28.000000000",
          "2023-09-07T09:00:43.000000000",
          "2023-09-07T09:01:00.000000000",
          "2023-09-07T09:01:16.000000000",
          "2023-09-07T09:01:31.000000000",
          "2023-09-07T09:01:46.000000000",
          "2023-09-07T09:02:05.000000000",
          "2023-09-07T09:02:20.000000000",
          "2023-09-07T09:02:38.000000000",
          "2023-09-07T09:02:53.000000000",
          "2023-09-07T09:03:09.000000000",
          "2023-09-07T09:03:26.000000000",
          "2023-09-07T09:03:41.000000000",
          "2023-09-07T09:04:00.000000000",
          "2023-09-07T09:04:16.000000000",
          "2023-09-07T09:04:31.000000000",
          "2023-09-07T09:04:46.000000000",
          "2023-09-07T09:05:02.000000000",
          "2023-09-07T09:05:18.000000000",
          "2023-09-07T09:05:33.000000000",
          "2023-09-07T09:05:49.000000000",
          "2023-09-07T09:06:07.000000000",
          "2023-09-07T09:06:22.000000000",
          "2023-09-07T09:06:38.000000000",
          "2023-09-07T09:06:53.000000000",
          "2023-09-07T09:07:09.000000000",
          "2023-09-07T09:07:24.000000000",
          "2023-09-07T09:07:39.000000000",
          "2023-09-07T09:07:57.000000000",
          "2023-09-07T09:08:12.000000000",
          "2023-09-07T09:08:29.000000000",
          "2023-09-07T09:08:47.000000000",
          "2023-09-07T09:09:03.000000000",
          "2023-09-07T09:09:19.000000000",
          "2023-09-07T09:09:34.000000000",
          "2023-09-07T09:09:49.000000000",
          "2023-09-07T09:10:11.000000000",
          "2023-09-07T09:10:28.000000000",
          "2023-09-07T09:10:44.000000000",
          "2023-09-07T09:11:07.000000000",
          "2023-09-07T09:11:23.000000000",
          "2023-09-07T09:11:49.000000000",
          "2023-09-07T09:12:04.000000000",
          "2023-09-07T09:12:22.000000000",
          "2023-09-07T09:12:36.000000000",
          "2023-09-07T09:12:52.000000000",
          "2023-09-07T09:13:07.000000000",
          "2023-09-07T09:13:22.000000000",
          "2023-09-07T09:13:50.000000000",
          "2023-09-07T09:14:06.000000000",
          "2023-09-07T09:14:25.000000000",
          "2023-09-07T09:15:07.000000000",
          "2023-09-07T09:15:07.000000000",
          "2023-09-07T09:15:11.000000000",
          "2023-09-07T09:15:28.000000000",
          "2023-09-07T09:15:45.000000000",
          "2023-09-07T09:16:00.000000000",
          "2023-09-07T09:16:16.000000000",
          "2023-09-07T09:16:33.000000000",
          "2023-09-07T09:16:48.000000000",
          "2023-09-07T09:17:03.000000000",
          "2023-09-07T09:17:19.000000000",
          "2023-09-07T09:17:38.000000000",
          "2023-09-07T09:17:53.000000000",
          "2023-09-07T09:18:14.000000000",
          "2023-09-07T09:18:29.000000000",
          "2023-09-07T09:18:48.000000000",
          "2023-09-07T09:19:05.000000000",
          "2023-09-07T09:19:25.000000000",
          "2023-09-07T09:19:40.000000000",
          "2023-09-07T09:19:55.000000000",
          "2023-09-07T09:20:11.000000000",
          "2023-09-07T09:20:30.000000000",
          "2023-09-07T09:20:45.000000000",
          "2023-09-07T09:21:00.000000000",
          "2023-09-07T09:21:16.000000000",
          "2023-09-07T09:21:36.000000000",
          "2023-09-07T09:21:52.000000000",
          "2023-09-07T09:22:44.000000000",
          "2023-09-07T09:23:03.000000000",
          "2023-09-07T09:23:19.000000000",
          "2023-09-07T09:23:34.000000000",
          "2023-09-07T09:23:49.000000000",
          "2023-09-07T09:24:04.000000000",
          "2023-09-07T09:24:20.000000000",
          "2023-09-07T09:24:39.000000000",
          "2023-09-07T09:24:54.000000000",
          "2023-09-07T09:25:14.000000000",
          "2023-09-07T09:25:29.000000000",
          "2023-09-07T09:25:45.000000000",
          "2023-09-07T09:26:00.000000000",
          "2023-09-07T09:26:15.000000000",
          "2023-09-07T09:26:36.000000000",
          "2023-09-07T09:26:53.000000000",
          "2023-09-07T09:27:09.000000000",
          "2023-09-07T09:27:25.000000000",
          "2023-09-07T09:27:40.000000000",
          "2023-09-07T09:27:55.000000000",
          "2023-09-07T09:30:18.000000000",
          "2023-09-07T09:30:33.000000000",
          "2023-09-07T09:30:48.000000000",
          "2023-09-07T09:31:03.000000000",
          "2023-09-07T09:33:07.000000000",
          "2023-09-07T09:33:22.000000000",
          "2023-09-07T09:33:38.000000000",
          "2023-09-07T09:33:53.000000000",
          "2023-09-07T09:34:10.000000000",
          "2023-09-07T09:34:29.000000000",
          "2023-09-07T09:34:44.000000000",
          "2023-09-07T09:35:00.000000000",
          "2023-09-07T09:35:15.000000000",
          "2023-09-07T09:35:38.000000000",
          "2023-09-07T09:35:53.000000000",
          "2023-09-07T09:36:09.000000000",
          "2023-09-07T09:36:25.000000000",
          "2023-09-07T09:36:42.000000000",
          "2023-09-07T09:37:00.000000000",
          "2023-09-07T09:37:17.000000000",
          "2023-09-07T09:37:34.000000000",
          "2023-09-07T09:37:49.000000000",
          "2023-09-07T09:38:04.000000000",
          "2023-09-07T09:38:19.000000000",
          "2023-09-07T09:38:34.000000000",
          "2023-09-07T09:38:50.000000000",
          "2023-09-07T09:39:17.000000000",
          "2023-09-07T09:39:32.000000000",
          "2023-09-07T09:39:47.000000000",
          "2023-09-07T09:40:02.000000000",
          "2023-09-07T09:40:18.000000000",
          "2023-09-07T09:40:33.000000000",
          "2023-09-07T09:40:48.000000000",
          "2023-09-07T09:41:03.000000000",
          "2023-09-07T09:41:18.000000000",
          "2023-09-07T09:41:33.000000000",
          "2023-09-07T09:41:52.000000000",
          "2023-09-07T09:42:07.000000000",
          "2023-09-07T09:42:28.000000000",
          "2023-09-07T09:42:43.000000000",
          "2023-09-07T09:43:00.000000000",
          "2023-09-07T09:43:16.000000000",
          "2023-09-07T09:43:32.000000000",
          "2023-09-07T09:43:47.000000000",
          "2023-09-07T09:44:02.000000000",
          "2023-09-07T09:44:17.000000000",
          "2023-09-07T09:44:33.000000000",
          "2023-09-07T09:44:51.000000000",
          "2023-09-07T09:45:06.000000000",
          "2023-09-07T09:45:23.000000000",
          "2023-09-07T09:45:40.000000000",
          "2023-09-07T09:45:59.000000000",
          "2023-09-07T09:46:14.000000000",
          "2023-09-07T09:46:29.000000000",
          "2023-09-07T09:46:44.000000000",
          "2023-09-07T09:46:59.000000000",
          "2023-09-07T09:47:17.000000000",
          "2023-09-07T09:47:47.000000000",
          "2023-09-07T09:48:02.000000000",
          "2023-09-07T09:48:17.000000000",
          "2023-09-07T09:48:32.000000000",
          "2023-09-07T09:48:49.000000000",
          "2023-09-07T09:49:04.000000000",
          "2023-09-07T09:49:22.000000000",
          "2023-09-07T09:49:37.000000000",
          "2023-09-07T09:49:52.000000000",
          "2023-09-07T09:50:10.000000000",
          "2023-09-07T09:50:26.000000000",
          "2023-09-07T09:50:44.000000000",
          "2023-09-07T09:50:59.000000000",
          "2023-09-07T09:51:17.000000000",
          "2023-09-07T09:51:32.000000000",
          "2023-09-07T09:51:50.000000000",
          "2023-09-07T09:52:09.000000000",
          "2023-09-07T09:52:24.000000000",
          "2023-09-07T09:52:42.000000000",
          "2023-09-07T09:52:58.000000000",
          "2023-09-07T09:53:14.000000000",
          "2023-09-07T09:53:41.000000000",
          "2023-09-07T09:53:56.000000000",
          "2023-09-07T09:54:11.000000000",
          "2023-09-07T09:54:26.000000000",
          "2023-09-07T09:54:43.000000000",
          "2023-09-07T09:55:18.000000000",
          "2023-09-07T09:55:34.000000000",
          "2023-09-07T09:55:50.000000000",
          "2023-09-07T09:56:06.000000000",
          "2023-09-07T09:56:25.000000000",
          "2023-09-07T09:56:41.000000000",
          "2023-09-07T09:56:59.000000000",
          "2023-09-07T09:57:14.000000000",
          "2023-09-07T09:57:35.000000000",
          "2023-09-07T09:57:53.000000000",
          "2023-09-07T09:58:08.000000000",
          "2023-09-07T09:58:24.000000000",
          "2023-09-07T09:58:42.000000000",
          "2023-09-07T09:58:59.000000000",
          "2023-09-07T09:59:14.000000000",
          "2023-09-07T09:59:29.000000000",
          "2023-09-07T09:59:44.000000000",
          "2023-09-07T10:00:01.000000000",
          "2023-09-07T10:00:17.000000000",
          "2023-09-07T10:00:36.000000000",
          "2023-09-07T10:00:51.000000000",
          "2023-09-07T10:01:07.000000000",
          "2023-09-07T10:01:21.000000000",
          "2023-09-07T10:01:36.000000000",
          "2023-09-07T10:01:53.000000000",
          "2023-09-07T10:02:08.000000000",
          "2023-09-07T10:02:37.000000000",
          "2023-09-07T10:02:52.000000000",
          "2023-09-07T10:03:23.000000000",
          "2023-09-07T10:03:38.000000000",
          "2023-09-07T10:03:53.000000000",
          "2023-09-07T10:04:10.000000000",
          "2023-09-07T10:04:34.000000000",
          "2023-09-07T10:04:50.000000000",
          "2023-09-07T10:05:06.000000000",
          "2023-09-07T10:05:21.000000000",
          "2023-09-07T10:05:39.000000000",
          "2023-09-07T10:05:54.000000000",
          "2023-09-07T10:06:15.000000000",
          "2023-09-07T10:06:30.000000000",
          "2023-09-07T10:06:49.000000000",
          "2023-09-07T10:07:03.000000000",
          "2023-09-07T10:07:18.000000000",
          "2023-09-07T10:07:34.000000000",
          "2023-09-07T10:07:51.000000000",
          "2023-09-07T10:08:06.000000000",
          "2023-09-07T10:08:21.000000000",
          "2023-09-07T10:08:36.000000000",
          "2023-09-07T10:08:51.000000000",
          "2023-09-07T10:09:07.000000000",
          "2023-09-07T10:09:24.000000000",
          "2023-09-07T10:09:39.000000000",
          "2023-09-07T10:09:57.000000000",
          "2023-09-07T10:10:12.000000000",
          "2023-09-07T10:10:27.000000000",
          "2023-09-07T10:10:50.000000000",
          "2023-09-07T10:11:05.000000000",
          "2023-09-07T10:11:20.000000000",
          "2023-09-07T10:11:36.000000000",
          "2023-09-07T10:11:52.000000000",
          "2023-09-07T10:12:07.000000000",
          "2023-09-07T10:12:22.000000000",
          "2023-09-07T10:12:40.000000000",
          "2023-09-07T10:12:55.000000000",
          "2023-09-07T10:13:11.000000000",
          "2023-09-07T10:13:28.000000000",
          "2023-09-07T10:13:44.000000000",
          "2023-09-07T10:14:00.000000000",
          "2023-09-07T10:14:15.000000000",
          "2023-09-07T10:14:37.000000000",
          "2023-09-07T10:14:52.000000000",
          "2023-09-07T10:15:09.000000000",
          "2023-09-07T10:15:25.000000000",
          "2023-09-07T10:15:45.000000000",
          "2023-09-07T10:16:01.000000000",
          "2023-09-07T10:16:19.000000000",
          "2023-09-07T10:16:34.000000000",
          "2023-09-07T10:16:50.000000000",
          "2023-09-07T10:17:05.000000000",
          "2023-09-07T10:17:20.000000000",
          "2023-09-07T10:17:38.000000000",
          "2023-09-07T10:17:53.000000000",
          "2023-09-07T10:18:10.000000000",
          "2023-09-07T10:18:43.000000000",
          "2023-09-07T10:18:43.000000000",
          "2023-09-07T10:19:00.000000000",
          "2023-09-07T10:19:15.000000000",
          "2023-09-07T10:19:48.000000000",
          "2023-09-07T10:20:23.000000000",
          "2023-09-07T10:20:40.000000000",
          "2023-09-07T10:21:00.000000000",
          "2023-09-07T10:21:15.000000000",
          "2023-09-07T10:21:35.000000000",
          "2023-09-07T10:21:50.000000000",
          "2023-09-07T10:22:05.000000000",
          "2023-09-07T10:22:22.000000000",
          "2023-09-07T10:22:38.000000000",
          "2023-09-07T10:22:53.000000000",
          "2023-09-07T10:23:12.000000000",
          "2023-09-07T10:23:27.000000000",
          "2023-09-07T10:23:43.000000000",
          "2023-09-07T10:23:58.000000000",
          "2023-09-07T10:24:13.000000000",
          "2023-09-07T10:24:33.000000000",
          "2023-09-07T10:25:04.000000000",
          "2023-09-07T10:25:19.000000000",
          "2023-09-07T10:25:35.000000000",
          "2023-09-07T10:25:51.000000000",
          "2023-09-07T10:26:07.000000000",
          "2023-09-07T10:26:22.000000000",
          "2023-09-07T10:26:42.000000000",
          "2023-09-07T10:26:57.000000000",
          "2023-09-07T10:27:13.000000000",
          "2023-09-07T10:28:13.000000000",
          "2023-09-07T10:29:10.000000000",
          "2023-09-07T10:29:25.000000000",
          "2023-09-07T10:30:05.000000000",
          "2023-09-07T10:30:24.000000000",
          "2023-09-07T10:30:39.000000000",
          "2023-09-07T10:31:40.000000000",
          "2023-09-07T10:32:40.000000000",
          "2023-09-07T10:33:41.000000000",
          "2023-09-07T10:34:42.000000000",
          "2023-09-07T10:35:43.000000000",
          "2023-09-07T10:36:43.000000000",
          "2023-09-07T10:37:44.000000000",
          "2023-09-07T10:38:45.000000000",
          "2023-09-07T10:39:45.000000000",
          "2023-09-07T10:40:46.000000000",
          "2023-09-07T10:41:47.000000000",
          "2023-09-07T10:42:48.000000000",
          "2023-09-07T10:43:48.000000000",
          "2023-09-07T10:44:49.000000000",
          "2023-09-07T10:45:50.000000000",
          "2023-09-07T10:46:51.000000000",
          "2023-09-07T10:47:51.000000000",
          "2023-09-07T10:48:52.000000000",
          "2023-09-07T10:49:12.000000000",
          "2023-09-07T10:49:34.000000000",
          "2023-09-07T10:49:49.000000000",
          "2023-09-07T10:50:04.000000000",
          "2023-09-07T10:50:20.000000000",
          "2023-09-07T10:50:35.000000000",
          "2023-09-07T10:50:50.000000000",
          "2023-09-07T10:51:12.000000000",
          "2023-09-07T10:51:27.000000000",
          "2023-09-07T10:51:43.000000000",
          "2023-09-07T10:51:58.000000000",
          "2023-09-07T10:52:13.000000000",
          "2023-09-07T10:52:29.000000000",
          "2023-09-07T10:52:44.000000000",
          "2023-09-07T10:52:59.000000000",
          "2023-09-07T10:53:14.000000000",
          "2023-09-07T10:53:34.000000000",
          "2023-09-07T10:53:49.000000000",
          "2023-09-07T10:54:08.000000000",
          "2023-09-07T10:54:23.000000000",
          "2023-09-07T10:54:42.000000000",
          "2023-09-07T10:54:58.000000000",
          "2023-09-07T10:55:22.000000000",
          "2023-09-07T10:55:38.000000000",
          "2023-09-07T10:55:55.000000000",
          "2023-09-07T10:56:10.000000000",
          "2023-09-07T10:56:28.000000000",
          "2023-09-07T10:56:44.000000000",
          "2023-09-07T10:57:02.000000000",
          "2023-09-07T10:57:17.000000000",
          "2023-09-07T10:57:32.000000000",
          "2023-09-07T10:57:47.000000000",
          "2023-09-07T10:58:05.000000000",
          "2023-09-07T10:58:27.000000000",
          "2023-09-07T10:58:42.000000000",
          "2023-09-07T10:59:02.000000000",
          "2023-09-07T10:59:17.000000000",
          "2023-09-07T10:59:35.000000000",
          "2023-09-07T10:59:50.000000000",
          "2023-09-07T11:00:05.000000000",
          "2023-09-07T11:00:24.000000000",
          "2023-09-07T11:00:39.000000000",
          "2023-09-07T11:01:02.000000000",
          "2023-09-07T11:01:17.000000000",
          "2023-09-07T11:01:36.000000000",
          "2023-09-07T11:01:51.000000000",
          "2023-09-07T11:02:06.000000000",
          "2023-09-07T11:02:22.000000000",
          "2023-09-07T11:02:39.000000000",
          "2023-09-07T11:02:56.000000000",
          "2023-09-07T11:03:13.000000000",
          "2023-09-07T11:03:32.000000000",
          "2023-09-07T11:03:48.000000000",
          "2023-09-07T11:04:04.000000000",
          "2023-09-07T11:04:20.000000000",
          "2023-09-07T11:04:38.000000000",
          "2023-09-07T11:04:53.000000000",
          "2023-09-07T11:05:10.000000000",
          "2023-09-07T11:05:25.000000000",
          "2023-09-07T11:05:40.000000000",
          "2023-09-07T11:05:58.000000000",
          "2023-09-07T11:06:13.000000000",
          "2023-09-07T11:06:31.000000000",
          "2023-09-07T11:06:52.000000000",
          "2023-09-07T11:07:07.000000000",
          "2023-09-07T11:07:24.000000000",
          "2023-09-07T11:07:41.000000000",
          "2023-09-07T11:08:00.000000000",
          "2023-09-07T11:08:18.000000000",
          "2023-09-07T11:08:33.000000000",
          "2023-09-07T11:08:48.000000000",
          "2023-09-07T11:09:03.000000000",
          "2023-09-07T11:09:22.000000000",
          "2023-09-07T11:09:37.000000000",
          "2023-09-07T11:09:55.000000000",
          "2023-09-07T11:10:10.000000000",
          "2023-09-07T11:10:25.000000000",
          "2023-09-07T11:10:40.000000000",
          "2023-09-07T11:10:58.000000000",
          "2023-09-07T11:11:13.000000000",
          "2023-09-07T11:11:33.000000000",
          "2023-09-07T11:11:48.000000000",
          "2023-09-07T11:12:03.000000000",
          "2023-09-07T11:12:23.000000000",
          "2023-09-07T11:12:38.000000000",
          "2023-09-07T11:12:54.000000000",
          "2023-09-07T11:13:09.000000000",
          "2023-09-07T11:13:24.000000000",
          "2023-09-07T11:13:41.000000000",
          "2023-09-07T11:14:00.000000000",
          "2023-09-07T11:14:15.000000000",
          "2023-09-07T11:14:42.000000000",
          "2023-09-07T11:14:58.000000000",
          "2023-09-07T11:15:14.000000000",
          "2023-09-07T11:15:29.000000000",
          "2023-09-07T11:15:44.000000000",
          "2023-09-07T11:15:59.000000000",
          "2023-09-07T11:16:19.000000000",
          "2023-09-07T11:16:34.000000000",
          "2023-09-07T11:16:51.000000000",
          "2023-09-07T11:17:06.000000000",
          "2023-09-07T11:17:21.000000000",
          "2023-09-07T11:17:42.000000000",
          "2023-09-07T11:17:58.000000000",
          "2023-09-07T11:18:14.000000000",
          "2023-09-07T11:18:29.000000000",
          "2023-09-07T11:18:45.000000000",
          "2023-09-07T11:19:03.000000000",
          "2023-09-07T11:19:19.000000000",
          "2023-09-07T11:19:50.000000000",
          "2023-09-07T11:20:16.000000000",
          "2023-09-07T11:20:31.000000000",
          "2023-09-07T11:20:51.000000000",
          "2023-09-07T11:21:25.000000000",
          "2023-09-07T11:22:24.000000000",
          "2023-09-07T11:23:25.000000000",
          "2023-09-07T11:24:25.000000000",
          "2023-09-07T11:25:26.000000000",
          "2023-09-07T11:26:13.000000000",
          "2023-09-07T11:26:28.000000000",
          "2023-09-07T11:26:45.000000000",
          "2023-09-07T11:27:00.000000000",
          "2023-09-07T11:27:21.000000000",
          "2023-09-07T11:27:39.000000000",
          "2023-09-07T11:27:54.000000000",
          "2023-09-07T11:28:09.000000000",
          "2023-09-07T11:28:25.000000000",
          "2023-09-07T11:28:40.000000000",
          "2023-09-07T11:28:57.000000000",
          "2023-09-07T11:29:12.000000000",
          "2023-09-07T11:29:36.000000000",
          "2023-09-07T11:29:54.000000000",
          "2023-09-07T11:30:19.000000000",
          "2023-09-07T11:30:35.000000000",
          "2023-09-07T11:30:51.000000000",
          "2023-09-07T11:31:07.000000000",
          "2023-09-07T11:31:22.000000000",
          "2023-09-07T11:31:39.000000000",
          "2023-09-07T11:31:54.000000000",
          "2023-09-07T11:32:10.000000000",
          "2023-09-07T11:32:25.000000000",
          "2023-09-07T11:32:40.000000000",
          "2023-09-07T11:32:56.000000000",
          "2023-09-07T11:33:11.000000000",
          "2023-09-07T11:33:29.000000000",
          "2023-09-07T11:33:45.000000000",
          "2023-09-07T11:34:08.000000000",
          "2023-09-07T11:34:24.000000000",
          "2023-09-07T11:34:39.000000000",
          "2023-09-07T11:35:08.000000000",
          "2023-09-07T11:35:23.000000000",
          "2023-09-07T11:35:43.000000000",
          "2023-09-07T11:35:59.000000000",
          "2023-09-07T11:36:15.000000000",
          "2023-09-07T11:36:30.000000000",
          "2023-09-07T11:36:49.000000000",
          "2023-09-07T11:37:05.000000000",
          "2023-09-07T11:37:22.000000000",
          "2023-09-07T11:37:37.000000000",
          "2023-09-07T11:37:54.000000000",
          "2023-09-07T11:38:10.000000000",
          "2023-09-07T11:38:31.000000000",
          "2023-09-07T11:38:46.000000000",
          "2023-09-07T11:39:04.000000000",
          "2023-09-07T11:39:19.000000000",
          "2023-09-07T11:39:38.000000000",
          "2023-09-07T11:39:54.000000000",
          "2023-09-07T11:40:48.000000000",
          "2023-09-07T11:41:04.000000000",
          "2023-09-07T11:41:31.000000000",
          "2023-09-07T11:41:46.000000000",
          "2023-09-07T11:42:01.000000000",
          "2023-09-07T11:42:17.000000000",
          "2023-09-07T11:42:37.000000000",
          "2023-09-07T11:42:53.000000000",
          "2023-09-07T11:43:09.000000000",
          "2023-09-07T11:43:27.000000000",
          "2023-09-07T11:43:42.000000000",
          "2023-09-07T11:44:02.000000000",
          "2023-09-07T11:44:17.000000000",
          "2023-09-07T11:44:34.000000000",
          "2023-09-07T11:44:49.000000000",
          "2023-09-07T11:45:07.000000000",
          "2023-09-07T11:45:23.000000000",
          "2023-09-07T11:45:38.000000000",
          "2023-09-07T11:45:53.000000000",
          "2023-09-07T11:46:11.000000000",
          "2023-09-07T11:46:26.000000000",
          "2023-09-07T11:46:46.000000000",
          "2023-09-07T11:47:02.000000000",
          "2023-09-07T11:47:17.000000000",
          "2023-09-07T11:47:32.000000000",
          "2023-09-07T11:47:48.000000000",
          "2023-09-07T11:48:03.000000000",
          "2023-09-07T11:48:23.000000000",
          "2023-09-07T11:48:38.000000000",
          "2023-09-07T11:48:54.000000000",
          "2023-09-07T11:49:10.000000000",
          "2023-09-07T11:49:25.000000000",
          "2023-09-07T11:49:42.000000000",
          "2023-09-07T11:49:57.000000000",
          "2023-09-07T11:50:15.000000000",
          "2023-09-07T11:50:30.000000000",
          "2023-09-07T11:51:31.000000000",
          "2023-09-07T11:52:32.000000000",
          "2023-09-07T11:53:32.000000000",
          "2023-09-07T11:54:33.000000000",
          "2023-09-07T11:55:34.000000000",
          "2023-09-07T11:56:03.000000000",
          "2023-09-07T11:56:18.000000000",
          "2023-09-07T11:56:34.000000000",
          "2023-09-07T11:56:49.000000000",
          "2023-09-07T11:57:04.000000000",
          "2023-09-07T11:57:22.000000000",
          "2023-09-07T11:57:39.000000000",
          "2023-09-07T11:58:06.000000000",
          "2023-09-07T11:58:21.000000000",
          "2023-09-07T11:58:38.000000000",
          "2023-09-07T11:58:54.000000000",
          "2023-09-07T11:59:17.000000000",
          "2023-09-07T11:59:32.000000000",
          "2023-09-07T11:59:50.000000000",
          "2023-09-07T12:00:05.000000000",
          "2023-09-07T12:00:22.000000000",
          "2023-09-07T12:00:38.000000000",
          "2023-09-07T12:00:54.000000000",
          "2023-09-07T12:01:09.000000000",
          "2023-09-07T12:01:24.000000000",
          "2023-09-07T12:02:25.000000000",
          "2023-09-07T12:03:26.000000000",
          "2023-09-07T12:04:26.000000000",
          "2023-09-07T12:05:27.000000000",
          "2023-09-07T12:06:28.000000000",
          "2023-09-07T12:06:43.000000000",
          "2023-09-07T12:06:59.000000000",
          "2023-09-07T12:07:18.000000000",
          "2023-09-07T12:07:34.000000000",
          "2023-09-07T12:07:52.000000000",
          "2023-09-07T12:08:12.000000000",
          "2023-09-07T12:08:27.000000000",
          "2023-09-07T12:08:59.000000000",
          "2023-09-07T12:09:14.000000000",
          "2023-09-07T12:09:30.000000000",
          "2023-09-07T12:09:48.000000000",
          "2023-09-07T12:10:14.000000000",
          "2023-09-07T12:10:29.000000000",
          "2023-09-07T12:10:44.000000000",
          "2023-09-07T12:11:01.000000000",
          "2023-09-07T12:11:44.000000000",
          "2023-09-07T12:11:59.000000000",
          "2023-09-07T12:12:22.000000000",
          "2023-09-07T12:12:37.000000000",
          "2023-09-07T12:12:55.000000000",
          "2023-09-07T12:13:10.000000000",
          "2023-09-07T12:13:25.000000000",
          "2023-09-07T12:13:47.000000000",
          "2023-09-07T12:14:02.000000000",
          "2023-09-07T12:14:21.000000000",
          "2023-09-07T12:14:38.000000000",
          "2023-09-07T12:15:05.000000000",
          "2023-09-07T12:15:20.000000000",
          "2023-09-07T12:16:07.000000000",
          "2023-09-07T12:16:22.000000000",
          "2023-09-07T12:17:08.000000000",
          "2023-09-07T12:17:23.000000000",
          "2023-09-07T12:17:39.000000000",
          "2023-09-07T12:17:54.000000000",
          "2023-09-07T12:18:15.000000000",
          "2023-09-07T12:18:31.000000000",
          "2023-09-07T12:18:47.000000000",
          "2023-09-07T12:19:02.000000000",
          "2023-09-07T12:19:19.000000000",
          "2023-09-07T12:19:35.000000000",
          "2023-09-07T12:19:59.000000000",
          "2023-09-07T12:20:15.000000000",
          "2023-09-07T12:20:37.000000000",
          "2023-09-07T12:20:52.000000000",
          "2023-09-07T12:21:07.000000000",
          "2023-09-07T12:21:23.000000000",
          "2023-09-07T12:21:50.000000000",
          "2023-09-07T12:22:05.000000000",
          "2023-09-07T12:22:43.000000000",
          "2023-09-07T12:22:59.000000000",
          "2023-09-07T12:23:14.000000000",
          "2023-09-07T12:23:40.000000000",
          "2023-09-07T12:23:56.000000000",
          "2023-09-07T12:24:19.000000000",
          "2023-09-07T12:24:35.000000000",
          "2023-09-07T12:24:56.000000000",
          "2023-09-07T12:25:12.000000000",
          "2023-09-07T12:25:33.000000000",
          "2023-09-07T12:25:48.000000000",
          "2023-09-07T12:26:14.000000000",
          "2023-09-07T12:26:29.000000000",
          "2023-09-07T12:26:45.000000000",
          "2023-09-07T12:27:13.000000000",
          "2023-09-07T12:27:28.000000000",
          "2023-09-07T12:27:43.000000000",
          "2023-09-07T12:27:58.000000000",
          "2023-09-07T12:28:18.000000000",
          "2023-09-07T12:28:34.000000000",
          "2023-09-07T12:28:49.000000000",
          "2023-09-07T12:29:04.000000000",
          "2023-09-07T12:29:20.000000000",
          "2023-09-07T12:29:36.000000000",
          "2023-09-07T12:29:55.000000000",
          "2023-09-07T12:30:11.000000000",
          "2023-09-07T12:30:28.000000000",
          "2023-09-07T12:30:43.000000000",
          "2023-09-07T12:30:59.000000000",
          "2023-09-07T12:31:14.000000000",
          "2023-09-07T12:31:30.000000000",
          "2023-09-07T12:31:47.000000000",
          "2023-09-07T12:32:03.000000000",
          "2023-09-07T12:32:18.000000000",
          "2023-09-07T12:33:19.000000000",
          "2023-09-07T12:34:15.000000000",
          "2023-09-07T12:34:30.000000000",
          "2023-09-07T12:34:47.000000000",
          "2023-09-07T12:35:02.000000000",
          "2023-09-07T12:35:21.000000000",
          "2023-09-07T12:35:36.000000000",
          "2023-09-07T12:36:04.000000000",
          "2023-09-07T12:36:21.000000000",
          "2023-09-07T12:37:04.000000000",
          "2023-09-07T12:37:19.000000000",
          "2023-09-07T12:37:34.000000000",
          "2023-09-07T12:37:55.000000000",
          "2023-09-07T12:38:10.000000000",
          "2023-09-07T12:38:27.000000000",
          "2023-09-07T12:38:44.000000000",
          "2023-09-07T12:39:01.000000000",
          "2023-09-07T12:39:16.000000000",
          "2023-09-07T12:39:34.000000000",
          "2023-09-07T12:39:49.000000000",
          "2023-09-07T12:40:07.000000000",
          "2023-09-07T12:40:22.000000000",
          "2023-09-07T12:40:41.000000000",
          "2023-09-07T12:40:57.000000000",
          "2023-09-07T12:41:15.000000000",
          "2023-09-07T12:41:30.000000000",
          "2023-09-07T12:41:47.000000000",
          "2023-09-07T12:42:03.000000000",
          "2023-09-07T12:42:25.000000000",
          "2023-09-07T12:42:40.000000000",
          "2023-09-07T12:42:56.000000000",
          "2023-09-07T12:43:11.000000000",
          "2023-09-07T12:43:34.000000000",
          "2023-09-07T12:43:49.000000000",
          "2023-09-07T12:44:05.000000000",
          "2023-09-07T12:44:20.000000000",
          "2023-09-07T12:44:39.000000000",
          "2023-09-07T12:44:55.000000000",
          "2023-09-07T12:45:12.000000000",
          "2023-09-07T12:45:27.000000000",
          "2023-09-07T12:45:50.000000000",
          "2023-09-07T12:46:06.000000000",
          "2023-09-07T12:46:34.000000000",
          "2023-09-07T12:46:50.000000000",
          "2023-09-07T12:47:10.000000000",
          "2023-09-07T12:47:26.000000000",
          "2023-09-07T12:48:10.000000000",
          "2023-09-07T12:48:25.000000000",
          "2023-09-07T12:48:41.000000000",
          "2023-09-07T12:48:58.000000000",
          "2023-09-07T12:49:19.000000000",
          "2023-09-07T12:49:34.000000000",
          "2023-09-07T12:49:56.000000000",
          "2023-09-07T12:50:11.000000000",
          "2023-09-07T12:50:29.000000000",
          "2023-09-07T12:50:44.000000000",
          "2023-09-07T12:51:08.000000000",
          "2023-09-07T12:51:23.000000000",
          "2023-09-07T12:51:40.000000000",
          "2023-09-07T12:51:56.000000000",
          "2023-09-07T12:52:17.000000000",
          "2023-09-07T12:52:33.000000000",
          "2023-09-07T12:52:48.000000000",
          "2023-09-07T12:53:03.000000000",
          "2023-09-07T12:53:19.000000000",
          "2023-09-07T12:53:34.000000000",
          "2023-09-07T12:53:53.000000000",
          "2023-09-07T12:54:09.000000000",
          "2023-09-07T12:54:32.000000000",
          "2023-09-07T12:54:48.000000000",
          "2023-09-07T12:55:09.000000000",
          "2023-09-07T12:55:24.000000000",
          "2023-09-07T12:55:40.000000000",
          "2023-09-07T12:55:56.000000000",
          "2023-09-07T12:56:11.000000000",
          "2023-09-07T12:56:28.000000000",
          "2023-09-07T12:56:44.000000000",
          "2023-09-07T12:57:00.000000000",
          "2023-09-07T12:57:22.000000000",
          "2023-09-07T12:57:39.000000000",
          "2023-09-07T12:57:54.000000000",
          "2023-09-07T12:58:09.000000000",
          "2023-09-07T12:58:29.000000000",
          "2023-09-07T12:58:45.000000000",
          "2023-09-07T12:59:06.000000000",
          "2023-09-07T12:59:21.000000000",
          "2023-09-07T13:00:22.000000000",
          "2023-09-07T13:01:23.000000000",
          "2023-09-07T13:02:23.000000000",
          "2023-09-07T13:03:24.000000000",
          "2023-09-07T13:04:25.000000000",
          "2023-09-07T13:05:25.000000000",
          "2023-09-07T13:06:26.000000000",
          "2023-09-07T13:07:27.000000000",
          "2023-09-07T13:08:28.000000000",
          "2023-09-07T13:09:28.000000000",
          "2023-09-07T13:10:29.000000000",
          "2023-09-07T13:11:30.000000000",
          "2023-09-07T13:12:31.000000000",
          "2023-09-07T13:13:31.000000000",
          "2023-09-07T13:14:32.000000000",
          "2023-09-07T13:15:33.000000000",
          "2023-09-07T13:16:34.000000000",
          "2023-09-07T13:17:34.000000000",
          "2023-09-07T13:18:35.000000000",
          "2023-09-07T13:19:36.000000000",
          "2023-09-07T13:20:36.000000000",
          "2023-09-07T13:21:37.000000000",
          "2023-09-07T13:22:38.000000000",
          "2023-09-07T13:23:39.000000000",
          "2023-09-07T13:24:39.000000000",
          "2023-09-07T13:25:40.000000000",
          "2023-09-07T13:26:41.000000000",
          "2023-09-07T13:27:42.000000000",
          "2023-09-07T13:28:42.000000000",
          "2023-09-07T13:29:43.000000000",
          "2023-09-07T13:30:44.000000000",
          "2023-09-07T13:31:45.000000000",
          "2023-09-07T13:32:45.000000000",
          "2023-09-07T13:33:46.000000000",
          "2023-09-07T13:34:47.000000000",
          "2023-09-07T13:35:47.000000000",
          "2023-09-07T13:36:48.000000000",
          "2023-09-07T13:37:49.000000000",
          "2023-09-07T13:38:50.000000000",
          "2023-09-07T13:39:50.000000000",
          "2023-09-07T13:40:51.000000000",
          "2023-09-07T13:41:52.000000000",
          "2023-09-07T13:42:53.000000000",
          "2023-09-07T13:43:53.000000000",
          "2023-09-07T13:44:54.000000000",
          "2023-09-07T13:45:55.000000000",
          "2023-09-07T13:46:56.000000000",
          "2023-09-07T13:47:56.000000000",
          "2023-09-07T13:48:57.000000000",
          "2023-09-07T13:49:58.000000000",
          "2023-09-07T13:50:58.000000000",
          "2023-09-07T13:51:59.000000000",
          "2023-09-07T13:53:00.000000000",
          "2023-09-07T13:54:01.000000000",
          "2023-09-07T13:55:01.000000000",
          "2023-09-07T13:56:02.000000000",
          "2023-09-07T13:57:03.000000000",
          "2023-09-07T13:58:04.000000000",
          "2023-09-07T13:59:04.000000000",
          "2023-09-07T14:00:05.000000000",
          "2023-09-07T14:00:20.000000000",
          "2023-09-07T14:00:35.000000000",
          "2023-09-07T14:00:59.000000000",
          "2023-09-07T14:01:14.000000000",
          "2023-09-07T14:01:29.000000000",
          "2023-09-07T14:01:45.000000000",
          "2023-09-07T14:02:06.000000000",
          "2023-09-07T14:02:22.000000000",
          "2023-09-07T14:02:37.000000000",
          "2023-09-07T14:02:54.000000000",
          "2023-09-07T14:03:09.000000000",
          "2023-09-07T14:03:24.000000000",
          "2023-09-07T14:03:40.000000000",
          "2023-09-07T14:04:06.000000000",
          "2023-09-07T14:04:21.000000000",
          "2023-09-07T14:04:45.000000000",
          "2023-09-07T14:05:02.000000000",
          "2023-09-07T14:05:23.000000000",
          "2023-09-07T14:05:39.000000000",
          "2023-09-07T14:05:56.000000000",
          "2023-09-07T14:06:11.000000000",
          "2023-09-07T14:06:46.000000000",
          "2023-09-07T14:06:46.000000000",
          "2023-09-07T14:07:03.000000000",
          "2023-09-07T14:07:18.000000000",
          "2023-09-07T14:07:43.000000000",
          "2023-09-07T14:07:58.000000000",
          "2023-09-07T14:08:16.000000000",
          "2023-09-07T14:08:31.000000000",
          "2023-09-07T14:08:47.000000000",
          "2023-09-07T14:09:03.000000000",
          "2023-09-07T14:09:19.000000000",
          "2023-09-07T14:09:34.000000000",
          "2023-09-07T14:09:53.000000000",
          "2023-09-07T14:10:08.000000000",
          "2023-09-07T14:10:24.000000000",
          "2023-09-07T14:10:39.000000000",
          "2023-09-07T14:10:59.000000000",
          "2023-09-07T14:11:14.000000000",
          "2023-09-07T14:11:32.000000000",
          "2023-09-07T14:11:49.000000000",
          "2023-09-07T14:12:04.000000000",
          "2023-09-07T14:12:21.000000000",
          "2023-09-07T14:12:36.000000000",
          "2023-09-07T14:13:08.000000000",
          "2023-09-07T14:13:23.000000000",
          "2023-09-07T14:13:39.000000000",
          "2023-09-07T14:13:54.000000000",
          "2023-09-07T14:16:39.000000000",
          "2023-09-07T14:17:32.000000000",
          "2023-09-07T14:17:32.000000000",
          "2023-09-07T14:46:11.000000000",
          "2023-09-07T14:47:06.000000000",
          "2023-09-07T14:47:27.000000000",
          "2023-09-07T14:47:42.000000000",
          "2023-09-07T14:48:03.000000000",
          "2023-09-07T14:48:17.000000000",
          "2023-09-07T14:48:47.000000000",
          "2023-09-07T14:49:01.000000000",
          "2023-09-07T14:49:35.000000000",
          "2023-09-07T14:50:06.000000000",
          "2023-09-07T14:50:26.000000000",
          "2023-09-07T14:50:38.000000000",
          "2023-09-07T14:50:53.000000000",
          "2023-09-07T14:51:27.000000000",
          "2023-09-07T14:51:40.000000000",
          "2023-09-07T14:55:06.000000000",
          "2023-09-07T14:55:06.000000000",
          "2023-09-07T14:55:35.000000000",
          "2023-09-07T14:55:53.000000000",
          "2023-09-07T14:56:08.000000000",
          "2023-09-07T14:56:23.000000000",
          "2023-09-07T14:56:39.000000000",
          "2023-09-07T14:56:56.000000000",
          "2023-09-07T14:57:39.000000000",
          "2023-09-07T14:57:45.000000000",
          "2023-09-07T14:58:45.000000000",
          "2023-09-07T14:59:16.000000000",
          "2023-09-07T14:59:30.000000000",
          "2023-09-07T15:00:54.000000000",
          "2023-09-07T15:01:19.000000000",
          "2023-09-07T15:01:35.000000000",
          "2023-09-07T15:02:23.000000000",
          "2023-09-07T15:03:24.000000000",
          "2023-09-07T15:04:24.000000000",
          "2023-09-07T15:04:45.000000000",
          "2023-09-07T15:05:00.000000000",
          "2023-09-07T15:05:16.000000000",
          "2023-09-07T15:05:39.000000000",
          "2023-09-07T15:05:49.000000000",
          "2023-09-07T15:06:04.000000000",
          "2023-09-07T15:06:21.000000000",
          "2023-09-07T15:06:36.000000000",
          "2023-09-07T15:07:01.000000000",
          "2023-09-07T15:08:25.000000000",
          "2023-09-07T15:08:41.000000000",
          "2023-09-07T15:09:56.000000000",
          "2023-09-07T15:10:47.000000000",
          "2023-09-07T15:16:37.000000000",
          "2023-09-07T15:16:52.000000000",
          "2023-09-07T15:17:09.000000000",
          "2023-09-07T15:17:24.000000000",
          "2023-09-07T15:17:56.000000000",
          "2023-09-07T15:18:11.000000000",
          "2023-09-07T15:18:27.000000000",
          "2023-09-07T15:18:42.000000000",
          "2023-09-07T15:19:04.000000000",
          "2023-09-07T15:19:26.000000000",
          "2023-09-07T15:19:42.000000000",
          "2023-09-07T15:20:09.000000000",
          "2023-09-07T15:20:24.000000000",
          "2023-09-07T15:20:40.000000000",
          "2023-09-07T15:21:07.000000000",
          "2023-09-07T15:21:23.000000000",
          "2023-09-07T15:22:18.000000000",
          "2023-09-07T15:22:33.000000000",
          "2023-09-07T15:23:17.000000000",
          "2023-09-07T15:23:34.000000000",
          "2023-09-07T15:23:56.000000000",
          "2023-09-07T15:25:23.000000000",
          "2023-09-07T15:26:24.000000000",
          "2023-09-07T15:27:24.000000000",
          "2023-09-07T15:27:48.000000000",
          "2023-09-07T15:28:04.000000000",
          "2023-09-07T15:28:30.000000000",
          "2023-09-07T15:29:05.000000000",
          "2023-09-07T15:29:21.000000000",
          "2023-09-07T15:29:36.000000000",
          "2023-09-07T15:30:45.000000000",
          "2023-09-07T15:31:01.000000000",
          "2023-09-07T15:32:02.000000000",
          "2023-09-07T15:33:17.000000000",
          "2023-09-07T15:34:03.000000000",
          "2023-09-07T15:34:25.000000000"
         ],
         "y": [
          24,
          24,
          24,
          24,
          24,
          24,
          24,
          24,
          24,
          24,
          24,
          24,
          24,
          24,
          24,
          24,
          24,
          24,
          24,
          24,
          24,
          24,
          24,
          24,
          24,
          24,
          24,
          24,
          24,
          24,
          24,
          24,
          24,
          24,
          24,
          24,
          0,
          0,
          0,
          0,
          0,
          0,
          0,
          0,
          0,
          0,
          24,
          24,
          24,
          24,
          24,
          24,
          24,
          24,
          24,
          24,
          24,
          24,
          24,
          24,
          24,
          24,
          24,
          24,
          24,
          24,
          24,
          24,
          24,
          24,
          24,
          24,
          24,
          24,
          24,
          24,
          24,
          24,
          24,
          24,
          24,
          24,
          24,
          24,
          24,
          24,
          24,
          24,
          24,
          24,
          24,
          24,
          24,
          24,
          24,
          24,
          24,
          24,
          24,
          24,
          24,
          24,
          24,
          24,
          24,
          24,
          24,
          24,
          24,
          24,
          24,
          24,
          24,
          24,
          24,
          24,
          24,
          24,
          24,
          24,
          24,
          24,
          24,
          24,
          24,
          24,
          24,
          24,
          24,
          24,
          24,
          24,
          24,
          24,
          24,
          24,
          24,
          24,
          24,
          24,
          24,
          24,
          24,
          24,
          24,
          24,
          24,
          24,
          24,
          24,
          24,
          24,
          24,
          24,
          24,
          24,
          24,
          24,
          24,
          24,
          24,
          24,
          24,
          24,
          24,
          24,
          24,
          24,
          24,
          24,
          24,
          24,
          24,
          24,
          24,
          24,
          24,
          24,
          24,
          24,
          24,
          24,
          24,
          24,
          24,
          24,
          24,
          24,
          24,
          24,
          24,
          24,
          24,
          24,
          24,
          24,
          24,
          24,
          24,
          24,
          24,
          24,
          24,
          24,
          24,
          24,
          24,
          24,
          24,
          24,
          24,
          24,
          24,
          24,
          24,
          24,
          24,
          24,
          24,
          24,
          24,
          24,
          24,
          24,
          24,
          24,
          24,
          24,
          24,
          24,
          24,
          24,
          24,
          24,
          24,
          24,
          24,
          24,
          24,
          24,
          24,
          24,
          24,
          24,
          24,
          24,
          24,
          24,
          24,
          24,
          24,
          24,
          24,
          24,
          24,
          24,
          24,
          24,
          24,
          24,
          24,
          24,
          24,
          24,
          24,
          24,
          24,
          24,
          24,
          24,
          24,
          24,
          24,
          24,
          24,
          24,
          24,
          24,
          24,
          24,
          24,
          24,
          24,
          24,
          24,
          24,
          24,
          24,
          24,
          24,
          24,
          24,
          24,
          24,
          24,
          0,
          0,
          0,
          0,
          0,
          0,
          0,
          0,
          0,
          0,
          0,
          0,
          0,
          0,
          0,
          0,
          0,
          0,
          0,
          0,
          0,
          0,
          0,
          0,
          24,
          24,
          24,
          24,
          24,
          24,
          24,
          24,
          24,
          24,
          24,
          24,
          24,
          24,
          24,
          24,
          24,
          24,
          24,
          24,
          24,
          24,
          24,
          24,
          24,
          24,
          24,
          24,
          24,
          24,
          24,
          24,
          24,
          24,
          24,
          24,
          24,
          24,
          24,
          24,
          24,
          24,
          24,
          24,
          24,
          24,
          24,
          24,
          24,
          24,
          24,
          24,
          24,
          24,
          24,
          24,
          24,
          24,
          24,
          24,
          24,
          24,
          24,
          24,
          24,
          24,
          24,
          24,
          24,
          24,
          24,
          24,
          24,
          24,
          24,
          24,
          24,
          24,
          24,
          24,
          24,
          24,
          24,
          24,
          24,
          24,
          24,
          24,
          24,
          24,
          24,
          24,
          24,
          24,
          24,
          24,
          24,
          24,
          24,
          24,
          24,
          24,
          24,
          24,
          24,
          24,
          24,
          24,
          24,
          24,
          24,
          24,
          24,
          24,
          0,
          0,
          0,
          0,
          24,
          24,
          24,
          24,
          24,
          24,
          24,
          24,
          24,
          24,
          24,
          24,
          24,
          24,
          24,
          24,
          24,
          24,
          24,
          24,
          24,
          24,
          24,
          24,
          24,
          24,
          24,
          24,
          24,
          24,
          24,
          24,
          24,
          24,
          24,
          24,
          24,
          24,
          24,
          24,
          24,
          24,
          24,
          24,
          24,
          24,
          24,
          24,
          24,
          24,
          24,
          24,
          24,
          24,
          24,
          24,
          24,
          24,
          24,
          24,
          24,
          24,
          24,
          24,
          24,
          24,
          24,
          24,
          24,
          24,
          24,
          24,
          24,
          24,
          24,
          24,
          24,
          24,
          24,
          24,
          24,
          24,
          24,
          24,
          24,
          0,
          0,
          0,
          0,
          0,
          24,
          24,
          24,
          24,
          24,
          24,
          24,
          24,
          24,
          24,
          24,
          24,
          24,
          24,
          24,
          24,
          24,
          24,
          24,
          24,
          0,
          0,
          0,
          0,
          0,
          24,
          24,
          24,
          24,
          24,
          24,
          24,
          24,
          24,
          24,
          24,
          24,
          24,
          24,
          24,
          24,
          24,
          24,
          24,
          24,
          24,
          24,
          24,
          24,
          24,
          24,
          24,
          24,
          24,
          24,
          24,
          24,
          24,
          24,
          24,
          24,
          24,
          24,
          24,
          24,
          24,
          24,
          24,
          24,
          24,
          24,
          24,
          24,
          24,
          24,
          24,
          24,
          24,
          24,
          24,
          24,
          24,
          24,
          24,
          24,
          24,
          24,
          24,
          24,
          24,
          24,
          24,
          24,
          24,
          24,
          24,
          24,
          24,
          24,
          24,
          24,
          24,
          24,
          24,
          24,
          24,
          24,
          24,
          24,
          24,
          24,
          24,
          24,
          24,
          24,
          24,
          24,
          24,
          24,
          24,
          24,
          24,
          24,
          24,
          24,
          24,
          24,
          24,
          24,
          24,
          24,
          24,
          24,
          24,
          24,
          24,
          24,
          24,
          24,
          24,
          24,
          24,
          24,
          24,
          24,
          24,
          24,
          24,
          24,
          24,
          24,
          24,
          24,
          24,
          24,
          24,
          24,
          24,
          24,
          24,
          24,
          24,
          24,
          24,
          24,
          24,
          24,
          24,
          24,
          24,
          24,
          24,
          24,
          24,
          24,
          24,
          24,
          24,
          24,
          24,
          24,
          24,
          24,
          24,
          24,
          24,
          24,
          24,
          24,
          24,
          24,
          24,
          24,
          24,
          0,
          0,
          0,
          0,
          0,
          0,
          0,
          0,
          0,
          0,
          0,
          0,
          0,
          0,
          0,
          0,
          0,
          0,
          0,
          0,
          0,
          0,
          0,
          0,
          0,
          0,
          0,
          0,
          0,
          0,
          0,
          0,
          0,
          0,
          0,
          0,
          0,
          0,
          0,
          0,
          0,
          0,
          0,
          0,
          0,
          0,
          0,
          0,
          0,
          0,
          0,
          0,
          0,
          0,
          0,
          0,
          0,
          0,
          0,
          0,
          24,
          24,
          24,
          24,
          24,
          24,
          24,
          24,
          24,
          24,
          24,
          24,
          24,
          24,
          24,
          24,
          24,
          24,
          24,
          24,
          24,
          24,
          24,
          24,
          24,
          24,
          24,
          24,
          24,
          24,
          24,
          24,
          24,
          24,
          24,
          24,
          24,
          24,
          24,
          24,
          24,
          24,
          24,
          24,
          24,
          24,
          24,
          24,
          24,
          24,
          24,
          24,
          24,
          24,
          24,
          24,
          24,
          24,
          24,
          24,
          24,
          24,
          24,
          24,
          24,
          24,
          24,
          24,
          24,
          24,
          24,
          24,
          24,
          24,
          24,
          24,
          24,
          24,
          24,
          24,
          24,
          24,
          24,
          24,
          24,
          24,
          24,
          24,
          24,
          24,
          24,
          24,
          24,
          24,
          24,
          24,
          24,
          24,
          24,
          24,
          24,
          24,
          24,
          24,
          24,
          24,
          24,
          24,
          24,
          24,
          24,
          24,
          24,
          24,
          24,
          24,
          24,
          24,
          0,
          0,
          0,
          24,
          24,
          24,
          24,
          24,
          24,
          0,
          0,
          0,
          0,
          24,
          24
         ]
        }
       ],
       "layout": {
        "bargap": 0,
        "barmode": "relative",
        "font": {
         "size": 14
        },
        "height": 400,
        "legend": {
         "title": {
          "text": "Task names"
         },
         "tracegroupgap": 0,
         "x": 0.8,
         "xanchor": "left",
         "y": 0.99,
         "yanchor": "top"
        },
        "margin": {
         "t": 60
        },
        "template": {
         "data": {
          "bar": [
           {
            "error_x": {
             "color": "#2a3f5f"
            },
            "error_y": {
             "color": "#2a3f5f"
            },
            "marker": {
             "line": {
              "color": "#E5ECF6",
              "width": 0.5
             },
             "pattern": {
              "fillmode": "overlay",
              "size": 10,
              "solidity": 0.2
             }
            },
            "type": "bar"
           }
          ],
          "barpolar": [
           {
            "marker": {
             "line": {
              "color": "#E5ECF6",
              "width": 0.5
             },
             "pattern": {
              "fillmode": "overlay",
              "size": 10,
              "solidity": 0.2
             }
            },
            "type": "barpolar"
           }
          ],
          "carpet": [
           {
            "aaxis": {
             "endlinecolor": "#2a3f5f",
             "gridcolor": "white",
             "linecolor": "white",
             "minorgridcolor": "white",
             "startlinecolor": "#2a3f5f"
            },
            "baxis": {
             "endlinecolor": "#2a3f5f",
             "gridcolor": "white",
             "linecolor": "white",
             "minorgridcolor": "white",
             "startlinecolor": "#2a3f5f"
            },
            "type": "carpet"
           }
          ],
          "choropleth": [
           {
            "colorbar": {
             "outlinewidth": 0,
             "ticks": ""
            },
            "type": "choropleth"
           }
          ],
          "contour": [
           {
            "colorbar": {
             "outlinewidth": 0,
             "ticks": ""
            },
            "colorscale": [
             [
              0,
              "#0d0887"
             ],
             [
              0.1111111111111111,
              "#46039f"
             ],
             [
              0.2222222222222222,
              "#7201a8"
             ],
             [
              0.3333333333333333,
              "#9c179e"
             ],
             [
              0.4444444444444444,
              "#bd3786"
             ],
             [
              0.5555555555555556,
              "#d8576b"
             ],
             [
              0.6666666666666666,
              "#ed7953"
             ],
             [
              0.7777777777777778,
              "#fb9f3a"
             ],
             [
              0.8888888888888888,
              "#fdca26"
             ],
             [
              1,
              "#f0f921"
             ]
            ],
            "type": "contour"
           }
          ],
          "contourcarpet": [
           {
            "colorbar": {
             "outlinewidth": 0,
             "ticks": ""
            },
            "type": "contourcarpet"
           }
          ],
          "heatmap": [
           {
            "colorbar": {
             "outlinewidth": 0,
             "ticks": ""
            },
            "colorscale": [
             [
              0,
              "#0d0887"
             ],
             [
              0.1111111111111111,
              "#46039f"
             ],
             [
              0.2222222222222222,
              "#7201a8"
             ],
             [
              0.3333333333333333,
              "#9c179e"
             ],
             [
              0.4444444444444444,
              "#bd3786"
             ],
             [
              0.5555555555555556,
              "#d8576b"
             ],
             [
              0.6666666666666666,
              "#ed7953"
             ],
             [
              0.7777777777777778,
              "#fb9f3a"
             ],
             [
              0.8888888888888888,
              "#fdca26"
             ],
             [
              1,
              "#f0f921"
             ]
            ],
            "type": "heatmap"
           }
          ],
          "heatmapgl": [
           {
            "colorbar": {
             "outlinewidth": 0,
             "ticks": ""
            },
            "colorscale": [
             [
              0,
              "#0d0887"
             ],
             [
              0.1111111111111111,
              "#46039f"
             ],
             [
              0.2222222222222222,
              "#7201a8"
             ],
             [
              0.3333333333333333,
              "#9c179e"
             ],
             [
              0.4444444444444444,
              "#bd3786"
             ],
             [
              0.5555555555555556,
              "#d8576b"
             ],
             [
              0.6666666666666666,
              "#ed7953"
             ],
             [
              0.7777777777777778,
              "#fb9f3a"
             ],
             [
              0.8888888888888888,
              "#fdca26"
             ],
             [
              1,
              "#f0f921"
             ]
            ],
            "type": "heatmapgl"
           }
          ],
          "histogram": [
           {
            "marker": {
             "pattern": {
              "fillmode": "overlay",
              "size": 10,
              "solidity": 0.2
             }
            },
            "type": "histogram"
           }
          ],
          "histogram2d": [
           {
            "colorbar": {
             "outlinewidth": 0,
             "ticks": ""
            },
            "colorscale": [
             [
              0,
              "#0d0887"
             ],
             [
              0.1111111111111111,
              "#46039f"
             ],
             [
              0.2222222222222222,
              "#7201a8"
             ],
             [
              0.3333333333333333,
              "#9c179e"
             ],
             [
              0.4444444444444444,
              "#bd3786"
             ],
             [
              0.5555555555555556,
              "#d8576b"
             ],
             [
              0.6666666666666666,
              "#ed7953"
             ],
             [
              0.7777777777777778,
              "#fb9f3a"
             ],
             [
              0.8888888888888888,
              "#fdca26"
             ],
             [
              1,
              "#f0f921"
             ]
            ],
            "type": "histogram2d"
           }
          ],
          "histogram2dcontour": [
           {
            "colorbar": {
             "outlinewidth": 0,
             "ticks": ""
            },
            "colorscale": [
             [
              0,
              "#0d0887"
             ],
             [
              0.1111111111111111,
              "#46039f"
             ],
             [
              0.2222222222222222,
              "#7201a8"
             ],
             [
              0.3333333333333333,
              "#9c179e"
             ],
             [
              0.4444444444444444,
              "#bd3786"
             ],
             [
              0.5555555555555556,
              "#d8576b"
             ],
             [
              0.6666666666666666,
              "#ed7953"
             ],
             [
              0.7777777777777778,
              "#fb9f3a"
             ],
             [
              0.8888888888888888,
              "#fdca26"
             ],
             [
              1,
              "#f0f921"
             ]
            ],
            "type": "histogram2dcontour"
           }
          ],
          "mesh3d": [
           {
            "colorbar": {
             "outlinewidth": 0,
             "ticks": ""
            },
            "type": "mesh3d"
           }
          ],
          "parcoords": [
           {
            "line": {
             "colorbar": {
              "outlinewidth": 0,
              "ticks": ""
             }
            },
            "type": "parcoords"
           }
          ],
          "pie": [
           {
            "automargin": true,
            "type": "pie"
           }
          ],
          "scatter": [
           {
            "fillpattern": {
             "fillmode": "overlay",
             "size": 10,
             "solidity": 0.2
            },
            "type": "scatter"
           }
          ],
          "scatter3d": [
           {
            "line": {
             "colorbar": {
              "outlinewidth": 0,
              "ticks": ""
             }
            },
            "marker": {
             "colorbar": {
              "outlinewidth": 0,
              "ticks": ""
             }
            },
            "type": "scatter3d"
           }
          ],
          "scattercarpet": [
           {
            "marker": {
             "colorbar": {
              "outlinewidth": 0,
              "ticks": ""
             }
            },
            "type": "scattercarpet"
           }
          ],
          "scattergeo": [
           {
            "marker": {
             "colorbar": {
              "outlinewidth": 0,
              "ticks": ""
             }
            },
            "type": "scattergeo"
           }
          ],
          "scattergl": [
           {
            "marker": {
             "colorbar": {
              "outlinewidth": 0,
              "ticks": ""
             }
            },
            "type": "scattergl"
           }
          ],
          "scattermapbox": [
           {
            "marker": {
             "colorbar": {
              "outlinewidth": 0,
              "ticks": ""
             }
            },
            "type": "scattermapbox"
           }
          ],
          "scatterpolar": [
           {
            "marker": {
             "colorbar": {
              "outlinewidth": 0,
              "ticks": ""
             }
            },
            "type": "scatterpolar"
           }
          ],
          "scatterpolargl": [
           {
            "marker": {
             "colorbar": {
              "outlinewidth": 0,
              "ticks": ""
             }
            },
            "type": "scatterpolargl"
           }
          ],
          "scatterternary": [
           {
            "marker": {
             "colorbar": {
              "outlinewidth": 0,
              "ticks": ""
             }
            },
            "type": "scatterternary"
           }
          ],
          "surface": [
           {
            "colorbar": {
             "outlinewidth": 0,
             "ticks": ""
            },
            "colorscale": [
             [
              0,
              "#0d0887"
             ],
             [
              0.1111111111111111,
              "#46039f"
             ],
             [
              0.2222222222222222,
              "#7201a8"
             ],
             [
              0.3333333333333333,
              "#9c179e"
             ],
             [
              0.4444444444444444,
              "#bd3786"
             ],
             [
              0.5555555555555556,
              "#d8576b"
             ],
             [
              0.6666666666666666,
              "#ed7953"
             ],
             [
              0.7777777777777778,
              "#fb9f3a"
             ],
             [
              0.8888888888888888,
              "#fdca26"
             ],
             [
              1,
              "#f0f921"
             ]
            ],
            "type": "surface"
           }
          ],
          "table": [
           {
            "cells": {
             "fill": {
              "color": "#EBF0F8"
             },
             "line": {
              "color": "white"
             }
            },
            "header": {
             "fill": {
              "color": "#C8D4E3"
             },
             "line": {
              "color": "white"
             }
            },
            "type": "table"
           }
          ]
         },
         "layout": {
          "annotationdefaults": {
           "arrowcolor": "#2a3f5f",
           "arrowhead": 0,
           "arrowwidth": 1
          },
          "autotypenumbers": "strict",
          "coloraxis": {
           "colorbar": {
            "outlinewidth": 0,
            "ticks": ""
           }
          },
          "colorscale": {
           "diverging": [
            [
             0,
             "#8e0152"
            ],
            [
             0.1,
             "#c51b7d"
            ],
            [
             0.2,
             "#de77ae"
            ],
            [
             0.3,
             "#f1b6da"
            ],
            [
             0.4,
             "#fde0ef"
            ],
            [
             0.5,
             "#f7f7f7"
            ],
            [
             0.6,
             "#e6f5d0"
            ],
            [
             0.7,
             "#b8e186"
            ],
            [
             0.8,
             "#7fbc41"
            ],
            [
             0.9,
             "#4d9221"
            ],
            [
             1,
             "#276419"
            ]
           ],
           "sequential": [
            [
             0,
             "#0d0887"
            ],
            [
             0.1111111111111111,
             "#46039f"
            ],
            [
             0.2222222222222222,
             "#7201a8"
            ],
            [
             0.3333333333333333,
             "#9c179e"
            ],
            [
             0.4444444444444444,
             "#bd3786"
            ],
            [
             0.5555555555555556,
             "#d8576b"
            ],
            [
             0.6666666666666666,
             "#ed7953"
            ],
            [
             0.7777777777777778,
             "#fb9f3a"
            ],
            [
             0.8888888888888888,
             "#fdca26"
            ],
            [
             1,
             "#f0f921"
            ]
           ],
           "sequentialminus": [
            [
             0,
             "#0d0887"
            ],
            [
             0.1111111111111111,
             "#46039f"
            ],
            [
             0.2222222222222222,
             "#7201a8"
            ],
            [
             0.3333333333333333,
             "#9c179e"
            ],
            [
             0.4444444444444444,
             "#bd3786"
            ],
            [
             0.5555555555555556,
             "#d8576b"
            ],
            [
             0.6666666666666666,
             "#ed7953"
            ],
            [
             0.7777777777777778,
             "#fb9f3a"
            ],
            [
             0.8888888888888888,
             "#fdca26"
            ],
            [
             1,
             "#f0f921"
            ]
           ]
          },
          "colorway": [
           "#636efa",
           "#EF553B",
           "#00cc96",
           "#ab63fa",
           "#FFA15A",
           "#19d3f3",
           "#FF6692",
           "#B6E880",
           "#FF97FF",
           "#FECB52"
          ],
          "font": {
           "color": "#2a3f5f"
          },
          "geo": {
           "bgcolor": "white",
           "lakecolor": "white",
           "landcolor": "#E5ECF6",
           "showlakes": true,
           "showland": true,
           "subunitcolor": "white"
          },
          "hoverlabel": {
           "align": "left"
          },
          "hovermode": "closest",
          "mapbox": {
           "style": "light"
          },
          "paper_bgcolor": "white",
          "plot_bgcolor": "#E5ECF6",
          "polar": {
           "angularaxis": {
            "gridcolor": "white",
            "linecolor": "white",
            "ticks": ""
           },
           "bgcolor": "#E5ECF6",
           "radialaxis": {
            "gridcolor": "white",
            "linecolor": "white",
            "ticks": ""
           }
          },
          "scene": {
           "xaxis": {
            "backgroundcolor": "#E5ECF6",
            "gridcolor": "white",
            "gridwidth": 2,
            "linecolor": "white",
            "showbackground": true,
            "ticks": "",
            "zerolinecolor": "white"
           },
           "yaxis": {
            "backgroundcolor": "#E5ECF6",
            "gridcolor": "white",
            "gridwidth": 2,
            "linecolor": "white",
            "showbackground": true,
            "ticks": "",
            "zerolinecolor": "white"
           },
           "zaxis": {
            "backgroundcolor": "#E5ECF6",
            "gridcolor": "white",
            "gridwidth": 2,
            "linecolor": "white",
            "showbackground": true,
            "ticks": "",
            "zerolinecolor": "white"
           }
          },
          "shapedefaults": {
           "line": {
            "color": "#2a3f5f"
           }
          },
          "ternary": {
           "aaxis": {
            "gridcolor": "white",
            "linecolor": "white",
            "ticks": ""
           },
           "baxis": {
            "gridcolor": "white",
            "linecolor": "white",
            "ticks": ""
           },
           "bgcolor": "#E5ECF6",
           "caxis": {
            "gridcolor": "white",
            "linecolor": "white",
            "ticks": ""
           }
          },
          "title": {
           "x": 0.05
          },
          "xaxis": {
           "automargin": true,
           "gridcolor": "white",
           "linecolor": "white",
           "ticks": "",
           "title": {
            "standoff": 15
           },
           "zerolinecolor": "white",
           "zerolinewidth": 2
          },
          "yaxis": {
           "automargin": true,
           "gridcolor": "white",
           "linecolor": "white",
           "ticks": "",
           "title": {
            "standoff": 15
           },
           "zerolinecolor": "white",
           "zerolinewidth": 2
          }
         }
        },
        "width": 1050,
        "xaxis": {
         "anchor": "y",
         "domain": [
          0,
          1
         ],
         "range": [
          "2023-09-07 11:57:00",
          "2023-09-07 14:40:00"
         ],
         "showgrid": true,
         "title": {
          "text": "Timestamp"
         }
        },
        "yaxis": {
         "anchor": "x",
         "domain": [
          0,
          1
         ],
         "range": [
          0,
          49
         ],
         "title": {
          "text": "Duration (seconds)"
         }
        }
       }
      }
     },
     "metadata": {},
     "output_type": "display_data"
    }
   ],
   "source": [
    "include_break_bar = 0\n",
    "def plot_bar(date_year,df,df_dist):\n",
    "\n",
    "    if not include_break_bar:\n",
    "        df = df[df['task'] != 0]\n",
    "    else:\n",
    "        df = df\n",
    "\n",
    "    color_discrete = { 'Break': 'navy', 'TEKOX Red Black Cables': 'tomato', 'TEKOX Blue Brown Cables': 'cornflowerblue', 'MFALG Assembly': 'gold',\n",
    "                      'Screws in Boards': 'darkgray', 'Extra activity 1': 'darkorange', 'Extra Activity 2': 'violet', 'Unkown Activity': 'limegreen'}\n",
    "\n",
    "    # Create bars for the first subplot\n",
    "    fig = px.bar(df, x=\"ts\", y=\"sec\",\n",
    "                color=\"task_name\",\n",
    "                labels={\"ts\": \"Timestamp\", \"sec\": \"Duration (seconds)\",'task_name': 'Task names'},\n",
    "                color_discrete_map = color_discrete)\n",
    "\n",
    "\n",
    "    x = np.array(df_dist['ts'])\n",
    "    y = np.array(df_dist['state']*24)\n",
    "\n",
    "\n",
    "    # Get the minimum and maximum values of the y-axis\n",
    "    y_max = df['sec'].max()\n",
    "\n",
    "    # Set the y-axis range from the minimum to the maximum + 1\n",
    "    fig.update_layout(yaxis_range=[0, y_max + 1], xaxis_range = [date_year + ' 11:57:00', date_year + ' 14:40:00'])#y_max + 1])\n",
    "    fig.update_xaxes(showgrid=True)\n",
    "    #fig.update_layout(width=700, height = 300) \n",
    "    fig.update_layout(width=1050, height = 400) \n",
    "\n",
    "    fig.update_traces(width=21000) \n",
    "    fig.update_layout(legend=dict( yanchor=\"top\", y=0.99,xanchor=\"left\",\n",
    "    x=0.80))\n",
    "    fig.update_layout(bargap=0) # gap between bars of adjacent location coordinates.\n",
    "\n",
    "    fig.update_layout(font=dict(size=14))\n",
    "    fig.add_trace(go.Scatter(x=x, y=y, line_shape='hv',line=dict(color='tomato'),name='Presence indicator'))\n",
    "\n",
    "\n",
    "    fig.show()\n",
    "    #file_path = \"images/27-09-Luis.svg\"\n",
    "    #file_path = \"images/31-07-Fernando.svg\"\n",
    "    if date_year == \"2023-\" + \"09\" + \"-\" + \"07\":\n",
    "        #file_path = \"images/07-09-presence.svg\"\n",
    "        #file_path = \"images/31-07-Fernando.pdf\"\n",
    "        file_path = \"images/07-09-presence.pdf\"\n",
    "        if os.path.exists(file_path):\n",
    "            os.remove(file_path)\n",
    "        fig.write_image(file_path)\n",
    "\n",
    "\n",
    "\n",
    "plot_bar(date_year,df1, df_dist)"
   ]
  },
  {
   "cell_type": "code",
   "execution_count": 8,
   "metadata": {},
   "outputs": [
    {
     "name": "stderr",
     "output_type": "stream",
     "text": [
      "c:\\Users\\isacc\\miniconda3\\Lib\\site-packages\\_plotly_utils\\basevalidators.py:105: FutureWarning:\n",
      "\n",
      "The behavior of DatetimeProperties.to_pydatetime is deprecated, in a future version this will return a Series containing python datetime objects instead of an ndarray. To retain the old behavior, call `np.array` on the result\n",
      "\n"
     ]
    },
    {
     "data": {
      "application/vnd.plotly.v1+json": {
       "config": {
        "plotlyServerURL": "https://plot.ly"
       },
       "data": [
        {
         "hovertemplate": "Task names=Extra activity 1<br>Timestamp=%{x}<br>Average Time (seconds)=%{y}<extra></extra>",
         "legendgroup": "Extra activity 1",
         "line": {
          "color": "darkorange",
          "dash": "solid"
         },
         "marker": {
          "symbol": "circle"
         },
         "mode": "lines",
         "name": "Extra activity 1",
         "orientation": "v",
         "showlegend": true,
         "type": "scatter",
         "x": [
          "2023-09-07T09:00:00",
          "2023-09-07T09:05:00",
          "2023-09-07T09:10:00",
          "2023-09-07T09:15:00",
          "2023-09-07T09:20:00",
          "2023-09-07T09:25:00",
          "2023-09-07T09:30:00",
          "2023-09-07T09:35:00",
          "2023-09-07T09:40:00",
          "2023-09-07T09:45:00",
          "2023-09-07T09:50:00",
          "2023-09-07T09:55:00",
          "2023-09-07T10:00:00",
          "2023-09-07T10:05:00",
          "2023-09-07T10:10:00",
          "2023-09-07T10:15:00",
          "2023-09-07T10:20:00",
          "2023-09-07T10:25:00",
          "2023-09-07T10:50:00",
          "2023-09-07T10:55:00",
          "2023-09-07T11:00:00",
          "2023-09-07T11:05:00",
          "2023-09-07T11:10:00",
          "2023-09-07T11:15:00",
          "2023-09-07T11:20:00",
          "2023-09-07T11:25:00",
          "2023-09-07T11:30:00",
          "2023-09-07T11:35:00",
          "2023-09-07T11:40:00",
          "2023-09-07T11:45:00",
          "2023-09-07T11:50:00",
          "2023-09-07T11:55:00",
          "2023-09-07T12:00:00",
          "2023-09-07T12:05:00",
          "2023-09-07T12:10:00",
          "2023-09-07T12:15:00",
          "2023-09-07T12:20:00",
          "2023-09-07T12:25:00",
          "2023-09-07T12:30:00",
          "2023-09-07T12:35:00",
          "2023-09-07T12:40:00",
          "2023-09-07T12:45:00",
          "2023-09-07T12:50:00",
          "2023-09-07T12:55:00",
          "2023-09-07T14:00:00",
          "2023-09-07T14:05:00",
          "2023-09-07T14:10:00",
          "2023-09-07T14:15:00",
          "2023-09-07T14:45:00",
          "2023-09-07T14:50:00",
          "2023-09-07T14:55:00",
          "2023-09-07T15:00:00",
          "2023-09-07T15:05:00",
          "2023-09-07T15:10:00",
          "2023-09-07T15:15:00",
          "2023-09-07T15:20:00"
         ],
         "xaxis": "x",
         "y": [
          24.333333333333332,
          26.2,
          21,
          25.333333333333332,
          26.555555555555557,
          24.25,
          22.625,
          25.11111111111111,
          24,
          24,
          24.5,
          25.90909090909091,
          31,
          25.545454545454547,
          25.545454545454547,
          26.272727272727273,
          25.545454545454547,
          22.2,
          23.666666666666668,
          25,
          24.4,
          23.666666666666668,
          24.625,
          24.6,
          27.5,
          25.2,
          23.444444444444443,
          24.083333333333332,
          27.5,
          23.692307692307693,
          24,
          23.25,
          24.5,
          24.571428571428573,
          18.1,
          21.09090909090909,
          22.714285714285715,
          27,
          25.166666666666668,
          24.1,
          23.583333333333332,
          26.181818181818183,
          22.09090909090909,
          23.25,
          24.5,
          23.53846153846154,
          25,
          27,
          22.4,
          24,
          22.2,
          23.857142857142858,
          23.333333333333332,
          17.5,
          25,
          39
         ],
         "yaxis": "y"
        }
       ],
       "layout": {
        "legend": {
         "title": {
          "text": "Task names"
         },
         "tracegroupgap": 0
        },
        "template": {
         "data": {
          "bar": [
           {
            "error_x": {
             "color": "#2a3f5f"
            },
            "error_y": {
             "color": "#2a3f5f"
            },
            "marker": {
             "line": {
              "color": "#E5ECF6",
              "width": 0.5
             },
             "pattern": {
              "fillmode": "overlay",
              "size": 10,
              "solidity": 0.2
             }
            },
            "type": "bar"
           }
          ],
          "barpolar": [
           {
            "marker": {
             "line": {
              "color": "#E5ECF6",
              "width": 0.5
             },
             "pattern": {
              "fillmode": "overlay",
              "size": 10,
              "solidity": 0.2
             }
            },
            "type": "barpolar"
           }
          ],
          "carpet": [
           {
            "aaxis": {
             "endlinecolor": "#2a3f5f",
             "gridcolor": "white",
             "linecolor": "white",
             "minorgridcolor": "white",
             "startlinecolor": "#2a3f5f"
            },
            "baxis": {
             "endlinecolor": "#2a3f5f",
             "gridcolor": "white",
             "linecolor": "white",
             "minorgridcolor": "white",
             "startlinecolor": "#2a3f5f"
            },
            "type": "carpet"
           }
          ],
          "choropleth": [
           {
            "colorbar": {
             "outlinewidth": 0,
             "ticks": ""
            },
            "type": "choropleth"
           }
          ],
          "contour": [
           {
            "colorbar": {
             "outlinewidth": 0,
             "ticks": ""
            },
            "colorscale": [
             [
              0,
              "#0d0887"
             ],
             [
              0.1111111111111111,
              "#46039f"
             ],
             [
              0.2222222222222222,
              "#7201a8"
             ],
             [
              0.3333333333333333,
              "#9c179e"
             ],
             [
              0.4444444444444444,
              "#bd3786"
             ],
             [
              0.5555555555555556,
              "#d8576b"
             ],
             [
              0.6666666666666666,
              "#ed7953"
             ],
             [
              0.7777777777777778,
              "#fb9f3a"
             ],
             [
              0.8888888888888888,
              "#fdca26"
             ],
             [
              1,
              "#f0f921"
             ]
            ],
            "type": "contour"
           }
          ],
          "contourcarpet": [
           {
            "colorbar": {
             "outlinewidth": 0,
             "ticks": ""
            },
            "type": "contourcarpet"
           }
          ],
          "heatmap": [
           {
            "colorbar": {
             "outlinewidth": 0,
             "ticks": ""
            },
            "colorscale": [
             [
              0,
              "#0d0887"
             ],
             [
              0.1111111111111111,
              "#46039f"
             ],
             [
              0.2222222222222222,
              "#7201a8"
             ],
             [
              0.3333333333333333,
              "#9c179e"
             ],
             [
              0.4444444444444444,
              "#bd3786"
             ],
             [
              0.5555555555555556,
              "#d8576b"
             ],
             [
              0.6666666666666666,
              "#ed7953"
             ],
             [
              0.7777777777777778,
              "#fb9f3a"
             ],
             [
              0.8888888888888888,
              "#fdca26"
             ],
             [
              1,
              "#f0f921"
             ]
            ],
            "type": "heatmap"
           }
          ],
          "heatmapgl": [
           {
            "colorbar": {
             "outlinewidth": 0,
             "ticks": ""
            },
            "colorscale": [
             [
              0,
              "#0d0887"
             ],
             [
              0.1111111111111111,
              "#46039f"
             ],
             [
              0.2222222222222222,
              "#7201a8"
             ],
             [
              0.3333333333333333,
              "#9c179e"
             ],
             [
              0.4444444444444444,
              "#bd3786"
             ],
             [
              0.5555555555555556,
              "#d8576b"
             ],
             [
              0.6666666666666666,
              "#ed7953"
             ],
             [
              0.7777777777777778,
              "#fb9f3a"
             ],
             [
              0.8888888888888888,
              "#fdca26"
             ],
             [
              1,
              "#f0f921"
             ]
            ],
            "type": "heatmapgl"
           }
          ],
          "histogram": [
           {
            "marker": {
             "pattern": {
              "fillmode": "overlay",
              "size": 10,
              "solidity": 0.2
             }
            },
            "type": "histogram"
           }
          ],
          "histogram2d": [
           {
            "colorbar": {
             "outlinewidth": 0,
             "ticks": ""
            },
            "colorscale": [
             [
              0,
              "#0d0887"
             ],
             [
              0.1111111111111111,
              "#46039f"
             ],
             [
              0.2222222222222222,
              "#7201a8"
             ],
             [
              0.3333333333333333,
              "#9c179e"
             ],
             [
              0.4444444444444444,
              "#bd3786"
             ],
             [
              0.5555555555555556,
              "#d8576b"
             ],
             [
              0.6666666666666666,
              "#ed7953"
             ],
             [
              0.7777777777777778,
              "#fb9f3a"
             ],
             [
              0.8888888888888888,
              "#fdca26"
             ],
             [
              1,
              "#f0f921"
             ]
            ],
            "type": "histogram2d"
           }
          ],
          "histogram2dcontour": [
           {
            "colorbar": {
             "outlinewidth": 0,
             "ticks": ""
            },
            "colorscale": [
             [
              0,
              "#0d0887"
             ],
             [
              0.1111111111111111,
              "#46039f"
             ],
             [
              0.2222222222222222,
              "#7201a8"
             ],
             [
              0.3333333333333333,
              "#9c179e"
             ],
             [
              0.4444444444444444,
              "#bd3786"
             ],
             [
              0.5555555555555556,
              "#d8576b"
             ],
             [
              0.6666666666666666,
              "#ed7953"
             ],
             [
              0.7777777777777778,
              "#fb9f3a"
             ],
             [
              0.8888888888888888,
              "#fdca26"
             ],
             [
              1,
              "#f0f921"
             ]
            ],
            "type": "histogram2dcontour"
           }
          ],
          "mesh3d": [
           {
            "colorbar": {
             "outlinewidth": 0,
             "ticks": ""
            },
            "type": "mesh3d"
           }
          ],
          "parcoords": [
           {
            "line": {
             "colorbar": {
              "outlinewidth": 0,
              "ticks": ""
             }
            },
            "type": "parcoords"
           }
          ],
          "pie": [
           {
            "automargin": true,
            "type": "pie"
           }
          ],
          "scatter": [
           {
            "fillpattern": {
             "fillmode": "overlay",
             "size": 10,
             "solidity": 0.2
            },
            "type": "scatter"
           }
          ],
          "scatter3d": [
           {
            "line": {
             "colorbar": {
              "outlinewidth": 0,
              "ticks": ""
             }
            },
            "marker": {
             "colorbar": {
              "outlinewidth": 0,
              "ticks": ""
             }
            },
            "type": "scatter3d"
           }
          ],
          "scattercarpet": [
           {
            "marker": {
             "colorbar": {
              "outlinewidth": 0,
              "ticks": ""
             }
            },
            "type": "scattercarpet"
           }
          ],
          "scattergeo": [
           {
            "marker": {
             "colorbar": {
              "outlinewidth": 0,
              "ticks": ""
             }
            },
            "type": "scattergeo"
           }
          ],
          "scattergl": [
           {
            "marker": {
             "colorbar": {
              "outlinewidth": 0,
              "ticks": ""
             }
            },
            "type": "scattergl"
           }
          ],
          "scattermapbox": [
           {
            "marker": {
             "colorbar": {
              "outlinewidth": 0,
              "ticks": ""
             }
            },
            "type": "scattermapbox"
           }
          ],
          "scatterpolar": [
           {
            "marker": {
             "colorbar": {
              "outlinewidth": 0,
              "ticks": ""
             }
            },
            "type": "scatterpolar"
           }
          ],
          "scatterpolargl": [
           {
            "marker": {
             "colorbar": {
              "outlinewidth": 0,
              "ticks": ""
             }
            },
            "type": "scatterpolargl"
           }
          ],
          "scatterternary": [
           {
            "marker": {
             "colorbar": {
              "outlinewidth": 0,
              "ticks": ""
             }
            },
            "type": "scatterternary"
           }
          ],
          "surface": [
           {
            "colorbar": {
             "outlinewidth": 0,
             "ticks": ""
            },
            "colorscale": [
             [
              0,
              "#0d0887"
             ],
             [
              0.1111111111111111,
              "#46039f"
             ],
             [
              0.2222222222222222,
              "#7201a8"
             ],
             [
              0.3333333333333333,
              "#9c179e"
             ],
             [
              0.4444444444444444,
              "#bd3786"
             ],
             [
              0.5555555555555556,
              "#d8576b"
             ],
             [
              0.6666666666666666,
              "#ed7953"
             ],
             [
              0.7777777777777778,
              "#fb9f3a"
             ],
             [
              0.8888888888888888,
              "#fdca26"
             ],
             [
              1,
              "#f0f921"
             ]
            ],
            "type": "surface"
           }
          ],
          "table": [
           {
            "cells": {
             "fill": {
              "color": "#EBF0F8"
             },
             "line": {
              "color": "white"
             }
            },
            "header": {
             "fill": {
              "color": "#C8D4E3"
             },
             "line": {
              "color": "white"
             }
            },
            "type": "table"
           }
          ]
         },
         "layout": {
          "annotationdefaults": {
           "arrowcolor": "#2a3f5f",
           "arrowhead": 0,
           "arrowwidth": 1
          },
          "autotypenumbers": "strict",
          "coloraxis": {
           "colorbar": {
            "outlinewidth": 0,
            "ticks": ""
           }
          },
          "colorscale": {
           "diverging": [
            [
             0,
             "#8e0152"
            ],
            [
             0.1,
             "#c51b7d"
            ],
            [
             0.2,
             "#de77ae"
            ],
            [
             0.3,
             "#f1b6da"
            ],
            [
             0.4,
             "#fde0ef"
            ],
            [
             0.5,
             "#f7f7f7"
            ],
            [
             0.6,
             "#e6f5d0"
            ],
            [
             0.7,
             "#b8e186"
            ],
            [
             0.8,
             "#7fbc41"
            ],
            [
             0.9,
             "#4d9221"
            ],
            [
             1,
             "#276419"
            ]
           ],
           "sequential": [
            [
             0,
             "#0d0887"
            ],
            [
             0.1111111111111111,
             "#46039f"
            ],
            [
             0.2222222222222222,
             "#7201a8"
            ],
            [
             0.3333333333333333,
             "#9c179e"
            ],
            [
             0.4444444444444444,
             "#bd3786"
            ],
            [
             0.5555555555555556,
             "#d8576b"
            ],
            [
             0.6666666666666666,
             "#ed7953"
            ],
            [
             0.7777777777777778,
             "#fb9f3a"
            ],
            [
             0.8888888888888888,
             "#fdca26"
            ],
            [
             1,
             "#f0f921"
            ]
           ],
           "sequentialminus": [
            [
             0,
             "#0d0887"
            ],
            [
             0.1111111111111111,
             "#46039f"
            ],
            [
             0.2222222222222222,
             "#7201a8"
            ],
            [
             0.3333333333333333,
             "#9c179e"
            ],
            [
             0.4444444444444444,
             "#bd3786"
            ],
            [
             0.5555555555555556,
             "#d8576b"
            ],
            [
             0.6666666666666666,
             "#ed7953"
            ],
            [
             0.7777777777777778,
             "#fb9f3a"
            ],
            [
             0.8888888888888888,
             "#fdca26"
            ],
            [
             1,
             "#f0f921"
            ]
           ]
          },
          "colorway": [
           "#636efa",
           "#EF553B",
           "#00cc96",
           "#ab63fa",
           "#FFA15A",
           "#19d3f3",
           "#FF6692",
           "#B6E880",
           "#FF97FF",
           "#FECB52"
          ],
          "font": {
           "color": "#2a3f5f"
          },
          "geo": {
           "bgcolor": "white",
           "lakecolor": "white",
           "landcolor": "#E5ECF6",
           "showlakes": true,
           "showland": true,
           "subunitcolor": "white"
          },
          "hoverlabel": {
           "align": "left"
          },
          "hovermode": "closest",
          "mapbox": {
           "style": "light"
          },
          "paper_bgcolor": "white",
          "plot_bgcolor": "#E5ECF6",
          "polar": {
           "angularaxis": {
            "gridcolor": "white",
            "linecolor": "white",
            "ticks": ""
           },
           "bgcolor": "#E5ECF6",
           "radialaxis": {
            "gridcolor": "white",
            "linecolor": "white",
            "ticks": ""
           }
          },
          "scene": {
           "xaxis": {
            "backgroundcolor": "#E5ECF6",
            "gridcolor": "white",
            "gridwidth": 2,
            "linecolor": "white",
            "showbackground": true,
            "ticks": "",
            "zerolinecolor": "white"
           },
           "yaxis": {
            "backgroundcolor": "#E5ECF6",
            "gridcolor": "white",
            "gridwidth": 2,
            "linecolor": "white",
            "showbackground": true,
            "ticks": "",
            "zerolinecolor": "white"
           },
           "zaxis": {
            "backgroundcolor": "#E5ECF6",
            "gridcolor": "white",
            "gridwidth": 2,
            "linecolor": "white",
            "showbackground": true,
            "ticks": "",
            "zerolinecolor": "white"
           }
          },
          "shapedefaults": {
           "line": {
            "color": "#2a3f5f"
           }
          },
          "ternary": {
           "aaxis": {
            "gridcolor": "white",
            "linecolor": "white",
            "ticks": ""
           },
           "baxis": {
            "gridcolor": "white",
            "linecolor": "white",
            "ticks": ""
           },
           "bgcolor": "#E5ECF6",
           "caxis": {
            "gridcolor": "white",
            "linecolor": "white",
            "ticks": ""
           }
          },
          "title": {
           "x": 0.05
          },
          "xaxis": {
           "automargin": true,
           "gridcolor": "white",
           "linecolor": "white",
           "ticks": "",
           "title": {
            "standoff": 15
           },
           "zerolinecolor": "white",
           "zerolinewidth": 2
          },
          "yaxis": {
           "automargin": true,
           "gridcolor": "white",
           "linecolor": "white",
           "ticks": "",
           "title": {
            "standoff": 15
           },
           "zerolinecolor": "white",
           "zerolinewidth": 2
          }
         }
        },
        "title": {
         "text": "Average Time per Task in 5-Minute Intervals"
        },
        "xaxis": {
         "anchor": "y",
         "domain": [
          0,
          1
         ],
         "range": [
          "2023-09-07 09:00:00",
          "2023-09-07 18:00:00"
         ],
         "title": {
          "text": "Timestamp"
         }
        },
        "yaxis": {
         "anchor": "x",
         "domain": [
          0,
          1
         ],
         "title": {
          "text": "Average Time (seconds)"
         }
        }
       }
      }
     },
     "metadata": {},
     "output_type": "display_data"
    }
   ],
   "source": [
    "def plot_line(date_year, df):\n",
    "    if not include_break_bar:\n",
    "        df = df[df['task'] != 0]\n",
    "    else:\n",
    "        df = df\n",
    "\n",
    "    color_discrete = {'Break': 'navy', 'TEKOX Red Black Cables': 'tomato', 'TEKOX Blue Brown Cables': 'cornflowerblue',\n",
    "                      'MFALG Assembly': 'gold', 'Screws in Boards': 'darkgray', 'Extra activity 1': 'darkorange',\n",
    "                      'Extra Activity 2': 'violet', 'Unkown Activity': 'limegreen'}\n",
    "\n",
    "\n",
    "    # Group by 'task_name' and 5-minute intervals, and calculate the mean of 'sec'\n",
    "    freq = '5T'\n",
    "    df_avg = df.groupby(['task_name', pd.Grouper(key='ts', freq=freq)])['sec'].mean().reset_index()\n",
    "    df_cumavg = df.groupby(['task_name', pd.Grouper(key='ts', freq=freq)])['sec'].expanding().mean().reset_index()\n",
    "\n",
    "\n",
    "    # Create a scatter plot for the average values\n",
    "    fig = px.line(df_avg, x='ts', y='sec', color='task_name',\n",
    "                    labels={\"ts\": \"Timestamp\", \"sec\": \"Average Time (seconds)\", 'task_name': 'Task names'},\n",
    "                    title=\"Average Time per Task in 5-Minute Intervals\",\n",
    "                    color_discrete_map= color_discrete)\n",
    "    \n",
    "    if date_year == \"2023-07-31\":\n",
    "        fig.update_layout(yaxis_range = [0,45], xaxis_range=[date_year + ' 14:00:00', date_year + ' 16:30:00'])\n",
    "    \n",
    "    elif date_year == \"2023-08-01\":\n",
    "        fig.update_layout(yaxis_range = [0,45],  xaxis_range=[date_year + ' 09:00:00', date_year + ' 10:00:00'])\n",
    "        #fig.update_layout(yaxis_range = [0,150],  xaxis_range=[date_year + ' 16:00:00', date_year + ' 17:45:00'])\n",
    "    \n",
    "    elif date_year == \"2023-08-02\":\n",
    "        fig.update_layout( xaxis_range=[date_year + ' 09:00:00', date_year + ' 18:00:00'])\n",
    "    \n",
    "    elif date_year == \"2023-09-06\":\n",
    "        fig.update_layout( xaxis_range=[date_year + ' 09:00:00', date_year + ' 18:00:00'])\n",
    "    \n",
    "    elif date_year == \"2023-09-07\":\n",
    "        fig.update_layout( xaxis_range=[date_year + ' 09:00:00', date_year + ' 18:00:00'])\n",
    "    \n",
    "    elif date_year == \"2023-09-27\":\n",
    "        fig.update_layout( xaxis_range=[date_year + ' 09:00:00', date_year + ' 18:00:00'])\n",
    "    \n",
    "\n",
    "    fig.show()\n",
    "\n",
    "plot_line(date_year, df1)"
   ]
  },
  {
   "cell_type": "code",
   "execution_count": 8,
   "metadata": {},
   "outputs": [],
   "source": [
    "def discrete_colorscale(bvals, colors):\n",
    "\n",
    "    bvals = sorted(bvals)\n",
    "    step = 1/(len(bvals))\n",
    "    nvals = [round(i*step,2) for i in range(len(bvals)+1)]\n",
    "    \n",
    "    dcolorscale = [] #discrete colorscale\n",
    "    for k in range(len(colors)):\n",
    "        dcolorscale.extend([[nvals[k], colors[k]], [nvals[k+1], colors[k]]])\n",
    "    return dcolorscale\n",
    "\n",
    "def plot_states(date_year,df):\n",
    "    labels_nr = [0,1,2,3]\n",
    "    color_discrete = { 'Break': 'navy', 'TEKOX Red Black Cables': 'tomato', 'TEKOX Blue Brown Cables': 'cornflowerblue', 'MFALG Assembly': 'gold',\n",
    "                      'Screws in Boards': 'darkgray', 'Extra activity 1': 'darkorange', 'Extra Activity 2': 'violet', 'Unkown Activity': 'limegreen'}\n",
    "\n",
    "    colors = ['tomato', 'cornflowerblue', 'gold' , 'darkgray' ]# '#26828E' , '#35B779', '#6ECE58', '#FDE725']\n",
    "\n",
    "    dcolorsc = discrete_colorscale(labels_nr, colors)\n",
    "\n",
    "    step = max(labels_nr)/(len(labels_nr))\n",
    "    print(step)\n",
    "    nvals = [round(i*step,2) for i in range(len(labels_nr)+1)]\n",
    "    print(nvals)\n",
    "    tickvals = [(float(nvals[k])+float(nvals[k+1]))/2 for k in range(len(nvals)-1)] #position with respect to labels_nr where ticktext is displayed\n",
    "    print(tickvals)\n",
    "    ticktext = [f'{labels_nr[k]}' for k in range(0, len(labels_nr))]\n",
    "    print(ticktext)\n",
    "\n",
    "\n",
    "    fig = go.Figure(data=go.Heatmap(\n",
    "            z=df['task'], x=df['ts'], y=df['task'], colorscale=dcolorsc,\n",
    "            colorbar=dict(\n",
    "                title=\"Labels\",\n",
    "                thickness=15,\n",
    "                tickvals=tickvals,\n",
    "                ticktext=ticktext\n",
    "            )\n",
    "    ))\n",
    "    fig.update_layout(xaxis_range = [date_year + ' 09:00:00', date_year + ' 18:00:00'])#y_max + 1])\n",
    "\n",
    "    #fig.update_yaxes(ticktext=labels, tickvals=labels_nr)\n",
    "    \n",
    "    # add some time reference lines to the xaxis\n",
    "    #ticktext = [val.strftime('%Y-%m-%d %H:%M:%S') for val in tickvals]\n",
    "    #tickvals_start = [val - pd.Timedelta(hours=3) for val in tickvals]\n",
    "    #ticktext_start = [val.strftime('|<br>%Y-%m-%d<br>%H:%M:%S') for val in tickvals_start]\n",
    "    #fig.update_xaxes(type=\"date\", tickmode='array', tickvals=tickvals_start, ticktext=ticktext_start)\n",
    "\n",
    "    labels = ['state','screws']\n",
    "\n",
    "    fig.update_yaxes(ticktext=labels, tickvals=labels_nr)\n",
    "    fig.update_xaxes(showgrid=True)\n",
    "\n",
    "\n",
    "    fig.show()\n",
    "\n",
    "#plot_states(date_year,df1)"
   ]
  },
  {
   "cell_type": "markdown",
   "metadata": {},
   "source": [
    "This section will now gather a range of days and present the corresponding graphs\n"
   ]
  },
  {
   "cell_type": "code",
   "execution_count": 9,
   "metadata": {},
   "outputs": [
    {
     "name": "stdout",
     "output_type": "stream",
     "text": [
      "31_07\n",
      "data_fabrica/task_31_07.csv\n",
      "[ 0. nan nan nan 26. nan nan nan]\n",
      "Reference average\n",
      "[580.57142857  12.          12.         144.          40.\n",
      "  60.                  nan          nan]\n",
      "Outliers:\n",
      "Task: 0\n",
      "Average: 580.57\n",
      "Median: 166.0\n",
      "Variance: 1406300.95\n",
      "Standard deviation: 1185.88\n",
      "Count: 7.0\n",
      "total secs: 4064\n",
      "Count per hour: 6\n",
      "\n",
      "Task: 4\n",
      "Average: 27.1\n",
      "Median: 26.0\n",
      "Variance: 28.24\n",
      "Standard deviation: 5.31\n",
      "Count: 449.0\n",
      "total secs: 12168\n",
      "Count per hour: 133\n",
      "\n",
      "Outliers removed: 20\n",
      "Screws in Boards 12168\n",
      "0 days 03:22:48\n"
     ]
    },
    {
     "data": {
      "application/vnd.plotly.v1+json": {
       "config": {
        "plotlyServerURL": "https://plot.ly"
       },
       "data": [
        {
         "customdata": [
          [
           "Screws in Boards"
          ]
         ],
         "domain": {
          "x": [
           0,
           1
          ],
          "y": [
           0,
           1
          ]
         },
         "hovertemplate": "task_name=%{customdata[0]}<br>sec=%{value}<extra></extra>",
         "labels": [
          "Screws in Boards"
         ],
         "legendgroup": "",
         "marker": {
          "colors": [
           "darkgray"
          ]
         },
         "name": "",
         "showlegend": true,
         "type": "pie",
         "values": [
          12168
         ]
        }
       ],
       "layout": {
        "legend": {
         "tracegroupgap": 0
        },
        "margin": {
         "t": 60
        },
        "template": {
         "data": {
          "bar": [
           {
            "error_x": {
             "color": "#2a3f5f"
            },
            "error_y": {
             "color": "#2a3f5f"
            },
            "marker": {
             "line": {
              "color": "#E5ECF6",
              "width": 0.5
             },
             "pattern": {
              "fillmode": "overlay",
              "size": 10,
              "solidity": 0.2
             }
            },
            "type": "bar"
           }
          ],
          "barpolar": [
           {
            "marker": {
             "line": {
              "color": "#E5ECF6",
              "width": 0.5
             },
             "pattern": {
              "fillmode": "overlay",
              "size": 10,
              "solidity": 0.2
             }
            },
            "type": "barpolar"
           }
          ],
          "carpet": [
           {
            "aaxis": {
             "endlinecolor": "#2a3f5f",
             "gridcolor": "white",
             "linecolor": "white",
             "minorgridcolor": "white",
             "startlinecolor": "#2a3f5f"
            },
            "baxis": {
             "endlinecolor": "#2a3f5f",
             "gridcolor": "white",
             "linecolor": "white",
             "minorgridcolor": "white",
             "startlinecolor": "#2a3f5f"
            },
            "type": "carpet"
           }
          ],
          "choropleth": [
           {
            "colorbar": {
             "outlinewidth": 0,
             "ticks": ""
            },
            "type": "choropleth"
           }
          ],
          "contour": [
           {
            "colorbar": {
             "outlinewidth": 0,
             "ticks": ""
            },
            "colorscale": [
             [
              0,
              "#0d0887"
             ],
             [
              0.1111111111111111,
              "#46039f"
             ],
             [
              0.2222222222222222,
              "#7201a8"
             ],
             [
              0.3333333333333333,
              "#9c179e"
             ],
             [
              0.4444444444444444,
              "#bd3786"
             ],
             [
              0.5555555555555556,
              "#d8576b"
             ],
             [
              0.6666666666666666,
              "#ed7953"
             ],
             [
              0.7777777777777778,
              "#fb9f3a"
             ],
             [
              0.8888888888888888,
              "#fdca26"
             ],
             [
              1,
              "#f0f921"
             ]
            ],
            "type": "contour"
           }
          ],
          "contourcarpet": [
           {
            "colorbar": {
             "outlinewidth": 0,
             "ticks": ""
            },
            "type": "contourcarpet"
           }
          ],
          "heatmap": [
           {
            "colorbar": {
             "outlinewidth": 0,
             "ticks": ""
            },
            "colorscale": [
             [
              0,
              "#0d0887"
             ],
             [
              0.1111111111111111,
              "#46039f"
             ],
             [
              0.2222222222222222,
              "#7201a8"
             ],
             [
              0.3333333333333333,
              "#9c179e"
             ],
             [
              0.4444444444444444,
              "#bd3786"
             ],
             [
              0.5555555555555556,
              "#d8576b"
             ],
             [
              0.6666666666666666,
              "#ed7953"
             ],
             [
              0.7777777777777778,
              "#fb9f3a"
             ],
             [
              0.8888888888888888,
              "#fdca26"
             ],
             [
              1,
              "#f0f921"
             ]
            ],
            "type": "heatmap"
           }
          ],
          "heatmapgl": [
           {
            "colorbar": {
             "outlinewidth": 0,
             "ticks": ""
            },
            "colorscale": [
             [
              0,
              "#0d0887"
             ],
             [
              0.1111111111111111,
              "#46039f"
             ],
             [
              0.2222222222222222,
              "#7201a8"
             ],
             [
              0.3333333333333333,
              "#9c179e"
             ],
             [
              0.4444444444444444,
              "#bd3786"
             ],
             [
              0.5555555555555556,
              "#d8576b"
             ],
             [
              0.6666666666666666,
              "#ed7953"
             ],
             [
              0.7777777777777778,
              "#fb9f3a"
             ],
             [
              0.8888888888888888,
              "#fdca26"
             ],
             [
              1,
              "#f0f921"
             ]
            ],
            "type": "heatmapgl"
           }
          ],
          "histogram": [
           {
            "marker": {
             "pattern": {
              "fillmode": "overlay",
              "size": 10,
              "solidity": 0.2
             }
            },
            "type": "histogram"
           }
          ],
          "histogram2d": [
           {
            "colorbar": {
             "outlinewidth": 0,
             "ticks": ""
            },
            "colorscale": [
             [
              0,
              "#0d0887"
             ],
             [
              0.1111111111111111,
              "#46039f"
             ],
             [
              0.2222222222222222,
              "#7201a8"
             ],
             [
              0.3333333333333333,
              "#9c179e"
             ],
             [
              0.4444444444444444,
              "#bd3786"
             ],
             [
              0.5555555555555556,
              "#d8576b"
             ],
             [
              0.6666666666666666,
              "#ed7953"
             ],
             [
              0.7777777777777778,
              "#fb9f3a"
             ],
             [
              0.8888888888888888,
              "#fdca26"
             ],
             [
              1,
              "#f0f921"
             ]
            ],
            "type": "histogram2d"
           }
          ],
          "histogram2dcontour": [
           {
            "colorbar": {
             "outlinewidth": 0,
             "ticks": ""
            },
            "colorscale": [
             [
              0,
              "#0d0887"
             ],
             [
              0.1111111111111111,
              "#46039f"
             ],
             [
              0.2222222222222222,
              "#7201a8"
             ],
             [
              0.3333333333333333,
              "#9c179e"
             ],
             [
              0.4444444444444444,
              "#bd3786"
             ],
             [
              0.5555555555555556,
              "#d8576b"
             ],
             [
              0.6666666666666666,
              "#ed7953"
             ],
             [
              0.7777777777777778,
              "#fb9f3a"
             ],
             [
              0.8888888888888888,
              "#fdca26"
             ],
             [
              1,
              "#f0f921"
             ]
            ],
            "type": "histogram2dcontour"
           }
          ],
          "mesh3d": [
           {
            "colorbar": {
             "outlinewidth": 0,
             "ticks": ""
            },
            "type": "mesh3d"
           }
          ],
          "parcoords": [
           {
            "line": {
             "colorbar": {
              "outlinewidth": 0,
              "ticks": ""
             }
            },
            "type": "parcoords"
           }
          ],
          "pie": [
           {
            "automargin": true,
            "type": "pie"
           }
          ],
          "scatter": [
           {
            "fillpattern": {
             "fillmode": "overlay",
             "size": 10,
             "solidity": 0.2
            },
            "type": "scatter"
           }
          ],
          "scatter3d": [
           {
            "line": {
             "colorbar": {
              "outlinewidth": 0,
              "ticks": ""
             }
            },
            "marker": {
             "colorbar": {
              "outlinewidth": 0,
              "ticks": ""
             }
            },
            "type": "scatter3d"
           }
          ],
          "scattercarpet": [
           {
            "marker": {
             "colorbar": {
              "outlinewidth": 0,
              "ticks": ""
             }
            },
            "type": "scattercarpet"
           }
          ],
          "scattergeo": [
           {
            "marker": {
             "colorbar": {
              "outlinewidth": 0,
              "ticks": ""
             }
            },
            "type": "scattergeo"
           }
          ],
          "scattergl": [
           {
            "marker": {
             "colorbar": {
              "outlinewidth": 0,
              "ticks": ""
             }
            },
            "type": "scattergl"
           }
          ],
          "scattermapbox": [
           {
            "marker": {
             "colorbar": {
              "outlinewidth": 0,
              "ticks": ""
             }
            },
            "type": "scattermapbox"
           }
          ],
          "scatterpolar": [
           {
            "marker": {
             "colorbar": {
              "outlinewidth": 0,
              "ticks": ""
             }
            },
            "type": "scatterpolar"
           }
          ],
          "scatterpolargl": [
           {
            "marker": {
             "colorbar": {
              "outlinewidth": 0,
              "ticks": ""
             }
            },
            "type": "scatterpolargl"
           }
          ],
          "scatterternary": [
           {
            "marker": {
             "colorbar": {
              "outlinewidth": 0,
              "ticks": ""
             }
            },
            "type": "scatterternary"
           }
          ],
          "surface": [
           {
            "colorbar": {
             "outlinewidth": 0,
             "ticks": ""
            },
            "colorscale": [
             [
              0,
              "#0d0887"
             ],
             [
              0.1111111111111111,
              "#46039f"
             ],
             [
              0.2222222222222222,
              "#7201a8"
             ],
             [
              0.3333333333333333,
              "#9c179e"
             ],
             [
              0.4444444444444444,
              "#bd3786"
             ],
             [
              0.5555555555555556,
              "#d8576b"
             ],
             [
              0.6666666666666666,
              "#ed7953"
             ],
             [
              0.7777777777777778,
              "#fb9f3a"
             ],
             [
              0.8888888888888888,
              "#fdca26"
             ],
             [
              1,
              "#f0f921"
             ]
            ],
            "type": "surface"
           }
          ],
          "table": [
           {
            "cells": {
             "fill": {
              "color": "#EBF0F8"
             },
             "line": {
              "color": "white"
             }
            },
            "header": {
             "fill": {
              "color": "#C8D4E3"
             },
             "line": {
              "color": "white"
             }
            },
            "type": "table"
           }
          ]
         },
         "layout": {
          "annotationdefaults": {
           "arrowcolor": "#2a3f5f",
           "arrowhead": 0,
           "arrowwidth": 1
          },
          "autotypenumbers": "strict",
          "coloraxis": {
           "colorbar": {
            "outlinewidth": 0,
            "ticks": ""
           }
          },
          "colorscale": {
           "diverging": [
            [
             0,
             "#8e0152"
            ],
            [
             0.1,
             "#c51b7d"
            ],
            [
             0.2,
             "#de77ae"
            ],
            [
             0.3,
             "#f1b6da"
            ],
            [
             0.4,
             "#fde0ef"
            ],
            [
             0.5,
             "#f7f7f7"
            ],
            [
             0.6,
             "#e6f5d0"
            ],
            [
             0.7,
             "#b8e186"
            ],
            [
             0.8,
             "#7fbc41"
            ],
            [
             0.9,
             "#4d9221"
            ],
            [
             1,
             "#276419"
            ]
           ],
           "sequential": [
            [
             0,
             "#0d0887"
            ],
            [
             0.1111111111111111,
             "#46039f"
            ],
            [
             0.2222222222222222,
             "#7201a8"
            ],
            [
             0.3333333333333333,
             "#9c179e"
            ],
            [
             0.4444444444444444,
             "#bd3786"
            ],
            [
             0.5555555555555556,
             "#d8576b"
            ],
            [
             0.6666666666666666,
             "#ed7953"
            ],
            [
             0.7777777777777778,
             "#fb9f3a"
            ],
            [
             0.8888888888888888,
             "#fdca26"
            ],
            [
             1,
             "#f0f921"
            ]
           ],
           "sequentialminus": [
            [
             0,
             "#0d0887"
            ],
            [
             0.1111111111111111,
             "#46039f"
            ],
            [
             0.2222222222222222,
             "#7201a8"
            ],
            [
             0.3333333333333333,
             "#9c179e"
            ],
            [
             0.4444444444444444,
             "#bd3786"
            ],
            [
             0.5555555555555556,
             "#d8576b"
            ],
            [
             0.6666666666666666,
             "#ed7953"
            ],
            [
             0.7777777777777778,
             "#fb9f3a"
            ],
            [
             0.8888888888888888,
             "#fdca26"
            ],
            [
             1,
             "#f0f921"
            ]
           ]
          },
          "colorway": [
           "#636efa",
           "#EF553B",
           "#00cc96",
           "#ab63fa",
           "#FFA15A",
           "#19d3f3",
           "#FF6692",
           "#B6E880",
           "#FF97FF",
           "#FECB52"
          ],
          "font": {
           "color": "#2a3f5f"
          },
          "geo": {
           "bgcolor": "white",
           "lakecolor": "white",
           "landcolor": "#E5ECF6",
           "showlakes": true,
           "showland": true,
           "subunitcolor": "white"
          },
          "hoverlabel": {
           "align": "left"
          },
          "hovermode": "closest",
          "mapbox": {
           "style": "light"
          },
          "paper_bgcolor": "white",
          "plot_bgcolor": "#E5ECF6",
          "polar": {
           "angularaxis": {
            "gridcolor": "white",
            "linecolor": "white",
            "ticks": ""
           },
           "bgcolor": "#E5ECF6",
           "radialaxis": {
            "gridcolor": "white",
            "linecolor": "white",
            "ticks": ""
           }
          },
          "scene": {
           "xaxis": {
            "backgroundcolor": "#E5ECF6",
            "gridcolor": "white",
            "gridwidth": 2,
            "linecolor": "white",
            "showbackground": true,
            "ticks": "",
            "zerolinecolor": "white"
           },
           "yaxis": {
            "backgroundcolor": "#E5ECF6",
            "gridcolor": "white",
            "gridwidth": 2,
            "linecolor": "white",
            "showbackground": true,
            "ticks": "",
            "zerolinecolor": "white"
           },
           "zaxis": {
            "backgroundcolor": "#E5ECF6",
            "gridcolor": "white",
            "gridwidth": 2,
            "linecolor": "white",
            "showbackground": true,
            "ticks": "",
            "zerolinecolor": "white"
           }
          },
          "shapedefaults": {
           "line": {
            "color": "#2a3f5f"
           }
          },
          "ternary": {
           "aaxis": {
            "gridcolor": "white",
            "linecolor": "white",
            "ticks": ""
           },
           "baxis": {
            "gridcolor": "white",
            "linecolor": "white",
            "ticks": ""
           },
           "bgcolor": "#E5ECF6",
           "caxis": {
            "gridcolor": "white",
            "linecolor": "white",
            "ticks": ""
           }
          },
          "title": {
           "x": 0.05
          },
          "xaxis": {
           "automargin": true,
           "gridcolor": "white",
           "linecolor": "white",
           "ticks": "",
           "title": {
            "standoff": 15
           },
           "zerolinecolor": "white",
           "zerolinewidth": 2
          },
          "yaxis": {
           "automargin": true,
           "gridcolor": "white",
           "linecolor": "white",
           "ticks": "",
           "title": {
            "standoff": 15
           },
           "zerolinecolor": "white",
           "zerolinewidth": 2
          }
         }
        },
        "width": 600
       }
      }
     },
     "metadata": {},
     "output_type": "display_data"
    },
    {
     "name": "stdout",
     "output_type": "stream",
     "text": [
      "Fernando 12168\n",
      "0 days 03:22:48\n"
     ]
    },
    {
     "data": {
      "application/vnd.plotly.v1+json": {
       "config": {
        "plotlyServerURL": "https://plot.ly"
       },
       "data": [
        {
         "customdata": [
          [
           "Fernando"
          ]
         ],
         "domain": {
          "x": [
           0,
           1
          ],
          "y": [
           0,
           1
          ]
         },
         "hovertemplate": "emp_name=%{customdata[0]}<br>sec=%{value}<extra></extra>",
         "labels": [
          "Fernando"
         ],
         "legendgroup": "",
         "marker": {
          "colors": [
           "cornflowerblue"
          ]
         },
         "name": "",
         "showlegend": true,
         "type": "pie",
         "values": [
          12168
         ]
        }
       ],
       "layout": {
        "legend": {
         "tracegroupgap": 0
        },
        "margin": {
         "t": 60
        },
        "template": {
         "data": {
          "bar": [
           {
            "error_x": {
             "color": "#2a3f5f"
            },
            "error_y": {
             "color": "#2a3f5f"
            },
            "marker": {
             "line": {
              "color": "#E5ECF6",
              "width": 0.5
             },
             "pattern": {
              "fillmode": "overlay",
              "size": 10,
              "solidity": 0.2
             }
            },
            "type": "bar"
           }
          ],
          "barpolar": [
           {
            "marker": {
             "line": {
              "color": "#E5ECF6",
              "width": 0.5
             },
             "pattern": {
              "fillmode": "overlay",
              "size": 10,
              "solidity": 0.2
             }
            },
            "type": "barpolar"
           }
          ],
          "carpet": [
           {
            "aaxis": {
             "endlinecolor": "#2a3f5f",
             "gridcolor": "white",
             "linecolor": "white",
             "minorgridcolor": "white",
             "startlinecolor": "#2a3f5f"
            },
            "baxis": {
             "endlinecolor": "#2a3f5f",
             "gridcolor": "white",
             "linecolor": "white",
             "minorgridcolor": "white",
             "startlinecolor": "#2a3f5f"
            },
            "type": "carpet"
           }
          ],
          "choropleth": [
           {
            "colorbar": {
             "outlinewidth": 0,
             "ticks": ""
            },
            "type": "choropleth"
           }
          ],
          "contour": [
           {
            "colorbar": {
             "outlinewidth": 0,
             "ticks": ""
            },
            "colorscale": [
             [
              0,
              "#0d0887"
             ],
             [
              0.1111111111111111,
              "#46039f"
             ],
             [
              0.2222222222222222,
              "#7201a8"
             ],
             [
              0.3333333333333333,
              "#9c179e"
             ],
             [
              0.4444444444444444,
              "#bd3786"
             ],
             [
              0.5555555555555556,
              "#d8576b"
             ],
             [
              0.6666666666666666,
              "#ed7953"
             ],
             [
              0.7777777777777778,
              "#fb9f3a"
             ],
             [
              0.8888888888888888,
              "#fdca26"
             ],
             [
              1,
              "#f0f921"
             ]
            ],
            "type": "contour"
           }
          ],
          "contourcarpet": [
           {
            "colorbar": {
             "outlinewidth": 0,
             "ticks": ""
            },
            "type": "contourcarpet"
           }
          ],
          "heatmap": [
           {
            "colorbar": {
             "outlinewidth": 0,
             "ticks": ""
            },
            "colorscale": [
             [
              0,
              "#0d0887"
             ],
             [
              0.1111111111111111,
              "#46039f"
             ],
             [
              0.2222222222222222,
              "#7201a8"
             ],
             [
              0.3333333333333333,
              "#9c179e"
             ],
             [
              0.4444444444444444,
              "#bd3786"
             ],
             [
              0.5555555555555556,
              "#d8576b"
             ],
             [
              0.6666666666666666,
              "#ed7953"
             ],
             [
              0.7777777777777778,
              "#fb9f3a"
             ],
             [
              0.8888888888888888,
              "#fdca26"
             ],
             [
              1,
              "#f0f921"
             ]
            ],
            "type": "heatmap"
           }
          ],
          "heatmapgl": [
           {
            "colorbar": {
             "outlinewidth": 0,
             "ticks": ""
            },
            "colorscale": [
             [
              0,
              "#0d0887"
             ],
             [
              0.1111111111111111,
              "#46039f"
             ],
             [
              0.2222222222222222,
              "#7201a8"
             ],
             [
              0.3333333333333333,
              "#9c179e"
             ],
             [
              0.4444444444444444,
              "#bd3786"
             ],
             [
              0.5555555555555556,
              "#d8576b"
             ],
             [
              0.6666666666666666,
              "#ed7953"
             ],
             [
              0.7777777777777778,
              "#fb9f3a"
             ],
             [
              0.8888888888888888,
              "#fdca26"
             ],
             [
              1,
              "#f0f921"
             ]
            ],
            "type": "heatmapgl"
           }
          ],
          "histogram": [
           {
            "marker": {
             "pattern": {
              "fillmode": "overlay",
              "size": 10,
              "solidity": 0.2
             }
            },
            "type": "histogram"
           }
          ],
          "histogram2d": [
           {
            "colorbar": {
             "outlinewidth": 0,
             "ticks": ""
            },
            "colorscale": [
             [
              0,
              "#0d0887"
             ],
             [
              0.1111111111111111,
              "#46039f"
             ],
             [
              0.2222222222222222,
              "#7201a8"
             ],
             [
              0.3333333333333333,
              "#9c179e"
             ],
             [
              0.4444444444444444,
              "#bd3786"
             ],
             [
              0.5555555555555556,
              "#d8576b"
             ],
             [
              0.6666666666666666,
              "#ed7953"
             ],
             [
              0.7777777777777778,
              "#fb9f3a"
             ],
             [
              0.8888888888888888,
              "#fdca26"
             ],
             [
              1,
              "#f0f921"
             ]
            ],
            "type": "histogram2d"
           }
          ],
          "histogram2dcontour": [
           {
            "colorbar": {
             "outlinewidth": 0,
             "ticks": ""
            },
            "colorscale": [
             [
              0,
              "#0d0887"
             ],
             [
              0.1111111111111111,
              "#46039f"
             ],
             [
              0.2222222222222222,
              "#7201a8"
             ],
             [
              0.3333333333333333,
              "#9c179e"
             ],
             [
              0.4444444444444444,
              "#bd3786"
             ],
             [
              0.5555555555555556,
              "#d8576b"
             ],
             [
              0.6666666666666666,
              "#ed7953"
             ],
             [
              0.7777777777777778,
              "#fb9f3a"
             ],
             [
              0.8888888888888888,
              "#fdca26"
             ],
             [
              1,
              "#f0f921"
             ]
            ],
            "type": "histogram2dcontour"
           }
          ],
          "mesh3d": [
           {
            "colorbar": {
             "outlinewidth": 0,
             "ticks": ""
            },
            "type": "mesh3d"
           }
          ],
          "parcoords": [
           {
            "line": {
             "colorbar": {
              "outlinewidth": 0,
              "ticks": ""
             }
            },
            "type": "parcoords"
           }
          ],
          "pie": [
           {
            "automargin": true,
            "type": "pie"
           }
          ],
          "scatter": [
           {
            "fillpattern": {
             "fillmode": "overlay",
             "size": 10,
             "solidity": 0.2
            },
            "type": "scatter"
           }
          ],
          "scatter3d": [
           {
            "line": {
             "colorbar": {
              "outlinewidth": 0,
              "ticks": ""
             }
            },
            "marker": {
             "colorbar": {
              "outlinewidth": 0,
              "ticks": ""
             }
            },
            "type": "scatter3d"
           }
          ],
          "scattercarpet": [
           {
            "marker": {
             "colorbar": {
              "outlinewidth": 0,
              "ticks": ""
             }
            },
            "type": "scattercarpet"
           }
          ],
          "scattergeo": [
           {
            "marker": {
             "colorbar": {
              "outlinewidth": 0,
              "ticks": ""
             }
            },
            "type": "scattergeo"
           }
          ],
          "scattergl": [
           {
            "marker": {
             "colorbar": {
              "outlinewidth": 0,
              "ticks": ""
             }
            },
            "type": "scattergl"
           }
          ],
          "scattermapbox": [
           {
            "marker": {
             "colorbar": {
              "outlinewidth": 0,
              "ticks": ""
             }
            },
            "type": "scattermapbox"
           }
          ],
          "scatterpolar": [
           {
            "marker": {
             "colorbar": {
              "outlinewidth": 0,
              "ticks": ""
             }
            },
            "type": "scatterpolar"
           }
          ],
          "scatterpolargl": [
           {
            "marker": {
             "colorbar": {
              "outlinewidth": 0,
              "ticks": ""
             }
            },
            "type": "scatterpolargl"
           }
          ],
          "scatterternary": [
           {
            "marker": {
             "colorbar": {
              "outlinewidth": 0,
              "ticks": ""
             }
            },
            "type": "scatterternary"
           }
          ],
          "surface": [
           {
            "colorbar": {
             "outlinewidth": 0,
             "ticks": ""
            },
            "colorscale": [
             [
              0,
              "#0d0887"
             ],
             [
              0.1111111111111111,
              "#46039f"
             ],
             [
              0.2222222222222222,
              "#7201a8"
             ],
             [
              0.3333333333333333,
              "#9c179e"
             ],
             [
              0.4444444444444444,
              "#bd3786"
             ],
             [
              0.5555555555555556,
              "#d8576b"
             ],
             [
              0.6666666666666666,
              "#ed7953"
             ],
             [
              0.7777777777777778,
              "#fb9f3a"
             ],
             [
              0.8888888888888888,
              "#fdca26"
             ],
             [
              1,
              "#f0f921"
             ]
            ],
            "type": "surface"
           }
          ],
          "table": [
           {
            "cells": {
             "fill": {
              "color": "#EBF0F8"
             },
             "line": {
              "color": "white"
             }
            },
            "header": {
             "fill": {
              "color": "#C8D4E3"
             },
             "line": {
              "color": "white"
             }
            },
            "type": "table"
           }
          ]
         },
         "layout": {
          "annotationdefaults": {
           "arrowcolor": "#2a3f5f",
           "arrowhead": 0,
           "arrowwidth": 1
          },
          "autotypenumbers": "strict",
          "coloraxis": {
           "colorbar": {
            "outlinewidth": 0,
            "ticks": ""
           }
          },
          "colorscale": {
           "diverging": [
            [
             0,
             "#8e0152"
            ],
            [
             0.1,
             "#c51b7d"
            ],
            [
             0.2,
             "#de77ae"
            ],
            [
             0.3,
             "#f1b6da"
            ],
            [
             0.4,
             "#fde0ef"
            ],
            [
             0.5,
             "#f7f7f7"
            ],
            [
             0.6,
             "#e6f5d0"
            ],
            [
             0.7,
             "#b8e186"
            ],
            [
             0.8,
             "#7fbc41"
            ],
            [
             0.9,
             "#4d9221"
            ],
            [
             1,
             "#276419"
            ]
           ],
           "sequential": [
            [
             0,
             "#0d0887"
            ],
            [
             0.1111111111111111,
             "#46039f"
            ],
            [
             0.2222222222222222,
             "#7201a8"
            ],
            [
             0.3333333333333333,
             "#9c179e"
            ],
            [
             0.4444444444444444,
             "#bd3786"
            ],
            [
             0.5555555555555556,
             "#d8576b"
            ],
            [
             0.6666666666666666,
             "#ed7953"
            ],
            [
             0.7777777777777778,
             "#fb9f3a"
            ],
            [
             0.8888888888888888,
             "#fdca26"
            ],
            [
             1,
             "#f0f921"
            ]
           ],
           "sequentialminus": [
            [
             0,
             "#0d0887"
            ],
            [
             0.1111111111111111,
             "#46039f"
            ],
            [
             0.2222222222222222,
             "#7201a8"
            ],
            [
             0.3333333333333333,
             "#9c179e"
            ],
            [
             0.4444444444444444,
             "#bd3786"
            ],
            [
             0.5555555555555556,
             "#d8576b"
            ],
            [
             0.6666666666666666,
             "#ed7953"
            ],
            [
             0.7777777777777778,
             "#fb9f3a"
            ],
            [
             0.8888888888888888,
             "#fdca26"
            ],
            [
             1,
             "#f0f921"
            ]
           ]
          },
          "colorway": [
           "#636efa",
           "#EF553B",
           "#00cc96",
           "#ab63fa",
           "#FFA15A",
           "#19d3f3",
           "#FF6692",
           "#B6E880",
           "#FF97FF",
           "#FECB52"
          ],
          "font": {
           "color": "#2a3f5f"
          },
          "geo": {
           "bgcolor": "white",
           "lakecolor": "white",
           "landcolor": "#E5ECF6",
           "showlakes": true,
           "showland": true,
           "subunitcolor": "white"
          },
          "hoverlabel": {
           "align": "left"
          },
          "hovermode": "closest",
          "mapbox": {
           "style": "light"
          },
          "paper_bgcolor": "white",
          "plot_bgcolor": "#E5ECF6",
          "polar": {
           "angularaxis": {
            "gridcolor": "white",
            "linecolor": "white",
            "ticks": ""
           },
           "bgcolor": "#E5ECF6",
           "radialaxis": {
            "gridcolor": "white",
            "linecolor": "white",
            "ticks": ""
           }
          },
          "scene": {
           "xaxis": {
            "backgroundcolor": "#E5ECF6",
            "gridcolor": "white",
            "gridwidth": 2,
            "linecolor": "white",
            "showbackground": true,
            "ticks": "",
            "zerolinecolor": "white"
           },
           "yaxis": {
            "backgroundcolor": "#E5ECF6",
            "gridcolor": "white",
            "gridwidth": 2,
            "linecolor": "white",
            "showbackground": true,
            "ticks": "",
            "zerolinecolor": "white"
           },
           "zaxis": {
            "backgroundcolor": "#E5ECF6",
            "gridcolor": "white",
            "gridwidth": 2,
            "linecolor": "white",
            "showbackground": true,
            "ticks": "",
            "zerolinecolor": "white"
           }
          },
          "shapedefaults": {
           "line": {
            "color": "#2a3f5f"
           }
          },
          "ternary": {
           "aaxis": {
            "gridcolor": "white",
            "linecolor": "white",
            "ticks": ""
           },
           "baxis": {
            "gridcolor": "white",
            "linecolor": "white",
            "ticks": ""
           },
           "bgcolor": "#E5ECF6",
           "caxis": {
            "gridcolor": "white",
            "linecolor": "white",
            "ticks": ""
           }
          },
          "title": {
           "x": 0.05
          },
          "xaxis": {
           "automargin": true,
           "gridcolor": "white",
           "linecolor": "white",
           "ticks": "",
           "title": {
            "standoff": 15
           },
           "zerolinecolor": "white",
           "zerolinewidth": 2
          },
          "yaxis": {
           "automargin": true,
           "gridcolor": "white",
           "linecolor": "white",
           "ticks": "",
           "title": {
            "standoff": 15
           },
           "zerolinecolor": "white",
           "zerolinewidth": 2
          }
         }
        },
        "width": 550
       }
      }
     },
     "metadata": {},
     "output_type": "display_data"
    },
    {
     "name": "stderr",
     "output_type": "stream",
     "text": [
      "c:\\Users\\isacc\\miniconda3\\Lib\\site-packages\\_plotly_utils\\basevalidators.py:105: FutureWarning:\n",
      "\n",
      "The behavior of DatetimeProperties.to_pydatetime is deprecated, in a future version this will return a Series containing python datetime objects instead of an ndarray. To retain the old behavior, call `np.array` on the result\n",
      "\n"
     ]
    },
    {
     "data": {
      "application/vnd.plotly.v1+json": {
       "config": {
        "plotlyServerURL": "https://plot.ly"
       },
       "data": [
        {
         "alignmentgroup": "True",
         "hovertemplate": "Task names=Screws in Boards<br>Timestamp=%{x}<br>Duration (seconds)=%{y}<extra></extra>",
         "legendgroup": "Screws in Boards",
         "marker": {
          "color": "darkgray",
          "pattern": {
           "shape": ""
          }
         },
         "name": "Screws in Boards",
         "offsetgroup": "Screws in Boards",
         "orientation": "v",
         "showlegend": true,
         "textposition": "auto",
         "type": "bar",
         "width": 20000,
         "x": [
          "2023-07-31T11:55:12",
          "2023-07-31T11:55:40",
          "2023-07-31T11:56:10",
          "2023-07-31T11:56:44",
          "2023-07-31T11:57:16",
          "2023-07-31T11:57:43",
          "2023-07-31T11:59:00",
          "2023-07-31T11:59:29",
          "2023-07-31T11:59:59",
          "2023-07-31T12:00:23",
          "2023-07-31T12:00:49",
          "2023-07-31T12:01:18",
          "2023-07-31T12:01:42",
          "2023-07-31T12:02:07",
          "2023-07-31T12:02:32",
          "2023-07-31T12:03:00",
          "2023-07-31T12:03:25",
          "2023-07-31T12:03:50",
          "2023-07-31T12:04:14",
          "2023-07-31T12:04:38",
          "2023-07-31T12:05:03",
          "2023-07-31T12:05:48",
          "2023-07-31T12:06:16",
          "2023-07-31T12:06:42",
          "2023-07-31T12:07:10",
          "2023-07-31T12:07:32",
          "2023-07-31T12:07:59",
          "2023-07-31T12:08:23",
          "2023-07-31T12:08:45",
          "2023-07-31T12:09:36",
          "2023-07-31T12:10:03",
          "2023-07-31T12:10:34",
          "2023-07-31T12:11:04",
          "2023-07-31T12:11:56",
          "2023-07-31T12:12:26",
          "2023-07-31T12:12:54",
          "2023-07-31T12:13:16",
          "2023-07-31T12:13:40",
          "2023-07-31T12:14:09",
          "2023-07-31T12:14:31",
          "2023-07-31T12:14:58",
          "2023-07-31T12:15:24",
          "2023-07-31T12:15:53",
          "2023-07-31T12:16:17",
          "2023-07-31T12:16:43",
          "2023-07-31T12:17:08",
          "2023-07-31T12:17:52",
          "2023-07-31T12:18:36",
          "2023-07-31T12:19:06",
          "2023-07-31T12:19:32",
          "2023-07-31T12:19:56",
          "2023-07-31T12:20:20",
          "2023-07-31T12:20:43",
          "2023-07-31T12:21:13",
          "2023-07-31T12:21:45",
          "2023-07-31T12:22:11",
          "2023-07-31T12:22:40",
          "2023-07-31T12:23:09",
          "2023-07-31T12:23:33",
          "2023-07-31T12:23:59",
          "2023-07-31T12:24:26",
          "2023-07-31T12:24:49",
          "2023-07-31T12:27:29",
          "2023-07-31T12:27:53",
          "2023-07-31T12:28:16",
          "2023-07-31T12:28:42",
          "2023-07-31T12:29:13",
          "2023-07-31T12:29:46",
          "2023-07-31T12:30:12",
          "2023-07-31T12:31:05",
          "2023-07-31T12:31:35",
          "2023-07-31T12:32:15",
          "2023-07-31T12:32:42",
          "2023-07-31T12:33:04",
          "2023-07-31T12:33:47",
          "2023-07-31T12:34:15",
          "2023-07-31T12:34:42",
          "2023-07-31T12:35:10",
          "2023-07-31T12:35:39",
          "2023-07-31T12:37:06",
          "2023-07-31T12:37:36",
          "2023-07-31T12:38:09",
          "2023-07-31T12:38:34",
          "2023-07-31T12:38:59",
          "2023-07-31T12:49:24",
          "2023-07-31T12:50:00",
          "2023-07-31T12:50:26",
          "2023-07-31T12:50:50",
          "2023-07-31T12:51:20",
          "2023-07-31T12:51:49",
          "2023-07-31T12:52:16",
          "2023-07-31T12:52:41",
          "2023-07-31T12:53:05",
          "2023-07-31T12:53:27",
          "2023-07-31T12:54:51",
          "2023-07-31T12:55:16",
          "2023-07-31T12:57:08",
          "2023-07-31T12:57:46",
          "2023-07-31T12:58:11",
          "2023-07-31T12:58:39",
          "2023-07-31T14:00:52",
          "2023-07-31T14:01:28",
          "2023-07-31T14:01:53",
          "2023-07-31T14:02:19",
          "2023-07-31T14:02:50",
          "2023-07-31T14:03:11",
          "2023-07-31T14:03:43",
          "2023-07-31T14:04:07",
          "2023-07-31T14:04:37",
          "2023-07-31T14:05:02",
          "2023-07-31T14:05:40",
          "2023-07-31T14:06:04",
          "2023-07-31T14:06:34",
          "2023-07-31T14:07:05",
          "2023-07-31T14:07:38",
          "2023-07-31T14:08:07",
          "2023-07-31T14:08:34",
          "2023-07-31T14:08:58",
          "2023-07-31T14:09:23",
          "2023-07-31T14:09:53",
          "2023-07-31T14:10:45",
          "2023-07-31T14:11:09",
          "2023-07-31T14:11:34",
          "2023-07-31T14:12:02",
          "2023-07-31T14:12:35",
          "2023-07-31T14:13:03",
          "2023-07-31T14:13:35",
          "2023-07-31T14:14:00",
          "2023-07-31T14:14:27",
          "2023-07-31T14:15:04",
          "2023-07-31T14:15:27",
          "2023-07-31T14:16:07",
          "2023-07-31T14:16:33",
          "2023-07-31T14:16:55",
          "2023-07-31T14:17:23",
          "2023-07-31T14:17:49",
          "2023-07-31T14:18:29",
          "2023-07-31T14:19:01",
          "2023-07-31T14:19:25",
          "2023-07-31T14:19:53",
          "2023-07-31T14:20:15",
          "2023-07-31T14:20:42",
          "2023-07-31T14:21:08",
          "2023-07-31T14:21:39",
          "2023-07-31T14:22:11",
          "2023-07-31T14:22:38",
          "2023-07-31T14:23:11",
          "2023-07-31T14:23:36",
          "2023-07-31T14:23:58",
          "2023-07-31T14:24:28",
          "2023-07-31T14:24:54",
          "2023-07-31T14:25:17",
          "2023-07-31T14:25:40",
          "2023-07-31T14:26:04",
          "2023-07-31T14:26:32",
          "2023-07-31T14:27:00",
          "2023-07-31T14:27:24",
          "2023-07-31T14:27:51",
          "2023-07-31T14:28:26",
          "2023-07-31T14:29:19",
          "2023-07-31T14:29:46",
          "2023-07-31T14:30:10",
          "2023-07-31T14:30:38",
          "2023-07-31T14:31:09",
          "2023-07-31T14:31:38",
          "2023-07-31T14:32:04",
          "2023-07-31T14:32:31",
          "2023-07-31T14:33:01",
          "2023-07-31T14:33:28",
          "2023-07-31T14:33:51",
          "2023-07-31T14:45:25",
          "2023-07-31T14:46:02",
          "2023-07-31T14:46:27",
          "2023-07-31T14:46:51",
          "2023-07-31T14:47:13",
          "2023-07-31T14:47:34",
          "2023-07-31T14:47:55",
          "2023-07-31T14:48:20",
          "2023-07-31T14:48:42",
          "2023-07-31T14:49:04",
          "2023-07-31T14:49:26",
          "2023-07-31T14:49:56",
          "2023-07-31T14:50:21",
          "2023-07-31T14:50:44",
          "2023-07-31T14:51:08",
          "2023-07-31T14:51:37",
          "2023-07-31T14:52:03",
          "2023-07-31T14:52:26",
          "2023-07-31T14:53:00",
          "2023-07-31T14:53:25",
          "2023-07-31T14:53:55",
          "2023-07-31T14:54:21",
          "2023-07-31T14:54:50",
          "2023-07-31T14:55:14",
          "2023-07-31T14:55:39",
          "2023-07-31T14:56:19",
          "2023-07-31T14:56:49",
          "2023-07-31T14:57:10",
          "2023-07-31T14:57:38",
          "2023-07-31T14:58:04",
          "2023-07-31T14:58:30",
          "2023-07-31T14:58:58",
          "2023-07-31T14:59:25",
          "2023-07-31T14:59:46",
          "2023-07-31T15:00:15",
          "2023-07-31T15:00:43",
          "2023-07-31T15:01:04",
          "2023-07-31T15:01:33",
          "2023-07-31T15:01:59",
          "2023-07-31T15:02:23",
          "2023-07-31T15:03:39",
          "2023-07-31T15:04:10",
          "2023-07-31T15:04:39",
          "2023-07-31T15:05:04",
          "2023-07-31T15:05:34",
          "2023-07-31T15:06:03",
          "2023-07-31T15:06:34",
          "2023-07-31T15:07:11",
          "2023-07-31T15:07:36",
          "2023-07-31T15:08:04",
          "2023-07-31T15:08:29",
          "2023-07-31T15:08:55",
          "2023-07-31T15:09:23",
          "2023-07-31T15:09:46",
          "2023-07-31T15:10:13",
          "2023-07-31T15:10:33",
          "2023-07-31T15:11:09",
          "2023-07-31T15:11:34",
          "2023-07-31T15:12:00",
          "2023-07-31T15:12:28",
          "2023-07-31T15:12:57",
          "2023-07-31T15:13:23",
          "2023-07-31T15:13:47",
          "2023-07-31T15:14:13",
          "2023-07-31T15:14:38",
          "2023-07-31T15:15:00",
          "2023-07-31T15:15:25",
          "2023-07-31T15:15:49",
          "2023-07-31T15:16:18",
          "2023-07-31T15:16:52",
          "2023-07-31T15:17:21",
          "2023-07-31T15:17:47",
          "2023-07-31T15:18:09",
          "2023-07-31T15:18:30",
          "2023-07-31T15:18:59",
          "2023-07-31T15:19:32",
          "2023-07-31T15:20:16",
          "2023-07-31T15:20:48",
          "2023-07-31T15:21:12",
          "2023-07-31T15:21:34",
          "2023-07-31T15:22:04",
          "2023-07-31T15:22:28",
          "2023-07-31T15:22:50",
          "2023-07-31T15:23:12",
          "2023-07-31T15:23:32",
          "2023-07-31T15:23:58",
          "2023-07-31T15:24:25",
          "2023-07-31T15:24:48",
          "2023-07-31T15:31:41",
          "2023-07-31T15:32:19",
          "2023-07-31T15:32:49",
          "2023-07-31T15:33:13",
          "2023-07-31T15:33:42",
          "2023-07-31T15:34:10",
          "2023-07-31T15:45:16",
          "2023-07-31T15:45:45",
          "2023-07-31T15:46:15",
          "2023-07-31T15:46:36",
          "2023-07-31T15:47:00",
          "2023-07-31T15:47:32",
          "2023-07-31T15:48:03",
          "2023-07-31T15:48:27",
          "2023-07-31T15:48:49",
          "2023-07-31T15:49:16",
          "2023-07-31T15:49:41",
          "2023-07-31T15:50:07",
          "2023-07-31T15:50:36",
          "2023-07-31T15:51:00",
          "2023-07-31T15:51:27",
          "2023-07-31T15:51:51",
          "2023-07-31T15:52:20",
          "2023-07-31T15:52:47",
          "2023-07-31T15:53:12",
          "2023-07-31T15:53:36",
          "2023-07-31T15:54:05",
          "2023-07-31T15:54:54",
          "2023-07-31T15:55:18",
          "2023-07-31T15:55:54",
          "2023-07-31T15:56:19",
          "2023-07-31T15:56:48",
          "2023-07-31T15:58:28",
          "2023-07-31T15:59:01",
          "2023-07-31T15:59:37",
          "2023-07-31T16:00:00",
          "2023-07-31T16:00:26",
          "2023-07-31T16:01:01",
          "2023-07-31T16:01:26",
          "2023-07-31T16:01:55",
          "2023-07-31T16:02:20",
          "2023-07-31T16:02:47",
          "2023-07-31T16:03:13",
          "2023-07-31T16:03:37",
          "2023-07-31T16:04:01",
          "2023-07-31T16:04:39",
          "2023-07-31T16:05:15",
          "2023-07-31T16:05:47",
          "2023-07-31T16:06:14",
          "2023-07-31T16:06:41",
          "2023-07-31T16:07:05",
          "2023-07-31T16:07:28",
          "2023-07-31T16:07:53",
          "2023-07-31T16:08:34",
          "2023-07-31T16:09:06",
          "2023-07-31T16:09:32",
          "2023-07-31T16:09:57",
          "2023-07-31T16:10:24",
          "2023-07-31T16:10:47",
          "2023-07-31T16:11:10",
          "2023-07-31T16:11:40",
          "2023-07-31T16:12:05",
          "2023-07-31T16:12:40",
          "2023-07-31T16:13:06",
          "2023-07-31T16:13:41",
          "2023-07-31T16:14:05",
          "2023-07-31T16:14:35",
          "2023-07-31T16:14:56",
          "2023-07-31T16:15:38",
          "2023-07-31T16:16:02",
          "2023-07-31T16:16:22",
          "2023-07-31T16:16:46",
          "2023-07-31T16:17:23",
          "2023-07-31T16:17:49",
          "2023-07-31T16:18:22",
          "2023-07-31T16:18:50",
          "2023-07-31T16:19:28",
          "2023-07-31T16:19:57",
          "2023-07-31T16:20:18",
          "2023-07-31T16:20:44",
          "2023-07-31T16:21:07",
          "2023-07-31T16:21:30",
          "2023-07-31T16:21:54",
          "2023-07-31T16:22:16",
          "2023-07-31T16:22:48",
          "2023-07-31T16:23:14",
          "2023-07-31T16:23:44",
          "2023-07-31T16:24:12",
          "2023-07-31T16:24:45",
          "2023-07-31T16:25:09",
          "2023-07-31T16:25:34",
          "2023-07-31T16:26:01",
          "2023-07-31T16:26:23",
          "2023-07-31T16:26:45",
          "2023-07-31T16:27:09",
          "2023-07-31T16:27:31",
          "2023-07-31T16:27:59",
          "2023-07-31T16:28:23",
          "2023-07-31T16:28:44",
          "2023-07-31T16:58:16",
          "2023-07-31T16:58:49",
          "2023-07-31T16:59:16",
          "2023-07-31T16:59:38",
          "2023-07-31T17:00:11",
          "2023-07-31T17:00:36",
          "2023-07-31T17:01:01",
          "2023-07-31T17:01:30",
          "2023-07-31T17:01:58",
          "2023-07-31T17:02:26",
          "2023-07-31T17:05:19",
          "2023-07-31T17:05:44",
          "2023-07-31T17:06:19",
          "2023-07-31T17:06:48",
          "2023-07-31T17:07:14",
          "2023-07-31T17:07:40",
          "2023-07-31T17:08:09",
          "2023-07-31T17:08:32",
          "2023-07-31T17:08:56",
          "2023-07-31T17:09:21",
          "2023-07-31T17:09:54",
          "2023-07-31T17:10:33",
          "2023-07-31T17:10:59",
          "2023-07-31T17:11:23",
          "2023-07-31T17:11:59",
          "2023-07-31T17:12:28",
          "2023-07-31T17:13:06",
          "2023-07-31T17:13:29",
          "2023-07-31T17:13:54",
          "2023-07-31T17:14:21",
          "2023-07-31T17:14:43",
          "2023-07-31T17:15:09",
          "2023-07-31T17:15:32",
          "2023-07-31T17:15:57",
          "2023-07-31T17:16:23",
          "2023-07-31T17:18:36",
          "2023-07-31T17:19:11",
          "2023-07-31T17:19:34",
          "2023-07-31T17:20:00",
          "2023-07-31T17:25:34",
          "2023-07-31T17:26:02",
          "2023-07-31T17:26:29",
          "2023-07-31T17:27:01",
          "2023-07-31T17:27:26",
          "2023-07-31T17:27:51",
          "2023-07-31T17:28:59",
          "2023-07-31T17:29:26",
          "2023-07-31T17:29:48",
          "2023-07-31T17:30:18",
          "2023-07-31T17:30:46",
          "2023-07-31T17:31:12",
          "2023-07-31T17:31:52",
          "2023-07-31T17:32:15",
          "2023-07-31T17:32:47",
          "2023-07-31T17:33:19",
          "2023-07-31T17:33:43",
          "2023-07-31T17:34:13",
          "2023-07-31T17:34:43",
          "2023-07-31T17:35:04",
          "2023-07-31T17:35:30",
          "2023-07-31T17:35:56",
          "2023-07-31T17:36:25",
          "2023-07-31T17:36:48",
          "2023-07-31T17:37:11",
          "2023-07-31T17:37:37",
          "2023-07-31T17:38:07",
          "2023-07-31T17:38:31",
          "2023-07-31T17:38:56",
          "2023-07-31T17:39:17",
          "2023-07-31T17:39:41",
          "2023-07-31T17:40:12",
          "2023-07-31T17:40:39",
          "2023-07-31T17:41:02",
          "2023-07-31T17:41:27",
          "2023-07-31T17:42:03",
          "2023-07-31T17:42:25",
          "2023-07-31T17:42:49",
          "2023-07-31T17:43:11",
          "2023-07-31T17:43:40",
          "2023-07-31T17:44:11",
          "2023-07-31T17:44:38",
          "2023-07-31T17:45:01",
          "2023-07-31T17:45:28",
          "2023-07-31T17:45:59",
          "2023-07-31T17:46:30",
          "2023-07-31T17:46:57",
          "2023-07-31T17:47:26",
          "2023-07-31T17:47:57",
          "2023-07-31T17:48:25",
          "2023-07-31T17:48:54",
          "2023-07-31T17:49:17",
          "2023-07-31T17:49:51"
         ],
         "xaxis": "x",
         "y": [
          29,
          27,
          29,
          34,
          30,
          27,
          22,
          28,
          29,
          23,
          26,
          28,
          23,
          25,
          24,
          27,
          24,
          25,
          23,
          23,
          25,
          44,
          27,
          25,
          27,
          22,
          26,
          23,
          21,
          50,
          27,
          30,
          29,
          50,
          30,
          27,
          21,
          24,
          28,
          21,
          26,
          26,
          28,
          23,
          26,
          24,
          43,
          43,
          29,
          26,
          23,
          23,
          23,
          29,
          31,
          26,
          28,
          28,
          24,
          25,
          26,
          22,
          27,
          22,
          23,
          26,
          30,
          32,
          25,
          52,
          30,
          38,
          26,
          22,
          42,
          27,
          26,
          27,
          29,
          26,
          29,
          32,
          24,
          25,
          23,
          35,
          25,
          23,
          29,
          29,
          26,
          25,
          23,
          30,
          25,
          24,
          31,
          37,
          25,
          26,
          39,
          35,
          24,
          27,
          29,
          21,
          31,
          23,
          29,
          25,
          37,
          24,
          28,
          31,
          33,
          27,
          27,
          24,
          24,
          29,
          50,
          24,
          24,
          28,
          32,
          27,
          31,
          24,
          27,
          36,
          28,
          39,
          26,
          21,
          27,
          25,
          40,
          31,
          23,
          28,
          21,
          26,
          25,
          30,
          31,
          27,
          32,
          25,
          21,
          29,
          25,
          23,
          22,
          24,
          27,
          28,
          22,
          27,
          34,
          51,
          26,
          25,
          26,
          30,
          29,
          29,
          27,
          29,
          26,
          23,
          31,
          36,
          24,
          24,
          21,
          21,
          20,
          24,
          22,
          21,
          21,
          29,
          25,
          23,
          22,
          29,
          25,
          23,
          32,
          25,
          29,
          26,
          28,
          23,
          24,
          39,
          29,
          27,
          28,
          25,
          25,
          28,
          26,
          21,
          28,
          27,
          20,
          29,
          25,
          23,
          13,
          30,
          28,
          24,
          30,
          28,
          30,
          36,
          25,
          28,
          24,
          25,
          27,
          22,
          27,
          20,
          35,
          24,
          26,
          27,
          28,
          26,
          23,
          25,
          24,
          22,
          25,
          23,
          28,
          33,
          28,
          26,
          21,
          20,
          28,
          33,
          43,
          30,
          24,
          22,
          29,
          22,
          22,
          22,
          19,
          25,
          27,
          22,
          36,
          37,
          29,
          24,
          28,
          27,
          26,
          28,
          31,
          20,
          23,
          31,
          30,
          24,
          22,
          25,
          25,
          25,
          29,
          23,
          26,
          23,
          29,
          26,
          24,
          24,
          28,
          48,
          22,
          36,
          24,
          28,
          29,
          32,
          35,
          23,
          25,
          34,
          25,
          28,
          24,
          27,
          25,
          22,
          24,
          37,
          36,
          30,
          27,
          26,
          24,
          21,
          25,
          40,
          31,
          26,
          23,
          27,
          23,
          22,
          28,
          25,
          34,
          26,
          33,
          24,
          29,
          21,
          41,
          22,
          20,
          24,
          35,
          26,
          32,
          27,
          37,
          28,
          22,
          25,
          22,
          22,
          24,
          21,
          31,
          26,
          29,
          27,
          32,
          24,
          24,
          26,
          22,
          21,
          23,
          22,
          28,
          22,
          20,
          37,
          32,
          27,
          20,
          33,
          25,
          23,
          29,
          27,
          27,
          14,
          24,
          34,
          28,
          26,
          25,
          28,
          23,
          23,
          25,
          31,
          38,
          26,
          23,
          36,
          28,
          36,
          23,
          24,
          27,
          21,
          26,
          22,
          25,
          25,
          29,
          34,
          22,
          26,
          29,
          28,
          26,
          31,
          25,
          23,
          19,
          27,
          22,
          29,
          27,
          25,
          40,
          22,
          31,
          32,
          23,
          29,
          29,
          21,
          25,
          26,
          28,
          23,
          22,
          26,
          29,
          23,
          25,
          20,
          23,
          31,
          25,
          23,
          25,
          35,
          21,
          23,
          22,
          28,
          30,
          26,
          23,
          26,
          31,
          30,
          26,
          28,
          30,
          28,
          28,
          23,
          33
         ],
         "yaxis": "y"
        }
       ],
       "layout": {
        "bargap": 0,
        "barmode": "relative",
        "font": {
         "size": 10
        },
        "height": 300,
        "legend": {
         "title": {
          "text": "Task names"
         },
         "tracegroupgap": 0,
         "x": 0.66,
         "xanchor": "left",
         "y": 0.99,
         "yanchor": "top"
        },
        "margin": {
         "t": 60
        },
        "template": {
         "data": {
          "bar": [
           {
            "error_x": {
             "color": "#2a3f5f"
            },
            "error_y": {
             "color": "#2a3f5f"
            },
            "marker": {
             "line": {
              "color": "#E5ECF6",
              "width": 0.5
             },
             "pattern": {
              "fillmode": "overlay",
              "size": 10,
              "solidity": 0.2
             }
            },
            "type": "bar"
           }
          ],
          "barpolar": [
           {
            "marker": {
             "line": {
              "color": "#E5ECF6",
              "width": 0.5
             },
             "pattern": {
              "fillmode": "overlay",
              "size": 10,
              "solidity": 0.2
             }
            },
            "type": "barpolar"
           }
          ],
          "carpet": [
           {
            "aaxis": {
             "endlinecolor": "#2a3f5f",
             "gridcolor": "white",
             "linecolor": "white",
             "minorgridcolor": "white",
             "startlinecolor": "#2a3f5f"
            },
            "baxis": {
             "endlinecolor": "#2a3f5f",
             "gridcolor": "white",
             "linecolor": "white",
             "minorgridcolor": "white",
             "startlinecolor": "#2a3f5f"
            },
            "type": "carpet"
           }
          ],
          "choropleth": [
           {
            "colorbar": {
             "outlinewidth": 0,
             "ticks": ""
            },
            "type": "choropleth"
           }
          ],
          "contour": [
           {
            "colorbar": {
             "outlinewidth": 0,
             "ticks": ""
            },
            "colorscale": [
             [
              0,
              "#0d0887"
             ],
             [
              0.1111111111111111,
              "#46039f"
             ],
             [
              0.2222222222222222,
              "#7201a8"
             ],
             [
              0.3333333333333333,
              "#9c179e"
             ],
             [
              0.4444444444444444,
              "#bd3786"
             ],
             [
              0.5555555555555556,
              "#d8576b"
             ],
             [
              0.6666666666666666,
              "#ed7953"
             ],
             [
              0.7777777777777778,
              "#fb9f3a"
             ],
             [
              0.8888888888888888,
              "#fdca26"
             ],
             [
              1,
              "#f0f921"
             ]
            ],
            "type": "contour"
           }
          ],
          "contourcarpet": [
           {
            "colorbar": {
             "outlinewidth": 0,
             "ticks": ""
            },
            "type": "contourcarpet"
           }
          ],
          "heatmap": [
           {
            "colorbar": {
             "outlinewidth": 0,
             "ticks": ""
            },
            "colorscale": [
             [
              0,
              "#0d0887"
             ],
             [
              0.1111111111111111,
              "#46039f"
             ],
             [
              0.2222222222222222,
              "#7201a8"
             ],
             [
              0.3333333333333333,
              "#9c179e"
             ],
             [
              0.4444444444444444,
              "#bd3786"
             ],
             [
              0.5555555555555556,
              "#d8576b"
             ],
             [
              0.6666666666666666,
              "#ed7953"
             ],
             [
              0.7777777777777778,
              "#fb9f3a"
             ],
             [
              0.8888888888888888,
              "#fdca26"
             ],
             [
              1,
              "#f0f921"
             ]
            ],
            "type": "heatmap"
           }
          ],
          "heatmapgl": [
           {
            "colorbar": {
             "outlinewidth": 0,
             "ticks": ""
            },
            "colorscale": [
             [
              0,
              "#0d0887"
             ],
             [
              0.1111111111111111,
              "#46039f"
             ],
             [
              0.2222222222222222,
              "#7201a8"
             ],
             [
              0.3333333333333333,
              "#9c179e"
             ],
             [
              0.4444444444444444,
              "#bd3786"
             ],
             [
              0.5555555555555556,
              "#d8576b"
             ],
             [
              0.6666666666666666,
              "#ed7953"
             ],
             [
              0.7777777777777778,
              "#fb9f3a"
             ],
             [
              0.8888888888888888,
              "#fdca26"
             ],
             [
              1,
              "#f0f921"
             ]
            ],
            "type": "heatmapgl"
           }
          ],
          "histogram": [
           {
            "marker": {
             "pattern": {
              "fillmode": "overlay",
              "size": 10,
              "solidity": 0.2
             }
            },
            "type": "histogram"
           }
          ],
          "histogram2d": [
           {
            "colorbar": {
             "outlinewidth": 0,
             "ticks": ""
            },
            "colorscale": [
             [
              0,
              "#0d0887"
             ],
             [
              0.1111111111111111,
              "#46039f"
             ],
             [
              0.2222222222222222,
              "#7201a8"
             ],
             [
              0.3333333333333333,
              "#9c179e"
             ],
             [
              0.4444444444444444,
              "#bd3786"
             ],
             [
              0.5555555555555556,
              "#d8576b"
             ],
             [
              0.6666666666666666,
              "#ed7953"
             ],
             [
              0.7777777777777778,
              "#fb9f3a"
             ],
             [
              0.8888888888888888,
              "#fdca26"
             ],
             [
              1,
              "#f0f921"
             ]
            ],
            "type": "histogram2d"
           }
          ],
          "histogram2dcontour": [
           {
            "colorbar": {
             "outlinewidth": 0,
             "ticks": ""
            },
            "colorscale": [
             [
              0,
              "#0d0887"
             ],
             [
              0.1111111111111111,
              "#46039f"
             ],
             [
              0.2222222222222222,
              "#7201a8"
             ],
             [
              0.3333333333333333,
              "#9c179e"
             ],
             [
              0.4444444444444444,
              "#bd3786"
             ],
             [
              0.5555555555555556,
              "#d8576b"
             ],
             [
              0.6666666666666666,
              "#ed7953"
             ],
             [
              0.7777777777777778,
              "#fb9f3a"
             ],
             [
              0.8888888888888888,
              "#fdca26"
             ],
             [
              1,
              "#f0f921"
             ]
            ],
            "type": "histogram2dcontour"
           }
          ],
          "mesh3d": [
           {
            "colorbar": {
             "outlinewidth": 0,
             "ticks": ""
            },
            "type": "mesh3d"
           }
          ],
          "parcoords": [
           {
            "line": {
             "colorbar": {
              "outlinewidth": 0,
              "ticks": ""
             }
            },
            "type": "parcoords"
           }
          ],
          "pie": [
           {
            "automargin": true,
            "type": "pie"
           }
          ],
          "scatter": [
           {
            "fillpattern": {
             "fillmode": "overlay",
             "size": 10,
             "solidity": 0.2
            },
            "type": "scatter"
           }
          ],
          "scatter3d": [
           {
            "line": {
             "colorbar": {
              "outlinewidth": 0,
              "ticks": ""
             }
            },
            "marker": {
             "colorbar": {
              "outlinewidth": 0,
              "ticks": ""
             }
            },
            "type": "scatter3d"
           }
          ],
          "scattercarpet": [
           {
            "marker": {
             "colorbar": {
              "outlinewidth": 0,
              "ticks": ""
             }
            },
            "type": "scattercarpet"
           }
          ],
          "scattergeo": [
           {
            "marker": {
             "colorbar": {
              "outlinewidth": 0,
              "ticks": ""
             }
            },
            "type": "scattergeo"
           }
          ],
          "scattergl": [
           {
            "marker": {
             "colorbar": {
              "outlinewidth": 0,
              "ticks": ""
             }
            },
            "type": "scattergl"
           }
          ],
          "scattermapbox": [
           {
            "marker": {
             "colorbar": {
              "outlinewidth": 0,
              "ticks": ""
             }
            },
            "type": "scattermapbox"
           }
          ],
          "scatterpolar": [
           {
            "marker": {
             "colorbar": {
              "outlinewidth": 0,
              "ticks": ""
             }
            },
            "type": "scatterpolar"
           }
          ],
          "scatterpolargl": [
           {
            "marker": {
             "colorbar": {
              "outlinewidth": 0,
              "ticks": ""
             }
            },
            "type": "scatterpolargl"
           }
          ],
          "scatterternary": [
           {
            "marker": {
             "colorbar": {
              "outlinewidth": 0,
              "ticks": ""
             }
            },
            "type": "scatterternary"
           }
          ],
          "surface": [
           {
            "colorbar": {
             "outlinewidth": 0,
             "ticks": ""
            },
            "colorscale": [
             [
              0,
              "#0d0887"
             ],
             [
              0.1111111111111111,
              "#46039f"
             ],
             [
              0.2222222222222222,
              "#7201a8"
             ],
             [
              0.3333333333333333,
              "#9c179e"
             ],
             [
              0.4444444444444444,
              "#bd3786"
             ],
             [
              0.5555555555555556,
              "#d8576b"
             ],
             [
              0.6666666666666666,
              "#ed7953"
             ],
             [
              0.7777777777777778,
              "#fb9f3a"
             ],
             [
              0.8888888888888888,
              "#fdca26"
             ],
             [
              1,
              "#f0f921"
             ]
            ],
            "type": "surface"
           }
          ],
          "table": [
           {
            "cells": {
             "fill": {
              "color": "#EBF0F8"
             },
             "line": {
              "color": "white"
             }
            },
            "header": {
             "fill": {
              "color": "#C8D4E3"
             },
             "line": {
              "color": "white"
             }
            },
            "type": "table"
           }
          ]
         },
         "layout": {
          "annotationdefaults": {
           "arrowcolor": "#2a3f5f",
           "arrowhead": 0,
           "arrowwidth": 1
          },
          "autotypenumbers": "strict",
          "coloraxis": {
           "colorbar": {
            "outlinewidth": 0,
            "ticks": ""
           }
          },
          "colorscale": {
           "diverging": [
            [
             0,
             "#8e0152"
            ],
            [
             0.1,
             "#c51b7d"
            ],
            [
             0.2,
             "#de77ae"
            ],
            [
             0.3,
             "#f1b6da"
            ],
            [
             0.4,
             "#fde0ef"
            ],
            [
             0.5,
             "#f7f7f7"
            ],
            [
             0.6,
             "#e6f5d0"
            ],
            [
             0.7,
             "#b8e186"
            ],
            [
             0.8,
             "#7fbc41"
            ],
            [
             0.9,
             "#4d9221"
            ],
            [
             1,
             "#276419"
            ]
           ],
           "sequential": [
            [
             0,
             "#0d0887"
            ],
            [
             0.1111111111111111,
             "#46039f"
            ],
            [
             0.2222222222222222,
             "#7201a8"
            ],
            [
             0.3333333333333333,
             "#9c179e"
            ],
            [
             0.4444444444444444,
             "#bd3786"
            ],
            [
             0.5555555555555556,
             "#d8576b"
            ],
            [
             0.6666666666666666,
             "#ed7953"
            ],
            [
             0.7777777777777778,
             "#fb9f3a"
            ],
            [
             0.8888888888888888,
             "#fdca26"
            ],
            [
             1,
             "#f0f921"
            ]
           ],
           "sequentialminus": [
            [
             0,
             "#0d0887"
            ],
            [
             0.1111111111111111,
             "#46039f"
            ],
            [
             0.2222222222222222,
             "#7201a8"
            ],
            [
             0.3333333333333333,
             "#9c179e"
            ],
            [
             0.4444444444444444,
             "#bd3786"
            ],
            [
             0.5555555555555556,
             "#d8576b"
            ],
            [
             0.6666666666666666,
             "#ed7953"
            ],
            [
             0.7777777777777778,
             "#fb9f3a"
            ],
            [
             0.8888888888888888,
             "#fdca26"
            ],
            [
             1,
             "#f0f921"
            ]
           ]
          },
          "colorway": [
           "#636efa",
           "#EF553B",
           "#00cc96",
           "#ab63fa",
           "#FFA15A",
           "#19d3f3",
           "#FF6692",
           "#B6E880",
           "#FF97FF",
           "#FECB52"
          ],
          "font": {
           "color": "#2a3f5f"
          },
          "geo": {
           "bgcolor": "white",
           "lakecolor": "white",
           "landcolor": "#E5ECF6",
           "showlakes": true,
           "showland": true,
           "subunitcolor": "white"
          },
          "hoverlabel": {
           "align": "left"
          },
          "hovermode": "closest",
          "mapbox": {
           "style": "light"
          },
          "paper_bgcolor": "white",
          "plot_bgcolor": "#E5ECF6",
          "polar": {
           "angularaxis": {
            "gridcolor": "white",
            "linecolor": "white",
            "ticks": ""
           },
           "bgcolor": "#E5ECF6",
           "radialaxis": {
            "gridcolor": "white",
            "linecolor": "white",
            "ticks": ""
           }
          },
          "scene": {
           "xaxis": {
            "backgroundcolor": "#E5ECF6",
            "gridcolor": "white",
            "gridwidth": 2,
            "linecolor": "white",
            "showbackground": true,
            "ticks": "",
            "zerolinecolor": "white"
           },
           "yaxis": {
            "backgroundcolor": "#E5ECF6",
            "gridcolor": "white",
            "gridwidth": 2,
            "linecolor": "white",
            "showbackground": true,
            "ticks": "",
            "zerolinecolor": "white"
           },
           "zaxis": {
            "backgroundcolor": "#E5ECF6",
            "gridcolor": "white",
            "gridwidth": 2,
            "linecolor": "white",
            "showbackground": true,
            "ticks": "",
            "zerolinecolor": "white"
           }
          },
          "shapedefaults": {
           "line": {
            "color": "#2a3f5f"
           }
          },
          "ternary": {
           "aaxis": {
            "gridcolor": "white",
            "linecolor": "white",
            "ticks": ""
           },
           "baxis": {
            "gridcolor": "white",
            "linecolor": "white",
            "ticks": ""
           },
           "bgcolor": "#E5ECF6",
           "caxis": {
            "gridcolor": "white",
            "linecolor": "white",
            "ticks": ""
           }
          },
          "title": {
           "x": 0.05
          },
          "xaxis": {
           "automargin": true,
           "gridcolor": "white",
           "linecolor": "white",
           "ticks": "",
           "title": {
            "standoff": 15
           },
           "zerolinecolor": "white",
           "zerolinewidth": 2
          },
          "yaxis": {
           "automargin": true,
           "gridcolor": "white",
           "linecolor": "white",
           "ticks": "",
           "title": {
            "standoff": 15
           },
           "zerolinecolor": "white",
           "zerolinewidth": 2
          }
         }
        },
        "width": 700,
        "xaxis": {
         "anchor": "y",
         "domain": [
          0,
          1
         ],
         "range": [
          "2023-07-31 12:00:00",
          "2023-07-31 14:45:00"
         ],
         "showgrid": true,
         "title": {
          "text": "Timestamp"
         }
        },
        "yaxis": {
         "anchor": "x",
         "domain": [
          0,
          1
         ],
         "range": [
          0,
          53
         ],
         "title": {
          "text": "Duration (seconds)"
         }
        }
       }
      }
     },
     "metadata": {},
     "output_type": "display_data"
    },
    {
     "name": "stdout",
     "output_type": "stream",
     "text": [
      "Time person was near: 0 days 03:32:19\n",
      "Time person was using node: 0 days 03:22:48\n",
      "Percentage of node usage per day: 96.0 \n",
      "\n",
      "\n",
      "\n",
      "\n",
      "01_08\n",
      "data_fabrica/task_01_08.csv\n",
      "[  0.  nan  nan 112.  25.  nan  nan  nan]\n",
      "Reference average\n",
      "[467.33333333  12.          12.         144.          40.\n",
      "  60.                  nan          nan]\n",
      "Outliers:\n",
      "Task: 0\n",
      "Average: 467.33\n",
      "Median: 292.0\n",
      "Variance: 303956.33\n",
      "Standard deviation: 551.32\n",
      "Count: 3.0\n",
      "total secs: 1402\n",
      "Count per hour: 8\n",
      "\n",
      "Task: 3\n",
      "Average: 117.56\n",
      "Median: 112.0\n",
      "Variance: 281.53\n",
      "Standard deviation: 16.78\n",
      "Count: 45.0\n",
      "total secs: 5290\n",
      "Count per hour: 31\n",
      "\n",
      "Task: 4\n",
      "Average: 26.58\n",
      "Median: 25.0\n",
      "Variance: 24.83\n",
      "Standard deviation: 4.98\n",
      "Count: 90.0\n",
      "total secs: 2392\n",
      "Count per hour: 135\n",
      "\n",
      "Outliers removed: 2\n",
      "MFALG Assembly 5290\n",
      "0 days 01:28:10\n",
      "Screws in Boards 2392\n",
      "0 days 00:39:52\n"
     ]
    },
    {
     "data": {
      "application/vnd.plotly.v1+json": {
       "config": {
        "plotlyServerURL": "https://plot.ly"
       },
       "data": [
        {
         "customdata": [
          [
           "MFALG Assembly"
          ],
          [
           "Screws in Boards"
          ]
         ],
         "domain": {
          "x": [
           0,
           1
          ],
          "y": [
           0,
           1
          ]
         },
         "hovertemplate": "task_name=%{customdata[0]}<br>sec=%{value}<extra></extra>",
         "labels": [
          "MFALG Assembly",
          "Screws in Boards"
         ],
         "legendgroup": "",
         "marker": {
          "colors": [
           "gold",
           "darkgray"
          ]
         },
         "name": "",
         "showlegend": true,
         "type": "pie",
         "values": [
          5290,
          2392
         ]
        }
       ],
       "layout": {
        "legend": {
         "tracegroupgap": 0
        },
        "margin": {
         "t": 60
        },
        "template": {
         "data": {
          "bar": [
           {
            "error_x": {
             "color": "#2a3f5f"
            },
            "error_y": {
             "color": "#2a3f5f"
            },
            "marker": {
             "line": {
              "color": "#E5ECF6",
              "width": 0.5
             },
             "pattern": {
              "fillmode": "overlay",
              "size": 10,
              "solidity": 0.2
             }
            },
            "type": "bar"
           }
          ],
          "barpolar": [
           {
            "marker": {
             "line": {
              "color": "#E5ECF6",
              "width": 0.5
             },
             "pattern": {
              "fillmode": "overlay",
              "size": 10,
              "solidity": 0.2
             }
            },
            "type": "barpolar"
           }
          ],
          "carpet": [
           {
            "aaxis": {
             "endlinecolor": "#2a3f5f",
             "gridcolor": "white",
             "linecolor": "white",
             "minorgridcolor": "white",
             "startlinecolor": "#2a3f5f"
            },
            "baxis": {
             "endlinecolor": "#2a3f5f",
             "gridcolor": "white",
             "linecolor": "white",
             "minorgridcolor": "white",
             "startlinecolor": "#2a3f5f"
            },
            "type": "carpet"
           }
          ],
          "choropleth": [
           {
            "colorbar": {
             "outlinewidth": 0,
             "ticks": ""
            },
            "type": "choropleth"
           }
          ],
          "contour": [
           {
            "colorbar": {
             "outlinewidth": 0,
             "ticks": ""
            },
            "colorscale": [
             [
              0,
              "#0d0887"
             ],
             [
              0.1111111111111111,
              "#46039f"
             ],
             [
              0.2222222222222222,
              "#7201a8"
             ],
             [
              0.3333333333333333,
              "#9c179e"
             ],
             [
              0.4444444444444444,
              "#bd3786"
             ],
             [
              0.5555555555555556,
              "#d8576b"
             ],
             [
              0.6666666666666666,
              "#ed7953"
             ],
             [
              0.7777777777777778,
              "#fb9f3a"
             ],
             [
              0.8888888888888888,
              "#fdca26"
             ],
             [
              1,
              "#f0f921"
             ]
            ],
            "type": "contour"
           }
          ],
          "contourcarpet": [
           {
            "colorbar": {
             "outlinewidth": 0,
             "ticks": ""
            },
            "type": "contourcarpet"
           }
          ],
          "heatmap": [
           {
            "colorbar": {
             "outlinewidth": 0,
             "ticks": ""
            },
            "colorscale": [
             [
              0,
              "#0d0887"
             ],
             [
              0.1111111111111111,
              "#46039f"
             ],
             [
              0.2222222222222222,
              "#7201a8"
             ],
             [
              0.3333333333333333,
              "#9c179e"
             ],
             [
              0.4444444444444444,
              "#bd3786"
             ],
             [
              0.5555555555555556,
              "#d8576b"
             ],
             [
              0.6666666666666666,
              "#ed7953"
             ],
             [
              0.7777777777777778,
              "#fb9f3a"
             ],
             [
              0.8888888888888888,
              "#fdca26"
             ],
             [
              1,
              "#f0f921"
             ]
            ],
            "type": "heatmap"
           }
          ],
          "heatmapgl": [
           {
            "colorbar": {
             "outlinewidth": 0,
             "ticks": ""
            },
            "colorscale": [
             [
              0,
              "#0d0887"
             ],
             [
              0.1111111111111111,
              "#46039f"
             ],
             [
              0.2222222222222222,
              "#7201a8"
             ],
             [
              0.3333333333333333,
              "#9c179e"
             ],
             [
              0.4444444444444444,
              "#bd3786"
             ],
             [
              0.5555555555555556,
              "#d8576b"
             ],
             [
              0.6666666666666666,
              "#ed7953"
             ],
             [
              0.7777777777777778,
              "#fb9f3a"
             ],
             [
              0.8888888888888888,
              "#fdca26"
             ],
             [
              1,
              "#f0f921"
             ]
            ],
            "type": "heatmapgl"
           }
          ],
          "histogram": [
           {
            "marker": {
             "pattern": {
              "fillmode": "overlay",
              "size": 10,
              "solidity": 0.2
             }
            },
            "type": "histogram"
           }
          ],
          "histogram2d": [
           {
            "colorbar": {
             "outlinewidth": 0,
             "ticks": ""
            },
            "colorscale": [
             [
              0,
              "#0d0887"
             ],
             [
              0.1111111111111111,
              "#46039f"
             ],
             [
              0.2222222222222222,
              "#7201a8"
             ],
             [
              0.3333333333333333,
              "#9c179e"
             ],
             [
              0.4444444444444444,
              "#bd3786"
             ],
             [
              0.5555555555555556,
              "#d8576b"
             ],
             [
              0.6666666666666666,
              "#ed7953"
             ],
             [
              0.7777777777777778,
              "#fb9f3a"
             ],
             [
              0.8888888888888888,
              "#fdca26"
             ],
             [
              1,
              "#f0f921"
             ]
            ],
            "type": "histogram2d"
           }
          ],
          "histogram2dcontour": [
           {
            "colorbar": {
             "outlinewidth": 0,
             "ticks": ""
            },
            "colorscale": [
             [
              0,
              "#0d0887"
             ],
             [
              0.1111111111111111,
              "#46039f"
             ],
             [
              0.2222222222222222,
              "#7201a8"
             ],
             [
              0.3333333333333333,
              "#9c179e"
             ],
             [
              0.4444444444444444,
              "#bd3786"
             ],
             [
              0.5555555555555556,
              "#d8576b"
             ],
             [
              0.6666666666666666,
              "#ed7953"
             ],
             [
              0.7777777777777778,
              "#fb9f3a"
             ],
             [
              0.8888888888888888,
              "#fdca26"
             ],
             [
              1,
              "#f0f921"
             ]
            ],
            "type": "histogram2dcontour"
           }
          ],
          "mesh3d": [
           {
            "colorbar": {
             "outlinewidth": 0,
             "ticks": ""
            },
            "type": "mesh3d"
           }
          ],
          "parcoords": [
           {
            "line": {
             "colorbar": {
              "outlinewidth": 0,
              "ticks": ""
             }
            },
            "type": "parcoords"
           }
          ],
          "pie": [
           {
            "automargin": true,
            "type": "pie"
           }
          ],
          "scatter": [
           {
            "fillpattern": {
             "fillmode": "overlay",
             "size": 10,
             "solidity": 0.2
            },
            "type": "scatter"
           }
          ],
          "scatter3d": [
           {
            "line": {
             "colorbar": {
              "outlinewidth": 0,
              "ticks": ""
             }
            },
            "marker": {
             "colorbar": {
              "outlinewidth": 0,
              "ticks": ""
             }
            },
            "type": "scatter3d"
           }
          ],
          "scattercarpet": [
           {
            "marker": {
             "colorbar": {
              "outlinewidth": 0,
              "ticks": ""
             }
            },
            "type": "scattercarpet"
           }
          ],
          "scattergeo": [
           {
            "marker": {
             "colorbar": {
              "outlinewidth": 0,
              "ticks": ""
             }
            },
            "type": "scattergeo"
           }
          ],
          "scattergl": [
           {
            "marker": {
             "colorbar": {
              "outlinewidth": 0,
              "ticks": ""
             }
            },
            "type": "scattergl"
           }
          ],
          "scattermapbox": [
           {
            "marker": {
             "colorbar": {
              "outlinewidth": 0,
              "ticks": ""
             }
            },
            "type": "scattermapbox"
           }
          ],
          "scatterpolar": [
           {
            "marker": {
             "colorbar": {
              "outlinewidth": 0,
              "ticks": ""
             }
            },
            "type": "scatterpolar"
           }
          ],
          "scatterpolargl": [
           {
            "marker": {
             "colorbar": {
              "outlinewidth": 0,
              "ticks": ""
             }
            },
            "type": "scatterpolargl"
           }
          ],
          "scatterternary": [
           {
            "marker": {
             "colorbar": {
              "outlinewidth": 0,
              "ticks": ""
             }
            },
            "type": "scatterternary"
           }
          ],
          "surface": [
           {
            "colorbar": {
             "outlinewidth": 0,
             "ticks": ""
            },
            "colorscale": [
             [
              0,
              "#0d0887"
             ],
             [
              0.1111111111111111,
              "#46039f"
             ],
             [
              0.2222222222222222,
              "#7201a8"
             ],
             [
              0.3333333333333333,
              "#9c179e"
             ],
             [
              0.4444444444444444,
              "#bd3786"
             ],
             [
              0.5555555555555556,
              "#d8576b"
             ],
             [
              0.6666666666666666,
              "#ed7953"
             ],
             [
              0.7777777777777778,
              "#fb9f3a"
             ],
             [
              0.8888888888888888,
              "#fdca26"
             ],
             [
              1,
              "#f0f921"
             ]
            ],
            "type": "surface"
           }
          ],
          "table": [
           {
            "cells": {
             "fill": {
              "color": "#EBF0F8"
             },
             "line": {
              "color": "white"
             }
            },
            "header": {
             "fill": {
              "color": "#C8D4E3"
             },
             "line": {
              "color": "white"
             }
            },
            "type": "table"
           }
          ]
         },
         "layout": {
          "annotationdefaults": {
           "arrowcolor": "#2a3f5f",
           "arrowhead": 0,
           "arrowwidth": 1
          },
          "autotypenumbers": "strict",
          "coloraxis": {
           "colorbar": {
            "outlinewidth": 0,
            "ticks": ""
           }
          },
          "colorscale": {
           "diverging": [
            [
             0,
             "#8e0152"
            ],
            [
             0.1,
             "#c51b7d"
            ],
            [
             0.2,
             "#de77ae"
            ],
            [
             0.3,
             "#f1b6da"
            ],
            [
             0.4,
             "#fde0ef"
            ],
            [
             0.5,
             "#f7f7f7"
            ],
            [
             0.6,
             "#e6f5d0"
            ],
            [
             0.7,
             "#b8e186"
            ],
            [
             0.8,
             "#7fbc41"
            ],
            [
             0.9,
             "#4d9221"
            ],
            [
             1,
             "#276419"
            ]
           ],
           "sequential": [
            [
             0,
             "#0d0887"
            ],
            [
             0.1111111111111111,
             "#46039f"
            ],
            [
             0.2222222222222222,
             "#7201a8"
            ],
            [
             0.3333333333333333,
             "#9c179e"
            ],
            [
             0.4444444444444444,
             "#bd3786"
            ],
            [
             0.5555555555555556,
             "#d8576b"
            ],
            [
             0.6666666666666666,
             "#ed7953"
            ],
            [
             0.7777777777777778,
             "#fb9f3a"
            ],
            [
             0.8888888888888888,
             "#fdca26"
            ],
            [
             1,
             "#f0f921"
            ]
           ],
           "sequentialminus": [
            [
             0,
             "#0d0887"
            ],
            [
             0.1111111111111111,
             "#46039f"
            ],
            [
             0.2222222222222222,
             "#7201a8"
            ],
            [
             0.3333333333333333,
             "#9c179e"
            ],
            [
             0.4444444444444444,
             "#bd3786"
            ],
            [
             0.5555555555555556,
             "#d8576b"
            ],
            [
             0.6666666666666666,
             "#ed7953"
            ],
            [
             0.7777777777777778,
             "#fb9f3a"
            ],
            [
             0.8888888888888888,
             "#fdca26"
            ],
            [
             1,
             "#f0f921"
            ]
           ]
          },
          "colorway": [
           "#636efa",
           "#EF553B",
           "#00cc96",
           "#ab63fa",
           "#FFA15A",
           "#19d3f3",
           "#FF6692",
           "#B6E880",
           "#FF97FF",
           "#FECB52"
          ],
          "font": {
           "color": "#2a3f5f"
          },
          "geo": {
           "bgcolor": "white",
           "lakecolor": "white",
           "landcolor": "#E5ECF6",
           "showlakes": true,
           "showland": true,
           "subunitcolor": "white"
          },
          "hoverlabel": {
           "align": "left"
          },
          "hovermode": "closest",
          "mapbox": {
           "style": "light"
          },
          "paper_bgcolor": "white",
          "plot_bgcolor": "#E5ECF6",
          "polar": {
           "angularaxis": {
            "gridcolor": "white",
            "linecolor": "white",
            "ticks": ""
           },
           "bgcolor": "#E5ECF6",
           "radialaxis": {
            "gridcolor": "white",
            "linecolor": "white",
            "ticks": ""
           }
          },
          "scene": {
           "xaxis": {
            "backgroundcolor": "#E5ECF6",
            "gridcolor": "white",
            "gridwidth": 2,
            "linecolor": "white",
            "showbackground": true,
            "ticks": "",
            "zerolinecolor": "white"
           },
           "yaxis": {
            "backgroundcolor": "#E5ECF6",
            "gridcolor": "white",
            "gridwidth": 2,
            "linecolor": "white",
            "showbackground": true,
            "ticks": "",
            "zerolinecolor": "white"
           },
           "zaxis": {
            "backgroundcolor": "#E5ECF6",
            "gridcolor": "white",
            "gridwidth": 2,
            "linecolor": "white",
            "showbackground": true,
            "ticks": "",
            "zerolinecolor": "white"
           }
          },
          "shapedefaults": {
           "line": {
            "color": "#2a3f5f"
           }
          },
          "ternary": {
           "aaxis": {
            "gridcolor": "white",
            "linecolor": "white",
            "ticks": ""
           },
           "baxis": {
            "gridcolor": "white",
            "linecolor": "white",
            "ticks": ""
           },
           "bgcolor": "#E5ECF6",
           "caxis": {
            "gridcolor": "white",
            "linecolor": "white",
            "ticks": ""
           }
          },
          "title": {
           "x": 0.05
          },
          "xaxis": {
           "automargin": true,
           "gridcolor": "white",
           "linecolor": "white",
           "ticks": "",
           "title": {
            "standoff": 15
           },
           "zerolinecolor": "white",
           "zerolinewidth": 2
          },
          "yaxis": {
           "automargin": true,
           "gridcolor": "white",
           "linecolor": "white",
           "ticks": "",
           "title": {
            "standoff": 15
           },
           "zerolinecolor": "white",
           "zerolinewidth": 2
          }
         }
        },
        "width": 600
       }
      }
     },
     "metadata": {},
     "output_type": "display_data"
    },
    {
     "name": "stdout",
     "output_type": "stream",
     "text": [
      "Fernando 7682\n",
      "0 days 02:08:02\n"
     ]
    },
    {
     "data": {
      "application/vnd.plotly.v1+json": {
       "config": {
        "plotlyServerURL": "https://plot.ly"
       },
       "data": [
        {
         "customdata": [
          [
           "Fernando"
          ]
         ],
         "domain": {
          "x": [
           0,
           1
          ],
          "y": [
           0,
           1
          ]
         },
         "hovertemplate": "emp_name=%{customdata[0]}<br>sec=%{value}<extra></extra>",
         "labels": [
          "Fernando"
         ],
         "legendgroup": "",
         "marker": {
          "colors": [
           "cornflowerblue"
          ]
         },
         "name": "",
         "showlegend": true,
         "type": "pie",
         "values": [
          7682
         ]
        }
       ],
       "layout": {
        "legend": {
         "tracegroupgap": 0
        },
        "margin": {
         "t": 60
        },
        "template": {
         "data": {
          "bar": [
           {
            "error_x": {
             "color": "#2a3f5f"
            },
            "error_y": {
             "color": "#2a3f5f"
            },
            "marker": {
             "line": {
              "color": "#E5ECF6",
              "width": 0.5
             },
             "pattern": {
              "fillmode": "overlay",
              "size": 10,
              "solidity": 0.2
             }
            },
            "type": "bar"
           }
          ],
          "barpolar": [
           {
            "marker": {
             "line": {
              "color": "#E5ECF6",
              "width": 0.5
             },
             "pattern": {
              "fillmode": "overlay",
              "size": 10,
              "solidity": 0.2
             }
            },
            "type": "barpolar"
           }
          ],
          "carpet": [
           {
            "aaxis": {
             "endlinecolor": "#2a3f5f",
             "gridcolor": "white",
             "linecolor": "white",
             "minorgridcolor": "white",
             "startlinecolor": "#2a3f5f"
            },
            "baxis": {
             "endlinecolor": "#2a3f5f",
             "gridcolor": "white",
             "linecolor": "white",
             "minorgridcolor": "white",
             "startlinecolor": "#2a3f5f"
            },
            "type": "carpet"
           }
          ],
          "choropleth": [
           {
            "colorbar": {
             "outlinewidth": 0,
             "ticks": ""
            },
            "type": "choropleth"
           }
          ],
          "contour": [
           {
            "colorbar": {
             "outlinewidth": 0,
             "ticks": ""
            },
            "colorscale": [
             [
              0,
              "#0d0887"
             ],
             [
              0.1111111111111111,
              "#46039f"
             ],
             [
              0.2222222222222222,
              "#7201a8"
             ],
             [
              0.3333333333333333,
              "#9c179e"
             ],
             [
              0.4444444444444444,
              "#bd3786"
             ],
             [
              0.5555555555555556,
              "#d8576b"
             ],
             [
              0.6666666666666666,
              "#ed7953"
             ],
             [
              0.7777777777777778,
              "#fb9f3a"
             ],
             [
              0.8888888888888888,
              "#fdca26"
             ],
             [
              1,
              "#f0f921"
             ]
            ],
            "type": "contour"
           }
          ],
          "contourcarpet": [
           {
            "colorbar": {
             "outlinewidth": 0,
             "ticks": ""
            },
            "type": "contourcarpet"
           }
          ],
          "heatmap": [
           {
            "colorbar": {
             "outlinewidth": 0,
             "ticks": ""
            },
            "colorscale": [
             [
              0,
              "#0d0887"
             ],
             [
              0.1111111111111111,
              "#46039f"
             ],
             [
              0.2222222222222222,
              "#7201a8"
             ],
             [
              0.3333333333333333,
              "#9c179e"
             ],
             [
              0.4444444444444444,
              "#bd3786"
             ],
             [
              0.5555555555555556,
              "#d8576b"
             ],
             [
              0.6666666666666666,
              "#ed7953"
             ],
             [
              0.7777777777777778,
              "#fb9f3a"
             ],
             [
              0.8888888888888888,
              "#fdca26"
             ],
             [
              1,
              "#f0f921"
             ]
            ],
            "type": "heatmap"
           }
          ],
          "heatmapgl": [
           {
            "colorbar": {
             "outlinewidth": 0,
             "ticks": ""
            },
            "colorscale": [
             [
              0,
              "#0d0887"
             ],
             [
              0.1111111111111111,
              "#46039f"
             ],
             [
              0.2222222222222222,
              "#7201a8"
             ],
             [
              0.3333333333333333,
              "#9c179e"
             ],
             [
              0.4444444444444444,
              "#bd3786"
             ],
             [
              0.5555555555555556,
              "#d8576b"
             ],
             [
              0.6666666666666666,
              "#ed7953"
             ],
             [
              0.7777777777777778,
              "#fb9f3a"
             ],
             [
              0.8888888888888888,
              "#fdca26"
             ],
             [
              1,
              "#f0f921"
             ]
            ],
            "type": "heatmapgl"
           }
          ],
          "histogram": [
           {
            "marker": {
             "pattern": {
              "fillmode": "overlay",
              "size": 10,
              "solidity": 0.2
             }
            },
            "type": "histogram"
           }
          ],
          "histogram2d": [
           {
            "colorbar": {
             "outlinewidth": 0,
             "ticks": ""
            },
            "colorscale": [
             [
              0,
              "#0d0887"
             ],
             [
              0.1111111111111111,
              "#46039f"
             ],
             [
              0.2222222222222222,
              "#7201a8"
             ],
             [
              0.3333333333333333,
              "#9c179e"
             ],
             [
              0.4444444444444444,
              "#bd3786"
             ],
             [
              0.5555555555555556,
              "#d8576b"
             ],
             [
              0.6666666666666666,
              "#ed7953"
             ],
             [
              0.7777777777777778,
              "#fb9f3a"
             ],
             [
              0.8888888888888888,
              "#fdca26"
             ],
             [
              1,
              "#f0f921"
             ]
            ],
            "type": "histogram2d"
           }
          ],
          "histogram2dcontour": [
           {
            "colorbar": {
             "outlinewidth": 0,
             "ticks": ""
            },
            "colorscale": [
             [
              0,
              "#0d0887"
             ],
             [
              0.1111111111111111,
              "#46039f"
             ],
             [
              0.2222222222222222,
              "#7201a8"
             ],
             [
              0.3333333333333333,
              "#9c179e"
             ],
             [
              0.4444444444444444,
              "#bd3786"
             ],
             [
              0.5555555555555556,
              "#d8576b"
             ],
             [
              0.6666666666666666,
              "#ed7953"
             ],
             [
              0.7777777777777778,
              "#fb9f3a"
             ],
             [
              0.8888888888888888,
              "#fdca26"
             ],
             [
              1,
              "#f0f921"
             ]
            ],
            "type": "histogram2dcontour"
           }
          ],
          "mesh3d": [
           {
            "colorbar": {
             "outlinewidth": 0,
             "ticks": ""
            },
            "type": "mesh3d"
           }
          ],
          "parcoords": [
           {
            "line": {
             "colorbar": {
              "outlinewidth": 0,
              "ticks": ""
             }
            },
            "type": "parcoords"
           }
          ],
          "pie": [
           {
            "automargin": true,
            "type": "pie"
           }
          ],
          "scatter": [
           {
            "fillpattern": {
             "fillmode": "overlay",
             "size": 10,
             "solidity": 0.2
            },
            "type": "scatter"
           }
          ],
          "scatter3d": [
           {
            "line": {
             "colorbar": {
              "outlinewidth": 0,
              "ticks": ""
             }
            },
            "marker": {
             "colorbar": {
              "outlinewidth": 0,
              "ticks": ""
             }
            },
            "type": "scatter3d"
           }
          ],
          "scattercarpet": [
           {
            "marker": {
             "colorbar": {
              "outlinewidth": 0,
              "ticks": ""
             }
            },
            "type": "scattercarpet"
           }
          ],
          "scattergeo": [
           {
            "marker": {
             "colorbar": {
              "outlinewidth": 0,
              "ticks": ""
             }
            },
            "type": "scattergeo"
           }
          ],
          "scattergl": [
           {
            "marker": {
             "colorbar": {
              "outlinewidth": 0,
              "ticks": ""
             }
            },
            "type": "scattergl"
           }
          ],
          "scattermapbox": [
           {
            "marker": {
             "colorbar": {
              "outlinewidth": 0,
              "ticks": ""
             }
            },
            "type": "scattermapbox"
           }
          ],
          "scatterpolar": [
           {
            "marker": {
             "colorbar": {
              "outlinewidth": 0,
              "ticks": ""
             }
            },
            "type": "scatterpolar"
           }
          ],
          "scatterpolargl": [
           {
            "marker": {
             "colorbar": {
              "outlinewidth": 0,
              "ticks": ""
             }
            },
            "type": "scatterpolargl"
           }
          ],
          "scatterternary": [
           {
            "marker": {
             "colorbar": {
              "outlinewidth": 0,
              "ticks": ""
             }
            },
            "type": "scatterternary"
           }
          ],
          "surface": [
           {
            "colorbar": {
             "outlinewidth": 0,
             "ticks": ""
            },
            "colorscale": [
             [
              0,
              "#0d0887"
             ],
             [
              0.1111111111111111,
              "#46039f"
             ],
             [
              0.2222222222222222,
              "#7201a8"
             ],
             [
              0.3333333333333333,
              "#9c179e"
             ],
             [
              0.4444444444444444,
              "#bd3786"
             ],
             [
              0.5555555555555556,
              "#d8576b"
             ],
             [
              0.6666666666666666,
              "#ed7953"
             ],
             [
              0.7777777777777778,
              "#fb9f3a"
             ],
             [
              0.8888888888888888,
              "#fdca26"
             ],
             [
              1,
              "#f0f921"
             ]
            ],
            "type": "surface"
           }
          ],
          "table": [
           {
            "cells": {
             "fill": {
              "color": "#EBF0F8"
             },
             "line": {
              "color": "white"
             }
            },
            "header": {
             "fill": {
              "color": "#C8D4E3"
             },
             "line": {
              "color": "white"
             }
            },
            "type": "table"
           }
          ]
         },
         "layout": {
          "annotationdefaults": {
           "arrowcolor": "#2a3f5f",
           "arrowhead": 0,
           "arrowwidth": 1
          },
          "autotypenumbers": "strict",
          "coloraxis": {
           "colorbar": {
            "outlinewidth": 0,
            "ticks": ""
           }
          },
          "colorscale": {
           "diverging": [
            [
             0,
             "#8e0152"
            ],
            [
             0.1,
             "#c51b7d"
            ],
            [
             0.2,
             "#de77ae"
            ],
            [
             0.3,
             "#f1b6da"
            ],
            [
             0.4,
             "#fde0ef"
            ],
            [
             0.5,
             "#f7f7f7"
            ],
            [
             0.6,
             "#e6f5d0"
            ],
            [
             0.7,
             "#b8e186"
            ],
            [
             0.8,
             "#7fbc41"
            ],
            [
             0.9,
             "#4d9221"
            ],
            [
             1,
             "#276419"
            ]
           ],
           "sequential": [
            [
             0,
             "#0d0887"
            ],
            [
             0.1111111111111111,
             "#46039f"
            ],
            [
             0.2222222222222222,
             "#7201a8"
            ],
            [
             0.3333333333333333,
             "#9c179e"
            ],
            [
             0.4444444444444444,
             "#bd3786"
            ],
            [
             0.5555555555555556,
             "#d8576b"
            ],
            [
             0.6666666666666666,
             "#ed7953"
            ],
            [
             0.7777777777777778,
             "#fb9f3a"
            ],
            [
             0.8888888888888888,
             "#fdca26"
            ],
            [
             1,
             "#f0f921"
            ]
           ],
           "sequentialminus": [
            [
             0,
             "#0d0887"
            ],
            [
             0.1111111111111111,
             "#46039f"
            ],
            [
             0.2222222222222222,
             "#7201a8"
            ],
            [
             0.3333333333333333,
             "#9c179e"
            ],
            [
             0.4444444444444444,
             "#bd3786"
            ],
            [
             0.5555555555555556,
             "#d8576b"
            ],
            [
             0.6666666666666666,
             "#ed7953"
            ],
            [
             0.7777777777777778,
             "#fb9f3a"
            ],
            [
             0.8888888888888888,
             "#fdca26"
            ],
            [
             1,
             "#f0f921"
            ]
           ]
          },
          "colorway": [
           "#636efa",
           "#EF553B",
           "#00cc96",
           "#ab63fa",
           "#FFA15A",
           "#19d3f3",
           "#FF6692",
           "#B6E880",
           "#FF97FF",
           "#FECB52"
          ],
          "font": {
           "color": "#2a3f5f"
          },
          "geo": {
           "bgcolor": "white",
           "lakecolor": "white",
           "landcolor": "#E5ECF6",
           "showlakes": true,
           "showland": true,
           "subunitcolor": "white"
          },
          "hoverlabel": {
           "align": "left"
          },
          "hovermode": "closest",
          "mapbox": {
           "style": "light"
          },
          "paper_bgcolor": "white",
          "plot_bgcolor": "#E5ECF6",
          "polar": {
           "angularaxis": {
            "gridcolor": "white",
            "linecolor": "white",
            "ticks": ""
           },
           "bgcolor": "#E5ECF6",
           "radialaxis": {
            "gridcolor": "white",
            "linecolor": "white",
            "ticks": ""
           }
          },
          "scene": {
           "xaxis": {
            "backgroundcolor": "#E5ECF6",
            "gridcolor": "white",
            "gridwidth": 2,
            "linecolor": "white",
            "showbackground": true,
            "ticks": "",
            "zerolinecolor": "white"
           },
           "yaxis": {
            "backgroundcolor": "#E5ECF6",
            "gridcolor": "white",
            "gridwidth": 2,
            "linecolor": "white",
            "showbackground": true,
            "ticks": "",
            "zerolinecolor": "white"
           },
           "zaxis": {
            "backgroundcolor": "#E5ECF6",
            "gridcolor": "white",
            "gridwidth": 2,
            "linecolor": "white",
            "showbackground": true,
            "ticks": "",
            "zerolinecolor": "white"
           }
          },
          "shapedefaults": {
           "line": {
            "color": "#2a3f5f"
           }
          },
          "ternary": {
           "aaxis": {
            "gridcolor": "white",
            "linecolor": "white",
            "ticks": ""
           },
           "baxis": {
            "gridcolor": "white",
            "linecolor": "white",
            "ticks": ""
           },
           "bgcolor": "#E5ECF6",
           "caxis": {
            "gridcolor": "white",
            "linecolor": "white",
            "ticks": ""
           }
          },
          "title": {
           "x": 0.05
          },
          "xaxis": {
           "automargin": true,
           "gridcolor": "white",
           "linecolor": "white",
           "ticks": "",
           "title": {
            "standoff": 15
           },
           "zerolinecolor": "white",
           "zerolinewidth": 2
          },
          "yaxis": {
           "automargin": true,
           "gridcolor": "white",
           "linecolor": "white",
           "ticks": "",
           "title": {
            "standoff": 15
           },
           "zerolinecolor": "white",
           "zerolinewidth": 2
          }
         }
        },
        "width": 550
       }
      }
     },
     "metadata": {},
     "output_type": "display_data"
    },
    {
     "name": "stderr",
     "output_type": "stream",
     "text": [
      "c:\\Users\\isacc\\miniconda3\\Lib\\site-packages\\_plotly_utils\\basevalidators.py:105: FutureWarning:\n",
      "\n",
      "The behavior of DatetimeProperties.to_pydatetime is deprecated, in a future version this will return a Series containing python datetime objects instead of an ndarray. To retain the old behavior, call `np.array` on the result\n",
      "\n"
     ]
    },
    {
     "data": {
      "application/vnd.plotly.v1+json": {
       "config": {
        "plotlyServerURL": "https://plot.ly"
       },
       "data": [
        {
         "alignmentgroup": "True",
         "hovertemplate": "Task names=Screws in Boards<br>Timestamp=%{x}<br>Duration (seconds)=%{y}<extra></extra>",
         "legendgroup": "Screws in Boards",
         "marker": {
          "color": "darkgray",
          "pattern": {
           "shape": ""
          }
         },
         "name": "Screws in Boards",
         "offsetgroup": "Screws in Boards",
         "orientation": "v",
         "showlegend": true,
         "textposition": "auto",
         "type": "bar",
         "width": 20000,
         "x": [
          "2023-08-01T09:03:55",
          "2023-08-01T09:04:22",
          "2023-08-01T09:04:49",
          "2023-08-01T09:05:12",
          "2023-08-01T09:05:39",
          "2023-08-01T09:06:02",
          "2023-08-01T09:06:27",
          "2023-08-01T09:06:56",
          "2023-08-01T09:07:21",
          "2023-08-01T09:07:49",
          "2023-08-01T09:08:15",
          "2023-08-01T09:08:38",
          "2023-08-01T09:09:04",
          "2023-08-01T09:09:51",
          "2023-08-01T09:10:21",
          "2023-08-01T09:10:54",
          "2023-08-01T09:11:17",
          "2023-08-01T09:11:43",
          "2023-08-01T09:12:09",
          "2023-08-01T09:12:30",
          "2023-08-01T09:12:52",
          "2023-08-01T09:13:20",
          "2023-08-01T09:13:48",
          "2023-08-01T09:14:10",
          "2023-08-01T09:14:33",
          "2023-08-01T09:15:02",
          "2023-08-01T09:15:25",
          "2023-08-01T09:15:52",
          "2023-08-01T09:16:18",
          "2023-08-01T09:16:55",
          "2023-08-01T09:17:21",
          "2023-08-01T09:17:46",
          "2023-08-01T09:18:10",
          "2023-08-01T09:18:33",
          "2023-08-01T09:19:08",
          "2023-08-01T09:19:36",
          "2023-08-01T09:20:07",
          "2023-08-01T09:20:33",
          "2023-08-01T09:21:04",
          "2023-08-01T09:21:31",
          "2023-08-01T09:21:56",
          "2023-08-01T09:22:27",
          "2023-08-01T09:22:52",
          "2023-08-01T09:23:23",
          "2023-08-01T09:23:51",
          "2023-08-01T09:25:20",
          "2023-08-01T09:25:51",
          "2023-08-01T09:26:39",
          "2023-08-01T09:27:16",
          "2023-08-01T09:33:59",
          "2023-08-01T09:34:26",
          "2023-08-01T09:34:47",
          "2023-08-01T09:35:11",
          "2023-08-01T09:35:42",
          "2023-08-01T09:36:07",
          "2023-08-01T09:36:33",
          "2023-08-01T09:36:59",
          "2023-08-01T09:37:22",
          "2023-08-01T09:37:44",
          "2023-08-01T09:38:09",
          "2023-08-01T09:38:37",
          "2023-08-01T09:38:56",
          "2023-08-01T09:39:19",
          "2023-08-01T09:39:50",
          "2023-08-01T09:40:20",
          "2023-08-01T09:40:45",
          "2023-08-01T09:41:16",
          "2023-08-01T09:41:59",
          "2023-08-01T09:42:25",
          "2023-08-01T09:42:57",
          "2023-08-01T09:43:22",
          "2023-08-01T09:43:45",
          "2023-08-01T09:44:13",
          "2023-08-01T09:44:36",
          "2023-08-01T09:45:08",
          "2023-08-01T09:45:29",
          "2023-08-01T09:45:56",
          "2023-08-01T09:46:19",
          "2023-08-01T09:46:42",
          "2023-08-01T09:47:09",
          "2023-08-01T09:47:32",
          "2023-08-01T09:47:57",
          "2023-08-01T09:48:23",
          "2023-08-01T09:48:50",
          "2023-08-01T09:49:18",
          "2023-08-01T09:49:48",
          "2023-08-01T09:50:13",
          "2023-08-01T09:50:38",
          "2023-08-01T09:51:00",
          "2023-08-01T09:51:37"
         ],
         "xaxis": "x",
         "y": [
          32,
          27,
          26,
          23,
          25,
          23,
          24,
          29,
          24,
          27,
          25,
          23,
          25,
          46,
          29,
          32,
          23,
          25,
          25,
          21,
          22,
          26,
          28,
          22,
          22,
          28,
          22,
          27,
          25,
          36,
          25,
          24,
          23,
          23,
          34,
          27,
          30,
          26,
          30,
          26,
          24,
          30,
          24,
          31,
          27,
          28,
          30,
          47,
          36,
          23,
          27,
          20,
          24,
          29,
          25,
          26,
          25,
          22,
          22,
          24,
          27,
          19,
          22,
          31,
          29,
          24,
          31,
          42,
          25,
          31,
          24,
          23,
          27,
          23,
          30,
          21,
          26,
          23,
          23,
          26,
          22,
          25,
          25,
          26,
          27,
          29,
          24,
          25,
          21,
          37
         ],
         "yaxis": "y"
        },
        {
         "alignmentgroup": "True",
         "hovertemplate": "Task names=MFALG Assembly<br>Timestamp=%{x}<br>Duration (seconds)=%{y}<extra></extra>",
         "legendgroup": "MFALG Assembly",
         "marker": {
          "color": "gold",
          "pattern": {
           "shape": ""
          }
         },
         "name": "MFALG Assembly",
         "offsetgroup": "MFALG Assembly",
         "orientation": "v",
         "showlegend": true,
         "textposition": "auto",
         "type": "bar",
         "width": 20000,
         "x": [
          "2023-08-01T15:51:46",
          "2023-08-01T15:53:41",
          "2023-08-01T16:03:00",
          "2023-08-01T16:04:48",
          "2023-08-01T16:06:35",
          "2023-08-01T16:08:32",
          "2023-08-01T16:10:26",
          "2023-08-01T16:12:37",
          "2023-08-01T16:14:33",
          "2023-08-01T16:16:29",
          "2023-08-01T16:18:15",
          "2023-08-01T16:20:06",
          "2023-08-01T16:22:21",
          "2023-08-01T16:24:28",
          "2023-08-01T16:26:13",
          "2023-08-01T16:27:52",
          "2023-08-01T16:29:40",
          "2023-08-01T16:52:43",
          "2023-08-01T16:54:59",
          "2023-08-01T16:57:16",
          "2023-08-01T17:00:02",
          "2023-08-01T17:02:09",
          "2023-08-01T17:03:46",
          "2023-08-01T17:05:34",
          "2023-08-01T17:07:24",
          "2023-08-01T17:09:17",
          "2023-08-01T17:11:02",
          "2023-08-01T17:12:53",
          "2023-08-01T17:14:47",
          "2023-08-01T17:16:40",
          "2023-08-01T17:18:40",
          "2023-08-01T17:20:29",
          "2023-08-01T17:22:23",
          "2023-08-01T17:24:13",
          "2023-08-01T17:26:12",
          "2023-08-01T17:28:51",
          "2023-08-01T17:31:30",
          "2023-08-01T17:33:32",
          "2023-08-01T17:35:26",
          "2023-08-01T17:37:51",
          "2023-08-01T17:39:50",
          "2023-08-01T17:42:07",
          "2023-08-01T17:44:57",
          "2023-08-01T17:46:59",
          "2023-08-01T17:48:54"
         ],
         "xaxis": "x",
         "y": [
          118,
          112,
          99,
          106,
          104,
          114,
          110,
          129,
          113,
          113,
          103,
          108,
          132,
          124,
          102,
          97,
          104,
          117,
          134,
          133,
          162,
          125,
          94,
          105,
          107,
          110,
          102,
          108,
          111,
          111,
          116,
          106,
          112,
          108,
          115,
          155,
          155,
          118,
          112,
          141,
          117,
          131,
          166,
          119,
          112
         ],
         "yaxis": "y"
        }
       ],
       "layout": {
        "bargap": 0,
        "barmode": "relative",
        "font": {
         "size": 10
        },
        "height": 300,
        "legend": {
         "title": {
          "text": "Task names"
         },
         "tracegroupgap": 0,
         "x": 0.66,
         "xanchor": "left",
         "y": 0.99,
         "yanchor": "top"
        },
        "margin": {
         "t": 60
        },
        "template": {
         "data": {
          "bar": [
           {
            "error_x": {
             "color": "#2a3f5f"
            },
            "error_y": {
             "color": "#2a3f5f"
            },
            "marker": {
             "line": {
              "color": "#E5ECF6",
              "width": 0.5
             },
             "pattern": {
              "fillmode": "overlay",
              "size": 10,
              "solidity": 0.2
             }
            },
            "type": "bar"
           }
          ],
          "barpolar": [
           {
            "marker": {
             "line": {
              "color": "#E5ECF6",
              "width": 0.5
             },
             "pattern": {
              "fillmode": "overlay",
              "size": 10,
              "solidity": 0.2
             }
            },
            "type": "barpolar"
           }
          ],
          "carpet": [
           {
            "aaxis": {
             "endlinecolor": "#2a3f5f",
             "gridcolor": "white",
             "linecolor": "white",
             "minorgridcolor": "white",
             "startlinecolor": "#2a3f5f"
            },
            "baxis": {
             "endlinecolor": "#2a3f5f",
             "gridcolor": "white",
             "linecolor": "white",
             "minorgridcolor": "white",
             "startlinecolor": "#2a3f5f"
            },
            "type": "carpet"
           }
          ],
          "choropleth": [
           {
            "colorbar": {
             "outlinewidth": 0,
             "ticks": ""
            },
            "type": "choropleth"
           }
          ],
          "contour": [
           {
            "colorbar": {
             "outlinewidth": 0,
             "ticks": ""
            },
            "colorscale": [
             [
              0,
              "#0d0887"
             ],
             [
              0.1111111111111111,
              "#46039f"
             ],
             [
              0.2222222222222222,
              "#7201a8"
             ],
             [
              0.3333333333333333,
              "#9c179e"
             ],
             [
              0.4444444444444444,
              "#bd3786"
             ],
             [
              0.5555555555555556,
              "#d8576b"
             ],
             [
              0.6666666666666666,
              "#ed7953"
             ],
             [
              0.7777777777777778,
              "#fb9f3a"
             ],
             [
              0.8888888888888888,
              "#fdca26"
             ],
             [
              1,
              "#f0f921"
             ]
            ],
            "type": "contour"
           }
          ],
          "contourcarpet": [
           {
            "colorbar": {
             "outlinewidth": 0,
             "ticks": ""
            },
            "type": "contourcarpet"
           }
          ],
          "heatmap": [
           {
            "colorbar": {
             "outlinewidth": 0,
             "ticks": ""
            },
            "colorscale": [
             [
              0,
              "#0d0887"
             ],
             [
              0.1111111111111111,
              "#46039f"
             ],
             [
              0.2222222222222222,
              "#7201a8"
             ],
             [
              0.3333333333333333,
              "#9c179e"
             ],
             [
              0.4444444444444444,
              "#bd3786"
             ],
             [
              0.5555555555555556,
              "#d8576b"
             ],
             [
              0.6666666666666666,
              "#ed7953"
             ],
             [
              0.7777777777777778,
              "#fb9f3a"
             ],
             [
              0.8888888888888888,
              "#fdca26"
             ],
             [
              1,
              "#f0f921"
             ]
            ],
            "type": "heatmap"
           }
          ],
          "heatmapgl": [
           {
            "colorbar": {
             "outlinewidth": 0,
             "ticks": ""
            },
            "colorscale": [
             [
              0,
              "#0d0887"
             ],
             [
              0.1111111111111111,
              "#46039f"
             ],
             [
              0.2222222222222222,
              "#7201a8"
             ],
             [
              0.3333333333333333,
              "#9c179e"
             ],
             [
              0.4444444444444444,
              "#bd3786"
             ],
             [
              0.5555555555555556,
              "#d8576b"
             ],
             [
              0.6666666666666666,
              "#ed7953"
             ],
             [
              0.7777777777777778,
              "#fb9f3a"
             ],
             [
              0.8888888888888888,
              "#fdca26"
             ],
             [
              1,
              "#f0f921"
             ]
            ],
            "type": "heatmapgl"
           }
          ],
          "histogram": [
           {
            "marker": {
             "pattern": {
              "fillmode": "overlay",
              "size": 10,
              "solidity": 0.2
             }
            },
            "type": "histogram"
           }
          ],
          "histogram2d": [
           {
            "colorbar": {
             "outlinewidth": 0,
             "ticks": ""
            },
            "colorscale": [
             [
              0,
              "#0d0887"
             ],
             [
              0.1111111111111111,
              "#46039f"
             ],
             [
              0.2222222222222222,
              "#7201a8"
             ],
             [
              0.3333333333333333,
              "#9c179e"
             ],
             [
              0.4444444444444444,
              "#bd3786"
             ],
             [
              0.5555555555555556,
              "#d8576b"
             ],
             [
              0.6666666666666666,
              "#ed7953"
             ],
             [
              0.7777777777777778,
              "#fb9f3a"
             ],
             [
              0.8888888888888888,
              "#fdca26"
             ],
             [
              1,
              "#f0f921"
             ]
            ],
            "type": "histogram2d"
           }
          ],
          "histogram2dcontour": [
           {
            "colorbar": {
             "outlinewidth": 0,
             "ticks": ""
            },
            "colorscale": [
             [
              0,
              "#0d0887"
             ],
             [
              0.1111111111111111,
              "#46039f"
             ],
             [
              0.2222222222222222,
              "#7201a8"
             ],
             [
              0.3333333333333333,
              "#9c179e"
             ],
             [
              0.4444444444444444,
              "#bd3786"
             ],
             [
              0.5555555555555556,
              "#d8576b"
             ],
             [
              0.6666666666666666,
              "#ed7953"
             ],
             [
              0.7777777777777778,
              "#fb9f3a"
             ],
             [
              0.8888888888888888,
              "#fdca26"
             ],
             [
              1,
              "#f0f921"
             ]
            ],
            "type": "histogram2dcontour"
           }
          ],
          "mesh3d": [
           {
            "colorbar": {
             "outlinewidth": 0,
             "ticks": ""
            },
            "type": "mesh3d"
           }
          ],
          "parcoords": [
           {
            "line": {
             "colorbar": {
              "outlinewidth": 0,
              "ticks": ""
             }
            },
            "type": "parcoords"
           }
          ],
          "pie": [
           {
            "automargin": true,
            "type": "pie"
           }
          ],
          "scatter": [
           {
            "fillpattern": {
             "fillmode": "overlay",
             "size": 10,
             "solidity": 0.2
            },
            "type": "scatter"
           }
          ],
          "scatter3d": [
           {
            "line": {
             "colorbar": {
              "outlinewidth": 0,
              "ticks": ""
             }
            },
            "marker": {
             "colorbar": {
              "outlinewidth": 0,
              "ticks": ""
             }
            },
            "type": "scatter3d"
           }
          ],
          "scattercarpet": [
           {
            "marker": {
             "colorbar": {
              "outlinewidth": 0,
              "ticks": ""
             }
            },
            "type": "scattercarpet"
           }
          ],
          "scattergeo": [
           {
            "marker": {
             "colorbar": {
              "outlinewidth": 0,
              "ticks": ""
             }
            },
            "type": "scattergeo"
           }
          ],
          "scattergl": [
           {
            "marker": {
             "colorbar": {
              "outlinewidth": 0,
              "ticks": ""
             }
            },
            "type": "scattergl"
           }
          ],
          "scattermapbox": [
           {
            "marker": {
             "colorbar": {
              "outlinewidth": 0,
              "ticks": ""
             }
            },
            "type": "scattermapbox"
           }
          ],
          "scatterpolar": [
           {
            "marker": {
             "colorbar": {
              "outlinewidth": 0,
              "ticks": ""
             }
            },
            "type": "scatterpolar"
           }
          ],
          "scatterpolargl": [
           {
            "marker": {
             "colorbar": {
              "outlinewidth": 0,
              "ticks": ""
             }
            },
            "type": "scatterpolargl"
           }
          ],
          "scatterternary": [
           {
            "marker": {
             "colorbar": {
              "outlinewidth": 0,
              "ticks": ""
             }
            },
            "type": "scatterternary"
           }
          ],
          "surface": [
           {
            "colorbar": {
             "outlinewidth": 0,
             "ticks": ""
            },
            "colorscale": [
             [
              0,
              "#0d0887"
             ],
             [
              0.1111111111111111,
              "#46039f"
             ],
             [
              0.2222222222222222,
              "#7201a8"
             ],
             [
              0.3333333333333333,
              "#9c179e"
             ],
             [
              0.4444444444444444,
              "#bd3786"
             ],
             [
              0.5555555555555556,
              "#d8576b"
             ],
             [
              0.6666666666666666,
              "#ed7953"
             ],
             [
              0.7777777777777778,
              "#fb9f3a"
             ],
             [
              0.8888888888888888,
              "#fdca26"
             ],
             [
              1,
              "#f0f921"
             ]
            ],
            "type": "surface"
           }
          ],
          "table": [
           {
            "cells": {
             "fill": {
              "color": "#EBF0F8"
             },
             "line": {
              "color": "white"
             }
            },
            "header": {
             "fill": {
              "color": "#C8D4E3"
             },
             "line": {
              "color": "white"
             }
            },
            "type": "table"
           }
          ]
         },
         "layout": {
          "annotationdefaults": {
           "arrowcolor": "#2a3f5f",
           "arrowhead": 0,
           "arrowwidth": 1
          },
          "autotypenumbers": "strict",
          "coloraxis": {
           "colorbar": {
            "outlinewidth": 0,
            "ticks": ""
           }
          },
          "colorscale": {
           "diverging": [
            [
             0,
             "#8e0152"
            ],
            [
             0.1,
             "#c51b7d"
            ],
            [
             0.2,
             "#de77ae"
            ],
            [
             0.3,
             "#f1b6da"
            ],
            [
             0.4,
             "#fde0ef"
            ],
            [
             0.5,
             "#f7f7f7"
            ],
            [
             0.6,
             "#e6f5d0"
            ],
            [
             0.7,
             "#b8e186"
            ],
            [
             0.8,
             "#7fbc41"
            ],
            [
             0.9,
             "#4d9221"
            ],
            [
             1,
             "#276419"
            ]
           ],
           "sequential": [
            [
             0,
             "#0d0887"
            ],
            [
             0.1111111111111111,
             "#46039f"
            ],
            [
             0.2222222222222222,
             "#7201a8"
            ],
            [
             0.3333333333333333,
             "#9c179e"
            ],
            [
             0.4444444444444444,
             "#bd3786"
            ],
            [
             0.5555555555555556,
             "#d8576b"
            ],
            [
             0.6666666666666666,
             "#ed7953"
            ],
            [
             0.7777777777777778,
             "#fb9f3a"
            ],
            [
             0.8888888888888888,
             "#fdca26"
            ],
            [
             1,
             "#f0f921"
            ]
           ],
           "sequentialminus": [
            [
             0,
             "#0d0887"
            ],
            [
             0.1111111111111111,
             "#46039f"
            ],
            [
             0.2222222222222222,
             "#7201a8"
            ],
            [
             0.3333333333333333,
             "#9c179e"
            ],
            [
             0.4444444444444444,
             "#bd3786"
            ],
            [
             0.5555555555555556,
             "#d8576b"
            ],
            [
             0.6666666666666666,
             "#ed7953"
            ],
            [
             0.7777777777777778,
             "#fb9f3a"
            ],
            [
             0.8888888888888888,
             "#fdca26"
            ],
            [
             1,
             "#f0f921"
            ]
           ]
          },
          "colorway": [
           "#636efa",
           "#EF553B",
           "#00cc96",
           "#ab63fa",
           "#FFA15A",
           "#19d3f3",
           "#FF6692",
           "#B6E880",
           "#FF97FF",
           "#FECB52"
          ],
          "font": {
           "color": "#2a3f5f"
          },
          "geo": {
           "bgcolor": "white",
           "lakecolor": "white",
           "landcolor": "#E5ECF6",
           "showlakes": true,
           "showland": true,
           "subunitcolor": "white"
          },
          "hoverlabel": {
           "align": "left"
          },
          "hovermode": "closest",
          "mapbox": {
           "style": "light"
          },
          "paper_bgcolor": "white",
          "plot_bgcolor": "#E5ECF6",
          "polar": {
           "angularaxis": {
            "gridcolor": "white",
            "linecolor": "white",
            "ticks": ""
           },
           "bgcolor": "#E5ECF6",
           "radialaxis": {
            "gridcolor": "white",
            "linecolor": "white",
            "ticks": ""
           }
          },
          "scene": {
           "xaxis": {
            "backgroundcolor": "#E5ECF6",
            "gridcolor": "white",
            "gridwidth": 2,
            "linecolor": "white",
            "showbackground": true,
            "ticks": "",
            "zerolinecolor": "white"
           },
           "yaxis": {
            "backgroundcolor": "#E5ECF6",
            "gridcolor": "white",
            "gridwidth": 2,
            "linecolor": "white",
            "showbackground": true,
            "ticks": "",
            "zerolinecolor": "white"
           },
           "zaxis": {
            "backgroundcolor": "#E5ECF6",
            "gridcolor": "white",
            "gridwidth": 2,
            "linecolor": "white",
            "showbackground": true,
            "ticks": "",
            "zerolinecolor": "white"
           }
          },
          "shapedefaults": {
           "line": {
            "color": "#2a3f5f"
           }
          },
          "ternary": {
           "aaxis": {
            "gridcolor": "white",
            "linecolor": "white",
            "ticks": ""
           },
           "baxis": {
            "gridcolor": "white",
            "linecolor": "white",
            "ticks": ""
           },
           "bgcolor": "#E5ECF6",
           "caxis": {
            "gridcolor": "white",
            "linecolor": "white",
            "ticks": ""
           }
          },
          "title": {
           "x": 0.05
          },
          "xaxis": {
           "automargin": true,
           "gridcolor": "white",
           "linecolor": "white",
           "ticks": "",
           "title": {
            "standoff": 15
           },
           "zerolinecolor": "white",
           "zerolinewidth": 2
          },
          "yaxis": {
           "automargin": true,
           "gridcolor": "white",
           "linecolor": "white",
           "ticks": "",
           "title": {
            "standoff": 15
           },
           "zerolinecolor": "white",
           "zerolinewidth": 2
          }
         }
        },
        "width": 700,
        "xaxis": {
         "anchor": "y",
         "domain": [
          0,
          1
         ],
         "range": [
          "2023-08-01 12:00:00",
          "2023-08-01 14:45:00"
         ],
         "showgrid": true,
         "title": {
          "text": "Timestamp"
         }
        },
        "yaxis": {
         "anchor": "x",
         "domain": [
          0,
          1
         ],
         "range": [
          0,
          167
         ],
         "title": {
          "text": "Duration (seconds)"
         }
        }
       }
      }
     },
     "metadata": {},
     "output_type": "display_data"
    },
    {
     "name": "stdout",
     "output_type": "stream",
     "text": [
      "Time person was near: 0 days 02:25:00\n",
      "Time person was using node: 0 days 02:08:02\n",
      "Percentage of node usage per day: 88.0 \n",
      "\n",
      "\n",
      "\n",
      "\n",
      "02_08\n",
      "data_fabrica/task_02_08.csv\n",
      "[  0.  nan  nan 120.  nan  nan  nan  nan]\n",
      "Reference average\n",
      "[2080.66666667   12.           12.          144.           40.\n",
      "   60.                   nan           nan]\n",
      "Outliers:\n",
      "Task: 0\n",
      "Average: 2080.67\n",
      "Median: 1445.0\n",
      "Variance: 3683136.33\n",
      "Standard deviation: 1919.15\n",
      "Count: 3.0\n",
      "total secs: 6242\n",
      "Count per hour: 2\n",
      "\n",
      "Task: 3\n",
      "Average: 123.21\n",
      "Median: 120.0\n",
      "Variance: 508.96\n",
      "Standard deviation: 22.56\n",
      "Count: 104.0\n",
      "total secs: 12814\n",
      "Count per hour: 29\n",
      "\n",
      "Outliers removed: 10\n",
      "MFALG Assembly 12814\n",
      "0 days 03:33:34\n"
     ]
    },
    {
     "data": {
      "application/vnd.plotly.v1+json": {
       "config": {
        "plotlyServerURL": "https://plot.ly"
       },
       "data": [
        {
         "customdata": [
          [
           "MFALG Assembly"
          ]
         ],
         "domain": {
          "x": [
           0,
           1
          ],
          "y": [
           0,
           1
          ]
         },
         "hovertemplate": "task_name=%{customdata[0]}<br>sec=%{value}<extra></extra>",
         "labels": [
          "MFALG Assembly"
         ],
         "legendgroup": "",
         "marker": {
          "colors": [
           "gold"
          ]
         },
         "name": "",
         "showlegend": true,
         "type": "pie",
         "values": [
          12814
         ]
        }
       ],
       "layout": {
        "legend": {
         "tracegroupgap": 0
        },
        "margin": {
         "t": 60
        },
        "template": {
         "data": {
          "bar": [
           {
            "error_x": {
             "color": "#2a3f5f"
            },
            "error_y": {
             "color": "#2a3f5f"
            },
            "marker": {
             "line": {
              "color": "#E5ECF6",
              "width": 0.5
             },
             "pattern": {
              "fillmode": "overlay",
              "size": 10,
              "solidity": 0.2
             }
            },
            "type": "bar"
           }
          ],
          "barpolar": [
           {
            "marker": {
             "line": {
              "color": "#E5ECF6",
              "width": 0.5
             },
             "pattern": {
              "fillmode": "overlay",
              "size": 10,
              "solidity": 0.2
             }
            },
            "type": "barpolar"
           }
          ],
          "carpet": [
           {
            "aaxis": {
             "endlinecolor": "#2a3f5f",
             "gridcolor": "white",
             "linecolor": "white",
             "minorgridcolor": "white",
             "startlinecolor": "#2a3f5f"
            },
            "baxis": {
             "endlinecolor": "#2a3f5f",
             "gridcolor": "white",
             "linecolor": "white",
             "minorgridcolor": "white",
             "startlinecolor": "#2a3f5f"
            },
            "type": "carpet"
           }
          ],
          "choropleth": [
           {
            "colorbar": {
             "outlinewidth": 0,
             "ticks": ""
            },
            "type": "choropleth"
           }
          ],
          "contour": [
           {
            "colorbar": {
             "outlinewidth": 0,
             "ticks": ""
            },
            "colorscale": [
             [
              0,
              "#0d0887"
             ],
             [
              0.1111111111111111,
              "#46039f"
             ],
             [
              0.2222222222222222,
              "#7201a8"
             ],
             [
              0.3333333333333333,
              "#9c179e"
             ],
             [
              0.4444444444444444,
              "#bd3786"
             ],
             [
              0.5555555555555556,
              "#d8576b"
             ],
             [
              0.6666666666666666,
              "#ed7953"
             ],
             [
              0.7777777777777778,
              "#fb9f3a"
             ],
             [
              0.8888888888888888,
              "#fdca26"
             ],
             [
              1,
              "#f0f921"
             ]
            ],
            "type": "contour"
           }
          ],
          "contourcarpet": [
           {
            "colorbar": {
             "outlinewidth": 0,
             "ticks": ""
            },
            "type": "contourcarpet"
           }
          ],
          "heatmap": [
           {
            "colorbar": {
             "outlinewidth": 0,
             "ticks": ""
            },
            "colorscale": [
             [
              0,
              "#0d0887"
             ],
             [
              0.1111111111111111,
              "#46039f"
             ],
             [
              0.2222222222222222,
              "#7201a8"
             ],
             [
              0.3333333333333333,
              "#9c179e"
             ],
             [
              0.4444444444444444,
              "#bd3786"
             ],
             [
              0.5555555555555556,
              "#d8576b"
             ],
             [
              0.6666666666666666,
              "#ed7953"
             ],
             [
              0.7777777777777778,
              "#fb9f3a"
             ],
             [
              0.8888888888888888,
              "#fdca26"
             ],
             [
              1,
              "#f0f921"
             ]
            ],
            "type": "heatmap"
           }
          ],
          "heatmapgl": [
           {
            "colorbar": {
             "outlinewidth": 0,
             "ticks": ""
            },
            "colorscale": [
             [
              0,
              "#0d0887"
             ],
             [
              0.1111111111111111,
              "#46039f"
             ],
             [
              0.2222222222222222,
              "#7201a8"
             ],
             [
              0.3333333333333333,
              "#9c179e"
             ],
             [
              0.4444444444444444,
              "#bd3786"
             ],
             [
              0.5555555555555556,
              "#d8576b"
             ],
             [
              0.6666666666666666,
              "#ed7953"
             ],
             [
              0.7777777777777778,
              "#fb9f3a"
             ],
             [
              0.8888888888888888,
              "#fdca26"
             ],
             [
              1,
              "#f0f921"
             ]
            ],
            "type": "heatmapgl"
           }
          ],
          "histogram": [
           {
            "marker": {
             "pattern": {
              "fillmode": "overlay",
              "size": 10,
              "solidity": 0.2
             }
            },
            "type": "histogram"
           }
          ],
          "histogram2d": [
           {
            "colorbar": {
             "outlinewidth": 0,
             "ticks": ""
            },
            "colorscale": [
             [
              0,
              "#0d0887"
             ],
             [
              0.1111111111111111,
              "#46039f"
             ],
             [
              0.2222222222222222,
              "#7201a8"
             ],
             [
              0.3333333333333333,
              "#9c179e"
             ],
             [
              0.4444444444444444,
              "#bd3786"
             ],
             [
              0.5555555555555556,
              "#d8576b"
             ],
             [
              0.6666666666666666,
              "#ed7953"
             ],
             [
              0.7777777777777778,
              "#fb9f3a"
             ],
             [
              0.8888888888888888,
              "#fdca26"
             ],
             [
              1,
              "#f0f921"
             ]
            ],
            "type": "histogram2d"
           }
          ],
          "histogram2dcontour": [
           {
            "colorbar": {
             "outlinewidth": 0,
             "ticks": ""
            },
            "colorscale": [
             [
              0,
              "#0d0887"
             ],
             [
              0.1111111111111111,
              "#46039f"
             ],
             [
              0.2222222222222222,
              "#7201a8"
             ],
             [
              0.3333333333333333,
              "#9c179e"
             ],
             [
              0.4444444444444444,
              "#bd3786"
             ],
             [
              0.5555555555555556,
              "#d8576b"
             ],
             [
              0.6666666666666666,
              "#ed7953"
             ],
             [
              0.7777777777777778,
              "#fb9f3a"
             ],
             [
              0.8888888888888888,
              "#fdca26"
             ],
             [
              1,
              "#f0f921"
             ]
            ],
            "type": "histogram2dcontour"
           }
          ],
          "mesh3d": [
           {
            "colorbar": {
             "outlinewidth": 0,
             "ticks": ""
            },
            "type": "mesh3d"
           }
          ],
          "parcoords": [
           {
            "line": {
             "colorbar": {
              "outlinewidth": 0,
              "ticks": ""
             }
            },
            "type": "parcoords"
           }
          ],
          "pie": [
           {
            "automargin": true,
            "type": "pie"
           }
          ],
          "scatter": [
           {
            "fillpattern": {
             "fillmode": "overlay",
             "size": 10,
             "solidity": 0.2
            },
            "type": "scatter"
           }
          ],
          "scatter3d": [
           {
            "line": {
             "colorbar": {
              "outlinewidth": 0,
              "ticks": ""
             }
            },
            "marker": {
             "colorbar": {
              "outlinewidth": 0,
              "ticks": ""
             }
            },
            "type": "scatter3d"
           }
          ],
          "scattercarpet": [
           {
            "marker": {
             "colorbar": {
              "outlinewidth": 0,
              "ticks": ""
             }
            },
            "type": "scattercarpet"
           }
          ],
          "scattergeo": [
           {
            "marker": {
             "colorbar": {
              "outlinewidth": 0,
              "ticks": ""
             }
            },
            "type": "scattergeo"
           }
          ],
          "scattergl": [
           {
            "marker": {
             "colorbar": {
              "outlinewidth": 0,
              "ticks": ""
             }
            },
            "type": "scattergl"
           }
          ],
          "scattermapbox": [
           {
            "marker": {
             "colorbar": {
              "outlinewidth": 0,
              "ticks": ""
             }
            },
            "type": "scattermapbox"
           }
          ],
          "scatterpolar": [
           {
            "marker": {
             "colorbar": {
              "outlinewidth": 0,
              "ticks": ""
             }
            },
            "type": "scatterpolar"
           }
          ],
          "scatterpolargl": [
           {
            "marker": {
             "colorbar": {
              "outlinewidth": 0,
              "ticks": ""
             }
            },
            "type": "scatterpolargl"
           }
          ],
          "scatterternary": [
           {
            "marker": {
             "colorbar": {
              "outlinewidth": 0,
              "ticks": ""
             }
            },
            "type": "scatterternary"
           }
          ],
          "surface": [
           {
            "colorbar": {
             "outlinewidth": 0,
             "ticks": ""
            },
            "colorscale": [
             [
              0,
              "#0d0887"
             ],
             [
              0.1111111111111111,
              "#46039f"
             ],
             [
              0.2222222222222222,
              "#7201a8"
             ],
             [
              0.3333333333333333,
              "#9c179e"
             ],
             [
              0.4444444444444444,
              "#bd3786"
             ],
             [
              0.5555555555555556,
              "#d8576b"
             ],
             [
              0.6666666666666666,
              "#ed7953"
             ],
             [
              0.7777777777777778,
              "#fb9f3a"
             ],
             [
              0.8888888888888888,
              "#fdca26"
             ],
             [
              1,
              "#f0f921"
             ]
            ],
            "type": "surface"
           }
          ],
          "table": [
           {
            "cells": {
             "fill": {
              "color": "#EBF0F8"
             },
             "line": {
              "color": "white"
             }
            },
            "header": {
             "fill": {
              "color": "#C8D4E3"
             },
             "line": {
              "color": "white"
             }
            },
            "type": "table"
           }
          ]
         },
         "layout": {
          "annotationdefaults": {
           "arrowcolor": "#2a3f5f",
           "arrowhead": 0,
           "arrowwidth": 1
          },
          "autotypenumbers": "strict",
          "coloraxis": {
           "colorbar": {
            "outlinewidth": 0,
            "ticks": ""
           }
          },
          "colorscale": {
           "diverging": [
            [
             0,
             "#8e0152"
            ],
            [
             0.1,
             "#c51b7d"
            ],
            [
             0.2,
             "#de77ae"
            ],
            [
             0.3,
             "#f1b6da"
            ],
            [
             0.4,
             "#fde0ef"
            ],
            [
             0.5,
             "#f7f7f7"
            ],
            [
             0.6,
             "#e6f5d0"
            ],
            [
             0.7,
             "#b8e186"
            ],
            [
             0.8,
             "#7fbc41"
            ],
            [
             0.9,
             "#4d9221"
            ],
            [
             1,
             "#276419"
            ]
           ],
           "sequential": [
            [
             0,
             "#0d0887"
            ],
            [
             0.1111111111111111,
             "#46039f"
            ],
            [
             0.2222222222222222,
             "#7201a8"
            ],
            [
             0.3333333333333333,
             "#9c179e"
            ],
            [
             0.4444444444444444,
             "#bd3786"
            ],
            [
             0.5555555555555556,
             "#d8576b"
            ],
            [
             0.6666666666666666,
             "#ed7953"
            ],
            [
             0.7777777777777778,
             "#fb9f3a"
            ],
            [
             0.8888888888888888,
             "#fdca26"
            ],
            [
             1,
             "#f0f921"
            ]
           ],
           "sequentialminus": [
            [
             0,
             "#0d0887"
            ],
            [
             0.1111111111111111,
             "#46039f"
            ],
            [
             0.2222222222222222,
             "#7201a8"
            ],
            [
             0.3333333333333333,
             "#9c179e"
            ],
            [
             0.4444444444444444,
             "#bd3786"
            ],
            [
             0.5555555555555556,
             "#d8576b"
            ],
            [
             0.6666666666666666,
             "#ed7953"
            ],
            [
             0.7777777777777778,
             "#fb9f3a"
            ],
            [
             0.8888888888888888,
             "#fdca26"
            ],
            [
             1,
             "#f0f921"
            ]
           ]
          },
          "colorway": [
           "#636efa",
           "#EF553B",
           "#00cc96",
           "#ab63fa",
           "#FFA15A",
           "#19d3f3",
           "#FF6692",
           "#B6E880",
           "#FF97FF",
           "#FECB52"
          ],
          "font": {
           "color": "#2a3f5f"
          },
          "geo": {
           "bgcolor": "white",
           "lakecolor": "white",
           "landcolor": "#E5ECF6",
           "showlakes": true,
           "showland": true,
           "subunitcolor": "white"
          },
          "hoverlabel": {
           "align": "left"
          },
          "hovermode": "closest",
          "mapbox": {
           "style": "light"
          },
          "paper_bgcolor": "white",
          "plot_bgcolor": "#E5ECF6",
          "polar": {
           "angularaxis": {
            "gridcolor": "white",
            "linecolor": "white",
            "ticks": ""
           },
           "bgcolor": "#E5ECF6",
           "radialaxis": {
            "gridcolor": "white",
            "linecolor": "white",
            "ticks": ""
           }
          },
          "scene": {
           "xaxis": {
            "backgroundcolor": "#E5ECF6",
            "gridcolor": "white",
            "gridwidth": 2,
            "linecolor": "white",
            "showbackground": true,
            "ticks": "",
            "zerolinecolor": "white"
           },
           "yaxis": {
            "backgroundcolor": "#E5ECF6",
            "gridcolor": "white",
            "gridwidth": 2,
            "linecolor": "white",
            "showbackground": true,
            "ticks": "",
            "zerolinecolor": "white"
           },
           "zaxis": {
            "backgroundcolor": "#E5ECF6",
            "gridcolor": "white",
            "gridwidth": 2,
            "linecolor": "white",
            "showbackground": true,
            "ticks": "",
            "zerolinecolor": "white"
           }
          },
          "shapedefaults": {
           "line": {
            "color": "#2a3f5f"
           }
          },
          "ternary": {
           "aaxis": {
            "gridcolor": "white",
            "linecolor": "white",
            "ticks": ""
           },
           "baxis": {
            "gridcolor": "white",
            "linecolor": "white",
            "ticks": ""
           },
           "bgcolor": "#E5ECF6",
           "caxis": {
            "gridcolor": "white",
            "linecolor": "white",
            "ticks": ""
           }
          },
          "title": {
           "x": 0.05
          },
          "xaxis": {
           "automargin": true,
           "gridcolor": "white",
           "linecolor": "white",
           "ticks": "",
           "title": {
            "standoff": 15
           },
           "zerolinecolor": "white",
           "zerolinewidth": 2
          },
          "yaxis": {
           "automargin": true,
           "gridcolor": "white",
           "linecolor": "white",
           "ticks": "",
           "title": {
            "standoff": 15
           },
           "zerolinecolor": "white",
           "zerolinewidth": 2
          }
         }
        },
        "width": 600
       }
      }
     },
     "metadata": {},
     "output_type": "display_data"
    },
    {
     "name": "stdout",
     "output_type": "stream",
     "text": [
      "Fernando 12814\n",
      "0 days 03:33:34\n"
     ]
    },
    {
     "data": {
      "application/vnd.plotly.v1+json": {
       "config": {
        "plotlyServerURL": "https://plot.ly"
       },
       "data": [
        {
         "customdata": [
          [
           "Fernando"
          ]
         ],
         "domain": {
          "x": [
           0,
           1
          ],
          "y": [
           0,
           1
          ]
         },
         "hovertemplate": "emp_name=%{customdata[0]}<br>sec=%{value}<extra></extra>",
         "labels": [
          "Fernando"
         ],
         "legendgroup": "",
         "marker": {
          "colors": [
           "cornflowerblue"
          ]
         },
         "name": "",
         "showlegend": true,
         "type": "pie",
         "values": [
          12814
         ]
        }
       ],
       "layout": {
        "legend": {
         "tracegroupgap": 0
        },
        "margin": {
         "t": 60
        },
        "template": {
         "data": {
          "bar": [
           {
            "error_x": {
             "color": "#2a3f5f"
            },
            "error_y": {
             "color": "#2a3f5f"
            },
            "marker": {
             "line": {
              "color": "#E5ECF6",
              "width": 0.5
             },
             "pattern": {
              "fillmode": "overlay",
              "size": 10,
              "solidity": 0.2
             }
            },
            "type": "bar"
           }
          ],
          "barpolar": [
           {
            "marker": {
             "line": {
              "color": "#E5ECF6",
              "width": 0.5
             },
             "pattern": {
              "fillmode": "overlay",
              "size": 10,
              "solidity": 0.2
             }
            },
            "type": "barpolar"
           }
          ],
          "carpet": [
           {
            "aaxis": {
             "endlinecolor": "#2a3f5f",
             "gridcolor": "white",
             "linecolor": "white",
             "minorgridcolor": "white",
             "startlinecolor": "#2a3f5f"
            },
            "baxis": {
             "endlinecolor": "#2a3f5f",
             "gridcolor": "white",
             "linecolor": "white",
             "minorgridcolor": "white",
             "startlinecolor": "#2a3f5f"
            },
            "type": "carpet"
           }
          ],
          "choropleth": [
           {
            "colorbar": {
             "outlinewidth": 0,
             "ticks": ""
            },
            "type": "choropleth"
           }
          ],
          "contour": [
           {
            "colorbar": {
             "outlinewidth": 0,
             "ticks": ""
            },
            "colorscale": [
             [
              0,
              "#0d0887"
             ],
             [
              0.1111111111111111,
              "#46039f"
             ],
             [
              0.2222222222222222,
              "#7201a8"
             ],
             [
              0.3333333333333333,
              "#9c179e"
             ],
             [
              0.4444444444444444,
              "#bd3786"
             ],
             [
              0.5555555555555556,
              "#d8576b"
             ],
             [
              0.6666666666666666,
              "#ed7953"
             ],
             [
              0.7777777777777778,
              "#fb9f3a"
             ],
             [
              0.8888888888888888,
              "#fdca26"
             ],
             [
              1,
              "#f0f921"
             ]
            ],
            "type": "contour"
           }
          ],
          "contourcarpet": [
           {
            "colorbar": {
             "outlinewidth": 0,
             "ticks": ""
            },
            "type": "contourcarpet"
           }
          ],
          "heatmap": [
           {
            "colorbar": {
             "outlinewidth": 0,
             "ticks": ""
            },
            "colorscale": [
             [
              0,
              "#0d0887"
             ],
             [
              0.1111111111111111,
              "#46039f"
             ],
             [
              0.2222222222222222,
              "#7201a8"
             ],
             [
              0.3333333333333333,
              "#9c179e"
             ],
             [
              0.4444444444444444,
              "#bd3786"
             ],
             [
              0.5555555555555556,
              "#d8576b"
             ],
             [
              0.6666666666666666,
              "#ed7953"
             ],
             [
              0.7777777777777778,
              "#fb9f3a"
             ],
             [
              0.8888888888888888,
              "#fdca26"
             ],
             [
              1,
              "#f0f921"
             ]
            ],
            "type": "heatmap"
           }
          ],
          "heatmapgl": [
           {
            "colorbar": {
             "outlinewidth": 0,
             "ticks": ""
            },
            "colorscale": [
             [
              0,
              "#0d0887"
             ],
             [
              0.1111111111111111,
              "#46039f"
             ],
             [
              0.2222222222222222,
              "#7201a8"
             ],
             [
              0.3333333333333333,
              "#9c179e"
             ],
             [
              0.4444444444444444,
              "#bd3786"
             ],
             [
              0.5555555555555556,
              "#d8576b"
             ],
             [
              0.6666666666666666,
              "#ed7953"
             ],
             [
              0.7777777777777778,
              "#fb9f3a"
             ],
             [
              0.8888888888888888,
              "#fdca26"
             ],
             [
              1,
              "#f0f921"
             ]
            ],
            "type": "heatmapgl"
           }
          ],
          "histogram": [
           {
            "marker": {
             "pattern": {
              "fillmode": "overlay",
              "size": 10,
              "solidity": 0.2
             }
            },
            "type": "histogram"
           }
          ],
          "histogram2d": [
           {
            "colorbar": {
             "outlinewidth": 0,
             "ticks": ""
            },
            "colorscale": [
             [
              0,
              "#0d0887"
             ],
             [
              0.1111111111111111,
              "#46039f"
             ],
             [
              0.2222222222222222,
              "#7201a8"
             ],
             [
              0.3333333333333333,
              "#9c179e"
             ],
             [
              0.4444444444444444,
              "#bd3786"
             ],
             [
              0.5555555555555556,
              "#d8576b"
             ],
             [
              0.6666666666666666,
              "#ed7953"
             ],
             [
              0.7777777777777778,
              "#fb9f3a"
             ],
             [
              0.8888888888888888,
              "#fdca26"
             ],
             [
              1,
              "#f0f921"
             ]
            ],
            "type": "histogram2d"
           }
          ],
          "histogram2dcontour": [
           {
            "colorbar": {
             "outlinewidth": 0,
             "ticks": ""
            },
            "colorscale": [
             [
              0,
              "#0d0887"
             ],
             [
              0.1111111111111111,
              "#46039f"
             ],
             [
              0.2222222222222222,
              "#7201a8"
             ],
             [
              0.3333333333333333,
              "#9c179e"
             ],
             [
              0.4444444444444444,
              "#bd3786"
             ],
             [
              0.5555555555555556,
              "#d8576b"
             ],
             [
              0.6666666666666666,
              "#ed7953"
             ],
             [
              0.7777777777777778,
              "#fb9f3a"
             ],
             [
              0.8888888888888888,
              "#fdca26"
             ],
             [
              1,
              "#f0f921"
             ]
            ],
            "type": "histogram2dcontour"
           }
          ],
          "mesh3d": [
           {
            "colorbar": {
             "outlinewidth": 0,
             "ticks": ""
            },
            "type": "mesh3d"
           }
          ],
          "parcoords": [
           {
            "line": {
             "colorbar": {
              "outlinewidth": 0,
              "ticks": ""
             }
            },
            "type": "parcoords"
           }
          ],
          "pie": [
           {
            "automargin": true,
            "type": "pie"
           }
          ],
          "scatter": [
           {
            "fillpattern": {
             "fillmode": "overlay",
             "size": 10,
             "solidity": 0.2
            },
            "type": "scatter"
           }
          ],
          "scatter3d": [
           {
            "line": {
             "colorbar": {
              "outlinewidth": 0,
              "ticks": ""
             }
            },
            "marker": {
             "colorbar": {
              "outlinewidth": 0,
              "ticks": ""
             }
            },
            "type": "scatter3d"
           }
          ],
          "scattercarpet": [
           {
            "marker": {
             "colorbar": {
              "outlinewidth": 0,
              "ticks": ""
             }
            },
            "type": "scattercarpet"
           }
          ],
          "scattergeo": [
           {
            "marker": {
             "colorbar": {
              "outlinewidth": 0,
              "ticks": ""
             }
            },
            "type": "scattergeo"
           }
          ],
          "scattergl": [
           {
            "marker": {
             "colorbar": {
              "outlinewidth": 0,
              "ticks": ""
             }
            },
            "type": "scattergl"
           }
          ],
          "scattermapbox": [
           {
            "marker": {
             "colorbar": {
              "outlinewidth": 0,
              "ticks": ""
             }
            },
            "type": "scattermapbox"
           }
          ],
          "scatterpolar": [
           {
            "marker": {
             "colorbar": {
              "outlinewidth": 0,
              "ticks": ""
             }
            },
            "type": "scatterpolar"
           }
          ],
          "scatterpolargl": [
           {
            "marker": {
             "colorbar": {
              "outlinewidth": 0,
              "ticks": ""
             }
            },
            "type": "scatterpolargl"
           }
          ],
          "scatterternary": [
           {
            "marker": {
             "colorbar": {
              "outlinewidth": 0,
              "ticks": ""
             }
            },
            "type": "scatterternary"
           }
          ],
          "surface": [
           {
            "colorbar": {
             "outlinewidth": 0,
             "ticks": ""
            },
            "colorscale": [
             [
              0,
              "#0d0887"
             ],
             [
              0.1111111111111111,
              "#46039f"
             ],
             [
              0.2222222222222222,
              "#7201a8"
             ],
             [
              0.3333333333333333,
              "#9c179e"
             ],
             [
              0.4444444444444444,
              "#bd3786"
             ],
             [
              0.5555555555555556,
              "#d8576b"
             ],
             [
              0.6666666666666666,
              "#ed7953"
             ],
             [
              0.7777777777777778,
              "#fb9f3a"
             ],
             [
              0.8888888888888888,
              "#fdca26"
             ],
             [
              1,
              "#f0f921"
             ]
            ],
            "type": "surface"
           }
          ],
          "table": [
           {
            "cells": {
             "fill": {
              "color": "#EBF0F8"
             },
             "line": {
              "color": "white"
             }
            },
            "header": {
             "fill": {
              "color": "#C8D4E3"
             },
             "line": {
              "color": "white"
             }
            },
            "type": "table"
           }
          ]
         },
         "layout": {
          "annotationdefaults": {
           "arrowcolor": "#2a3f5f",
           "arrowhead": 0,
           "arrowwidth": 1
          },
          "autotypenumbers": "strict",
          "coloraxis": {
           "colorbar": {
            "outlinewidth": 0,
            "ticks": ""
           }
          },
          "colorscale": {
           "diverging": [
            [
             0,
             "#8e0152"
            ],
            [
             0.1,
             "#c51b7d"
            ],
            [
             0.2,
             "#de77ae"
            ],
            [
             0.3,
             "#f1b6da"
            ],
            [
             0.4,
             "#fde0ef"
            ],
            [
             0.5,
             "#f7f7f7"
            ],
            [
             0.6,
             "#e6f5d0"
            ],
            [
             0.7,
             "#b8e186"
            ],
            [
             0.8,
             "#7fbc41"
            ],
            [
             0.9,
             "#4d9221"
            ],
            [
             1,
             "#276419"
            ]
           ],
           "sequential": [
            [
             0,
             "#0d0887"
            ],
            [
             0.1111111111111111,
             "#46039f"
            ],
            [
             0.2222222222222222,
             "#7201a8"
            ],
            [
             0.3333333333333333,
             "#9c179e"
            ],
            [
             0.4444444444444444,
             "#bd3786"
            ],
            [
             0.5555555555555556,
             "#d8576b"
            ],
            [
             0.6666666666666666,
             "#ed7953"
            ],
            [
             0.7777777777777778,
             "#fb9f3a"
            ],
            [
             0.8888888888888888,
             "#fdca26"
            ],
            [
             1,
             "#f0f921"
            ]
           ],
           "sequentialminus": [
            [
             0,
             "#0d0887"
            ],
            [
             0.1111111111111111,
             "#46039f"
            ],
            [
             0.2222222222222222,
             "#7201a8"
            ],
            [
             0.3333333333333333,
             "#9c179e"
            ],
            [
             0.4444444444444444,
             "#bd3786"
            ],
            [
             0.5555555555555556,
             "#d8576b"
            ],
            [
             0.6666666666666666,
             "#ed7953"
            ],
            [
             0.7777777777777778,
             "#fb9f3a"
            ],
            [
             0.8888888888888888,
             "#fdca26"
            ],
            [
             1,
             "#f0f921"
            ]
           ]
          },
          "colorway": [
           "#636efa",
           "#EF553B",
           "#00cc96",
           "#ab63fa",
           "#FFA15A",
           "#19d3f3",
           "#FF6692",
           "#B6E880",
           "#FF97FF",
           "#FECB52"
          ],
          "font": {
           "color": "#2a3f5f"
          },
          "geo": {
           "bgcolor": "white",
           "lakecolor": "white",
           "landcolor": "#E5ECF6",
           "showlakes": true,
           "showland": true,
           "subunitcolor": "white"
          },
          "hoverlabel": {
           "align": "left"
          },
          "hovermode": "closest",
          "mapbox": {
           "style": "light"
          },
          "paper_bgcolor": "white",
          "plot_bgcolor": "#E5ECF6",
          "polar": {
           "angularaxis": {
            "gridcolor": "white",
            "linecolor": "white",
            "ticks": ""
           },
           "bgcolor": "#E5ECF6",
           "radialaxis": {
            "gridcolor": "white",
            "linecolor": "white",
            "ticks": ""
           }
          },
          "scene": {
           "xaxis": {
            "backgroundcolor": "#E5ECF6",
            "gridcolor": "white",
            "gridwidth": 2,
            "linecolor": "white",
            "showbackground": true,
            "ticks": "",
            "zerolinecolor": "white"
           },
           "yaxis": {
            "backgroundcolor": "#E5ECF6",
            "gridcolor": "white",
            "gridwidth": 2,
            "linecolor": "white",
            "showbackground": true,
            "ticks": "",
            "zerolinecolor": "white"
           },
           "zaxis": {
            "backgroundcolor": "#E5ECF6",
            "gridcolor": "white",
            "gridwidth": 2,
            "linecolor": "white",
            "showbackground": true,
            "ticks": "",
            "zerolinecolor": "white"
           }
          },
          "shapedefaults": {
           "line": {
            "color": "#2a3f5f"
           }
          },
          "ternary": {
           "aaxis": {
            "gridcolor": "white",
            "linecolor": "white",
            "ticks": ""
           },
           "baxis": {
            "gridcolor": "white",
            "linecolor": "white",
            "ticks": ""
           },
           "bgcolor": "#E5ECF6",
           "caxis": {
            "gridcolor": "white",
            "linecolor": "white",
            "ticks": ""
           }
          },
          "title": {
           "x": 0.05
          },
          "xaxis": {
           "automargin": true,
           "gridcolor": "white",
           "linecolor": "white",
           "ticks": "",
           "title": {
            "standoff": 15
           },
           "zerolinecolor": "white",
           "zerolinewidth": 2
          },
          "yaxis": {
           "automargin": true,
           "gridcolor": "white",
           "linecolor": "white",
           "ticks": "",
           "title": {
            "standoff": 15
           },
           "zerolinecolor": "white",
           "zerolinewidth": 2
          }
         }
        },
        "width": 550
       }
      }
     },
     "metadata": {},
     "output_type": "display_data"
    },
    {
     "name": "stderr",
     "output_type": "stream",
     "text": [
      "c:\\Users\\isacc\\miniconda3\\Lib\\site-packages\\_plotly_utils\\basevalidators.py:105: FutureWarning:\n",
      "\n",
      "The behavior of DatetimeProperties.to_pydatetime is deprecated, in a future version this will return a Series containing python datetime objects instead of an ndarray. To retain the old behavior, call `np.array` on the result\n",
      "\n"
     ]
    },
    {
     "data": {
      "application/vnd.plotly.v1+json": {
       "config": {
        "plotlyServerURL": "https://plot.ly"
       },
       "data": [
        {
         "alignmentgroup": "True",
         "hovertemplate": "Task names=MFALG Assembly<br>Timestamp=%{x}<br>Duration (seconds)=%{y}<extra></extra>",
         "legendgroup": "MFALG Assembly",
         "marker": {
          "color": "gold",
          "pattern": {
           "shape": ""
          }
         },
         "name": "MFALG Assembly",
         "offsetgroup": "MFALG Assembly",
         "orientation": "v",
         "showlegend": true,
         "textposition": "auto",
         "type": "bar",
         "width": 20000,
         "x": [
          "2023-08-02T09:02:41",
          "2023-08-02T09:04:44",
          "2023-08-02T09:06:38",
          "2023-08-02T09:08:44",
          "2023-08-02T09:10:35",
          "2023-08-02T09:13:12",
          "2023-08-02T09:15:08",
          "2023-08-02T09:17:00",
          "2023-08-02T09:18:57",
          "2023-08-02T09:20:49",
          "2023-08-02T09:23:08",
          "2023-08-02T09:24:43",
          "2023-08-02T09:27:12",
          "2023-08-02T09:29:38",
          "2023-08-02T09:31:19",
          "2023-08-02T09:33:20",
          "2023-08-02T09:35:22",
          "2023-08-02T09:37:29",
          "2023-08-02T09:39:59",
          "2023-08-02T09:42:18",
          "2023-08-02T09:44:27",
          "2023-08-02T09:46:47",
          "2023-08-02T10:03:47",
          "2023-08-02T10:06:08",
          "2023-08-02T10:12:28",
          "2023-08-02T10:14:27",
          "2023-08-02T10:27:22",
          "2023-08-02T10:30:08",
          "2023-08-02T11:07:34",
          "2023-08-02T11:10:01",
          "2023-08-02T11:12:45",
          "2023-08-02T11:15:04",
          "2023-08-02T11:17:12",
          "2023-08-02T11:19:39",
          "2023-08-02T11:21:35",
          "2023-08-02T11:24:07",
          "2023-08-02T11:26:22",
          "2023-08-02T11:28:49",
          "2023-08-02T11:30:59",
          "2023-08-02T11:33:04",
          "2023-08-02T11:35:16",
          "2023-08-02T11:37:03",
          "2023-08-02T11:38:51",
          "2023-08-02T11:40:56",
          "2023-08-02T11:42:52",
          "2023-08-02T11:44:51",
          "2023-08-02T11:46:32",
          "2023-08-02T11:59:43",
          "2023-08-02T12:02:16",
          "2023-08-02T12:04:04",
          "2023-08-02T12:06:18",
          "2023-08-02T12:08:00",
          "2023-08-02T12:14:27",
          "2023-08-02T12:17:13",
          "2023-08-02T12:19:01",
          "2023-08-02T14:05:01",
          "2023-08-02T14:07:21",
          "2023-08-02T14:09:12",
          "2023-08-02T14:11:18",
          "2023-08-02T14:14:14",
          "2023-08-02T14:16:43",
          "2023-08-02T14:19:26",
          "2023-08-02T14:21:47",
          "2023-08-02T14:23:43",
          "2023-08-02T14:25:53",
          "2023-08-02T14:27:39",
          "2023-08-02T14:29:39",
          "2023-08-02T14:32:21",
          "2023-08-02T14:34:25",
          "2023-08-02T14:36:06",
          "2023-08-02T14:38:21",
          "2023-08-02T14:39:58",
          "2023-08-02T14:41:38",
          "2023-08-02T14:43:53",
          "2023-08-02T14:46:16",
          "2023-08-02T14:47:52",
          "2023-08-02T14:49:48",
          "2023-08-02T14:53:19",
          "2023-08-02T14:55:16",
          "2023-08-02T14:57:05",
          "2023-08-02T14:59:02",
          "2023-08-02T15:00:58",
          "2023-08-02T15:02:38",
          "2023-08-02T15:04:17",
          "2023-08-02T15:37:00",
          "2023-08-02T15:38:51",
          "2023-08-02T15:40:50",
          "2023-08-02T15:43:56",
          "2023-08-02T15:46:14",
          "2023-08-02T15:48:27",
          "2023-08-02T15:50:45",
          "2023-08-02T15:52:30",
          "2023-08-02T15:54:10",
          "2023-08-02T16:00:45",
          "2023-08-02T16:02:50",
          "2023-08-02T16:04:35",
          "2023-08-02T16:07:00",
          "2023-08-02T16:09:07",
          "2023-08-02T16:10:59",
          "2023-08-02T16:13:42",
          "2023-08-02T16:16:06",
          "2023-08-02T16:17:58",
          "2023-08-02T16:19:38",
          "2023-08-02T16:21:26"
         ],
         "xaxis": "x",
         "y": [
          139,
          120,
          110,
          124,
          108,
          152,
          114,
          109,
          114,
          108,
          136,
          92,
          146,
          142,
          98,
          118,
          119,
          123,
          147,
          136,
          125,
          137,
          114,
          138,
          114,
          116,
          158,
          162,
          106,
          144,
          160,
          135,
          125,
          143,
          113,
          149,
          130,
          144,
          127,
          121,
          129,
          104,
          106,
          121,
          114,
          116,
          98,
          153,
          149,
          105,
          131,
          99,
          91,
          161,
          106,
          239,
          137,
          108,
          122,
          173,
          144,
          160,
          136,
          114,
          126,
          104,
          117,
          102,
          120,
          99,
          132,
          94,
          97,
          131,
          139,
          94,
          113,
          91,
          114,
          107,
          113,
          114,
          98,
          96,
          110,
          109,
          116,
          139,
          135,
          130,
          134,
          80,
          98,
          120,
          122,
          102,
          142,
          123,
          109,
          159,
          141,
          109,
          98,
          105
         ],
         "yaxis": "y"
        }
       ],
       "layout": {
        "bargap": 0,
        "barmode": "relative",
        "font": {
         "size": 10
        },
        "height": 300,
        "legend": {
         "title": {
          "text": "Task names"
         },
         "tracegroupgap": 0,
         "x": 0.66,
         "xanchor": "left",
         "y": 0.99,
         "yanchor": "top"
        },
        "margin": {
         "t": 60
        },
        "template": {
         "data": {
          "bar": [
           {
            "error_x": {
             "color": "#2a3f5f"
            },
            "error_y": {
             "color": "#2a3f5f"
            },
            "marker": {
             "line": {
              "color": "#E5ECF6",
              "width": 0.5
             },
             "pattern": {
              "fillmode": "overlay",
              "size": 10,
              "solidity": 0.2
             }
            },
            "type": "bar"
           }
          ],
          "barpolar": [
           {
            "marker": {
             "line": {
              "color": "#E5ECF6",
              "width": 0.5
             },
             "pattern": {
              "fillmode": "overlay",
              "size": 10,
              "solidity": 0.2
             }
            },
            "type": "barpolar"
           }
          ],
          "carpet": [
           {
            "aaxis": {
             "endlinecolor": "#2a3f5f",
             "gridcolor": "white",
             "linecolor": "white",
             "minorgridcolor": "white",
             "startlinecolor": "#2a3f5f"
            },
            "baxis": {
             "endlinecolor": "#2a3f5f",
             "gridcolor": "white",
             "linecolor": "white",
             "minorgridcolor": "white",
             "startlinecolor": "#2a3f5f"
            },
            "type": "carpet"
           }
          ],
          "choropleth": [
           {
            "colorbar": {
             "outlinewidth": 0,
             "ticks": ""
            },
            "type": "choropleth"
           }
          ],
          "contour": [
           {
            "colorbar": {
             "outlinewidth": 0,
             "ticks": ""
            },
            "colorscale": [
             [
              0,
              "#0d0887"
             ],
             [
              0.1111111111111111,
              "#46039f"
             ],
             [
              0.2222222222222222,
              "#7201a8"
             ],
             [
              0.3333333333333333,
              "#9c179e"
             ],
             [
              0.4444444444444444,
              "#bd3786"
             ],
             [
              0.5555555555555556,
              "#d8576b"
             ],
             [
              0.6666666666666666,
              "#ed7953"
             ],
             [
              0.7777777777777778,
              "#fb9f3a"
             ],
             [
              0.8888888888888888,
              "#fdca26"
             ],
             [
              1,
              "#f0f921"
             ]
            ],
            "type": "contour"
           }
          ],
          "contourcarpet": [
           {
            "colorbar": {
             "outlinewidth": 0,
             "ticks": ""
            },
            "type": "contourcarpet"
           }
          ],
          "heatmap": [
           {
            "colorbar": {
             "outlinewidth": 0,
             "ticks": ""
            },
            "colorscale": [
             [
              0,
              "#0d0887"
             ],
             [
              0.1111111111111111,
              "#46039f"
             ],
             [
              0.2222222222222222,
              "#7201a8"
             ],
             [
              0.3333333333333333,
              "#9c179e"
             ],
             [
              0.4444444444444444,
              "#bd3786"
             ],
             [
              0.5555555555555556,
              "#d8576b"
             ],
             [
              0.6666666666666666,
              "#ed7953"
             ],
             [
              0.7777777777777778,
              "#fb9f3a"
             ],
             [
              0.8888888888888888,
              "#fdca26"
             ],
             [
              1,
              "#f0f921"
             ]
            ],
            "type": "heatmap"
           }
          ],
          "heatmapgl": [
           {
            "colorbar": {
             "outlinewidth": 0,
             "ticks": ""
            },
            "colorscale": [
             [
              0,
              "#0d0887"
             ],
             [
              0.1111111111111111,
              "#46039f"
             ],
             [
              0.2222222222222222,
              "#7201a8"
             ],
             [
              0.3333333333333333,
              "#9c179e"
             ],
             [
              0.4444444444444444,
              "#bd3786"
             ],
             [
              0.5555555555555556,
              "#d8576b"
             ],
             [
              0.6666666666666666,
              "#ed7953"
             ],
             [
              0.7777777777777778,
              "#fb9f3a"
             ],
             [
              0.8888888888888888,
              "#fdca26"
             ],
             [
              1,
              "#f0f921"
             ]
            ],
            "type": "heatmapgl"
           }
          ],
          "histogram": [
           {
            "marker": {
             "pattern": {
              "fillmode": "overlay",
              "size": 10,
              "solidity": 0.2
             }
            },
            "type": "histogram"
           }
          ],
          "histogram2d": [
           {
            "colorbar": {
             "outlinewidth": 0,
             "ticks": ""
            },
            "colorscale": [
             [
              0,
              "#0d0887"
             ],
             [
              0.1111111111111111,
              "#46039f"
             ],
             [
              0.2222222222222222,
              "#7201a8"
             ],
             [
              0.3333333333333333,
              "#9c179e"
             ],
             [
              0.4444444444444444,
              "#bd3786"
             ],
             [
              0.5555555555555556,
              "#d8576b"
             ],
             [
              0.6666666666666666,
              "#ed7953"
             ],
             [
              0.7777777777777778,
              "#fb9f3a"
             ],
             [
              0.8888888888888888,
              "#fdca26"
             ],
             [
              1,
              "#f0f921"
             ]
            ],
            "type": "histogram2d"
           }
          ],
          "histogram2dcontour": [
           {
            "colorbar": {
             "outlinewidth": 0,
             "ticks": ""
            },
            "colorscale": [
             [
              0,
              "#0d0887"
             ],
             [
              0.1111111111111111,
              "#46039f"
             ],
             [
              0.2222222222222222,
              "#7201a8"
             ],
             [
              0.3333333333333333,
              "#9c179e"
             ],
             [
              0.4444444444444444,
              "#bd3786"
             ],
             [
              0.5555555555555556,
              "#d8576b"
             ],
             [
              0.6666666666666666,
              "#ed7953"
             ],
             [
              0.7777777777777778,
              "#fb9f3a"
             ],
             [
              0.8888888888888888,
              "#fdca26"
             ],
             [
              1,
              "#f0f921"
             ]
            ],
            "type": "histogram2dcontour"
           }
          ],
          "mesh3d": [
           {
            "colorbar": {
             "outlinewidth": 0,
             "ticks": ""
            },
            "type": "mesh3d"
           }
          ],
          "parcoords": [
           {
            "line": {
             "colorbar": {
              "outlinewidth": 0,
              "ticks": ""
             }
            },
            "type": "parcoords"
           }
          ],
          "pie": [
           {
            "automargin": true,
            "type": "pie"
           }
          ],
          "scatter": [
           {
            "fillpattern": {
             "fillmode": "overlay",
             "size": 10,
             "solidity": 0.2
            },
            "type": "scatter"
           }
          ],
          "scatter3d": [
           {
            "line": {
             "colorbar": {
              "outlinewidth": 0,
              "ticks": ""
             }
            },
            "marker": {
             "colorbar": {
              "outlinewidth": 0,
              "ticks": ""
             }
            },
            "type": "scatter3d"
           }
          ],
          "scattercarpet": [
           {
            "marker": {
             "colorbar": {
              "outlinewidth": 0,
              "ticks": ""
             }
            },
            "type": "scattercarpet"
           }
          ],
          "scattergeo": [
           {
            "marker": {
             "colorbar": {
              "outlinewidth": 0,
              "ticks": ""
             }
            },
            "type": "scattergeo"
           }
          ],
          "scattergl": [
           {
            "marker": {
             "colorbar": {
              "outlinewidth": 0,
              "ticks": ""
             }
            },
            "type": "scattergl"
           }
          ],
          "scattermapbox": [
           {
            "marker": {
             "colorbar": {
              "outlinewidth": 0,
              "ticks": ""
             }
            },
            "type": "scattermapbox"
           }
          ],
          "scatterpolar": [
           {
            "marker": {
             "colorbar": {
              "outlinewidth": 0,
              "ticks": ""
             }
            },
            "type": "scatterpolar"
           }
          ],
          "scatterpolargl": [
           {
            "marker": {
             "colorbar": {
              "outlinewidth": 0,
              "ticks": ""
             }
            },
            "type": "scatterpolargl"
           }
          ],
          "scatterternary": [
           {
            "marker": {
             "colorbar": {
              "outlinewidth": 0,
              "ticks": ""
             }
            },
            "type": "scatterternary"
           }
          ],
          "surface": [
           {
            "colorbar": {
             "outlinewidth": 0,
             "ticks": ""
            },
            "colorscale": [
             [
              0,
              "#0d0887"
             ],
             [
              0.1111111111111111,
              "#46039f"
             ],
             [
              0.2222222222222222,
              "#7201a8"
             ],
             [
              0.3333333333333333,
              "#9c179e"
             ],
             [
              0.4444444444444444,
              "#bd3786"
             ],
             [
              0.5555555555555556,
              "#d8576b"
             ],
             [
              0.6666666666666666,
              "#ed7953"
             ],
             [
              0.7777777777777778,
              "#fb9f3a"
             ],
             [
              0.8888888888888888,
              "#fdca26"
             ],
             [
              1,
              "#f0f921"
             ]
            ],
            "type": "surface"
           }
          ],
          "table": [
           {
            "cells": {
             "fill": {
              "color": "#EBF0F8"
             },
             "line": {
              "color": "white"
             }
            },
            "header": {
             "fill": {
              "color": "#C8D4E3"
             },
             "line": {
              "color": "white"
             }
            },
            "type": "table"
           }
          ]
         },
         "layout": {
          "annotationdefaults": {
           "arrowcolor": "#2a3f5f",
           "arrowhead": 0,
           "arrowwidth": 1
          },
          "autotypenumbers": "strict",
          "coloraxis": {
           "colorbar": {
            "outlinewidth": 0,
            "ticks": ""
           }
          },
          "colorscale": {
           "diverging": [
            [
             0,
             "#8e0152"
            ],
            [
             0.1,
             "#c51b7d"
            ],
            [
             0.2,
             "#de77ae"
            ],
            [
             0.3,
             "#f1b6da"
            ],
            [
             0.4,
             "#fde0ef"
            ],
            [
             0.5,
             "#f7f7f7"
            ],
            [
             0.6,
             "#e6f5d0"
            ],
            [
             0.7,
             "#b8e186"
            ],
            [
             0.8,
             "#7fbc41"
            ],
            [
             0.9,
             "#4d9221"
            ],
            [
             1,
             "#276419"
            ]
           ],
           "sequential": [
            [
             0,
             "#0d0887"
            ],
            [
             0.1111111111111111,
             "#46039f"
            ],
            [
             0.2222222222222222,
             "#7201a8"
            ],
            [
             0.3333333333333333,
             "#9c179e"
            ],
            [
             0.4444444444444444,
             "#bd3786"
            ],
            [
             0.5555555555555556,
             "#d8576b"
            ],
            [
             0.6666666666666666,
             "#ed7953"
            ],
            [
             0.7777777777777778,
             "#fb9f3a"
            ],
            [
             0.8888888888888888,
             "#fdca26"
            ],
            [
             1,
             "#f0f921"
            ]
           ],
           "sequentialminus": [
            [
             0,
             "#0d0887"
            ],
            [
             0.1111111111111111,
             "#46039f"
            ],
            [
             0.2222222222222222,
             "#7201a8"
            ],
            [
             0.3333333333333333,
             "#9c179e"
            ],
            [
             0.4444444444444444,
             "#bd3786"
            ],
            [
             0.5555555555555556,
             "#d8576b"
            ],
            [
             0.6666666666666666,
             "#ed7953"
            ],
            [
             0.7777777777777778,
             "#fb9f3a"
            ],
            [
             0.8888888888888888,
             "#fdca26"
            ],
            [
             1,
             "#f0f921"
            ]
           ]
          },
          "colorway": [
           "#636efa",
           "#EF553B",
           "#00cc96",
           "#ab63fa",
           "#FFA15A",
           "#19d3f3",
           "#FF6692",
           "#B6E880",
           "#FF97FF",
           "#FECB52"
          ],
          "font": {
           "color": "#2a3f5f"
          },
          "geo": {
           "bgcolor": "white",
           "lakecolor": "white",
           "landcolor": "#E5ECF6",
           "showlakes": true,
           "showland": true,
           "subunitcolor": "white"
          },
          "hoverlabel": {
           "align": "left"
          },
          "hovermode": "closest",
          "mapbox": {
           "style": "light"
          },
          "paper_bgcolor": "white",
          "plot_bgcolor": "#E5ECF6",
          "polar": {
           "angularaxis": {
            "gridcolor": "white",
            "linecolor": "white",
            "ticks": ""
           },
           "bgcolor": "#E5ECF6",
           "radialaxis": {
            "gridcolor": "white",
            "linecolor": "white",
            "ticks": ""
           }
          },
          "scene": {
           "xaxis": {
            "backgroundcolor": "#E5ECF6",
            "gridcolor": "white",
            "gridwidth": 2,
            "linecolor": "white",
            "showbackground": true,
            "ticks": "",
            "zerolinecolor": "white"
           },
           "yaxis": {
            "backgroundcolor": "#E5ECF6",
            "gridcolor": "white",
            "gridwidth": 2,
            "linecolor": "white",
            "showbackground": true,
            "ticks": "",
            "zerolinecolor": "white"
           },
           "zaxis": {
            "backgroundcolor": "#E5ECF6",
            "gridcolor": "white",
            "gridwidth": 2,
            "linecolor": "white",
            "showbackground": true,
            "ticks": "",
            "zerolinecolor": "white"
           }
          },
          "shapedefaults": {
           "line": {
            "color": "#2a3f5f"
           }
          },
          "ternary": {
           "aaxis": {
            "gridcolor": "white",
            "linecolor": "white",
            "ticks": ""
           },
           "baxis": {
            "gridcolor": "white",
            "linecolor": "white",
            "ticks": ""
           },
           "bgcolor": "#E5ECF6",
           "caxis": {
            "gridcolor": "white",
            "linecolor": "white",
            "ticks": ""
           }
          },
          "title": {
           "x": 0.05
          },
          "xaxis": {
           "automargin": true,
           "gridcolor": "white",
           "linecolor": "white",
           "ticks": "",
           "title": {
            "standoff": 15
           },
           "zerolinecolor": "white",
           "zerolinewidth": 2
          },
          "yaxis": {
           "automargin": true,
           "gridcolor": "white",
           "linecolor": "white",
           "ticks": "",
           "title": {
            "standoff": 15
           },
           "zerolinecolor": "white",
           "zerolinewidth": 2
          }
         }
        },
        "width": 700,
        "xaxis": {
         "anchor": "y",
         "domain": [
          0,
          1
         ],
         "range": [
          "2023-08-02 12:00:00",
          "2023-08-02 14:45:00"
         ],
         "showgrid": true,
         "title": {
          "text": "Timestamp"
         }
        },
        "yaxis": {
         "anchor": "x",
         "domain": [
          0,
          1
         ],
         "range": [
          0,
          240
         ],
         "title": {
          "text": "Duration (seconds)"
         }
        }
       }
      }
     },
     "metadata": {},
     "output_type": "display_data"
    },
    {
     "name": "stdout",
     "output_type": "stream",
     "text": [
      "Time person was near: 0 days 05:24:53\n",
      "Time person was using node: 0 days 03:33:34\n",
      "Percentage of node usage per day: 66.0 \n",
      "\n",
      "\n",
      "\n",
      "\n",
      "03_08\n",
      "data_fabrica/task_03_08.csv\n",
      "No data in that date\n",
      "04_08\n",
      "data_fabrica/task_04_08.csv\n",
      "No data in that date\n",
      "05_08\n",
      "data_fabrica/task_05_08.csv\n",
      "No data in that date\n",
      "06_08\n",
      "data_fabrica/task_06_08.csv\n",
      "No data in that date\n",
      "07_08\n",
      "data_fabrica/task_07_08.csv\n",
      "No data in that date\n",
      "08_08\n",
      "data_fabrica/task_08_08.csv\n",
      "No data in that date\n",
      "09_08\n",
      "data_fabrica/task_09_08.csv\n",
      "No data in that date\n",
      "10_08\n",
      "data_fabrica/task_10_08.csv\n",
      "No data in that date\n",
      "11_08\n",
      "data_fabrica/task_11_08.csv\n",
      "No data in that date\n",
      "12_08\n",
      "data_fabrica/task_12_08.csv\n",
      "No data in that date\n",
      "13_08\n",
      "data_fabrica/task_13_08.csv\n",
      "No data in that date\n",
      "14_08\n",
      "data_fabrica/task_14_08.csv\n",
      "No data in that date\n",
      "15_08\n",
      "data_fabrica/task_15_08.csv\n",
      "No data in that date\n",
      "16_08\n",
      "data_fabrica/task_16_08.csv\n",
      "No data in that date\n",
      "17_08\n",
      "data_fabrica/task_17_08.csv\n",
      "No data in that date\n",
      "18_08\n",
      "data_fabrica/task_18_08.csv\n",
      "No data in that date\n",
      "19_08\n",
      "data_fabrica/task_19_08.csv\n",
      "No data in that date\n",
      "20_08\n",
      "data_fabrica/task_20_08.csv\n",
      "No data in that date\n",
      "21_08\n",
      "data_fabrica/task_21_08.csv\n",
      "No data in that date\n",
      "22_08\n",
      "data_fabrica/task_22_08.csv\n",
      "No data in that date\n",
      "23_08\n",
      "data_fabrica/task_23_08.csv\n",
      "No data in that date\n",
      "24_08\n",
      "data_fabrica/task_24_08.csv\n",
      "No data in that date\n",
      "25_08\n",
      "data_fabrica/task_25_08.csv\n",
      "No data in that date\n",
      "26_08\n",
      "data_fabrica/task_26_08.csv\n",
      "No data in that date\n",
      "27_08\n",
      "data_fabrica/task_27_08.csv\n",
      "No data in that date\n",
      "28_08\n",
      "data_fabrica/task_28_08.csv\n",
      "No data in that date\n",
      "29_08\n",
      "data_fabrica/task_29_08.csv\n",
      "No data in that date\n",
      "30_08\n",
      "data_fabrica/task_30_08.csv\n",
      "No data in that date\n",
      "31_08\n",
      "data_fabrica/task_31_08.csv\n",
      "No data in that date\n",
      "01_09\n",
      "data_fabrica/task_01_09.csv\n",
      "No data in that date\n",
      "02_09\n",
      "data_fabrica/task_02_09.csv\n",
      "No data in that date\n",
      "03_09\n",
      "data_fabrica/task_03_09.csv\n",
      "No data in that date\n",
      "04_09\n",
      "data_fabrica/task_04_09.csv\n",
      "No data in that date\n",
      "05_09\n",
      "data_fabrica/task_05_09.csv\n",
      "No data in that date\n",
      "06_09\n",
      "data_fabrica/task_06_09.csv\n",
      "[ 0. nan nan nan nan 23. nan nan]\n",
      "Reference average\n",
      "[1205.33333333   12.           12.          144.           40.\n",
      "   60.                   nan           nan]\n",
      "Outliers:\n",
      "Task: 0\n",
      "Average: 1205.33\n",
      "Median: 34.0\n",
      "Variance: 4225960.33\n",
      "Standard deviation: 2055.71\n",
      "Count: 3.0\n",
      "total secs: 3616\n",
      "Count per hour: 3\n",
      "\n",
      "Task: 5\n",
      "Average: 23.93\n",
      "Median: 22.0\n",
      "Variance: 29.17\n",
      "Standard deviation: 5.4\n",
      "Count: 192.0\n",
      "total secs: 4594\n",
      "Count per hour: 150\n",
      "\n",
      "Outliers removed: 11\n",
      "Extra activity 1 4594\n",
      "0 days 01:16:34\n"
     ]
    },
    {
     "data": {
      "application/vnd.plotly.v1+json": {
       "config": {
        "plotlyServerURL": "https://plot.ly"
       },
       "data": [
        {
         "customdata": [
          [
           "Extra activity 1"
          ]
         ],
         "domain": {
          "x": [
           0,
           1
          ],
          "y": [
           0,
           1
          ]
         },
         "hovertemplate": "task_name=%{customdata[0]}<br>sec=%{value}<extra></extra>",
         "labels": [
          "Extra activity 1"
         ],
         "legendgroup": "",
         "marker": {
          "colors": [
           "darkorange"
          ]
         },
         "name": "",
         "showlegend": true,
         "type": "pie",
         "values": [
          4594
         ]
        }
       ],
       "layout": {
        "legend": {
         "tracegroupgap": 0
        },
        "margin": {
         "t": 60
        },
        "template": {
         "data": {
          "bar": [
           {
            "error_x": {
             "color": "#2a3f5f"
            },
            "error_y": {
             "color": "#2a3f5f"
            },
            "marker": {
             "line": {
              "color": "#E5ECF6",
              "width": 0.5
             },
             "pattern": {
              "fillmode": "overlay",
              "size": 10,
              "solidity": 0.2
             }
            },
            "type": "bar"
           }
          ],
          "barpolar": [
           {
            "marker": {
             "line": {
              "color": "#E5ECF6",
              "width": 0.5
             },
             "pattern": {
              "fillmode": "overlay",
              "size": 10,
              "solidity": 0.2
             }
            },
            "type": "barpolar"
           }
          ],
          "carpet": [
           {
            "aaxis": {
             "endlinecolor": "#2a3f5f",
             "gridcolor": "white",
             "linecolor": "white",
             "minorgridcolor": "white",
             "startlinecolor": "#2a3f5f"
            },
            "baxis": {
             "endlinecolor": "#2a3f5f",
             "gridcolor": "white",
             "linecolor": "white",
             "minorgridcolor": "white",
             "startlinecolor": "#2a3f5f"
            },
            "type": "carpet"
           }
          ],
          "choropleth": [
           {
            "colorbar": {
             "outlinewidth": 0,
             "ticks": ""
            },
            "type": "choropleth"
           }
          ],
          "contour": [
           {
            "colorbar": {
             "outlinewidth": 0,
             "ticks": ""
            },
            "colorscale": [
             [
              0,
              "#0d0887"
             ],
             [
              0.1111111111111111,
              "#46039f"
             ],
             [
              0.2222222222222222,
              "#7201a8"
             ],
             [
              0.3333333333333333,
              "#9c179e"
             ],
             [
              0.4444444444444444,
              "#bd3786"
             ],
             [
              0.5555555555555556,
              "#d8576b"
             ],
             [
              0.6666666666666666,
              "#ed7953"
             ],
             [
              0.7777777777777778,
              "#fb9f3a"
             ],
             [
              0.8888888888888888,
              "#fdca26"
             ],
             [
              1,
              "#f0f921"
             ]
            ],
            "type": "contour"
           }
          ],
          "contourcarpet": [
           {
            "colorbar": {
             "outlinewidth": 0,
             "ticks": ""
            },
            "type": "contourcarpet"
           }
          ],
          "heatmap": [
           {
            "colorbar": {
             "outlinewidth": 0,
             "ticks": ""
            },
            "colorscale": [
             [
              0,
              "#0d0887"
             ],
             [
              0.1111111111111111,
              "#46039f"
             ],
             [
              0.2222222222222222,
              "#7201a8"
             ],
             [
              0.3333333333333333,
              "#9c179e"
             ],
             [
              0.4444444444444444,
              "#bd3786"
             ],
             [
              0.5555555555555556,
              "#d8576b"
             ],
             [
              0.6666666666666666,
              "#ed7953"
             ],
             [
              0.7777777777777778,
              "#fb9f3a"
             ],
             [
              0.8888888888888888,
              "#fdca26"
             ],
             [
              1,
              "#f0f921"
             ]
            ],
            "type": "heatmap"
           }
          ],
          "heatmapgl": [
           {
            "colorbar": {
             "outlinewidth": 0,
             "ticks": ""
            },
            "colorscale": [
             [
              0,
              "#0d0887"
             ],
             [
              0.1111111111111111,
              "#46039f"
             ],
             [
              0.2222222222222222,
              "#7201a8"
             ],
             [
              0.3333333333333333,
              "#9c179e"
             ],
             [
              0.4444444444444444,
              "#bd3786"
             ],
             [
              0.5555555555555556,
              "#d8576b"
             ],
             [
              0.6666666666666666,
              "#ed7953"
             ],
             [
              0.7777777777777778,
              "#fb9f3a"
             ],
             [
              0.8888888888888888,
              "#fdca26"
             ],
             [
              1,
              "#f0f921"
             ]
            ],
            "type": "heatmapgl"
           }
          ],
          "histogram": [
           {
            "marker": {
             "pattern": {
              "fillmode": "overlay",
              "size": 10,
              "solidity": 0.2
             }
            },
            "type": "histogram"
           }
          ],
          "histogram2d": [
           {
            "colorbar": {
             "outlinewidth": 0,
             "ticks": ""
            },
            "colorscale": [
             [
              0,
              "#0d0887"
             ],
             [
              0.1111111111111111,
              "#46039f"
             ],
             [
              0.2222222222222222,
              "#7201a8"
             ],
             [
              0.3333333333333333,
              "#9c179e"
             ],
             [
              0.4444444444444444,
              "#bd3786"
             ],
             [
              0.5555555555555556,
              "#d8576b"
             ],
             [
              0.6666666666666666,
              "#ed7953"
             ],
             [
              0.7777777777777778,
              "#fb9f3a"
             ],
             [
              0.8888888888888888,
              "#fdca26"
             ],
             [
              1,
              "#f0f921"
             ]
            ],
            "type": "histogram2d"
           }
          ],
          "histogram2dcontour": [
           {
            "colorbar": {
             "outlinewidth": 0,
             "ticks": ""
            },
            "colorscale": [
             [
              0,
              "#0d0887"
             ],
             [
              0.1111111111111111,
              "#46039f"
             ],
             [
              0.2222222222222222,
              "#7201a8"
             ],
             [
              0.3333333333333333,
              "#9c179e"
             ],
             [
              0.4444444444444444,
              "#bd3786"
             ],
             [
              0.5555555555555556,
              "#d8576b"
             ],
             [
              0.6666666666666666,
              "#ed7953"
             ],
             [
              0.7777777777777778,
              "#fb9f3a"
             ],
             [
              0.8888888888888888,
              "#fdca26"
             ],
             [
              1,
              "#f0f921"
             ]
            ],
            "type": "histogram2dcontour"
           }
          ],
          "mesh3d": [
           {
            "colorbar": {
             "outlinewidth": 0,
             "ticks": ""
            },
            "type": "mesh3d"
           }
          ],
          "parcoords": [
           {
            "line": {
             "colorbar": {
              "outlinewidth": 0,
              "ticks": ""
             }
            },
            "type": "parcoords"
           }
          ],
          "pie": [
           {
            "automargin": true,
            "type": "pie"
           }
          ],
          "scatter": [
           {
            "fillpattern": {
             "fillmode": "overlay",
             "size": 10,
             "solidity": 0.2
            },
            "type": "scatter"
           }
          ],
          "scatter3d": [
           {
            "line": {
             "colorbar": {
              "outlinewidth": 0,
              "ticks": ""
             }
            },
            "marker": {
             "colorbar": {
              "outlinewidth": 0,
              "ticks": ""
             }
            },
            "type": "scatter3d"
           }
          ],
          "scattercarpet": [
           {
            "marker": {
             "colorbar": {
              "outlinewidth": 0,
              "ticks": ""
             }
            },
            "type": "scattercarpet"
           }
          ],
          "scattergeo": [
           {
            "marker": {
             "colorbar": {
              "outlinewidth": 0,
              "ticks": ""
             }
            },
            "type": "scattergeo"
           }
          ],
          "scattergl": [
           {
            "marker": {
             "colorbar": {
              "outlinewidth": 0,
              "ticks": ""
             }
            },
            "type": "scattergl"
           }
          ],
          "scattermapbox": [
           {
            "marker": {
             "colorbar": {
              "outlinewidth": 0,
              "ticks": ""
             }
            },
            "type": "scattermapbox"
           }
          ],
          "scatterpolar": [
           {
            "marker": {
             "colorbar": {
              "outlinewidth": 0,
              "ticks": ""
             }
            },
            "type": "scatterpolar"
           }
          ],
          "scatterpolargl": [
           {
            "marker": {
             "colorbar": {
              "outlinewidth": 0,
              "ticks": ""
             }
            },
            "type": "scatterpolargl"
           }
          ],
          "scatterternary": [
           {
            "marker": {
             "colorbar": {
              "outlinewidth": 0,
              "ticks": ""
             }
            },
            "type": "scatterternary"
           }
          ],
          "surface": [
           {
            "colorbar": {
             "outlinewidth": 0,
             "ticks": ""
            },
            "colorscale": [
             [
              0,
              "#0d0887"
             ],
             [
              0.1111111111111111,
              "#46039f"
             ],
             [
              0.2222222222222222,
              "#7201a8"
             ],
             [
              0.3333333333333333,
              "#9c179e"
             ],
             [
              0.4444444444444444,
              "#bd3786"
             ],
             [
              0.5555555555555556,
              "#d8576b"
             ],
             [
              0.6666666666666666,
              "#ed7953"
             ],
             [
              0.7777777777777778,
              "#fb9f3a"
             ],
             [
              0.8888888888888888,
              "#fdca26"
             ],
             [
              1,
              "#f0f921"
             ]
            ],
            "type": "surface"
           }
          ],
          "table": [
           {
            "cells": {
             "fill": {
              "color": "#EBF0F8"
             },
             "line": {
              "color": "white"
             }
            },
            "header": {
             "fill": {
              "color": "#C8D4E3"
             },
             "line": {
              "color": "white"
             }
            },
            "type": "table"
           }
          ]
         },
         "layout": {
          "annotationdefaults": {
           "arrowcolor": "#2a3f5f",
           "arrowhead": 0,
           "arrowwidth": 1
          },
          "autotypenumbers": "strict",
          "coloraxis": {
           "colorbar": {
            "outlinewidth": 0,
            "ticks": ""
           }
          },
          "colorscale": {
           "diverging": [
            [
             0,
             "#8e0152"
            ],
            [
             0.1,
             "#c51b7d"
            ],
            [
             0.2,
             "#de77ae"
            ],
            [
             0.3,
             "#f1b6da"
            ],
            [
             0.4,
             "#fde0ef"
            ],
            [
             0.5,
             "#f7f7f7"
            ],
            [
             0.6,
             "#e6f5d0"
            ],
            [
             0.7,
             "#b8e186"
            ],
            [
             0.8,
             "#7fbc41"
            ],
            [
             0.9,
             "#4d9221"
            ],
            [
             1,
             "#276419"
            ]
           ],
           "sequential": [
            [
             0,
             "#0d0887"
            ],
            [
             0.1111111111111111,
             "#46039f"
            ],
            [
             0.2222222222222222,
             "#7201a8"
            ],
            [
             0.3333333333333333,
             "#9c179e"
            ],
            [
             0.4444444444444444,
             "#bd3786"
            ],
            [
             0.5555555555555556,
             "#d8576b"
            ],
            [
             0.6666666666666666,
             "#ed7953"
            ],
            [
             0.7777777777777778,
             "#fb9f3a"
            ],
            [
             0.8888888888888888,
             "#fdca26"
            ],
            [
             1,
             "#f0f921"
            ]
           ],
           "sequentialminus": [
            [
             0,
             "#0d0887"
            ],
            [
             0.1111111111111111,
             "#46039f"
            ],
            [
             0.2222222222222222,
             "#7201a8"
            ],
            [
             0.3333333333333333,
             "#9c179e"
            ],
            [
             0.4444444444444444,
             "#bd3786"
            ],
            [
             0.5555555555555556,
             "#d8576b"
            ],
            [
             0.6666666666666666,
             "#ed7953"
            ],
            [
             0.7777777777777778,
             "#fb9f3a"
            ],
            [
             0.8888888888888888,
             "#fdca26"
            ],
            [
             1,
             "#f0f921"
            ]
           ]
          },
          "colorway": [
           "#636efa",
           "#EF553B",
           "#00cc96",
           "#ab63fa",
           "#FFA15A",
           "#19d3f3",
           "#FF6692",
           "#B6E880",
           "#FF97FF",
           "#FECB52"
          ],
          "font": {
           "color": "#2a3f5f"
          },
          "geo": {
           "bgcolor": "white",
           "lakecolor": "white",
           "landcolor": "#E5ECF6",
           "showlakes": true,
           "showland": true,
           "subunitcolor": "white"
          },
          "hoverlabel": {
           "align": "left"
          },
          "hovermode": "closest",
          "mapbox": {
           "style": "light"
          },
          "paper_bgcolor": "white",
          "plot_bgcolor": "#E5ECF6",
          "polar": {
           "angularaxis": {
            "gridcolor": "white",
            "linecolor": "white",
            "ticks": ""
           },
           "bgcolor": "#E5ECF6",
           "radialaxis": {
            "gridcolor": "white",
            "linecolor": "white",
            "ticks": ""
           }
          },
          "scene": {
           "xaxis": {
            "backgroundcolor": "#E5ECF6",
            "gridcolor": "white",
            "gridwidth": 2,
            "linecolor": "white",
            "showbackground": true,
            "ticks": "",
            "zerolinecolor": "white"
           },
           "yaxis": {
            "backgroundcolor": "#E5ECF6",
            "gridcolor": "white",
            "gridwidth": 2,
            "linecolor": "white",
            "showbackground": true,
            "ticks": "",
            "zerolinecolor": "white"
           },
           "zaxis": {
            "backgroundcolor": "#E5ECF6",
            "gridcolor": "white",
            "gridwidth": 2,
            "linecolor": "white",
            "showbackground": true,
            "ticks": "",
            "zerolinecolor": "white"
           }
          },
          "shapedefaults": {
           "line": {
            "color": "#2a3f5f"
           }
          },
          "ternary": {
           "aaxis": {
            "gridcolor": "white",
            "linecolor": "white",
            "ticks": ""
           },
           "baxis": {
            "gridcolor": "white",
            "linecolor": "white",
            "ticks": ""
           },
           "bgcolor": "#E5ECF6",
           "caxis": {
            "gridcolor": "white",
            "linecolor": "white",
            "ticks": ""
           }
          },
          "title": {
           "x": 0.05
          },
          "xaxis": {
           "automargin": true,
           "gridcolor": "white",
           "linecolor": "white",
           "ticks": "",
           "title": {
            "standoff": 15
           },
           "zerolinecolor": "white",
           "zerolinewidth": 2
          },
          "yaxis": {
           "automargin": true,
           "gridcolor": "white",
           "linecolor": "white",
           "ticks": "",
           "title": {
            "standoff": 15
           },
           "zerolinecolor": "white",
           "zerolinewidth": 2
          }
         }
        },
        "width": 600
       }
      }
     },
     "metadata": {},
     "output_type": "display_data"
    },
    {
     "name": "stdout",
     "output_type": "stream",
     "text": [
      "Fernando 4594\n",
      "0 days 01:16:34\n"
     ]
    },
    {
     "data": {
      "application/vnd.plotly.v1+json": {
       "config": {
        "plotlyServerURL": "https://plot.ly"
       },
       "data": [
        {
         "customdata": [
          [
           "Fernando"
          ]
         ],
         "domain": {
          "x": [
           0,
           1
          ],
          "y": [
           0,
           1
          ]
         },
         "hovertemplate": "emp_name=%{customdata[0]}<br>sec=%{value}<extra></extra>",
         "labels": [
          "Fernando"
         ],
         "legendgroup": "",
         "marker": {
          "colors": [
           "cornflowerblue"
          ]
         },
         "name": "",
         "showlegend": true,
         "type": "pie",
         "values": [
          4594
         ]
        }
       ],
       "layout": {
        "legend": {
         "tracegroupgap": 0
        },
        "margin": {
         "t": 60
        },
        "template": {
         "data": {
          "bar": [
           {
            "error_x": {
             "color": "#2a3f5f"
            },
            "error_y": {
             "color": "#2a3f5f"
            },
            "marker": {
             "line": {
              "color": "#E5ECF6",
              "width": 0.5
             },
             "pattern": {
              "fillmode": "overlay",
              "size": 10,
              "solidity": 0.2
             }
            },
            "type": "bar"
           }
          ],
          "barpolar": [
           {
            "marker": {
             "line": {
              "color": "#E5ECF6",
              "width": 0.5
             },
             "pattern": {
              "fillmode": "overlay",
              "size": 10,
              "solidity": 0.2
             }
            },
            "type": "barpolar"
           }
          ],
          "carpet": [
           {
            "aaxis": {
             "endlinecolor": "#2a3f5f",
             "gridcolor": "white",
             "linecolor": "white",
             "minorgridcolor": "white",
             "startlinecolor": "#2a3f5f"
            },
            "baxis": {
             "endlinecolor": "#2a3f5f",
             "gridcolor": "white",
             "linecolor": "white",
             "minorgridcolor": "white",
             "startlinecolor": "#2a3f5f"
            },
            "type": "carpet"
           }
          ],
          "choropleth": [
           {
            "colorbar": {
             "outlinewidth": 0,
             "ticks": ""
            },
            "type": "choropleth"
           }
          ],
          "contour": [
           {
            "colorbar": {
             "outlinewidth": 0,
             "ticks": ""
            },
            "colorscale": [
             [
              0,
              "#0d0887"
             ],
             [
              0.1111111111111111,
              "#46039f"
             ],
             [
              0.2222222222222222,
              "#7201a8"
             ],
             [
              0.3333333333333333,
              "#9c179e"
             ],
             [
              0.4444444444444444,
              "#bd3786"
             ],
             [
              0.5555555555555556,
              "#d8576b"
             ],
             [
              0.6666666666666666,
              "#ed7953"
             ],
             [
              0.7777777777777778,
              "#fb9f3a"
             ],
             [
              0.8888888888888888,
              "#fdca26"
             ],
             [
              1,
              "#f0f921"
             ]
            ],
            "type": "contour"
           }
          ],
          "contourcarpet": [
           {
            "colorbar": {
             "outlinewidth": 0,
             "ticks": ""
            },
            "type": "contourcarpet"
           }
          ],
          "heatmap": [
           {
            "colorbar": {
             "outlinewidth": 0,
             "ticks": ""
            },
            "colorscale": [
             [
              0,
              "#0d0887"
             ],
             [
              0.1111111111111111,
              "#46039f"
             ],
             [
              0.2222222222222222,
              "#7201a8"
             ],
             [
              0.3333333333333333,
              "#9c179e"
             ],
             [
              0.4444444444444444,
              "#bd3786"
             ],
             [
              0.5555555555555556,
              "#d8576b"
             ],
             [
              0.6666666666666666,
              "#ed7953"
             ],
             [
              0.7777777777777778,
              "#fb9f3a"
             ],
             [
              0.8888888888888888,
              "#fdca26"
             ],
             [
              1,
              "#f0f921"
             ]
            ],
            "type": "heatmap"
           }
          ],
          "heatmapgl": [
           {
            "colorbar": {
             "outlinewidth": 0,
             "ticks": ""
            },
            "colorscale": [
             [
              0,
              "#0d0887"
             ],
             [
              0.1111111111111111,
              "#46039f"
             ],
             [
              0.2222222222222222,
              "#7201a8"
             ],
             [
              0.3333333333333333,
              "#9c179e"
             ],
             [
              0.4444444444444444,
              "#bd3786"
             ],
             [
              0.5555555555555556,
              "#d8576b"
             ],
             [
              0.6666666666666666,
              "#ed7953"
             ],
             [
              0.7777777777777778,
              "#fb9f3a"
             ],
             [
              0.8888888888888888,
              "#fdca26"
             ],
             [
              1,
              "#f0f921"
             ]
            ],
            "type": "heatmapgl"
           }
          ],
          "histogram": [
           {
            "marker": {
             "pattern": {
              "fillmode": "overlay",
              "size": 10,
              "solidity": 0.2
             }
            },
            "type": "histogram"
           }
          ],
          "histogram2d": [
           {
            "colorbar": {
             "outlinewidth": 0,
             "ticks": ""
            },
            "colorscale": [
             [
              0,
              "#0d0887"
             ],
             [
              0.1111111111111111,
              "#46039f"
             ],
             [
              0.2222222222222222,
              "#7201a8"
             ],
             [
              0.3333333333333333,
              "#9c179e"
             ],
             [
              0.4444444444444444,
              "#bd3786"
             ],
             [
              0.5555555555555556,
              "#d8576b"
             ],
             [
              0.6666666666666666,
              "#ed7953"
             ],
             [
              0.7777777777777778,
              "#fb9f3a"
             ],
             [
              0.8888888888888888,
              "#fdca26"
             ],
             [
              1,
              "#f0f921"
             ]
            ],
            "type": "histogram2d"
           }
          ],
          "histogram2dcontour": [
           {
            "colorbar": {
             "outlinewidth": 0,
             "ticks": ""
            },
            "colorscale": [
             [
              0,
              "#0d0887"
             ],
             [
              0.1111111111111111,
              "#46039f"
             ],
             [
              0.2222222222222222,
              "#7201a8"
             ],
             [
              0.3333333333333333,
              "#9c179e"
             ],
             [
              0.4444444444444444,
              "#bd3786"
             ],
             [
              0.5555555555555556,
              "#d8576b"
             ],
             [
              0.6666666666666666,
              "#ed7953"
             ],
             [
              0.7777777777777778,
              "#fb9f3a"
             ],
             [
              0.8888888888888888,
              "#fdca26"
             ],
             [
              1,
              "#f0f921"
             ]
            ],
            "type": "histogram2dcontour"
           }
          ],
          "mesh3d": [
           {
            "colorbar": {
             "outlinewidth": 0,
             "ticks": ""
            },
            "type": "mesh3d"
           }
          ],
          "parcoords": [
           {
            "line": {
             "colorbar": {
              "outlinewidth": 0,
              "ticks": ""
             }
            },
            "type": "parcoords"
           }
          ],
          "pie": [
           {
            "automargin": true,
            "type": "pie"
           }
          ],
          "scatter": [
           {
            "fillpattern": {
             "fillmode": "overlay",
             "size": 10,
             "solidity": 0.2
            },
            "type": "scatter"
           }
          ],
          "scatter3d": [
           {
            "line": {
             "colorbar": {
              "outlinewidth": 0,
              "ticks": ""
             }
            },
            "marker": {
             "colorbar": {
              "outlinewidth": 0,
              "ticks": ""
             }
            },
            "type": "scatter3d"
           }
          ],
          "scattercarpet": [
           {
            "marker": {
             "colorbar": {
              "outlinewidth": 0,
              "ticks": ""
             }
            },
            "type": "scattercarpet"
           }
          ],
          "scattergeo": [
           {
            "marker": {
             "colorbar": {
              "outlinewidth": 0,
              "ticks": ""
             }
            },
            "type": "scattergeo"
           }
          ],
          "scattergl": [
           {
            "marker": {
             "colorbar": {
              "outlinewidth": 0,
              "ticks": ""
             }
            },
            "type": "scattergl"
           }
          ],
          "scattermapbox": [
           {
            "marker": {
             "colorbar": {
              "outlinewidth": 0,
              "ticks": ""
             }
            },
            "type": "scattermapbox"
           }
          ],
          "scatterpolar": [
           {
            "marker": {
             "colorbar": {
              "outlinewidth": 0,
              "ticks": ""
             }
            },
            "type": "scatterpolar"
           }
          ],
          "scatterpolargl": [
           {
            "marker": {
             "colorbar": {
              "outlinewidth": 0,
              "ticks": ""
             }
            },
            "type": "scatterpolargl"
           }
          ],
          "scatterternary": [
           {
            "marker": {
             "colorbar": {
              "outlinewidth": 0,
              "ticks": ""
             }
            },
            "type": "scatterternary"
           }
          ],
          "surface": [
           {
            "colorbar": {
             "outlinewidth": 0,
             "ticks": ""
            },
            "colorscale": [
             [
              0,
              "#0d0887"
             ],
             [
              0.1111111111111111,
              "#46039f"
             ],
             [
              0.2222222222222222,
              "#7201a8"
             ],
             [
              0.3333333333333333,
              "#9c179e"
             ],
             [
              0.4444444444444444,
              "#bd3786"
             ],
             [
              0.5555555555555556,
              "#d8576b"
             ],
             [
              0.6666666666666666,
              "#ed7953"
             ],
             [
              0.7777777777777778,
              "#fb9f3a"
             ],
             [
              0.8888888888888888,
              "#fdca26"
             ],
             [
              1,
              "#f0f921"
             ]
            ],
            "type": "surface"
           }
          ],
          "table": [
           {
            "cells": {
             "fill": {
              "color": "#EBF0F8"
             },
             "line": {
              "color": "white"
             }
            },
            "header": {
             "fill": {
              "color": "#C8D4E3"
             },
             "line": {
              "color": "white"
             }
            },
            "type": "table"
           }
          ]
         },
         "layout": {
          "annotationdefaults": {
           "arrowcolor": "#2a3f5f",
           "arrowhead": 0,
           "arrowwidth": 1
          },
          "autotypenumbers": "strict",
          "coloraxis": {
           "colorbar": {
            "outlinewidth": 0,
            "ticks": ""
           }
          },
          "colorscale": {
           "diverging": [
            [
             0,
             "#8e0152"
            ],
            [
             0.1,
             "#c51b7d"
            ],
            [
             0.2,
             "#de77ae"
            ],
            [
             0.3,
             "#f1b6da"
            ],
            [
             0.4,
             "#fde0ef"
            ],
            [
             0.5,
             "#f7f7f7"
            ],
            [
             0.6,
             "#e6f5d0"
            ],
            [
             0.7,
             "#b8e186"
            ],
            [
             0.8,
             "#7fbc41"
            ],
            [
             0.9,
             "#4d9221"
            ],
            [
             1,
             "#276419"
            ]
           ],
           "sequential": [
            [
             0,
             "#0d0887"
            ],
            [
             0.1111111111111111,
             "#46039f"
            ],
            [
             0.2222222222222222,
             "#7201a8"
            ],
            [
             0.3333333333333333,
             "#9c179e"
            ],
            [
             0.4444444444444444,
             "#bd3786"
            ],
            [
             0.5555555555555556,
             "#d8576b"
            ],
            [
             0.6666666666666666,
             "#ed7953"
            ],
            [
             0.7777777777777778,
             "#fb9f3a"
            ],
            [
             0.8888888888888888,
             "#fdca26"
            ],
            [
             1,
             "#f0f921"
            ]
           ],
           "sequentialminus": [
            [
             0,
             "#0d0887"
            ],
            [
             0.1111111111111111,
             "#46039f"
            ],
            [
             0.2222222222222222,
             "#7201a8"
            ],
            [
             0.3333333333333333,
             "#9c179e"
            ],
            [
             0.4444444444444444,
             "#bd3786"
            ],
            [
             0.5555555555555556,
             "#d8576b"
            ],
            [
             0.6666666666666666,
             "#ed7953"
            ],
            [
             0.7777777777777778,
             "#fb9f3a"
            ],
            [
             0.8888888888888888,
             "#fdca26"
            ],
            [
             1,
             "#f0f921"
            ]
           ]
          },
          "colorway": [
           "#636efa",
           "#EF553B",
           "#00cc96",
           "#ab63fa",
           "#FFA15A",
           "#19d3f3",
           "#FF6692",
           "#B6E880",
           "#FF97FF",
           "#FECB52"
          ],
          "font": {
           "color": "#2a3f5f"
          },
          "geo": {
           "bgcolor": "white",
           "lakecolor": "white",
           "landcolor": "#E5ECF6",
           "showlakes": true,
           "showland": true,
           "subunitcolor": "white"
          },
          "hoverlabel": {
           "align": "left"
          },
          "hovermode": "closest",
          "mapbox": {
           "style": "light"
          },
          "paper_bgcolor": "white",
          "plot_bgcolor": "#E5ECF6",
          "polar": {
           "angularaxis": {
            "gridcolor": "white",
            "linecolor": "white",
            "ticks": ""
           },
           "bgcolor": "#E5ECF6",
           "radialaxis": {
            "gridcolor": "white",
            "linecolor": "white",
            "ticks": ""
           }
          },
          "scene": {
           "xaxis": {
            "backgroundcolor": "#E5ECF6",
            "gridcolor": "white",
            "gridwidth": 2,
            "linecolor": "white",
            "showbackground": true,
            "ticks": "",
            "zerolinecolor": "white"
           },
           "yaxis": {
            "backgroundcolor": "#E5ECF6",
            "gridcolor": "white",
            "gridwidth": 2,
            "linecolor": "white",
            "showbackground": true,
            "ticks": "",
            "zerolinecolor": "white"
           },
           "zaxis": {
            "backgroundcolor": "#E5ECF6",
            "gridcolor": "white",
            "gridwidth": 2,
            "linecolor": "white",
            "showbackground": true,
            "ticks": "",
            "zerolinecolor": "white"
           }
          },
          "shapedefaults": {
           "line": {
            "color": "#2a3f5f"
           }
          },
          "ternary": {
           "aaxis": {
            "gridcolor": "white",
            "linecolor": "white",
            "ticks": ""
           },
           "baxis": {
            "gridcolor": "white",
            "linecolor": "white",
            "ticks": ""
           },
           "bgcolor": "#E5ECF6",
           "caxis": {
            "gridcolor": "white",
            "linecolor": "white",
            "ticks": ""
           }
          },
          "title": {
           "x": 0.05
          },
          "xaxis": {
           "automargin": true,
           "gridcolor": "white",
           "linecolor": "white",
           "ticks": "",
           "title": {
            "standoff": 15
           },
           "zerolinecolor": "white",
           "zerolinewidth": 2
          },
          "yaxis": {
           "automargin": true,
           "gridcolor": "white",
           "linecolor": "white",
           "ticks": "",
           "title": {
            "standoff": 15
           },
           "zerolinecolor": "white",
           "zerolinewidth": 2
          }
         }
        },
        "width": 550
       }
      }
     },
     "metadata": {},
     "output_type": "display_data"
    },
    {
     "name": "stderr",
     "output_type": "stream",
     "text": [
      "c:\\Users\\isacc\\miniconda3\\Lib\\site-packages\\_plotly_utils\\basevalidators.py:105: FutureWarning:\n",
      "\n",
      "The behavior of DatetimeProperties.to_pydatetime is deprecated, in a future version this will return a Series containing python datetime objects instead of an ndarray. To retain the old behavior, call `np.array` on the result\n",
      "\n"
     ]
    },
    {
     "data": {
      "application/vnd.plotly.v1+json": {
       "config": {
        "plotlyServerURL": "https://plot.ly"
       },
       "data": [
        {
         "alignmentgroup": "True",
         "hovertemplate": "Task names=Extra activity 1<br>Timestamp=%{x}<br>Duration (seconds)=%{y}<extra></extra>",
         "legendgroup": "Extra activity 1",
         "marker": {
          "color": "darkorange",
          "pattern": {
           "shape": ""
          }
         },
         "name": "Extra activity 1",
         "offsetgroup": "Extra activity 1",
         "orientation": "v",
         "showlegend": true,
         "textposition": "auto",
         "type": "bar",
         "width": 20000,
         "x": [
          "2023-09-06T10:14:28",
          "2023-09-06T10:14:59",
          "2023-09-06T10:15:21",
          "2023-09-06T10:15:48",
          "2023-09-06T10:16:12",
          "2023-09-06T10:16:39",
          "2023-09-06T10:17:05",
          "2023-09-06T10:17:28",
          "2023-09-06T10:17:52",
          "2023-09-06T10:18:16",
          "2023-09-06T10:19:27",
          "2023-09-06T10:19:50",
          "2023-09-06T10:20:35",
          "2023-09-06T10:20:59",
          "2023-09-06T10:22:43",
          "2023-09-06T10:23:05",
          "2023-09-06T10:27:00",
          "2023-09-06T10:27:25",
          "2023-09-06T10:27:48",
          "2023-09-06T10:28:10",
          "2023-09-06T10:29:10",
          "2023-09-06T10:29:12",
          "2023-09-06T10:29:33",
          "2023-09-06T10:29:53",
          "2023-09-06T10:30:16",
          "2023-09-06T11:33:21",
          "2023-09-06T11:33:52",
          "2023-09-06T11:34:20",
          "2023-09-06T11:34:48",
          "2023-09-06T11:35:22",
          "2023-09-06T11:35:54",
          "2023-09-06T11:36:22",
          "2023-09-06T11:38:24",
          "2023-09-06T11:38:52",
          "2023-09-06T11:39:19",
          "2023-09-06T11:39:44",
          "2023-09-06T11:40:11",
          "2023-09-06T11:40:43",
          "2023-09-06T11:41:08",
          "2023-09-06T11:41:33",
          "2023-09-06T11:41:57",
          "2023-09-06T11:42:19",
          "2023-09-06T11:42:43",
          "2023-09-06T11:43:05",
          "2023-09-06T11:43:29",
          "2023-09-06T11:43:52",
          "2023-09-06T11:44:23",
          "2023-09-06T11:44:45",
          "2023-09-06T11:45:08",
          "2023-09-06T11:45:32",
          "2023-09-06T11:45:56",
          "2023-09-06T11:46:17",
          "2023-09-06T11:46:38",
          "2023-09-06T11:47:13",
          "2023-09-06T11:47:49",
          "2023-09-06T11:48:17",
          "2023-09-06T11:48:35",
          "2023-09-06T11:49:19",
          "2023-09-06T11:49:52",
          "2023-09-06T11:50:08",
          "2023-09-06T11:50:30",
          "2023-09-06T11:50:54",
          "2023-09-06T11:51:17",
          "2023-09-06T11:51:41",
          "2023-09-06T11:52:04",
          "2023-09-06T11:54:00",
          "2023-09-06T11:54:22",
          "2023-09-06T11:54:44",
          "2023-09-06T11:55:05",
          "2023-09-06T11:55:45",
          "2023-09-06T11:56:08",
          "2023-09-06T11:56:31",
          "2023-09-06T11:56:54",
          "2023-09-06T11:57:15",
          "2023-09-06T11:57:35",
          "2023-09-06T11:57:55",
          "2023-09-06T11:58:17",
          "2023-09-06T11:58:38",
          "2023-09-06T11:58:57",
          "2023-09-06T11:59:21",
          "2023-09-06T11:59:43",
          "2023-09-06T13:04:03",
          "2023-09-06T13:04:31",
          "2023-09-06T13:04:54",
          "2023-09-06T13:05:21",
          "2023-09-06T13:05:47",
          "2023-09-06T13:08:14",
          "2023-09-06T13:08:44",
          "2023-09-06T13:09:09",
          "2023-09-06T13:09:29",
          "2023-09-06T13:09:49",
          "2023-09-06T13:10:21",
          "2023-09-06T13:10:41",
          "2023-09-06T13:11:00",
          "2023-09-06T13:11:24",
          "2023-09-06T13:12:00",
          "2023-09-06T13:12:22",
          "2023-09-06T13:12:42",
          "2023-09-06T13:13:04",
          "2023-09-06T13:14:34",
          "2023-09-06T13:14:55",
          "2023-09-06T13:15:15",
          "2023-09-06T13:15:40",
          "2023-09-06T13:16:25",
          "2023-09-06T13:16:50",
          "2023-09-06T13:17:10",
          "2023-09-06T13:17:31",
          "2023-09-06T13:17:52",
          "2023-09-06T13:18:13",
          "2023-09-06T13:18:35",
          "2023-09-06T13:18:58",
          "2023-09-06T13:19:19",
          "2023-09-06T13:19:40",
          "2023-09-06T13:20:03",
          "2023-09-06T13:20:27",
          "2023-09-06T13:20:49",
          "2023-09-06T13:21:10",
          "2023-09-06T13:21:33",
          "2023-09-06T13:21:56",
          "2023-09-06T13:22:19",
          "2023-09-06T13:22:42",
          "2023-09-06T13:23:05",
          "2023-09-06T13:24:55",
          "2023-09-06T13:25:18",
          "2023-09-06T13:25:39",
          "2023-09-06T13:26:04",
          "2023-09-06T13:26:26",
          "2023-09-06T13:26:46",
          "2023-09-06T13:27:11",
          "2023-09-06T13:27:34",
          "2023-09-06T13:27:56",
          "2023-09-06T13:28:17",
          "2023-09-06T13:28:38",
          "2023-09-06T13:29:00",
          "2023-09-06T13:29:20",
          "2023-09-06T13:29:44",
          "2023-09-06T13:30:05",
          "2023-09-06T13:30:30",
          "2023-09-06T13:30:51",
          "2023-09-06T13:31:12",
          "2023-09-06T13:31:34",
          "2023-09-06T13:31:56",
          "2023-09-06T13:32:43",
          "2023-09-06T13:33:05",
          "2023-09-06T13:33:26",
          "2023-09-06T13:34:10",
          "2023-09-06T13:34:53",
          "2023-09-06T13:35:15",
          "2023-09-06T13:35:48",
          "2023-09-06T13:35:57",
          "2023-09-06T13:36:18",
          "2023-09-06T13:36:39",
          "2023-09-06T13:36:58",
          "2023-09-06T13:37:18",
          "2023-09-06T13:37:41",
          "2023-09-06T13:38:04",
          "2023-09-06T13:38:29",
          "2023-09-06T13:38:51",
          "2023-09-06T13:39:11",
          "2023-09-06T13:39:30",
          "2023-09-06T13:39:52",
          "2023-09-06T13:40:11",
          "2023-09-06T13:40:33",
          "2023-09-06T13:40:53",
          "2023-09-06T13:41:13",
          "2023-09-06T13:41:36",
          "2023-09-06T13:41:58",
          "2023-09-06T13:42:20",
          "2023-09-06T13:42:42",
          "2023-09-06T13:43:03",
          "2023-09-06T13:44:39",
          "2023-09-06T13:45:06",
          "2023-09-06T13:45:28",
          "2023-09-06T13:45:57",
          "2023-09-06T13:46:18",
          "2023-09-06T13:46:42",
          "2023-09-06T13:47:03",
          "2023-09-06T13:48:24",
          "2023-09-06T13:48:45",
          "2023-09-06T13:49:11",
          "2023-09-06T13:49:34",
          "2023-09-06T13:49:59",
          "2023-09-06T13:50:26",
          "2023-09-06T13:50:50",
          "2023-09-06T13:51:13",
          "2023-09-06T13:51:38",
          "2023-09-06T13:52:03",
          "2023-09-06T13:52:32",
          "2023-09-06T13:52:54",
          "2023-09-06T13:53:17",
          "2023-09-06T13:53:45",
          "2023-09-06T13:54:08"
         ],
         "xaxis": "x",
         "y": [
          25,
          28,
          24,
          26,
          24,
          26,
          25,
          23,
          23,
          22,
          23,
          22,
          44,
          23,
          21,
          23,
          22,
          25,
          23,
          20,
          22,
          39,
          21,
          20,
          22,
          27,
          30,
          27,
          27,
          34,
          31,
          27,
          33,
          26,
          26,
          26,
          25,
          32,
          24,
          24,
          23,
          22,
          24,
          21,
          23,
          23,
          31,
          21,
          23,
          23,
          22,
          22,
          20,
          24,
          46,
          23,
          22,
          43,
          24,
          23,
          22,
          23,
          23,
          24,
          22,
          22,
          21,
          22,
          20,
          39,
          23,
          22,
          22,
          21,
          20,
          19,
          22,
          20,
          19,
          23,
          22,
          25,
          27,
          22,
          26,
          26,
          44,
          29,
          25,
          20,
          19,
          31,
          19,
          19,
          23,
          35,
          22,
          19,
          21,
          23,
          20,
          20,
          22,
          46,
          25,
          19,
          20,
          21,
          20,
          22,
          22,
          21,
          20,
          23,
          24,
          21,
          20,
          22,
          24,
          22,
          22,
          23,
          24,
          22,
          20,
          25,
          21,
          20,
          24,
          23,
          21,
          20,
          21,
          22,
          19,
          23,
          22,
          24,
          20,
          21,
          21,
          22,
          45,
          22,
          21,
          43,
          42,
          21,
          20,
          21,
          21,
          19,
          19,
          20,
          23,
          22,
          24,
          21,
          20,
          19,
          21,
          18,
          22,
          20,
          19,
          23,
          21,
          21,
          23,
          20,
          23,
          27,
          21,
          29,
          20,
          24,
          20,
          25,
          20,
          26,
          22,
          24,
          27,
          23,
          23,
          24,
          25,
          28,
          22,
          22,
          27,
          23
         ],
         "yaxis": "y"
        }
       ],
       "layout": {
        "bargap": 0,
        "barmode": "relative",
        "font": {
         "size": 10
        },
        "height": 300,
        "legend": {
         "title": {
          "text": "Task names"
         },
         "tracegroupgap": 0,
         "x": 0.66,
         "xanchor": "left",
         "y": 0.99,
         "yanchor": "top"
        },
        "margin": {
         "t": 60
        },
        "template": {
         "data": {
          "bar": [
           {
            "error_x": {
             "color": "#2a3f5f"
            },
            "error_y": {
             "color": "#2a3f5f"
            },
            "marker": {
             "line": {
              "color": "#E5ECF6",
              "width": 0.5
             },
             "pattern": {
              "fillmode": "overlay",
              "size": 10,
              "solidity": 0.2
             }
            },
            "type": "bar"
           }
          ],
          "barpolar": [
           {
            "marker": {
             "line": {
              "color": "#E5ECF6",
              "width": 0.5
             },
             "pattern": {
              "fillmode": "overlay",
              "size": 10,
              "solidity": 0.2
             }
            },
            "type": "barpolar"
           }
          ],
          "carpet": [
           {
            "aaxis": {
             "endlinecolor": "#2a3f5f",
             "gridcolor": "white",
             "linecolor": "white",
             "minorgridcolor": "white",
             "startlinecolor": "#2a3f5f"
            },
            "baxis": {
             "endlinecolor": "#2a3f5f",
             "gridcolor": "white",
             "linecolor": "white",
             "minorgridcolor": "white",
             "startlinecolor": "#2a3f5f"
            },
            "type": "carpet"
           }
          ],
          "choropleth": [
           {
            "colorbar": {
             "outlinewidth": 0,
             "ticks": ""
            },
            "type": "choropleth"
           }
          ],
          "contour": [
           {
            "colorbar": {
             "outlinewidth": 0,
             "ticks": ""
            },
            "colorscale": [
             [
              0,
              "#0d0887"
             ],
             [
              0.1111111111111111,
              "#46039f"
             ],
             [
              0.2222222222222222,
              "#7201a8"
             ],
             [
              0.3333333333333333,
              "#9c179e"
             ],
             [
              0.4444444444444444,
              "#bd3786"
             ],
             [
              0.5555555555555556,
              "#d8576b"
             ],
             [
              0.6666666666666666,
              "#ed7953"
             ],
             [
              0.7777777777777778,
              "#fb9f3a"
             ],
             [
              0.8888888888888888,
              "#fdca26"
             ],
             [
              1,
              "#f0f921"
             ]
            ],
            "type": "contour"
           }
          ],
          "contourcarpet": [
           {
            "colorbar": {
             "outlinewidth": 0,
             "ticks": ""
            },
            "type": "contourcarpet"
           }
          ],
          "heatmap": [
           {
            "colorbar": {
             "outlinewidth": 0,
             "ticks": ""
            },
            "colorscale": [
             [
              0,
              "#0d0887"
             ],
             [
              0.1111111111111111,
              "#46039f"
             ],
             [
              0.2222222222222222,
              "#7201a8"
             ],
             [
              0.3333333333333333,
              "#9c179e"
             ],
             [
              0.4444444444444444,
              "#bd3786"
             ],
             [
              0.5555555555555556,
              "#d8576b"
             ],
             [
              0.6666666666666666,
              "#ed7953"
             ],
             [
              0.7777777777777778,
              "#fb9f3a"
             ],
             [
              0.8888888888888888,
              "#fdca26"
             ],
             [
              1,
              "#f0f921"
             ]
            ],
            "type": "heatmap"
           }
          ],
          "heatmapgl": [
           {
            "colorbar": {
             "outlinewidth": 0,
             "ticks": ""
            },
            "colorscale": [
             [
              0,
              "#0d0887"
             ],
             [
              0.1111111111111111,
              "#46039f"
             ],
             [
              0.2222222222222222,
              "#7201a8"
             ],
             [
              0.3333333333333333,
              "#9c179e"
             ],
             [
              0.4444444444444444,
              "#bd3786"
             ],
             [
              0.5555555555555556,
              "#d8576b"
             ],
             [
              0.6666666666666666,
              "#ed7953"
             ],
             [
              0.7777777777777778,
              "#fb9f3a"
             ],
             [
              0.8888888888888888,
              "#fdca26"
             ],
             [
              1,
              "#f0f921"
             ]
            ],
            "type": "heatmapgl"
           }
          ],
          "histogram": [
           {
            "marker": {
             "pattern": {
              "fillmode": "overlay",
              "size": 10,
              "solidity": 0.2
             }
            },
            "type": "histogram"
           }
          ],
          "histogram2d": [
           {
            "colorbar": {
             "outlinewidth": 0,
             "ticks": ""
            },
            "colorscale": [
             [
              0,
              "#0d0887"
             ],
             [
              0.1111111111111111,
              "#46039f"
             ],
             [
              0.2222222222222222,
              "#7201a8"
             ],
             [
              0.3333333333333333,
              "#9c179e"
             ],
             [
              0.4444444444444444,
              "#bd3786"
             ],
             [
              0.5555555555555556,
              "#d8576b"
             ],
             [
              0.6666666666666666,
              "#ed7953"
             ],
             [
              0.7777777777777778,
              "#fb9f3a"
             ],
             [
              0.8888888888888888,
              "#fdca26"
             ],
             [
              1,
              "#f0f921"
             ]
            ],
            "type": "histogram2d"
           }
          ],
          "histogram2dcontour": [
           {
            "colorbar": {
             "outlinewidth": 0,
             "ticks": ""
            },
            "colorscale": [
             [
              0,
              "#0d0887"
             ],
             [
              0.1111111111111111,
              "#46039f"
             ],
             [
              0.2222222222222222,
              "#7201a8"
             ],
             [
              0.3333333333333333,
              "#9c179e"
             ],
             [
              0.4444444444444444,
              "#bd3786"
             ],
             [
              0.5555555555555556,
              "#d8576b"
             ],
             [
              0.6666666666666666,
              "#ed7953"
             ],
             [
              0.7777777777777778,
              "#fb9f3a"
             ],
             [
              0.8888888888888888,
              "#fdca26"
             ],
             [
              1,
              "#f0f921"
             ]
            ],
            "type": "histogram2dcontour"
           }
          ],
          "mesh3d": [
           {
            "colorbar": {
             "outlinewidth": 0,
             "ticks": ""
            },
            "type": "mesh3d"
           }
          ],
          "parcoords": [
           {
            "line": {
             "colorbar": {
              "outlinewidth": 0,
              "ticks": ""
             }
            },
            "type": "parcoords"
           }
          ],
          "pie": [
           {
            "automargin": true,
            "type": "pie"
           }
          ],
          "scatter": [
           {
            "fillpattern": {
             "fillmode": "overlay",
             "size": 10,
             "solidity": 0.2
            },
            "type": "scatter"
           }
          ],
          "scatter3d": [
           {
            "line": {
             "colorbar": {
              "outlinewidth": 0,
              "ticks": ""
             }
            },
            "marker": {
             "colorbar": {
              "outlinewidth": 0,
              "ticks": ""
             }
            },
            "type": "scatter3d"
           }
          ],
          "scattercarpet": [
           {
            "marker": {
             "colorbar": {
              "outlinewidth": 0,
              "ticks": ""
             }
            },
            "type": "scattercarpet"
           }
          ],
          "scattergeo": [
           {
            "marker": {
             "colorbar": {
              "outlinewidth": 0,
              "ticks": ""
             }
            },
            "type": "scattergeo"
           }
          ],
          "scattergl": [
           {
            "marker": {
             "colorbar": {
              "outlinewidth": 0,
              "ticks": ""
             }
            },
            "type": "scattergl"
           }
          ],
          "scattermapbox": [
           {
            "marker": {
             "colorbar": {
              "outlinewidth": 0,
              "ticks": ""
             }
            },
            "type": "scattermapbox"
           }
          ],
          "scatterpolar": [
           {
            "marker": {
             "colorbar": {
              "outlinewidth": 0,
              "ticks": ""
             }
            },
            "type": "scatterpolar"
           }
          ],
          "scatterpolargl": [
           {
            "marker": {
             "colorbar": {
              "outlinewidth": 0,
              "ticks": ""
             }
            },
            "type": "scatterpolargl"
           }
          ],
          "scatterternary": [
           {
            "marker": {
             "colorbar": {
              "outlinewidth": 0,
              "ticks": ""
             }
            },
            "type": "scatterternary"
           }
          ],
          "surface": [
           {
            "colorbar": {
             "outlinewidth": 0,
             "ticks": ""
            },
            "colorscale": [
             [
              0,
              "#0d0887"
             ],
             [
              0.1111111111111111,
              "#46039f"
             ],
             [
              0.2222222222222222,
              "#7201a8"
             ],
             [
              0.3333333333333333,
              "#9c179e"
             ],
             [
              0.4444444444444444,
              "#bd3786"
             ],
             [
              0.5555555555555556,
              "#d8576b"
             ],
             [
              0.6666666666666666,
              "#ed7953"
             ],
             [
              0.7777777777777778,
              "#fb9f3a"
             ],
             [
              0.8888888888888888,
              "#fdca26"
             ],
             [
              1,
              "#f0f921"
             ]
            ],
            "type": "surface"
           }
          ],
          "table": [
           {
            "cells": {
             "fill": {
              "color": "#EBF0F8"
             },
             "line": {
              "color": "white"
             }
            },
            "header": {
             "fill": {
              "color": "#C8D4E3"
             },
             "line": {
              "color": "white"
             }
            },
            "type": "table"
           }
          ]
         },
         "layout": {
          "annotationdefaults": {
           "arrowcolor": "#2a3f5f",
           "arrowhead": 0,
           "arrowwidth": 1
          },
          "autotypenumbers": "strict",
          "coloraxis": {
           "colorbar": {
            "outlinewidth": 0,
            "ticks": ""
           }
          },
          "colorscale": {
           "diverging": [
            [
             0,
             "#8e0152"
            ],
            [
             0.1,
             "#c51b7d"
            ],
            [
             0.2,
             "#de77ae"
            ],
            [
             0.3,
             "#f1b6da"
            ],
            [
             0.4,
             "#fde0ef"
            ],
            [
             0.5,
             "#f7f7f7"
            ],
            [
             0.6,
             "#e6f5d0"
            ],
            [
             0.7,
             "#b8e186"
            ],
            [
             0.8,
             "#7fbc41"
            ],
            [
             0.9,
             "#4d9221"
            ],
            [
             1,
             "#276419"
            ]
           ],
           "sequential": [
            [
             0,
             "#0d0887"
            ],
            [
             0.1111111111111111,
             "#46039f"
            ],
            [
             0.2222222222222222,
             "#7201a8"
            ],
            [
             0.3333333333333333,
             "#9c179e"
            ],
            [
             0.4444444444444444,
             "#bd3786"
            ],
            [
             0.5555555555555556,
             "#d8576b"
            ],
            [
             0.6666666666666666,
             "#ed7953"
            ],
            [
             0.7777777777777778,
             "#fb9f3a"
            ],
            [
             0.8888888888888888,
             "#fdca26"
            ],
            [
             1,
             "#f0f921"
            ]
           ],
           "sequentialminus": [
            [
             0,
             "#0d0887"
            ],
            [
             0.1111111111111111,
             "#46039f"
            ],
            [
             0.2222222222222222,
             "#7201a8"
            ],
            [
             0.3333333333333333,
             "#9c179e"
            ],
            [
             0.4444444444444444,
             "#bd3786"
            ],
            [
             0.5555555555555556,
             "#d8576b"
            ],
            [
             0.6666666666666666,
             "#ed7953"
            ],
            [
             0.7777777777777778,
             "#fb9f3a"
            ],
            [
             0.8888888888888888,
             "#fdca26"
            ],
            [
             1,
             "#f0f921"
            ]
           ]
          },
          "colorway": [
           "#636efa",
           "#EF553B",
           "#00cc96",
           "#ab63fa",
           "#FFA15A",
           "#19d3f3",
           "#FF6692",
           "#B6E880",
           "#FF97FF",
           "#FECB52"
          ],
          "font": {
           "color": "#2a3f5f"
          },
          "geo": {
           "bgcolor": "white",
           "lakecolor": "white",
           "landcolor": "#E5ECF6",
           "showlakes": true,
           "showland": true,
           "subunitcolor": "white"
          },
          "hoverlabel": {
           "align": "left"
          },
          "hovermode": "closest",
          "mapbox": {
           "style": "light"
          },
          "paper_bgcolor": "white",
          "plot_bgcolor": "#E5ECF6",
          "polar": {
           "angularaxis": {
            "gridcolor": "white",
            "linecolor": "white",
            "ticks": ""
           },
           "bgcolor": "#E5ECF6",
           "radialaxis": {
            "gridcolor": "white",
            "linecolor": "white",
            "ticks": ""
           }
          },
          "scene": {
           "xaxis": {
            "backgroundcolor": "#E5ECF6",
            "gridcolor": "white",
            "gridwidth": 2,
            "linecolor": "white",
            "showbackground": true,
            "ticks": "",
            "zerolinecolor": "white"
           },
           "yaxis": {
            "backgroundcolor": "#E5ECF6",
            "gridcolor": "white",
            "gridwidth": 2,
            "linecolor": "white",
            "showbackground": true,
            "ticks": "",
            "zerolinecolor": "white"
           },
           "zaxis": {
            "backgroundcolor": "#E5ECF6",
            "gridcolor": "white",
            "gridwidth": 2,
            "linecolor": "white",
            "showbackground": true,
            "ticks": "",
            "zerolinecolor": "white"
           }
          },
          "shapedefaults": {
           "line": {
            "color": "#2a3f5f"
           }
          },
          "ternary": {
           "aaxis": {
            "gridcolor": "white",
            "linecolor": "white",
            "ticks": ""
           },
           "baxis": {
            "gridcolor": "white",
            "linecolor": "white",
            "ticks": ""
           },
           "bgcolor": "#E5ECF6",
           "caxis": {
            "gridcolor": "white",
            "linecolor": "white",
            "ticks": ""
           }
          },
          "title": {
           "x": 0.05
          },
          "xaxis": {
           "automargin": true,
           "gridcolor": "white",
           "linecolor": "white",
           "ticks": "",
           "title": {
            "standoff": 15
           },
           "zerolinecolor": "white",
           "zerolinewidth": 2
          },
          "yaxis": {
           "automargin": true,
           "gridcolor": "white",
           "linecolor": "white",
           "ticks": "",
           "title": {
            "standoff": 15
           },
           "zerolinecolor": "white",
           "zerolinewidth": 2
          }
         }
        },
        "width": 700,
        "xaxis": {
         "anchor": "y",
         "domain": [
          0,
          1
         ],
         "range": [
          "2023-09-06 12:00:00",
          "2023-09-06 14:45:00"
         ],
         "showgrid": true,
         "title": {
          "text": "Timestamp"
         }
        },
        "yaxis": {
         "anchor": "x",
         "domain": [
          0,
          1
         ],
         "range": [
          0,
          47
         ],
         "title": {
          "text": "Duration (seconds)"
         }
        }
       }
      }
     },
     "metadata": {},
     "output_type": "display_data"
    },
    {
     "name": "stdout",
     "output_type": "stream",
     "text": [
      "Time person was near: 0 days 01:49:37\n",
      "Time person was using node: 0 days 01:16:34\n",
      "Percentage of node usage per day: 70.0 \n",
      "\n",
      "\n",
      "\n",
      "\n",
      "07_09\n",
      "data_fabrica/task_07_09.csv\n",
      "[ 0. nan nan nan nan 24. nan nan]\n",
      "Reference average\n",
      "[1136.66666667   12.           12.          144.           40.\n",
      "   60.                   nan           nan]\n",
      "Outliers:\n",
      "Task: 0\n",
      "Average: 1136.67\n",
      "Median: 80.0\n",
      "Variance: 3452097.33\n",
      "Standard deviation: 1857.98\n",
      "Count: 3.0\n",
      "total secs: 3410\n",
      "Count per hour: 3\n",
      "\n",
      "Task: 5\n",
      "Average: 24.41\n",
      "Median: 24.0\n",
      "Variance: 23.55\n",
      "Standard deviation: 4.85\n",
      "Count: 444.0\n",
      "total secs: 10838\n",
      "Count per hour: 147\n",
      "\n",
      "Outliers removed: 38\n",
      "Extra activity 1 10838\n",
      "0 days 03:00:38\n"
     ]
    },
    {
     "data": {
      "application/vnd.plotly.v1+json": {
       "config": {
        "plotlyServerURL": "https://plot.ly"
       },
       "data": [
        {
         "customdata": [
          [
           "Extra activity 1"
          ]
         ],
         "domain": {
          "x": [
           0,
           1
          ],
          "y": [
           0,
           1
          ]
         },
         "hovertemplate": "task_name=%{customdata[0]}<br>sec=%{value}<extra></extra>",
         "labels": [
          "Extra activity 1"
         ],
         "legendgroup": "",
         "marker": {
          "colors": [
           "darkorange"
          ]
         },
         "name": "",
         "showlegend": true,
         "type": "pie",
         "values": [
          10838
         ]
        }
       ],
       "layout": {
        "legend": {
         "tracegroupgap": 0
        },
        "margin": {
         "t": 60
        },
        "template": {
         "data": {
          "bar": [
           {
            "error_x": {
             "color": "#2a3f5f"
            },
            "error_y": {
             "color": "#2a3f5f"
            },
            "marker": {
             "line": {
              "color": "#E5ECF6",
              "width": 0.5
             },
             "pattern": {
              "fillmode": "overlay",
              "size": 10,
              "solidity": 0.2
             }
            },
            "type": "bar"
           }
          ],
          "barpolar": [
           {
            "marker": {
             "line": {
              "color": "#E5ECF6",
              "width": 0.5
             },
             "pattern": {
              "fillmode": "overlay",
              "size": 10,
              "solidity": 0.2
             }
            },
            "type": "barpolar"
           }
          ],
          "carpet": [
           {
            "aaxis": {
             "endlinecolor": "#2a3f5f",
             "gridcolor": "white",
             "linecolor": "white",
             "minorgridcolor": "white",
             "startlinecolor": "#2a3f5f"
            },
            "baxis": {
             "endlinecolor": "#2a3f5f",
             "gridcolor": "white",
             "linecolor": "white",
             "minorgridcolor": "white",
             "startlinecolor": "#2a3f5f"
            },
            "type": "carpet"
           }
          ],
          "choropleth": [
           {
            "colorbar": {
             "outlinewidth": 0,
             "ticks": ""
            },
            "type": "choropleth"
           }
          ],
          "contour": [
           {
            "colorbar": {
             "outlinewidth": 0,
             "ticks": ""
            },
            "colorscale": [
             [
              0,
              "#0d0887"
             ],
             [
              0.1111111111111111,
              "#46039f"
             ],
             [
              0.2222222222222222,
              "#7201a8"
             ],
             [
              0.3333333333333333,
              "#9c179e"
             ],
             [
              0.4444444444444444,
              "#bd3786"
             ],
             [
              0.5555555555555556,
              "#d8576b"
             ],
             [
              0.6666666666666666,
              "#ed7953"
             ],
             [
              0.7777777777777778,
              "#fb9f3a"
             ],
             [
              0.8888888888888888,
              "#fdca26"
             ],
             [
              1,
              "#f0f921"
             ]
            ],
            "type": "contour"
           }
          ],
          "contourcarpet": [
           {
            "colorbar": {
             "outlinewidth": 0,
             "ticks": ""
            },
            "type": "contourcarpet"
           }
          ],
          "heatmap": [
           {
            "colorbar": {
             "outlinewidth": 0,
             "ticks": ""
            },
            "colorscale": [
             [
              0,
              "#0d0887"
             ],
             [
              0.1111111111111111,
              "#46039f"
             ],
             [
              0.2222222222222222,
              "#7201a8"
             ],
             [
              0.3333333333333333,
              "#9c179e"
             ],
             [
              0.4444444444444444,
              "#bd3786"
             ],
             [
              0.5555555555555556,
              "#d8576b"
             ],
             [
              0.6666666666666666,
              "#ed7953"
             ],
             [
              0.7777777777777778,
              "#fb9f3a"
             ],
             [
              0.8888888888888888,
              "#fdca26"
             ],
             [
              1,
              "#f0f921"
             ]
            ],
            "type": "heatmap"
           }
          ],
          "heatmapgl": [
           {
            "colorbar": {
             "outlinewidth": 0,
             "ticks": ""
            },
            "colorscale": [
             [
              0,
              "#0d0887"
             ],
             [
              0.1111111111111111,
              "#46039f"
             ],
             [
              0.2222222222222222,
              "#7201a8"
             ],
             [
              0.3333333333333333,
              "#9c179e"
             ],
             [
              0.4444444444444444,
              "#bd3786"
             ],
             [
              0.5555555555555556,
              "#d8576b"
             ],
             [
              0.6666666666666666,
              "#ed7953"
             ],
             [
              0.7777777777777778,
              "#fb9f3a"
             ],
             [
              0.8888888888888888,
              "#fdca26"
             ],
             [
              1,
              "#f0f921"
             ]
            ],
            "type": "heatmapgl"
           }
          ],
          "histogram": [
           {
            "marker": {
             "pattern": {
              "fillmode": "overlay",
              "size": 10,
              "solidity": 0.2
             }
            },
            "type": "histogram"
           }
          ],
          "histogram2d": [
           {
            "colorbar": {
             "outlinewidth": 0,
             "ticks": ""
            },
            "colorscale": [
             [
              0,
              "#0d0887"
             ],
             [
              0.1111111111111111,
              "#46039f"
             ],
             [
              0.2222222222222222,
              "#7201a8"
             ],
             [
              0.3333333333333333,
              "#9c179e"
             ],
             [
              0.4444444444444444,
              "#bd3786"
             ],
             [
              0.5555555555555556,
              "#d8576b"
             ],
             [
              0.6666666666666666,
              "#ed7953"
             ],
             [
              0.7777777777777778,
              "#fb9f3a"
             ],
             [
              0.8888888888888888,
              "#fdca26"
             ],
             [
              1,
              "#f0f921"
             ]
            ],
            "type": "histogram2d"
           }
          ],
          "histogram2dcontour": [
           {
            "colorbar": {
             "outlinewidth": 0,
             "ticks": ""
            },
            "colorscale": [
             [
              0,
              "#0d0887"
             ],
             [
              0.1111111111111111,
              "#46039f"
             ],
             [
              0.2222222222222222,
              "#7201a8"
             ],
             [
              0.3333333333333333,
              "#9c179e"
             ],
             [
              0.4444444444444444,
              "#bd3786"
             ],
             [
              0.5555555555555556,
              "#d8576b"
             ],
             [
              0.6666666666666666,
              "#ed7953"
             ],
             [
              0.7777777777777778,
              "#fb9f3a"
             ],
             [
              0.8888888888888888,
              "#fdca26"
             ],
             [
              1,
              "#f0f921"
             ]
            ],
            "type": "histogram2dcontour"
           }
          ],
          "mesh3d": [
           {
            "colorbar": {
             "outlinewidth": 0,
             "ticks": ""
            },
            "type": "mesh3d"
           }
          ],
          "parcoords": [
           {
            "line": {
             "colorbar": {
              "outlinewidth": 0,
              "ticks": ""
             }
            },
            "type": "parcoords"
           }
          ],
          "pie": [
           {
            "automargin": true,
            "type": "pie"
           }
          ],
          "scatter": [
           {
            "fillpattern": {
             "fillmode": "overlay",
             "size": 10,
             "solidity": 0.2
            },
            "type": "scatter"
           }
          ],
          "scatter3d": [
           {
            "line": {
             "colorbar": {
              "outlinewidth": 0,
              "ticks": ""
             }
            },
            "marker": {
             "colorbar": {
              "outlinewidth": 0,
              "ticks": ""
             }
            },
            "type": "scatter3d"
           }
          ],
          "scattercarpet": [
           {
            "marker": {
             "colorbar": {
              "outlinewidth": 0,
              "ticks": ""
             }
            },
            "type": "scattercarpet"
           }
          ],
          "scattergeo": [
           {
            "marker": {
             "colorbar": {
              "outlinewidth": 0,
              "ticks": ""
             }
            },
            "type": "scattergeo"
           }
          ],
          "scattergl": [
           {
            "marker": {
             "colorbar": {
              "outlinewidth": 0,
              "ticks": ""
             }
            },
            "type": "scattergl"
           }
          ],
          "scattermapbox": [
           {
            "marker": {
             "colorbar": {
              "outlinewidth": 0,
              "ticks": ""
             }
            },
            "type": "scattermapbox"
           }
          ],
          "scatterpolar": [
           {
            "marker": {
             "colorbar": {
              "outlinewidth": 0,
              "ticks": ""
             }
            },
            "type": "scatterpolar"
           }
          ],
          "scatterpolargl": [
           {
            "marker": {
             "colorbar": {
              "outlinewidth": 0,
              "ticks": ""
             }
            },
            "type": "scatterpolargl"
           }
          ],
          "scatterternary": [
           {
            "marker": {
             "colorbar": {
              "outlinewidth": 0,
              "ticks": ""
             }
            },
            "type": "scatterternary"
           }
          ],
          "surface": [
           {
            "colorbar": {
             "outlinewidth": 0,
             "ticks": ""
            },
            "colorscale": [
             [
              0,
              "#0d0887"
             ],
             [
              0.1111111111111111,
              "#46039f"
             ],
             [
              0.2222222222222222,
              "#7201a8"
             ],
             [
              0.3333333333333333,
              "#9c179e"
             ],
             [
              0.4444444444444444,
              "#bd3786"
             ],
             [
              0.5555555555555556,
              "#d8576b"
             ],
             [
              0.6666666666666666,
              "#ed7953"
             ],
             [
              0.7777777777777778,
              "#fb9f3a"
             ],
             [
              0.8888888888888888,
              "#fdca26"
             ],
             [
              1,
              "#f0f921"
             ]
            ],
            "type": "surface"
           }
          ],
          "table": [
           {
            "cells": {
             "fill": {
              "color": "#EBF0F8"
             },
             "line": {
              "color": "white"
             }
            },
            "header": {
             "fill": {
              "color": "#C8D4E3"
             },
             "line": {
              "color": "white"
             }
            },
            "type": "table"
           }
          ]
         },
         "layout": {
          "annotationdefaults": {
           "arrowcolor": "#2a3f5f",
           "arrowhead": 0,
           "arrowwidth": 1
          },
          "autotypenumbers": "strict",
          "coloraxis": {
           "colorbar": {
            "outlinewidth": 0,
            "ticks": ""
           }
          },
          "colorscale": {
           "diverging": [
            [
             0,
             "#8e0152"
            ],
            [
             0.1,
             "#c51b7d"
            ],
            [
             0.2,
             "#de77ae"
            ],
            [
             0.3,
             "#f1b6da"
            ],
            [
             0.4,
             "#fde0ef"
            ],
            [
             0.5,
             "#f7f7f7"
            ],
            [
             0.6,
             "#e6f5d0"
            ],
            [
             0.7,
             "#b8e186"
            ],
            [
             0.8,
             "#7fbc41"
            ],
            [
             0.9,
             "#4d9221"
            ],
            [
             1,
             "#276419"
            ]
           ],
           "sequential": [
            [
             0,
             "#0d0887"
            ],
            [
             0.1111111111111111,
             "#46039f"
            ],
            [
             0.2222222222222222,
             "#7201a8"
            ],
            [
             0.3333333333333333,
             "#9c179e"
            ],
            [
             0.4444444444444444,
             "#bd3786"
            ],
            [
             0.5555555555555556,
             "#d8576b"
            ],
            [
             0.6666666666666666,
             "#ed7953"
            ],
            [
             0.7777777777777778,
             "#fb9f3a"
            ],
            [
             0.8888888888888888,
             "#fdca26"
            ],
            [
             1,
             "#f0f921"
            ]
           ],
           "sequentialminus": [
            [
             0,
             "#0d0887"
            ],
            [
             0.1111111111111111,
             "#46039f"
            ],
            [
             0.2222222222222222,
             "#7201a8"
            ],
            [
             0.3333333333333333,
             "#9c179e"
            ],
            [
             0.4444444444444444,
             "#bd3786"
            ],
            [
             0.5555555555555556,
             "#d8576b"
            ],
            [
             0.6666666666666666,
             "#ed7953"
            ],
            [
             0.7777777777777778,
             "#fb9f3a"
            ],
            [
             0.8888888888888888,
             "#fdca26"
            ],
            [
             1,
             "#f0f921"
            ]
           ]
          },
          "colorway": [
           "#636efa",
           "#EF553B",
           "#00cc96",
           "#ab63fa",
           "#FFA15A",
           "#19d3f3",
           "#FF6692",
           "#B6E880",
           "#FF97FF",
           "#FECB52"
          ],
          "font": {
           "color": "#2a3f5f"
          },
          "geo": {
           "bgcolor": "white",
           "lakecolor": "white",
           "landcolor": "#E5ECF6",
           "showlakes": true,
           "showland": true,
           "subunitcolor": "white"
          },
          "hoverlabel": {
           "align": "left"
          },
          "hovermode": "closest",
          "mapbox": {
           "style": "light"
          },
          "paper_bgcolor": "white",
          "plot_bgcolor": "#E5ECF6",
          "polar": {
           "angularaxis": {
            "gridcolor": "white",
            "linecolor": "white",
            "ticks": ""
           },
           "bgcolor": "#E5ECF6",
           "radialaxis": {
            "gridcolor": "white",
            "linecolor": "white",
            "ticks": ""
           }
          },
          "scene": {
           "xaxis": {
            "backgroundcolor": "#E5ECF6",
            "gridcolor": "white",
            "gridwidth": 2,
            "linecolor": "white",
            "showbackground": true,
            "ticks": "",
            "zerolinecolor": "white"
           },
           "yaxis": {
            "backgroundcolor": "#E5ECF6",
            "gridcolor": "white",
            "gridwidth": 2,
            "linecolor": "white",
            "showbackground": true,
            "ticks": "",
            "zerolinecolor": "white"
           },
           "zaxis": {
            "backgroundcolor": "#E5ECF6",
            "gridcolor": "white",
            "gridwidth": 2,
            "linecolor": "white",
            "showbackground": true,
            "ticks": "",
            "zerolinecolor": "white"
           }
          },
          "shapedefaults": {
           "line": {
            "color": "#2a3f5f"
           }
          },
          "ternary": {
           "aaxis": {
            "gridcolor": "white",
            "linecolor": "white",
            "ticks": ""
           },
           "baxis": {
            "gridcolor": "white",
            "linecolor": "white",
            "ticks": ""
           },
           "bgcolor": "#E5ECF6",
           "caxis": {
            "gridcolor": "white",
            "linecolor": "white",
            "ticks": ""
           }
          },
          "title": {
           "x": 0.05
          },
          "xaxis": {
           "automargin": true,
           "gridcolor": "white",
           "linecolor": "white",
           "ticks": "",
           "title": {
            "standoff": 15
           },
           "zerolinecolor": "white",
           "zerolinewidth": 2
          },
          "yaxis": {
           "automargin": true,
           "gridcolor": "white",
           "linecolor": "white",
           "ticks": "",
           "title": {
            "standoff": 15
           },
           "zerolinecolor": "white",
           "zerolinewidth": 2
          }
         }
        },
        "width": 600
       }
      }
     },
     "metadata": {},
     "output_type": "display_data"
    },
    {
     "name": "stdout",
     "output_type": "stream",
     "text": [
      "Fernando 10838\n",
      "0 days 03:00:38\n"
     ]
    },
    {
     "data": {
      "application/vnd.plotly.v1+json": {
       "config": {
        "plotlyServerURL": "https://plot.ly"
       },
       "data": [
        {
         "customdata": [
          [
           "Fernando"
          ]
         ],
         "domain": {
          "x": [
           0,
           1
          ],
          "y": [
           0,
           1
          ]
         },
         "hovertemplate": "emp_name=%{customdata[0]}<br>sec=%{value}<extra></extra>",
         "labels": [
          "Fernando"
         ],
         "legendgroup": "",
         "marker": {
          "colors": [
           "cornflowerblue"
          ]
         },
         "name": "",
         "showlegend": true,
         "type": "pie",
         "values": [
          10838
         ]
        }
       ],
       "layout": {
        "legend": {
         "tracegroupgap": 0
        },
        "margin": {
         "t": 60
        },
        "template": {
         "data": {
          "bar": [
           {
            "error_x": {
             "color": "#2a3f5f"
            },
            "error_y": {
             "color": "#2a3f5f"
            },
            "marker": {
             "line": {
              "color": "#E5ECF6",
              "width": 0.5
             },
             "pattern": {
              "fillmode": "overlay",
              "size": 10,
              "solidity": 0.2
             }
            },
            "type": "bar"
           }
          ],
          "barpolar": [
           {
            "marker": {
             "line": {
              "color": "#E5ECF6",
              "width": 0.5
             },
             "pattern": {
              "fillmode": "overlay",
              "size": 10,
              "solidity": 0.2
             }
            },
            "type": "barpolar"
           }
          ],
          "carpet": [
           {
            "aaxis": {
             "endlinecolor": "#2a3f5f",
             "gridcolor": "white",
             "linecolor": "white",
             "minorgridcolor": "white",
             "startlinecolor": "#2a3f5f"
            },
            "baxis": {
             "endlinecolor": "#2a3f5f",
             "gridcolor": "white",
             "linecolor": "white",
             "minorgridcolor": "white",
             "startlinecolor": "#2a3f5f"
            },
            "type": "carpet"
           }
          ],
          "choropleth": [
           {
            "colorbar": {
             "outlinewidth": 0,
             "ticks": ""
            },
            "type": "choropleth"
           }
          ],
          "contour": [
           {
            "colorbar": {
             "outlinewidth": 0,
             "ticks": ""
            },
            "colorscale": [
             [
              0,
              "#0d0887"
             ],
             [
              0.1111111111111111,
              "#46039f"
             ],
             [
              0.2222222222222222,
              "#7201a8"
             ],
             [
              0.3333333333333333,
              "#9c179e"
             ],
             [
              0.4444444444444444,
              "#bd3786"
             ],
             [
              0.5555555555555556,
              "#d8576b"
             ],
             [
              0.6666666666666666,
              "#ed7953"
             ],
             [
              0.7777777777777778,
              "#fb9f3a"
             ],
             [
              0.8888888888888888,
              "#fdca26"
             ],
             [
              1,
              "#f0f921"
             ]
            ],
            "type": "contour"
           }
          ],
          "contourcarpet": [
           {
            "colorbar": {
             "outlinewidth": 0,
             "ticks": ""
            },
            "type": "contourcarpet"
           }
          ],
          "heatmap": [
           {
            "colorbar": {
             "outlinewidth": 0,
             "ticks": ""
            },
            "colorscale": [
             [
              0,
              "#0d0887"
             ],
             [
              0.1111111111111111,
              "#46039f"
             ],
             [
              0.2222222222222222,
              "#7201a8"
             ],
             [
              0.3333333333333333,
              "#9c179e"
             ],
             [
              0.4444444444444444,
              "#bd3786"
             ],
             [
              0.5555555555555556,
              "#d8576b"
             ],
             [
              0.6666666666666666,
              "#ed7953"
             ],
             [
              0.7777777777777778,
              "#fb9f3a"
             ],
             [
              0.8888888888888888,
              "#fdca26"
             ],
             [
              1,
              "#f0f921"
             ]
            ],
            "type": "heatmap"
           }
          ],
          "heatmapgl": [
           {
            "colorbar": {
             "outlinewidth": 0,
             "ticks": ""
            },
            "colorscale": [
             [
              0,
              "#0d0887"
             ],
             [
              0.1111111111111111,
              "#46039f"
             ],
             [
              0.2222222222222222,
              "#7201a8"
             ],
             [
              0.3333333333333333,
              "#9c179e"
             ],
             [
              0.4444444444444444,
              "#bd3786"
             ],
             [
              0.5555555555555556,
              "#d8576b"
             ],
             [
              0.6666666666666666,
              "#ed7953"
             ],
             [
              0.7777777777777778,
              "#fb9f3a"
             ],
             [
              0.8888888888888888,
              "#fdca26"
             ],
             [
              1,
              "#f0f921"
             ]
            ],
            "type": "heatmapgl"
           }
          ],
          "histogram": [
           {
            "marker": {
             "pattern": {
              "fillmode": "overlay",
              "size": 10,
              "solidity": 0.2
             }
            },
            "type": "histogram"
           }
          ],
          "histogram2d": [
           {
            "colorbar": {
             "outlinewidth": 0,
             "ticks": ""
            },
            "colorscale": [
             [
              0,
              "#0d0887"
             ],
             [
              0.1111111111111111,
              "#46039f"
             ],
             [
              0.2222222222222222,
              "#7201a8"
             ],
             [
              0.3333333333333333,
              "#9c179e"
             ],
             [
              0.4444444444444444,
              "#bd3786"
             ],
             [
              0.5555555555555556,
              "#d8576b"
             ],
             [
              0.6666666666666666,
              "#ed7953"
             ],
             [
              0.7777777777777778,
              "#fb9f3a"
             ],
             [
              0.8888888888888888,
              "#fdca26"
             ],
             [
              1,
              "#f0f921"
             ]
            ],
            "type": "histogram2d"
           }
          ],
          "histogram2dcontour": [
           {
            "colorbar": {
             "outlinewidth": 0,
             "ticks": ""
            },
            "colorscale": [
             [
              0,
              "#0d0887"
             ],
             [
              0.1111111111111111,
              "#46039f"
             ],
             [
              0.2222222222222222,
              "#7201a8"
             ],
             [
              0.3333333333333333,
              "#9c179e"
             ],
             [
              0.4444444444444444,
              "#bd3786"
             ],
             [
              0.5555555555555556,
              "#d8576b"
             ],
             [
              0.6666666666666666,
              "#ed7953"
             ],
             [
              0.7777777777777778,
              "#fb9f3a"
             ],
             [
              0.8888888888888888,
              "#fdca26"
             ],
             [
              1,
              "#f0f921"
             ]
            ],
            "type": "histogram2dcontour"
           }
          ],
          "mesh3d": [
           {
            "colorbar": {
             "outlinewidth": 0,
             "ticks": ""
            },
            "type": "mesh3d"
           }
          ],
          "parcoords": [
           {
            "line": {
             "colorbar": {
              "outlinewidth": 0,
              "ticks": ""
             }
            },
            "type": "parcoords"
           }
          ],
          "pie": [
           {
            "automargin": true,
            "type": "pie"
           }
          ],
          "scatter": [
           {
            "fillpattern": {
             "fillmode": "overlay",
             "size": 10,
             "solidity": 0.2
            },
            "type": "scatter"
           }
          ],
          "scatter3d": [
           {
            "line": {
             "colorbar": {
              "outlinewidth": 0,
              "ticks": ""
             }
            },
            "marker": {
             "colorbar": {
              "outlinewidth": 0,
              "ticks": ""
             }
            },
            "type": "scatter3d"
           }
          ],
          "scattercarpet": [
           {
            "marker": {
             "colorbar": {
              "outlinewidth": 0,
              "ticks": ""
             }
            },
            "type": "scattercarpet"
           }
          ],
          "scattergeo": [
           {
            "marker": {
             "colorbar": {
              "outlinewidth": 0,
              "ticks": ""
             }
            },
            "type": "scattergeo"
           }
          ],
          "scattergl": [
           {
            "marker": {
             "colorbar": {
              "outlinewidth": 0,
              "ticks": ""
             }
            },
            "type": "scattergl"
           }
          ],
          "scattermapbox": [
           {
            "marker": {
             "colorbar": {
              "outlinewidth": 0,
              "ticks": ""
             }
            },
            "type": "scattermapbox"
           }
          ],
          "scatterpolar": [
           {
            "marker": {
             "colorbar": {
              "outlinewidth": 0,
              "ticks": ""
             }
            },
            "type": "scatterpolar"
           }
          ],
          "scatterpolargl": [
           {
            "marker": {
             "colorbar": {
              "outlinewidth": 0,
              "ticks": ""
             }
            },
            "type": "scatterpolargl"
           }
          ],
          "scatterternary": [
           {
            "marker": {
             "colorbar": {
              "outlinewidth": 0,
              "ticks": ""
             }
            },
            "type": "scatterternary"
           }
          ],
          "surface": [
           {
            "colorbar": {
             "outlinewidth": 0,
             "ticks": ""
            },
            "colorscale": [
             [
              0,
              "#0d0887"
             ],
             [
              0.1111111111111111,
              "#46039f"
             ],
             [
              0.2222222222222222,
              "#7201a8"
             ],
             [
              0.3333333333333333,
              "#9c179e"
             ],
             [
              0.4444444444444444,
              "#bd3786"
             ],
             [
              0.5555555555555556,
              "#d8576b"
             ],
             [
              0.6666666666666666,
              "#ed7953"
             ],
             [
              0.7777777777777778,
              "#fb9f3a"
             ],
             [
              0.8888888888888888,
              "#fdca26"
             ],
             [
              1,
              "#f0f921"
             ]
            ],
            "type": "surface"
           }
          ],
          "table": [
           {
            "cells": {
             "fill": {
              "color": "#EBF0F8"
             },
             "line": {
              "color": "white"
             }
            },
            "header": {
             "fill": {
              "color": "#C8D4E3"
             },
             "line": {
              "color": "white"
             }
            },
            "type": "table"
           }
          ]
         },
         "layout": {
          "annotationdefaults": {
           "arrowcolor": "#2a3f5f",
           "arrowhead": 0,
           "arrowwidth": 1
          },
          "autotypenumbers": "strict",
          "coloraxis": {
           "colorbar": {
            "outlinewidth": 0,
            "ticks": ""
           }
          },
          "colorscale": {
           "diverging": [
            [
             0,
             "#8e0152"
            ],
            [
             0.1,
             "#c51b7d"
            ],
            [
             0.2,
             "#de77ae"
            ],
            [
             0.3,
             "#f1b6da"
            ],
            [
             0.4,
             "#fde0ef"
            ],
            [
             0.5,
             "#f7f7f7"
            ],
            [
             0.6,
             "#e6f5d0"
            ],
            [
             0.7,
             "#b8e186"
            ],
            [
             0.8,
             "#7fbc41"
            ],
            [
             0.9,
             "#4d9221"
            ],
            [
             1,
             "#276419"
            ]
           ],
           "sequential": [
            [
             0,
             "#0d0887"
            ],
            [
             0.1111111111111111,
             "#46039f"
            ],
            [
             0.2222222222222222,
             "#7201a8"
            ],
            [
             0.3333333333333333,
             "#9c179e"
            ],
            [
             0.4444444444444444,
             "#bd3786"
            ],
            [
             0.5555555555555556,
             "#d8576b"
            ],
            [
             0.6666666666666666,
             "#ed7953"
            ],
            [
             0.7777777777777778,
             "#fb9f3a"
            ],
            [
             0.8888888888888888,
             "#fdca26"
            ],
            [
             1,
             "#f0f921"
            ]
           ],
           "sequentialminus": [
            [
             0,
             "#0d0887"
            ],
            [
             0.1111111111111111,
             "#46039f"
            ],
            [
             0.2222222222222222,
             "#7201a8"
            ],
            [
             0.3333333333333333,
             "#9c179e"
            ],
            [
             0.4444444444444444,
             "#bd3786"
            ],
            [
             0.5555555555555556,
             "#d8576b"
            ],
            [
             0.6666666666666666,
             "#ed7953"
            ],
            [
             0.7777777777777778,
             "#fb9f3a"
            ],
            [
             0.8888888888888888,
             "#fdca26"
            ],
            [
             1,
             "#f0f921"
            ]
           ]
          },
          "colorway": [
           "#636efa",
           "#EF553B",
           "#00cc96",
           "#ab63fa",
           "#FFA15A",
           "#19d3f3",
           "#FF6692",
           "#B6E880",
           "#FF97FF",
           "#FECB52"
          ],
          "font": {
           "color": "#2a3f5f"
          },
          "geo": {
           "bgcolor": "white",
           "lakecolor": "white",
           "landcolor": "#E5ECF6",
           "showlakes": true,
           "showland": true,
           "subunitcolor": "white"
          },
          "hoverlabel": {
           "align": "left"
          },
          "hovermode": "closest",
          "mapbox": {
           "style": "light"
          },
          "paper_bgcolor": "white",
          "plot_bgcolor": "#E5ECF6",
          "polar": {
           "angularaxis": {
            "gridcolor": "white",
            "linecolor": "white",
            "ticks": ""
           },
           "bgcolor": "#E5ECF6",
           "radialaxis": {
            "gridcolor": "white",
            "linecolor": "white",
            "ticks": ""
           }
          },
          "scene": {
           "xaxis": {
            "backgroundcolor": "#E5ECF6",
            "gridcolor": "white",
            "gridwidth": 2,
            "linecolor": "white",
            "showbackground": true,
            "ticks": "",
            "zerolinecolor": "white"
           },
           "yaxis": {
            "backgroundcolor": "#E5ECF6",
            "gridcolor": "white",
            "gridwidth": 2,
            "linecolor": "white",
            "showbackground": true,
            "ticks": "",
            "zerolinecolor": "white"
           },
           "zaxis": {
            "backgroundcolor": "#E5ECF6",
            "gridcolor": "white",
            "gridwidth": 2,
            "linecolor": "white",
            "showbackground": true,
            "ticks": "",
            "zerolinecolor": "white"
           }
          },
          "shapedefaults": {
           "line": {
            "color": "#2a3f5f"
           }
          },
          "ternary": {
           "aaxis": {
            "gridcolor": "white",
            "linecolor": "white",
            "ticks": ""
           },
           "baxis": {
            "gridcolor": "white",
            "linecolor": "white",
            "ticks": ""
           },
           "bgcolor": "#E5ECF6",
           "caxis": {
            "gridcolor": "white",
            "linecolor": "white",
            "ticks": ""
           }
          },
          "title": {
           "x": 0.05
          },
          "xaxis": {
           "automargin": true,
           "gridcolor": "white",
           "linecolor": "white",
           "ticks": "",
           "title": {
            "standoff": 15
           },
           "zerolinecolor": "white",
           "zerolinewidth": 2
          },
          "yaxis": {
           "automargin": true,
           "gridcolor": "white",
           "linecolor": "white",
           "ticks": "",
           "title": {
            "standoff": 15
           },
           "zerolinecolor": "white",
           "zerolinewidth": 2
          }
         }
        },
        "width": 550
       }
      }
     },
     "metadata": {},
     "output_type": "display_data"
    },
    {
     "name": "stderr",
     "output_type": "stream",
     "text": [
      "c:\\Users\\isacc\\miniconda3\\Lib\\site-packages\\_plotly_utils\\basevalidators.py:105: FutureWarning:\n",
      "\n",
      "The behavior of DatetimeProperties.to_pydatetime is deprecated, in a future version this will return a Series containing python datetime objects instead of an ndarray. To retain the old behavior, call `np.array` on the result\n",
      "\n"
     ]
    },
    {
     "data": {
      "application/vnd.plotly.v1+json": {
       "config": {
        "plotlyServerURL": "https://plot.ly"
       },
       "data": [
        {
         "alignmentgroup": "True",
         "hovertemplate": "Task names=Extra activity 1<br>Timestamp=%{x}<br>Duration (seconds)=%{y}<extra></extra>",
         "legendgroup": "Extra activity 1",
         "marker": {
          "color": "darkorange",
          "pattern": {
           "shape": ""
          }
         },
         "name": "Extra activity 1",
         "offsetgroup": "Extra activity 1",
         "orientation": "v",
         "showlegend": true,
         "textposition": "auto",
         "type": "bar",
         "width": 20000,
         "x": [
          "2023-09-07T09:00:17",
          "2023-09-07T09:00:40",
          "2023-09-07T09:01:06",
          "2023-09-07T09:01:32",
          "2023-09-07T09:02:00",
          "2023-09-07T09:02:26",
          "2023-09-07T09:02:53",
          "2023-09-07T09:03:16",
          "2023-09-07T09:03:40",
          "2023-09-07T09:04:05",
          "2023-09-07T09:04:29",
          "2023-09-07T09:04:55",
          "2023-09-07T09:05:18",
          "2023-09-07T09:05:39",
          "2023-09-07T09:06:06",
          "2023-09-07T09:06:33",
          "2023-09-07T09:06:59",
          "2023-09-07T09:07:24",
          "2023-09-07T09:07:53",
          "2023-09-07T09:08:21",
          "2023-09-07T09:08:58",
          "2023-09-07T09:09:23",
          "2023-09-07T09:14:17",
          "2023-09-07T09:15:07",
          "2023-09-07T09:15:27",
          "2023-09-07T09:15:50",
          "2023-09-07T09:16:14",
          "2023-09-07T09:16:38",
          "2023-09-07T09:17:01",
          "2023-09-07T09:17:46",
          "2023-09-07T09:18:16",
          "2023-09-07T09:18:40",
          "2023-09-07T09:19:02",
          "2023-09-07T09:19:26",
          "2023-09-07T09:19:55",
          "2023-09-07T09:20:21",
          "2023-09-07T09:20:46",
          "2023-09-07T09:21:09",
          "2023-09-07T09:21:32",
          "2023-09-07T09:21:56",
          "2023-09-07T09:23:07",
          "2023-09-07T09:23:35",
          "2023-09-07T09:23:59",
          "2023-09-07T09:24:49",
          "2023-09-07T09:26:26",
          "2023-09-07T09:26:51",
          "2023-09-07T09:27:14",
          "2023-09-07T09:27:40",
          "2023-09-07T09:30:18",
          "2023-09-07T09:30:31",
          "2023-09-07T09:30:58",
          "2023-09-07T09:31:23",
          "2023-09-07T09:33:19",
          "2023-09-07T09:33:46",
          "2023-09-07T09:34:12",
          "2023-09-07T09:34:37",
          "2023-09-07T09:35:12",
          "2023-09-07T09:35:27",
          "2023-09-07T09:35:51",
          "2023-09-07T09:36:17",
          "2023-09-07T09:36:43",
          "2023-09-07T09:37:09",
          "2023-09-07T09:37:34",
          "2023-09-07T09:39:32",
          "2023-09-07T09:39:53",
          "2023-09-07T09:40:23",
          "2023-09-07T09:40:48",
          "2023-09-07T09:41:11",
          "2023-09-07T09:41:34",
          "2023-09-07T09:42:04",
          "2023-09-07T09:42:25",
          "2023-09-07T09:42:51",
          "2023-09-07T09:43:15",
          "2023-09-07T09:43:38",
          "2023-09-07T09:44:02",
          "2023-09-07T09:44:25",
          "2023-09-07T09:45:38",
          "2023-09-07T09:46:03",
          "2023-09-07T09:49:19",
          "2023-09-07T09:49:44",
          "2023-09-07T09:50:10",
          "2023-09-07T09:50:35",
          "2023-09-07T09:51:01",
          "2023-09-07T09:51:25",
          "2023-09-07T09:52:43",
          "2023-09-07T09:53:07",
          "2023-09-07T09:54:22",
          "2023-09-07T09:54:47",
          "2023-09-07T09:55:35",
          "2023-09-07T09:55:58",
          "2023-09-07T09:56:23",
          "2023-09-07T09:56:47",
          "2023-09-07T09:57:13",
          "2023-09-07T09:57:36",
          "2023-09-07T09:58:01",
          "2023-09-07T09:58:26",
          "2023-09-07T09:58:50",
          "2023-09-07T09:59:13",
          "2023-09-07T09:59:39",
          "2023-09-07T10:00:02",
          "2023-09-07T10:00:31",
          "2023-09-07T10:00:58",
          "2023-09-07T10:01:48",
          "2023-09-07T10:02:14",
          "2023-09-07T10:02:41",
          "2023-09-07T10:03:06",
          "2023-09-07T10:03:31",
          "2023-09-07T10:04:20",
          "2023-09-07T10:04:56",
          "2023-09-07T10:05:24",
          "2023-09-07T10:05:52",
          "2023-09-07T10:06:21",
          "2023-09-07T10:06:42",
          "2023-09-07T10:07:18",
          "2023-09-07T10:07:44",
          "2023-09-07T10:08:06",
          "2023-09-07T10:08:29",
          "2023-09-07T10:08:52",
          "2023-09-07T10:09:18",
          "2023-09-07T10:09:49",
          "2023-09-07T10:10:20",
          "2023-09-07T10:10:51",
          "2023-09-07T10:11:21",
          "2023-09-07T10:11:45",
          "2023-09-07T10:12:07",
          "2023-09-07T10:12:33",
          "2023-09-07T10:12:56",
          "2023-09-07T10:13:20",
          "2023-09-07T10:13:44",
          "2023-09-07T10:14:09",
          "2023-09-07T10:14:37",
          "2023-09-07T10:15:04",
          "2023-09-07T10:15:30",
          "2023-09-07T10:16:14",
          "2023-09-07T10:16:42",
          "2023-09-07T10:17:06",
          "2023-09-07T10:17:31",
          "2023-09-07T10:17:56",
          "2023-09-07T10:18:43",
          "2023-09-07T10:18:45",
          "2023-09-07T10:19:08",
          "2023-09-07T10:19:33",
          "2023-09-07T10:20:23",
          "2023-09-07T10:20:51",
          "2023-09-07T10:21:16",
          "2023-09-07T10:21:43",
          "2023-09-07T10:22:07",
          "2023-09-07T10:22:31",
          "2023-09-07T10:22:56",
          "2023-09-07T10:23:28",
          "2023-09-07T10:23:52",
          "2023-09-07T10:24:19",
          "2023-09-07T10:24:50",
          "2023-09-07T10:25:16",
          "2023-09-07T10:25:43",
          "2023-09-07T10:26:06",
          "2023-09-07T10:26:34",
          "2023-09-07T10:26:57",
          "2023-09-07T10:51:28",
          "2023-09-07T10:51:51",
          "2023-09-07T10:52:14",
          "2023-09-07T10:52:39",
          "2023-09-07T10:53:04",
          "2023-09-07T10:53:27",
          "2023-09-07T10:53:51",
          "2023-09-07T10:54:17",
          "2023-09-07T10:54:41",
          "2023-09-07T10:55:05",
          "2023-09-07T10:55:29",
          "2023-09-07T10:56:13",
          "2023-09-07T10:56:37",
          "2023-09-07T10:57:01",
          "2023-09-07T10:57:24",
          "2023-09-07T10:57:48",
          "2023-09-07T10:58:11",
          "2023-09-07T10:58:36",
          "2023-09-07T10:59:00",
          "2023-09-07T10:59:27",
          "2023-09-07T10:59:50",
          "2023-09-07T11:00:16",
          "2023-09-07T11:00:40",
          "2023-09-07T11:01:09",
          "2023-09-07T11:02:31",
          "2023-09-07T11:02:55",
          "2023-09-07T11:03:20",
          "2023-09-07T11:03:45",
          "2023-09-07T11:04:08",
          "2023-09-07T11:04:30",
          "2023-09-07T11:04:55",
          "2023-09-07T11:05:17",
          "2023-09-07T11:05:41",
          "2023-09-07T11:06:06",
          "2023-09-07T11:06:31",
          "2023-09-07T11:07:01",
          "2023-09-07T11:07:24",
          "2023-09-07T11:07:48",
          "2023-09-07T11:08:10",
          "2023-09-07T11:08:33",
          "2023-09-07T11:08:57",
          "2023-09-07T11:09:21",
          "2023-09-07T11:09:46",
          "2023-09-07T11:10:09",
          "2023-09-07T11:10:33",
          "2023-09-07T11:10:58",
          "2023-09-07T11:11:24",
          "2023-09-07T11:11:47",
          "2023-09-07T11:13:50",
          "2023-09-07T11:14:18",
          "2023-09-07T11:14:41",
          "2023-09-07T11:15:04",
          "2023-09-07T11:15:31",
          "2023-09-07T11:16:03",
          "2023-09-07T11:16:26",
          "2023-09-07T11:16:51",
          "2023-09-07T11:17:17",
          "2023-09-07T11:17:41",
          "2023-09-07T11:18:05",
          "2023-09-07T11:18:30",
          "2023-09-07T11:18:53",
          "2023-09-07T11:20:51",
          "2023-09-07T11:21:24",
          "2023-09-07T11:26:45",
          "2023-09-07T11:27:12",
          "2023-09-07T11:27:37",
          "2023-09-07T11:28:02",
          "2023-09-07T11:28:29",
          "2023-09-07T11:31:37",
          "2023-09-07T11:32:01",
          "2023-09-07T11:32:25",
          "2023-09-07T11:32:47",
          "2023-09-07T11:33:14",
          "2023-09-07T11:33:36",
          "2023-09-07T11:33:59",
          "2023-09-07T11:34:24",
          "2023-09-07T11:34:51",
          "2023-09-07T11:35:18",
          "2023-09-07T11:35:42",
          "2023-09-07T11:36:05",
          "2023-09-07T11:36:27",
          "2023-09-07T11:36:49",
          "2023-09-07T11:37:13",
          "2023-09-07T11:37:37",
          "2023-09-07T11:38:03",
          "2023-09-07T11:38:30",
          "2023-09-07T11:38:56",
          "2023-09-07T11:39:21",
          "2023-09-07T11:39:46",
          "2023-09-07T11:40:13",
          "2023-09-07T11:42:10",
          "2023-09-07T11:42:36",
          "2023-09-07T11:43:00",
          "2023-09-07T11:43:27",
          "2023-09-07T11:43:55",
          "2023-09-07T11:44:17",
          "2023-09-07T11:44:43",
          "2023-09-07T11:45:07",
          "2023-09-07T11:45:30",
          "2023-09-07T11:45:54",
          "2023-09-07T11:46:20",
          "2023-09-07T11:46:45",
          "2023-09-07T11:47:09",
          "2023-09-07T11:47:34",
          "2023-09-07T11:47:57",
          "2023-09-07T11:48:22",
          "2023-09-07T11:48:47",
          "2023-09-07T11:49:09",
          "2023-09-07T11:49:33",
          "2023-09-07T11:49:58",
          "2023-09-07T11:50:23",
          "2023-09-07T11:56:57",
          "2023-09-07T11:57:22",
          "2023-09-07T11:57:45",
          "2023-09-07T11:58:07",
          "2023-09-07T11:58:30",
          "2023-09-07T11:58:53",
          "2023-09-07T11:59:16",
          "2023-09-07T11:59:41",
          "2023-09-07T12:00:06",
          "2023-09-07T12:00:30",
          "2023-09-07T12:07:07",
          "2023-09-07T12:07:54",
          "2023-09-07T12:08:25",
          "2023-09-07T12:08:43",
          "2023-09-07T12:08:58",
          "2023-09-07T12:09:26",
          "2023-09-07T12:09:56",
          "2023-09-07T12:10:13",
          "2023-09-07T12:10:28",
          "2023-09-07T12:10:44",
          "2023-09-07T12:11:00",
          "2023-09-07T12:11:23",
          "2023-09-07T12:11:50",
          "2023-09-07T12:13:47",
          "2023-09-07T12:14:20",
          "2023-09-07T12:14:35",
          "2023-09-07T12:14:50",
          "2023-09-07T12:15:06",
          "2023-09-07T12:15:21",
          "2023-09-07T12:15:42",
          "2023-09-07T12:16:14",
          "2023-09-07T12:16:29",
          "2023-09-07T12:16:48",
          "2023-09-07T12:18:23",
          "2023-09-07T12:18:47",
          "2023-09-07T12:19:11",
          "2023-09-07T12:19:33",
          "2023-09-07T12:19:58",
          "2023-09-07T12:20:21",
          "2023-09-07T12:20:45",
          "2023-09-07T12:21:07",
          "2023-09-07T12:21:34",
          "2023-09-07T12:24:03",
          "2023-09-07T12:24:26",
          "2023-09-07T12:24:48",
          "2023-09-07T12:25:18",
          "2023-09-07T12:25:43",
          "2023-09-07T12:26:07",
          "2023-09-07T12:26:29",
          "2023-09-07T12:27:13",
          "2023-09-07T12:27:42",
          "2023-09-07T12:29:11",
          "2023-09-07T12:29:33",
          "2023-09-07T12:29:54",
          "2023-09-07T12:30:16",
          "2023-09-07T12:30:40",
          "2023-09-07T12:31:22",
          "2023-09-07T12:31:45",
          "2023-09-07T12:32:08",
          "2023-09-07T12:34:39",
          "2023-09-07T12:35:04",
          "2023-09-07T12:35:30",
          "2023-09-07T12:35:55",
          "2023-09-07T12:36:18",
          "2023-09-07T12:36:42",
          "2023-09-07T12:38:23",
          "2023-09-07T12:38:47",
          "2023-09-07T12:39:10",
          "2023-09-07T12:39:33",
          "2023-09-07T12:39:58",
          "2023-09-07T12:40:23",
          "2023-09-07T12:40:50",
          "2023-09-07T12:41:17",
          "2023-09-07T12:41:39",
          "2023-09-07T12:42:02",
          "2023-09-07T12:42:29",
          "2023-09-07T12:42:52",
          "2023-09-07T12:43:15",
          "2023-09-07T12:43:42",
          "2023-09-07T12:44:04",
          "2023-09-07T12:44:26",
          "2023-09-07T12:44:47",
          "2023-09-07T12:45:11",
          "2023-09-07T12:45:32",
          "2023-09-07T12:45:58",
          "2023-09-07T12:46:20",
          "2023-09-07T12:46:41",
          "2023-09-07T12:47:18",
          "2023-09-07T12:47:41",
          "2023-09-07T12:48:29",
          "2023-09-07T12:48:55",
          "2023-09-07T12:49:18",
          "2023-09-07T12:49:43",
          "2023-09-07T12:51:07",
          "2023-09-07T12:51:30",
          "2023-09-07T12:51:53",
          "2023-09-07T12:52:16",
          "2023-09-07T12:52:40",
          "2023-09-07T12:53:02",
          "2023-09-07T12:53:23",
          "2023-09-07T12:53:45",
          "2023-09-07T12:54:07",
          "2023-09-07T12:54:30",
          "2023-09-07T12:54:54",
          "2023-09-07T12:55:17",
          "2023-09-07T12:55:39",
          "2023-09-07T12:56:02",
          "2023-09-07T12:56:24",
          "2023-09-07T12:56:52",
          "2023-09-07T12:57:14",
          "2023-09-07T12:57:36",
          "2023-09-07T12:58:05",
          "2023-09-07T14:03:26",
          "2023-09-07T14:03:51",
          "2023-09-07T14:04:23",
          "2023-09-07T14:04:45",
          "2023-09-07T14:05:08",
          "2023-09-07T14:05:30",
          "2023-09-07T14:05:53",
          "2023-09-07T14:06:25",
          "2023-09-07T14:06:47",
          "2023-09-07T14:07:11",
          "2023-09-07T14:07:35",
          "2023-09-07T14:07:59",
          "2023-09-07T14:08:25",
          "2023-09-07T14:08:47",
          "2023-09-07T14:09:11",
          "2023-09-07T14:09:35",
          "2023-09-07T14:09:58",
          "2023-09-07T14:10:23",
          "2023-09-07T14:10:45",
          "2023-09-07T14:11:07",
          "2023-09-07T14:11:32",
          "2023-09-07T14:12:05",
          "2023-09-07T14:12:32",
          "2023-09-07T14:17:32",
          "2023-09-07T14:46:11",
          "2023-09-07T14:47:26",
          "2023-09-07T14:47:51",
          "2023-09-07T14:48:09",
          "2023-09-07T14:49:35",
          "2023-09-07T14:50:06",
          "2023-09-07T14:50:30",
          "2023-09-07T14:51:01",
          "2023-09-07T14:51:24",
          "2023-09-07T14:51:49",
          "2023-09-07T14:55:06",
          "2023-09-07T14:56:00",
          "2023-09-07T14:56:23",
          "2023-09-07T14:56:45",
          "2023-09-07T14:57:10",
          "2023-09-07T14:57:39",
          "2023-09-07T14:58:01",
          "2023-09-07T14:58:41",
          "2023-09-07T14:58:53",
          "2023-09-07T14:59:15",
          "2023-09-07T15:00:54",
          "2023-09-07T15:01:35",
          "2023-09-07T15:01:42",
          "2023-09-07T15:02:08",
          "2023-09-07T15:02:41",
          "2023-09-07T15:03:03",
          "2023-09-07T15:03:30",
          "2023-09-07T15:05:24",
          "2023-09-07T15:05:47",
          "2023-09-07T15:06:12",
          "2023-09-07T15:07:01",
          "2023-09-07T15:08:49",
          "2023-09-07T15:09:56",
          "2023-09-07T15:10:47",
          "2023-09-07T15:10:54",
          "2023-09-07T15:16:37",
          "2023-09-07T15:17:09",
          "2023-09-07T15:18:46",
          "2023-09-07T15:22:55"
         ],
         "xaxis": "x",
         "y": [
          22,
          21,
          26,
          25,
          28,
          25,
          27,
          22,
          23,
          24,
          24,
          25,
          23,
          21,
          26,
          26,
          26,
          24,
          28,
          28,
          35,
          25,
          21,
          23,
          20,
          23,
          23,
          24,
          22,
          44,
          29,
          23,
          21,
          24,
          28,
          26,
          24,
          23,
          22,
          24,
          21,
          27,
          24,
          48,
          26,
          24,
          22,
          25,
          27,
          14,
          25,
          24,
          14,
          27,
          25,
          25,
          33,
          15,
          24,
          25,
          26,
          25,
          24,
          33,
          21,
          28,
          25,
          23,
          22,
          29,
          21,
          23,
          25,
          22,
          23,
          23,
          22,
          25,
          24,
          25,
          25,
          24,
          26,
          23,
          26,
          24,
          23,
          25,
          46,
          24,
          24,
          24,
          24,
          23,
          25,
          24,
          23,
          23,
          25,
          23,
          28,
          27,
          48,
          26,
          25,
          25,
          25,
          47,
          36,
          27,
          27,
          24,
          21,
          36,
          25,
          21,
          22,
          23,
          25,
          30,
          30,
          31,
          29,
          23,
          22,
          25,
          22,
          24,
          23,
          24,
          28,
          26,
          25,
          44,
          27,
          23,
          24,
          24,
          25,
          24,
          23,
          24,
          25,
          22,
          25,
          26,
          24,
          22,
          25,
          32,
          23,
          27,
          30,
          13,
          26,
          22,
          27,
          23,
          24,
          22,
          23,
          24,
          25,
          22,
          23,
          25,
          25,
          22,
          24,
          43,
          23,
          24,
          22,
          23,
          23,
          25,
          22,
          27,
          22,
          25,
          24,
          29,
          25,
          23,
          25,
          24,
          23,
          21,
          25,
          21,
          23,
          25,
          24,
          29,
          23,
          23,
          22,
          22,
          24,
          23,
          25,
          22,
          24,
          24,
          26,
          23,
          27,
          28,
          23,
          22,
          26,
          31,
          23,
          24,
          26,
          23,
          24,
          24,
          23,
          31,
          24,
          25,
          26,
          24,
          25,
          26,
          22,
          23,
          23,
          22,
          27,
          21,
          22,
          25,
          26,
          27,
          23,
          22,
          22,
          22,
          24,
          23,
          25,
          26,
          26,
          24,
          25,
          26,
          45,
          25,
          24,
          26,
          27,
          22,
          25,
          24,
          22,
          24,
          25,
          24,
          23,
          25,
          23,
          24,
          25,
          21,
          23,
          25,
          24,
          26,
          25,
          22,
          21,
          23,
          22,
          23,
          24,
          25,
          24,
          17,
          46,
          31,
          17,
          15,
          27,
          19,
          16,
          15,
          15,
          16,
          22,
          17,
          19,
          33,
          14,
          14,
          16,
          15,
          20,
          31,
          15,
          18,
          25,
          23,
          23,
          22,
          24,
          22,
          24,
          22,
          26,
          23,
          22,
          20,
          31,
          24,
          23,
          22,
          43,
          29,
          28,
          22,
          21,
          21,
          23,
          42,
          22,
          22,
          21,
          24,
          25,
          24,
          23,
          24,
          29,
          22,
          23,
          23,
          24,
          24,
          27,
          26,
          22,
          23,
          26,
          23,
          22,
          26,
          22,
          21,
          21,
          23,
          21,
          26,
          20,
          21,
          36,
          23,
          46,
          26,
          23,
          23,
          21,
          22,
          23,
          23,
          23,
          21,
          20,
          22,
          22,
          22,
          24,
          22,
          22,
          22,
          22,
          27,
          22,
          21,
          28,
          22,
          24,
          31,
          21,
          23,
          22,
          22,
          30,
          23,
          23,
          24,
          23,
          26,
          21,
          23,
          23,
          23,
          25,
          21,
          21,
          25,
          32,
          26,
          27,
          24,
          23,
          20,
          22,
          23,
          21,
          24,
          28,
          24,
          23,
          23,
          21,
          22,
          22,
          24,
          25,
          25,
          27,
          12,
          21,
          23,
          24,
          23,
          25,
          26,
          22,
          24,
          35,
          23,
          22,
          24,
          23,
          13,
          22,
          13,
          25,
          31,
          19,
          39
         ],
         "yaxis": "y"
        }
       ],
       "layout": {
        "bargap": 0,
        "barmode": "relative",
        "font": {
         "size": 10
        },
        "height": 300,
        "legend": {
         "title": {
          "text": "Task names"
         },
         "tracegroupgap": 0,
         "x": 0.66,
         "xanchor": "left",
         "y": 0.99,
         "yanchor": "top"
        },
        "margin": {
         "t": 60
        },
        "template": {
         "data": {
          "bar": [
           {
            "error_x": {
             "color": "#2a3f5f"
            },
            "error_y": {
             "color": "#2a3f5f"
            },
            "marker": {
             "line": {
              "color": "#E5ECF6",
              "width": 0.5
             },
             "pattern": {
              "fillmode": "overlay",
              "size": 10,
              "solidity": 0.2
             }
            },
            "type": "bar"
           }
          ],
          "barpolar": [
           {
            "marker": {
             "line": {
              "color": "#E5ECF6",
              "width": 0.5
             },
             "pattern": {
              "fillmode": "overlay",
              "size": 10,
              "solidity": 0.2
             }
            },
            "type": "barpolar"
           }
          ],
          "carpet": [
           {
            "aaxis": {
             "endlinecolor": "#2a3f5f",
             "gridcolor": "white",
             "linecolor": "white",
             "minorgridcolor": "white",
             "startlinecolor": "#2a3f5f"
            },
            "baxis": {
             "endlinecolor": "#2a3f5f",
             "gridcolor": "white",
             "linecolor": "white",
             "minorgridcolor": "white",
             "startlinecolor": "#2a3f5f"
            },
            "type": "carpet"
           }
          ],
          "choropleth": [
           {
            "colorbar": {
             "outlinewidth": 0,
             "ticks": ""
            },
            "type": "choropleth"
           }
          ],
          "contour": [
           {
            "colorbar": {
             "outlinewidth": 0,
             "ticks": ""
            },
            "colorscale": [
             [
              0,
              "#0d0887"
             ],
             [
              0.1111111111111111,
              "#46039f"
             ],
             [
              0.2222222222222222,
              "#7201a8"
             ],
             [
              0.3333333333333333,
              "#9c179e"
             ],
             [
              0.4444444444444444,
              "#bd3786"
             ],
             [
              0.5555555555555556,
              "#d8576b"
             ],
             [
              0.6666666666666666,
              "#ed7953"
             ],
             [
              0.7777777777777778,
              "#fb9f3a"
             ],
             [
              0.8888888888888888,
              "#fdca26"
             ],
             [
              1,
              "#f0f921"
             ]
            ],
            "type": "contour"
           }
          ],
          "contourcarpet": [
           {
            "colorbar": {
             "outlinewidth": 0,
             "ticks": ""
            },
            "type": "contourcarpet"
           }
          ],
          "heatmap": [
           {
            "colorbar": {
             "outlinewidth": 0,
             "ticks": ""
            },
            "colorscale": [
             [
              0,
              "#0d0887"
             ],
             [
              0.1111111111111111,
              "#46039f"
             ],
             [
              0.2222222222222222,
              "#7201a8"
             ],
             [
              0.3333333333333333,
              "#9c179e"
             ],
             [
              0.4444444444444444,
              "#bd3786"
             ],
             [
              0.5555555555555556,
              "#d8576b"
             ],
             [
              0.6666666666666666,
              "#ed7953"
             ],
             [
              0.7777777777777778,
              "#fb9f3a"
             ],
             [
              0.8888888888888888,
              "#fdca26"
             ],
             [
              1,
              "#f0f921"
             ]
            ],
            "type": "heatmap"
           }
          ],
          "heatmapgl": [
           {
            "colorbar": {
             "outlinewidth": 0,
             "ticks": ""
            },
            "colorscale": [
             [
              0,
              "#0d0887"
             ],
             [
              0.1111111111111111,
              "#46039f"
             ],
             [
              0.2222222222222222,
              "#7201a8"
             ],
             [
              0.3333333333333333,
              "#9c179e"
             ],
             [
              0.4444444444444444,
              "#bd3786"
             ],
             [
              0.5555555555555556,
              "#d8576b"
             ],
             [
              0.6666666666666666,
              "#ed7953"
             ],
             [
              0.7777777777777778,
              "#fb9f3a"
             ],
             [
              0.8888888888888888,
              "#fdca26"
             ],
             [
              1,
              "#f0f921"
             ]
            ],
            "type": "heatmapgl"
           }
          ],
          "histogram": [
           {
            "marker": {
             "pattern": {
              "fillmode": "overlay",
              "size": 10,
              "solidity": 0.2
             }
            },
            "type": "histogram"
           }
          ],
          "histogram2d": [
           {
            "colorbar": {
             "outlinewidth": 0,
             "ticks": ""
            },
            "colorscale": [
             [
              0,
              "#0d0887"
             ],
             [
              0.1111111111111111,
              "#46039f"
             ],
             [
              0.2222222222222222,
              "#7201a8"
             ],
             [
              0.3333333333333333,
              "#9c179e"
             ],
             [
              0.4444444444444444,
              "#bd3786"
             ],
             [
              0.5555555555555556,
              "#d8576b"
             ],
             [
              0.6666666666666666,
              "#ed7953"
             ],
             [
              0.7777777777777778,
              "#fb9f3a"
             ],
             [
              0.8888888888888888,
              "#fdca26"
             ],
             [
              1,
              "#f0f921"
             ]
            ],
            "type": "histogram2d"
           }
          ],
          "histogram2dcontour": [
           {
            "colorbar": {
             "outlinewidth": 0,
             "ticks": ""
            },
            "colorscale": [
             [
              0,
              "#0d0887"
             ],
             [
              0.1111111111111111,
              "#46039f"
             ],
             [
              0.2222222222222222,
              "#7201a8"
             ],
             [
              0.3333333333333333,
              "#9c179e"
             ],
             [
              0.4444444444444444,
              "#bd3786"
             ],
             [
              0.5555555555555556,
              "#d8576b"
             ],
             [
              0.6666666666666666,
              "#ed7953"
             ],
             [
              0.7777777777777778,
              "#fb9f3a"
             ],
             [
              0.8888888888888888,
              "#fdca26"
             ],
             [
              1,
              "#f0f921"
             ]
            ],
            "type": "histogram2dcontour"
           }
          ],
          "mesh3d": [
           {
            "colorbar": {
             "outlinewidth": 0,
             "ticks": ""
            },
            "type": "mesh3d"
           }
          ],
          "parcoords": [
           {
            "line": {
             "colorbar": {
              "outlinewidth": 0,
              "ticks": ""
             }
            },
            "type": "parcoords"
           }
          ],
          "pie": [
           {
            "automargin": true,
            "type": "pie"
           }
          ],
          "scatter": [
           {
            "fillpattern": {
             "fillmode": "overlay",
             "size": 10,
             "solidity": 0.2
            },
            "type": "scatter"
           }
          ],
          "scatter3d": [
           {
            "line": {
             "colorbar": {
              "outlinewidth": 0,
              "ticks": ""
             }
            },
            "marker": {
             "colorbar": {
              "outlinewidth": 0,
              "ticks": ""
             }
            },
            "type": "scatter3d"
           }
          ],
          "scattercarpet": [
           {
            "marker": {
             "colorbar": {
              "outlinewidth": 0,
              "ticks": ""
             }
            },
            "type": "scattercarpet"
           }
          ],
          "scattergeo": [
           {
            "marker": {
             "colorbar": {
              "outlinewidth": 0,
              "ticks": ""
             }
            },
            "type": "scattergeo"
           }
          ],
          "scattergl": [
           {
            "marker": {
             "colorbar": {
              "outlinewidth": 0,
              "ticks": ""
             }
            },
            "type": "scattergl"
           }
          ],
          "scattermapbox": [
           {
            "marker": {
             "colorbar": {
              "outlinewidth": 0,
              "ticks": ""
             }
            },
            "type": "scattermapbox"
           }
          ],
          "scatterpolar": [
           {
            "marker": {
             "colorbar": {
              "outlinewidth": 0,
              "ticks": ""
             }
            },
            "type": "scatterpolar"
           }
          ],
          "scatterpolargl": [
           {
            "marker": {
             "colorbar": {
              "outlinewidth": 0,
              "ticks": ""
             }
            },
            "type": "scatterpolargl"
           }
          ],
          "scatterternary": [
           {
            "marker": {
             "colorbar": {
              "outlinewidth": 0,
              "ticks": ""
             }
            },
            "type": "scatterternary"
           }
          ],
          "surface": [
           {
            "colorbar": {
             "outlinewidth": 0,
             "ticks": ""
            },
            "colorscale": [
             [
              0,
              "#0d0887"
             ],
             [
              0.1111111111111111,
              "#46039f"
             ],
             [
              0.2222222222222222,
              "#7201a8"
             ],
             [
              0.3333333333333333,
              "#9c179e"
             ],
             [
              0.4444444444444444,
              "#bd3786"
             ],
             [
              0.5555555555555556,
              "#d8576b"
             ],
             [
              0.6666666666666666,
              "#ed7953"
             ],
             [
              0.7777777777777778,
              "#fb9f3a"
             ],
             [
              0.8888888888888888,
              "#fdca26"
             ],
             [
              1,
              "#f0f921"
             ]
            ],
            "type": "surface"
           }
          ],
          "table": [
           {
            "cells": {
             "fill": {
              "color": "#EBF0F8"
             },
             "line": {
              "color": "white"
             }
            },
            "header": {
             "fill": {
              "color": "#C8D4E3"
             },
             "line": {
              "color": "white"
             }
            },
            "type": "table"
           }
          ]
         },
         "layout": {
          "annotationdefaults": {
           "arrowcolor": "#2a3f5f",
           "arrowhead": 0,
           "arrowwidth": 1
          },
          "autotypenumbers": "strict",
          "coloraxis": {
           "colorbar": {
            "outlinewidth": 0,
            "ticks": ""
           }
          },
          "colorscale": {
           "diverging": [
            [
             0,
             "#8e0152"
            ],
            [
             0.1,
             "#c51b7d"
            ],
            [
             0.2,
             "#de77ae"
            ],
            [
             0.3,
             "#f1b6da"
            ],
            [
             0.4,
             "#fde0ef"
            ],
            [
             0.5,
             "#f7f7f7"
            ],
            [
             0.6,
             "#e6f5d0"
            ],
            [
             0.7,
             "#b8e186"
            ],
            [
             0.8,
             "#7fbc41"
            ],
            [
             0.9,
             "#4d9221"
            ],
            [
             1,
             "#276419"
            ]
           ],
           "sequential": [
            [
             0,
             "#0d0887"
            ],
            [
             0.1111111111111111,
             "#46039f"
            ],
            [
             0.2222222222222222,
             "#7201a8"
            ],
            [
             0.3333333333333333,
             "#9c179e"
            ],
            [
             0.4444444444444444,
             "#bd3786"
            ],
            [
             0.5555555555555556,
             "#d8576b"
            ],
            [
             0.6666666666666666,
             "#ed7953"
            ],
            [
             0.7777777777777778,
             "#fb9f3a"
            ],
            [
             0.8888888888888888,
             "#fdca26"
            ],
            [
             1,
             "#f0f921"
            ]
           ],
           "sequentialminus": [
            [
             0,
             "#0d0887"
            ],
            [
             0.1111111111111111,
             "#46039f"
            ],
            [
             0.2222222222222222,
             "#7201a8"
            ],
            [
             0.3333333333333333,
             "#9c179e"
            ],
            [
             0.4444444444444444,
             "#bd3786"
            ],
            [
             0.5555555555555556,
             "#d8576b"
            ],
            [
             0.6666666666666666,
             "#ed7953"
            ],
            [
             0.7777777777777778,
             "#fb9f3a"
            ],
            [
             0.8888888888888888,
             "#fdca26"
            ],
            [
             1,
             "#f0f921"
            ]
           ]
          },
          "colorway": [
           "#636efa",
           "#EF553B",
           "#00cc96",
           "#ab63fa",
           "#FFA15A",
           "#19d3f3",
           "#FF6692",
           "#B6E880",
           "#FF97FF",
           "#FECB52"
          ],
          "font": {
           "color": "#2a3f5f"
          },
          "geo": {
           "bgcolor": "white",
           "lakecolor": "white",
           "landcolor": "#E5ECF6",
           "showlakes": true,
           "showland": true,
           "subunitcolor": "white"
          },
          "hoverlabel": {
           "align": "left"
          },
          "hovermode": "closest",
          "mapbox": {
           "style": "light"
          },
          "paper_bgcolor": "white",
          "plot_bgcolor": "#E5ECF6",
          "polar": {
           "angularaxis": {
            "gridcolor": "white",
            "linecolor": "white",
            "ticks": ""
           },
           "bgcolor": "#E5ECF6",
           "radialaxis": {
            "gridcolor": "white",
            "linecolor": "white",
            "ticks": ""
           }
          },
          "scene": {
           "xaxis": {
            "backgroundcolor": "#E5ECF6",
            "gridcolor": "white",
            "gridwidth": 2,
            "linecolor": "white",
            "showbackground": true,
            "ticks": "",
            "zerolinecolor": "white"
           },
           "yaxis": {
            "backgroundcolor": "#E5ECF6",
            "gridcolor": "white",
            "gridwidth": 2,
            "linecolor": "white",
            "showbackground": true,
            "ticks": "",
            "zerolinecolor": "white"
           },
           "zaxis": {
            "backgroundcolor": "#E5ECF6",
            "gridcolor": "white",
            "gridwidth": 2,
            "linecolor": "white",
            "showbackground": true,
            "ticks": "",
            "zerolinecolor": "white"
           }
          },
          "shapedefaults": {
           "line": {
            "color": "#2a3f5f"
           }
          },
          "ternary": {
           "aaxis": {
            "gridcolor": "white",
            "linecolor": "white",
            "ticks": ""
           },
           "baxis": {
            "gridcolor": "white",
            "linecolor": "white",
            "ticks": ""
           },
           "bgcolor": "#E5ECF6",
           "caxis": {
            "gridcolor": "white",
            "linecolor": "white",
            "ticks": ""
           }
          },
          "title": {
           "x": 0.05
          },
          "xaxis": {
           "automargin": true,
           "gridcolor": "white",
           "linecolor": "white",
           "ticks": "",
           "title": {
            "standoff": 15
           },
           "zerolinecolor": "white",
           "zerolinewidth": 2
          },
          "yaxis": {
           "automargin": true,
           "gridcolor": "white",
           "linecolor": "white",
           "ticks": "",
           "title": {
            "standoff": 15
           },
           "zerolinecolor": "white",
           "zerolinewidth": 2
          }
         }
        },
        "width": 700,
        "xaxis": {
         "anchor": "y",
         "domain": [
          0,
          1
         ],
         "range": [
          "2023-09-07 12:00:00",
          "2023-09-07 14:45:00"
         ],
         "showgrid": true,
         "title": {
          "text": "Timestamp"
         }
        },
        "yaxis": {
         "anchor": "x",
         "domain": [
          0,
          1
         ],
         "range": [
          0,
          49
         ],
         "title": {
          "text": "Duration (seconds)"
         }
        }
       }
      }
     },
     "metadata": {},
     "output_type": "display_data"
    },
    {
     "name": "stdout",
     "output_type": "stream",
     "text": [
      "Time person was near: 0 days 04:41:10\n",
      "Time person was using node: 0 days 03:00:38\n",
      "Percentage of node usage per day: 64.0 \n",
      "\n",
      "\n",
      "\n",
      "\n",
      "08_09\n",
      "data_fabrica/task_08_09.csv\n",
      "No data in that date\n",
      "09_09\n",
      "data_fabrica/task_09_09.csv\n",
      "No data in that date\n",
      "10_09\n",
      "data_fabrica/task_10_09.csv\n",
      "No data in that date\n",
      "11_09\n",
      "data_fabrica/task_11_09.csv\n",
      "No data in that date\n",
      "12_09\n",
      "data_fabrica/task_12_09.csv\n",
      "No data in that date\n",
      "13_09\n",
      "data_fabrica/task_13_09.csv\n",
      "No data in that date\n",
      "14_09\n",
      "data_fabrica/task_14_09.csv\n",
      "No data in that date\n",
      "15_09\n",
      "data_fabrica/task_15_09.csv\n",
      "No data in that date\n",
      "16_09\n",
      "data_fabrica/task_16_09.csv\n",
      "No data in that date\n",
      "17_09\n",
      "data_fabrica/task_17_09.csv\n",
      "No data in that date\n",
      "18_09\n",
      "data_fabrica/task_18_09.csv\n",
      "No data in that date\n",
      "19_09\n",
      "data_fabrica/task_19_09.csv\n",
      "No data in that date\n",
      "20_09\n",
      "data_fabrica/task_20_09.csv\n",
      "No data in that date\n",
      "21_09\n",
      "data_fabrica/task_21_09.csv\n",
      "No data in that date\n",
      "22_09\n",
      "data_fabrica/task_22_09.csv\n",
      "No data in that date\n",
      "23_09\n",
      "data_fabrica/task_23_09.csv\n",
      "No data in that date\n",
      "24_09\n",
      "data_fabrica/task_24_09.csv\n",
      "No data in that date\n",
      "25_09\n",
      "data_fabrica/task_25_09.csv\n",
      "No data in that date\n",
      "26_09\n",
      "data_fabrica/task_26_09.csv\n",
      "No data in that date\n",
      "27_09\n",
      "data_fabrica/task_27_09.csv\n",
      "[ 0. 12. 12. nan 40. nan nan nan]\n",
      "Reference average\n",
      "[1001.33333333   12.           12.          144.           40.\n",
      "   60.                   nan           nan]\n",
      "Outliers:\n",
      "Task: 0\n",
      "Average: 1001.33\n",
      "Median: 23.5\n",
      "Variance: 5736030.27\n",
      "Standard deviation: 2395.0\n",
      "Count: 6.0\n",
      "total secs: 6008\n",
      "Count per hour: 4\n",
      "\n",
      "Task: 1\n",
      "Average: 12.43\n",
      "Median: 12.0\n",
      "Variance: 2.31\n",
      "Standard deviation: 1.52\n",
      "Count: 37.0\n",
      "total secs: 460\n",
      "Count per hour: 290\n",
      "\n",
      "Task: 2\n",
      "Average: 12.04\n",
      "Median: 12.0\n",
      "Variance: 0.42\n",
      "Standard deviation: 0.65\n",
      "Count: 27.0\n",
      "total secs: 325\n",
      "Count per hour: 299\n",
      "\n",
      "Task: 4\n",
      "Average: 40.76\n",
      "Median: 40.0\n",
      "Variance: 1.57\n",
      "Standard deviation: 1.25\n",
      "Count: 17.0\n",
      "total secs: 693\n",
      "Count per hour: 88\n",
      "\n",
      "Outliers removed: 1\n",
      "Screws in Boards 693\n",
      "0 days 00:11:33\n",
      "TEKOX Blue Brown Cables 325\n",
      "0 days 00:05:25\n",
      "TEKOX Red Black Cables 460\n",
      "0 days 00:07:40\n"
     ]
    },
    {
     "data": {
      "application/vnd.plotly.v1+json": {
       "config": {
        "plotlyServerURL": "https://plot.ly"
       },
       "data": [
        {
         "customdata": [
          [
           "Screws in Boards"
          ],
          [
           "TEKOX Blue Brown Cables"
          ],
          [
           "TEKOX Red Black Cables"
          ]
         ],
         "domain": {
          "x": [
           0,
           1
          ],
          "y": [
           0,
           1
          ]
         },
         "hovertemplate": "task_name=%{customdata[0]}<br>sec=%{value}<extra></extra>",
         "labels": [
          "Screws in Boards",
          "TEKOX Blue Brown Cables",
          "TEKOX Red Black Cables"
         ],
         "legendgroup": "",
         "marker": {
          "colors": [
           "darkgray",
           "cornflowerblue",
           "tomato"
          ]
         },
         "name": "",
         "showlegend": true,
         "type": "pie",
         "values": [
          693,
          325,
          460
         ]
        }
       ],
       "layout": {
        "legend": {
         "tracegroupgap": 0
        },
        "margin": {
         "t": 60
        },
        "template": {
         "data": {
          "bar": [
           {
            "error_x": {
             "color": "#2a3f5f"
            },
            "error_y": {
             "color": "#2a3f5f"
            },
            "marker": {
             "line": {
              "color": "#E5ECF6",
              "width": 0.5
             },
             "pattern": {
              "fillmode": "overlay",
              "size": 10,
              "solidity": 0.2
             }
            },
            "type": "bar"
           }
          ],
          "barpolar": [
           {
            "marker": {
             "line": {
              "color": "#E5ECF6",
              "width": 0.5
             },
             "pattern": {
              "fillmode": "overlay",
              "size": 10,
              "solidity": 0.2
             }
            },
            "type": "barpolar"
           }
          ],
          "carpet": [
           {
            "aaxis": {
             "endlinecolor": "#2a3f5f",
             "gridcolor": "white",
             "linecolor": "white",
             "minorgridcolor": "white",
             "startlinecolor": "#2a3f5f"
            },
            "baxis": {
             "endlinecolor": "#2a3f5f",
             "gridcolor": "white",
             "linecolor": "white",
             "minorgridcolor": "white",
             "startlinecolor": "#2a3f5f"
            },
            "type": "carpet"
           }
          ],
          "choropleth": [
           {
            "colorbar": {
             "outlinewidth": 0,
             "ticks": ""
            },
            "type": "choropleth"
           }
          ],
          "contour": [
           {
            "colorbar": {
             "outlinewidth": 0,
             "ticks": ""
            },
            "colorscale": [
             [
              0,
              "#0d0887"
             ],
             [
              0.1111111111111111,
              "#46039f"
             ],
             [
              0.2222222222222222,
              "#7201a8"
             ],
             [
              0.3333333333333333,
              "#9c179e"
             ],
             [
              0.4444444444444444,
              "#bd3786"
             ],
             [
              0.5555555555555556,
              "#d8576b"
             ],
             [
              0.6666666666666666,
              "#ed7953"
             ],
             [
              0.7777777777777778,
              "#fb9f3a"
             ],
             [
              0.8888888888888888,
              "#fdca26"
             ],
             [
              1,
              "#f0f921"
             ]
            ],
            "type": "contour"
           }
          ],
          "contourcarpet": [
           {
            "colorbar": {
             "outlinewidth": 0,
             "ticks": ""
            },
            "type": "contourcarpet"
           }
          ],
          "heatmap": [
           {
            "colorbar": {
             "outlinewidth": 0,
             "ticks": ""
            },
            "colorscale": [
             [
              0,
              "#0d0887"
             ],
             [
              0.1111111111111111,
              "#46039f"
             ],
             [
              0.2222222222222222,
              "#7201a8"
             ],
             [
              0.3333333333333333,
              "#9c179e"
             ],
             [
              0.4444444444444444,
              "#bd3786"
             ],
             [
              0.5555555555555556,
              "#d8576b"
             ],
             [
              0.6666666666666666,
              "#ed7953"
             ],
             [
              0.7777777777777778,
              "#fb9f3a"
             ],
             [
              0.8888888888888888,
              "#fdca26"
             ],
             [
              1,
              "#f0f921"
             ]
            ],
            "type": "heatmap"
           }
          ],
          "heatmapgl": [
           {
            "colorbar": {
             "outlinewidth": 0,
             "ticks": ""
            },
            "colorscale": [
             [
              0,
              "#0d0887"
             ],
             [
              0.1111111111111111,
              "#46039f"
             ],
             [
              0.2222222222222222,
              "#7201a8"
             ],
             [
              0.3333333333333333,
              "#9c179e"
             ],
             [
              0.4444444444444444,
              "#bd3786"
             ],
             [
              0.5555555555555556,
              "#d8576b"
             ],
             [
              0.6666666666666666,
              "#ed7953"
             ],
             [
              0.7777777777777778,
              "#fb9f3a"
             ],
             [
              0.8888888888888888,
              "#fdca26"
             ],
             [
              1,
              "#f0f921"
             ]
            ],
            "type": "heatmapgl"
           }
          ],
          "histogram": [
           {
            "marker": {
             "pattern": {
              "fillmode": "overlay",
              "size": 10,
              "solidity": 0.2
             }
            },
            "type": "histogram"
           }
          ],
          "histogram2d": [
           {
            "colorbar": {
             "outlinewidth": 0,
             "ticks": ""
            },
            "colorscale": [
             [
              0,
              "#0d0887"
             ],
             [
              0.1111111111111111,
              "#46039f"
             ],
             [
              0.2222222222222222,
              "#7201a8"
             ],
             [
              0.3333333333333333,
              "#9c179e"
             ],
             [
              0.4444444444444444,
              "#bd3786"
             ],
             [
              0.5555555555555556,
              "#d8576b"
             ],
             [
              0.6666666666666666,
              "#ed7953"
             ],
             [
              0.7777777777777778,
              "#fb9f3a"
             ],
             [
              0.8888888888888888,
              "#fdca26"
             ],
             [
              1,
              "#f0f921"
             ]
            ],
            "type": "histogram2d"
           }
          ],
          "histogram2dcontour": [
           {
            "colorbar": {
             "outlinewidth": 0,
             "ticks": ""
            },
            "colorscale": [
             [
              0,
              "#0d0887"
             ],
             [
              0.1111111111111111,
              "#46039f"
             ],
             [
              0.2222222222222222,
              "#7201a8"
             ],
             [
              0.3333333333333333,
              "#9c179e"
             ],
             [
              0.4444444444444444,
              "#bd3786"
             ],
             [
              0.5555555555555556,
              "#d8576b"
             ],
             [
              0.6666666666666666,
              "#ed7953"
             ],
             [
              0.7777777777777778,
              "#fb9f3a"
             ],
             [
              0.8888888888888888,
              "#fdca26"
             ],
             [
              1,
              "#f0f921"
             ]
            ],
            "type": "histogram2dcontour"
           }
          ],
          "mesh3d": [
           {
            "colorbar": {
             "outlinewidth": 0,
             "ticks": ""
            },
            "type": "mesh3d"
           }
          ],
          "parcoords": [
           {
            "line": {
             "colorbar": {
              "outlinewidth": 0,
              "ticks": ""
             }
            },
            "type": "parcoords"
           }
          ],
          "pie": [
           {
            "automargin": true,
            "type": "pie"
           }
          ],
          "scatter": [
           {
            "fillpattern": {
             "fillmode": "overlay",
             "size": 10,
             "solidity": 0.2
            },
            "type": "scatter"
           }
          ],
          "scatter3d": [
           {
            "line": {
             "colorbar": {
              "outlinewidth": 0,
              "ticks": ""
             }
            },
            "marker": {
             "colorbar": {
              "outlinewidth": 0,
              "ticks": ""
             }
            },
            "type": "scatter3d"
           }
          ],
          "scattercarpet": [
           {
            "marker": {
             "colorbar": {
              "outlinewidth": 0,
              "ticks": ""
             }
            },
            "type": "scattercarpet"
           }
          ],
          "scattergeo": [
           {
            "marker": {
             "colorbar": {
              "outlinewidth": 0,
              "ticks": ""
             }
            },
            "type": "scattergeo"
           }
          ],
          "scattergl": [
           {
            "marker": {
             "colorbar": {
              "outlinewidth": 0,
              "ticks": ""
             }
            },
            "type": "scattergl"
           }
          ],
          "scattermapbox": [
           {
            "marker": {
             "colorbar": {
              "outlinewidth": 0,
              "ticks": ""
             }
            },
            "type": "scattermapbox"
           }
          ],
          "scatterpolar": [
           {
            "marker": {
             "colorbar": {
              "outlinewidth": 0,
              "ticks": ""
             }
            },
            "type": "scatterpolar"
           }
          ],
          "scatterpolargl": [
           {
            "marker": {
             "colorbar": {
              "outlinewidth": 0,
              "ticks": ""
             }
            },
            "type": "scatterpolargl"
           }
          ],
          "scatterternary": [
           {
            "marker": {
             "colorbar": {
              "outlinewidth": 0,
              "ticks": ""
             }
            },
            "type": "scatterternary"
           }
          ],
          "surface": [
           {
            "colorbar": {
             "outlinewidth": 0,
             "ticks": ""
            },
            "colorscale": [
             [
              0,
              "#0d0887"
             ],
             [
              0.1111111111111111,
              "#46039f"
             ],
             [
              0.2222222222222222,
              "#7201a8"
             ],
             [
              0.3333333333333333,
              "#9c179e"
             ],
             [
              0.4444444444444444,
              "#bd3786"
             ],
             [
              0.5555555555555556,
              "#d8576b"
             ],
             [
              0.6666666666666666,
              "#ed7953"
             ],
             [
              0.7777777777777778,
              "#fb9f3a"
             ],
             [
              0.8888888888888888,
              "#fdca26"
             ],
             [
              1,
              "#f0f921"
             ]
            ],
            "type": "surface"
           }
          ],
          "table": [
           {
            "cells": {
             "fill": {
              "color": "#EBF0F8"
             },
             "line": {
              "color": "white"
             }
            },
            "header": {
             "fill": {
              "color": "#C8D4E3"
             },
             "line": {
              "color": "white"
             }
            },
            "type": "table"
           }
          ]
         },
         "layout": {
          "annotationdefaults": {
           "arrowcolor": "#2a3f5f",
           "arrowhead": 0,
           "arrowwidth": 1
          },
          "autotypenumbers": "strict",
          "coloraxis": {
           "colorbar": {
            "outlinewidth": 0,
            "ticks": ""
           }
          },
          "colorscale": {
           "diverging": [
            [
             0,
             "#8e0152"
            ],
            [
             0.1,
             "#c51b7d"
            ],
            [
             0.2,
             "#de77ae"
            ],
            [
             0.3,
             "#f1b6da"
            ],
            [
             0.4,
             "#fde0ef"
            ],
            [
             0.5,
             "#f7f7f7"
            ],
            [
             0.6,
             "#e6f5d0"
            ],
            [
             0.7,
             "#b8e186"
            ],
            [
             0.8,
             "#7fbc41"
            ],
            [
             0.9,
             "#4d9221"
            ],
            [
             1,
             "#276419"
            ]
           ],
           "sequential": [
            [
             0,
             "#0d0887"
            ],
            [
             0.1111111111111111,
             "#46039f"
            ],
            [
             0.2222222222222222,
             "#7201a8"
            ],
            [
             0.3333333333333333,
             "#9c179e"
            ],
            [
             0.4444444444444444,
             "#bd3786"
            ],
            [
             0.5555555555555556,
             "#d8576b"
            ],
            [
             0.6666666666666666,
             "#ed7953"
            ],
            [
             0.7777777777777778,
             "#fb9f3a"
            ],
            [
             0.8888888888888888,
             "#fdca26"
            ],
            [
             1,
             "#f0f921"
            ]
           ],
           "sequentialminus": [
            [
             0,
             "#0d0887"
            ],
            [
             0.1111111111111111,
             "#46039f"
            ],
            [
             0.2222222222222222,
             "#7201a8"
            ],
            [
             0.3333333333333333,
             "#9c179e"
            ],
            [
             0.4444444444444444,
             "#bd3786"
            ],
            [
             0.5555555555555556,
             "#d8576b"
            ],
            [
             0.6666666666666666,
             "#ed7953"
            ],
            [
             0.7777777777777778,
             "#fb9f3a"
            ],
            [
             0.8888888888888888,
             "#fdca26"
            ],
            [
             1,
             "#f0f921"
            ]
           ]
          },
          "colorway": [
           "#636efa",
           "#EF553B",
           "#00cc96",
           "#ab63fa",
           "#FFA15A",
           "#19d3f3",
           "#FF6692",
           "#B6E880",
           "#FF97FF",
           "#FECB52"
          ],
          "font": {
           "color": "#2a3f5f"
          },
          "geo": {
           "bgcolor": "white",
           "lakecolor": "white",
           "landcolor": "#E5ECF6",
           "showlakes": true,
           "showland": true,
           "subunitcolor": "white"
          },
          "hoverlabel": {
           "align": "left"
          },
          "hovermode": "closest",
          "mapbox": {
           "style": "light"
          },
          "paper_bgcolor": "white",
          "plot_bgcolor": "#E5ECF6",
          "polar": {
           "angularaxis": {
            "gridcolor": "white",
            "linecolor": "white",
            "ticks": ""
           },
           "bgcolor": "#E5ECF6",
           "radialaxis": {
            "gridcolor": "white",
            "linecolor": "white",
            "ticks": ""
           }
          },
          "scene": {
           "xaxis": {
            "backgroundcolor": "#E5ECF6",
            "gridcolor": "white",
            "gridwidth": 2,
            "linecolor": "white",
            "showbackground": true,
            "ticks": "",
            "zerolinecolor": "white"
           },
           "yaxis": {
            "backgroundcolor": "#E5ECF6",
            "gridcolor": "white",
            "gridwidth": 2,
            "linecolor": "white",
            "showbackground": true,
            "ticks": "",
            "zerolinecolor": "white"
           },
           "zaxis": {
            "backgroundcolor": "#E5ECF6",
            "gridcolor": "white",
            "gridwidth": 2,
            "linecolor": "white",
            "showbackground": true,
            "ticks": "",
            "zerolinecolor": "white"
           }
          },
          "shapedefaults": {
           "line": {
            "color": "#2a3f5f"
           }
          },
          "ternary": {
           "aaxis": {
            "gridcolor": "white",
            "linecolor": "white",
            "ticks": ""
           },
           "baxis": {
            "gridcolor": "white",
            "linecolor": "white",
            "ticks": ""
           },
           "bgcolor": "#E5ECF6",
           "caxis": {
            "gridcolor": "white",
            "linecolor": "white",
            "ticks": ""
           }
          },
          "title": {
           "x": 0.05
          },
          "xaxis": {
           "automargin": true,
           "gridcolor": "white",
           "linecolor": "white",
           "ticks": "",
           "title": {
            "standoff": 15
           },
           "zerolinecolor": "white",
           "zerolinewidth": 2
          },
          "yaxis": {
           "automargin": true,
           "gridcolor": "white",
           "linecolor": "white",
           "ticks": "",
           "title": {
            "standoff": 15
           },
           "zerolinecolor": "white",
           "zerolinewidth": 2
          }
         }
        },
        "width": 600
       }
      }
     },
     "metadata": {},
     "output_type": "display_data"
    },
    {
     "name": "stdout",
     "output_type": "stream",
     "text": [
      "Luis 1478\n",
      "0 days 00:24:38\n"
     ]
    },
    {
     "data": {
      "application/vnd.plotly.v1+json": {
       "config": {
        "plotlyServerURL": "https://plot.ly"
       },
       "data": [
        {
         "customdata": [
          [
           "Luis"
          ]
         ],
         "domain": {
          "x": [
           0,
           1
          ],
          "y": [
           0,
           1
          ]
         },
         "hovertemplate": "emp_name=%{customdata[0]}<br>sec=%{value}<extra></extra>",
         "labels": [
          "Luis"
         ],
         "legendgroup": "",
         "marker": {
          "colors": [
           "yellowgreen"
          ]
         },
         "name": "",
         "showlegend": true,
         "type": "pie",
         "values": [
          1478
         ]
        }
       ],
       "layout": {
        "legend": {
         "tracegroupgap": 0
        },
        "margin": {
         "t": 60
        },
        "template": {
         "data": {
          "bar": [
           {
            "error_x": {
             "color": "#2a3f5f"
            },
            "error_y": {
             "color": "#2a3f5f"
            },
            "marker": {
             "line": {
              "color": "#E5ECF6",
              "width": 0.5
             },
             "pattern": {
              "fillmode": "overlay",
              "size": 10,
              "solidity": 0.2
             }
            },
            "type": "bar"
           }
          ],
          "barpolar": [
           {
            "marker": {
             "line": {
              "color": "#E5ECF6",
              "width": 0.5
             },
             "pattern": {
              "fillmode": "overlay",
              "size": 10,
              "solidity": 0.2
             }
            },
            "type": "barpolar"
           }
          ],
          "carpet": [
           {
            "aaxis": {
             "endlinecolor": "#2a3f5f",
             "gridcolor": "white",
             "linecolor": "white",
             "minorgridcolor": "white",
             "startlinecolor": "#2a3f5f"
            },
            "baxis": {
             "endlinecolor": "#2a3f5f",
             "gridcolor": "white",
             "linecolor": "white",
             "minorgridcolor": "white",
             "startlinecolor": "#2a3f5f"
            },
            "type": "carpet"
           }
          ],
          "choropleth": [
           {
            "colorbar": {
             "outlinewidth": 0,
             "ticks": ""
            },
            "type": "choropleth"
           }
          ],
          "contour": [
           {
            "colorbar": {
             "outlinewidth": 0,
             "ticks": ""
            },
            "colorscale": [
             [
              0,
              "#0d0887"
             ],
             [
              0.1111111111111111,
              "#46039f"
             ],
             [
              0.2222222222222222,
              "#7201a8"
             ],
             [
              0.3333333333333333,
              "#9c179e"
             ],
             [
              0.4444444444444444,
              "#bd3786"
             ],
             [
              0.5555555555555556,
              "#d8576b"
             ],
             [
              0.6666666666666666,
              "#ed7953"
             ],
             [
              0.7777777777777778,
              "#fb9f3a"
             ],
             [
              0.8888888888888888,
              "#fdca26"
             ],
             [
              1,
              "#f0f921"
             ]
            ],
            "type": "contour"
           }
          ],
          "contourcarpet": [
           {
            "colorbar": {
             "outlinewidth": 0,
             "ticks": ""
            },
            "type": "contourcarpet"
           }
          ],
          "heatmap": [
           {
            "colorbar": {
             "outlinewidth": 0,
             "ticks": ""
            },
            "colorscale": [
             [
              0,
              "#0d0887"
             ],
             [
              0.1111111111111111,
              "#46039f"
             ],
             [
              0.2222222222222222,
              "#7201a8"
             ],
             [
              0.3333333333333333,
              "#9c179e"
             ],
             [
              0.4444444444444444,
              "#bd3786"
             ],
             [
              0.5555555555555556,
              "#d8576b"
             ],
             [
              0.6666666666666666,
              "#ed7953"
             ],
             [
              0.7777777777777778,
              "#fb9f3a"
             ],
             [
              0.8888888888888888,
              "#fdca26"
             ],
             [
              1,
              "#f0f921"
             ]
            ],
            "type": "heatmap"
           }
          ],
          "heatmapgl": [
           {
            "colorbar": {
             "outlinewidth": 0,
             "ticks": ""
            },
            "colorscale": [
             [
              0,
              "#0d0887"
             ],
             [
              0.1111111111111111,
              "#46039f"
             ],
             [
              0.2222222222222222,
              "#7201a8"
             ],
             [
              0.3333333333333333,
              "#9c179e"
             ],
             [
              0.4444444444444444,
              "#bd3786"
             ],
             [
              0.5555555555555556,
              "#d8576b"
             ],
             [
              0.6666666666666666,
              "#ed7953"
             ],
             [
              0.7777777777777778,
              "#fb9f3a"
             ],
             [
              0.8888888888888888,
              "#fdca26"
             ],
             [
              1,
              "#f0f921"
             ]
            ],
            "type": "heatmapgl"
           }
          ],
          "histogram": [
           {
            "marker": {
             "pattern": {
              "fillmode": "overlay",
              "size": 10,
              "solidity": 0.2
             }
            },
            "type": "histogram"
           }
          ],
          "histogram2d": [
           {
            "colorbar": {
             "outlinewidth": 0,
             "ticks": ""
            },
            "colorscale": [
             [
              0,
              "#0d0887"
             ],
             [
              0.1111111111111111,
              "#46039f"
             ],
             [
              0.2222222222222222,
              "#7201a8"
             ],
             [
              0.3333333333333333,
              "#9c179e"
             ],
             [
              0.4444444444444444,
              "#bd3786"
             ],
             [
              0.5555555555555556,
              "#d8576b"
             ],
             [
              0.6666666666666666,
              "#ed7953"
             ],
             [
              0.7777777777777778,
              "#fb9f3a"
             ],
             [
              0.8888888888888888,
              "#fdca26"
             ],
             [
              1,
              "#f0f921"
             ]
            ],
            "type": "histogram2d"
           }
          ],
          "histogram2dcontour": [
           {
            "colorbar": {
             "outlinewidth": 0,
             "ticks": ""
            },
            "colorscale": [
             [
              0,
              "#0d0887"
             ],
             [
              0.1111111111111111,
              "#46039f"
             ],
             [
              0.2222222222222222,
              "#7201a8"
             ],
             [
              0.3333333333333333,
              "#9c179e"
             ],
             [
              0.4444444444444444,
              "#bd3786"
             ],
             [
              0.5555555555555556,
              "#d8576b"
             ],
             [
              0.6666666666666666,
              "#ed7953"
             ],
             [
              0.7777777777777778,
              "#fb9f3a"
             ],
             [
              0.8888888888888888,
              "#fdca26"
             ],
             [
              1,
              "#f0f921"
             ]
            ],
            "type": "histogram2dcontour"
           }
          ],
          "mesh3d": [
           {
            "colorbar": {
             "outlinewidth": 0,
             "ticks": ""
            },
            "type": "mesh3d"
           }
          ],
          "parcoords": [
           {
            "line": {
             "colorbar": {
              "outlinewidth": 0,
              "ticks": ""
             }
            },
            "type": "parcoords"
           }
          ],
          "pie": [
           {
            "automargin": true,
            "type": "pie"
           }
          ],
          "scatter": [
           {
            "fillpattern": {
             "fillmode": "overlay",
             "size": 10,
             "solidity": 0.2
            },
            "type": "scatter"
           }
          ],
          "scatter3d": [
           {
            "line": {
             "colorbar": {
              "outlinewidth": 0,
              "ticks": ""
             }
            },
            "marker": {
             "colorbar": {
              "outlinewidth": 0,
              "ticks": ""
             }
            },
            "type": "scatter3d"
           }
          ],
          "scattercarpet": [
           {
            "marker": {
             "colorbar": {
              "outlinewidth": 0,
              "ticks": ""
             }
            },
            "type": "scattercarpet"
           }
          ],
          "scattergeo": [
           {
            "marker": {
             "colorbar": {
              "outlinewidth": 0,
              "ticks": ""
             }
            },
            "type": "scattergeo"
           }
          ],
          "scattergl": [
           {
            "marker": {
             "colorbar": {
              "outlinewidth": 0,
              "ticks": ""
             }
            },
            "type": "scattergl"
           }
          ],
          "scattermapbox": [
           {
            "marker": {
             "colorbar": {
              "outlinewidth": 0,
              "ticks": ""
             }
            },
            "type": "scattermapbox"
           }
          ],
          "scatterpolar": [
           {
            "marker": {
             "colorbar": {
              "outlinewidth": 0,
              "ticks": ""
             }
            },
            "type": "scatterpolar"
           }
          ],
          "scatterpolargl": [
           {
            "marker": {
             "colorbar": {
              "outlinewidth": 0,
              "ticks": ""
             }
            },
            "type": "scatterpolargl"
           }
          ],
          "scatterternary": [
           {
            "marker": {
             "colorbar": {
              "outlinewidth": 0,
              "ticks": ""
             }
            },
            "type": "scatterternary"
           }
          ],
          "surface": [
           {
            "colorbar": {
             "outlinewidth": 0,
             "ticks": ""
            },
            "colorscale": [
             [
              0,
              "#0d0887"
             ],
             [
              0.1111111111111111,
              "#46039f"
             ],
             [
              0.2222222222222222,
              "#7201a8"
             ],
             [
              0.3333333333333333,
              "#9c179e"
             ],
             [
              0.4444444444444444,
              "#bd3786"
             ],
             [
              0.5555555555555556,
              "#d8576b"
             ],
             [
              0.6666666666666666,
              "#ed7953"
             ],
             [
              0.7777777777777778,
              "#fb9f3a"
             ],
             [
              0.8888888888888888,
              "#fdca26"
             ],
             [
              1,
              "#f0f921"
             ]
            ],
            "type": "surface"
           }
          ],
          "table": [
           {
            "cells": {
             "fill": {
              "color": "#EBF0F8"
             },
             "line": {
              "color": "white"
             }
            },
            "header": {
             "fill": {
              "color": "#C8D4E3"
             },
             "line": {
              "color": "white"
             }
            },
            "type": "table"
           }
          ]
         },
         "layout": {
          "annotationdefaults": {
           "arrowcolor": "#2a3f5f",
           "arrowhead": 0,
           "arrowwidth": 1
          },
          "autotypenumbers": "strict",
          "coloraxis": {
           "colorbar": {
            "outlinewidth": 0,
            "ticks": ""
           }
          },
          "colorscale": {
           "diverging": [
            [
             0,
             "#8e0152"
            ],
            [
             0.1,
             "#c51b7d"
            ],
            [
             0.2,
             "#de77ae"
            ],
            [
             0.3,
             "#f1b6da"
            ],
            [
             0.4,
             "#fde0ef"
            ],
            [
             0.5,
             "#f7f7f7"
            ],
            [
             0.6,
             "#e6f5d0"
            ],
            [
             0.7,
             "#b8e186"
            ],
            [
             0.8,
             "#7fbc41"
            ],
            [
             0.9,
             "#4d9221"
            ],
            [
             1,
             "#276419"
            ]
           ],
           "sequential": [
            [
             0,
             "#0d0887"
            ],
            [
             0.1111111111111111,
             "#46039f"
            ],
            [
             0.2222222222222222,
             "#7201a8"
            ],
            [
             0.3333333333333333,
             "#9c179e"
            ],
            [
             0.4444444444444444,
             "#bd3786"
            ],
            [
             0.5555555555555556,
             "#d8576b"
            ],
            [
             0.6666666666666666,
             "#ed7953"
            ],
            [
             0.7777777777777778,
             "#fb9f3a"
            ],
            [
             0.8888888888888888,
             "#fdca26"
            ],
            [
             1,
             "#f0f921"
            ]
           ],
           "sequentialminus": [
            [
             0,
             "#0d0887"
            ],
            [
             0.1111111111111111,
             "#46039f"
            ],
            [
             0.2222222222222222,
             "#7201a8"
            ],
            [
             0.3333333333333333,
             "#9c179e"
            ],
            [
             0.4444444444444444,
             "#bd3786"
            ],
            [
             0.5555555555555556,
             "#d8576b"
            ],
            [
             0.6666666666666666,
             "#ed7953"
            ],
            [
             0.7777777777777778,
             "#fb9f3a"
            ],
            [
             0.8888888888888888,
             "#fdca26"
            ],
            [
             1,
             "#f0f921"
            ]
           ]
          },
          "colorway": [
           "#636efa",
           "#EF553B",
           "#00cc96",
           "#ab63fa",
           "#FFA15A",
           "#19d3f3",
           "#FF6692",
           "#B6E880",
           "#FF97FF",
           "#FECB52"
          ],
          "font": {
           "color": "#2a3f5f"
          },
          "geo": {
           "bgcolor": "white",
           "lakecolor": "white",
           "landcolor": "#E5ECF6",
           "showlakes": true,
           "showland": true,
           "subunitcolor": "white"
          },
          "hoverlabel": {
           "align": "left"
          },
          "hovermode": "closest",
          "mapbox": {
           "style": "light"
          },
          "paper_bgcolor": "white",
          "plot_bgcolor": "#E5ECF6",
          "polar": {
           "angularaxis": {
            "gridcolor": "white",
            "linecolor": "white",
            "ticks": ""
           },
           "bgcolor": "#E5ECF6",
           "radialaxis": {
            "gridcolor": "white",
            "linecolor": "white",
            "ticks": ""
           }
          },
          "scene": {
           "xaxis": {
            "backgroundcolor": "#E5ECF6",
            "gridcolor": "white",
            "gridwidth": 2,
            "linecolor": "white",
            "showbackground": true,
            "ticks": "",
            "zerolinecolor": "white"
           },
           "yaxis": {
            "backgroundcolor": "#E5ECF6",
            "gridcolor": "white",
            "gridwidth": 2,
            "linecolor": "white",
            "showbackground": true,
            "ticks": "",
            "zerolinecolor": "white"
           },
           "zaxis": {
            "backgroundcolor": "#E5ECF6",
            "gridcolor": "white",
            "gridwidth": 2,
            "linecolor": "white",
            "showbackground": true,
            "ticks": "",
            "zerolinecolor": "white"
           }
          },
          "shapedefaults": {
           "line": {
            "color": "#2a3f5f"
           }
          },
          "ternary": {
           "aaxis": {
            "gridcolor": "white",
            "linecolor": "white",
            "ticks": ""
           },
           "baxis": {
            "gridcolor": "white",
            "linecolor": "white",
            "ticks": ""
           },
           "bgcolor": "#E5ECF6",
           "caxis": {
            "gridcolor": "white",
            "linecolor": "white",
            "ticks": ""
           }
          },
          "title": {
           "x": 0.05
          },
          "xaxis": {
           "automargin": true,
           "gridcolor": "white",
           "linecolor": "white",
           "ticks": "",
           "title": {
            "standoff": 15
           },
           "zerolinecolor": "white",
           "zerolinewidth": 2
          },
          "yaxis": {
           "automargin": true,
           "gridcolor": "white",
           "linecolor": "white",
           "ticks": "",
           "title": {
            "standoff": 15
           },
           "zerolinecolor": "white",
           "zerolinewidth": 2
          }
         }
        },
        "width": 550
       }
      }
     },
     "metadata": {},
     "output_type": "display_data"
    },
    {
     "name": "stderr",
     "output_type": "stream",
     "text": [
      "c:\\Users\\isacc\\miniconda3\\Lib\\site-packages\\_plotly_utils\\basevalidators.py:105: FutureWarning:\n",
      "\n",
      "The behavior of DatetimeProperties.to_pydatetime is deprecated, in a future version this will return a Series containing python datetime objects instead of an ndarray. To retain the old behavior, call `np.array` on the result\n",
      "\n"
     ]
    },
    {
     "data": {
      "application/vnd.plotly.v1+json": {
       "config": {
        "plotlyServerURL": "https://plot.ly"
       },
       "data": [
        {
         "alignmentgroup": "True",
         "hovertemplate": "Task names=TEKOX Red Black Cables<br>Timestamp=%{x}<br>Duration (seconds)=%{y}<extra></extra>",
         "legendgroup": "TEKOX Red Black Cables",
         "marker": {
          "color": "tomato",
          "pattern": {
           "shape": ""
          }
         },
         "name": "TEKOX Red Black Cables",
         "offsetgroup": "TEKOX Red Black Cables",
         "orientation": "v",
         "showlegend": true,
         "textposition": "auto",
         "type": "bar",
         "width": 20000,
         "x": [
          "2023-09-27T10:19:43",
          "2023-09-27T10:19:58",
          "2023-09-27T10:20:16",
          "2023-09-27T10:20:31",
          "2023-09-27T10:20:48",
          "2023-09-27T10:21:01",
          "2023-09-27T10:21:14",
          "2023-09-27T10:21:30",
          "2023-09-27T10:21:43",
          "2023-09-27T10:21:55",
          "2023-09-27T10:22:06",
          "2023-09-27T10:22:18",
          "2023-09-27T10:22:30",
          "2023-09-27T10:22:42",
          "2023-09-27T10:22:53",
          "2023-09-27T10:23:05",
          "2023-09-27T10:23:17",
          "2023-09-27T10:23:29",
          "2023-09-27T10:23:41",
          "2023-09-27T10:23:54",
          "2023-09-27T10:24:06",
          "2023-09-27T10:24:17",
          "2023-09-27T10:24:30",
          "2023-09-27T12:34:38",
          "2023-09-27T12:34:51",
          "2023-09-27T12:35:04",
          "2023-09-27T12:35:16",
          "2023-09-27T12:35:29",
          "2023-09-27T12:35:41",
          "2023-09-27T12:35:52",
          "2023-09-27T12:36:05",
          "2023-09-27T12:36:18",
          "2023-09-27T12:36:29",
          "2023-09-27T12:36:42",
          "2023-09-27T12:36:53",
          "2023-09-27T12:37:05",
          "2023-09-27T12:37:18"
         ],
         "xaxis": "x",
         "y": [
          14,
          15,
          17,
          15,
          16,
          13,
          12,
          16,
          12,
          12,
          11,
          12,
          11,
          12,
          11,
          11,
          12,
          12,
          12,
          12,
          11,
          12,
          12,
          12,
          12,
          13,
          12,
          12,
          12,
          11,
          12,
          13,
          11,
          12,
          11,
          12,
          12
         ],
         "yaxis": "y"
        },
        {
         "alignmentgroup": "True",
         "hovertemplate": "Task names=Screws in Boards<br>Timestamp=%{x}<br>Duration (seconds)=%{y}<extra></extra>",
         "legendgroup": "Screws in Boards",
         "marker": {
          "color": "darkgray",
          "pattern": {
           "shape": ""
          }
         },
         "name": "Screws in Boards",
         "offsetgroup": "Screws in Boards",
         "orientation": "v",
         "showlegend": true,
         "textposition": "auto",
         "type": "bar",
         "width": 20000,
         "x": [
          "2023-09-27T10:25:54",
          "2023-09-27T10:26:51",
          "2023-09-27T10:27:32",
          "2023-09-27T10:28:15",
          "2023-09-27T10:28:56",
          "2023-09-27T10:29:39",
          "2023-09-27T10:30:23",
          "2023-09-27T10:31:04",
          "2023-09-27T12:38:16",
          "2023-09-27T12:38:57",
          "2023-09-27T12:39:40",
          "2023-09-27T12:40:20",
          "2023-09-27T12:41:00",
          "2023-09-27T12:41:42",
          "2023-09-27T12:42:23",
          "2023-09-27T12:43:04",
          "2023-09-27T12:43:46"
         ],
         "xaxis": "x",
         "y": [
          41,
          43,
          40,
          42,
          40,
          42,
          43,
          40,
          40,
          39,
          42,
          40,
          39,
          41,
          40,
          40,
          41
         ],
         "yaxis": "y"
        },
        {
         "alignmentgroup": "True",
         "hovertemplate": "Task names=TEKOX Blue Brown Cables<br>Timestamp=%{x}<br>Duration (seconds)=%{y}<extra></extra>",
         "legendgroup": "TEKOX Blue Brown Cables",
         "marker": {
          "color": "cornflowerblue",
          "pattern": {
           "shape": ""
          }
         },
         "name": "TEKOX Blue Brown Cables",
         "offsetgroup": "TEKOX Blue Brown Cables",
         "orientation": "v",
         "showlegend": true,
         "textposition": "auto",
         "type": "bar",
         "width": 20000,
         "x": [
          "2023-09-27T10:31:56",
          "2023-09-27T10:32:19",
          "2023-09-27T10:32:30",
          "2023-09-27T10:32:42",
          "2023-09-27T10:32:54",
          "2023-09-27T10:33:10",
          "2023-09-27T10:33:22",
          "2023-09-27T10:33:35",
          "2023-09-27T10:33:47",
          "2023-09-27T10:33:59",
          "2023-09-27T10:34:11",
          "2023-09-27T10:34:23",
          "2023-09-27T12:44:44",
          "2023-09-27T12:44:57",
          "2023-09-27T12:45:08",
          "2023-09-27T12:45:22",
          "2023-09-27T12:45:35",
          "2023-09-27T12:45:47",
          "2023-09-27T12:46:00",
          "2023-09-27T12:46:13",
          "2023-09-27T12:46:26",
          "2023-09-27T12:46:38",
          "2023-09-27T12:46:50",
          "2023-09-27T12:47:03",
          "2023-09-27T12:47:15",
          "2023-09-27T12:47:28",
          "2023-09-27T12:47:41"
         ],
         "xaxis": "x",
         "y": [
          13,
          11,
          12,
          12,
          13,
          11,
          12,
          13,
          11,
          12,
          12,
          11,
          12,
          12,
          11,
          13,
          13,
          12,
          12,
          13,
          12,
          12,
          12,
          12,
          12,
          12,
          12
         ],
         "yaxis": "y"
        }
       ],
       "layout": {
        "bargap": 0,
        "barmode": "relative",
        "font": {
         "size": 10
        },
        "height": 300,
        "legend": {
         "title": {
          "text": "Task names"
         },
         "tracegroupgap": 0,
         "x": 0.66,
         "xanchor": "left",
         "y": 0.99,
         "yanchor": "top"
        },
        "margin": {
         "t": 60
        },
        "template": {
         "data": {
          "bar": [
           {
            "error_x": {
             "color": "#2a3f5f"
            },
            "error_y": {
             "color": "#2a3f5f"
            },
            "marker": {
             "line": {
              "color": "#E5ECF6",
              "width": 0.5
             },
             "pattern": {
              "fillmode": "overlay",
              "size": 10,
              "solidity": 0.2
             }
            },
            "type": "bar"
           }
          ],
          "barpolar": [
           {
            "marker": {
             "line": {
              "color": "#E5ECF6",
              "width": 0.5
             },
             "pattern": {
              "fillmode": "overlay",
              "size": 10,
              "solidity": 0.2
             }
            },
            "type": "barpolar"
           }
          ],
          "carpet": [
           {
            "aaxis": {
             "endlinecolor": "#2a3f5f",
             "gridcolor": "white",
             "linecolor": "white",
             "minorgridcolor": "white",
             "startlinecolor": "#2a3f5f"
            },
            "baxis": {
             "endlinecolor": "#2a3f5f",
             "gridcolor": "white",
             "linecolor": "white",
             "minorgridcolor": "white",
             "startlinecolor": "#2a3f5f"
            },
            "type": "carpet"
           }
          ],
          "choropleth": [
           {
            "colorbar": {
             "outlinewidth": 0,
             "ticks": ""
            },
            "type": "choropleth"
           }
          ],
          "contour": [
           {
            "colorbar": {
             "outlinewidth": 0,
             "ticks": ""
            },
            "colorscale": [
             [
              0,
              "#0d0887"
             ],
             [
              0.1111111111111111,
              "#46039f"
             ],
             [
              0.2222222222222222,
              "#7201a8"
             ],
             [
              0.3333333333333333,
              "#9c179e"
             ],
             [
              0.4444444444444444,
              "#bd3786"
             ],
             [
              0.5555555555555556,
              "#d8576b"
             ],
             [
              0.6666666666666666,
              "#ed7953"
             ],
             [
              0.7777777777777778,
              "#fb9f3a"
             ],
             [
              0.8888888888888888,
              "#fdca26"
             ],
             [
              1,
              "#f0f921"
             ]
            ],
            "type": "contour"
           }
          ],
          "contourcarpet": [
           {
            "colorbar": {
             "outlinewidth": 0,
             "ticks": ""
            },
            "type": "contourcarpet"
           }
          ],
          "heatmap": [
           {
            "colorbar": {
             "outlinewidth": 0,
             "ticks": ""
            },
            "colorscale": [
             [
              0,
              "#0d0887"
             ],
             [
              0.1111111111111111,
              "#46039f"
             ],
             [
              0.2222222222222222,
              "#7201a8"
             ],
             [
              0.3333333333333333,
              "#9c179e"
             ],
             [
              0.4444444444444444,
              "#bd3786"
             ],
             [
              0.5555555555555556,
              "#d8576b"
             ],
             [
              0.6666666666666666,
              "#ed7953"
             ],
             [
              0.7777777777777778,
              "#fb9f3a"
             ],
             [
              0.8888888888888888,
              "#fdca26"
             ],
             [
              1,
              "#f0f921"
             ]
            ],
            "type": "heatmap"
           }
          ],
          "heatmapgl": [
           {
            "colorbar": {
             "outlinewidth": 0,
             "ticks": ""
            },
            "colorscale": [
             [
              0,
              "#0d0887"
             ],
             [
              0.1111111111111111,
              "#46039f"
             ],
             [
              0.2222222222222222,
              "#7201a8"
             ],
             [
              0.3333333333333333,
              "#9c179e"
             ],
             [
              0.4444444444444444,
              "#bd3786"
             ],
             [
              0.5555555555555556,
              "#d8576b"
             ],
             [
              0.6666666666666666,
              "#ed7953"
             ],
             [
              0.7777777777777778,
              "#fb9f3a"
             ],
             [
              0.8888888888888888,
              "#fdca26"
             ],
             [
              1,
              "#f0f921"
             ]
            ],
            "type": "heatmapgl"
           }
          ],
          "histogram": [
           {
            "marker": {
             "pattern": {
              "fillmode": "overlay",
              "size": 10,
              "solidity": 0.2
             }
            },
            "type": "histogram"
           }
          ],
          "histogram2d": [
           {
            "colorbar": {
             "outlinewidth": 0,
             "ticks": ""
            },
            "colorscale": [
             [
              0,
              "#0d0887"
             ],
             [
              0.1111111111111111,
              "#46039f"
             ],
             [
              0.2222222222222222,
              "#7201a8"
             ],
             [
              0.3333333333333333,
              "#9c179e"
             ],
             [
              0.4444444444444444,
              "#bd3786"
             ],
             [
              0.5555555555555556,
              "#d8576b"
             ],
             [
              0.6666666666666666,
              "#ed7953"
             ],
             [
              0.7777777777777778,
              "#fb9f3a"
             ],
             [
              0.8888888888888888,
              "#fdca26"
             ],
             [
              1,
              "#f0f921"
             ]
            ],
            "type": "histogram2d"
           }
          ],
          "histogram2dcontour": [
           {
            "colorbar": {
             "outlinewidth": 0,
             "ticks": ""
            },
            "colorscale": [
             [
              0,
              "#0d0887"
             ],
             [
              0.1111111111111111,
              "#46039f"
             ],
             [
              0.2222222222222222,
              "#7201a8"
             ],
             [
              0.3333333333333333,
              "#9c179e"
             ],
             [
              0.4444444444444444,
              "#bd3786"
             ],
             [
              0.5555555555555556,
              "#d8576b"
             ],
             [
              0.6666666666666666,
              "#ed7953"
             ],
             [
              0.7777777777777778,
              "#fb9f3a"
             ],
             [
              0.8888888888888888,
              "#fdca26"
             ],
             [
              1,
              "#f0f921"
             ]
            ],
            "type": "histogram2dcontour"
           }
          ],
          "mesh3d": [
           {
            "colorbar": {
             "outlinewidth": 0,
             "ticks": ""
            },
            "type": "mesh3d"
           }
          ],
          "parcoords": [
           {
            "line": {
             "colorbar": {
              "outlinewidth": 0,
              "ticks": ""
             }
            },
            "type": "parcoords"
           }
          ],
          "pie": [
           {
            "automargin": true,
            "type": "pie"
           }
          ],
          "scatter": [
           {
            "fillpattern": {
             "fillmode": "overlay",
             "size": 10,
             "solidity": 0.2
            },
            "type": "scatter"
           }
          ],
          "scatter3d": [
           {
            "line": {
             "colorbar": {
              "outlinewidth": 0,
              "ticks": ""
             }
            },
            "marker": {
             "colorbar": {
              "outlinewidth": 0,
              "ticks": ""
             }
            },
            "type": "scatter3d"
           }
          ],
          "scattercarpet": [
           {
            "marker": {
             "colorbar": {
              "outlinewidth": 0,
              "ticks": ""
             }
            },
            "type": "scattercarpet"
           }
          ],
          "scattergeo": [
           {
            "marker": {
             "colorbar": {
              "outlinewidth": 0,
              "ticks": ""
             }
            },
            "type": "scattergeo"
           }
          ],
          "scattergl": [
           {
            "marker": {
             "colorbar": {
              "outlinewidth": 0,
              "ticks": ""
             }
            },
            "type": "scattergl"
           }
          ],
          "scattermapbox": [
           {
            "marker": {
             "colorbar": {
              "outlinewidth": 0,
              "ticks": ""
             }
            },
            "type": "scattermapbox"
           }
          ],
          "scatterpolar": [
           {
            "marker": {
             "colorbar": {
              "outlinewidth": 0,
              "ticks": ""
             }
            },
            "type": "scatterpolar"
           }
          ],
          "scatterpolargl": [
           {
            "marker": {
             "colorbar": {
              "outlinewidth": 0,
              "ticks": ""
             }
            },
            "type": "scatterpolargl"
           }
          ],
          "scatterternary": [
           {
            "marker": {
             "colorbar": {
              "outlinewidth": 0,
              "ticks": ""
             }
            },
            "type": "scatterternary"
           }
          ],
          "surface": [
           {
            "colorbar": {
             "outlinewidth": 0,
             "ticks": ""
            },
            "colorscale": [
             [
              0,
              "#0d0887"
             ],
             [
              0.1111111111111111,
              "#46039f"
             ],
             [
              0.2222222222222222,
              "#7201a8"
             ],
             [
              0.3333333333333333,
              "#9c179e"
             ],
             [
              0.4444444444444444,
              "#bd3786"
             ],
             [
              0.5555555555555556,
              "#d8576b"
             ],
             [
              0.6666666666666666,
              "#ed7953"
             ],
             [
              0.7777777777777778,
              "#fb9f3a"
             ],
             [
              0.8888888888888888,
              "#fdca26"
             ],
             [
              1,
              "#f0f921"
             ]
            ],
            "type": "surface"
           }
          ],
          "table": [
           {
            "cells": {
             "fill": {
              "color": "#EBF0F8"
             },
             "line": {
              "color": "white"
             }
            },
            "header": {
             "fill": {
              "color": "#C8D4E3"
             },
             "line": {
              "color": "white"
             }
            },
            "type": "table"
           }
          ]
         },
         "layout": {
          "annotationdefaults": {
           "arrowcolor": "#2a3f5f",
           "arrowhead": 0,
           "arrowwidth": 1
          },
          "autotypenumbers": "strict",
          "coloraxis": {
           "colorbar": {
            "outlinewidth": 0,
            "ticks": ""
           }
          },
          "colorscale": {
           "diverging": [
            [
             0,
             "#8e0152"
            ],
            [
             0.1,
             "#c51b7d"
            ],
            [
             0.2,
             "#de77ae"
            ],
            [
             0.3,
             "#f1b6da"
            ],
            [
             0.4,
             "#fde0ef"
            ],
            [
             0.5,
             "#f7f7f7"
            ],
            [
             0.6,
             "#e6f5d0"
            ],
            [
             0.7,
             "#b8e186"
            ],
            [
             0.8,
             "#7fbc41"
            ],
            [
             0.9,
             "#4d9221"
            ],
            [
             1,
             "#276419"
            ]
           ],
           "sequential": [
            [
             0,
             "#0d0887"
            ],
            [
             0.1111111111111111,
             "#46039f"
            ],
            [
             0.2222222222222222,
             "#7201a8"
            ],
            [
             0.3333333333333333,
             "#9c179e"
            ],
            [
             0.4444444444444444,
             "#bd3786"
            ],
            [
             0.5555555555555556,
             "#d8576b"
            ],
            [
             0.6666666666666666,
             "#ed7953"
            ],
            [
             0.7777777777777778,
             "#fb9f3a"
            ],
            [
             0.8888888888888888,
             "#fdca26"
            ],
            [
             1,
             "#f0f921"
            ]
           ],
           "sequentialminus": [
            [
             0,
             "#0d0887"
            ],
            [
             0.1111111111111111,
             "#46039f"
            ],
            [
             0.2222222222222222,
             "#7201a8"
            ],
            [
             0.3333333333333333,
             "#9c179e"
            ],
            [
             0.4444444444444444,
             "#bd3786"
            ],
            [
             0.5555555555555556,
             "#d8576b"
            ],
            [
             0.6666666666666666,
             "#ed7953"
            ],
            [
             0.7777777777777778,
             "#fb9f3a"
            ],
            [
             0.8888888888888888,
             "#fdca26"
            ],
            [
             1,
             "#f0f921"
            ]
           ]
          },
          "colorway": [
           "#636efa",
           "#EF553B",
           "#00cc96",
           "#ab63fa",
           "#FFA15A",
           "#19d3f3",
           "#FF6692",
           "#B6E880",
           "#FF97FF",
           "#FECB52"
          ],
          "font": {
           "color": "#2a3f5f"
          },
          "geo": {
           "bgcolor": "white",
           "lakecolor": "white",
           "landcolor": "#E5ECF6",
           "showlakes": true,
           "showland": true,
           "subunitcolor": "white"
          },
          "hoverlabel": {
           "align": "left"
          },
          "hovermode": "closest",
          "mapbox": {
           "style": "light"
          },
          "paper_bgcolor": "white",
          "plot_bgcolor": "#E5ECF6",
          "polar": {
           "angularaxis": {
            "gridcolor": "white",
            "linecolor": "white",
            "ticks": ""
           },
           "bgcolor": "#E5ECF6",
           "radialaxis": {
            "gridcolor": "white",
            "linecolor": "white",
            "ticks": ""
           }
          },
          "scene": {
           "xaxis": {
            "backgroundcolor": "#E5ECF6",
            "gridcolor": "white",
            "gridwidth": 2,
            "linecolor": "white",
            "showbackground": true,
            "ticks": "",
            "zerolinecolor": "white"
           },
           "yaxis": {
            "backgroundcolor": "#E5ECF6",
            "gridcolor": "white",
            "gridwidth": 2,
            "linecolor": "white",
            "showbackground": true,
            "ticks": "",
            "zerolinecolor": "white"
           },
           "zaxis": {
            "backgroundcolor": "#E5ECF6",
            "gridcolor": "white",
            "gridwidth": 2,
            "linecolor": "white",
            "showbackground": true,
            "ticks": "",
            "zerolinecolor": "white"
           }
          },
          "shapedefaults": {
           "line": {
            "color": "#2a3f5f"
           }
          },
          "ternary": {
           "aaxis": {
            "gridcolor": "white",
            "linecolor": "white",
            "ticks": ""
           },
           "baxis": {
            "gridcolor": "white",
            "linecolor": "white",
            "ticks": ""
           },
           "bgcolor": "#E5ECF6",
           "caxis": {
            "gridcolor": "white",
            "linecolor": "white",
            "ticks": ""
           }
          },
          "title": {
           "x": 0.05
          },
          "xaxis": {
           "automargin": true,
           "gridcolor": "white",
           "linecolor": "white",
           "ticks": "",
           "title": {
            "standoff": 15
           },
           "zerolinecolor": "white",
           "zerolinewidth": 2
          },
          "yaxis": {
           "automargin": true,
           "gridcolor": "white",
           "linecolor": "white",
           "ticks": "",
           "title": {
            "standoff": 15
           },
           "zerolinecolor": "white",
           "zerolinewidth": 2
          }
         }
        },
        "width": 700,
        "xaxis": {
         "anchor": "y",
         "domain": [
          0,
          1
         ],
         "range": [
          "2023-09-27 12:00:00",
          "2023-09-27 14:45:00"
         ],
         "showgrid": true,
         "title": {
          "text": "Timestamp"
         }
        },
        "yaxis": {
         "anchor": "x",
         "domain": [
          0,
          1
         ],
         "range": [
          0,
          44
         ],
         "title": {
          "text": "Duration (seconds)"
         }
        }
       }
      }
     },
     "metadata": {},
     "output_type": "display_data"
    },
    {
     "name": "stdout",
     "output_type": "stream",
     "text": [
      "Time person was near: 0 days 01:26:38\n",
      "Time person was using node: 0 days 00:24:38\n",
      "Percentage of node usage per day: 28.0 \n",
      "\n",
      "\n",
      "\n",
      "\n",
      "Extra activity 1 15432\n",
      "0 days 04:17:12\n",
      "MFALG Assembly 18104\n",
      "0 days 05:01:44\n",
      "Screws in Boards 15253\n",
      "0 days 04:14:13\n",
      "TEKOX Blue Brown Cables 325\n",
      "0 days 00:05:25\n",
      "TEKOX Red Black Cables 460\n",
      "0 days 00:07:40\n"
     ]
    },
    {
     "data": {
      "application/vnd.plotly.v1+json": {
       "config": {
        "plotlyServerURL": "https://plot.ly"
       },
       "data": [
        {
         "customdata": [
          [
           "Extra activity 1"
          ],
          [
           "MFALG Assembly"
          ],
          [
           "Screws in Boards"
          ],
          [
           "TEKOX Blue Brown Cables"
          ],
          [
           "TEKOX Red Black Cables"
          ]
         ],
         "domain": {
          "x": [
           0,
           1
          ],
          "y": [
           0,
           1
          ]
         },
         "hovertemplate": "task_name=%{customdata[0]}<br>sec=%{value}<extra></extra>",
         "labels": [
          "Extra activity 1",
          "MFALG Assembly",
          "Screws in Boards",
          "TEKOX Blue Brown Cables",
          "TEKOX Red Black Cables"
         ],
         "legendgroup": "",
         "marker": {
          "colors": [
           "darkorange",
           "gold",
           "darkgray",
           "cornflowerblue",
           "tomato"
          ]
         },
         "name": "",
         "showlegend": true,
         "type": "pie",
         "values": [
          15432,
          18104,
          15253,
          325,
          460
         ]
        }
       ],
       "layout": {
        "legend": {
         "tracegroupgap": 0
        },
        "margin": {
         "t": 60
        },
        "template": {
         "data": {
          "bar": [
           {
            "error_x": {
             "color": "#2a3f5f"
            },
            "error_y": {
             "color": "#2a3f5f"
            },
            "marker": {
             "line": {
              "color": "#E5ECF6",
              "width": 0.5
             },
             "pattern": {
              "fillmode": "overlay",
              "size": 10,
              "solidity": 0.2
             }
            },
            "type": "bar"
           }
          ],
          "barpolar": [
           {
            "marker": {
             "line": {
              "color": "#E5ECF6",
              "width": 0.5
             },
             "pattern": {
              "fillmode": "overlay",
              "size": 10,
              "solidity": 0.2
             }
            },
            "type": "barpolar"
           }
          ],
          "carpet": [
           {
            "aaxis": {
             "endlinecolor": "#2a3f5f",
             "gridcolor": "white",
             "linecolor": "white",
             "minorgridcolor": "white",
             "startlinecolor": "#2a3f5f"
            },
            "baxis": {
             "endlinecolor": "#2a3f5f",
             "gridcolor": "white",
             "linecolor": "white",
             "minorgridcolor": "white",
             "startlinecolor": "#2a3f5f"
            },
            "type": "carpet"
           }
          ],
          "choropleth": [
           {
            "colorbar": {
             "outlinewidth": 0,
             "ticks": ""
            },
            "type": "choropleth"
           }
          ],
          "contour": [
           {
            "colorbar": {
             "outlinewidth": 0,
             "ticks": ""
            },
            "colorscale": [
             [
              0,
              "#0d0887"
             ],
             [
              0.1111111111111111,
              "#46039f"
             ],
             [
              0.2222222222222222,
              "#7201a8"
             ],
             [
              0.3333333333333333,
              "#9c179e"
             ],
             [
              0.4444444444444444,
              "#bd3786"
             ],
             [
              0.5555555555555556,
              "#d8576b"
             ],
             [
              0.6666666666666666,
              "#ed7953"
             ],
             [
              0.7777777777777778,
              "#fb9f3a"
             ],
             [
              0.8888888888888888,
              "#fdca26"
             ],
             [
              1,
              "#f0f921"
             ]
            ],
            "type": "contour"
           }
          ],
          "contourcarpet": [
           {
            "colorbar": {
             "outlinewidth": 0,
             "ticks": ""
            },
            "type": "contourcarpet"
           }
          ],
          "heatmap": [
           {
            "colorbar": {
             "outlinewidth": 0,
             "ticks": ""
            },
            "colorscale": [
             [
              0,
              "#0d0887"
             ],
             [
              0.1111111111111111,
              "#46039f"
             ],
             [
              0.2222222222222222,
              "#7201a8"
             ],
             [
              0.3333333333333333,
              "#9c179e"
             ],
             [
              0.4444444444444444,
              "#bd3786"
             ],
             [
              0.5555555555555556,
              "#d8576b"
             ],
             [
              0.6666666666666666,
              "#ed7953"
             ],
             [
              0.7777777777777778,
              "#fb9f3a"
             ],
             [
              0.8888888888888888,
              "#fdca26"
             ],
             [
              1,
              "#f0f921"
             ]
            ],
            "type": "heatmap"
           }
          ],
          "heatmapgl": [
           {
            "colorbar": {
             "outlinewidth": 0,
             "ticks": ""
            },
            "colorscale": [
             [
              0,
              "#0d0887"
             ],
             [
              0.1111111111111111,
              "#46039f"
             ],
             [
              0.2222222222222222,
              "#7201a8"
             ],
             [
              0.3333333333333333,
              "#9c179e"
             ],
             [
              0.4444444444444444,
              "#bd3786"
             ],
             [
              0.5555555555555556,
              "#d8576b"
             ],
             [
              0.6666666666666666,
              "#ed7953"
             ],
             [
              0.7777777777777778,
              "#fb9f3a"
             ],
             [
              0.8888888888888888,
              "#fdca26"
             ],
             [
              1,
              "#f0f921"
             ]
            ],
            "type": "heatmapgl"
           }
          ],
          "histogram": [
           {
            "marker": {
             "pattern": {
              "fillmode": "overlay",
              "size": 10,
              "solidity": 0.2
             }
            },
            "type": "histogram"
           }
          ],
          "histogram2d": [
           {
            "colorbar": {
             "outlinewidth": 0,
             "ticks": ""
            },
            "colorscale": [
             [
              0,
              "#0d0887"
             ],
             [
              0.1111111111111111,
              "#46039f"
             ],
             [
              0.2222222222222222,
              "#7201a8"
             ],
             [
              0.3333333333333333,
              "#9c179e"
             ],
             [
              0.4444444444444444,
              "#bd3786"
             ],
             [
              0.5555555555555556,
              "#d8576b"
             ],
             [
              0.6666666666666666,
              "#ed7953"
             ],
             [
              0.7777777777777778,
              "#fb9f3a"
             ],
             [
              0.8888888888888888,
              "#fdca26"
             ],
             [
              1,
              "#f0f921"
             ]
            ],
            "type": "histogram2d"
           }
          ],
          "histogram2dcontour": [
           {
            "colorbar": {
             "outlinewidth": 0,
             "ticks": ""
            },
            "colorscale": [
             [
              0,
              "#0d0887"
             ],
             [
              0.1111111111111111,
              "#46039f"
             ],
             [
              0.2222222222222222,
              "#7201a8"
             ],
             [
              0.3333333333333333,
              "#9c179e"
             ],
             [
              0.4444444444444444,
              "#bd3786"
             ],
             [
              0.5555555555555556,
              "#d8576b"
             ],
             [
              0.6666666666666666,
              "#ed7953"
             ],
             [
              0.7777777777777778,
              "#fb9f3a"
             ],
             [
              0.8888888888888888,
              "#fdca26"
             ],
             [
              1,
              "#f0f921"
             ]
            ],
            "type": "histogram2dcontour"
           }
          ],
          "mesh3d": [
           {
            "colorbar": {
             "outlinewidth": 0,
             "ticks": ""
            },
            "type": "mesh3d"
           }
          ],
          "parcoords": [
           {
            "line": {
             "colorbar": {
              "outlinewidth": 0,
              "ticks": ""
             }
            },
            "type": "parcoords"
           }
          ],
          "pie": [
           {
            "automargin": true,
            "type": "pie"
           }
          ],
          "scatter": [
           {
            "fillpattern": {
             "fillmode": "overlay",
             "size": 10,
             "solidity": 0.2
            },
            "type": "scatter"
           }
          ],
          "scatter3d": [
           {
            "line": {
             "colorbar": {
              "outlinewidth": 0,
              "ticks": ""
             }
            },
            "marker": {
             "colorbar": {
              "outlinewidth": 0,
              "ticks": ""
             }
            },
            "type": "scatter3d"
           }
          ],
          "scattercarpet": [
           {
            "marker": {
             "colorbar": {
              "outlinewidth": 0,
              "ticks": ""
             }
            },
            "type": "scattercarpet"
           }
          ],
          "scattergeo": [
           {
            "marker": {
             "colorbar": {
              "outlinewidth": 0,
              "ticks": ""
             }
            },
            "type": "scattergeo"
           }
          ],
          "scattergl": [
           {
            "marker": {
             "colorbar": {
              "outlinewidth": 0,
              "ticks": ""
             }
            },
            "type": "scattergl"
           }
          ],
          "scattermapbox": [
           {
            "marker": {
             "colorbar": {
              "outlinewidth": 0,
              "ticks": ""
             }
            },
            "type": "scattermapbox"
           }
          ],
          "scatterpolar": [
           {
            "marker": {
             "colorbar": {
              "outlinewidth": 0,
              "ticks": ""
             }
            },
            "type": "scatterpolar"
           }
          ],
          "scatterpolargl": [
           {
            "marker": {
             "colorbar": {
              "outlinewidth": 0,
              "ticks": ""
             }
            },
            "type": "scatterpolargl"
           }
          ],
          "scatterternary": [
           {
            "marker": {
             "colorbar": {
              "outlinewidth": 0,
              "ticks": ""
             }
            },
            "type": "scatterternary"
           }
          ],
          "surface": [
           {
            "colorbar": {
             "outlinewidth": 0,
             "ticks": ""
            },
            "colorscale": [
             [
              0,
              "#0d0887"
             ],
             [
              0.1111111111111111,
              "#46039f"
             ],
             [
              0.2222222222222222,
              "#7201a8"
             ],
             [
              0.3333333333333333,
              "#9c179e"
             ],
             [
              0.4444444444444444,
              "#bd3786"
             ],
             [
              0.5555555555555556,
              "#d8576b"
             ],
             [
              0.6666666666666666,
              "#ed7953"
             ],
             [
              0.7777777777777778,
              "#fb9f3a"
             ],
             [
              0.8888888888888888,
              "#fdca26"
             ],
             [
              1,
              "#f0f921"
             ]
            ],
            "type": "surface"
           }
          ],
          "table": [
           {
            "cells": {
             "fill": {
              "color": "#EBF0F8"
             },
             "line": {
              "color": "white"
             }
            },
            "header": {
             "fill": {
              "color": "#C8D4E3"
             },
             "line": {
              "color": "white"
             }
            },
            "type": "table"
           }
          ]
         },
         "layout": {
          "annotationdefaults": {
           "arrowcolor": "#2a3f5f",
           "arrowhead": 0,
           "arrowwidth": 1
          },
          "autotypenumbers": "strict",
          "coloraxis": {
           "colorbar": {
            "outlinewidth": 0,
            "ticks": ""
           }
          },
          "colorscale": {
           "diverging": [
            [
             0,
             "#8e0152"
            ],
            [
             0.1,
             "#c51b7d"
            ],
            [
             0.2,
             "#de77ae"
            ],
            [
             0.3,
             "#f1b6da"
            ],
            [
             0.4,
             "#fde0ef"
            ],
            [
             0.5,
             "#f7f7f7"
            ],
            [
             0.6,
             "#e6f5d0"
            ],
            [
             0.7,
             "#b8e186"
            ],
            [
             0.8,
             "#7fbc41"
            ],
            [
             0.9,
             "#4d9221"
            ],
            [
             1,
             "#276419"
            ]
           ],
           "sequential": [
            [
             0,
             "#0d0887"
            ],
            [
             0.1111111111111111,
             "#46039f"
            ],
            [
             0.2222222222222222,
             "#7201a8"
            ],
            [
             0.3333333333333333,
             "#9c179e"
            ],
            [
             0.4444444444444444,
             "#bd3786"
            ],
            [
             0.5555555555555556,
             "#d8576b"
            ],
            [
             0.6666666666666666,
             "#ed7953"
            ],
            [
             0.7777777777777778,
             "#fb9f3a"
            ],
            [
             0.8888888888888888,
             "#fdca26"
            ],
            [
             1,
             "#f0f921"
            ]
           ],
           "sequentialminus": [
            [
             0,
             "#0d0887"
            ],
            [
             0.1111111111111111,
             "#46039f"
            ],
            [
             0.2222222222222222,
             "#7201a8"
            ],
            [
             0.3333333333333333,
             "#9c179e"
            ],
            [
             0.4444444444444444,
             "#bd3786"
            ],
            [
             0.5555555555555556,
             "#d8576b"
            ],
            [
             0.6666666666666666,
             "#ed7953"
            ],
            [
             0.7777777777777778,
             "#fb9f3a"
            ],
            [
             0.8888888888888888,
             "#fdca26"
            ],
            [
             1,
             "#f0f921"
            ]
           ]
          },
          "colorway": [
           "#636efa",
           "#EF553B",
           "#00cc96",
           "#ab63fa",
           "#FFA15A",
           "#19d3f3",
           "#FF6692",
           "#B6E880",
           "#FF97FF",
           "#FECB52"
          ],
          "font": {
           "color": "#2a3f5f"
          },
          "geo": {
           "bgcolor": "white",
           "lakecolor": "white",
           "landcolor": "#E5ECF6",
           "showlakes": true,
           "showland": true,
           "subunitcolor": "white"
          },
          "hoverlabel": {
           "align": "left"
          },
          "hovermode": "closest",
          "mapbox": {
           "style": "light"
          },
          "paper_bgcolor": "white",
          "plot_bgcolor": "#E5ECF6",
          "polar": {
           "angularaxis": {
            "gridcolor": "white",
            "linecolor": "white",
            "ticks": ""
           },
           "bgcolor": "#E5ECF6",
           "radialaxis": {
            "gridcolor": "white",
            "linecolor": "white",
            "ticks": ""
           }
          },
          "scene": {
           "xaxis": {
            "backgroundcolor": "#E5ECF6",
            "gridcolor": "white",
            "gridwidth": 2,
            "linecolor": "white",
            "showbackground": true,
            "ticks": "",
            "zerolinecolor": "white"
           },
           "yaxis": {
            "backgroundcolor": "#E5ECF6",
            "gridcolor": "white",
            "gridwidth": 2,
            "linecolor": "white",
            "showbackground": true,
            "ticks": "",
            "zerolinecolor": "white"
           },
           "zaxis": {
            "backgroundcolor": "#E5ECF6",
            "gridcolor": "white",
            "gridwidth": 2,
            "linecolor": "white",
            "showbackground": true,
            "ticks": "",
            "zerolinecolor": "white"
           }
          },
          "shapedefaults": {
           "line": {
            "color": "#2a3f5f"
           }
          },
          "ternary": {
           "aaxis": {
            "gridcolor": "white",
            "linecolor": "white",
            "ticks": ""
           },
           "baxis": {
            "gridcolor": "white",
            "linecolor": "white",
            "ticks": ""
           },
           "bgcolor": "#E5ECF6",
           "caxis": {
            "gridcolor": "white",
            "linecolor": "white",
            "ticks": ""
           }
          },
          "title": {
           "x": 0.05
          },
          "xaxis": {
           "automargin": true,
           "gridcolor": "white",
           "linecolor": "white",
           "ticks": "",
           "title": {
            "standoff": 15
           },
           "zerolinecolor": "white",
           "zerolinewidth": 2
          },
          "yaxis": {
           "automargin": true,
           "gridcolor": "white",
           "linecolor": "white",
           "ticks": "",
           "title": {
            "standoff": 15
           },
           "zerolinecolor": "white",
           "zerolinewidth": 2
          }
         }
        },
        "width": 600
       }
      }
     },
     "metadata": {},
     "output_type": "display_data"
    },
    {
     "name": "stdout",
     "output_type": "stream",
     "text": [
      "Fernando 48096\n",
      "0 days 13:21:36\n",
      "Luis 1478\n",
      "0 days 00:24:38\n"
     ]
    },
    {
     "data": {
      "application/vnd.plotly.v1+json": {
       "config": {
        "plotlyServerURL": "https://plot.ly"
       },
       "data": [
        {
         "customdata": [
          [
           "Fernando"
          ],
          [
           "Luis"
          ]
         ],
         "domain": {
          "x": [
           0,
           1
          ],
          "y": [
           0,
           1
          ]
         },
         "hovertemplate": "emp_name=%{customdata[0]}<br>sec=%{value}<extra></extra>",
         "labels": [
          "Fernando",
          "Luis"
         ],
         "legendgroup": "",
         "marker": {
          "colors": [
           "cornflowerblue",
           "yellowgreen"
          ]
         },
         "name": "",
         "showlegend": true,
         "type": "pie",
         "values": [
          48096,
          1478
         ]
        }
       ],
       "layout": {
        "legend": {
         "tracegroupgap": 0
        },
        "margin": {
         "t": 60
        },
        "template": {
         "data": {
          "bar": [
           {
            "error_x": {
             "color": "#2a3f5f"
            },
            "error_y": {
             "color": "#2a3f5f"
            },
            "marker": {
             "line": {
              "color": "#E5ECF6",
              "width": 0.5
             },
             "pattern": {
              "fillmode": "overlay",
              "size": 10,
              "solidity": 0.2
             }
            },
            "type": "bar"
           }
          ],
          "barpolar": [
           {
            "marker": {
             "line": {
              "color": "#E5ECF6",
              "width": 0.5
             },
             "pattern": {
              "fillmode": "overlay",
              "size": 10,
              "solidity": 0.2
             }
            },
            "type": "barpolar"
           }
          ],
          "carpet": [
           {
            "aaxis": {
             "endlinecolor": "#2a3f5f",
             "gridcolor": "white",
             "linecolor": "white",
             "minorgridcolor": "white",
             "startlinecolor": "#2a3f5f"
            },
            "baxis": {
             "endlinecolor": "#2a3f5f",
             "gridcolor": "white",
             "linecolor": "white",
             "minorgridcolor": "white",
             "startlinecolor": "#2a3f5f"
            },
            "type": "carpet"
           }
          ],
          "choropleth": [
           {
            "colorbar": {
             "outlinewidth": 0,
             "ticks": ""
            },
            "type": "choropleth"
           }
          ],
          "contour": [
           {
            "colorbar": {
             "outlinewidth": 0,
             "ticks": ""
            },
            "colorscale": [
             [
              0,
              "#0d0887"
             ],
             [
              0.1111111111111111,
              "#46039f"
             ],
             [
              0.2222222222222222,
              "#7201a8"
             ],
             [
              0.3333333333333333,
              "#9c179e"
             ],
             [
              0.4444444444444444,
              "#bd3786"
             ],
             [
              0.5555555555555556,
              "#d8576b"
             ],
             [
              0.6666666666666666,
              "#ed7953"
             ],
             [
              0.7777777777777778,
              "#fb9f3a"
             ],
             [
              0.8888888888888888,
              "#fdca26"
             ],
             [
              1,
              "#f0f921"
             ]
            ],
            "type": "contour"
           }
          ],
          "contourcarpet": [
           {
            "colorbar": {
             "outlinewidth": 0,
             "ticks": ""
            },
            "type": "contourcarpet"
           }
          ],
          "heatmap": [
           {
            "colorbar": {
             "outlinewidth": 0,
             "ticks": ""
            },
            "colorscale": [
             [
              0,
              "#0d0887"
             ],
             [
              0.1111111111111111,
              "#46039f"
             ],
             [
              0.2222222222222222,
              "#7201a8"
             ],
             [
              0.3333333333333333,
              "#9c179e"
             ],
             [
              0.4444444444444444,
              "#bd3786"
             ],
             [
              0.5555555555555556,
              "#d8576b"
             ],
             [
              0.6666666666666666,
              "#ed7953"
             ],
             [
              0.7777777777777778,
              "#fb9f3a"
             ],
             [
              0.8888888888888888,
              "#fdca26"
             ],
             [
              1,
              "#f0f921"
             ]
            ],
            "type": "heatmap"
           }
          ],
          "heatmapgl": [
           {
            "colorbar": {
             "outlinewidth": 0,
             "ticks": ""
            },
            "colorscale": [
             [
              0,
              "#0d0887"
             ],
             [
              0.1111111111111111,
              "#46039f"
             ],
             [
              0.2222222222222222,
              "#7201a8"
             ],
             [
              0.3333333333333333,
              "#9c179e"
             ],
             [
              0.4444444444444444,
              "#bd3786"
             ],
             [
              0.5555555555555556,
              "#d8576b"
             ],
             [
              0.6666666666666666,
              "#ed7953"
             ],
             [
              0.7777777777777778,
              "#fb9f3a"
             ],
             [
              0.8888888888888888,
              "#fdca26"
             ],
             [
              1,
              "#f0f921"
             ]
            ],
            "type": "heatmapgl"
           }
          ],
          "histogram": [
           {
            "marker": {
             "pattern": {
              "fillmode": "overlay",
              "size": 10,
              "solidity": 0.2
             }
            },
            "type": "histogram"
           }
          ],
          "histogram2d": [
           {
            "colorbar": {
             "outlinewidth": 0,
             "ticks": ""
            },
            "colorscale": [
             [
              0,
              "#0d0887"
             ],
             [
              0.1111111111111111,
              "#46039f"
             ],
             [
              0.2222222222222222,
              "#7201a8"
             ],
             [
              0.3333333333333333,
              "#9c179e"
             ],
             [
              0.4444444444444444,
              "#bd3786"
             ],
             [
              0.5555555555555556,
              "#d8576b"
             ],
             [
              0.6666666666666666,
              "#ed7953"
             ],
             [
              0.7777777777777778,
              "#fb9f3a"
             ],
             [
              0.8888888888888888,
              "#fdca26"
             ],
             [
              1,
              "#f0f921"
             ]
            ],
            "type": "histogram2d"
           }
          ],
          "histogram2dcontour": [
           {
            "colorbar": {
             "outlinewidth": 0,
             "ticks": ""
            },
            "colorscale": [
             [
              0,
              "#0d0887"
             ],
             [
              0.1111111111111111,
              "#46039f"
             ],
             [
              0.2222222222222222,
              "#7201a8"
             ],
             [
              0.3333333333333333,
              "#9c179e"
             ],
             [
              0.4444444444444444,
              "#bd3786"
             ],
             [
              0.5555555555555556,
              "#d8576b"
             ],
             [
              0.6666666666666666,
              "#ed7953"
             ],
             [
              0.7777777777777778,
              "#fb9f3a"
             ],
             [
              0.8888888888888888,
              "#fdca26"
             ],
             [
              1,
              "#f0f921"
             ]
            ],
            "type": "histogram2dcontour"
           }
          ],
          "mesh3d": [
           {
            "colorbar": {
             "outlinewidth": 0,
             "ticks": ""
            },
            "type": "mesh3d"
           }
          ],
          "parcoords": [
           {
            "line": {
             "colorbar": {
              "outlinewidth": 0,
              "ticks": ""
             }
            },
            "type": "parcoords"
           }
          ],
          "pie": [
           {
            "automargin": true,
            "type": "pie"
           }
          ],
          "scatter": [
           {
            "fillpattern": {
             "fillmode": "overlay",
             "size": 10,
             "solidity": 0.2
            },
            "type": "scatter"
           }
          ],
          "scatter3d": [
           {
            "line": {
             "colorbar": {
              "outlinewidth": 0,
              "ticks": ""
             }
            },
            "marker": {
             "colorbar": {
              "outlinewidth": 0,
              "ticks": ""
             }
            },
            "type": "scatter3d"
           }
          ],
          "scattercarpet": [
           {
            "marker": {
             "colorbar": {
              "outlinewidth": 0,
              "ticks": ""
             }
            },
            "type": "scattercarpet"
           }
          ],
          "scattergeo": [
           {
            "marker": {
             "colorbar": {
              "outlinewidth": 0,
              "ticks": ""
             }
            },
            "type": "scattergeo"
           }
          ],
          "scattergl": [
           {
            "marker": {
             "colorbar": {
              "outlinewidth": 0,
              "ticks": ""
             }
            },
            "type": "scattergl"
           }
          ],
          "scattermapbox": [
           {
            "marker": {
             "colorbar": {
              "outlinewidth": 0,
              "ticks": ""
             }
            },
            "type": "scattermapbox"
           }
          ],
          "scatterpolar": [
           {
            "marker": {
             "colorbar": {
              "outlinewidth": 0,
              "ticks": ""
             }
            },
            "type": "scatterpolar"
           }
          ],
          "scatterpolargl": [
           {
            "marker": {
             "colorbar": {
              "outlinewidth": 0,
              "ticks": ""
             }
            },
            "type": "scatterpolargl"
           }
          ],
          "scatterternary": [
           {
            "marker": {
             "colorbar": {
              "outlinewidth": 0,
              "ticks": ""
             }
            },
            "type": "scatterternary"
           }
          ],
          "surface": [
           {
            "colorbar": {
             "outlinewidth": 0,
             "ticks": ""
            },
            "colorscale": [
             [
              0,
              "#0d0887"
             ],
             [
              0.1111111111111111,
              "#46039f"
             ],
             [
              0.2222222222222222,
              "#7201a8"
             ],
             [
              0.3333333333333333,
              "#9c179e"
             ],
             [
              0.4444444444444444,
              "#bd3786"
             ],
             [
              0.5555555555555556,
              "#d8576b"
             ],
             [
              0.6666666666666666,
              "#ed7953"
             ],
             [
              0.7777777777777778,
              "#fb9f3a"
             ],
             [
              0.8888888888888888,
              "#fdca26"
             ],
             [
              1,
              "#f0f921"
             ]
            ],
            "type": "surface"
           }
          ],
          "table": [
           {
            "cells": {
             "fill": {
              "color": "#EBF0F8"
             },
             "line": {
              "color": "white"
             }
            },
            "header": {
             "fill": {
              "color": "#C8D4E3"
             },
             "line": {
              "color": "white"
             }
            },
            "type": "table"
           }
          ]
         },
         "layout": {
          "annotationdefaults": {
           "arrowcolor": "#2a3f5f",
           "arrowhead": 0,
           "arrowwidth": 1
          },
          "autotypenumbers": "strict",
          "coloraxis": {
           "colorbar": {
            "outlinewidth": 0,
            "ticks": ""
           }
          },
          "colorscale": {
           "diverging": [
            [
             0,
             "#8e0152"
            ],
            [
             0.1,
             "#c51b7d"
            ],
            [
             0.2,
             "#de77ae"
            ],
            [
             0.3,
             "#f1b6da"
            ],
            [
             0.4,
             "#fde0ef"
            ],
            [
             0.5,
             "#f7f7f7"
            ],
            [
             0.6,
             "#e6f5d0"
            ],
            [
             0.7,
             "#b8e186"
            ],
            [
             0.8,
             "#7fbc41"
            ],
            [
             0.9,
             "#4d9221"
            ],
            [
             1,
             "#276419"
            ]
           ],
           "sequential": [
            [
             0,
             "#0d0887"
            ],
            [
             0.1111111111111111,
             "#46039f"
            ],
            [
             0.2222222222222222,
             "#7201a8"
            ],
            [
             0.3333333333333333,
             "#9c179e"
            ],
            [
             0.4444444444444444,
             "#bd3786"
            ],
            [
             0.5555555555555556,
             "#d8576b"
            ],
            [
             0.6666666666666666,
             "#ed7953"
            ],
            [
             0.7777777777777778,
             "#fb9f3a"
            ],
            [
             0.8888888888888888,
             "#fdca26"
            ],
            [
             1,
             "#f0f921"
            ]
           ],
           "sequentialminus": [
            [
             0,
             "#0d0887"
            ],
            [
             0.1111111111111111,
             "#46039f"
            ],
            [
             0.2222222222222222,
             "#7201a8"
            ],
            [
             0.3333333333333333,
             "#9c179e"
            ],
            [
             0.4444444444444444,
             "#bd3786"
            ],
            [
             0.5555555555555556,
             "#d8576b"
            ],
            [
             0.6666666666666666,
             "#ed7953"
            ],
            [
             0.7777777777777778,
             "#fb9f3a"
            ],
            [
             0.8888888888888888,
             "#fdca26"
            ],
            [
             1,
             "#f0f921"
            ]
           ]
          },
          "colorway": [
           "#636efa",
           "#EF553B",
           "#00cc96",
           "#ab63fa",
           "#FFA15A",
           "#19d3f3",
           "#FF6692",
           "#B6E880",
           "#FF97FF",
           "#FECB52"
          ],
          "font": {
           "color": "#2a3f5f"
          },
          "geo": {
           "bgcolor": "white",
           "lakecolor": "white",
           "landcolor": "#E5ECF6",
           "showlakes": true,
           "showland": true,
           "subunitcolor": "white"
          },
          "hoverlabel": {
           "align": "left"
          },
          "hovermode": "closest",
          "mapbox": {
           "style": "light"
          },
          "paper_bgcolor": "white",
          "plot_bgcolor": "#E5ECF6",
          "polar": {
           "angularaxis": {
            "gridcolor": "white",
            "linecolor": "white",
            "ticks": ""
           },
           "bgcolor": "#E5ECF6",
           "radialaxis": {
            "gridcolor": "white",
            "linecolor": "white",
            "ticks": ""
           }
          },
          "scene": {
           "xaxis": {
            "backgroundcolor": "#E5ECF6",
            "gridcolor": "white",
            "gridwidth": 2,
            "linecolor": "white",
            "showbackground": true,
            "ticks": "",
            "zerolinecolor": "white"
           },
           "yaxis": {
            "backgroundcolor": "#E5ECF6",
            "gridcolor": "white",
            "gridwidth": 2,
            "linecolor": "white",
            "showbackground": true,
            "ticks": "",
            "zerolinecolor": "white"
           },
           "zaxis": {
            "backgroundcolor": "#E5ECF6",
            "gridcolor": "white",
            "gridwidth": 2,
            "linecolor": "white",
            "showbackground": true,
            "ticks": "",
            "zerolinecolor": "white"
           }
          },
          "shapedefaults": {
           "line": {
            "color": "#2a3f5f"
           }
          },
          "ternary": {
           "aaxis": {
            "gridcolor": "white",
            "linecolor": "white",
            "ticks": ""
           },
           "baxis": {
            "gridcolor": "white",
            "linecolor": "white",
            "ticks": ""
           },
           "bgcolor": "#E5ECF6",
           "caxis": {
            "gridcolor": "white",
            "linecolor": "white",
            "ticks": ""
           }
          },
          "title": {
           "x": 0.05
          },
          "xaxis": {
           "automargin": true,
           "gridcolor": "white",
           "linecolor": "white",
           "ticks": "",
           "title": {
            "standoff": 15
           },
           "zerolinecolor": "white",
           "zerolinewidth": 2
          },
          "yaxis": {
           "automargin": true,
           "gridcolor": "white",
           "linecolor": "white",
           "ticks": "",
           "title": {
            "standoff": 15
           },
           "zerolinecolor": "white",
           "zerolinewidth": 2
          }
         }
        },
        "width": 550
       }
      }
     },
     "metadata": {},
     "output_type": "display_data"
    },
    {
     "name": "stderr",
     "output_type": "stream",
     "text": [
      "c:\\Users\\isacc\\miniconda3\\Lib\\site-packages\\_plotly_utils\\basevalidators.py:105: FutureWarning:\n",
      "\n",
      "The behavior of DatetimeProperties.to_pydatetime is deprecated, in a future version this will return a Series containing python datetime objects instead of an ndarray. To retain the old behavior, call `np.array` on the result\n",
      "\n"
     ]
    },
    {
     "data": {
      "application/vnd.plotly.v1+json": {
       "config": {
        "plotlyServerURL": "https://plot.ly"
       },
       "data": [
        {
         "alignmentgroup": "True",
         "hovertemplate": "Task names=Screws in Boards<br>Timestamp=%{x}<br>Duration (seconds)=%{y}<extra></extra>",
         "legendgroup": "Screws in Boards",
         "marker": {
          "color": "darkgray",
          "pattern": {
           "shape": ""
          }
         },
         "name": "Screws in Boards",
         "offsetgroup": "Screws in Boards",
         "orientation": "v",
         "showlegend": true,
         "textposition": "auto",
         "type": "bar",
         "width": 20000,
         "x": [
          "2023-07-31T11:55:12",
          "2023-07-31T11:55:40",
          "2023-07-31T11:56:10",
          "2023-07-31T11:56:44",
          "2023-07-31T11:57:16",
          "2023-07-31T11:57:43",
          "2023-07-31T11:59:00",
          "2023-07-31T11:59:29",
          "2023-07-31T11:59:59",
          "2023-07-31T12:00:23",
          "2023-07-31T12:00:49",
          "2023-07-31T12:01:18",
          "2023-07-31T12:01:42",
          "2023-07-31T12:02:07",
          "2023-07-31T12:02:32",
          "2023-07-31T12:03:00",
          "2023-07-31T12:03:25",
          "2023-07-31T12:03:50",
          "2023-07-31T12:04:14",
          "2023-07-31T12:04:38",
          "2023-07-31T12:05:03",
          "2023-07-31T12:05:48",
          "2023-07-31T12:06:16",
          "2023-07-31T12:06:42",
          "2023-07-31T12:07:10",
          "2023-07-31T12:07:32",
          "2023-07-31T12:07:59",
          "2023-07-31T12:08:23",
          "2023-07-31T12:08:45",
          "2023-07-31T12:09:36",
          "2023-07-31T12:10:03",
          "2023-07-31T12:10:34",
          "2023-07-31T12:11:04",
          "2023-07-31T12:11:56",
          "2023-07-31T12:12:26",
          "2023-07-31T12:12:54",
          "2023-07-31T12:13:16",
          "2023-07-31T12:13:40",
          "2023-07-31T12:14:09",
          "2023-07-31T12:14:31",
          "2023-07-31T12:14:58",
          "2023-07-31T12:15:24",
          "2023-07-31T12:15:53",
          "2023-07-31T12:16:17",
          "2023-07-31T12:16:43",
          "2023-07-31T12:17:08",
          "2023-07-31T12:17:52",
          "2023-07-31T12:18:36",
          "2023-07-31T12:19:06",
          "2023-07-31T12:19:32",
          "2023-07-31T12:19:56",
          "2023-07-31T12:20:20",
          "2023-07-31T12:20:43",
          "2023-07-31T12:21:13",
          "2023-07-31T12:21:45",
          "2023-07-31T12:22:11",
          "2023-07-31T12:22:40",
          "2023-07-31T12:23:09",
          "2023-07-31T12:23:33",
          "2023-07-31T12:23:59",
          "2023-07-31T12:24:26",
          "2023-07-31T12:24:49",
          "2023-07-31T12:27:29",
          "2023-07-31T12:27:53",
          "2023-07-31T12:28:16",
          "2023-07-31T12:28:42",
          "2023-07-31T12:29:13",
          "2023-07-31T12:29:46",
          "2023-07-31T12:30:12",
          "2023-07-31T12:31:05",
          "2023-07-31T12:31:35",
          "2023-07-31T12:32:15",
          "2023-07-31T12:32:42",
          "2023-07-31T12:33:04",
          "2023-07-31T12:33:47",
          "2023-07-31T12:34:15",
          "2023-07-31T12:34:42",
          "2023-07-31T12:35:10",
          "2023-07-31T12:35:39",
          "2023-07-31T12:37:06",
          "2023-07-31T12:37:36",
          "2023-07-31T12:38:09",
          "2023-07-31T12:38:34",
          "2023-07-31T12:38:59",
          "2023-07-31T12:49:24",
          "2023-07-31T12:50:00",
          "2023-07-31T12:50:26",
          "2023-07-31T12:50:50",
          "2023-07-31T12:51:20",
          "2023-07-31T12:51:49",
          "2023-07-31T12:52:16",
          "2023-07-31T12:52:41",
          "2023-07-31T12:53:05",
          "2023-07-31T12:53:27",
          "2023-07-31T12:54:51",
          "2023-07-31T12:55:16",
          "2023-07-31T12:57:08",
          "2023-07-31T12:57:46",
          "2023-07-31T12:58:11",
          "2023-07-31T12:58:39",
          "2023-07-31T14:00:52",
          "2023-07-31T14:01:28",
          "2023-07-31T14:01:53",
          "2023-07-31T14:02:19",
          "2023-07-31T14:02:50",
          "2023-07-31T14:03:11",
          "2023-07-31T14:03:43",
          "2023-07-31T14:04:07",
          "2023-07-31T14:04:37",
          "2023-07-31T14:05:02",
          "2023-07-31T14:05:40",
          "2023-07-31T14:06:04",
          "2023-07-31T14:06:34",
          "2023-07-31T14:07:05",
          "2023-07-31T14:07:38",
          "2023-07-31T14:08:07",
          "2023-07-31T14:08:34",
          "2023-07-31T14:08:58",
          "2023-07-31T14:09:23",
          "2023-07-31T14:09:53",
          "2023-07-31T14:10:45",
          "2023-07-31T14:11:09",
          "2023-07-31T14:11:34",
          "2023-07-31T14:12:02",
          "2023-07-31T14:12:35",
          "2023-07-31T14:13:03",
          "2023-07-31T14:13:35",
          "2023-07-31T14:14:00",
          "2023-07-31T14:14:27",
          "2023-07-31T14:15:04",
          "2023-07-31T14:15:27",
          "2023-07-31T14:16:07",
          "2023-07-31T14:16:33",
          "2023-07-31T14:16:55",
          "2023-07-31T14:17:23",
          "2023-07-31T14:17:49",
          "2023-07-31T14:18:29",
          "2023-07-31T14:19:01",
          "2023-07-31T14:19:25",
          "2023-07-31T14:19:53",
          "2023-07-31T14:20:15",
          "2023-07-31T14:20:42",
          "2023-07-31T14:21:08",
          "2023-07-31T14:21:39",
          "2023-07-31T14:22:11",
          "2023-07-31T14:22:38",
          "2023-07-31T14:23:11",
          "2023-07-31T14:23:36",
          "2023-07-31T14:23:58",
          "2023-07-31T14:24:28",
          "2023-07-31T14:24:54",
          "2023-07-31T14:25:17",
          "2023-07-31T14:25:40",
          "2023-07-31T14:26:04",
          "2023-07-31T14:26:32",
          "2023-07-31T14:27:00",
          "2023-07-31T14:27:24",
          "2023-07-31T14:27:51",
          "2023-07-31T14:28:26",
          "2023-07-31T14:29:19",
          "2023-07-31T14:29:46",
          "2023-07-31T14:30:10",
          "2023-07-31T14:30:38",
          "2023-07-31T14:31:09",
          "2023-07-31T14:31:38",
          "2023-07-31T14:32:04",
          "2023-07-31T14:32:31",
          "2023-07-31T14:33:01",
          "2023-07-31T14:33:28",
          "2023-07-31T14:33:51",
          "2023-07-31T14:45:25",
          "2023-07-31T14:46:02",
          "2023-07-31T14:46:27",
          "2023-07-31T14:46:51",
          "2023-07-31T14:47:13",
          "2023-07-31T14:47:34",
          "2023-07-31T14:47:55",
          "2023-07-31T14:48:20",
          "2023-07-31T14:48:42",
          "2023-07-31T14:49:04",
          "2023-07-31T14:49:26",
          "2023-07-31T14:49:56",
          "2023-07-31T14:50:21",
          "2023-07-31T14:50:44",
          "2023-07-31T14:51:08",
          "2023-07-31T14:51:37",
          "2023-07-31T14:52:03",
          "2023-07-31T14:52:26",
          "2023-07-31T14:53:00",
          "2023-07-31T14:53:25",
          "2023-07-31T14:53:55",
          "2023-07-31T14:54:21",
          "2023-07-31T14:54:50",
          "2023-07-31T14:55:14",
          "2023-07-31T14:55:39",
          "2023-07-31T14:56:19",
          "2023-07-31T14:56:49",
          "2023-07-31T14:57:10",
          "2023-07-31T14:57:38",
          "2023-07-31T14:58:04",
          "2023-07-31T14:58:30",
          "2023-07-31T14:58:58",
          "2023-07-31T14:59:25",
          "2023-07-31T14:59:46",
          "2023-07-31T15:00:15",
          "2023-07-31T15:00:43",
          "2023-07-31T15:01:04",
          "2023-07-31T15:01:33",
          "2023-07-31T15:01:59",
          "2023-07-31T15:02:23",
          "2023-07-31T15:03:39",
          "2023-07-31T15:04:10",
          "2023-07-31T15:04:39",
          "2023-07-31T15:05:04",
          "2023-07-31T15:05:34",
          "2023-07-31T15:06:03",
          "2023-07-31T15:06:34",
          "2023-07-31T15:07:11",
          "2023-07-31T15:07:36",
          "2023-07-31T15:08:04",
          "2023-07-31T15:08:29",
          "2023-07-31T15:08:55",
          "2023-07-31T15:09:23",
          "2023-07-31T15:09:46",
          "2023-07-31T15:10:13",
          "2023-07-31T15:10:33",
          "2023-07-31T15:11:09",
          "2023-07-31T15:11:34",
          "2023-07-31T15:12:00",
          "2023-07-31T15:12:28",
          "2023-07-31T15:12:57",
          "2023-07-31T15:13:23",
          "2023-07-31T15:13:47",
          "2023-07-31T15:14:13",
          "2023-07-31T15:14:38",
          "2023-07-31T15:15:00",
          "2023-07-31T15:15:25",
          "2023-07-31T15:15:49",
          "2023-07-31T15:16:18",
          "2023-07-31T15:16:52",
          "2023-07-31T15:17:21",
          "2023-07-31T15:17:47",
          "2023-07-31T15:18:09",
          "2023-07-31T15:18:30",
          "2023-07-31T15:18:59",
          "2023-07-31T15:19:32",
          "2023-07-31T15:20:16",
          "2023-07-31T15:20:48",
          "2023-07-31T15:21:12",
          "2023-07-31T15:21:34",
          "2023-07-31T15:22:04",
          "2023-07-31T15:22:28",
          "2023-07-31T15:22:50",
          "2023-07-31T15:23:12",
          "2023-07-31T15:23:32",
          "2023-07-31T15:23:58",
          "2023-07-31T15:24:25",
          "2023-07-31T15:24:48",
          "2023-07-31T15:31:41",
          "2023-07-31T15:32:19",
          "2023-07-31T15:32:49",
          "2023-07-31T15:33:13",
          "2023-07-31T15:33:42",
          "2023-07-31T15:34:10",
          "2023-07-31T15:45:16",
          "2023-07-31T15:45:45",
          "2023-07-31T15:46:15",
          "2023-07-31T15:46:36",
          "2023-07-31T15:47:00",
          "2023-07-31T15:47:32",
          "2023-07-31T15:48:03",
          "2023-07-31T15:48:27",
          "2023-07-31T15:48:49",
          "2023-07-31T15:49:16",
          "2023-07-31T15:49:41",
          "2023-07-31T15:50:07",
          "2023-07-31T15:50:36",
          "2023-07-31T15:51:00",
          "2023-07-31T15:51:27",
          "2023-07-31T15:51:51",
          "2023-07-31T15:52:20",
          "2023-07-31T15:52:47",
          "2023-07-31T15:53:12",
          "2023-07-31T15:53:36",
          "2023-07-31T15:54:05",
          "2023-07-31T15:54:54",
          "2023-07-31T15:55:18",
          "2023-07-31T15:55:54",
          "2023-07-31T15:56:19",
          "2023-07-31T15:56:48",
          "2023-07-31T15:58:28",
          "2023-07-31T15:59:01",
          "2023-07-31T15:59:37",
          "2023-07-31T16:00:00",
          "2023-07-31T16:00:26",
          "2023-07-31T16:01:01",
          "2023-07-31T16:01:26",
          "2023-07-31T16:01:55",
          "2023-07-31T16:02:20",
          "2023-07-31T16:02:47",
          "2023-07-31T16:03:13",
          "2023-07-31T16:03:37",
          "2023-07-31T16:04:01",
          "2023-07-31T16:04:39",
          "2023-07-31T16:05:15",
          "2023-07-31T16:05:47",
          "2023-07-31T16:06:14",
          "2023-07-31T16:06:41",
          "2023-07-31T16:07:05",
          "2023-07-31T16:07:28",
          "2023-07-31T16:07:53",
          "2023-07-31T16:08:34",
          "2023-07-31T16:09:06",
          "2023-07-31T16:09:32",
          "2023-07-31T16:09:57",
          "2023-07-31T16:10:24",
          "2023-07-31T16:10:47",
          "2023-07-31T16:11:10",
          "2023-07-31T16:11:40",
          "2023-07-31T16:12:05",
          "2023-07-31T16:12:40",
          "2023-07-31T16:13:06",
          "2023-07-31T16:13:41",
          "2023-07-31T16:14:05",
          "2023-07-31T16:14:35",
          "2023-07-31T16:14:56",
          "2023-07-31T16:15:38",
          "2023-07-31T16:16:02",
          "2023-07-31T16:16:22",
          "2023-07-31T16:16:46",
          "2023-07-31T16:17:23",
          "2023-07-31T16:17:49",
          "2023-07-31T16:18:22",
          "2023-07-31T16:18:50",
          "2023-07-31T16:19:28",
          "2023-07-31T16:19:57",
          "2023-07-31T16:20:18",
          "2023-07-31T16:20:44",
          "2023-07-31T16:21:07",
          "2023-07-31T16:21:30",
          "2023-07-31T16:21:54",
          "2023-07-31T16:22:16",
          "2023-07-31T16:22:48",
          "2023-07-31T16:23:14",
          "2023-07-31T16:23:44",
          "2023-07-31T16:24:12",
          "2023-07-31T16:24:45",
          "2023-07-31T16:25:09",
          "2023-07-31T16:25:34",
          "2023-07-31T16:26:01",
          "2023-07-31T16:26:23",
          "2023-07-31T16:26:45",
          "2023-07-31T16:27:09",
          "2023-07-31T16:27:31",
          "2023-07-31T16:27:59",
          "2023-07-31T16:28:23",
          "2023-07-31T16:28:44",
          "2023-07-31T16:58:16",
          "2023-07-31T16:58:49",
          "2023-07-31T16:59:16",
          "2023-07-31T16:59:38",
          "2023-07-31T17:00:11",
          "2023-07-31T17:00:36",
          "2023-07-31T17:01:01",
          "2023-07-31T17:01:30",
          "2023-07-31T17:01:58",
          "2023-07-31T17:02:26",
          "2023-07-31T17:05:19",
          "2023-07-31T17:05:44",
          "2023-07-31T17:06:19",
          "2023-07-31T17:06:48",
          "2023-07-31T17:07:14",
          "2023-07-31T17:07:40",
          "2023-07-31T17:08:09",
          "2023-07-31T17:08:32",
          "2023-07-31T17:08:56",
          "2023-07-31T17:09:21",
          "2023-07-31T17:09:54",
          "2023-07-31T17:10:33",
          "2023-07-31T17:10:59",
          "2023-07-31T17:11:23",
          "2023-07-31T17:11:59",
          "2023-07-31T17:12:28",
          "2023-07-31T17:13:06",
          "2023-07-31T17:13:29",
          "2023-07-31T17:13:54",
          "2023-07-31T17:14:21",
          "2023-07-31T17:14:43",
          "2023-07-31T17:15:09",
          "2023-07-31T17:15:32",
          "2023-07-31T17:15:57",
          "2023-07-31T17:16:23",
          "2023-07-31T17:18:36",
          "2023-07-31T17:19:11",
          "2023-07-31T17:19:34",
          "2023-07-31T17:20:00",
          "2023-07-31T17:25:34",
          "2023-07-31T17:26:02",
          "2023-07-31T17:26:29",
          "2023-07-31T17:27:01",
          "2023-07-31T17:27:26",
          "2023-07-31T17:27:51",
          "2023-07-31T17:28:59",
          "2023-07-31T17:29:26",
          "2023-07-31T17:29:48",
          "2023-07-31T17:30:18",
          "2023-07-31T17:30:46",
          "2023-07-31T17:31:12",
          "2023-07-31T17:31:52",
          "2023-07-31T17:32:15",
          "2023-07-31T17:32:47",
          "2023-07-31T17:33:19",
          "2023-07-31T17:33:43",
          "2023-07-31T17:34:13",
          "2023-07-31T17:34:43",
          "2023-07-31T17:35:04",
          "2023-07-31T17:35:30",
          "2023-07-31T17:35:56",
          "2023-07-31T17:36:25",
          "2023-07-31T17:36:48",
          "2023-07-31T17:37:11",
          "2023-07-31T17:37:37",
          "2023-07-31T17:38:07",
          "2023-07-31T17:38:31",
          "2023-07-31T17:38:56",
          "2023-07-31T17:39:17",
          "2023-07-31T17:39:41",
          "2023-07-31T17:40:12",
          "2023-07-31T17:40:39",
          "2023-07-31T17:41:02",
          "2023-07-31T17:41:27",
          "2023-07-31T17:42:03",
          "2023-07-31T17:42:25",
          "2023-07-31T17:42:49",
          "2023-07-31T17:43:11",
          "2023-07-31T17:43:40",
          "2023-07-31T17:44:11",
          "2023-07-31T17:44:38",
          "2023-07-31T17:45:01",
          "2023-07-31T17:45:28",
          "2023-07-31T17:45:59",
          "2023-07-31T17:46:30",
          "2023-07-31T17:46:57",
          "2023-07-31T17:47:26",
          "2023-07-31T17:47:57",
          "2023-07-31T17:48:25",
          "2023-07-31T17:48:54",
          "2023-07-31T17:49:17",
          "2023-07-31T17:49:51",
          "2023-08-01T09:03:55",
          "2023-08-01T09:04:22",
          "2023-08-01T09:04:49",
          "2023-08-01T09:05:12",
          "2023-08-01T09:05:39",
          "2023-08-01T09:06:02",
          "2023-08-01T09:06:27",
          "2023-08-01T09:06:56",
          "2023-08-01T09:07:21",
          "2023-08-01T09:07:49",
          "2023-08-01T09:08:15",
          "2023-08-01T09:08:38",
          "2023-08-01T09:09:04",
          "2023-08-01T09:09:51",
          "2023-08-01T09:10:21",
          "2023-08-01T09:10:54",
          "2023-08-01T09:11:17",
          "2023-08-01T09:11:43",
          "2023-08-01T09:12:09",
          "2023-08-01T09:12:30",
          "2023-08-01T09:12:52",
          "2023-08-01T09:13:20",
          "2023-08-01T09:13:48",
          "2023-08-01T09:14:10",
          "2023-08-01T09:14:33",
          "2023-08-01T09:15:02",
          "2023-08-01T09:15:25",
          "2023-08-01T09:15:52",
          "2023-08-01T09:16:18",
          "2023-08-01T09:16:55",
          "2023-08-01T09:17:21",
          "2023-08-01T09:17:46",
          "2023-08-01T09:18:10",
          "2023-08-01T09:18:33",
          "2023-08-01T09:19:08",
          "2023-08-01T09:19:36",
          "2023-08-01T09:20:07",
          "2023-08-01T09:20:33",
          "2023-08-01T09:21:04",
          "2023-08-01T09:21:31",
          "2023-08-01T09:21:56",
          "2023-08-01T09:22:27",
          "2023-08-01T09:22:52",
          "2023-08-01T09:23:23",
          "2023-08-01T09:23:51",
          "2023-08-01T09:25:20",
          "2023-08-01T09:25:51",
          "2023-08-01T09:26:39",
          "2023-08-01T09:27:16",
          "2023-08-01T09:33:59",
          "2023-08-01T09:34:26",
          "2023-08-01T09:34:47",
          "2023-08-01T09:35:11",
          "2023-08-01T09:35:42",
          "2023-08-01T09:36:07",
          "2023-08-01T09:36:33",
          "2023-08-01T09:36:59",
          "2023-08-01T09:37:22",
          "2023-08-01T09:37:44",
          "2023-08-01T09:38:09",
          "2023-08-01T09:38:37",
          "2023-08-01T09:38:56",
          "2023-08-01T09:39:19",
          "2023-08-01T09:39:50",
          "2023-08-01T09:40:20",
          "2023-08-01T09:40:45",
          "2023-08-01T09:41:16",
          "2023-08-01T09:41:59",
          "2023-08-01T09:42:25",
          "2023-08-01T09:42:57",
          "2023-08-01T09:43:22",
          "2023-08-01T09:43:45",
          "2023-08-01T09:44:13",
          "2023-08-01T09:44:36",
          "2023-08-01T09:45:08",
          "2023-08-01T09:45:29",
          "2023-08-01T09:45:56",
          "2023-08-01T09:46:19",
          "2023-08-01T09:46:42",
          "2023-08-01T09:47:09",
          "2023-08-01T09:47:32",
          "2023-08-01T09:47:57",
          "2023-08-01T09:48:23",
          "2023-08-01T09:48:50",
          "2023-08-01T09:49:18",
          "2023-08-01T09:49:48",
          "2023-08-01T09:50:13",
          "2023-08-01T09:50:38",
          "2023-08-01T09:51:00",
          "2023-08-01T09:51:37",
          "2023-09-27T10:25:54",
          "2023-09-27T10:26:51",
          "2023-09-27T10:27:32",
          "2023-09-27T10:28:15",
          "2023-09-27T10:28:56",
          "2023-09-27T10:29:39",
          "2023-09-27T10:30:23",
          "2023-09-27T10:31:04",
          "2023-09-27T12:38:16",
          "2023-09-27T12:38:57",
          "2023-09-27T12:39:40",
          "2023-09-27T12:40:20",
          "2023-09-27T12:41:00",
          "2023-09-27T12:41:42",
          "2023-09-27T12:42:23",
          "2023-09-27T12:43:04",
          "2023-09-27T12:43:46"
         ],
         "xaxis": "x",
         "y": [
          29,
          27,
          29,
          34,
          30,
          27,
          22,
          28,
          29,
          23,
          26,
          28,
          23,
          25,
          24,
          27,
          24,
          25,
          23,
          23,
          25,
          44,
          27,
          25,
          27,
          22,
          26,
          23,
          21,
          50,
          27,
          30,
          29,
          50,
          30,
          27,
          21,
          24,
          28,
          21,
          26,
          26,
          28,
          23,
          26,
          24,
          43,
          43,
          29,
          26,
          23,
          23,
          23,
          29,
          31,
          26,
          28,
          28,
          24,
          25,
          26,
          22,
          27,
          22,
          23,
          26,
          30,
          32,
          25,
          52,
          30,
          38,
          26,
          22,
          42,
          27,
          26,
          27,
          29,
          26,
          29,
          32,
          24,
          25,
          23,
          35,
          25,
          23,
          29,
          29,
          26,
          25,
          23,
          30,
          25,
          24,
          31,
          37,
          25,
          26,
          39,
          35,
          24,
          27,
          29,
          21,
          31,
          23,
          29,
          25,
          37,
          24,
          28,
          31,
          33,
          27,
          27,
          24,
          24,
          29,
          50,
          24,
          24,
          28,
          32,
          27,
          31,
          24,
          27,
          36,
          28,
          39,
          26,
          21,
          27,
          25,
          40,
          31,
          23,
          28,
          21,
          26,
          25,
          30,
          31,
          27,
          32,
          25,
          21,
          29,
          25,
          23,
          22,
          24,
          27,
          28,
          22,
          27,
          34,
          51,
          26,
          25,
          26,
          30,
          29,
          29,
          27,
          29,
          26,
          23,
          31,
          36,
          24,
          24,
          21,
          21,
          20,
          24,
          22,
          21,
          21,
          29,
          25,
          23,
          22,
          29,
          25,
          23,
          32,
          25,
          29,
          26,
          28,
          23,
          24,
          39,
          29,
          27,
          28,
          25,
          25,
          28,
          26,
          21,
          28,
          27,
          20,
          29,
          25,
          23,
          13,
          30,
          28,
          24,
          30,
          28,
          30,
          36,
          25,
          28,
          24,
          25,
          27,
          22,
          27,
          20,
          35,
          24,
          26,
          27,
          28,
          26,
          23,
          25,
          24,
          22,
          25,
          23,
          28,
          33,
          28,
          26,
          21,
          20,
          28,
          33,
          43,
          30,
          24,
          22,
          29,
          22,
          22,
          22,
          19,
          25,
          27,
          22,
          36,
          37,
          29,
          24,
          28,
          27,
          26,
          28,
          31,
          20,
          23,
          31,
          30,
          24,
          22,
          25,
          25,
          25,
          29,
          23,
          26,
          23,
          29,
          26,
          24,
          24,
          28,
          48,
          22,
          36,
          24,
          28,
          29,
          32,
          35,
          23,
          25,
          34,
          25,
          28,
          24,
          27,
          25,
          22,
          24,
          37,
          36,
          30,
          27,
          26,
          24,
          21,
          25,
          40,
          31,
          26,
          23,
          27,
          23,
          22,
          28,
          25,
          34,
          26,
          33,
          24,
          29,
          21,
          41,
          22,
          20,
          24,
          35,
          26,
          32,
          27,
          37,
          28,
          22,
          25,
          22,
          22,
          24,
          21,
          31,
          26,
          29,
          27,
          32,
          24,
          24,
          26,
          22,
          21,
          23,
          22,
          28,
          22,
          20,
          37,
          32,
          27,
          20,
          33,
          25,
          23,
          29,
          27,
          27,
          14,
          24,
          34,
          28,
          26,
          25,
          28,
          23,
          23,
          25,
          31,
          38,
          26,
          23,
          36,
          28,
          36,
          23,
          24,
          27,
          21,
          26,
          22,
          25,
          25,
          29,
          34,
          22,
          26,
          29,
          28,
          26,
          31,
          25,
          23,
          19,
          27,
          22,
          29,
          27,
          25,
          40,
          22,
          31,
          32,
          23,
          29,
          29,
          21,
          25,
          26,
          28,
          23,
          22,
          26,
          29,
          23,
          25,
          20,
          23,
          31,
          25,
          23,
          25,
          35,
          21,
          23,
          22,
          28,
          30,
          26,
          23,
          26,
          31,
          30,
          26,
          28,
          30,
          28,
          28,
          23,
          33,
          32,
          27,
          26,
          23,
          25,
          23,
          24,
          29,
          24,
          27,
          25,
          23,
          25,
          46,
          29,
          32,
          23,
          25,
          25,
          21,
          22,
          26,
          28,
          22,
          22,
          28,
          22,
          27,
          25,
          36,
          25,
          24,
          23,
          23,
          34,
          27,
          30,
          26,
          30,
          26,
          24,
          30,
          24,
          31,
          27,
          28,
          30,
          47,
          36,
          23,
          27,
          20,
          24,
          29,
          25,
          26,
          25,
          22,
          22,
          24,
          27,
          19,
          22,
          31,
          29,
          24,
          31,
          42,
          25,
          31,
          24,
          23,
          27,
          23,
          30,
          21,
          26,
          23,
          23,
          26,
          22,
          25,
          25,
          26,
          27,
          29,
          24,
          25,
          21,
          37,
          41,
          43,
          40,
          42,
          40,
          42,
          43,
          40,
          40,
          39,
          42,
          40,
          39,
          41,
          40,
          40,
          41
         ],
         "yaxis": "y"
        },
        {
         "alignmentgroup": "True",
         "hovertemplate": "Task names=MFALG Assembly<br>Timestamp=%{x}<br>Duration (seconds)=%{y}<extra></extra>",
         "legendgroup": "MFALG Assembly",
         "marker": {
          "color": "gold",
          "pattern": {
           "shape": ""
          }
         },
         "name": "MFALG Assembly",
         "offsetgroup": "MFALG Assembly",
         "orientation": "v",
         "showlegend": true,
         "textposition": "auto",
         "type": "bar",
         "width": 20000,
         "x": [
          "2023-08-01T15:51:46",
          "2023-08-01T15:53:41",
          "2023-08-01T16:03:00",
          "2023-08-01T16:04:48",
          "2023-08-01T16:06:35",
          "2023-08-01T16:08:32",
          "2023-08-01T16:10:26",
          "2023-08-01T16:12:37",
          "2023-08-01T16:14:33",
          "2023-08-01T16:16:29",
          "2023-08-01T16:18:15",
          "2023-08-01T16:20:06",
          "2023-08-01T16:22:21",
          "2023-08-01T16:24:28",
          "2023-08-01T16:26:13",
          "2023-08-01T16:27:52",
          "2023-08-01T16:29:40",
          "2023-08-01T16:52:43",
          "2023-08-01T16:54:59",
          "2023-08-01T16:57:16",
          "2023-08-01T17:00:02",
          "2023-08-01T17:02:09",
          "2023-08-01T17:03:46",
          "2023-08-01T17:05:34",
          "2023-08-01T17:07:24",
          "2023-08-01T17:09:17",
          "2023-08-01T17:11:02",
          "2023-08-01T17:12:53",
          "2023-08-01T17:14:47",
          "2023-08-01T17:16:40",
          "2023-08-01T17:18:40",
          "2023-08-01T17:20:29",
          "2023-08-01T17:22:23",
          "2023-08-01T17:24:13",
          "2023-08-01T17:26:12",
          "2023-08-01T17:28:51",
          "2023-08-01T17:31:30",
          "2023-08-01T17:33:32",
          "2023-08-01T17:35:26",
          "2023-08-01T17:37:51",
          "2023-08-01T17:39:50",
          "2023-08-01T17:42:07",
          "2023-08-01T17:44:57",
          "2023-08-01T17:46:59",
          "2023-08-01T17:48:54",
          "2023-08-02T09:02:41",
          "2023-08-02T09:04:44",
          "2023-08-02T09:06:38",
          "2023-08-02T09:08:44",
          "2023-08-02T09:10:35",
          "2023-08-02T09:13:12",
          "2023-08-02T09:15:08",
          "2023-08-02T09:17:00",
          "2023-08-02T09:18:57",
          "2023-08-02T09:20:49",
          "2023-08-02T09:23:08",
          "2023-08-02T09:24:43",
          "2023-08-02T09:27:12",
          "2023-08-02T09:29:38",
          "2023-08-02T09:31:19",
          "2023-08-02T09:33:20",
          "2023-08-02T09:35:22",
          "2023-08-02T09:37:29",
          "2023-08-02T09:39:59",
          "2023-08-02T09:42:18",
          "2023-08-02T09:44:27",
          "2023-08-02T09:46:47",
          "2023-08-02T10:03:47",
          "2023-08-02T10:06:08",
          "2023-08-02T10:12:28",
          "2023-08-02T10:14:27",
          "2023-08-02T10:27:22",
          "2023-08-02T10:30:08",
          "2023-08-02T11:07:34",
          "2023-08-02T11:10:01",
          "2023-08-02T11:12:45",
          "2023-08-02T11:15:04",
          "2023-08-02T11:17:12",
          "2023-08-02T11:19:39",
          "2023-08-02T11:21:35",
          "2023-08-02T11:24:07",
          "2023-08-02T11:26:22",
          "2023-08-02T11:28:49",
          "2023-08-02T11:30:59",
          "2023-08-02T11:33:04",
          "2023-08-02T11:35:16",
          "2023-08-02T11:37:03",
          "2023-08-02T11:38:51",
          "2023-08-02T11:40:56",
          "2023-08-02T11:42:52",
          "2023-08-02T11:44:51",
          "2023-08-02T11:46:32",
          "2023-08-02T11:59:43",
          "2023-08-02T12:02:16",
          "2023-08-02T12:04:04",
          "2023-08-02T12:06:18",
          "2023-08-02T12:08:00",
          "2023-08-02T12:14:27",
          "2023-08-02T12:17:13",
          "2023-08-02T12:19:01",
          "2023-08-02T14:05:01",
          "2023-08-02T14:07:21",
          "2023-08-02T14:09:12",
          "2023-08-02T14:11:18",
          "2023-08-02T14:14:14",
          "2023-08-02T14:16:43",
          "2023-08-02T14:19:26",
          "2023-08-02T14:21:47",
          "2023-08-02T14:23:43",
          "2023-08-02T14:25:53",
          "2023-08-02T14:27:39",
          "2023-08-02T14:29:39",
          "2023-08-02T14:32:21",
          "2023-08-02T14:34:25",
          "2023-08-02T14:36:06",
          "2023-08-02T14:38:21",
          "2023-08-02T14:39:58",
          "2023-08-02T14:41:38",
          "2023-08-02T14:43:53",
          "2023-08-02T14:46:16",
          "2023-08-02T14:47:52",
          "2023-08-02T14:49:48",
          "2023-08-02T14:53:19",
          "2023-08-02T14:55:16",
          "2023-08-02T14:57:05",
          "2023-08-02T14:59:02",
          "2023-08-02T15:00:58",
          "2023-08-02T15:02:38",
          "2023-08-02T15:04:17",
          "2023-08-02T15:37:00",
          "2023-08-02T15:38:51",
          "2023-08-02T15:40:50",
          "2023-08-02T15:43:56",
          "2023-08-02T15:46:14",
          "2023-08-02T15:48:27",
          "2023-08-02T15:50:45",
          "2023-08-02T15:52:30",
          "2023-08-02T15:54:10",
          "2023-08-02T16:00:45",
          "2023-08-02T16:02:50",
          "2023-08-02T16:04:35",
          "2023-08-02T16:07:00",
          "2023-08-02T16:09:07",
          "2023-08-02T16:10:59",
          "2023-08-02T16:13:42",
          "2023-08-02T16:16:06",
          "2023-08-02T16:17:58",
          "2023-08-02T16:19:38",
          "2023-08-02T16:21:26"
         ],
         "xaxis": "x",
         "y": [
          118,
          112,
          99,
          106,
          104,
          114,
          110,
          129,
          113,
          113,
          103,
          108,
          132,
          124,
          102,
          97,
          104,
          117,
          134,
          133,
          162,
          125,
          94,
          105,
          107,
          110,
          102,
          108,
          111,
          111,
          116,
          106,
          112,
          108,
          115,
          155,
          155,
          118,
          112,
          141,
          117,
          131,
          166,
          119,
          112,
          139,
          120,
          110,
          124,
          108,
          152,
          114,
          109,
          114,
          108,
          136,
          92,
          146,
          142,
          98,
          118,
          119,
          123,
          147,
          136,
          125,
          137,
          114,
          138,
          114,
          116,
          158,
          162,
          106,
          144,
          160,
          135,
          125,
          143,
          113,
          149,
          130,
          144,
          127,
          121,
          129,
          104,
          106,
          121,
          114,
          116,
          98,
          153,
          149,
          105,
          131,
          99,
          91,
          161,
          106,
          239,
          137,
          108,
          122,
          173,
          144,
          160,
          136,
          114,
          126,
          104,
          117,
          102,
          120,
          99,
          132,
          94,
          97,
          131,
          139,
          94,
          113,
          91,
          114,
          107,
          113,
          114,
          98,
          96,
          110,
          109,
          116,
          139,
          135,
          130,
          134,
          80,
          98,
          120,
          122,
          102,
          142,
          123,
          109,
          159,
          141,
          109,
          98,
          105
         ],
         "yaxis": "y"
        },
        {
         "alignmentgroup": "True",
         "hovertemplate": "Task names=Extra activity 1<br>Timestamp=%{x}<br>Duration (seconds)=%{y}<extra></extra>",
         "legendgroup": "Extra activity 1",
         "marker": {
          "color": "darkorange",
          "pattern": {
           "shape": ""
          }
         },
         "name": "Extra activity 1",
         "offsetgroup": "Extra activity 1",
         "orientation": "v",
         "showlegend": true,
         "textposition": "auto",
         "type": "bar",
         "width": 20000,
         "x": [
          "2023-09-06T10:14:28",
          "2023-09-06T10:14:59",
          "2023-09-06T10:15:21",
          "2023-09-06T10:15:48",
          "2023-09-06T10:16:12",
          "2023-09-06T10:16:39",
          "2023-09-06T10:17:05",
          "2023-09-06T10:17:28",
          "2023-09-06T10:17:52",
          "2023-09-06T10:18:16",
          "2023-09-06T10:19:27",
          "2023-09-06T10:19:50",
          "2023-09-06T10:20:35",
          "2023-09-06T10:20:59",
          "2023-09-06T10:22:43",
          "2023-09-06T10:23:05",
          "2023-09-06T10:27:00",
          "2023-09-06T10:27:25",
          "2023-09-06T10:27:48",
          "2023-09-06T10:28:10",
          "2023-09-06T10:29:10",
          "2023-09-06T10:29:12",
          "2023-09-06T10:29:33",
          "2023-09-06T10:29:53",
          "2023-09-06T10:30:16",
          "2023-09-06T11:33:21",
          "2023-09-06T11:33:52",
          "2023-09-06T11:34:20",
          "2023-09-06T11:34:48",
          "2023-09-06T11:35:22",
          "2023-09-06T11:35:54",
          "2023-09-06T11:36:22",
          "2023-09-06T11:38:24",
          "2023-09-06T11:38:52",
          "2023-09-06T11:39:19",
          "2023-09-06T11:39:44",
          "2023-09-06T11:40:11",
          "2023-09-06T11:40:43",
          "2023-09-06T11:41:08",
          "2023-09-06T11:41:33",
          "2023-09-06T11:41:57",
          "2023-09-06T11:42:19",
          "2023-09-06T11:42:43",
          "2023-09-06T11:43:05",
          "2023-09-06T11:43:29",
          "2023-09-06T11:43:52",
          "2023-09-06T11:44:23",
          "2023-09-06T11:44:45",
          "2023-09-06T11:45:08",
          "2023-09-06T11:45:32",
          "2023-09-06T11:45:56",
          "2023-09-06T11:46:17",
          "2023-09-06T11:46:38",
          "2023-09-06T11:47:13",
          "2023-09-06T11:47:49",
          "2023-09-06T11:48:17",
          "2023-09-06T11:48:35",
          "2023-09-06T11:49:19",
          "2023-09-06T11:49:52",
          "2023-09-06T11:50:08",
          "2023-09-06T11:50:30",
          "2023-09-06T11:50:54",
          "2023-09-06T11:51:17",
          "2023-09-06T11:51:41",
          "2023-09-06T11:52:04",
          "2023-09-06T11:54:00",
          "2023-09-06T11:54:22",
          "2023-09-06T11:54:44",
          "2023-09-06T11:55:05",
          "2023-09-06T11:55:45",
          "2023-09-06T11:56:08",
          "2023-09-06T11:56:31",
          "2023-09-06T11:56:54",
          "2023-09-06T11:57:15",
          "2023-09-06T11:57:35",
          "2023-09-06T11:57:55",
          "2023-09-06T11:58:17",
          "2023-09-06T11:58:38",
          "2023-09-06T11:58:57",
          "2023-09-06T11:59:21",
          "2023-09-06T11:59:43",
          "2023-09-06T13:04:03",
          "2023-09-06T13:04:31",
          "2023-09-06T13:04:54",
          "2023-09-06T13:05:21",
          "2023-09-06T13:05:47",
          "2023-09-06T13:08:14",
          "2023-09-06T13:08:44",
          "2023-09-06T13:09:09",
          "2023-09-06T13:09:29",
          "2023-09-06T13:09:49",
          "2023-09-06T13:10:21",
          "2023-09-06T13:10:41",
          "2023-09-06T13:11:00",
          "2023-09-06T13:11:24",
          "2023-09-06T13:12:00",
          "2023-09-06T13:12:22",
          "2023-09-06T13:12:42",
          "2023-09-06T13:13:04",
          "2023-09-06T13:14:34",
          "2023-09-06T13:14:55",
          "2023-09-06T13:15:15",
          "2023-09-06T13:15:40",
          "2023-09-06T13:16:25",
          "2023-09-06T13:16:50",
          "2023-09-06T13:17:10",
          "2023-09-06T13:17:31",
          "2023-09-06T13:17:52",
          "2023-09-06T13:18:13",
          "2023-09-06T13:18:35",
          "2023-09-06T13:18:58",
          "2023-09-06T13:19:19",
          "2023-09-06T13:19:40",
          "2023-09-06T13:20:03",
          "2023-09-06T13:20:27",
          "2023-09-06T13:20:49",
          "2023-09-06T13:21:10",
          "2023-09-06T13:21:33",
          "2023-09-06T13:21:56",
          "2023-09-06T13:22:19",
          "2023-09-06T13:22:42",
          "2023-09-06T13:23:05",
          "2023-09-06T13:24:55",
          "2023-09-06T13:25:18",
          "2023-09-06T13:25:39",
          "2023-09-06T13:26:04",
          "2023-09-06T13:26:26",
          "2023-09-06T13:26:46",
          "2023-09-06T13:27:11",
          "2023-09-06T13:27:34",
          "2023-09-06T13:27:56",
          "2023-09-06T13:28:17",
          "2023-09-06T13:28:38",
          "2023-09-06T13:29:00",
          "2023-09-06T13:29:20",
          "2023-09-06T13:29:44",
          "2023-09-06T13:30:05",
          "2023-09-06T13:30:30",
          "2023-09-06T13:30:51",
          "2023-09-06T13:31:12",
          "2023-09-06T13:31:34",
          "2023-09-06T13:31:56",
          "2023-09-06T13:32:43",
          "2023-09-06T13:33:05",
          "2023-09-06T13:33:26",
          "2023-09-06T13:34:10",
          "2023-09-06T13:34:53",
          "2023-09-06T13:35:15",
          "2023-09-06T13:35:48",
          "2023-09-06T13:35:57",
          "2023-09-06T13:36:18",
          "2023-09-06T13:36:39",
          "2023-09-06T13:36:58",
          "2023-09-06T13:37:18",
          "2023-09-06T13:37:41",
          "2023-09-06T13:38:04",
          "2023-09-06T13:38:29",
          "2023-09-06T13:38:51",
          "2023-09-06T13:39:11",
          "2023-09-06T13:39:30",
          "2023-09-06T13:39:52",
          "2023-09-06T13:40:11",
          "2023-09-06T13:40:33",
          "2023-09-06T13:40:53",
          "2023-09-06T13:41:13",
          "2023-09-06T13:41:36",
          "2023-09-06T13:41:58",
          "2023-09-06T13:42:20",
          "2023-09-06T13:42:42",
          "2023-09-06T13:43:03",
          "2023-09-06T13:44:39",
          "2023-09-06T13:45:06",
          "2023-09-06T13:45:28",
          "2023-09-06T13:45:57",
          "2023-09-06T13:46:18",
          "2023-09-06T13:46:42",
          "2023-09-06T13:47:03",
          "2023-09-06T13:48:24",
          "2023-09-06T13:48:45",
          "2023-09-06T13:49:11",
          "2023-09-06T13:49:34",
          "2023-09-06T13:49:59",
          "2023-09-06T13:50:26",
          "2023-09-06T13:50:50",
          "2023-09-06T13:51:13",
          "2023-09-06T13:51:38",
          "2023-09-06T13:52:03",
          "2023-09-06T13:52:32",
          "2023-09-06T13:52:54",
          "2023-09-06T13:53:17",
          "2023-09-06T13:53:45",
          "2023-09-06T13:54:08",
          "2023-09-07T09:00:17",
          "2023-09-07T09:00:40",
          "2023-09-07T09:01:06",
          "2023-09-07T09:01:32",
          "2023-09-07T09:02:00",
          "2023-09-07T09:02:26",
          "2023-09-07T09:02:53",
          "2023-09-07T09:03:16",
          "2023-09-07T09:03:40",
          "2023-09-07T09:04:05",
          "2023-09-07T09:04:29",
          "2023-09-07T09:04:55",
          "2023-09-07T09:05:18",
          "2023-09-07T09:05:39",
          "2023-09-07T09:06:06",
          "2023-09-07T09:06:33",
          "2023-09-07T09:06:59",
          "2023-09-07T09:07:24",
          "2023-09-07T09:07:53",
          "2023-09-07T09:08:21",
          "2023-09-07T09:08:58",
          "2023-09-07T09:09:23",
          "2023-09-07T09:14:17",
          "2023-09-07T09:15:07",
          "2023-09-07T09:15:27",
          "2023-09-07T09:15:50",
          "2023-09-07T09:16:14",
          "2023-09-07T09:16:38",
          "2023-09-07T09:17:01",
          "2023-09-07T09:17:46",
          "2023-09-07T09:18:16",
          "2023-09-07T09:18:40",
          "2023-09-07T09:19:02",
          "2023-09-07T09:19:26",
          "2023-09-07T09:19:55",
          "2023-09-07T09:20:21",
          "2023-09-07T09:20:46",
          "2023-09-07T09:21:09",
          "2023-09-07T09:21:32",
          "2023-09-07T09:21:56",
          "2023-09-07T09:23:07",
          "2023-09-07T09:23:35",
          "2023-09-07T09:23:59",
          "2023-09-07T09:24:49",
          "2023-09-07T09:26:26",
          "2023-09-07T09:26:51",
          "2023-09-07T09:27:14",
          "2023-09-07T09:27:40",
          "2023-09-07T09:30:18",
          "2023-09-07T09:30:31",
          "2023-09-07T09:30:58",
          "2023-09-07T09:31:23",
          "2023-09-07T09:33:19",
          "2023-09-07T09:33:46",
          "2023-09-07T09:34:12",
          "2023-09-07T09:34:37",
          "2023-09-07T09:35:12",
          "2023-09-07T09:35:27",
          "2023-09-07T09:35:51",
          "2023-09-07T09:36:17",
          "2023-09-07T09:36:43",
          "2023-09-07T09:37:09",
          "2023-09-07T09:37:34",
          "2023-09-07T09:39:32",
          "2023-09-07T09:39:53",
          "2023-09-07T09:40:23",
          "2023-09-07T09:40:48",
          "2023-09-07T09:41:11",
          "2023-09-07T09:41:34",
          "2023-09-07T09:42:04",
          "2023-09-07T09:42:25",
          "2023-09-07T09:42:51",
          "2023-09-07T09:43:15",
          "2023-09-07T09:43:38",
          "2023-09-07T09:44:02",
          "2023-09-07T09:44:25",
          "2023-09-07T09:45:38",
          "2023-09-07T09:46:03",
          "2023-09-07T09:49:19",
          "2023-09-07T09:49:44",
          "2023-09-07T09:50:10",
          "2023-09-07T09:50:35",
          "2023-09-07T09:51:01",
          "2023-09-07T09:51:25",
          "2023-09-07T09:52:43",
          "2023-09-07T09:53:07",
          "2023-09-07T09:54:22",
          "2023-09-07T09:54:47",
          "2023-09-07T09:55:35",
          "2023-09-07T09:55:58",
          "2023-09-07T09:56:23",
          "2023-09-07T09:56:47",
          "2023-09-07T09:57:13",
          "2023-09-07T09:57:36",
          "2023-09-07T09:58:01",
          "2023-09-07T09:58:26",
          "2023-09-07T09:58:50",
          "2023-09-07T09:59:13",
          "2023-09-07T09:59:39",
          "2023-09-07T10:00:02",
          "2023-09-07T10:00:31",
          "2023-09-07T10:00:58",
          "2023-09-07T10:01:48",
          "2023-09-07T10:02:14",
          "2023-09-07T10:02:41",
          "2023-09-07T10:03:06",
          "2023-09-07T10:03:31",
          "2023-09-07T10:04:20",
          "2023-09-07T10:04:56",
          "2023-09-07T10:05:24",
          "2023-09-07T10:05:52",
          "2023-09-07T10:06:21",
          "2023-09-07T10:06:42",
          "2023-09-07T10:07:18",
          "2023-09-07T10:07:44",
          "2023-09-07T10:08:06",
          "2023-09-07T10:08:29",
          "2023-09-07T10:08:52",
          "2023-09-07T10:09:18",
          "2023-09-07T10:09:49",
          "2023-09-07T10:10:20",
          "2023-09-07T10:10:51",
          "2023-09-07T10:11:21",
          "2023-09-07T10:11:45",
          "2023-09-07T10:12:07",
          "2023-09-07T10:12:33",
          "2023-09-07T10:12:56",
          "2023-09-07T10:13:20",
          "2023-09-07T10:13:44",
          "2023-09-07T10:14:09",
          "2023-09-07T10:14:37",
          "2023-09-07T10:15:04",
          "2023-09-07T10:15:30",
          "2023-09-07T10:16:14",
          "2023-09-07T10:16:42",
          "2023-09-07T10:17:06",
          "2023-09-07T10:17:31",
          "2023-09-07T10:17:56",
          "2023-09-07T10:18:43",
          "2023-09-07T10:18:45",
          "2023-09-07T10:19:08",
          "2023-09-07T10:19:33",
          "2023-09-07T10:20:23",
          "2023-09-07T10:20:51",
          "2023-09-07T10:21:16",
          "2023-09-07T10:21:43",
          "2023-09-07T10:22:07",
          "2023-09-07T10:22:31",
          "2023-09-07T10:22:56",
          "2023-09-07T10:23:28",
          "2023-09-07T10:23:52",
          "2023-09-07T10:24:19",
          "2023-09-07T10:24:50",
          "2023-09-07T10:25:16",
          "2023-09-07T10:25:43",
          "2023-09-07T10:26:06",
          "2023-09-07T10:26:34",
          "2023-09-07T10:26:57",
          "2023-09-07T10:51:28",
          "2023-09-07T10:51:51",
          "2023-09-07T10:52:14",
          "2023-09-07T10:52:39",
          "2023-09-07T10:53:04",
          "2023-09-07T10:53:27",
          "2023-09-07T10:53:51",
          "2023-09-07T10:54:17",
          "2023-09-07T10:54:41",
          "2023-09-07T10:55:05",
          "2023-09-07T10:55:29",
          "2023-09-07T10:56:13",
          "2023-09-07T10:56:37",
          "2023-09-07T10:57:01",
          "2023-09-07T10:57:24",
          "2023-09-07T10:57:48",
          "2023-09-07T10:58:11",
          "2023-09-07T10:58:36",
          "2023-09-07T10:59:00",
          "2023-09-07T10:59:27",
          "2023-09-07T10:59:50",
          "2023-09-07T11:00:16",
          "2023-09-07T11:00:40",
          "2023-09-07T11:01:09",
          "2023-09-07T11:02:31",
          "2023-09-07T11:02:55",
          "2023-09-07T11:03:20",
          "2023-09-07T11:03:45",
          "2023-09-07T11:04:08",
          "2023-09-07T11:04:30",
          "2023-09-07T11:04:55",
          "2023-09-07T11:05:17",
          "2023-09-07T11:05:41",
          "2023-09-07T11:06:06",
          "2023-09-07T11:06:31",
          "2023-09-07T11:07:01",
          "2023-09-07T11:07:24",
          "2023-09-07T11:07:48",
          "2023-09-07T11:08:10",
          "2023-09-07T11:08:33",
          "2023-09-07T11:08:57",
          "2023-09-07T11:09:21",
          "2023-09-07T11:09:46",
          "2023-09-07T11:10:09",
          "2023-09-07T11:10:33",
          "2023-09-07T11:10:58",
          "2023-09-07T11:11:24",
          "2023-09-07T11:11:47",
          "2023-09-07T11:13:50",
          "2023-09-07T11:14:18",
          "2023-09-07T11:14:41",
          "2023-09-07T11:15:04",
          "2023-09-07T11:15:31",
          "2023-09-07T11:16:03",
          "2023-09-07T11:16:26",
          "2023-09-07T11:16:51",
          "2023-09-07T11:17:17",
          "2023-09-07T11:17:41",
          "2023-09-07T11:18:05",
          "2023-09-07T11:18:30",
          "2023-09-07T11:18:53",
          "2023-09-07T11:20:51",
          "2023-09-07T11:21:24",
          "2023-09-07T11:26:45",
          "2023-09-07T11:27:12",
          "2023-09-07T11:27:37",
          "2023-09-07T11:28:02",
          "2023-09-07T11:28:29",
          "2023-09-07T11:31:37",
          "2023-09-07T11:32:01",
          "2023-09-07T11:32:25",
          "2023-09-07T11:32:47",
          "2023-09-07T11:33:14",
          "2023-09-07T11:33:36",
          "2023-09-07T11:33:59",
          "2023-09-07T11:34:24",
          "2023-09-07T11:34:51",
          "2023-09-07T11:35:18",
          "2023-09-07T11:35:42",
          "2023-09-07T11:36:05",
          "2023-09-07T11:36:27",
          "2023-09-07T11:36:49",
          "2023-09-07T11:37:13",
          "2023-09-07T11:37:37",
          "2023-09-07T11:38:03",
          "2023-09-07T11:38:30",
          "2023-09-07T11:38:56",
          "2023-09-07T11:39:21",
          "2023-09-07T11:39:46",
          "2023-09-07T11:40:13",
          "2023-09-07T11:42:10",
          "2023-09-07T11:42:36",
          "2023-09-07T11:43:00",
          "2023-09-07T11:43:27",
          "2023-09-07T11:43:55",
          "2023-09-07T11:44:17",
          "2023-09-07T11:44:43",
          "2023-09-07T11:45:07",
          "2023-09-07T11:45:30",
          "2023-09-07T11:45:54",
          "2023-09-07T11:46:20",
          "2023-09-07T11:46:45",
          "2023-09-07T11:47:09",
          "2023-09-07T11:47:34",
          "2023-09-07T11:47:57",
          "2023-09-07T11:48:22",
          "2023-09-07T11:48:47",
          "2023-09-07T11:49:09",
          "2023-09-07T11:49:33",
          "2023-09-07T11:49:58",
          "2023-09-07T11:50:23",
          "2023-09-07T11:56:57",
          "2023-09-07T11:57:22",
          "2023-09-07T11:57:45",
          "2023-09-07T11:58:07",
          "2023-09-07T11:58:30",
          "2023-09-07T11:58:53",
          "2023-09-07T11:59:16",
          "2023-09-07T11:59:41",
          "2023-09-07T12:00:06",
          "2023-09-07T12:00:30",
          "2023-09-07T12:07:07",
          "2023-09-07T12:07:54",
          "2023-09-07T12:08:25",
          "2023-09-07T12:08:43",
          "2023-09-07T12:08:58",
          "2023-09-07T12:09:26",
          "2023-09-07T12:09:56",
          "2023-09-07T12:10:13",
          "2023-09-07T12:10:28",
          "2023-09-07T12:10:44",
          "2023-09-07T12:11:00",
          "2023-09-07T12:11:23",
          "2023-09-07T12:11:50",
          "2023-09-07T12:13:47",
          "2023-09-07T12:14:20",
          "2023-09-07T12:14:35",
          "2023-09-07T12:14:50",
          "2023-09-07T12:15:06",
          "2023-09-07T12:15:21",
          "2023-09-07T12:15:42",
          "2023-09-07T12:16:14",
          "2023-09-07T12:16:29",
          "2023-09-07T12:16:48",
          "2023-09-07T12:18:23",
          "2023-09-07T12:18:47",
          "2023-09-07T12:19:11",
          "2023-09-07T12:19:33",
          "2023-09-07T12:19:58",
          "2023-09-07T12:20:21",
          "2023-09-07T12:20:45",
          "2023-09-07T12:21:07",
          "2023-09-07T12:21:34",
          "2023-09-07T12:24:03",
          "2023-09-07T12:24:26",
          "2023-09-07T12:24:48",
          "2023-09-07T12:25:18",
          "2023-09-07T12:25:43",
          "2023-09-07T12:26:07",
          "2023-09-07T12:26:29",
          "2023-09-07T12:27:13",
          "2023-09-07T12:27:42",
          "2023-09-07T12:29:11",
          "2023-09-07T12:29:33",
          "2023-09-07T12:29:54",
          "2023-09-07T12:30:16",
          "2023-09-07T12:30:40",
          "2023-09-07T12:31:22",
          "2023-09-07T12:31:45",
          "2023-09-07T12:32:08",
          "2023-09-07T12:34:39",
          "2023-09-07T12:35:04",
          "2023-09-07T12:35:30",
          "2023-09-07T12:35:55",
          "2023-09-07T12:36:18",
          "2023-09-07T12:36:42",
          "2023-09-07T12:38:23",
          "2023-09-07T12:38:47",
          "2023-09-07T12:39:10",
          "2023-09-07T12:39:33",
          "2023-09-07T12:39:58",
          "2023-09-07T12:40:23",
          "2023-09-07T12:40:50",
          "2023-09-07T12:41:17",
          "2023-09-07T12:41:39",
          "2023-09-07T12:42:02",
          "2023-09-07T12:42:29",
          "2023-09-07T12:42:52",
          "2023-09-07T12:43:15",
          "2023-09-07T12:43:42",
          "2023-09-07T12:44:04",
          "2023-09-07T12:44:26",
          "2023-09-07T12:44:47",
          "2023-09-07T12:45:11",
          "2023-09-07T12:45:32",
          "2023-09-07T12:45:58",
          "2023-09-07T12:46:20",
          "2023-09-07T12:46:41",
          "2023-09-07T12:47:18",
          "2023-09-07T12:47:41",
          "2023-09-07T12:48:29",
          "2023-09-07T12:48:55",
          "2023-09-07T12:49:18",
          "2023-09-07T12:49:43",
          "2023-09-07T12:51:07",
          "2023-09-07T12:51:30",
          "2023-09-07T12:51:53",
          "2023-09-07T12:52:16",
          "2023-09-07T12:52:40",
          "2023-09-07T12:53:02",
          "2023-09-07T12:53:23",
          "2023-09-07T12:53:45",
          "2023-09-07T12:54:07",
          "2023-09-07T12:54:30",
          "2023-09-07T12:54:54",
          "2023-09-07T12:55:17",
          "2023-09-07T12:55:39",
          "2023-09-07T12:56:02",
          "2023-09-07T12:56:24",
          "2023-09-07T12:56:52",
          "2023-09-07T12:57:14",
          "2023-09-07T12:57:36",
          "2023-09-07T12:58:05",
          "2023-09-07T14:03:26",
          "2023-09-07T14:03:51",
          "2023-09-07T14:04:23",
          "2023-09-07T14:04:45",
          "2023-09-07T14:05:08",
          "2023-09-07T14:05:30",
          "2023-09-07T14:05:53",
          "2023-09-07T14:06:25",
          "2023-09-07T14:06:47",
          "2023-09-07T14:07:11",
          "2023-09-07T14:07:35",
          "2023-09-07T14:07:59",
          "2023-09-07T14:08:25",
          "2023-09-07T14:08:47",
          "2023-09-07T14:09:11",
          "2023-09-07T14:09:35",
          "2023-09-07T14:09:58",
          "2023-09-07T14:10:23",
          "2023-09-07T14:10:45",
          "2023-09-07T14:11:07",
          "2023-09-07T14:11:32",
          "2023-09-07T14:12:05",
          "2023-09-07T14:12:32",
          "2023-09-07T14:17:32",
          "2023-09-07T14:46:11",
          "2023-09-07T14:47:26",
          "2023-09-07T14:47:51",
          "2023-09-07T14:48:09",
          "2023-09-07T14:49:35",
          "2023-09-07T14:50:06",
          "2023-09-07T14:50:30",
          "2023-09-07T14:51:01",
          "2023-09-07T14:51:24",
          "2023-09-07T14:51:49",
          "2023-09-07T14:55:06",
          "2023-09-07T14:56:00",
          "2023-09-07T14:56:23",
          "2023-09-07T14:56:45",
          "2023-09-07T14:57:10",
          "2023-09-07T14:57:39",
          "2023-09-07T14:58:01",
          "2023-09-07T14:58:41",
          "2023-09-07T14:58:53",
          "2023-09-07T14:59:15",
          "2023-09-07T15:00:54",
          "2023-09-07T15:01:35",
          "2023-09-07T15:01:42",
          "2023-09-07T15:02:08",
          "2023-09-07T15:02:41",
          "2023-09-07T15:03:03",
          "2023-09-07T15:03:30",
          "2023-09-07T15:05:24",
          "2023-09-07T15:05:47",
          "2023-09-07T15:06:12",
          "2023-09-07T15:07:01",
          "2023-09-07T15:08:49",
          "2023-09-07T15:09:56",
          "2023-09-07T15:10:47",
          "2023-09-07T15:10:54",
          "2023-09-07T15:16:37",
          "2023-09-07T15:17:09",
          "2023-09-07T15:18:46",
          "2023-09-07T15:22:55"
         ],
         "xaxis": "x",
         "y": [
          25,
          28,
          24,
          26,
          24,
          26,
          25,
          23,
          23,
          22,
          23,
          22,
          44,
          23,
          21,
          23,
          22,
          25,
          23,
          20,
          22,
          39,
          21,
          20,
          22,
          27,
          30,
          27,
          27,
          34,
          31,
          27,
          33,
          26,
          26,
          26,
          25,
          32,
          24,
          24,
          23,
          22,
          24,
          21,
          23,
          23,
          31,
          21,
          23,
          23,
          22,
          22,
          20,
          24,
          46,
          23,
          22,
          43,
          24,
          23,
          22,
          23,
          23,
          24,
          22,
          22,
          21,
          22,
          20,
          39,
          23,
          22,
          22,
          21,
          20,
          19,
          22,
          20,
          19,
          23,
          22,
          25,
          27,
          22,
          26,
          26,
          44,
          29,
          25,
          20,
          19,
          31,
          19,
          19,
          23,
          35,
          22,
          19,
          21,
          23,
          20,
          20,
          22,
          46,
          25,
          19,
          20,
          21,
          20,
          22,
          22,
          21,
          20,
          23,
          24,
          21,
          20,
          22,
          24,
          22,
          22,
          23,
          24,
          22,
          20,
          25,
          21,
          20,
          24,
          23,
          21,
          20,
          21,
          22,
          19,
          23,
          22,
          24,
          20,
          21,
          21,
          22,
          45,
          22,
          21,
          43,
          42,
          21,
          20,
          21,
          21,
          19,
          19,
          20,
          23,
          22,
          24,
          21,
          20,
          19,
          21,
          18,
          22,
          20,
          19,
          23,
          21,
          21,
          23,
          20,
          23,
          27,
          21,
          29,
          20,
          24,
          20,
          25,
          20,
          26,
          22,
          24,
          27,
          23,
          23,
          24,
          25,
          28,
          22,
          22,
          27,
          23,
          22,
          21,
          26,
          25,
          28,
          25,
          27,
          22,
          23,
          24,
          24,
          25,
          23,
          21,
          26,
          26,
          26,
          24,
          28,
          28,
          35,
          25,
          21,
          23,
          20,
          23,
          23,
          24,
          22,
          44,
          29,
          23,
          21,
          24,
          28,
          26,
          24,
          23,
          22,
          24,
          21,
          27,
          24,
          48,
          26,
          24,
          22,
          25,
          27,
          14,
          25,
          24,
          14,
          27,
          25,
          25,
          33,
          15,
          24,
          25,
          26,
          25,
          24,
          33,
          21,
          28,
          25,
          23,
          22,
          29,
          21,
          23,
          25,
          22,
          23,
          23,
          22,
          25,
          24,
          25,
          25,
          24,
          26,
          23,
          26,
          24,
          23,
          25,
          46,
          24,
          24,
          24,
          24,
          23,
          25,
          24,
          23,
          23,
          25,
          23,
          28,
          27,
          48,
          26,
          25,
          25,
          25,
          47,
          36,
          27,
          27,
          24,
          21,
          36,
          25,
          21,
          22,
          23,
          25,
          30,
          30,
          31,
          29,
          23,
          22,
          25,
          22,
          24,
          23,
          24,
          28,
          26,
          25,
          44,
          27,
          23,
          24,
          24,
          25,
          24,
          23,
          24,
          25,
          22,
          25,
          26,
          24,
          22,
          25,
          32,
          23,
          27,
          30,
          13,
          26,
          22,
          27,
          23,
          24,
          22,
          23,
          24,
          25,
          22,
          23,
          25,
          25,
          22,
          24,
          43,
          23,
          24,
          22,
          23,
          23,
          25,
          22,
          27,
          22,
          25,
          24,
          29,
          25,
          23,
          25,
          24,
          23,
          21,
          25,
          21,
          23,
          25,
          24,
          29,
          23,
          23,
          22,
          22,
          24,
          23,
          25,
          22,
          24,
          24,
          26,
          23,
          27,
          28,
          23,
          22,
          26,
          31,
          23,
          24,
          26,
          23,
          24,
          24,
          23,
          31,
          24,
          25,
          26,
          24,
          25,
          26,
          22,
          23,
          23,
          22,
          27,
          21,
          22,
          25,
          26,
          27,
          23,
          22,
          22,
          22,
          24,
          23,
          25,
          26,
          26,
          24,
          25,
          26,
          45,
          25,
          24,
          26,
          27,
          22,
          25,
          24,
          22,
          24,
          25,
          24,
          23,
          25,
          23,
          24,
          25,
          21,
          23,
          25,
          24,
          26,
          25,
          22,
          21,
          23,
          22,
          23,
          24,
          25,
          24,
          17,
          46,
          31,
          17,
          15,
          27,
          19,
          16,
          15,
          15,
          16,
          22,
          17,
          19,
          33,
          14,
          14,
          16,
          15,
          20,
          31,
          15,
          18,
          25,
          23,
          23,
          22,
          24,
          22,
          24,
          22,
          26,
          23,
          22,
          20,
          31,
          24,
          23,
          22,
          43,
          29,
          28,
          22,
          21,
          21,
          23,
          42,
          22,
          22,
          21,
          24,
          25,
          24,
          23,
          24,
          29,
          22,
          23,
          23,
          24,
          24,
          27,
          26,
          22,
          23,
          26,
          23,
          22,
          26,
          22,
          21,
          21,
          23,
          21,
          26,
          20,
          21,
          36,
          23,
          46,
          26,
          23,
          23,
          21,
          22,
          23,
          23,
          23,
          21,
          20,
          22,
          22,
          22,
          24,
          22,
          22,
          22,
          22,
          27,
          22,
          21,
          28,
          22,
          24,
          31,
          21,
          23,
          22,
          22,
          30,
          23,
          23,
          24,
          23,
          26,
          21,
          23,
          23,
          23,
          25,
          21,
          21,
          25,
          32,
          26,
          27,
          24,
          23,
          20,
          22,
          23,
          21,
          24,
          28,
          24,
          23,
          23,
          21,
          22,
          22,
          24,
          25,
          25,
          27,
          12,
          21,
          23,
          24,
          23,
          25,
          26,
          22,
          24,
          35,
          23,
          22,
          24,
          23,
          13,
          22,
          13,
          25,
          31,
          19,
          39
         ],
         "yaxis": "y"
        },
        {
         "alignmentgroup": "True",
         "hovertemplate": "Task names=TEKOX Red Black Cables<br>Timestamp=%{x}<br>Duration (seconds)=%{y}<extra></extra>",
         "legendgroup": "TEKOX Red Black Cables",
         "marker": {
          "color": "tomato",
          "pattern": {
           "shape": ""
          }
         },
         "name": "TEKOX Red Black Cables",
         "offsetgroup": "TEKOX Red Black Cables",
         "orientation": "v",
         "showlegend": true,
         "textposition": "auto",
         "type": "bar",
         "width": 20000,
         "x": [
          "2023-09-27T10:19:43",
          "2023-09-27T10:19:58",
          "2023-09-27T10:20:16",
          "2023-09-27T10:20:31",
          "2023-09-27T10:20:48",
          "2023-09-27T10:21:01",
          "2023-09-27T10:21:14",
          "2023-09-27T10:21:30",
          "2023-09-27T10:21:43",
          "2023-09-27T10:21:55",
          "2023-09-27T10:22:06",
          "2023-09-27T10:22:18",
          "2023-09-27T10:22:30",
          "2023-09-27T10:22:42",
          "2023-09-27T10:22:53",
          "2023-09-27T10:23:05",
          "2023-09-27T10:23:17",
          "2023-09-27T10:23:29",
          "2023-09-27T10:23:41",
          "2023-09-27T10:23:54",
          "2023-09-27T10:24:06",
          "2023-09-27T10:24:17",
          "2023-09-27T10:24:30",
          "2023-09-27T12:34:38",
          "2023-09-27T12:34:51",
          "2023-09-27T12:35:04",
          "2023-09-27T12:35:16",
          "2023-09-27T12:35:29",
          "2023-09-27T12:35:41",
          "2023-09-27T12:35:52",
          "2023-09-27T12:36:05",
          "2023-09-27T12:36:18",
          "2023-09-27T12:36:29",
          "2023-09-27T12:36:42",
          "2023-09-27T12:36:53",
          "2023-09-27T12:37:05",
          "2023-09-27T12:37:18"
         ],
         "xaxis": "x",
         "y": [
          14,
          15,
          17,
          15,
          16,
          13,
          12,
          16,
          12,
          12,
          11,
          12,
          11,
          12,
          11,
          11,
          12,
          12,
          12,
          12,
          11,
          12,
          12,
          12,
          12,
          13,
          12,
          12,
          12,
          11,
          12,
          13,
          11,
          12,
          11,
          12,
          12
         ],
         "yaxis": "y"
        },
        {
         "alignmentgroup": "True",
         "hovertemplate": "Task names=TEKOX Blue Brown Cables<br>Timestamp=%{x}<br>Duration (seconds)=%{y}<extra></extra>",
         "legendgroup": "TEKOX Blue Brown Cables",
         "marker": {
          "color": "cornflowerblue",
          "pattern": {
           "shape": ""
          }
         },
         "name": "TEKOX Blue Brown Cables",
         "offsetgroup": "TEKOX Blue Brown Cables",
         "orientation": "v",
         "showlegend": true,
         "textposition": "auto",
         "type": "bar",
         "width": 20000,
         "x": [
          "2023-09-27T10:31:56",
          "2023-09-27T10:32:19",
          "2023-09-27T10:32:30",
          "2023-09-27T10:32:42",
          "2023-09-27T10:32:54",
          "2023-09-27T10:33:10",
          "2023-09-27T10:33:22",
          "2023-09-27T10:33:35",
          "2023-09-27T10:33:47",
          "2023-09-27T10:33:59",
          "2023-09-27T10:34:11",
          "2023-09-27T10:34:23",
          "2023-09-27T12:44:44",
          "2023-09-27T12:44:57",
          "2023-09-27T12:45:08",
          "2023-09-27T12:45:22",
          "2023-09-27T12:45:35",
          "2023-09-27T12:45:47",
          "2023-09-27T12:46:00",
          "2023-09-27T12:46:13",
          "2023-09-27T12:46:26",
          "2023-09-27T12:46:38",
          "2023-09-27T12:46:50",
          "2023-09-27T12:47:03",
          "2023-09-27T12:47:15",
          "2023-09-27T12:47:28",
          "2023-09-27T12:47:41"
         ],
         "xaxis": "x",
         "y": [
          13,
          11,
          12,
          12,
          13,
          11,
          12,
          13,
          11,
          12,
          12,
          11,
          12,
          12,
          11,
          13,
          13,
          12,
          12,
          13,
          12,
          12,
          12,
          12,
          12,
          12,
          12
         ],
         "yaxis": "y"
        }
       ],
       "layout": {
        "bargap": 0,
        "barmode": "relative",
        "font": {
         "size": 10
        },
        "height": 300,
        "legend": {
         "title": {
          "text": "Task names"
         },
         "tracegroupgap": 0,
         "x": 0.66,
         "xanchor": "left",
         "y": 0.99,
         "yanchor": "top"
        },
        "margin": {
         "t": 60
        },
        "template": {
         "data": {
          "bar": [
           {
            "error_x": {
             "color": "#2a3f5f"
            },
            "error_y": {
             "color": "#2a3f5f"
            },
            "marker": {
             "line": {
              "color": "#E5ECF6",
              "width": 0.5
             },
             "pattern": {
              "fillmode": "overlay",
              "size": 10,
              "solidity": 0.2
             }
            },
            "type": "bar"
           }
          ],
          "barpolar": [
           {
            "marker": {
             "line": {
              "color": "#E5ECF6",
              "width": 0.5
             },
             "pattern": {
              "fillmode": "overlay",
              "size": 10,
              "solidity": 0.2
             }
            },
            "type": "barpolar"
           }
          ],
          "carpet": [
           {
            "aaxis": {
             "endlinecolor": "#2a3f5f",
             "gridcolor": "white",
             "linecolor": "white",
             "minorgridcolor": "white",
             "startlinecolor": "#2a3f5f"
            },
            "baxis": {
             "endlinecolor": "#2a3f5f",
             "gridcolor": "white",
             "linecolor": "white",
             "minorgridcolor": "white",
             "startlinecolor": "#2a3f5f"
            },
            "type": "carpet"
           }
          ],
          "choropleth": [
           {
            "colorbar": {
             "outlinewidth": 0,
             "ticks": ""
            },
            "type": "choropleth"
           }
          ],
          "contour": [
           {
            "colorbar": {
             "outlinewidth": 0,
             "ticks": ""
            },
            "colorscale": [
             [
              0,
              "#0d0887"
             ],
             [
              0.1111111111111111,
              "#46039f"
             ],
             [
              0.2222222222222222,
              "#7201a8"
             ],
             [
              0.3333333333333333,
              "#9c179e"
             ],
             [
              0.4444444444444444,
              "#bd3786"
             ],
             [
              0.5555555555555556,
              "#d8576b"
             ],
             [
              0.6666666666666666,
              "#ed7953"
             ],
             [
              0.7777777777777778,
              "#fb9f3a"
             ],
             [
              0.8888888888888888,
              "#fdca26"
             ],
             [
              1,
              "#f0f921"
             ]
            ],
            "type": "contour"
           }
          ],
          "contourcarpet": [
           {
            "colorbar": {
             "outlinewidth": 0,
             "ticks": ""
            },
            "type": "contourcarpet"
           }
          ],
          "heatmap": [
           {
            "colorbar": {
             "outlinewidth": 0,
             "ticks": ""
            },
            "colorscale": [
             [
              0,
              "#0d0887"
             ],
             [
              0.1111111111111111,
              "#46039f"
             ],
             [
              0.2222222222222222,
              "#7201a8"
             ],
             [
              0.3333333333333333,
              "#9c179e"
             ],
             [
              0.4444444444444444,
              "#bd3786"
             ],
             [
              0.5555555555555556,
              "#d8576b"
             ],
             [
              0.6666666666666666,
              "#ed7953"
             ],
             [
              0.7777777777777778,
              "#fb9f3a"
             ],
             [
              0.8888888888888888,
              "#fdca26"
             ],
             [
              1,
              "#f0f921"
             ]
            ],
            "type": "heatmap"
           }
          ],
          "heatmapgl": [
           {
            "colorbar": {
             "outlinewidth": 0,
             "ticks": ""
            },
            "colorscale": [
             [
              0,
              "#0d0887"
             ],
             [
              0.1111111111111111,
              "#46039f"
             ],
             [
              0.2222222222222222,
              "#7201a8"
             ],
             [
              0.3333333333333333,
              "#9c179e"
             ],
             [
              0.4444444444444444,
              "#bd3786"
             ],
             [
              0.5555555555555556,
              "#d8576b"
             ],
             [
              0.6666666666666666,
              "#ed7953"
             ],
             [
              0.7777777777777778,
              "#fb9f3a"
             ],
             [
              0.8888888888888888,
              "#fdca26"
             ],
             [
              1,
              "#f0f921"
             ]
            ],
            "type": "heatmapgl"
           }
          ],
          "histogram": [
           {
            "marker": {
             "pattern": {
              "fillmode": "overlay",
              "size": 10,
              "solidity": 0.2
             }
            },
            "type": "histogram"
           }
          ],
          "histogram2d": [
           {
            "colorbar": {
             "outlinewidth": 0,
             "ticks": ""
            },
            "colorscale": [
             [
              0,
              "#0d0887"
             ],
             [
              0.1111111111111111,
              "#46039f"
             ],
             [
              0.2222222222222222,
              "#7201a8"
             ],
             [
              0.3333333333333333,
              "#9c179e"
             ],
             [
              0.4444444444444444,
              "#bd3786"
             ],
             [
              0.5555555555555556,
              "#d8576b"
             ],
             [
              0.6666666666666666,
              "#ed7953"
             ],
             [
              0.7777777777777778,
              "#fb9f3a"
             ],
             [
              0.8888888888888888,
              "#fdca26"
             ],
             [
              1,
              "#f0f921"
             ]
            ],
            "type": "histogram2d"
           }
          ],
          "histogram2dcontour": [
           {
            "colorbar": {
             "outlinewidth": 0,
             "ticks": ""
            },
            "colorscale": [
             [
              0,
              "#0d0887"
             ],
             [
              0.1111111111111111,
              "#46039f"
             ],
             [
              0.2222222222222222,
              "#7201a8"
             ],
             [
              0.3333333333333333,
              "#9c179e"
             ],
             [
              0.4444444444444444,
              "#bd3786"
             ],
             [
              0.5555555555555556,
              "#d8576b"
             ],
             [
              0.6666666666666666,
              "#ed7953"
             ],
             [
              0.7777777777777778,
              "#fb9f3a"
             ],
             [
              0.8888888888888888,
              "#fdca26"
             ],
             [
              1,
              "#f0f921"
             ]
            ],
            "type": "histogram2dcontour"
           }
          ],
          "mesh3d": [
           {
            "colorbar": {
             "outlinewidth": 0,
             "ticks": ""
            },
            "type": "mesh3d"
           }
          ],
          "parcoords": [
           {
            "line": {
             "colorbar": {
              "outlinewidth": 0,
              "ticks": ""
             }
            },
            "type": "parcoords"
           }
          ],
          "pie": [
           {
            "automargin": true,
            "type": "pie"
           }
          ],
          "scatter": [
           {
            "fillpattern": {
             "fillmode": "overlay",
             "size": 10,
             "solidity": 0.2
            },
            "type": "scatter"
           }
          ],
          "scatter3d": [
           {
            "line": {
             "colorbar": {
              "outlinewidth": 0,
              "ticks": ""
             }
            },
            "marker": {
             "colorbar": {
              "outlinewidth": 0,
              "ticks": ""
             }
            },
            "type": "scatter3d"
           }
          ],
          "scattercarpet": [
           {
            "marker": {
             "colorbar": {
              "outlinewidth": 0,
              "ticks": ""
             }
            },
            "type": "scattercarpet"
           }
          ],
          "scattergeo": [
           {
            "marker": {
             "colorbar": {
              "outlinewidth": 0,
              "ticks": ""
             }
            },
            "type": "scattergeo"
           }
          ],
          "scattergl": [
           {
            "marker": {
             "colorbar": {
              "outlinewidth": 0,
              "ticks": ""
             }
            },
            "type": "scattergl"
           }
          ],
          "scattermapbox": [
           {
            "marker": {
             "colorbar": {
              "outlinewidth": 0,
              "ticks": ""
             }
            },
            "type": "scattermapbox"
           }
          ],
          "scatterpolar": [
           {
            "marker": {
             "colorbar": {
              "outlinewidth": 0,
              "ticks": ""
             }
            },
            "type": "scatterpolar"
           }
          ],
          "scatterpolargl": [
           {
            "marker": {
             "colorbar": {
              "outlinewidth": 0,
              "ticks": ""
             }
            },
            "type": "scatterpolargl"
           }
          ],
          "scatterternary": [
           {
            "marker": {
             "colorbar": {
              "outlinewidth": 0,
              "ticks": ""
             }
            },
            "type": "scatterternary"
           }
          ],
          "surface": [
           {
            "colorbar": {
             "outlinewidth": 0,
             "ticks": ""
            },
            "colorscale": [
             [
              0,
              "#0d0887"
             ],
             [
              0.1111111111111111,
              "#46039f"
             ],
             [
              0.2222222222222222,
              "#7201a8"
             ],
             [
              0.3333333333333333,
              "#9c179e"
             ],
             [
              0.4444444444444444,
              "#bd3786"
             ],
             [
              0.5555555555555556,
              "#d8576b"
             ],
             [
              0.6666666666666666,
              "#ed7953"
             ],
             [
              0.7777777777777778,
              "#fb9f3a"
             ],
             [
              0.8888888888888888,
              "#fdca26"
             ],
             [
              1,
              "#f0f921"
             ]
            ],
            "type": "surface"
           }
          ],
          "table": [
           {
            "cells": {
             "fill": {
              "color": "#EBF0F8"
             },
             "line": {
              "color": "white"
             }
            },
            "header": {
             "fill": {
              "color": "#C8D4E3"
             },
             "line": {
              "color": "white"
             }
            },
            "type": "table"
           }
          ]
         },
         "layout": {
          "annotationdefaults": {
           "arrowcolor": "#2a3f5f",
           "arrowhead": 0,
           "arrowwidth": 1
          },
          "autotypenumbers": "strict",
          "coloraxis": {
           "colorbar": {
            "outlinewidth": 0,
            "ticks": ""
           }
          },
          "colorscale": {
           "diverging": [
            [
             0,
             "#8e0152"
            ],
            [
             0.1,
             "#c51b7d"
            ],
            [
             0.2,
             "#de77ae"
            ],
            [
             0.3,
             "#f1b6da"
            ],
            [
             0.4,
             "#fde0ef"
            ],
            [
             0.5,
             "#f7f7f7"
            ],
            [
             0.6,
             "#e6f5d0"
            ],
            [
             0.7,
             "#b8e186"
            ],
            [
             0.8,
             "#7fbc41"
            ],
            [
             0.9,
             "#4d9221"
            ],
            [
             1,
             "#276419"
            ]
           ],
           "sequential": [
            [
             0,
             "#0d0887"
            ],
            [
             0.1111111111111111,
             "#46039f"
            ],
            [
             0.2222222222222222,
             "#7201a8"
            ],
            [
             0.3333333333333333,
             "#9c179e"
            ],
            [
             0.4444444444444444,
             "#bd3786"
            ],
            [
             0.5555555555555556,
             "#d8576b"
            ],
            [
             0.6666666666666666,
             "#ed7953"
            ],
            [
             0.7777777777777778,
             "#fb9f3a"
            ],
            [
             0.8888888888888888,
             "#fdca26"
            ],
            [
             1,
             "#f0f921"
            ]
           ],
           "sequentialminus": [
            [
             0,
             "#0d0887"
            ],
            [
             0.1111111111111111,
             "#46039f"
            ],
            [
             0.2222222222222222,
             "#7201a8"
            ],
            [
             0.3333333333333333,
             "#9c179e"
            ],
            [
             0.4444444444444444,
             "#bd3786"
            ],
            [
             0.5555555555555556,
             "#d8576b"
            ],
            [
             0.6666666666666666,
             "#ed7953"
            ],
            [
             0.7777777777777778,
             "#fb9f3a"
            ],
            [
             0.8888888888888888,
             "#fdca26"
            ],
            [
             1,
             "#f0f921"
            ]
           ]
          },
          "colorway": [
           "#636efa",
           "#EF553B",
           "#00cc96",
           "#ab63fa",
           "#FFA15A",
           "#19d3f3",
           "#FF6692",
           "#B6E880",
           "#FF97FF",
           "#FECB52"
          ],
          "font": {
           "color": "#2a3f5f"
          },
          "geo": {
           "bgcolor": "white",
           "lakecolor": "white",
           "landcolor": "#E5ECF6",
           "showlakes": true,
           "showland": true,
           "subunitcolor": "white"
          },
          "hoverlabel": {
           "align": "left"
          },
          "hovermode": "closest",
          "mapbox": {
           "style": "light"
          },
          "paper_bgcolor": "white",
          "plot_bgcolor": "#E5ECF6",
          "polar": {
           "angularaxis": {
            "gridcolor": "white",
            "linecolor": "white",
            "ticks": ""
           },
           "bgcolor": "#E5ECF6",
           "radialaxis": {
            "gridcolor": "white",
            "linecolor": "white",
            "ticks": ""
           }
          },
          "scene": {
           "xaxis": {
            "backgroundcolor": "#E5ECF6",
            "gridcolor": "white",
            "gridwidth": 2,
            "linecolor": "white",
            "showbackground": true,
            "ticks": "",
            "zerolinecolor": "white"
           },
           "yaxis": {
            "backgroundcolor": "#E5ECF6",
            "gridcolor": "white",
            "gridwidth": 2,
            "linecolor": "white",
            "showbackground": true,
            "ticks": "",
            "zerolinecolor": "white"
           },
           "zaxis": {
            "backgroundcolor": "#E5ECF6",
            "gridcolor": "white",
            "gridwidth": 2,
            "linecolor": "white",
            "showbackground": true,
            "ticks": "",
            "zerolinecolor": "white"
           }
          },
          "shapedefaults": {
           "line": {
            "color": "#2a3f5f"
           }
          },
          "ternary": {
           "aaxis": {
            "gridcolor": "white",
            "linecolor": "white",
            "ticks": ""
           },
           "baxis": {
            "gridcolor": "white",
            "linecolor": "white",
            "ticks": ""
           },
           "bgcolor": "#E5ECF6",
           "caxis": {
            "gridcolor": "white",
            "linecolor": "white",
            "ticks": ""
           }
          },
          "title": {
           "x": 0.05
          },
          "xaxis": {
           "automargin": true,
           "gridcolor": "white",
           "linecolor": "white",
           "ticks": "",
           "title": {
            "standoff": 15
           },
           "zerolinecolor": "white",
           "zerolinewidth": 2
          },
          "yaxis": {
           "automargin": true,
           "gridcolor": "white",
           "linecolor": "white",
           "ticks": "",
           "title": {
            "standoff": 15
           },
           "zerolinecolor": "white",
           "zerolinewidth": 2
          }
         }
        },
        "width": 700,
        "xaxis": {
         "anchor": "y",
         "domain": [
          0,
          1
         ],
         "range": [
          "2023-09-07 12:00:00",
          "2023-09-07 14:45:00"
         ],
         "showgrid": true,
         "title": {
          "text": "Timestamp"
         }
        },
        "yaxis": {
         "anchor": "x",
         "domain": [
          0,
          1
         ],
         "range": [
          0,
          240
         ],
         "title": {
          "text": "Duration (seconds)"
         }
        }
       }
      }
     },
     "metadata": {},
     "output_type": "display_data"
    }
   ],
   "source": [
    "start_date = '31/07/2023'\n",
    "end_date = '27/09/2023'\n",
    "\n",
    "start_date = pd.to_datetime(start_date, format='%d/%m/%Y')\n",
    "end_date = pd.to_datetime(end_date, format='%d/%m/%Y')\n",
    "\n",
    "# Create a date range\n",
    "date_range = pd.date_range(start=start_date, end=end_date)\n",
    "\n",
    "dfs = []\n",
    "df_all = pd.DataFrame()\n",
    "\n",
    "def calc_all_time_near(time_near,time_worked):\n",
    "    \n",
    "    print(f\"Time person was near: {time_near}\")\n",
    "    time_near_seconds = time_near_.total_seconds()\n",
    "\n",
    "    \n",
    "    print(f\"Time person was using node: {sum_emp_dt}\")\n",
    "    time_used_seconds = sum_emp_dt.total_seconds()\n",
    "\n",
    "\n",
    "    return time_near_seconds, time_used_seconds\n",
    "\n",
    "def all_plots(date_year,df,df_distance):\n",
    "    \n",
    "    sum_by_task, sum_emp_dt = plot_pie(df)\n",
    "    plot_bar(date_year,df,df_distance)\n",
    "    #plot_line(date_year, df)\n",
    "\n",
    "    return sum_by_task, sum_emp_dt\n",
    "\n",
    "def plots_all_dates(date_range):\n",
    "    total_time_near = 0\n",
    "    total_time_used = 0\n",
    "    \n",
    "    for date in date_range:\n",
    "\n",
    "        day = str(date.day).zfill(2)\n",
    "        month = str(date.month).zfill(2)\n",
    "        date_ = day + \"_\" + month\n",
    "        print(date_)\n",
    "        date_year = \"2023-\" + month + \"-\" + day\n",
    "\n",
    "        df = process_file(date_)\n",
    "        df_dist = process_file_distance(date_)\n",
    "\n",
    "        if df.empty:\n",
    "            print(\"No data in that date\")\n",
    "            continue\n",
    "                \n",
    "        if df_dist.empty:\n",
    "            print(\"No distance data in that date\")\n",
    "            continue\n",
    "\n",
    "        df1 = remove_outliers(df, alpha = 0.5)\n",
    "\n",
    "        df_distance = update_df_distance(df1,df_dist)\n",
    "\n",
    "        _, sum_emp_dt = all_plots(date_year,df1,df_distance)\n",
    "\n",
    "        _,time_near_ = fun_time_near(df_distance)\n",
    "\n",
    "        print(f\"Time person was near: {time_near_}\")\n",
    "        time_near_seconds = time_near_.total_seconds()\n",
    "\n",
    "        \n",
    "        print(f\"Time person was using node: {sum_emp_dt}\")\n",
    "        time_used_seconds = sum_emp_dt.total_seconds()\n",
    "\n",
    "        #time_near_seconds, time_used_seconds = calc_all_time_near(time_near_,sum_emp_dt)\n",
    "        #total_time_near += time_near_seconds\n",
    "        #total_time_used += time_used_seconds\n",
    "      \n",
    "        perc_usage = time_used_seconds/time_near_seconds*100\n",
    "        \n",
    "        print(f\"Percentage of node usage per day: {round(perc_usage,0)} \")\n",
    "        print()\n",
    "\n",
    "        print()\n",
    "        print()\n",
    "        print()\n",
    "\n",
    "        dfs.append(df1)\n",
    "\n",
    "    #perc_total = total_time_used/total_time_near*100\n",
    "    #print(f\"Percentage of total node usage: {round(perc_total,0)} \")\n",
    "\n",
    "\n",
    "    return dfs\n",
    "\n",
    "\n",
    "# Prints plot for each date\n",
    "dfs = plots_all_dates(date_range)\n",
    "df_all = pd.concat(dfs, ignore_index=True)\n",
    "\n",
    "# Prits plot for all dates together\n",
    "_, _ = all_plots(date_year,df_all,df_distance)\n"
   ]
  },
  {
   "cell_type": "code",
   "execution_count": null,
   "metadata": {},
   "outputs": [],
   "source": []
  }
 ],
 "metadata": {
  "kernelspec": {
   "display_name": "base",
   "language": "python",
   "name": "python3"
  },
  "language_info": {
   "codemirror_mode": {
    "name": "ipython",
    "version": 3
   },
   "file_extension": ".py",
   "mimetype": "text/x-python",
   "name": "python",
   "nbconvert_exporter": "python",
   "pygments_lexer": "ipython3",
   "version": "3.11.4"
  }
 },
 "nbformat": 4,
 "nbformat_minor": 2
}
