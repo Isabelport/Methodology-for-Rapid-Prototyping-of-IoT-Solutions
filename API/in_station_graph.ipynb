{
 "cells": [
  {
   "cell_type": "code",
   "execution_count": 1,
   "metadata": {},
   "outputs": [],
   "source": [
    "import plotly.express as px\n",
    "import os\n",
    "import pandas as pd\n",
    "import numpy as np\n",
    "import plotly.graph_objects as go\n",
    "\n",
    "#import csv\n",
    "pd.set_option('display.max_rows', None)  # Display all rows\n"
   ]
  },
  {
   "cell_type": "code",
   "execution_count": 2,
   "metadata": {},
   "outputs": [],
   "source": [
    "if not os.path.exists(\"images\"):\n",
    "    os.mkdir(\"images\")\n",
    "\n",
    "day = \"28\"\n",
    "month = \"09\"\n",
    "dataset = \"rfid\"\n",
    "\n",
    "date = day + \"_\" + month #change date accordingly\n",
    "date_year = \"2023-\" + month + \"-\" + day\n",
    "\n",
    "folder_path = dataset + '_' + date + '/'\n",
    "\n",
    "\n",
    "def process_file(file_number, date):\n",
    "    file_path = os.path.join(folder_path, f'rfid_{date}_{file_number}.csv')\n",
    "\n",
    "    if file_number == \"final\":\n",
    "        df = pd.read_csv(file_path, parse_dates=['Stamp'])\n",
    "        if df.shape[1] == 4:\n",
    "            df = df.drop(df.columns[3], axis=1)\n",
    "            df = df.drop(df.columns[1], axis=1)\n",
    "\n",
    "    else:\n",
    "        df = pd.read_csv(file_path, parse_dates=['ts'])\n",
    "\n",
    "        # Remove first empty column if it exists\n",
    "        if df.shape[1] == 3:\n",
    "            df = df.drop(df.columns[0], axis=1)\n",
    "        # Remove entries with 'gabarit' equal to 0\n",
    "        df= df[df['gabarit'] != 0]\n",
    "\n",
    "        # Write the updated DataFrame back to the CSV file\n",
    "        df.to_csv(file_path, index = False)\n",
    "        # Reset the index of the DataFrame\n",
    "        df = df.reset_index(drop = True)\n",
    "\n",
    "    return df\n",
    "\n",
    "df1 = process_file(\"1\",date)\n",
    "df2 = process_file(\"2\",date)\n",
    "df3 = process_file(\"3\",date)\n",
    "df4 = process_file(\"final\",date)\n",
    "\n"
   ]
  },
  {
   "cell_type": "code",
   "execution_count": 31,
   "metadata": {},
   "outputs": [],
   "source": [
    "\n",
    "def time_in_station_fun(df):\n",
    "    \"\"\"\n",
    "    Calculates and records the time spent in a station for each occurrence of a 'gabarit' in a DataFrame in seconds.\n",
    "\n",
    "    Parameters:\n",
    "        - df: DataFrame containing timestamps and 'gabarit' values.\n",
    "\n",
    "    Returns:\n",
    "        DataFrame with an added 'time_in_station' column representing the time\n",
    "        spent in the station for each occurrence (in seconds).\n",
    "    \"\"\"\n",
    "    \n",
    "    curr_gabarit = 0\n",
    "    index_i = 0  # Initialize index_i outside the loop\n",
    "    index_f = 0  # Initialize index_f outside the loop\n",
    "    cnt = 0\n",
    "    df_in = pd.DataFrame(columns=['ts', 'gabarit', 'time_in_station'])\n",
    "    #df_in['ts'] = pd.to_datetime(df['ts'])\n",
    "\n",
    "    for i in range(df.shape[0]): #0 to 129\n",
    "        if i != 0: # not first index\n",
    "            if ((df.loc[i, 'gabarit'] != curr_gabarit)):\n",
    "                # routine to present final result\n",
    "                df_in, cnt = calc_time_in_station(df, df_in, index_i, index_f, cnt)\n",
    "            \n",
    "          \n",
    "            # new gabarit is found, i = f\n",
    "            if df.loc[i, 'gabarit'] != df.loc[i-1, 'gabarit']:\n",
    "                curr_gabarit = df.loc[i, 'gabarit']\n",
    "                index_i = i # starts the interval\n",
    "                index_f = i\n",
    "        else: # for first entry, i = f\n",
    "            curr_gabarit = df.loc[i, 'gabarit']\n",
    "            index_i = i\n",
    "            index_f = i\n",
    "\n",
    "        \n",
    "        if i != df.shape[0] - 1: # not last index \n",
    "            if df.loc[i, 'gabarit'] == df.loc[i+1, 'gabarit']:\n",
    "                index_f = i+1\n",
    "        else:\n",
    "            index_f = i           \n",
    "            df_in, cnt = calc_time_in_station(df, df_in, index_i, index_f, cnt)\n",
    "\n",
    "    return df_in\n",
    "\n",
    "\n",
    "# calculates time and writes it in dataframe\n",
    "def calc_time_in_station(df, df_in, index_i, index_f, cnt):\n",
    "    if index_f - index_i == 0:\n",
    "        time_in_station = 1\n",
    "    else: \n",
    "        time_in_station = ((df.loc[index_f, 'ts'] - df.loc[index_i, 'ts']).total_seconds() + 1)\n",
    "\n",
    "    #print(f\"time_in_station is {time_in_station}\")\n",
    "    df_in.loc[cnt,'ts'] = df.loc[index_i, 'ts']\n",
    "    df_in.loc[cnt,'gabarit'] = df.loc[index_i, 'gabarit']\n",
    "    df_in.loc[cnt,'time_in_station'] = time_in_station\n",
    "\n",
    "    #df.loc[index_f, 'time_in_station'] = round(time_in_station,2)\n",
    "    cnt += 1\n",
    "\n",
    "    return df_in, cnt\n",
    "\n",
    "\n",
    "def plot_time_in_station(df, station):\n",
    "    df = df[df['time_in_station'] != 0]\n",
    "    # Create a scatter plot using Plotly Express\n",
    "    if station == 1:\n",
    "        title_plot_var = 'Begginning of Stage 3'\n",
    "    elif station == 2:\n",
    "        title_plot_var = 'End of Stage 3'\n",
    "    elif station == 3:\n",
    "        title_plot_var = 'Begginning of Stage 7'\n",
    "\n",
    "    title_plot = 'Plot of Time in ' + title_plot_var + ' over Time'\n",
    "\n",
    "    ts_values = np.array(df['ts'])\n",
    "    df['time_in_station'] = df['time_in_station'] / 60\n",
    "\n",
    "    # Create a scatter plot using go.Scatter\n",
    "    scatter = go.Scatter(x=ts_values, y=df['time_in_station'], mode='markers', \n",
    "                        name='Scatter Plot', marker=dict(color='blue'))\n",
    "\n",
    "    # Create a layout\n",
    "    layout = go.Layout(\n",
    "        title=title_plot,\n",
    "        xaxis=dict(title='Timestamp', range=[date_year + ' 09:00:00', date_year + ' 18:00:00']),  # Set the range for the x-axis\n",
    "        yaxis=dict(title='Time in Station', range=[-0.2, 3])  # Set the range for the y-axis\n",
    "    )\n",
    "\n",
    "    # Create a figure and add the scatter trace\n",
    "    fig = go.Figure(data=[scatter], layout=layout)\n",
    "\n",
    "    # Show the plot\n",
    "    fig.show()\n",
    "    fig.write_image(\"images/fig_\" + dataset + \"_\" + day + \"_\" + month + \"_\" + str(station) + \".svg\")\n",
    "\n",
    "df_in_2 = time_in_station_fun(df2)"
   ]
  },
  {
   "cell_type": "code",
   "execution_count": 16,
   "metadata": {},
   "outputs": [],
   "source": [
    "def remove_outliers(df, max_time):\n",
    "    # Ensure the column 'time_in_station' exists\n",
    "    if 'time_in_station' not in df.columns:\n",
    "        print(\"Error: 'time_in_station' column not found.\")\n",
    "        return df\n",
    "    \n",
    "    \n",
    "\n",
    "    # Remove rows where 'time_in_station' is greater than 5 minutes\n",
    "    df = df[df['time_in_station'] <= max_time / 60]\n",
    "\n",
    "    return df"
   ]
  },
  {
   "cell_type": "code",
   "execution_count": 69,
   "metadata": {},
   "outputs": [
    {
     "data": {
      "text/html": [
       "<div>\n",
       "<style scoped>\n",
       "    .dataframe tbody tr th:only-of-type {\n",
       "        vertical-align: middle;\n",
       "    }\n",
       "\n",
       "    .dataframe tbody tr th {\n",
       "        vertical-align: top;\n",
       "    }\n",
       "\n",
       "    .dataframe thead th {\n",
       "        text-align: right;\n",
       "    }\n",
       "</style>\n",
       "<table border=\"1\" class=\"dataframe\">\n",
       "  <thead>\n",
       "    <tr style=\"text-align: right;\">\n",
       "      <th></th>\n",
       "      <th>ts</th>\n",
       "      <th>gabarit</th>\n",
       "      <th>time_in_station</th>\n",
       "    </tr>\n",
       "  </thead>\n",
       "  <tbody>\n",
       "    <tr>\n",
       "      <th>0</th>\n",
       "      <td>2023-09-28 09:10:26</td>\n",
       "      <td>14</td>\n",
       "      <td>1</td>\n",
       "    </tr>\n",
       "    <tr>\n",
       "      <th>1</th>\n",
       "      <td>2023-09-28 09:13:02</td>\n",
       "      <td>23</td>\n",
       "      <td>1</td>\n",
       "    </tr>\n",
       "    <tr>\n",
       "      <th>2</th>\n",
       "      <td>2023-09-28 09:13:52</td>\n",
       "      <td>17</td>\n",
       "      <td>1</td>\n",
       "    </tr>\n",
       "    <tr>\n",
       "      <th>3</th>\n",
       "      <td>2023-09-28 09:16:14</td>\n",
       "      <td>21</td>\n",
       "      <td>1</td>\n",
       "    </tr>\n",
       "    <tr>\n",
       "      <th>4</th>\n",
       "      <td>2023-09-28 09:17:43</td>\n",
       "      <td>6</td>\n",
       "      <td>10.0</td>\n",
       "    </tr>\n",
       "    <tr>\n",
       "      <th>5</th>\n",
       "      <td>2023-09-28 09:20:33</td>\n",
       "      <td>19</td>\n",
       "      <td>23.0</td>\n",
       "    </tr>\n",
       "    <tr>\n",
       "      <th>6</th>\n",
       "      <td>2023-09-28 09:23:32</td>\n",
       "      <td>4</td>\n",
       "      <td>1</td>\n",
       "    </tr>\n",
       "    <tr>\n",
       "      <th>7</th>\n",
       "      <td>2023-09-28 09:25:44</td>\n",
       "      <td>9</td>\n",
       "      <td>1</td>\n",
       "    </tr>\n",
       "    <tr>\n",
       "      <th>8</th>\n",
       "      <td>2023-09-28 09:27:16</td>\n",
       "      <td>3</td>\n",
       "      <td>26.0</td>\n",
       "    </tr>\n",
       "    <tr>\n",
       "      <th>9</th>\n",
       "      <td>2023-09-28 09:28:57</td>\n",
       "      <td>8</td>\n",
       "      <td>1</td>\n",
       "    </tr>\n",
       "    <tr>\n",
       "      <th>10</th>\n",
       "      <td>2023-09-28 09:30:15</td>\n",
       "      <td>23</td>\n",
       "      <td>1</td>\n",
       "    </tr>\n",
       "    <tr>\n",
       "      <th>11</th>\n",
       "      <td>2023-09-28 09:31:34</td>\n",
       "      <td>15</td>\n",
       "      <td>1</td>\n",
       "    </tr>\n",
       "    <tr>\n",
       "      <th>12</th>\n",
       "      <td>2023-09-28 09:32:59</td>\n",
       "      <td>16</td>\n",
       "      <td>1</td>\n",
       "    </tr>\n",
       "    <tr>\n",
       "      <th>13</th>\n",
       "      <td>2023-09-28 09:35:38</td>\n",
       "      <td>6</td>\n",
       "      <td>1</td>\n",
       "    </tr>\n",
       "    <tr>\n",
       "      <th>14</th>\n",
       "      <td>2023-09-28 09:38:36</td>\n",
       "      <td>24</td>\n",
       "      <td>1</td>\n",
       "    </tr>\n",
       "    <tr>\n",
       "      <th>15</th>\n",
       "      <td>2023-09-28 09:41:12</td>\n",
       "      <td>9</td>\n",
       "      <td>1</td>\n",
       "    </tr>\n",
       "    <tr>\n",
       "      <th>16</th>\n",
       "      <td>2023-09-28 09:48:29</td>\n",
       "      <td>16</td>\n",
       "      <td>1</td>\n",
       "    </tr>\n",
       "    <tr>\n",
       "      <th>17</th>\n",
       "      <td>2023-09-28 09:49:18</td>\n",
       "      <td>13</td>\n",
       "      <td>1</td>\n",
       "    </tr>\n",
       "    <tr>\n",
       "      <th>18</th>\n",
       "      <td>2023-09-28 09:51:09</td>\n",
       "      <td>21</td>\n",
       "      <td>1</td>\n",
       "    </tr>\n",
       "    <tr>\n",
       "      <th>19</th>\n",
       "      <td>2023-09-28 09:53:05</td>\n",
       "      <td>6</td>\n",
       "      <td>1</td>\n",
       "    </tr>\n",
       "    <tr>\n",
       "      <th>20</th>\n",
       "      <td>2023-09-28 09:54:42</td>\n",
       "      <td>10</td>\n",
       "      <td>1</td>\n",
       "    </tr>\n",
       "    <tr>\n",
       "      <th>21</th>\n",
       "      <td>2023-09-28 09:56:10</td>\n",
       "      <td>20</td>\n",
       "      <td>1</td>\n",
       "    </tr>\n",
       "    <tr>\n",
       "      <th>22</th>\n",
       "      <td>2023-09-28 09:57:34</td>\n",
       "      <td>9</td>\n",
       "      <td>1</td>\n",
       "    </tr>\n",
       "    <tr>\n",
       "      <th>23</th>\n",
       "      <td>2023-09-28 10:00:04</td>\n",
       "      <td>3</td>\n",
       "      <td>1</td>\n",
       "    </tr>\n",
       "    <tr>\n",
       "      <th>24</th>\n",
       "      <td>2023-09-28 10:02:51</td>\n",
       "      <td>14</td>\n",
       "      <td>1</td>\n",
       "    </tr>\n",
       "    <tr>\n",
       "      <th>25</th>\n",
       "      <td>2023-09-28 10:04:14</td>\n",
       "      <td>15</td>\n",
       "      <td>1</td>\n",
       "    </tr>\n",
       "    <tr>\n",
       "      <th>26</th>\n",
       "      <td>2023-09-28 10:05:46</td>\n",
       "      <td>16</td>\n",
       "      <td>5.0</td>\n",
       "    </tr>\n",
       "    <tr>\n",
       "      <th>27</th>\n",
       "      <td>2023-09-28 10:06:54</td>\n",
       "      <td>17</td>\n",
       "      <td>40.0</td>\n",
       "    </tr>\n",
       "    <tr>\n",
       "      <th>28</th>\n",
       "      <td>2023-09-28 10:08:04</td>\n",
       "      <td>19</td>\n",
       "      <td>21.0</td>\n",
       "    </tr>\n",
       "    <tr>\n",
       "      <th>29</th>\n",
       "      <td>2023-09-28 10:09:38</td>\n",
       "      <td>21</td>\n",
       "      <td>1</td>\n",
       "    </tr>\n",
       "    <tr>\n",
       "      <th>30</th>\n",
       "      <td>2023-09-28 10:12:07</td>\n",
       "      <td>6</td>\n",
       "      <td>1</td>\n",
       "    </tr>\n",
       "    <tr>\n",
       "      <th>31</th>\n",
       "      <td>2023-09-28 10:14:31</td>\n",
       "      <td>3</td>\n",
       "      <td>1</td>\n",
       "    </tr>\n",
       "    <tr>\n",
       "      <th>32</th>\n",
       "      <td>2023-09-28 10:15:39</td>\n",
       "      <td>5</td>\n",
       "      <td>1</td>\n",
       "    </tr>\n",
       "    <tr>\n",
       "      <th>33</th>\n",
       "      <td>2023-09-28 10:17:20</td>\n",
       "      <td>22</td>\n",
       "      <td>1</td>\n",
       "    </tr>\n",
       "    <tr>\n",
       "      <th>34</th>\n",
       "      <td>2023-09-28 10:18:23</td>\n",
       "      <td>14</td>\n",
       "      <td>1</td>\n",
       "    </tr>\n",
       "    <tr>\n",
       "      <th>35</th>\n",
       "      <td>2023-09-28 10:19:30</td>\n",
       "      <td>8</td>\n",
       "      <td>1</td>\n",
       "    </tr>\n",
       "    <tr>\n",
       "      <th>36</th>\n",
       "      <td>2023-09-28 10:21:54</td>\n",
       "      <td>17</td>\n",
       "      <td>1</td>\n",
       "    </tr>\n",
       "    <tr>\n",
       "      <th>37</th>\n",
       "      <td>2023-09-28 10:24:33</td>\n",
       "      <td>21</td>\n",
       "      <td>1</td>\n",
       "    </tr>\n",
       "    <tr>\n",
       "      <th>38</th>\n",
       "      <td>2023-09-28 10:28:37</td>\n",
       "      <td>3</td>\n",
       "      <td>1</td>\n",
       "    </tr>\n",
       "    <tr>\n",
       "      <th>39</th>\n",
       "      <td>2023-09-28 10:29:40</td>\n",
       "      <td>9</td>\n",
       "      <td>1</td>\n",
       "    </tr>\n",
       "    <tr>\n",
       "      <th>40</th>\n",
       "      <td>2023-09-28 10:48:07</td>\n",
       "      <td>22</td>\n",
       "      <td>1</td>\n",
       "    </tr>\n",
       "    <tr>\n",
       "      <th>41</th>\n",
       "      <td>2023-09-28 10:50:25</td>\n",
       "      <td>7</td>\n",
       "      <td>1</td>\n",
       "    </tr>\n",
       "    <tr>\n",
       "      <th>42</th>\n",
       "      <td>2023-09-28 10:51:59</td>\n",
       "      <td>15</td>\n",
       "      <td>1</td>\n",
       "    </tr>\n",
       "    <tr>\n",
       "      <th>43</th>\n",
       "      <td>2023-09-28 10:53:29</td>\n",
       "      <td>23</td>\n",
       "      <td>1</td>\n",
       "    </tr>\n",
       "    <tr>\n",
       "      <th>44</th>\n",
       "      <td>2023-09-28 10:55:00</td>\n",
       "      <td>16</td>\n",
       "      <td>1</td>\n",
       "    </tr>\n",
       "    <tr>\n",
       "      <th>45</th>\n",
       "      <td>2023-09-28 10:56:08</td>\n",
       "      <td>21</td>\n",
       "      <td>1</td>\n",
       "    </tr>\n",
       "    <tr>\n",
       "      <th>46</th>\n",
       "      <td>2023-09-28 10:57:01</td>\n",
       "      <td>19</td>\n",
       "      <td>1</td>\n",
       "    </tr>\n",
       "    <tr>\n",
       "      <th>47</th>\n",
       "      <td>2023-09-28 10:58:38</td>\n",
       "      <td>6</td>\n",
       "      <td>1</td>\n",
       "    </tr>\n",
       "    <tr>\n",
       "      <th>48</th>\n",
       "      <td>2023-09-28 11:00:11</td>\n",
       "      <td>11</td>\n",
       "      <td>1</td>\n",
       "    </tr>\n",
       "    <tr>\n",
       "      <th>49</th>\n",
       "      <td>2023-09-28 11:01:36</td>\n",
       "      <td>10</td>\n",
       "      <td>1</td>\n",
       "    </tr>\n",
       "    <tr>\n",
       "      <th>50</th>\n",
       "      <td>2023-09-28 11:02:55</td>\n",
       "      <td>3</td>\n",
       "      <td>1</td>\n",
       "    </tr>\n",
       "    <tr>\n",
       "      <th>51</th>\n",
       "      <td>2023-09-28 11:03:58</td>\n",
       "      <td>22</td>\n",
       "      <td>1</td>\n",
       "    </tr>\n",
       "    <tr>\n",
       "      <th>52</th>\n",
       "      <td>2023-09-28 11:05:09</td>\n",
       "      <td>7</td>\n",
       "      <td>1</td>\n",
       "    </tr>\n",
       "    <tr>\n",
       "      <th>53</th>\n",
       "      <td>2023-09-28 11:08:07</td>\n",
       "      <td>14</td>\n",
       "      <td>1</td>\n",
       "    </tr>\n",
       "    <tr>\n",
       "      <th>54</th>\n",
       "      <td>2023-09-28 11:09:46</td>\n",
       "      <td>8</td>\n",
       "      <td>1</td>\n",
       "    </tr>\n",
       "    <tr>\n",
       "      <th>55</th>\n",
       "      <td>2023-09-28 11:11:01</td>\n",
       "      <td>23</td>\n",
       "      <td>1</td>\n",
       "    </tr>\n",
       "    <tr>\n",
       "      <th>56</th>\n",
       "      <td>2023-09-28 11:13:39</td>\n",
       "      <td>17</td>\n",
       "      <td>1</td>\n",
       "    </tr>\n",
       "    <tr>\n",
       "      <th>57</th>\n",
       "      <td>2023-09-28 11:15:30</td>\n",
       "      <td>19</td>\n",
       "      <td>1</td>\n",
       "    </tr>\n",
       "    <tr>\n",
       "      <th>58</th>\n",
       "      <td>2023-09-28 12:46:32</td>\n",
       "      <td>10</td>\n",
       "      <td>1</td>\n",
       "    </tr>\n",
       "    <tr>\n",
       "      <th>59</th>\n",
       "      <td>2023-09-28 12:47:31</td>\n",
       "      <td>22</td>\n",
       "      <td>1</td>\n",
       "    </tr>\n",
       "    <tr>\n",
       "      <th>60</th>\n",
       "      <td>2023-09-28 12:49:36</td>\n",
       "      <td>3</td>\n",
       "      <td>1</td>\n",
       "    </tr>\n",
       "    <tr>\n",
       "      <th>61</th>\n",
       "      <td>2023-09-28 12:50:53</td>\n",
       "      <td>17</td>\n",
       "      <td>1</td>\n",
       "    </tr>\n",
       "    <tr>\n",
       "      <th>62</th>\n",
       "      <td>2023-09-28 12:53:03</td>\n",
       "      <td>19</td>\n",
       "      <td>1</td>\n",
       "    </tr>\n",
       "    <tr>\n",
       "      <th>63</th>\n",
       "      <td>2023-09-28 12:54:07</td>\n",
       "      <td>21</td>\n",
       "      <td>1</td>\n",
       "    </tr>\n",
       "    <tr>\n",
       "      <th>64</th>\n",
       "      <td>2023-09-28 12:55:13</td>\n",
       "      <td>15</td>\n",
       "      <td>1</td>\n",
       "    </tr>\n",
       "    <tr>\n",
       "      <th>65</th>\n",
       "      <td>2023-09-28 12:56:40</td>\n",
       "      <td>16</td>\n",
       "      <td>1</td>\n",
       "    </tr>\n",
       "    <tr>\n",
       "      <th>66</th>\n",
       "      <td>2023-09-28 12:58:28</td>\n",
       "      <td>6</td>\n",
       "      <td>5.0</td>\n",
       "    </tr>\n",
       "    <tr>\n",
       "      <th>67</th>\n",
       "      <td>2023-09-28 14:03:31</td>\n",
       "      <td>10</td>\n",
       "      <td>1</td>\n",
       "    </tr>\n",
       "    <tr>\n",
       "      <th>68</th>\n",
       "      <td>2023-09-28 14:07:58</td>\n",
       "      <td>20</td>\n",
       "      <td>1</td>\n",
       "    </tr>\n",
       "    <tr>\n",
       "      <th>69</th>\n",
       "      <td>2023-09-28 14:13:09</td>\n",
       "      <td>11</td>\n",
       "      <td>1</td>\n",
       "    </tr>\n",
       "    <tr>\n",
       "      <th>70</th>\n",
       "      <td>2023-09-28 14:18:36</td>\n",
       "      <td>14</td>\n",
       "      <td>1</td>\n",
       "    </tr>\n",
       "    <tr>\n",
       "      <th>71</th>\n",
       "      <td>2023-09-28 14:22:38</td>\n",
       "      <td>9</td>\n",
       "      <td>1</td>\n",
       "    </tr>\n",
       "  </tbody>\n",
       "</table>\n",
       "</div>"
      ],
      "text/plain": [
       "                     ts gabarit time_in_station\n",
       "0   2023-09-28 09:10:26      14               1\n",
       "1   2023-09-28 09:13:02      23               1\n",
       "2   2023-09-28 09:13:52      17               1\n",
       "3   2023-09-28 09:16:14      21               1\n",
       "4   2023-09-28 09:17:43       6            10.0\n",
       "5   2023-09-28 09:20:33      19            23.0\n",
       "6   2023-09-28 09:23:32       4               1\n",
       "7   2023-09-28 09:25:44       9               1\n",
       "8   2023-09-28 09:27:16       3            26.0\n",
       "9   2023-09-28 09:28:57       8               1\n",
       "10  2023-09-28 09:30:15      23               1\n",
       "11  2023-09-28 09:31:34      15               1\n",
       "12  2023-09-28 09:32:59      16               1\n",
       "13  2023-09-28 09:35:38       6               1\n",
       "14  2023-09-28 09:38:36      24               1\n",
       "15  2023-09-28 09:41:12       9               1\n",
       "16  2023-09-28 09:48:29      16               1\n",
       "17  2023-09-28 09:49:18      13               1\n",
       "18  2023-09-28 09:51:09      21               1\n",
       "19  2023-09-28 09:53:05       6               1\n",
       "20  2023-09-28 09:54:42      10               1\n",
       "21  2023-09-28 09:56:10      20               1\n",
       "22  2023-09-28 09:57:34       9               1\n",
       "23  2023-09-28 10:00:04       3               1\n",
       "24  2023-09-28 10:02:51      14               1\n",
       "25  2023-09-28 10:04:14      15               1\n",
       "26  2023-09-28 10:05:46      16             5.0\n",
       "27  2023-09-28 10:06:54      17            40.0\n",
       "28  2023-09-28 10:08:04      19            21.0\n",
       "29  2023-09-28 10:09:38      21               1\n",
       "30  2023-09-28 10:12:07       6               1\n",
       "31  2023-09-28 10:14:31       3               1\n",
       "32  2023-09-28 10:15:39       5               1\n",
       "33  2023-09-28 10:17:20      22               1\n",
       "34  2023-09-28 10:18:23      14               1\n",
       "35  2023-09-28 10:19:30       8               1\n",
       "36  2023-09-28 10:21:54      17               1\n",
       "37  2023-09-28 10:24:33      21               1\n",
       "38  2023-09-28 10:28:37       3               1\n",
       "39  2023-09-28 10:29:40       9               1\n",
       "40  2023-09-28 10:48:07      22               1\n",
       "41  2023-09-28 10:50:25       7               1\n",
       "42  2023-09-28 10:51:59      15               1\n",
       "43  2023-09-28 10:53:29      23               1\n",
       "44  2023-09-28 10:55:00      16               1\n",
       "45  2023-09-28 10:56:08      21               1\n",
       "46  2023-09-28 10:57:01      19               1\n",
       "47  2023-09-28 10:58:38       6               1\n",
       "48  2023-09-28 11:00:11      11               1\n",
       "49  2023-09-28 11:01:36      10               1\n",
       "50  2023-09-28 11:02:55       3               1\n",
       "51  2023-09-28 11:03:58      22               1\n",
       "52  2023-09-28 11:05:09       7               1\n",
       "53  2023-09-28 11:08:07      14               1\n",
       "54  2023-09-28 11:09:46       8               1\n",
       "55  2023-09-28 11:11:01      23               1\n",
       "56  2023-09-28 11:13:39      17               1\n",
       "57  2023-09-28 11:15:30      19               1\n",
       "58  2023-09-28 12:46:32      10               1\n",
       "59  2023-09-28 12:47:31      22               1\n",
       "60  2023-09-28 12:49:36       3               1\n",
       "61  2023-09-28 12:50:53      17               1\n",
       "62  2023-09-28 12:53:03      19               1\n",
       "63  2023-09-28 12:54:07      21               1\n",
       "64  2023-09-28 12:55:13      15               1\n",
       "65  2023-09-28 12:56:40      16               1\n",
       "66  2023-09-28 12:58:28       6             5.0\n",
       "67  2023-09-28 14:03:31      10               1\n",
       "68  2023-09-28 14:07:58      20               1\n",
       "69  2023-09-28 14:13:09      11               1\n",
       "70  2023-09-28 14:18:36      14               1\n",
       "71  2023-09-28 14:22:38       9               1"
      ]
     },
     "metadata": {},
     "output_type": "display_data"
    },
    {
     "data": {
      "text/html": [
       "<div>\n",
       "<style scoped>\n",
       "    .dataframe tbody tr th:only-of-type {\n",
       "        vertical-align: middle;\n",
       "    }\n",
       "\n",
       "    .dataframe tbody tr th {\n",
       "        vertical-align: top;\n",
       "    }\n",
       "\n",
       "    .dataframe thead th {\n",
       "        text-align: right;\n",
       "    }\n",
       "</style>\n",
       "<table border=\"1\" class=\"dataframe\">\n",
       "  <thead>\n",
       "    <tr style=\"text-align: right;\">\n",
       "      <th></th>\n",
       "      <th>ts</th>\n",
       "      <th>gabarit</th>\n",
       "      <th>time_in_station</th>\n",
       "    </tr>\n",
       "  </thead>\n",
       "  <tbody>\n",
       "    <tr>\n",
       "      <th>0</th>\n",
       "      <td>2023-09-28 09:07:50</td>\n",
       "      <td>11</td>\n",
       "      <td>1</td>\n",
       "    </tr>\n",
       "    <tr>\n",
       "      <th>1</th>\n",
       "      <td>2023-09-28 09:11:48</td>\n",
       "      <td>12</td>\n",
       "      <td>60.0</td>\n",
       "    </tr>\n",
       "    <tr>\n",
       "      <th>2</th>\n",
       "      <td>2023-09-28 09:13:54</td>\n",
       "      <td>17</td>\n",
       "      <td>1</td>\n",
       "    </tr>\n",
       "    <tr>\n",
       "      <th>3</th>\n",
       "      <td>2023-09-28 09:15:22</td>\n",
       "      <td>13</td>\n",
       "      <td>1</td>\n",
       "    </tr>\n",
       "    <tr>\n",
       "      <th>4</th>\n",
       "      <td>2023-09-28 09:27:20</td>\n",
       "      <td>3</td>\n",
       "      <td>1</td>\n",
       "    </tr>\n",
       "    <tr>\n",
       "      <th>5</th>\n",
       "      <td>2023-09-28 09:28:58</td>\n",
       "      <td>8</td>\n",
       "      <td>1</td>\n",
       "    </tr>\n",
       "    <tr>\n",
       "      <th>6</th>\n",
       "      <td>2023-09-28 09:31:35</td>\n",
       "      <td>15</td>\n",
       "      <td>1</td>\n",
       "    </tr>\n",
       "    <tr>\n",
       "      <th>7</th>\n",
       "      <td>2023-09-28 09:34:23</td>\n",
       "      <td>13</td>\n",
       "      <td>1</td>\n",
       "    </tr>\n",
       "    <tr>\n",
       "      <th>8</th>\n",
       "      <td>2023-09-28 09:36:58</td>\n",
       "      <td>19</td>\n",
       "      <td>1</td>\n",
       "    </tr>\n",
       "    <tr>\n",
       "      <th>9</th>\n",
       "      <td>2023-09-28 09:38:39</td>\n",
       "      <td>24</td>\n",
       "      <td>1</td>\n",
       "    </tr>\n",
       "    <tr>\n",
       "      <th>10</th>\n",
       "      <td>2023-09-28 09:40:08</td>\n",
       "      <td>2</td>\n",
       "      <td>1</td>\n",
       "    </tr>\n",
       "    <tr>\n",
       "      <th>11</th>\n",
       "      <td>2023-09-28 09:41:14</td>\n",
       "      <td>9</td>\n",
       "      <td>1</td>\n",
       "    </tr>\n",
       "    <tr>\n",
       "      <th>12</th>\n",
       "      <td>2023-09-28 09:42:26</td>\n",
       "      <td>3</td>\n",
       "      <td>1</td>\n",
       "    </tr>\n",
       "    <tr>\n",
       "      <th>13</th>\n",
       "      <td>2023-09-28 09:43:46</td>\n",
       "      <td>22</td>\n",
       "      <td>1</td>\n",
       "    </tr>\n",
       "    <tr>\n",
       "      <th>14</th>\n",
       "      <td>2023-09-28 09:47:21</td>\n",
       "      <td>12</td>\n",
       "      <td>1</td>\n",
       "    </tr>\n",
       "    <tr>\n",
       "      <th>15</th>\n",
       "      <td>2023-09-28 09:48:31</td>\n",
       "      <td>16</td>\n",
       "      <td>1</td>\n",
       "    </tr>\n",
       "    <tr>\n",
       "      <th>16</th>\n",
       "      <td>2023-09-28 09:50:33</td>\n",
       "      <td>13</td>\n",
       "      <td>1</td>\n",
       "    </tr>\n",
       "    <tr>\n",
       "      <th>17</th>\n",
       "      <td>2023-09-28 09:51:13</td>\n",
       "      <td>21</td>\n",
       "      <td>37.0</td>\n",
       "    </tr>\n",
       "    <tr>\n",
       "      <th>18</th>\n",
       "      <td>2023-09-28 09:54:53</td>\n",
       "      <td>10</td>\n",
       "      <td>1</td>\n",
       "    </tr>\n",
       "    <tr>\n",
       "      <th>19</th>\n",
       "      <td>2023-09-28 10:00:06</td>\n",
       "      <td>3</td>\n",
       "      <td>1</td>\n",
       "    </tr>\n",
       "    <tr>\n",
       "      <th>20</th>\n",
       "      <td>2023-09-28 10:01:18</td>\n",
       "      <td>22</td>\n",
       "      <td>1</td>\n",
       "    </tr>\n",
       "    <tr>\n",
       "      <th>21</th>\n",
       "      <td>2023-09-28 10:04:15</td>\n",
       "      <td>15</td>\n",
       "      <td>1</td>\n",
       "    </tr>\n",
       "    <tr>\n",
       "      <th>22</th>\n",
       "      <td>2023-09-28 10:05:51</td>\n",
       "      <td>16</td>\n",
       "      <td>1</td>\n",
       "    </tr>\n",
       "    <tr>\n",
       "      <th>23</th>\n",
       "      <td>2023-09-28 10:07:10</td>\n",
       "      <td>17</td>\n",
       "      <td>1</td>\n",
       "    </tr>\n",
       "    <tr>\n",
       "      <th>24</th>\n",
       "      <td>2023-09-28 10:08:25</td>\n",
       "      <td>19</td>\n",
       "      <td>1</td>\n",
       "    </tr>\n",
       "    <tr>\n",
       "      <th>25</th>\n",
       "      <td>2023-09-28 10:09:42</td>\n",
       "      <td>21</td>\n",
       "      <td>1</td>\n",
       "    </tr>\n",
       "    <tr>\n",
       "      <th>26</th>\n",
       "      <td>2023-09-28 10:10:57</td>\n",
       "      <td>2</td>\n",
       "      <td>1</td>\n",
       "    </tr>\n",
       "    <tr>\n",
       "      <th>27</th>\n",
       "      <td>2023-09-28 10:13:15</td>\n",
       "      <td>11</td>\n",
       "      <td>1</td>\n",
       "    </tr>\n",
       "    <tr>\n",
       "      <th>28</th>\n",
       "      <td>2023-09-28 10:14:32</td>\n",
       "      <td>3</td>\n",
       "      <td>1</td>\n",
       "    </tr>\n",
       "    <tr>\n",
       "      <th>29</th>\n",
       "      <td>2023-09-28 10:15:41</td>\n",
       "      <td>5</td>\n",
       "      <td>1</td>\n",
       "    </tr>\n",
       "    <tr>\n",
       "      <th>30</th>\n",
       "      <td>2023-09-28 10:17:22</td>\n",
       "      <td>22</td>\n",
       "      <td>1</td>\n",
       "    </tr>\n",
       "    <tr>\n",
       "      <th>31</th>\n",
       "      <td>2023-09-28 10:19:31</td>\n",
       "      <td>8</td>\n",
       "      <td>1</td>\n",
       "    </tr>\n",
       "    <tr>\n",
       "      <th>32</th>\n",
       "      <td>2023-09-28 10:21:55</td>\n",
       "      <td>17</td>\n",
       "      <td>1</td>\n",
       "    </tr>\n",
       "    <tr>\n",
       "      <th>33</th>\n",
       "      <td>2023-09-28 10:23:27</td>\n",
       "      <td>18</td>\n",
       "      <td>1</td>\n",
       "    </tr>\n",
       "    <tr>\n",
       "      <th>34</th>\n",
       "      <td>2023-09-28 10:24:34</td>\n",
       "      <td>21</td>\n",
       "      <td>1</td>\n",
       "    </tr>\n",
       "    <tr>\n",
       "      <th>35</th>\n",
       "      <td>2023-09-28 10:25:43</td>\n",
       "      <td>2</td>\n",
       "      <td>1</td>\n",
       "    </tr>\n",
       "    <tr>\n",
       "      <th>36</th>\n",
       "      <td>2023-09-28 10:27:05</td>\n",
       "      <td>11</td>\n",
       "      <td>1</td>\n",
       "    </tr>\n",
       "    <tr>\n",
       "      <th>37</th>\n",
       "      <td>2023-09-28 10:28:41</td>\n",
       "      <td>3</td>\n",
       "      <td>1</td>\n",
       "    </tr>\n",
       "    <tr>\n",
       "      <th>38</th>\n",
       "      <td>2023-09-28 10:29:42</td>\n",
       "      <td>9</td>\n",
       "      <td>1</td>\n",
       "    </tr>\n",
       "    <tr>\n",
       "      <th>39</th>\n",
       "      <td>2023-09-28 10:48:46</td>\n",
       "      <td>22</td>\n",
       "      <td>1</td>\n",
       "    </tr>\n",
       "    <tr>\n",
       "      <th>40</th>\n",
       "      <td>2023-09-28 10:53:17</td>\n",
       "      <td>15</td>\n",
       "      <td>1</td>\n",
       "    </tr>\n",
       "    <tr>\n",
       "      <th>41</th>\n",
       "      <td>2023-09-28 10:56:10</td>\n",
       "      <td>21</td>\n",
       "      <td>1</td>\n",
       "    </tr>\n",
       "    <tr>\n",
       "      <th>42</th>\n",
       "      <td>2023-09-28 11:00:16</td>\n",
       "      <td>11</td>\n",
       "      <td>1</td>\n",
       "    </tr>\n",
       "    <tr>\n",
       "      <th>43</th>\n",
       "      <td>2023-09-28 11:01:38</td>\n",
       "      <td>10</td>\n",
       "      <td>1</td>\n",
       "    </tr>\n",
       "    <tr>\n",
       "      <th>44</th>\n",
       "      <td>2023-09-28 11:03:17</td>\n",
       "      <td>3</td>\n",
       "      <td>1</td>\n",
       "    </tr>\n",
       "    <tr>\n",
       "      <th>45</th>\n",
       "      <td>2023-09-28 11:04:17</td>\n",
       "      <td>22</td>\n",
       "      <td>29.0</td>\n",
       "    </tr>\n",
       "    <tr>\n",
       "      <th>46</th>\n",
       "      <td>2023-09-28 11:07:02</td>\n",
       "      <td>5</td>\n",
       "      <td>1</td>\n",
       "    </tr>\n",
       "    <tr>\n",
       "      <th>47</th>\n",
       "      <td>2023-09-28 11:09:48</td>\n",
       "      <td>8</td>\n",
       "      <td>1</td>\n",
       "    </tr>\n",
       "    <tr>\n",
       "      <th>48</th>\n",
       "      <td>2023-09-28 11:16:28</td>\n",
       "      <td>19</td>\n",
       "      <td>1</td>\n",
       "    </tr>\n",
       "    <tr>\n",
       "      <th>49</th>\n",
       "      <td>2023-09-28 11:20:02</td>\n",
       "      <td>13</td>\n",
       "      <td>1</td>\n",
       "    </tr>\n",
       "    <tr>\n",
       "      <th>50</th>\n",
       "      <td>2023-09-28 11:28:24</td>\n",
       "      <td>17</td>\n",
       "      <td>1</td>\n",
       "    </tr>\n",
       "    <tr>\n",
       "      <th>51</th>\n",
       "      <td>2023-09-28 11:30:16</td>\n",
       "      <td>11</td>\n",
       "      <td>1</td>\n",
       "    </tr>\n",
       "    <tr>\n",
       "      <th>52</th>\n",
       "      <td>2023-09-28 11:31:39</td>\n",
       "      <td>3</td>\n",
       "      <td>1</td>\n",
       "    </tr>\n",
       "    <tr>\n",
       "      <th>53</th>\n",
       "      <td>2023-09-28 11:32:53</td>\n",
       "      <td>10</td>\n",
       "      <td>1</td>\n",
       "    </tr>\n",
       "    <tr>\n",
       "      <th>54</th>\n",
       "      <td>2023-09-28 11:46:38</td>\n",
       "      <td>15</td>\n",
       "      <td>1</td>\n",
       "    </tr>\n",
       "    <tr>\n",
       "      <th>55</th>\n",
       "      <td>2023-09-28 11:49:17</td>\n",
       "      <td>3</td>\n",
       "      <td>1</td>\n",
       "    </tr>\n",
       "    <tr>\n",
       "      <th>56</th>\n",
       "      <td>2023-09-28 11:52:53</td>\n",
       "      <td>22</td>\n",
       "      <td>1</td>\n",
       "    </tr>\n",
       "    <tr>\n",
       "      <th>57</th>\n",
       "      <td>2023-09-28 11:54:15</td>\n",
       "      <td>7</td>\n",
       "      <td>54.0</td>\n",
       "    </tr>\n",
       "    <tr>\n",
       "      <th>58</th>\n",
       "      <td>2023-09-28 11:55:57</td>\n",
       "      <td>20</td>\n",
       "      <td>1</td>\n",
       "    </tr>\n",
       "    <tr>\n",
       "      <th>59</th>\n",
       "      <td>2023-09-28 11:57:51</td>\n",
       "      <td>4</td>\n",
       "      <td>1</td>\n",
       "    </tr>\n",
       "    <tr>\n",
       "      <th>60</th>\n",
       "      <td>2023-09-28 11:59:57</td>\n",
       "      <td>11</td>\n",
       "      <td>1</td>\n",
       "    </tr>\n",
       "    <tr>\n",
       "      <th>61</th>\n",
       "      <td>2023-09-28 12:04:10</td>\n",
       "      <td>10</td>\n",
       "      <td>1</td>\n",
       "    </tr>\n",
       "    <tr>\n",
       "      <th>62</th>\n",
       "      <td>2023-09-28 12:05:19</td>\n",
       "      <td>3</td>\n",
       "      <td>1</td>\n",
       "    </tr>\n",
       "    <tr>\n",
       "      <th>63</th>\n",
       "      <td>2023-09-28 12:09:38</td>\n",
       "      <td>14</td>\n",
       "      <td>1</td>\n",
       "    </tr>\n",
       "    <tr>\n",
       "      <th>64</th>\n",
       "      <td>2023-09-28 12:10:42</td>\n",
       "      <td>20</td>\n",
       "      <td>1</td>\n",
       "    </tr>\n",
       "    <tr>\n",
       "      <th>65</th>\n",
       "      <td>2023-09-28 12:13:23</td>\n",
       "      <td>19</td>\n",
       "      <td>1</td>\n",
       "    </tr>\n",
       "    <tr>\n",
       "      <th>66</th>\n",
       "      <td>2023-09-28 12:15:33</td>\n",
       "      <td>8</td>\n",
       "      <td>1</td>\n",
       "    </tr>\n",
       "    <tr>\n",
       "      <th>67</th>\n",
       "      <td>2023-09-28 12:15:35</td>\n",
       "      <td>15</td>\n",
       "      <td>1</td>\n",
       "    </tr>\n",
       "    <tr>\n",
       "      <th>68</th>\n",
       "      <td>2023-09-28 12:16:33</td>\n",
       "      <td>16</td>\n",
       "      <td>14.0</td>\n",
       "    </tr>\n",
       "    <tr>\n",
       "      <th>69</th>\n",
       "      <td>2023-09-28 12:23:42</td>\n",
       "      <td>17</td>\n",
       "      <td>1</td>\n",
       "    </tr>\n",
       "    <tr>\n",
       "      <th>70</th>\n",
       "      <td>2023-09-28 12:24:50</td>\n",
       "      <td>4</td>\n",
       "      <td>1</td>\n",
       "    </tr>\n",
       "    <tr>\n",
       "      <th>71</th>\n",
       "      <td>2023-09-28 12:27:04</td>\n",
       "      <td>21</td>\n",
       "      <td>1</td>\n",
       "    </tr>\n",
       "    <tr>\n",
       "      <th>72</th>\n",
       "      <td>2023-09-28 12:29:51</td>\n",
       "      <td>8</td>\n",
       "      <td>1</td>\n",
       "    </tr>\n",
       "    <tr>\n",
       "      <th>73</th>\n",
       "      <td>2023-09-28 12:32:25</td>\n",
       "      <td>10</td>\n",
       "      <td>1</td>\n",
       "    </tr>\n",
       "    <tr>\n",
       "      <th>74</th>\n",
       "      <td>2023-09-28 12:33:32</td>\n",
       "      <td>22</td>\n",
       "      <td>1</td>\n",
       "    </tr>\n",
       "    <tr>\n",
       "      <th>75</th>\n",
       "      <td>2023-09-28 12:34:41</td>\n",
       "      <td>3</td>\n",
       "      <td>1</td>\n",
       "    </tr>\n",
       "    <tr>\n",
       "      <th>76</th>\n",
       "      <td>2023-09-28 12:37:24</td>\n",
       "      <td>9</td>\n",
       "      <td>1</td>\n",
       "    </tr>\n",
       "    <tr>\n",
       "      <th>77</th>\n",
       "      <td>2023-09-28 12:40:21</td>\n",
       "      <td>15</td>\n",
       "      <td>62.0</td>\n",
       "    </tr>\n",
       "    <tr>\n",
       "      <th>78</th>\n",
       "      <td>2023-09-28 12:42:38</td>\n",
       "      <td>16</td>\n",
       "      <td>1</td>\n",
       "    </tr>\n",
       "    <tr>\n",
       "      <th>79</th>\n",
       "      <td>2023-09-28 12:43:28</td>\n",
       "      <td>11</td>\n",
       "      <td>1</td>\n",
       "    </tr>\n",
       "    <tr>\n",
       "      <th>80</th>\n",
       "      <td>2023-09-28 12:44:43</td>\n",
       "      <td>8</td>\n",
       "      <td>17.0</td>\n",
       "    </tr>\n",
       "    <tr>\n",
       "      <th>81</th>\n",
       "      <td>2023-09-28 12:45:49</td>\n",
       "      <td>6</td>\n",
       "      <td>1</td>\n",
       "    </tr>\n",
       "    <tr>\n",
       "      <th>82</th>\n",
       "      <td>2023-09-28 12:46:34</td>\n",
       "      <td>10</td>\n",
       "      <td>18.0</td>\n",
       "    </tr>\n",
       "    <tr>\n",
       "      <th>83</th>\n",
       "      <td>2023-09-28 12:50:31</td>\n",
       "      <td>3</td>\n",
       "      <td>6.0</td>\n",
       "    </tr>\n",
       "    <tr>\n",
       "      <th>84</th>\n",
       "      <td>2023-09-28 12:53:15</td>\n",
       "      <td>19</td>\n",
       "      <td>2.0</td>\n",
       "    </tr>\n",
       "    <tr>\n",
       "      <th>85</th>\n",
       "      <td>2023-09-28 12:55:18</td>\n",
       "      <td>21</td>\n",
       "      <td>1</td>\n",
       "    </tr>\n",
       "    <tr>\n",
       "      <th>86</th>\n",
       "      <td>2023-09-28 12:55:59</td>\n",
       "      <td>15</td>\n",
       "      <td>1</td>\n",
       "    </tr>\n",
       "    <tr>\n",
       "      <th>87</th>\n",
       "      <td>2023-09-28 14:01:57</td>\n",
       "      <td>18</td>\n",
       "      <td>1</td>\n",
       "    </tr>\n",
       "    <tr>\n",
       "      <th>88</th>\n",
       "      <td>2023-09-28 14:05:55</td>\n",
       "      <td>22</td>\n",
       "      <td>1</td>\n",
       "    </tr>\n",
       "    <tr>\n",
       "      <th>89</th>\n",
       "      <td>2023-09-28 14:06:36</td>\n",
       "      <td>12</td>\n",
       "      <td>1</td>\n",
       "    </tr>\n",
       "    <tr>\n",
       "      <th>90</th>\n",
       "      <td>2023-09-28 14:09:30</td>\n",
       "      <td>19</td>\n",
       "      <td>1</td>\n",
       "    </tr>\n",
       "    <tr>\n",
       "      <th>91</th>\n",
       "      <td>2023-09-28 14:10:58</td>\n",
       "      <td>17</td>\n",
       "      <td>1</td>\n",
       "    </tr>\n",
       "    <tr>\n",
       "      <th>92</th>\n",
       "      <td>2023-09-28 14:14:35</td>\n",
       "      <td>11</td>\n",
       "      <td>1</td>\n",
       "    </tr>\n",
       "    <tr>\n",
       "      <th>93</th>\n",
       "      <td>2023-09-28 14:17:41</td>\n",
       "      <td>15</td>\n",
       "      <td>1</td>\n",
       "    </tr>\n",
       "    <tr>\n",
       "      <th>94</th>\n",
       "      <td>2023-09-28 14:20:33</td>\n",
       "      <td>18</td>\n",
       "      <td>1</td>\n",
       "    </tr>\n",
       "    <tr>\n",
       "      <th>95</th>\n",
       "      <td>2023-09-28 14:21:26</td>\n",
       "      <td>10</td>\n",
       "      <td>1</td>\n",
       "    </tr>\n",
       "    <tr>\n",
       "      <th>96</th>\n",
       "      <td>2023-09-28 14:22:33</td>\n",
       "      <td>9</td>\n",
       "      <td>1</td>\n",
       "    </tr>\n",
       "    <tr>\n",
       "      <th>97</th>\n",
       "      <td>2023-09-28 14:26:49</td>\n",
       "      <td>13</td>\n",
       "      <td>1</td>\n",
       "    </tr>\n",
       "    <tr>\n",
       "      <th>98</th>\n",
       "      <td>2023-09-28 14:32:23</td>\n",
       "      <td>3</td>\n",
       "      <td>1</td>\n",
       "    </tr>\n",
       "    <tr>\n",
       "      <th>99</th>\n",
       "      <td>2023-09-28 14:36:28</td>\n",
       "      <td>11</td>\n",
       "      <td>17.0</td>\n",
       "    </tr>\n",
       "    <tr>\n",
       "      <th>100</th>\n",
       "      <td>2023-09-28 14:39:57</td>\n",
       "      <td>18</td>\n",
       "      <td>1</td>\n",
       "    </tr>\n",
       "    <tr>\n",
       "      <th>101</th>\n",
       "      <td>2023-09-28 14:41:10</td>\n",
       "      <td>9</td>\n",
       "      <td>1</td>\n",
       "    </tr>\n",
       "  </tbody>\n",
       "</table>\n",
       "</div>"
      ],
      "text/plain": [
       "                      ts gabarit time_in_station\n",
       "0    2023-09-28 09:07:50      11               1\n",
       "1    2023-09-28 09:11:48      12            60.0\n",
       "2    2023-09-28 09:13:54      17               1\n",
       "3    2023-09-28 09:15:22      13               1\n",
       "4    2023-09-28 09:27:20       3               1\n",
       "5    2023-09-28 09:28:58       8               1\n",
       "6    2023-09-28 09:31:35      15               1\n",
       "7    2023-09-28 09:34:23      13               1\n",
       "8    2023-09-28 09:36:58      19               1\n",
       "9    2023-09-28 09:38:39      24               1\n",
       "10   2023-09-28 09:40:08       2               1\n",
       "11   2023-09-28 09:41:14       9               1\n",
       "12   2023-09-28 09:42:26       3               1\n",
       "13   2023-09-28 09:43:46      22               1\n",
       "14   2023-09-28 09:47:21      12               1\n",
       "15   2023-09-28 09:48:31      16               1\n",
       "16   2023-09-28 09:50:33      13               1\n",
       "17   2023-09-28 09:51:13      21            37.0\n",
       "18   2023-09-28 09:54:53      10               1\n",
       "19   2023-09-28 10:00:06       3               1\n",
       "20   2023-09-28 10:01:18      22               1\n",
       "21   2023-09-28 10:04:15      15               1\n",
       "22   2023-09-28 10:05:51      16               1\n",
       "23   2023-09-28 10:07:10      17               1\n",
       "24   2023-09-28 10:08:25      19               1\n",
       "25   2023-09-28 10:09:42      21               1\n",
       "26   2023-09-28 10:10:57       2               1\n",
       "27   2023-09-28 10:13:15      11               1\n",
       "28   2023-09-28 10:14:32       3               1\n",
       "29   2023-09-28 10:15:41       5               1\n",
       "30   2023-09-28 10:17:22      22               1\n",
       "31   2023-09-28 10:19:31       8               1\n",
       "32   2023-09-28 10:21:55      17               1\n",
       "33   2023-09-28 10:23:27      18               1\n",
       "34   2023-09-28 10:24:34      21               1\n",
       "35   2023-09-28 10:25:43       2               1\n",
       "36   2023-09-28 10:27:05      11               1\n",
       "37   2023-09-28 10:28:41       3               1\n",
       "38   2023-09-28 10:29:42       9               1\n",
       "39   2023-09-28 10:48:46      22               1\n",
       "40   2023-09-28 10:53:17      15               1\n",
       "41   2023-09-28 10:56:10      21               1\n",
       "42   2023-09-28 11:00:16      11               1\n",
       "43   2023-09-28 11:01:38      10               1\n",
       "44   2023-09-28 11:03:17       3               1\n",
       "45   2023-09-28 11:04:17      22            29.0\n",
       "46   2023-09-28 11:07:02       5               1\n",
       "47   2023-09-28 11:09:48       8               1\n",
       "48   2023-09-28 11:16:28      19               1\n",
       "49   2023-09-28 11:20:02      13               1\n",
       "50   2023-09-28 11:28:24      17               1\n",
       "51   2023-09-28 11:30:16      11               1\n",
       "52   2023-09-28 11:31:39       3               1\n",
       "53   2023-09-28 11:32:53      10               1\n",
       "54   2023-09-28 11:46:38      15               1\n",
       "55   2023-09-28 11:49:17       3               1\n",
       "56   2023-09-28 11:52:53      22               1\n",
       "57   2023-09-28 11:54:15       7            54.0\n",
       "58   2023-09-28 11:55:57      20               1\n",
       "59   2023-09-28 11:57:51       4               1\n",
       "60   2023-09-28 11:59:57      11               1\n",
       "61   2023-09-28 12:04:10      10               1\n",
       "62   2023-09-28 12:05:19       3               1\n",
       "63   2023-09-28 12:09:38      14               1\n",
       "64   2023-09-28 12:10:42      20               1\n",
       "65   2023-09-28 12:13:23      19               1\n",
       "66   2023-09-28 12:15:33       8               1\n",
       "67   2023-09-28 12:15:35      15               1\n",
       "68   2023-09-28 12:16:33      16            14.0\n",
       "69   2023-09-28 12:23:42      17               1\n",
       "70   2023-09-28 12:24:50       4               1\n",
       "71   2023-09-28 12:27:04      21               1\n",
       "72   2023-09-28 12:29:51       8               1\n",
       "73   2023-09-28 12:32:25      10               1\n",
       "74   2023-09-28 12:33:32      22               1\n",
       "75   2023-09-28 12:34:41       3               1\n",
       "76   2023-09-28 12:37:24       9               1\n",
       "77   2023-09-28 12:40:21      15            62.0\n",
       "78   2023-09-28 12:42:38      16               1\n",
       "79   2023-09-28 12:43:28      11               1\n",
       "80   2023-09-28 12:44:43       8            17.0\n",
       "81   2023-09-28 12:45:49       6               1\n",
       "82   2023-09-28 12:46:34      10            18.0\n",
       "83   2023-09-28 12:50:31       3             6.0\n",
       "84   2023-09-28 12:53:15      19             2.0\n",
       "85   2023-09-28 12:55:18      21               1\n",
       "86   2023-09-28 12:55:59      15               1\n",
       "87   2023-09-28 14:01:57      18               1\n",
       "88   2023-09-28 14:05:55      22               1\n",
       "89   2023-09-28 14:06:36      12               1\n",
       "90   2023-09-28 14:09:30      19               1\n",
       "91   2023-09-28 14:10:58      17               1\n",
       "92   2023-09-28 14:14:35      11               1\n",
       "93   2023-09-28 14:17:41      15               1\n",
       "94   2023-09-28 14:20:33      18               1\n",
       "95   2023-09-28 14:21:26      10               1\n",
       "96   2023-09-28 14:22:33       9               1\n",
       "97   2023-09-28 14:26:49      13               1\n",
       "98   2023-09-28 14:32:23       3               1\n",
       "99   2023-09-28 14:36:28      11            17.0\n",
       "100  2023-09-28 14:39:57      18               1\n",
       "101  2023-09-28 14:41:10       9               1"
      ]
     },
     "metadata": {},
     "output_type": "display_data"
    },
    {
     "data": {
      "text/html": [
       "<div>\n",
       "<style scoped>\n",
       "    .dataframe tbody tr th:only-of-type {\n",
       "        vertical-align: middle;\n",
       "    }\n",
       "\n",
       "    .dataframe tbody tr th {\n",
       "        vertical-align: top;\n",
       "    }\n",
       "\n",
       "    .dataframe thead th {\n",
       "        text-align: right;\n",
       "    }\n",
       "</style>\n",
       "<table border=\"1\" class=\"dataframe\">\n",
       "  <thead>\n",
       "    <tr style=\"text-align: right;\">\n",
       "      <th></th>\n",
       "      <th>ts</th>\n",
       "      <th>gabarit</th>\n",
       "      <th>time_in_station</th>\n",
       "    </tr>\n",
       "  </thead>\n",
       "  <tbody>\n",
       "    <tr>\n",
       "      <th>0</th>\n",
       "      <td>2023-09-28 09:07:33</td>\n",
       "      <td>24</td>\n",
       "      <td>19.0</td>\n",
       "    </tr>\n",
       "    <tr>\n",
       "      <th>1</th>\n",
       "      <td>2023-09-28 09:08:04</td>\n",
       "      <td>19</td>\n",
       "      <td>36.0</td>\n",
       "    </tr>\n",
       "    <tr>\n",
       "      <th>2</th>\n",
       "      <td>2023-09-28 09:12:38</td>\n",
       "      <td>22</td>\n",
       "      <td>53.0</td>\n",
       "    </tr>\n",
       "    <tr>\n",
       "      <th>3</th>\n",
       "      <td>2023-09-28 09:16:29</td>\n",
       "      <td>12</td>\n",
       "      <td>1</td>\n",
       "    </tr>\n",
       "    <tr>\n",
       "      <th>4</th>\n",
       "      <td>2023-09-28 09:18:20</td>\n",
       "      <td>23</td>\n",
       "      <td>1</td>\n",
       "    </tr>\n",
       "    <tr>\n",
       "      <th>5</th>\n",
       "      <td>2023-09-28 09:20:14</td>\n",
       "      <td>17</td>\n",
       "      <td>9.0</td>\n",
       "    </tr>\n",
       "    <tr>\n",
       "      <th>6</th>\n",
       "      <td>2023-09-28 09:31:18</td>\n",
       "      <td>9</td>\n",
       "      <td>1</td>\n",
       "    </tr>\n",
       "    <tr>\n",
       "      <th>7</th>\n",
       "      <td>2023-09-28 09:32:00</td>\n",
       "      <td>3</td>\n",
       "      <td>8.0</td>\n",
       "    </tr>\n",
       "    <tr>\n",
       "      <th>8</th>\n",
       "      <td>2023-09-28 09:32:59</td>\n",
       "      <td>8</td>\n",
       "      <td>1</td>\n",
       "    </tr>\n",
       "    <tr>\n",
       "      <th>9</th>\n",
       "      <td>2023-09-28 09:35:53</td>\n",
       "      <td>15</td>\n",
       "      <td>13.0</td>\n",
       "    </tr>\n",
       "    <tr>\n",
       "      <th>10</th>\n",
       "      <td>2023-09-28 09:37:41</td>\n",
       "      <td>16</td>\n",
       "      <td>91.0</td>\n",
       "    </tr>\n",
       "    <tr>\n",
       "      <th>11</th>\n",
       "      <td>2023-09-28 09:42:39</td>\n",
       "      <td>19</td>\n",
       "      <td>3.0</td>\n",
       "    </tr>\n",
       "    <tr>\n",
       "      <th>12</th>\n",
       "      <td>2023-09-28 09:43:29</td>\n",
       "      <td>24</td>\n",
       "      <td>1</td>\n",
       "    </tr>\n",
       "    <tr>\n",
       "      <th>13</th>\n",
       "      <td>2023-09-28 09:45:35</td>\n",
       "      <td>9</td>\n",
       "      <td>3.0</td>\n",
       "    </tr>\n",
       "    <tr>\n",
       "      <th>14</th>\n",
       "      <td>2023-09-28 09:48:24</td>\n",
       "      <td>3</td>\n",
       "      <td>1</td>\n",
       "    </tr>\n",
       "    <tr>\n",
       "      <th>15</th>\n",
       "      <td>2023-09-28 09:49:29</td>\n",
       "      <td>22</td>\n",
       "      <td>73.0</td>\n",
       "    </tr>\n",
       "    <tr>\n",
       "      <th>16</th>\n",
       "      <td>2023-09-28 09:52:12</td>\n",
       "      <td>15</td>\n",
       "      <td>1</td>\n",
       "    </tr>\n",
       "    <tr>\n",
       "      <th>17</th>\n",
       "      <td>2023-09-28 09:53:56</td>\n",
       "      <td>16</td>\n",
       "      <td>41.0</td>\n",
       "    </tr>\n",
       "    <tr>\n",
       "      <th>18</th>\n",
       "      <td>2023-09-28 09:57:48</td>\n",
       "      <td>21</td>\n",
       "      <td>1</td>\n",
       "    </tr>\n",
       "    <tr>\n",
       "      <th>19</th>\n",
       "      <td>2023-09-28 10:00:00</td>\n",
       "      <td>10</td>\n",
       "      <td>45.0</td>\n",
       "    </tr>\n",
       "    <tr>\n",
       "      <th>20</th>\n",
       "      <td>2023-09-28 10:03:25</td>\n",
       "      <td>9</td>\n",
       "      <td>1</td>\n",
       "    </tr>\n",
       "    <tr>\n",
       "      <th>21</th>\n",
       "      <td>2023-09-28 10:04:50</td>\n",
       "      <td>3</td>\n",
       "      <td>1</td>\n",
       "    </tr>\n",
       "    <tr>\n",
       "      <th>22</th>\n",
       "      <td>2023-09-28 10:05:29</td>\n",
       "      <td>22</td>\n",
       "      <td>1</td>\n",
       "    </tr>\n",
       "    <tr>\n",
       "      <th>23</th>\n",
       "      <td>2023-09-28 10:07:04</td>\n",
       "      <td>15</td>\n",
       "      <td>5.0</td>\n",
       "    </tr>\n",
       "    <tr>\n",
       "      <th>24</th>\n",
       "      <td>2023-09-28 10:07:57</td>\n",
       "      <td>16</td>\n",
       "      <td>1</td>\n",
       "    </tr>\n",
       "    <tr>\n",
       "      <th>25</th>\n",
       "      <td>2023-09-28 10:09:32</td>\n",
       "      <td>17</td>\n",
       "      <td>32.0</td>\n",
       "    </tr>\n",
       "    <tr>\n",
       "      <th>26</th>\n",
       "      <td>2023-09-28 10:11:01</td>\n",
       "      <td>19</td>\n",
       "      <td>48.0</td>\n",
       "    </tr>\n",
       "    <tr>\n",
       "      <th>27</th>\n",
       "      <td>2023-09-28 10:16:58</td>\n",
       "      <td>3</td>\n",
       "      <td>5.0</td>\n",
       "    </tr>\n",
       "    <tr>\n",
       "      <th>28</th>\n",
       "      <td>2023-09-28 10:18:40</td>\n",
       "      <td>5</td>\n",
       "      <td>41.0</td>\n",
       "    </tr>\n",
       "    <tr>\n",
       "      <th>29</th>\n",
       "      <td>2023-09-28 10:19:55</td>\n",
       "      <td>22</td>\n",
       "      <td>1</td>\n",
       "    </tr>\n",
       "    <tr>\n",
       "      <th>30</th>\n",
       "      <td>2023-09-28 10:22:51</td>\n",
       "      <td>8</td>\n",
       "      <td>3.0</td>\n",
       "    </tr>\n",
       "    <tr>\n",
       "      <th>31</th>\n",
       "      <td>2023-09-28 10:25:35</td>\n",
       "      <td>17</td>\n",
       "      <td>1</td>\n",
       "    </tr>\n",
       "    <tr>\n",
       "      <th>32</th>\n",
       "      <td>2023-09-28 10:49:36</td>\n",
       "      <td>3</td>\n",
       "      <td>79.0</td>\n",
       "    </tr>\n",
       "    <tr>\n",
       "      <th>33</th>\n",
       "      <td>2023-09-28 10:51:04</td>\n",
       "      <td>9</td>\n",
       "      <td>41.0</td>\n",
       "    </tr>\n",
       "    <tr>\n",
       "      <th>34</th>\n",
       "      <td>2023-09-28 10:52:18</td>\n",
       "      <td>22</td>\n",
       "      <td>1</td>\n",
       "    </tr>\n",
       "    <tr>\n",
       "      <th>35</th>\n",
       "      <td>2023-09-28 10:54:59</td>\n",
       "      <td>15</td>\n",
       "      <td>5.0</td>\n",
       "    </tr>\n",
       "    <tr>\n",
       "      <th>36</th>\n",
       "      <td>2023-09-28 10:57:23</td>\n",
       "      <td>16</td>\n",
       "      <td>11.0</td>\n",
       "    </tr>\n",
       "    <tr>\n",
       "      <th>37</th>\n",
       "      <td>2023-09-28 11:03:00</td>\n",
       "      <td>19</td>\n",
       "      <td>9.0</td>\n",
       "    </tr>\n",
       "    <tr>\n",
       "      <th>38</th>\n",
       "      <td>2023-09-28 11:06:26</td>\n",
       "      <td>10</td>\n",
       "      <td>1</td>\n",
       "    </tr>\n",
       "    <tr>\n",
       "      <th>39</th>\n",
       "      <td>2023-09-28 11:07:47</td>\n",
       "      <td>3</td>\n",
       "      <td>38.0</td>\n",
       "    </tr>\n",
       "    <tr>\n",
       "      <th>40</th>\n",
       "      <td>2023-09-28 11:09:07</td>\n",
       "      <td>22</td>\n",
       "      <td>1</td>\n",
       "    </tr>\n",
       "    <tr>\n",
       "      <th>41</th>\n",
       "      <td>2023-09-28 11:09:49</td>\n",
       "      <td>7</td>\n",
       "      <td>1</td>\n",
       "    </tr>\n",
       "    <tr>\n",
       "      <th>42</th>\n",
       "      <td>2023-09-28 11:10:56</td>\n",
       "      <td>5</td>\n",
       "      <td>86.0</td>\n",
       "    </tr>\n",
       "    <tr>\n",
       "      <th>43</th>\n",
       "      <td>2023-09-28 11:17:45</td>\n",
       "      <td>17</td>\n",
       "      <td>11.0</td>\n",
       "    </tr>\n",
       "    <tr>\n",
       "      <th>44</th>\n",
       "      <td>2023-09-28 11:18:42</td>\n",
       "      <td>19</td>\n",
       "      <td>1</td>\n",
       "    </tr>\n",
       "    <tr>\n",
       "      <th>45</th>\n",
       "      <td>2023-09-28 11:20:14</td>\n",
       "      <td>3</td>\n",
       "      <td>1</td>\n",
       "    </tr>\n",
       "    <tr>\n",
       "      <th>46</th>\n",
       "      <td>2023-09-28 11:21:58</td>\n",
       "      <td>22</td>\n",
       "      <td>29.0</td>\n",
       "    </tr>\n",
       "    <tr>\n",
       "      <th>47</th>\n",
       "      <td>2023-09-28 11:26:49</td>\n",
       "      <td>9</td>\n",
       "      <td>79.0</td>\n",
       "    </tr>\n",
       "    <tr>\n",
       "      <th>48</th>\n",
       "      <td>2023-09-28 11:30:58</td>\n",
       "      <td>17</td>\n",
       "      <td>1</td>\n",
       "    </tr>\n",
       "    <tr>\n",
       "      <th>49</th>\n",
       "      <td>2023-09-28 11:35:06</td>\n",
       "      <td>3</td>\n",
       "      <td>1</td>\n",
       "    </tr>\n",
       "    <tr>\n",
       "      <th>50</th>\n",
       "      <td>2023-09-28 11:49:53</td>\n",
       "      <td>15</td>\n",
       "      <td>3.0</td>\n",
       "    </tr>\n",
       "    <tr>\n",
       "      <th>51</th>\n",
       "      <td>2023-09-28 11:50:47</td>\n",
       "      <td>16</td>\n",
       "      <td>1</td>\n",
       "    </tr>\n",
       "    <tr>\n",
       "      <th>52</th>\n",
       "      <td>2023-09-28 11:52:58</td>\n",
       "      <td>3</td>\n",
       "      <td>8.0</td>\n",
       "    </tr>\n",
       "    <tr>\n",
       "      <th>53</th>\n",
       "      <td>2023-09-28 11:55:42</td>\n",
       "      <td>22</td>\n",
       "      <td>39.0</td>\n",
       "    </tr>\n",
       "    <tr>\n",
       "      <th>54</th>\n",
       "      <td>2023-09-28 11:57:26</td>\n",
       "      <td>5</td>\n",
       "      <td>1</td>\n",
       "    </tr>\n",
       "    <tr>\n",
       "      <th>55</th>\n",
       "      <td>2023-09-28 12:01:32</td>\n",
       "      <td>19</td>\n",
       "      <td>1</td>\n",
       "    </tr>\n",
       "    <tr>\n",
       "      <th>56</th>\n",
       "      <td>2023-09-28 12:07:10</td>\n",
       "      <td>10</td>\n",
       "      <td>1</td>\n",
       "    </tr>\n",
       "    <tr>\n",
       "      <th>57</th>\n",
       "      <td>2023-09-28 12:09:23</td>\n",
       "      <td>3</td>\n",
       "      <td>94.0</td>\n",
       "    </tr>\n",
       "    <tr>\n",
       "      <th>58</th>\n",
       "      <td>2023-09-28 12:12:32</td>\n",
       "      <td>5</td>\n",
       "      <td>3.0</td>\n",
       "    </tr>\n",
       "    <tr>\n",
       "      <th>59</th>\n",
       "      <td>2023-09-28 12:16:27</td>\n",
       "      <td>19</td>\n",
       "      <td>1</td>\n",
       "    </tr>\n",
       "    <tr>\n",
       "      <th>60</th>\n",
       "      <td>2023-09-28 12:18:54</td>\n",
       "      <td>15</td>\n",
       "      <td>11.0</td>\n",
       "    </tr>\n",
       "    <tr>\n",
       "      <th>61</th>\n",
       "      <td>2023-09-28 12:20:09</td>\n",
       "      <td>16</td>\n",
       "      <td>1</td>\n",
       "    </tr>\n",
       "    <tr>\n",
       "      <th>62</th>\n",
       "      <td>2023-09-28 12:20:42</td>\n",
       "      <td>10</td>\n",
       "      <td>30.0</td>\n",
       "    </tr>\n",
       "    <tr>\n",
       "      <th>63</th>\n",
       "      <td>2023-09-28 12:22:35</td>\n",
       "      <td>22</td>\n",
       "      <td>33.0</td>\n",
       "    </tr>\n",
       "    <tr>\n",
       "      <th>64</th>\n",
       "      <td>2023-09-28 12:23:46</td>\n",
       "      <td>3</td>\n",
       "      <td>1</td>\n",
       "    </tr>\n",
       "    <tr>\n",
       "      <th>65</th>\n",
       "      <td>2023-09-28 12:25:58</td>\n",
       "      <td>9</td>\n",
       "      <td>1</td>\n",
       "    </tr>\n",
       "    <tr>\n",
       "      <th>66</th>\n",
       "      <td>2023-09-28 12:27:34</td>\n",
       "      <td>17</td>\n",
       "      <td>15.0</td>\n",
       "    </tr>\n",
       "    <tr>\n",
       "      <th>67</th>\n",
       "      <td>2023-09-28 12:32:15</td>\n",
       "      <td>11</td>\n",
       "      <td>6.0</td>\n",
       "    </tr>\n",
       "    <tr>\n",
       "      <th>68</th>\n",
       "      <td>2023-09-28 12:34:25</td>\n",
       "      <td>10</td>\n",
       "      <td>1</td>\n",
       "    </tr>\n",
       "    <tr>\n",
       "      <th>69</th>\n",
       "      <td>2023-09-28 12:35:48</td>\n",
       "      <td>22</td>\n",
       "      <td>1</td>\n",
       "    </tr>\n",
       "    <tr>\n",
       "      <th>70</th>\n",
       "      <td>2023-09-28 12:37:41</td>\n",
       "      <td>3</td>\n",
       "      <td>56.0</td>\n",
       "    </tr>\n",
       "    <tr>\n",
       "      <th>71</th>\n",
       "      <td>2023-09-28 12:39:44</td>\n",
       "      <td>9</td>\n",
       "      <td>127.0</td>\n",
       "    </tr>\n",
       "    <tr>\n",
       "      <th>72</th>\n",
       "      <td>2023-09-28 12:44:11</td>\n",
       "      <td>5</td>\n",
       "      <td>1</td>\n",
       "    </tr>\n",
       "    <tr>\n",
       "      <th>73</th>\n",
       "      <td>2023-09-28 12:45:10</td>\n",
       "      <td>15</td>\n",
       "      <td>1</td>\n",
       "    </tr>\n",
       "    <tr>\n",
       "      <th>74</th>\n",
       "      <td>2023-09-28 12:45:55</td>\n",
       "      <td>16</td>\n",
       "      <td>1</td>\n",
       "    </tr>\n",
       "    <tr>\n",
       "      <th>75</th>\n",
       "      <td>2023-09-28 12:48:16</td>\n",
       "      <td>8</td>\n",
       "      <td>1</td>\n",
       "    </tr>\n",
       "    <tr>\n",
       "      <th>76</th>\n",
       "      <td>2023-09-28 12:50:39</td>\n",
       "      <td>10</td>\n",
       "      <td>1</td>\n",
       "    </tr>\n",
       "    <tr>\n",
       "      <th>77</th>\n",
       "      <td>2023-09-28 12:51:31</td>\n",
       "      <td>22</td>\n",
       "      <td>1</td>\n",
       "    </tr>\n",
       "    <tr>\n",
       "      <th>78</th>\n",
       "      <td>2023-09-28 12:53:33</td>\n",
       "      <td>3</td>\n",
       "      <td>5.0</td>\n",
       "    </tr>\n",
       "    <tr>\n",
       "      <th>79</th>\n",
       "      <td>2023-09-28 12:54:20</td>\n",
       "      <td>17</td>\n",
       "      <td>1</td>\n",
       "    </tr>\n",
       "    <tr>\n",
       "      <th>80</th>\n",
       "      <td>2023-09-28 12:55:27</td>\n",
       "      <td>9</td>\n",
       "      <td>1</td>\n",
       "    </tr>\n",
       "    <tr>\n",
       "      <th>81</th>\n",
       "      <td>2023-09-28 12:57:09</td>\n",
       "      <td>19</td>\n",
       "      <td>1</td>\n",
       "    </tr>\n",
       "    <tr>\n",
       "      <th>82</th>\n",
       "      <td>2023-09-28 14:02:38</td>\n",
       "      <td>15</td>\n",
       "      <td>1</td>\n",
       "    </tr>\n",
       "    <tr>\n",
       "      <th>83</th>\n",
       "      <td>2023-09-28 14:03:35</td>\n",
       "      <td>16</td>\n",
       "      <td>1</td>\n",
       "    </tr>\n",
       "    <tr>\n",
       "      <th>84</th>\n",
       "      <td>2023-09-28 14:08:17</td>\n",
       "      <td>10</td>\n",
       "      <td>1</td>\n",
       "    </tr>\n",
       "    <tr>\n",
       "      <th>85</th>\n",
       "      <td>2023-09-28 14:09:17</td>\n",
       "      <td>22</td>\n",
       "      <td>54.0</td>\n",
       "    </tr>\n",
       "    <tr>\n",
       "      <th>86</th>\n",
       "      <td>2023-09-28 14:14:28</td>\n",
       "      <td>19</td>\n",
       "      <td>11.0</td>\n",
       "    </tr>\n",
       "    <tr>\n",
       "      <th>87</th>\n",
       "      <td>2023-09-28 14:17:29</td>\n",
       "      <td>17</td>\n",
       "      <td>3.0</td>\n",
       "    </tr>\n",
       "    <tr>\n",
       "      <th>88</th>\n",
       "      <td>2023-09-28 14:25:56</td>\n",
       "      <td>10</td>\n",
       "      <td>1</td>\n",
       "    </tr>\n",
       "    <tr>\n",
       "      <th>89</th>\n",
       "      <td>2023-09-28 14:27:16</td>\n",
       "      <td>9</td>\n",
       "      <td>1</td>\n",
       "    </tr>\n",
       "    <tr>\n",
       "      <th>90</th>\n",
       "      <td>2023-09-28 14:32:16</td>\n",
       "      <td>16</td>\n",
       "      <td>50.0</td>\n",
       "    </tr>\n",
       "    <tr>\n",
       "      <th>91</th>\n",
       "      <td>2023-09-28 14:39:40</td>\n",
       "      <td>3</td>\n",
       "      <td>1</td>\n",
       "    </tr>\n",
       "    <tr>\n",
       "      <th>92</th>\n",
       "      <td>2023-09-28 14:40:25</td>\n",
       "      <td>14</td>\n",
       "      <td>1</td>\n",
       "    </tr>\n",
       "    <tr>\n",
       "      <th>93</th>\n",
       "      <td>2023-09-28 14:46:47</td>\n",
       "      <td>9</td>\n",
       "      <td>1</td>\n",
       "    </tr>\n",
       "    <tr>\n",
       "      <th>94</th>\n",
       "      <td>2023-09-28 14:48:18</td>\n",
       "      <td>21</td>\n",
       "      <td>1</td>\n",
       "    </tr>\n",
       "    <tr>\n",
       "      <th>95</th>\n",
       "      <td>2023-09-28 14:49:41</td>\n",
       "      <td>17</td>\n",
       "      <td>1</td>\n",
       "    </tr>\n",
       "    <tr>\n",
       "      <th>96</th>\n",
       "      <td>2023-09-28 14:51:37</td>\n",
       "      <td>1</td>\n",
       "      <td>1</td>\n",
       "    </tr>\n",
       "    <tr>\n",
       "      <th>97</th>\n",
       "      <td>2023-09-28 14:54:37</td>\n",
       "      <td>3</td>\n",
       "      <td>1</td>\n",
       "    </tr>\n",
       "    <tr>\n",
       "      <th>98</th>\n",
       "      <td>2023-09-28 15:07:39</td>\n",
       "      <td>15</td>\n",
       "      <td>26.0</td>\n",
       "    </tr>\n",
       "    <tr>\n",
       "      <th>99</th>\n",
       "      <td>2023-09-28 15:08:56</td>\n",
       "      <td>1</td>\n",
       "      <td>46.0</td>\n",
       "    </tr>\n",
       "    <tr>\n",
       "      <th>100</th>\n",
       "      <td>2023-09-28 15:11:30</td>\n",
       "      <td>5</td>\n",
       "      <td>147.0</td>\n",
       "    </tr>\n",
       "    <tr>\n",
       "      <th>101</th>\n",
       "      <td>2023-09-28 15:16:10</td>\n",
       "      <td>19</td>\n",
       "      <td>10.0</td>\n",
       "    </tr>\n",
       "    <tr>\n",
       "      <th>102</th>\n",
       "      <td>2023-09-28 15:22:19</td>\n",
       "      <td>16</td>\n",
       "      <td>1</td>\n",
       "    </tr>\n",
       "    <tr>\n",
       "      <th>103</th>\n",
       "      <td>2023-09-28 15:22:59</td>\n",
       "      <td>3</td>\n",
       "      <td>1</td>\n",
       "    </tr>\n",
       "    <tr>\n",
       "      <th>104</th>\n",
       "      <td>2023-09-28 15:25:15</td>\n",
       "      <td>15</td>\n",
       "      <td>5.0</td>\n",
       "    </tr>\n",
       "    <tr>\n",
       "      <th>105</th>\n",
       "      <td>2023-09-28 15:26:05</td>\n",
       "      <td>5</td>\n",
       "      <td>1</td>\n",
       "    </tr>\n",
       "    <tr>\n",
       "      <th>106</th>\n",
       "      <td>2023-09-28 15:31:01</td>\n",
       "      <td>10</td>\n",
       "      <td>1</td>\n",
       "    </tr>\n",
       "    <tr>\n",
       "      <th>107</th>\n",
       "      <td>2023-09-28 15:33:43</td>\n",
       "      <td>19</td>\n",
       "      <td>1</td>\n",
       "    </tr>\n",
       "    <tr>\n",
       "      <th>108</th>\n",
       "      <td>2023-09-28 15:38:09</td>\n",
       "      <td>3</td>\n",
       "      <td>36.0</td>\n",
       "    </tr>\n",
       "    <tr>\n",
       "      <th>109</th>\n",
       "      <td>2023-09-28 15:38:53</td>\n",
       "      <td>17</td>\n",
       "      <td>1</td>\n",
       "    </tr>\n",
       "    <tr>\n",
       "      <th>110</th>\n",
       "      <td>2023-09-28 15:40:18</td>\n",
       "      <td>22</td>\n",
       "      <td>1</td>\n",
       "    </tr>\n",
       "    <tr>\n",
       "      <th>111</th>\n",
       "      <td>2023-09-28 15:47:06</td>\n",
       "      <td>10</td>\n",
       "      <td>64.0</td>\n",
       "    </tr>\n",
       "    <tr>\n",
       "      <th>112</th>\n",
       "      <td>2023-09-28 15:49:00</td>\n",
       "      <td>19</td>\n",
       "      <td>35.0</td>\n",
       "    </tr>\n",
       "    <tr>\n",
       "      <th>113</th>\n",
       "      <td>2023-09-28 15:49:47</td>\n",
       "      <td>10</td>\n",
       "      <td>18.0</td>\n",
       "    </tr>\n",
       "    <tr>\n",
       "      <th>114</th>\n",
       "      <td>2023-09-28 15:50:38</td>\n",
       "      <td>9</td>\n",
       "      <td>1</td>\n",
       "    </tr>\n",
       "    <tr>\n",
       "      <th>115</th>\n",
       "      <td>2023-09-28 15:51:24</td>\n",
       "      <td>1</td>\n",
       "      <td>4.0</td>\n",
       "    </tr>\n",
       "    <tr>\n",
       "      <th>116</th>\n",
       "      <td>2023-09-28 15:53:25</td>\n",
       "      <td>17</td>\n",
       "      <td>1</td>\n",
       "    </tr>\n",
       "    <tr>\n",
       "      <th>117</th>\n",
       "      <td>2023-09-28 15:54:42</td>\n",
       "      <td>15</td>\n",
       "      <td>22.0</td>\n",
       "    </tr>\n",
       "    <tr>\n",
       "      <th>118</th>\n",
       "      <td>2023-09-28 15:55:40</td>\n",
       "      <td>22</td>\n",
       "      <td>31.0</td>\n",
       "    </tr>\n",
       "    <tr>\n",
       "      <th>119</th>\n",
       "      <td>2023-09-28 16:04:54</td>\n",
       "      <td>16</td>\n",
       "      <td>1</td>\n",
       "    </tr>\n",
       "    <tr>\n",
       "      <th>120</th>\n",
       "      <td>2023-09-28 16:07:46</td>\n",
       "      <td>17</td>\n",
       "      <td>15.0</td>\n",
       "    </tr>\n",
       "    <tr>\n",
       "      <th>121</th>\n",
       "      <td>2023-09-28 16:08:44</td>\n",
       "      <td>22</td>\n",
       "      <td>1</td>\n",
       "    </tr>\n",
       "    <tr>\n",
       "      <th>122</th>\n",
       "      <td>2023-09-28 16:18:20</td>\n",
       "      <td>19</td>\n",
       "      <td>1</td>\n",
       "    </tr>\n",
       "    <tr>\n",
       "      <th>123</th>\n",
       "      <td>2023-09-28 16:19:22</td>\n",
       "      <td>16</td>\n",
       "      <td>1</td>\n",
       "    </tr>\n",
       "    <tr>\n",
       "      <th>124</th>\n",
       "      <td>2023-09-28 16:20:48</td>\n",
       "      <td>1</td>\n",
       "      <td>3.0</td>\n",
       "    </tr>\n",
       "    <tr>\n",
       "      <th>125</th>\n",
       "      <td>2023-09-28 16:22:42</td>\n",
       "      <td>22</td>\n",
       "      <td>43.0</td>\n",
       "    </tr>\n",
       "    <tr>\n",
       "      <th>126</th>\n",
       "      <td>2023-09-28 16:23:59</td>\n",
       "      <td>9</td>\n",
       "      <td>9.0</td>\n",
       "    </tr>\n",
       "    <tr>\n",
       "      <th>127</th>\n",
       "      <td>2023-09-28 16:25:36</td>\n",
       "      <td>3</td>\n",
       "      <td>82.0</td>\n",
       "    </tr>\n",
       "    <tr>\n",
       "      <th>128</th>\n",
       "      <td>2023-09-28 16:49:13</td>\n",
       "      <td>12</td>\n",
       "      <td>1</td>\n",
       "    </tr>\n",
       "    <tr>\n",
       "      <th>129</th>\n",
       "      <td>2023-09-28 16:50:25</td>\n",
       "      <td>19</td>\n",
       "      <td>1</td>\n",
       "    </tr>\n",
       "    <tr>\n",
       "      <th>130</th>\n",
       "      <td>2023-09-28 16:53:41</td>\n",
       "      <td>16</td>\n",
       "      <td>3.0</td>\n",
       "    </tr>\n",
       "    <tr>\n",
       "      <th>131</th>\n",
       "      <td>2023-09-28 16:55:59</td>\n",
       "      <td>22</td>\n",
       "      <td>23.0</td>\n",
       "    </tr>\n",
       "    <tr>\n",
       "      <th>132</th>\n",
       "      <td>2023-09-28 17:05:45</td>\n",
       "      <td>15</td>\n",
       "      <td>27.0</td>\n",
       "    </tr>\n",
       "    <tr>\n",
       "      <th>133</th>\n",
       "      <td>2023-09-28 17:08:50</td>\n",
       "      <td>10</td>\n",
       "      <td>1</td>\n",
       "    </tr>\n",
       "    <tr>\n",
       "      <th>134</th>\n",
       "      <td>2023-09-28 17:10:35</td>\n",
       "      <td>1</td>\n",
       "      <td>45.0</td>\n",
       "    </tr>\n",
       "    <tr>\n",
       "      <th>135</th>\n",
       "      <td>2023-09-28 17:12:01</td>\n",
       "      <td>17</td>\n",
       "      <td>1</td>\n",
       "    </tr>\n",
       "    <tr>\n",
       "      <th>136</th>\n",
       "      <td>2023-09-28 17:12:47</td>\n",
       "      <td>16</td>\n",
       "      <td>1</td>\n",
       "    </tr>\n",
       "    <tr>\n",
       "      <th>137</th>\n",
       "      <td>2023-09-28 17:13:34</td>\n",
       "      <td>9</td>\n",
       "      <td>1</td>\n",
       "    </tr>\n",
       "    <tr>\n",
       "      <th>138</th>\n",
       "      <td>2023-09-28 17:15:11</td>\n",
       "      <td>23</td>\n",
       "      <td>1</td>\n",
       "    </tr>\n",
       "    <tr>\n",
       "      <th>139</th>\n",
       "      <td>2023-09-28 17:32:39</td>\n",
       "      <td>9</td>\n",
       "      <td>1</td>\n",
       "    </tr>\n",
       "    <tr>\n",
       "      <th>140</th>\n",
       "      <td>2023-09-28 17:37:45</td>\n",
       "      <td>19</td>\n",
       "      <td>1</td>\n",
       "    </tr>\n",
       "  </tbody>\n",
       "</table>\n",
       "</div>"
      ],
      "text/plain": [
       "                      ts gabarit time_in_station\n",
       "0    2023-09-28 09:07:33      24            19.0\n",
       "1    2023-09-28 09:08:04      19            36.0\n",
       "2    2023-09-28 09:12:38      22            53.0\n",
       "3    2023-09-28 09:16:29      12               1\n",
       "4    2023-09-28 09:18:20      23               1\n",
       "5    2023-09-28 09:20:14      17             9.0\n",
       "6    2023-09-28 09:31:18       9               1\n",
       "7    2023-09-28 09:32:00       3             8.0\n",
       "8    2023-09-28 09:32:59       8               1\n",
       "9    2023-09-28 09:35:53      15            13.0\n",
       "10   2023-09-28 09:37:41      16            91.0\n",
       "11   2023-09-28 09:42:39      19             3.0\n",
       "12   2023-09-28 09:43:29      24               1\n",
       "13   2023-09-28 09:45:35       9             3.0\n",
       "14   2023-09-28 09:48:24       3               1\n",
       "15   2023-09-28 09:49:29      22            73.0\n",
       "16   2023-09-28 09:52:12      15               1\n",
       "17   2023-09-28 09:53:56      16            41.0\n",
       "18   2023-09-28 09:57:48      21               1\n",
       "19   2023-09-28 10:00:00      10            45.0\n",
       "20   2023-09-28 10:03:25       9               1\n",
       "21   2023-09-28 10:04:50       3               1\n",
       "22   2023-09-28 10:05:29      22               1\n",
       "23   2023-09-28 10:07:04      15             5.0\n",
       "24   2023-09-28 10:07:57      16               1\n",
       "25   2023-09-28 10:09:32      17            32.0\n",
       "26   2023-09-28 10:11:01      19            48.0\n",
       "27   2023-09-28 10:16:58       3             5.0\n",
       "28   2023-09-28 10:18:40       5            41.0\n",
       "29   2023-09-28 10:19:55      22               1\n",
       "30   2023-09-28 10:22:51       8             3.0\n",
       "31   2023-09-28 10:25:35      17               1\n",
       "32   2023-09-28 10:49:36       3            79.0\n",
       "33   2023-09-28 10:51:04       9            41.0\n",
       "34   2023-09-28 10:52:18      22               1\n",
       "35   2023-09-28 10:54:59      15             5.0\n",
       "36   2023-09-28 10:57:23      16            11.0\n",
       "37   2023-09-28 11:03:00      19             9.0\n",
       "38   2023-09-28 11:06:26      10               1\n",
       "39   2023-09-28 11:07:47       3            38.0\n",
       "40   2023-09-28 11:09:07      22               1\n",
       "41   2023-09-28 11:09:49       7               1\n",
       "42   2023-09-28 11:10:56       5            86.0\n",
       "43   2023-09-28 11:17:45      17            11.0\n",
       "44   2023-09-28 11:18:42      19               1\n",
       "45   2023-09-28 11:20:14       3               1\n",
       "46   2023-09-28 11:21:58      22            29.0\n",
       "47   2023-09-28 11:26:49       9            79.0\n",
       "48   2023-09-28 11:30:58      17               1\n",
       "49   2023-09-28 11:35:06       3               1\n",
       "50   2023-09-28 11:49:53      15             3.0\n",
       "51   2023-09-28 11:50:47      16               1\n",
       "52   2023-09-28 11:52:58       3             8.0\n",
       "53   2023-09-28 11:55:42      22            39.0\n",
       "54   2023-09-28 11:57:26       5               1\n",
       "55   2023-09-28 12:01:32      19               1\n",
       "56   2023-09-28 12:07:10      10               1\n",
       "57   2023-09-28 12:09:23       3            94.0\n",
       "58   2023-09-28 12:12:32       5             3.0\n",
       "59   2023-09-28 12:16:27      19               1\n",
       "60   2023-09-28 12:18:54      15            11.0\n",
       "61   2023-09-28 12:20:09      16               1\n",
       "62   2023-09-28 12:20:42      10            30.0\n",
       "63   2023-09-28 12:22:35      22            33.0\n",
       "64   2023-09-28 12:23:46       3               1\n",
       "65   2023-09-28 12:25:58       9               1\n",
       "66   2023-09-28 12:27:34      17            15.0\n",
       "67   2023-09-28 12:32:15      11             6.0\n",
       "68   2023-09-28 12:34:25      10               1\n",
       "69   2023-09-28 12:35:48      22               1\n",
       "70   2023-09-28 12:37:41       3            56.0\n",
       "71   2023-09-28 12:39:44       9           127.0\n",
       "72   2023-09-28 12:44:11       5               1\n",
       "73   2023-09-28 12:45:10      15               1\n",
       "74   2023-09-28 12:45:55      16               1\n",
       "75   2023-09-28 12:48:16       8               1\n",
       "76   2023-09-28 12:50:39      10               1\n",
       "77   2023-09-28 12:51:31      22               1\n",
       "78   2023-09-28 12:53:33       3             5.0\n",
       "79   2023-09-28 12:54:20      17               1\n",
       "80   2023-09-28 12:55:27       9               1\n",
       "81   2023-09-28 12:57:09      19               1\n",
       "82   2023-09-28 14:02:38      15               1\n",
       "83   2023-09-28 14:03:35      16               1\n",
       "84   2023-09-28 14:08:17      10               1\n",
       "85   2023-09-28 14:09:17      22            54.0\n",
       "86   2023-09-28 14:14:28      19            11.0\n",
       "87   2023-09-28 14:17:29      17             3.0\n",
       "88   2023-09-28 14:25:56      10               1\n",
       "89   2023-09-28 14:27:16       9               1\n",
       "90   2023-09-28 14:32:16      16            50.0\n",
       "91   2023-09-28 14:39:40       3               1\n",
       "92   2023-09-28 14:40:25      14               1\n",
       "93   2023-09-28 14:46:47       9               1\n",
       "94   2023-09-28 14:48:18      21               1\n",
       "95   2023-09-28 14:49:41      17               1\n",
       "96   2023-09-28 14:51:37       1               1\n",
       "97   2023-09-28 14:54:37       3               1\n",
       "98   2023-09-28 15:07:39      15            26.0\n",
       "99   2023-09-28 15:08:56       1            46.0\n",
       "100  2023-09-28 15:11:30       5           147.0\n",
       "101  2023-09-28 15:16:10      19            10.0\n",
       "102  2023-09-28 15:22:19      16               1\n",
       "103  2023-09-28 15:22:59       3               1\n",
       "104  2023-09-28 15:25:15      15             5.0\n",
       "105  2023-09-28 15:26:05       5               1\n",
       "106  2023-09-28 15:31:01      10               1\n",
       "107  2023-09-28 15:33:43      19               1\n",
       "108  2023-09-28 15:38:09       3            36.0\n",
       "109  2023-09-28 15:38:53      17               1\n",
       "110  2023-09-28 15:40:18      22               1\n",
       "111  2023-09-28 15:47:06      10            64.0\n",
       "112  2023-09-28 15:49:00      19            35.0\n",
       "113  2023-09-28 15:49:47      10            18.0\n",
       "114  2023-09-28 15:50:38       9               1\n",
       "115  2023-09-28 15:51:24       1             4.0\n",
       "116  2023-09-28 15:53:25      17               1\n",
       "117  2023-09-28 15:54:42      15            22.0\n",
       "118  2023-09-28 15:55:40      22            31.0\n",
       "119  2023-09-28 16:04:54      16               1\n",
       "120  2023-09-28 16:07:46      17            15.0\n",
       "121  2023-09-28 16:08:44      22               1\n",
       "122  2023-09-28 16:18:20      19               1\n",
       "123  2023-09-28 16:19:22      16               1\n",
       "124  2023-09-28 16:20:48       1             3.0\n",
       "125  2023-09-28 16:22:42      22            43.0\n",
       "126  2023-09-28 16:23:59       9             9.0\n",
       "127  2023-09-28 16:25:36       3            82.0\n",
       "128  2023-09-28 16:49:13      12               1\n",
       "129  2023-09-28 16:50:25      19               1\n",
       "130  2023-09-28 16:53:41      16             3.0\n",
       "131  2023-09-28 16:55:59      22            23.0\n",
       "132  2023-09-28 17:05:45      15            27.0\n",
       "133  2023-09-28 17:08:50      10               1\n",
       "134  2023-09-28 17:10:35       1            45.0\n",
       "135  2023-09-28 17:12:01      17               1\n",
       "136  2023-09-28 17:12:47      16               1\n",
       "137  2023-09-28 17:13:34       9               1\n",
       "138  2023-09-28 17:15:11      23               1\n",
       "139  2023-09-28 17:32:39       9               1\n",
       "140  2023-09-28 17:37:45      19               1"
      ]
     },
     "metadata": {},
     "output_type": "display_data"
    },
    {
     "data": {
      "application/vnd.plotly.v1+json": {
       "config": {
        "plotlyServerURL": "https://plot.ly"
       },
       "data": [
        {
         "marker": {
          "color": "blue"
         },
         "mode": "markers",
         "name": "Scatter Plot",
         "type": "scatter",
         "x": [
          "2023-09-28T09:10:26",
          "2023-09-28T09:13:02",
          "2023-09-28T09:13:52",
          "2023-09-28T09:16:14",
          "2023-09-28T09:17:43",
          "2023-09-28T09:20:33",
          "2023-09-28T09:23:32",
          "2023-09-28T09:25:44",
          "2023-09-28T09:27:16",
          "2023-09-28T09:28:57",
          "2023-09-28T09:30:15",
          "2023-09-28T09:31:34",
          "2023-09-28T09:32:59",
          "2023-09-28T09:35:38",
          "2023-09-28T09:38:36",
          "2023-09-28T09:41:12",
          "2023-09-28T09:48:29",
          "2023-09-28T09:49:18",
          "2023-09-28T09:51:09",
          "2023-09-28T09:53:05",
          "2023-09-28T09:54:42",
          "2023-09-28T09:56:10",
          "2023-09-28T09:57:34",
          "2023-09-28T10:00:04",
          "2023-09-28T10:02:51",
          "2023-09-28T10:04:14",
          "2023-09-28T10:05:46",
          "2023-09-28T10:06:54",
          "2023-09-28T10:08:04",
          "2023-09-28T10:09:38",
          "2023-09-28T10:12:07",
          "2023-09-28T10:14:31",
          "2023-09-28T10:15:39",
          "2023-09-28T10:17:20",
          "2023-09-28T10:18:23",
          "2023-09-28T10:19:30",
          "2023-09-28T10:21:54",
          "2023-09-28T10:24:33",
          "2023-09-28T10:28:37",
          "2023-09-28T10:29:40",
          "2023-09-28T10:48:07",
          "2023-09-28T10:50:25",
          "2023-09-28T10:51:59",
          "2023-09-28T10:53:29",
          "2023-09-28T10:55:00",
          "2023-09-28T10:56:08",
          "2023-09-28T10:57:01",
          "2023-09-28T10:58:38",
          "2023-09-28T11:00:11",
          "2023-09-28T11:01:36",
          "2023-09-28T11:02:55",
          "2023-09-28T11:03:58",
          "2023-09-28T11:05:09",
          "2023-09-28T11:08:07",
          "2023-09-28T11:09:46",
          "2023-09-28T11:11:01",
          "2023-09-28T11:13:39",
          "2023-09-28T11:15:30",
          "2023-09-28T12:46:32",
          "2023-09-28T12:47:31",
          "2023-09-28T12:49:36",
          "2023-09-28T12:50:53",
          "2023-09-28T12:53:03",
          "2023-09-28T12:54:07",
          "2023-09-28T12:55:13",
          "2023-09-28T12:56:40",
          "2023-09-28T12:58:28",
          "2023-09-28T14:03:31",
          "2023-09-28T14:07:58",
          "2023-09-28T14:13:09",
          "2023-09-28T14:18:36",
          "2023-09-28T14:22:38"
         ],
         "y": [
          0.016666666666666666,
          0.016666666666666666,
          0.016666666666666666,
          0.016666666666666666,
          0.16666666666666666,
          0.38333333333333336,
          0.016666666666666666,
          0.016666666666666666,
          0.43333333333333335,
          0.016666666666666666,
          0.016666666666666666,
          0.016666666666666666,
          0.016666666666666666,
          0.016666666666666666,
          0.016666666666666666,
          0.016666666666666666,
          0.016666666666666666,
          0.016666666666666666,
          0.016666666666666666,
          0.016666666666666666,
          0.016666666666666666,
          0.016666666666666666,
          0.016666666666666666,
          0.016666666666666666,
          0.016666666666666666,
          0.016666666666666666,
          0.08333333333333333,
          0.6666666666666666,
          0.35,
          0.016666666666666666,
          0.016666666666666666,
          0.016666666666666666,
          0.016666666666666666,
          0.016666666666666666,
          0.016666666666666666,
          0.016666666666666666,
          0.016666666666666666,
          0.016666666666666666,
          0.016666666666666666,
          0.016666666666666666,
          0.016666666666666666,
          0.016666666666666666,
          0.016666666666666666,
          0.016666666666666666,
          0.016666666666666666,
          0.016666666666666666,
          0.016666666666666666,
          0.016666666666666666,
          0.016666666666666666,
          0.016666666666666666,
          0.016666666666666666,
          0.016666666666666666,
          0.016666666666666666,
          0.016666666666666666,
          0.016666666666666666,
          0.016666666666666666,
          0.016666666666666666,
          0.016666666666666666,
          0.016666666666666666,
          0.016666666666666666,
          0.016666666666666666,
          0.016666666666666666,
          0.016666666666666666,
          0.016666666666666666,
          0.016666666666666666,
          0.016666666666666666,
          0.08333333333333333,
          0.016666666666666666,
          0.016666666666666666,
          0.016666666666666666,
          0.016666666666666666,
          0.016666666666666666
         ]
        }
       ],
       "layout": {
        "template": {
         "data": {
          "bar": [
           {
            "error_x": {
             "color": "#2a3f5f"
            },
            "error_y": {
             "color": "#2a3f5f"
            },
            "marker": {
             "line": {
              "color": "#E5ECF6",
              "width": 0.5
             },
             "pattern": {
              "fillmode": "overlay",
              "size": 10,
              "solidity": 0.2
             }
            },
            "type": "bar"
           }
          ],
          "barpolar": [
           {
            "marker": {
             "line": {
              "color": "#E5ECF6",
              "width": 0.5
             },
             "pattern": {
              "fillmode": "overlay",
              "size": 10,
              "solidity": 0.2
             }
            },
            "type": "barpolar"
           }
          ],
          "carpet": [
           {
            "aaxis": {
             "endlinecolor": "#2a3f5f",
             "gridcolor": "white",
             "linecolor": "white",
             "minorgridcolor": "white",
             "startlinecolor": "#2a3f5f"
            },
            "baxis": {
             "endlinecolor": "#2a3f5f",
             "gridcolor": "white",
             "linecolor": "white",
             "minorgridcolor": "white",
             "startlinecolor": "#2a3f5f"
            },
            "type": "carpet"
           }
          ],
          "choropleth": [
           {
            "colorbar": {
             "outlinewidth": 0,
             "ticks": ""
            },
            "type": "choropleth"
           }
          ],
          "contour": [
           {
            "colorbar": {
             "outlinewidth": 0,
             "ticks": ""
            },
            "colorscale": [
             [
              0,
              "#0d0887"
             ],
             [
              0.1111111111111111,
              "#46039f"
             ],
             [
              0.2222222222222222,
              "#7201a8"
             ],
             [
              0.3333333333333333,
              "#9c179e"
             ],
             [
              0.4444444444444444,
              "#bd3786"
             ],
             [
              0.5555555555555556,
              "#d8576b"
             ],
             [
              0.6666666666666666,
              "#ed7953"
             ],
             [
              0.7777777777777778,
              "#fb9f3a"
             ],
             [
              0.8888888888888888,
              "#fdca26"
             ],
             [
              1,
              "#f0f921"
             ]
            ],
            "type": "contour"
           }
          ],
          "contourcarpet": [
           {
            "colorbar": {
             "outlinewidth": 0,
             "ticks": ""
            },
            "type": "contourcarpet"
           }
          ],
          "heatmap": [
           {
            "colorbar": {
             "outlinewidth": 0,
             "ticks": ""
            },
            "colorscale": [
             [
              0,
              "#0d0887"
             ],
             [
              0.1111111111111111,
              "#46039f"
             ],
             [
              0.2222222222222222,
              "#7201a8"
             ],
             [
              0.3333333333333333,
              "#9c179e"
             ],
             [
              0.4444444444444444,
              "#bd3786"
             ],
             [
              0.5555555555555556,
              "#d8576b"
             ],
             [
              0.6666666666666666,
              "#ed7953"
             ],
             [
              0.7777777777777778,
              "#fb9f3a"
             ],
             [
              0.8888888888888888,
              "#fdca26"
             ],
             [
              1,
              "#f0f921"
             ]
            ],
            "type": "heatmap"
           }
          ],
          "heatmapgl": [
           {
            "colorbar": {
             "outlinewidth": 0,
             "ticks": ""
            },
            "colorscale": [
             [
              0,
              "#0d0887"
             ],
             [
              0.1111111111111111,
              "#46039f"
             ],
             [
              0.2222222222222222,
              "#7201a8"
             ],
             [
              0.3333333333333333,
              "#9c179e"
             ],
             [
              0.4444444444444444,
              "#bd3786"
             ],
             [
              0.5555555555555556,
              "#d8576b"
             ],
             [
              0.6666666666666666,
              "#ed7953"
             ],
             [
              0.7777777777777778,
              "#fb9f3a"
             ],
             [
              0.8888888888888888,
              "#fdca26"
             ],
             [
              1,
              "#f0f921"
             ]
            ],
            "type": "heatmapgl"
           }
          ],
          "histogram": [
           {
            "marker": {
             "pattern": {
              "fillmode": "overlay",
              "size": 10,
              "solidity": 0.2
             }
            },
            "type": "histogram"
           }
          ],
          "histogram2d": [
           {
            "colorbar": {
             "outlinewidth": 0,
             "ticks": ""
            },
            "colorscale": [
             [
              0,
              "#0d0887"
             ],
             [
              0.1111111111111111,
              "#46039f"
             ],
             [
              0.2222222222222222,
              "#7201a8"
             ],
             [
              0.3333333333333333,
              "#9c179e"
             ],
             [
              0.4444444444444444,
              "#bd3786"
             ],
             [
              0.5555555555555556,
              "#d8576b"
             ],
             [
              0.6666666666666666,
              "#ed7953"
             ],
             [
              0.7777777777777778,
              "#fb9f3a"
             ],
             [
              0.8888888888888888,
              "#fdca26"
             ],
             [
              1,
              "#f0f921"
             ]
            ],
            "type": "histogram2d"
           }
          ],
          "histogram2dcontour": [
           {
            "colorbar": {
             "outlinewidth": 0,
             "ticks": ""
            },
            "colorscale": [
             [
              0,
              "#0d0887"
             ],
             [
              0.1111111111111111,
              "#46039f"
             ],
             [
              0.2222222222222222,
              "#7201a8"
             ],
             [
              0.3333333333333333,
              "#9c179e"
             ],
             [
              0.4444444444444444,
              "#bd3786"
             ],
             [
              0.5555555555555556,
              "#d8576b"
             ],
             [
              0.6666666666666666,
              "#ed7953"
             ],
             [
              0.7777777777777778,
              "#fb9f3a"
             ],
             [
              0.8888888888888888,
              "#fdca26"
             ],
             [
              1,
              "#f0f921"
             ]
            ],
            "type": "histogram2dcontour"
           }
          ],
          "mesh3d": [
           {
            "colorbar": {
             "outlinewidth": 0,
             "ticks": ""
            },
            "type": "mesh3d"
           }
          ],
          "parcoords": [
           {
            "line": {
             "colorbar": {
              "outlinewidth": 0,
              "ticks": ""
             }
            },
            "type": "parcoords"
           }
          ],
          "pie": [
           {
            "automargin": true,
            "type": "pie"
           }
          ],
          "scatter": [
           {
            "fillpattern": {
             "fillmode": "overlay",
             "size": 10,
             "solidity": 0.2
            },
            "type": "scatter"
           }
          ],
          "scatter3d": [
           {
            "line": {
             "colorbar": {
              "outlinewidth": 0,
              "ticks": ""
             }
            },
            "marker": {
             "colorbar": {
              "outlinewidth": 0,
              "ticks": ""
             }
            },
            "type": "scatter3d"
           }
          ],
          "scattercarpet": [
           {
            "marker": {
             "colorbar": {
              "outlinewidth": 0,
              "ticks": ""
             }
            },
            "type": "scattercarpet"
           }
          ],
          "scattergeo": [
           {
            "marker": {
             "colorbar": {
              "outlinewidth": 0,
              "ticks": ""
             }
            },
            "type": "scattergeo"
           }
          ],
          "scattergl": [
           {
            "marker": {
             "colorbar": {
              "outlinewidth": 0,
              "ticks": ""
             }
            },
            "type": "scattergl"
           }
          ],
          "scattermapbox": [
           {
            "marker": {
             "colorbar": {
              "outlinewidth": 0,
              "ticks": ""
             }
            },
            "type": "scattermapbox"
           }
          ],
          "scatterpolar": [
           {
            "marker": {
             "colorbar": {
              "outlinewidth": 0,
              "ticks": ""
             }
            },
            "type": "scatterpolar"
           }
          ],
          "scatterpolargl": [
           {
            "marker": {
             "colorbar": {
              "outlinewidth": 0,
              "ticks": ""
             }
            },
            "type": "scatterpolargl"
           }
          ],
          "scatterternary": [
           {
            "marker": {
             "colorbar": {
              "outlinewidth": 0,
              "ticks": ""
             }
            },
            "type": "scatterternary"
           }
          ],
          "surface": [
           {
            "colorbar": {
             "outlinewidth": 0,
             "ticks": ""
            },
            "colorscale": [
             [
              0,
              "#0d0887"
             ],
             [
              0.1111111111111111,
              "#46039f"
             ],
             [
              0.2222222222222222,
              "#7201a8"
             ],
             [
              0.3333333333333333,
              "#9c179e"
             ],
             [
              0.4444444444444444,
              "#bd3786"
             ],
             [
              0.5555555555555556,
              "#d8576b"
             ],
             [
              0.6666666666666666,
              "#ed7953"
             ],
             [
              0.7777777777777778,
              "#fb9f3a"
             ],
             [
              0.8888888888888888,
              "#fdca26"
             ],
             [
              1,
              "#f0f921"
             ]
            ],
            "type": "surface"
           }
          ],
          "table": [
           {
            "cells": {
             "fill": {
              "color": "#EBF0F8"
             },
             "line": {
              "color": "white"
             }
            },
            "header": {
             "fill": {
              "color": "#C8D4E3"
             },
             "line": {
              "color": "white"
             }
            },
            "type": "table"
           }
          ]
         },
         "layout": {
          "annotationdefaults": {
           "arrowcolor": "#2a3f5f",
           "arrowhead": 0,
           "arrowwidth": 1
          },
          "autotypenumbers": "strict",
          "coloraxis": {
           "colorbar": {
            "outlinewidth": 0,
            "ticks": ""
           }
          },
          "colorscale": {
           "diverging": [
            [
             0,
             "#8e0152"
            ],
            [
             0.1,
             "#c51b7d"
            ],
            [
             0.2,
             "#de77ae"
            ],
            [
             0.3,
             "#f1b6da"
            ],
            [
             0.4,
             "#fde0ef"
            ],
            [
             0.5,
             "#f7f7f7"
            ],
            [
             0.6,
             "#e6f5d0"
            ],
            [
             0.7,
             "#b8e186"
            ],
            [
             0.8,
             "#7fbc41"
            ],
            [
             0.9,
             "#4d9221"
            ],
            [
             1,
             "#276419"
            ]
           ],
           "sequential": [
            [
             0,
             "#0d0887"
            ],
            [
             0.1111111111111111,
             "#46039f"
            ],
            [
             0.2222222222222222,
             "#7201a8"
            ],
            [
             0.3333333333333333,
             "#9c179e"
            ],
            [
             0.4444444444444444,
             "#bd3786"
            ],
            [
             0.5555555555555556,
             "#d8576b"
            ],
            [
             0.6666666666666666,
             "#ed7953"
            ],
            [
             0.7777777777777778,
             "#fb9f3a"
            ],
            [
             0.8888888888888888,
             "#fdca26"
            ],
            [
             1,
             "#f0f921"
            ]
           ],
           "sequentialminus": [
            [
             0,
             "#0d0887"
            ],
            [
             0.1111111111111111,
             "#46039f"
            ],
            [
             0.2222222222222222,
             "#7201a8"
            ],
            [
             0.3333333333333333,
             "#9c179e"
            ],
            [
             0.4444444444444444,
             "#bd3786"
            ],
            [
             0.5555555555555556,
             "#d8576b"
            ],
            [
             0.6666666666666666,
             "#ed7953"
            ],
            [
             0.7777777777777778,
             "#fb9f3a"
            ],
            [
             0.8888888888888888,
             "#fdca26"
            ],
            [
             1,
             "#f0f921"
            ]
           ]
          },
          "colorway": [
           "#636efa",
           "#EF553B",
           "#00cc96",
           "#ab63fa",
           "#FFA15A",
           "#19d3f3",
           "#FF6692",
           "#B6E880",
           "#FF97FF",
           "#FECB52"
          ],
          "font": {
           "color": "#2a3f5f"
          },
          "geo": {
           "bgcolor": "white",
           "lakecolor": "white",
           "landcolor": "#E5ECF6",
           "showlakes": true,
           "showland": true,
           "subunitcolor": "white"
          },
          "hoverlabel": {
           "align": "left"
          },
          "hovermode": "closest",
          "mapbox": {
           "style": "light"
          },
          "paper_bgcolor": "white",
          "plot_bgcolor": "#E5ECF6",
          "polar": {
           "angularaxis": {
            "gridcolor": "white",
            "linecolor": "white",
            "ticks": ""
           },
           "bgcolor": "#E5ECF6",
           "radialaxis": {
            "gridcolor": "white",
            "linecolor": "white",
            "ticks": ""
           }
          },
          "scene": {
           "xaxis": {
            "backgroundcolor": "#E5ECF6",
            "gridcolor": "white",
            "gridwidth": 2,
            "linecolor": "white",
            "showbackground": true,
            "ticks": "",
            "zerolinecolor": "white"
           },
           "yaxis": {
            "backgroundcolor": "#E5ECF6",
            "gridcolor": "white",
            "gridwidth": 2,
            "linecolor": "white",
            "showbackground": true,
            "ticks": "",
            "zerolinecolor": "white"
           },
           "zaxis": {
            "backgroundcolor": "#E5ECF6",
            "gridcolor": "white",
            "gridwidth": 2,
            "linecolor": "white",
            "showbackground": true,
            "ticks": "",
            "zerolinecolor": "white"
           }
          },
          "shapedefaults": {
           "line": {
            "color": "#2a3f5f"
           }
          },
          "ternary": {
           "aaxis": {
            "gridcolor": "white",
            "linecolor": "white",
            "ticks": ""
           },
           "baxis": {
            "gridcolor": "white",
            "linecolor": "white",
            "ticks": ""
           },
           "bgcolor": "#E5ECF6",
           "caxis": {
            "gridcolor": "white",
            "linecolor": "white",
            "ticks": ""
           }
          },
          "title": {
           "x": 0.05
          },
          "xaxis": {
           "automargin": true,
           "gridcolor": "white",
           "linecolor": "white",
           "ticks": "",
           "title": {
            "standoff": 15
           },
           "zerolinecolor": "white",
           "zerolinewidth": 2
          },
          "yaxis": {
           "automargin": true,
           "gridcolor": "white",
           "linecolor": "white",
           "ticks": "",
           "title": {
            "standoff": 15
           },
           "zerolinecolor": "white",
           "zerolinewidth": 2
          }
         }
        },
        "title": {
         "text": "Plot of Time in Begginning of Stage 3 over Time"
        },
        "xaxis": {
         "range": [
          "2023-09-28 09:00:00",
          "2023-09-28 18:00:00"
         ],
         "title": {
          "text": "Timestamp"
         }
        },
        "yaxis": {
         "range": [
          -0.2,
          3
         ],
         "title": {
          "text": "Time in Station"
         }
        }
       }
      }
     },
     "metadata": {},
     "output_type": "display_data"
    },
    {
     "data": {
      "application/vnd.plotly.v1+json": {
       "config": {
        "plotlyServerURL": "https://plot.ly"
       },
       "data": [
        {
         "marker": {
          "color": "blue"
         },
         "mode": "markers",
         "name": "Scatter Plot",
         "type": "scatter",
         "x": [
          "2023-09-28T09:07:50",
          "2023-09-28T09:11:48",
          "2023-09-28T09:13:54",
          "2023-09-28T09:15:22",
          "2023-09-28T09:27:20",
          "2023-09-28T09:28:58",
          "2023-09-28T09:31:35",
          "2023-09-28T09:34:23",
          "2023-09-28T09:36:58",
          "2023-09-28T09:38:39",
          "2023-09-28T09:40:08",
          "2023-09-28T09:41:14",
          "2023-09-28T09:42:26",
          "2023-09-28T09:43:46",
          "2023-09-28T09:47:21",
          "2023-09-28T09:48:31",
          "2023-09-28T09:50:33",
          "2023-09-28T09:51:13",
          "2023-09-28T09:54:53",
          "2023-09-28T10:00:06",
          "2023-09-28T10:01:18",
          "2023-09-28T10:04:15",
          "2023-09-28T10:05:51",
          "2023-09-28T10:07:10",
          "2023-09-28T10:08:25",
          "2023-09-28T10:09:42",
          "2023-09-28T10:10:57",
          "2023-09-28T10:13:15",
          "2023-09-28T10:14:32",
          "2023-09-28T10:15:41",
          "2023-09-28T10:17:22",
          "2023-09-28T10:19:31",
          "2023-09-28T10:21:55",
          "2023-09-28T10:23:27",
          "2023-09-28T10:24:34",
          "2023-09-28T10:25:43",
          "2023-09-28T10:27:05",
          "2023-09-28T10:28:41",
          "2023-09-28T10:29:42",
          "2023-09-28T10:48:46",
          "2023-09-28T10:53:17",
          "2023-09-28T10:56:10",
          "2023-09-28T11:00:16",
          "2023-09-28T11:01:38",
          "2023-09-28T11:03:17",
          "2023-09-28T11:04:17",
          "2023-09-28T11:07:02",
          "2023-09-28T11:09:48",
          "2023-09-28T11:16:28",
          "2023-09-28T11:20:02",
          "2023-09-28T11:28:24",
          "2023-09-28T11:30:16",
          "2023-09-28T11:31:39",
          "2023-09-28T11:32:53",
          "2023-09-28T11:46:38",
          "2023-09-28T11:49:17",
          "2023-09-28T11:52:53",
          "2023-09-28T11:54:15",
          "2023-09-28T11:55:57",
          "2023-09-28T11:57:51",
          "2023-09-28T11:59:57",
          "2023-09-28T12:04:10",
          "2023-09-28T12:05:19",
          "2023-09-28T12:09:38",
          "2023-09-28T12:10:42",
          "2023-09-28T12:13:23",
          "2023-09-28T12:15:33",
          "2023-09-28T12:15:35",
          "2023-09-28T12:16:33",
          "2023-09-28T12:23:42",
          "2023-09-28T12:24:50",
          "2023-09-28T12:27:04",
          "2023-09-28T12:29:51",
          "2023-09-28T12:32:25",
          "2023-09-28T12:33:32",
          "2023-09-28T12:34:41",
          "2023-09-28T12:37:24",
          "2023-09-28T12:40:21",
          "2023-09-28T12:42:38",
          "2023-09-28T12:43:28",
          "2023-09-28T12:44:43",
          "2023-09-28T12:45:49",
          "2023-09-28T12:46:34",
          "2023-09-28T12:50:31",
          "2023-09-28T12:53:15",
          "2023-09-28T12:55:18",
          "2023-09-28T12:55:59",
          "2023-09-28T14:01:57",
          "2023-09-28T14:05:55",
          "2023-09-28T14:06:36",
          "2023-09-28T14:09:30",
          "2023-09-28T14:10:58",
          "2023-09-28T14:14:35",
          "2023-09-28T14:17:41",
          "2023-09-28T14:20:33",
          "2023-09-28T14:21:26",
          "2023-09-28T14:22:33",
          "2023-09-28T14:26:49",
          "2023-09-28T14:32:23",
          "2023-09-28T14:36:28",
          "2023-09-28T14:39:57",
          "2023-09-28T14:41:10"
         ],
         "y": [
          0.016666666666666666,
          1,
          0.016666666666666666,
          0.016666666666666666,
          0.016666666666666666,
          0.016666666666666666,
          0.016666666666666666,
          0.016666666666666666,
          0.016666666666666666,
          0.016666666666666666,
          0.016666666666666666,
          0.016666666666666666,
          0.016666666666666666,
          0.016666666666666666,
          0.016666666666666666,
          0.016666666666666666,
          0.016666666666666666,
          0.6166666666666667,
          0.016666666666666666,
          0.016666666666666666,
          0.016666666666666666,
          0.016666666666666666,
          0.016666666666666666,
          0.016666666666666666,
          0.016666666666666666,
          0.016666666666666666,
          0.016666666666666666,
          0.016666666666666666,
          0.016666666666666666,
          0.016666666666666666,
          0.016666666666666666,
          0.016666666666666666,
          0.016666666666666666,
          0.016666666666666666,
          0.016666666666666666,
          0.016666666666666666,
          0.016666666666666666,
          0.016666666666666666,
          0.016666666666666666,
          0.016666666666666666,
          0.016666666666666666,
          0.016666666666666666,
          0.016666666666666666,
          0.016666666666666666,
          0.016666666666666666,
          0.48333333333333334,
          0.016666666666666666,
          0.016666666666666666,
          0.016666666666666666,
          0.016666666666666666,
          0.016666666666666666,
          0.016666666666666666,
          0.016666666666666666,
          0.016666666666666666,
          0.016666666666666666,
          0.016666666666666666,
          0.016666666666666666,
          0.9,
          0.016666666666666666,
          0.016666666666666666,
          0.016666666666666666,
          0.016666666666666666,
          0.016666666666666666,
          0.016666666666666666,
          0.016666666666666666,
          0.016666666666666666,
          0.016666666666666666,
          0.016666666666666666,
          0.23333333333333334,
          0.016666666666666666,
          0.016666666666666666,
          0.016666666666666666,
          0.016666666666666666,
          0.016666666666666666,
          0.016666666666666666,
          0.016666666666666666,
          0.016666666666666666,
          1.0333333333333334,
          0.016666666666666666,
          0.016666666666666666,
          0.2833333333333333,
          0.016666666666666666,
          0.3,
          0.1,
          0.03333333333333333,
          0.016666666666666666,
          0.016666666666666666,
          0.016666666666666666,
          0.016666666666666666,
          0.016666666666666666,
          0.016666666666666666,
          0.016666666666666666,
          0.016666666666666666,
          0.016666666666666666,
          0.016666666666666666,
          0.016666666666666666,
          0.016666666666666666,
          0.016666666666666666,
          0.016666666666666666,
          0.2833333333333333,
          0.016666666666666666,
          0.016666666666666666
         ]
        }
       ],
       "layout": {
        "template": {
         "data": {
          "bar": [
           {
            "error_x": {
             "color": "#2a3f5f"
            },
            "error_y": {
             "color": "#2a3f5f"
            },
            "marker": {
             "line": {
              "color": "#E5ECF6",
              "width": 0.5
             },
             "pattern": {
              "fillmode": "overlay",
              "size": 10,
              "solidity": 0.2
             }
            },
            "type": "bar"
           }
          ],
          "barpolar": [
           {
            "marker": {
             "line": {
              "color": "#E5ECF6",
              "width": 0.5
             },
             "pattern": {
              "fillmode": "overlay",
              "size": 10,
              "solidity": 0.2
             }
            },
            "type": "barpolar"
           }
          ],
          "carpet": [
           {
            "aaxis": {
             "endlinecolor": "#2a3f5f",
             "gridcolor": "white",
             "linecolor": "white",
             "minorgridcolor": "white",
             "startlinecolor": "#2a3f5f"
            },
            "baxis": {
             "endlinecolor": "#2a3f5f",
             "gridcolor": "white",
             "linecolor": "white",
             "minorgridcolor": "white",
             "startlinecolor": "#2a3f5f"
            },
            "type": "carpet"
           }
          ],
          "choropleth": [
           {
            "colorbar": {
             "outlinewidth": 0,
             "ticks": ""
            },
            "type": "choropleth"
           }
          ],
          "contour": [
           {
            "colorbar": {
             "outlinewidth": 0,
             "ticks": ""
            },
            "colorscale": [
             [
              0,
              "#0d0887"
             ],
             [
              0.1111111111111111,
              "#46039f"
             ],
             [
              0.2222222222222222,
              "#7201a8"
             ],
             [
              0.3333333333333333,
              "#9c179e"
             ],
             [
              0.4444444444444444,
              "#bd3786"
             ],
             [
              0.5555555555555556,
              "#d8576b"
             ],
             [
              0.6666666666666666,
              "#ed7953"
             ],
             [
              0.7777777777777778,
              "#fb9f3a"
             ],
             [
              0.8888888888888888,
              "#fdca26"
             ],
             [
              1,
              "#f0f921"
             ]
            ],
            "type": "contour"
           }
          ],
          "contourcarpet": [
           {
            "colorbar": {
             "outlinewidth": 0,
             "ticks": ""
            },
            "type": "contourcarpet"
           }
          ],
          "heatmap": [
           {
            "colorbar": {
             "outlinewidth": 0,
             "ticks": ""
            },
            "colorscale": [
             [
              0,
              "#0d0887"
             ],
             [
              0.1111111111111111,
              "#46039f"
             ],
             [
              0.2222222222222222,
              "#7201a8"
             ],
             [
              0.3333333333333333,
              "#9c179e"
             ],
             [
              0.4444444444444444,
              "#bd3786"
             ],
             [
              0.5555555555555556,
              "#d8576b"
             ],
             [
              0.6666666666666666,
              "#ed7953"
             ],
             [
              0.7777777777777778,
              "#fb9f3a"
             ],
             [
              0.8888888888888888,
              "#fdca26"
             ],
             [
              1,
              "#f0f921"
             ]
            ],
            "type": "heatmap"
           }
          ],
          "heatmapgl": [
           {
            "colorbar": {
             "outlinewidth": 0,
             "ticks": ""
            },
            "colorscale": [
             [
              0,
              "#0d0887"
             ],
             [
              0.1111111111111111,
              "#46039f"
             ],
             [
              0.2222222222222222,
              "#7201a8"
             ],
             [
              0.3333333333333333,
              "#9c179e"
             ],
             [
              0.4444444444444444,
              "#bd3786"
             ],
             [
              0.5555555555555556,
              "#d8576b"
             ],
             [
              0.6666666666666666,
              "#ed7953"
             ],
             [
              0.7777777777777778,
              "#fb9f3a"
             ],
             [
              0.8888888888888888,
              "#fdca26"
             ],
             [
              1,
              "#f0f921"
             ]
            ],
            "type": "heatmapgl"
           }
          ],
          "histogram": [
           {
            "marker": {
             "pattern": {
              "fillmode": "overlay",
              "size": 10,
              "solidity": 0.2
             }
            },
            "type": "histogram"
           }
          ],
          "histogram2d": [
           {
            "colorbar": {
             "outlinewidth": 0,
             "ticks": ""
            },
            "colorscale": [
             [
              0,
              "#0d0887"
             ],
             [
              0.1111111111111111,
              "#46039f"
             ],
             [
              0.2222222222222222,
              "#7201a8"
             ],
             [
              0.3333333333333333,
              "#9c179e"
             ],
             [
              0.4444444444444444,
              "#bd3786"
             ],
             [
              0.5555555555555556,
              "#d8576b"
             ],
             [
              0.6666666666666666,
              "#ed7953"
             ],
             [
              0.7777777777777778,
              "#fb9f3a"
             ],
             [
              0.8888888888888888,
              "#fdca26"
             ],
             [
              1,
              "#f0f921"
             ]
            ],
            "type": "histogram2d"
           }
          ],
          "histogram2dcontour": [
           {
            "colorbar": {
             "outlinewidth": 0,
             "ticks": ""
            },
            "colorscale": [
             [
              0,
              "#0d0887"
             ],
             [
              0.1111111111111111,
              "#46039f"
             ],
             [
              0.2222222222222222,
              "#7201a8"
             ],
             [
              0.3333333333333333,
              "#9c179e"
             ],
             [
              0.4444444444444444,
              "#bd3786"
             ],
             [
              0.5555555555555556,
              "#d8576b"
             ],
             [
              0.6666666666666666,
              "#ed7953"
             ],
             [
              0.7777777777777778,
              "#fb9f3a"
             ],
             [
              0.8888888888888888,
              "#fdca26"
             ],
             [
              1,
              "#f0f921"
             ]
            ],
            "type": "histogram2dcontour"
           }
          ],
          "mesh3d": [
           {
            "colorbar": {
             "outlinewidth": 0,
             "ticks": ""
            },
            "type": "mesh3d"
           }
          ],
          "parcoords": [
           {
            "line": {
             "colorbar": {
              "outlinewidth": 0,
              "ticks": ""
             }
            },
            "type": "parcoords"
           }
          ],
          "pie": [
           {
            "automargin": true,
            "type": "pie"
           }
          ],
          "scatter": [
           {
            "fillpattern": {
             "fillmode": "overlay",
             "size": 10,
             "solidity": 0.2
            },
            "type": "scatter"
           }
          ],
          "scatter3d": [
           {
            "line": {
             "colorbar": {
              "outlinewidth": 0,
              "ticks": ""
             }
            },
            "marker": {
             "colorbar": {
              "outlinewidth": 0,
              "ticks": ""
             }
            },
            "type": "scatter3d"
           }
          ],
          "scattercarpet": [
           {
            "marker": {
             "colorbar": {
              "outlinewidth": 0,
              "ticks": ""
             }
            },
            "type": "scattercarpet"
           }
          ],
          "scattergeo": [
           {
            "marker": {
             "colorbar": {
              "outlinewidth": 0,
              "ticks": ""
             }
            },
            "type": "scattergeo"
           }
          ],
          "scattergl": [
           {
            "marker": {
             "colorbar": {
              "outlinewidth": 0,
              "ticks": ""
             }
            },
            "type": "scattergl"
           }
          ],
          "scattermapbox": [
           {
            "marker": {
             "colorbar": {
              "outlinewidth": 0,
              "ticks": ""
             }
            },
            "type": "scattermapbox"
           }
          ],
          "scatterpolar": [
           {
            "marker": {
             "colorbar": {
              "outlinewidth": 0,
              "ticks": ""
             }
            },
            "type": "scatterpolar"
           }
          ],
          "scatterpolargl": [
           {
            "marker": {
             "colorbar": {
              "outlinewidth": 0,
              "ticks": ""
             }
            },
            "type": "scatterpolargl"
           }
          ],
          "scatterternary": [
           {
            "marker": {
             "colorbar": {
              "outlinewidth": 0,
              "ticks": ""
             }
            },
            "type": "scatterternary"
           }
          ],
          "surface": [
           {
            "colorbar": {
             "outlinewidth": 0,
             "ticks": ""
            },
            "colorscale": [
             [
              0,
              "#0d0887"
             ],
             [
              0.1111111111111111,
              "#46039f"
             ],
             [
              0.2222222222222222,
              "#7201a8"
             ],
             [
              0.3333333333333333,
              "#9c179e"
             ],
             [
              0.4444444444444444,
              "#bd3786"
             ],
             [
              0.5555555555555556,
              "#d8576b"
             ],
             [
              0.6666666666666666,
              "#ed7953"
             ],
             [
              0.7777777777777778,
              "#fb9f3a"
             ],
             [
              0.8888888888888888,
              "#fdca26"
             ],
             [
              1,
              "#f0f921"
             ]
            ],
            "type": "surface"
           }
          ],
          "table": [
           {
            "cells": {
             "fill": {
              "color": "#EBF0F8"
             },
             "line": {
              "color": "white"
             }
            },
            "header": {
             "fill": {
              "color": "#C8D4E3"
             },
             "line": {
              "color": "white"
             }
            },
            "type": "table"
           }
          ]
         },
         "layout": {
          "annotationdefaults": {
           "arrowcolor": "#2a3f5f",
           "arrowhead": 0,
           "arrowwidth": 1
          },
          "autotypenumbers": "strict",
          "coloraxis": {
           "colorbar": {
            "outlinewidth": 0,
            "ticks": ""
           }
          },
          "colorscale": {
           "diverging": [
            [
             0,
             "#8e0152"
            ],
            [
             0.1,
             "#c51b7d"
            ],
            [
             0.2,
             "#de77ae"
            ],
            [
             0.3,
             "#f1b6da"
            ],
            [
             0.4,
             "#fde0ef"
            ],
            [
             0.5,
             "#f7f7f7"
            ],
            [
             0.6,
             "#e6f5d0"
            ],
            [
             0.7,
             "#b8e186"
            ],
            [
             0.8,
             "#7fbc41"
            ],
            [
             0.9,
             "#4d9221"
            ],
            [
             1,
             "#276419"
            ]
           ],
           "sequential": [
            [
             0,
             "#0d0887"
            ],
            [
             0.1111111111111111,
             "#46039f"
            ],
            [
             0.2222222222222222,
             "#7201a8"
            ],
            [
             0.3333333333333333,
             "#9c179e"
            ],
            [
             0.4444444444444444,
             "#bd3786"
            ],
            [
             0.5555555555555556,
             "#d8576b"
            ],
            [
             0.6666666666666666,
             "#ed7953"
            ],
            [
             0.7777777777777778,
             "#fb9f3a"
            ],
            [
             0.8888888888888888,
             "#fdca26"
            ],
            [
             1,
             "#f0f921"
            ]
           ],
           "sequentialminus": [
            [
             0,
             "#0d0887"
            ],
            [
             0.1111111111111111,
             "#46039f"
            ],
            [
             0.2222222222222222,
             "#7201a8"
            ],
            [
             0.3333333333333333,
             "#9c179e"
            ],
            [
             0.4444444444444444,
             "#bd3786"
            ],
            [
             0.5555555555555556,
             "#d8576b"
            ],
            [
             0.6666666666666666,
             "#ed7953"
            ],
            [
             0.7777777777777778,
             "#fb9f3a"
            ],
            [
             0.8888888888888888,
             "#fdca26"
            ],
            [
             1,
             "#f0f921"
            ]
           ]
          },
          "colorway": [
           "#636efa",
           "#EF553B",
           "#00cc96",
           "#ab63fa",
           "#FFA15A",
           "#19d3f3",
           "#FF6692",
           "#B6E880",
           "#FF97FF",
           "#FECB52"
          ],
          "font": {
           "color": "#2a3f5f"
          },
          "geo": {
           "bgcolor": "white",
           "lakecolor": "white",
           "landcolor": "#E5ECF6",
           "showlakes": true,
           "showland": true,
           "subunitcolor": "white"
          },
          "hoverlabel": {
           "align": "left"
          },
          "hovermode": "closest",
          "mapbox": {
           "style": "light"
          },
          "paper_bgcolor": "white",
          "plot_bgcolor": "#E5ECF6",
          "polar": {
           "angularaxis": {
            "gridcolor": "white",
            "linecolor": "white",
            "ticks": ""
           },
           "bgcolor": "#E5ECF6",
           "radialaxis": {
            "gridcolor": "white",
            "linecolor": "white",
            "ticks": ""
           }
          },
          "scene": {
           "xaxis": {
            "backgroundcolor": "#E5ECF6",
            "gridcolor": "white",
            "gridwidth": 2,
            "linecolor": "white",
            "showbackground": true,
            "ticks": "",
            "zerolinecolor": "white"
           },
           "yaxis": {
            "backgroundcolor": "#E5ECF6",
            "gridcolor": "white",
            "gridwidth": 2,
            "linecolor": "white",
            "showbackground": true,
            "ticks": "",
            "zerolinecolor": "white"
           },
           "zaxis": {
            "backgroundcolor": "#E5ECF6",
            "gridcolor": "white",
            "gridwidth": 2,
            "linecolor": "white",
            "showbackground": true,
            "ticks": "",
            "zerolinecolor": "white"
           }
          },
          "shapedefaults": {
           "line": {
            "color": "#2a3f5f"
           }
          },
          "ternary": {
           "aaxis": {
            "gridcolor": "white",
            "linecolor": "white",
            "ticks": ""
           },
           "baxis": {
            "gridcolor": "white",
            "linecolor": "white",
            "ticks": ""
           },
           "bgcolor": "#E5ECF6",
           "caxis": {
            "gridcolor": "white",
            "linecolor": "white",
            "ticks": ""
           }
          },
          "title": {
           "x": 0.05
          },
          "xaxis": {
           "automargin": true,
           "gridcolor": "white",
           "linecolor": "white",
           "ticks": "",
           "title": {
            "standoff": 15
           },
           "zerolinecolor": "white",
           "zerolinewidth": 2
          },
          "yaxis": {
           "automargin": true,
           "gridcolor": "white",
           "linecolor": "white",
           "ticks": "",
           "title": {
            "standoff": 15
           },
           "zerolinecolor": "white",
           "zerolinewidth": 2
          }
         }
        },
        "title": {
         "text": "Plot of Time in End of Stage 3 over Time"
        },
        "xaxis": {
         "range": [
          "2023-09-28 09:00:00",
          "2023-09-28 18:00:00"
         ],
         "title": {
          "text": "Timestamp"
         }
        },
        "yaxis": {
         "range": [
          -0.2,
          3
         ],
         "title": {
          "text": "Time in Station"
         }
        }
       }
      }
     },
     "metadata": {},
     "output_type": "display_data"
    },
    {
     "data": {
      "application/vnd.plotly.v1+json": {
       "config": {
        "plotlyServerURL": "https://plot.ly"
       },
       "data": [
        {
         "marker": {
          "color": "blue"
         },
         "mode": "markers",
         "name": "Scatter Plot",
         "type": "scatter",
         "x": [
          "2023-09-28T09:07:33",
          "2023-09-28T09:08:04",
          "2023-09-28T09:12:38",
          "2023-09-28T09:16:29",
          "2023-09-28T09:18:20",
          "2023-09-28T09:20:14",
          "2023-09-28T09:31:18",
          "2023-09-28T09:32:00",
          "2023-09-28T09:32:59",
          "2023-09-28T09:35:53",
          "2023-09-28T09:37:41",
          "2023-09-28T09:42:39",
          "2023-09-28T09:43:29",
          "2023-09-28T09:45:35",
          "2023-09-28T09:48:24",
          "2023-09-28T09:49:29",
          "2023-09-28T09:52:12",
          "2023-09-28T09:53:56",
          "2023-09-28T09:57:48",
          "2023-09-28T10:00:00",
          "2023-09-28T10:03:25",
          "2023-09-28T10:04:50",
          "2023-09-28T10:05:29",
          "2023-09-28T10:07:04",
          "2023-09-28T10:07:57",
          "2023-09-28T10:09:32",
          "2023-09-28T10:11:01",
          "2023-09-28T10:16:58",
          "2023-09-28T10:18:40",
          "2023-09-28T10:19:55",
          "2023-09-28T10:22:51",
          "2023-09-28T10:25:35",
          "2023-09-28T10:49:36",
          "2023-09-28T10:51:04",
          "2023-09-28T10:52:18",
          "2023-09-28T10:54:59",
          "2023-09-28T10:57:23",
          "2023-09-28T11:03:00",
          "2023-09-28T11:06:26",
          "2023-09-28T11:07:47",
          "2023-09-28T11:09:07",
          "2023-09-28T11:09:49",
          "2023-09-28T11:10:56",
          "2023-09-28T11:17:45",
          "2023-09-28T11:18:42",
          "2023-09-28T11:20:14",
          "2023-09-28T11:21:58",
          "2023-09-28T11:26:49",
          "2023-09-28T11:30:58",
          "2023-09-28T11:35:06",
          "2023-09-28T11:49:53",
          "2023-09-28T11:50:47",
          "2023-09-28T11:52:58",
          "2023-09-28T11:55:42",
          "2023-09-28T11:57:26",
          "2023-09-28T12:01:32",
          "2023-09-28T12:07:10",
          "2023-09-28T12:09:23",
          "2023-09-28T12:12:32",
          "2023-09-28T12:16:27",
          "2023-09-28T12:18:54",
          "2023-09-28T12:20:09",
          "2023-09-28T12:20:42",
          "2023-09-28T12:22:35",
          "2023-09-28T12:23:46",
          "2023-09-28T12:25:58",
          "2023-09-28T12:27:34",
          "2023-09-28T12:32:15",
          "2023-09-28T12:34:25",
          "2023-09-28T12:35:48",
          "2023-09-28T12:37:41",
          "2023-09-28T12:39:44",
          "2023-09-28T12:44:11",
          "2023-09-28T12:45:10",
          "2023-09-28T12:45:55",
          "2023-09-28T12:48:16",
          "2023-09-28T12:50:39",
          "2023-09-28T12:51:31",
          "2023-09-28T12:53:33",
          "2023-09-28T12:54:20",
          "2023-09-28T12:55:27",
          "2023-09-28T12:57:09",
          "2023-09-28T14:02:38",
          "2023-09-28T14:03:35",
          "2023-09-28T14:08:17",
          "2023-09-28T14:09:17",
          "2023-09-28T14:14:28",
          "2023-09-28T14:17:29",
          "2023-09-28T14:25:56",
          "2023-09-28T14:27:16",
          "2023-09-28T14:32:16",
          "2023-09-28T14:39:40",
          "2023-09-28T14:40:25",
          "2023-09-28T14:46:47",
          "2023-09-28T14:48:18",
          "2023-09-28T14:49:41",
          "2023-09-28T14:51:37",
          "2023-09-28T14:54:37",
          "2023-09-28T15:07:39",
          "2023-09-28T15:08:56",
          "2023-09-28T15:11:30",
          "2023-09-28T15:16:10",
          "2023-09-28T15:22:19",
          "2023-09-28T15:22:59",
          "2023-09-28T15:25:15",
          "2023-09-28T15:26:05",
          "2023-09-28T15:31:01",
          "2023-09-28T15:33:43",
          "2023-09-28T15:38:09",
          "2023-09-28T15:38:53",
          "2023-09-28T15:40:18",
          "2023-09-28T15:47:06",
          "2023-09-28T15:49:00",
          "2023-09-28T15:49:47",
          "2023-09-28T15:50:38",
          "2023-09-28T15:51:24",
          "2023-09-28T15:53:25",
          "2023-09-28T15:54:42",
          "2023-09-28T15:55:40",
          "2023-09-28T16:04:54",
          "2023-09-28T16:07:46",
          "2023-09-28T16:08:44",
          "2023-09-28T16:18:20",
          "2023-09-28T16:19:22",
          "2023-09-28T16:20:48",
          "2023-09-28T16:22:42",
          "2023-09-28T16:23:59",
          "2023-09-28T16:25:36",
          "2023-09-28T16:49:13",
          "2023-09-28T16:50:25",
          "2023-09-28T16:53:41",
          "2023-09-28T16:55:59",
          "2023-09-28T17:05:45",
          "2023-09-28T17:08:50",
          "2023-09-28T17:10:35",
          "2023-09-28T17:12:01",
          "2023-09-28T17:12:47",
          "2023-09-28T17:13:34",
          "2023-09-28T17:15:11",
          "2023-09-28T17:32:39",
          "2023-09-28T17:37:45"
         ],
         "y": [
          0.31666666666666665,
          0.6,
          0.8833333333333333,
          0.016666666666666666,
          0.016666666666666666,
          0.15,
          0.016666666666666666,
          0.13333333333333333,
          0.016666666666666666,
          0.21666666666666667,
          1.5166666666666666,
          0.05,
          0.016666666666666666,
          0.05,
          0.016666666666666666,
          1.2166666666666666,
          0.016666666666666666,
          0.6833333333333333,
          0.016666666666666666,
          0.75,
          0.016666666666666666,
          0.016666666666666666,
          0.016666666666666666,
          0.08333333333333333,
          0.016666666666666666,
          0.5333333333333333,
          0.8,
          0.08333333333333333,
          0.6833333333333333,
          0.016666666666666666,
          0.05,
          0.016666666666666666,
          1.3166666666666667,
          0.6833333333333333,
          0.016666666666666666,
          0.08333333333333333,
          0.18333333333333332,
          0.15,
          0.016666666666666666,
          0.6333333333333333,
          0.016666666666666666,
          0.016666666666666666,
          1.4333333333333333,
          0.18333333333333332,
          0.016666666666666666,
          0.016666666666666666,
          0.48333333333333334,
          1.3166666666666667,
          0.016666666666666666,
          0.016666666666666666,
          0.05,
          0.016666666666666666,
          0.13333333333333333,
          0.65,
          0.016666666666666666,
          0.016666666666666666,
          0.016666666666666666,
          1.5666666666666667,
          0.05,
          0.016666666666666666,
          0.18333333333333332,
          0.016666666666666666,
          0.5,
          0.55,
          0.016666666666666666,
          0.016666666666666666,
          0.25,
          0.1,
          0.016666666666666666,
          0.016666666666666666,
          0.9333333333333333,
          2.1166666666666667,
          0.016666666666666666,
          0.016666666666666666,
          0.016666666666666666,
          0.016666666666666666,
          0.016666666666666666,
          0.016666666666666666,
          0.08333333333333333,
          0.016666666666666666,
          0.016666666666666666,
          0.016666666666666666,
          0.016666666666666666,
          0.016666666666666666,
          0.016666666666666666,
          0.9,
          0.18333333333333332,
          0.05,
          0.016666666666666666,
          0.016666666666666666,
          0.8333333333333334,
          0.016666666666666666,
          0.016666666666666666,
          0.016666666666666666,
          0.016666666666666666,
          0.016666666666666666,
          0.016666666666666666,
          0.016666666666666666,
          0.43333333333333335,
          0.7666666666666667,
          2.45,
          0.16666666666666666,
          0.016666666666666666,
          0.016666666666666666,
          0.08333333333333333,
          0.016666666666666666,
          0.016666666666666666,
          0.016666666666666666,
          0.6,
          0.016666666666666666,
          0.016666666666666666,
          1.0666666666666667,
          0.5833333333333334,
          0.3,
          0.016666666666666666,
          0.06666666666666667,
          0.016666666666666666,
          0.36666666666666664,
          0.5166666666666667,
          0.016666666666666666,
          0.25,
          0.016666666666666666,
          0.016666666666666666,
          0.016666666666666666,
          0.05,
          0.7166666666666667,
          0.15,
          1.3666666666666667,
          0.016666666666666666,
          0.016666666666666666,
          0.05,
          0.38333333333333336,
          0.45,
          0.016666666666666666,
          0.75,
          0.016666666666666666,
          0.016666666666666666,
          0.016666666666666666,
          0.016666666666666666,
          0.016666666666666666,
          0.016666666666666666
         ]
        }
       ],
       "layout": {
        "template": {
         "data": {
          "bar": [
           {
            "error_x": {
             "color": "#2a3f5f"
            },
            "error_y": {
             "color": "#2a3f5f"
            },
            "marker": {
             "line": {
              "color": "#E5ECF6",
              "width": 0.5
             },
             "pattern": {
              "fillmode": "overlay",
              "size": 10,
              "solidity": 0.2
             }
            },
            "type": "bar"
           }
          ],
          "barpolar": [
           {
            "marker": {
             "line": {
              "color": "#E5ECF6",
              "width": 0.5
             },
             "pattern": {
              "fillmode": "overlay",
              "size": 10,
              "solidity": 0.2
             }
            },
            "type": "barpolar"
           }
          ],
          "carpet": [
           {
            "aaxis": {
             "endlinecolor": "#2a3f5f",
             "gridcolor": "white",
             "linecolor": "white",
             "minorgridcolor": "white",
             "startlinecolor": "#2a3f5f"
            },
            "baxis": {
             "endlinecolor": "#2a3f5f",
             "gridcolor": "white",
             "linecolor": "white",
             "minorgridcolor": "white",
             "startlinecolor": "#2a3f5f"
            },
            "type": "carpet"
           }
          ],
          "choropleth": [
           {
            "colorbar": {
             "outlinewidth": 0,
             "ticks": ""
            },
            "type": "choropleth"
           }
          ],
          "contour": [
           {
            "colorbar": {
             "outlinewidth": 0,
             "ticks": ""
            },
            "colorscale": [
             [
              0,
              "#0d0887"
             ],
             [
              0.1111111111111111,
              "#46039f"
             ],
             [
              0.2222222222222222,
              "#7201a8"
             ],
             [
              0.3333333333333333,
              "#9c179e"
             ],
             [
              0.4444444444444444,
              "#bd3786"
             ],
             [
              0.5555555555555556,
              "#d8576b"
             ],
             [
              0.6666666666666666,
              "#ed7953"
             ],
             [
              0.7777777777777778,
              "#fb9f3a"
             ],
             [
              0.8888888888888888,
              "#fdca26"
             ],
             [
              1,
              "#f0f921"
             ]
            ],
            "type": "contour"
           }
          ],
          "contourcarpet": [
           {
            "colorbar": {
             "outlinewidth": 0,
             "ticks": ""
            },
            "type": "contourcarpet"
           }
          ],
          "heatmap": [
           {
            "colorbar": {
             "outlinewidth": 0,
             "ticks": ""
            },
            "colorscale": [
             [
              0,
              "#0d0887"
             ],
             [
              0.1111111111111111,
              "#46039f"
             ],
             [
              0.2222222222222222,
              "#7201a8"
             ],
             [
              0.3333333333333333,
              "#9c179e"
             ],
             [
              0.4444444444444444,
              "#bd3786"
             ],
             [
              0.5555555555555556,
              "#d8576b"
             ],
             [
              0.6666666666666666,
              "#ed7953"
             ],
             [
              0.7777777777777778,
              "#fb9f3a"
             ],
             [
              0.8888888888888888,
              "#fdca26"
             ],
             [
              1,
              "#f0f921"
             ]
            ],
            "type": "heatmap"
           }
          ],
          "heatmapgl": [
           {
            "colorbar": {
             "outlinewidth": 0,
             "ticks": ""
            },
            "colorscale": [
             [
              0,
              "#0d0887"
             ],
             [
              0.1111111111111111,
              "#46039f"
             ],
             [
              0.2222222222222222,
              "#7201a8"
             ],
             [
              0.3333333333333333,
              "#9c179e"
             ],
             [
              0.4444444444444444,
              "#bd3786"
             ],
             [
              0.5555555555555556,
              "#d8576b"
             ],
             [
              0.6666666666666666,
              "#ed7953"
             ],
             [
              0.7777777777777778,
              "#fb9f3a"
             ],
             [
              0.8888888888888888,
              "#fdca26"
             ],
             [
              1,
              "#f0f921"
             ]
            ],
            "type": "heatmapgl"
           }
          ],
          "histogram": [
           {
            "marker": {
             "pattern": {
              "fillmode": "overlay",
              "size": 10,
              "solidity": 0.2
             }
            },
            "type": "histogram"
           }
          ],
          "histogram2d": [
           {
            "colorbar": {
             "outlinewidth": 0,
             "ticks": ""
            },
            "colorscale": [
             [
              0,
              "#0d0887"
             ],
             [
              0.1111111111111111,
              "#46039f"
             ],
             [
              0.2222222222222222,
              "#7201a8"
             ],
             [
              0.3333333333333333,
              "#9c179e"
             ],
             [
              0.4444444444444444,
              "#bd3786"
             ],
             [
              0.5555555555555556,
              "#d8576b"
             ],
             [
              0.6666666666666666,
              "#ed7953"
             ],
             [
              0.7777777777777778,
              "#fb9f3a"
             ],
             [
              0.8888888888888888,
              "#fdca26"
             ],
             [
              1,
              "#f0f921"
             ]
            ],
            "type": "histogram2d"
           }
          ],
          "histogram2dcontour": [
           {
            "colorbar": {
             "outlinewidth": 0,
             "ticks": ""
            },
            "colorscale": [
             [
              0,
              "#0d0887"
             ],
             [
              0.1111111111111111,
              "#46039f"
             ],
             [
              0.2222222222222222,
              "#7201a8"
             ],
             [
              0.3333333333333333,
              "#9c179e"
             ],
             [
              0.4444444444444444,
              "#bd3786"
             ],
             [
              0.5555555555555556,
              "#d8576b"
             ],
             [
              0.6666666666666666,
              "#ed7953"
             ],
             [
              0.7777777777777778,
              "#fb9f3a"
             ],
             [
              0.8888888888888888,
              "#fdca26"
             ],
             [
              1,
              "#f0f921"
             ]
            ],
            "type": "histogram2dcontour"
           }
          ],
          "mesh3d": [
           {
            "colorbar": {
             "outlinewidth": 0,
             "ticks": ""
            },
            "type": "mesh3d"
           }
          ],
          "parcoords": [
           {
            "line": {
             "colorbar": {
              "outlinewidth": 0,
              "ticks": ""
             }
            },
            "type": "parcoords"
           }
          ],
          "pie": [
           {
            "automargin": true,
            "type": "pie"
           }
          ],
          "scatter": [
           {
            "fillpattern": {
             "fillmode": "overlay",
             "size": 10,
             "solidity": 0.2
            },
            "type": "scatter"
           }
          ],
          "scatter3d": [
           {
            "line": {
             "colorbar": {
              "outlinewidth": 0,
              "ticks": ""
             }
            },
            "marker": {
             "colorbar": {
              "outlinewidth": 0,
              "ticks": ""
             }
            },
            "type": "scatter3d"
           }
          ],
          "scattercarpet": [
           {
            "marker": {
             "colorbar": {
              "outlinewidth": 0,
              "ticks": ""
             }
            },
            "type": "scattercarpet"
           }
          ],
          "scattergeo": [
           {
            "marker": {
             "colorbar": {
              "outlinewidth": 0,
              "ticks": ""
             }
            },
            "type": "scattergeo"
           }
          ],
          "scattergl": [
           {
            "marker": {
             "colorbar": {
              "outlinewidth": 0,
              "ticks": ""
             }
            },
            "type": "scattergl"
           }
          ],
          "scattermapbox": [
           {
            "marker": {
             "colorbar": {
              "outlinewidth": 0,
              "ticks": ""
             }
            },
            "type": "scattermapbox"
           }
          ],
          "scatterpolar": [
           {
            "marker": {
             "colorbar": {
              "outlinewidth": 0,
              "ticks": ""
             }
            },
            "type": "scatterpolar"
           }
          ],
          "scatterpolargl": [
           {
            "marker": {
             "colorbar": {
              "outlinewidth": 0,
              "ticks": ""
             }
            },
            "type": "scatterpolargl"
           }
          ],
          "scatterternary": [
           {
            "marker": {
             "colorbar": {
              "outlinewidth": 0,
              "ticks": ""
             }
            },
            "type": "scatterternary"
           }
          ],
          "surface": [
           {
            "colorbar": {
             "outlinewidth": 0,
             "ticks": ""
            },
            "colorscale": [
             [
              0,
              "#0d0887"
             ],
             [
              0.1111111111111111,
              "#46039f"
             ],
             [
              0.2222222222222222,
              "#7201a8"
             ],
             [
              0.3333333333333333,
              "#9c179e"
             ],
             [
              0.4444444444444444,
              "#bd3786"
             ],
             [
              0.5555555555555556,
              "#d8576b"
             ],
             [
              0.6666666666666666,
              "#ed7953"
             ],
             [
              0.7777777777777778,
              "#fb9f3a"
             ],
             [
              0.8888888888888888,
              "#fdca26"
             ],
             [
              1,
              "#f0f921"
             ]
            ],
            "type": "surface"
           }
          ],
          "table": [
           {
            "cells": {
             "fill": {
              "color": "#EBF0F8"
             },
             "line": {
              "color": "white"
             }
            },
            "header": {
             "fill": {
              "color": "#C8D4E3"
             },
             "line": {
              "color": "white"
             }
            },
            "type": "table"
           }
          ]
         },
         "layout": {
          "annotationdefaults": {
           "arrowcolor": "#2a3f5f",
           "arrowhead": 0,
           "arrowwidth": 1
          },
          "autotypenumbers": "strict",
          "coloraxis": {
           "colorbar": {
            "outlinewidth": 0,
            "ticks": ""
           }
          },
          "colorscale": {
           "diverging": [
            [
             0,
             "#8e0152"
            ],
            [
             0.1,
             "#c51b7d"
            ],
            [
             0.2,
             "#de77ae"
            ],
            [
             0.3,
             "#f1b6da"
            ],
            [
             0.4,
             "#fde0ef"
            ],
            [
             0.5,
             "#f7f7f7"
            ],
            [
             0.6,
             "#e6f5d0"
            ],
            [
             0.7,
             "#b8e186"
            ],
            [
             0.8,
             "#7fbc41"
            ],
            [
             0.9,
             "#4d9221"
            ],
            [
             1,
             "#276419"
            ]
           ],
           "sequential": [
            [
             0,
             "#0d0887"
            ],
            [
             0.1111111111111111,
             "#46039f"
            ],
            [
             0.2222222222222222,
             "#7201a8"
            ],
            [
             0.3333333333333333,
             "#9c179e"
            ],
            [
             0.4444444444444444,
             "#bd3786"
            ],
            [
             0.5555555555555556,
             "#d8576b"
            ],
            [
             0.6666666666666666,
             "#ed7953"
            ],
            [
             0.7777777777777778,
             "#fb9f3a"
            ],
            [
             0.8888888888888888,
             "#fdca26"
            ],
            [
             1,
             "#f0f921"
            ]
           ],
           "sequentialminus": [
            [
             0,
             "#0d0887"
            ],
            [
             0.1111111111111111,
             "#46039f"
            ],
            [
             0.2222222222222222,
             "#7201a8"
            ],
            [
             0.3333333333333333,
             "#9c179e"
            ],
            [
             0.4444444444444444,
             "#bd3786"
            ],
            [
             0.5555555555555556,
             "#d8576b"
            ],
            [
             0.6666666666666666,
             "#ed7953"
            ],
            [
             0.7777777777777778,
             "#fb9f3a"
            ],
            [
             0.8888888888888888,
             "#fdca26"
            ],
            [
             1,
             "#f0f921"
            ]
           ]
          },
          "colorway": [
           "#636efa",
           "#EF553B",
           "#00cc96",
           "#ab63fa",
           "#FFA15A",
           "#19d3f3",
           "#FF6692",
           "#B6E880",
           "#FF97FF",
           "#FECB52"
          ],
          "font": {
           "color": "#2a3f5f"
          },
          "geo": {
           "bgcolor": "white",
           "lakecolor": "white",
           "landcolor": "#E5ECF6",
           "showlakes": true,
           "showland": true,
           "subunitcolor": "white"
          },
          "hoverlabel": {
           "align": "left"
          },
          "hovermode": "closest",
          "mapbox": {
           "style": "light"
          },
          "paper_bgcolor": "white",
          "plot_bgcolor": "#E5ECF6",
          "polar": {
           "angularaxis": {
            "gridcolor": "white",
            "linecolor": "white",
            "ticks": ""
           },
           "bgcolor": "#E5ECF6",
           "radialaxis": {
            "gridcolor": "white",
            "linecolor": "white",
            "ticks": ""
           }
          },
          "scene": {
           "xaxis": {
            "backgroundcolor": "#E5ECF6",
            "gridcolor": "white",
            "gridwidth": 2,
            "linecolor": "white",
            "showbackground": true,
            "ticks": "",
            "zerolinecolor": "white"
           },
           "yaxis": {
            "backgroundcolor": "#E5ECF6",
            "gridcolor": "white",
            "gridwidth": 2,
            "linecolor": "white",
            "showbackground": true,
            "ticks": "",
            "zerolinecolor": "white"
           },
           "zaxis": {
            "backgroundcolor": "#E5ECF6",
            "gridcolor": "white",
            "gridwidth": 2,
            "linecolor": "white",
            "showbackground": true,
            "ticks": "",
            "zerolinecolor": "white"
           }
          },
          "shapedefaults": {
           "line": {
            "color": "#2a3f5f"
           }
          },
          "ternary": {
           "aaxis": {
            "gridcolor": "white",
            "linecolor": "white",
            "ticks": ""
           },
           "baxis": {
            "gridcolor": "white",
            "linecolor": "white",
            "ticks": ""
           },
           "bgcolor": "#E5ECF6",
           "caxis": {
            "gridcolor": "white",
            "linecolor": "white",
            "ticks": ""
           }
          },
          "title": {
           "x": 0.05
          },
          "xaxis": {
           "automargin": true,
           "gridcolor": "white",
           "linecolor": "white",
           "ticks": "",
           "title": {
            "standoff": 15
           },
           "zerolinecolor": "white",
           "zerolinewidth": 2
          },
          "yaxis": {
           "automargin": true,
           "gridcolor": "white",
           "linecolor": "white",
           "ticks": "",
           "title": {
            "standoff": 15
           },
           "zerolinecolor": "white",
           "zerolinewidth": 2
          }
         }
        },
        "title": {
         "text": "Plot of Time in Begginning of Stage 7 over Time"
        },
        "xaxis": {
         "range": [
          "2023-09-28 09:00:00",
          "2023-09-28 18:00:00"
         ],
         "title": {
          "text": "Timestamp"
         }
        },
        "yaxis": {
         "range": [
          -0.2,
          3
         ],
         "title": {
          "text": "Time in Station"
         }
        }
       }
      }
     },
     "metadata": {},
     "output_type": "display_data"
    }
   ],
   "source": [
    "plot = 1\n",
    "df_in_1 = time_in_station_fun(df1)\n",
    "#df_in_1 = remove_outliers(df_in_1, 5)\n",
    "display(df_in_1)\n",
    "\n",
    "\n",
    "df_in_2 = time_in_station_fun(df2)\n",
    "#df_in_2 = remove_outliers(df_in_2, 5)\n",
    "display(df_in_2)\n",
    "\n",
    "df_in_3 = time_in_station_fun(df3)\n",
    "#df_in_3 = remove_outliers(df_in_3, 5)\n",
    "display(df_in_3)\n",
    "\n",
    "if plot:\n",
    "    plot_time_in_station(df_in_1,1)\n",
    "    plot_time_in_station(df_in_2,2)\n",
    "    plot_time_in_station(df_in_3,3)"
   ]
  },
  {
   "cell_type": "code",
   "execution_count": 7,
   "metadata": {},
   "outputs": [
    {
     "data": {
      "text/html": [
       "<div>\n",
       "<style scoped>\n",
       "    .dataframe tbody tr th:only-of-type {\n",
       "        vertical-align: middle;\n",
       "    }\n",
       "\n",
       "    .dataframe tbody tr th {\n",
       "        vertical-align: top;\n",
       "    }\n",
       "\n",
       "    .dataframe thead th {\n",
       "        text-align: right;\n",
       "    }\n",
       "</style>\n",
       "<table border=\"1\" class=\"dataframe\">\n",
       "  <thead>\n",
       "    <tr style=\"text-align: right;\">\n",
       "      <th></th>\n",
       "      <th>ts</th>\n",
       "      <th>gabarit</th>\n",
       "      <th>time_in_station</th>\n",
       "    </tr>\n",
       "  </thead>\n",
       "  <tbody>\n",
       "    <tr>\n",
       "      <th>0</th>\n",
       "      <td>2023-09-28 09:10:26</td>\n",
       "      <td>14</td>\n",
       "      <td>0.02</td>\n",
       "    </tr>\n",
       "    <tr>\n",
       "      <th>1</th>\n",
       "      <td>2023-09-28 09:13:02</td>\n",
       "      <td>23</td>\n",
       "      <td>0.02</td>\n",
       "    </tr>\n",
       "    <tr>\n",
       "      <th>2</th>\n",
       "      <td>2023-09-28 09:13:52</td>\n",
       "      <td>17</td>\n",
       "      <td>0.02</td>\n",
       "    </tr>\n",
       "    <tr>\n",
       "      <th>3</th>\n",
       "      <td>2023-09-28 09:16:14</td>\n",
       "      <td>21</td>\n",
       "      <td>0.02</td>\n",
       "    </tr>\n",
       "    <tr>\n",
       "      <th>4</th>\n",
       "      <td>2023-09-28 09:17:43</td>\n",
       "      <td>6</td>\n",
       "      <td>0.00</td>\n",
       "    </tr>\n",
       "    <tr>\n",
       "      <th>5</th>\n",
       "      <td>2023-09-28 09:17:52</td>\n",
       "      <td>6</td>\n",
       "      <td>0.17</td>\n",
       "    </tr>\n",
       "    <tr>\n",
       "      <th>6</th>\n",
       "      <td>2023-09-28 09:20:33</td>\n",
       "      <td>19</td>\n",
       "      <td>0.00</td>\n",
       "    </tr>\n",
       "    <tr>\n",
       "      <th>7</th>\n",
       "      <td>2023-09-28 09:20:55</td>\n",
       "      <td>19</td>\n",
       "      <td>0.38</td>\n",
       "    </tr>\n",
       "    <tr>\n",
       "      <th>8</th>\n",
       "      <td>2023-09-28 09:23:32</td>\n",
       "      <td>4</td>\n",
       "      <td>0.02</td>\n",
       "    </tr>\n",
       "    <tr>\n",
       "      <th>9</th>\n",
       "      <td>2023-09-28 09:25:44</td>\n",
       "      <td>9</td>\n",
       "      <td>0.02</td>\n",
       "    </tr>\n",
       "  </tbody>\n",
       "</table>\n",
       "</div>"
      ],
      "text/plain": [
       "                   ts  gabarit  time_in_station\n",
       "0 2023-09-28 09:10:26       14             0.02\n",
       "1 2023-09-28 09:13:02       23             0.02\n",
       "2 2023-09-28 09:13:52       17             0.02\n",
       "3 2023-09-28 09:16:14       21             0.02\n",
       "4 2023-09-28 09:17:43        6             0.00\n",
       "5 2023-09-28 09:17:52        6             0.17\n",
       "6 2023-09-28 09:20:33       19             0.00\n",
       "7 2023-09-28 09:20:55       19             0.38\n",
       "8 2023-09-28 09:23:32        4             0.02\n",
       "9 2023-09-28 09:25:44        9             0.02"
      ]
     },
     "metadata": {},
     "output_type": "display_data"
    }
   ],
   "source": [
    "def test(df1):\n",
    "    df1 = df1.iloc[0:10]\n",
    "    return df1\n",
    "\n",
    "df1 = test(df1)\n",
    "display(df1)"
   ]
  },
  {
   "cell_type": "code",
   "execution_count": 81,
   "metadata": {},
   "outputs": [
    {
     "ename": "SyntaxError",
     "evalue": "invalid syntax (433653328.py, line 24)",
     "output_type": "error",
     "traceback": [
      "\u001b[1;36m  Cell \u001b[1;32mIn[81], line 24\u001b[1;36m\u001b[0m\n\u001b[1;33m    print(station1 != 3 && station2 != 4)\u001b[0m\n\u001b[1;37m                         ^\u001b[0m\n\u001b[1;31mSyntaxError\u001b[0m\u001b[1;31m:\u001b[0m invalid syntax\n"
     ]
    }
   ],
   "source": [
    "\n",
    "\n",
    "def time_between_station(df1, df2, station1, station2, max_time):\n",
    "    \"\"\"\n",
    "    Finds and records the time difference between occurrences of the same 'gabarit' in two DataFrames,\n",
    "    df1 and df2, within a specified time window.\n",
    "\n",
    "    Parameters:\n",
    "        - df1: DataFrame containing timestamps and 'gabarit' values for station1.\n",
    "        - df2: DataFrame containing timestamps and 'gabarit' values for station2.\n",
    "        - station1: Identifier for the first station.\n",
    "        - station2: Identifier for the second station.\n",
    "        - max_time: Maximum time window to search for matching occurrences (in minutes).\n",
    "    \n",
    "    Returns:\n",
    "        DataFrame with columns 'gabarit', 'ts' (timestamp), and 'time_bet_station1_station2'\n",
    "        representing the time difference (in minutes) between corresponding occurrences in\n",
    "        station1 and station2 within the specified time window.\n",
    "    \"\"\"\n",
    "    \n",
    "    df_bet = pd.DataFrame(columns=['gabarit', f'time_bet_{station1}_{station2}'])\n",
    "    df_bet['ts'] = pd.NaT  # initialize as datetime type\n",
    "\n",
    "    print(station1 != 3 and station2 != 4)\n",
    "    print(station1 != 3 & station2 != 4)\n",
    "    print(station1 != 3 & station2 != 4)\n",
    "    if (station1 != 3 & station2 != 4): ##1 2 or 2 3 \n",
    "        column_order = ['ts', 'gabarit', f'time_bet_{station1}_{station2}']\n",
    "        df_bet = df_bet[column_order]\n",
    "        print(f'1: {station1}') \n",
    "        print(f'2: {station2}')\n",
    "        df_bet = find_matching_gabarit(df1, df2, station1, station2, max_time, df_bet)\n",
    "    else:\n",
    "        df_bet['model'] = np.nan\n",
    "        column_order = ['ts', 'gabarit', 'model', f'time_bet_{station1}_{station2}']\n",
    "        df_bet = df_bet[column_order]\n",
    "        df_bet = find_matching_gabarit_final(df1, df2, df_bet)\n",
    "\n",
    "    return df_bet\n",
    "\n",
    "\n",
    "def find_matching_gabarit(df1,df2,station1, station2, max_time, df_bet):\n",
    "\n",
    "    cnt = 0\n",
    "            \n",
    "    for index in range(df1.shape[0]):\n",
    "        start_time = df1.loc[index, 'ts']\n",
    "        end_time = start_time + pd.Timedelta(minutes=max_time)\n",
    "        matching_rows = df2[(df2['ts'] >= start_time) & \n",
    "                            (df2['ts'] <= end_time) \n",
    "                                & (df2['gabarit'] == df1.loc[index,'gabarit'])]\n",
    "        if not matching_rows.empty:\n",
    "            first_occurrence = matching_rows.iloc[0]\n",
    "            \n",
    "            # df1: initial time stamp, time_in_station_1\n",
    "            # df2: initial time stamp, time_in_station_2\n",
    "            if (station1 == 1 & station2 == 2):\n",
    "                time_bet = (first_occurrence['time_in_station'] +\n",
    "                        (first_occurrence['ts'] - df1.loc[index, 'ts']).total_seconds()) # in seconds\n",
    "            else:\n",
    "                time_bet = ((first_occurrence['ts'] - df1.loc[index, 'ts'] # in seconds\n",
    "                            - pd.Timedelta(seconds = df1.loc[index, 'time_in_station'])).total_seconds())\n",
    "\n",
    "            #if (first_occurrence['ts'] - df1.loc[index, 'ts']).total_seconds() < df1.loc[index, 'time_in_station']:\n",
    "                #df1: 10:06:00 17\n",
    "                #     10:07:30 17\n",
    "                #df2: 10:07:10 17\n",
    "            #    time_bet = (df1.loc[index, 'time_in_station'] + first_occurrence['time_in_station'])\n",
    "\n",
    "            df_bet.loc[cnt, 'ts'] = df1.loc[index, 'ts']  # Copy the timestamp for reference\n",
    "            df_bet.loc[cnt, 'gabarit'] = first_occurrence['gabarit']\n",
    "            df_bet.loc[cnt, f'time_bet_{station1}_{station2}'] = time_bet #round,2\n",
    "            cnt += 1\n",
    "        \n",
    "    return df_bet\n",
    "\n",
    "def find_matching_gabarit_final(df1, df2, df_bet):\n",
    "\n",
    "    cnt = 0\n",
    "            \n",
    "    for index in range(df1.shape[0]):\n",
    "        start_time = (df1.loc[index, 'ts'] + pd.Timedelta(seconds = df1.loc[index, 'time_in_station'])\n",
    "                      + pd.Timedelta(seconds=20)) # not possible to have a test that takes less than 20 seconds\n",
    "        matching_rows = df2[(df2['Stamp'] >= start_time)]\n",
    "\n",
    "\n",
    "        if not matching_rows.empty:\n",
    "            first_occurrence = matching_rows.iloc[0]\n",
    "            \n",
    "            # df1: initial time stamp, time_in_station_1\n",
    "            # df2: initial time stamp, time_in_station_2\n",
    "            time_bet = ((first_occurrence['Stamp'] - df1.loc[index, 'ts']).total_seconds()) # in minutes\n",
    "\n",
    "            df_bet.loc[cnt, 'ts'] = df1.loc[index, 'ts']  # Copy the timestamp for reference\n",
    "            df_bet.loc[cnt, 'gabarit'] = df1.loc[index,'gabarit']\n",
    "            #print(cnt)\n",
    "            #print(type(first_occurrence['Model']))\n",
    "            #print(first_occurrence['Model'])\n",
    "            df_bet.loc[cnt, 'model'] = str(first_occurrence['Model'])\n",
    "            df_bet.loc[cnt, f'time_bet_3_4'] = time_bet\n",
    "            cnt += 1\n",
    "        \n",
    "    return df_bet\n",
    "\n",
    "\n",
    "def all_time_between_station(df12, df23, df34):\n",
    "    #df_bet_all = pd.DataFrame(columns = ['ts1','time_bet_12','ts2', 'ts2','time_bet_23','ts3','time_bet_34','gabarit','model'])\n",
    "    df_bet_all = pd.DataFrame(columns = ['ts1','gabarit', 'model','time_bet_1_2','time_bet_2_3','time_bet_3_4']) \n",
    "    \n",
    "    station1 = 1\n",
    "    station2 = 2\n",
    "    station3 = 3\n",
    "    station4 = 4\n",
    "    cnt = 0\n",
    "    cnt2 = 0\n",
    "    for index in range(df12.shape[0]):\n",
    "        start_time = (df12.loc[index, 'ts'] + pd.Timedelta(seconds = df12.loc[index, f'time_bet_{station1}_{station2}'])\n",
    "                       - pd.Timedelta(seconds=2))\n",
    "        end_time = start_time + pd.Timedelta(seconds=3)\n",
    "\n",
    "        matching_rows = df23[(df23['ts'] >= start_time) & (df23['ts'] <= end_time) \n",
    "                                & (df23['gabarit'] == df12.loc[index,'gabarit'])]\n",
    "        if not matching_rows.empty:\n",
    "            first_occurrence = matching_rows.iloc[0]\n",
    "            #total_time = (first_occurrence['time_in_station'] - df1.loc[index, 'ts']).total_seconds()) # in seconds\n",
    "            print(df12.loc[index] )\n",
    "            print(first_occurrence)\n",
    "\n",
    "            #df_bet_all.loc[cnt, 'ts1'] = df12.loc[index, 'ts']  # Copy the timestamp for reference\n",
    "            #df_bet_all.loc[cnt, 'gabarit'] = first_occurrence['gabarit']\n",
    "            #df_bet_all.loc[cnt, f'time_bet_{station1}_{station2}'] = df12.loc[index, f'time_bet_{station1}_{station2}'] #round,2\n",
    "            cnt += 1\n",
    "\n",
    "            start_time2 = (first_occurrence['ts'] + pd.Timedelta(seconds = first_occurrence[f'time_bet_{station2}_{station3}']) \n",
    "                          - pd.Timedelta(seconds=2))\n",
    "            end_time2 = start_time2 +   pd.Timedelta(seconds=3)\n",
    "            print(first_occurrence['ts'])\n",
    "            print(first_occurrence[f'time_bet_{station2}_{station3}'])\n",
    "\n",
    "            print(start_time2)\n",
    "            print(end_time2)\n",
    "            matching_rows2 = df34[(df34['ts'] >= start_time2) & (df34['ts'] <= end_time2) \n",
    "                                & (df34['gabarit'] == first_occurrence['gabarit'])]\n",
    "            \n",
    "            if not matching_rows2.empty:\n",
    "                first_occurrence2 = matching_rows2.iloc[0]\n",
    "                #total_time = (first_occurrence['time_in_station'] - df1.loc[index, 'ts']).total_seconds()) # in seconds\n",
    "\n",
    "                print(first_occurrence2)\n",
    "                print()\n",
    "           \n",
    "                #df_bet_all.loc[cnt2, f'time_bet_{station3}_{station4}'] = first_occurrence2[f'time_bet_{station3}_{station4}']\n",
    "                #df_bet_all.loc[cnt2, 'model'] = first_occurrence2['Model']\n",
    "                \n",
    "                #print(first_occurrence['ts'])\n",
    "                cnt2 += 1\n",
    "                \n",
    "\n",
    "\n",
    "\n",
    "    return df_bet_all\n",
    "\n",
    "df_bet_12 = time_between_station(df_in_1, df_in_2, 1, 2, 5)\n",
    "#df_bet_12_ = time_between_station(df1, df2, 1, 2, 4)\n",
    "\n",
    "display(df_bet_12)\n",
    "#display(df_bet_12_)\n",
    "\n",
    "df_bet_23 = time_between_station(df_in_2, df_in_3, 2, 3, 20)\n",
    "#df_bet_23_ = time_between_station(df2, df3, 2, 3, 200,0)\n",
    "\n",
    "display(df_bet_23)\n",
    "#display(df_bet_23_)\n",
    "\n",
    "df_bet_34 = time_between_station(df_in_3, df4, 3, 4, 0)\n",
    "\n",
    "display(df_bet_34)\n",
    "#display(df_bet_34_)\n",
    "\n",
    "df_bet_all = all_time_between_station(df_bet_12, df_bet_23,df_bet_34)\n",
    "display(df_bet_all)\n",
    "\n",
    "\n",
    "    \n"
   ]
  },
  {
   "cell_type": "code",
   "execution_count": null,
   "metadata": {},
   "outputs": [],
   "source": [
    "def plot_time_bet_stations(df_in1, df_in2, df_in3, df_bet12, df_bet23, df_bet34 ):\n",
    "\n",
    "    df_bet = pd.DataFrame(columns=['ts','gabarit', 'model', 'time_bet_1_2', 'time_bet_2_3', 'time_bet_3_4'])\n",
    "    df_bet['ts'] = pd.NaT  # initialize as datetime type\n",
    "    column_order = ['ts','gabarit', 'model', 'time_bet_1_2', 'time_bet_2_3', 'time_bet_3_4']\n",
    "    df_bet = df_bet[column_order]\n",
    "\n",
    "\n",
    "    df1['ts'] - que nao e 0 onde comecamos \n",
    "    somamos este time_in_station a esse ts \n",
    "    somamos time between station 1 e 2 \n",
    "    e somamos time in station que nao seja 0\n",
    "\n",
    "    df1[(df1['time_in_station' != 0])] sacar gabarit e ts\n",
    "    \n",
    "\n",
    "    non_zero_indexes = df1[df1['time_in_station'] != 0].index\n",
    "    matches = []\n",
    "    cnt = 0\n",
    "    \n",
    "    for index in non_zero_indexes:\n",
    "        start_time = df1.loc[index, 'ts']\n",
    "        end_time = start_time + pd.Timedelta(minutes=max_time)\n",
    "        matching_rows = df2[(df2['ts'] >= start_time) & (df2['ts'] <= end_time) \n",
    "                            & (df2['gabarit'] == df1.loc[index,'gabarit'])]\n",
    "        \n",
    "        if not matching_rows.empty:\n",
    "            # Find the first occurrence\n",
    "            first_occurrence = matching_rows.iloc[0]\n",
    "            matches.append((index, first_occurrence.name))\n",
    "            delta_t = (first_occurrence['ts'] - df1.loc[index,'ts']).total_seconds()\n",
    "            df_bet.loc[cnt, 'ts'] = df1.loc[index, 'ts']  # Copy the timestamp for reference\n",
    "            df_bet.loc[cnt, 'gabarit'] = first_occurrence['gabarit']\n",
    "            df_bet.loc[cnt, f'time_bet_{station1}_{station2}'] = round((delta_t / 60),2)\n",
    "            cnt += 1\n",
    "\n",
    "    return df_bet\n",
    "\n",
    "def find_matching_gabarit_final(df1, df2, df_bet):\n",
    "\n",
    "    non_zero_indexes = df1[df1['time_in_station'] != 0].index\n",
    "    matches = []\n",
    "    cnt = 0\n",
    "    \n",
    "    for index in non_zero_indexes:\n",
    "        start_time = df1.loc[index, 'ts'] + pd.Timedelta(seconds=20) # not possible to have a test that takes less than 20 seconds\n",
    "        #end_time = start_time + pd.Timedelta(minutes=max_time)\n",
    "        matching_rows = df2[(df2['Stamp'] >= start_time)]\n",
    "        \n",
    "        if not matching_rows.empty:\n",
    "            # Find the first occurrence\n",
    "            first_occurrence = matching_rows.iloc[0]\n",
    "            matches.append((index, first_occurrence.name))\n",
    "            delta_t = (first_occurrence['Stamp'] - df1.loc[index,'ts']).total_seconds()\n",
    "            df_bet.loc[cnt, 'ts'] = df1.loc[index, 'ts']  # Copy the timestamp for reference\n",
    "            df_bet.loc[cnt, 'gabarit'] = df1.loc[index,'gabarit']\n",
    "            #print(df2[first_occurrence['Model']])\n",
    "            #df_bet.loc[cnt, 'model'] = \"SPT120018W\"\n",
    "            df_bet.loc[cnt, 'model'] = first_occurrence['Model']\n",
    "            df_bet.loc[cnt, f'time_bet_3_4'] = round((delta_t ),2)\n",
    "            cnt += 1\n",
    "\n",
    "    return"
   ]
  }
 ],
 "metadata": {
  "kernelspec": {
   "display_name": "base",
   "language": "python",
   "name": "python3"
  },
  "language_info": {
   "codemirror_mode": {
    "name": "ipython",
    "version": 3
   },
   "file_extension": ".py",
   "mimetype": "text/x-python",
   "name": "python",
   "nbconvert_exporter": "python",
   "pygments_lexer": "ipython3",
   "version": "3.11.4"
  },
  "orig_nbformat": 4
 },
 "nbformat": 4,
 "nbformat_minor": 2
}
