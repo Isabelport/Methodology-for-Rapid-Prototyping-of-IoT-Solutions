{
 "cells": [
  {
   "cell_type": "code",
   "execution_count": 1,
   "id": "08246c9e",
   "metadata": {},
   "outputs": [],
   "source": [
    "import sys\n",
    "import requests\n",
    "import json\n",
    "import pandas as pd\n",
    "from datetime import datetime, timedelta\n",
    "import os\n",
    "import shutil\n",
    "\n",
    "from pprint import PrettyPrinter\n",
    "pp = PrettyPrinter(indent=4)\n",
    "\n"
   ]
  },
  {
   "cell_type": "code",
   "execution_count": 2,
   "id": "7497a887",
   "metadata": {},
   "outputs": [],
   "source": [
    "def adjust_sensors_delay_time(implementation):\n",
    "    \"\"\"\n",
    "    This function returns the delay time for each sensor in order to adjust the data\n",
    "    \"\"\"\n",
    "    #esp32\n",
    "    seconds_delay = 0\n",
    "    milliseconds_delay = 0\n",
    "    if implementation == \"ESP32S3\": \n",
    "        seconds_delay = 2\n",
    "        milliseconds_delay = 920\n",
    "\n",
    "    return timedelta(seconds=seconds_delay, milliseconds=milliseconds_delay)"
   ]
  },
  {
   "cell_type": "code",
   "execution_count": 3,
   "id": "4e0e5008",
   "metadata": {},
   "outputs": [],
   "source": [
    "def jobs_unix_timestamp(implementation, day, month):\n",
    "    epoch = datetime.utcfromtimestamp(0)\n",
    "\n",
    "    #startDT = datetime(2023, month, 13, 19, 0, 0, 0) - timedelta(hours=1) + adjust_sensors_delay_time(implementation)\n",
    "    startDT = datetime(2023, month, day, 9, 0, 0, 0) - timedelta(hours=1) + adjust_sensors_delay_time(implementation)\n",
    "    startTS = int((startDT - epoch).total_seconds() * 1000.0)\n",
    "    #endDT = datetime(2023, month, 14, 7, 0, 0 , 0) - timedelta(hours=1) + adjust_sensors_delay_time(implementation)\n",
    "    endDT = datetime(2023, month, day, 18, 0, 0 , 0) - timedelta(hours=1) + adjust_sensors_delay_time(implementation)\n",
    "    endTS = int((endDT - epoch).total_seconds() * 1000.0)\n",
    "    \n",
    "\n",
    "    return str(startTS), str(endTS)"
   ]
  },
  {
   "cell_type": "code",
   "execution_count": 4,
   "id": "ed222977",
   "metadata": {},
   "outputs": [],
   "source": [
    "RFID_analysis_keys = [\n",
    "    'gabarit'\n",
    "]\n",
    "\n",
    "TASK_analysis_keys = [\n",
    "    'task', 'empid', 'sec'\n",
    "]\n",
    "\n",
    "\n",
    "TASKDISTANCE_analysis_keys= [\n",
    "    'distance',\n",
    "]\n",
    "BLE_analysis_keys = [\n",
    "    'id','rssi'\n",
    "]\n",
    "\n"
   ]
  },
  {
   "cell_type": "code",
   "execution_count": 5,
   "id": "9dfa4243",
   "metadata": {},
   "outputs": [],
   "source": [
    "def json_csv(data, dataset, implementation):\n",
    "    data_df = pd.DataFrame()\n",
    "    first_flag = True\n",
    "    \n",
    "    if dataset == \"rfid\":\n",
    "        analysis_keys = RFID_analysis_keys\n",
    "    elif dataset == \"task\":\n",
    "        analysis_keys = TASK_analysis_keys\n",
    "    elif dataset == \"taskdistance\":\n",
    "        analysis_keys = TASKDISTANCE_analysis_keys\n",
    "    else:\n",
    "        analysis_keys = BLE_analysis_keys\n",
    "\n",
    "\n",
    "\n",
    "    for analysis_key in analysis_keys:\n",
    "        if first_flag:\n",
    "            data_df = pd.DataFrame(data[analysis_key])\n",
    "            data_df = data_df.rename(columns={'value': analysis_key})\n",
    "            first_flag = False\n",
    "        else:\n",
    "            data_df = data_df.join(pd.DataFrame(data[analysis_key]).set_index('ts'), on='ts')\n",
    "            data_df = data_df.rename(columns={'value': analysis_key})\n",
    "    # change the timestamp to seconds\n",
    "    data_df['ts'] = pd.to_datetime(data_df['ts']/1000,unit='s') + timedelta(hours=1) - adjust_sensors_delay_time(implementation)\n",
    "    data_df['ts']= data_df['ts'].astype('datetime64[s]')\n",
    "    return data_df.iloc[::-1]\n",
    "\n",
    "def getToken():\n",
    "    username = 'isabel.portugal@tecnico.ulisboa.pt' #email used to create your ThingsBoard account (your email associated with tennant)\n",
    "    password = 'tHn%Mv1pnmq2av='\t\t#password of your ThingsBoard account (or your tennant account)\n",
    "    url = 'http://iot.istartlab.tecnico.ulisboa.pt/api/auth/login'\n",
    "    headers = {'Content-Type': 'application/json', 'Accept': 'application/json'}\n",
    "    loginJSON = {'username': username, 'password': password}\n",
    "    tokenAuthResp = requests.post(url, headers=headers, json=loginJSON).json()\n",
    "    #print(tokenAuthResp)\n",
    "    token = tokenAuthResp['token']\n",
    "    return token"
   ]
  },
  {
   "cell_type": "code",
   "execution_count": 6,
   "id": "01c061bf",
   "metadata": {},
   "outputs": [
    {
     "name": "stdout",
     "output_type": "stream",
     "text": [
      "<Response [404]>\n",
      "Device with requested id wasn't found!\n"
     ]
    }
   ],
   "source": [
    "tkn = getToken()\n",
    "\n",
    "my_headers = {'X-Authorization':  \"Bearer \" + tkn, \"Content-Type\" : \"application/json\"}\n",
    "#print(my_headers)\n",
    "#url to test connection\n",
    "url = \"http://iot.istartlab.tecnico.ulisboa.pt/api/plugins/telemetry/DEVICE/27110c40-2a6b-11ee-9b43-67453a5ac630/keys/timeseries\"\n",
    "\n",
    "response = requests.get(url, headers=my_headers)\n",
    "print(response) , print(response.text)\n",
    "\n",
    "my_headers = {'X-Authorization':  \"Bearer \" + tkn, \"Content-Type\" : \"application/json\"}\n",
    "#print(my_headers)"
   ]
  },
  {
   "cell_type": "code",
   "execution_count": 7,
   "id": "7fab0b9f",
   "metadata": {},
   "outputs": [],
   "source": [
    "\n",
    "def get_response(day_int,month_int,dataset):\n",
    "\n",
    "    day_str = str(day_int).zfill(2)\n",
    "    month_str = str(month_int).zfill(2)\n",
    "    date = day_str + \"_\" + month_str\n",
    "    print(date)\n",
    "\n",
    "    startTS, endTS = jobs_unix_timestamp(\"ESP32S3\", day_int, month_int)\n",
    "\n",
    "    limit = \"1000000000\"\n",
    "\n",
    "    date_filename = dataset + \"_\" + day_str + \"_\" + month_str\n",
    "\n",
    "    cnt = 1\n",
    "\n",
    "    if dataset == \"rfid\":\n",
    "        devices = [\"27110c40-2a6b-11ee-9b43-67453a5ac633\",\"f4765800-2cc5-11ee-a22d-b5d6c11ab119\",\"10fc9700-2cc6-11ee-a22d-b5d6c11ab119\"]\n",
    "        #for analysis_key in RFID_analysis_keys:\n",
    "        keys = \"ts,gabarit\"\n",
    "\n",
    "    elif dataset == \"task\":\n",
    "        devices = [\"502ba360-d205-11ed-a394-2dc30865e203\"]\n",
    "        #for analysis_key in TASK_analysis_keys:\n",
    "        keys = \"task,empid,sec\" \n",
    "        \n",
    "    elif dataset == \"taskdistance\":\n",
    "        devices = [\"502ba360-d205-11ed-a394-2dc30865e203\"]\n",
    "        keys = \"distance\"\n",
    "\n",
    "    elif dataset == \"ble\":\n",
    "        devices = [\"8516caf0-7a71-11ed-a394-2dc30865e203\",\"fe7d6ff0-b52e-11ed-a394-2dc30865e203\",\"4b593330-2498-11ee-a394-2dc30865e203\" ]\n",
    "        #1: fim da linha, 2: pacotes, 3: elevator\n",
    "        #for analysis_key in BLE_analysis_keys:\n",
    "        keys = \"id,rssi\"\n",
    "    else:   \n",
    "        print(\"Dataset not found\")\n",
    "\n",
    "    print(keys)\n",
    "\n",
    "    for dev in devices:\n",
    "        url = \"http://iot.istartlab.tecnico.ulisboa.pt/api/plugins/telemetry/DEVICE/\" + dev + \"/values/timeseries?keys=\" + keys + \"&startTs=\" + startTS + \"&endTs=\" + endTS + \"&limit=\" + limit\n",
    "        response = requests.get(url, headers=my_headers)\n",
    "        print(response.text)\n",
    "        #if response.text:\n",
    "        #    print(\"No data found in that day\")\n",
    "        #    return\n",
    "        if len(response.text) == 2:\n",
    "            print(\"No data found in that day\")\n",
    "            return\n",
    "        print(\"Response received\", response.text)\n",
    "        data = json.loads(response.text)\n",
    "        data_df = json_csv(data, dataset, \"ESP32S3\")\n",
    "\n",
    "\n",
    "        if dataset == 'ble':\n",
    "            parent_dir = 'C:/Users/isacc/Documents/Faculdade/5ano/Tese/Codigo/API/'\n",
    "            directory = 'ble_' + date\n",
    "            path = os.path.join(parent_dir, directory) \n",
    "            if not os.path.exists(path):\n",
    "                os.mkdir(path)\n",
    "            \n",
    "        print(\"CNT\", cnt)\n",
    "\n",
    "        if dataset == \"rfid\":\n",
    "            data_df.to_csv(date_filename + \"_\" + str(cnt) + \".csv\")\n",
    "\n",
    "        elif dataset == \"ble\":\n",
    "            #base_folder = date_filenam\n",
    "            base_folder = 'ble_' + date\n",
    "            file_name = date_filename + \"_\" + str(cnt) + \".csv\"\n",
    "            file_path = os.path.join(base_folder, file_name)\n",
    "            print(file_path)\n",
    "            data_df.to_csv(file_path)\n",
    "\n",
    "        else:\n",
    "            data_df.to_csv(date_filename + \".csv\")\n",
    "                    #\n",
    "        cnt += 1\n",
    "\n",
    "    print(\"done\")\n",
    "    return"
   ]
  },
  {
   "cell_type": "code",
   "execution_count": 11,
   "id": "c170872a",
   "metadata": {},
   "outputs": [
    {
     "name": "stdout",
     "output_type": "stream",
     "text": [
      "04_10\n",
      "ts,gabarit\n",
      "{\"gabarit\":[{\"ts\":1696437768479,\"value\":\"0\"},{\"ts\":1696437763451,\"value\":\"18\"},{\"ts\":1696437684840,\"value\":\"0\"},{\"ts\":1696437679876,\"value\":\"1\"}]}\n",
      "Response received {\"gabarit\":[{\"ts\":1696437768479,\"value\":\"0\"},{\"ts\":1696437763451,\"value\":\"18\"},{\"ts\":1696437684840,\"value\":\"0\"},{\"ts\":1696437679876,\"value\":\"1\"}]}\n",
      "CNT 1\n",
      "{}\n",
      "No data found in that day\n",
      "\n",
      "05_10\n",
      "ts,gabarit\n",
      "{}\n",
      "No data found in that day\n",
      "\n"
     ]
    }
   ],
   "source": [
    "# CHANGE ONLY THIS\n",
    "#31.07 ate 30.09\n",
    "dataset = \"rfid\"#\"task\"\n",
    "\n",
    "if dataset == \"taskdistance\" or dataset == \"ble\" or dataset == \"rfid\":\n",
    "    start_date = '04/10/2023'\n",
    "    end_date = '05/10/2023'\n",
    "    start_date = pd.to_datetime(start_date, format='%d/%m/%Y')\n",
    "    end_date = pd.to_datetime(end_date, format='%d/%m/%Y')\n",
    "    date_range = pd.date_range(start=start_date, end=end_date)\n",
    "    for date in date_range:\n",
    "        day_int = date.day\n",
    "        month_int = date.month\n",
    "        get_response(day_int,month_int,dataset)\n",
    "        print()\n",
    "else:\n",
    "    day_int = 13\n",
    "    month_int = 10\n",
    "    get_response(day_int,month_int,dataset)"
   ]
  },
  {
   "cell_type": "code",
   "execution_count": 9,
   "id": "424885bf",
   "metadata": {},
   "outputs": [
    {
     "name": "stdout",
     "output_type": "stream",
     "text": [
      "Device with requested id wasn't found!\n"
     ]
    }
   ],
   "source": [
    "print(response.text)"
   ]
  }
 ],
 "metadata": {
  "kernelspec": {
   "display_name": "Python 3",
   "language": "python",
   "name": "python3"
  },
  "language_info": {
   "codemirror_mode": {
    "name": "ipython",
    "version": 3
   },
   "file_extension": ".py",
   "mimetype": "text/x-python",
   "name": "python",
   "nbconvert_exporter": "python",
   "pygments_lexer": "ipython3",
   "version": "3.11.4"
  },
  "vscode": {
   "interpreter": {
    "hash": "26de051ba29f2982a8de78e945f0abaf191376122a1563185a90213a26c5da77"
   }
  }
 },
 "nbformat": 4,
 "nbformat_minor": 5
}
