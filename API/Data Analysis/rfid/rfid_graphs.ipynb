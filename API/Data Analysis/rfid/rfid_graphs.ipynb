{
 "cells": [
  {
   "cell_type": "code",
   "execution_count": 51,
   "metadata": {},
   "outputs": [],
   "source": [
    "import plotly.express as px\n",
    "import os\n",
    "import pandas as pd\n",
    "import numpy as np\n",
    "import plotly.graph_objects as go\n",
    "\n",
    "#import csv\n",
    "pd.set_option('display.max_rows', None)  # Display all rows\n"
   ]
  },
  {
   "cell_type": "code",
   "execution_count": null,
   "metadata": {},
   "outputs": [],
   "source": []
  },
  {
   "cell_type": "code",
   "execution_count": 52,
   "metadata": {},
   "outputs": [],
   "source": [
    "#if not os.path.exists(\"images\"):\n",
    "#    os.mkdir(\"images\")\n",
    "\n",
    "dataset = \"rfid\"\n",
    "\n",
    "def process_file(file_number, date):\n",
    "    folder_path = dataset + '_' + date + '/'\n",
    "    file_path = os.path.join(folder_path, f'rfid_{date}_{file_number}.csv')\n",
    "    if os.path.exists(file_path):\n",
    "        #print(file_path)\n",
    "        if file_number == \"final\":\n",
    "            #file_path = os.path.join(\"rfid_fabrica\", f'rfid_final.csv')\n",
    "            df = pd.read_csv(file_path, parse_dates=['Stamp'])\n",
    "            if df.shape[1] == 6:\n",
    "                df = df.drop(df.columns[0], axis=1)\n",
    "                df = df.drop(df.columns[1], axis=1)\n",
    "                df = df.drop(df.columns[2], axis=1)\n",
    "\n",
    "\n",
    "            if df.shape[1] == 4:\n",
    "                df = df.drop(df.columns[3], axis=1)\n",
    "                df = df.drop(df.columns[1], axis=1)\n",
    "            df.to_csv(file_path, index = False)\n",
    "\n",
    "        else:\n",
    "            df = pd.read_csv(file_path, parse_dates=['ts'])\n",
    "\n",
    "            # Remove first empty column if it exists\n",
    "            if df.shape[1] == 3:\n",
    "                df = df.drop(df.columns[0], axis=1)\n",
    "            # Remove entries with 'gabarit' equal to 0\n",
    "            df= df[df['gabarit'] != 0]\n",
    "\n",
    "            # Write the updated DataFrame back to the CSV file\n",
    "            df.to_csv(file_path, index = False)\n",
    "            # Reset the index of the DataFrame\n",
    "            df = df.reset_index(drop = True) \n",
    "    else:\n",
    "        return pd.DataFrame\n",
    "\n",
    "    return df\n",
    "\n",
    "day = \"10\"\n",
    "month = \"10\"\n",
    "date = day + \"_\" + month #change date accordingly\n",
    "date_year = \"2023-\" + month + \"-\" + day\n",
    "\n",
    "df1 = process_file(\"1\",date)\n",
    "df2 = process_file(\"2\",date)\n",
    "df3 = process_file(\"3\",date)\n",
    "df4 = process_file(\"final\",date)\n",
    "df4['Model'] = df4['Model'].replace({'SPT130023W': 'Y', 'SPT120018W': 'X', 'SPT140034W': 'Z'})\n",
    "\n",
    "\n"
   ]
  },
  {
   "cell_type": "code",
   "execution_count": 53,
   "metadata": {},
   "outputs": [],
   "source": [
    "def remove_top_n_outliers(df, column_name, n):\n",
    "    # Calculate the z-score for the specified column\n",
    "    z_scores = (df[column_name] - df[column_name].mean()) / df[column_name].std()\n",
    "\n",
    "    df_cleaned = df[z_scores < z_scores.nlargest(n).iloc[-1]]\n",
    "\n",
    "    return df_cleaned\n",
    "\n",
    "df4['Time_Diff'] = df4['Stamp'].diff().dt.total_seconds()\n",
    "df4 = remove_top_n_outliers(df4, 'Time_Diff', 1) #lunch break\n",
    "df4.loc[:,'Time_Diff'] = round(df4['Time_Diff']/60,2)"
   ]
  },
  {
   "cell_type": "code",
   "execution_count": 54,
   "metadata": {},
   "outputs": [],
   "source": [
    "# calculates time and writes it in dataframe\n",
    "def calc_time_in_station(df, df_in, index_i, index_f, cnt):\n",
    "    if index_f - index_i == 0:\n",
    "        time_in_station = 1\n",
    "    else: \n",
    "        time_in_station = ((df.loc[index_f, 'ts'] - df.loc[index_i, 'ts']).total_seconds() + 1)\n",
    "\n",
    "    df_in.loc[cnt,'ts'] = df.loc[index_i, 'ts']\n",
    "    df_in.loc[cnt,'gabarit'] = df.loc[index_i, 'gabarit']\n",
    "    df_in.loc[cnt,'time_in_station'] = time_in_station\n",
    "\n",
    "    cnt += 1\n",
    "\n",
    "    return df_in, cnt\n",
    "\n",
    "\n",
    "def time_in_station_fun(df):\n",
    "    \"\"\"\n",
    "    Calculates and records the time spent in a station for each occurrence of a 'gabarit' in a DataFrame in seconds.\n",
    "\n",
    "    Parameters:\n",
    "        - df: DataFrame containing timestamps and 'gabarit' values.\n",
    "\n",
    "    Returns:\n",
    "        DataFrame with an added 'time_in_station' column representing the time\n",
    "        spent in the station for each occurrence (in seconds).\n",
    "    \"\"\"\n",
    "    \n",
    "    curr_gabarit = 0\n",
    "    index_i = 0  # Initialize index_i outside the loop\n",
    "    index_f = 0  # Initialize index_f outside the loop\n",
    "    cnt = 0\n",
    "    df_in = pd.DataFrame(columns=['ts', 'gabarit', 'time_in_station'])\n",
    "    #df_in['ts'] = pd.to_datetime(df['ts'])\n",
    "\n",
    "    for i in range(df.shape[0]): #0 to 129\n",
    "        if i != 0: # not first index\n",
    "            if ((df.loc[i, 'gabarit'] != curr_gabarit)):\n",
    "                # routine to present final result\n",
    "                df_in, cnt = calc_time_in_station(df, df_in, index_i, index_f, cnt)\n",
    "            \n",
    "          \n",
    "            # new gabarit is found, i = f\n",
    "            if df.loc[i, 'gabarit'] != df.loc[i-1, 'gabarit']:\n",
    "                curr_gabarit = df.loc[i, 'gabarit']\n",
    "                index_i = i # starts the interval\n",
    "                index_f = i\n",
    "        else: # for first entry, i = f\n",
    "            curr_gabarit = df.loc[i, 'gabarit']\n",
    "            index_i = i\n",
    "            index_f = i\n",
    "\n",
    "        \n",
    "        if i != df.shape[0] - 1: # not last index \n",
    "            if df.loc[i, 'gabarit'] == df.loc[i+1, 'gabarit']:\n",
    "                index_f = i+1\n",
    "        else:\n",
    "            index_f = i           \n",
    "            df_in, cnt = calc_time_in_station(df, df_in, index_i, index_f, cnt)\n",
    "\n",
    "    return df_in\n",
    "\n",
    "\n",
    "def plot_histogram(df, station,color):\n",
    "    df = df[df['time_in_station'] != 0]\n",
    "\n",
    "    df['time_in_station'] = df['time_in_station'] /60\n",
    "    \n",
    "    fig2 = px.histogram(df, x='time_in_station', range_x=[0, 2], range_y = [0,25], nbins = 20,\n",
    "                        labels={'time_in_station': 'Time in Station (minutes)','count': 'Frequency'},\n",
    "                        title = f'Frequency of gabarit\\'s dwell time in station {station}',\n",
    "                        width = 900, color_discrete_sequence=[color])\n",
    "    fig2.update_traces(marker=dict(line=dict(width=0.2)))\n",
    "    fig2.show()\n",
    "\n",
    "    fig2.write_image(\"images/histogram_\" + dataset + \"_\" + day + \"_\" + month + \"_\" + str(station) + \".pdf\")\n",
    "\n"
   ]
  },
  {
   "cell_type": "code",
   "execution_count": 55,
   "metadata": {},
   "outputs": [],
   "source": [
    "def remove_outlier_quart(df, value, quantile = 0.1):\n",
    "    # Calculate the first quartile (Q1) and third quartile (Q3)\n",
    "    filtered_df = pd.DataFrame\n",
    "    Q1 = df[value].quantile(quantile)\n",
    "    Q3 = df[value].quantile(1-quantile)\n",
    "\n",
    "    # Calculate the Interquartile Range (IQR)\n",
    "    IQR = Q3 - Q1\n",
    "\n",
    "    # Define the lower and upper bounds to filter outliers\n",
    "    lower_bound = Q1 - 1.5 * IQR\n",
    "    upper_bound = Q3 + 1.5 * IQR\n",
    "    if value == 'time_in_station':\n",
    "        filtered_df = df[(df[value] <= upper_bound)]\n",
    "    else:\n",
    "        filtered_df = df[(df[value] >= lower_bound) & (df[value] <= upper_bound)]\n",
    "\n",
    "    return(filtered_df)"
   ]
  },
  {
   "cell_type": "code",
   "execution_count": 56,
   "metadata": {},
   "outputs": [
    {
     "data": {
      "application/vnd.plotly.v1+json": {
       "config": {
        "plotlyServerURL": "https://plot.ly"
       },
       "data": [
        {
         "alignmentgroup": "True",
         "bingroup": "x",
         "hovertemplate": "Time in Station (minutes)=%{x}<br>count=%{y}<extra></extra>",
         "legendgroup": "",
         "marker": {
          "color": "darkblue",
          "line": {
           "width": 0.2
          },
          "pattern": {
           "shape": ""
          }
         },
         "name": "",
         "nbinsx": 20,
         "offsetgroup": "",
         "orientation": "v",
         "showlegend": false,
         "type": "histogram",
         "x": [
          0.016666666666666666,
          0.016666666666666666,
          0.016666666666666666,
          0.016666666666666666,
          0.016666666666666666,
          0.016666666666666666,
          0.016666666666666666,
          0.016666666666666666,
          0.016666666666666666,
          0.016666666666666666,
          0.016666666666666666,
          1.0833333333333333,
          0.016666666666666666,
          0.016666666666666666,
          0.016666666666666666,
          0.016666666666666666,
          0.016666666666666666,
          0.016666666666666666,
          0.016666666666666666,
          0.016666666666666666,
          0.016666666666666666,
          0.016666666666666666,
          0.016666666666666666,
          0.016666666666666666,
          0.016666666666666666,
          0.016666666666666666,
          0.016666666666666666,
          0.016666666666666666,
          0.016666666666666666,
          0.016666666666666666,
          0.016666666666666666,
          0.016666666666666666,
          0.016666666666666666,
          0.9166666666666666,
          0.016666666666666666,
          0.016666666666666666,
          0.016666666666666666,
          1.1,
          0.016666666666666666,
          0.016666666666666666,
          1.4,
          1.25,
          0.016666666666666666,
          0.016666666666666666,
          0.016666666666666666,
          0.016666666666666666,
          0.016666666666666666,
          1.4833333333333334,
          1.0833333333333333,
          0.016666666666666666,
          0.016666666666666666,
          0.016666666666666666,
          0.016666666666666666,
          0.016666666666666666,
          0.016666666666666666,
          0.016666666666666666,
          0.016666666666666666,
          0.016666666666666666,
          0.016666666666666666,
          0.016666666666666666,
          0.016666666666666666,
          0.016666666666666666,
          0.016666666666666666,
          0.016666666666666666,
          0.016666666666666666,
          0.016666666666666666,
          0.016666666666666666,
          0.016666666666666666,
          0.016666666666666666,
          0.016666666666666666,
          0.016666666666666666,
          0.016666666666666666,
          0.016666666666666666,
          0.016666666666666666,
          0.016666666666666666,
          0.016666666666666666,
          0.016666666666666666,
          0.016666666666666666,
          0.016666666666666666,
          0.016666666666666666,
          0.016666666666666666,
          0.016666666666666666,
          1.0666666666666667,
          0.016666666666666666,
          0.016666666666666666,
          0.016666666666666666,
          0.016666666666666666,
          0.016666666666666666,
          0.016666666666666666,
          0.016666666666666666,
          0.016666666666666666,
          0.016666666666666666,
          0.016666666666666666,
          0.016666666666666666,
          0.016666666666666666,
          0.016666666666666666,
          0.016666666666666666,
          0.016666666666666666,
          1.2333333333333334,
          0.016666666666666666,
          0.016666666666666666,
          0.016666666666666666,
          0.016666666666666666,
          0.016666666666666666,
          0.016666666666666666,
          0.016666666666666666,
          0.016666666666666666,
          0.016666666666666666,
          0.016666666666666666,
          0.016666666666666666,
          0.016666666666666666,
          0.016666666666666666,
          0.016666666666666666,
          0.016666666666666666,
          0.016666666666666666,
          0.016666666666666666,
          0.16666666666666666,
          0.016666666666666666,
          0.016666666666666666,
          0.016666666666666666,
          0.016666666666666666,
          0.016666666666666666,
          0.016666666666666666,
          0.016666666666666666,
          0.016666666666666666,
          0.016666666666666666,
          0.016666666666666666,
          1.5166666666666666,
          0.016666666666666666,
          0.016666666666666666,
          0.016666666666666666,
          0.016666666666666666,
          1.0166666666666666,
          0.016666666666666666,
          0.016666666666666666,
          0.016666666666666666,
          0.016666666666666666,
          0.016666666666666666,
          0.016666666666666666,
          0.016666666666666666,
          0.016666666666666666,
          0.016666666666666666,
          0.016666666666666666,
          0.016666666666666666,
          0.016666666666666666,
          0.016666666666666666,
          0.016666666666666666,
          0.016666666666666666,
          0.016666666666666666,
          0.016666666666666666,
          0.6333333333333333,
          0.016666666666666666,
          0.016666666666666666,
          0.016666666666666666,
          0.016666666666666666,
          0.25,
          0.016666666666666666,
          0.016666666666666666,
          0.016666666666666666,
          0.016666666666666666,
          0.016666666666666666,
          0.016666666666666666,
          0.016666666666666666,
          0.016666666666666666,
          0.016666666666666666,
          0.016666666666666666,
          0.016666666666666666,
          0.016666666666666666,
          0.016666666666666666,
          0.016666666666666666,
          0.016666666666666666,
          0.016666666666666666,
          0.016666666666666666,
          0.016666666666666666,
          0.016666666666666666,
          0.016666666666666666,
          0.21666666666666667,
          0.016666666666666666,
          0.016666666666666666,
          0.016666666666666666,
          0.016666666666666666,
          0.016666666666666666,
          0.016666666666666666,
          1.0833333333333333,
          0.016666666666666666,
          0.016666666666666666,
          0.016666666666666666,
          0.016666666666666666,
          0.016666666666666666,
          0.016666666666666666,
          0.016666666666666666,
          0.016666666666666666,
          0.016666666666666666,
          0.016666666666666666,
          0.016666666666666666,
          0.016666666666666666,
          0.016666666666666666,
          0.016666666666666666,
          0.016666666666666666,
          0.016666666666666666,
          0.016666666666666666,
          0.016666666666666666,
          0.016666666666666666,
          0.6666666666666666,
          0.016666666666666666,
          0.016666666666666666,
          0.016666666666666666,
          0.016666666666666666,
          0.016666666666666666,
          0.016666666666666666,
          0.016666666666666666,
          0.016666666666666666,
          0.016666666666666666,
          0.016666666666666666,
          0.016666666666666666,
          0.016666666666666666,
          0.016666666666666666,
          0.016666666666666666,
          0.016666666666666666,
          0.016666666666666666,
          0.016666666666666666,
          0.016666666666666666,
          0.016666666666666666,
          0.016666666666666666,
          0.016666666666666666,
          0.016666666666666666,
          0.016666666666666666,
          0.016666666666666666,
          0.016666666666666666,
          0.016666666666666666,
          0.016666666666666666,
          0.016666666666666666,
          0.016666666666666666,
          0.016666666666666666,
          0.016666666666666666,
          0.016666666666666666,
          0.016666666666666666,
          0.016666666666666666,
          0.016666666666666666,
          0.016666666666666666,
          0.016666666666666666,
          0.016666666666666666,
          0.016666666666666666,
          0.016666666666666666,
          0.016666666666666666,
          0.016666666666666666,
          0.016666666666666666,
          0.016666666666666666,
          0.016666666666666666,
          0.016666666666666666,
          0.016666666666666666,
          0.016666666666666666,
          0.016666666666666666,
          0.016666666666666666,
          0.016666666666666666,
          0.016666666666666666,
          0.016666666666666666,
          0.23333333333333334,
          0.016666666666666666,
          0.016666666666666666,
          0.016666666666666666,
          0.016666666666666666,
          0.016666666666666666,
          0.06666666666666667,
          0.016666666666666666
         ],
         "xaxis": "x",
         "yaxis": "y"
        }
       ],
       "layout": {
        "barmode": "relative",
        "legend": {
         "tracegroupgap": 0
        },
        "template": {
         "data": {
          "bar": [
           {
            "error_x": {
             "color": "#2a3f5f"
            },
            "error_y": {
             "color": "#2a3f5f"
            },
            "marker": {
             "line": {
              "color": "#E5ECF6",
              "width": 0.5
             },
             "pattern": {
              "fillmode": "overlay",
              "size": 10,
              "solidity": 0.2
             }
            },
            "type": "bar"
           }
          ],
          "barpolar": [
           {
            "marker": {
             "line": {
              "color": "#E5ECF6",
              "width": 0.5
             },
             "pattern": {
              "fillmode": "overlay",
              "size": 10,
              "solidity": 0.2
             }
            },
            "type": "barpolar"
           }
          ],
          "carpet": [
           {
            "aaxis": {
             "endlinecolor": "#2a3f5f",
             "gridcolor": "white",
             "linecolor": "white",
             "minorgridcolor": "white",
             "startlinecolor": "#2a3f5f"
            },
            "baxis": {
             "endlinecolor": "#2a3f5f",
             "gridcolor": "white",
             "linecolor": "white",
             "minorgridcolor": "white",
             "startlinecolor": "#2a3f5f"
            },
            "type": "carpet"
           }
          ],
          "choropleth": [
           {
            "colorbar": {
             "outlinewidth": 0,
             "ticks": ""
            },
            "type": "choropleth"
           }
          ],
          "contour": [
           {
            "colorbar": {
             "outlinewidth": 0,
             "ticks": ""
            },
            "colorscale": [
             [
              0,
              "#0d0887"
             ],
             [
              0.1111111111111111,
              "#46039f"
             ],
             [
              0.2222222222222222,
              "#7201a8"
             ],
             [
              0.3333333333333333,
              "#9c179e"
             ],
             [
              0.4444444444444444,
              "#bd3786"
             ],
             [
              0.5555555555555556,
              "#d8576b"
             ],
             [
              0.6666666666666666,
              "#ed7953"
             ],
             [
              0.7777777777777778,
              "#fb9f3a"
             ],
             [
              0.8888888888888888,
              "#fdca26"
             ],
             [
              1,
              "#f0f921"
             ]
            ],
            "type": "contour"
           }
          ],
          "contourcarpet": [
           {
            "colorbar": {
             "outlinewidth": 0,
             "ticks": ""
            },
            "type": "contourcarpet"
           }
          ],
          "heatmap": [
           {
            "colorbar": {
             "outlinewidth": 0,
             "ticks": ""
            },
            "colorscale": [
             [
              0,
              "#0d0887"
             ],
             [
              0.1111111111111111,
              "#46039f"
             ],
             [
              0.2222222222222222,
              "#7201a8"
             ],
             [
              0.3333333333333333,
              "#9c179e"
             ],
             [
              0.4444444444444444,
              "#bd3786"
             ],
             [
              0.5555555555555556,
              "#d8576b"
             ],
             [
              0.6666666666666666,
              "#ed7953"
             ],
             [
              0.7777777777777778,
              "#fb9f3a"
             ],
             [
              0.8888888888888888,
              "#fdca26"
             ],
             [
              1,
              "#f0f921"
             ]
            ],
            "type": "heatmap"
           }
          ],
          "heatmapgl": [
           {
            "colorbar": {
             "outlinewidth": 0,
             "ticks": ""
            },
            "colorscale": [
             [
              0,
              "#0d0887"
             ],
             [
              0.1111111111111111,
              "#46039f"
             ],
             [
              0.2222222222222222,
              "#7201a8"
             ],
             [
              0.3333333333333333,
              "#9c179e"
             ],
             [
              0.4444444444444444,
              "#bd3786"
             ],
             [
              0.5555555555555556,
              "#d8576b"
             ],
             [
              0.6666666666666666,
              "#ed7953"
             ],
             [
              0.7777777777777778,
              "#fb9f3a"
             ],
             [
              0.8888888888888888,
              "#fdca26"
             ],
             [
              1,
              "#f0f921"
             ]
            ],
            "type": "heatmapgl"
           }
          ],
          "histogram": [
           {
            "marker": {
             "pattern": {
              "fillmode": "overlay",
              "size": 10,
              "solidity": 0.2
             }
            },
            "type": "histogram"
           }
          ],
          "histogram2d": [
           {
            "colorbar": {
             "outlinewidth": 0,
             "ticks": ""
            },
            "colorscale": [
             [
              0,
              "#0d0887"
             ],
             [
              0.1111111111111111,
              "#46039f"
             ],
             [
              0.2222222222222222,
              "#7201a8"
             ],
             [
              0.3333333333333333,
              "#9c179e"
             ],
             [
              0.4444444444444444,
              "#bd3786"
             ],
             [
              0.5555555555555556,
              "#d8576b"
             ],
             [
              0.6666666666666666,
              "#ed7953"
             ],
             [
              0.7777777777777778,
              "#fb9f3a"
             ],
             [
              0.8888888888888888,
              "#fdca26"
             ],
             [
              1,
              "#f0f921"
             ]
            ],
            "type": "histogram2d"
           }
          ],
          "histogram2dcontour": [
           {
            "colorbar": {
             "outlinewidth": 0,
             "ticks": ""
            },
            "colorscale": [
             [
              0,
              "#0d0887"
             ],
             [
              0.1111111111111111,
              "#46039f"
             ],
             [
              0.2222222222222222,
              "#7201a8"
             ],
             [
              0.3333333333333333,
              "#9c179e"
             ],
             [
              0.4444444444444444,
              "#bd3786"
             ],
             [
              0.5555555555555556,
              "#d8576b"
             ],
             [
              0.6666666666666666,
              "#ed7953"
             ],
             [
              0.7777777777777778,
              "#fb9f3a"
             ],
             [
              0.8888888888888888,
              "#fdca26"
             ],
             [
              1,
              "#f0f921"
             ]
            ],
            "type": "histogram2dcontour"
           }
          ],
          "mesh3d": [
           {
            "colorbar": {
             "outlinewidth": 0,
             "ticks": ""
            },
            "type": "mesh3d"
           }
          ],
          "parcoords": [
           {
            "line": {
             "colorbar": {
              "outlinewidth": 0,
              "ticks": ""
             }
            },
            "type": "parcoords"
           }
          ],
          "pie": [
           {
            "automargin": true,
            "type": "pie"
           }
          ],
          "scatter": [
           {
            "fillpattern": {
             "fillmode": "overlay",
             "size": 10,
             "solidity": 0.2
            },
            "type": "scatter"
           }
          ],
          "scatter3d": [
           {
            "line": {
             "colorbar": {
              "outlinewidth": 0,
              "ticks": ""
             }
            },
            "marker": {
             "colorbar": {
              "outlinewidth": 0,
              "ticks": ""
             }
            },
            "type": "scatter3d"
           }
          ],
          "scattercarpet": [
           {
            "marker": {
             "colorbar": {
              "outlinewidth": 0,
              "ticks": ""
             }
            },
            "type": "scattercarpet"
           }
          ],
          "scattergeo": [
           {
            "marker": {
             "colorbar": {
              "outlinewidth": 0,
              "ticks": ""
             }
            },
            "type": "scattergeo"
           }
          ],
          "scattergl": [
           {
            "marker": {
             "colorbar": {
              "outlinewidth": 0,
              "ticks": ""
             }
            },
            "type": "scattergl"
           }
          ],
          "scattermapbox": [
           {
            "marker": {
             "colorbar": {
              "outlinewidth": 0,
              "ticks": ""
             }
            },
            "type": "scattermapbox"
           }
          ],
          "scatterpolar": [
           {
            "marker": {
             "colorbar": {
              "outlinewidth": 0,
              "ticks": ""
             }
            },
            "type": "scatterpolar"
           }
          ],
          "scatterpolargl": [
           {
            "marker": {
             "colorbar": {
              "outlinewidth": 0,
              "ticks": ""
             }
            },
            "type": "scatterpolargl"
           }
          ],
          "scatterternary": [
           {
            "marker": {
             "colorbar": {
              "outlinewidth": 0,
              "ticks": ""
             }
            },
            "type": "scatterternary"
           }
          ],
          "surface": [
           {
            "colorbar": {
             "outlinewidth": 0,
             "ticks": ""
            },
            "colorscale": [
             [
              0,
              "#0d0887"
             ],
             [
              0.1111111111111111,
              "#46039f"
             ],
             [
              0.2222222222222222,
              "#7201a8"
             ],
             [
              0.3333333333333333,
              "#9c179e"
             ],
             [
              0.4444444444444444,
              "#bd3786"
             ],
             [
              0.5555555555555556,
              "#d8576b"
             ],
             [
              0.6666666666666666,
              "#ed7953"
             ],
             [
              0.7777777777777778,
              "#fb9f3a"
             ],
             [
              0.8888888888888888,
              "#fdca26"
             ],
             [
              1,
              "#f0f921"
             ]
            ],
            "type": "surface"
           }
          ],
          "table": [
           {
            "cells": {
             "fill": {
              "color": "#EBF0F8"
             },
             "line": {
              "color": "white"
             }
            },
            "header": {
             "fill": {
              "color": "#C8D4E3"
             },
             "line": {
              "color": "white"
             }
            },
            "type": "table"
           }
          ]
         },
         "layout": {
          "annotationdefaults": {
           "arrowcolor": "#2a3f5f",
           "arrowhead": 0,
           "arrowwidth": 1
          },
          "autotypenumbers": "strict",
          "coloraxis": {
           "colorbar": {
            "outlinewidth": 0,
            "ticks": ""
           }
          },
          "colorscale": {
           "diverging": [
            [
             0,
             "#8e0152"
            ],
            [
             0.1,
             "#c51b7d"
            ],
            [
             0.2,
             "#de77ae"
            ],
            [
             0.3,
             "#f1b6da"
            ],
            [
             0.4,
             "#fde0ef"
            ],
            [
             0.5,
             "#f7f7f7"
            ],
            [
             0.6,
             "#e6f5d0"
            ],
            [
             0.7,
             "#b8e186"
            ],
            [
             0.8,
             "#7fbc41"
            ],
            [
             0.9,
             "#4d9221"
            ],
            [
             1,
             "#276419"
            ]
           ],
           "sequential": [
            [
             0,
             "#0d0887"
            ],
            [
             0.1111111111111111,
             "#46039f"
            ],
            [
             0.2222222222222222,
             "#7201a8"
            ],
            [
             0.3333333333333333,
             "#9c179e"
            ],
            [
             0.4444444444444444,
             "#bd3786"
            ],
            [
             0.5555555555555556,
             "#d8576b"
            ],
            [
             0.6666666666666666,
             "#ed7953"
            ],
            [
             0.7777777777777778,
             "#fb9f3a"
            ],
            [
             0.8888888888888888,
             "#fdca26"
            ],
            [
             1,
             "#f0f921"
            ]
           ],
           "sequentialminus": [
            [
             0,
             "#0d0887"
            ],
            [
             0.1111111111111111,
             "#46039f"
            ],
            [
             0.2222222222222222,
             "#7201a8"
            ],
            [
             0.3333333333333333,
             "#9c179e"
            ],
            [
             0.4444444444444444,
             "#bd3786"
            ],
            [
             0.5555555555555556,
             "#d8576b"
            ],
            [
             0.6666666666666666,
             "#ed7953"
            ],
            [
             0.7777777777777778,
             "#fb9f3a"
            ],
            [
             0.8888888888888888,
             "#fdca26"
            ],
            [
             1,
             "#f0f921"
            ]
           ]
          },
          "colorway": [
           "#636efa",
           "#EF553B",
           "#00cc96",
           "#ab63fa",
           "#FFA15A",
           "#19d3f3",
           "#FF6692",
           "#B6E880",
           "#FF97FF",
           "#FECB52"
          ],
          "font": {
           "color": "#2a3f5f"
          },
          "geo": {
           "bgcolor": "white",
           "lakecolor": "white",
           "landcolor": "#E5ECF6",
           "showlakes": true,
           "showland": true,
           "subunitcolor": "white"
          },
          "hoverlabel": {
           "align": "left"
          },
          "hovermode": "closest",
          "mapbox": {
           "style": "light"
          },
          "paper_bgcolor": "white",
          "plot_bgcolor": "#E5ECF6",
          "polar": {
           "angularaxis": {
            "gridcolor": "white",
            "linecolor": "white",
            "ticks": ""
           },
           "bgcolor": "#E5ECF6",
           "radialaxis": {
            "gridcolor": "white",
            "linecolor": "white",
            "ticks": ""
           }
          },
          "scene": {
           "xaxis": {
            "backgroundcolor": "#E5ECF6",
            "gridcolor": "white",
            "gridwidth": 2,
            "linecolor": "white",
            "showbackground": true,
            "ticks": "",
            "zerolinecolor": "white"
           },
           "yaxis": {
            "backgroundcolor": "#E5ECF6",
            "gridcolor": "white",
            "gridwidth": 2,
            "linecolor": "white",
            "showbackground": true,
            "ticks": "",
            "zerolinecolor": "white"
           },
           "zaxis": {
            "backgroundcolor": "#E5ECF6",
            "gridcolor": "white",
            "gridwidth": 2,
            "linecolor": "white",
            "showbackground": true,
            "ticks": "",
            "zerolinecolor": "white"
           }
          },
          "shapedefaults": {
           "line": {
            "color": "#2a3f5f"
           }
          },
          "ternary": {
           "aaxis": {
            "gridcolor": "white",
            "linecolor": "white",
            "ticks": ""
           },
           "baxis": {
            "gridcolor": "white",
            "linecolor": "white",
            "ticks": ""
           },
           "bgcolor": "#E5ECF6",
           "caxis": {
            "gridcolor": "white",
            "linecolor": "white",
            "ticks": ""
           }
          },
          "title": {
           "x": 0.05
          },
          "xaxis": {
           "automargin": true,
           "gridcolor": "white",
           "linecolor": "white",
           "ticks": "",
           "title": {
            "standoff": 15
           },
           "zerolinecolor": "white",
           "zerolinewidth": 2
          },
          "yaxis": {
           "automargin": true,
           "gridcolor": "white",
           "linecolor": "white",
           "ticks": "",
           "title": {
            "standoff": 15
           },
           "zerolinecolor": "white",
           "zerolinewidth": 2
          }
         }
        },
        "title": {
         "text": "Frequency of gabarit's dwell time in station 1"
        },
        "width": 900,
        "xaxis": {
         "anchor": "y",
         "domain": [
          0,
          1
         ],
         "range": [
          0,
          2
         ],
         "title": {
          "text": "Time in Station (minutes)"
         }
        },
        "yaxis": {
         "anchor": "x",
         "domain": [
          0,
          1
         ],
         "range": [
          0,
          25
         ],
         "title": {
          "text": "count"
         }
        }
       }
      }
     },
     "metadata": {},
     "output_type": "display_data"
    },
    {
     "data": {
      "application/vnd.plotly.v1+json": {
       "config": {
        "plotlyServerURL": "https://plot.ly"
       },
       "data": [
        {
         "alignmentgroup": "True",
         "bingroup": "x",
         "hovertemplate": "Time in Station (minutes)=%{x}<br>count=%{y}<extra></extra>",
         "legendgroup": "",
         "marker": {
          "color": "dodgerblue",
          "line": {
           "width": 0.2
          },
          "pattern": {
           "shape": ""
          }
         },
         "name": "",
         "nbinsx": 20,
         "offsetgroup": "",
         "orientation": "v",
         "showlegend": false,
         "type": "histogram",
         "x": [
          0.21666666666666667,
          0.016666666666666666,
          0.1,
          0.016666666666666666,
          0.016666666666666666,
          3.0166666666666666,
          0.016666666666666666,
          0.016666666666666666,
          0.016666666666666666,
          1.5333333333333334,
          0.016666666666666666,
          0.016666666666666666,
          0.11666666666666667,
          0.4666666666666667,
          0.016666666666666666,
          0.11666666666666667,
          0.016666666666666666,
          0.016666666666666666,
          0.03333333333333333,
          0.016666666666666666,
          0.016666666666666666,
          0.016666666666666666,
          0.016666666666666666,
          0.016666666666666666,
          1.7666666666666666,
          0.1,
          0.016666666666666666,
          1.05,
          0.6,
          0.016666666666666666,
          0.016666666666666666,
          0.016666666666666666,
          0.016666666666666666,
          0.016666666666666666,
          0.016666666666666666,
          0.016666666666666666,
          0.016666666666666666,
          0.016666666666666666,
          0.016666666666666666,
          0.016666666666666666,
          0.016666666666666666,
          0.21666666666666667,
          0.016666666666666666,
          0.016666666666666666,
          0.016666666666666666,
          0.016666666666666666,
          0.55,
          0.016666666666666666,
          0.016666666666666666,
          0.016666666666666666,
          0.016666666666666666,
          0.016666666666666666,
          0.016666666666666666,
          0.016666666666666666,
          0.016666666666666666,
          0.016666666666666666,
          0.016666666666666666,
          1.2,
          0.016666666666666666,
          0.016666666666666666,
          0.016666666666666666,
          0.016666666666666666,
          0.016666666666666666,
          0.016666666666666666,
          0.016666666666666666,
          0.016666666666666666,
          0.016666666666666666,
          0.016666666666666666,
          0.016666666666666666,
          0.016666666666666666,
          0.6833333333333333,
          0.016666666666666666,
          0.016666666666666666,
          0.23333333333333334,
          0.016666666666666666,
          2.1166666666666667,
          1.4,
          0.6333333333333333,
          0.016666666666666666,
          0.016666666666666666,
          0.016666666666666666,
          0.016666666666666666,
          0.016666666666666666,
          0.38333333333333336,
          0.016666666666666666,
          0.016666666666666666,
          0.016666666666666666,
          0.5333333333333333,
          0.016666666666666666,
          0.43333333333333335,
          0.016666666666666666,
          0.016666666666666666,
          0.016666666666666666,
          0.1,
          0.6833333333333333,
          0.3,
          0.016666666666666666,
          0.1,
          0.016666666666666666,
          0.9666666666666667,
          0.016666666666666666,
          0.016666666666666666,
          0.016666666666666666,
          0.016666666666666666,
          0.016666666666666666,
          1.4,
          1.1333333333333333,
          1.25,
          0.5,
          0.08333333333333333,
          0.016666666666666666,
          0.016666666666666666,
          0.4666666666666667,
          0.016666666666666666,
          0.016666666666666666,
          1,
          1.3166666666666667,
          0.08333333333333333,
          0.2833333333333333,
          0.016666666666666666,
          0.016666666666666666,
          0.016666666666666666,
          0.016666666666666666,
          0.016666666666666666,
          0.43333333333333335,
          0.016666666666666666,
          0.016666666666666666,
          0.016666666666666666,
          0.016666666666666666,
          0.016666666666666666,
          0.016666666666666666,
          0.15,
          0.016666666666666666,
          0.016666666666666666,
          0.016666666666666666,
          1.75,
          0.7,
          0.016666666666666666,
          1.75,
          0.016666666666666666,
          0.4666666666666667
         ],
         "xaxis": "x",
         "yaxis": "y"
        }
       ],
       "layout": {
        "barmode": "relative",
        "legend": {
         "tracegroupgap": 0
        },
        "template": {
         "data": {
          "bar": [
           {
            "error_x": {
             "color": "#2a3f5f"
            },
            "error_y": {
             "color": "#2a3f5f"
            },
            "marker": {
             "line": {
              "color": "#E5ECF6",
              "width": 0.5
             },
             "pattern": {
              "fillmode": "overlay",
              "size": 10,
              "solidity": 0.2
             }
            },
            "type": "bar"
           }
          ],
          "barpolar": [
           {
            "marker": {
             "line": {
              "color": "#E5ECF6",
              "width": 0.5
             },
             "pattern": {
              "fillmode": "overlay",
              "size": 10,
              "solidity": 0.2
             }
            },
            "type": "barpolar"
           }
          ],
          "carpet": [
           {
            "aaxis": {
             "endlinecolor": "#2a3f5f",
             "gridcolor": "white",
             "linecolor": "white",
             "minorgridcolor": "white",
             "startlinecolor": "#2a3f5f"
            },
            "baxis": {
             "endlinecolor": "#2a3f5f",
             "gridcolor": "white",
             "linecolor": "white",
             "minorgridcolor": "white",
             "startlinecolor": "#2a3f5f"
            },
            "type": "carpet"
           }
          ],
          "choropleth": [
           {
            "colorbar": {
             "outlinewidth": 0,
             "ticks": ""
            },
            "type": "choropleth"
           }
          ],
          "contour": [
           {
            "colorbar": {
             "outlinewidth": 0,
             "ticks": ""
            },
            "colorscale": [
             [
              0,
              "#0d0887"
             ],
             [
              0.1111111111111111,
              "#46039f"
             ],
             [
              0.2222222222222222,
              "#7201a8"
             ],
             [
              0.3333333333333333,
              "#9c179e"
             ],
             [
              0.4444444444444444,
              "#bd3786"
             ],
             [
              0.5555555555555556,
              "#d8576b"
             ],
             [
              0.6666666666666666,
              "#ed7953"
             ],
             [
              0.7777777777777778,
              "#fb9f3a"
             ],
             [
              0.8888888888888888,
              "#fdca26"
             ],
             [
              1,
              "#f0f921"
             ]
            ],
            "type": "contour"
           }
          ],
          "contourcarpet": [
           {
            "colorbar": {
             "outlinewidth": 0,
             "ticks": ""
            },
            "type": "contourcarpet"
           }
          ],
          "heatmap": [
           {
            "colorbar": {
             "outlinewidth": 0,
             "ticks": ""
            },
            "colorscale": [
             [
              0,
              "#0d0887"
             ],
             [
              0.1111111111111111,
              "#46039f"
             ],
             [
              0.2222222222222222,
              "#7201a8"
             ],
             [
              0.3333333333333333,
              "#9c179e"
             ],
             [
              0.4444444444444444,
              "#bd3786"
             ],
             [
              0.5555555555555556,
              "#d8576b"
             ],
             [
              0.6666666666666666,
              "#ed7953"
             ],
             [
              0.7777777777777778,
              "#fb9f3a"
             ],
             [
              0.8888888888888888,
              "#fdca26"
             ],
             [
              1,
              "#f0f921"
             ]
            ],
            "type": "heatmap"
           }
          ],
          "heatmapgl": [
           {
            "colorbar": {
             "outlinewidth": 0,
             "ticks": ""
            },
            "colorscale": [
             [
              0,
              "#0d0887"
             ],
             [
              0.1111111111111111,
              "#46039f"
             ],
             [
              0.2222222222222222,
              "#7201a8"
             ],
             [
              0.3333333333333333,
              "#9c179e"
             ],
             [
              0.4444444444444444,
              "#bd3786"
             ],
             [
              0.5555555555555556,
              "#d8576b"
             ],
             [
              0.6666666666666666,
              "#ed7953"
             ],
             [
              0.7777777777777778,
              "#fb9f3a"
             ],
             [
              0.8888888888888888,
              "#fdca26"
             ],
             [
              1,
              "#f0f921"
             ]
            ],
            "type": "heatmapgl"
           }
          ],
          "histogram": [
           {
            "marker": {
             "pattern": {
              "fillmode": "overlay",
              "size": 10,
              "solidity": 0.2
             }
            },
            "type": "histogram"
           }
          ],
          "histogram2d": [
           {
            "colorbar": {
             "outlinewidth": 0,
             "ticks": ""
            },
            "colorscale": [
             [
              0,
              "#0d0887"
             ],
             [
              0.1111111111111111,
              "#46039f"
             ],
             [
              0.2222222222222222,
              "#7201a8"
             ],
             [
              0.3333333333333333,
              "#9c179e"
             ],
             [
              0.4444444444444444,
              "#bd3786"
             ],
             [
              0.5555555555555556,
              "#d8576b"
             ],
             [
              0.6666666666666666,
              "#ed7953"
             ],
             [
              0.7777777777777778,
              "#fb9f3a"
             ],
             [
              0.8888888888888888,
              "#fdca26"
             ],
             [
              1,
              "#f0f921"
             ]
            ],
            "type": "histogram2d"
           }
          ],
          "histogram2dcontour": [
           {
            "colorbar": {
             "outlinewidth": 0,
             "ticks": ""
            },
            "colorscale": [
             [
              0,
              "#0d0887"
             ],
             [
              0.1111111111111111,
              "#46039f"
             ],
             [
              0.2222222222222222,
              "#7201a8"
             ],
             [
              0.3333333333333333,
              "#9c179e"
             ],
             [
              0.4444444444444444,
              "#bd3786"
             ],
             [
              0.5555555555555556,
              "#d8576b"
             ],
             [
              0.6666666666666666,
              "#ed7953"
             ],
             [
              0.7777777777777778,
              "#fb9f3a"
             ],
             [
              0.8888888888888888,
              "#fdca26"
             ],
             [
              1,
              "#f0f921"
             ]
            ],
            "type": "histogram2dcontour"
           }
          ],
          "mesh3d": [
           {
            "colorbar": {
             "outlinewidth": 0,
             "ticks": ""
            },
            "type": "mesh3d"
           }
          ],
          "parcoords": [
           {
            "line": {
             "colorbar": {
              "outlinewidth": 0,
              "ticks": ""
             }
            },
            "type": "parcoords"
           }
          ],
          "pie": [
           {
            "automargin": true,
            "type": "pie"
           }
          ],
          "scatter": [
           {
            "fillpattern": {
             "fillmode": "overlay",
             "size": 10,
             "solidity": 0.2
            },
            "type": "scatter"
           }
          ],
          "scatter3d": [
           {
            "line": {
             "colorbar": {
              "outlinewidth": 0,
              "ticks": ""
             }
            },
            "marker": {
             "colorbar": {
              "outlinewidth": 0,
              "ticks": ""
             }
            },
            "type": "scatter3d"
           }
          ],
          "scattercarpet": [
           {
            "marker": {
             "colorbar": {
              "outlinewidth": 0,
              "ticks": ""
             }
            },
            "type": "scattercarpet"
           }
          ],
          "scattergeo": [
           {
            "marker": {
             "colorbar": {
              "outlinewidth": 0,
              "ticks": ""
             }
            },
            "type": "scattergeo"
           }
          ],
          "scattergl": [
           {
            "marker": {
             "colorbar": {
              "outlinewidth": 0,
              "ticks": ""
             }
            },
            "type": "scattergl"
           }
          ],
          "scattermapbox": [
           {
            "marker": {
             "colorbar": {
              "outlinewidth": 0,
              "ticks": ""
             }
            },
            "type": "scattermapbox"
           }
          ],
          "scatterpolar": [
           {
            "marker": {
             "colorbar": {
              "outlinewidth": 0,
              "ticks": ""
             }
            },
            "type": "scatterpolar"
           }
          ],
          "scatterpolargl": [
           {
            "marker": {
             "colorbar": {
              "outlinewidth": 0,
              "ticks": ""
             }
            },
            "type": "scatterpolargl"
           }
          ],
          "scatterternary": [
           {
            "marker": {
             "colorbar": {
              "outlinewidth": 0,
              "ticks": ""
             }
            },
            "type": "scatterternary"
           }
          ],
          "surface": [
           {
            "colorbar": {
             "outlinewidth": 0,
             "ticks": ""
            },
            "colorscale": [
             [
              0,
              "#0d0887"
             ],
             [
              0.1111111111111111,
              "#46039f"
             ],
             [
              0.2222222222222222,
              "#7201a8"
             ],
             [
              0.3333333333333333,
              "#9c179e"
             ],
             [
              0.4444444444444444,
              "#bd3786"
             ],
             [
              0.5555555555555556,
              "#d8576b"
             ],
             [
              0.6666666666666666,
              "#ed7953"
             ],
             [
              0.7777777777777778,
              "#fb9f3a"
             ],
             [
              0.8888888888888888,
              "#fdca26"
             ],
             [
              1,
              "#f0f921"
             ]
            ],
            "type": "surface"
           }
          ],
          "table": [
           {
            "cells": {
             "fill": {
              "color": "#EBF0F8"
             },
             "line": {
              "color": "white"
             }
            },
            "header": {
             "fill": {
              "color": "#C8D4E3"
             },
             "line": {
              "color": "white"
             }
            },
            "type": "table"
           }
          ]
         },
         "layout": {
          "annotationdefaults": {
           "arrowcolor": "#2a3f5f",
           "arrowhead": 0,
           "arrowwidth": 1
          },
          "autotypenumbers": "strict",
          "coloraxis": {
           "colorbar": {
            "outlinewidth": 0,
            "ticks": ""
           }
          },
          "colorscale": {
           "diverging": [
            [
             0,
             "#8e0152"
            ],
            [
             0.1,
             "#c51b7d"
            ],
            [
             0.2,
             "#de77ae"
            ],
            [
             0.3,
             "#f1b6da"
            ],
            [
             0.4,
             "#fde0ef"
            ],
            [
             0.5,
             "#f7f7f7"
            ],
            [
             0.6,
             "#e6f5d0"
            ],
            [
             0.7,
             "#b8e186"
            ],
            [
             0.8,
             "#7fbc41"
            ],
            [
             0.9,
             "#4d9221"
            ],
            [
             1,
             "#276419"
            ]
           ],
           "sequential": [
            [
             0,
             "#0d0887"
            ],
            [
             0.1111111111111111,
             "#46039f"
            ],
            [
             0.2222222222222222,
             "#7201a8"
            ],
            [
             0.3333333333333333,
             "#9c179e"
            ],
            [
             0.4444444444444444,
             "#bd3786"
            ],
            [
             0.5555555555555556,
             "#d8576b"
            ],
            [
             0.6666666666666666,
             "#ed7953"
            ],
            [
             0.7777777777777778,
             "#fb9f3a"
            ],
            [
             0.8888888888888888,
             "#fdca26"
            ],
            [
             1,
             "#f0f921"
            ]
           ],
           "sequentialminus": [
            [
             0,
             "#0d0887"
            ],
            [
             0.1111111111111111,
             "#46039f"
            ],
            [
             0.2222222222222222,
             "#7201a8"
            ],
            [
             0.3333333333333333,
             "#9c179e"
            ],
            [
             0.4444444444444444,
             "#bd3786"
            ],
            [
             0.5555555555555556,
             "#d8576b"
            ],
            [
             0.6666666666666666,
             "#ed7953"
            ],
            [
             0.7777777777777778,
             "#fb9f3a"
            ],
            [
             0.8888888888888888,
             "#fdca26"
            ],
            [
             1,
             "#f0f921"
            ]
           ]
          },
          "colorway": [
           "#636efa",
           "#EF553B",
           "#00cc96",
           "#ab63fa",
           "#FFA15A",
           "#19d3f3",
           "#FF6692",
           "#B6E880",
           "#FF97FF",
           "#FECB52"
          ],
          "font": {
           "color": "#2a3f5f"
          },
          "geo": {
           "bgcolor": "white",
           "lakecolor": "white",
           "landcolor": "#E5ECF6",
           "showlakes": true,
           "showland": true,
           "subunitcolor": "white"
          },
          "hoverlabel": {
           "align": "left"
          },
          "hovermode": "closest",
          "mapbox": {
           "style": "light"
          },
          "paper_bgcolor": "white",
          "plot_bgcolor": "#E5ECF6",
          "polar": {
           "angularaxis": {
            "gridcolor": "white",
            "linecolor": "white",
            "ticks": ""
           },
           "bgcolor": "#E5ECF6",
           "radialaxis": {
            "gridcolor": "white",
            "linecolor": "white",
            "ticks": ""
           }
          },
          "scene": {
           "xaxis": {
            "backgroundcolor": "#E5ECF6",
            "gridcolor": "white",
            "gridwidth": 2,
            "linecolor": "white",
            "showbackground": true,
            "ticks": "",
            "zerolinecolor": "white"
           },
           "yaxis": {
            "backgroundcolor": "#E5ECF6",
            "gridcolor": "white",
            "gridwidth": 2,
            "linecolor": "white",
            "showbackground": true,
            "ticks": "",
            "zerolinecolor": "white"
           },
           "zaxis": {
            "backgroundcolor": "#E5ECF6",
            "gridcolor": "white",
            "gridwidth": 2,
            "linecolor": "white",
            "showbackground": true,
            "ticks": "",
            "zerolinecolor": "white"
           }
          },
          "shapedefaults": {
           "line": {
            "color": "#2a3f5f"
           }
          },
          "ternary": {
           "aaxis": {
            "gridcolor": "white",
            "linecolor": "white",
            "ticks": ""
           },
           "baxis": {
            "gridcolor": "white",
            "linecolor": "white",
            "ticks": ""
           },
           "bgcolor": "#E5ECF6",
           "caxis": {
            "gridcolor": "white",
            "linecolor": "white",
            "ticks": ""
           }
          },
          "title": {
           "x": 0.05
          },
          "xaxis": {
           "automargin": true,
           "gridcolor": "white",
           "linecolor": "white",
           "ticks": "",
           "title": {
            "standoff": 15
           },
           "zerolinecolor": "white",
           "zerolinewidth": 2
          },
          "yaxis": {
           "automargin": true,
           "gridcolor": "white",
           "linecolor": "white",
           "ticks": "",
           "title": {
            "standoff": 15
           },
           "zerolinecolor": "white",
           "zerolinewidth": 2
          }
         }
        },
        "title": {
         "text": "Frequency of gabarit's dwell time in station 2"
        },
        "width": 900,
        "xaxis": {
         "anchor": "y",
         "domain": [
          0,
          1
         ],
         "range": [
          0,
          2
         ],
         "title": {
          "text": "Time in Station (minutes)"
         }
        },
        "yaxis": {
         "anchor": "x",
         "domain": [
          0,
          1
         ],
         "range": [
          0,
          25
         ],
         "title": {
          "text": "count"
         }
        }
       }
      }
     },
     "metadata": {},
     "output_type": "display_data"
    },
    {
     "data": {
      "application/vnd.plotly.v1+json": {
       "config": {
        "plotlyServerURL": "https://plot.ly"
       },
       "data": [
        {
         "alignmentgroup": "True",
         "bingroup": "x",
         "hovertemplate": "Time in Station (minutes)=%{x}<br>count=%{y}<extra></extra>",
         "legendgroup": "",
         "marker": {
          "color": "lightskyblue",
          "line": {
           "width": 0.2
          },
          "pattern": {
           "shape": ""
          }
         },
         "name": "",
         "nbinsx": 20,
         "offsetgroup": "",
         "orientation": "v",
         "showlegend": false,
         "type": "histogram",
         "x": [
          0.6166666666666667,
          0.2833333333333333,
          0.016666666666666666,
          0.1,
          0.16666666666666666,
          0.15,
          0.016666666666666666,
          0.7166666666666667,
          0.6666666666666666,
          0.65,
          0.7166666666666667,
          0.8333333333333334,
          0.7,
          0.016666666666666666,
          0.15,
          0.016666666666666666,
          0.65,
          0.8333333333333334,
          0.7833333333333333,
          0.6666666666666666,
          0.6166666666666667,
          0.6833333333333333,
          0.36666666666666664,
          0.6166666666666667,
          1.6666666666666667,
          0.4666666666666667,
          0.8166666666666667,
          0.7166666666666667,
          0.7,
          0.9666666666666667,
          0.8166666666666667,
          0.7166666666666667,
          2.3333333333333335,
          0.5166666666666667,
          0.7666666666666667,
          0.6833333333333333,
          0.6166666666666667,
          0.1,
          0.6166666666666667,
          0.7833333333333333,
          0.9666666666666667,
          0.9,
          1.0833333333333333,
          0.6666666666666666,
          0.016666666666666666,
          0.2,
          0.5833333333333334,
          0.6,
          0.7666666666666667,
          0.8,
          0.5833333333333334,
          0.016666666666666666,
          0.016666666666666666,
          0.016666666666666666,
          1.1,
          0.6666666666666666,
          1.1333333333333333,
          0.7833333333333333,
          0.7833333333333333,
          1.05,
          0.6833333333333333,
          0.08333333333333333,
          0.6833333333333333,
          0.5666666666666667,
          0.5333333333333333,
          0.6833333333333333,
          2.0166666666666666,
          0.5833333333333334,
          0.016666666666666666,
          0.13333333333333333,
          0.6,
          0.016666666666666666,
          1.25,
          0.016666666666666666,
          0.5833333333333334,
          0.55,
          0.6666666666666666,
          0.6333333333333333,
          0.016666666666666666,
          0.48333333333333334,
          0.016666666666666666,
          0.6833333333333333,
          0.1,
          0.016666666666666666,
          0.7166666666666667,
          0.6166666666666667,
          1.0666666666666667,
          0.06666666666666667,
          0.55,
          0.75,
          0.05,
          0.8166666666666667,
          0.016666666666666666,
          0.7166666666666667,
          0.8,
          0.016666666666666666,
          0.016666666666666666,
          0.8666666666666667,
          0.6833333333333333,
          1.7166666666666666,
          0.08333333333333333,
          0.8166666666666667,
          0.6833333333333333,
          1.1,
          0.85,
          0.6333333333333333,
          0.7333333333333333,
          0.65,
          0.016666666666666666,
          0.7166666666666667,
          0.016666666666666666,
          0.016666666666666666,
          0.5833333333333334,
          0.6166666666666667,
          0.016666666666666666,
          0.75,
          0.8,
          1.0833333333333333,
          0.5833333333333334,
          1.1666666666666667,
          0.8333333333333334,
          0.55,
          0.6333333333333333,
          1,
          0.75,
          0.6833333333333333,
          0.2833333333333333,
          0.6166666666666667,
          0.6833333333333333,
          0.11666666666666667,
          0.016666666666666666,
          0.9666666666666667,
          0.6666666666666666,
          0.7333333333333333,
          0.4166666666666667,
          0.9833333333333333,
          0.9166666666666666,
          0.7333333333333333,
          0.016666666666666666,
          0.016666666666666666,
          0.7333333333333333,
          0.7166666666666667,
          0.43333333333333335,
          0.8,
          0.5666666666666667,
          0.016666666666666666,
          0.016666666666666666,
          0.6166666666666667,
          1.0166666666666666,
          0.9333333333333333,
          1.1,
          0.45,
          0.016666666666666666,
          0.6833333333333333,
          1.3833333333333333,
          0.9166666666666666,
          0.016666666666666666,
          0.016666666666666666,
          1.2,
          0.1,
          0.016666666666666666,
          0.016666666666666666,
          0.016666666666666666,
          0.48333333333333334,
          0.6833333333333333,
          0.85,
          0.016666666666666666,
          0.5333333333333333,
          0.016666666666666666,
          0.5666666666666667,
          0.85,
          0.6166666666666667,
          0.6166666666666667,
          0.5833333333333334,
          0.65,
          0.7166666666666667,
          0.016666666666666666,
          0.016666666666666666,
          0.05,
          0.9333333333333333,
          0.08333333333333333,
          0.5833333333333334,
          0.6,
          0.5333333333333333,
          0.016666666666666666,
          0.6333333333333333,
          0.5833333333333334,
          0.7333333333333333,
          0.13333333333333333,
          0.7166666666666667,
          1.15,
          0.55,
          0.5833333333333334,
          1,
          0.6333333333333333
         ],
         "xaxis": "x",
         "yaxis": "y"
        }
       ],
       "layout": {
        "barmode": "relative",
        "legend": {
         "tracegroupgap": 0
        },
        "template": {
         "data": {
          "bar": [
           {
            "error_x": {
             "color": "#2a3f5f"
            },
            "error_y": {
             "color": "#2a3f5f"
            },
            "marker": {
             "line": {
              "color": "#E5ECF6",
              "width": 0.5
             },
             "pattern": {
              "fillmode": "overlay",
              "size": 10,
              "solidity": 0.2
             }
            },
            "type": "bar"
           }
          ],
          "barpolar": [
           {
            "marker": {
             "line": {
              "color": "#E5ECF6",
              "width": 0.5
             },
             "pattern": {
              "fillmode": "overlay",
              "size": 10,
              "solidity": 0.2
             }
            },
            "type": "barpolar"
           }
          ],
          "carpet": [
           {
            "aaxis": {
             "endlinecolor": "#2a3f5f",
             "gridcolor": "white",
             "linecolor": "white",
             "minorgridcolor": "white",
             "startlinecolor": "#2a3f5f"
            },
            "baxis": {
             "endlinecolor": "#2a3f5f",
             "gridcolor": "white",
             "linecolor": "white",
             "minorgridcolor": "white",
             "startlinecolor": "#2a3f5f"
            },
            "type": "carpet"
           }
          ],
          "choropleth": [
           {
            "colorbar": {
             "outlinewidth": 0,
             "ticks": ""
            },
            "type": "choropleth"
           }
          ],
          "contour": [
           {
            "colorbar": {
             "outlinewidth": 0,
             "ticks": ""
            },
            "colorscale": [
             [
              0,
              "#0d0887"
             ],
             [
              0.1111111111111111,
              "#46039f"
             ],
             [
              0.2222222222222222,
              "#7201a8"
             ],
             [
              0.3333333333333333,
              "#9c179e"
             ],
             [
              0.4444444444444444,
              "#bd3786"
             ],
             [
              0.5555555555555556,
              "#d8576b"
             ],
             [
              0.6666666666666666,
              "#ed7953"
             ],
             [
              0.7777777777777778,
              "#fb9f3a"
             ],
             [
              0.8888888888888888,
              "#fdca26"
             ],
             [
              1,
              "#f0f921"
             ]
            ],
            "type": "contour"
           }
          ],
          "contourcarpet": [
           {
            "colorbar": {
             "outlinewidth": 0,
             "ticks": ""
            },
            "type": "contourcarpet"
           }
          ],
          "heatmap": [
           {
            "colorbar": {
             "outlinewidth": 0,
             "ticks": ""
            },
            "colorscale": [
             [
              0,
              "#0d0887"
             ],
             [
              0.1111111111111111,
              "#46039f"
             ],
             [
              0.2222222222222222,
              "#7201a8"
             ],
             [
              0.3333333333333333,
              "#9c179e"
             ],
             [
              0.4444444444444444,
              "#bd3786"
             ],
             [
              0.5555555555555556,
              "#d8576b"
             ],
             [
              0.6666666666666666,
              "#ed7953"
             ],
             [
              0.7777777777777778,
              "#fb9f3a"
             ],
             [
              0.8888888888888888,
              "#fdca26"
             ],
             [
              1,
              "#f0f921"
             ]
            ],
            "type": "heatmap"
           }
          ],
          "heatmapgl": [
           {
            "colorbar": {
             "outlinewidth": 0,
             "ticks": ""
            },
            "colorscale": [
             [
              0,
              "#0d0887"
             ],
             [
              0.1111111111111111,
              "#46039f"
             ],
             [
              0.2222222222222222,
              "#7201a8"
             ],
             [
              0.3333333333333333,
              "#9c179e"
             ],
             [
              0.4444444444444444,
              "#bd3786"
             ],
             [
              0.5555555555555556,
              "#d8576b"
             ],
             [
              0.6666666666666666,
              "#ed7953"
             ],
             [
              0.7777777777777778,
              "#fb9f3a"
             ],
             [
              0.8888888888888888,
              "#fdca26"
             ],
             [
              1,
              "#f0f921"
             ]
            ],
            "type": "heatmapgl"
           }
          ],
          "histogram": [
           {
            "marker": {
             "pattern": {
              "fillmode": "overlay",
              "size": 10,
              "solidity": 0.2
             }
            },
            "type": "histogram"
           }
          ],
          "histogram2d": [
           {
            "colorbar": {
             "outlinewidth": 0,
             "ticks": ""
            },
            "colorscale": [
             [
              0,
              "#0d0887"
             ],
             [
              0.1111111111111111,
              "#46039f"
             ],
             [
              0.2222222222222222,
              "#7201a8"
             ],
             [
              0.3333333333333333,
              "#9c179e"
             ],
             [
              0.4444444444444444,
              "#bd3786"
             ],
             [
              0.5555555555555556,
              "#d8576b"
             ],
             [
              0.6666666666666666,
              "#ed7953"
             ],
             [
              0.7777777777777778,
              "#fb9f3a"
             ],
             [
              0.8888888888888888,
              "#fdca26"
             ],
             [
              1,
              "#f0f921"
             ]
            ],
            "type": "histogram2d"
           }
          ],
          "histogram2dcontour": [
           {
            "colorbar": {
             "outlinewidth": 0,
             "ticks": ""
            },
            "colorscale": [
             [
              0,
              "#0d0887"
             ],
             [
              0.1111111111111111,
              "#46039f"
             ],
             [
              0.2222222222222222,
              "#7201a8"
             ],
             [
              0.3333333333333333,
              "#9c179e"
             ],
             [
              0.4444444444444444,
              "#bd3786"
             ],
             [
              0.5555555555555556,
              "#d8576b"
             ],
             [
              0.6666666666666666,
              "#ed7953"
             ],
             [
              0.7777777777777778,
              "#fb9f3a"
             ],
             [
              0.8888888888888888,
              "#fdca26"
             ],
             [
              1,
              "#f0f921"
             ]
            ],
            "type": "histogram2dcontour"
           }
          ],
          "mesh3d": [
           {
            "colorbar": {
             "outlinewidth": 0,
             "ticks": ""
            },
            "type": "mesh3d"
           }
          ],
          "parcoords": [
           {
            "line": {
             "colorbar": {
              "outlinewidth": 0,
              "ticks": ""
             }
            },
            "type": "parcoords"
           }
          ],
          "pie": [
           {
            "automargin": true,
            "type": "pie"
           }
          ],
          "scatter": [
           {
            "fillpattern": {
             "fillmode": "overlay",
             "size": 10,
             "solidity": 0.2
            },
            "type": "scatter"
           }
          ],
          "scatter3d": [
           {
            "line": {
             "colorbar": {
              "outlinewidth": 0,
              "ticks": ""
             }
            },
            "marker": {
             "colorbar": {
              "outlinewidth": 0,
              "ticks": ""
             }
            },
            "type": "scatter3d"
           }
          ],
          "scattercarpet": [
           {
            "marker": {
             "colorbar": {
              "outlinewidth": 0,
              "ticks": ""
             }
            },
            "type": "scattercarpet"
           }
          ],
          "scattergeo": [
           {
            "marker": {
             "colorbar": {
              "outlinewidth": 0,
              "ticks": ""
             }
            },
            "type": "scattergeo"
           }
          ],
          "scattergl": [
           {
            "marker": {
             "colorbar": {
              "outlinewidth": 0,
              "ticks": ""
             }
            },
            "type": "scattergl"
           }
          ],
          "scattermapbox": [
           {
            "marker": {
             "colorbar": {
              "outlinewidth": 0,
              "ticks": ""
             }
            },
            "type": "scattermapbox"
           }
          ],
          "scatterpolar": [
           {
            "marker": {
             "colorbar": {
              "outlinewidth": 0,
              "ticks": ""
             }
            },
            "type": "scatterpolar"
           }
          ],
          "scatterpolargl": [
           {
            "marker": {
             "colorbar": {
              "outlinewidth": 0,
              "ticks": ""
             }
            },
            "type": "scatterpolargl"
           }
          ],
          "scatterternary": [
           {
            "marker": {
             "colorbar": {
              "outlinewidth": 0,
              "ticks": ""
             }
            },
            "type": "scatterternary"
           }
          ],
          "surface": [
           {
            "colorbar": {
             "outlinewidth": 0,
             "ticks": ""
            },
            "colorscale": [
             [
              0,
              "#0d0887"
             ],
             [
              0.1111111111111111,
              "#46039f"
             ],
             [
              0.2222222222222222,
              "#7201a8"
             ],
             [
              0.3333333333333333,
              "#9c179e"
             ],
             [
              0.4444444444444444,
              "#bd3786"
             ],
             [
              0.5555555555555556,
              "#d8576b"
             ],
             [
              0.6666666666666666,
              "#ed7953"
             ],
             [
              0.7777777777777778,
              "#fb9f3a"
             ],
             [
              0.8888888888888888,
              "#fdca26"
             ],
             [
              1,
              "#f0f921"
             ]
            ],
            "type": "surface"
           }
          ],
          "table": [
           {
            "cells": {
             "fill": {
              "color": "#EBF0F8"
             },
             "line": {
              "color": "white"
             }
            },
            "header": {
             "fill": {
              "color": "#C8D4E3"
             },
             "line": {
              "color": "white"
             }
            },
            "type": "table"
           }
          ]
         },
         "layout": {
          "annotationdefaults": {
           "arrowcolor": "#2a3f5f",
           "arrowhead": 0,
           "arrowwidth": 1
          },
          "autotypenumbers": "strict",
          "coloraxis": {
           "colorbar": {
            "outlinewidth": 0,
            "ticks": ""
           }
          },
          "colorscale": {
           "diverging": [
            [
             0,
             "#8e0152"
            ],
            [
             0.1,
             "#c51b7d"
            ],
            [
             0.2,
             "#de77ae"
            ],
            [
             0.3,
             "#f1b6da"
            ],
            [
             0.4,
             "#fde0ef"
            ],
            [
             0.5,
             "#f7f7f7"
            ],
            [
             0.6,
             "#e6f5d0"
            ],
            [
             0.7,
             "#b8e186"
            ],
            [
             0.8,
             "#7fbc41"
            ],
            [
             0.9,
             "#4d9221"
            ],
            [
             1,
             "#276419"
            ]
           ],
           "sequential": [
            [
             0,
             "#0d0887"
            ],
            [
             0.1111111111111111,
             "#46039f"
            ],
            [
             0.2222222222222222,
             "#7201a8"
            ],
            [
             0.3333333333333333,
             "#9c179e"
            ],
            [
             0.4444444444444444,
             "#bd3786"
            ],
            [
             0.5555555555555556,
             "#d8576b"
            ],
            [
             0.6666666666666666,
             "#ed7953"
            ],
            [
             0.7777777777777778,
             "#fb9f3a"
            ],
            [
             0.8888888888888888,
             "#fdca26"
            ],
            [
             1,
             "#f0f921"
            ]
           ],
           "sequentialminus": [
            [
             0,
             "#0d0887"
            ],
            [
             0.1111111111111111,
             "#46039f"
            ],
            [
             0.2222222222222222,
             "#7201a8"
            ],
            [
             0.3333333333333333,
             "#9c179e"
            ],
            [
             0.4444444444444444,
             "#bd3786"
            ],
            [
             0.5555555555555556,
             "#d8576b"
            ],
            [
             0.6666666666666666,
             "#ed7953"
            ],
            [
             0.7777777777777778,
             "#fb9f3a"
            ],
            [
             0.8888888888888888,
             "#fdca26"
            ],
            [
             1,
             "#f0f921"
            ]
           ]
          },
          "colorway": [
           "#636efa",
           "#EF553B",
           "#00cc96",
           "#ab63fa",
           "#FFA15A",
           "#19d3f3",
           "#FF6692",
           "#B6E880",
           "#FF97FF",
           "#FECB52"
          ],
          "font": {
           "color": "#2a3f5f"
          },
          "geo": {
           "bgcolor": "white",
           "lakecolor": "white",
           "landcolor": "#E5ECF6",
           "showlakes": true,
           "showland": true,
           "subunitcolor": "white"
          },
          "hoverlabel": {
           "align": "left"
          },
          "hovermode": "closest",
          "mapbox": {
           "style": "light"
          },
          "paper_bgcolor": "white",
          "plot_bgcolor": "#E5ECF6",
          "polar": {
           "angularaxis": {
            "gridcolor": "white",
            "linecolor": "white",
            "ticks": ""
           },
           "bgcolor": "#E5ECF6",
           "radialaxis": {
            "gridcolor": "white",
            "linecolor": "white",
            "ticks": ""
           }
          },
          "scene": {
           "xaxis": {
            "backgroundcolor": "#E5ECF6",
            "gridcolor": "white",
            "gridwidth": 2,
            "linecolor": "white",
            "showbackground": true,
            "ticks": "",
            "zerolinecolor": "white"
           },
           "yaxis": {
            "backgroundcolor": "#E5ECF6",
            "gridcolor": "white",
            "gridwidth": 2,
            "linecolor": "white",
            "showbackground": true,
            "ticks": "",
            "zerolinecolor": "white"
           },
           "zaxis": {
            "backgroundcolor": "#E5ECF6",
            "gridcolor": "white",
            "gridwidth": 2,
            "linecolor": "white",
            "showbackground": true,
            "ticks": "",
            "zerolinecolor": "white"
           }
          },
          "shapedefaults": {
           "line": {
            "color": "#2a3f5f"
           }
          },
          "ternary": {
           "aaxis": {
            "gridcolor": "white",
            "linecolor": "white",
            "ticks": ""
           },
           "baxis": {
            "gridcolor": "white",
            "linecolor": "white",
            "ticks": ""
           },
           "bgcolor": "#E5ECF6",
           "caxis": {
            "gridcolor": "white",
            "linecolor": "white",
            "ticks": ""
           }
          },
          "title": {
           "x": 0.05
          },
          "xaxis": {
           "automargin": true,
           "gridcolor": "white",
           "linecolor": "white",
           "ticks": "",
           "title": {
            "standoff": 15
           },
           "zerolinecolor": "white",
           "zerolinewidth": 2
          },
          "yaxis": {
           "automargin": true,
           "gridcolor": "white",
           "linecolor": "white",
           "ticks": "",
           "title": {
            "standoff": 15
           },
           "zerolinecolor": "white",
           "zerolinewidth": 2
          }
         }
        },
        "title": {
         "text": "Frequency of gabarit's dwell time in station 3"
        },
        "width": 900,
        "xaxis": {
         "anchor": "y",
         "domain": [
          0,
          1
         ],
         "range": [
          0,
          2
         ],
         "title": {
          "text": "Time in Station (minutes)"
         }
        },
        "yaxis": {
         "anchor": "x",
         "domain": [
          0,
          1
         ],
         "range": [
          0,
          25
         ],
         "title": {
          "text": "count"
         }
        }
       }
      }
     },
     "metadata": {},
     "output_type": "display_data"
    }
   ],
   "source": [
    "plot = 1\n",
    "display_df = 0\n",
    "df_in_1 = time_in_station_fun(df1)\n",
    "df_in_2 = time_in_station_fun(df2)\n",
    "df_in_3 = time_in_station_fun(df3)\n",
    "\n",
    "#\n",
    "df_in_1_filtered = remove_outlier_quart(df_in_1,'time_in_station', quantile = 0.05)\n",
    "df_in_2_filtered = remove_outlier_quart(df_in_2,'time_in_station', quantile = 0.05)\n",
    "df_in_3_filtered = remove_outlier_quart(df_in_3,'time_in_station', quantile = 0.11)\n",
    "#df_in_1_filtered = df_in_1_filtered[df_in_1_filtered!= 1]\n",
    "#df_in_2_filtered = df_in_2_filtered[df_in_2_filtered!= 1]\n",
    "#df_in_3_filtered = df_in_3_filtered[df_in_3_filtered!= 1]\n",
    "\n",
    "if display_df:\n",
    "    display(df_in_1.loc[0:50])\n",
    "    display(df_in_2.loc[0:50])\n",
    "    display(df_in_3.loc[0:50])\n",
    "\n",
    "if plot:\n",
    "    #plot_histogram(df_in_1,1)\n",
    "    plot_histogram(df_in_1_filtered,1,'darkblue')\n",
    "    #plot_histogram(df_in_2, station)\n",
    "    plot_histogram(df_in_2_filtered,2,'dodgerblue')\n",
    "    #plot_histogram(df_in_3,3)\n",
    "    plot_histogram(df_in_3_filtered,3,'lightskyblue')\n",
    "\n"
   ]
  },
  {
   "cell_type": "code",
   "execution_count": 57,
   "metadata": {},
   "outputs": [
    {
     "data": {
      "text/html": [
       "<div>\n",
       "<style scoped>\n",
       "    .dataframe tbody tr th:only-of-type {\n",
       "        vertical-align: middle;\n",
       "    }\n",
       "\n",
       "    .dataframe tbody tr th {\n",
       "        vertical-align: top;\n",
       "    }\n",
       "\n",
       "    .dataframe thead th {\n",
       "        text-align: right;\n",
       "    }\n",
       "</style>\n",
       "<table border=\"1\" class=\"dataframe\">\n",
       "  <thead>\n",
       "    <tr style=\"text-align: right;\">\n",
       "      <th></th>\n",
       "      <th>ts</th>\n",
       "      <th>gabarit</th>\n",
       "      <th>_1_2</th>\n",
       "    </tr>\n",
       "  </thead>\n",
       "  <tbody>\n",
       "    <tr>\n",
       "      <th>0</th>\n",
       "      <td>2023-10-10 09:08:20</td>\n",
       "      <td>24</td>\n",
       "      <td>34.0</td>\n",
       "    </tr>\n",
       "    <tr>\n",
       "      <th>1</th>\n",
       "      <td>2023-10-10 09:30:29</td>\n",
       "      <td>5</td>\n",
       "      <td>198.0</td>\n",
       "    </tr>\n",
       "    <tr>\n",
       "      <th>2</th>\n",
       "      <td>2023-10-10 09:33:00</td>\n",
       "      <td>6</td>\n",
       "      <td>76.0</td>\n",
       "    </tr>\n",
       "    <tr>\n",
       "      <th>3</th>\n",
       "      <td>2023-10-10 09:34:15</td>\n",
       "      <td>11</td>\n",
       "      <td>25.0</td>\n",
       "    </tr>\n",
       "    <tr>\n",
       "      <th>4</th>\n",
       "      <td>2023-10-10 09:39:10</td>\n",
       "      <td>10</td>\n",
       "      <td>36.0</td>\n",
       "    </tr>\n",
       "    <tr>\n",
       "      <th>5</th>\n",
       "      <td>2023-10-10 09:40:18</td>\n",
       "      <td>2</td>\n",
       "      <td>96.0</td>\n",
       "    </tr>\n",
       "    <tr>\n",
       "      <th>6</th>\n",
       "      <td>2023-10-10 09:41:55</td>\n",
       "      <td>3</td>\n",
       "      <td>32.0</td>\n",
       "    </tr>\n",
       "    <tr>\n",
       "      <th>7</th>\n",
       "      <td>2023-10-10 09:43:09</td>\n",
       "      <td>12</td>\n",
       "      <td>55.0</td>\n",
       "    </tr>\n",
       "    <tr>\n",
       "      <th>8</th>\n",
       "      <td>2023-10-10 09:45:45</td>\n",
       "      <td>8</td>\n",
       "      <td>40.0</td>\n",
       "    </tr>\n",
       "    <tr>\n",
       "      <th>9</th>\n",
       "      <td>2023-10-10 09:47:17</td>\n",
       "      <td>6</td>\n",
       "      <td>31.0</td>\n",
       "    </tr>\n",
       "    <tr>\n",
       "      <th>10</th>\n",
       "      <td>2023-10-10 09:53:11</td>\n",
       "      <td>19</td>\n",
       "      <td>20.0</td>\n",
       "    </tr>\n",
       "    <tr>\n",
       "      <th>11</th>\n",
       "      <td>2023-10-10 10:11:06</td>\n",
       "      <td>1</td>\n",
       "      <td>57.0</td>\n",
       "    </tr>\n",
       "    <tr>\n",
       "      <th>12</th>\n",
       "      <td>2023-10-10 10:16:24</td>\n",
       "      <td>7</td>\n",
       "      <td>67.0</td>\n",
       "    </tr>\n",
       "    <tr>\n",
       "      <th>13</th>\n",
       "      <td>2023-10-10 10:20:11</td>\n",
       "      <td>15</td>\n",
       "      <td>13.0</td>\n",
       "    </tr>\n",
       "    <tr>\n",
       "      <th>14</th>\n",
       "      <td>2023-10-10 10:20:39</td>\n",
       "      <td>19</td>\n",
       "      <td>125.0</td>\n",
       "    </tr>\n",
       "    <tr>\n",
       "      <th>15</th>\n",
       "      <td>2023-10-10 10:25:41</td>\n",
       "      <td>1</td>\n",
       "      <td>109.0</td>\n",
       "    </tr>\n",
       "    <tr>\n",
       "      <th>16</th>\n",
       "      <td>2023-10-10 10:26:55</td>\n",
       "      <td>14</td>\n",
       "      <td>276.0</td>\n",
       "    </tr>\n",
       "    <tr>\n",
       "      <th>17</th>\n",
       "      <td>2023-10-10 10:50:36</td>\n",
       "      <td>19</td>\n",
       "      <td>93.0</td>\n",
       "    </tr>\n",
       "    <tr>\n",
       "      <th>18</th>\n",
       "      <td>2023-10-10 10:58:25</td>\n",
       "      <td>14</td>\n",
       "      <td>159.0</td>\n",
       "    </tr>\n",
       "    <tr>\n",
       "      <th>19</th>\n",
       "      <td>2023-10-10 11:02:52</td>\n",
       "      <td>15</td>\n",
       "      <td>74.0</td>\n",
       "    </tr>\n",
       "    <tr>\n",
       "      <th>20</th>\n",
       "      <td>2023-10-10 11:04:25</td>\n",
       "      <td>9</td>\n",
       "      <td>80.0</td>\n",
       "    </tr>\n",
       "  </tbody>\n",
       "</table>\n",
       "</div>"
      ],
      "text/plain": [
       "                    ts gabarit   _1_2\n",
       "0  2023-10-10 09:08:20      24   34.0\n",
       "1  2023-10-10 09:30:29       5  198.0\n",
       "2  2023-10-10 09:33:00       6   76.0\n",
       "3  2023-10-10 09:34:15      11   25.0\n",
       "4  2023-10-10 09:39:10      10   36.0\n",
       "5  2023-10-10 09:40:18       2   96.0\n",
       "6  2023-10-10 09:41:55       3   32.0\n",
       "7  2023-10-10 09:43:09      12   55.0\n",
       "8  2023-10-10 09:45:45       8   40.0\n",
       "9  2023-10-10 09:47:17       6   31.0\n",
       "10 2023-10-10 09:53:11      19   20.0\n",
       "11 2023-10-10 10:11:06       1   57.0\n",
       "12 2023-10-10 10:16:24       7   67.0\n",
       "13 2023-10-10 10:20:11      15   13.0\n",
       "14 2023-10-10 10:20:39      19  125.0\n",
       "15 2023-10-10 10:25:41       1  109.0\n",
       "16 2023-10-10 10:26:55      14  276.0\n",
       "17 2023-10-10 10:50:36      19   93.0\n",
       "18 2023-10-10 10:58:25      14  159.0\n",
       "19 2023-10-10 11:02:52      15   74.0\n",
       "20 2023-10-10 11:04:25       9   80.0"
      ]
     },
     "metadata": {},
     "output_type": "display_data"
    },
    {
     "data": {
      "text/html": [
       "<div>\n",
       "<style scoped>\n",
       "    .dataframe tbody tr th:only-of-type {\n",
       "        vertical-align: middle;\n",
       "    }\n",
       "\n",
       "    .dataframe tbody tr th {\n",
       "        vertical-align: top;\n",
       "    }\n",
       "\n",
       "    .dataframe thead th {\n",
       "        text-align: right;\n",
       "    }\n",
       "</style>\n",
       "<table border=\"1\" class=\"dataframe\">\n",
       "  <thead>\n",
       "    <tr style=\"text-align: right;\">\n",
       "      <th></th>\n",
       "      <th>ts</th>\n",
       "      <th>gabarit</th>\n",
       "      <th>_2_3</th>\n",
       "    </tr>\n",
       "  </thead>\n",
       "  <tbody>\n",
       "    <tr>\n",
       "      <th>0</th>\n",
       "      <td>2023-10-10 09:08:41</td>\n",
       "      <td>24</td>\n",
       "      <td>916.0</td>\n",
       "    </tr>\n",
       "    <tr>\n",
       "      <th>1</th>\n",
       "      <td>2023-10-10 09:12:29</td>\n",
       "      <td>11</td>\n",
       "      <td>768.0</td>\n",
       "    </tr>\n",
       "    <tr>\n",
       "      <th>2</th>\n",
       "      <td>2023-10-10 09:13:26</td>\n",
       "      <td>22</td>\n",
       "      <td>828.0</td>\n",
       "    </tr>\n",
       "    <tr>\n",
       "      <th>3</th>\n",
       "      <td>2023-10-10 09:22:14</td>\n",
       "      <td>10</td>\n",
       "      <td>502.0</td>\n",
       "    </tr>\n",
       "    <tr>\n",
       "      <th>4</th>\n",
       "      <td>2023-10-10 09:23:53</td>\n",
       "      <td>3</td>\n",
       "      <td>511.0</td>\n",
       "    </tr>\n",
       "    <tr>\n",
       "      <th>5</th>\n",
       "      <td>2023-10-10 09:30:46</td>\n",
       "      <td>5</td>\n",
       "      <td>130.0</td>\n",
       "    </tr>\n",
       "    <tr>\n",
       "      <th>6</th>\n",
       "      <td>2023-10-10 09:39:45</td>\n",
       "      <td>10</td>\n",
       "      <td>196.0</td>\n",
       "    </tr>\n",
       "    <tr>\n",
       "      <th>7</th>\n",
       "      <td>2023-10-10 09:42:26</td>\n",
       "      <td>3</td>\n",
       "      <td>168.0</td>\n",
       "    </tr>\n",
       "    <tr>\n",
       "      <th>8</th>\n",
       "      <td>2023-10-10 09:44:03</td>\n",
       "      <td>12</td>\n",
       "      <td>122.0</td>\n",
       "    </tr>\n",
       "    <tr>\n",
       "      <th>9</th>\n",
       "      <td>2023-10-10 09:46:18</td>\n",
       "      <td>8</td>\n",
       "      <td>196.0</td>\n",
       "    </tr>\n",
       "    <tr>\n",
       "      <th>10</th>\n",
       "      <td>2023-10-10 09:49:10</td>\n",
       "      <td>5</td>\n",
       "      <td>216.0</td>\n",
       "    </tr>\n",
       "    <tr>\n",
       "      <th>11</th>\n",
       "      <td>2023-10-10 09:53:24</td>\n",
       "      <td>19</td>\n",
       "      <td>252.0</td>\n",
       "    </tr>\n",
       "    <tr>\n",
       "      <th>12</th>\n",
       "      <td>2023-10-10 09:56:33</td>\n",
       "      <td>1</td>\n",
       "      <td>213.0</td>\n",
       "    </tr>\n",
       "    <tr>\n",
       "      <th>13</th>\n",
       "      <td>2023-10-10 10:03:31</td>\n",
       "      <td>5</td>\n",
       "      <td>221.0</td>\n",
       "    </tr>\n",
       "    <tr>\n",
       "      <th>14</th>\n",
       "      <td>2023-10-10 10:12:02</td>\n",
       "      <td>1</td>\n",
       "      <td>152.0</td>\n",
       "    </tr>\n",
       "    <tr>\n",
       "      <th>15</th>\n",
       "      <td>2023-10-10 10:14:52</td>\n",
       "      <td>17</td>\n",
       "      <td>259.0</td>\n",
       "    </tr>\n",
       "    <tr>\n",
       "      <th>16</th>\n",
       "      <td>2023-10-10 10:20:23</td>\n",
       "      <td>15</td>\n",
       "      <td>251.0</td>\n",
       "    </tr>\n",
       "    <tr>\n",
       "      <th>17</th>\n",
       "      <td>2023-10-10 10:22:43</td>\n",
       "      <td>19</td>\n",
       "      <td>163.0</td>\n",
       "    </tr>\n",
       "    <tr>\n",
       "      <th>18</th>\n",
       "      <td>2023-10-10 10:25:44</td>\n",
       "      <td>1</td>\n",
       "      <td>116.0</td>\n",
       "    </tr>\n",
       "    <tr>\n",
       "      <th>19</th>\n",
       "      <td>2023-10-10 10:52:03</td>\n",
       "      <td>19</td>\n",
       "      <td>250.0</td>\n",
       "    </tr>\n",
       "    <tr>\n",
       "      <th>20</th>\n",
       "      <td>2023-10-10 11:01:03</td>\n",
       "      <td>14</td>\n",
       "      <td>832.0</td>\n",
       "    </tr>\n",
       "  </tbody>\n",
       "</table>\n",
       "</div>"
      ],
      "text/plain": [
       "                    ts gabarit   _2_3\n",
       "0  2023-10-10 09:08:41      24  916.0\n",
       "1  2023-10-10 09:12:29      11  768.0\n",
       "2  2023-10-10 09:13:26      22  828.0\n",
       "3  2023-10-10 09:22:14      10  502.0\n",
       "4  2023-10-10 09:23:53       3  511.0\n",
       "5  2023-10-10 09:30:46       5  130.0\n",
       "6  2023-10-10 09:39:45      10  196.0\n",
       "7  2023-10-10 09:42:26       3  168.0\n",
       "8  2023-10-10 09:44:03      12  122.0\n",
       "9  2023-10-10 09:46:18       8  196.0\n",
       "10 2023-10-10 09:49:10       5  216.0\n",
       "11 2023-10-10 09:53:24      19  252.0\n",
       "12 2023-10-10 09:56:33       1  213.0\n",
       "13 2023-10-10 10:03:31       5  221.0\n",
       "14 2023-10-10 10:12:02       1  152.0\n",
       "15 2023-10-10 10:14:52      17  259.0\n",
       "16 2023-10-10 10:20:23      15  251.0\n",
       "17 2023-10-10 10:22:43      19  163.0\n",
       "18 2023-10-10 10:25:44       1  116.0\n",
       "19 2023-10-10 10:52:03      19  250.0\n",
       "20 2023-10-10 11:01:03      14  832.0"
      ]
     },
     "metadata": {},
     "output_type": "display_data"
    },
    {
     "data": {
      "text/html": [
       "<div>\n",
       "<style scoped>\n",
       "    .dataframe tbody tr th:only-of-type {\n",
       "        vertical-align: middle;\n",
       "    }\n",
       "\n",
       "    .dataframe tbody tr th {\n",
       "        vertical-align: top;\n",
       "    }\n",
       "\n",
       "    .dataframe thead th {\n",
       "        text-align: right;\n",
       "    }\n",
       "</style>\n",
       "<table border=\"1\" class=\"dataframe\">\n",
       "  <thead>\n",
       "    <tr style=\"text-align: right;\">\n",
       "      <th></th>\n",
       "      <th>ts</th>\n",
       "      <th>ts_final</th>\n",
       "      <th>gabarit</th>\n",
       "      <th>model</th>\n",
       "      <th>_3_4</th>\n",
       "      <th>state</th>\n",
       "    </tr>\n",
       "  </thead>\n",
       "  <tbody>\n",
       "    <tr>\n",
       "      <th>0</th>\n",
       "      <td>2023-10-10 09:24:10</td>\n",
       "      <td>2023-10-10 09:27:53</td>\n",
       "      <td>24</td>\n",
       "      <td>Y</td>\n",
       "      <td>223</td>\n",
       "      <td>OK</td>\n",
       "    </tr>\n",
       "    <tr>\n",
       "      <th>1</th>\n",
       "      <td>2023-10-10 09:25:18</td>\n",
       "      <td>2023-10-10 09:27:53</td>\n",
       "      <td>11</td>\n",
       "      <td>Y</td>\n",
       "      <td>155</td>\n",
       "      <td>OK</td>\n",
       "    </tr>\n",
       "    <tr>\n",
       "      <th>2</th>\n",
       "      <td>2023-10-10 09:27:20</td>\n",
       "      <td>2023-10-10 09:27:53</td>\n",
       "      <td>22</td>\n",
       "      <td>Y</td>\n",
       "      <td>33</td>\n",
       "      <td>OK</td>\n",
       "    </tr>\n",
       "    <tr>\n",
       "      <th>3</th>\n",
       "      <td>2023-10-10 09:30:37</td>\n",
       "      <td>2023-10-10 09:31:15</td>\n",
       "      <td>10</td>\n",
       "      <td>Y</td>\n",
       "      <td>38</td>\n",
       "      <td>OK</td>\n",
       "    </tr>\n",
       "    <tr>\n",
       "      <th>4</th>\n",
       "      <td>2023-10-10 09:32:25</td>\n",
       "      <td>2023-10-10 09:34:30</td>\n",
       "      <td>3</td>\n",
       "      <td>Y</td>\n",
       "      <td>125</td>\n",
       "      <td>OK</td>\n",
       "    </tr>\n",
       "    <tr>\n",
       "      <th>5</th>\n",
       "      <td>2023-10-10 09:35:57</td>\n",
       "      <td>2023-10-10 09:37:04</td>\n",
       "      <td>5</td>\n",
       "      <td>Y</td>\n",
       "      <td>67</td>\n",
       "      <td>OK</td>\n",
       "    </tr>\n",
       "    <tr>\n",
       "      <th>6</th>\n",
       "      <td>2023-10-10 09:36:48</td>\n",
       "      <td>2023-10-10 09:37:59</td>\n",
       "      <td>8</td>\n",
       "      <td>Y</td>\n",
       "      <td>71</td>\n",
       "      <td>OK</td>\n",
       "    </tr>\n",
       "    <tr>\n",
       "      <th>7</th>\n",
       "      <td>2023-10-10 09:39:50</td>\n",
       "      <td>2023-10-10 09:42:35</td>\n",
       "      <td>15</td>\n",
       "      <td>Y</td>\n",
       "      <td>165</td>\n",
       "      <td>OK</td>\n",
       "    </tr>\n",
       "    <tr>\n",
       "      <th>8</th>\n",
       "      <td>2023-10-10 09:41:06</td>\n",
       "      <td>2023-10-10 09:42:35</td>\n",
       "      <td>19</td>\n",
       "      <td>Y</td>\n",
       "      <td>89</td>\n",
       "      <td>OK</td>\n",
       "    </tr>\n",
       "    <tr>\n",
       "      <th>9</th>\n",
       "      <td>2023-10-10 09:43:02</td>\n",
       "      <td>2023-10-10 09:44:55</td>\n",
       "      <td>10</td>\n",
       "      <td>Y</td>\n",
       "      <td>113</td>\n",
       "      <td>OK</td>\n",
       "    </tr>\n",
       "    <tr>\n",
       "      <th>10</th>\n",
       "      <td>2023-10-10 09:45:15</td>\n",
       "      <td>2023-10-10 09:47:17</td>\n",
       "      <td>3</td>\n",
       "      <td>Y</td>\n",
       "      <td>122</td>\n",
       "      <td>OK</td>\n",
       "    </tr>\n",
       "    <tr>\n",
       "      <th>11</th>\n",
       "      <td>2023-10-10 09:46:06</td>\n",
       "      <td>2023-10-10 09:49:12</td>\n",
       "      <td>12</td>\n",
       "      <td>Y</td>\n",
       "      <td>186</td>\n",
       "      <td>OK</td>\n",
       "    </tr>\n",
       "    <tr>\n",
       "      <th>12</th>\n",
       "      <td>2023-10-10 09:49:41</td>\n",
       "      <td>2023-10-10 09:52:05</td>\n",
       "      <td>8</td>\n",
       "      <td>Y</td>\n",
       "      <td>144</td>\n",
       "      <td>OK</td>\n",
       "    </tr>\n",
       "    <tr>\n",
       "      <th>13</th>\n",
       "      <td>2023-10-10 09:52:47</td>\n",
       "      <td>2023-10-10 09:54:17</td>\n",
       "      <td>5</td>\n",
       "      <td>Y</td>\n",
       "      <td>90</td>\n",
       "      <td>OK</td>\n",
       "    </tr>\n",
       "    <tr>\n",
       "      <th>14</th>\n",
       "      <td>2023-10-10 09:55:13</td>\n",
       "      <td>2023-10-10 09:56:23</td>\n",
       "      <td>15</td>\n",
       "      <td>Y</td>\n",
       "      <td>70</td>\n",
       "      <td>OK</td>\n",
       "    </tr>\n",
       "    <tr>\n",
       "      <th>15</th>\n",
       "      <td>2023-10-10 09:56:08</td>\n",
       "      <td>2023-10-10 09:57:41</td>\n",
       "      <td>22</td>\n",
       "      <td>Y</td>\n",
       "      <td>93</td>\n",
       "      <td>OK</td>\n",
       "    </tr>\n",
       "    <tr>\n",
       "      <th>16</th>\n",
       "      <td>2023-10-10 09:57:43</td>\n",
       "      <td>2023-10-10 10:00:33</td>\n",
       "      <td>19</td>\n",
       "      <td>Y</td>\n",
       "      <td>170</td>\n",
       "      <td>OK</td>\n",
       "    </tr>\n",
       "    <tr>\n",
       "      <th>17</th>\n",
       "      <td>2023-10-10 10:00:07</td>\n",
       "      <td>2023-10-10 10:01:40</td>\n",
       "      <td>1</td>\n",
       "      <td>Y</td>\n",
       "      <td>93</td>\n",
       "      <td>OK</td>\n",
       "    </tr>\n",
       "    <tr>\n",
       "      <th>18</th>\n",
       "      <td>2023-10-10 10:02:01</td>\n",
       "      <td>2023-10-10 10:03:54</td>\n",
       "      <td>24</td>\n",
       "      <td>Y</td>\n",
       "      <td>113</td>\n",
       "      <td>OK</td>\n",
       "    </tr>\n",
       "    <tr>\n",
       "      <th>19</th>\n",
       "      <td>2023-10-10 10:04:04</td>\n",
       "      <td>2023-10-10 10:05:20</td>\n",
       "      <td>17</td>\n",
       "      <td>Y</td>\n",
       "      <td>76</td>\n",
       "      <td>KO</td>\n",
       "    </tr>\n",
       "    <tr>\n",
       "      <th>20</th>\n",
       "      <td>2023-10-10 10:07:14</td>\n",
       "      <td>2023-10-10 10:08:49</td>\n",
       "      <td>5</td>\n",
       "      <td>Y</td>\n",
       "      <td>95</td>\n",
       "      <td>OK</td>\n",
       "    </tr>\n",
       "  </tbody>\n",
       "</table>\n",
       "</div>"
      ],
      "text/plain": [
       "                    ts             ts_final gabarit model  _3_4 state\n",
       "0  2023-10-10 09:24:10  2023-10-10 09:27:53      24     Y   223    OK\n",
       "1  2023-10-10 09:25:18  2023-10-10 09:27:53      11     Y   155    OK\n",
       "2  2023-10-10 09:27:20  2023-10-10 09:27:53      22     Y    33    OK\n",
       "3  2023-10-10 09:30:37  2023-10-10 09:31:15      10     Y    38    OK\n",
       "4  2023-10-10 09:32:25  2023-10-10 09:34:30       3     Y   125    OK\n",
       "5  2023-10-10 09:35:57  2023-10-10 09:37:04       5     Y    67    OK\n",
       "6  2023-10-10 09:36:48  2023-10-10 09:37:59       8     Y    71    OK\n",
       "7  2023-10-10 09:39:50  2023-10-10 09:42:35      15     Y   165    OK\n",
       "8  2023-10-10 09:41:06  2023-10-10 09:42:35      19     Y    89    OK\n",
       "9  2023-10-10 09:43:02  2023-10-10 09:44:55      10     Y   113    OK\n",
       "10 2023-10-10 09:45:15  2023-10-10 09:47:17       3     Y   122    OK\n",
       "11 2023-10-10 09:46:06  2023-10-10 09:49:12      12     Y   186    OK\n",
       "12 2023-10-10 09:49:41  2023-10-10 09:52:05       8     Y   144    OK\n",
       "13 2023-10-10 09:52:47  2023-10-10 09:54:17       5     Y    90    OK\n",
       "14 2023-10-10 09:55:13  2023-10-10 09:56:23      15     Y    70    OK\n",
       "15 2023-10-10 09:56:08  2023-10-10 09:57:41      22     Y    93    OK\n",
       "16 2023-10-10 09:57:43  2023-10-10 10:00:33      19     Y   170    OK\n",
       "17 2023-10-10 10:00:07  2023-10-10 10:01:40       1     Y    93    OK\n",
       "18 2023-10-10 10:02:01  2023-10-10 10:03:54      24     Y   113    OK\n",
       "19 2023-10-10 10:04:04  2023-10-10 10:05:20      17     Y    76    KO\n",
       "20 2023-10-10 10:07:14  2023-10-10 10:08:49       5     Y    95    OK"
      ]
     },
     "metadata": {},
     "output_type": "display_data"
    }
   ],
   "source": [
    "def time_between_station(df1, df2, station1, station2, max_time):\n",
    "    \"\"\"\n",
    "    Finds and records the time difference between occurrences of the same 'gabarit' in two DataFrames,\n",
    "    df1 and df2, within a specified time window.\n",
    "\n",
    "    Parameters:\n",
    "        - df1: DataFrame containing timestamps and 'gabarit' values for station1.\n",
    "        - df2: DataFrame containing timestamps and 'gabarit' values for station2.\n",
    "        - station1: Identifier for the first station.\n",
    "        - station2: Identifier for the second station.\n",
    "        - max_time: Maximum time window to search for matching occurrences (in minutes).\n",
    "    \n",
    "    Returns:\n",
    "        DataFrame with columns 'gabarit', 'ts' (timestamp), and 'station1_station2'\n",
    "        representing the time difference (in minutes) between corresponding occurrences in\n",
    "        station1 and station2 within the specified time window.\n",
    "    \"\"\"\n",
    "    \n",
    "    df_bet = pd.DataFrame(columns=['gabarit', f'_{station1}_{station2}'])\n",
    "    df_bet['ts'] = pd.NaT  # initialize as datetime type\n",
    "\n",
    " \n",
    "    if (station1 != 3 and station2 != 4): ##1 2 or 2 3 \n",
    "        column_order = ['ts', 'gabarit', f'_{station1}_{station2}']\n",
    "        df_bet = df_bet[column_order]\n",
    "        df_bet = find_matching_gabarit(df1, df2, station1, station2, max_time, df_bet)\n",
    "    else:\n",
    "        df_bet['model'] = ''\n",
    "        df_bet['state'] = ''\n",
    "        df_bet['ts_final'] = ''\n",
    "        column_order = ['ts', 'ts_final', 'gabarit', 'model', f'_{station1}_{station2}','state']\n",
    "        df_bet = df_bet[column_order]\n",
    "        df_bet = find_matching_gabarit_final(df1, df2, df_bet)\n",
    "\n",
    "    return df_bet\n",
    "\n",
    "\n",
    "def find_matching_gabarit(df1,df2,station1, station2, max_time, df_bet):\n",
    "\n",
    "    cnt = 0\n",
    "            \n",
    "    for index in range(df1.shape[0]):\n",
    "        start_time = df1.loc[index, 'ts']\n",
    "        end_time = start_time + pd.Timedelta(minutes=max_time)\n",
    "        matching_rows = df2[(df2['ts'] >= start_time) & \n",
    "                            (df2['ts'] <= end_time) \n",
    "                                & (df2['gabarit'] == df1.loc[index,'gabarit'])]\n",
    "        if not matching_rows.empty:\n",
    "            first_occurrence = matching_rows.iloc[0]\n",
    "            \n",
    "            # df1: initial time stamp, time_in_station_1\n",
    "            # df2: initial time stamp, time_in_station_2\n",
    "            if (station1 == 1 and station2 == 2):\n",
    "                time_bet = (first_occurrence['time_in_station'] +\n",
    "                        (first_occurrence['ts'] - df1.loc[index, 'ts']).total_seconds()) # in seconds\n",
    "            else:\n",
    "                time_bet = ((first_occurrence['ts'] - df1.loc[index, 'ts'] # in seconds\n",
    "                            - pd.Timedelta(seconds = df1.loc[index, 'time_in_station'])).total_seconds())\n",
    "\n",
    "    \n",
    "            df_bet.loc[cnt, 'ts'] = df1.loc[index, 'ts']  # Copy the timestamp for reference\n",
    "            df_bet.loc[cnt, 'gabarit'] = first_occurrence['gabarit']\n",
    "            df_bet.loc[cnt, f'_{station1}_{station2}'] = time_bet #round,2\n",
    "            cnt += 1\n",
    "        \n",
    "    return df_bet\n",
    "\n",
    "def find_matching_gabarit_final(df1, df2, df_bet):\n",
    "\n",
    "    cnt = 0\n",
    "            \n",
    "    for index in range(df1.shape[0]):\n",
    "        start_time = (df1.loc[index, 'ts'] + pd.Timedelta(seconds = df1.loc[index, 'time_in_station'])\n",
    "                      + pd.Timedelta(seconds=30)) # not possible to have a test that takes less than 30 seconds\n",
    "        matching_rows = df2[(df2['Stamp'] >= start_time)]\n",
    "\n",
    "\n",
    "        if not matching_rows.empty:\n",
    "            first_occurrence = matching_rows.iloc[0]\n",
    "            \n",
    "            # df1: initial time stamp, time_in_station_1\n",
    "            # df2: initial time stamp, time_in_station_2\n",
    "            time_bet = ((first_occurrence['Stamp'] - df1.loc[index, 'ts']).total_seconds()) # in minutes\n",
    "\n",
    "            df_bet.loc[cnt, 'ts'] = df1.loc[index, 'ts']  # Copy the timestamp for reference\n",
    "            df_bet.loc[cnt, 'ts_final'] = first_occurrence['Stamp']\n",
    "            df_bet.loc[cnt, 'gabarit'] = df1.loc[index,'gabarit']\n",
    "            #print(cnt)\n",
    "            #print(type(first_occurrence['Model']))\n",
    "            #print(first_occurrence['Model'])\n",
    "            df_bet.loc[cnt, 'model'] = str(first_occurrence['Model'])\n",
    "            df_bet.loc[cnt, 'state'] = str(first_occurrence['Status'])\n",
    "            df_bet.loc[cnt, f'_3_4'] = time_bet\n",
    "            cnt += 1\n",
    "        \n",
    "    return df_bet\n",
    "\n",
    "\n",
    "\n",
    "display_df_ = 1\n",
    "\n",
    "df_bet_12 = time_between_station(df_in_1, df_in_2, 1, 2, max_time = 5) #(max time in minutes)\n",
    "df_bet_12 = df_bet_12[df_bet_12[\"_1_2\"] > 10]\n",
    "df_bet_12.reset_index(drop=True, inplace=True)\n",
    "\n",
    "df_bet_23 = time_between_station(df_in_2, df_in_3, 2, 3, max_time = 20)\n",
    "df_bet_34 = time_between_station(df_in_3, df4, 3, 4, max_time = 0)\n",
    "df_bet_34['_3_4'] = df_bet_34['_3_4'].astype(int)\n",
    "df_bet_34 = remove_top_n_outliers (df_bet_34,'_3_4',3)\n",
    "\n",
    "if display_df_:\n",
    "    display(df_bet_12.loc[:20])\n",
    "    display(df_bet_23.loc[:20])\n",
    "    display(df_bet_34.loc[:20])\n",
    "\n",
    "\n",
    "\n"
   ]
  },
  {
   "cell_type": "code",
   "execution_count": 58,
   "metadata": {},
   "outputs": [
    {
     "name": "stdout",
     "output_type": "stream",
     "text": [
      "Percentage of gabarits scanned in sensor 1: 85.26%\n",
      "Percentage of gabarits scanned in sensor 2: 45.83%\n",
      "Percentage of gabarits scanned in sensor 3: 62.82%\n"
     ]
    }
   ],
   "source": [
    "def perc_of_gabarits_found(df_in, df4, station):\n",
    "    gab_scanned = df_in.shape[0]\n",
    "    gab_factory = df4.shape[0]\n",
    "    perc = gab_scanned / gab_factory * 100\n",
    "    perc = round(perc,2)\n",
    "    \n",
    "    if station == 4:\n",
    "        #display(df4)\n",
    "        #display(df_in) \n",
    "        ok_count = df_in['state'].value_counts().get('OK', 0)\n",
    "        #print(f'ok: {ok_count}')\n",
    "        ko_count =gab_scanned - ok_count\n",
    "        perc_ok = round(ok_count / gab_scanned *100)\n",
    "        perc_ko = round(100 - perc_ok)\n",
    "        print(f\"Percentage of gabarits scanned in every sensor: {perc}%, which of those occured OK:{ok_count} and KO:{ko_count}\")\n",
    "    else: \n",
    "        print(f\"Percentage of gabarits scanned in sensor {station}: {perc}%\")\n",
    "    \n",
    "    return perc\n",
    "\n",
    "\n",
    "perc1 = perc_of_gabarits_found(df_in_1, df4, 1)\n",
    "perc2 = perc_of_gabarits_found(df_in_2, df4, 2)\n",
    "perc3 = perc_of_gabarits_found(df_in_3, df4, 3)\n"
   ]
  },
  {
   "cell_type": "code",
   "execution_count": 67,
   "metadata": {},
   "outputs": [
    {
     "name": "stdout",
     "output_type": "stream",
     "text": [
      "Percentage of gabarits scanned in every sensor: 15.06%, which of those occured OK:47 and KO:0\n"
     ]
    },
    {
     "name": "stderr",
     "output_type": "stream",
     "text": [
      "C:\\Users\\isacc\\AppData\\Local\\Temp\\ipykernel_12844\\445525737.py:107: SettingWithCopyWarning:\n",
      "\n",
      "\n",
      "A value is trying to be set on a copy of a slice from a DataFrame.\n",
      "Try using .loc[row_indexer,col_indexer] = value instead\n",
      "\n",
      "See the caveats in the documentation: https://pandas.pydata.org/pandas-docs/stable/user_guide/indexing.html#returning-a-view-versus-a-copy\n",
      "\n",
      "C:\\Users\\isacc\\AppData\\Local\\Temp\\ipykernel_12844\\445525737.py:108: SettingWithCopyWarning:\n",
      "\n",
      "\n",
      "A value is trying to be set on a copy of a slice from a DataFrame.\n",
      "Try using .loc[row_indexer,col_indexer] = value instead\n",
      "\n",
      "See the caveats in the documentation: https://pandas.pydata.org/pandas-docs/stable/user_guide/indexing.html#returning-a-view-versus-a-copy\n",
      "\n",
      "C:\\Users\\isacc\\AppData\\Local\\Temp\\ipykernel_12844\\445525737.py:109: SettingWithCopyWarning:\n",
      "\n",
      "\n",
      "A value is trying to be set on a copy of a slice from a DataFrame.\n",
      "Try using .loc[row_indexer,col_indexer] = value instead\n",
      "\n",
      "See the caveats in the documentation: https://pandas.pydata.org/pandas-docs/stable/user_guide/indexing.html#returning-a-view-versus-a-copy\n",
      "\n",
      "c:\\Users\\isacc\\miniconda3\\Lib\\site-packages\\_plotly_utils\\basevalidators.py:105: FutureWarning:\n",
      "\n",
      "The behavior of DatetimeProperties.to_pydatetime is deprecated, in a future version this will return a Series containing python datetime objects instead of an ndarray. To retain the old behavior, call `np.array` on the result\n",
      "\n"
     ]
    },
    {
     "data": {
      "application/vnd.plotly.v1+json": {
       "config": {
        "plotlyServerURL": "https://plot.ly"
       },
       "data": [
        {
         "alignmentgroup": "True",
         "hovertemplate": "color=Y_1_2<br>Timestamp=%{x}<br>Time (minutes)=%{y}<extra></extra>",
         "legendgroup": "Y_1_2",
         "marker": {
          "color": "orangered",
          "pattern": {
           "shape": ""
          }
         },
         "name": "Y_1_2",
         "offsetgroup": "Y_1_2",
         "orientation": "v",
         "showlegend": true,
         "textposition": "auto",
         "type": "bar",
         "width": 20000,
         "x": [
          "2023-10-10T09:39:10",
          "2023-10-10T09:41:55",
          "2023-10-10T09:43:09",
          "2023-10-10T10:11:06",
          "2023-10-10T10:20:11",
          "2023-10-10T10:20:39",
          "2023-10-10T11:10:04",
          "2023-10-10T11:11:03",
          "2023-10-10T11:14:35",
          "2023-10-10T11:17:02",
          "2023-10-10T11:18:23",
          "2023-10-10T11:40:18",
          "2023-10-10T11:53:40",
          "2023-10-10T12:01:20",
          "2023-10-10T12:02:54",
          "2023-10-10T12:10:10",
          "2023-10-10T12:16:53",
          "2023-10-10T12:23:51",
          "2023-10-10T12:25:17",
          "2023-10-10T12:30:28",
          "2023-10-10T12:31:38",
          "2023-10-10T12:43:08",
          "2023-10-10T12:48:26",
          "2023-10-10T14:03:38",
          "2023-10-10T14:05:06",
          "2023-10-10T14:56:11",
          "2023-10-10T14:57:25",
          "2023-10-10T15:05:25",
          "2023-10-10T15:06:28",
          "2023-10-10T15:07:35",
          "2023-10-10T15:12:54",
          "2023-10-10T15:19:30",
          "2023-10-10T15:29:58",
          "2023-10-10T15:33:36",
          "2023-10-10T15:36:33",
          "2023-10-10T15:42:42",
          "2023-10-10T15:45:19",
          "2023-10-10T16:12:39",
          "2023-10-10T16:55:16",
          "2023-10-10T16:57:10",
          "2023-10-10T16:59:24",
          "2023-10-10T17:03:39",
          "2023-10-10T17:04:42",
          "2023-10-10T17:15:57",
          "2023-10-10T17:17:47",
          "2023-10-10T17:37:01",
          "2023-10-10T17:47:47"
         ],
         "xaxis": "x",
         "y": [
          0.6,
          0.5333333333333333,
          0.9166666666666666,
          0.95,
          0.21666666666666667,
          2.0833333333333335,
          0.6,
          0.43333333333333335,
          0.55,
          0.9666666666666667,
          1.5833333333333333,
          1.3,
          0.9333333333333333,
          0.23333333333333334,
          1.3166666666666667,
          0.26666666666666666,
          0.48333333333333334,
          1.1166666666666667,
          0.9,
          0.7833333333333333,
          0.8666666666666667,
          0.35,
          1.55,
          0.9166666666666666,
          0.31666666666666665,
          0.31666666666666665,
          0.31666666666666665,
          0.38333333333333336,
          0.4166666666666667,
          0.55,
          1.2,
          0.5666666666666667,
          0.65,
          0.45,
          0.4166666666666667,
          0.3,
          1.1166666666666667,
          0.8333333333333334,
          1.0333333333333334,
          0.7,
          0.85,
          0.6833333333333333,
          0.8,
          1.2,
          0.5666666666666667,
          0.9,
          2.0166666666666666
         ],
         "yaxis": "y"
        },
        {
         "alignmentgroup": "True",
         "hovertemplate": "color=Y_2_3<br>Timestamp=%{x}<br>Time (minutes)=%{y}<extra></extra>",
         "legendgroup": "Y_2_3",
         "marker": {
          "color": "orange",
          "pattern": {
           "shape": ""
          }
         },
         "name": "Y_2_3",
         "offsetgroup": "Y_2_3",
         "orientation": "v",
         "showlegend": true,
         "textposition": "auto",
         "type": "bar",
         "width": 20000,
         "x": [
          "2023-10-10T09:39:10",
          "2023-10-10T09:41:55",
          "2023-10-10T09:43:09",
          "2023-10-10T10:11:06",
          "2023-10-10T10:20:11",
          "2023-10-10T10:20:39",
          "2023-10-10T11:10:04",
          "2023-10-10T11:11:03",
          "2023-10-10T11:14:35",
          "2023-10-10T11:17:02",
          "2023-10-10T11:18:23",
          "2023-10-10T11:40:18",
          "2023-10-10T11:53:40",
          "2023-10-10T12:01:20",
          "2023-10-10T12:02:54",
          "2023-10-10T12:10:10",
          "2023-10-10T12:16:53",
          "2023-10-10T12:23:51",
          "2023-10-10T12:25:17",
          "2023-10-10T12:30:28",
          "2023-10-10T12:31:38",
          "2023-10-10T12:43:08",
          "2023-10-10T12:48:26",
          "2023-10-10T14:03:38",
          "2023-10-10T14:05:06",
          "2023-10-10T14:56:11",
          "2023-10-10T14:57:25",
          "2023-10-10T15:05:25",
          "2023-10-10T15:06:28",
          "2023-10-10T15:07:35",
          "2023-10-10T15:12:54",
          "2023-10-10T15:19:30",
          "2023-10-10T15:29:58",
          "2023-10-10T15:33:36",
          "2023-10-10T15:36:33",
          "2023-10-10T15:42:42",
          "2023-10-10T15:45:19",
          "2023-10-10T16:12:39",
          "2023-10-10T16:55:16",
          "2023-10-10T16:57:10",
          "2023-10-10T16:59:24",
          "2023-10-10T17:03:39",
          "2023-10-10T17:04:42",
          "2023-10-10T17:15:57",
          "2023-10-10T17:17:47",
          "2023-10-10T17:37:01",
          "2023-10-10T17:47:47"
         ],
         "xaxis": "x",
         "y": [
          3.2666666666666666,
          2.8,
          2.033333333333333,
          2.533333333333333,
          4.183333333333334,
          2.716666666666667,
          3,
          3.45,
          3.066666666666667,
          2.1666666666666665,
          1.5833333333333333,
          3.466666666666667,
          1.9333333333333333,
          3,
          2.783333333333333,
          2.9833333333333334,
          3.05,
          2.933333333333333,
          3.1166666666666667,
          3.85,
          3.316666666666667,
          2.933333333333333,
          2.316666666666667,
          2.9833333333333334,
          4.05,
          2.9166666666666665,
          2.716666666666667,
          2.716666666666667,
          2.85,
          3.1666666666666665,
          3.8,
          3.3333333333333335,
          3.783333333333333,
          3.9,
          3.8333333333333335,
          4.45,
          4.45,
          3.933333333333333,
          3.566666666666667,
          2.783333333333333,
          2.65,
          2.3833333333333333,
          3.3333333333333335,
          4,
          4.1,
          4.566666666666666,
          2.3333333333333335
         ],
         "yaxis": "y"
        },
        {
         "alignmentgroup": "True",
         "hovertemplate": "color=Y_3_4<br>Timestamp=%{x}<br>Time (minutes)=%{y}<extra></extra>",
         "legendgroup": "Y_3_4",
         "marker": {
          "color": "#FFD68A",
          "pattern": {
           "shape": ""
          }
         },
         "name": "Y_3_4",
         "offsetgroup": "Y_3_4",
         "orientation": "v",
         "showlegend": true,
         "textposition": "auto",
         "type": "bar",
         "width": 20000,
         "x": [
          "2023-10-10T09:39:10",
          "2023-10-10T09:41:55",
          "2023-10-10T09:43:09",
          "2023-10-10T10:11:06",
          "2023-10-10T10:20:11",
          "2023-10-10T10:20:39",
          "2023-10-10T11:10:04",
          "2023-10-10T11:11:03",
          "2023-10-10T11:14:35",
          "2023-10-10T11:17:02",
          "2023-10-10T11:18:23",
          "2023-10-10T11:40:18",
          "2023-10-10T11:53:40",
          "2023-10-10T12:01:20",
          "2023-10-10T12:02:54",
          "2023-10-10T12:10:10",
          "2023-10-10T12:16:53",
          "2023-10-10T12:23:51",
          "2023-10-10T12:25:17",
          "2023-10-10T12:30:28",
          "2023-10-10T12:31:38",
          "2023-10-10T12:43:08",
          "2023-10-10T12:48:26",
          "2023-10-10T14:03:38",
          "2023-10-10T14:05:06",
          "2023-10-10T14:56:11",
          "2023-10-10T14:57:25",
          "2023-10-10T15:05:25",
          "2023-10-10T15:06:28",
          "2023-10-10T15:07:35",
          "2023-10-10T15:12:54",
          "2023-10-10T15:19:30",
          "2023-10-10T15:29:58",
          "2023-10-10T15:33:36",
          "2023-10-10T15:36:33",
          "2023-10-10T15:42:42",
          "2023-10-10T15:45:19",
          "2023-10-10T16:12:39",
          "2023-10-10T16:55:16",
          "2023-10-10T16:57:10",
          "2023-10-10T16:59:24",
          "2023-10-10T17:03:39",
          "2023-10-10T17:04:42",
          "2023-10-10T17:15:57",
          "2023-10-10T17:17:47",
          "2023-10-10T17:37:01",
          "2023-10-10T17:47:47"
         ],
         "xaxis": "x",
         "y": [
          1.8833333333333333,
          2.033333333333333,
          3.1,
          3.65,
          1.7333333333333334,
          2.15,
          1.2333333333333334,
          1.15,
          1.5833333333333333,
          1.65,
          2.1666666666666665,
          2.066666666666667,
          2.4,
          2.2666666666666666,
          1.05,
          2.966666666666667,
          1.65,
          0.9833333333333333,
          1.7833333333333334,
          1.55,
          2.8666666666666667,
          1.6666666666666667,
          2.1166666666666667,
          2.1666666666666665,
          1.75,
          2.4833333333333334,
          2.25,
          2.4833333333333334,
          2.35,
          2.6,
          1.3333333333333333,
          1.8833333333333333,
          1.0833333333333333,
          1.6,
          0.85,
          1.8666666666666667,
          1.7166666666666666,
          2.7666666666666666,
          1.1666666666666667,
          1.8333333333333333,
          1.3666666666666667,
          1.75,
          1.4333333333333333,
          1.3166666666666667,
          1.1333333333333333,
          1.9666666666666666,
          2.6166666666666667
         ],
         "yaxis": "y"
        },
        {
         "line": {
          "color": "orangered",
          "dash": "dot"
         },
         "mode": "lines",
         "name": "Average time process 1",
         "type": "scatter",
         "x": [
          "2023-10-10T09:39:10",
          "2023-10-10T17:57:47"
         ],
         "y": [
          0.7879432624113476,
          0.7879432624113476
         ]
        },
        {
         "line": {
          "color": "orange",
          "dash": "dot"
         },
         "mode": "lines",
         "name": "Average time process 2",
         "type": "scatter",
         "x": [
          "2023-10-10T09:39:10",
          "2023-10-10T17:57:47"
         ],
         "y": [
          3.9599290780141847,
          3.9599290780141847
         ]
        },
        {
         "line": {
          "color": "#FFD68A",
          "dash": "dot"
         },
         "mode": "lines",
         "name": "Average time process 3",
         "type": "scatter",
         "x": [
          "2023-10-10T09:39:10",
          "2023-10-10T17:57:47"
         ],
         "y": [
          5.863475177304965,
          5.863475177304965
         ]
        }
       ],
       "layout": {
        "barmode": "relative",
        "font": {
         "size": 14
        },
        "height": 600,
        "legend": {
         "title": {
          "text": "Model_time between stations"
         },
         "tracegroupgap": 0,
         "x": 0.75,
         "xanchor": "left",
         "y": -0.1,
         "yanchor": "top"
        },
        "template": {
         "data": {
          "bar": [
           {
            "error_x": {
             "color": "#2a3f5f"
            },
            "error_y": {
             "color": "#2a3f5f"
            },
            "marker": {
             "line": {
              "color": "#E5ECF6",
              "width": 0.5
             },
             "pattern": {
              "fillmode": "overlay",
              "size": 10,
              "solidity": 0.2
             }
            },
            "type": "bar"
           }
          ],
          "barpolar": [
           {
            "marker": {
             "line": {
              "color": "#E5ECF6",
              "width": 0.5
             },
             "pattern": {
              "fillmode": "overlay",
              "size": 10,
              "solidity": 0.2
             }
            },
            "type": "barpolar"
           }
          ],
          "carpet": [
           {
            "aaxis": {
             "endlinecolor": "#2a3f5f",
             "gridcolor": "white",
             "linecolor": "white",
             "minorgridcolor": "white",
             "startlinecolor": "#2a3f5f"
            },
            "baxis": {
             "endlinecolor": "#2a3f5f",
             "gridcolor": "white",
             "linecolor": "white",
             "minorgridcolor": "white",
             "startlinecolor": "#2a3f5f"
            },
            "type": "carpet"
           }
          ],
          "choropleth": [
           {
            "colorbar": {
             "outlinewidth": 0,
             "ticks": ""
            },
            "type": "choropleth"
           }
          ],
          "contour": [
           {
            "colorbar": {
             "outlinewidth": 0,
             "ticks": ""
            },
            "colorscale": [
             [
              0,
              "#0d0887"
             ],
             [
              0.1111111111111111,
              "#46039f"
             ],
             [
              0.2222222222222222,
              "#7201a8"
             ],
             [
              0.3333333333333333,
              "#9c179e"
             ],
             [
              0.4444444444444444,
              "#bd3786"
             ],
             [
              0.5555555555555556,
              "#d8576b"
             ],
             [
              0.6666666666666666,
              "#ed7953"
             ],
             [
              0.7777777777777778,
              "#fb9f3a"
             ],
             [
              0.8888888888888888,
              "#fdca26"
             ],
             [
              1,
              "#f0f921"
             ]
            ],
            "type": "contour"
           }
          ],
          "contourcarpet": [
           {
            "colorbar": {
             "outlinewidth": 0,
             "ticks": ""
            },
            "type": "contourcarpet"
           }
          ],
          "heatmap": [
           {
            "colorbar": {
             "outlinewidth": 0,
             "ticks": ""
            },
            "colorscale": [
             [
              0,
              "#0d0887"
             ],
             [
              0.1111111111111111,
              "#46039f"
             ],
             [
              0.2222222222222222,
              "#7201a8"
             ],
             [
              0.3333333333333333,
              "#9c179e"
             ],
             [
              0.4444444444444444,
              "#bd3786"
             ],
             [
              0.5555555555555556,
              "#d8576b"
             ],
             [
              0.6666666666666666,
              "#ed7953"
             ],
             [
              0.7777777777777778,
              "#fb9f3a"
             ],
             [
              0.8888888888888888,
              "#fdca26"
             ],
             [
              1,
              "#f0f921"
             ]
            ],
            "type": "heatmap"
           }
          ],
          "heatmapgl": [
           {
            "colorbar": {
             "outlinewidth": 0,
             "ticks": ""
            },
            "colorscale": [
             [
              0,
              "#0d0887"
             ],
             [
              0.1111111111111111,
              "#46039f"
             ],
             [
              0.2222222222222222,
              "#7201a8"
             ],
             [
              0.3333333333333333,
              "#9c179e"
             ],
             [
              0.4444444444444444,
              "#bd3786"
             ],
             [
              0.5555555555555556,
              "#d8576b"
             ],
             [
              0.6666666666666666,
              "#ed7953"
             ],
             [
              0.7777777777777778,
              "#fb9f3a"
             ],
             [
              0.8888888888888888,
              "#fdca26"
             ],
             [
              1,
              "#f0f921"
             ]
            ],
            "type": "heatmapgl"
           }
          ],
          "histogram": [
           {
            "marker": {
             "pattern": {
              "fillmode": "overlay",
              "size": 10,
              "solidity": 0.2
             }
            },
            "type": "histogram"
           }
          ],
          "histogram2d": [
           {
            "colorbar": {
             "outlinewidth": 0,
             "ticks": ""
            },
            "colorscale": [
             [
              0,
              "#0d0887"
             ],
             [
              0.1111111111111111,
              "#46039f"
             ],
             [
              0.2222222222222222,
              "#7201a8"
             ],
             [
              0.3333333333333333,
              "#9c179e"
             ],
             [
              0.4444444444444444,
              "#bd3786"
             ],
             [
              0.5555555555555556,
              "#d8576b"
             ],
             [
              0.6666666666666666,
              "#ed7953"
             ],
             [
              0.7777777777777778,
              "#fb9f3a"
             ],
             [
              0.8888888888888888,
              "#fdca26"
             ],
             [
              1,
              "#f0f921"
             ]
            ],
            "type": "histogram2d"
           }
          ],
          "histogram2dcontour": [
           {
            "colorbar": {
             "outlinewidth": 0,
             "ticks": ""
            },
            "colorscale": [
             [
              0,
              "#0d0887"
             ],
             [
              0.1111111111111111,
              "#46039f"
             ],
             [
              0.2222222222222222,
              "#7201a8"
             ],
             [
              0.3333333333333333,
              "#9c179e"
             ],
             [
              0.4444444444444444,
              "#bd3786"
             ],
             [
              0.5555555555555556,
              "#d8576b"
             ],
             [
              0.6666666666666666,
              "#ed7953"
             ],
             [
              0.7777777777777778,
              "#fb9f3a"
             ],
             [
              0.8888888888888888,
              "#fdca26"
             ],
             [
              1,
              "#f0f921"
             ]
            ],
            "type": "histogram2dcontour"
           }
          ],
          "mesh3d": [
           {
            "colorbar": {
             "outlinewidth": 0,
             "ticks": ""
            },
            "type": "mesh3d"
           }
          ],
          "parcoords": [
           {
            "line": {
             "colorbar": {
              "outlinewidth": 0,
              "ticks": ""
             }
            },
            "type": "parcoords"
           }
          ],
          "pie": [
           {
            "automargin": true,
            "type": "pie"
           }
          ],
          "scatter": [
           {
            "fillpattern": {
             "fillmode": "overlay",
             "size": 10,
             "solidity": 0.2
            },
            "type": "scatter"
           }
          ],
          "scatter3d": [
           {
            "line": {
             "colorbar": {
              "outlinewidth": 0,
              "ticks": ""
             }
            },
            "marker": {
             "colorbar": {
              "outlinewidth": 0,
              "ticks": ""
             }
            },
            "type": "scatter3d"
           }
          ],
          "scattercarpet": [
           {
            "marker": {
             "colorbar": {
              "outlinewidth": 0,
              "ticks": ""
             }
            },
            "type": "scattercarpet"
           }
          ],
          "scattergeo": [
           {
            "marker": {
             "colorbar": {
              "outlinewidth": 0,
              "ticks": ""
             }
            },
            "type": "scattergeo"
           }
          ],
          "scattergl": [
           {
            "marker": {
             "colorbar": {
              "outlinewidth": 0,
              "ticks": ""
             }
            },
            "type": "scattergl"
           }
          ],
          "scattermapbox": [
           {
            "marker": {
             "colorbar": {
              "outlinewidth": 0,
              "ticks": ""
             }
            },
            "type": "scattermapbox"
           }
          ],
          "scatterpolar": [
           {
            "marker": {
             "colorbar": {
              "outlinewidth": 0,
              "ticks": ""
             }
            },
            "type": "scatterpolar"
           }
          ],
          "scatterpolargl": [
           {
            "marker": {
             "colorbar": {
              "outlinewidth": 0,
              "ticks": ""
             }
            },
            "type": "scatterpolargl"
           }
          ],
          "scatterternary": [
           {
            "marker": {
             "colorbar": {
              "outlinewidth": 0,
              "ticks": ""
             }
            },
            "type": "scatterternary"
           }
          ],
          "surface": [
           {
            "colorbar": {
             "outlinewidth": 0,
             "ticks": ""
            },
            "colorscale": [
             [
              0,
              "#0d0887"
             ],
             [
              0.1111111111111111,
              "#46039f"
             ],
             [
              0.2222222222222222,
              "#7201a8"
             ],
             [
              0.3333333333333333,
              "#9c179e"
             ],
             [
              0.4444444444444444,
              "#bd3786"
             ],
             [
              0.5555555555555556,
              "#d8576b"
             ],
             [
              0.6666666666666666,
              "#ed7953"
             ],
             [
              0.7777777777777778,
              "#fb9f3a"
             ],
             [
              0.8888888888888888,
              "#fdca26"
             ],
             [
              1,
              "#f0f921"
             ]
            ],
            "type": "surface"
           }
          ],
          "table": [
           {
            "cells": {
             "fill": {
              "color": "#EBF0F8"
             },
             "line": {
              "color": "white"
             }
            },
            "header": {
             "fill": {
              "color": "#C8D4E3"
             },
             "line": {
              "color": "white"
             }
            },
            "type": "table"
           }
          ]
         },
         "layout": {
          "annotationdefaults": {
           "arrowcolor": "#2a3f5f",
           "arrowhead": 0,
           "arrowwidth": 1
          },
          "autotypenumbers": "strict",
          "coloraxis": {
           "colorbar": {
            "outlinewidth": 0,
            "ticks": ""
           }
          },
          "colorscale": {
           "diverging": [
            [
             0,
             "#8e0152"
            ],
            [
             0.1,
             "#c51b7d"
            ],
            [
             0.2,
             "#de77ae"
            ],
            [
             0.3,
             "#f1b6da"
            ],
            [
             0.4,
             "#fde0ef"
            ],
            [
             0.5,
             "#f7f7f7"
            ],
            [
             0.6,
             "#e6f5d0"
            ],
            [
             0.7,
             "#b8e186"
            ],
            [
             0.8,
             "#7fbc41"
            ],
            [
             0.9,
             "#4d9221"
            ],
            [
             1,
             "#276419"
            ]
           ],
           "sequential": [
            [
             0,
             "#0d0887"
            ],
            [
             0.1111111111111111,
             "#46039f"
            ],
            [
             0.2222222222222222,
             "#7201a8"
            ],
            [
             0.3333333333333333,
             "#9c179e"
            ],
            [
             0.4444444444444444,
             "#bd3786"
            ],
            [
             0.5555555555555556,
             "#d8576b"
            ],
            [
             0.6666666666666666,
             "#ed7953"
            ],
            [
             0.7777777777777778,
             "#fb9f3a"
            ],
            [
             0.8888888888888888,
             "#fdca26"
            ],
            [
             1,
             "#f0f921"
            ]
           ],
           "sequentialminus": [
            [
             0,
             "#0d0887"
            ],
            [
             0.1111111111111111,
             "#46039f"
            ],
            [
             0.2222222222222222,
             "#7201a8"
            ],
            [
             0.3333333333333333,
             "#9c179e"
            ],
            [
             0.4444444444444444,
             "#bd3786"
            ],
            [
             0.5555555555555556,
             "#d8576b"
            ],
            [
             0.6666666666666666,
             "#ed7953"
            ],
            [
             0.7777777777777778,
             "#fb9f3a"
            ],
            [
             0.8888888888888888,
             "#fdca26"
            ],
            [
             1,
             "#f0f921"
            ]
           ]
          },
          "colorway": [
           "#636efa",
           "#EF553B",
           "#00cc96",
           "#ab63fa",
           "#FFA15A",
           "#19d3f3",
           "#FF6692",
           "#B6E880",
           "#FF97FF",
           "#FECB52"
          ],
          "font": {
           "color": "#2a3f5f"
          },
          "geo": {
           "bgcolor": "white",
           "lakecolor": "white",
           "landcolor": "#E5ECF6",
           "showlakes": true,
           "showland": true,
           "subunitcolor": "white"
          },
          "hoverlabel": {
           "align": "left"
          },
          "hovermode": "closest",
          "mapbox": {
           "style": "light"
          },
          "paper_bgcolor": "white",
          "plot_bgcolor": "#E5ECF6",
          "polar": {
           "angularaxis": {
            "gridcolor": "white",
            "linecolor": "white",
            "ticks": ""
           },
           "bgcolor": "#E5ECF6",
           "radialaxis": {
            "gridcolor": "white",
            "linecolor": "white",
            "ticks": ""
           }
          },
          "scene": {
           "xaxis": {
            "backgroundcolor": "#E5ECF6",
            "gridcolor": "white",
            "gridwidth": 2,
            "linecolor": "white",
            "showbackground": true,
            "ticks": "",
            "zerolinecolor": "white"
           },
           "yaxis": {
            "backgroundcolor": "#E5ECF6",
            "gridcolor": "white",
            "gridwidth": 2,
            "linecolor": "white",
            "showbackground": true,
            "ticks": "",
            "zerolinecolor": "white"
           },
           "zaxis": {
            "backgroundcolor": "#E5ECF6",
            "gridcolor": "white",
            "gridwidth": 2,
            "linecolor": "white",
            "showbackground": true,
            "ticks": "",
            "zerolinecolor": "white"
           }
          },
          "shapedefaults": {
           "line": {
            "color": "#2a3f5f"
           }
          },
          "ternary": {
           "aaxis": {
            "gridcolor": "white",
            "linecolor": "white",
            "ticks": ""
           },
           "baxis": {
            "gridcolor": "white",
            "linecolor": "white",
            "ticks": ""
           },
           "bgcolor": "#E5ECF6",
           "caxis": {
            "gridcolor": "white",
            "linecolor": "white",
            "ticks": ""
           }
          },
          "title": {
           "x": 0.05
          },
          "xaxis": {
           "automargin": true,
           "gridcolor": "white",
           "linecolor": "white",
           "ticks": "",
           "title": {
            "standoff": 15
           },
           "zerolinecolor": "white",
           "zerolinewidth": 2
          },
          "yaxis": {
           "automargin": true,
           "gridcolor": "white",
           "linecolor": "white",
           "ticks": "",
           "title": {
            "standoff": 15
           },
           "zerolinecolor": "white",
           "zerolinewidth": 2
          }
         }
        },
        "title": {
         "text": "Time of processes"
        },
        "width": 1050,
        "xaxis": {
         "anchor": "y",
         "domain": [
          0,
          1
         ],
         "range": [
          "2023-10-10 11:38:00",
          "2023-10-10 12:50:00"
         ],
         "showgrid": true,
         "title": {
          "text": "Timestamp"
         }
        },
        "yaxis": {
         "anchor": "x",
         "domain": [
          0,
          1
         ],
         "range": [
          0,
          10
         ],
         "title": {
          "text": "Time (minutes)"
         }
        }
       }
      }
     },
     "metadata": {},
     "output_type": "display_data"
    }
   ],
   "source": [
    "\n",
    "def all_time_between_station(df12, df23, df34):\n",
    "    #df_bet_all = pd.DataFrame(columns = ['ts1','_12','ts2', 'ts2','_23','ts3','time_bet_34','gabarit','model'])\n",
    "    df_bet_all = pd.DataFrame(columns = ['ts_1','ts_2', 'ts_3','ts_4','gabarit', 'model','_1_2','_2_3','_3_4','state']) \n",
    "    #display(df12)\n",
    "    #display(df23)\n",
    "    #display(df34)\n",
    "\n",
    "    cnt = 0\n",
    "    for index in range(df12.shape[0]):\n",
    "\n",
    "        start_time = (df12.loc[index, 'ts'] + pd.Timedelta(seconds = df12.loc[index, f'_1_2'])\n",
    "                       - pd.Timedelta(seconds=2))\n",
    "        end_time = start_time + pd.Timedelta(seconds=3)\n",
    "\n",
    "        matching_rows = df23[(df23['ts'] >= start_time) & (df23['ts'] <= end_time) \n",
    "                                & (df23['gabarit'] == df12.loc[index,'gabarit'])]\n",
    "        if not matching_rows.empty:\n",
    "            \n",
    "            first_occurrence = matching_rows.iloc[0]\n",
    "\n",
    "            start_time2 = (first_occurrence['ts'] + pd.Timedelta(seconds = first_occurrence[f'_2_3']) \n",
    "                          - pd.Timedelta(seconds=1))\n",
    "            end_time2 = start_time2 +   pd.Timedelta(seconds=3)\n",
    "            matching_rows2 = df34[(df34['ts'] >= start_time2) & (df34['ts'] <= end_time2) \n",
    "                                & (df34['gabarit'] == first_occurrence['gabarit'])]\n",
    "            \n",
    "            if not matching_rows2.empty:\n",
    "\n",
    "                first_occurrence2 = matching_rows2.iloc[0]\n",
    "                df_bet_all.loc[cnt, 'ts_1'] = df12.loc[index, 'ts']  # Copy the timestamp for reference\n",
    "                df_bet_all.loc[cnt, 'gabarit'] = first_occurrence['gabarit']\n",
    "                df_bet_all.loc[cnt, '_1_2'] = df12.loc[index, '_1_2'] \n",
    "                df_bet_all.loc[cnt, '_2_3'] = first_occurrence['_2_3'] \n",
    "                df_bet_all.loc[cnt, 'ts_2'] = first_occurrence['ts']\n",
    "                df_bet_all.loc[cnt, 'ts_3'] = first_occurrence2['ts']\n",
    "                df_bet_all.loc[cnt, 'ts_4'] = first_occurrence2['ts_final']\n",
    "                df_bet_all.loc[cnt, '_3_4'] = first_occurrence2['_3_4']\n",
    "                df_bet_all.loc[cnt, 'model'] = str(first_occurrence2['model'])\n",
    "                df_bet_all.loc[cnt, 'state'] = str(first_occurrence2['state'])\n",
    "            \n",
    "                cnt += 1\n",
    "\n",
    "    return df_bet_all\n",
    "\n",
    "\n",
    "\n",
    "def plot_time_in_station(df):\n",
    "    #display(px.data.medals_wide())\n",
    "\n",
    "    df['_1_2'] = df['_1_2'].astype(int)\n",
    "    df['_2_3'] = df['_2_3'].astype(int)\n",
    "    df['_3_4'] = df['_3_4'].astype(int)\n",
    "    melted_df = pd.melt(df, id_vars=['ts_1','ts_2','ts_3','ts_4','model','state'], value_vars=['_1_2','_2_3','_3_4'],var_name='process', value_name='time')    \n",
    "    melted_df['color'] = melted_df['model'] + melted_df['process']\n",
    "    color_discrete_map = {\"Y_1_2\": 'darkblue',\n",
    "                          \"Y_2_3\": 'dodgerblue', \n",
    "                          \"Y_3_4\": 'lightskyblue',\n",
    "\n",
    "                          \"X_1_2\": 'maroon',\n",
    "                          \"X_2_3\":'red',\n",
    "                          \"X_3_4\": 'lightcoral',\n",
    "\n",
    "                          \"Z_1_2\": 'forestgreen',\n",
    "                          \"Z_2_3\": 'limegreen', \n",
    "                          \"Z_3_4\": 'lightgreen',}\n",
    "    \n",
    "    \n",
    "    melted_df[\"time\"] = melted_df[\"time\"] /60\n",
    "    fig = px.bar(melted_df, x=\"ts_1\", y=\"time\", \n",
    "                labels={\"ts_1\": \"Timestamp\", \"time\": \"Time (minutes)\"},\n",
    "                color = \"color\",\n",
    "                color_discrete_map = color_discrete_map,\n",
    "                title=\"Time Between Stations\")\n",
    "    fig.update_traces(width=30000)\n",
    "    \n",
    "    fig.update_layout(legend_title_text=\"Model_time between stations\")\n",
    "    #fig.update_layout(legend=dict( yanchor=\"top\", y=0.95,xanchor=\"left\",x=0.70))\n",
    "    fig.update_layout(yaxis_range=[0, 25], xaxis_range = [date_year + ' 15:00:00', date_year + ' 18:00:00'])#y_max + 1])\n",
    "    fig.update_xaxes(showgrid=True) \n",
    "    fig.update_yaxes(range=[0,10]) \n",
    "    fig.update_layout(font=dict(size=14))\n",
    "    fig.update_layout(width=1050, height = 500) \n",
    "    \n",
    "    fig.write_image(\"images/time_in_stat_\" + dataset + \"_\" + day + \"_\" + month + \"_\" + \".svg\")\n",
    "    display(melted_df.loc[:10])\n",
    "    average_time_1_2 = melted_df[melted_df['process'] == '_1_2']['time'].mean()\n",
    "    average_time_2_3 = melted_df[melted_df['process'] == '_2_3']['time'].mean()\n",
    "    average_time_2_3 += average_time_1_2\n",
    "    average_time_3_4 = melted_df[melted_df['process'] == '_3_4']['time'].mean()\n",
    "    average_time_3_4 += average_time_2_3\n",
    "\n",
    "    fig.add_trace(go.Scatter(x=[melted_df['ts_1'].iloc[0], melted_df['ts_1'].iloc[-1] + pd.to_timedelta(\"00:10:00\")], y=[average_time_1_2, average_time_1_2], mode='lines', \n",
    "                             name='Average time process 1', line_color='maroon', line=dict(dash='dot')))\n",
    "    fig.add_trace(go.Scatter(x=[melted_df['ts_1'].iloc[0], melted_df['ts_1'].iloc[-1] + pd.to_timedelta(\"00:10:00\")], y=[average_time_2_3, average_time_2_3], mode='lines', \n",
    "                             name='Average time process 2', line_color='red', line=dict(dash='dot')))\n",
    "    \n",
    "    fig.add_trace(go.Scatter(x=[melted_df['ts_1'].iloc[0], melted_df['ts_1'].iloc[-1] + pd.to_timedelta(\"00:10:00\")], y=[average_time_3_4, average_time_3_4], mode='lines', \n",
    "                             name='Average time process 3', line_color='lightcoral', line=dict(dash='dot')))\n",
    "    \n",
    "    \n",
    "    fig.show()\n",
    "\n",
    "\n",
    "def plot_time_horizontal(df):\n",
    "    #display(px.data.medals_wide())\n",
    "\n",
    "    df['_1_2'] = df['_1_2'].astype(int)\n",
    "    df['_2_3'] = df['_2_3'].astype(int)\n",
    "    df['_3_4'] = df['_3_4'].astype(int)\n",
    "    melted_df = pd.melt(df, id_vars=['ts_1','ts_2','ts_3','ts_4','model','state'], value_vars=['_1_2','_2_3','_3_4'],var_name='process', value_name='time')    \n",
    "\n",
    "    melted_df['color'] = melted_df['model'] + melted_df['process']\n",
    "    #print(melted_df)\n",
    "    color_discrete_map = {\"Y_1_2\": 'orangered',\n",
    "                          \"Y_2_3\": 'orange', \n",
    "                          \"Y_3_4\": '#FFD68A',\n",
    "\n",
    "                          \"X_1_2\": 'darkblue',\n",
    "                          \"X_2_3\":'dodgerblue',\n",
    "                          \"X_3_4\": 'lightskyblue',\n",
    "\n",
    "                          \"Z_1_2\": 'forestgreen',\n",
    "                          \"Z_2_3\": 'limegreen', \n",
    "                          \"Z_3_4\": 'lightgreen',}\n",
    "    \n",
    "    \n",
    "    melted_df[\"time\"] = melted_df[\"time\"] /60\n",
    "    #melted_df = melted_df.reset_index(drop=True)\n",
    "    #melted_df['index'] = (melted_df.index // 3)\n",
    "\n",
    "    fig = px.bar(melted_df, x=\"ts_1\", y= \"time\" , \n",
    "                labels={'ts_1': \"Timestamp\", \"time\": \"Time (minutes)\"},\n",
    "                color = \"color\",\n",
    "                color_discrete_map = color_discrete_map,\n",
    "                title=\"Time of processes\")#, orientation = 'h')\n",
    "    \n",
    "    #melted_df[\"base\"] = (melted_df['ts_1'] - melted_df['ts_1'].shift()).dt.total_seconds() / 60\n",
    "    #melted_df['base'] = melted_df['base'].cumsum()\n",
    "    #display(melted_df.loc[:40])\n",
    "    #fig.update_traces(base=melted_df[\"base\"])\n",
    "    fig.update_traces(width=20000)\n",
    "    fig.update_layout(legend_title_text=\"Model_time between stations\")\n",
    "    fig.update_layout(legend=dict( yanchor=\"top\", y=-0.1,xanchor=\"left\",x=0.75))\n",
    "    fig.update_layout(xaxis_range = [date_year + ' 11:38:00', date_year + ' 12:50:00'])#y_max + 1])\n",
    "    fig.update_xaxes(showgrid=True) \n",
    "    fig.update_yaxes(range=[0,10]) \n",
    "    fig.update_layout(font=dict(size=14))\n",
    "    fig.update_layout(width=1050, height = 600) \n",
    "    average_time_1_2 = melted_df[melted_df['process'] == '_1_2']['time'].mean()\n",
    "    average_time_2_3 = melted_df[melted_df['process'] == '_2_3']['time'].mean()\n",
    "    average_time_2_3 += average_time_1_2\n",
    "    average_time_3_4 = melted_df[melted_df['process'] == '_3_4']['time'].mean()\n",
    "    average_time_3_4 += average_time_2_3\n",
    "\n",
    "    fig.add_trace(go.Scatter(x=[melted_df['ts_1'].iloc[0], melted_df['ts_1'].iloc[-1] + pd.to_timedelta(\"00:10:00\")], y=[average_time_1_2, average_time_1_2], mode='lines', \n",
    "                             name='Average time process 1', line_color='orangered', line=dict(dash='dot'))) #'darkblue'\n",
    "    fig.add_trace(go.Scatter(x=[melted_df['ts_1'].iloc[0], melted_df['ts_1'].iloc[-1] + pd.to_timedelta(\"00:10:00\")], y=[average_time_2_3, average_time_2_3], mode='lines', \n",
    "                             name='Average time process 2', line_color='orange', line=dict(dash='dot'))) #'dodgerblue'\n",
    "    \n",
    "    fig.add_trace(go.Scatter(x=[melted_df['ts_1'].iloc[0], melted_df['ts_1'].iloc[-1] + pd.to_timedelta(\"00:10:00\")], y=[average_time_3_4, average_time_3_4], mode='lines', \n",
    "                             name='Average time process 3', line_color='#FFD68A', line=dict(dash='dot'))) #'lightskyblue'\n",
    "     \n",
    "    \n",
    "    \n",
    "    fig.write_image(\"images/time_in_stat_\" + dataset + \"_\" + day + \"_\" + month + \"_\" + \".pdf\")\n",
    "    #display(melted_df.loc[:10])\n",
    "\n",
    "    fig.show()\n",
    "\n",
    "\n",
    "df_bet_all_ = all_time_between_station(df_bet_12, df_bet_23,df_bet_34)\n",
    "df_bet_all_['model'] = df_bet_all_['model'].replace({'SPT130023W': 'Y', 'SPT120018W': 'X', 'SPT140034W': 'Z'})\n",
    "#display(df_bet_all_.loc[:100])\n",
    "mask = df_bet_all_['ts_4'] >= df_bet_all_['ts_4'].shift(-1)\n",
    "df_bet_all = df_bet_all_[~mask]\n",
    "\n",
    "\n",
    "perc_all = perc_of_gabarits_found(df_bet_all, df4, 4)\n",
    "plot_time_horizontal(df_bet_all)\n",
    "#plot_time_in_station(df_bet_all)\n",
    "#display(df_bet_all.loc[:500])\n",
    "    "
   ]
  },
  {
   "cell_type": "code",
   "execution_count": 20,
   "metadata": {},
   "outputs": [
    {
     "name": "stderr",
     "output_type": "stream",
     "text": [
      "C:\\Users\\isacc\\AppData\\Local\\Temp\\ipykernel_12844\\1867100742.py:5: SettingWithCopyWarning:\n",
      "\n",
      "\n",
      "A value is trying to be set on a copy of a slice from a DataFrame.\n",
      "Try using .loc[row_indexer,col_indexer] = value instead\n",
      "\n",
      "See the caveats in the documentation: https://pandas.pydata.org/pandas-docs/stable/user_guide/indexing.html#returning-a-view-versus-a-copy\n",
      "\n",
      "C:\\Users\\isacc\\AppData\\Local\\Temp\\ipykernel_12844\\1867100742.py:8: SettingWithCopyWarning:\n",
      "\n",
      "\n",
      "A value is trying to be set on a copy of a slice from a DataFrame.\n",
      "Try using .loc[row_indexer,col_indexer] = value instead\n",
      "\n",
      "See the caveats in the documentation: https://pandas.pydata.org/pandas-docs/stable/user_guide/indexing.html#returning-a-view-versus-a-copy\n",
      "\n"
     ]
    }
   ],
   "source": [
    "def avg_time_fun(df):\n",
    "    # Group by 'model' and calculate the median for each group in df_med\n",
    "    df_avg = pd.DataFrame(columns = ['date','model','_1_2', '_2_3', '_3_4','total_time'])\n",
    "\n",
    "    df['ts_1'] = pd.to_datetime(df['ts_1'])\n",
    "    date = df['ts_1'].dt.date\n",
    "\n",
    "    df['total_time'] = df[['_1_2', '_2_3', '_3_4']].sum(axis=1)\n",
    "    df_plot = df\n",
    "    #display(df.loc[:20])\n",
    "\n",
    "    df = df.drop(['ts_1', 'ts_2', 'ts_3', 'ts_4', 'gabarit','state'], axis=1) #doesn't matter\n",
    "  \n",
    "    avg_total_time = df.groupby('model').mean()\n",
    "    df_avg = avg_total_time.reset_index()\n",
    "    df_avg['date'] = date\n",
    "\n",
    "    return df_plot, df_avg\n",
    "\n",
    "\n",
    "def plot_ok_ko(df):\n",
    "        #display(melted_df)\n",
    "    color_discrete_map = {\"OK\": 'limegreen',\n",
    "                          \"KO\": 'red'}\n",
    "    #display(df)\n",
    "    df.loc[:,'total_time'] = round(df['total_time']/60,2)\n",
    "    fig = px.bar(df, x=\"ts_4\", y='total_time', \n",
    "                labels={\"ts_4\": \"Timestamp\", 'total_time': \"Time (minutes)\"},\n",
    "                #\n",
    "                color = 'state',\n",
    "                #base = 'ts',\n",
    "                color_discrete_map = color_discrete_map,\n",
    "                #base = 'state',\n",
    "                #width=10, # customize width here\n",
    "                #argap = 0.5,\n",
    "                title=\"Total time of sensorized production (morning)\",)\n",
    "    target_date = pd.to_datetime(f\"2023-{month}-{day}\")\n",
    "\n",
    "    fig.update_xaxes(range=[target_date + pd.to_timedelta(\"09:00:00\"), target_date + pd.to_timedelta(\"13:00:00\")])\n",
    "  # Set your desired date range\n",
    "    fig.show()\n",
    "\n",
    "    fig2 = px.bar(df, x=\"ts_4\", y='total_time', \n",
    "                labels={\"ts_4\": \"Timestamp\", 'total_time': \"Time (minutes)\"},\n",
    "                color = 'state',\n",
    "                color_discrete_map = color_discrete_map,\n",
    "                #width=10, # customize width here\n",
    "                #argap = 0.5,\n",
    "                title=\"Total time of sensorized production (afternoon)\")\n",
    "    target_date = pd.to_datetime(f\"2023-{month}-{day}\")\n",
    "\n",
    "    fig2.update_xaxes(range=[target_date + pd.to_timedelta(\"14:00:00\"), target_date + pd.to_timedelta(\"18:00:00\")])\n",
    "  # Set your desired date range\n",
    "    fig2.show()\n",
    "\n",
    "#display(df_bet_all)\n",
    "#median_time,median_total_time = \n",
    "df_sum_time, df_med = avg_time_fun(df_bet_all)\n",
    "\n",
    "#df_sum_time = remove_outlier_quart(df_sum_time, 'total_time')\n",
    "#plot_ok_ko(df_sum_time)\n",
    "\n"
   ]
  },
  {
   "cell_type": "markdown",
   "metadata": {},
   "source": [
    "This section will now gather a range of days and calculate the time in and between stations and then present the average per day.\n"
   ]
  },
  {
   "cell_type": "code",
   "execution_count": 22,
   "metadata": {},
   "outputs": [
    {
     "name": "stdout",
     "output_type": "stream",
     "text": [
      "25_09\n",
      "Percentage of gabarits scanned in sensor 1: 31.44%\n",
      "Percentage of gabarits scanned in sensor 2: 65.55%\n",
      "Percentage of gabarits scanned in sensor 3: 46.15%\n",
      "Percentage of gabarits scanned in every sensor: 10.37%, which of those occured OK:30 and KO:1\n",
      "26_09\n",
      "No data in that date\n",
      "27_09\n"
     ]
    },
    {
     "name": "stderr",
     "output_type": "stream",
     "text": [
      "C:\\Users\\isacc\\AppData\\Local\\Temp\\ipykernel_12844\\1867100742.py:5: SettingWithCopyWarning:\n",
      "\n",
      "\n",
      "A value is trying to be set on a copy of a slice from a DataFrame.\n",
      "Try using .loc[row_indexer,col_indexer] = value instead\n",
      "\n",
      "See the caveats in the documentation: https://pandas.pydata.org/pandas-docs/stable/user_guide/indexing.html#returning-a-view-versus-a-copy\n",
      "\n",
      "C:\\Users\\isacc\\AppData\\Local\\Temp\\ipykernel_12844\\1867100742.py:8: SettingWithCopyWarning:\n",
      "\n",
      "\n",
      "A value is trying to be set on a copy of a slice from a DataFrame.\n",
      "Try using .loc[row_indexer,col_indexer] = value instead\n",
      "\n",
      "See the caveats in the documentation: https://pandas.pydata.org/pandas-docs/stable/user_guide/indexing.html#returning-a-view-versus-a-copy\n",
      "\n"
     ]
    },
    {
     "name": "stdout",
     "output_type": "stream",
     "text": [
      "Percentage of gabarits scanned in sensor 1: 82.01%\n",
      "Percentage of gabarits scanned in sensor 2: 23.17%\n",
      "Percentage of gabarits scanned in sensor 3: 48.78%\n",
      "Percentage of gabarits scanned in every sensor: 8.84%, which of those occured OK:28 and KO:1\n",
      "28_09\n"
     ]
    },
    {
     "name": "stderr",
     "output_type": "stream",
     "text": [
      "C:\\Users\\isacc\\AppData\\Local\\Temp\\ipykernel_12844\\1867100742.py:5: SettingWithCopyWarning:\n",
      "\n",
      "\n",
      "A value is trying to be set on a copy of a slice from a DataFrame.\n",
      "Try using .loc[row_indexer,col_indexer] = value instead\n",
      "\n",
      "See the caveats in the documentation: https://pandas.pydata.org/pandas-docs/stable/user_guide/indexing.html#returning-a-view-versus-a-copy\n",
      "\n",
      "C:\\Users\\isacc\\AppData\\Local\\Temp\\ipykernel_12844\\1867100742.py:8: SettingWithCopyWarning:\n",
      "\n",
      "\n",
      "A value is trying to be set on a copy of a slice from a DataFrame.\n",
      "Try using .loc[row_indexer,col_indexer] = value instead\n",
      "\n",
      "See the caveats in the documentation: https://pandas.pydata.org/pandas-docs/stable/user_guide/indexing.html#returning-a-view-versus-a-copy\n",
      "\n"
     ]
    },
    {
     "name": "stdout",
     "output_type": "stream",
     "text": [
      "Percentage of gabarits scanned in sensor 1: 23.15%\n",
      "Percentage of gabarits scanned in sensor 2: 32.8%\n",
      "Percentage of gabarits scanned in sensor 3: 45.34%\n",
      "Percentage of gabarits scanned in every sensor: 7.07%, which of those occured OK:21 and KO:1\n",
      "29_09\n",
      "No data in that date\n",
      "30_09\n",
      "No data in that date\n",
      "01_10\n",
      "No data in that date\n",
      "02_10\n"
     ]
    },
    {
     "name": "stderr",
     "output_type": "stream",
     "text": [
      "C:\\Users\\isacc\\AppData\\Local\\Temp\\ipykernel_12844\\1867100742.py:5: SettingWithCopyWarning:\n",
      "\n",
      "\n",
      "A value is trying to be set on a copy of a slice from a DataFrame.\n",
      "Try using .loc[row_indexer,col_indexer] = value instead\n",
      "\n",
      "See the caveats in the documentation: https://pandas.pydata.org/pandas-docs/stable/user_guide/indexing.html#returning-a-view-versus-a-copy\n",
      "\n",
      "C:\\Users\\isacc\\AppData\\Local\\Temp\\ipykernel_12844\\1867100742.py:8: SettingWithCopyWarning:\n",
      "\n",
      "\n",
      "A value is trying to be set on a copy of a slice from a DataFrame.\n",
      "Try using .loc[row_indexer,col_indexer] = value instead\n",
      "\n",
      "See the caveats in the documentation: https://pandas.pydata.org/pandas-docs/stable/user_guide/indexing.html#returning-a-view-versus-a-copy\n",
      "\n"
     ]
    },
    {
     "name": "stdout",
     "output_type": "stream",
     "text": [
      "Percentage of gabarits scanned in sensor 1: 51.19%\n",
      "Percentage of gabarits scanned in sensor 2: 44.75%\n",
      "Percentage of gabarits scanned in sensor 3: 40.0%\n",
      "Percentage of gabarits scanned in every sensor: 16.27%, which of those occured OK:46 and KO:2\n",
      "03_10\n"
     ]
    },
    {
     "name": "stderr",
     "output_type": "stream",
     "text": [
      "C:\\Users\\isacc\\AppData\\Local\\Temp\\ipykernel_12844\\1867100742.py:5: SettingWithCopyWarning:\n",
      "\n",
      "\n",
      "A value is trying to be set on a copy of a slice from a DataFrame.\n",
      "Try using .loc[row_indexer,col_indexer] = value instead\n",
      "\n",
      "See the caveats in the documentation: https://pandas.pydata.org/pandas-docs/stable/user_guide/indexing.html#returning-a-view-versus-a-copy\n",
      "\n",
      "C:\\Users\\isacc\\AppData\\Local\\Temp\\ipykernel_12844\\1867100742.py:8: SettingWithCopyWarning:\n",
      "\n",
      "\n",
      "A value is trying to be set on a copy of a slice from a DataFrame.\n",
      "Try using .loc[row_indexer,col_indexer] = value instead\n",
      "\n",
      "See the caveats in the documentation: https://pandas.pydata.org/pandas-docs/stable/user_guide/indexing.html#returning-a-view-versus-a-copy\n",
      "\n"
     ]
    },
    {
     "name": "stdout",
     "output_type": "stream",
     "text": [
      "Percentage of gabarits scanned in sensor 1: 75.0%\n",
      "Percentage of gabarits scanned in sensor 2: 60.06%\n",
      "Percentage of gabarits scanned in sensor 3: 48.05%\n",
      "Percentage of gabarits scanned in every sensor: 24.35%, which of those occured OK:72 and KO:3\n",
      "04_10\n",
      "No data in that date\n",
      "05_10\n",
      "No data in that date\n",
      "06_10\n"
     ]
    },
    {
     "name": "stderr",
     "output_type": "stream",
     "text": [
      "C:\\Users\\isacc\\AppData\\Local\\Temp\\ipykernel_12844\\1867100742.py:5: SettingWithCopyWarning:\n",
      "\n",
      "\n",
      "A value is trying to be set on a copy of a slice from a DataFrame.\n",
      "Try using .loc[row_indexer,col_indexer] = value instead\n",
      "\n",
      "See the caveats in the documentation: https://pandas.pydata.org/pandas-docs/stable/user_guide/indexing.html#returning-a-view-versus-a-copy\n",
      "\n",
      "C:\\Users\\isacc\\AppData\\Local\\Temp\\ipykernel_12844\\1867100742.py:8: SettingWithCopyWarning:\n",
      "\n",
      "\n",
      "A value is trying to be set on a copy of a slice from a DataFrame.\n",
      "Try using .loc[row_indexer,col_indexer] = value instead\n",
      "\n",
      "See the caveats in the documentation: https://pandas.pydata.org/pandas-docs/stable/user_guide/indexing.html#returning-a-view-versus-a-copy\n",
      "\n"
     ]
    },
    {
     "name": "stdout",
     "output_type": "stream",
     "text": [
      "Percentage of gabarits scanned in sensor 1: 73.31%\n",
      "Percentage of gabarits scanned in sensor 2: 11.14%\n",
      "Percentage of gabarits scanned in sensor 3: 48.97%\n",
      "Percentage of gabarits scanned in every sensor: 3.52%, which of those occured OK:12 and KO:0\n",
      "07_10\n",
      "No data in that date\n",
      "08_10\n",
      "No data in that date\n",
      "09_10\n"
     ]
    },
    {
     "name": "stderr",
     "output_type": "stream",
     "text": [
      "C:\\Users\\isacc\\AppData\\Local\\Temp\\ipykernel_12844\\1867100742.py:5: SettingWithCopyWarning:\n",
      "\n",
      "\n",
      "A value is trying to be set on a copy of a slice from a DataFrame.\n",
      "Try using .loc[row_indexer,col_indexer] = value instead\n",
      "\n",
      "See the caveats in the documentation: https://pandas.pydata.org/pandas-docs/stable/user_guide/indexing.html#returning-a-view-versus-a-copy\n",
      "\n",
      "C:\\Users\\isacc\\AppData\\Local\\Temp\\ipykernel_12844\\1867100742.py:8: SettingWithCopyWarning:\n",
      "\n",
      "\n",
      "A value is trying to be set on a copy of a slice from a DataFrame.\n",
      "Try using .loc[row_indexer,col_indexer] = value instead\n",
      "\n",
      "See the caveats in the documentation: https://pandas.pydata.org/pandas-docs/stable/user_guide/indexing.html#returning-a-view-versus-a-copy\n",
      "\n"
     ]
    },
    {
     "name": "stdout",
     "output_type": "stream",
     "text": [
      "Percentage of gabarits scanned in sensor 1: 75.52%\n",
      "Percentage of gabarits scanned in sensor 2: 51.38%\n",
      "Percentage of gabarits scanned in sensor 3: 61.03%\n",
      "Percentage of gabarits scanned in every sensor: 20.69%, which of those occured OK:56 and KO:4\n",
      "10_10\n"
     ]
    },
    {
     "name": "stderr",
     "output_type": "stream",
     "text": [
      "C:\\Users\\isacc\\AppData\\Local\\Temp\\ipykernel_12844\\1867100742.py:5: SettingWithCopyWarning:\n",
      "\n",
      "\n",
      "A value is trying to be set on a copy of a slice from a DataFrame.\n",
      "Try using .loc[row_indexer,col_indexer] = value instead\n",
      "\n",
      "See the caveats in the documentation: https://pandas.pydata.org/pandas-docs/stable/user_guide/indexing.html#returning-a-view-versus-a-copy\n",
      "\n",
      "C:\\Users\\isacc\\AppData\\Local\\Temp\\ipykernel_12844\\1867100742.py:8: SettingWithCopyWarning:\n",
      "\n",
      "\n",
      "A value is trying to be set on a copy of a slice from a DataFrame.\n",
      "Try using .loc[row_indexer,col_indexer] = value instead\n",
      "\n",
      "See the caveats in the documentation: https://pandas.pydata.org/pandas-docs/stable/user_guide/indexing.html#returning-a-view-versus-a-copy\n",
      "\n"
     ]
    },
    {
     "name": "stdout",
     "output_type": "stream",
     "text": [
      "Percentage of gabarits scanned in sensor 1: 86.08%\n",
      "Percentage of gabarits scanned in sensor 2: 46.28%\n",
      "Percentage of gabarits scanned in sensor 3: 63.43%\n",
      "Percentage of gabarits scanned in every sensor: 19.42%, which of those occured OK:60 and KO:0\n",
      "11_10\n"
     ]
    },
    {
     "name": "stderr",
     "output_type": "stream",
     "text": [
      "C:\\Users\\isacc\\AppData\\Local\\Temp\\ipykernel_12844\\1867100742.py:5: SettingWithCopyWarning:\n",
      "\n",
      "\n",
      "A value is trying to be set on a copy of a slice from a DataFrame.\n",
      "Try using .loc[row_indexer,col_indexer] = value instead\n",
      "\n",
      "See the caveats in the documentation: https://pandas.pydata.org/pandas-docs/stable/user_guide/indexing.html#returning-a-view-versus-a-copy\n",
      "\n",
      "C:\\Users\\isacc\\AppData\\Local\\Temp\\ipykernel_12844\\1867100742.py:8: SettingWithCopyWarning:\n",
      "\n",
      "\n",
      "A value is trying to be set on a copy of a slice from a DataFrame.\n",
      "Try using .loc[row_indexer,col_indexer] = value instead\n",
      "\n",
      "See the caveats in the documentation: https://pandas.pydata.org/pandas-docs/stable/user_guide/indexing.html#returning-a-view-versus-a-copy\n",
      "\n"
     ]
    },
    {
     "name": "stdout",
     "output_type": "stream",
     "text": [
      "Percentage of gabarits scanned in sensor 1: 79.62%\n",
      "Percentage of gabarits scanned in sensor 2: 27.92%\n",
      "Percentage of gabarits scanned in sensor 3: 64.53%\n",
      "Percentage of gabarits scanned in every sensor: 9.06%, which of those occured OK:23 and KO:1\n"
     ]
    },
    {
     "name": "stderr",
     "output_type": "stream",
     "text": [
      "C:\\Users\\isacc\\AppData\\Local\\Temp\\ipykernel_12844\\1867100742.py:5: SettingWithCopyWarning:\n",
      "\n",
      "\n",
      "A value is trying to be set on a copy of a slice from a DataFrame.\n",
      "Try using .loc[row_indexer,col_indexer] = value instead\n",
      "\n",
      "See the caveats in the documentation: https://pandas.pydata.org/pandas-docs/stable/user_guide/indexing.html#returning-a-view-versus-a-copy\n",
      "\n",
      "C:\\Users\\isacc\\AppData\\Local\\Temp\\ipykernel_12844\\1867100742.py:8: SettingWithCopyWarning:\n",
      "\n",
      "\n",
      "A value is trying to be set on a copy of a slice from a DataFrame.\n",
      "Try using .loc[row_indexer,col_indexer] = value instead\n",
      "\n",
      "See the caveats in the documentation: https://pandas.pydata.org/pandas-docs/stable/user_guide/indexing.html#returning-a-view-versus-a-copy\n",
      "\n"
     ]
    }
   ],
   "source": [
    "start_date = '25/09/2023'\n",
    "end_date = '11/10/2023'\n",
    "\n",
    "start_date = pd.to_datetime(start_date, format='%d/%m/%Y')\n",
    "end_date = pd.to_datetime(end_date, format='%d/%m/%Y')\n",
    "\n",
    "# Create a date range\n",
    "date_range = pd.date_range(start=start_date, end=end_date)\n",
    "\n",
    "df_all_med = pd.DataFrame()\n",
    "\n",
    "def aggregate_dates(df_all_med,date_range):\n",
    "    \n",
    "    print_v = 0\n",
    "    for date in date_range:\n",
    "\n",
    "        day = str(date.day).zfill(2)\n",
    "        month = str(date.month).zfill(2)\n",
    "        date_ = day + \"_\" + month\n",
    "        print(date_)\n",
    "\n",
    "        df1 = process_file(\"1\",date_)\n",
    "        if df1.empty:\n",
    "            print(\"No data in that date\")\n",
    "            continue            \n",
    "        df2 = process_file(\"2\",date_)\n",
    "        df3 = process_file(\"3\",date_)\n",
    "        df4 = process_file(\"final\",date_)\n",
    "    \n",
    "        if df4.empty:\n",
    "            print(\"No testing data in that date\")\n",
    "            continue     \n",
    "        if print_v:\n",
    "            print(df1)\n",
    "            print(df2)\n",
    "            print(df3)\n",
    "            print(df4)\n",
    "\n",
    "        df4['Time_Diff'] = df4['Stamp'].diff().dt.total_seconds()\n",
    "        df4 = remove_top_n_outliers(df4, 'Time_Diff', 4)\n",
    "        df4.loc[:,'Time_Diff'] = round(df4['Time_Diff']/60,2)\n",
    "\n",
    "\n",
    "        df_in_1 = time_in_station_fun(df1)\n",
    "        df_in_2 = time_in_station_fun(df2)\n",
    "        df_in_3 = time_in_station_fun(df3)\n",
    "        if print_v:\n",
    "            print(df_in_1)\n",
    "            print(df_in_2)\n",
    "            print(df_in_3)\n",
    "\n",
    "\n",
    "        df_bet_12 = time_between_station(df_in_1, df_in_2, 1, 2, max_time = 5)\n",
    "        df_bet_23 = time_between_station(df_in_2, df_in_3, 2, 3, max_time = 20)\n",
    "        df_bet_34 = time_between_station(df_in_3, df4, 3, 4, max_time = 0)\n",
    "        if print_v:\n",
    "            print(df_bet_12)\n",
    "            print(df_bet_23)\n",
    "            print(df_bet_34)\n",
    "\n",
    "        df_bet_34['_3_4'] = df_bet_34['_3_4'].astype(int)\n",
    "        df_bet_34 = remove_top_n_outliers (df_bet_34,'_3_4',3)\n",
    "\n",
    "\n",
    "        perc1 = perc_of_gabarits_found(df_in_1, df4, 1)\n",
    "        perc2 = perc_of_gabarits_found(df_in_2, df4, 2)\n",
    "        perc3 = perc_of_gabarits_found(df_in_3, df4, 3)\n",
    "\n",
    "        df_bet_all_ = all_time_between_station(df_bet_12, df_bet_23,df_bet_34)\n",
    "        df_bet_all_['model'] = df_bet_all_['model'].replace({'SPT130023W': 'Y', 'SPT120018W': 'X', 'SPT140034W': 'Z'})\n",
    "        mask = df_bet_all_['ts_4'] >= df_bet_all_['ts_4'].shift(-1)\n",
    "        df_bet_all = df_bet_all_[~mask]\n",
    "        perc4 = perc_of_gabarits_found(df_bet_all, df4, 4)\n",
    "        if print_v:\n",
    "            print(df_bet_all)\n",
    "            display(df_med)\n",
    "        _,df_med = avg_time_fun(df_bet_all)\n",
    "        \n",
    "\n",
    "        df_all_med = pd.concat([df_all_med, df_med])\n",
    "\n",
    "\n",
    "    return df_all_med\n",
    "\n",
    "df_all_med = aggregate_dates(df_all_med,date_range)\n",
    "df_all_med['total_time'] = df_all_med['total_time'] /60\n",
    "df_all_med['_1_2'] = df_all_med['_1_2'] /60\n",
    "df_all_med['_2_3'] = df_all_med['_2_3'] /60\n",
    "df_all_med['_3_4'] = df_all_med['_3_4'] /60\n",
    "\n",
    "\n",
    "\n",
    "\n"
   ]
  },
  {
   "cell_type": "code",
   "execution_count": 12,
   "metadata": {},
   "outputs": [
    {
     "data": {
      "text/plain": [
       "'\\ndef plot_time_in_station_days(df):\\n    display(df)\\n    \\n    color_discrete_map_ = {\"Y\": \\'dodgerblue\\',\\n                          \"X\": \\'red\\',\\n                          \"Z\": \\'limegreen\\'\\n                          }\\n\\n\\n    # Create a bar plot for each model\\n    df[\\'total_time\\'] = df[\\'total_time\\']/60\\n    #df[\\'med_total_time\\'] = df[\\'med_total_time\\'].astype(int)\\n    fig = px.bar(df, x=\\'date\\', y=\\'total_time\\', \\n                 color=\\'model\\', \\n                 color_discrete_map = color_discrete_map_,\\n                 barmode=\\'group\\')\\n\\n    # Update layout for better visualization\\n\\n    fig.update_layout(\\n        title=\\'Median Total Time by Model\\',\\n        xaxis_title=\\'Date\\',\\n        yaxis_title=\\'Median Total Time (minutes)\\',\\n        legend_title=\\'Model\\',\\n        barmode=\\'group\\'\\n    )\\n\\n    # Show the plot\\n    fig.show()\\n\\n    melted_df = pd.melt(df, id_vars=[\\'date\\',\\'model\\',\\'total_time\\'], value_vars=[\\'_1_2\\',\\'_2_3\\',\\'_3_4\\'],var_name=\\'time_bet\\', value_name=\\'time\\')    \\n    melted_df[\\'color\\'] = melted_df[\\'model\\'] + melted_df[\\'time_bet\\']\\n    color_discrete_map = {\"Y_1_2\": \\'darkblue\\',\\n                          \"Y_2_3\": \\'dodgerblue\\', \\n                          \"Y_3_4\": \\'lightskyblue\\',\\n\\n                          \"X_1_2\": \\'maroon\\',\\n                          \"X_2_3\":\\'red\\',\\n                          \"X_3_4\": \\'lightcoral\\',\\n\\n                          \"Z_1_2\": \\'forestgreen\\',\\n                          \"Z_2_3\": \\'limegreen\\', \\n                          \"Z_3_4\": \\'lightgreen\\'}\\n\\n\\n\\n    #model\\ttime_bet_1_2, time_bet_2_3, time_bet_3_4, avg_total_time, date\\n    \\n    for model in melted_df[\\'model\\'].unique():\\n        df_model = melted_df[melted_df[\\'model\\'] == model]\\n\\n        df_model.loc[:,\\'time_\\'] = df_model[\\'time\\']/60\\n        print(\"yo\")\\n        #df_model[\\'time\\'] = df_model[\\'time\\'].astype(int)\\n        # Create a bar plot for the current model\\n        fig4 = px.bar(df_model, x=\\'date\\', y=\\'time_\\', \\n                    color=\\'color\\',\\n                    labels={\\'time\\': \\'Time\\'},\\n                    color_discrete_map = color_discrete_map,\\n                    title=f\\'Time per process for Model: {model}\\')\\n        \\n\\n\\n        #\\n        fig4.update_xaxes(range=[start_date - pd.Timedelta(days = 1), end_date + pd.Timedelta(days = 1)])  # Set your desired date range\\n\\n\\n        # Update layout for better visualization\\n        fig4.update_layout(\\n            xaxis_title=\\'Date\\',\\n            yaxis_title=\\'Time per station (minutes)\\',\\n            legend_title=\\'Time Bet\\',\\n        )\\n\\n        # Show the plot\\n        fig4.show()\\n\\n\\nplot_time_in_station_days(df_all_med)\\n'"
      ]
     },
     "execution_count": 12,
     "metadata": {},
     "output_type": "execute_result"
    }
   ],
   "source": [
    "\"\"\"\n",
    "def plot_time_in_station_days(df):\n",
    "    display(df)\n",
    "    \n",
    "    color_discrete_map_ = {\"Y\": 'dodgerblue',\n",
    "                          \"X\": 'red',\n",
    "                          \"Z\": 'limegreen'\n",
    "                          }\n",
    "\n",
    "\n",
    "    # Create a bar plot for each model\n",
    "    df['total_time'] = df['total_time']/60\n",
    "    #df['med_total_time'] = df['med_total_time'].astype(int)\n",
    "    fig = px.bar(df, x='date', y='total_time', \n",
    "                 color='model', \n",
    "                 color_discrete_map = color_discrete_map_,\n",
    "                 barmode='group')\n",
    "\n",
    "    # Update layout for better visualization\n",
    "\n",
    "    fig.update_layout(\n",
    "        title='Median Total Time by Model',\n",
    "        xaxis_title='Date',\n",
    "        yaxis_title='Median Total Time (minutes)',\n",
    "        legend_title='Model',\n",
    "        barmode='group'\n",
    "    )\n",
    "\n",
    "    # Show the plot\n",
    "    fig.show()\n",
    "\n",
    "    melted_df = pd.melt(df, id_vars=['date','model','total_time'], value_vars=['_1_2','_2_3','_3_4'],var_name='time_bet', value_name='time')    \n",
    "    melted_df['color'] = melted_df['model'] + melted_df['time_bet']\n",
    "    color_discrete_map = {\"Y_1_2\": 'darkblue',\n",
    "                          \"Y_2_3\": 'dodgerblue', \n",
    "                          \"Y_3_4\": 'lightskyblue',\n",
    "\n",
    "                          \"X_1_2\": 'maroon',\n",
    "                          \"X_2_3\":'red',\n",
    "                          \"X_3_4\": 'lightcoral',\n",
    "\n",
    "                          \"Z_1_2\": 'forestgreen',\n",
    "                          \"Z_2_3\": 'limegreen', \n",
    "                          \"Z_3_4\": 'lightgreen'}\n",
    "\n",
    "\n",
    "\n",
    "    #model\ttime_bet_1_2, time_bet_2_3, time_bet_3_4, avg_total_time, date\n",
    "    \n",
    "    for model in melted_df['model'].unique():\n",
    "        df_model = melted_df[melted_df['model'] == model]\n",
    "\n",
    "        df_model.loc[:,'time_'] = df_model['time']/60\n",
    "        print(\"yo\")\n",
    "        #df_model['time'] = df_model['time'].astype(int)\n",
    "        # Create a bar plot for the current model\n",
    "        fig4 = px.bar(df_model, x='date', y='time_', \n",
    "                    color='color',\n",
    "                    labels={'time': 'Time'},\n",
    "                    color_discrete_map = color_discrete_map,\n",
    "                    title=f'Time per process for Model: {model}')\n",
    "        \n",
    "\n",
    "\n",
    "        #\n",
    "        fig4.update_xaxes(range=[start_date - pd.Timedelta(days = 1), end_date + pd.Timedelta(days = 1)])  # Set your desired date range\n",
    "\n",
    "\n",
    "        # Update layout for better visualization\n",
    "        fig4.update_layout(\n",
    "            xaxis_title='Date',\n",
    "            yaxis_title='Time per station (minutes)',\n",
    "            legend_title='Time Bet',\n",
    "        )\n",
    "\n",
    "        # Show the plot\n",
    "        fig4.show()\n",
    "\n",
    "\n",
    "plot_time_in_station_days(df_all_med)\n",
    "\"\"\""
   ]
  },
  {
   "cell_type": "code",
   "execution_count": 73,
   "metadata": {},
   "outputs": [
    {
     "data": {
      "application/vnd.plotly.v1+json": {
       "config": {
        "plotlyServerURL": "https://plot.ly"
       },
       "data": [
        {
         "alignmentgroup": "True",
         "hovertemplate": "model=X<br>date=%{x}<br>total_time=%{y}<extra></extra>",
         "legendgroup": "X",
         "marker": {
          "color": "dodgerblue",
          "pattern": {
           "shape": ""
          }
         },
         "name": "X",
         "offsetgroup": "X",
         "orientation": "v",
         "showlegend": true,
         "textposition": "auto",
         "type": "bar",
         "x": [
          "2023-09-25",
          "2023-09-27",
          "2023-09-28",
          "2023-10-02",
          "2023-10-03",
          "2023-10-06",
          "2023-10-09"
         ],
         "xaxis": "x",
         "y": [
          6.40752688172043,
          5.256896551724138,
          5.461363636363637,
          6.339236111111111,
          5.816666666666666,
          6.569444444444445,
          6.1825
         ],
         "yaxis": "y"
        },
        {
         "alignmentgroup": "True",
         "hovertemplate": "model=Y<br>date=%{x}<br>total_time=%{y}<extra></extra>",
         "legendgroup": "Y",
         "marker": {
          "color": "orange",
          "pattern": {
           "shape": ""
          }
         },
         "name": "Y",
         "offsetgroup": "Y",
         "orientation": "v",
         "showlegend": true,
         "textposition": "auto",
         "type": "bar",
         "x": [
          "2023-10-10",
          "2023-10-11"
         ],
         "xaxis": "x",
         "y": [
          6.020555555555556,
          6.981944444444445
         ],
         "yaxis": "y"
        }
       ],
       "layout": {
        "barmode": "group",
        "legend": {
         "title": {
          "text": "Model"
         },
         "tracegroupgap": 0
        },
        "margin": {
         "t": 60
        },
        "template": {
         "data": {
          "bar": [
           {
            "error_x": {
             "color": "#2a3f5f"
            },
            "error_y": {
             "color": "#2a3f5f"
            },
            "marker": {
             "line": {
              "color": "#E5ECF6",
              "width": 0.5
             },
             "pattern": {
              "fillmode": "overlay",
              "size": 10,
              "solidity": 0.2
             }
            },
            "type": "bar"
           }
          ],
          "barpolar": [
           {
            "marker": {
             "line": {
              "color": "#E5ECF6",
              "width": 0.5
             },
             "pattern": {
              "fillmode": "overlay",
              "size": 10,
              "solidity": 0.2
             }
            },
            "type": "barpolar"
           }
          ],
          "carpet": [
           {
            "aaxis": {
             "endlinecolor": "#2a3f5f",
             "gridcolor": "white",
             "linecolor": "white",
             "minorgridcolor": "white",
             "startlinecolor": "#2a3f5f"
            },
            "baxis": {
             "endlinecolor": "#2a3f5f",
             "gridcolor": "white",
             "linecolor": "white",
             "minorgridcolor": "white",
             "startlinecolor": "#2a3f5f"
            },
            "type": "carpet"
           }
          ],
          "choropleth": [
           {
            "colorbar": {
             "outlinewidth": 0,
             "ticks": ""
            },
            "type": "choropleth"
           }
          ],
          "contour": [
           {
            "colorbar": {
             "outlinewidth": 0,
             "ticks": ""
            },
            "colorscale": [
             [
              0,
              "#0d0887"
             ],
             [
              0.1111111111111111,
              "#46039f"
             ],
             [
              0.2222222222222222,
              "#7201a8"
             ],
             [
              0.3333333333333333,
              "#9c179e"
             ],
             [
              0.4444444444444444,
              "#bd3786"
             ],
             [
              0.5555555555555556,
              "#d8576b"
             ],
             [
              0.6666666666666666,
              "#ed7953"
             ],
             [
              0.7777777777777778,
              "#fb9f3a"
             ],
             [
              0.8888888888888888,
              "#fdca26"
             ],
             [
              1,
              "#f0f921"
             ]
            ],
            "type": "contour"
           }
          ],
          "contourcarpet": [
           {
            "colorbar": {
             "outlinewidth": 0,
             "ticks": ""
            },
            "type": "contourcarpet"
           }
          ],
          "heatmap": [
           {
            "colorbar": {
             "outlinewidth": 0,
             "ticks": ""
            },
            "colorscale": [
             [
              0,
              "#0d0887"
             ],
             [
              0.1111111111111111,
              "#46039f"
             ],
             [
              0.2222222222222222,
              "#7201a8"
             ],
             [
              0.3333333333333333,
              "#9c179e"
             ],
             [
              0.4444444444444444,
              "#bd3786"
             ],
             [
              0.5555555555555556,
              "#d8576b"
             ],
             [
              0.6666666666666666,
              "#ed7953"
             ],
             [
              0.7777777777777778,
              "#fb9f3a"
             ],
             [
              0.8888888888888888,
              "#fdca26"
             ],
             [
              1,
              "#f0f921"
             ]
            ],
            "type": "heatmap"
           }
          ],
          "heatmapgl": [
           {
            "colorbar": {
             "outlinewidth": 0,
             "ticks": ""
            },
            "colorscale": [
             [
              0,
              "#0d0887"
             ],
             [
              0.1111111111111111,
              "#46039f"
             ],
             [
              0.2222222222222222,
              "#7201a8"
             ],
             [
              0.3333333333333333,
              "#9c179e"
             ],
             [
              0.4444444444444444,
              "#bd3786"
             ],
             [
              0.5555555555555556,
              "#d8576b"
             ],
             [
              0.6666666666666666,
              "#ed7953"
             ],
             [
              0.7777777777777778,
              "#fb9f3a"
             ],
             [
              0.8888888888888888,
              "#fdca26"
             ],
             [
              1,
              "#f0f921"
             ]
            ],
            "type": "heatmapgl"
           }
          ],
          "histogram": [
           {
            "marker": {
             "pattern": {
              "fillmode": "overlay",
              "size": 10,
              "solidity": 0.2
             }
            },
            "type": "histogram"
           }
          ],
          "histogram2d": [
           {
            "colorbar": {
             "outlinewidth": 0,
             "ticks": ""
            },
            "colorscale": [
             [
              0,
              "#0d0887"
             ],
             [
              0.1111111111111111,
              "#46039f"
             ],
             [
              0.2222222222222222,
              "#7201a8"
             ],
             [
              0.3333333333333333,
              "#9c179e"
             ],
             [
              0.4444444444444444,
              "#bd3786"
             ],
             [
              0.5555555555555556,
              "#d8576b"
             ],
             [
              0.6666666666666666,
              "#ed7953"
             ],
             [
              0.7777777777777778,
              "#fb9f3a"
             ],
             [
              0.8888888888888888,
              "#fdca26"
             ],
             [
              1,
              "#f0f921"
             ]
            ],
            "type": "histogram2d"
           }
          ],
          "histogram2dcontour": [
           {
            "colorbar": {
             "outlinewidth": 0,
             "ticks": ""
            },
            "colorscale": [
             [
              0,
              "#0d0887"
             ],
             [
              0.1111111111111111,
              "#46039f"
             ],
             [
              0.2222222222222222,
              "#7201a8"
             ],
             [
              0.3333333333333333,
              "#9c179e"
             ],
             [
              0.4444444444444444,
              "#bd3786"
             ],
             [
              0.5555555555555556,
              "#d8576b"
             ],
             [
              0.6666666666666666,
              "#ed7953"
             ],
             [
              0.7777777777777778,
              "#fb9f3a"
             ],
             [
              0.8888888888888888,
              "#fdca26"
             ],
             [
              1,
              "#f0f921"
             ]
            ],
            "type": "histogram2dcontour"
           }
          ],
          "mesh3d": [
           {
            "colorbar": {
             "outlinewidth": 0,
             "ticks": ""
            },
            "type": "mesh3d"
           }
          ],
          "parcoords": [
           {
            "line": {
             "colorbar": {
              "outlinewidth": 0,
              "ticks": ""
             }
            },
            "type": "parcoords"
           }
          ],
          "pie": [
           {
            "automargin": true,
            "type": "pie"
           }
          ],
          "scatter": [
           {
            "fillpattern": {
             "fillmode": "overlay",
             "size": 10,
             "solidity": 0.2
            },
            "type": "scatter"
           }
          ],
          "scatter3d": [
           {
            "line": {
             "colorbar": {
              "outlinewidth": 0,
              "ticks": ""
             }
            },
            "marker": {
             "colorbar": {
              "outlinewidth": 0,
              "ticks": ""
             }
            },
            "type": "scatter3d"
           }
          ],
          "scattercarpet": [
           {
            "marker": {
             "colorbar": {
              "outlinewidth": 0,
              "ticks": ""
             }
            },
            "type": "scattercarpet"
           }
          ],
          "scattergeo": [
           {
            "marker": {
             "colorbar": {
              "outlinewidth": 0,
              "ticks": ""
             }
            },
            "type": "scattergeo"
           }
          ],
          "scattergl": [
           {
            "marker": {
             "colorbar": {
              "outlinewidth": 0,
              "ticks": ""
             }
            },
            "type": "scattergl"
           }
          ],
          "scattermapbox": [
           {
            "marker": {
             "colorbar": {
              "outlinewidth": 0,
              "ticks": ""
             }
            },
            "type": "scattermapbox"
           }
          ],
          "scatterpolar": [
           {
            "marker": {
             "colorbar": {
              "outlinewidth": 0,
              "ticks": ""
             }
            },
            "type": "scatterpolar"
           }
          ],
          "scatterpolargl": [
           {
            "marker": {
             "colorbar": {
              "outlinewidth": 0,
              "ticks": ""
             }
            },
            "type": "scatterpolargl"
           }
          ],
          "scatterternary": [
           {
            "marker": {
             "colorbar": {
              "outlinewidth": 0,
              "ticks": ""
             }
            },
            "type": "scatterternary"
           }
          ],
          "surface": [
           {
            "colorbar": {
             "outlinewidth": 0,
             "ticks": ""
            },
            "colorscale": [
             [
              0,
              "#0d0887"
             ],
             [
              0.1111111111111111,
              "#46039f"
             ],
             [
              0.2222222222222222,
              "#7201a8"
             ],
             [
              0.3333333333333333,
              "#9c179e"
             ],
             [
              0.4444444444444444,
              "#bd3786"
             ],
             [
              0.5555555555555556,
              "#d8576b"
             ],
             [
              0.6666666666666666,
              "#ed7953"
             ],
             [
              0.7777777777777778,
              "#fb9f3a"
             ],
             [
              0.8888888888888888,
              "#fdca26"
             ],
             [
              1,
              "#f0f921"
             ]
            ],
            "type": "surface"
           }
          ],
          "table": [
           {
            "cells": {
             "fill": {
              "color": "#EBF0F8"
             },
             "line": {
              "color": "white"
             }
            },
            "header": {
             "fill": {
              "color": "#C8D4E3"
             },
             "line": {
              "color": "white"
             }
            },
            "type": "table"
           }
          ]
         },
         "layout": {
          "annotationdefaults": {
           "arrowcolor": "#2a3f5f",
           "arrowhead": 0,
           "arrowwidth": 1
          },
          "autotypenumbers": "strict",
          "coloraxis": {
           "colorbar": {
            "outlinewidth": 0,
            "ticks": ""
           }
          },
          "colorscale": {
           "diverging": [
            [
             0,
             "#8e0152"
            ],
            [
             0.1,
             "#c51b7d"
            ],
            [
             0.2,
             "#de77ae"
            ],
            [
             0.3,
             "#f1b6da"
            ],
            [
             0.4,
             "#fde0ef"
            ],
            [
             0.5,
             "#f7f7f7"
            ],
            [
             0.6,
             "#e6f5d0"
            ],
            [
             0.7,
             "#b8e186"
            ],
            [
             0.8,
             "#7fbc41"
            ],
            [
             0.9,
             "#4d9221"
            ],
            [
             1,
             "#276419"
            ]
           ],
           "sequential": [
            [
             0,
             "#0d0887"
            ],
            [
             0.1111111111111111,
             "#46039f"
            ],
            [
             0.2222222222222222,
             "#7201a8"
            ],
            [
             0.3333333333333333,
             "#9c179e"
            ],
            [
             0.4444444444444444,
             "#bd3786"
            ],
            [
             0.5555555555555556,
             "#d8576b"
            ],
            [
             0.6666666666666666,
             "#ed7953"
            ],
            [
             0.7777777777777778,
             "#fb9f3a"
            ],
            [
             0.8888888888888888,
             "#fdca26"
            ],
            [
             1,
             "#f0f921"
            ]
           ],
           "sequentialminus": [
            [
             0,
             "#0d0887"
            ],
            [
             0.1111111111111111,
             "#46039f"
            ],
            [
             0.2222222222222222,
             "#7201a8"
            ],
            [
             0.3333333333333333,
             "#9c179e"
            ],
            [
             0.4444444444444444,
             "#bd3786"
            ],
            [
             0.5555555555555556,
             "#d8576b"
            ],
            [
             0.6666666666666666,
             "#ed7953"
            ],
            [
             0.7777777777777778,
             "#fb9f3a"
            ],
            [
             0.8888888888888888,
             "#fdca26"
            ],
            [
             1,
             "#f0f921"
            ]
           ]
          },
          "colorway": [
           "#636efa",
           "#EF553B",
           "#00cc96",
           "#ab63fa",
           "#FFA15A",
           "#19d3f3",
           "#FF6692",
           "#B6E880",
           "#FF97FF",
           "#FECB52"
          ],
          "font": {
           "color": "#2a3f5f"
          },
          "geo": {
           "bgcolor": "white",
           "lakecolor": "white",
           "landcolor": "#E5ECF6",
           "showlakes": true,
           "showland": true,
           "subunitcolor": "white"
          },
          "hoverlabel": {
           "align": "left"
          },
          "hovermode": "closest",
          "mapbox": {
           "style": "light"
          },
          "paper_bgcolor": "white",
          "plot_bgcolor": "#E5ECF6",
          "polar": {
           "angularaxis": {
            "gridcolor": "white",
            "linecolor": "white",
            "ticks": ""
           },
           "bgcolor": "#E5ECF6",
           "radialaxis": {
            "gridcolor": "white",
            "linecolor": "white",
            "ticks": ""
           }
          },
          "scene": {
           "xaxis": {
            "backgroundcolor": "#E5ECF6",
            "gridcolor": "white",
            "gridwidth": 2,
            "linecolor": "white",
            "showbackground": true,
            "ticks": "",
            "zerolinecolor": "white"
           },
           "yaxis": {
            "backgroundcolor": "#E5ECF6",
            "gridcolor": "white",
            "gridwidth": 2,
            "linecolor": "white",
            "showbackground": true,
            "ticks": "",
            "zerolinecolor": "white"
           },
           "zaxis": {
            "backgroundcolor": "#E5ECF6",
            "gridcolor": "white",
            "gridwidth": 2,
            "linecolor": "white",
            "showbackground": true,
            "ticks": "",
            "zerolinecolor": "white"
           }
          },
          "shapedefaults": {
           "line": {
            "color": "#2a3f5f"
           }
          },
          "ternary": {
           "aaxis": {
            "gridcolor": "white",
            "linecolor": "white",
            "ticks": ""
           },
           "baxis": {
            "gridcolor": "white",
            "linecolor": "white",
            "ticks": ""
           },
           "bgcolor": "#E5ECF6",
           "caxis": {
            "gridcolor": "white",
            "linecolor": "white",
            "ticks": ""
           }
          },
          "title": {
           "x": 0.05
          },
          "xaxis": {
           "automargin": true,
           "gridcolor": "white",
           "linecolor": "white",
           "ticks": "",
           "title": {
            "standoff": 15
           },
           "zerolinecolor": "white",
           "zerolinewidth": 2
          },
          "yaxis": {
           "automargin": true,
           "gridcolor": "white",
           "linecolor": "white",
           "ticks": "",
           "title": {
            "standoff": 15
           },
           "zerolinecolor": "white",
           "zerolinewidth": 2
          }
         }
        },
        "title": {
         "text": "Average total time by todel"
        },
        "xaxis": {
         "anchor": "y",
         "domain": [
          0,
          1
         ],
         "title": {
          "text": "Date"
         }
        },
        "yaxis": {
         "anchor": "x",
         "domain": [
          0,
          1
         ],
         "title": {
          "text": "Time (minutes)"
         }
        }
       }
      }
     },
     "metadata": {},
     "output_type": "display_data"
    },
    {
     "data": {
      "application/vnd.plotly.v1+json": {
       "config": {
        "plotlyServerURL": "https://plot.ly"
       },
       "data": [
        {
         "alignmentgroup": "True",
         "hovertemplate": "color=X_1_2<br>date=%{x}<br>Time (minutes)=%{y}<extra></extra>",
         "legendgroup": "X_1_2",
         "marker": {
          "color": "darkblue",
          "pattern": {
           "shape": ""
          }
         },
         "name": "X_1_2",
         "offsetgroup": "X_1_2",
         "orientation": "v",
         "showlegend": true,
         "textposition": "auto",
         "type": "bar",
         "x": [
          "2023-09-25",
          "2023-09-27",
          "2023-09-28",
          "2023-10-02",
          "2023-10-03",
          "2023-10-06",
          "2023-10-09"
         ],
         "xaxis": "x",
         "y": [
          0.5424731182795699,
          0.11149425287356321,
          0.23409090909090907,
          0.4434027777777778,
          0.448,
          0.33888888888888885,
          0.5555555555555556
         ],
         "yaxis": "y"
        },
        {
         "alignmentgroup": "True",
         "hovertemplate": "color=X_2_3<br>date=%{x}<br>Time (minutes)=%{y}<extra></extra>",
         "legendgroup": "X_2_3",
         "marker": {
          "color": "dodgerblue",
          "pattern": {
           "shape": ""
          }
         },
         "name": "X_2_3",
         "offsetgroup": "X_2_3",
         "orientation": "v",
         "showlegend": true,
         "textposition": "auto",
         "type": "bar",
         "x": [
          "2023-09-25",
          "2023-09-27",
          "2023-09-28",
          "2023-10-02",
          "2023-10-03",
          "2023-10-06",
          "2023-10-09"
         ],
         "xaxis": "x",
         "y": [
          4.358602150537634,
          3.5551724137931036,
          3.777272727272727,
          4.432638888888889,
          3.6955555555555555,
          4.920833333333333,
          3.800277777777778
         ],
         "yaxis": "y"
        },
        {
         "alignmentgroup": "True",
         "hovertemplate": "color=X_3_4<br>date=%{x}<br>Time (minutes)=%{y}<extra></extra>",
         "legendgroup": "X_3_4",
         "marker": {
          "color": "lightskyblue",
          "pattern": {
           "shape": ""
          }
         },
         "name": "X_3_4",
         "offsetgroup": "X_3_4",
         "orientation": "v",
         "showlegend": true,
         "textposition": "auto",
         "type": "bar",
         "x": [
          "2023-09-25",
          "2023-09-27",
          "2023-09-28",
          "2023-10-02",
          "2023-10-03",
          "2023-10-06",
          "2023-10-09"
         ],
         "xaxis": "x",
         "y": [
          1.506451612903226,
          1.5902298850574712,
          1.45,
          1.4631944444444445,
          1.6731111111111112,
          1.3097222222222222,
          1.8266666666666667
         ],
         "yaxis": "y"
        },
        {
         "alignmentgroup": "True",
         "hovertemplate": "color=Y_1_2<br>date=%{x}<br>Time (minutes)=%{y}<extra></extra>",
         "legendgroup": "Y_1_2",
         "marker": {
          "color": "orangered",
          "pattern": {
           "shape": ""
          }
         },
         "name": "Y_1_2",
         "offsetgroup": "Y_1_2",
         "orientation": "v",
         "showlegend": true,
         "textposition": "auto",
         "type": "bar",
         "x": [
          "2023-10-10",
          "2023-10-11"
         ],
         "xaxis": "x",
         "y": [
          0.6283333333333334,
          0.9736111111111111
         ],
         "yaxis": "y"
        },
        {
         "alignmentgroup": "True",
         "hovertemplate": "color=Y_2_3<br>date=%{x}<br>Time (minutes)=%{y}<extra></extra>",
         "legendgroup": "Y_2_3",
         "marker": {
          "color": "orange",
          "pattern": {
           "shape": ""
          }
         },
         "name": "Y_2_3",
         "offsetgroup": "Y_2_3",
         "orientation": "v",
         "showlegend": true,
         "textposition": "auto",
         "type": "bar",
         "x": [
          "2023-10-10",
          "2023-10-11"
         ],
         "xaxis": "x",
         "y": [
          3.5322222222222224,
          4.020833333333333
         ],
         "yaxis": "y"
        },
        {
         "alignmentgroup": "True",
         "hovertemplate": "color=Y_3_4<br>date=%{x}<br>Time (minutes)=%{y}<extra></extra>",
         "legendgroup": "Y_3_4",
         "marker": {
          "color": "#FFD68A",
          "pattern": {
           "shape": ""
          }
         },
         "name": "Y_3_4",
         "offsetgroup": "Y_3_4",
         "orientation": "v",
         "showlegend": true,
         "textposition": "auto",
         "type": "bar",
         "x": [
          "2023-10-10",
          "2023-10-11"
         ],
         "xaxis": "x",
         "y": [
          1.8599999999999999,
          1.9875
         ],
         "yaxis": "y"
        }
       ],
       "layout": {
        "barmode": "relative",
        "font": {
         "size": 14
        },
        "height": 500,
        "legend": {
         "title": {
          "text": "Model_time between stations"
         },
         "tracegroupgap": 0
        },
        "template": {
         "data": {
          "bar": [
           {
            "error_x": {
             "color": "#2a3f5f"
            },
            "error_y": {
             "color": "#2a3f5f"
            },
            "marker": {
             "line": {
              "color": "#E5ECF6",
              "width": 0.5
             },
             "pattern": {
              "fillmode": "overlay",
              "size": 10,
              "solidity": 0.2
             }
            },
            "type": "bar"
           }
          ],
          "barpolar": [
           {
            "marker": {
             "line": {
              "color": "#E5ECF6",
              "width": 0.5
             },
             "pattern": {
              "fillmode": "overlay",
              "size": 10,
              "solidity": 0.2
             }
            },
            "type": "barpolar"
           }
          ],
          "carpet": [
           {
            "aaxis": {
             "endlinecolor": "#2a3f5f",
             "gridcolor": "white",
             "linecolor": "white",
             "minorgridcolor": "white",
             "startlinecolor": "#2a3f5f"
            },
            "baxis": {
             "endlinecolor": "#2a3f5f",
             "gridcolor": "white",
             "linecolor": "white",
             "minorgridcolor": "white",
             "startlinecolor": "#2a3f5f"
            },
            "type": "carpet"
           }
          ],
          "choropleth": [
           {
            "colorbar": {
             "outlinewidth": 0,
             "ticks": ""
            },
            "type": "choropleth"
           }
          ],
          "contour": [
           {
            "colorbar": {
             "outlinewidth": 0,
             "ticks": ""
            },
            "colorscale": [
             [
              0,
              "#0d0887"
             ],
             [
              0.1111111111111111,
              "#46039f"
             ],
             [
              0.2222222222222222,
              "#7201a8"
             ],
             [
              0.3333333333333333,
              "#9c179e"
             ],
             [
              0.4444444444444444,
              "#bd3786"
             ],
             [
              0.5555555555555556,
              "#d8576b"
             ],
             [
              0.6666666666666666,
              "#ed7953"
             ],
             [
              0.7777777777777778,
              "#fb9f3a"
             ],
             [
              0.8888888888888888,
              "#fdca26"
             ],
             [
              1,
              "#f0f921"
             ]
            ],
            "type": "contour"
           }
          ],
          "contourcarpet": [
           {
            "colorbar": {
             "outlinewidth": 0,
             "ticks": ""
            },
            "type": "contourcarpet"
           }
          ],
          "heatmap": [
           {
            "colorbar": {
             "outlinewidth": 0,
             "ticks": ""
            },
            "colorscale": [
             [
              0,
              "#0d0887"
             ],
             [
              0.1111111111111111,
              "#46039f"
             ],
             [
              0.2222222222222222,
              "#7201a8"
             ],
             [
              0.3333333333333333,
              "#9c179e"
             ],
             [
              0.4444444444444444,
              "#bd3786"
             ],
             [
              0.5555555555555556,
              "#d8576b"
             ],
             [
              0.6666666666666666,
              "#ed7953"
             ],
             [
              0.7777777777777778,
              "#fb9f3a"
             ],
             [
              0.8888888888888888,
              "#fdca26"
             ],
             [
              1,
              "#f0f921"
             ]
            ],
            "type": "heatmap"
           }
          ],
          "heatmapgl": [
           {
            "colorbar": {
             "outlinewidth": 0,
             "ticks": ""
            },
            "colorscale": [
             [
              0,
              "#0d0887"
             ],
             [
              0.1111111111111111,
              "#46039f"
             ],
             [
              0.2222222222222222,
              "#7201a8"
             ],
             [
              0.3333333333333333,
              "#9c179e"
             ],
             [
              0.4444444444444444,
              "#bd3786"
             ],
             [
              0.5555555555555556,
              "#d8576b"
             ],
             [
              0.6666666666666666,
              "#ed7953"
             ],
             [
              0.7777777777777778,
              "#fb9f3a"
             ],
             [
              0.8888888888888888,
              "#fdca26"
             ],
             [
              1,
              "#f0f921"
             ]
            ],
            "type": "heatmapgl"
           }
          ],
          "histogram": [
           {
            "marker": {
             "pattern": {
              "fillmode": "overlay",
              "size": 10,
              "solidity": 0.2
             }
            },
            "type": "histogram"
           }
          ],
          "histogram2d": [
           {
            "colorbar": {
             "outlinewidth": 0,
             "ticks": ""
            },
            "colorscale": [
             [
              0,
              "#0d0887"
             ],
             [
              0.1111111111111111,
              "#46039f"
             ],
             [
              0.2222222222222222,
              "#7201a8"
             ],
             [
              0.3333333333333333,
              "#9c179e"
             ],
             [
              0.4444444444444444,
              "#bd3786"
             ],
             [
              0.5555555555555556,
              "#d8576b"
             ],
             [
              0.6666666666666666,
              "#ed7953"
             ],
             [
              0.7777777777777778,
              "#fb9f3a"
             ],
             [
              0.8888888888888888,
              "#fdca26"
             ],
             [
              1,
              "#f0f921"
             ]
            ],
            "type": "histogram2d"
           }
          ],
          "histogram2dcontour": [
           {
            "colorbar": {
             "outlinewidth": 0,
             "ticks": ""
            },
            "colorscale": [
             [
              0,
              "#0d0887"
             ],
             [
              0.1111111111111111,
              "#46039f"
             ],
             [
              0.2222222222222222,
              "#7201a8"
             ],
             [
              0.3333333333333333,
              "#9c179e"
             ],
             [
              0.4444444444444444,
              "#bd3786"
             ],
             [
              0.5555555555555556,
              "#d8576b"
             ],
             [
              0.6666666666666666,
              "#ed7953"
             ],
             [
              0.7777777777777778,
              "#fb9f3a"
             ],
             [
              0.8888888888888888,
              "#fdca26"
             ],
             [
              1,
              "#f0f921"
             ]
            ],
            "type": "histogram2dcontour"
           }
          ],
          "mesh3d": [
           {
            "colorbar": {
             "outlinewidth": 0,
             "ticks": ""
            },
            "type": "mesh3d"
           }
          ],
          "parcoords": [
           {
            "line": {
             "colorbar": {
              "outlinewidth": 0,
              "ticks": ""
             }
            },
            "type": "parcoords"
           }
          ],
          "pie": [
           {
            "automargin": true,
            "type": "pie"
           }
          ],
          "scatter": [
           {
            "fillpattern": {
             "fillmode": "overlay",
             "size": 10,
             "solidity": 0.2
            },
            "type": "scatter"
           }
          ],
          "scatter3d": [
           {
            "line": {
             "colorbar": {
              "outlinewidth": 0,
              "ticks": ""
             }
            },
            "marker": {
             "colorbar": {
              "outlinewidth": 0,
              "ticks": ""
             }
            },
            "type": "scatter3d"
           }
          ],
          "scattercarpet": [
           {
            "marker": {
             "colorbar": {
              "outlinewidth": 0,
              "ticks": ""
             }
            },
            "type": "scattercarpet"
           }
          ],
          "scattergeo": [
           {
            "marker": {
             "colorbar": {
              "outlinewidth": 0,
              "ticks": ""
             }
            },
            "type": "scattergeo"
           }
          ],
          "scattergl": [
           {
            "marker": {
             "colorbar": {
              "outlinewidth": 0,
              "ticks": ""
             }
            },
            "type": "scattergl"
           }
          ],
          "scattermapbox": [
           {
            "marker": {
             "colorbar": {
              "outlinewidth": 0,
              "ticks": ""
             }
            },
            "type": "scattermapbox"
           }
          ],
          "scatterpolar": [
           {
            "marker": {
             "colorbar": {
              "outlinewidth": 0,
              "ticks": ""
             }
            },
            "type": "scatterpolar"
           }
          ],
          "scatterpolargl": [
           {
            "marker": {
             "colorbar": {
              "outlinewidth": 0,
              "ticks": ""
             }
            },
            "type": "scatterpolargl"
           }
          ],
          "scatterternary": [
           {
            "marker": {
             "colorbar": {
              "outlinewidth": 0,
              "ticks": ""
             }
            },
            "type": "scatterternary"
           }
          ],
          "surface": [
           {
            "colorbar": {
             "outlinewidth": 0,
             "ticks": ""
            },
            "colorscale": [
             [
              0,
              "#0d0887"
             ],
             [
              0.1111111111111111,
              "#46039f"
             ],
             [
              0.2222222222222222,
              "#7201a8"
             ],
             [
              0.3333333333333333,
              "#9c179e"
             ],
             [
              0.4444444444444444,
              "#bd3786"
             ],
             [
              0.5555555555555556,
              "#d8576b"
             ],
             [
              0.6666666666666666,
              "#ed7953"
             ],
             [
              0.7777777777777778,
              "#fb9f3a"
             ],
             [
              0.8888888888888888,
              "#fdca26"
             ],
             [
              1,
              "#f0f921"
             ]
            ],
            "type": "surface"
           }
          ],
          "table": [
           {
            "cells": {
             "fill": {
              "color": "#EBF0F8"
             },
             "line": {
              "color": "white"
             }
            },
            "header": {
             "fill": {
              "color": "#C8D4E3"
             },
             "line": {
              "color": "white"
             }
            },
            "type": "table"
           }
          ]
         },
         "layout": {
          "annotationdefaults": {
           "arrowcolor": "#2a3f5f",
           "arrowhead": 0,
           "arrowwidth": 1
          },
          "autotypenumbers": "strict",
          "coloraxis": {
           "colorbar": {
            "outlinewidth": 0,
            "ticks": ""
           }
          },
          "colorscale": {
           "diverging": [
            [
             0,
             "#8e0152"
            ],
            [
             0.1,
             "#c51b7d"
            ],
            [
             0.2,
             "#de77ae"
            ],
            [
             0.3,
             "#f1b6da"
            ],
            [
             0.4,
             "#fde0ef"
            ],
            [
             0.5,
             "#f7f7f7"
            ],
            [
             0.6,
             "#e6f5d0"
            ],
            [
             0.7,
             "#b8e186"
            ],
            [
             0.8,
             "#7fbc41"
            ],
            [
             0.9,
             "#4d9221"
            ],
            [
             1,
             "#276419"
            ]
           ],
           "sequential": [
            [
             0,
             "#0d0887"
            ],
            [
             0.1111111111111111,
             "#46039f"
            ],
            [
             0.2222222222222222,
             "#7201a8"
            ],
            [
             0.3333333333333333,
             "#9c179e"
            ],
            [
             0.4444444444444444,
             "#bd3786"
            ],
            [
             0.5555555555555556,
             "#d8576b"
            ],
            [
             0.6666666666666666,
             "#ed7953"
            ],
            [
             0.7777777777777778,
             "#fb9f3a"
            ],
            [
             0.8888888888888888,
             "#fdca26"
            ],
            [
             1,
             "#f0f921"
            ]
           ],
           "sequentialminus": [
            [
             0,
             "#0d0887"
            ],
            [
             0.1111111111111111,
             "#46039f"
            ],
            [
             0.2222222222222222,
             "#7201a8"
            ],
            [
             0.3333333333333333,
             "#9c179e"
            ],
            [
             0.4444444444444444,
             "#bd3786"
            ],
            [
             0.5555555555555556,
             "#d8576b"
            ],
            [
             0.6666666666666666,
             "#ed7953"
            ],
            [
             0.7777777777777778,
             "#fb9f3a"
            ],
            [
             0.8888888888888888,
             "#fdca26"
            ],
            [
             1,
             "#f0f921"
            ]
           ]
          },
          "colorway": [
           "#636efa",
           "#EF553B",
           "#00cc96",
           "#ab63fa",
           "#FFA15A",
           "#19d3f3",
           "#FF6692",
           "#B6E880",
           "#FF97FF",
           "#FECB52"
          ],
          "font": {
           "color": "#2a3f5f"
          },
          "geo": {
           "bgcolor": "white",
           "lakecolor": "white",
           "landcolor": "#E5ECF6",
           "showlakes": true,
           "showland": true,
           "subunitcolor": "white"
          },
          "hoverlabel": {
           "align": "left"
          },
          "hovermode": "closest",
          "mapbox": {
           "style": "light"
          },
          "paper_bgcolor": "white",
          "plot_bgcolor": "#E5ECF6",
          "polar": {
           "angularaxis": {
            "gridcolor": "white",
            "linecolor": "white",
            "ticks": ""
           },
           "bgcolor": "#E5ECF6",
           "radialaxis": {
            "gridcolor": "white",
            "linecolor": "white",
            "ticks": ""
           }
          },
          "scene": {
           "xaxis": {
            "backgroundcolor": "#E5ECF6",
            "gridcolor": "white",
            "gridwidth": 2,
            "linecolor": "white",
            "showbackground": true,
            "ticks": "",
            "zerolinecolor": "white"
           },
           "yaxis": {
            "backgroundcolor": "#E5ECF6",
            "gridcolor": "white",
            "gridwidth": 2,
            "linecolor": "white",
            "showbackground": true,
            "ticks": "",
            "zerolinecolor": "white"
           },
           "zaxis": {
            "backgroundcolor": "#E5ECF6",
            "gridcolor": "white",
            "gridwidth": 2,
            "linecolor": "white",
            "showbackground": true,
            "ticks": "",
            "zerolinecolor": "white"
           }
          },
          "shapedefaults": {
           "line": {
            "color": "#2a3f5f"
           }
          },
          "ternary": {
           "aaxis": {
            "gridcolor": "white",
            "linecolor": "white",
            "ticks": ""
           },
           "baxis": {
            "gridcolor": "white",
            "linecolor": "white",
            "ticks": ""
           },
           "bgcolor": "#E5ECF6",
           "caxis": {
            "gridcolor": "white",
            "linecolor": "white",
            "ticks": ""
           }
          },
          "title": {
           "x": 0.05
          },
          "xaxis": {
           "automargin": true,
           "gridcolor": "white",
           "linecolor": "white",
           "ticks": "",
           "title": {
            "standoff": 15
           },
           "zerolinecolor": "white",
           "zerolinewidth": 2
          },
          "yaxis": {
           "automargin": true,
           "gridcolor": "white",
           "linecolor": "white",
           "ticks": "",
           "title": {
            "standoff": 15
           },
           "zerolinecolor": "white",
           "zerolinewidth": 2
          }
         }
        },
        "title": {
         "text": "Average time per process"
        },
        "width": 1050,
        "xaxis": {
         "anchor": "y",
         "domain": [
          0,
          1
         ],
         "showgrid": true,
         "title": {
          "text": "Date"
         }
        },
        "yaxis": {
         "anchor": "x",
         "domain": [
          0,
          1
         ],
         "title": {
          "text": "Time (minutes)"
         }
        }
       }
      }
     },
     "metadata": {},
     "output_type": "display_data"
    }
   ],
   "source": [
    "def plot_time_in_station_days(df):\n",
    "    #display(df)\n",
    "    \n",
    "    color_discrete_map_ = {\"Y\": 'orange',\n",
    "                          \"X\": 'dodgerblue',\n",
    "                          \"Z\": 'limegreen'\n",
    "                          }\n",
    "\n",
    "\n",
    "    # Create a bar plot for each model\n",
    "    #df['med_total_time'] = df['med_total_time'].astype(int)\n",
    "    fig1 = px.bar(df, x='date', y='total_time', \n",
    "                 color='model', \n",
    "                 color_discrete_map = color_discrete_map_,\n",
    "                 barmode='group')\n",
    "\n",
    "    # Update layout for better visualization\n",
    "\n",
    "    fig1.update_layout(\n",
    "        title='Average total time by todel',\n",
    "        xaxis_title='Date',\n",
    "        yaxis_title='Time (minutes)',\n",
    "        legend_title='Model',\n",
    "        barmode='group'\n",
    "    )\n",
    "\n",
    "\n",
    "    # Show the plot\n",
    "    fig1.show()\n",
    "\n",
    "\n",
    "\n",
    "    melted_df = pd.melt(df, id_vars=['date','model','total_time'], value_vars=['_1_2','_2_3','_3_4'],var_name='time_bet', value_name='time')    \n",
    "    melted_df['color'] = melted_df['model'] + melted_df['time_bet']\n",
    "    color_discrete_map = {\"Y_1_2\": 'orangered',\n",
    "                          \"Y_2_3\": 'orange', \n",
    "                          \"Y_3_4\": '#FFD68A',\n",
    "                          \n",
    "                          \"X_1_2\": 'darkblue',\n",
    "                          \"X_2_3\":'dodgerblue',\n",
    "                          \"X_3_4\": 'lightskyblue',\n",
    "\n",
    "                          \"Z_1_2\": 'forestgreen',\n",
    "                          \"Z_2_3\": 'limegreen', \n",
    "                          \"Z_3_4\": 'lightgreen',}\n",
    "    \n",
    "\n",
    "\n",
    "    combined_df = pd.DataFrame()\n",
    "\n",
    "    #\n",
    "    for model in melted_df['model'].unique():\n",
    "        df_model = melted_df[melted_df['model'] == model]\n",
    "        combined_df = pd.concat([combined_df, df_model], ignore_index=True)\n",
    "\n",
    "    # Create a bar plot for all models\n",
    "    fig = px.bar(combined_df, x='date', y='time',\n",
    "                color='color',\n",
    "                labels={'time': 'Time (minutes)'},\n",
    "                color_discrete_map=color_discrete_map,\n",
    "                title='Average time per process')\n",
    "\n",
    "    # Set your desired date range for x-axis\n",
    "\n",
    "\n",
    "    # Update layout for better visualization\n",
    "    fig.update_layout(\n",
    "        xaxis_title='Date',\n",
    "        yaxis_title='Time (minutes)',\n",
    "        legend_title='Model_time between stations',\n",
    "    )\n",
    "\n",
    "    fig.update_xaxes(showgrid=True) \n",
    "    fig.update_layout(font=dict(size=14))\n",
    "    fig.update_layout(width=1050, height = 500) \n",
    "    if save:\n",
    "        fig.write_image(\"images/avg_time_\" + dataset + \"_all_days\" + \".pdf\")\n",
    "\n",
    "\n",
    "    # Show the combined plot\n",
    "    fig.show()\n",
    "save = 1\n",
    "plot_time_in_station_days(df_all_med)"
   ]
  },
  {
   "cell_type": "code",
   "execution_count": 25,
   "metadata": {},
   "outputs": [],
   "source": [
    "#df_final differences df4\n",
    "\n",
    "\n",
    "def plot_ok_ko_factory(df):\n",
    "        #display(melted_df)\n",
    "    color_discrete_map = {'Scanned OK': 'limegreen',\n",
    "                          'Scanned KO': 'red',\n",
    "                          'Not scanned': 'lightgray'\n",
    "                          }\n",
    "    #display(df)\n",
    "    \n",
    "    fig = px.bar(df, x=\"Stamp\", y='Time_Diff', \n",
    "                labels={\"Stamp\": \"Timestamp\", 'Time_Diff': \"Time differences (minutes)\"},\n",
    "                color = \"State\",\n",
    "                color_discrete_map = color_discrete_map,\n",
    "                title=\"Products scanned in all nodes\",)\n",
    "    target_date = pd.to_datetime(f\"2023-{month}-{day}\")\n",
    "\n",
    "    average_time_diff = df['Time_Diff'].mean()\n",
    "    fig.add_trace(go.Scatter(x=[df4['Stamp'].iloc[0], df4['Stamp'].iloc[-1] + pd.to_timedelta(\"00:05:00\")], y=[average_time_diff, average_time_diff], mode='lines', \n",
    "                             name='Average time'))\n",
    "\n",
    "    fig.update_xaxes(range=[target_date + pd.to_timedelta(\"09:00:00\"), target_date + pd.to_timedelta(\"13:00:00\")])\n",
    "    fig.update_yaxes(range=[0,12.5])\n",
    "    fig.update_xaxes(showgrid=True) \n",
    "    fig.update_layout(font=dict(size=14))\n",
    "    fig.update_layout(width=1050, height = 500) \n",
    "  # Set your desired date range\n",
    "    fig.show()\n",
    "    fig2 = fig\n",
    "    fig2.update_xaxes(range=[target_date + pd.to_timedelta(\"15:00:00\"), target_date + pd.to_timedelta(\"16:20:00\")])\n",
    "    fig2.update_layout(legend=dict( yanchor=\"top\", y=0.96,xanchor=\"left\",x=0.02))\n",
    "\n",
    "    #fig.update_traces(width=30000)\n",
    "  # Set your desired date range\n",
    "    if save:\n",
    "        fig2.write_image(\"images/scanned_okko.pdf\")\n",
    "    fig2.show()\n",
    "\n",
    "save = 1\n",
    "\n",
    "df4['check'] = df4['Stamp'].isin(df_bet_all['ts_4']).astype(int)\n",
    "\n",
    "df4['State'] = np.where(df4['check'] == 0, 'Not scanned', 'Scanned ' + df4['Status'])\n",
    "df4 = df4.drop('check', axis=1)#print(df4)\n",
    "\n",
    "\n",
    "#ok ko verde e vermelho\n",
    "# ver quais demorou mais "
   ]
  },
  {
   "cell_type": "code",
   "execution_count": 26,
   "metadata": {},
   "outputs": [
    {
     "name": "stderr",
     "output_type": "stream",
     "text": [
      "c:\\Users\\isacc\\miniconda3\\Lib\\site-packages\\_plotly_utils\\basevalidators.py:105: FutureWarning:\n",
      "\n",
      "The behavior of DatetimeProperties.to_pydatetime is deprecated, in a future version this will return a Series containing python datetime objects instead of an ndarray. To retain the old behavior, call `np.array` on the result\n",
      "\n"
     ]
    },
    {
     "data": {
      "application/vnd.plotly.v1+json": {
       "config": {
        "plotlyServerURL": "https://plot.ly"
       },
       "data": [
        {
         "alignmentgroup": "True",
         "hovertemplate": "State=Not scanned<br>Timestamp=%{x}<br>Time differences (minutes)=%{y}<extra></extra>",
         "legendgroup": "Not scanned",
         "marker": {
          "color": "lightgray",
          "pattern": {
           "shape": ""
          }
         },
         "name": "Not scanned",
         "offsetgroup": "Not scanned",
         "orientation": "v",
         "showlegend": true,
         "textposition": "auto",
         "type": "bar",
         "x": [
          "2023-10-03T09:02:11",
          "2023-10-03T09:03:35",
          "2023-10-03T09:05:16",
          "2023-10-03T09:06:57",
          "2023-10-03T09:08:50",
          "2023-10-03T09:09:32",
          "2023-10-03T09:10:13",
          "2023-10-03T09:11:27",
          "2023-10-03T09:14:32",
          "2023-10-03T09:16:08",
          "2023-10-03T09:17:05",
          "2023-10-03T09:18:15",
          "2023-10-03T09:18:57",
          "2023-10-03T09:20:29",
          "2023-10-03T09:21:48",
          "2023-10-03T09:23:26",
          "2023-10-03T09:24:38",
          "2023-10-03T09:26:07",
          "2023-10-03T09:28:01",
          "2023-10-03T09:29:17",
          "2023-10-03T09:32:42",
          "2023-10-03T09:33:21",
          "2023-10-03T09:34:01",
          "2023-10-03T09:35:27",
          "2023-10-03T09:36:10",
          "2023-10-03T09:37:36",
          "2023-10-03T09:39:16",
          "2023-10-03T09:40:44",
          "2023-10-03T09:42:38",
          "2023-10-03T09:44:13",
          "2023-10-03T09:46:16",
          "2023-10-03T09:47:12",
          "2023-10-03T09:48:04",
          "2023-10-03T09:49:33",
          "2023-10-03T09:51:45",
          "2023-10-03T09:52:42",
          "2023-10-03T09:54:04",
          "2023-10-03T09:55:40",
          "2023-10-03T09:57:03",
          "2023-10-03T09:58:35",
          "2023-10-03T09:59:29",
          "2023-10-03T10:00:53",
          "2023-10-03T10:02:52",
          "2023-10-03T10:04:03",
          "2023-10-03T10:05:39",
          "2023-10-03T10:07:01",
          "2023-10-03T10:08:18",
          "2023-10-03T10:09:43",
          "2023-10-03T10:10:51",
          "2023-10-03T10:12:47",
          "2023-10-03T10:13:53",
          "2023-10-03T10:15:34",
          "2023-10-03T10:16:20",
          "2023-10-03T10:17:55",
          "2023-10-03T10:19:07",
          "2023-10-03T10:20:19",
          "2023-10-03T10:21:38",
          "2023-10-03T10:24:11",
          "2023-10-03T10:24:53",
          "2023-10-03T10:26:20",
          "2023-10-03T10:27:21",
          "2023-10-03T10:28:01",
          "2023-10-03T10:47:54",
          "2023-10-03T10:49:34",
          "2023-10-03T10:50:21",
          "2023-10-03T10:53:12",
          "2023-10-03T10:54:16",
          "2023-10-03T10:56:06",
          "2023-10-03T11:00:12",
          "2023-10-03T11:01:05",
          "2023-10-03T11:03:05",
          "2023-10-03T11:03:57",
          "2023-10-03T11:08:00",
          "2023-10-03T11:09:14",
          "2023-10-03T11:11:24",
          "2023-10-03T11:12:34",
          "2023-10-03T11:13:52",
          "2023-10-03T11:14:59",
          "2023-10-03T11:16:17",
          "2023-10-03T11:17:14",
          "2023-10-03T11:18:37",
          "2023-10-03T11:20:27",
          "2023-10-03T11:21:25",
          "2023-10-03T11:24:54",
          "2023-10-03T11:25:41",
          "2023-10-03T11:26:36",
          "2023-10-03T11:27:37",
          "2023-10-03T11:28:38",
          "2023-10-03T11:31:55",
          "2023-10-03T11:32:45",
          "2023-10-03T11:33:41",
          "2023-10-03T11:34:57",
          "2023-10-03T11:36:24",
          "2023-10-03T11:38:43",
          "2023-10-03T11:41:45",
          "2023-10-03T11:42:26",
          "2023-10-03T11:43:59",
          "2023-10-03T11:44:57",
          "2023-10-03T11:46:54",
          "2023-10-03T11:48:10",
          "2023-10-03T11:49:14",
          "2023-10-03T11:51:00",
          "2023-10-03T11:52:24",
          "2023-10-03T11:53:41",
          "2023-10-03T11:55:48",
          "2023-10-03T11:56:27",
          "2023-10-03T11:57:09",
          "2023-10-03T11:58:00",
          "2023-10-03T11:59:16",
          "2023-10-03T12:01:31",
          "2023-10-03T12:02:56",
          "2023-10-03T12:04:31",
          "2023-10-03T12:05:42",
          "2023-10-03T12:07:04",
          "2023-10-03T12:07:57",
          "2023-10-03T12:09:25",
          "2023-10-03T12:14:41",
          "2023-10-03T12:15:58",
          "2023-10-03T12:16:45",
          "2023-10-03T12:17:38",
          "2023-10-03T12:18:24",
          "2023-10-03T12:19:19",
          "2023-10-03T12:20:05",
          "2023-10-03T12:21:12",
          "2023-10-03T12:22:39",
          "2023-10-03T12:23:45",
          "2023-10-03T12:25:22",
          "2023-10-03T12:26:34",
          "2023-10-03T12:27:57",
          "2023-10-03T12:31:18",
          "2023-10-03T12:32:22",
          "2023-10-03T12:33:33",
          "2023-10-03T12:34:40",
          "2023-10-03T12:36:19",
          "2023-10-03T12:37:47",
          "2023-10-03T12:39:05",
          "2023-10-03T12:41:53",
          "2023-10-03T12:43:05",
          "2023-10-03T12:44:11",
          "2023-10-03T12:45:18",
          "2023-10-03T12:48:30",
          "2023-10-03T12:49:19",
          "2023-10-03T12:50:27",
          "2023-10-03T12:51:41",
          "2023-10-03T12:52:56",
          "2023-10-03T12:53:41",
          "2023-10-03T12:55:08",
          "2023-10-03T12:56:03",
          "2023-10-03T12:56:49",
          "2023-10-03T12:57:25",
          "2023-10-03T12:58:31",
          "2023-10-03T12:59:19",
          "2023-10-03T14:03:24",
          "2023-10-03T14:05:02",
          "2023-10-03T14:05:58",
          "2023-10-03T14:06:58",
          "2023-10-03T14:07:49",
          "2023-10-03T14:08:42",
          "2023-10-03T14:10:10",
          "2023-10-03T14:13:22",
          "2023-10-03T14:14:01",
          "2023-10-03T14:15:24",
          "2023-10-03T14:19:24",
          "2023-10-03T14:20:33",
          "2023-10-03T14:23:23",
          "2023-10-03T14:24:27",
          "2023-10-03T14:25:41",
          "2023-10-03T14:26:44",
          "2023-10-03T14:28:08",
          "2023-10-03T14:30:03",
          "2023-10-03T14:30:59",
          "2023-10-03T14:32:25",
          "2023-10-03T14:33:45",
          "2023-10-03T14:36:29",
          "2023-10-03T14:37:51",
          "2023-10-03T14:39:09",
          "2023-10-03T14:42:28",
          "2023-10-03T14:43:03",
          "2023-10-03T14:44:21",
          "2023-10-03T14:45:54",
          "2023-10-03T14:47:22",
          "2023-10-03T14:48:11",
          "2023-10-03T14:49:29",
          "2023-10-03T14:50:10",
          "2023-10-03T14:51:24",
          "2023-10-03T14:53:00",
          "2023-10-03T14:54:03",
          "2023-10-03T14:55:26",
          "2023-10-03T14:56:22",
          "2023-10-03T14:58:08",
          "2023-10-03T15:00:10",
          "2023-10-03T15:01:21",
          "2023-10-03T15:03:06",
          "2023-10-03T15:03:50",
          "2023-10-03T15:05:44",
          "2023-10-03T15:07:05",
          "2023-10-03T15:08:12",
          "2023-10-03T15:09:20",
          "2023-10-03T15:12:16",
          "2023-10-03T15:15:13",
          "2023-10-03T15:16:49",
          "2023-10-03T15:18:24",
          "2023-10-03T15:19:18",
          "2023-10-03T15:21:46",
          "2023-10-03T15:22:29",
          "2023-10-03T15:24:57",
          "2023-10-03T15:28:14",
          "2023-10-03T15:30:57",
          "2023-10-03T15:33:53",
          "2023-10-03T15:35:09",
          "2023-10-03T15:48:10",
          "2023-10-03T15:49:41",
          "2023-10-03T15:52:54",
          "2023-10-03T15:53:35",
          "2023-10-03T15:54:12",
          "2023-10-03T15:55:25",
          "2023-10-03T15:56:24",
          "2023-10-03T15:57:01",
          "2023-10-03T15:59:40",
          "2023-10-03T16:00:26",
          "2023-10-03T16:01:10",
          "2023-10-03T16:04:53",
          "2023-10-03T16:05:31",
          "2023-10-03T16:08:11",
          "2023-10-03T16:08:57",
          "2023-10-03T16:10:05",
          "2023-10-03T16:13:35",
          "2023-10-03T16:14:31",
          "2023-10-03T16:15:39",
          "2023-10-03T16:18:17",
          "2023-10-03T16:47:42",
          "2023-10-03T16:51:42",
          "2023-10-03T16:53:23",
          "2023-10-03T16:56:49",
          "2023-10-03T16:57:28",
          "2023-10-03T16:58:37",
          "2023-10-03T16:59:30",
          "2023-10-03T17:01:12",
          "2023-10-03T17:03:26",
          "2023-10-03T17:04:13",
          "2023-10-03T17:05:01",
          "2023-10-03T17:05:38",
          "2023-10-03T17:08:32",
          "2023-10-03T17:09:47",
          "2023-10-03T17:11:25",
          "2023-10-03T17:12:26",
          "2023-10-03T17:13:27",
          "2023-10-03T17:15:42",
          "2023-10-03T17:16:19",
          "2023-10-03T17:17:51",
          "2023-10-03T17:18:47",
          "2023-10-03T17:20:30",
          "2023-10-03T17:23:34",
          "2023-10-03T17:24:54",
          "2023-10-03T17:25:37",
          "2023-10-03T17:26:44",
          "2023-10-03T17:28:14",
          "2023-10-03T17:29:18",
          "2023-10-03T17:31:10",
          "2023-10-03T17:31:50",
          "2023-10-03T17:32:27",
          "2023-10-03T17:33:30",
          "2023-10-03T17:34:11",
          "2023-10-03T17:35:04",
          "2023-10-03T17:38:13",
          "2023-10-03T17:39:04",
          "2023-10-03T17:39:42",
          "2023-10-03T17:41:14",
          "2023-10-03T17:43:01",
          "2023-10-03T17:44:16",
          "2023-10-03T17:46:51",
          "2023-10-03T17:47:28",
          "2023-10-03T17:49:02",
          "2023-10-03T17:50:08",
          "2023-10-03T17:51:22",
          "2023-10-03T17:52:33",
          "2023-10-03T17:53:52",
          "2023-10-03T17:57:36",
          "2023-10-03T17:58:17"
         ],
         "xaxis": "x",
         "y": [
          1.07,
          1.4,
          1.68,
          1.68,
          1.88,
          0.7,
          0.68,
          1.23,
          1.27,
          1.6,
          0.95,
          1.17,
          0.7,
          1.53,
          1.32,
          1.63,
          1.2,
          1.48,
          1.9,
          1.27,
          3.42,
          0.65,
          0.67,
          1.43,
          0.72,
          1.43,
          1.67,
          1.47,
          1.9,
          1.58,
          2.05,
          0.93,
          0.87,
          1.48,
          2.2,
          0.95,
          1.37,
          1.6,
          1.38,
          1.53,
          0.9,
          1.4,
          1.98,
          1.18,
          1.6,
          1.37,
          1.28,
          1.42,
          1.13,
          1.93,
          1.1,
          1.68,
          0.77,
          1.58,
          1.2,
          1.2,
          1.32,
          2.55,
          0.7,
          1.45,
          1.02,
          0.67,
          18.28,
          1.67,
          0.78,
          2.85,
          1.07,
          1.83,
          2.65,
          0.88,
          2,
          0.87,
          4.05,
          1.23,
          2.17,
          1.17,
          1.3,
          1.12,
          1.3,
          0.95,
          1.38,
          1.83,
          0.97,
          3.48,
          0.78,
          0.92,
          1.02,
          1.02,
          3.28,
          0.83,
          0.93,
          1.27,
          1.45,
          2.32,
          1.62,
          0.68,
          1.55,
          0.97,
          1.95,
          1.27,
          1.07,
          1.77,
          1.4,
          1.28,
          2.12,
          0.65,
          0.7,
          0.85,
          1.27,
          2.25,
          1.42,
          1.58,
          1.18,
          1.37,
          0.88,
          1.47,
          1.97,
          1.28,
          0.78,
          0.88,
          0.77,
          0.92,
          0.77,
          1.12,
          1.45,
          1.1,
          1.62,
          1.2,
          1.38,
          0.72,
          1.07,
          1.18,
          1.12,
          1.65,
          1.47,
          1.3,
          0.95,
          1.2,
          1.1,
          1.12,
          1.33,
          0.82,
          1.13,
          1.23,
          1.25,
          0.75,
          1.45,
          0.92,
          0.77,
          0.6,
          1.1,
          0.8,
          2.12,
          1.63,
          0.93,
          1,
          0.85,
          0.88,
          1.47,
          2.17,
          0.65,
          1.38,
          1.42,
          1.15,
          1.93,
          1.07,
          1.23,
          1.05,
          1.4,
          1.92,
          0.93,
          1.43,
          1.33,
          1.07,
          1.37,
          1.3,
          3.32,
          0.58,
          1.3,
          1.55,
          1.47,
          0.82,
          1.3,
          0.68,
          1.23,
          1.6,
          1.05,
          1.38,
          0.93,
          1.77,
          1.38,
          1.18,
          1.75,
          0.73,
          1.9,
          1.35,
          1.12,
          1.13,
          1.63,
          1.38,
          1.6,
          1.58,
          0.9,
          2.47,
          0.72,
          1.4,
          0.93,
          0.9,
          2.93,
          1.27,
          0.68,
          1.52,
          3.22,
          0.68,
          0.62,
          1.22,
          0.98,
          0.62,
          1.05,
          0.77,
          0.73,
          0.62,
          0.63,
          1.17,
          0.77,
          1.13,
          0.87,
          0.93,
          1.13,
          0.68,
          29.42,
          4,
          1.68,
          3.43,
          0.65,
          1.15,
          0.88,
          1.7,
          2.23,
          0.78,
          0.8,
          0.62,
          0.87,
          1.25,
          1.63,
          1.02,
          1.02,
          2.25,
          0.62,
          1.53,
          0.93,
          1.72,
          1.48,
          1.33,
          0.72,
          1.12,
          1.5,
          1.07,
          1.87,
          0.67,
          0.62,
          1.05,
          0.68,
          0.88,
          0.77,
          0.85,
          0.63,
          1.53,
          1.78,
          1.25,
          2.58,
          0.62,
          1.57,
          1.1,
          1.23,
          1.18,
          1.32,
          2.55,
          0.68
         ],
         "yaxis": "y"
        },
        {
         "alignmentgroup": "True",
         "hovertemplate": "State=Scanned OK<br>Timestamp=%{x}<br>Time differences (minutes)=%{y}<extra></extra>",
         "legendgroup": "Scanned OK",
         "marker": {
          "color": "limegreen",
          "pattern": {
           "shape": ""
          }
         },
         "name": "Scanned OK",
         "offsetgroup": "Scanned OK",
         "orientation": "v",
         "showlegend": true,
         "textposition": "auto",
         "type": "bar",
         "x": [
          "2023-10-03T09:13:16",
          "2023-10-03T10:29:37",
          "2023-10-03T10:57:33",
          "2023-10-03T11:40:08",
          "2023-10-03T12:11:20",
          "2023-10-03T12:12:43",
          "2023-10-03T12:30:35",
          "2023-10-03T12:40:56",
          "2023-10-03T12:47:10",
          "2023-10-03T14:11:12",
          "2023-10-03T14:16:51",
          "2023-10-03T14:17:59",
          "2023-10-03T14:21:27",
          "2023-10-03T14:35:25",
          "2023-10-03T14:58:47",
          "2023-10-03T15:10:38",
          "2023-10-03T15:13:50",
          "2023-10-03T15:23:33",
          "2023-10-03T15:27:18",
          "2023-10-03T15:30:03",
          "2023-10-03T15:47:29",
          "2023-10-03T15:58:37",
          "2023-10-03T16:04:16",
          "2023-10-03T16:12:43",
          "2023-10-03T16:17:36",
          "2023-10-03T17:06:31",
          "2023-10-03T17:07:40",
          "2023-10-03T17:22:05",
          "2023-10-03T17:37:27",
          "2023-10-03T17:55:03"
         ],
         "xaxis": "x",
         "y": [
          1.82,
          1.6,
          1.45,
          1.42,
          1.92,
          1.38,
          2.63,
          1.85,
          1.87,
          1.03,
          1.45,
          1.13,
          0.9,
          1.67,
          0.65,
          1.3,
          1.57,
          1.07,
          2.35,
          1.82,
          12.33,
          1.6,
          2,
          2.63,
          1.95,
          0.88,
          1.15,
          1.58,
          2.38,
          1.18
         ],
         "yaxis": "y"
        },
        {
         "alignmentgroup": "True",
         "hovertemplate": "State=Scanned KO<br>Timestamp=%{x}<br>Time differences (minutes)=%{y}<extra></extra>",
         "legendgroup": "Scanned KO",
         "marker": {
          "color": "red",
          "pattern": {
           "shape": ""
          }
         },
         "name": "Scanned KO",
         "offsetgroup": "Scanned KO",
         "orientation": "v",
         "showlegend": true,
         "textposition": "auto",
         "type": "bar",
         "x": [
          "2023-10-03T16:02:16",
          "2023-10-03T16:07:01"
         ],
         "xaxis": "x",
         "y": [
          1.1,
          1.5
         ],
         "yaxis": "y"
        },
        {
         "mode": "lines",
         "name": "Average time",
         "type": "scatter",
         "x": [
          "2023-10-03T09:02:11",
          "2023-10-03T18:03:17"
         ],
         "y": [
          1.5279421221864953,
          1.5279421221864953
         ]
        }
       ],
       "layout": {
        "barmode": "relative",
        "font": {
         "size": 14
        },
        "height": 500,
        "legend": {
         "title": {
          "text": "State"
         },
         "tracegroupgap": 0
        },
        "template": {
         "data": {
          "bar": [
           {
            "error_x": {
             "color": "#2a3f5f"
            },
            "error_y": {
             "color": "#2a3f5f"
            },
            "marker": {
             "line": {
              "color": "#E5ECF6",
              "width": 0.5
             },
             "pattern": {
              "fillmode": "overlay",
              "size": 10,
              "solidity": 0.2
             }
            },
            "type": "bar"
           }
          ],
          "barpolar": [
           {
            "marker": {
             "line": {
              "color": "#E5ECF6",
              "width": 0.5
             },
             "pattern": {
              "fillmode": "overlay",
              "size": 10,
              "solidity": 0.2
             }
            },
            "type": "barpolar"
           }
          ],
          "carpet": [
           {
            "aaxis": {
             "endlinecolor": "#2a3f5f",
             "gridcolor": "white",
             "linecolor": "white",
             "minorgridcolor": "white",
             "startlinecolor": "#2a3f5f"
            },
            "baxis": {
             "endlinecolor": "#2a3f5f",
             "gridcolor": "white",
             "linecolor": "white",
             "minorgridcolor": "white",
             "startlinecolor": "#2a3f5f"
            },
            "type": "carpet"
           }
          ],
          "choropleth": [
           {
            "colorbar": {
             "outlinewidth": 0,
             "ticks": ""
            },
            "type": "choropleth"
           }
          ],
          "contour": [
           {
            "colorbar": {
             "outlinewidth": 0,
             "ticks": ""
            },
            "colorscale": [
             [
              0,
              "#0d0887"
             ],
             [
              0.1111111111111111,
              "#46039f"
             ],
             [
              0.2222222222222222,
              "#7201a8"
             ],
             [
              0.3333333333333333,
              "#9c179e"
             ],
             [
              0.4444444444444444,
              "#bd3786"
             ],
             [
              0.5555555555555556,
              "#d8576b"
             ],
             [
              0.6666666666666666,
              "#ed7953"
             ],
             [
              0.7777777777777778,
              "#fb9f3a"
             ],
             [
              0.8888888888888888,
              "#fdca26"
             ],
             [
              1,
              "#f0f921"
             ]
            ],
            "type": "contour"
           }
          ],
          "contourcarpet": [
           {
            "colorbar": {
             "outlinewidth": 0,
             "ticks": ""
            },
            "type": "contourcarpet"
           }
          ],
          "heatmap": [
           {
            "colorbar": {
             "outlinewidth": 0,
             "ticks": ""
            },
            "colorscale": [
             [
              0,
              "#0d0887"
             ],
             [
              0.1111111111111111,
              "#46039f"
             ],
             [
              0.2222222222222222,
              "#7201a8"
             ],
             [
              0.3333333333333333,
              "#9c179e"
             ],
             [
              0.4444444444444444,
              "#bd3786"
             ],
             [
              0.5555555555555556,
              "#d8576b"
             ],
             [
              0.6666666666666666,
              "#ed7953"
             ],
             [
              0.7777777777777778,
              "#fb9f3a"
             ],
             [
              0.8888888888888888,
              "#fdca26"
             ],
             [
              1,
              "#f0f921"
             ]
            ],
            "type": "heatmap"
           }
          ],
          "heatmapgl": [
           {
            "colorbar": {
             "outlinewidth": 0,
             "ticks": ""
            },
            "colorscale": [
             [
              0,
              "#0d0887"
             ],
             [
              0.1111111111111111,
              "#46039f"
             ],
             [
              0.2222222222222222,
              "#7201a8"
             ],
             [
              0.3333333333333333,
              "#9c179e"
             ],
             [
              0.4444444444444444,
              "#bd3786"
             ],
             [
              0.5555555555555556,
              "#d8576b"
             ],
             [
              0.6666666666666666,
              "#ed7953"
             ],
             [
              0.7777777777777778,
              "#fb9f3a"
             ],
             [
              0.8888888888888888,
              "#fdca26"
             ],
             [
              1,
              "#f0f921"
             ]
            ],
            "type": "heatmapgl"
           }
          ],
          "histogram": [
           {
            "marker": {
             "pattern": {
              "fillmode": "overlay",
              "size": 10,
              "solidity": 0.2
             }
            },
            "type": "histogram"
           }
          ],
          "histogram2d": [
           {
            "colorbar": {
             "outlinewidth": 0,
             "ticks": ""
            },
            "colorscale": [
             [
              0,
              "#0d0887"
             ],
             [
              0.1111111111111111,
              "#46039f"
             ],
             [
              0.2222222222222222,
              "#7201a8"
             ],
             [
              0.3333333333333333,
              "#9c179e"
             ],
             [
              0.4444444444444444,
              "#bd3786"
             ],
             [
              0.5555555555555556,
              "#d8576b"
             ],
             [
              0.6666666666666666,
              "#ed7953"
             ],
             [
              0.7777777777777778,
              "#fb9f3a"
             ],
             [
              0.8888888888888888,
              "#fdca26"
             ],
             [
              1,
              "#f0f921"
             ]
            ],
            "type": "histogram2d"
           }
          ],
          "histogram2dcontour": [
           {
            "colorbar": {
             "outlinewidth": 0,
             "ticks": ""
            },
            "colorscale": [
             [
              0,
              "#0d0887"
             ],
             [
              0.1111111111111111,
              "#46039f"
             ],
             [
              0.2222222222222222,
              "#7201a8"
             ],
             [
              0.3333333333333333,
              "#9c179e"
             ],
             [
              0.4444444444444444,
              "#bd3786"
             ],
             [
              0.5555555555555556,
              "#d8576b"
             ],
             [
              0.6666666666666666,
              "#ed7953"
             ],
             [
              0.7777777777777778,
              "#fb9f3a"
             ],
             [
              0.8888888888888888,
              "#fdca26"
             ],
             [
              1,
              "#f0f921"
             ]
            ],
            "type": "histogram2dcontour"
           }
          ],
          "mesh3d": [
           {
            "colorbar": {
             "outlinewidth": 0,
             "ticks": ""
            },
            "type": "mesh3d"
           }
          ],
          "parcoords": [
           {
            "line": {
             "colorbar": {
              "outlinewidth": 0,
              "ticks": ""
             }
            },
            "type": "parcoords"
           }
          ],
          "pie": [
           {
            "automargin": true,
            "type": "pie"
           }
          ],
          "scatter": [
           {
            "fillpattern": {
             "fillmode": "overlay",
             "size": 10,
             "solidity": 0.2
            },
            "type": "scatter"
           }
          ],
          "scatter3d": [
           {
            "line": {
             "colorbar": {
              "outlinewidth": 0,
              "ticks": ""
             }
            },
            "marker": {
             "colorbar": {
              "outlinewidth": 0,
              "ticks": ""
             }
            },
            "type": "scatter3d"
           }
          ],
          "scattercarpet": [
           {
            "marker": {
             "colorbar": {
              "outlinewidth": 0,
              "ticks": ""
             }
            },
            "type": "scattercarpet"
           }
          ],
          "scattergeo": [
           {
            "marker": {
             "colorbar": {
              "outlinewidth": 0,
              "ticks": ""
             }
            },
            "type": "scattergeo"
           }
          ],
          "scattergl": [
           {
            "marker": {
             "colorbar": {
              "outlinewidth": 0,
              "ticks": ""
             }
            },
            "type": "scattergl"
           }
          ],
          "scattermapbox": [
           {
            "marker": {
             "colorbar": {
              "outlinewidth": 0,
              "ticks": ""
             }
            },
            "type": "scattermapbox"
           }
          ],
          "scatterpolar": [
           {
            "marker": {
             "colorbar": {
              "outlinewidth": 0,
              "ticks": ""
             }
            },
            "type": "scatterpolar"
           }
          ],
          "scatterpolargl": [
           {
            "marker": {
             "colorbar": {
              "outlinewidth": 0,
              "ticks": ""
             }
            },
            "type": "scatterpolargl"
           }
          ],
          "scatterternary": [
           {
            "marker": {
             "colorbar": {
              "outlinewidth": 0,
              "ticks": ""
             }
            },
            "type": "scatterternary"
           }
          ],
          "surface": [
           {
            "colorbar": {
             "outlinewidth": 0,
             "ticks": ""
            },
            "colorscale": [
             [
              0,
              "#0d0887"
             ],
             [
              0.1111111111111111,
              "#46039f"
             ],
             [
              0.2222222222222222,
              "#7201a8"
             ],
             [
              0.3333333333333333,
              "#9c179e"
             ],
             [
              0.4444444444444444,
              "#bd3786"
             ],
             [
              0.5555555555555556,
              "#d8576b"
             ],
             [
              0.6666666666666666,
              "#ed7953"
             ],
             [
              0.7777777777777778,
              "#fb9f3a"
             ],
             [
              0.8888888888888888,
              "#fdca26"
             ],
             [
              1,
              "#f0f921"
             ]
            ],
            "type": "surface"
           }
          ],
          "table": [
           {
            "cells": {
             "fill": {
              "color": "#EBF0F8"
             },
             "line": {
              "color": "white"
             }
            },
            "header": {
             "fill": {
              "color": "#C8D4E3"
             },
             "line": {
              "color": "white"
             }
            },
            "type": "table"
           }
          ]
         },
         "layout": {
          "annotationdefaults": {
           "arrowcolor": "#2a3f5f",
           "arrowhead": 0,
           "arrowwidth": 1
          },
          "autotypenumbers": "strict",
          "coloraxis": {
           "colorbar": {
            "outlinewidth": 0,
            "ticks": ""
           }
          },
          "colorscale": {
           "diverging": [
            [
             0,
             "#8e0152"
            ],
            [
             0.1,
             "#c51b7d"
            ],
            [
             0.2,
             "#de77ae"
            ],
            [
             0.3,
             "#f1b6da"
            ],
            [
             0.4,
             "#fde0ef"
            ],
            [
             0.5,
             "#f7f7f7"
            ],
            [
             0.6,
             "#e6f5d0"
            ],
            [
             0.7,
             "#b8e186"
            ],
            [
             0.8,
             "#7fbc41"
            ],
            [
             0.9,
             "#4d9221"
            ],
            [
             1,
             "#276419"
            ]
           ],
           "sequential": [
            [
             0,
             "#0d0887"
            ],
            [
             0.1111111111111111,
             "#46039f"
            ],
            [
             0.2222222222222222,
             "#7201a8"
            ],
            [
             0.3333333333333333,
             "#9c179e"
            ],
            [
             0.4444444444444444,
             "#bd3786"
            ],
            [
             0.5555555555555556,
             "#d8576b"
            ],
            [
             0.6666666666666666,
             "#ed7953"
            ],
            [
             0.7777777777777778,
             "#fb9f3a"
            ],
            [
             0.8888888888888888,
             "#fdca26"
            ],
            [
             1,
             "#f0f921"
            ]
           ],
           "sequentialminus": [
            [
             0,
             "#0d0887"
            ],
            [
             0.1111111111111111,
             "#46039f"
            ],
            [
             0.2222222222222222,
             "#7201a8"
            ],
            [
             0.3333333333333333,
             "#9c179e"
            ],
            [
             0.4444444444444444,
             "#bd3786"
            ],
            [
             0.5555555555555556,
             "#d8576b"
            ],
            [
             0.6666666666666666,
             "#ed7953"
            ],
            [
             0.7777777777777778,
             "#fb9f3a"
            ],
            [
             0.8888888888888888,
             "#fdca26"
            ],
            [
             1,
             "#f0f921"
            ]
           ]
          },
          "colorway": [
           "#636efa",
           "#EF553B",
           "#00cc96",
           "#ab63fa",
           "#FFA15A",
           "#19d3f3",
           "#FF6692",
           "#B6E880",
           "#FF97FF",
           "#FECB52"
          ],
          "font": {
           "color": "#2a3f5f"
          },
          "geo": {
           "bgcolor": "white",
           "lakecolor": "white",
           "landcolor": "#E5ECF6",
           "showlakes": true,
           "showland": true,
           "subunitcolor": "white"
          },
          "hoverlabel": {
           "align": "left"
          },
          "hovermode": "closest",
          "mapbox": {
           "style": "light"
          },
          "paper_bgcolor": "white",
          "plot_bgcolor": "#E5ECF6",
          "polar": {
           "angularaxis": {
            "gridcolor": "white",
            "linecolor": "white",
            "ticks": ""
           },
           "bgcolor": "#E5ECF6",
           "radialaxis": {
            "gridcolor": "white",
            "linecolor": "white",
            "ticks": ""
           }
          },
          "scene": {
           "xaxis": {
            "backgroundcolor": "#E5ECF6",
            "gridcolor": "white",
            "gridwidth": 2,
            "linecolor": "white",
            "showbackground": true,
            "ticks": "",
            "zerolinecolor": "white"
           },
           "yaxis": {
            "backgroundcolor": "#E5ECF6",
            "gridcolor": "white",
            "gridwidth": 2,
            "linecolor": "white",
            "showbackground": true,
            "ticks": "",
            "zerolinecolor": "white"
           },
           "zaxis": {
            "backgroundcolor": "#E5ECF6",
            "gridcolor": "white",
            "gridwidth": 2,
            "linecolor": "white",
            "showbackground": true,
            "ticks": "",
            "zerolinecolor": "white"
           }
          },
          "shapedefaults": {
           "line": {
            "color": "#2a3f5f"
           }
          },
          "ternary": {
           "aaxis": {
            "gridcolor": "white",
            "linecolor": "white",
            "ticks": ""
           },
           "baxis": {
            "gridcolor": "white",
            "linecolor": "white",
            "ticks": ""
           },
           "bgcolor": "#E5ECF6",
           "caxis": {
            "gridcolor": "white",
            "linecolor": "white",
            "ticks": ""
           }
          },
          "title": {
           "x": 0.05
          },
          "xaxis": {
           "automargin": true,
           "gridcolor": "white",
           "linecolor": "white",
           "ticks": "",
           "title": {
            "standoff": 15
           },
           "zerolinecolor": "white",
           "zerolinewidth": 2
          },
          "yaxis": {
           "automargin": true,
           "gridcolor": "white",
           "linecolor": "white",
           "ticks": "",
           "title": {
            "standoff": 15
           },
           "zerolinecolor": "white",
           "zerolinewidth": 2
          }
         }
        },
        "title": {
         "text": "Products scanned in all nodes"
        },
        "width": 1050,
        "xaxis": {
         "anchor": "y",
         "domain": [
          0,
          1
         ],
         "range": [
          "2023-10-03T09:00:00",
          "2023-10-03T13:00:00"
         ],
         "showgrid": true,
         "title": {
          "text": "Timestamp"
         }
        },
        "yaxis": {
         "anchor": "x",
         "domain": [
          0,
          1
         ],
         "range": [
          0,
          12.5
         ],
         "title": {
          "text": "Time differences (minutes)"
         }
        }
       }
      }
     },
     "metadata": {},
     "output_type": "display_data"
    },
    {
     "data": {
      "application/vnd.plotly.v1+json": {
       "config": {
        "plotlyServerURL": "https://plot.ly"
       },
       "data": [
        {
         "alignmentgroup": "True",
         "hovertemplate": "State=Not scanned<br>Timestamp=%{x}<br>Time differences (minutes)=%{y}<extra></extra>",
         "legendgroup": "Not scanned",
         "marker": {
          "color": "lightgray",
          "pattern": {
           "shape": ""
          }
         },
         "name": "Not scanned",
         "offsetgroup": "Not scanned",
         "orientation": "v",
         "showlegend": true,
         "textposition": "auto",
         "type": "bar",
         "x": [
          "2023-10-03T09:02:11",
          "2023-10-03T09:03:35",
          "2023-10-03T09:05:16",
          "2023-10-03T09:06:57",
          "2023-10-03T09:08:50",
          "2023-10-03T09:09:32",
          "2023-10-03T09:10:13",
          "2023-10-03T09:11:27",
          "2023-10-03T09:14:32",
          "2023-10-03T09:16:08",
          "2023-10-03T09:17:05",
          "2023-10-03T09:18:15",
          "2023-10-03T09:18:57",
          "2023-10-03T09:20:29",
          "2023-10-03T09:21:48",
          "2023-10-03T09:23:26",
          "2023-10-03T09:24:38",
          "2023-10-03T09:26:07",
          "2023-10-03T09:28:01",
          "2023-10-03T09:29:17",
          "2023-10-03T09:32:42",
          "2023-10-03T09:33:21",
          "2023-10-03T09:34:01",
          "2023-10-03T09:35:27",
          "2023-10-03T09:36:10",
          "2023-10-03T09:37:36",
          "2023-10-03T09:39:16",
          "2023-10-03T09:40:44",
          "2023-10-03T09:42:38",
          "2023-10-03T09:44:13",
          "2023-10-03T09:46:16",
          "2023-10-03T09:47:12",
          "2023-10-03T09:48:04",
          "2023-10-03T09:49:33",
          "2023-10-03T09:51:45",
          "2023-10-03T09:52:42",
          "2023-10-03T09:54:04",
          "2023-10-03T09:55:40",
          "2023-10-03T09:57:03",
          "2023-10-03T09:58:35",
          "2023-10-03T09:59:29",
          "2023-10-03T10:00:53",
          "2023-10-03T10:02:52",
          "2023-10-03T10:04:03",
          "2023-10-03T10:05:39",
          "2023-10-03T10:07:01",
          "2023-10-03T10:08:18",
          "2023-10-03T10:09:43",
          "2023-10-03T10:10:51",
          "2023-10-03T10:12:47",
          "2023-10-03T10:13:53",
          "2023-10-03T10:15:34",
          "2023-10-03T10:16:20",
          "2023-10-03T10:17:55",
          "2023-10-03T10:19:07",
          "2023-10-03T10:20:19",
          "2023-10-03T10:21:38",
          "2023-10-03T10:24:11",
          "2023-10-03T10:24:53",
          "2023-10-03T10:26:20",
          "2023-10-03T10:27:21",
          "2023-10-03T10:28:01",
          "2023-10-03T10:47:54",
          "2023-10-03T10:49:34",
          "2023-10-03T10:50:21",
          "2023-10-03T10:53:12",
          "2023-10-03T10:54:16",
          "2023-10-03T10:56:06",
          "2023-10-03T11:00:12",
          "2023-10-03T11:01:05",
          "2023-10-03T11:03:05",
          "2023-10-03T11:03:57",
          "2023-10-03T11:08:00",
          "2023-10-03T11:09:14",
          "2023-10-03T11:11:24",
          "2023-10-03T11:12:34",
          "2023-10-03T11:13:52",
          "2023-10-03T11:14:59",
          "2023-10-03T11:16:17",
          "2023-10-03T11:17:14",
          "2023-10-03T11:18:37",
          "2023-10-03T11:20:27",
          "2023-10-03T11:21:25",
          "2023-10-03T11:24:54",
          "2023-10-03T11:25:41",
          "2023-10-03T11:26:36",
          "2023-10-03T11:27:37",
          "2023-10-03T11:28:38",
          "2023-10-03T11:31:55",
          "2023-10-03T11:32:45",
          "2023-10-03T11:33:41",
          "2023-10-03T11:34:57",
          "2023-10-03T11:36:24",
          "2023-10-03T11:38:43",
          "2023-10-03T11:41:45",
          "2023-10-03T11:42:26",
          "2023-10-03T11:43:59",
          "2023-10-03T11:44:57",
          "2023-10-03T11:46:54",
          "2023-10-03T11:48:10",
          "2023-10-03T11:49:14",
          "2023-10-03T11:51:00",
          "2023-10-03T11:52:24",
          "2023-10-03T11:53:41",
          "2023-10-03T11:55:48",
          "2023-10-03T11:56:27",
          "2023-10-03T11:57:09",
          "2023-10-03T11:58:00",
          "2023-10-03T11:59:16",
          "2023-10-03T12:01:31",
          "2023-10-03T12:02:56",
          "2023-10-03T12:04:31",
          "2023-10-03T12:05:42",
          "2023-10-03T12:07:04",
          "2023-10-03T12:07:57",
          "2023-10-03T12:09:25",
          "2023-10-03T12:14:41",
          "2023-10-03T12:15:58",
          "2023-10-03T12:16:45",
          "2023-10-03T12:17:38",
          "2023-10-03T12:18:24",
          "2023-10-03T12:19:19",
          "2023-10-03T12:20:05",
          "2023-10-03T12:21:12",
          "2023-10-03T12:22:39",
          "2023-10-03T12:23:45",
          "2023-10-03T12:25:22",
          "2023-10-03T12:26:34",
          "2023-10-03T12:27:57",
          "2023-10-03T12:31:18",
          "2023-10-03T12:32:22",
          "2023-10-03T12:33:33",
          "2023-10-03T12:34:40",
          "2023-10-03T12:36:19",
          "2023-10-03T12:37:47",
          "2023-10-03T12:39:05",
          "2023-10-03T12:41:53",
          "2023-10-03T12:43:05",
          "2023-10-03T12:44:11",
          "2023-10-03T12:45:18",
          "2023-10-03T12:48:30",
          "2023-10-03T12:49:19",
          "2023-10-03T12:50:27",
          "2023-10-03T12:51:41",
          "2023-10-03T12:52:56",
          "2023-10-03T12:53:41",
          "2023-10-03T12:55:08",
          "2023-10-03T12:56:03",
          "2023-10-03T12:56:49",
          "2023-10-03T12:57:25",
          "2023-10-03T12:58:31",
          "2023-10-03T12:59:19",
          "2023-10-03T14:03:24",
          "2023-10-03T14:05:02",
          "2023-10-03T14:05:58",
          "2023-10-03T14:06:58",
          "2023-10-03T14:07:49",
          "2023-10-03T14:08:42",
          "2023-10-03T14:10:10",
          "2023-10-03T14:13:22",
          "2023-10-03T14:14:01",
          "2023-10-03T14:15:24",
          "2023-10-03T14:19:24",
          "2023-10-03T14:20:33",
          "2023-10-03T14:23:23",
          "2023-10-03T14:24:27",
          "2023-10-03T14:25:41",
          "2023-10-03T14:26:44",
          "2023-10-03T14:28:08",
          "2023-10-03T14:30:03",
          "2023-10-03T14:30:59",
          "2023-10-03T14:32:25",
          "2023-10-03T14:33:45",
          "2023-10-03T14:36:29",
          "2023-10-03T14:37:51",
          "2023-10-03T14:39:09",
          "2023-10-03T14:42:28",
          "2023-10-03T14:43:03",
          "2023-10-03T14:44:21",
          "2023-10-03T14:45:54",
          "2023-10-03T14:47:22",
          "2023-10-03T14:48:11",
          "2023-10-03T14:49:29",
          "2023-10-03T14:50:10",
          "2023-10-03T14:51:24",
          "2023-10-03T14:53:00",
          "2023-10-03T14:54:03",
          "2023-10-03T14:55:26",
          "2023-10-03T14:56:22",
          "2023-10-03T14:58:08",
          "2023-10-03T15:00:10",
          "2023-10-03T15:01:21",
          "2023-10-03T15:03:06",
          "2023-10-03T15:03:50",
          "2023-10-03T15:05:44",
          "2023-10-03T15:07:05",
          "2023-10-03T15:08:12",
          "2023-10-03T15:09:20",
          "2023-10-03T15:12:16",
          "2023-10-03T15:15:13",
          "2023-10-03T15:16:49",
          "2023-10-03T15:18:24",
          "2023-10-03T15:19:18",
          "2023-10-03T15:21:46",
          "2023-10-03T15:22:29",
          "2023-10-03T15:24:57",
          "2023-10-03T15:28:14",
          "2023-10-03T15:30:57",
          "2023-10-03T15:33:53",
          "2023-10-03T15:35:09",
          "2023-10-03T15:48:10",
          "2023-10-03T15:49:41",
          "2023-10-03T15:52:54",
          "2023-10-03T15:53:35",
          "2023-10-03T15:54:12",
          "2023-10-03T15:55:25",
          "2023-10-03T15:56:24",
          "2023-10-03T15:57:01",
          "2023-10-03T15:59:40",
          "2023-10-03T16:00:26",
          "2023-10-03T16:01:10",
          "2023-10-03T16:04:53",
          "2023-10-03T16:05:31",
          "2023-10-03T16:08:11",
          "2023-10-03T16:08:57",
          "2023-10-03T16:10:05",
          "2023-10-03T16:13:35",
          "2023-10-03T16:14:31",
          "2023-10-03T16:15:39",
          "2023-10-03T16:18:17",
          "2023-10-03T16:47:42",
          "2023-10-03T16:51:42",
          "2023-10-03T16:53:23",
          "2023-10-03T16:56:49",
          "2023-10-03T16:57:28",
          "2023-10-03T16:58:37",
          "2023-10-03T16:59:30",
          "2023-10-03T17:01:12",
          "2023-10-03T17:03:26",
          "2023-10-03T17:04:13",
          "2023-10-03T17:05:01",
          "2023-10-03T17:05:38",
          "2023-10-03T17:08:32",
          "2023-10-03T17:09:47",
          "2023-10-03T17:11:25",
          "2023-10-03T17:12:26",
          "2023-10-03T17:13:27",
          "2023-10-03T17:15:42",
          "2023-10-03T17:16:19",
          "2023-10-03T17:17:51",
          "2023-10-03T17:18:47",
          "2023-10-03T17:20:30",
          "2023-10-03T17:23:34",
          "2023-10-03T17:24:54",
          "2023-10-03T17:25:37",
          "2023-10-03T17:26:44",
          "2023-10-03T17:28:14",
          "2023-10-03T17:29:18",
          "2023-10-03T17:31:10",
          "2023-10-03T17:31:50",
          "2023-10-03T17:32:27",
          "2023-10-03T17:33:30",
          "2023-10-03T17:34:11",
          "2023-10-03T17:35:04",
          "2023-10-03T17:38:13",
          "2023-10-03T17:39:04",
          "2023-10-03T17:39:42",
          "2023-10-03T17:41:14",
          "2023-10-03T17:43:01",
          "2023-10-03T17:44:16",
          "2023-10-03T17:46:51",
          "2023-10-03T17:47:28",
          "2023-10-03T17:49:02",
          "2023-10-03T17:50:08",
          "2023-10-03T17:51:22",
          "2023-10-03T17:52:33",
          "2023-10-03T17:53:52",
          "2023-10-03T17:57:36",
          "2023-10-03T17:58:17"
         ],
         "xaxis": "x",
         "y": [
          1.07,
          1.4,
          1.68,
          1.68,
          1.88,
          0.7,
          0.68,
          1.23,
          1.27,
          1.6,
          0.95,
          1.17,
          0.7,
          1.53,
          1.32,
          1.63,
          1.2,
          1.48,
          1.9,
          1.27,
          3.42,
          0.65,
          0.67,
          1.43,
          0.72,
          1.43,
          1.67,
          1.47,
          1.9,
          1.58,
          2.05,
          0.93,
          0.87,
          1.48,
          2.2,
          0.95,
          1.37,
          1.6,
          1.38,
          1.53,
          0.9,
          1.4,
          1.98,
          1.18,
          1.6,
          1.37,
          1.28,
          1.42,
          1.13,
          1.93,
          1.1,
          1.68,
          0.77,
          1.58,
          1.2,
          1.2,
          1.32,
          2.55,
          0.7,
          1.45,
          1.02,
          0.67,
          18.28,
          1.67,
          0.78,
          2.85,
          1.07,
          1.83,
          2.65,
          0.88,
          2,
          0.87,
          4.05,
          1.23,
          2.17,
          1.17,
          1.3,
          1.12,
          1.3,
          0.95,
          1.38,
          1.83,
          0.97,
          3.48,
          0.78,
          0.92,
          1.02,
          1.02,
          3.28,
          0.83,
          0.93,
          1.27,
          1.45,
          2.32,
          1.62,
          0.68,
          1.55,
          0.97,
          1.95,
          1.27,
          1.07,
          1.77,
          1.4,
          1.28,
          2.12,
          0.65,
          0.7,
          0.85,
          1.27,
          2.25,
          1.42,
          1.58,
          1.18,
          1.37,
          0.88,
          1.47,
          1.97,
          1.28,
          0.78,
          0.88,
          0.77,
          0.92,
          0.77,
          1.12,
          1.45,
          1.1,
          1.62,
          1.2,
          1.38,
          0.72,
          1.07,
          1.18,
          1.12,
          1.65,
          1.47,
          1.3,
          0.95,
          1.2,
          1.1,
          1.12,
          1.33,
          0.82,
          1.13,
          1.23,
          1.25,
          0.75,
          1.45,
          0.92,
          0.77,
          0.6,
          1.1,
          0.8,
          2.12,
          1.63,
          0.93,
          1,
          0.85,
          0.88,
          1.47,
          2.17,
          0.65,
          1.38,
          1.42,
          1.15,
          1.93,
          1.07,
          1.23,
          1.05,
          1.4,
          1.92,
          0.93,
          1.43,
          1.33,
          1.07,
          1.37,
          1.3,
          3.32,
          0.58,
          1.3,
          1.55,
          1.47,
          0.82,
          1.3,
          0.68,
          1.23,
          1.6,
          1.05,
          1.38,
          0.93,
          1.77,
          1.38,
          1.18,
          1.75,
          0.73,
          1.9,
          1.35,
          1.12,
          1.13,
          1.63,
          1.38,
          1.6,
          1.58,
          0.9,
          2.47,
          0.72,
          1.4,
          0.93,
          0.9,
          2.93,
          1.27,
          0.68,
          1.52,
          3.22,
          0.68,
          0.62,
          1.22,
          0.98,
          0.62,
          1.05,
          0.77,
          0.73,
          0.62,
          0.63,
          1.17,
          0.77,
          1.13,
          0.87,
          0.93,
          1.13,
          0.68,
          29.42,
          4,
          1.68,
          3.43,
          0.65,
          1.15,
          0.88,
          1.7,
          2.23,
          0.78,
          0.8,
          0.62,
          0.87,
          1.25,
          1.63,
          1.02,
          1.02,
          2.25,
          0.62,
          1.53,
          0.93,
          1.72,
          1.48,
          1.33,
          0.72,
          1.12,
          1.5,
          1.07,
          1.87,
          0.67,
          0.62,
          1.05,
          0.68,
          0.88,
          0.77,
          0.85,
          0.63,
          1.53,
          1.78,
          1.25,
          2.58,
          0.62,
          1.57,
          1.1,
          1.23,
          1.18,
          1.32,
          2.55,
          0.68
         ],
         "yaxis": "y"
        },
        {
         "alignmentgroup": "True",
         "hovertemplate": "State=Scanned OK<br>Timestamp=%{x}<br>Time differences (minutes)=%{y}<extra></extra>",
         "legendgroup": "Scanned OK",
         "marker": {
          "color": "limegreen",
          "pattern": {
           "shape": ""
          }
         },
         "name": "Scanned OK",
         "offsetgroup": "Scanned OK",
         "orientation": "v",
         "showlegend": true,
         "textposition": "auto",
         "type": "bar",
         "x": [
          "2023-10-03T09:13:16",
          "2023-10-03T10:29:37",
          "2023-10-03T10:57:33",
          "2023-10-03T11:40:08",
          "2023-10-03T12:11:20",
          "2023-10-03T12:12:43",
          "2023-10-03T12:30:35",
          "2023-10-03T12:40:56",
          "2023-10-03T12:47:10",
          "2023-10-03T14:11:12",
          "2023-10-03T14:16:51",
          "2023-10-03T14:17:59",
          "2023-10-03T14:21:27",
          "2023-10-03T14:35:25",
          "2023-10-03T14:58:47",
          "2023-10-03T15:10:38",
          "2023-10-03T15:13:50",
          "2023-10-03T15:23:33",
          "2023-10-03T15:27:18",
          "2023-10-03T15:30:03",
          "2023-10-03T15:47:29",
          "2023-10-03T15:58:37",
          "2023-10-03T16:04:16",
          "2023-10-03T16:12:43",
          "2023-10-03T16:17:36",
          "2023-10-03T17:06:31",
          "2023-10-03T17:07:40",
          "2023-10-03T17:22:05",
          "2023-10-03T17:37:27",
          "2023-10-03T17:55:03"
         ],
         "xaxis": "x",
         "y": [
          1.82,
          1.6,
          1.45,
          1.42,
          1.92,
          1.38,
          2.63,
          1.85,
          1.87,
          1.03,
          1.45,
          1.13,
          0.9,
          1.67,
          0.65,
          1.3,
          1.57,
          1.07,
          2.35,
          1.82,
          12.33,
          1.6,
          2,
          2.63,
          1.95,
          0.88,
          1.15,
          1.58,
          2.38,
          1.18
         ],
         "yaxis": "y"
        },
        {
         "alignmentgroup": "True",
         "hovertemplate": "State=Scanned KO<br>Timestamp=%{x}<br>Time differences (minutes)=%{y}<extra></extra>",
         "legendgroup": "Scanned KO",
         "marker": {
          "color": "red",
          "pattern": {
           "shape": ""
          }
         },
         "name": "Scanned KO",
         "offsetgroup": "Scanned KO",
         "orientation": "v",
         "showlegend": true,
         "textposition": "auto",
         "type": "bar",
         "x": [
          "2023-10-03T16:02:16",
          "2023-10-03T16:07:01"
         ],
         "xaxis": "x",
         "y": [
          1.1,
          1.5
         ],
         "yaxis": "y"
        },
        {
         "mode": "lines",
         "name": "Average time",
         "type": "scatter",
         "x": [
          "2023-10-03T09:02:11",
          "2023-10-03T18:03:17"
         ],
         "y": [
          1.5279421221864953,
          1.5279421221864953
         ]
        }
       ],
       "layout": {
        "barmode": "relative",
        "font": {
         "size": 14
        },
        "height": 500,
        "legend": {
         "title": {
          "text": "State"
         },
         "tracegroupgap": 0,
         "x": 0.02,
         "xanchor": "left",
         "y": 0.96,
         "yanchor": "top"
        },
        "template": {
         "data": {
          "bar": [
           {
            "error_x": {
             "color": "#2a3f5f"
            },
            "error_y": {
             "color": "#2a3f5f"
            },
            "marker": {
             "line": {
              "color": "#E5ECF6",
              "width": 0.5
             },
             "pattern": {
              "fillmode": "overlay",
              "size": 10,
              "solidity": 0.2
             }
            },
            "type": "bar"
           }
          ],
          "barpolar": [
           {
            "marker": {
             "line": {
              "color": "#E5ECF6",
              "width": 0.5
             },
             "pattern": {
              "fillmode": "overlay",
              "size": 10,
              "solidity": 0.2
             }
            },
            "type": "barpolar"
           }
          ],
          "carpet": [
           {
            "aaxis": {
             "endlinecolor": "#2a3f5f",
             "gridcolor": "white",
             "linecolor": "white",
             "minorgridcolor": "white",
             "startlinecolor": "#2a3f5f"
            },
            "baxis": {
             "endlinecolor": "#2a3f5f",
             "gridcolor": "white",
             "linecolor": "white",
             "minorgridcolor": "white",
             "startlinecolor": "#2a3f5f"
            },
            "type": "carpet"
           }
          ],
          "choropleth": [
           {
            "colorbar": {
             "outlinewidth": 0,
             "ticks": ""
            },
            "type": "choropleth"
           }
          ],
          "contour": [
           {
            "colorbar": {
             "outlinewidth": 0,
             "ticks": ""
            },
            "colorscale": [
             [
              0,
              "#0d0887"
             ],
             [
              0.1111111111111111,
              "#46039f"
             ],
             [
              0.2222222222222222,
              "#7201a8"
             ],
             [
              0.3333333333333333,
              "#9c179e"
             ],
             [
              0.4444444444444444,
              "#bd3786"
             ],
             [
              0.5555555555555556,
              "#d8576b"
             ],
             [
              0.6666666666666666,
              "#ed7953"
             ],
             [
              0.7777777777777778,
              "#fb9f3a"
             ],
             [
              0.8888888888888888,
              "#fdca26"
             ],
             [
              1,
              "#f0f921"
             ]
            ],
            "type": "contour"
           }
          ],
          "contourcarpet": [
           {
            "colorbar": {
             "outlinewidth": 0,
             "ticks": ""
            },
            "type": "contourcarpet"
           }
          ],
          "heatmap": [
           {
            "colorbar": {
             "outlinewidth": 0,
             "ticks": ""
            },
            "colorscale": [
             [
              0,
              "#0d0887"
             ],
             [
              0.1111111111111111,
              "#46039f"
             ],
             [
              0.2222222222222222,
              "#7201a8"
             ],
             [
              0.3333333333333333,
              "#9c179e"
             ],
             [
              0.4444444444444444,
              "#bd3786"
             ],
             [
              0.5555555555555556,
              "#d8576b"
             ],
             [
              0.6666666666666666,
              "#ed7953"
             ],
             [
              0.7777777777777778,
              "#fb9f3a"
             ],
             [
              0.8888888888888888,
              "#fdca26"
             ],
             [
              1,
              "#f0f921"
             ]
            ],
            "type": "heatmap"
           }
          ],
          "heatmapgl": [
           {
            "colorbar": {
             "outlinewidth": 0,
             "ticks": ""
            },
            "colorscale": [
             [
              0,
              "#0d0887"
             ],
             [
              0.1111111111111111,
              "#46039f"
             ],
             [
              0.2222222222222222,
              "#7201a8"
             ],
             [
              0.3333333333333333,
              "#9c179e"
             ],
             [
              0.4444444444444444,
              "#bd3786"
             ],
             [
              0.5555555555555556,
              "#d8576b"
             ],
             [
              0.6666666666666666,
              "#ed7953"
             ],
             [
              0.7777777777777778,
              "#fb9f3a"
             ],
             [
              0.8888888888888888,
              "#fdca26"
             ],
             [
              1,
              "#f0f921"
             ]
            ],
            "type": "heatmapgl"
           }
          ],
          "histogram": [
           {
            "marker": {
             "pattern": {
              "fillmode": "overlay",
              "size": 10,
              "solidity": 0.2
             }
            },
            "type": "histogram"
           }
          ],
          "histogram2d": [
           {
            "colorbar": {
             "outlinewidth": 0,
             "ticks": ""
            },
            "colorscale": [
             [
              0,
              "#0d0887"
             ],
             [
              0.1111111111111111,
              "#46039f"
             ],
             [
              0.2222222222222222,
              "#7201a8"
             ],
             [
              0.3333333333333333,
              "#9c179e"
             ],
             [
              0.4444444444444444,
              "#bd3786"
             ],
             [
              0.5555555555555556,
              "#d8576b"
             ],
             [
              0.6666666666666666,
              "#ed7953"
             ],
             [
              0.7777777777777778,
              "#fb9f3a"
             ],
             [
              0.8888888888888888,
              "#fdca26"
             ],
             [
              1,
              "#f0f921"
             ]
            ],
            "type": "histogram2d"
           }
          ],
          "histogram2dcontour": [
           {
            "colorbar": {
             "outlinewidth": 0,
             "ticks": ""
            },
            "colorscale": [
             [
              0,
              "#0d0887"
             ],
             [
              0.1111111111111111,
              "#46039f"
             ],
             [
              0.2222222222222222,
              "#7201a8"
             ],
             [
              0.3333333333333333,
              "#9c179e"
             ],
             [
              0.4444444444444444,
              "#bd3786"
             ],
             [
              0.5555555555555556,
              "#d8576b"
             ],
             [
              0.6666666666666666,
              "#ed7953"
             ],
             [
              0.7777777777777778,
              "#fb9f3a"
             ],
             [
              0.8888888888888888,
              "#fdca26"
             ],
             [
              1,
              "#f0f921"
             ]
            ],
            "type": "histogram2dcontour"
           }
          ],
          "mesh3d": [
           {
            "colorbar": {
             "outlinewidth": 0,
             "ticks": ""
            },
            "type": "mesh3d"
           }
          ],
          "parcoords": [
           {
            "line": {
             "colorbar": {
              "outlinewidth": 0,
              "ticks": ""
             }
            },
            "type": "parcoords"
           }
          ],
          "pie": [
           {
            "automargin": true,
            "type": "pie"
           }
          ],
          "scatter": [
           {
            "fillpattern": {
             "fillmode": "overlay",
             "size": 10,
             "solidity": 0.2
            },
            "type": "scatter"
           }
          ],
          "scatter3d": [
           {
            "line": {
             "colorbar": {
              "outlinewidth": 0,
              "ticks": ""
             }
            },
            "marker": {
             "colorbar": {
              "outlinewidth": 0,
              "ticks": ""
             }
            },
            "type": "scatter3d"
           }
          ],
          "scattercarpet": [
           {
            "marker": {
             "colorbar": {
              "outlinewidth": 0,
              "ticks": ""
             }
            },
            "type": "scattercarpet"
           }
          ],
          "scattergeo": [
           {
            "marker": {
             "colorbar": {
              "outlinewidth": 0,
              "ticks": ""
             }
            },
            "type": "scattergeo"
           }
          ],
          "scattergl": [
           {
            "marker": {
             "colorbar": {
              "outlinewidth": 0,
              "ticks": ""
             }
            },
            "type": "scattergl"
           }
          ],
          "scattermapbox": [
           {
            "marker": {
             "colorbar": {
              "outlinewidth": 0,
              "ticks": ""
             }
            },
            "type": "scattermapbox"
           }
          ],
          "scatterpolar": [
           {
            "marker": {
             "colorbar": {
              "outlinewidth": 0,
              "ticks": ""
             }
            },
            "type": "scatterpolar"
           }
          ],
          "scatterpolargl": [
           {
            "marker": {
             "colorbar": {
              "outlinewidth": 0,
              "ticks": ""
             }
            },
            "type": "scatterpolargl"
           }
          ],
          "scatterternary": [
           {
            "marker": {
             "colorbar": {
              "outlinewidth": 0,
              "ticks": ""
             }
            },
            "type": "scatterternary"
           }
          ],
          "surface": [
           {
            "colorbar": {
             "outlinewidth": 0,
             "ticks": ""
            },
            "colorscale": [
             [
              0,
              "#0d0887"
             ],
             [
              0.1111111111111111,
              "#46039f"
             ],
             [
              0.2222222222222222,
              "#7201a8"
             ],
             [
              0.3333333333333333,
              "#9c179e"
             ],
             [
              0.4444444444444444,
              "#bd3786"
             ],
             [
              0.5555555555555556,
              "#d8576b"
             ],
             [
              0.6666666666666666,
              "#ed7953"
             ],
             [
              0.7777777777777778,
              "#fb9f3a"
             ],
             [
              0.8888888888888888,
              "#fdca26"
             ],
             [
              1,
              "#f0f921"
             ]
            ],
            "type": "surface"
           }
          ],
          "table": [
           {
            "cells": {
             "fill": {
              "color": "#EBF0F8"
             },
             "line": {
              "color": "white"
             }
            },
            "header": {
             "fill": {
              "color": "#C8D4E3"
             },
             "line": {
              "color": "white"
             }
            },
            "type": "table"
           }
          ]
         },
         "layout": {
          "annotationdefaults": {
           "arrowcolor": "#2a3f5f",
           "arrowhead": 0,
           "arrowwidth": 1
          },
          "autotypenumbers": "strict",
          "coloraxis": {
           "colorbar": {
            "outlinewidth": 0,
            "ticks": ""
           }
          },
          "colorscale": {
           "diverging": [
            [
             0,
             "#8e0152"
            ],
            [
             0.1,
             "#c51b7d"
            ],
            [
             0.2,
             "#de77ae"
            ],
            [
             0.3,
             "#f1b6da"
            ],
            [
             0.4,
             "#fde0ef"
            ],
            [
             0.5,
             "#f7f7f7"
            ],
            [
             0.6,
             "#e6f5d0"
            ],
            [
             0.7,
             "#b8e186"
            ],
            [
             0.8,
             "#7fbc41"
            ],
            [
             0.9,
             "#4d9221"
            ],
            [
             1,
             "#276419"
            ]
           ],
           "sequential": [
            [
             0,
             "#0d0887"
            ],
            [
             0.1111111111111111,
             "#46039f"
            ],
            [
             0.2222222222222222,
             "#7201a8"
            ],
            [
             0.3333333333333333,
             "#9c179e"
            ],
            [
             0.4444444444444444,
             "#bd3786"
            ],
            [
             0.5555555555555556,
             "#d8576b"
            ],
            [
             0.6666666666666666,
             "#ed7953"
            ],
            [
             0.7777777777777778,
             "#fb9f3a"
            ],
            [
             0.8888888888888888,
             "#fdca26"
            ],
            [
             1,
             "#f0f921"
            ]
           ],
           "sequentialminus": [
            [
             0,
             "#0d0887"
            ],
            [
             0.1111111111111111,
             "#46039f"
            ],
            [
             0.2222222222222222,
             "#7201a8"
            ],
            [
             0.3333333333333333,
             "#9c179e"
            ],
            [
             0.4444444444444444,
             "#bd3786"
            ],
            [
             0.5555555555555556,
             "#d8576b"
            ],
            [
             0.6666666666666666,
             "#ed7953"
            ],
            [
             0.7777777777777778,
             "#fb9f3a"
            ],
            [
             0.8888888888888888,
             "#fdca26"
            ],
            [
             1,
             "#f0f921"
            ]
           ]
          },
          "colorway": [
           "#636efa",
           "#EF553B",
           "#00cc96",
           "#ab63fa",
           "#FFA15A",
           "#19d3f3",
           "#FF6692",
           "#B6E880",
           "#FF97FF",
           "#FECB52"
          ],
          "font": {
           "color": "#2a3f5f"
          },
          "geo": {
           "bgcolor": "white",
           "lakecolor": "white",
           "landcolor": "#E5ECF6",
           "showlakes": true,
           "showland": true,
           "subunitcolor": "white"
          },
          "hoverlabel": {
           "align": "left"
          },
          "hovermode": "closest",
          "mapbox": {
           "style": "light"
          },
          "paper_bgcolor": "white",
          "plot_bgcolor": "#E5ECF6",
          "polar": {
           "angularaxis": {
            "gridcolor": "white",
            "linecolor": "white",
            "ticks": ""
           },
           "bgcolor": "#E5ECF6",
           "radialaxis": {
            "gridcolor": "white",
            "linecolor": "white",
            "ticks": ""
           }
          },
          "scene": {
           "xaxis": {
            "backgroundcolor": "#E5ECF6",
            "gridcolor": "white",
            "gridwidth": 2,
            "linecolor": "white",
            "showbackground": true,
            "ticks": "",
            "zerolinecolor": "white"
           },
           "yaxis": {
            "backgroundcolor": "#E5ECF6",
            "gridcolor": "white",
            "gridwidth": 2,
            "linecolor": "white",
            "showbackground": true,
            "ticks": "",
            "zerolinecolor": "white"
           },
           "zaxis": {
            "backgroundcolor": "#E5ECF6",
            "gridcolor": "white",
            "gridwidth": 2,
            "linecolor": "white",
            "showbackground": true,
            "ticks": "",
            "zerolinecolor": "white"
           }
          },
          "shapedefaults": {
           "line": {
            "color": "#2a3f5f"
           }
          },
          "ternary": {
           "aaxis": {
            "gridcolor": "white",
            "linecolor": "white",
            "ticks": ""
           },
           "baxis": {
            "gridcolor": "white",
            "linecolor": "white",
            "ticks": ""
           },
           "bgcolor": "#E5ECF6",
           "caxis": {
            "gridcolor": "white",
            "linecolor": "white",
            "ticks": ""
           }
          },
          "title": {
           "x": 0.05
          },
          "xaxis": {
           "automargin": true,
           "gridcolor": "white",
           "linecolor": "white",
           "ticks": "",
           "title": {
            "standoff": 15
           },
           "zerolinecolor": "white",
           "zerolinewidth": 2
          },
          "yaxis": {
           "automargin": true,
           "gridcolor": "white",
           "linecolor": "white",
           "ticks": "",
           "title": {
            "standoff": 15
           },
           "zerolinecolor": "white",
           "zerolinewidth": 2
          }
         }
        },
        "title": {
         "text": "Products scanned in all nodes"
        },
        "width": 1050,
        "xaxis": {
         "anchor": "y",
         "domain": [
          0,
          1
         ],
         "range": [
          "2023-10-03T15:00:00",
          "2023-10-03T16:20:00"
         ],
         "showgrid": true,
         "title": {
          "text": "Timestamp"
         }
        },
        "yaxis": {
         "anchor": "x",
         "domain": [
          0,
          1
         ],
         "range": [
          0,
          12.5
         ],
         "title": {
          "text": "Time differences (minutes)"
         }
        }
       }
      }
     },
     "metadata": {},
     "output_type": "display_data"
    }
   ],
   "source": [
    "plot_ok_ko_factory(df4)"
   ]
  }
 ],
 "metadata": {
  "kernelspec": {
   "display_name": "base",
   "language": "python",
   "name": "python3"
  },
  "language_info": {
   "codemirror_mode": {
    "name": "ipython",
    "version": 3
   },
   "file_extension": ".py",
   "mimetype": "text/x-python",
   "name": "python",
   "nbconvert_exporter": "python",
   "pygments_lexer": "ipython3",
   "version": "3.11.4"
  },
  "orig_nbformat": 4
 },
 "nbformat": 4,
 "nbformat_minor": 2
}
