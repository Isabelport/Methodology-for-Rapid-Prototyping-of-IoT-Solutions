{
 "cells": [
  {
   "cell_type": "code",
   "execution_count": 1,
   "metadata": {},
   "outputs": [],
   "source": [
    "import plotly.express as px\n",
    "import os\n",
    "import pandas as pd\n",
    "import numpy as np\n",
    "import plotly.graph_objects as go\n",
    "import altair as alt\n",
    "#alt.data_transformers.enable(\"vegafusion\")\n",
    "import math\n",
    "\n",
    "\n",
    "#import csv\n",
    "pd.set_option('display.max_rows', None)  # Display all rows"
   ]
  },
  {
   "cell_type": "code",
   "execution_count": 2,
   "metadata": {},
   "outputs": [],
   "source": [
    "day = \"24\"\n",
    "month = \"08\"\n",
    "dataset = \"ble\"\n",
    "\n",
    "base = -1\n",
    "base_person = -1\n",
    "\n",
    "date = day + \"_\" + month #change date accordingly\n",
    "date_year = \"2023-\" + month + \"-\" + day\n",
    "if date == \"11_10\":\n",
    "    base = 1\n",
    "elif date == \"13_10\":\n",
    "    base = 2\n",
    "elif date == \"24_08\":\n",
    "    base = 0\n",
    "    base_person = 1\n",
    "else:\n",
    "    base = 0\n",
    "\n",
    "if base == 1 or base ==2:\n",
    "    folder_path = dataset + '_base/'\n",
    "elif base_person:\n",
    "    folder_path = dataset + '_base_person/'\n",
    "else:\n",
    "    folder_path = dataset +'_'+ date + '/'\n",
    "\n",
    "def process_file(file_number, date):\n",
    "    file_path = os.path.join(folder_path, f'{dataset}_{date}_{file_number}.csv')\n",
    "\n",
    "    df = pd.read_csv(file_path, parse_dates=['ts'])\n",
    "\n",
    "    # Remove first empty column if it exists\n",
    "    if df.shape[1] == 4:\n",
    "\n",
    "        df = df.drop(df.columns[0], axis=1)\n",
    "    # Remove entries with 'gabarit' equal to 1 or 2\n",
    "    df_filt = df[(df['id'] == 2) | (df['id'] == 1)]\n",
    "\n",
    "    # Write the updated DataFrame back to the CSV file\n",
    "    df.to_csv(file_path, index = False)\n",
    "    # Reset the index of the DataFrame\n",
    "    df_filt = df_filt.reset_index(drop = True)\n",
    "\n",
    "    return df_filt\n",
    "\n",
    "df1 = process_file(2,date)\n",
    "df2 = process_file(1,date)\n",
    "df3 = process_file(3,date)\n"
   ]
  },
  {
   "cell_type": "code",
   "execution_count": 3,
   "metadata": {},
   "outputs": [
    {
     "name": "stderr",
     "output_type": "stream",
     "text": [
      "c:\\Users\\isacc\\miniconda3\\Lib\\site-packages\\_plotly_utils\\basevalidators.py:105: FutureWarning: The behavior of DatetimeProperties.to_pydatetime is deprecated, in a future version this will return a Series containing python datetime objects instead of an ndarray. To retain the old behavior, call `np.array` on the result\n",
      "  v = v.dt.to_pydatetime()\n"
     ]
    },
    {
     "data": {
      "application/vnd.plotly.v1+json": {
       "config": {
        "plotlyServerURL": "https://plot.ly"
       },
       "data": [
        {
         "hovertemplate": "id=1<br>ts=%{x}<br>rssi=%{y}<extra></extra>",
         "legendgroup": "1",
         "line": {
          "color": "#00cc96",
          "dash": "solid"
         },
         "marker": {
          "symbol": "circle"
         },
         "mode": "lines",
         "name": "1",
         "orientation": "v",
         "showlegend": true,
         "type": "scatter",
         "x": [
          "2023-08-24T17:49:02",
          "2023-08-24T17:49:07",
          "2023-08-24T17:49:31",
          "2023-08-24T17:49:37",
          "2023-08-24T17:50:01",
          "2023-08-24T17:51:09",
          "2023-08-24T17:57:26",
          "2023-08-24T17:57:32",
          "2023-08-24T17:57:38",
          "2023-08-24T18:02:02",
          "2023-08-24T18:02:08",
          "2023-08-24T18:04:51",
          "2023-08-24T18:05:27",
          "2023-08-24T18:05:33",
          "2023-08-24T18:06:03",
          "2023-08-24T18:06:27",
          "2023-08-24T18:06:57",
          "2023-08-24T18:07:09",
          "2023-08-24T18:07:15",
          "2023-08-24T18:07:27",
          "2023-08-24T18:07:33",
          "2023-08-24T18:08:09"
         ],
         "xaxis": "x",
         "y": [
          0,
          -58,
          -39,
          -32,
          -41,
          -39,
          -70,
          -59,
          -71,
          -79,
          -67,
          -73,
          -65,
          -73,
          -67,
          -56,
          -62,
          -56,
          -62,
          -55,
          -62,
          -100
         ],
         "yaxis": "y"
        },
        {
         "hovertemplate": "id=2<br>ts=%{x}<br>rssi=%{y}<extra></extra>",
         "legendgroup": "2",
         "line": {
          "color": "#ab63fa",
          "dash": "solid"
         },
         "marker": {
          "symbol": "circle"
         },
         "mode": "lines",
         "name": "2",
         "orientation": "v",
         "showlegend": true,
         "type": "scatter",
         "x": [
          "2023-08-24T17:49:07",
          "2023-08-24T17:49:19",
          "2023-08-24T17:50:13",
          "2023-08-24T17:50:19",
          "2023-08-24T17:50:42",
          "2023-08-24T17:51:01",
          "2023-08-24T17:51:17",
          "2023-08-24T17:56:45",
          "2023-08-24T17:56:50",
          "2023-08-24T17:57:02",
          "2023-08-24T17:57:32",
          "2023-08-24T17:57:38",
          "2023-08-24T17:57:44",
          "2023-08-24T17:57:50",
          "2023-08-24T17:58:02",
          "2023-08-24T17:58:44",
          "2023-08-24T17:58:50",
          "2023-08-24T17:59:02",
          "2023-08-24T17:59:20",
          "2023-08-24T17:59:38",
          "2023-08-24T17:59:44",
          "2023-08-24T17:59:56",
          "2023-08-24T18:00:08",
          "2023-08-24T18:00:38",
          "2023-08-24T18:00:44",
          "2023-08-24T18:01:20",
          "2023-08-24T18:01:26",
          "2023-08-24T18:01:38",
          "2023-08-24T18:01:50",
          "2023-08-24T18:02:08",
          "2023-08-24T18:02:44",
          "2023-08-24T18:03:09",
          "2023-08-24T18:03:15",
          "2023-08-24T18:03:33",
          "2023-08-24T18:03:39",
          "2023-08-24T18:04:45",
          "2023-08-24T18:05:09",
          "2023-08-24T18:05:27",
          "2023-08-24T18:06:15",
          "2023-08-24T18:06:27",
          "2023-08-24T18:06:33",
          "2023-08-24T18:06:57",
          "2023-08-24T18:07:03",
          "2023-08-24T18:07:09",
          "2023-08-24T18:07:51",
          "2023-08-24T18:07:57",
          "2023-08-24T18:08:15",
          "2023-08-24T18:08:21",
          "2023-08-24T18:08:27",
          "2023-08-24T18:08:33",
          "2023-08-24T18:08:45",
          "2023-08-24T18:09:51",
          "2023-08-24T18:09:57"
         ],
         "xaxis": "x",
         "y": [
          -62,
          -55,
          -26,
          -33,
          -26,
          -35,
          -26,
          -100,
          -61,
          -69,
          -76,
          -68,
          -61,
          -53,
          -61,
          -51,
          -58,
          -65,
          -48,
          -66,
          -60,
          -53,
          -61,
          -67,
          -73,
          -63,
          -69,
          -63,
          -100,
          -67,
          -75,
          -66,
          -72,
          -65,
          -73,
          -63,
          -74,
          -68,
          -80,
          -74,
          -66,
          -72,
          -80,
          -72,
          -80,
          -74,
          -61,
          -78,
          -72,
          -63,
          -69,
          -78,
          -71
         ],
         "yaxis": "y"
        }
       ],
       "layout": {
        "legend": {
         "title": {
          "text": "ID"
         },
         "tracegroupgap": 0
        },
        "template": {
         "data": {
          "bar": [
           {
            "error_x": {
             "color": "#2a3f5f"
            },
            "error_y": {
             "color": "#2a3f5f"
            },
            "marker": {
             "line": {
              "color": "#E5ECF6",
              "width": 0.5
             },
             "pattern": {
              "fillmode": "overlay",
              "size": 10,
              "solidity": 0.2
             }
            },
            "type": "bar"
           }
          ],
          "barpolar": [
           {
            "marker": {
             "line": {
              "color": "#E5ECF6",
              "width": 0.5
             },
             "pattern": {
              "fillmode": "overlay",
              "size": 10,
              "solidity": 0.2
             }
            },
            "type": "barpolar"
           }
          ],
          "carpet": [
           {
            "aaxis": {
             "endlinecolor": "#2a3f5f",
             "gridcolor": "white",
             "linecolor": "white",
             "minorgridcolor": "white",
             "startlinecolor": "#2a3f5f"
            },
            "baxis": {
             "endlinecolor": "#2a3f5f",
             "gridcolor": "white",
             "linecolor": "white",
             "minorgridcolor": "white",
             "startlinecolor": "#2a3f5f"
            },
            "type": "carpet"
           }
          ],
          "choropleth": [
           {
            "colorbar": {
             "outlinewidth": 0,
             "ticks": ""
            },
            "type": "choropleth"
           }
          ],
          "contour": [
           {
            "colorbar": {
             "outlinewidth": 0,
             "ticks": ""
            },
            "colorscale": [
             [
              0,
              "#0d0887"
             ],
             [
              0.1111111111111111,
              "#46039f"
             ],
             [
              0.2222222222222222,
              "#7201a8"
             ],
             [
              0.3333333333333333,
              "#9c179e"
             ],
             [
              0.4444444444444444,
              "#bd3786"
             ],
             [
              0.5555555555555556,
              "#d8576b"
             ],
             [
              0.6666666666666666,
              "#ed7953"
             ],
             [
              0.7777777777777778,
              "#fb9f3a"
             ],
             [
              0.8888888888888888,
              "#fdca26"
             ],
             [
              1,
              "#f0f921"
             ]
            ],
            "type": "contour"
           }
          ],
          "contourcarpet": [
           {
            "colorbar": {
             "outlinewidth": 0,
             "ticks": ""
            },
            "type": "contourcarpet"
           }
          ],
          "heatmap": [
           {
            "colorbar": {
             "outlinewidth": 0,
             "ticks": ""
            },
            "colorscale": [
             [
              0,
              "#0d0887"
             ],
             [
              0.1111111111111111,
              "#46039f"
             ],
             [
              0.2222222222222222,
              "#7201a8"
             ],
             [
              0.3333333333333333,
              "#9c179e"
             ],
             [
              0.4444444444444444,
              "#bd3786"
             ],
             [
              0.5555555555555556,
              "#d8576b"
             ],
             [
              0.6666666666666666,
              "#ed7953"
             ],
             [
              0.7777777777777778,
              "#fb9f3a"
             ],
             [
              0.8888888888888888,
              "#fdca26"
             ],
             [
              1,
              "#f0f921"
             ]
            ],
            "type": "heatmap"
           }
          ],
          "heatmapgl": [
           {
            "colorbar": {
             "outlinewidth": 0,
             "ticks": ""
            },
            "colorscale": [
             [
              0,
              "#0d0887"
             ],
             [
              0.1111111111111111,
              "#46039f"
             ],
             [
              0.2222222222222222,
              "#7201a8"
             ],
             [
              0.3333333333333333,
              "#9c179e"
             ],
             [
              0.4444444444444444,
              "#bd3786"
             ],
             [
              0.5555555555555556,
              "#d8576b"
             ],
             [
              0.6666666666666666,
              "#ed7953"
             ],
             [
              0.7777777777777778,
              "#fb9f3a"
             ],
             [
              0.8888888888888888,
              "#fdca26"
             ],
             [
              1,
              "#f0f921"
             ]
            ],
            "type": "heatmapgl"
           }
          ],
          "histogram": [
           {
            "marker": {
             "pattern": {
              "fillmode": "overlay",
              "size": 10,
              "solidity": 0.2
             }
            },
            "type": "histogram"
           }
          ],
          "histogram2d": [
           {
            "colorbar": {
             "outlinewidth": 0,
             "ticks": ""
            },
            "colorscale": [
             [
              0,
              "#0d0887"
             ],
             [
              0.1111111111111111,
              "#46039f"
             ],
             [
              0.2222222222222222,
              "#7201a8"
             ],
             [
              0.3333333333333333,
              "#9c179e"
             ],
             [
              0.4444444444444444,
              "#bd3786"
             ],
             [
              0.5555555555555556,
              "#d8576b"
             ],
             [
              0.6666666666666666,
              "#ed7953"
             ],
             [
              0.7777777777777778,
              "#fb9f3a"
             ],
             [
              0.8888888888888888,
              "#fdca26"
             ],
             [
              1,
              "#f0f921"
             ]
            ],
            "type": "histogram2d"
           }
          ],
          "histogram2dcontour": [
           {
            "colorbar": {
             "outlinewidth": 0,
             "ticks": ""
            },
            "colorscale": [
             [
              0,
              "#0d0887"
             ],
             [
              0.1111111111111111,
              "#46039f"
             ],
             [
              0.2222222222222222,
              "#7201a8"
             ],
             [
              0.3333333333333333,
              "#9c179e"
             ],
             [
              0.4444444444444444,
              "#bd3786"
             ],
             [
              0.5555555555555556,
              "#d8576b"
             ],
             [
              0.6666666666666666,
              "#ed7953"
             ],
             [
              0.7777777777777778,
              "#fb9f3a"
             ],
             [
              0.8888888888888888,
              "#fdca26"
             ],
             [
              1,
              "#f0f921"
             ]
            ],
            "type": "histogram2dcontour"
           }
          ],
          "mesh3d": [
           {
            "colorbar": {
             "outlinewidth": 0,
             "ticks": ""
            },
            "type": "mesh3d"
           }
          ],
          "parcoords": [
           {
            "line": {
             "colorbar": {
              "outlinewidth": 0,
              "ticks": ""
             }
            },
            "type": "parcoords"
           }
          ],
          "pie": [
           {
            "automargin": true,
            "type": "pie"
           }
          ],
          "scatter": [
           {
            "fillpattern": {
             "fillmode": "overlay",
             "size": 10,
             "solidity": 0.2
            },
            "type": "scatter"
           }
          ],
          "scatter3d": [
           {
            "line": {
             "colorbar": {
              "outlinewidth": 0,
              "ticks": ""
             }
            },
            "marker": {
             "colorbar": {
              "outlinewidth": 0,
              "ticks": ""
             }
            },
            "type": "scatter3d"
           }
          ],
          "scattercarpet": [
           {
            "marker": {
             "colorbar": {
              "outlinewidth": 0,
              "ticks": ""
             }
            },
            "type": "scattercarpet"
           }
          ],
          "scattergeo": [
           {
            "marker": {
             "colorbar": {
              "outlinewidth": 0,
              "ticks": ""
             }
            },
            "type": "scattergeo"
           }
          ],
          "scattergl": [
           {
            "marker": {
             "colorbar": {
              "outlinewidth": 0,
              "ticks": ""
             }
            },
            "type": "scattergl"
           }
          ],
          "scattermapbox": [
           {
            "marker": {
             "colorbar": {
              "outlinewidth": 0,
              "ticks": ""
             }
            },
            "type": "scattermapbox"
           }
          ],
          "scatterpolar": [
           {
            "marker": {
             "colorbar": {
              "outlinewidth": 0,
              "ticks": ""
             }
            },
            "type": "scatterpolar"
           }
          ],
          "scatterpolargl": [
           {
            "marker": {
             "colorbar": {
              "outlinewidth": 0,
              "ticks": ""
             }
            },
            "type": "scatterpolargl"
           }
          ],
          "scatterternary": [
           {
            "marker": {
             "colorbar": {
              "outlinewidth": 0,
              "ticks": ""
             }
            },
            "type": "scatterternary"
           }
          ],
          "surface": [
           {
            "colorbar": {
             "outlinewidth": 0,
             "ticks": ""
            },
            "colorscale": [
             [
              0,
              "#0d0887"
             ],
             [
              0.1111111111111111,
              "#46039f"
             ],
             [
              0.2222222222222222,
              "#7201a8"
             ],
             [
              0.3333333333333333,
              "#9c179e"
             ],
             [
              0.4444444444444444,
              "#bd3786"
             ],
             [
              0.5555555555555556,
              "#d8576b"
             ],
             [
              0.6666666666666666,
              "#ed7953"
             ],
             [
              0.7777777777777778,
              "#fb9f3a"
             ],
             [
              0.8888888888888888,
              "#fdca26"
             ],
             [
              1,
              "#f0f921"
             ]
            ],
            "type": "surface"
           }
          ],
          "table": [
           {
            "cells": {
             "fill": {
              "color": "#EBF0F8"
             },
             "line": {
              "color": "white"
             }
            },
            "header": {
             "fill": {
              "color": "#C8D4E3"
             },
             "line": {
              "color": "white"
             }
            },
            "type": "table"
           }
          ]
         },
         "layout": {
          "annotationdefaults": {
           "arrowcolor": "#2a3f5f",
           "arrowhead": 0,
           "arrowwidth": 1
          },
          "autotypenumbers": "strict",
          "coloraxis": {
           "colorbar": {
            "outlinewidth": 0,
            "ticks": ""
           }
          },
          "colorscale": {
           "diverging": [
            [
             0,
             "#8e0152"
            ],
            [
             0.1,
             "#c51b7d"
            ],
            [
             0.2,
             "#de77ae"
            ],
            [
             0.3,
             "#f1b6da"
            ],
            [
             0.4,
             "#fde0ef"
            ],
            [
             0.5,
             "#f7f7f7"
            ],
            [
             0.6,
             "#e6f5d0"
            ],
            [
             0.7,
             "#b8e186"
            ],
            [
             0.8,
             "#7fbc41"
            ],
            [
             0.9,
             "#4d9221"
            ],
            [
             1,
             "#276419"
            ]
           ],
           "sequential": [
            [
             0,
             "#0d0887"
            ],
            [
             0.1111111111111111,
             "#46039f"
            ],
            [
             0.2222222222222222,
             "#7201a8"
            ],
            [
             0.3333333333333333,
             "#9c179e"
            ],
            [
             0.4444444444444444,
             "#bd3786"
            ],
            [
             0.5555555555555556,
             "#d8576b"
            ],
            [
             0.6666666666666666,
             "#ed7953"
            ],
            [
             0.7777777777777778,
             "#fb9f3a"
            ],
            [
             0.8888888888888888,
             "#fdca26"
            ],
            [
             1,
             "#f0f921"
            ]
           ],
           "sequentialminus": [
            [
             0,
             "#0d0887"
            ],
            [
             0.1111111111111111,
             "#46039f"
            ],
            [
             0.2222222222222222,
             "#7201a8"
            ],
            [
             0.3333333333333333,
             "#9c179e"
            ],
            [
             0.4444444444444444,
             "#bd3786"
            ],
            [
             0.5555555555555556,
             "#d8576b"
            ],
            [
             0.6666666666666666,
             "#ed7953"
            ],
            [
             0.7777777777777778,
             "#fb9f3a"
            ],
            [
             0.8888888888888888,
             "#fdca26"
            ],
            [
             1,
             "#f0f921"
            ]
           ]
          },
          "colorway": [
           "#636efa",
           "#EF553B",
           "#00cc96",
           "#ab63fa",
           "#FFA15A",
           "#19d3f3",
           "#FF6692",
           "#B6E880",
           "#FF97FF",
           "#FECB52"
          ],
          "font": {
           "color": "#2a3f5f"
          },
          "geo": {
           "bgcolor": "white",
           "lakecolor": "white",
           "landcolor": "#E5ECF6",
           "showlakes": true,
           "showland": true,
           "subunitcolor": "white"
          },
          "hoverlabel": {
           "align": "left"
          },
          "hovermode": "closest",
          "mapbox": {
           "style": "light"
          },
          "paper_bgcolor": "white",
          "plot_bgcolor": "#E5ECF6",
          "polar": {
           "angularaxis": {
            "gridcolor": "white",
            "linecolor": "white",
            "ticks": ""
           },
           "bgcolor": "#E5ECF6",
           "radialaxis": {
            "gridcolor": "white",
            "linecolor": "white",
            "ticks": ""
           }
          },
          "scene": {
           "xaxis": {
            "backgroundcolor": "#E5ECF6",
            "gridcolor": "white",
            "gridwidth": 2,
            "linecolor": "white",
            "showbackground": true,
            "ticks": "",
            "zerolinecolor": "white"
           },
           "yaxis": {
            "backgroundcolor": "#E5ECF6",
            "gridcolor": "white",
            "gridwidth": 2,
            "linecolor": "white",
            "showbackground": true,
            "ticks": "",
            "zerolinecolor": "white"
           },
           "zaxis": {
            "backgroundcolor": "#E5ECF6",
            "gridcolor": "white",
            "gridwidth": 2,
            "linecolor": "white",
            "showbackground": true,
            "ticks": "",
            "zerolinecolor": "white"
           }
          },
          "shapedefaults": {
           "line": {
            "color": "#2a3f5f"
           }
          },
          "ternary": {
           "aaxis": {
            "gridcolor": "white",
            "linecolor": "white",
            "ticks": ""
           },
           "baxis": {
            "gridcolor": "white",
            "linecolor": "white",
            "ticks": ""
           },
           "bgcolor": "#E5ECF6",
           "caxis": {
            "gridcolor": "white",
            "linecolor": "white",
            "ticks": ""
           }
          },
          "title": {
           "x": 0.05
          },
          "xaxis": {
           "automargin": true,
           "gridcolor": "white",
           "linecolor": "white",
           "ticks": "",
           "title": {
            "standoff": 15
           },
           "zerolinecolor": "white",
           "zerolinewidth": 2
          },
          "yaxis": {
           "automargin": true,
           "gridcolor": "white",
           "linecolor": "white",
           "ticks": "",
           "title": {
            "standoff": 15
           },
           "zerolinecolor": "white",
           "zerolinewidth": 2
          }
         }
        },
        "title": {
         "text": "Line Graph for Station 1"
        },
        "xaxis": {
         "anchor": "y",
         "domain": [
          0,
          1
         ],
         "title": {
          "text": "Timestamp"
         }
        },
        "yaxis": {
         "anchor": "x",
         "domain": [
          0,
          1
         ],
         "title": {
          "text": "RSSI"
         }
        }
       }
      }
     },
     "metadata": {},
     "output_type": "display_data"
    },
    {
     "name": "stderr",
     "output_type": "stream",
     "text": [
      "c:\\Users\\isacc\\miniconda3\\Lib\\site-packages\\_plotly_utils\\basevalidators.py:105: FutureWarning:\n",
      "\n",
      "The behavior of DatetimeProperties.to_pydatetime is deprecated, in a future version this will return a Series containing python datetime objects instead of an ndarray. To retain the old behavior, call `np.array` on the result\n",
      "\n"
     ]
    },
    {
     "data": {
      "application/vnd.plotly.v1+json": {
       "config": {
        "plotlyServerURL": "https://plot.ly"
       },
       "data": [
        {
         "hovertemplate": "id=2<br>ts=%{x}<br>rssi=%{y}<extra></extra>",
         "legendgroup": "2",
         "line": {
          "color": "#00cc96",
          "dash": "solid"
         },
         "marker": {
          "symbol": "circle"
         },
         "mode": "lines",
         "name": "2",
         "orientation": "v",
         "showlegend": true,
         "type": "scatter",
         "x": [
          "2023-08-24T17:30:07",
          "2023-08-24T17:30:13",
          "2023-08-24T17:30:31",
          "2023-08-24T17:30:43",
          "2023-08-24T17:31:19",
          "2023-08-24T17:32:31",
          "2023-08-24T17:33:19",
          "2023-08-24T17:33:43",
          "2023-08-24T17:33:49",
          "2023-08-24T17:34:25",
          "2023-08-24T17:34:55",
          "2023-08-24T17:35:13",
          "2023-08-24T17:35:55",
          "2023-08-24T17:36:01",
          "2023-08-24T17:36:07",
          "2023-08-24T17:36:19",
          "2023-08-24T17:36:25",
          "2023-08-24T17:37:31",
          "2023-08-24T17:37:55",
          "2023-08-24T17:38:07",
          "2023-08-24T17:39:25",
          "2023-08-24T17:40:19",
          "2023-08-24T17:40:55",
          "2023-08-24T17:41:19",
          "2023-08-24T17:41:25",
          "2023-08-24T17:41:50",
          "2023-08-24T17:44:26",
          "2023-08-24T17:44:32",
          "2023-08-24T17:44:56",
          "2023-08-24T17:45:02",
          "2023-08-24T17:45:08",
          "2023-08-24T17:45:32",
          "2023-08-24T17:45:50",
          "2023-08-24T17:45:56",
          "2023-08-24T17:46:02",
          "2023-08-24T17:46:50",
          "2023-08-24T17:47:02",
          "2023-08-24T17:47:50",
          "2023-08-24T17:48:44",
          "2023-08-24T17:48:56",
          "2023-08-24T17:49:50",
          "2023-08-24T17:50:26",
          "2023-08-24T17:50:32",
          "2023-08-24T17:50:50",
          "2023-08-24T17:50:56",
          "2023-08-24T17:51:14",
          "2023-08-24T17:51:44",
          "2023-08-24T17:51:50",
          "2023-08-24T17:57:03",
          "2023-08-24T17:57:33",
          "2023-08-24T17:57:39",
          "2023-08-24T17:58:15",
          "2023-08-24T17:58:57",
          "2023-08-24T17:59:15",
          "2023-08-24T17:59:33",
          "2023-08-24T17:59:45",
          "2023-08-24T18:00:09",
          "2023-08-24T18:00:21",
          "2023-08-24T18:00:33",
          "2023-08-24T18:00:39",
          "2023-08-24T18:00:45",
          "2023-08-24T18:00:51",
          "2023-08-24T18:01:15",
          "2023-08-24T18:01:27",
          "2023-08-24T18:01:39",
          "2023-08-24T18:02:27",
          "2023-08-24T18:02:33",
          "2023-08-24T18:02:45",
          "2023-08-24T18:03:04",
          "2023-08-24T18:03:21",
          "2023-08-24T18:03:46",
          "2023-08-24T18:03:52",
          "2023-08-24T18:04:04",
          "2023-08-24T18:04:10",
          "2023-08-24T18:04:34",
          "2023-08-24T18:04:46",
          "2023-08-24T18:05:04",
          "2023-08-24T18:05:22",
          "2023-08-24T18:05:58",
          "2023-08-24T18:06:10",
          "2023-08-24T18:06:16",
          "2023-08-24T18:06:22",
          "2023-08-24T18:06:28",
          "2023-08-24T18:06:46",
          "2023-08-24T18:07:10",
          "2023-08-24T18:07:28",
          "2023-08-24T18:08:28",
          "2023-08-24T18:08:40",
          "2023-08-24T18:08:58",
          "2023-08-24T18:09:16"
         ],
         "xaxis": "x",
         "y": [
          -69,
          -60,
          -67,
          -61,
          -69,
          -73,
          -67,
          -61,
          -67,
          -61,
          -70,
          -60,
          -66,
          -60,
          -66,
          -60,
          -68,
          -75,
          -68,
          -76,
          -64,
          -58,
          -64,
          -58,
          -66,
          -100,
          -71,
          -61,
          -68,
          -78,
          -57,
          -63,
          -77,
          -60,
          -67,
          -76,
          -68,
          -76,
          -82,
          -71,
          -62,
          -56,
          -65,
          -72,
          -54,
          -64,
          -70,
          -60,
          -71,
          -62,
          -68,
          -74,
          -67,
          -73,
          -65,
          -71,
          -100,
          -73,
          -67,
          -78,
          -56,
          -65,
          -53,
          -65,
          -50,
          -57,
          -51,
          -44,
          -52,
          -60,
          -76,
          -54,
          -65,
          -52,
          -72,
          -53,
          -64,
          -54,
          -63,
          -54,
          -71,
          -65,
          -54,
          -63,
          -73,
          -65,
          -56,
          -66,
          -75,
          -66
         ],
         "yaxis": "y"
        },
        {
         "hovertemplate": "id=1<br>ts=%{x}<br>rssi=%{y}<extra></extra>",
         "legendgroup": "1",
         "line": {
          "color": "#ab63fa",
          "dash": "solid"
         },
         "marker": {
          "symbol": "circle"
         },
         "mode": "lines",
         "name": "1",
         "orientation": "v",
         "showlegend": true,
         "type": "scatter",
         "x": [
          "2023-08-24T17:30:37",
          "2023-08-24T17:31:49",
          "2023-08-24T17:32:25",
          "2023-08-24T17:32:31",
          "2023-08-24T17:32:49",
          "2023-08-24T17:33:25",
          "2023-08-24T17:33:37",
          "2023-08-24T17:34:55",
          "2023-08-24T17:35:01",
          "2023-08-24T17:35:37",
          "2023-08-24T17:35:49",
          "2023-08-24T17:35:55",
          "2023-08-24T17:36:43",
          "2023-08-24T17:36:49",
          "2023-08-24T17:37:19",
          "2023-08-24T17:37:25",
          "2023-08-24T17:37:37",
          "2023-08-24T17:37:49",
          "2023-08-24T17:37:55",
          "2023-08-24T17:38:37",
          "2023-08-24T17:38:49",
          "2023-08-24T17:38:55",
          "2023-08-24T17:39:07",
          "2023-08-24T17:39:19",
          "2023-08-24T17:39:31",
          "2023-08-24T17:40:01",
          "2023-08-24T17:40:07",
          "2023-08-24T17:40:19",
          "2023-08-24T17:40:25",
          "2023-08-24T17:40:38",
          "2023-08-24T17:40:43",
          "2023-08-24T17:41:01",
          "2023-08-24T17:41:56",
          "2023-08-24T17:42:56",
          "2023-08-24T17:43:02",
          "2023-08-24T17:43:14",
          "2023-08-24T17:43:20",
          "2023-08-24T17:43:38",
          "2023-08-24T17:43:44",
          "2023-08-24T17:44:08",
          "2023-08-24T17:44:26",
          "2023-08-24T17:45:02",
          "2023-08-24T17:45:08",
          "2023-08-24T17:45:20",
          "2023-08-24T17:45:26",
          "2023-08-24T17:45:32",
          "2023-08-24T17:45:44",
          "2023-08-24T17:45:50",
          "2023-08-24T17:46:02",
          "2023-08-24T17:48:50",
          "2023-08-24T17:49:32",
          "2023-08-24T17:49:50",
          "2023-08-24T17:49:56",
          "2023-08-24T17:50:08",
          "2023-08-24T17:50:14",
          "2023-08-24T17:50:20",
          "2023-08-24T17:50:26",
          "2023-08-24T17:50:32",
          "2023-08-24T17:50:50",
          "2023-08-24T17:50:56",
          "2023-08-24T17:51:02",
          "2023-08-24T17:51:08",
          "2023-08-24T17:51:14",
          "2023-08-24T17:51:50",
          "2023-08-24T17:52:08",
          "2023-08-24T17:52:20",
          "2023-08-24T17:55:03",
          "2023-08-24T17:55:09",
          "2023-08-24T18:02:03",
          "2023-08-24T18:02:09",
          "2023-08-24T18:06:10",
          "2023-08-24T18:06:28",
          "2023-08-24T18:06:40",
          "2023-08-24T18:08:52",
          "2023-08-24T18:08:58"
         ],
         "xaxis": "x",
         "y": [
          -44,
          -51,
          -43,
          -51,
          -45,
          -51,
          -45,
          -65,
          -50,
          -58,
          -66,
          -49,
          -55,
          -47,
          -60,
          -66,
          -73,
          -64,
          -71,
          -64,
          -73,
          -65,
          -73,
          -65,
          -57,
          -100,
          -53,
          -67,
          -56,
          -73,
          -53,
          -60,
          -54,
          -67,
          -55,
          -65,
          -54,
          -67,
          -56,
          -66,
          -57,
          -66,
          -52,
          -65,
          -57,
          -69,
          -58,
          -81,
          -73,
          -67,
          -55,
          -74,
          -53,
          -72,
          -62,
          -54,
          -63,
          -57,
          -100,
          -56,
          -65,
          -57,
          -64,
          -57,
          -63,
          -56,
          -62,
          -56,
          -65,
          -56,
          -50,
          -59,
          -51,
          -100,
          -53
         ],
         "yaxis": "y"
        }
       ],
       "layout": {
        "legend": {
         "title": {
          "text": "ID"
         },
         "tracegroupgap": 0
        },
        "template": {
         "data": {
          "bar": [
           {
            "error_x": {
             "color": "#2a3f5f"
            },
            "error_y": {
             "color": "#2a3f5f"
            },
            "marker": {
             "line": {
              "color": "#E5ECF6",
              "width": 0.5
             },
             "pattern": {
              "fillmode": "overlay",
              "size": 10,
              "solidity": 0.2
             }
            },
            "type": "bar"
           }
          ],
          "barpolar": [
           {
            "marker": {
             "line": {
              "color": "#E5ECF6",
              "width": 0.5
             },
             "pattern": {
              "fillmode": "overlay",
              "size": 10,
              "solidity": 0.2
             }
            },
            "type": "barpolar"
           }
          ],
          "carpet": [
           {
            "aaxis": {
             "endlinecolor": "#2a3f5f",
             "gridcolor": "white",
             "linecolor": "white",
             "minorgridcolor": "white",
             "startlinecolor": "#2a3f5f"
            },
            "baxis": {
             "endlinecolor": "#2a3f5f",
             "gridcolor": "white",
             "linecolor": "white",
             "minorgridcolor": "white",
             "startlinecolor": "#2a3f5f"
            },
            "type": "carpet"
           }
          ],
          "choropleth": [
           {
            "colorbar": {
             "outlinewidth": 0,
             "ticks": ""
            },
            "type": "choropleth"
           }
          ],
          "contour": [
           {
            "colorbar": {
             "outlinewidth": 0,
             "ticks": ""
            },
            "colorscale": [
             [
              0,
              "#0d0887"
             ],
             [
              0.1111111111111111,
              "#46039f"
             ],
             [
              0.2222222222222222,
              "#7201a8"
             ],
             [
              0.3333333333333333,
              "#9c179e"
             ],
             [
              0.4444444444444444,
              "#bd3786"
             ],
             [
              0.5555555555555556,
              "#d8576b"
             ],
             [
              0.6666666666666666,
              "#ed7953"
             ],
             [
              0.7777777777777778,
              "#fb9f3a"
             ],
             [
              0.8888888888888888,
              "#fdca26"
             ],
             [
              1,
              "#f0f921"
             ]
            ],
            "type": "contour"
           }
          ],
          "contourcarpet": [
           {
            "colorbar": {
             "outlinewidth": 0,
             "ticks": ""
            },
            "type": "contourcarpet"
           }
          ],
          "heatmap": [
           {
            "colorbar": {
             "outlinewidth": 0,
             "ticks": ""
            },
            "colorscale": [
             [
              0,
              "#0d0887"
             ],
             [
              0.1111111111111111,
              "#46039f"
             ],
             [
              0.2222222222222222,
              "#7201a8"
             ],
             [
              0.3333333333333333,
              "#9c179e"
             ],
             [
              0.4444444444444444,
              "#bd3786"
             ],
             [
              0.5555555555555556,
              "#d8576b"
             ],
             [
              0.6666666666666666,
              "#ed7953"
             ],
             [
              0.7777777777777778,
              "#fb9f3a"
             ],
             [
              0.8888888888888888,
              "#fdca26"
             ],
             [
              1,
              "#f0f921"
             ]
            ],
            "type": "heatmap"
           }
          ],
          "heatmapgl": [
           {
            "colorbar": {
             "outlinewidth": 0,
             "ticks": ""
            },
            "colorscale": [
             [
              0,
              "#0d0887"
             ],
             [
              0.1111111111111111,
              "#46039f"
             ],
             [
              0.2222222222222222,
              "#7201a8"
             ],
             [
              0.3333333333333333,
              "#9c179e"
             ],
             [
              0.4444444444444444,
              "#bd3786"
             ],
             [
              0.5555555555555556,
              "#d8576b"
             ],
             [
              0.6666666666666666,
              "#ed7953"
             ],
             [
              0.7777777777777778,
              "#fb9f3a"
             ],
             [
              0.8888888888888888,
              "#fdca26"
             ],
             [
              1,
              "#f0f921"
             ]
            ],
            "type": "heatmapgl"
           }
          ],
          "histogram": [
           {
            "marker": {
             "pattern": {
              "fillmode": "overlay",
              "size": 10,
              "solidity": 0.2
             }
            },
            "type": "histogram"
           }
          ],
          "histogram2d": [
           {
            "colorbar": {
             "outlinewidth": 0,
             "ticks": ""
            },
            "colorscale": [
             [
              0,
              "#0d0887"
             ],
             [
              0.1111111111111111,
              "#46039f"
             ],
             [
              0.2222222222222222,
              "#7201a8"
             ],
             [
              0.3333333333333333,
              "#9c179e"
             ],
             [
              0.4444444444444444,
              "#bd3786"
             ],
             [
              0.5555555555555556,
              "#d8576b"
             ],
             [
              0.6666666666666666,
              "#ed7953"
             ],
             [
              0.7777777777777778,
              "#fb9f3a"
             ],
             [
              0.8888888888888888,
              "#fdca26"
             ],
             [
              1,
              "#f0f921"
             ]
            ],
            "type": "histogram2d"
           }
          ],
          "histogram2dcontour": [
           {
            "colorbar": {
             "outlinewidth": 0,
             "ticks": ""
            },
            "colorscale": [
             [
              0,
              "#0d0887"
             ],
             [
              0.1111111111111111,
              "#46039f"
             ],
             [
              0.2222222222222222,
              "#7201a8"
             ],
             [
              0.3333333333333333,
              "#9c179e"
             ],
             [
              0.4444444444444444,
              "#bd3786"
             ],
             [
              0.5555555555555556,
              "#d8576b"
             ],
             [
              0.6666666666666666,
              "#ed7953"
             ],
             [
              0.7777777777777778,
              "#fb9f3a"
             ],
             [
              0.8888888888888888,
              "#fdca26"
             ],
             [
              1,
              "#f0f921"
             ]
            ],
            "type": "histogram2dcontour"
           }
          ],
          "mesh3d": [
           {
            "colorbar": {
             "outlinewidth": 0,
             "ticks": ""
            },
            "type": "mesh3d"
           }
          ],
          "parcoords": [
           {
            "line": {
             "colorbar": {
              "outlinewidth": 0,
              "ticks": ""
             }
            },
            "type": "parcoords"
           }
          ],
          "pie": [
           {
            "automargin": true,
            "type": "pie"
           }
          ],
          "scatter": [
           {
            "fillpattern": {
             "fillmode": "overlay",
             "size": 10,
             "solidity": 0.2
            },
            "type": "scatter"
           }
          ],
          "scatter3d": [
           {
            "line": {
             "colorbar": {
              "outlinewidth": 0,
              "ticks": ""
             }
            },
            "marker": {
             "colorbar": {
              "outlinewidth": 0,
              "ticks": ""
             }
            },
            "type": "scatter3d"
           }
          ],
          "scattercarpet": [
           {
            "marker": {
             "colorbar": {
              "outlinewidth": 0,
              "ticks": ""
             }
            },
            "type": "scattercarpet"
           }
          ],
          "scattergeo": [
           {
            "marker": {
             "colorbar": {
              "outlinewidth": 0,
              "ticks": ""
             }
            },
            "type": "scattergeo"
           }
          ],
          "scattergl": [
           {
            "marker": {
             "colorbar": {
              "outlinewidth": 0,
              "ticks": ""
             }
            },
            "type": "scattergl"
           }
          ],
          "scattermapbox": [
           {
            "marker": {
             "colorbar": {
              "outlinewidth": 0,
              "ticks": ""
             }
            },
            "type": "scattermapbox"
           }
          ],
          "scatterpolar": [
           {
            "marker": {
             "colorbar": {
              "outlinewidth": 0,
              "ticks": ""
             }
            },
            "type": "scatterpolar"
           }
          ],
          "scatterpolargl": [
           {
            "marker": {
             "colorbar": {
              "outlinewidth": 0,
              "ticks": ""
             }
            },
            "type": "scatterpolargl"
           }
          ],
          "scatterternary": [
           {
            "marker": {
             "colorbar": {
              "outlinewidth": 0,
              "ticks": ""
             }
            },
            "type": "scatterternary"
           }
          ],
          "surface": [
           {
            "colorbar": {
             "outlinewidth": 0,
             "ticks": ""
            },
            "colorscale": [
             [
              0,
              "#0d0887"
             ],
             [
              0.1111111111111111,
              "#46039f"
             ],
             [
              0.2222222222222222,
              "#7201a8"
             ],
             [
              0.3333333333333333,
              "#9c179e"
             ],
             [
              0.4444444444444444,
              "#bd3786"
             ],
             [
              0.5555555555555556,
              "#d8576b"
             ],
             [
              0.6666666666666666,
              "#ed7953"
             ],
             [
              0.7777777777777778,
              "#fb9f3a"
             ],
             [
              0.8888888888888888,
              "#fdca26"
             ],
             [
              1,
              "#f0f921"
             ]
            ],
            "type": "surface"
           }
          ],
          "table": [
           {
            "cells": {
             "fill": {
              "color": "#EBF0F8"
             },
             "line": {
              "color": "white"
             }
            },
            "header": {
             "fill": {
              "color": "#C8D4E3"
             },
             "line": {
              "color": "white"
             }
            },
            "type": "table"
           }
          ]
         },
         "layout": {
          "annotationdefaults": {
           "arrowcolor": "#2a3f5f",
           "arrowhead": 0,
           "arrowwidth": 1
          },
          "autotypenumbers": "strict",
          "coloraxis": {
           "colorbar": {
            "outlinewidth": 0,
            "ticks": ""
           }
          },
          "colorscale": {
           "diverging": [
            [
             0,
             "#8e0152"
            ],
            [
             0.1,
             "#c51b7d"
            ],
            [
             0.2,
             "#de77ae"
            ],
            [
             0.3,
             "#f1b6da"
            ],
            [
             0.4,
             "#fde0ef"
            ],
            [
             0.5,
             "#f7f7f7"
            ],
            [
             0.6,
             "#e6f5d0"
            ],
            [
             0.7,
             "#b8e186"
            ],
            [
             0.8,
             "#7fbc41"
            ],
            [
             0.9,
             "#4d9221"
            ],
            [
             1,
             "#276419"
            ]
           ],
           "sequential": [
            [
             0,
             "#0d0887"
            ],
            [
             0.1111111111111111,
             "#46039f"
            ],
            [
             0.2222222222222222,
             "#7201a8"
            ],
            [
             0.3333333333333333,
             "#9c179e"
            ],
            [
             0.4444444444444444,
             "#bd3786"
            ],
            [
             0.5555555555555556,
             "#d8576b"
            ],
            [
             0.6666666666666666,
             "#ed7953"
            ],
            [
             0.7777777777777778,
             "#fb9f3a"
            ],
            [
             0.8888888888888888,
             "#fdca26"
            ],
            [
             1,
             "#f0f921"
            ]
           ],
           "sequentialminus": [
            [
             0,
             "#0d0887"
            ],
            [
             0.1111111111111111,
             "#46039f"
            ],
            [
             0.2222222222222222,
             "#7201a8"
            ],
            [
             0.3333333333333333,
             "#9c179e"
            ],
            [
             0.4444444444444444,
             "#bd3786"
            ],
            [
             0.5555555555555556,
             "#d8576b"
            ],
            [
             0.6666666666666666,
             "#ed7953"
            ],
            [
             0.7777777777777778,
             "#fb9f3a"
            ],
            [
             0.8888888888888888,
             "#fdca26"
            ],
            [
             1,
             "#f0f921"
            ]
           ]
          },
          "colorway": [
           "#636efa",
           "#EF553B",
           "#00cc96",
           "#ab63fa",
           "#FFA15A",
           "#19d3f3",
           "#FF6692",
           "#B6E880",
           "#FF97FF",
           "#FECB52"
          ],
          "font": {
           "color": "#2a3f5f"
          },
          "geo": {
           "bgcolor": "white",
           "lakecolor": "white",
           "landcolor": "#E5ECF6",
           "showlakes": true,
           "showland": true,
           "subunitcolor": "white"
          },
          "hoverlabel": {
           "align": "left"
          },
          "hovermode": "closest",
          "mapbox": {
           "style": "light"
          },
          "paper_bgcolor": "white",
          "plot_bgcolor": "#E5ECF6",
          "polar": {
           "angularaxis": {
            "gridcolor": "white",
            "linecolor": "white",
            "ticks": ""
           },
           "bgcolor": "#E5ECF6",
           "radialaxis": {
            "gridcolor": "white",
            "linecolor": "white",
            "ticks": ""
           }
          },
          "scene": {
           "xaxis": {
            "backgroundcolor": "#E5ECF6",
            "gridcolor": "white",
            "gridwidth": 2,
            "linecolor": "white",
            "showbackground": true,
            "ticks": "",
            "zerolinecolor": "white"
           },
           "yaxis": {
            "backgroundcolor": "#E5ECF6",
            "gridcolor": "white",
            "gridwidth": 2,
            "linecolor": "white",
            "showbackground": true,
            "ticks": "",
            "zerolinecolor": "white"
           },
           "zaxis": {
            "backgroundcolor": "#E5ECF6",
            "gridcolor": "white",
            "gridwidth": 2,
            "linecolor": "white",
            "showbackground": true,
            "ticks": "",
            "zerolinecolor": "white"
           }
          },
          "shapedefaults": {
           "line": {
            "color": "#2a3f5f"
           }
          },
          "ternary": {
           "aaxis": {
            "gridcolor": "white",
            "linecolor": "white",
            "ticks": ""
           },
           "baxis": {
            "gridcolor": "white",
            "linecolor": "white",
            "ticks": ""
           },
           "bgcolor": "#E5ECF6",
           "caxis": {
            "gridcolor": "white",
            "linecolor": "white",
            "ticks": ""
           }
          },
          "title": {
           "x": 0.05
          },
          "xaxis": {
           "automargin": true,
           "gridcolor": "white",
           "linecolor": "white",
           "ticks": "",
           "title": {
            "standoff": 15
           },
           "zerolinecolor": "white",
           "zerolinewidth": 2
          },
          "yaxis": {
           "automargin": true,
           "gridcolor": "white",
           "linecolor": "white",
           "ticks": "",
           "title": {
            "standoff": 15
           },
           "zerolinecolor": "white",
           "zerolinewidth": 2
          }
         }
        },
        "title": {
         "text": "Line Graph for Station 2"
        },
        "xaxis": {
         "anchor": "y",
         "domain": [
          0,
          1
         ],
         "title": {
          "text": "Timestamp"
         }
        },
        "yaxis": {
         "anchor": "x",
         "domain": [
          0,
          1
         ],
         "title": {
          "text": "RSSI"
         }
        }
       }
      }
     },
     "metadata": {},
     "output_type": "display_data"
    },
    {
     "name": "stderr",
     "output_type": "stream",
     "text": [
      "c:\\Users\\isacc\\miniconda3\\Lib\\site-packages\\_plotly_utils\\basevalidators.py:105: FutureWarning:\n",
      "\n",
      "The behavior of DatetimeProperties.to_pydatetime is deprecated, in a future version this will return a Series containing python datetime objects instead of an ndarray. To retain the old behavior, call `np.array` on the result\n",
      "\n"
     ]
    },
    {
     "data": {
      "application/vnd.plotly.v1+json": {
       "config": {
        "plotlyServerURL": "https://plot.ly"
       },
       "data": [
        {
         "hovertemplate": "id=1<br>ts=%{x}<br>rssi=%{y}<extra></extra>",
         "legendgroup": "1",
         "line": {
          "color": "#00cc96",
          "dash": "solid"
         },
         "marker": {
          "symbol": "circle"
         },
         "mode": "lines",
         "name": "1",
         "orientation": "v",
         "showlegend": true,
         "type": "scatter",
         "x": [
          "2023-08-24T17:30:10",
          "2023-08-24T17:31:22",
          "2023-08-24T17:33:02",
          "2023-08-24T17:33:08",
          "2023-08-24T17:33:26",
          "2023-08-24T17:33:56",
          "2023-08-24T17:34:02",
          "2023-08-24T17:34:14",
          "2023-08-24T17:34:20",
          "2023-08-24T17:34:26",
          "2023-08-24T17:34:32",
          "2023-08-24T17:34:44",
          "2023-08-24T17:35:02",
          "2023-08-24T17:35:14",
          "2023-08-24T17:35:20",
          "2023-08-24T17:36:02",
          "2023-08-24T17:36:08",
          "2023-08-24T17:36:20",
          "2023-08-24T17:36:26",
          "2023-08-24T17:37:14",
          "2023-08-24T17:37:20",
          "2023-08-24T17:37:32",
          "2023-08-24T17:37:44",
          "2023-08-24T17:37:50",
          "2023-08-24T17:37:56",
          "2023-08-24T17:38:02",
          "2023-08-24T17:38:44",
          "2023-08-24T17:38:50",
          "2023-08-24T17:39:02",
          "2023-08-24T17:39:26",
          "2023-08-24T17:39:44",
          "2023-08-24T17:40:02",
          "2023-08-24T17:40:08",
          "2023-08-24T17:40:14",
          "2023-08-24T17:40:20",
          "2023-08-24T17:41:30",
          "2023-08-24T17:41:42",
          "2023-08-24T17:41:48",
          "2023-08-24T17:42:00",
          "2023-08-24T17:42:24",
          "2023-08-24T17:42:30",
          "2023-08-24T17:44:12",
          "2023-08-24T17:44:18",
          "2023-08-24T17:44:24",
          "2023-08-24T17:44:30",
          "2023-08-24T17:44:48",
          "2023-08-24T17:45:06",
          "2023-08-24T17:45:11",
          "2023-08-24T17:45:35",
          "2023-08-24T17:46:05",
          "2023-08-24T17:46:17",
          "2023-08-24T17:47:41",
          "2023-08-24T17:47:47",
          "2023-08-24T17:48:17",
          "2023-08-24T17:58:17",
          "2023-08-24T17:58:59",
          "2023-08-24T17:59:17",
          "2023-08-24T18:00:35",
          "2023-08-24T18:00:42",
          "2023-08-24T18:01:00",
          "2023-08-24T18:01:06",
          "2023-08-24T18:01:12",
          "2023-08-24T18:01:18",
          "2023-08-24T18:02:00",
          "2023-08-24T18:02:18",
          "2023-08-24T18:02:36",
          "2023-08-24T18:02:42",
          "2023-08-24T18:03:06",
          "2023-08-24T18:03:36",
          "2023-08-24T18:04:06",
          "2023-08-24T18:04:18",
          "2023-08-24T18:05:00",
          "2023-08-24T18:05:06",
          "2023-08-24T18:06:18",
          "2023-08-24T18:06:54",
          "2023-08-24T18:07:00",
          "2023-08-24T18:07:48",
          "2023-08-24T18:07:54",
          "2023-08-24T18:09:12",
          "2023-08-24T18:09:18"
         ],
         "xaxis": "x",
         "y": [
          -54,
          -70,
          -66,
          -59,
          -66,
          -73,
          -59,
          -72,
          -59,
          -71,
          -60,
          -70,
          -64,
          -56,
          -70,
          -63,
          -56,
          -69,
          -62,
          -54,
          -71,
          -65,
          -74,
          -67,
          -60,
          -70,
          -59,
          -69,
          -62,
          -42,
          -50,
          0,
          -69,
          -63,
          -44,
          -42,
          -48,
          -55,
          -49,
          -55,
          -49,
          -36,
          -44,
          -32,
          -43,
          -59,
          -100,
          -70,
          -76,
          -66,
          -74,
          -66,
          -77,
          -70,
          -71,
          -71,
          -63,
          -69,
          -60,
          -71,
          -63,
          -71,
          -61,
          -68,
          -61,
          -68,
          -61,
          -67,
          -60,
          -74,
          -59,
          -70,
          -64,
          -56,
          -63,
          -73,
          -100,
          -57,
          -64,
          -57
         ],
         "yaxis": "y"
        },
        {
         "hovertemplate": "id=2<br>ts=%{x}<br>rssi=%{y}<extra></extra>",
         "legendgroup": "2",
         "line": {
          "color": "#ab63fa",
          "dash": "solid"
         },
         "marker": {
          "symbol": "circle"
         },
         "mode": "lines",
         "name": "2",
         "orientation": "v",
         "showlegend": true,
         "type": "scatter",
         "x": [
          "2023-08-24T17:30:28",
          "2023-08-24T17:31:57",
          "2023-08-24T17:32:02",
          "2023-08-24T17:32:08",
          "2023-08-24T17:33:08",
          "2023-08-24T17:33:20",
          "2023-08-24T17:33:26",
          "2023-08-24T17:33:38",
          "2023-08-24T17:35:02",
          "2023-08-24T17:35:14",
          "2023-08-24T17:35:32",
          "2023-08-24T17:35:38",
          "2023-08-24T17:35:44",
          "2023-08-24T17:35:50",
          "2023-08-24T17:35:56",
          "2023-08-24T17:37:26",
          "2023-08-24T17:37:32",
          "2023-08-24T17:37:56",
          "2023-08-24T17:38:20",
          "2023-08-24T17:38:32",
          "2023-08-24T17:38:38",
          "2023-08-24T17:39:20",
          "2023-08-24T17:39:26",
          "2023-08-24T17:40:20",
          "2023-08-24T17:40:44",
          "2023-08-24T17:41:29",
          "2023-08-24T17:41:42",
          "2023-08-24T17:44:24",
          "2023-08-24T17:44:30",
          "2023-08-24T17:44:42",
          "2023-08-24T17:44:48",
          "2023-08-24T17:45:29",
          "2023-08-24T17:46:05",
          "2023-08-24T17:46:11",
          "2023-08-24T17:46:23",
          "2023-08-24T17:46:41",
          "2023-08-24T17:46:47",
          "2023-08-24T17:47:29",
          "2023-08-24T17:47:41",
          "2023-08-24T17:57:59",
          "2023-08-24T17:58:11",
          "2023-08-24T17:58:17",
          "2023-08-24T17:58:23",
          "2023-08-24T17:58:41",
          "2023-08-24T17:58:47",
          "2023-08-24T17:58:53",
          "2023-08-24T17:59:05",
          "2023-08-24T18:00:42",
          "2023-08-24T18:01:06",
          "2023-08-24T18:01:12",
          "2023-08-24T18:01:18",
          "2023-08-24T18:01:30",
          "2023-08-24T18:01:36",
          "2023-08-24T18:01:42",
          "2023-08-24T18:01:54",
          "2023-08-24T18:02:06",
          "2023-08-24T18:02:30",
          "2023-08-24T18:02:42",
          "2023-08-24T18:02:48",
          "2023-08-24T18:02:54",
          "2023-08-24T18:03:06",
          "2023-08-24T18:03:12",
          "2023-08-24T18:03:30",
          "2023-08-24T18:03:48",
          "2023-08-24T18:03:54",
          "2023-08-24T18:04:00",
          "2023-08-24T18:04:06",
          "2023-08-24T18:05:18",
          "2023-08-24T18:05:42",
          "2023-08-24T18:06:00",
          "2023-08-24T18:06:06",
          "2023-08-24T18:06:12",
          "2023-08-24T18:06:24",
          "2023-08-24T18:06:48",
          "2023-08-24T18:06:54",
          "2023-08-24T18:07:06",
          "2023-08-24T18:07:12",
          "2023-08-24T18:07:18",
          "2023-08-24T18:07:24",
          "2023-08-24T18:07:30",
          "2023-08-24T18:08:24",
          "2023-08-24T18:08:30",
          "2023-08-24T18:08:36",
          "2023-08-24T18:08:54",
          "2023-08-24T18:09:00",
          "2023-08-24T18:09:06",
          "2023-08-24T18:09:12",
          "2023-08-24T18:09:18",
          "2023-08-24T18:09:24",
          "2023-08-24T18:09:30",
          "2023-08-24T18:09:36",
          "2023-08-24T18:09:54"
         ],
         "xaxis": "x",
         "y": [
          -58,
          0,
          -69,
          -75,
          0,
          -70,
          -76,
          -70,
          -64,
          -77,
          -67,
          -76,
          -68,
          -77,
          -69,
          -58,
          -78,
          -71,
          -77,
          -70,
          -77,
          -69,
          -38,
          -31,
          -38,
          -35,
          0,
          -51,
          -33,
          -39,
          -46,
          -63,
          -79,
          -66,
          -73,
          -66,
          -72,
          -79,
          -73,
          -76,
          -70,
          -78,
          -72,
          -79,
          -67,
          -78,
          -71,
          -65,
          -55,
          -73,
          -64,
          -58,
          -65,
          -73,
          -63,
          -57,
          -63,
          -57,
          -71,
          -63,
          -55,
          -61,
          -68,
          -55,
          -61,
          -67,
          -56,
          -63,
          -57,
          -75,
          -69,
          -75,
          -64,
          -53,
          -63,
          -49,
          -72,
          -62,
          -70,
          -60,
          -72,
          -55,
          -46,
          -52,
          -59,
          -67,
          -49,
          -68,
          -50,
          -62,
          -56,
          -64
         ],
         "yaxis": "y"
        }
       ],
       "layout": {
        "legend": {
         "title": {
          "text": "ID"
         },
         "tracegroupgap": 0
        },
        "template": {
         "data": {
          "bar": [
           {
            "error_x": {
             "color": "#2a3f5f"
            },
            "error_y": {
             "color": "#2a3f5f"
            },
            "marker": {
             "line": {
              "color": "#E5ECF6",
              "width": 0.5
             },
             "pattern": {
              "fillmode": "overlay",
              "size": 10,
              "solidity": 0.2
             }
            },
            "type": "bar"
           }
          ],
          "barpolar": [
           {
            "marker": {
             "line": {
              "color": "#E5ECF6",
              "width": 0.5
             },
             "pattern": {
              "fillmode": "overlay",
              "size": 10,
              "solidity": 0.2
             }
            },
            "type": "barpolar"
           }
          ],
          "carpet": [
           {
            "aaxis": {
             "endlinecolor": "#2a3f5f",
             "gridcolor": "white",
             "linecolor": "white",
             "minorgridcolor": "white",
             "startlinecolor": "#2a3f5f"
            },
            "baxis": {
             "endlinecolor": "#2a3f5f",
             "gridcolor": "white",
             "linecolor": "white",
             "minorgridcolor": "white",
             "startlinecolor": "#2a3f5f"
            },
            "type": "carpet"
           }
          ],
          "choropleth": [
           {
            "colorbar": {
             "outlinewidth": 0,
             "ticks": ""
            },
            "type": "choropleth"
           }
          ],
          "contour": [
           {
            "colorbar": {
             "outlinewidth": 0,
             "ticks": ""
            },
            "colorscale": [
             [
              0,
              "#0d0887"
             ],
             [
              0.1111111111111111,
              "#46039f"
             ],
             [
              0.2222222222222222,
              "#7201a8"
             ],
             [
              0.3333333333333333,
              "#9c179e"
             ],
             [
              0.4444444444444444,
              "#bd3786"
             ],
             [
              0.5555555555555556,
              "#d8576b"
             ],
             [
              0.6666666666666666,
              "#ed7953"
             ],
             [
              0.7777777777777778,
              "#fb9f3a"
             ],
             [
              0.8888888888888888,
              "#fdca26"
             ],
             [
              1,
              "#f0f921"
             ]
            ],
            "type": "contour"
           }
          ],
          "contourcarpet": [
           {
            "colorbar": {
             "outlinewidth": 0,
             "ticks": ""
            },
            "type": "contourcarpet"
           }
          ],
          "heatmap": [
           {
            "colorbar": {
             "outlinewidth": 0,
             "ticks": ""
            },
            "colorscale": [
             [
              0,
              "#0d0887"
             ],
             [
              0.1111111111111111,
              "#46039f"
             ],
             [
              0.2222222222222222,
              "#7201a8"
             ],
             [
              0.3333333333333333,
              "#9c179e"
             ],
             [
              0.4444444444444444,
              "#bd3786"
             ],
             [
              0.5555555555555556,
              "#d8576b"
             ],
             [
              0.6666666666666666,
              "#ed7953"
             ],
             [
              0.7777777777777778,
              "#fb9f3a"
             ],
             [
              0.8888888888888888,
              "#fdca26"
             ],
             [
              1,
              "#f0f921"
             ]
            ],
            "type": "heatmap"
           }
          ],
          "heatmapgl": [
           {
            "colorbar": {
             "outlinewidth": 0,
             "ticks": ""
            },
            "colorscale": [
             [
              0,
              "#0d0887"
             ],
             [
              0.1111111111111111,
              "#46039f"
             ],
             [
              0.2222222222222222,
              "#7201a8"
             ],
             [
              0.3333333333333333,
              "#9c179e"
             ],
             [
              0.4444444444444444,
              "#bd3786"
             ],
             [
              0.5555555555555556,
              "#d8576b"
             ],
             [
              0.6666666666666666,
              "#ed7953"
             ],
             [
              0.7777777777777778,
              "#fb9f3a"
             ],
             [
              0.8888888888888888,
              "#fdca26"
             ],
             [
              1,
              "#f0f921"
             ]
            ],
            "type": "heatmapgl"
           }
          ],
          "histogram": [
           {
            "marker": {
             "pattern": {
              "fillmode": "overlay",
              "size": 10,
              "solidity": 0.2
             }
            },
            "type": "histogram"
           }
          ],
          "histogram2d": [
           {
            "colorbar": {
             "outlinewidth": 0,
             "ticks": ""
            },
            "colorscale": [
             [
              0,
              "#0d0887"
             ],
             [
              0.1111111111111111,
              "#46039f"
             ],
             [
              0.2222222222222222,
              "#7201a8"
             ],
             [
              0.3333333333333333,
              "#9c179e"
             ],
             [
              0.4444444444444444,
              "#bd3786"
             ],
             [
              0.5555555555555556,
              "#d8576b"
             ],
             [
              0.6666666666666666,
              "#ed7953"
             ],
             [
              0.7777777777777778,
              "#fb9f3a"
             ],
             [
              0.8888888888888888,
              "#fdca26"
             ],
             [
              1,
              "#f0f921"
             ]
            ],
            "type": "histogram2d"
           }
          ],
          "histogram2dcontour": [
           {
            "colorbar": {
             "outlinewidth": 0,
             "ticks": ""
            },
            "colorscale": [
             [
              0,
              "#0d0887"
             ],
             [
              0.1111111111111111,
              "#46039f"
             ],
             [
              0.2222222222222222,
              "#7201a8"
             ],
             [
              0.3333333333333333,
              "#9c179e"
             ],
             [
              0.4444444444444444,
              "#bd3786"
             ],
             [
              0.5555555555555556,
              "#d8576b"
             ],
             [
              0.6666666666666666,
              "#ed7953"
             ],
             [
              0.7777777777777778,
              "#fb9f3a"
             ],
             [
              0.8888888888888888,
              "#fdca26"
             ],
             [
              1,
              "#f0f921"
             ]
            ],
            "type": "histogram2dcontour"
           }
          ],
          "mesh3d": [
           {
            "colorbar": {
             "outlinewidth": 0,
             "ticks": ""
            },
            "type": "mesh3d"
           }
          ],
          "parcoords": [
           {
            "line": {
             "colorbar": {
              "outlinewidth": 0,
              "ticks": ""
             }
            },
            "type": "parcoords"
           }
          ],
          "pie": [
           {
            "automargin": true,
            "type": "pie"
           }
          ],
          "scatter": [
           {
            "fillpattern": {
             "fillmode": "overlay",
             "size": 10,
             "solidity": 0.2
            },
            "type": "scatter"
           }
          ],
          "scatter3d": [
           {
            "line": {
             "colorbar": {
              "outlinewidth": 0,
              "ticks": ""
             }
            },
            "marker": {
             "colorbar": {
              "outlinewidth": 0,
              "ticks": ""
             }
            },
            "type": "scatter3d"
           }
          ],
          "scattercarpet": [
           {
            "marker": {
             "colorbar": {
              "outlinewidth": 0,
              "ticks": ""
             }
            },
            "type": "scattercarpet"
           }
          ],
          "scattergeo": [
           {
            "marker": {
             "colorbar": {
              "outlinewidth": 0,
              "ticks": ""
             }
            },
            "type": "scattergeo"
           }
          ],
          "scattergl": [
           {
            "marker": {
             "colorbar": {
              "outlinewidth": 0,
              "ticks": ""
             }
            },
            "type": "scattergl"
           }
          ],
          "scattermapbox": [
           {
            "marker": {
             "colorbar": {
              "outlinewidth": 0,
              "ticks": ""
             }
            },
            "type": "scattermapbox"
           }
          ],
          "scatterpolar": [
           {
            "marker": {
             "colorbar": {
              "outlinewidth": 0,
              "ticks": ""
             }
            },
            "type": "scatterpolar"
           }
          ],
          "scatterpolargl": [
           {
            "marker": {
             "colorbar": {
              "outlinewidth": 0,
              "ticks": ""
             }
            },
            "type": "scatterpolargl"
           }
          ],
          "scatterternary": [
           {
            "marker": {
             "colorbar": {
              "outlinewidth": 0,
              "ticks": ""
             }
            },
            "type": "scatterternary"
           }
          ],
          "surface": [
           {
            "colorbar": {
             "outlinewidth": 0,
             "ticks": ""
            },
            "colorscale": [
             [
              0,
              "#0d0887"
             ],
             [
              0.1111111111111111,
              "#46039f"
             ],
             [
              0.2222222222222222,
              "#7201a8"
             ],
             [
              0.3333333333333333,
              "#9c179e"
             ],
             [
              0.4444444444444444,
              "#bd3786"
             ],
             [
              0.5555555555555556,
              "#d8576b"
             ],
             [
              0.6666666666666666,
              "#ed7953"
             ],
             [
              0.7777777777777778,
              "#fb9f3a"
             ],
             [
              0.8888888888888888,
              "#fdca26"
             ],
             [
              1,
              "#f0f921"
             ]
            ],
            "type": "surface"
           }
          ],
          "table": [
           {
            "cells": {
             "fill": {
              "color": "#EBF0F8"
             },
             "line": {
              "color": "white"
             }
            },
            "header": {
             "fill": {
              "color": "#C8D4E3"
             },
             "line": {
              "color": "white"
             }
            },
            "type": "table"
           }
          ]
         },
         "layout": {
          "annotationdefaults": {
           "arrowcolor": "#2a3f5f",
           "arrowhead": 0,
           "arrowwidth": 1
          },
          "autotypenumbers": "strict",
          "coloraxis": {
           "colorbar": {
            "outlinewidth": 0,
            "ticks": ""
           }
          },
          "colorscale": {
           "diverging": [
            [
             0,
             "#8e0152"
            ],
            [
             0.1,
             "#c51b7d"
            ],
            [
             0.2,
             "#de77ae"
            ],
            [
             0.3,
             "#f1b6da"
            ],
            [
             0.4,
             "#fde0ef"
            ],
            [
             0.5,
             "#f7f7f7"
            ],
            [
             0.6,
             "#e6f5d0"
            ],
            [
             0.7,
             "#b8e186"
            ],
            [
             0.8,
             "#7fbc41"
            ],
            [
             0.9,
             "#4d9221"
            ],
            [
             1,
             "#276419"
            ]
           ],
           "sequential": [
            [
             0,
             "#0d0887"
            ],
            [
             0.1111111111111111,
             "#46039f"
            ],
            [
             0.2222222222222222,
             "#7201a8"
            ],
            [
             0.3333333333333333,
             "#9c179e"
            ],
            [
             0.4444444444444444,
             "#bd3786"
            ],
            [
             0.5555555555555556,
             "#d8576b"
            ],
            [
             0.6666666666666666,
             "#ed7953"
            ],
            [
             0.7777777777777778,
             "#fb9f3a"
            ],
            [
             0.8888888888888888,
             "#fdca26"
            ],
            [
             1,
             "#f0f921"
            ]
           ],
           "sequentialminus": [
            [
             0,
             "#0d0887"
            ],
            [
             0.1111111111111111,
             "#46039f"
            ],
            [
             0.2222222222222222,
             "#7201a8"
            ],
            [
             0.3333333333333333,
             "#9c179e"
            ],
            [
             0.4444444444444444,
             "#bd3786"
            ],
            [
             0.5555555555555556,
             "#d8576b"
            ],
            [
             0.6666666666666666,
             "#ed7953"
            ],
            [
             0.7777777777777778,
             "#fb9f3a"
            ],
            [
             0.8888888888888888,
             "#fdca26"
            ],
            [
             1,
             "#f0f921"
            ]
           ]
          },
          "colorway": [
           "#636efa",
           "#EF553B",
           "#00cc96",
           "#ab63fa",
           "#FFA15A",
           "#19d3f3",
           "#FF6692",
           "#B6E880",
           "#FF97FF",
           "#FECB52"
          ],
          "font": {
           "color": "#2a3f5f"
          },
          "geo": {
           "bgcolor": "white",
           "lakecolor": "white",
           "landcolor": "#E5ECF6",
           "showlakes": true,
           "showland": true,
           "subunitcolor": "white"
          },
          "hoverlabel": {
           "align": "left"
          },
          "hovermode": "closest",
          "mapbox": {
           "style": "light"
          },
          "paper_bgcolor": "white",
          "plot_bgcolor": "#E5ECF6",
          "polar": {
           "angularaxis": {
            "gridcolor": "white",
            "linecolor": "white",
            "ticks": ""
           },
           "bgcolor": "#E5ECF6",
           "radialaxis": {
            "gridcolor": "white",
            "linecolor": "white",
            "ticks": ""
           }
          },
          "scene": {
           "xaxis": {
            "backgroundcolor": "#E5ECF6",
            "gridcolor": "white",
            "gridwidth": 2,
            "linecolor": "white",
            "showbackground": true,
            "ticks": "",
            "zerolinecolor": "white"
           },
           "yaxis": {
            "backgroundcolor": "#E5ECF6",
            "gridcolor": "white",
            "gridwidth": 2,
            "linecolor": "white",
            "showbackground": true,
            "ticks": "",
            "zerolinecolor": "white"
           },
           "zaxis": {
            "backgroundcolor": "#E5ECF6",
            "gridcolor": "white",
            "gridwidth": 2,
            "linecolor": "white",
            "showbackground": true,
            "ticks": "",
            "zerolinecolor": "white"
           }
          },
          "shapedefaults": {
           "line": {
            "color": "#2a3f5f"
           }
          },
          "ternary": {
           "aaxis": {
            "gridcolor": "white",
            "linecolor": "white",
            "ticks": ""
           },
           "baxis": {
            "gridcolor": "white",
            "linecolor": "white",
            "ticks": ""
           },
           "bgcolor": "#E5ECF6",
           "caxis": {
            "gridcolor": "white",
            "linecolor": "white",
            "ticks": ""
           }
          },
          "title": {
           "x": 0.05
          },
          "xaxis": {
           "automargin": true,
           "gridcolor": "white",
           "linecolor": "white",
           "ticks": "",
           "title": {
            "standoff": 15
           },
           "zerolinecolor": "white",
           "zerolinewidth": 2
          },
          "yaxis": {
           "automargin": true,
           "gridcolor": "white",
           "linecolor": "white",
           "ticks": "",
           "title": {
            "standoff": 15
           },
           "zerolinecolor": "white",
           "zerolinewidth": 2
          }
         }
        },
        "title": {
         "text": "Line Graph for Station 3"
        },
        "xaxis": {
         "anchor": "y",
         "domain": [
          0,
          1
         ],
         "title": {
          "text": "Timestamp"
         }
        },
        "yaxis": {
         "anchor": "x",
         "domain": [
          0,
          1
         ],
         "title": {
          "text": "RSSI"
         }
        }
       }
      }
     },
     "metadata": {},
     "output_type": "display_data"
    }
   ],
   "source": [
    "def plot_ble(df,station):\n",
    "    # Plotly line graph\n",
    "    color_discrete= {'1': 'tomato', '2': 'conrflowerblue'}\n",
    "\n",
    "    fig = px.line(df, x='ts', y='rssi', color='id', color_discrete_map=color_discrete,\n",
    "                  title=f'Line Graph for Station {station}')\n",
    "    fig.update_layout(xaxis_title='Timestamp', yaxis_title='RSSI', legend_title='ID')\n",
    "    fig.show()\n",
    "plot_ble(df1,station =1)\n",
    "plot_ble(df2, station =2)\n",
    "plot_ble(df3, station = 3)\n",
    "\n"
   ]
  },
  {
   "cell_type": "code",
   "execution_count": 4,
   "metadata": {},
   "outputs": [],
   "source": [
    "def analyse_df(df1, df2, df3, beacon):\n",
    "    # Filter DataFrames for the given id value and remove rows with RSSI of -100\n",
    "    df1_id = df1[(df1['id'] == beacon)].reset_index(drop=True)\n",
    "    df2_id = df2[(df2['id'] == beacon)].reset_index(drop=True)\n",
    "    df3_id = df3[(df3['id'] == beacon)].reset_index(drop=True)\n",
    "\n",
    "\n",
    "    # Combine dataframes with an outer merge\n",
    "    merged_df = df1_id.merge(df2_id, on='ts', how='outer',suffixes = ['1','2']).merge(df3_id, on='ts', how='outer',suffixes = ['','3'])\n",
    "\n",
    "    merged_df.drop(columns=['id1', 'id2', 'id'], inplace=True)\n",
    "    merged_df.rename(columns={'rssi': 'rssi3'}, inplace=True)\n",
    "\n",
    "    merged_df = merged_df.sort_values(by='ts')\n",
    "\n",
    "    merged_df = merged_df.ffill()\n",
    "    merged_df = merged_df.reset_index(drop=True)\n",
    "    \n",
    "\n",
    "    return merged_df\n",
    "\n",
    "\n",
    "df_rssi1 = analyse_df(df1,df2,df3, beacon = 1) #beacon 1\n",
    "\n",
    "df_rssi2 = analyse_df(df1,df2,df3, beacon = 2) #beacon 2\n",
    "\n",
    "#print(df_rssi2)\n"
   ]
  },
  {
   "cell_type": "code",
   "execution_count": 5,
   "metadata": {},
   "outputs": [],
   "source": [
    "# FIND BASE VALUES\n",
    "def find_ref_ble_1_2(df_rssi1, df_rssi2):\n",
    "\n",
    "    df_rssi1 = df_rssi1[(df_rssi1['rssi1'] != -100) & (df_rssi1['rssi2'] != -100) & (df_rssi1['rssi3'] != -100)]\n",
    "    df_rssi2 = df_rssi2[(df_rssi2['rssi1'] != -100) & (df_rssi2['rssi2'] != -100) & (df_rssi2['rssi3'] != -100)]\n",
    "\n",
    "    ref_values = np.zeros((3,3))\n",
    "    #############################################################\n",
    "    #                              station 1 station 2 station 3\n",
    "    #beacon placed in station 1     X         X         X\n",
    "    #beacon placed in station 2     X         X         X\n",
    "    #beacon placed in station 3     X         X         X\n",
    "\n",
    "    #beacon 2 placed in beggining (1)\n",
    "    #beacon 1 placed in end on production line (2)\n",
    "    med1_1 = df_rssi2['rssi1'].median()\n",
    "    av1_1 = df_rssi2['rssi1'].mean()\n",
    "\n",
    "    med2_1 = df_rssi2['rssi2'].median()\n",
    "    av2_1 = df_rssi2['rssi2'].mean()\n",
    "\n",
    "    med3_1 = df_rssi2['rssi3'].median()\n",
    "    av_3_1 = df_rssi2['rssi3'].mean()\n",
    "\n",
    "    print(med1_1, med2_1, med3_1)\n",
    "    ref_values[0,:] = [av1_1,av2_1,av_3_1]\n",
    "\n",
    "    med1_2 = df_rssi1['rssi1'].median()\n",
    "    av1_2 = df_rssi1['rssi1'].mean()\n",
    "\n",
    "    med2_2 = df_rssi1['rssi2'].median()\n",
    "    av2_2 = df_rssi1['rssi2'].mean()\n",
    "\n",
    "    med3_2 = df_rssi1['rssi3'].median()\n",
    "    av_3_2 = df_rssi1['rssi3'].mean()\n",
    "\n",
    "    #print(med1_2, med2_2, med3_2)\n",
    "    ref_values[1,:] = [av1_2,av2_2,av_3_2]\n",
    "\n",
    "\n",
    "    return ref_values\n",
    "\n",
    "def find_ref_3(df_rssi1):\n",
    "    df_rssi1 = df_rssi1[(df_rssi1['rssi1'] != -100) & (df_rssi1['rssi2'] != -100) & (df_rssi1['rssi3'] != -100)]\n",
    "\n",
    "    # Filter DataFrame based on the time range\n",
    "    med1_1 = df_rssi1['rssi1'].median()\n",
    "    av1_1 = df_rssi1['rssi1'].mean()\n",
    "\n",
    "    med2_1 = df_rssi1['rssi2'].median()\n",
    "    av2_1 = df_rssi1['rssi2'].mean()\n",
    "\n",
    "    med3_1 = df_rssi1['rssi3'].median()\n",
    "    av_3_1 = df_rssi1['rssi3'].mean()\n",
    "\n",
    "    #print(med1_1, med2_1, med3_1)\n",
    "    ref_values[2,:] = [av1_1,av2_1,av_3_1]\n",
    "\n",
    "    return ref_values\n",
    "\n",
    "#if date == '11_10':\n",
    "#    ref_values = find_ref_ble_1_2(df_rssi1, df_rssi2)\n",
    "#    print(ref_values)\n",
    "#elif date == '13_10':\n",
    "#    ref_values = find_ref_3(df_rssi1)\n",
    "#    print(ref_values)\n",
    "#else:\n",
    "ref_values=np.array(\n",
    "[[-66.44549266, -74.26545582, -73.88842253],\n",
    " [-60.86128482, -43.43985976, -65.93448369],\n",
    " [-68.73783186, -56.43292456, -61.49354318]])\n",
    "\n",
    "\n"
   ]
  },
  {
   "cell_type": "code",
   "execution_count": 6,
   "metadata": {},
   "outputs": [
    {
     "name": "stdout",
     "output_type": "stream",
     "text": [
      "[[-66.44549266 -74.26545582 -73.88842253]\n",
      " [-60.86128482 -43.43985976 -65.93448369]\n",
      " [-68.73783186 -56.43292456 -61.49354318]]\n"
     ]
    }
   ],
   "source": [
    "def state_df_person(df):\n",
    "    #1 fim 18:02:00 -> 18:06:00\n",
    "    #2 inicio 17:57:30 -> 18:01:00\n",
    "    #3 monta cargas 18:07:00 -> 18:10:00\n",
    "    df['real station'] = int(0)\n",
    "\n",
    "    # Define the time frame\n",
    "    start_time = pd.to_datetime('2023-08-24 17:57:35')\n",
    "    end_time = pd.to_datetime('2023-08-24 18:00:40')\n",
    "\n",
    "    # Set 'real station' to 2 for rows within the specified time frame\n",
    "    df.loc[(df['ts'] >= start_time) & (df['ts'] <= end_time), 'real station'] = 1\n",
    "\n",
    "\n",
    "    # Define the time frame\n",
    "    start_time = pd.to_datetime('2023-08-24 18:02:00')\n",
    "    end_time = pd.to_datetime('2023-08-24 18:05:20')\n",
    "\n",
    "    # Set 'real station' to 1 for rows within the specified time frame\n",
    "    df.loc[(df['ts'] >= start_time) & (df['ts'] <= end_time), 'real station'] = 2\n",
    "\n",
    "    # Define the time frame\n",
    "    start_time = pd.to_datetime('2023-08-24 18:07:00')\n",
    "    end_time = pd.to_datetime('2023-08-24 18:10:00')\n",
    "\n",
    "    # Set 'real station' to 3 for rows within the specified time frame\n",
    "    df.loc[(df['ts'] >= start_time) & (df['ts'] <= end_time), 'real station'] = 3\n",
    "\n",
    "    return df\n",
    "\n",
    "\n",
    "if date == \"24_08\":\n",
    "    #print(df_rssi2)\n",
    "    df_rssi2 = state_df_person(df_rssi2)\n",
    "\n",
    "if date == '11_10':\n",
    "    df_rssi2['real station'] = 1\n",
    "    df_rssi1['real station'] = 2\n",
    "    \n",
    "if date == '13_10':\n",
    "    df_rssi2['real station'] = 3\n",
    "\n",
    "\n",
    "print(ref_values)\n"
   ]
  },
  {
   "cell_type": "code",
   "execution_count": 7,
   "metadata": {},
   "outputs": [
    {
     "name": "stdout",
     "output_type": "stream",
     "text": [
      "{'weight_station1': 0.0, 'weight_station2': 0.1, 'weight_station3': 0.2, 'weight_rssi': 0.7000000000000001}\n",
      "Accuracy:  [93.5483871  78.78787879 73.52941176]\n"
     ]
    }
   ],
   "source": [
    "def calculate_rms(rssi, rssi_ref):\n",
    "    # Calculate RMS difference for each receiver   \n",
    "    rms_diff = np.sqrt(((rssi) - rssi_ref)**2)\n",
    "    if math.isnan(rssi) or rssi == -100:\n",
    "        rms_diff = 0\n",
    "\n",
    "    return rms_diff\n",
    "\n",
    "def define_weights(df_rssi, ref_values, iterations):\n",
    "    # Create a DataFrame to store the results of different weight combinations\n",
    "    results = pd.DataFrame(columns=['weight_station1', 'weight_station2', 'weight_station3', 'weight_rssi', 'error'])\n",
    "    best_mean_accuracy  = 0 \n",
    "    best_weights = None \n",
    "\n",
    "    # Iterate through weight combinations\n",
    "    for w_station1 in np.linspace(0, 1, iterations):\n",
    "        for w_station2 in np.linspace(0, 1, iterations):\n",
    "            for w_station3 in np.linspace(0, 1, iterations):\n",
    "                for w_rssi in np.linspace(0, 1, iterations):\n",
    "                    \n",
    "\n",
    "                    if w_station1 + w_station2 + w_station3 + w_rssi == 1:\n",
    "              \n",
    "                        #print(\"weights:\", w_station1, w_station2, w_station3, w_rssi)\n",
    "                        accuracies = []\n",
    "                        for index, row in df_rssi.iterrows():\n",
    "                            if row['real station'] == 0:\n",
    "                                continue  # Skip rows with real station 0\n",
    "\n",
    "                            # Calculate weighted RMS values for each station using reference values\n",
    "                            rms_station = np.zeros(3)\n",
    "\n",
    "                            for station in range(3):\n",
    "                                rssi_values = [row['rssi1'], row['rssi2'], row['rssi3']]\n",
    "                                \n",
    "                                # Check for -100 or NaN in the rssi values\n",
    "                                #if rssi_values[station] != -100 and not np.isnan(rssi_values[station]):\n",
    "                                rms_station[station] = (w_station1 * calculate_rms(rssi_values[0], ref_values[station, 0]) + \n",
    "                                                        w_station2 * calculate_rms(rssi_values[1], ref_values[station, 1]) +\n",
    "                                                        w_station3 * calculate_rms(rssi_values[2], ref_values[station, 2]))\n",
    "                                #print(\"station  rms: \",station, rms_station)\n",
    "                            #print()\n",
    "\n",
    "                            # Determine the station with the minimum weighted RMS value\n",
    "                            station_ref = np.argmin(rms_station) + 1\n",
    "\n",
    "                            # Calculate the station determined by the smallest RSSI\n",
    "                            station_rssi = np.argmax([row['rssi1'], row['rssi2'], row['rssi3']]) + 1\n",
    "                            #print(row['rssi1'], row['rssi2'], row['rssi3'])\n",
    "                            #print(\"max rssi: \", station_rssi)\n",
    "                            # Calculate the weighted combination of station predictions\n",
    "                            station_pred = int((w_station1 + w_station2 + w_station3) * station_ref + w_rssi * station_rssi)\n",
    "\n",
    "                            if station_pred == row['real station']:\n",
    "                                accuracies.append(1)\n",
    "                            else:\n",
    "                                accuracies.append(0)\n",
    "\n",
    "                            #print(\"Station pred\", station_pred)\n",
    "                            #print(\"Real station\", row['real station'])\n",
    "\n",
    "                        mean_accuracy = sum(accuracies) / len(accuracies) *100\n",
    "                        #print(\"Accuracy: \",mean_accuracy)\n",
    "                        if mean_accuracy > best_mean_accuracy:\n",
    "                            best_mean_accuracy = mean_accuracy\n",
    "                            best_weights = {\n",
    "                                'weight_station1': w_station1,\n",
    "                                'weight_station2': w_station2,\n",
    "                                'weight_station3': w_station3,\n",
    "                                'weight_rssi': w_rssi,\n",
    "                            }\n",
    "                    else:\n",
    "                        continue\n",
    "    #best_weights = results.loc[results['error'].idxmin()]\n",
    " \n",
    "    print(best_weights)\n",
    "    return best_weights\n",
    "\n",
    "\n",
    "def classify_points(df_rssi, best_weights, ref_values):\n",
    "\n",
    "    for index, row in df_rssi.iterrows():\n",
    "        # Calculate weighted RMS values for each station using reference values\n",
    "        \n",
    "        rms_station = np.zeros(3)\n",
    "\n",
    "        #if index in range(0,10):\n",
    "        #    print(f\"i: {index}\")\n",
    "\n",
    "        for station in range(3):\n",
    "            rms_station[station] = (\n",
    "                best_weights['weight_station1'] * calculate_rms(row['rssi1'], ref_values[station, 0]) +\n",
    "                best_weights['weight_station2'] * calculate_rms(row['rssi2'], ref_values[station, 1]) +\n",
    "                best_weights['weight_station3'] * calculate_rms(row['rssi3'], ref_values[station, 2])\n",
    "            )\n",
    "            \"\"\"\n",
    "            if index in range(0,10):\n",
    "                print(f\"station: {station+1}\")\n",
    "                print(f\"rssi1: {row['rssi1']}\")\n",
    "                print(calculate_rms(row['rssi1'], ref_values[station, 0]))\n",
    "                print(f\"rssi2: {row['rssi2']}\")\n",
    "                print(calculate_rms(row['rssi2'], ref_values[station, 1]))\n",
    "                print(f\"rssi3: {row['rssi3']}\")\n",
    "                print(calculate_rms(row['rssi3'], ref_values[station, 2]))\n",
    "                print()\"\"\"\n",
    "\n",
    "        #FALTA RMSS MIN\n",
    "        #print(f\"rms station: {rms_station}\")\n",
    "        # Determine the station with the minimum weighted RMS value\n",
    "        station_ref = np.argmin(rms_station) + 1\n",
    "\n",
    "        \n",
    "        station_rssi = np.argmax([row['rssi1'], row['rssi2'], row['rssi3']]) + 1\n",
    "\n",
    "        # Calculate the weighted combination of station predictions\n",
    "\n",
    "        #print(f\"min rssi: {min_rssi_station}\")\n",
    "\n",
    "        station_pred = station_rssi * best_weights['weight_rssi'] + station_ref * (1 - best_weights['weight_rssi'])\n",
    "        station_pred = (round(station_pred))\n",
    "\n",
    "        #if index in range(0,10):\n",
    "        #    print(station_pred)\n",
    "\n",
    "        #print()\n",
    "        #print()\n",
    "        df_rssi.loc[index, 'station'] = station_pred\n",
    "        #int(station_pred)\n",
    "     \n",
    "    return df_rssi\n",
    "\n",
    "def calculate_accuracy(df_rssi):\n",
    "    accuracy = np.zeros(3)  # Initialize an array to store accuracy values for each station\n",
    "\n",
    "    for station in range(1, 4):\n",
    "        total_points = 0\n",
    "        total_correct = 0\n",
    "\n",
    "        for index, row in df_rssi.iterrows():\n",
    "            if row['real station'] == 0:\n",
    "                continue  # Skip rows with real station 0\n",
    "\n",
    "            if row['real station'] == station:\n",
    "                total_points += 1\n",
    "                if row['station'] == row['real station']:\n",
    "                    total_correct += 1\n",
    "\n",
    "        # Calculate accuracy for the current station\n",
    "        accuracy[station - 1] = total_correct / total_points * 100 if total_points > 0 else 0\n",
    "    print(\"Accuracy: \",accuracy)\n",
    "    return #accuracy\n",
    "\n",
    "\n",
    "if date == '24_08':\n",
    "    #print(df_rssi2)\n",
    "    #df_rssi2['real station'] = df_rssi2['real station'].replace(3, 2)\n",
    "    best_weights = define_weights(df_rssi2, ref_values, iterations=11)\n",
    "    #print(best_weights)\n",
    "    df_rssi2 = classify_points(df_rssi2,best_weights,ref_values)\n",
    "    #df_rssi2['station'] = df_rssi2['station'].replace(3, 2)\n",
    "    calculate_accuracy(df_rssi2)\n",
    "    #print(df_rssi2)\n",
    "else:\n",
    "    best_weights = {\n",
    "    'weight_station1': 0.2,\n",
    "    'weight_station2': 0.2,\n",
    "    'weight_station3': 0.2,\n",
    "    'weight_rssi': 0.4,\n",
    "    'error': 1.01\n",
    "}\n",
    "\n",
    "if date == '11_10':\n",
    "    #df_rssi2 = classify_points(df_rssi2,best_weights,ref_values)\n",
    "    #calculate_accuracy(df_rssi2)\n",
    "\n",
    "    df_rssi1 = classify_points(df_rssi1,best_weights,ref_values)\n",
    "    calculate_accuracy(df_rssi1)\n",
    "    #print(df_rssi1)\n",
    "\n",
    "elif date == '13_10':\n",
    "    df_rssi2 = classify_points(df_rssi2,best_weights,ref_values)\n",
    "    calculate_accuracy(df_rssi2)\n",
    "\n",
    "elif date != '24_08':\n",
    "    print(\"Beacon 1\")\n",
    "    df_rssi1 = classify_points(df_rssi1,best_weights,ref_values)\n",
    "    display(df_rssi1.loc[:200])\n",
    "    #display(df_rssi1)\n",
    "\n",
    "    print(\"Beacon 2\")\n",
    "    df_rssi2 = classify_points(df_rssi2,best_weights,ref_values)\n",
    "    display(df_rssi2.loc[:50])\n",
    "\n",
    "\n",
    "\n",
    "#print(ref_values)\n",
    "#display(df_rssi2)\n",
    "\n",
    "\n",
    "\n",
    "#[[-66.44549266 -74.26545582 -73.88842253]\n",
    "# [-60.86128482 -43.43985976 -65.93448369]\n",
    "# [-68.73783186 -56.43292456 -61.49354318]]\n",
    " "
   ]
  },
  {
   "cell_type": "code",
   "execution_count": 8,
   "metadata": {},
   "outputs": [
    {
     "name": "stdout",
     "output_type": "stream",
     "text": [
      "Accuracy:  [96.77419355 81.81818182 88.23529412]\n"
     ]
    }
   ],
   "source": [
    "def remove_outliers(df):\n",
    "    # Iterate through the DataFrame and update values\n",
    "    for i in range(1, len(df) - 1):\n",
    "        if df.at[i - 1, 'station'] == df.at[i + 1, 'station'] and df.at[i, 'station'] != df.at[i - 1, 'station']:\n",
    "            df.at[i, 'station'] = df.at[i - 1, 'station']\n",
    "\n",
    "    return df\n",
    "\n",
    "def  remove_outliers2(df):\n",
    "    # Iterate through the DataFrame and update values\n",
    "    for i in range(1, len(df) - 2):\n",
    "        if df.at[i - 1, 'station'] == df.at[i + 2, 'station'] and df.at[i, 'station'] == df.at[i + 1, 'station'] and df.at[i, 'station'] != df.at[i - 1, 'station']:\n",
    "            df.at[i, 'station'] = df.at[i - 1, 'station']\n",
    "            df.at[i + 1, 'station'] = df.at[i - 1, 'station']\n",
    "\n",
    "    return df\n",
    "\n",
    "\n",
    "#eliminiate_outliers(df_rssi1)\n",
    "#print(df_rssi1)\n",
    "df_rssi2 = remove_outliers(df_rssi2)\n",
    "df_rssi2 = remove_outliers2(df_rssi2)\n",
    "#df_rssi1 = remove_outliers(df_rssi1)\n",
    "#df_rssi1 = remove_outliers2(df_rssi1)\n",
    "\n",
    "#calculate_accuracy(df_rssi1)\n",
    "calculate_accuracy(df_rssi2)\n"
   ]
  },
  {
   "cell_type": "code",
   "execution_count": 9,
   "metadata": {},
   "outputs": [
    {
     "name": "stdout",
     "output_type": "stream",
     "text": [
      "Beacon 1\n",
      "Beacon 2\n",
      "0 days 00:14:49 0 days 00:21:06 0 days 00:03:55\n",
      "0 days 00:39:50\n",
      "station1: 37.2%,    station2: 52.97%,    station3: 9.83%\n"
     ]
    }
   ],
   "source": [
    "\n",
    "def time_in_station_ble(df_rssi):\n",
    "    # Initialize time variables for each station\n",
    "    time_in_1 = pd.to_timedelta('0 seconds')\n",
    "    time_in_2 = pd.to_timedelta('0 seconds')\n",
    "    time_in_3 = pd.to_timedelta('0 seconds')\n",
    "\n",
    "    for index, row in df_rssi.iterrows():\n",
    "        # Calculate time spent in each station based on station assignments\n",
    "        if row['station'] == 1:\n",
    "            if index == 0:\n",
    "                continue\n",
    "            time_in_1 += df_rssi.loc[index, 'ts'] - df_rssi.loc[index - 1, 'ts']\n",
    "\n",
    "        if row['station'] == 2:\n",
    "            if index == 0:\n",
    "                continue\n",
    "            time_in_2 += df_rssi.loc[index, 'ts'] - df_rssi.loc[index - 1, 'ts']\n",
    "\n",
    "        if row['station'] == 3:\n",
    "            if index == 0:\n",
    "                continue\n",
    "            time_in_3 += df_rssi.loc[index, 'ts'] - df_rssi.loc[index - 1, 'ts']\n",
    "\n",
    "    # Calculate total time and percentages for each station\n",
    "    total_time = time_in_1 + time_in_2 + time_in_3\n",
    "    perc1 = time_in_1 / total_time * 100\n",
    "    perc1 = round(perc1, 2)\n",
    "    perc2 = time_in_2 / total_time * 100\n",
    "    perc2 = round(perc2, 2)\n",
    "    perc3 = time_in_3 / total_time * 100\n",
    "    perc3 = round(perc3, 2)\n",
    "    print(time_in_1,time_in_2,time_in_3)\n",
    "    print(time_in_1+time_in_2+time_in_3)\n",
    "    print(f'station1: {perc1}%,    station2: {perc2}%,    station3: {perc3}%')\n",
    "    return\n",
    "\n",
    "\n",
    "print(\"Beacon 1\")\n",
    "#print(df_rssi1)\n",
    "#time_in_station_ble(df_rssi1)\n",
    "#display(df_rssi1.loc[:200])\n",
    "#display(df_rssi1)\n",
    "\n",
    "print(\"Beacon 2\")\n",
    "time_in_station_ble(df_rssi2)\n",
    "\n",
    "\n"
   ]
  },
  {
   "cell_type": "code",
   "execution_count": 10,
   "metadata": {},
   "outputs": [],
   "source": [
    "# Resampling with forward fill\n",
    "def resample_df(df, freq):\n",
    "    # Set the 'Timestamp' column as the DataFrame index\n",
    "    df.set_index('ts', inplace=True)\n",
    "\n",
    "    # Resample the DataFrame with a desired frequency (e.g., 10 minutes) and forward fill\n",
    "    resampled_df = df.resample(freq).ffill()\n",
    "\n",
    "    # Reset the index to have the timestamp as a column again\n",
    "    resampled_df = resampled_df.reset_index()\n",
    "\n",
    "    return resampled_df\n",
    "\n",
    "#display(df1.loc[:50])\n",
    "#df_rssi1_ = resample_df(df_rssi1,freq = '5S')\n",
    "start_time = pd.to_datetime(date_year + \" 17:58:00\")\n",
    "end_time = pd.to_datetime(date_year + \" 18:10:01\")\n",
    "\n",
    "# Assuming your DataFrame is named \"df\"\n",
    "selected_df = df_rssi2[(df_rssi2['ts'] >= start_time) & (df_rssi2['ts'] <= end_time)]\n",
    "\n",
    "\n",
    "#df_rssi1_ = resample_df(df_rssi1,freq = '5S')\n",
    "df_rssi2_resample = resample_df(selected_df,freq = '1S')\n",
    "\n"
   ]
  },
  {
   "cell_type": "code",
   "execution_count": 33,
   "metadata": {},
   "outputs": [
    {
     "data": {
      "text/html": [
       "\n",
       "<style>\n",
       "  #altair-viz-259467139c3f430b952eb8149fc43291.vega-embed {\n",
       "    width: 100%;\n",
       "    display: flex;\n",
       "  }\n",
       "\n",
       "  #altair-viz-259467139c3f430b952eb8149fc43291.vega-embed details,\n",
       "  #altair-viz-259467139c3f430b952eb8149fc43291.vega-embed details summary {\n",
       "    position: relative;\n",
       "  }\n",
       "</style>\n",
       "<div id=\"altair-viz-259467139c3f430b952eb8149fc43291\"></div>\n",
       "<script type=\"text/javascript\">\n",
       "  var VEGA_DEBUG = (typeof VEGA_DEBUG == \"undefined\") ? {} : VEGA_DEBUG;\n",
       "  (function(spec, embedOpt){\n",
       "    let outputDiv = document.currentScript.previousElementSibling;\n",
       "    if (outputDiv.id !== \"altair-viz-259467139c3f430b952eb8149fc43291\") {\n",
       "      outputDiv = document.getElementById(\"altair-viz-259467139c3f430b952eb8149fc43291\");\n",
       "    }\n",
       "    const paths = {\n",
       "      \"vega\": \"https://cdn.jsdelivr.net/npm/vega@5?noext\",\n",
       "      \"vega-lib\": \"https://cdn.jsdelivr.net/npm/vega-lib?noext\",\n",
       "      \"vega-lite\": \"https://cdn.jsdelivr.net/npm/vega-lite@5.15.1?noext\",\n",
       "      \"vega-embed\": \"https://cdn.jsdelivr.net/npm/vega-embed@6?noext\",\n",
       "    };\n",
       "\n",
       "    function maybeLoadScript(lib, version) {\n",
       "      var key = `${lib.replace(\"-\", \"\")}_version`;\n",
       "      return (VEGA_DEBUG[key] == version) ?\n",
       "        Promise.resolve(paths[lib]) :\n",
       "        new Promise(function(resolve, reject) {\n",
       "          var s = document.createElement('script');\n",
       "          document.getElementsByTagName(\"head\")[0].appendChild(s);\n",
       "          s.async = true;\n",
       "          s.onload = () => {\n",
       "            VEGA_DEBUG[key] = version;\n",
       "            return resolve(paths[lib]);\n",
       "          };\n",
       "          s.onerror = () => reject(`Error loading script: ${paths[lib]}`);\n",
       "          s.src = paths[lib];\n",
       "        });\n",
       "    }\n",
       "\n",
       "    function showError(err) {\n",
       "      outputDiv.innerHTML = `<div class=\"error\" style=\"color:red;\">${err}</div>`;\n",
       "      throw err;\n",
       "    }\n",
       "\n",
       "    function displayChart(vegaEmbed) {\n",
       "      vegaEmbed(outputDiv, spec, embedOpt)\n",
       "        .catch(err => showError(`Javascript Error: ${err.message}<br>This usually means there's a typo in your chart specification. See the javascript console for the full traceback.`));\n",
       "    }\n",
       "\n",
       "    if(typeof define === \"function\" && define.amd) {\n",
       "      requirejs.config({paths});\n",
       "      require([\"vega-embed\"], displayChart, err => showError(`Error loading script: ${err.message}`));\n",
       "    } else {\n",
       "      maybeLoadScript(\"vega\", \"5\")\n",
       "        .then(() => maybeLoadScript(\"vega-lite\", \"5.15.1\"))\n",
       "        .then(() => maybeLoadScript(\"vega-embed\", \"6\"))\n",
       "        .catch(showError)\n",
       "        .then(() => displayChart(vegaEmbed));\n",
       "    }\n",
       "  })({\"config\": {\"view\": {\"continuousWidth\": 300, \"continuousHeight\": 300}, \"tick\": {\"bandSize\": 25}}, \"data\": {\"name\": \"data-4aa84042c9c707801eb51d56c17c2c5f\"}, \"mark\": {\"type\": \"tick\"}, \"encoding\": {\"color\": {\"field\": \"station\", \"legend\": {\"title\": \"Station\"}, \"scale\": {\"domain\": [1, 2, 3], \"range\": [\"cornflowerblue\", \"darkorange\", \"violet\"]}, \"type\": \"nominal\"}, \"x\": {\"axis\": {\"values\": [\"2023-08-24 17:58:00\", \"2023-08-24 18:00:00\", \"2023-08-24 18:02:00\", \"2023-08-24 18:04:00\", \"2023-08-24 18:06:00\", \"2023-08-24 18:08:00\", \"2023-08-24 18:10:00\"]}, \"field\": \"ts\", \"title\": \"Timestamp\", \"type\": \"temporal\"}, \"y\": {\"field\": \"station\", \"title\": \"Station\", \"type\": \"ordinal\"}}, \"height\": 100, \"title\": \"Classified station of beacon\", \"width\": 400, \"$schema\": \"https://vega.github.io/schema/vega-lite/v5.15.1.json\", \"datasets\": {\"data-4aa84042c9c707801eb51d56c17c2c5f\": [{\"ts\": \"2023-08-24 17:58:02\", \"rssi1\": -61.0, \"rssi2\": -68.0, \"rssi3\": -76.0, \"real station\": 1, \"station\": 1.0}, {\"ts\": \"2023-08-24 17:58:03\", \"rssi1\": -61.0, \"rssi2\": -68.0, \"rssi3\": -76.0, \"real station\": 1, \"station\": 1.0}, {\"ts\": \"2023-08-24 17:58:04\", \"rssi1\": -61.0, \"rssi2\": -68.0, \"rssi3\": -76.0, \"real station\": 1, \"station\": 1.0}, {\"ts\": \"2023-08-24 17:58:05\", \"rssi1\": -61.0, \"rssi2\": -68.0, \"rssi3\": -76.0, \"real station\": 1, \"station\": 1.0}, {\"ts\": \"2023-08-24 17:58:06\", \"rssi1\": -61.0, \"rssi2\": -68.0, \"rssi3\": -76.0, \"real station\": 1, \"station\": 1.0}, {\"ts\": \"2023-08-24 17:58:07\", \"rssi1\": -61.0, \"rssi2\": -68.0, \"rssi3\": -76.0, \"real station\": 1, \"station\": 1.0}, {\"ts\": \"2023-08-24 17:58:08\", \"rssi1\": -61.0, \"rssi2\": -68.0, \"rssi3\": -76.0, \"real station\": 1, \"station\": 1.0}, {\"ts\": \"2023-08-24 17:58:09\", \"rssi1\": -61.0, \"rssi2\": -68.0, \"rssi3\": -76.0, \"real station\": 1, \"station\": 1.0}, {\"ts\": \"2023-08-24 17:58:10\", \"rssi1\": -61.0, \"rssi2\": -68.0, \"rssi3\": -76.0, \"real station\": 1, \"station\": 1.0}, {\"ts\": \"2023-08-24 17:58:11\", \"rssi1\": -61.0, \"rssi2\": -68.0, \"rssi3\": -70.0, \"real station\": 1, \"station\": 1.0}, {\"ts\": \"2023-08-24 17:58:12\", \"rssi1\": -61.0, \"rssi2\": -68.0, \"rssi3\": -70.0, \"real station\": 1, \"station\": 1.0}, {\"ts\": \"2023-08-24 17:58:13\", \"rssi1\": -61.0, \"rssi2\": -68.0, \"rssi3\": -70.0, \"real station\": 1, \"station\": 1.0}, {\"ts\": \"2023-08-24 17:58:14\", \"rssi1\": -61.0, \"rssi2\": -68.0, \"rssi3\": -70.0, \"real station\": 1, \"station\": 1.0}, {\"ts\": \"2023-08-24 17:58:15\", \"rssi1\": -61.0, \"rssi2\": -74.0, \"rssi3\": -70.0, \"real station\": 1, \"station\": 1.0}, {\"ts\": \"2023-08-24 17:58:16\", \"rssi1\": -61.0, \"rssi2\": -74.0, \"rssi3\": -70.0, \"real station\": 1, \"station\": 1.0}, {\"ts\": \"2023-08-24 17:58:17\", \"rssi1\": -61.0, \"rssi2\": -74.0, \"rssi3\": -78.0, \"real station\": 1, \"station\": 1.0}, {\"ts\": \"2023-08-24 17:58:18\", \"rssi1\": -61.0, \"rssi2\": -74.0, \"rssi3\": -78.0, \"real station\": 1, \"station\": 1.0}, {\"ts\": \"2023-08-24 17:58:19\", \"rssi1\": -61.0, \"rssi2\": -74.0, \"rssi3\": -78.0, \"real station\": 1, \"station\": 1.0}, {\"ts\": \"2023-08-24 17:58:20\", \"rssi1\": -61.0, \"rssi2\": -74.0, \"rssi3\": -78.0, \"real station\": 1, \"station\": 1.0}, {\"ts\": \"2023-08-24 17:58:21\", \"rssi1\": -61.0, \"rssi2\": -74.0, \"rssi3\": -78.0, \"real station\": 1, \"station\": 1.0}, {\"ts\": \"2023-08-24 17:58:22\", \"rssi1\": -61.0, \"rssi2\": -74.0, \"rssi3\": -78.0, \"real station\": 1, \"station\": 1.0}, {\"ts\": \"2023-08-24 17:58:23\", \"rssi1\": -61.0, \"rssi2\": -74.0, \"rssi3\": -72.0, \"real station\": 1, \"station\": 1.0}, {\"ts\": \"2023-08-24 17:58:24\", \"rssi1\": -61.0, \"rssi2\": -74.0, \"rssi3\": -72.0, \"real station\": 1, \"station\": 1.0}, {\"ts\": \"2023-08-24 17:58:25\", \"rssi1\": -61.0, \"rssi2\": -74.0, \"rssi3\": -72.0, \"real station\": 1, \"station\": 1.0}, {\"ts\": \"2023-08-24 17:58:26\", \"rssi1\": -61.0, \"rssi2\": -74.0, \"rssi3\": -72.0, \"real station\": 1, \"station\": 1.0}, {\"ts\": \"2023-08-24 17:58:27\", \"rssi1\": -61.0, \"rssi2\": -74.0, \"rssi3\": -72.0, \"real station\": 1, \"station\": 1.0}, {\"ts\": \"2023-08-24 17:58:28\", \"rssi1\": -61.0, \"rssi2\": -74.0, \"rssi3\": -72.0, \"real station\": 1, \"station\": 1.0}, {\"ts\": \"2023-08-24 17:58:29\", \"rssi1\": -61.0, \"rssi2\": -74.0, \"rssi3\": -72.0, \"real station\": 1, \"station\": 1.0}, {\"ts\": \"2023-08-24 17:58:30\", \"rssi1\": -61.0, \"rssi2\": -74.0, \"rssi3\": -72.0, \"real station\": 1, \"station\": 1.0}, {\"ts\": \"2023-08-24 17:58:31\", \"rssi1\": -61.0, \"rssi2\": -74.0, \"rssi3\": -72.0, \"real station\": 1, \"station\": 1.0}, {\"ts\": \"2023-08-24 17:58:32\", \"rssi1\": -61.0, \"rssi2\": -74.0, \"rssi3\": -72.0, \"real station\": 1, \"station\": 1.0}, {\"ts\": \"2023-08-24 17:58:33\", \"rssi1\": -61.0, \"rssi2\": -74.0, \"rssi3\": -72.0, \"real station\": 1, \"station\": 1.0}, {\"ts\": \"2023-08-24 17:58:34\", \"rssi1\": -61.0, \"rssi2\": -74.0, \"rssi3\": -72.0, \"real station\": 1, \"station\": 1.0}, {\"ts\": \"2023-08-24 17:58:35\", \"rssi1\": -61.0, \"rssi2\": -74.0, \"rssi3\": -72.0, \"real station\": 1, \"station\": 1.0}, {\"ts\": \"2023-08-24 17:58:36\", \"rssi1\": -61.0, \"rssi2\": -74.0, \"rssi3\": -72.0, \"real station\": 1, \"station\": 1.0}, {\"ts\": \"2023-08-24 17:58:37\", \"rssi1\": -61.0, \"rssi2\": -74.0, \"rssi3\": -72.0, \"real station\": 1, \"station\": 1.0}, {\"ts\": \"2023-08-24 17:58:38\", \"rssi1\": -61.0, \"rssi2\": -74.0, \"rssi3\": -72.0, \"real station\": 1, \"station\": 1.0}, {\"ts\": \"2023-08-24 17:58:39\", \"rssi1\": -61.0, \"rssi2\": -74.0, \"rssi3\": -72.0, \"real station\": 1, \"station\": 1.0}, {\"ts\": \"2023-08-24 17:58:40\", \"rssi1\": -61.0, \"rssi2\": -74.0, \"rssi3\": -72.0, \"real station\": 1, \"station\": 1.0}, {\"ts\": \"2023-08-24 17:58:41\", \"rssi1\": -61.0, \"rssi2\": -74.0, \"rssi3\": -79.0, \"real station\": 1, \"station\": 1.0}, {\"ts\": \"2023-08-24 17:58:42\", \"rssi1\": -61.0, \"rssi2\": -74.0, \"rssi3\": -79.0, \"real station\": 1, \"station\": 1.0}, {\"ts\": \"2023-08-24 17:58:43\", \"rssi1\": -61.0, \"rssi2\": -74.0, \"rssi3\": -79.0, \"real station\": 1, \"station\": 1.0}, {\"ts\": \"2023-08-24 17:58:44\", \"rssi1\": -51.0, \"rssi2\": -74.0, \"rssi3\": -79.0, \"real station\": 1, \"station\": 1.0}, {\"ts\": \"2023-08-24 17:58:45\", \"rssi1\": -51.0, \"rssi2\": -74.0, \"rssi3\": -79.0, \"real station\": 1, \"station\": 1.0}, {\"ts\": \"2023-08-24 17:58:46\", \"rssi1\": -51.0, \"rssi2\": -74.0, \"rssi3\": -79.0, \"real station\": 1, \"station\": 1.0}, {\"ts\": \"2023-08-24 17:58:47\", \"rssi1\": -51.0, \"rssi2\": -74.0, \"rssi3\": -67.0, \"real station\": 1, \"station\": 1.0}, {\"ts\": \"2023-08-24 17:58:48\", \"rssi1\": -51.0, \"rssi2\": -74.0, \"rssi3\": -67.0, \"real station\": 1, \"station\": 1.0}, {\"ts\": \"2023-08-24 17:58:49\", \"rssi1\": -51.0, \"rssi2\": -74.0, \"rssi3\": -67.0, \"real station\": 1, \"station\": 1.0}, {\"ts\": \"2023-08-24 17:58:50\", \"rssi1\": -58.0, \"rssi2\": -74.0, \"rssi3\": -67.0, \"real station\": 1, \"station\": 1.0}, {\"ts\": \"2023-08-24 17:58:51\", \"rssi1\": -58.0, \"rssi2\": -74.0, \"rssi3\": -67.0, \"real station\": 1, \"station\": 1.0}, {\"ts\": \"2023-08-24 17:58:52\", \"rssi1\": -58.0, \"rssi2\": -74.0, \"rssi3\": -67.0, \"real station\": 1, \"station\": 1.0}, {\"ts\": \"2023-08-24 17:58:53\", \"rssi1\": -58.0, \"rssi2\": -74.0, \"rssi3\": -78.0, \"real station\": 1, \"station\": 1.0}, {\"ts\": \"2023-08-24 17:58:54\", \"rssi1\": -58.0, \"rssi2\": -74.0, \"rssi3\": -78.0, \"real station\": 1, \"station\": 1.0}, {\"ts\": \"2023-08-24 17:58:55\", \"rssi1\": -58.0, \"rssi2\": -74.0, \"rssi3\": -78.0, \"real station\": 1, \"station\": 1.0}, {\"ts\": \"2023-08-24 17:58:56\", \"rssi1\": -58.0, \"rssi2\": -74.0, \"rssi3\": -78.0, \"real station\": 1, \"station\": 1.0}, {\"ts\": \"2023-08-24 17:58:57\", \"rssi1\": -58.0, \"rssi2\": -67.0, \"rssi3\": -78.0, \"real station\": 1, \"station\": 1.0}, {\"ts\": \"2023-08-24 17:58:58\", \"rssi1\": -58.0, \"rssi2\": -67.0, \"rssi3\": -78.0, \"real station\": 1, \"station\": 1.0}, {\"ts\": \"2023-08-24 17:58:59\", \"rssi1\": -58.0, \"rssi2\": -67.0, \"rssi3\": -78.0, \"real station\": 1, \"station\": 1.0}, {\"ts\": \"2023-08-24 17:59:00\", \"rssi1\": -58.0, \"rssi2\": -67.0, \"rssi3\": -78.0, \"real station\": 1, \"station\": 1.0}, {\"ts\": \"2023-08-24 17:59:01\", \"rssi1\": -58.0, \"rssi2\": -67.0, \"rssi3\": -78.0, \"real station\": 1, \"station\": 1.0}, {\"ts\": \"2023-08-24 17:59:02\", \"rssi1\": -65.0, \"rssi2\": -67.0, \"rssi3\": -78.0, \"real station\": 1, \"station\": 1.0}, {\"ts\": \"2023-08-24 17:59:03\", \"rssi1\": -65.0, \"rssi2\": -67.0, \"rssi3\": -78.0, \"real station\": 1, \"station\": 1.0}, {\"ts\": \"2023-08-24 17:59:04\", \"rssi1\": -65.0, \"rssi2\": -67.0, \"rssi3\": -78.0, \"real station\": 1, \"station\": 1.0}, {\"ts\": \"2023-08-24 17:59:05\", \"rssi1\": -65.0, \"rssi2\": -67.0, \"rssi3\": -71.0, \"real station\": 1, \"station\": 1.0}, {\"ts\": \"2023-08-24 17:59:06\", \"rssi1\": -65.0, \"rssi2\": -67.0, \"rssi3\": -71.0, \"real station\": 1, \"station\": 1.0}, {\"ts\": \"2023-08-24 17:59:07\", \"rssi1\": -65.0, \"rssi2\": -67.0, \"rssi3\": -71.0, \"real station\": 1, \"station\": 1.0}, {\"ts\": \"2023-08-24 17:59:08\", \"rssi1\": -65.0, \"rssi2\": -67.0, \"rssi3\": -71.0, \"real station\": 1, \"station\": 1.0}, {\"ts\": \"2023-08-24 17:59:09\", \"rssi1\": -65.0, \"rssi2\": -67.0, \"rssi3\": -71.0, \"real station\": 1, \"station\": 1.0}, {\"ts\": \"2023-08-24 17:59:10\", \"rssi1\": -65.0, \"rssi2\": -67.0, \"rssi3\": -71.0, \"real station\": 1, \"station\": 1.0}, {\"ts\": \"2023-08-24 17:59:11\", \"rssi1\": -65.0, \"rssi2\": -67.0, \"rssi3\": -71.0, \"real station\": 1, \"station\": 1.0}, {\"ts\": \"2023-08-24 17:59:12\", \"rssi1\": -65.0, \"rssi2\": -67.0, \"rssi3\": -71.0, \"real station\": 1, \"station\": 1.0}, {\"ts\": \"2023-08-24 17:59:13\", \"rssi1\": -65.0, \"rssi2\": -67.0, \"rssi3\": -71.0, \"real station\": 1, \"station\": 1.0}, {\"ts\": \"2023-08-24 17:59:14\", \"rssi1\": -65.0, \"rssi2\": -67.0, \"rssi3\": -71.0, \"real station\": 1, \"station\": 1.0}, {\"ts\": \"2023-08-24 17:59:15\", \"rssi1\": -65.0, \"rssi2\": -73.0, \"rssi3\": -71.0, \"real station\": 1, \"station\": 1.0}, {\"ts\": \"2023-08-24 17:59:16\", \"rssi1\": -65.0, \"rssi2\": -73.0, \"rssi3\": -71.0, \"real station\": 1, \"station\": 1.0}, {\"ts\": \"2023-08-24 17:59:17\", \"rssi1\": -65.0, \"rssi2\": -73.0, \"rssi3\": -71.0, \"real station\": 1, \"station\": 1.0}, {\"ts\": \"2023-08-24 17:59:18\", \"rssi1\": -65.0, \"rssi2\": -73.0, \"rssi3\": -71.0, \"real station\": 1, \"station\": 1.0}, {\"ts\": \"2023-08-24 17:59:19\", \"rssi1\": -65.0, \"rssi2\": -73.0, \"rssi3\": -71.0, \"real station\": 1, \"station\": 1.0}, {\"ts\": \"2023-08-24 17:59:20\", \"rssi1\": -48.0, \"rssi2\": -73.0, \"rssi3\": -71.0, \"real station\": 1, \"station\": 1.0}, {\"ts\": \"2023-08-24 17:59:21\", \"rssi1\": -48.0, \"rssi2\": -73.0, \"rssi3\": -71.0, \"real station\": 1, \"station\": 1.0}, {\"ts\": \"2023-08-24 17:59:22\", \"rssi1\": -48.0, \"rssi2\": -73.0, \"rssi3\": -71.0, \"real station\": 1, \"station\": 1.0}, {\"ts\": \"2023-08-24 17:59:23\", \"rssi1\": -48.0, \"rssi2\": -73.0, \"rssi3\": -71.0, \"real station\": 1, \"station\": 1.0}, {\"ts\": \"2023-08-24 17:59:24\", \"rssi1\": -48.0, \"rssi2\": -73.0, \"rssi3\": -71.0, \"real station\": 1, \"station\": 1.0}, {\"ts\": \"2023-08-24 17:59:25\", \"rssi1\": -48.0, \"rssi2\": -73.0, \"rssi3\": -71.0, \"real station\": 1, \"station\": 1.0}, {\"ts\": \"2023-08-24 17:59:26\", \"rssi1\": -48.0, \"rssi2\": -73.0, \"rssi3\": -71.0, \"real station\": 1, \"station\": 1.0}, {\"ts\": \"2023-08-24 17:59:27\", \"rssi1\": -48.0, \"rssi2\": -73.0, \"rssi3\": -71.0, \"real station\": 1, \"station\": 1.0}, {\"ts\": \"2023-08-24 17:59:28\", \"rssi1\": -48.0, \"rssi2\": -73.0, \"rssi3\": -71.0, \"real station\": 1, \"station\": 1.0}, {\"ts\": \"2023-08-24 17:59:29\", \"rssi1\": -48.0, \"rssi2\": -73.0, \"rssi3\": -71.0, \"real station\": 1, \"station\": 1.0}, {\"ts\": \"2023-08-24 17:59:30\", \"rssi1\": -48.0, \"rssi2\": -73.0, \"rssi3\": -71.0, \"real station\": 1, \"station\": 1.0}, {\"ts\": \"2023-08-24 17:59:31\", \"rssi1\": -48.0, \"rssi2\": -73.0, \"rssi3\": -71.0, \"real station\": 1, \"station\": 1.0}, {\"ts\": \"2023-08-24 17:59:32\", \"rssi1\": -48.0, \"rssi2\": -73.0, \"rssi3\": -71.0, \"real station\": 1, \"station\": 1.0}, {\"ts\": \"2023-08-24 17:59:33\", \"rssi1\": -48.0, \"rssi2\": -65.0, \"rssi3\": -71.0, \"real station\": 1, \"station\": 1.0}, {\"ts\": \"2023-08-24 17:59:34\", \"rssi1\": -48.0, \"rssi2\": -65.0, \"rssi3\": -71.0, \"real station\": 1, \"station\": 1.0}, {\"ts\": \"2023-08-24 17:59:35\", \"rssi1\": -48.0, \"rssi2\": -65.0, \"rssi3\": -71.0, \"real station\": 1, \"station\": 1.0}, {\"ts\": \"2023-08-24 17:59:36\", \"rssi1\": -48.0, \"rssi2\": -65.0, \"rssi3\": -71.0, \"real station\": 1, \"station\": 1.0}, {\"ts\": \"2023-08-24 17:59:37\", \"rssi1\": -48.0, \"rssi2\": -65.0, \"rssi3\": -71.0, \"real station\": 1, \"station\": 1.0}, {\"ts\": \"2023-08-24 17:59:38\", \"rssi1\": -66.0, \"rssi2\": -65.0, \"rssi3\": -71.0, \"real station\": 1, \"station\": 1.0}, {\"ts\": \"2023-08-24 17:59:39\", \"rssi1\": -66.0, \"rssi2\": -65.0, \"rssi3\": -71.0, \"real station\": 1, \"station\": 1.0}, {\"ts\": \"2023-08-24 17:59:40\", \"rssi1\": -66.0, \"rssi2\": -65.0, \"rssi3\": -71.0, \"real station\": 1, \"station\": 1.0}, {\"ts\": \"2023-08-24 17:59:41\", \"rssi1\": -66.0, \"rssi2\": -65.0, \"rssi3\": -71.0, \"real station\": 1, \"station\": 1.0}, {\"ts\": \"2023-08-24 17:59:42\", \"rssi1\": -66.0, \"rssi2\": -65.0, \"rssi3\": -71.0, \"real station\": 1, \"station\": 1.0}, {\"ts\": \"2023-08-24 17:59:43\", \"rssi1\": -66.0, \"rssi2\": -65.0, \"rssi3\": -71.0, \"real station\": 1, \"station\": 1.0}, {\"ts\": \"2023-08-24 17:59:44\", \"rssi1\": -60.0, \"rssi2\": -65.0, \"rssi3\": -71.0, \"real station\": 1, \"station\": 1.0}, {\"ts\": \"2023-08-24 17:59:45\", \"rssi1\": -60.0, \"rssi2\": -71.0, \"rssi3\": -71.0, \"real station\": 1, \"station\": 1.0}, {\"ts\": \"2023-08-24 17:59:46\", \"rssi1\": -60.0, \"rssi2\": -71.0, \"rssi3\": -71.0, \"real station\": 1, \"station\": 1.0}, {\"ts\": \"2023-08-24 17:59:47\", \"rssi1\": -60.0, \"rssi2\": -71.0, \"rssi3\": -71.0, \"real station\": 1, \"station\": 1.0}, {\"ts\": \"2023-08-24 17:59:48\", \"rssi1\": -60.0, \"rssi2\": -71.0, \"rssi3\": -71.0, \"real station\": 1, \"station\": 1.0}, {\"ts\": \"2023-08-24 17:59:49\", \"rssi1\": -60.0, \"rssi2\": -71.0, \"rssi3\": -71.0, \"real station\": 1, \"station\": 1.0}, {\"ts\": \"2023-08-24 17:59:50\", \"rssi1\": -60.0, \"rssi2\": -71.0, \"rssi3\": -71.0, \"real station\": 1, \"station\": 1.0}, {\"ts\": \"2023-08-24 17:59:51\", \"rssi1\": -60.0, \"rssi2\": -71.0, \"rssi3\": -71.0, \"real station\": 1, \"station\": 1.0}, {\"ts\": \"2023-08-24 17:59:52\", \"rssi1\": -60.0, \"rssi2\": -71.0, \"rssi3\": -71.0, \"real station\": 1, \"station\": 1.0}, {\"ts\": \"2023-08-24 17:59:53\", \"rssi1\": -60.0, \"rssi2\": -71.0, \"rssi3\": -71.0, \"real station\": 1, \"station\": 1.0}, {\"ts\": \"2023-08-24 17:59:54\", \"rssi1\": -60.0, \"rssi2\": -71.0, \"rssi3\": -71.0, \"real station\": 1, \"station\": 1.0}, {\"ts\": \"2023-08-24 17:59:55\", \"rssi1\": -60.0, \"rssi2\": -71.0, \"rssi3\": -71.0, \"real station\": 1, \"station\": 1.0}, {\"ts\": \"2023-08-24 17:59:56\", \"rssi1\": -53.0, \"rssi2\": -71.0, \"rssi3\": -71.0, \"real station\": 1, \"station\": 1.0}, {\"ts\": \"2023-08-24 17:59:57\", \"rssi1\": -53.0, \"rssi2\": -71.0, \"rssi3\": -71.0, \"real station\": 1, \"station\": 1.0}, {\"ts\": \"2023-08-24 17:59:58\", \"rssi1\": -53.0, \"rssi2\": -71.0, \"rssi3\": -71.0, \"real station\": 1, \"station\": 1.0}, {\"ts\": \"2023-08-24 17:59:59\", \"rssi1\": -53.0, \"rssi2\": -71.0, \"rssi3\": -71.0, \"real station\": 1, \"station\": 1.0}, {\"ts\": \"2023-08-24 18:00:00\", \"rssi1\": -53.0, \"rssi2\": -71.0, \"rssi3\": -71.0, \"real station\": 1, \"station\": 1.0}, {\"ts\": \"2023-08-24 18:00:01\", \"rssi1\": -53.0, \"rssi2\": -71.0, \"rssi3\": -71.0, \"real station\": 1, \"station\": 1.0}, {\"ts\": \"2023-08-24 18:00:02\", \"rssi1\": -53.0, \"rssi2\": -71.0, \"rssi3\": -71.0, \"real station\": 1, \"station\": 1.0}, {\"ts\": \"2023-08-24 18:00:03\", \"rssi1\": -53.0, \"rssi2\": -71.0, \"rssi3\": -71.0, \"real station\": 1, \"station\": 1.0}, {\"ts\": \"2023-08-24 18:00:04\", \"rssi1\": -53.0, \"rssi2\": -71.0, \"rssi3\": -71.0, \"real station\": 1, \"station\": 1.0}, {\"ts\": \"2023-08-24 18:00:05\", \"rssi1\": -53.0, \"rssi2\": -71.0, \"rssi3\": -71.0, \"real station\": 1, \"station\": 1.0}, {\"ts\": \"2023-08-24 18:00:06\", \"rssi1\": -53.0, \"rssi2\": -71.0, \"rssi3\": -71.0, \"real station\": 1, \"station\": 1.0}, {\"ts\": \"2023-08-24 18:00:07\", \"rssi1\": -53.0, \"rssi2\": -71.0, \"rssi3\": -71.0, \"real station\": 1, \"station\": 1.0}, {\"ts\": \"2023-08-24 18:00:08\", \"rssi1\": -61.0, \"rssi2\": -71.0, \"rssi3\": -71.0, \"real station\": 1, \"station\": 1.0}, {\"ts\": \"2023-08-24 18:00:09\", \"rssi1\": -61.0, \"rssi2\": -100.0, \"rssi3\": -71.0, \"real station\": 1, \"station\": 1.0}, {\"ts\": \"2023-08-24 18:00:10\", \"rssi1\": -61.0, \"rssi2\": -100.0, \"rssi3\": -71.0, \"real station\": 1, \"station\": 1.0}, {\"ts\": \"2023-08-24 18:00:11\", \"rssi1\": -61.0, \"rssi2\": -100.0, \"rssi3\": -71.0, \"real station\": 1, \"station\": 1.0}, {\"ts\": \"2023-08-24 18:00:12\", \"rssi1\": -61.0, \"rssi2\": -100.0, \"rssi3\": -71.0, \"real station\": 1, \"station\": 1.0}, {\"ts\": \"2023-08-24 18:00:13\", \"rssi1\": -61.0, \"rssi2\": -100.0, \"rssi3\": -71.0, \"real station\": 1, \"station\": 1.0}, {\"ts\": \"2023-08-24 18:00:14\", \"rssi1\": -61.0, \"rssi2\": -100.0, \"rssi3\": -71.0, \"real station\": 1, \"station\": 1.0}, {\"ts\": \"2023-08-24 18:00:15\", \"rssi1\": -61.0, \"rssi2\": -100.0, \"rssi3\": -71.0, \"real station\": 1, \"station\": 1.0}, {\"ts\": \"2023-08-24 18:00:16\", \"rssi1\": -61.0, \"rssi2\": -100.0, \"rssi3\": -71.0, \"real station\": 1, \"station\": 1.0}, {\"ts\": \"2023-08-24 18:00:17\", \"rssi1\": -61.0, \"rssi2\": -100.0, \"rssi3\": -71.0, \"real station\": 1, \"station\": 1.0}, {\"ts\": \"2023-08-24 18:00:18\", \"rssi1\": -61.0, \"rssi2\": -100.0, \"rssi3\": -71.0, \"real station\": 1, \"station\": 1.0}, {\"ts\": \"2023-08-24 18:00:19\", \"rssi1\": -61.0, \"rssi2\": -100.0, \"rssi3\": -71.0, \"real station\": 1, \"station\": 1.0}, {\"ts\": \"2023-08-24 18:00:20\", \"rssi1\": -61.0, \"rssi2\": -100.0, \"rssi3\": -71.0, \"real station\": 1, \"station\": 1.0}, {\"ts\": \"2023-08-24 18:00:21\", \"rssi1\": -61.0, \"rssi2\": -73.0, \"rssi3\": -71.0, \"real station\": 1, \"station\": 1.0}, {\"ts\": \"2023-08-24 18:00:22\", \"rssi1\": -61.0, \"rssi2\": -73.0, \"rssi3\": -71.0, \"real station\": 1, \"station\": 1.0}, {\"ts\": \"2023-08-24 18:00:23\", \"rssi1\": -61.0, \"rssi2\": -73.0, \"rssi3\": -71.0, \"real station\": 1, \"station\": 1.0}, {\"ts\": \"2023-08-24 18:00:24\", \"rssi1\": -61.0, \"rssi2\": -73.0, \"rssi3\": -71.0, \"real station\": 1, \"station\": 1.0}, {\"ts\": \"2023-08-24 18:00:25\", \"rssi1\": -61.0, \"rssi2\": -73.0, \"rssi3\": -71.0, \"real station\": 1, \"station\": 1.0}, {\"ts\": \"2023-08-24 18:00:26\", \"rssi1\": -61.0, \"rssi2\": -73.0, \"rssi3\": -71.0, \"real station\": 1, \"station\": 1.0}, {\"ts\": \"2023-08-24 18:00:27\", \"rssi1\": -61.0, \"rssi2\": -73.0, \"rssi3\": -71.0, \"real station\": 1, \"station\": 1.0}, {\"ts\": \"2023-08-24 18:00:28\", \"rssi1\": -61.0, \"rssi2\": -73.0, \"rssi3\": -71.0, \"real station\": 1, \"station\": 1.0}, {\"ts\": \"2023-08-24 18:00:29\", \"rssi1\": -61.0, \"rssi2\": -73.0, \"rssi3\": -71.0, \"real station\": 1, \"station\": 1.0}, {\"ts\": \"2023-08-24 18:00:30\", \"rssi1\": -61.0, \"rssi2\": -73.0, \"rssi3\": -71.0, \"real station\": 1, \"station\": 1.0}, {\"ts\": \"2023-08-24 18:00:31\", \"rssi1\": -61.0, \"rssi2\": -73.0, \"rssi3\": -71.0, \"real station\": 1, \"station\": 1.0}, {\"ts\": \"2023-08-24 18:00:32\", \"rssi1\": -61.0, \"rssi2\": -73.0, \"rssi3\": -71.0, \"real station\": 1, \"station\": 1.0}, {\"ts\": \"2023-08-24 18:00:33\", \"rssi1\": -61.0, \"rssi2\": -67.0, \"rssi3\": -71.0, \"real station\": 1, \"station\": 1.0}, {\"ts\": \"2023-08-24 18:00:34\", \"rssi1\": -61.0, \"rssi2\": -67.0, \"rssi3\": -71.0, \"real station\": 1, \"station\": 1.0}, {\"ts\": \"2023-08-24 18:00:35\", \"rssi1\": -61.0, \"rssi2\": -67.0, \"rssi3\": -71.0, \"real station\": 1, \"station\": 1.0}, {\"ts\": \"2023-08-24 18:00:36\", \"rssi1\": -61.0, \"rssi2\": -67.0, \"rssi3\": -71.0, \"real station\": 1, \"station\": 1.0}, {\"ts\": \"2023-08-24 18:00:37\", \"rssi1\": -61.0, \"rssi2\": -67.0, \"rssi3\": -71.0, \"real station\": 1, \"station\": 1.0}, {\"ts\": \"2023-08-24 18:00:38\", \"rssi1\": -67.0, \"rssi2\": -67.0, \"rssi3\": -71.0, \"real station\": 1, \"station\": 1.0}, {\"ts\": \"2023-08-24 18:00:39\", \"rssi1\": -67.0, \"rssi2\": -78.0, \"rssi3\": -71.0, \"real station\": 1, \"station\": 1.0}, {\"ts\": \"2023-08-24 18:00:40\", \"rssi1\": -67.0, \"rssi2\": -78.0, \"rssi3\": -71.0, \"real station\": 1, \"station\": 1.0}, {\"ts\": \"2023-08-24 18:00:41\", \"rssi1\": -67.0, \"rssi2\": -78.0, \"rssi3\": -71.0, \"real station\": 1, \"station\": 1.0}, {\"ts\": \"2023-08-24 18:00:42\", \"rssi1\": -67.0, \"rssi2\": -78.0, \"rssi3\": -65.0, \"real station\": 0, \"station\": 2.0}, {\"ts\": \"2023-08-24 18:00:43\", \"rssi1\": -67.0, \"rssi2\": -78.0, \"rssi3\": -65.0, \"real station\": 0, \"station\": 2.0}, {\"ts\": \"2023-08-24 18:00:44\", \"rssi1\": -73.0, \"rssi2\": -78.0, \"rssi3\": -65.0, \"real station\": 0, \"station\": 2.0}, {\"ts\": \"2023-08-24 18:00:45\", \"rssi1\": -73.0, \"rssi2\": -56.0, \"rssi3\": -65.0, \"real station\": 0, \"station\": 2.0}, {\"ts\": \"2023-08-24 18:00:46\", \"rssi1\": -73.0, \"rssi2\": -56.0, \"rssi3\": -65.0, \"real station\": 0, \"station\": 2.0}, {\"ts\": \"2023-08-24 18:00:47\", \"rssi1\": -73.0, \"rssi2\": -56.0, \"rssi3\": -65.0, \"real station\": 0, \"station\": 2.0}, {\"ts\": \"2023-08-24 18:00:48\", \"rssi1\": -73.0, \"rssi2\": -56.0, \"rssi3\": -65.0, \"real station\": 0, \"station\": 2.0}, {\"ts\": \"2023-08-24 18:00:49\", \"rssi1\": -73.0, \"rssi2\": -56.0, \"rssi3\": -65.0, \"real station\": 0, \"station\": 2.0}, {\"ts\": \"2023-08-24 18:00:50\", \"rssi1\": -73.0, \"rssi2\": -56.0, \"rssi3\": -65.0, \"real station\": 0, \"station\": 2.0}, {\"ts\": \"2023-08-24 18:00:51\", \"rssi1\": -73.0, \"rssi2\": -65.0, \"rssi3\": -65.0, \"real station\": 0, \"station\": 2.0}, {\"ts\": \"2023-08-24 18:00:52\", \"rssi1\": -73.0, \"rssi2\": -65.0, \"rssi3\": -65.0, \"real station\": 0, \"station\": 2.0}, {\"ts\": \"2023-08-24 18:00:53\", \"rssi1\": -73.0, \"rssi2\": -65.0, \"rssi3\": -65.0, \"real station\": 0, \"station\": 2.0}, {\"ts\": \"2023-08-24 18:00:54\", \"rssi1\": -73.0, \"rssi2\": -65.0, \"rssi3\": -65.0, \"real station\": 0, \"station\": 2.0}, {\"ts\": \"2023-08-24 18:00:55\", \"rssi1\": -73.0, \"rssi2\": -65.0, \"rssi3\": -65.0, \"real station\": 0, \"station\": 2.0}, {\"ts\": \"2023-08-24 18:00:56\", \"rssi1\": -73.0, \"rssi2\": -65.0, \"rssi3\": -65.0, \"real station\": 0, \"station\": 2.0}, {\"ts\": \"2023-08-24 18:00:57\", \"rssi1\": -73.0, \"rssi2\": -65.0, \"rssi3\": -65.0, \"real station\": 0, \"station\": 2.0}, {\"ts\": \"2023-08-24 18:00:58\", \"rssi1\": -73.0, \"rssi2\": -65.0, \"rssi3\": -65.0, \"real station\": 0, \"station\": 2.0}, {\"ts\": \"2023-08-24 18:00:59\", \"rssi1\": -73.0, \"rssi2\": -65.0, \"rssi3\": -65.0, \"real station\": 0, \"station\": 2.0}, {\"ts\": \"2023-08-24 18:01:00\", \"rssi1\": -73.0, \"rssi2\": -65.0, \"rssi3\": -65.0, \"real station\": 0, \"station\": 2.0}, {\"ts\": \"2023-08-24 18:01:01\", \"rssi1\": -73.0, \"rssi2\": -65.0, \"rssi3\": -65.0, \"real station\": 0, \"station\": 2.0}, {\"ts\": \"2023-08-24 18:01:02\", \"rssi1\": -73.0, \"rssi2\": -65.0, \"rssi3\": -65.0, \"real station\": 0, \"station\": 2.0}, {\"ts\": \"2023-08-24 18:01:03\", \"rssi1\": -73.0, \"rssi2\": -65.0, \"rssi3\": -65.0, \"real station\": 0, \"station\": 2.0}, {\"ts\": \"2023-08-24 18:01:04\", \"rssi1\": -73.0, \"rssi2\": -65.0, \"rssi3\": -65.0, \"real station\": 0, \"station\": 2.0}, {\"ts\": \"2023-08-24 18:01:05\", \"rssi1\": -73.0, \"rssi2\": -65.0, \"rssi3\": -65.0, \"real station\": 0, \"station\": 2.0}, {\"ts\": \"2023-08-24 18:01:06\", \"rssi1\": -73.0, \"rssi2\": -65.0, \"rssi3\": -55.0, \"real station\": 0, \"station\": 2.0}, {\"ts\": \"2023-08-24 18:01:07\", \"rssi1\": -73.0, \"rssi2\": -65.0, \"rssi3\": -55.0, \"real station\": 0, \"station\": 2.0}, {\"ts\": \"2023-08-24 18:01:08\", \"rssi1\": -73.0, \"rssi2\": -65.0, \"rssi3\": -55.0, \"real station\": 0, \"station\": 2.0}, {\"ts\": \"2023-08-24 18:01:09\", \"rssi1\": -73.0, \"rssi2\": -65.0, \"rssi3\": -55.0, \"real station\": 0, \"station\": 2.0}, {\"ts\": \"2023-08-24 18:01:10\", \"rssi1\": -73.0, \"rssi2\": -65.0, \"rssi3\": -55.0, \"real station\": 0, \"station\": 2.0}, {\"ts\": \"2023-08-24 18:01:11\", \"rssi1\": -73.0, \"rssi2\": -65.0, \"rssi3\": -55.0, \"real station\": 0, \"station\": 2.0}, {\"ts\": \"2023-08-24 18:01:12\", \"rssi1\": -73.0, \"rssi2\": -65.0, \"rssi3\": -73.0, \"real station\": 0, \"station\": 2.0}, {\"ts\": \"2023-08-24 18:01:13\", \"rssi1\": -73.0, \"rssi2\": -65.0, \"rssi3\": -73.0, \"real station\": 0, \"station\": 2.0}, {\"ts\": \"2023-08-24 18:01:14\", \"rssi1\": -73.0, \"rssi2\": -65.0, \"rssi3\": -73.0, \"real station\": 0, \"station\": 2.0}, {\"ts\": \"2023-08-24 18:01:15\", \"rssi1\": -73.0, \"rssi2\": -53.0, \"rssi3\": -73.0, \"real station\": 0, \"station\": 2.0}, {\"ts\": \"2023-08-24 18:01:16\", \"rssi1\": -73.0, \"rssi2\": -53.0, \"rssi3\": -73.0, \"real station\": 0, \"station\": 2.0}, {\"ts\": \"2023-08-24 18:01:17\", \"rssi1\": -73.0, \"rssi2\": -53.0, \"rssi3\": -73.0, \"real station\": 0, \"station\": 2.0}, {\"ts\": \"2023-08-24 18:01:18\", \"rssi1\": -73.0, \"rssi2\": -53.0, \"rssi3\": -64.0, \"real station\": 0, \"station\": 2.0}, {\"ts\": \"2023-08-24 18:01:19\", \"rssi1\": -73.0, \"rssi2\": -53.0, \"rssi3\": -64.0, \"real station\": 0, \"station\": 2.0}, {\"ts\": \"2023-08-24 18:01:20\", \"rssi1\": -63.0, \"rssi2\": -53.0, \"rssi3\": -64.0, \"real station\": 0, \"station\": 2.0}, {\"ts\": \"2023-08-24 18:01:21\", \"rssi1\": -63.0, \"rssi2\": -53.0, \"rssi3\": -64.0, \"real station\": 0, \"station\": 2.0}, {\"ts\": \"2023-08-24 18:01:22\", \"rssi1\": -63.0, \"rssi2\": -53.0, \"rssi3\": -64.0, \"real station\": 0, \"station\": 2.0}, {\"ts\": \"2023-08-24 18:01:23\", \"rssi1\": -63.0, \"rssi2\": -53.0, \"rssi3\": -64.0, \"real station\": 0, \"station\": 2.0}, {\"ts\": \"2023-08-24 18:01:24\", \"rssi1\": -63.0, \"rssi2\": -53.0, \"rssi3\": -64.0, \"real station\": 0, \"station\": 2.0}, {\"ts\": \"2023-08-24 18:01:25\", \"rssi1\": -63.0, \"rssi2\": -53.0, \"rssi3\": -64.0, \"real station\": 0, \"station\": 2.0}, {\"ts\": \"2023-08-24 18:01:26\", \"rssi1\": -69.0, \"rssi2\": -53.0, \"rssi3\": -64.0, \"real station\": 0, \"station\": 2.0}, {\"ts\": \"2023-08-24 18:01:27\", \"rssi1\": -69.0, \"rssi2\": -65.0, \"rssi3\": -64.0, \"real station\": 0, \"station\": 2.0}, {\"ts\": \"2023-08-24 18:01:28\", \"rssi1\": -69.0, \"rssi2\": -65.0, \"rssi3\": -64.0, \"real station\": 0, \"station\": 2.0}, {\"ts\": \"2023-08-24 18:01:29\", \"rssi1\": -69.0, \"rssi2\": -65.0, \"rssi3\": -64.0, \"real station\": 0, \"station\": 2.0}, {\"ts\": \"2023-08-24 18:01:30\", \"rssi1\": -69.0, \"rssi2\": -65.0, \"rssi3\": -58.0, \"real station\": 0, \"station\": 2.0}, {\"ts\": \"2023-08-24 18:01:31\", \"rssi1\": -69.0, \"rssi2\": -65.0, \"rssi3\": -58.0, \"real station\": 0, \"station\": 2.0}, {\"ts\": \"2023-08-24 18:01:32\", \"rssi1\": -69.0, \"rssi2\": -65.0, \"rssi3\": -58.0, \"real station\": 0, \"station\": 2.0}, {\"ts\": \"2023-08-24 18:01:33\", \"rssi1\": -69.0, \"rssi2\": -65.0, \"rssi3\": -58.0, \"real station\": 0, \"station\": 2.0}, {\"ts\": \"2023-08-24 18:01:34\", \"rssi1\": -69.0, \"rssi2\": -65.0, \"rssi3\": -58.0, \"real station\": 0, \"station\": 2.0}, {\"ts\": \"2023-08-24 18:01:35\", \"rssi1\": -69.0, \"rssi2\": -65.0, \"rssi3\": -58.0, \"real station\": 0, \"station\": 2.0}, {\"ts\": \"2023-08-24 18:01:36\", \"rssi1\": -69.0, \"rssi2\": -65.0, \"rssi3\": -65.0, \"real station\": 0, \"station\": 2.0}, {\"ts\": \"2023-08-24 18:01:37\", \"rssi1\": -69.0, \"rssi2\": -65.0, \"rssi3\": -65.0, \"real station\": 0, \"station\": 2.0}, {\"ts\": \"2023-08-24 18:01:38\", \"rssi1\": -63.0, \"rssi2\": -65.0, \"rssi3\": -65.0, \"real station\": 0, \"station\": 2.0}, {\"ts\": \"2023-08-24 18:01:39\", \"rssi1\": -63.0, \"rssi2\": -50.0, \"rssi3\": -65.0, \"real station\": 0, \"station\": 2.0}, {\"ts\": \"2023-08-24 18:01:40\", \"rssi1\": -63.0, \"rssi2\": -50.0, \"rssi3\": -65.0, \"real station\": 0, \"station\": 2.0}, {\"ts\": \"2023-08-24 18:01:41\", \"rssi1\": -63.0, \"rssi2\": -50.0, \"rssi3\": -65.0, \"real station\": 0, \"station\": 2.0}, {\"ts\": \"2023-08-24 18:01:42\", \"rssi1\": -63.0, \"rssi2\": -50.0, \"rssi3\": -73.0, \"real station\": 0, \"station\": 2.0}, {\"ts\": \"2023-08-24 18:01:43\", \"rssi1\": -63.0, \"rssi2\": -50.0, \"rssi3\": -73.0, \"real station\": 0, \"station\": 2.0}, {\"ts\": \"2023-08-24 18:01:44\", \"rssi1\": -63.0, \"rssi2\": -50.0, \"rssi3\": -73.0, \"real station\": 0, \"station\": 2.0}, {\"ts\": \"2023-08-24 18:01:45\", \"rssi1\": -63.0, \"rssi2\": -50.0, \"rssi3\": -73.0, \"real station\": 0, \"station\": 2.0}, {\"ts\": \"2023-08-24 18:01:46\", \"rssi1\": -63.0, \"rssi2\": -50.0, \"rssi3\": -73.0, \"real station\": 0, \"station\": 2.0}, {\"ts\": \"2023-08-24 18:01:47\", \"rssi1\": -63.0, \"rssi2\": -50.0, \"rssi3\": -73.0, \"real station\": 0, \"station\": 2.0}, {\"ts\": \"2023-08-24 18:01:48\", \"rssi1\": -63.0, \"rssi2\": -50.0, \"rssi3\": -73.0, \"real station\": 0, \"station\": 2.0}, {\"ts\": \"2023-08-24 18:01:49\", \"rssi1\": -63.0, \"rssi2\": -50.0, \"rssi3\": -73.0, \"real station\": 0, \"station\": 2.0}, {\"ts\": \"2023-08-24 18:01:50\", \"rssi1\": -100.0, \"rssi2\": -50.0, \"rssi3\": -73.0, \"real station\": 0, \"station\": 2.0}, {\"ts\": \"2023-08-24 18:01:51\", \"rssi1\": -100.0, \"rssi2\": -50.0, \"rssi3\": -73.0, \"real station\": 0, \"station\": 2.0}, {\"ts\": \"2023-08-24 18:01:52\", \"rssi1\": -100.0, \"rssi2\": -50.0, \"rssi3\": -73.0, \"real station\": 0, \"station\": 2.0}, {\"ts\": \"2023-08-24 18:01:53\", \"rssi1\": -100.0, \"rssi2\": -50.0, \"rssi3\": -73.0, \"real station\": 0, \"station\": 2.0}, {\"ts\": \"2023-08-24 18:01:54\", \"rssi1\": -100.0, \"rssi2\": -50.0, \"rssi3\": -63.0, \"real station\": 0, \"station\": 2.0}, {\"ts\": \"2023-08-24 18:01:55\", \"rssi1\": -100.0, \"rssi2\": -50.0, \"rssi3\": -63.0, \"real station\": 0, \"station\": 2.0}, {\"ts\": \"2023-08-24 18:01:56\", \"rssi1\": -100.0, \"rssi2\": -50.0, \"rssi3\": -63.0, \"real station\": 0, \"station\": 2.0}, {\"ts\": \"2023-08-24 18:01:57\", \"rssi1\": -100.0, \"rssi2\": -50.0, \"rssi3\": -63.0, \"real station\": 0, \"station\": 2.0}, {\"ts\": \"2023-08-24 18:01:58\", \"rssi1\": -100.0, \"rssi2\": -50.0, \"rssi3\": -63.0, \"real station\": 0, \"station\": 2.0}, {\"ts\": \"2023-08-24 18:01:59\", \"rssi1\": -100.0, \"rssi2\": -50.0, \"rssi3\": -63.0, \"real station\": 0, \"station\": 2.0}, {\"ts\": \"2023-08-24 18:02:00\", \"rssi1\": -100.0, \"rssi2\": -50.0, \"rssi3\": -63.0, \"real station\": 0, \"station\": 2.0}, {\"ts\": \"2023-08-24 18:02:01\", \"rssi1\": -100.0, \"rssi2\": -50.0, \"rssi3\": -63.0, \"real station\": 0, \"station\": 2.0}, {\"ts\": \"2023-08-24 18:02:02\", \"rssi1\": -100.0, \"rssi2\": -50.0, \"rssi3\": -63.0, \"real station\": 0, \"station\": 2.0}, {\"ts\": \"2023-08-24 18:02:03\", \"rssi1\": -100.0, \"rssi2\": -50.0, \"rssi3\": -63.0, \"real station\": 0, \"station\": 2.0}, {\"ts\": \"2023-08-24 18:02:04\", \"rssi1\": -100.0, \"rssi2\": -50.0, \"rssi3\": -63.0, \"real station\": 0, \"station\": 2.0}, {\"ts\": \"2023-08-24 18:02:05\", \"rssi1\": -100.0, \"rssi2\": -50.0, \"rssi3\": -63.0, \"real station\": 0, \"station\": 2.0}, {\"ts\": \"2023-08-24 18:02:06\", \"rssi1\": -100.0, \"rssi2\": -50.0, \"rssi3\": -57.0, \"real station\": 2, \"station\": 2.0}, {\"ts\": \"2023-08-24 18:02:07\", \"rssi1\": -100.0, \"rssi2\": -50.0, \"rssi3\": -57.0, \"real station\": 2, \"station\": 2.0}, {\"ts\": \"2023-08-24 18:02:08\", \"rssi1\": -67.0, \"rssi2\": -50.0, \"rssi3\": -57.0, \"real station\": 2, \"station\": 2.0}, {\"ts\": \"2023-08-24 18:02:09\", \"rssi1\": -67.0, \"rssi2\": -50.0, \"rssi3\": -57.0, \"real station\": 2, \"station\": 2.0}, {\"ts\": \"2023-08-24 18:02:10\", \"rssi1\": -67.0, \"rssi2\": -50.0, \"rssi3\": -57.0, \"real station\": 2, \"station\": 2.0}, {\"ts\": \"2023-08-24 18:02:11\", \"rssi1\": -67.0, \"rssi2\": -50.0, \"rssi3\": -57.0, \"real station\": 2, \"station\": 2.0}, {\"ts\": \"2023-08-24 18:02:12\", \"rssi1\": -67.0, \"rssi2\": -50.0, \"rssi3\": -57.0, \"real station\": 2, \"station\": 2.0}, {\"ts\": \"2023-08-24 18:02:13\", \"rssi1\": -67.0, \"rssi2\": -50.0, \"rssi3\": -57.0, \"real station\": 2, \"station\": 2.0}, {\"ts\": \"2023-08-24 18:02:14\", \"rssi1\": -67.0, \"rssi2\": -50.0, \"rssi3\": -57.0, \"real station\": 2, \"station\": 2.0}, {\"ts\": \"2023-08-24 18:02:15\", \"rssi1\": -67.0, \"rssi2\": -50.0, \"rssi3\": -57.0, \"real station\": 2, \"station\": 2.0}, {\"ts\": \"2023-08-24 18:02:16\", \"rssi1\": -67.0, \"rssi2\": -50.0, \"rssi3\": -57.0, \"real station\": 2, \"station\": 2.0}, {\"ts\": \"2023-08-24 18:02:17\", \"rssi1\": -67.0, \"rssi2\": -50.0, \"rssi3\": -57.0, \"real station\": 2, \"station\": 2.0}, {\"ts\": \"2023-08-24 18:02:18\", \"rssi1\": -67.0, \"rssi2\": -50.0, \"rssi3\": -57.0, \"real station\": 2, \"station\": 2.0}, {\"ts\": \"2023-08-24 18:02:19\", \"rssi1\": -67.0, \"rssi2\": -50.0, \"rssi3\": -57.0, \"real station\": 2, \"station\": 2.0}, {\"ts\": \"2023-08-24 18:02:20\", \"rssi1\": -67.0, \"rssi2\": -50.0, \"rssi3\": -57.0, \"real station\": 2, \"station\": 2.0}, {\"ts\": \"2023-08-24 18:02:21\", \"rssi1\": -67.0, \"rssi2\": -50.0, \"rssi3\": -57.0, \"real station\": 2, \"station\": 2.0}, {\"ts\": \"2023-08-24 18:02:22\", \"rssi1\": -67.0, \"rssi2\": -50.0, \"rssi3\": -57.0, \"real station\": 2, \"station\": 2.0}, {\"ts\": \"2023-08-24 18:02:23\", \"rssi1\": -67.0, \"rssi2\": -50.0, \"rssi3\": -57.0, \"real station\": 2, \"station\": 2.0}, {\"ts\": \"2023-08-24 18:02:24\", \"rssi1\": -67.0, \"rssi2\": -50.0, \"rssi3\": -57.0, \"real station\": 2, \"station\": 2.0}, {\"ts\": \"2023-08-24 18:02:25\", \"rssi1\": -67.0, \"rssi2\": -50.0, \"rssi3\": -57.0, \"real station\": 2, \"station\": 2.0}, {\"ts\": \"2023-08-24 18:02:26\", \"rssi1\": -67.0, \"rssi2\": -50.0, \"rssi3\": -57.0, \"real station\": 2, \"station\": 2.0}, {\"ts\": \"2023-08-24 18:02:27\", \"rssi1\": -67.0, \"rssi2\": -57.0, \"rssi3\": -57.0, \"real station\": 2, \"station\": 2.0}, {\"ts\": \"2023-08-24 18:02:28\", \"rssi1\": -67.0, \"rssi2\": -57.0, \"rssi3\": -57.0, \"real station\": 2, \"station\": 2.0}, {\"ts\": \"2023-08-24 18:02:29\", \"rssi1\": -67.0, \"rssi2\": -57.0, \"rssi3\": -57.0, \"real station\": 2, \"station\": 2.0}, {\"ts\": \"2023-08-24 18:02:30\", \"rssi1\": -67.0, \"rssi2\": -57.0, \"rssi3\": -63.0, \"real station\": 2, \"station\": 2.0}, {\"ts\": \"2023-08-24 18:02:31\", \"rssi1\": -67.0, \"rssi2\": -57.0, \"rssi3\": -63.0, \"real station\": 2, \"station\": 2.0}, {\"ts\": \"2023-08-24 18:02:32\", \"rssi1\": -67.0, \"rssi2\": -57.0, \"rssi3\": -63.0, \"real station\": 2, \"station\": 2.0}, {\"ts\": \"2023-08-24 18:02:33\", \"rssi1\": -67.0, \"rssi2\": -51.0, \"rssi3\": -63.0, \"real station\": 2, \"station\": 2.0}, {\"ts\": \"2023-08-24 18:02:34\", \"rssi1\": -67.0, \"rssi2\": -51.0, \"rssi3\": -63.0, \"real station\": 2, \"station\": 2.0}, {\"ts\": \"2023-08-24 18:02:35\", \"rssi1\": -67.0, \"rssi2\": -51.0, \"rssi3\": -63.0, \"real station\": 2, \"station\": 2.0}, {\"ts\": \"2023-08-24 18:02:36\", \"rssi1\": -67.0, \"rssi2\": -51.0, \"rssi3\": -63.0, \"real station\": 2, \"station\": 2.0}, {\"ts\": \"2023-08-24 18:02:37\", \"rssi1\": -67.0, \"rssi2\": -51.0, \"rssi3\": -63.0, \"real station\": 2, \"station\": 2.0}, {\"ts\": \"2023-08-24 18:02:38\", \"rssi1\": -67.0, \"rssi2\": -51.0, \"rssi3\": -63.0, \"real station\": 2, \"station\": 2.0}, {\"ts\": \"2023-08-24 18:02:39\", \"rssi1\": -67.0, \"rssi2\": -51.0, \"rssi3\": -63.0, \"real station\": 2, \"station\": 2.0}, {\"ts\": \"2023-08-24 18:02:40\", \"rssi1\": -67.0, \"rssi2\": -51.0, \"rssi3\": -63.0, \"real station\": 2, \"station\": 2.0}, {\"ts\": \"2023-08-24 18:02:41\", \"rssi1\": -67.0, \"rssi2\": -51.0, \"rssi3\": -63.0, \"real station\": 2, \"station\": 2.0}, {\"ts\": \"2023-08-24 18:02:42\", \"rssi1\": -67.0, \"rssi2\": -51.0, \"rssi3\": -57.0, \"real station\": 2, \"station\": 2.0}, {\"ts\": \"2023-08-24 18:02:43\", \"rssi1\": -67.0, \"rssi2\": -51.0, \"rssi3\": -57.0, \"real station\": 2, \"station\": 2.0}, {\"ts\": \"2023-08-24 18:02:44\", \"rssi1\": -75.0, \"rssi2\": -51.0, \"rssi3\": -57.0, \"real station\": 2, \"station\": 2.0}, {\"ts\": \"2023-08-24 18:02:45\", \"rssi1\": -75.0, \"rssi2\": -44.0, \"rssi3\": -57.0, \"real station\": 2, \"station\": 2.0}, {\"ts\": \"2023-08-24 18:02:46\", \"rssi1\": -75.0, \"rssi2\": -44.0, \"rssi3\": -57.0, \"real station\": 2, \"station\": 2.0}, {\"ts\": \"2023-08-24 18:02:47\", \"rssi1\": -75.0, \"rssi2\": -44.0, \"rssi3\": -57.0, \"real station\": 2, \"station\": 2.0}, {\"ts\": \"2023-08-24 18:02:48\", \"rssi1\": -75.0, \"rssi2\": -44.0, \"rssi3\": -71.0, \"real station\": 2, \"station\": 2.0}, {\"ts\": \"2023-08-24 18:02:49\", \"rssi1\": -75.0, \"rssi2\": -44.0, \"rssi3\": -71.0, \"real station\": 2, \"station\": 2.0}, {\"ts\": \"2023-08-24 18:02:50\", \"rssi1\": -75.0, \"rssi2\": -44.0, \"rssi3\": -71.0, \"real station\": 2, \"station\": 2.0}, {\"ts\": \"2023-08-24 18:02:51\", \"rssi1\": -75.0, \"rssi2\": -44.0, \"rssi3\": -71.0, \"real station\": 2, \"station\": 2.0}, {\"ts\": \"2023-08-24 18:02:52\", \"rssi1\": -75.0, \"rssi2\": -44.0, \"rssi3\": -71.0, \"real station\": 2, \"station\": 2.0}, {\"ts\": \"2023-08-24 18:02:53\", \"rssi1\": -75.0, \"rssi2\": -44.0, \"rssi3\": -71.0, \"real station\": 2, \"station\": 2.0}, {\"ts\": \"2023-08-24 18:02:54\", \"rssi1\": -75.0, \"rssi2\": -44.0, \"rssi3\": -63.0, \"real station\": 2, \"station\": 2.0}, {\"ts\": \"2023-08-24 18:02:55\", \"rssi1\": -75.0, \"rssi2\": -44.0, \"rssi3\": -63.0, \"real station\": 2, \"station\": 2.0}, {\"ts\": \"2023-08-24 18:02:56\", \"rssi1\": -75.0, \"rssi2\": -44.0, \"rssi3\": -63.0, \"real station\": 2, \"station\": 2.0}, {\"ts\": \"2023-08-24 18:02:57\", \"rssi1\": -75.0, \"rssi2\": -44.0, \"rssi3\": -63.0, \"real station\": 2, \"station\": 2.0}, {\"ts\": \"2023-08-24 18:02:58\", \"rssi1\": -75.0, \"rssi2\": -44.0, \"rssi3\": -63.0, \"real station\": 2, \"station\": 2.0}, {\"ts\": \"2023-08-24 18:02:59\", \"rssi1\": -75.0, \"rssi2\": -44.0, \"rssi3\": -63.0, \"real station\": 2, \"station\": 2.0}, {\"ts\": \"2023-08-24 18:03:00\", \"rssi1\": -75.0, \"rssi2\": -44.0, \"rssi3\": -63.0, \"real station\": 2, \"station\": 2.0}, {\"ts\": \"2023-08-24 18:03:01\", \"rssi1\": -75.0, \"rssi2\": -44.0, \"rssi3\": -63.0, \"real station\": 2, \"station\": 2.0}, {\"ts\": \"2023-08-24 18:03:02\", \"rssi1\": -75.0, \"rssi2\": -44.0, \"rssi3\": -63.0, \"real station\": 2, \"station\": 2.0}, {\"ts\": \"2023-08-24 18:03:03\", \"rssi1\": -75.0, \"rssi2\": -44.0, \"rssi3\": -63.0, \"real station\": 2, \"station\": 2.0}, {\"ts\": \"2023-08-24 18:03:04\", \"rssi1\": -75.0, \"rssi2\": -52.0, \"rssi3\": -63.0, \"real station\": 2, \"station\": 2.0}, {\"ts\": \"2023-08-24 18:03:05\", \"rssi1\": -75.0, \"rssi2\": -52.0, \"rssi3\": -63.0, \"real station\": 2, \"station\": 2.0}, {\"ts\": \"2023-08-24 18:03:06\", \"rssi1\": -75.0, \"rssi2\": -52.0, \"rssi3\": -55.0, \"real station\": 2, \"station\": 2.0}, {\"ts\": \"2023-08-24 18:03:07\", \"rssi1\": -75.0, \"rssi2\": -52.0, \"rssi3\": -55.0, \"real station\": 2, \"station\": 2.0}, {\"ts\": \"2023-08-24 18:03:08\", \"rssi1\": -75.0, \"rssi2\": -52.0, \"rssi3\": -55.0, \"real station\": 2, \"station\": 2.0}, {\"ts\": \"2023-08-24 18:03:09\", \"rssi1\": -66.0, \"rssi2\": -52.0, \"rssi3\": -55.0, \"real station\": 2, \"station\": 2.0}, {\"ts\": \"2023-08-24 18:03:10\", \"rssi1\": -66.0, \"rssi2\": -52.0, \"rssi3\": -55.0, \"real station\": 2, \"station\": 2.0}, {\"ts\": \"2023-08-24 18:03:11\", \"rssi1\": -66.0, \"rssi2\": -52.0, \"rssi3\": -55.0, \"real station\": 2, \"station\": 2.0}, {\"ts\": \"2023-08-24 18:03:12\", \"rssi1\": -66.0, \"rssi2\": -52.0, \"rssi3\": -61.0, \"real station\": 2, \"station\": 2.0}, {\"ts\": \"2023-08-24 18:03:13\", \"rssi1\": -66.0, \"rssi2\": -52.0, \"rssi3\": -61.0, \"real station\": 2, \"station\": 2.0}, {\"ts\": \"2023-08-24 18:03:14\", \"rssi1\": -66.0, \"rssi2\": -52.0, \"rssi3\": -61.0, \"real station\": 2, \"station\": 2.0}, {\"ts\": \"2023-08-24 18:03:15\", \"rssi1\": -72.0, \"rssi2\": -52.0, \"rssi3\": -61.0, \"real station\": 2, \"station\": 2.0}, {\"ts\": \"2023-08-24 18:03:16\", \"rssi1\": -72.0, \"rssi2\": -52.0, \"rssi3\": -61.0, \"real station\": 2, \"station\": 2.0}, {\"ts\": \"2023-08-24 18:03:17\", \"rssi1\": -72.0, \"rssi2\": -52.0, \"rssi3\": -61.0, \"real station\": 2, \"station\": 2.0}, {\"ts\": \"2023-08-24 18:03:18\", \"rssi1\": -72.0, \"rssi2\": -52.0, \"rssi3\": -61.0, \"real station\": 2, \"station\": 2.0}, {\"ts\": \"2023-08-24 18:03:19\", \"rssi1\": -72.0, \"rssi2\": -52.0, \"rssi3\": -61.0, \"real station\": 2, \"station\": 2.0}, {\"ts\": \"2023-08-24 18:03:20\", \"rssi1\": -72.0, \"rssi2\": -52.0, \"rssi3\": -61.0, \"real station\": 2, \"station\": 2.0}, {\"ts\": \"2023-08-24 18:03:21\", \"rssi1\": -72.0, \"rssi2\": -60.0, \"rssi3\": -61.0, \"real station\": 2, \"station\": 2.0}, {\"ts\": \"2023-08-24 18:03:22\", \"rssi1\": -72.0, \"rssi2\": -60.0, \"rssi3\": -61.0, \"real station\": 2, \"station\": 2.0}, {\"ts\": \"2023-08-24 18:03:23\", \"rssi1\": -72.0, \"rssi2\": -60.0, \"rssi3\": -61.0, \"real station\": 2, \"station\": 2.0}, {\"ts\": \"2023-08-24 18:03:24\", \"rssi1\": -72.0, \"rssi2\": -60.0, \"rssi3\": -61.0, \"real station\": 2, \"station\": 2.0}, {\"ts\": \"2023-08-24 18:03:25\", \"rssi1\": -72.0, \"rssi2\": -60.0, \"rssi3\": -61.0, \"real station\": 2, \"station\": 2.0}, {\"ts\": \"2023-08-24 18:03:26\", \"rssi1\": -72.0, \"rssi2\": -60.0, \"rssi3\": -61.0, \"real station\": 2, \"station\": 2.0}, {\"ts\": \"2023-08-24 18:03:27\", \"rssi1\": -72.0, \"rssi2\": -60.0, \"rssi3\": -61.0, \"real station\": 2, \"station\": 2.0}, {\"ts\": \"2023-08-24 18:03:28\", \"rssi1\": -72.0, \"rssi2\": -60.0, \"rssi3\": -61.0, \"real station\": 2, \"station\": 2.0}, {\"ts\": \"2023-08-24 18:03:29\", \"rssi1\": -72.0, \"rssi2\": -60.0, \"rssi3\": -61.0, \"real station\": 2, \"station\": 2.0}, {\"ts\": \"2023-08-24 18:03:30\", \"rssi1\": -72.0, \"rssi2\": -60.0, \"rssi3\": -68.0, \"real station\": 2, \"station\": 2.0}, {\"ts\": \"2023-08-24 18:03:31\", \"rssi1\": -72.0, \"rssi2\": -60.0, \"rssi3\": -68.0, \"real station\": 2, \"station\": 2.0}, {\"ts\": \"2023-08-24 18:03:32\", \"rssi1\": -72.0, \"rssi2\": -60.0, \"rssi3\": -68.0, \"real station\": 2, \"station\": 2.0}, {\"ts\": \"2023-08-24 18:03:33\", \"rssi1\": -65.0, \"rssi2\": -60.0, \"rssi3\": -68.0, \"real station\": 2, \"station\": 2.0}, {\"ts\": \"2023-08-24 18:03:34\", \"rssi1\": -65.0, \"rssi2\": -60.0, \"rssi3\": -68.0, \"real station\": 2, \"station\": 2.0}, {\"ts\": \"2023-08-24 18:03:35\", \"rssi1\": -65.0, \"rssi2\": -60.0, \"rssi3\": -68.0, \"real station\": 2, \"station\": 2.0}, {\"ts\": \"2023-08-24 18:03:36\", \"rssi1\": -65.0, \"rssi2\": -60.0, \"rssi3\": -68.0, \"real station\": 2, \"station\": 2.0}, {\"ts\": \"2023-08-24 18:03:37\", \"rssi1\": -65.0, \"rssi2\": -60.0, \"rssi3\": -68.0, \"real station\": 2, \"station\": 2.0}, {\"ts\": \"2023-08-24 18:03:38\", \"rssi1\": -65.0, \"rssi2\": -60.0, \"rssi3\": -68.0, \"real station\": 2, \"station\": 2.0}, {\"ts\": \"2023-08-24 18:03:39\", \"rssi1\": -73.0, \"rssi2\": -60.0, \"rssi3\": -68.0, \"real station\": 2, \"station\": 2.0}, {\"ts\": \"2023-08-24 18:03:40\", \"rssi1\": -73.0, \"rssi2\": -60.0, \"rssi3\": -68.0, \"real station\": 2, \"station\": 2.0}, {\"ts\": \"2023-08-24 18:03:41\", \"rssi1\": -73.0, \"rssi2\": -60.0, \"rssi3\": -68.0, \"real station\": 2, \"station\": 2.0}, {\"ts\": \"2023-08-24 18:03:42\", \"rssi1\": -73.0, \"rssi2\": -60.0, \"rssi3\": -68.0, \"real station\": 2, \"station\": 2.0}, {\"ts\": \"2023-08-24 18:03:43\", \"rssi1\": -73.0, \"rssi2\": -60.0, \"rssi3\": -68.0, \"real station\": 2, \"station\": 2.0}, {\"ts\": \"2023-08-24 18:03:44\", \"rssi1\": -73.0, \"rssi2\": -60.0, \"rssi3\": -68.0, \"real station\": 2, \"station\": 2.0}, {\"ts\": \"2023-08-24 18:03:45\", \"rssi1\": -73.0, \"rssi2\": -60.0, \"rssi3\": -68.0, \"real station\": 2, \"station\": 2.0}, {\"ts\": \"2023-08-24 18:03:46\", \"rssi1\": -73.0, \"rssi2\": -76.0, \"rssi3\": -68.0, \"real station\": 2, \"station\": 2.0}, {\"ts\": \"2023-08-24 18:03:47\", \"rssi1\": -73.0, \"rssi2\": -76.0, \"rssi3\": -68.0, \"real station\": 2, \"station\": 2.0}, {\"ts\": \"2023-08-24 18:03:48\", \"rssi1\": -73.0, \"rssi2\": -76.0, \"rssi3\": -55.0, \"real station\": 2, \"station\": 2.0}, {\"ts\": \"2023-08-24 18:03:49\", \"rssi1\": -73.0, \"rssi2\": -76.0, \"rssi3\": -55.0, \"real station\": 2, \"station\": 2.0}, {\"ts\": \"2023-08-24 18:03:50\", \"rssi1\": -73.0, \"rssi2\": -76.0, \"rssi3\": -55.0, \"real station\": 2, \"station\": 2.0}, {\"ts\": \"2023-08-24 18:03:51\", \"rssi1\": -73.0, \"rssi2\": -76.0, \"rssi3\": -55.0, \"real station\": 2, \"station\": 2.0}, {\"ts\": \"2023-08-24 18:03:52\", \"rssi1\": -73.0, \"rssi2\": -54.0, \"rssi3\": -55.0, \"real station\": 2, \"station\": 2.0}, {\"ts\": \"2023-08-24 18:03:53\", \"rssi1\": -73.0, \"rssi2\": -54.0, \"rssi3\": -55.0, \"real station\": 2, \"station\": 2.0}, {\"ts\": \"2023-08-24 18:03:54\", \"rssi1\": -73.0, \"rssi2\": -54.0, \"rssi3\": -61.0, \"real station\": 2, \"station\": 2.0}, {\"ts\": \"2023-08-24 18:03:55\", \"rssi1\": -73.0, \"rssi2\": -54.0, \"rssi3\": -61.0, \"real station\": 2, \"station\": 2.0}, {\"ts\": \"2023-08-24 18:03:56\", \"rssi1\": -73.0, \"rssi2\": -54.0, \"rssi3\": -61.0, \"real station\": 2, \"station\": 2.0}, {\"ts\": \"2023-08-24 18:03:57\", \"rssi1\": -73.0, \"rssi2\": -54.0, \"rssi3\": -61.0, \"real station\": 2, \"station\": 2.0}, {\"ts\": \"2023-08-24 18:03:58\", \"rssi1\": -73.0, \"rssi2\": -54.0, \"rssi3\": -61.0, \"real station\": 2, \"station\": 2.0}, {\"ts\": \"2023-08-24 18:03:59\", \"rssi1\": -73.0, \"rssi2\": -54.0, \"rssi3\": -61.0, \"real station\": 2, \"station\": 2.0}, {\"ts\": \"2023-08-24 18:04:00\", \"rssi1\": -73.0, \"rssi2\": -54.0, \"rssi3\": -67.0, \"real station\": 2, \"station\": 2.0}, {\"ts\": \"2023-08-24 18:04:01\", \"rssi1\": -73.0, \"rssi2\": -54.0, \"rssi3\": -67.0, \"real station\": 2, \"station\": 2.0}, {\"ts\": \"2023-08-24 18:04:02\", \"rssi1\": -73.0, \"rssi2\": -54.0, \"rssi3\": -67.0, \"real station\": 2, \"station\": 2.0}, {\"ts\": \"2023-08-24 18:04:03\", \"rssi1\": -73.0, \"rssi2\": -54.0, \"rssi3\": -67.0, \"real station\": 2, \"station\": 2.0}, {\"ts\": \"2023-08-24 18:04:04\", \"rssi1\": -73.0, \"rssi2\": -65.0, \"rssi3\": -67.0, \"real station\": 2, \"station\": 2.0}, {\"ts\": \"2023-08-24 18:04:05\", \"rssi1\": -73.0, \"rssi2\": -65.0, \"rssi3\": -67.0, \"real station\": 2, \"station\": 2.0}, {\"ts\": \"2023-08-24 18:04:06\", \"rssi1\": -73.0, \"rssi2\": -65.0, \"rssi3\": -56.0, \"real station\": 2, \"station\": 2.0}, {\"ts\": \"2023-08-24 18:04:07\", \"rssi1\": -73.0, \"rssi2\": -65.0, \"rssi3\": -56.0, \"real station\": 2, \"station\": 2.0}, {\"ts\": \"2023-08-24 18:04:08\", \"rssi1\": -73.0, \"rssi2\": -65.0, \"rssi3\": -56.0, \"real station\": 2, \"station\": 2.0}, {\"ts\": \"2023-08-24 18:04:09\", \"rssi1\": -73.0, \"rssi2\": -65.0, \"rssi3\": -56.0, \"real station\": 2, \"station\": 2.0}, {\"ts\": \"2023-08-24 18:04:10\", \"rssi1\": -73.0, \"rssi2\": -52.0, \"rssi3\": -56.0, \"real station\": 2, \"station\": 2.0}, {\"ts\": \"2023-08-24 18:04:11\", \"rssi1\": -73.0, \"rssi2\": -52.0, \"rssi3\": -56.0, \"real station\": 2, \"station\": 2.0}, {\"ts\": \"2023-08-24 18:04:12\", \"rssi1\": -73.0, \"rssi2\": -52.0, \"rssi3\": -56.0, \"real station\": 2, \"station\": 2.0}, {\"ts\": \"2023-08-24 18:04:13\", \"rssi1\": -73.0, \"rssi2\": -52.0, \"rssi3\": -56.0, \"real station\": 2, \"station\": 2.0}, {\"ts\": \"2023-08-24 18:04:14\", \"rssi1\": -73.0, \"rssi2\": -52.0, \"rssi3\": -56.0, \"real station\": 2, \"station\": 2.0}, {\"ts\": \"2023-08-24 18:04:15\", \"rssi1\": -73.0, \"rssi2\": -52.0, \"rssi3\": -56.0, \"real station\": 2, \"station\": 2.0}, {\"ts\": \"2023-08-24 18:04:16\", \"rssi1\": -73.0, \"rssi2\": -52.0, \"rssi3\": -56.0, \"real station\": 2, \"station\": 2.0}, {\"ts\": \"2023-08-24 18:04:17\", \"rssi1\": -73.0, \"rssi2\": -52.0, \"rssi3\": -56.0, \"real station\": 2, \"station\": 2.0}, {\"ts\": \"2023-08-24 18:04:18\", \"rssi1\": -73.0, \"rssi2\": -52.0, \"rssi3\": -56.0, \"real station\": 2, \"station\": 2.0}, {\"ts\": \"2023-08-24 18:04:19\", \"rssi1\": -73.0, \"rssi2\": -52.0, \"rssi3\": -56.0, \"real station\": 2, \"station\": 2.0}, {\"ts\": \"2023-08-24 18:04:20\", \"rssi1\": -73.0, \"rssi2\": -52.0, \"rssi3\": -56.0, \"real station\": 2, \"station\": 2.0}, {\"ts\": \"2023-08-24 18:04:21\", \"rssi1\": -73.0, \"rssi2\": -52.0, \"rssi3\": -56.0, \"real station\": 2, \"station\": 2.0}, {\"ts\": \"2023-08-24 18:04:22\", \"rssi1\": -73.0, \"rssi2\": -52.0, \"rssi3\": -56.0, \"real station\": 2, \"station\": 2.0}, {\"ts\": \"2023-08-24 18:04:23\", \"rssi1\": -73.0, \"rssi2\": -52.0, \"rssi3\": -56.0, \"real station\": 2, \"station\": 2.0}, {\"ts\": \"2023-08-24 18:04:24\", \"rssi1\": -73.0, \"rssi2\": -52.0, \"rssi3\": -56.0, \"real station\": 2, \"station\": 2.0}, {\"ts\": \"2023-08-24 18:04:25\", \"rssi1\": -73.0, \"rssi2\": -52.0, \"rssi3\": -56.0, \"real station\": 2, \"station\": 2.0}, {\"ts\": \"2023-08-24 18:04:26\", \"rssi1\": -73.0, \"rssi2\": -52.0, \"rssi3\": -56.0, \"real station\": 2, \"station\": 2.0}, {\"ts\": \"2023-08-24 18:04:27\", \"rssi1\": -73.0, \"rssi2\": -52.0, \"rssi3\": -56.0, \"real station\": 2, \"station\": 2.0}, {\"ts\": \"2023-08-24 18:04:28\", \"rssi1\": -73.0, \"rssi2\": -52.0, \"rssi3\": -56.0, \"real station\": 2, \"station\": 2.0}, {\"ts\": \"2023-08-24 18:04:29\", \"rssi1\": -73.0, \"rssi2\": -52.0, \"rssi3\": -56.0, \"real station\": 2, \"station\": 2.0}, {\"ts\": \"2023-08-24 18:04:30\", \"rssi1\": -73.0, \"rssi2\": -52.0, \"rssi3\": -56.0, \"real station\": 2, \"station\": 2.0}, {\"ts\": \"2023-08-24 18:04:31\", \"rssi1\": -73.0, \"rssi2\": -52.0, \"rssi3\": -56.0, \"real station\": 2, \"station\": 2.0}, {\"ts\": \"2023-08-24 18:04:32\", \"rssi1\": -73.0, \"rssi2\": -52.0, \"rssi3\": -56.0, \"real station\": 2, \"station\": 2.0}, {\"ts\": \"2023-08-24 18:04:33\", \"rssi1\": -73.0, \"rssi2\": -52.0, \"rssi3\": -56.0, \"real station\": 2, \"station\": 2.0}, {\"ts\": \"2023-08-24 18:04:34\", \"rssi1\": -73.0, \"rssi2\": -72.0, \"rssi3\": -56.0, \"real station\": 2, \"station\": 3.0}, {\"ts\": \"2023-08-24 18:04:35\", \"rssi1\": -73.0, \"rssi2\": -72.0, \"rssi3\": -56.0, \"real station\": 2, \"station\": 3.0}, {\"ts\": \"2023-08-24 18:04:36\", \"rssi1\": -73.0, \"rssi2\": -72.0, \"rssi3\": -56.0, \"real station\": 2, \"station\": 3.0}, {\"ts\": \"2023-08-24 18:04:37\", \"rssi1\": -73.0, \"rssi2\": -72.0, \"rssi3\": -56.0, \"real station\": 2, \"station\": 3.0}, {\"ts\": \"2023-08-24 18:04:38\", \"rssi1\": -73.0, \"rssi2\": -72.0, \"rssi3\": -56.0, \"real station\": 2, \"station\": 3.0}, {\"ts\": \"2023-08-24 18:04:39\", \"rssi1\": -73.0, \"rssi2\": -72.0, \"rssi3\": -56.0, \"real station\": 2, \"station\": 3.0}, {\"ts\": \"2023-08-24 18:04:40\", \"rssi1\": -73.0, \"rssi2\": -72.0, \"rssi3\": -56.0, \"real station\": 2, \"station\": 3.0}, {\"ts\": \"2023-08-24 18:04:41\", \"rssi1\": -73.0, \"rssi2\": -72.0, \"rssi3\": -56.0, \"real station\": 2, \"station\": 3.0}, {\"ts\": \"2023-08-24 18:04:42\", \"rssi1\": -73.0, \"rssi2\": -72.0, \"rssi3\": -56.0, \"real station\": 2, \"station\": 3.0}, {\"ts\": \"2023-08-24 18:04:43\", \"rssi1\": -73.0, \"rssi2\": -72.0, \"rssi3\": -56.0, \"real station\": 2, \"station\": 3.0}, {\"ts\": \"2023-08-24 18:04:44\", \"rssi1\": -73.0, \"rssi2\": -72.0, \"rssi3\": -56.0, \"real station\": 2, \"station\": 3.0}, {\"ts\": \"2023-08-24 18:04:45\", \"rssi1\": -63.0, \"rssi2\": -72.0, \"rssi3\": -56.0, \"real station\": 2, \"station\": 3.0}, {\"ts\": \"2023-08-24 18:04:46\", \"rssi1\": -63.0, \"rssi2\": -53.0, \"rssi3\": -56.0, \"real station\": 2, \"station\": 3.0}, {\"ts\": \"2023-08-24 18:04:47\", \"rssi1\": -63.0, \"rssi2\": -53.0, \"rssi3\": -56.0, \"real station\": 2, \"station\": 3.0}, {\"ts\": \"2023-08-24 18:04:48\", \"rssi1\": -63.0, \"rssi2\": -53.0, \"rssi3\": -56.0, \"real station\": 2, \"station\": 3.0}, {\"ts\": \"2023-08-24 18:04:49\", \"rssi1\": -63.0, \"rssi2\": -53.0, \"rssi3\": -56.0, \"real station\": 2, \"station\": 3.0}, {\"ts\": \"2023-08-24 18:04:50\", \"rssi1\": -63.0, \"rssi2\": -53.0, \"rssi3\": -56.0, \"real station\": 2, \"station\": 3.0}, {\"ts\": \"2023-08-24 18:04:51\", \"rssi1\": -63.0, \"rssi2\": -53.0, \"rssi3\": -56.0, \"real station\": 2, \"station\": 3.0}, {\"ts\": \"2023-08-24 18:04:52\", \"rssi1\": -63.0, \"rssi2\": -53.0, \"rssi3\": -56.0, \"real station\": 2, \"station\": 3.0}, {\"ts\": \"2023-08-24 18:04:53\", \"rssi1\": -63.0, \"rssi2\": -53.0, \"rssi3\": -56.0, \"real station\": 2, \"station\": 3.0}, {\"ts\": \"2023-08-24 18:04:54\", \"rssi1\": -63.0, \"rssi2\": -53.0, \"rssi3\": -56.0, \"real station\": 2, \"station\": 3.0}, {\"ts\": \"2023-08-24 18:04:55\", \"rssi1\": -63.0, \"rssi2\": -53.0, \"rssi3\": -56.0, \"real station\": 2, \"station\": 3.0}, {\"ts\": \"2023-08-24 18:04:56\", \"rssi1\": -63.0, \"rssi2\": -53.0, \"rssi3\": -56.0, \"real station\": 2, \"station\": 3.0}, {\"ts\": \"2023-08-24 18:04:57\", \"rssi1\": -63.0, \"rssi2\": -53.0, \"rssi3\": -56.0, \"real station\": 2, \"station\": 3.0}, {\"ts\": \"2023-08-24 18:04:58\", \"rssi1\": -63.0, \"rssi2\": -53.0, \"rssi3\": -56.0, \"real station\": 2, \"station\": 3.0}, {\"ts\": \"2023-08-24 18:04:59\", \"rssi1\": -63.0, \"rssi2\": -53.0, \"rssi3\": -56.0, \"real station\": 2, \"station\": 3.0}, {\"ts\": \"2023-08-24 18:05:00\", \"rssi1\": -63.0, \"rssi2\": -53.0, \"rssi3\": -56.0, \"real station\": 2, \"station\": 3.0}, {\"ts\": \"2023-08-24 18:05:01\", \"rssi1\": -63.0, \"rssi2\": -53.0, \"rssi3\": -56.0, \"real station\": 2, \"station\": 3.0}, {\"ts\": \"2023-08-24 18:05:02\", \"rssi1\": -63.0, \"rssi2\": -53.0, \"rssi3\": -56.0, \"real station\": 2, \"station\": 3.0}, {\"ts\": \"2023-08-24 18:05:03\", \"rssi1\": -63.0, \"rssi2\": -53.0, \"rssi3\": -56.0, \"real station\": 2, \"station\": 3.0}, {\"ts\": \"2023-08-24 18:05:04\", \"rssi1\": -63.0, \"rssi2\": -64.0, \"rssi3\": -56.0, \"real station\": 2, \"station\": 3.0}, {\"ts\": \"2023-08-24 18:05:05\", \"rssi1\": -63.0, \"rssi2\": -64.0, \"rssi3\": -56.0, \"real station\": 2, \"station\": 3.0}, {\"ts\": \"2023-08-24 18:05:06\", \"rssi1\": -63.0, \"rssi2\": -64.0, \"rssi3\": -56.0, \"real station\": 2, \"station\": 3.0}, {\"ts\": \"2023-08-24 18:05:07\", \"rssi1\": -63.0, \"rssi2\": -64.0, \"rssi3\": -56.0, \"real station\": 2, \"station\": 3.0}, {\"ts\": \"2023-08-24 18:05:08\", \"rssi1\": -63.0, \"rssi2\": -64.0, \"rssi3\": -56.0, \"real station\": 2, \"station\": 3.0}, {\"ts\": \"2023-08-24 18:05:09\", \"rssi1\": -74.0, \"rssi2\": -64.0, \"rssi3\": -56.0, \"real station\": 2, \"station\": 3.0}, {\"ts\": \"2023-08-24 18:05:10\", \"rssi1\": -74.0, \"rssi2\": -64.0, \"rssi3\": -56.0, \"real station\": 2, \"station\": 3.0}, {\"ts\": \"2023-08-24 18:05:11\", \"rssi1\": -74.0, \"rssi2\": -64.0, \"rssi3\": -56.0, \"real station\": 2, \"station\": 3.0}, {\"ts\": \"2023-08-24 18:05:12\", \"rssi1\": -74.0, \"rssi2\": -64.0, \"rssi3\": -56.0, \"real station\": 2, \"station\": 3.0}, {\"ts\": \"2023-08-24 18:05:13\", \"rssi1\": -74.0, \"rssi2\": -64.0, \"rssi3\": -56.0, \"real station\": 2, \"station\": 3.0}, {\"ts\": \"2023-08-24 18:05:14\", \"rssi1\": -74.0, \"rssi2\": -64.0, \"rssi3\": -56.0, \"real station\": 2, \"station\": 3.0}, {\"ts\": \"2023-08-24 18:05:15\", \"rssi1\": -74.0, \"rssi2\": -64.0, \"rssi3\": -56.0, \"real station\": 2, \"station\": 3.0}, {\"ts\": \"2023-08-24 18:05:16\", \"rssi1\": -74.0, \"rssi2\": -64.0, \"rssi3\": -56.0, \"real station\": 2, \"station\": 3.0}, {\"ts\": \"2023-08-24 18:05:17\", \"rssi1\": -74.0, \"rssi2\": -64.0, \"rssi3\": -56.0, \"real station\": 2, \"station\": 3.0}, {\"ts\": \"2023-08-24 18:05:18\", \"rssi1\": -74.0, \"rssi2\": -64.0, \"rssi3\": -63.0, \"real station\": 2, \"station\": 3.0}, {\"ts\": \"2023-08-24 18:05:19\", \"rssi1\": -74.0, \"rssi2\": -64.0, \"rssi3\": -63.0, \"real station\": 2, \"station\": 3.0}, {\"ts\": \"2023-08-24 18:05:20\", \"rssi1\": -74.0, \"rssi2\": -64.0, \"rssi3\": -63.0, \"real station\": 2, \"station\": 3.0}, {\"ts\": \"2023-08-24 18:05:21\", \"rssi1\": -74.0, \"rssi2\": -64.0, \"rssi3\": -63.0, \"real station\": 2, \"station\": 3.0}, {\"ts\": \"2023-08-24 18:05:22\", \"rssi1\": -74.0, \"rssi2\": -54.0, \"rssi3\": -63.0, \"real station\": 0, \"station\": 2.0}, {\"ts\": \"2023-08-24 18:05:23\", \"rssi1\": -74.0, \"rssi2\": -54.0, \"rssi3\": -63.0, \"real station\": 0, \"station\": 2.0}, {\"ts\": \"2023-08-24 18:05:24\", \"rssi1\": -74.0, \"rssi2\": -54.0, \"rssi3\": -63.0, \"real station\": 0, \"station\": 2.0}, {\"ts\": \"2023-08-24 18:05:25\", \"rssi1\": -74.0, \"rssi2\": -54.0, \"rssi3\": -63.0, \"real station\": 0, \"station\": 2.0}, {\"ts\": \"2023-08-24 18:05:26\", \"rssi1\": -74.0, \"rssi2\": -54.0, \"rssi3\": -63.0, \"real station\": 0, \"station\": 2.0}, {\"ts\": \"2023-08-24 18:05:27\", \"rssi1\": -68.0, \"rssi2\": -54.0, \"rssi3\": -63.0, \"real station\": 0, \"station\": 2.0}, {\"ts\": \"2023-08-24 18:05:28\", \"rssi1\": -68.0, \"rssi2\": -54.0, \"rssi3\": -63.0, \"real station\": 0, \"station\": 2.0}, {\"ts\": \"2023-08-24 18:05:29\", \"rssi1\": -68.0, \"rssi2\": -54.0, \"rssi3\": -63.0, \"real station\": 0, \"station\": 2.0}, {\"ts\": \"2023-08-24 18:05:30\", \"rssi1\": -68.0, \"rssi2\": -54.0, \"rssi3\": -63.0, \"real station\": 0, \"station\": 2.0}, {\"ts\": \"2023-08-24 18:05:31\", \"rssi1\": -68.0, \"rssi2\": -54.0, \"rssi3\": -63.0, \"real station\": 0, \"station\": 2.0}, {\"ts\": \"2023-08-24 18:05:32\", \"rssi1\": -68.0, \"rssi2\": -54.0, \"rssi3\": -63.0, \"real station\": 0, \"station\": 2.0}, {\"ts\": \"2023-08-24 18:05:33\", \"rssi1\": -68.0, \"rssi2\": -54.0, \"rssi3\": -63.0, \"real station\": 0, \"station\": 2.0}, {\"ts\": \"2023-08-24 18:05:34\", \"rssi1\": -68.0, \"rssi2\": -54.0, \"rssi3\": -63.0, \"real station\": 0, \"station\": 2.0}, {\"ts\": \"2023-08-24 18:05:35\", \"rssi1\": -68.0, \"rssi2\": -54.0, \"rssi3\": -63.0, \"real station\": 0, \"station\": 2.0}, {\"ts\": \"2023-08-24 18:05:36\", \"rssi1\": -68.0, \"rssi2\": -54.0, \"rssi3\": -63.0, \"real station\": 0, \"station\": 2.0}, {\"ts\": \"2023-08-24 18:05:37\", \"rssi1\": -68.0, \"rssi2\": -54.0, \"rssi3\": -63.0, \"real station\": 0, \"station\": 2.0}, {\"ts\": \"2023-08-24 18:05:38\", \"rssi1\": -68.0, \"rssi2\": -54.0, \"rssi3\": -63.0, \"real station\": 0, \"station\": 2.0}, {\"ts\": \"2023-08-24 18:05:39\", \"rssi1\": -68.0, \"rssi2\": -54.0, \"rssi3\": -63.0, \"real station\": 0, \"station\": 2.0}, {\"ts\": \"2023-08-24 18:05:40\", \"rssi1\": -68.0, \"rssi2\": -54.0, \"rssi3\": -63.0, \"real station\": 0, \"station\": 2.0}, {\"ts\": \"2023-08-24 18:05:41\", \"rssi1\": -68.0, \"rssi2\": -54.0, \"rssi3\": -63.0, \"real station\": 0, \"station\": 2.0}, {\"ts\": \"2023-08-24 18:05:42\", \"rssi1\": -68.0, \"rssi2\": -54.0, \"rssi3\": -57.0, \"real station\": 0, \"station\": 2.0}, {\"ts\": \"2023-08-24 18:05:43\", \"rssi1\": -68.0, \"rssi2\": -54.0, \"rssi3\": -57.0, \"real station\": 0, \"station\": 2.0}, {\"ts\": \"2023-08-24 18:05:44\", \"rssi1\": -68.0, \"rssi2\": -54.0, \"rssi3\": -57.0, \"real station\": 0, \"station\": 2.0}, {\"ts\": \"2023-08-24 18:05:45\", \"rssi1\": -68.0, \"rssi2\": -54.0, \"rssi3\": -57.0, \"real station\": 0, \"station\": 2.0}, {\"ts\": \"2023-08-24 18:05:46\", \"rssi1\": -68.0, \"rssi2\": -54.0, \"rssi3\": -57.0, \"real station\": 0, \"station\": 2.0}, {\"ts\": \"2023-08-24 18:05:47\", \"rssi1\": -68.0, \"rssi2\": -54.0, \"rssi3\": -57.0, \"real station\": 0, \"station\": 2.0}, {\"ts\": \"2023-08-24 18:05:48\", \"rssi1\": -68.0, \"rssi2\": -54.0, \"rssi3\": -57.0, \"real station\": 0, \"station\": 2.0}, {\"ts\": \"2023-08-24 18:05:49\", \"rssi1\": -68.0, \"rssi2\": -54.0, \"rssi3\": -57.0, \"real station\": 0, \"station\": 2.0}, {\"ts\": \"2023-08-24 18:05:50\", \"rssi1\": -68.0, \"rssi2\": -54.0, \"rssi3\": -57.0, \"real station\": 0, \"station\": 2.0}, {\"ts\": \"2023-08-24 18:05:51\", \"rssi1\": -68.0, \"rssi2\": -54.0, \"rssi3\": -57.0, \"real station\": 0, \"station\": 2.0}, {\"ts\": \"2023-08-24 18:05:52\", \"rssi1\": -68.0, \"rssi2\": -54.0, \"rssi3\": -57.0, \"real station\": 0, \"station\": 2.0}, {\"ts\": \"2023-08-24 18:05:53\", \"rssi1\": -68.0, \"rssi2\": -54.0, \"rssi3\": -57.0, \"real station\": 0, \"station\": 2.0}, {\"ts\": \"2023-08-24 18:05:54\", \"rssi1\": -68.0, \"rssi2\": -54.0, \"rssi3\": -57.0, \"real station\": 0, \"station\": 2.0}, {\"ts\": \"2023-08-24 18:05:55\", \"rssi1\": -68.0, \"rssi2\": -54.0, \"rssi3\": -57.0, \"real station\": 0, \"station\": 2.0}, {\"ts\": \"2023-08-24 18:05:56\", \"rssi1\": -68.0, \"rssi2\": -54.0, \"rssi3\": -57.0, \"real station\": 0, \"station\": 2.0}, {\"ts\": \"2023-08-24 18:05:57\", \"rssi1\": -68.0, \"rssi2\": -54.0, \"rssi3\": -57.0, \"real station\": 0, \"station\": 2.0}, {\"ts\": \"2023-08-24 18:05:58\", \"rssi1\": -68.0, \"rssi2\": -63.0, \"rssi3\": -57.0, \"real station\": 0, \"station\": 2.0}, {\"ts\": \"2023-08-24 18:05:59\", \"rssi1\": -68.0, \"rssi2\": -63.0, \"rssi3\": -57.0, \"real station\": 0, \"station\": 2.0}, {\"ts\": \"2023-08-24 18:06:00\", \"rssi1\": -68.0, \"rssi2\": -63.0, \"rssi3\": -75.0, \"real station\": 0, \"station\": 2.0}, {\"ts\": \"2023-08-24 18:06:01\", \"rssi1\": -68.0, \"rssi2\": -63.0, \"rssi3\": -75.0, \"real station\": 0, \"station\": 2.0}, {\"ts\": \"2023-08-24 18:06:02\", \"rssi1\": -68.0, \"rssi2\": -63.0, \"rssi3\": -75.0, \"real station\": 0, \"station\": 2.0}, {\"ts\": \"2023-08-24 18:06:03\", \"rssi1\": -68.0, \"rssi2\": -63.0, \"rssi3\": -75.0, \"real station\": 0, \"station\": 2.0}, {\"ts\": \"2023-08-24 18:06:04\", \"rssi1\": -68.0, \"rssi2\": -63.0, \"rssi3\": -75.0, \"real station\": 0, \"station\": 2.0}, {\"ts\": \"2023-08-24 18:06:05\", \"rssi1\": -68.0, \"rssi2\": -63.0, \"rssi3\": -75.0, \"real station\": 0, \"station\": 2.0}, {\"ts\": \"2023-08-24 18:06:06\", \"rssi1\": -68.0, \"rssi2\": -63.0, \"rssi3\": -69.0, \"real station\": 0, \"station\": 2.0}, {\"ts\": \"2023-08-24 18:06:07\", \"rssi1\": -68.0, \"rssi2\": -63.0, \"rssi3\": -69.0, \"real station\": 0, \"station\": 2.0}, {\"ts\": \"2023-08-24 18:06:08\", \"rssi1\": -68.0, \"rssi2\": -63.0, \"rssi3\": -69.0, \"real station\": 0, \"station\": 2.0}, {\"ts\": \"2023-08-24 18:06:09\", \"rssi1\": -68.0, \"rssi2\": -63.0, \"rssi3\": -69.0, \"real station\": 0, \"station\": 2.0}, {\"ts\": \"2023-08-24 18:06:10\", \"rssi1\": -68.0, \"rssi2\": -54.0, \"rssi3\": -69.0, \"real station\": 0, \"station\": 2.0}, {\"ts\": \"2023-08-24 18:06:11\", \"rssi1\": -68.0, \"rssi2\": -54.0, \"rssi3\": -69.0, \"real station\": 0, \"station\": 2.0}, {\"ts\": \"2023-08-24 18:06:12\", \"rssi1\": -68.0, \"rssi2\": -54.0, \"rssi3\": -75.0, \"real station\": 0, \"station\": 2.0}, {\"ts\": \"2023-08-24 18:06:13\", \"rssi1\": -68.0, \"rssi2\": -54.0, \"rssi3\": -75.0, \"real station\": 0, \"station\": 2.0}, {\"ts\": \"2023-08-24 18:06:14\", \"rssi1\": -68.0, \"rssi2\": -54.0, \"rssi3\": -75.0, \"real station\": 0, \"station\": 2.0}, {\"ts\": \"2023-08-24 18:06:15\", \"rssi1\": -80.0, \"rssi2\": -54.0, \"rssi3\": -75.0, \"real station\": 0, \"station\": 2.0}, {\"ts\": \"2023-08-24 18:06:16\", \"rssi1\": -80.0, \"rssi2\": -71.0, \"rssi3\": -75.0, \"real station\": 0, \"station\": 2.0}, {\"ts\": \"2023-08-24 18:06:17\", \"rssi1\": -80.0, \"rssi2\": -71.0, \"rssi3\": -75.0, \"real station\": 0, \"station\": 2.0}, {\"ts\": \"2023-08-24 18:06:18\", \"rssi1\": -80.0, \"rssi2\": -71.0, \"rssi3\": -75.0, \"real station\": 0, \"station\": 2.0}, {\"ts\": \"2023-08-24 18:06:19\", \"rssi1\": -80.0, \"rssi2\": -71.0, \"rssi3\": -75.0, \"real station\": 0, \"station\": 2.0}, {\"ts\": \"2023-08-24 18:06:20\", \"rssi1\": -80.0, \"rssi2\": -71.0, \"rssi3\": -75.0, \"real station\": 0, \"station\": 2.0}, {\"ts\": \"2023-08-24 18:06:21\", \"rssi1\": -80.0, \"rssi2\": -71.0, \"rssi3\": -75.0, \"real station\": 0, \"station\": 2.0}, {\"ts\": \"2023-08-24 18:06:22\", \"rssi1\": -80.0, \"rssi2\": -65.0, \"rssi3\": -75.0, \"real station\": 0, \"station\": 2.0}, {\"ts\": \"2023-08-24 18:06:23\", \"rssi1\": -80.0, \"rssi2\": -65.0, \"rssi3\": -75.0, \"real station\": 0, \"station\": 2.0}, {\"ts\": \"2023-08-24 18:06:24\", \"rssi1\": -80.0, \"rssi2\": -65.0, \"rssi3\": -64.0, \"real station\": 0, \"station\": 2.0}, {\"ts\": \"2023-08-24 18:06:25\", \"rssi1\": -80.0, \"rssi2\": -65.0, \"rssi3\": -64.0, \"real station\": 0, \"station\": 2.0}, {\"ts\": \"2023-08-24 18:06:26\", \"rssi1\": -80.0, \"rssi2\": -65.0, \"rssi3\": -64.0, \"real station\": 0, \"station\": 2.0}, {\"ts\": \"2023-08-24 18:06:27\", \"rssi1\": -74.0, \"rssi2\": -65.0, \"rssi3\": -64.0, \"real station\": 0, \"station\": 2.0}, {\"ts\": \"2023-08-24 18:06:28\", \"rssi1\": -74.0, \"rssi2\": -54.0, \"rssi3\": -64.0, \"real station\": 0, \"station\": 2.0}, {\"ts\": \"2023-08-24 18:06:29\", \"rssi1\": -74.0, \"rssi2\": -54.0, \"rssi3\": -64.0, \"real station\": 0, \"station\": 2.0}, {\"ts\": \"2023-08-24 18:06:30\", \"rssi1\": -74.0, \"rssi2\": -54.0, \"rssi3\": -64.0, \"real station\": 0, \"station\": 2.0}, {\"ts\": \"2023-08-24 18:06:31\", \"rssi1\": -74.0, \"rssi2\": -54.0, \"rssi3\": -64.0, \"real station\": 0, \"station\": 2.0}, {\"ts\": \"2023-08-24 18:06:32\", \"rssi1\": -74.0, \"rssi2\": -54.0, \"rssi3\": -64.0, \"real station\": 0, \"station\": 2.0}, {\"ts\": \"2023-08-24 18:06:33\", \"rssi1\": -66.0, \"rssi2\": -54.0, \"rssi3\": -64.0, \"real station\": 0, \"station\": 2.0}, {\"ts\": \"2023-08-24 18:06:34\", \"rssi1\": -66.0, \"rssi2\": -54.0, \"rssi3\": -64.0, \"real station\": 0, \"station\": 2.0}, {\"ts\": \"2023-08-24 18:06:35\", \"rssi1\": -66.0, \"rssi2\": -54.0, \"rssi3\": -64.0, \"real station\": 0, \"station\": 2.0}, {\"ts\": \"2023-08-24 18:06:36\", \"rssi1\": -66.0, \"rssi2\": -54.0, \"rssi3\": -64.0, \"real station\": 0, \"station\": 2.0}, {\"ts\": \"2023-08-24 18:06:37\", \"rssi1\": -66.0, \"rssi2\": -54.0, \"rssi3\": -64.0, \"real station\": 0, \"station\": 2.0}, {\"ts\": \"2023-08-24 18:06:38\", \"rssi1\": -66.0, \"rssi2\": -54.0, \"rssi3\": -64.0, \"real station\": 0, \"station\": 2.0}, {\"ts\": \"2023-08-24 18:06:39\", \"rssi1\": -66.0, \"rssi2\": -54.0, \"rssi3\": -64.0, \"real station\": 0, \"station\": 2.0}, {\"ts\": \"2023-08-24 18:06:40\", \"rssi1\": -66.0, \"rssi2\": -54.0, \"rssi3\": -64.0, \"real station\": 0, \"station\": 2.0}, {\"ts\": \"2023-08-24 18:06:41\", \"rssi1\": -66.0, \"rssi2\": -54.0, \"rssi3\": -64.0, \"real station\": 0, \"station\": 2.0}, {\"ts\": \"2023-08-24 18:06:42\", \"rssi1\": -66.0, \"rssi2\": -54.0, \"rssi3\": -64.0, \"real station\": 0, \"station\": 2.0}, {\"ts\": \"2023-08-24 18:06:43\", \"rssi1\": -66.0, \"rssi2\": -54.0, \"rssi3\": -64.0, \"real station\": 0, \"station\": 2.0}, {\"ts\": \"2023-08-24 18:06:44\", \"rssi1\": -66.0, \"rssi2\": -54.0, \"rssi3\": -64.0, \"real station\": 0, \"station\": 2.0}, {\"ts\": \"2023-08-24 18:06:45\", \"rssi1\": -66.0, \"rssi2\": -54.0, \"rssi3\": -64.0, \"real station\": 0, \"station\": 2.0}, {\"ts\": \"2023-08-24 18:06:46\", \"rssi1\": -66.0, \"rssi2\": -63.0, \"rssi3\": -64.0, \"real station\": 0, \"station\": 2.0}, {\"ts\": \"2023-08-24 18:06:47\", \"rssi1\": -66.0, \"rssi2\": -63.0, \"rssi3\": -64.0, \"real station\": 0, \"station\": 2.0}, {\"ts\": \"2023-08-24 18:06:48\", \"rssi1\": -66.0, \"rssi2\": -63.0, \"rssi3\": -53.0, \"real station\": 0, \"station\": 2.0}, {\"ts\": \"2023-08-24 18:06:49\", \"rssi1\": -66.0, \"rssi2\": -63.0, \"rssi3\": -53.0, \"real station\": 0, \"station\": 2.0}, {\"ts\": \"2023-08-24 18:06:50\", \"rssi1\": -66.0, \"rssi2\": -63.0, \"rssi3\": -53.0, \"real station\": 0, \"station\": 2.0}, {\"ts\": \"2023-08-24 18:06:51\", \"rssi1\": -66.0, \"rssi2\": -63.0, \"rssi3\": -53.0, \"real station\": 0, \"station\": 2.0}, {\"ts\": \"2023-08-24 18:06:52\", \"rssi1\": -66.0, \"rssi2\": -63.0, \"rssi3\": -53.0, \"real station\": 0, \"station\": 2.0}, {\"ts\": \"2023-08-24 18:06:53\", \"rssi1\": -66.0, \"rssi2\": -63.0, \"rssi3\": -53.0, \"real station\": 0, \"station\": 2.0}, {\"ts\": \"2023-08-24 18:06:54\", \"rssi1\": -66.0, \"rssi2\": -63.0, \"rssi3\": -63.0, \"real station\": 0, \"station\": 2.0}, {\"ts\": \"2023-08-24 18:06:55\", \"rssi1\": -66.0, \"rssi2\": -63.0, \"rssi3\": -63.0, \"real station\": 0, \"station\": 2.0}, {\"ts\": \"2023-08-24 18:06:56\", \"rssi1\": -66.0, \"rssi2\": -63.0, \"rssi3\": -63.0, \"real station\": 0, \"station\": 2.0}, {\"ts\": \"2023-08-24 18:06:57\", \"rssi1\": -72.0, \"rssi2\": -63.0, \"rssi3\": -63.0, \"real station\": 0, \"station\": 2.0}, {\"ts\": \"2023-08-24 18:06:58\", \"rssi1\": -72.0, \"rssi2\": -63.0, \"rssi3\": -63.0, \"real station\": 0, \"station\": 2.0}, {\"ts\": \"2023-08-24 18:06:59\", \"rssi1\": -72.0, \"rssi2\": -63.0, \"rssi3\": -63.0, \"real station\": 0, \"station\": 2.0}, {\"ts\": \"2023-08-24 18:07:00\", \"rssi1\": -72.0, \"rssi2\": -63.0, \"rssi3\": -63.0, \"real station\": 0, \"station\": 2.0}, {\"ts\": \"2023-08-24 18:07:01\", \"rssi1\": -72.0, \"rssi2\": -63.0, \"rssi3\": -63.0, \"real station\": 0, \"station\": 2.0}, {\"ts\": \"2023-08-24 18:07:02\", \"rssi1\": -72.0, \"rssi2\": -63.0, \"rssi3\": -63.0, \"real station\": 0, \"station\": 2.0}, {\"ts\": \"2023-08-24 18:07:03\", \"rssi1\": -80.0, \"rssi2\": -63.0, \"rssi3\": -63.0, \"real station\": 3, \"station\": 2.0}, {\"ts\": \"2023-08-24 18:07:04\", \"rssi1\": -80.0, \"rssi2\": -63.0, \"rssi3\": -63.0, \"real station\": 3, \"station\": 2.0}, {\"ts\": \"2023-08-24 18:07:05\", \"rssi1\": -80.0, \"rssi2\": -63.0, \"rssi3\": -63.0, \"real station\": 3, \"station\": 2.0}, {\"ts\": \"2023-08-24 18:07:06\", \"rssi1\": -80.0, \"rssi2\": -63.0, \"rssi3\": -49.0, \"real station\": 3, \"station\": 3.0}, {\"ts\": \"2023-08-24 18:07:07\", \"rssi1\": -80.0, \"rssi2\": -63.0, \"rssi3\": -49.0, \"real station\": 3, \"station\": 3.0}, {\"ts\": \"2023-08-24 18:07:08\", \"rssi1\": -80.0, \"rssi2\": -63.0, \"rssi3\": -49.0, \"real station\": 3, \"station\": 3.0}, {\"ts\": \"2023-08-24 18:07:09\", \"rssi1\": -72.0, \"rssi2\": -63.0, \"rssi3\": -49.0, \"real station\": 3, \"station\": 3.0}, {\"ts\": \"2023-08-24 18:07:10\", \"rssi1\": -72.0, \"rssi2\": -73.0, \"rssi3\": -49.0, \"real station\": 3, \"station\": 3.0}, {\"ts\": \"2023-08-24 18:07:11\", \"rssi1\": -72.0, \"rssi2\": -73.0, \"rssi3\": -49.0, \"real station\": 3, \"station\": 3.0}, {\"ts\": \"2023-08-24 18:07:12\", \"rssi1\": -72.0, \"rssi2\": -73.0, \"rssi3\": -72.0, \"real station\": 3, \"station\": 3.0}, {\"ts\": \"2023-08-24 18:07:13\", \"rssi1\": -72.0, \"rssi2\": -73.0, \"rssi3\": -72.0, \"real station\": 3, \"station\": 3.0}, {\"ts\": \"2023-08-24 18:07:14\", \"rssi1\": -72.0, \"rssi2\": -73.0, \"rssi3\": -72.0, \"real station\": 3, \"station\": 3.0}, {\"ts\": \"2023-08-24 18:07:15\", \"rssi1\": -72.0, \"rssi2\": -73.0, \"rssi3\": -72.0, \"real station\": 3, \"station\": 3.0}, {\"ts\": \"2023-08-24 18:07:16\", \"rssi1\": -72.0, \"rssi2\": -73.0, \"rssi3\": -72.0, \"real station\": 3, \"station\": 3.0}, {\"ts\": \"2023-08-24 18:07:17\", \"rssi1\": -72.0, \"rssi2\": -73.0, \"rssi3\": -72.0, \"real station\": 3, \"station\": 3.0}, {\"ts\": \"2023-08-24 18:07:18\", \"rssi1\": -72.0, \"rssi2\": -73.0, \"rssi3\": -62.0, \"real station\": 3, \"station\": 3.0}, {\"ts\": \"2023-08-24 18:07:19\", \"rssi1\": -72.0, \"rssi2\": -73.0, \"rssi3\": -62.0, \"real station\": 3, \"station\": 3.0}, {\"ts\": \"2023-08-24 18:07:20\", \"rssi1\": -72.0, \"rssi2\": -73.0, \"rssi3\": -62.0, \"real station\": 3, \"station\": 3.0}, {\"ts\": \"2023-08-24 18:07:21\", \"rssi1\": -72.0, \"rssi2\": -73.0, \"rssi3\": -62.0, \"real station\": 3, \"station\": 3.0}, {\"ts\": \"2023-08-24 18:07:22\", \"rssi1\": -72.0, \"rssi2\": -73.0, \"rssi3\": -62.0, \"real station\": 3, \"station\": 3.0}, {\"ts\": \"2023-08-24 18:07:23\", \"rssi1\": -72.0, \"rssi2\": -73.0, \"rssi3\": -62.0, \"real station\": 3, \"station\": 3.0}, {\"ts\": \"2023-08-24 18:07:24\", \"rssi1\": -72.0, \"rssi2\": -73.0, \"rssi3\": -70.0, \"real station\": 3, \"station\": 3.0}, {\"ts\": \"2023-08-24 18:07:25\", \"rssi1\": -72.0, \"rssi2\": -73.0, \"rssi3\": -70.0, \"real station\": 3, \"station\": 3.0}, {\"ts\": \"2023-08-24 18:07:26\", \"rssi1\": -72.0, \"rssi2\": -73.0, \"rssi3\": -70.0, \"real station\": 3, \"station\": 3.0}, {\"ts\": \"2023-08-24 18:07:27\", \"rssi1\": -72.0, \"rssi2\": -73.0, \"rssi3\": -70.0, \"real station\": 3, \"station\": 3.0}, {\"ts\": \"2023-08-24 18:07:28\", \"rssi1\": -72.0, \"rssi2\": -65.0, \"rssi3\": -70.0, \"real station\": 3, \"station\": 3.0}, {\"ts\": \"2023-08-24 18:07:29\", \"rssi1\": -72.0, \"rssi2\": -65.0, \"rssi3\": -70.0, \"real station\": 3, \"station\": 3.0}, {\"ts\": \"2023-08-24 18:07:30\", \"rssi1\": -72.0, \"rssi2\": -65.0, \"rssi3\": -60.0, \"real station\": 3, \"station\": 3.0}, {\"ts\": \"2023-08-24 18:07:31\", \"rssi1\": -72.0, \"rssi2\": -65.0, \"rssi3\": -60.0, \"real station\": 3, \"station\": 3.0}, {\"ts\": \"2023-08-24 18:07:32\", \"rssi1\": -72.0, \"rssi2\": -65.0, \"rssi3\": -60.0, \"real station\": 3, \"station\": 3.0}, {\"ts\": \"2023-08-24 18:07:33\", \"rssi1\": -72.0, \"rssi2\": -65.0, \"rssi3\": -60.0, \"real station\": 3, \"station\": 3.0}, {\"ts\": \"2023-08-24 18:07:34\", \"rssi1\": -72.0, \"rssi2\": -65.0, \"rssi3\": -60.0, \"real station\": 3, \"station\": 3.0}, {\"ts\": \"2023-08-24 18:07:35\", \"rssi1\": -72.0, \"rssi2\": -65.0, \"rssi3\": -60.0, \"real station\": 3, \"station\": 3.0}, {\"ts\": \"2023-08-24 18:07:36\", \"rssi1\": -72.0, \"rssi2\": -65.0, \"rssi3\": -60.0, \"real station\": 3, \"station\": 3.0}, {\"ts\": \"2023-08-24 18:07:37\", \"rssi1\": -72.0, \"rssi2\": -65.0, \"rssi3\": -60.0, \"real station\": 3, \"station\": 3.0}, {\"ts\": \"2023-08-24 18:07:38\", \"rssi1\": -72.0, \"rssi2\": -65.0, \"rssi3\": -60.0, \"real station\": 3, \"station\": 3.0}, {\"ts\": \"2023-08-24 18:07:39\", \"rssi1\": -72.0, \"rssi2\": -65.0, \"rssi3\": -60.0, \"real station\": 3, \"station\": 3.0}, {\"ts\": \"2023-08-24 18:07:40\", \"rssi1\": -72.0, \"rssi2\": -65.0, \"rssi3\": -60.0, \"real station\": 3, \"station\": 3.0}, {\"ts\": \"2023-08-24 18:07:41\", \"rssi1\": -72.0, \"rssi2\": -65.0, \"rssi3\": -60.0, \"real station\": 3, \"station\": 3.0}, {\"ts\": \"2023-08-24 18:07:42\", \"rssi1\": -72.0, \"rssi2\": -65.0, \"rssi3\": -60.0, \"real station\": 3, \"station\": 3.0}, {\"ts\": \"2023-08-24 18:07:43\", \"rssi1\": -72.0, \"rssi2\": -65.0, \"rssi3\": -60.0, \"real station\": 3, \"station\": 3.0}, {\"ts\": \"2023-08-24 18:07:44\", \"rssi1\": -72.0, \"rssi2\": -65.0, \"rssi3\": -60.0, \"real station\": 3, \"station\": 3.0}, {\"ts\": \"2023-08-24 18:07:45\", \"rssi1\": -72.0, \"rssi2\": -65.0, \"rssi3\": -60.0, \"real station\": 3, \"station\": 3.0}, {\"ts\": \"2023-08-24 18:07:46\", \"rssi1\": -72.0, \"rssi2\": -65.0, \"rssi3\": -60.0, \"real station\": 3, \"station\": 3.0}, {\"ts\": \"2023-08-24 18:07:47\", \"rssi1\": -72.0, \"rssi2\": -65.0, \"rssi3\": -60.0, \"real station\": 3, \"station\": 3.0}, {\"ts\": \"2023-08-24 18:07:48\", \"rssi1\": -72.0, \"rssi2\": -65.0, \"rssi3\": -60.0, \"real station\": 3, \"station\": 3.0}, {\"ts\": \"2023-08-24 18:07:49\", \"rssi1\": -72.0, \"rssi2\": -65.0, \"rssi3\": -60.0, \"real station\": 3, \"station\": 3.0}, {\"ts\": \"2023-08-24 18:07:50\", \"rssi1\": -72.0, \"rssi2\": -65.0, \"rssi3\": -60.0, \"real station\": 3, \"station\": 3.0}, {\"ts\": \"2023-08-24 18:07:51\", \"rssi1\": -80.0, \"rssi2\": -65.0, \"rssi3\": -60.0, \"real station\": 3, \"station\": 3.0}, {\"ts\": \"2023-08-24 18:07:52\", \"rssi1\": -80.0, \"rssi2\": -65.0, \"rssi3\": -60.0, \"real station\": 3, \"station\": 3.0}, {\"ts\": \"2023-08-24 18:07:53\", \"rssi1\": -80.0, \"rssi2\": -65.0, \"rssi3\": -60.0, \"real station\": 3, \"station\": 3.0}, {\"ts\": \"2023-08-24 18:07:54\", \"rssi1\": -80.0, \"rssi2\": -65.0, \"rssi3\": -60.0, \"real station\": 3, \"station\": 3.0}, {\"ts\": \"2023-08-24 18:07:55\", \"rssi1\": -80.0, \"rssi2\": -65.0, \"rssi3\": -60.0, \"real station\": 3, \"station\": 3.0}, {\"ts\": \"2023-08-24 18:07:56\", \"rssi1\": -80.0, \"rssi2\": -65.0, \"rssi3\": -60.0, \"real station\": 3, \"station\": 3.0}, {\"ts\": \"2023-08-24 18:07:57\", \"rssi1\": -74.0, \"rssi2\": -65.0, \"rssi3\": -60.0, \"real station\": 3, \"station\": 3.0}, {\"ts\": \"2023-08-24 18:07:58\", \"rssi1\": -74.0, \"rssi2\": -65.0, \"rssi3\": -60.0, \"real station\": 3, \"station\": 3.0}, {\"ts\": \"2023-08-24 18:07:59\", \"rssi1\": -74.0, \"rssi2\": -65.0, \"rssi3\": -60.0, \"real station\": 3, \"station\": 3.0}, {\"ts\": \"2023-08-24 18:08:00\", \"rssi1\": -74.0, \"rssi2\": -65.0, \"rssi3\": -60.0, \"real station\": 3, \"station\": 3.0}, {\"ts\": \"2023-08-24 18:08:01\", \"rssi1\": -74.0, \"rssi2\": -65.0, \"rssi3\": -60.0, \"real station\": 3, \"station\": 3.0}, {\"ts\": \"2023-08-24 18:08:02\", \"rssi1\": -74.0, \"rssi2\": -65.0, \"rssi3\": -60.0, \"real station\": 3, \"station\": 3.0}, {\"ts\": \"2023-08-24 18:08:03\", \"rssi1\": -74.0, \"rssi2\": -65.0, \"rssi3\": -60.0, \"real station\": 3, \"station\": 3.0}, {\"ts\": \"2023-08-24 18:08:04\", \"rssi1\": -74.0, \"rssi2\": -65.0, \"rssi3\": -60.0, \"real station\": 3, \"station\": 3.0}, {\"ts\": \"2023-08-24 18:08:05\", \"rssi1\": -74.0, \"rssi2\": -65.0, \"rssi3\": -60.0, \"real station\": 3, \"station\": 3.0}, {\"ts\": \"2023-08-24 18:08:06\", \"rssi1\": -74.0, \"rssi2\": -65.0, \"rssi3\": -60.0, \"real station\": 3, \"station\": 3.0}, {\"ts\": \"2023-08-24 18:08:07\", \"rssi1\": -74.0, \"rssi2\": -65.0, \"rssi3\": -60.0, \"real station\": 3, \"station\": 3.0}, {\"ts\": \"2023-08-24 18:08:08\", \"rssi1\": -74.0, \"rssi2\": -65.0, \"rssi3\": -60.0, \"real station\": 3, \"station\": 3.0}, {\"ts\": \"2023-08-24 18:08:09\", \"rssi1\": -74.0, \"rssi2\": -65.0, \"rssi3\": -60.0, \"real station\": 3, \"station\": 3.0}, {\"ts\": \"2023-08-24 18:08:10\", \"rssi1\": -74.0, \"rssi2\": -65.0, \"rssi3\": -60.0, \"real station\": 3, \"station\": 3.0}, {\"ts\": \"2023-08-24 18:08:11\", \"rssi1\": -74.0, \"rssi2\": -65.0, \"rssi3\": -60.0, \"real station\": 3, \"station\": 3.0}, {\"ts\": \"2023-08-24 18:08:12\", \"rssi1\": -74.0, \"rssi2\": -65.0, \"rssi3\": -60.0, \"real station\": 3, \"station\": 3.0}, {\"ts\": \"2023-08-24 18:08:13\", \"rssi1\": -74.0, \"rssi2\": -65.0, \"rssi3\": -60.0, \"real station\": 3, \"station\": 3.0}, {\"ts\": \"2023-08-24 18:08:14\", \"rssi1\": -74.0, \"rssi2\": -65.0, \"rssi3\": -60.0, \"real station\": 3, \"station\": 3.0}, {\"ts\": \"2023-08-24 18:08:15\", \"rssi1\": -61.0, \"rssi2\": -65.0, \"rssi3\": -60.0, \"real station\": 3, \"station\": 3.0}, {\"ts\": \"2023-08-24 18:08:16\", \"rssi1\": -61.0, \"rssi2\": -65.0, \"rssi3\": -60.0, \"real station\": 3, \"station\": 3.0}, {\"ts\": \"2023-08-24 18:08:17\", \"rssi1\": -61.0, \"rssi2\": -65.0, \"rssi3\": -60.0, \"real station\": 3, \"station\": 3.0}, {\"ts\": \"2023-08-24 18:08:18\", \"rssi1\": -61.0, \"rssi2\": -65.0, \"rssi3\": -60.0, \"real station\": 3, \"station\": 3.0}, {\"ts\": \"2023-08-24 18:08:19\", \"rssi1\": -61.0, \"rssi2\": -65.0, \"rssi3\": -60.0, \"real station\": 3, \"station\": 3.0}, {\"ts\": \"2023-08-24 18:08:20\", \"rssi1\": -61.0, \"rssi2\": -65.0, \"rssi3\": -60.0, \"real station\": 3, \"station\": 3.0}, {\"ts\": \"2023-08-24 18:08:21\", \"rssi1\": -78.0, \"rssi2\": -65.0, \"rssi3\": -60.0, \"real station\": 3, \"station\": 3.0}, {\"ts\": \"2023-08-24 18:08:22\", \"rssi1\": -78.0, \"rssi2\": -65.0, \"rssi3\": -60.0, \"real station\": 3, \"station\": 3.0}, {\"ts\": \"2023-08-24 18:08:23\", \"rssi1\": -78.0, \"rssi2\": -65.0, \"rssi3\": -60.0, \"real station\": 3, \"station\": 3.0}, {\"ts\": \"2023-08-24 18:08:24\", \"rssi1\": -78.0, \"rssi2\": -65.0, \"rssi3\": -72.0, \"real station\": 3, \"station\": 2.0}, {\"ts\": \"2023-08-24 18:08:25\", \"rssi1\": -78.0, \"rssi2\": -65.0, \"rssi3\": -72.0, \"real station\": 3, \"station\": 2.0}, {\"ts\": \"2023-08-24 18:08:26\", \"rssi1\": -78.0, \"rssi2\": -65.0, \"rssi3\": -72.0, \"real station\": 3, \"station\": 2.0}, {\"ts\": \"2023-08-24 18:08:27\", \"rssi1\": -72.0, \"rssi2\": -65.0, \"rssi3\": -72.0, \"real station\": 3, \"station\": 2.0}, {\"ts\": \"2023-08-24 18:08:28\", \"rssi1\": -72.0, \"rssi2\": -56.0, \"rssi3\": -72.0, \"real station\": 3, \"station\": 2.0}, {\"ts\": \"2023-08-24 18:08:29\", \"rssi1\": -72.0, \"rssi2\": -56.0, \"rssi3\": -72.0, \"real station\": 3, \"station\": 2.0}, {\"ts\": \"2023-08-24 18:08:30\", \"rssi1\": -72.0, \"rssi2\": -56.0, \"rssi3\": -55.0, \"real station\": 3, \"station\": 3.0}, {\"ts\": \"2023-08-24 18:08:31\", \"rssi1\": -72.0, \"rssi2\": -56.0, \"rssi3\": -55.0, \"real station\": 3, \"station\": 3.0}, {\"ts\": \"2023-08-24 18:08:32\", \"rssi1\": -72.0, \"rssi2\": -56.0, \"rssi3\": -55.0, \"real station\": 3, \"station\": 3.0}, {\"ts\": \"2023-08-24 18:08:33\", \"rssi1\": -63.0, \"rssi2\": -56.0, \"rssi3\": -55.0, \"real station\": 3, \"station\": 3.0}, {\"ts\": \"2023-08-24 18:08:34\", \"rssi1\": -63.0, \"rssi2\": -56.0, \"rssi3\": -55.0, \"real station\": 3, \"station\": 3.0}, {\"ts\": \"2023-08-24 18:08:35\", \"rssi1\": -63.0, \"rssi2\": -56.0, \"rssi3\": -55.0, \"real station\": 3, \"station\": 3.0}, {\"ts\": \"2023-08-24 18:08:36\", \"rssi1\": -63.0, \"rssi2\": -56.0, \"rssi3\": -46.0, \"real station\": 3, \"station\": 3.0}, {\"ts\": \"2023-08-24 18:08:37\", \"rssi1\": -63.0, \"rssi2\": -56.0, \"rssi3\": -46.0, \"real station\": 3, \"station\": 3.0}, {\"ts\": \"2023-08-24 18:08:38\", \"rssi1\": -63.0, \"rssi2\": -56.0, \"rssi3\": -46.0, \"real station\": 3, \"station\": 3.0}, {\"ts\": \"2023-08-24 18:08:39\", \"rssi1\": -63.0, \"rssi2\": -56.0, \"rssi3\": -46.0, \"real station\": 3, \"station\": 3.0}, {\"ts\": \"2023-08-24 18:08:40\", \"rssi1\": -63.0, \"rssi2\": -66.0, \"rssi3\": -46.0, \"real station\": 3, \"station\": 3.0}, {\"ts\": \"2023-08-24 18:08:41\", \"rssi1\": -63.0, \"rssi2\": -66.0, \"rssi3\": -46.0, \"real station\": 3, \"station\": 3.0}, {\"ts\": \"2023-08-24 18:08:42\", \"rssi1\": -63.0, \"rssi2\": -66.0, \"rssi3\": -46.0, \"real station\": 3, \"station\": 3.0}, {\"ts\": \"2023-08-24 18:08:43\", \"rssi1\": -63.0, \"rssi2\": -66.0, \"rssi3\": -46.0, \"real station\": 3, \"station\": 3.0}, {\"ts\": \"2023-08-24 18:08:44\", \"rssi1\": -63.0, \"rssi2\": -66.0, \"rssi3\": -46.0, \"real station\": 3, \"station\": 3.0}, {\"ts\": \"2023-08-24 18:08:45\", \"rssi1\": -69.0, \"rssi2\": -66.0, \"rssi3\": -46.0, \"real station\": 3, \"station\": 3.0}, {\"ts\": \"2023-08-24 18:08:46\", \"rssi1\": -69.0, \"rssi2\": -66.0, \"rssi3\": -46.0, \"real station\": 3, \"station\": 3.0}, {\"ts\": \"2023-08-24 18:08:47\", \"rssi1\": -69.0, \"rssi2\": -66.0, \"rssi3\": -46.0, \"real station\": 3, \"station\": 3.0}, {\"ts\": \"2023-08-24 18:08:48\", \"rssi1\": -69.0, \"rssi2\": -66.0, \"rssi3\": -46.0, \"real station\": 3, \"station\": 3.0}, {\"ts\": \"2023-08-24 18:08:49\", \"rssi1\": -69.0, \"rssi2\": -66.0, \"rssi3\": -46.0, \"real station\": 3, \"station\": 3.0}, {\"ts\": \"2023-08-24 18:08:50\", \"rssi1\": -69.0, \"rssi2\": -66.0, \"rssi3\": -46.0, \"real station\": 3, \"station\": 3.0}, {\"ts\": \"2023-08-24 18:08:51\", \"rssi1\": -69.0, \"rssi2\": -66.0, \"rssi3\": -46.0, \"real station\": 3, \"station\": 3.0}, {\"ts\": \"2023-08-24 18:08:52\", \"rssi1\": -69.0, \"rssi2\": -66.0, \"rssi3\": -46.0, \"real station\": 3, \"station\": 3.0}, {\"ts\": \"2023-08-24 18:08:53\", \"rssi1\": -69.0, \"rssi2\": -66.0, \"rssi3\": -46.0, \"real station\": 3, \"station\": 3.0}, {\"ts\": \"2023-08-24 18:08:54\", \"rssi1\": -69.0, \"rssi2\": -66.0, \"rssi3\": -52.0, \"real station\": 3, \"station\": 3.0}, {\"ts\": \"2023-08-24 18:08:55\", \"rssi1\": -69.0, \"rssi2\": -66.0, \"rssi3\": -52.0, \"real station\": 3, \"station\": 3.0}, {\"ts\": \"2023-08-24 18:08:56\", \"rssi1\": -69.0, \"rssi2\": -66.0, \"rssi3\": -52.0, \"real station\": 3, \"station\": 3.0}, {\"ts\": \"2023-08-24 18:08:57\", \"rssi1\": -69.0, \"rssi2\": -66.0, \"rssi3\": -52.0, \"real station\": 3, \"station\": 3.0}, {\"ts\": \"2023-08-24 18:08:58\", \"rssi1\": -69.0, \"rssi2\": -75.0, \"rssi3\": -52.0, \"real station\": 3, \"station\": 3.0}, {\"ts\": \"2023-08-24 18:08:59\", \"rssi1\": -69.0, \"rssi2\": -75.0, \"rssi3\": -52.0, \"real station\": 3, \"station\": 3.0}, {\"ts\": \"2023-08-24 18:09:00\", \"rssi1\": -69.0, \"rssi2\": -75.0, \"rssi3\": -59.0, \"real station\": 3, \"station\": 3.0}, {\"ts\": \"2023-08-24 18:09:01\", \"rssi1\": -69.0, \"rssi2\": -75.0, \"rssi3\": -59.0, \"real station\": 3, \"station\": 3.0}, {\"ts\": \"2023-08-24 18:09:02\", \"rssi1\": -69.0, \"rssi2\": -75.0, \"rssi3\": -59.0, \"real station\": 3, \"station\": 3.0}, {\"ts\": \"2023-08-24 18:09:03\", \"rssi1\": -69.0, \"rssi2\": -75.0, \"rssi3\": -59.0, \"real station\": 3, \"station\": 3.0}, {\"ts\": \"2023-08-24 18:09:04\", \"rssi1\": -69.0, \"rssi2\": -75.0, \"rssi3\": -59.0, \"real station\": 3, \"station\": 3.0}, {\"ts\": \"2023-08-24 18:09:05\", \"rssi1\": -69.0, \"rssi2\": -75.0, \"rssi3\": -59.0, \"real station\": 3, \"station\": 3.0}, {\"ts\": \"2023-08-24 18:09:06\", \"rssi1\": -69.0, \"rssi2\": -75.0, \"rssi3\": -67.0, \"real station\": 3, \"station\": 3.0}, {\"ts\": \"2023-08-24 18:09:07\", \"rssi1\": -69.0, \"rssi2\": -75.0, \"rssi3\": -67.0, \"real station\": 3, \"station\": 3.0}, {\"ts\": \"2023-08-24 18:09:08\", \"rssi1\": -69.0, \"rssi2\": -75.0, \"rssi3\": -67.0, \"real station\": 3, \"station\": 3.0}, {\"ts\": \"2023-08-24 18:09:09\", \"rssi1\": -69.0, \"rssi2\": -75.0, \"rssi3\": -67.0, \"real station\": 3, \"station\": 3.0}, {\"ts\": \"2023-08-24 18:09:10\", \"rssi1\": -69.0, \"rssi2\": -75.0, \"rssi3\": -67.0, \"real station\": 3, \"station\": 3.0}, {\"ts\": \"2023-08-24 18:09:11\", \"rssi1\": -69.0, \"rssi2\": -75.0, \"rssi3\": -67.0, \"real station\": 3, \"station\": 3.0}, {\"ts\": \"2023-08-24 18:09:12\", \"rssi1\": -69.0, \"rssi2\": -75.0, \"rssi3\": -49.0, \"real station\": 3, \"station\": 3.0}, {\"ts\": \"2023-08-24 18:09:13\", \"rssi1\": -69.0, \"rssi2\": -75.0, \"rssi3\": -49.0, \"real station\": 3, \"station\": 3.0}, {\"ts\": \"2023-08-24 18:09:14\", \"rssi1\": -69.0, \"rssi2\": -75.0, \"rssi3\": -49.0, \"real station\": 3, \"station\": 3.0}, {\"ts\": \"2023-08-24 18:09:15\", \"rssi1\": -69.0, \"rssi2\": -75.0, \"rssi3\": -49.0, \"real station\": 3, \"station\": 3.0}, {\"ts\": \"2023-08-24 18:09:16\", \"rssi1\": -69.0, \"rssi2\": -66.0, \"rssi3\": -49.0, \"real station\": 3, \"station\": 3.0}, {\"ts\": \"2023-08-24 18:09:17\", \"rssi1\": -69.0, \"rssi2\": -66.0, \"rssi3\": -49.0, \"real station\": 3, \"station\": 3.0}, {\"ts\": \"2023-08-24 18:09:18\", \"rssi1\": -69.0, \"rssi2\": -66.0, \"rssi3\": -68.0, \"real station\": 3, \"station\": 3.0}, {\"ts\": \"2023-08-24 18:09:19\", \"rssi1\": -69.0, \"rssi2\": -66.0, \"rssi3\": -68.0, \"real station\": 3, \"station\": 3.0}, {\"ts\": \"2023-08-24 18:09:20\", \"rssi1\": -69.0, \"rssi2\": -66.0, \"rssi3\": -68.0, \"real station\": 3, \"station\": 3.0}, {\"ts\": \"2023-08-24 18:09:21\", \"rssi1\": -69.0, \"rssi2\": -66.0, \"rssi3\": -68.0, \"real station\": 3, \"station\": 3.0}, {\"ts\": \"2023-08-24 18:09:22\", \"rssi1\": -69.0, \"rssi2\": -66.0, \"rssi3\": -68.0, \"real station\": 3, \"station\": 3.0}, {\"ts\": \"2023-08-24 18:09:23\", \"rssi1\": -69.0, \"rssi2\": -66.0, \"rssi3\": -68.0, \"real station\": 3, \"station\": 3.0}, {\"ts\": \"2023-08-24 18:09:24\", \"rssi1\": -69.0, \"rssi2\": -66.0, \"rssi3\": -50.0, \"real station\": 3, \"station\": 3.0}, {\"ts\": \"2023-08-24 18:09:25\", \"rssi1\": -69.0, \"rssi2\": -66.0, \"rssi3\": -50.0, \"real station\": 3, \"station\": 3.0}, {\"ts\": \"2023-08-24 18:09:26\", \"rssi1\": -69.0, \"rssi2\": -66.0, \"rssi3\": -50.0, \"real station\": 3, \"station\": 3.0}, {\"ts\": \"2023-08-24 18:09:27\", \"rssi1\": -69.0, \"rssi2\": -66.0, \"rssi3\": -50.0, \"real station\": 3, \"station\": 3.0}, {\"ts\": \"2023-08-24 18:09:28\", \"rssi1\": -69.0, \"rssi2\": -66.0, \"rssi3\": -50.0, \"real station\": 3, \"station\": 3.0}, {\"ts\": \"2023-08-24 18:09:29\", \"rssi1\": -69.0, \"rssi2\": -66.0, \"rssi3\": -50.0, \"real station\": 3, \"station\": 3.0}, {\"ts\": \"2023-08-24 18:09:30\", \"rssi1\": -69.0, \"rssi2\": -66.0, \"rssi3\": -62.0, \"real station\": 3, \"station\": 3.0}, {\"ts\": \"2023-08-24 18:09:31\", \"rssi1\": -69.0, \"rssi2\": -66.0, \"rssi3\": -62.0, \"real station\": 3, \"station\": 3.0}, {\"ts\": \"2023-08-24 18:09:32\", \"rssi1\": -69.0, \"rssi2\": -66.0, \"rssi3\": -62.0, \"real station\": 3, \"station\": 3.0}, {\"ts\": \"2023-08-24 18:09:33\", \"rssi1\": -69.0, \"rssi2\": -66.0, \"rssi3\": -62.0, \"real station\": 3, \"station\": 3.0}, {\"ts\": \"2023-08-24 18:09:34\", \"rssi1\": -69.0, \"rssi2\": -66.0, \"rssi3\": -62.0, \"real station\": 3, \"station\": 3.0}, {\"ts\": \"2023-08-24 18:09:35\", \"rssi1\": -69.0, \"rssi2\": -66.0, \"rssi3\": -62.0, \"real station\": 3, \"station\": 3.0}, {\"ts\": \"2023-08-24 18:09:36\", \"rssi1\": -69.0, \"rssi2\": -66.0, \"rssi3\": -56.0, \"real station\": 3, \"station\": 3.0}, {\"ts\": \"2023-08-24 18:09:37\", \"rssi1\": -69.0, \"rssi2\": -66.0, \"rssi3\": -56.0, \"real station\": 3, \"station\": 3.0}, {\"ts\": \"2023-08-24 18:09:38\", \"rssi1\": -69.0, \"rssi2\": -66.0, \"rssi3\": -56.0, \"real station\": 3, \"station\": 3.0}, {\"ts\": \"2023-08-24 18:09:39\", \"rssi1\": -69.0, \"rssi2\": -66.0, \"rssi3\": -56.0, \"real station\": 3, \"station\": 3.0}, {\"ts\": \"2023-08-24 18:09:40\", \"rssi1\": -69.0, \"rssi2\": -66.0, \"rssi3\": -56.0, \"real station\": 3, \"station\": 3.0}, {\"ts\": \"2023-08-24 18:09:41\", \"rssi1\": -69.0, \"rssi2\": -66.0, \"rssi3\": -56.0, \"real station\": 3, \"station\": 3.0}, {\"ts\": \"2023-08-24 18:09:42\", \"rssi1\": -69.0, \"rssi2\": -66.0, \"rssi3\": -56.0, \"real station\": 3, \"station\": 3.0}, {\"ts\": \"2023-08-24 18:09:43\", \"rssi1\": -69.0, \"rssi2\": -66.0, \"rssi3\": -56.0, \"real station\": 3, \"station\": 3.0}, {\"ts\": \"2023-08-24 18:09:44\", \"rssi1\": -69.0, \"rssi2\": -66.0, \"rssi3\": -56.0, \"real station\": 3, \"station\": 3.0}, {\"ts\": \"2023-08-24 18:09:45\", \"rssi1\": -69.0, \"rssi2\": -66.0, \"rssi3\": -56.0, \"real station\": 3, \"station\": 3.0}, {\"ts\": \"2023-08-24 18:09:46\", \"rssi1\": -69.0, \"rssi2\": -66.0, \"rssi3\": -56.0, \"real station\": 3, \"station\": 3.0}, {\"ts\": \"2023-08-24 18:09:47\", \"rssi1\": -69.0, \"rssi2\": -66.0, \"rssi3\": -56.0, \"real station\": 3, \"station\": 3.0}, {\"ts\": \"2023-08-24 18:09:48\", \"rssi1\": -69.0, \"rssi2\": -66.0, \"rssi3\": -56.0, \"real station\": 3, \"station\": 3.0}, {\"ts\": \"2023-08-24 18:09:49\", \"rssi1\": -69.0, \"rssi2\": -66.0, \"rssi3\": -56.0, \"real station\": 3, \"station\": 3.0}, {\"ts\": \"2023-08-24 18:09:50\", \"rssi1\": -69.0, \"rssi2\": -66.0, \"rssi3\": -56.0, \"real station\": 3, \"station\": 3.0}, {\"ts\": \"2023-08-24 18:09:51\", \"rssi1\": -78.0, \"rssi2\": -66.0, \"rssi3\": -56.0, \"real station\": 3, \"station\": 3.0}, {\"ts\": \"2023-08-24 18:09:52\", \"rssi1\": -78.0, \"rssi2\": -66.0, \"rssi3\": -56.0, \"real station\": 3, \"station\": 3.0}, {\"ts\": \"2023-08-24 18:09:53\", \"rssi1\": -78.0, \"rssi2\": -66.0, \"rssi3\": -56.0, \"real station\": 3, \"station\": 3.0}, {\"ts\": \"2023-08-24 18:09:54\", \"rssi1\": -78.0, \"rssi2\": -66.0, \"rssi3\": -64.0, \"real station\": 3, \"station\": 3.0}, {\"ts\": \"2023-08-24 18:09:55\", \"rssi1\": -78.0, \"rssi2\": -66.0, \"rssi3\": -64.0, \"real station\": 3, \"station\": 3.0}, {\"ts\": \"2023-08-24 18:09:56\", \"rssi1\": -78.0, \"rssi2\": -66.0, \"rssi3\": -64.0, \"real station\": 3, \"station\": 3.0}, {\"ts\": \"2023-08-24 18:09:57\", \"rssi1\": -71.0, \"rssi2\": -66.0, \"rssi3\": -64.0, \"real station\": 3, \"station\": 3.0}]}}, {\"mode\": \"vega-lite\"});\n",
       "</script>"
      ],
      "text/plain": [
       "alt.Chart(...)"
      ]
     },
     "execution_count": 33,
     "metadata": {},
     "output_type": "execute_result"
    }
   ],
   "source": [
    "def strip_plot(df,include_3):\n",
    "    df['ts'] = df['ts'].astype(str)  \n",
    "    if include_3:\n",
    "        y_scale = alt.Scale(domain=[1, 2, 3])  # Set the y-axis range from 1 to 3\n",
    "        # Define color encoding based on the station value\n",
    "        color = alt.Color('station:N', scale=alt.Scale(\n",
    "            domain=[1, 2, 3], range=['cornflowerblue', 'darkorange', 'violet'])\n",
    "             , legend=alt.Legend(title='Station'))\n",
    "    else:\n",
    "        y_scale = alt.Scale(domain=[1, 2])  # Set the y-axis range from 1 to 3\n",
    "        color = alt.Color('station:N', scale=alt.Scale(\n",
    "        domain=[1, 2], range=['cornflowerblue', 'darkorange']))\n",
    "\n",
    "\n",
    "    custom_x_ticks = ['2023-08-24 17:58:00', '2023-08-24 18:00:00', '2023-08-24 18:02:00', '2023-08-24 18:04:00', '2023-08-24 18:06:00', '2023-08-24 18:08:00', '2023-08-24 18:10:00']    #1 inicio 17:57:30 -> 18:01:00\n",
    "    # fim 18:02:00 -> 18:06:00\n",
    "    #3 monta cargas 18:07:00 -> 18:10:00\n",
    "\n",
    "    chart = alt.Chart(df).mark_tick().encode(\n",
    "        x=alt.X('ts:T', title='Timestamp', axis=alt.Axis(values=custom_x_ticks)), #scale=alt.Scale(domain=domain)),\n",
    "        y=alt.Y('station:O', title='Station'),#, scale=y_scale),\n",
    "        color=color  # Apply the color encoding\n",
    "    ).properties(\n",
    "        title=f'Classified station of beacon',#{beacon}',\n",
    "        width=400,  # Set the width to 600 pixels (adjust as needed)\n",
    "        height=100  # Set the height to 400 pixels (adjust as needed)\n",
    "    ).configure_tick(\n",
    "    #thickness=5,\n",
    "    bandSize=25,)\n",
    "\n",
    "    return chart\n",
    "\n",
    "\n",
    "#display(df_rssi2_resample)\n",
    "    \n",
    "#chart1 = strip_plot(df_rssi1_,beacon=1)\n",
    "chart2 = strip_plot(df_rssi2_resample,include_3=1)\n",
    "\n",
    "#chart1 | \n",
    "chart2"
   ]
  },
  {
   "cell_type": "code",
   "execution_count": 31,
   "metadata": {},
   "outputs": [
    {
     "name": "stderr",
     "output_type": "stream",
     "text": [
      "C:\\Users\\isacc\\AppData\\Local\\Temp\\ipykernel_13696\\2958684222.py:2: SettingWithCopyWarning:\n",
      "\n",
      "\n",
      "A value is trying to be set on a copy of a slice from a DataFrame.\n",
      "Try using .loc[row_indexer,col_indexer] = value instead\n",
      "\n",
      "See the caveats in the documentation: https://pandas.pydata.org/pandas-docs/stable/user_guide/indexing.html#returning-a-view-versus-a-copy\n",
      "\n"
     ]
    },
    {
     "data": {
      "text/html": [
       "\n",
       "<style>\n",
       "  #altair-viz-e1fc206014db4ec78616eb6b35928807.vega-embed {\n",
       "    width: 100%;\n",
       "    display: flex;\n",
       "  }\n",
       "\n",
       "  #altair-viz-e1fc206014db4ec78616eb6b35928807.vega-embed details,\n",
       "  #altair-viz-e1fc206014db4ec78616eb6b35928807.vega-embed details summary {\n",
       "    position: relative;\n",
       "  }\n",
       "</style>\n",
       "<div id=\"altair-viz-e1fc206014db4ec78616eb6b35928807\"></div>\n",
       "<script type=\"text/javascript\">\n",
       "  var VEGA_DEBUG = (typeof VEGA_DEBUG == \"undefined\") ? {} : VEGA_DEBUG;\n",
       "  (function(spec, embedOpt){\n",
       "    let outputDiv = document.currentScript.previousElementSibling;\n",
       "    if (outputDiv.id !== \"altair-viz-e1fc206014db4ec78616eb6b35928807\") {\n",
       "      outputDiv = document.getElementById(\"altair-viz-e1fc206014db4ec78616eb6b35928807\");\n",
       "    }\n",
       "    const paths = {\n",
       "      \"vega\": \"https://cdn.jsdelivr.net/npm/vega@5?noext\",\n",
       "      \"vega-lib\": \"https://cdn.jsdelivr.net/npm/vega-lib?noext\",\n",
       "      \"vega-lite\": \"https://cdn.jsdelivr.net/npm/vega-lite@5.15.1?noext\",\n",
       "      \"vega-embed\": \"https://cdn.jsdelivr.net/npm/vega-embed@6?noext\",\n",
       "    };\n",
       "\n",
       "    function maybeLoadScript(lib, version) {\n",
       "      var key = `${lib.replace(\"-\", \"\")}_version`;\n",
       "      return (VEGA_DEBUG[key] == version) ?\n",
       "        Promise.resolve(paths[lib]) :\n",
       "        new Promise(function(resolve, reject) {\n",
       "          var s = document.createElement('script');\n",
       "          document.getElementsByTagName(\"head\")[0].appendChild(s);\n",
       "          s.async = true;\n",
       "          s.onload = () => {\n",
       "            VEGA_DEBUG[key] = version;\n",
       "            return resolve(paths[lib]);\n",
       "          };\n",
       "          s.onerror = () => reject(`Error loading script: ${paths[lib]}`);\n",
       "          s.src = paths[lib];\n",
       "        });\n",
       "    }\n",
       "\n",
       "    function showError(err) {\n",
       "      outputDiv.innerHTML = `<div class=\"error\" style=\"color:red;\">${err}</div>`;\n",
       "      throw err;\n",
       "    }\n",
       "\n",
       "    function displayChart(vegaEmbed) {\n",
       "      vegaEmbed(outputDiv, spec, embedOpt)\n",
       "        .catch(err => showError(`Javascript Error: ${err.message}<br>This usually means there's a typo in your chart specification. See the javascript console for the full traceback.`));\n",
       "    }\n",
       "\n",
       "    if(typeof define === \"function\" && define.amd) {\n",
       "      requirejs.config({paths});\n",
       "      require([\"vega-embed\"], displayChart, err => showError(`Error loading script: ${err.message}`));\n",
       "    } else {\n",
       "      maybeLoadScript(\"vega\", \"5\")\n",
       "        .then(() => maybeLoadScript(\"vega-lite\", \"5.15.1\"))\n",
       "        .then(() => maybeLoadScript(\"vega-embed\", \"6\"))\n",
       "        .catch(showError)\n",
       "        .then(() => displayChart(vegaEmbed));\n",
       "    }\n",
       "  })({\"config\": {\"view\": {\"continuousWidth\": 300, \"continuousHeight\": 300}, \"tick\": {\"bandSize\": 25}}, \"data\": {\"name\": \"data-d7ccc63d3e0421a1d9e22825b7b09d01\"}, \"mark\": {\"type\": \"tick\"}, \"encoding\": {\"color\": {\"field\": \"real station\", \"legend\": {\"title\": \"Station\"}, \"scale\": {\"domain\": [1, 2, 3], \"range\": [\"cornflowerblue\", \"darkorange\", \"violet\"]}, \"type\": \"nominal\"}, \"x\": {\"axis\": {\"values\": [\"2023-08-24 17:58:00\", \"2023-08-24 18:00:00\", \"2023-08-24 18:02:00\", \"2023-08-24 18:04:00\", \"2023-08-24 18:06:00\", \"2023-08-24 18:08:00\", \"2023-08-24 18:10:00\"]}, \"field\": \"ts\", \"title\": \"Timestamp\", \"type\": \"temporal\"}, \"y\": {\"field\": \"real station\", \"title\": \"Station\", \"type\": \"ordinal\"}}, \"height\": 100, \"title\": \"Real station of beacon\", \"width\": 400, \"$schema\": \"https://vega.github.io/schema/vega-lite/v5.15.1.json\", \"datasets\": {\"data-d7ccc63d3e0421a1d9e22825b7b09d01\": [{\"ts\": \"2023-08-24 17:58:02\", \"rssi1\": -61.0, \"rssi2\": -68.0, \"rssi3\": -76.0, \"real station\": 1, \"station\": 1.0}, {\"ts\": \"2023-08-24 17:58:03\", \"rssi1\": -61.0, \"rssi2\": -68.0, \"rssi3\": -76.0, \"real station\": 1, \"station\": 1.0}, {\"ts\": \"2023-08-24 17:58:04\", \"rssi1\": -61.0, \"rssi2\": -68.0, \"rssi3\": -76.0, \"real station\": 1, \"station\": 1.0}, {\"ts\": \"2023-08-24 17:58:05\", \"rssi1\": -61.0, \"rssi2\": -68.0, \"rssi3\": -76.0, \"real station\": 1, \"station\": 1.0}, {\"ts\": \"2023-08-24 17:58:06\", \"rssi1\": -61.0, \"rssi2\": -68.0, \"rssi3\": -76.0, \"real station\": 1, \"station\": 1.0}, {\"ts\": \"2023-08-24 17:58:07\", \"rssi1\": -61.0, \"rssi2\": -68.0, \"rssi3\": -76.0, \"real station\": 1, \"station\": 1.0}, {\"ts\": \"2023-08-24 17:58:08\", \"rssi1\": -61.0, \"rssi2\": -68.0, \"rssi3\": -76.0, \"real station\": 1, \"station\": 1.0}, {\"ts\": \"2023-08-24 17:58:09\", \"rssi1\": -61.0, \"rssi2\": -68.0, \"rssi3\": -76.0, \"real station\": 1, \"station\": 1.0}, {\"ts\": \"2023-08-24 17:58:10\", \"rssi1\": -61.0, \"rssi2\": -68.0, \"rssi3\": -76.0, \"real station\": 1, \"station\": 1.0}, {\"ts\": \"2023-08-24 17:58:11\", \"rssi1\": -61.0, \"rssi2\": -68.0, \"rssi3\": -70.0, \"real station\": 1, \"station\": 1.0}, {\"ts\": \"2023-08-24 17:58:12\", \"rssi1\": -61.0, \"rssi2\": -68.0, \"rssi3\": -70.0, \"real station\": 1, \"station\": 1.0}, {\"ts\": \"2023-08-24 17:58:13\", \"rssi1\": -61.0, \"rssi2\": -68.0, \"rssi3\": -70.0, \"real station\": 1, \"station\": 1.0}, {\"ts\": \"2023-08-24 17:58:14\", \"rssi1\": -61.0, \"rssi2\": -68.0, \"rssi3\": -70.0, \"real station\": 1, \"station\": 1.0}, {\"ts\": \"2023-08-24 17:58:15\", \"rssi1\": -61.0, \"rssi2\": -74.0, \"rssi3\": -70.0, \"real station\": 1, \"station\": 1.0}, {\"ts\": \"2023-08-24 17:58:16\", \"rssi1\": -61.0, \"rssi2\": -74.0, \"rssi3\": -70.0, \"real station\": 1, \"station\": 1.0}, {\"ts\": \"2023-08-24 17:58:17\", \"rssi1\": -61.0, \"rssi2\": -74.0, \"rssi3\": -78.0, \"real station\": 1, \"station\": 1.0}, {\"ts\": \"2023-08-24 17:58:18\", \"rssi1\": -61.0, \"rssi2\": -74.0, \"rssi3\": -78.0, \"real station\": 1, \"station\": 1.0}, {\"ts\": \"2023-08-24 17:58:19\", \"rssi1\": -61.0, \"rssi2\": -74.0, \"rssi3\": -78.0, \"real station\": 1, \"station\": 1.0}, {\"ts\": \"2023-08-24 17:58:20\", \"rssi1\": -61.0, \"rssi2\": -74.0, \"rssi3\": -78.0, \"real station\": 1, \"station\": 1.0}, {\"ts\": \"2023-08-24 17:58:21\", \"rssi1\": -61.0, \"rssi2\": -74.0, \"rssi3\": -78.0, \"real station\": 1, \"station\": 1.0}, {\"ts\": \"2023-08-24 17:58:22\", \"rssi1\": -61.0, \"rssi2\": -74.0, \"rssi3\": -78.0, \"real station\": 1, \"station\": 1.0}, {\"ts\": \"2023-08-24 17:58:23\", \"rssi1\": -61.0, \"rssi2\": -74.0, \"rssi3\": -72.0, \"real station\": 1, \"station\": 1.0}, {\"ts\": \"2023-08-24 17:58:24\", \"rssi1\": -61.0, \"rssi2\": -74.0, \"rssi3\": -72.0, \"real station\": 1, \"station\": 1.0}, {\"ts\": \"2023-08-24 17:58:25\", \"rssi1\": -61.0, \"rssi2\": -74.0, \"rssi3\": -72.0, \"real station\": 1, \"station\": 1.0}, {\"ts\": \"2023-08-24 17:58:26\", \"rssi1\": -61.0, \"rssi2\": -74.0, \"rssi3\": -72.0, \"real station\": 1, \"station\": 1.0}, {\"ts\": \"2023-08-24 17:58:27\", \"rssi1\": -61.0, \"rssi2\": -74.0, \"rssi3\": -72.0, \"real station\": 1, \"station\": 1.0}, {\"ts\": \"2023-08-24 17:58:28\", \"rssi1\": -61.0, \"rssi2\": -74.0, \"rssi3\": -72.0, \"real station\": 1, \"station\": 1.0}, {\"ts\": \"2023-08-24 17:58:29\", \"rssi1\": -61.0, \"rssi2\": -74.0, \"rssi3\": -72.0, \"real station\": 1, \"station\": 1.0}, {\"ts\": \"2023-08-24 17:58:30\", \"rssi1\": -61.0, \"rssi2\": -74.0, \"rssi3\": -72.0, \"real station\": 1, \"station\": 1.0}, {\"ts\": \"2023-08-24 17:58:31\", \"rssi1\": -61.0, \"rssi2\": -74.0, \"rssi3\": -72.0, \"real station\": 1, \"station\": 1.0}, {\"ts\": \"2023-08-24 17:58:32\", \"rssi1\": -61.0, \"rssi2\": -74.0, \"rssi3\": -72.0, \"real station\": 1, \"station\": 1.0}, {\"ts\": \"2023-08-24 17:58:33\", \"rssi1\": -61.0, \"rssi2\": -74.0, \"rssi3\": -72.0, \"real station\": 1, \"station\": 1.0}, {\"ts\": \"2023-08-24 17:58:34\", \"rssi1\": -61.0, \"rssi2\": -74.0, \"rssi3\": -72.0, \"real station\": 1, \"station\": 1.0}, {\"ts\": \"2023-08-24 17:58:35\", \"rssi1\": -61.0, \"rssi2\": -74.0, \"rssi3\": -72.0, \"real station\": 1, \"station\": 1.0}, {\"ts\": \"2023-08-24 17:58:36\", \"rssi1\": -61.0, \"rssi2\": -74.0, \"rssi3\": -72.0, \"real station\": 1, \"station\": 1.0}, {\"ts\": \"2023-08-24 17:58:37\", \"rssi1\": -61.0, \"rssi2\": -74.0, \"rssi3\": -72.0, \"real station\": 1, \"station\": 1.0}, {\"ts\": \"2023-08-24 17:58:38\", \"rssi1\": -61.0, \"rssi2\": -74.0, \"rssi3\": -72.0, \"real station\": 1, \"station\": 1.0}, {\"ts\": \"2023-08-24 17:58:39\", \"rssi1\": -61.0, \"rssi2\": -74.0, \"rssi3\": -72.0, \"real station\": 1, \"station\": 1.0}, {\"ts\": \"2023-08-24 17:58:40\", \"rssi1\": -61.0, \"rssi2\": -74.0, \"rssi3\": -72.0, \"real station\": 1, \"station\": 1.0}, {\"ts\": \"2023-08-24 17:58:41\", \"rssi1\": -61.0, \"rssi2\": -74.0, \"rssi3\": -79.0, \"real station\": 1, \"station\": 1.0}, {\"ts\": \"2023-08-24 17:58:42\", \"rssi1\": -61.0, \"rssi2\": -74.0, \"rssi3\": -79.0, \"real station\": 1, \"station\": 1.0}, {\"ts\": \"2023-08-24 17:58:43\", \"rssi1\": -61.0, \"rssi2\": -74.0, \"rssi3\": -79.0, \"real station\": 1, \"station\": 1.0}, {\"ts\": \"2023-08-24 17:58:44\", \"rssi1\": -51.0, \"rssi2\": -74.0, \"rssi3\": -79.0, \"real station\": 1, \"station\": 1.0}, {\"ts\": \"2023-08-24 17:58:45\", \"rssi1\": -51.0, \"rssi2\": -74.0, \"rssi3\": -79.0, \"real station\": 1, \"station\": 1.0}, {\"ts\": \"2023-08-24 17:58:46\", \"rssi1\": -51.0, \"rssi2\": -74.0, \"rssi3\": -79.0, \"real station\": 1, \"station\": 1.0}, {\"ts\": \"2023-08-24 17:58:47\", \"rssi1\": -51.0, \"rssi2\": -74.0, \"rssi3\": -67.0, \"real station\": 1, \"station\": 1.0}, {\"ts\": \"2023-08-24 17:58:48\", \"rssi1\": -51.0, \"rssi2\": -74.0, \"rssi3\": -67.0, \"real station\": 1, \"station\": 1.0}, {\"ts\": \"2023-08-24 17:58:49\", \"rssi1\": -51.0, \"rssi2\": -74.0, \"rssi3\": -67.0, \"real station\": 1, \"station\": 1.0}, {\"ts\": \"2023-08-24 17:58:50\", \"rssi1\": -58.0, \"rssi2\": -74.0, \"rssi3\": -67.0, \"real station\": 1, \"station\": 1.0}, {\"ts\": \"2023-08-24 17:58:51\", \"rssi1\": -58.0, \"rssi2\": -74.0, \"rssi3\": -67.0, \"real station\": 1, \"station\": 1.0}, {\"ts\": \"2023-08-24 17:58:52\", \"rssi1\": -58.0, \"rssi2\": -74.0, \"rssi3\": -67.0, \"real station\": 1, \"station\": 1.0}, {\"ts\": \"2023-08-24 17:58:53\", \"rssi1\": -58.0, \"rssi2\": -74.0, \"rssi3\": -78.0, \"real station\": 1, \"station\": 1.0}, {\"ts\": \"2023-08-24 17:58:54\", \"rssi1\": -58.0, \"rssi2\": -74.0, \"rssi3\": -78.0, \"real station\": 1, \"station\": 1.0}, {\"ts\": \"2023-08-24 17:58:55\", \"rssi1\": -58.0, \"rssi2\": -74.0, \"rssi3\": -78.0, \"real station\": 1, \"station\": 1.0}, {\"ts\": \"2023-08-24 17:58:56\", \"rssi1\": -58.0, \"rssi2\": -74.0, \"rssi3\": -78.0, \"real station\": 1, \"station\": 1.0}, {\"ts\": \"2023-08-24 17:58:57\", \"rssi1\": -58.0, \"rssi2\": -67.0, \"rssi3\": -78.0, \"real station\": 1, \"station\": 1.0}, {\"ts\": \"2023-08-24 17:58:58\", \"rssi1\": -58.0, \"rssi2\": -67.0, \"rssi3\": -78.0, \"real station\": 1, \"station\": 1.0}, {\"ts\": \"2023-08-24 17:58:59\", \"rssi1\": -58.0, \"rssi2\": -67.0, \"rssi3\": -78.0, \"real station\": 1, \"station\": 1.0}, {\"ts\": \"2023-08-24 17:59:00\", \"rssi1\": -58.0, \"rssi2\": -67.0, \"rssi3\": -78.0, \"real station\": 1, \"station\": 1.0}, {\"ts\": \"2023-08-24 17:59:01\", \"rssi1\": -58.0, \"rssi2\": -67.0, \"rssi3\": -78.0, \"real station\": 1, \"station\": 1.0}, {\"ts\": \"2023-08-24 17:59:02\", \"rssi1\": -65.0, \"rssi2\": -67.0, \"rssi3\": -78.0, \"real station\": 1, \"station\": 1.0}, {\"ts\": \"2023-08-24 17:59:03\", \"rssi1\": -65.0, \"rssi2\": -67.0, \"rssi3\": -78.0, \"real station\": 1, \"station\": 1.0}, {\"ts\": \"2023-08-24 17:59:04\", \"rssi1\": -65.0, \"rssi2\": -67.0, \"rssi3\": -78.0, \"real station\": 1, \"station\": 1.0}, {\"ts\": \"2023-08-24 17:59:05\", \"rssi1\": -65.0, \"rssi2\": -67.0, \"rssi3\": -71.0, \"real station\": 1, \"station\": 1.0}, {\"ts\": \"2023-08-24 17:59:06\", \"rssi1\": -65.0, \"rssi2\": -67.0, \"rssi3\": -71.0, \"real station\": 1, \"station\": 1.0}, {\"ts\": \"2023-08-24 17:59:07\", \"rssi1\": -65.0, \"rssi2\": -67.0, \"rssi3\": -71.0, \"real station\": 1, \"station\": 1.0}, {\"ts\": \"2023-08-24 17:59:08\", \"rssi1\": -65.0, \"rssi2\": -67.0, \"rssi3\": -71.0, \"real station\": 1, \"station\": 1.0}, {\"ts\": \"2023-08-24 17:59:09\", \"rssi1\": -65.0, \"rssi2\": -67.0, \"rssi3\": -71.0, \"real station\": 1, \"station\": 1.0}, {\"ts\": \"2023-08-24 17:59:10\", \"rssi1\": -65.0, \"rssi2\": -67.0, \"rssi3\": -71.0, \"real station\": 1, \"station\": 1.0}, {\"ts\": \"2023-08-24 17:59:11\", \"rssi1\": -65.0, \"rssi2\": -67.0, \"rssi3\": -71.0, \"real station\": 1, \"station\": 1.0}, {\"ts\": \"2023-08-24 17:59:12\", \"rssi1\": -65.0, \"rssi2\": -67.0, \"rssi3\": -71.0, \"real station\": 1, \"station\": 1.0}, {\"ts\": \"2023-08-24 17:59:13\", \"rssi1\": -65.0, \"rssi2\": -67.0, \"rssi3\": -71.0, \"real station\": 1, \"station\": 1.0}, {\"ts\": \"2023-08-24 17:59:14\", \"rssi1\": -65.0, \"rssi2\": -67.0, \"rssi3\": -71.0, \"real station\": 1, \"station\": 1.0}, {\"ts\": \"2023-08-24 17:59:15\", \"rssi1\": -65.0, \"rssi2\": -73.0, \"rssi3\": -71.0, \"real station\": 1, \"station\": 1.0}, {\"ts\": \"2023-08-24 17:59:16\", \"rssi1\": -65.0, \"rssi2\": -73.0, \"rssi3\": -71.0, \"real station\": 1, \"station\": 1.0}, {\"ts\": \"2023-08-24 17:59:17\", \"rssi1\": -65.0, \"rssi2\": -73.0, \"rssi3\": -71.0, \"real station\": 1, \"station\": 1.0}, {\"ts\": \"2023-08-24 17:59:18\", \"rssi1\": -65.0, \"rssi2\": -73.0, \"rssi3\": -71.0, \"real station\": 1, \"station\": 1.0}, {\"ts\": \"2023-08-24 17:59:19\", \"rssi1\": -65.0, \"rssi2\": -73.0, \"rssi3\": -71.0, \"real station\": 1, \"station\": 1.0}, {\"ts\": \"2023-08-24 17:59:20\", \"rssi1\": -48.0, \"rssi2\": -73.0, \"rssi3\": -71.0, \"real station\": 1, \"station\": 1.0}, {\"ts\": \"2023-08-24 17:59:21\", \"rssi1\": -48.0, \"rssi2\": -73.0, \"rssi3\": -71.0, \"real station\": 1, \"station\": 1.0}, {\"ts\": \"2023-08-24 17:59:22\", \"rssi1\": -48.0, \"rssi2\": -73.0, \"rssi3\": -71.0, \"real station\": 1, \"station\": 1.0}, {\"ts\": \"2023-08-24 17:59:23\", \"rssi1\": -48.0, \"rssi2\": -73.0, \"rssi3\": -71.0, \"real station\": 1, \"station\": 1.0}, {\"ts\": \"2023-08-24 17:59:24\", \"rssi1\": -48.0, \"rssi2\": -73.0, \"rssi3\": -71.0, \"real station\": 1, \"station\": 1.0}, {\"ts\": \"2023-08-24 17:59:25\", \"rssi1\": -48.0, \"rssi2\": -73.0, \"rssi3\": -71.0, \"real station\": 1, \"station\": 1.0}, {\"ts\": \"2023-08-24 17:59:26\", \"rssi1\": -48.0, \"rssi2\": -73.0, \"rssi3\": -71.0, \"real station\": 1, \"station\": 1.0}, {\"ts\": \"2023-08-24 17:59:27\", \"rssi1\": -48.0, \"rssi2\": -73.0, \"rssi3\": -71.0, \"real station\": 1, \"station\": 1.0}, {\"ts\": \"2023-08-24 17:59:28\", \"rssi1\": -48.0, \"rssi2\": -73.0, \"rssi3\": -71.0, \"real station\": 1, \"station\": 1.0}, {\"ts\": \"2023-08-24 17:59:29\", \"rssi1\": -48.0, \"rssi2\": -73.0, \"rssi3\": -71.0, \"real station\": 1, \"station\": 1.0}, {\"ts\": \"2023-08-24 17:59:30\", \"rssi1\": -48.0, \"rssi2\": -73.0, \"rssi3\": -71.0, \"real station\": 1, \"station\": 1.0}, {\"ts\": \"2023-08-24 17:59:31\", \"rssi1\": -48.0, \"rssi2\": -73.0, \"rssi3\": -71.0, \"real station\": 1, \"station\": 1.0}, {\"ts\": \"2023-08-24 17:59:32\", \"rssi1\": -48.0, \"rssi2\": -73.0, \"rssi3\": -71.0, \"real station\": 1, \"station\": 1.0}, {\"ts\": \"2023-08-24 17:59:33\", \"rssi1\": -48.0, \"rssi2\": -65.0, \"rssi3\": -71.0, \"real station\": 1, \"station\": 1.0}, {\"ts\": \"2023-08-24 17:59:34\", \"rssi1\": -48.0, \"rssi2\": -65.0, \"rssi3\": -71.0, \"real station\": 1, \"station\": 1.0}, {\"ts\": \"2023-08-24 17:59:35\", \"rssi1\": -48.0, \"rssi2\": -65.0, \"rssi3\": -71.0, \"real station\": 1, \"station\": 1.0}, {\"ts\": \"2023-08-24 17:59:36\", \"rssi1\": -48.0, \"rssi2\": -65.0, \"rssi3\": -71.0, \"real station\": 1, \"station\": 1.0}, {\"ts\": \"2023-08-24 17:59:37\", \"rssi1\": -48.0, \"rssi2\": -65.0, \"rssi3\": -71.0, \"real station\": 1, \"station\": 1.0}, {\"ts\": \"2023-08-24 17:59:38\", \"rssi1\": -66.0, \"rssi2\": -65.0, \"rssi3\": -71.0, \"real station\": 1, \"station\": 1.0}, {\"ts\": \"2023-08-24 17:59:39\", \"rssi1\": -66.0, \"rssi2\": -65.0, \"rssi3\": -71.0, \"real station\": 1, \"station\": 1.0}, {\"ts\": \"2023-08-24 17:59:40\", \"rssi1\": -66.0, \"rssi2\": -65.0, \"rssi3\": -71.0, \"real station\": 1, \"station\": 1.0}, {\"ts\": \"2023-08-24 17:59:41\", \"rssi1\": -66.0, \"rssi2\": -65.0, \"rssi3\": -71.0, \"real station\": 1, \"station\": 1.0}, {\"ts\": \"2023-08-24 17:59:42\", \"rssi1\": -66.0, \"rssi2\": -65.0, \"rssi3\": -71.0, \"real station\": 1, \"station\": 1.0}, {\"ts\": \"2023-08-24 17:59:43\", \"rssi1\": -66.0, \"rssi2\": -65.0, \"rssi3\": -71.0, \"real station\": 1, \"station\": 1.0}, {\"ts\": \"2023-08-24 17:59:44\", \"rssi1\": -60.0, \"rssi2\": -65.0, \"rssi3\": -71.0, \"real station\": 1, \"station\": 1.0}, {\"ts\": \"2023-08-24 17:59:45\", \"rssi1\": -60.0, \"rssi2\": -71.0, \"rssi3\": -71.0, \"real station\": 1, \"station\": 1.0}, {\"ts\": \"2023-08-24 17:59:46\", \"rssi1\": -60.0, \"rssi2\": -71.0, \"rssi3\": -71.0, \"real station\": 1, \"station\": 1.0}, {\"ts\": \"2023-08-24 17:59:47\", \"rssi1\": -60.0, \"rssi2\": -71.0, \"rssi3\": -71.0, \"real station\": 1, \"station\": 1.0}, {\"ts\": \"2023-08-24 17:59:48\", \"rssi1\": -60.0, \"rssi2\": -71.0, \"rssi3\": -71.0, \"real station\": 1, \"station\": 1.0}, {\"ts\": \"2023-08-24 17:59:49\", \"rssi1\": -60.0, \"rssi2\": -71.0, \"rssi3\": -71.0, \"real station\": 1, \"station\": 1.0}, {\"ts\": \"2023-08-24 17:59:50\", \"rssi1\": -60.0, \"rssi2\": -71.0, \"rssi3\": -71.0, \"real station\": 1, \"station\": 1.0}, {\"ts\": \"2023-08-24 17:59:51\", \"rssi1\": -60.0, \"rssi2\": -71.0, \"rssi3\": -71.0, \"real station\": 1, \"station\": 1.0}, {\"ts\": \"2023-08-24 17:59:52\", \"rssi1\": -60.0, \"rssi2\": -71.0, \"rssi3\": -71.0, \"real station\": 1, \"station\": 1.0}, {\"ts\": \"2023-08-24 17:59:53\", \"rssi1\": -60.0, \"rssi2\": -71.0, \"rssi3\": -71.0, \"real station\": 1, \"station\": 1.0}, {\"ts\": \"2023-08-24 17:59:54\", \"rssi1\": -60.0, \"rssi2\": -71.0, \"rssi3\": -71.0, \"real station\": 1, \"station\": 1.0}, {\"ts\": \"2023-08-24 17:59:55\", \"rssi1\": -60.0, \"rssi2\": -71.0, \"rssi3\": -71.0, \"real station\": 1, \"station\": 1.0}, {\"ts\": \"2023-08-24 17:59:56\", \"rssi1\": -53.0, \"rssi2\": -71.0, \"rssi3\": -71.0, \"real station\": 1, \"station\": 1.0}, {\"ts\": \"2023-08-24 17:59:57\", \"rssi1\": -53.0, \"rssi2\": -71.0, \"rssi3\": -71.0, \"real station\": 1, \"station\": 1.0}, {\"ts\": \"2023-08-24 17:59:58\", \"rssi1\": -53.0, \"rssi2\": -71.0, \"rssi3\": -71.0, \"real station\": 1, \"station\": 1.0}, {\"ts\": \"2023-08-24 17:59:59\", \"rssi1\": -53.0, \"rssi2\": -71.0, \"rssi3\": -71.0, \"real station\": 1, \"station\": 1.0}, {\"ts\": \"2023-08-24 18:00:00\", \"rssi1\": -53.0, \"rssi2\": -71.0, \"rssi3\": -71.0, \"real station\": 1, \"station\": 1.0}, {\"ts\": \"2023-08-24 18:00:01\", \"rssi1\": -53.0, \"rssi2\": -71.0, \"rssi3\": -71.0, \"real station\": 1, \"station\": 1.0}, {\"ts\": \"2023-08-24 18:00:02\", \"rssi1\": -53.0, \"rssi2\": -71.0, \"rssi3\": -71.0, \"real station\": 1, \"station\": 1.0}, {\"ts\": \"2023-08-24 18:00:03\", \"rssi1\": -53.0, \"rssi2\": -71.0, \"rssi3\": -71.0, \"real station\": 1, \"station\": 1.0}, {\"ts\": \"2023-08-24 18:00:04\", \"rssi1\": -53.0, \"rssi2\": -71.0, \"rssi3\": -71.0, \"real station\": 1, \"station\": 1.0}, {\"ts\": \"2023-08-24 18:00:05\", \"rssi1\": -53.0, \"rssi2\": -71.0, \"rssi3\": -71.0, \"real station\": 1, \"station\": 1.0}, {\"ts\": \"2023-08-24 18:00:06\", \"rssi1\": -53.0, \"rssi2\": -71.0, \"rssi3\": -71.0, \"real station\": 1, \"station\": 1.0}, {\"ts\": \"2023-08-24 18:00:07\", \"rssi1\": -53.0, \"rssi2\": -71.0, \"rssi3\": -71.0, \"real station\": 1, \"station\": 1.0}, {\"ts\": \"2023-08-24 18:00:08\", \"rssi1\": -61.0, \"rssi2\": -71.0, \"rssi3\": -71.0, \"real station\": 1, \"station\": 1.0}, {\"ts\": \"2023-08-24 18:00:09\", \"rssi1\": -61.0, \"rssi2\": -100.0, \"rssi3\": -71.0, \"real station\": 1, \"station\": 1.0}, {\"ts\": \"2023-08-24 18:00:10\", \"rssi1\": -61.0, \"rssi2\": -100.0, \"rssi3\": -71.0, \"real station\": 1, \"station\": 1.0}, {\"ts\": \"2023-08-24 18:00:11\", \"rssi1\": -61.0, \"rssi2\": -100.0, \"rssi3\": -71.0, \"real station\": 1, \"station\": 1.0}, {\"ts\": \"2023-08-24 18:00:12\", \"rssi1\": -61.0, \"rssi2\": -100.0, \"rssi3\": -71.0, \"real station\": 1, \"station\": 1.0}, {\"ts\": \"2023-08-24 18:00:13\", \"rssi1\": -61.0, \"rssi2\": -100.0, \"rssi3\": -71.0, \"real station\": 1, \"station\": 1.0}, {\"ts\": \"2023-08-24 18:00:14\", \"rssi1\": -61.0, \"rssi2\": -100.0, \"rssi3\": -71.0, \"real station\": 1, \"station\": 1.0}, {\"ts\": \"2023-08-24 18:00:15\", \"rssi1\": -61.0, \"rssi2\": -100.0, \"rssi3\": -71.0, \"real station\": 1, \"station\": 1.0}, {\"ts\": \"2023-08-24 18:00:16\", \"rssi1\": -61.0, \"rssi2\": -100.0, \"rssi3\": -71.0, \"real station\": 1, \"station\": 1.0}, {\"ts\": \"2023-08-24 18:00:17\", \"rssi1\": -61.0, \"rssi2\": -100.0, \"rssi3\": -71.0, \"real station\": 1, \"station\": 1.0}, {\"ts\": \"2023-08-24 18:00:18\", \"rssi1\": -61.0, \"rssi2\": -100.0, \"rssi3\": -71.0, \"real station\": 1, \"station\": 1.0}, {\"ts\": \"2023-08-24 18:00:19\", \"rssi1\": -61.0, \"rssi2\": -100.0, \"rssi3\": -71.0, \"real station\": 1, \"station\": 1.0}, {\"ts\": \"2023-08-24 18:00:20\", \"rssi1\": -61.0, \"rssi2\": -100.0, \"rssi3\": -71.0, \"real station\": 1, \"station\": 1.0}, {\"ts\": \"2023-08-24 18:00:21\", \"rssi1\": -61.0, \"rssi2\": -73.0, \"rssi3\": -71.0, \"real station\": 1, \"station\": 1.0}, {\"ts\": \"2023-08-24 18:00:22\", \"rssi1\": -61.0, \"rssi2\": -73.0, \"rssi3\": -71.0, \"real station\": 1, \"station\": 1.0}, {\"ts\": \"2023-08-24 18:00:23\", \"rssi1\": -61.0, \"rssi2\": -73.0, \"rssi3\": -71.0, \"real station\": 1, \"station\": 1.0}, {\"ts\": \"2023-08-24 18:00:24\", \"rssi1\": -61.0, \"rssi2\": -73.0, \"rssi3\": -71.0, \"real station\": 1, \"station\": 1.0}, {\"ts\": \"2023-08-24 18:00:25\", \"rssi1\": -61.0, \"rssi2\": -73.0, \"rssi3\": -71.0, \"real station\": 1, \"station\": 1.0}, {\"ts\": \"2023-08-24 18:00:26\", \"rssi1\": -61.0, \"rssi2\": -73.0, \"rssi3\": -71.0, \"real station\": 1, \"station\": 1.0}, {\"ts\": \"2023-08-24 18:00:27\", \"rssi1\": -61.0, \"rssi2\": -73.0, \"rssi3\": -71.0, \"real station\": 1, \"station\": 1.0}, {\"ts\": \"2023-08-24 18:00:28\", \"rssi1\": -61.0, \"rssi2\": -73.0, \"rssi3\": -71.0, \"real station\": 1, \"station\": 1.0}, {\"ts\": \"2023-08-24 18:00:29\", \"rssi1\": -61.0, \"rssi2\": -73.0, \"rssi3\": -71.0, \"real station\": 1, \"station\": 1.0}, {\"ts\": \"2023-08-24 18:00:30\", \"rssi1\": -61.0, \"rssi2\": -73.0, \"rssi3\": -71.0, \"real station\": 1, \"station\": 1.0}, {\"ts\": \"2023-08-24 18:00:31\", \"rssi1\": -61.0, \"rssi2\": -73.0, \"rssi3\": -71.0, \"real station\": 1, \"station\": 1.0}, {\"ts\": \"2023-08-24 18:00:32\", \"rssi1\": -61.0, \"rssi2\": -73.0, \"rssi3\": -71.0, \"real station\": 1, \"station\": 1.0}, {\"ts\": \"2023-08-24 18:00:33\", \"rssi1\": -61.0, \"rssi2\": -67.0, \"rssi3\": -71.0, \"real station\": 1, \"station\": 1.0}, {\"ts\": \"2023-08-24 18:00:34\", \"rssi1\": -61.0, \"rssi2\": -67.0, \"rssi3\": -71.0, \"real station\": 1, \"station\": 1.0}, {\"ts\": \"2023-08-24 18:00:35\", \"rssi1\": -61.0, \"rssi2\": -67.0, \"rssi3\": -71.0, \"real station\": 1, \"station\": 1.0}, {\"ts\": \"2023-08-24 18:00:36\", \"rssi1\": -61.0, \"rssi2\": -67.0, \"rssi3\": -71.0, \"real station\": 1, \"station\": 1.0}, {\"ts\": \"2023-08-24 18:00:37\", \"rssi1\": -61.0, \"rssi2\": -67.0, \"rssi3\": -71.0, \"real station\": 1, \"station\": 1.0}, {\"ts\": \"2023-08-24 18:00:38\", \"rssi1\": -67.0, \"rssi2\": -67.0, \"rssi3\": -71.0, \"real station\": 1, \"station\": 1.0}, {\"ts\": \"2023-08-24 18:00:39\", \"rssi1\": -67.0, \"rssi2\": -78.0, \"rssi3\": -71.0, \"real station\": 1, \"station\": 1.0}, {\"ts\": \"2023-08-24 18:00:40\", \"rssi1\": -67.0, \"rssi2\": -78.0, \"rssi3\": -71.0, \"real station\": 1, \"station\": 1.0}, {\"ts\": \"2023-08-24 18:00:41\", \"rssi1\": -67.0, \"rssi2\": -78.0, \"rssi3\": -71.0, \"real station\": 1, \"station\": 1.0}, {\"ts\": \"2023-08-24 18:02:06\", \"rssi1\": -100.0, \"rssi2\": -50.0, \"rssi3\": -57.0, \"real station\": 2, \"station\": 2.0}, {\"ts\": \"2023-08-24 18:02:07\", \"rssi1\": -100.0, \"rssi2\": -50.0, \"rssi3\": -57.0, \"real station\": 2, \"station\": 2.0}, {\"ts\": \"2023-08-24 18:02:08\", \"rssi1\": -67.0, \"rssi2\": -50.0, \"rssi3\": -57.0, \"real station\": 2, \"station\": 2.0}, {\"ts\": \"2023-08-24 18:02:09\", \"rssi1\": -67.0, \"rssi2\": -50.0, \"rssi3\": -57.0, \"real station\": 2, \"station\": 2.0}, {\"ts\": \"2023-08-24 18:02:10\", \"rssi1\": -67.0, \"rssi2\": -50.0, \"rssi3\": -57.0, \"real station\": 2, \"station\": 2.0}, {\"ts\": \"2023-08-24 18:02:11\", \"rssi1\": -67.0, \"rssi2\": -50.0, \"rssi3\": -57.0, \"real station\": 2, \"station\": 2.0}, {\"ts\": \"2023-08-24 18:02:12\", \"rssi1\": -67.0, \"rssi2\": -50.0, \"rssi3\": -57.0, \"real station\": 2, \"station\": 2.0}, {\"ts\": \"2023-08-24 18:02:13\", \"rssi1\": -67.0, \"rssi2\": -50.0, \"rssi3\": -57.0, \"real station\": 2, \"station\": 2.0}, {\"ts\": \"2023-08-24 18:02:14\", \"rssi1\": -67.0, \"rssi2\": -50.0, \"rssi3\": -57.0, \"real station\": 2, \"station\": 2.0}, {\"ts\": \"2023-08-24 18:02:15\", \"rssi1\": -67.0, \"rssi2\": -50.0, \"rssi3\": -57.0, \"real station\": 2, \"station\": 2.0}, {\"ts\": \"2023-08-24 18:02:16\", \"rssi1\": -67.0, \"rssi2\": -50.0, \"rssi3\": -57.0, \"real station\": 2, \"station\": 2.0}, {\"ts\": \"2023-08-24 18:02:17\", \"rssi1\": -67.0, \"rssi2\": -50.0, \"rssi3\": -57.0, \"real station\": 2, \"station\": 2.0}, {\"ts\": \"2023-08-24 18:02:18\", \"rssi1\": -67.0, \"rssi2\": -50.0, \"rssi3\": -57.0, \"real station\": 2, \"station\": 2.0}, {\"ts\": \"2023-08-24 18:02:19\", \"rssi1\": -67.0, \"rssi2\": -50.0, \"rssi3\": -57.0, \"real station\": 2, \"station\": 2.0}, {\"ts\": \"2023-08-24 18:02:20\", \"rssi1\": -67.0, \"rssi2\": -50.0, \"rssi3\": -57.0, \"real station\": 2, \"station\": 2.0}, {\"ts\": \"2023-08-24 18:02:21\", \"rssi1\": -67.0, \"rssi2\": -50.0, \"rssi3\": -57.0, \"real station\": 2, \"station\": 2.0}, {\"ts\": \"2023-08-24 18:02:22\", \"rssi1\": -67.0, \"rssi2\": -50.0, \"rssi3\": -57.0, \"real station\": 2, \"station\": 2.0}, {\"ts\": \"2023-08-24 18:02:23\", \"rssi1\": -67.0, \"rssi2\": -50.0, \"rssi3\": -57.0, \"real station\": 2, \"station\": 2.0}, {\"ts\": \"2023-08-24 18:02:24\", \"rssi1\": -67.0, \"rssi2\": -50.0, \"rssi3\": -57.0, \"real station\": 2, \"station\": 2.0}, {\"ts\": \"2023-08-24 18:02:25\", \"rssi1\": -67.0, \"rssi2\": -50.0, \"rssi3\": -57.0, \"real station\": 2, \"station\": 2.0}, {\"ts\": \"2023-08-24 18:02:26\", \"rssi1\": -67.0, \"rssi2\": -50.0, \"rssi3\": -57.0, \"real station\": 2, \"station\": 2.0}, {\"ts\": \"2023-08-24 18:02:27\", \"rssi1\": -67.0, \"rssi2\": -57.0, \"rssi3\": -57.0, \"real station\": 2, \"station\": 2.0}, {\"ts\": \"2023-08-24 18:02:28\", \"rssi1\": -67.0, \"rssi2\": -57.0, \"rssi3\": -57.0, \"real station\": 2, \"station\": 2.0}, {\"ts\": \"2023-08-24 18:02:29\", \"rssi1\": -67.0, \"rssi2\": -57.0, \"rssi3\": -57.0, \"real station\": 2, \"station\": 2.0}, {\"ts\": \"2023-08-24 18:02:30\", \"rssi1\": -67.0, \"rssi2\": -57.0, \"rssi3\": -63.0, \"real station\": 2, \"station\": 2.0}, {\"ts\": \"2023-08-24 18:02:31\", \"rssi1\": -67.0, \"rssi2\": -57.0, \"rssi3\": -63.0, \"real station\": 2, \"station\": 2.0}, {\"ts\": \"2023-08-24 18:02:32\", \"rssi1\": -67.0, \"rssi2\": -57.0, \"rssi3\": -63.0, \"real station\": 2, \"station\": 2.0}, {\"ts\": \"2023-08-24 18:02:33\", \"rssi1\": -67.0, \"rssi2\": -51.0, \"rssi3\": -63.0, \"real station\": 2, \"station\": 2.0}, {\"ts\": \"2023-08-24 18:02:34\", \"rssi1\": -67.0, \"rssi2\": -51.0, \"rssi3\": -63.0, \"real station\": 2, \"station\": 2.0}, {\"ts\": \"2023-08-24 18:02:35\", \"rssi1\": -67.0, \"rssi2\": -51.0, \"rssi3\": -63.0, \"real station\": 2, \"station\": 2.0}, {\"ts\": \"2023-08-24 18:02:36\", \"rssi1\": -67.0, \"rssi2\": -51.0, \"rssi3\": -63.0, \"real station\": 2, \"station\": 2.0}, {\"ts\": \"2023-08-24 18:02:37\", \"rssi1\": -67.0, \"rssi2\": -51.0, \"rssi3\": -63.0, \"real station\": 2, \"station\": 2.0}, {\"ts\": \"2023-08-24 18:02:38\", \"rssi1\": -67.0, \"rssi2\": -51.0, \"rssi3\": -63.0, \"real station\": 2, \"station\": 2.0}, {\"ts\": \"2023-08-24 18:02:39\", \"rssi1\": -67.0, \"rssi2\": -51.0, \"rssi3\": -63.0, \"real station\": 2, \"station\": 2.0}, {\"ts\": \"2023-08-24 18:02:40\", \"rssi1\": -67.0, \"rssi2\": -51.0, \"rssi3\": -63.0, \"real station\": 2, \"station\": 2.0}, {\"ts\": \"2023-08-24 18:02:41\", \"rssi1\": -67.0, \"rssi2\": -51.0, \"rssi3\": -63.0, \"real station\": 2, \"station\": 2.0}, {\"ts\": \"2023-08-24 18:02:42\", \"rssi1\": -67.0, \"rssi2\": -51.0, \"rssi3\": -57.0, \"real station\": 2, \"station\": 2.0}, {\"ts\": \"2023-08-24 18:02:43\", \"rssi1\": -67.0, \"rssi2\": -51.0, \"rssi3\": -57.0, \"real station\": 2, \"station\": 2.0}, {\"ts\": \"2023-08-24 18:02:44\", \"rssi1\": -75.0, \"rssi2\": -51.0, \"rssi3\": -57.0, \"real station\": 2, \"station\": 2.0}, {\"ts\": \"2023-08-24 18:02:45\", \"rssi1\": -75.0, \"rssi2\": -44.0, \"rssi3\": -57.0, \"real station\": 2, \"station\": 2.0}, {\"ts\": \"2023-08-24 18:02:46\", \"rssi1\": -75.0, \"rssi2\": -44.0, \"rssi3\": -57.0, \"real station\": 2, \"station\": 2.0}, {\"ts\": \"2023-08-24 18:02:47\", \"rssi1\": -75.0, \"rssi2\": -44.0, \"rssi3\": -57.0, \"real station\": 2, \"station\": 2.0}, {\"ts\": \"2023-08-24 18:02:48\", \"rssi1\": -75.0, \"rssi2\": -44.0, \"rssi3\": -71.0, \"real station\": 2, \"station\": 2.0}, {\"ts\": \"2023-08-24 18:02:49\", \"rssi1\": -75.0, \"rssi2\": -44.0, \"rssi3\": -71.0, \"real station\": 2, \"station\": 2.0}, {\"ts\": \"2023-08-24 18:02:50\", \"rssi1\": -75.0, \"rssi2\": -44.0, \"rssi3\": -71.0, \"real station\": 2, \"station\": 2.0}, {\"ts\": \"2023-08-24 18:02:51\", \"rssi1\": -75.0, \"rssi2\": -44.0, \"rssi3\": -71.0, \"real station\": 2, \"station\": 2.0}, {\"ts\": \"2023-08-24 18:02:52\", \"rssi1\": -75.0, \"rssi2\": -44.0, \"rssi3\": -71.0, \"real station\": 2, \"station\": 2.0}, {\"ts\": \"2023-08-24 18:02:53\", \"rssi1\": -75.0, \"rssi2\": -44.0, \"rssi3\": -71.0, \"real station\": 2, \"station\": 2.0}, {\"ts\": \"2023-08-24 18:02:54\", \"rssi1\": -75.0, \"rssi2\": -44.0, \"rssi3\": -63.0, \"real station\": 2, \"station\": 2.0}, {\"ts\": \"2023-08-24 18:02:55\", \"rssi1\": -75.0, \"rssi2\": -44.0, \"rssi3\": -63.0, \"real station\": 2, \"station\": 2.0}, {\"ts\": \"2023-08-24 18:02:56\", \"rssi1\": -75.0, \"rssi2\": -44.0, \"rssi3\": -63.0, \"real station\": 2, \"station\": 2.0}, {\"ts\": \"2023-08-24 18:02:57\", \"rssi1\": -75.0, \"rssi2\": -44.0, \"rssi3\": -63.0, \"real station\": 2, \"station\": 2.0}, {\"ts\": \"2023-08-24 18:02:58\", \"rssi1\": -75.0, \"rssi2\": -44.0, \"rssi3\": -63.0, \"real station\": 2, \"station\": 2.0}, {\"ts\": \"2023-08-24 18:02:59\", \"rssi1\": -75.0, \"rssi2\": -44.0, \"rssi3\": -63.0, \"real station\": 2, \"station\": 2.0}, {\"ts\": \"2023-08-24 18:03:00\", \"rssi1\": -75.0, \"rssi2\": -44.0, \"rssi3\": -63.0, \"real station\": 2, \"station\": 2.0}, {\"ts\": \"2023-08-24 18:03:01\", \"rssi1\": -75.0, \"rssi2\": -44.0, \"rssi3\": -63.0, \"real station\": 2, \"station\": 2.0}, {\"ts\": \"2023-08-24 18:03:02\", \"rssi1\": -75.0, \"rssi2\": -44.0, \"rssi3\": -63.0, \"real station\": 2, \"station\": 2.0}, {\"ts\": \"2023-08-24 18:03:03\", \"rssi1\": -75.0, \"rssi2\": -44.0, \"rssi3\": -63.0, \"real station\": 2, \"station\": 2.0}, {\"ts\": \"2023-08-24 18:03:04\", \"rssi1\": -75.0, \"rssi2\": -52.0, \"rssi3\": -63.0, \"real station\": 2, \"station\": 2.0}, {\"ts\": \"2023-08-24 18:03:05\", \"rssi1\": -75.0, \"rssi2\": -52.0, \"rssi3\": -63.0, \"real station\": 2, \"station\": 2.0}, {\"ts\": \"2023-08-24 18:03:06\", \"rssi1\": -75.0, \"rssi2\": -52.0, \"rssi3\": -55.0, \"real station\": 2, \"station\": 2.0}, {\"ts\": \"2023-08-24 18:03:07\", \"rssi1\": -75.0, \"rssi2\": -52.0, \"rssi3\": -55.0, \"real station\": 2, \"station\": 2.0}, {\"ts\": \"2023-08-24 18:03:08\", \"rssi1\": -75.0, \"rssi2\": -52.0, \"rssi3\": -55.0, \"real station\": 2, \"station\": 2.0}, {\"ts\": \"2023-08-24 18:03:09\", \"rssi1\": -66.0, \"rssi2\": -52.0, \"rssi3\": -55.0, \"real station\": 2, \"station\": 2.0}, {\"ts\": \"2023-08-24 18:03:10\", \"rssi1\": -66.0, \"rssi2\": -52.0, \"rssi3\": -55.0, \"real station\": 2, \"station\": 2.0}, {\"ts\": \"2023-08-24 18:03:11\", \"rssi1\": -66.0, \"rssi2\": -52.0, \"rssi3\": -55.0, \"real station\": 2, \"station\": 2.0}, {\"ts\": \"2023-08-24 18:03:12\", \"rssi1\": -66.0, \"rssi2\": -52.0, \"rssi3\": -61.0, \"real station\": 2, \"station\": 2.0}, {\"ts\": \"2023-08-24 18:03:13\", \"rssi1\": -66.0, \"rssi2\": -52.0, \"rssi3\": -61.0, \"real station\": 2, \"station\": 2.0}, {\"ts\": \"2023-08-24 18:03:14\", \"rssi1\": -66.0, \"rssi2\": -52.0, \"rssi3\": -61.0, \"real station\": 2, \"station\": 2.0}, {\"ts\": \"2023-08-24 18:03:15\", \"rssi1\": -72.0, \"rssi2\": -52.0, \"rssi3\": -61.0, \"real station\": 2, \"station\": 2.0}, {\"ts\": \"2023-08-24 18:03:16\", \"rssi1\": -72.0, \"rssi2\": -52.0, \"rssi3\": -61.0, \"real station\": 2, \"station\": 2.0}, {\"ts\": \"2023-08-24 18:03:17\", \"rssi1\": -72.0, \"rssi2\": -52.0, \"rssi3\": -61.0, \"real station\": 2, \"station\": 2.0}, {\"ts\": \"2023-08-24 18:03:18\", \"rssi1\": -72.0, \"rssi2\": -52.0, \"rssi3\": -61.0, \"real station\": 2, \"station\": 2.0}, {\"ts\": \"2023-08-24 18:03:19\", \"rssi1\": -72.0, \"rssi2\": -52.0, \"rssi3\": -61.0, \"real station\": 2, \"station\": 2.0}, {\"ts\": \"2023-08-24 18:03:20\", \"rssi1\": -72.0, \"rssi2\": -52.0, \"rssi3\": -61.0, \"real station\": 2, \"station\": 2.0}, {\"ts\": \"2023-08-24 18:03:21\", \"rssi1\": -72.0, \"rssi2\": -60.0, \"rssi3\": -61.0, \"real station\": 2, \"station\": 2.0}, {\"ts\": \"2023-08-24 18:03:22\", \"rssi1\": -72.0, \"rssi2\": -60.0, \"rssi3\": -61.0, \"real station\": 2, \"station\": 2.0}, {\"ts\": \"2023-08-24 18:03:23\", \"rssi1\": -72.0, \"rssi2\": -60.0, \"rssi3\": -61.0, \"real station\": 2, \"station\": 2.0}, {\"ts\": \"2023-08-24 18:03:24\", \"rssi1\": -72.0, \"rssi2\": -60.0, \"rssi3\": -61.0, \"real station\": 2, \"station\": 2.0}, {\"ts\": \"2023-08-24 18:03:25\", \"rssi1\": -72.0, \"rssi2\": -60.0, \"rssi3\": -61.0, \"real station\": 2, \"station\": 2.0}, {\"ts\": \"2023-08-24 18:03:26\", \"rssi1\": -72.0, \"rssi2\": -60.0, \"rssi3\": -61.0, \"real station\": 2, \"station\": 2.0}, {\"ts\": \"2023-08-24 18:03:27\", \"rssi1\": -72.0, \"rssi2\": -60.0, \"rssi3\": -61.0, \"real station\": 2, \"station\": 2.0}, {\"ts\": \"2023-08-24 18:03:28\", \"rssi1\": -72.0, \"rssi2\": -60.0, \"rssi3\": -61.0, \"real station\": 2, \"station\": 2.0}, {\"ts\": \"2023-08-24 18:03:29\", \"rssi1\": -72.0, \"rssi2\": -60.0, \"rssi3\": -61.0, \"real station\": 2, \"station\": 2.0}, {\"ts\": \"2023-08-24 18:03:30\", \"rssi1\": -72.0, \"rssi2\": -60.0, \"rssi3\": -68.0, \"real station\": 2, \"station\": 2.0}, {\"ts\": \"2023-08-24 18:03:31\", \"rssi1\": -72.0, \"rssi2\": -60.0, \"rssi3\": -68.0, \"real station\": 2, \"station\": 2.0}, {\"ts\": \"2023-08-24 18:03:32\", \"rssi1\": -72.0, \"rssi2\": -60.0, \"rssi3\": -68.0, \"real station\": 2, \"station\": 2.0}, {\"ts\": \"2023-08-24 18:03:33\", \"rssi1\": -65.0, \"rssi2\": -60.0, \"rssi3\": -68.0, \"real station\": 2, \"station\": 2.0}, {\"ts\": \"2023-08-24 18:03:34\", \"rssi1\": -65.0, \"rssi2\": -60.0, \"rssi3\": -68.0, \"real station\": 2, \"station\": 2.0}, {\"ts\": \"2023-08-24 18:03:35\", \"rssi1\": -65.0, \"rssi2\": -60.0, \"rssi3\": -68.0, \"real station\": 2, \"station\": 2.0}, {\"ts\": \"2023-08-24 18:03:36\", \"rssi1\": -65.0, \"rssi2\": -60.0, \"rssi3\": -68.0, \"real station\": 2, \"station\": 2.0}, {\"ts\": \"2023-08-24 18:03:37\", \"rssi1\": -65.0, \"rssi2\": -60.0, \"rssi3\": -68.0, \"real station\": 2, \"station\": 2.0}, {\"ts\": \"2023-08-24 18:03:38\", \"rssi1\": -65.0, \"rssi2\": -60.0, \"rssi3\": -68.0, \"real station\": 2, \"station\": 2.0}, {\"ts\": \"2023-08-24 18:03:39\", \"rssi1\": -73.0, \"rssi2\": -60.0, \"rssi3\": -68.0, \"real station\": 2, \"station\": 2.0}, {\"ts\": \"2023-08-24 18:03:40\", \"rssi1\": -73.0, \"rssi2\": -60.0, \"rssi3\": -68.0, \"real station\": 2, \"station\": 2.0}, {\"ts\": \"2023-08-24 18:03:41\", \"rssi1\": -73.0, \"rssi2\": -60.0, \"rssi3\": -68.0, \"real station\": 2, \"station\": 2.0}, {\"ts\": \"2023-08-24 18:03:42\", \"rssi1\": -73.0, \"rssi2\": -60.0, \"rssi3\": -68.0, \"real station\": 2, \"station\": 2.0}, {\"ts\": \"2023-08-24 18:03:43\", \"rssi1\": -73.0, \"rssi2\": -60.0, \"rssi3\": -68.0, \"real station\": 2, \"station\": 2.0}, {\"ts\": \"2023-08-24 18:03:44\", \"rssi1\": -73.0, \"rssi2\": -60.0, \"rssi3\": -68.0, \"real station\": 2, \"station\": 2.0}, {\"ts\": \"2023-08-24 18:03:45\", \"rssi1\": -73.0, \"rssi2\": -60.0, \"rssi3\": -68.0, \"real station\": 2, \"station\": 2.0}, {\"ts\": \"2023-08-24 18:03:46\", \"rssi1\": -73.0, \"rssi2\": -76.0, \"rssi3\": -68.0, \"real station\": 2, \"station\": 2.0}, {\"ts\": \"2023-08-24 18:03:47\", \"rssi1\": -73.0, \"rssi2\": -76.0, \"rssi3\": -68.0, \"real station\": 2, \"station\": 2.0}, {\"ts\": \"2023-08-24 18:03:48\", \"rssi1\": -73.0, \"rssi2\": -76.0, \"rssi3\": -55.0, \"real station\": 2, \"station\": 2.0}, {\"ts\": \"2023-08-24 18:03:49\", \"rssi1\": -73.0, \"rssi2\": -76.0, \"rssi3\": -55.0, \"real station\": 2, \"station\": 2.0}, {\"ts\": \"2023-08-24 18:03:50\", \"rssi1\": -73.0, \"rssi2\": -76.0, \"rssi3\": -55.0, \"real station\": 2, \"station\": 2.0}, {\"ts\": \"2023-08-24 18:03:51\", \"rssi1\": -73.0, \"rssi2\": -76.0, \"rssi3\": -55.0, \"real station\": 2, \"station\": 2.0}, {\"ts\": \"2023-08-24 18:03:52\", \"rssi1\": -73.0, \"rssi2\": -54.0, \"rssi3\": -55.0, \"real station\": 2, \"station\": 2.0}, {\"ts\": \"2023-08-24 18:03:53\", \"rssi1\": -73.0, \"rssi2\": -54.0, \"rssi3\": -55.0, \"real station\": 2, \"station\": 2.0}, {\"ts\": \"2023-08-24 18:03:54\", \"rssi1\": -73.0, \"rssi2\": -54.0, \"rssi3\": -61.0, \"real station\": 2, \"station\": 2.0}, {\"ts\": \"2023-08-24 18:03:55\", \"rssi1\": -73.0, \"rssi2\": -54.0, \"rssi3\": -61.0, \"real station\": 2, \"station\": 2.0}, {\"ts\": \"2023-08-24 18:03:56\", \"rssi1\": -73.0, \"rssi2\": -54.0, \"rssi3\": -61.0, \"real station\": 2, \"station\": 2.0}, {\"ts\": \"2023-08-24 18:03:57\", \"rssi1\": -73.0, \"rssi2\": -54.0, \"rssi3\": -61.0, \"real station\": 2, \"station\": 2.0}, {\"ts\": \"2023-08-24 18:03:58\", \"rssi1\": -73.0, \"rssi2\": -54.0, \"rssi3\": -61.0, \"real station\": 2, \"station\": 2.0}, {\"ts\": \"2023-08-24 18:03:59\", \"rssi1\": -73.0, \"rssi2\": -54.0, \"rssi3\": -61.0, \"real station\": 2, \"station\": 2.0}, {\"ts\": \"2023-08-24 18:04:00\", \"rssi1\": -73.0, \"rssi2\": -54.0, \"rssi3\": -67.0, \"real station\": 2, \"station\": 2.0}, {\"ts\": \"2023-08-24 18:04:01\", \"rssi1\": -73.0, \"rssi2\": -54.0, \"rssi3\": -67.0, \"real station\": 2, \"station\": 2.0}, {\"ts\": \"2023-08-24 18:04:02\", \"rssi1\": -73.0, \"rssi2\": -54.0, \"rssi3\": -67.0, \"real station\": 2, \"station\": 2.0}, {\"ts\": \"2023-08-24 18:04:03\", \"rssi1\": -73.0, \"rssi2\": -54.0, \"rssi3\": -67.0, \"real station\": 2, \"station\": 2.0}, {\"ts\": \"2023-08-24 18:04:04\", \"rssi1\": -73.0, \"rssi2\": -65.0, \"rssi3\": -67.0, \"real station\": 2, \"station\": 2.0}, {\"ts\": \"2023-08-24 18:04:05\", \"rssi1\": -73.0, \"rssi2\": -65.0, \"rssi3\": -67.0, \"real station\": 2, \"station\": 2.0}, {\"ts\": \"2023-08-24 18:04:06\", \"rssi1\": -73.0, \"rssi2\": -65.0, \"rssi3\": -56.0, \"real station\": 2, \"station\": 2.0}, {\"ts\": \"2023-08-24 18:04:07\", \"rssi1\": -73.0, \"rssi2\": -65.0, \"rssi3\": -56.0, \"real station\": 2, \"station\": 2.0}, {\"ts\": \"2023-08-24 18:04:08\", \"rssi1\": -73.0, \"rssi2\": -65.0, \"rssi3\": -56.0, \"real station\": 2, \"station\": 2.0}, {\"ts\": \"2023-08-24 18:04:09\", \"rssi1\": -73.0, \"rssi2\": -65.0, \"rssi3\": -56.0, \"real station\": 2, \"station\": 2.0}, {\"ts\": \"2023-08-24 18:04:10\", \"rssi1\": -73.0, \"rssi2\": -52.0, \"rssi3\": -56.0, \"real station\": 2, \"station\": 2.0}, {\"ts\": \"2023-08-24 18:04:11\", \"rssi1\": -73.0, \"rssi2\": -52.0, \"rssi3\": -56.0, \"real station\": 2, \"station\": 2.0}, {\"ts\": \"2023-08-24 18:04:12\", \"rssi1\": -73.0, \"rssi2\": -52.0, \"rssi3\": -56.0, \"real station\": 2, \"station\": 2.0}, {\"ts\": \"2023-08-24 18:04:13\", \"rssi1\": -73.0, \"rssi2\": -52.0, \"rssi3\": -56.0, \"real station\": 2, \"station\": 2.0}, {\"ts\": \"2023-08-24 18:04:14\", \"rssi1\": -73.0, \"rssi2\": -52.0, \"rssi3\": -56.0, \"real station\": 2, \"station\": 2.0}, {\"ts\": \"2023-08-24 18:04:15\", \"rssi1\": -73.0, \"rssi2\": -52.0, \"rssi3\": -56.0, \"real station\": 2, \"station\": 2.0}, {\"ts\": \"2023-08-24 18:04:16\", \"rssi1\": -73.0, \"rssi2\": -52.0, \"rssi3\": -56.0, \"real station\": 2, \"station\": 2.0}, {\"ts\": \"2023-08-24 18:04:17\", \"rssi1\": -73.0, \"rssi2\": -52.0, \"rssi3\": -56.0, \"real station\": 2, \"station\": 2.0}, {\"ts\": \"2023-08-24 18:04:18\", \"rssi1\": -73.0, \"rssi2\": -52.0, \"rssi3\": -56.0, \"real station\": 2, \"station\": 2.0}, {\"ts\": \"2023-08-24 18:04:19\", \"rssi1\": -73.0, \"rssi2\": -52.0, \"rssi3\": -56.0, \"real station\": 2, \"station\": 2.0}, {\"ts\": \"2023-08-24 18:04:20\", \"rssi1\": -73.0, \"rssi2\": -52.0, \"rssi3\": -56.0, \"real station\": 2, \"station\": 2.0}, {\"ts\": \"2023-08-24 18:04:21\", \"rssi1\": -73.0, \"rssi2\": -52.0, \"rssi3\": -56.0, \"real station\": 2, \"station\": 2.0}, {\"ts\": \"2023-08-24 18:04:22\", \"rssi1\": -73.0, \"rssi2\": -52.0, \"rssi3\": -56.0, \"real station\": 2, \"station\": 2.0}, {\"ts\": \"2023-08-24 18:04:23\", \"rssi1\": -73.0, \"rssi2\": -52.0, \"rssi3\": -56.0, \"real station\": 2, \"station\": 2.0}, {\"ts\": \"2023-08-24 18:04:24\", \"rssi1\": -73.0, \"rssi2\": -52.0, \"rssi3\": -56.0, \"real station\": 2, \"station\": 2.0}, {\"ts\": \"2023-08-24 18:04:25\", \"rssi1\": -73.0, \"rssi2\": -52.0, \"rssi3\": -56.0, \"real station\": 2, \"station\": 2.0}, {\"ts\": \"2023-08-24 18:04:26\", \"rssi1\": -73.0, \"rssi2\": -52.0, \"rssi3\": -56.0, \"real station\": 2, \"station\": 2.0}, {\"ts\": \"2023-08-24 18:04:27\", \"rssi1\": -73.0, \"rssi2\": -52.0, \"rssi3\": -56.0, \"real station\": 2, \"station\": 2.0}, {\"ts\": \"2023-08-24 18:04:28\", \"rssi1\": -73.0, \"rssi2\": -52.0, \"rssi3\": -56.0, \"real station\": 2, \"station\": 2.0}, {\"ts\": \"2023-08-24 18:04:29\", \"rssi1\": -73.0, \"rssi2\": -52.0, \"rssi3\": -56.0, \"real station\": 2, \"station\": 2.0}, {\"ts\": \"2023-08-24 18:04:30\", \"rssi1\": -73.0, \"rssi2\": -52.0, \"rssi3\": -56.0, \"real station\": 2, \"station\": 2.0}, {\"ts\": \"2023-08-24 18:04:31\", \"rssi1\": -73.0, \"rssi2\": -52.0, \"rssi3\": -56.0, \"real station\": 2, \"station\": 2.0}, {\"ts\": \"2023-08-24 18:04:32\", \"rssi1\": -73.0, \"rssi2\": -52.0, \"rssi3\": -56.0, \"real station\": 2, \"station\": 2.0}, {\"ts\": \"2023-08-24 18:04:33\", \"rssi1\": -73.0, \"rssi2\": -52.0, \"rssi3\": -56.0, \"real station\": 2, \"station\": 2.0}, {\"ts\": \"2023-08-24 18:04:34\", \"rssi1\": -73.0, \"rssi2\": -72.0, \"rssi3\": -56.0, \"real station\": 2, \"station\": 3.0}, {\"ts\": \"2023-08-24 18:04:35\", \"rssi1\": -73.0, \"rssi2\": -72.0, \"rssi3\": -56.0, \"real station\": 2, \"station\": 3.0}, {\"ts\": \"2023-08-24 18:04:36\", \"rssi1\": -73.0, \"rssi2\": -72.0, \"rssi3\": -56.0, \"real station\": 2, \"station\": 3.0}, {\"ts\": \"2023-08-24 18:04:37\", \"rssi1\": -73.0, \"rssi2\": -72.0, \"rssi3\": -56.0, \"real station\": 2, \"station\": 3.0}, {\"ts\": \"2023-08-24 18:04:38\", \"rssi1\": -73.0, \"rssi2\": -72.0, \"rssi3\": -56.0, \"real station\": 2, \"station\": 3.0}, {\"ts\": \"2023-08-24 18:04:39\", \"rssi1\": -73.0, \"rssi2\": -72.0, \"rssi3\": -56.0, \"real station\": 2, \"station\": 3.0}, {\"ts\": \"2023-08-24 18:04:40\", \"rssi1\": -73.0, \"rssi2\": -72.0, \"rssi3\": -56.0, \"real station\": 2, \"station\": 3.0}, {\"ts\": \"2023-08-24 18:04:41\", \"rssi1\": -73.0, \"rssi2\": -72.0, \"rssi3\": -56.0, \"real station\": 2, \"station\": 3.0}, {\"ts\": \"2023-08-24 18:04:42\", \"rssi1\": -73.0, \"rssi2\": -72.0, \"rssi3\": -56.0, \"real station\": 2, \"station\": 3.0}, {\"ts\": \"2023-08-24 18:04:43\", \"rssi1\": -73.0, \"rssi2\": -72.0, \"rssi3\": -56.0, \"real station\": 2, \"station\": 3.0}, {\"ts\": \"2023-08-24 18:04:44\", \"rssi1\": -73.0, \"rssi2\": -72.0, \"rssi3\": -56.0, \"real station\": 2, \"station\": 3.0}, {\"ts\": \"2023-08-24 18:04:45\", \"rssi1\": -63.0, \"rssi2\": -72.0, \"rssi3\": -56.0, \"real station\": 2, \"station\": 3.0}, {\"ts\": \"2023-08-24 18:04:46\", \"rssi1\": -63.0, \"rssi2\": -53.0, \"rssi3\": -56.0, \"real station\": 2, \"station\": 3.0}, {\"ts\": \"2023-08-24 18:04:47\", \"rssi1\": -63.0, \"rssi2\": -53.0, \"rssi3\": -56.0, \"real station\": 2, \"station\": 3.0}, {\"ts\": \"2023-08-24 18:04:48\", \"rssi1\": -63.0, \"rssi2\": -53.0, \"rssi3\": -56.0, \"real station\": 2, \"station\": 3.0}, {\"ts\": \"2023-08-24 18:04:49\", \"rssi1\": -63.0, \"rssi2\": -53.0, \"rssi3\": -56.0, \"real station\": 2, \"station\": 3.0}, {\"ts\": \"2023-08-24 18:04:50\", \"rssi1\": -63.0, \"rssi2\": -53.0, \"rssi3\": -56.0, \"real station\": 2, \"station\": 3.0}, {\"ts\": \"2023-08-24 18:04:51\", \"rssi1\": -63.0, \"rssi2\": -53.0, \"rssi3\": -56.0, \"real station\": 2, \"station\": 3.0}, {\"ts\": \"2023-08-24 18:04:52\", \"rssi1\": -63.0, \"rssi2\": -53.0, \"rssi3\": -56.0, \"real station\": 2, \"station\": 3.0}, {\"ts\": \"2023-08-24 18:04:53\", \"rssi1\": -63.0, \"rssi2\": -53.0, \"rssi3\": -56.0, \"real station\": 2, \"station\": 3.0}, {\"ts\": \"2023-08-24 18:04:54\", \"rssi1\": -63.0, \"rssi2\": -53.0, \"rssi3\": -56.0, \"real station\": 2, \"station\": 3.0}, {\"ts\": \"2023-08-24 18:04:55\", \"rssi1\": -63.0, \"rssi2\": -53.0, \"rssi3\": -56.0, \"real station\": 2, \"station\": 3.0}, {\"ts\": \"2023-08-24 18:04:56\", \"rssi1\": -63.0, \"rssi2\": -53.0, \"rssi3\": -56.0, \"real station\": 2, \"station\": 3.0}, {\"ts\": \"2023-08-24 18:04:57\", \"rssi1\": -63.0, \"rssi2\": -53.0, \"rssi3\": -56.0, \"real station\": 2, \"station\": 3.0}, {\"ts\": \"2023-08-24 18:04:58\", \"rssi1\": -63.0, \"rssi2\": -53.0, \"rssi3\": -56.0, \"real station\": 2, \"station\": 3.0}, {\"ts\": \"2023-08-24 18:04:59\", \"rssi1\": -63.0, \"rssi2\": -53.0, \"rssi3\": -56.0, \"real station\": 2, \"station\": 3.0}, {\"ts\": \"2023-08-24 18:05:00\", \"rssi1\": -63.0, \"rssi2\": -53.0, \"rssi3\": -56.0, \"real station\": 2, \"station\": 3.0}, {\"ts\": \"2023-08-24 18:05:01\", \"rssi1\": -63.0, \"rssi2\": -53.0, \"rssi3\": -56.0, \"real station\": 2, \"station\": 3.0}, {\"ts\": \"2023-08-24 18:05:02\", \"rssi1\": -63.0, \"rssi2\": -53.0, \"rssi3\": -56.0, \"real station\": 2, \"station\": 3.0}, {\"ts\": \"2023-08-24 18:05:03\", \"rssi1\": -63.0, \"rssi2\": -53.0, \"rssi3\": -56.0, \"real station\": 2, \"station\": 3.0}, {\"ts\": \"2023-08-24 18:05:04\", \"rssi1\": -63.0, \"rssi2\": -64.0, \"rssi3\": -56.0, \"real station\": 2, \"station\": 3.0}, {\"ts\": \"2023-08-24 18:05:05\", \"rssi1\": -63.0, \"rssi2\": -64.0, \"rssi3\": -56.0, \"real station\": 2, \"station\": 3.0}, {\"ts\": \"2023-08-24 18:05:06\", \"rssi1\": -63.0, \"rssi2\": -64.0, \"rssi3\": -56.0, \"real station\": 2, \"station\": 3.0}, {\"ts\": \"2023-08-24 18:05:07\", \"rssi1\": -63.0, \"rssi2\": -64.0, \"rssi3\": -56.0, \"real station\": 2, \"station\": 3.0}, {\"ts\": \"2023-08-24 18:05:08\", \"rssi1\": -63.0, \"rssi2\": -64.0, \"rssi3\": -56.0, \"real station\": 2, \"station\": 3.0}, {\"ts\": \"2023-08-24 18:05:09\", \"rssi1\": -74.0, \"rssi2\": -64.0, \"rssi3\": -56.0, \"real station\": 2, \"station\": 3.0}, {\"ts\": \"2023-08-24 18:05:10\", \"rssi1\": -74.0, \"rssi2\": -64.0, \"rssi3\": -56.0, \"real station\": 2, \"station\": 3.0}, {\"ts\": \"2023-08-24 18:05:11\", \"rssi1\": -74.0, \"rssi2\": -64.0, \"rssi3\": -56.0, \"real station\": 2, \"station\": 3.0}, {\"ts\": \"2023-08-24 18:05:12\", \"rssi1\": -74.0, \"rssi2\": -64.0, \"rssi3\": -56.0, \"real station\": 2, \"station\": 3.0}, {\"ts\": \"2023-08-24 18:05:13\", \"rssi1\": -74.0, \"rssi2\": -64.0, \"rssi3\": -56.0, \"real station\": 2, \"station\": 3.0}, {\"ts\": \"2023-08-24 18:05:14\", \"rssi1\": -74.0, \"rssi2\": -64.0, \"rssi3\": -56.0, \"real station\": 2, \"station\": 3.0}, {\"ts\": \"2023-08-24 18:05:15\", \"rssi1\": -74.0, \"rssi2\": -64.0, \"rssi3\": -56.0, \"real station\": 2, \"station\": 3.0}, {\"ts\": \"2023-08-24 18:05:16\", \"rssi1\": -74.0, \"rssi2\": -64.0, \"rssi3\": -56.0, \"real station\": 2, \"station\": 3.0}, {\"ts\": \"2023-08-24 18:05:17\", \"rssi1\": -74.0, \"rssi2\": -64.0, \"rssi3\": -56.0, \"real station\": 2, \"station\": 3.0}, {\"ts\": \"2023-08-24 18:05:18\", \"rssi1\": -74.0, \"rssi2\": -64.0, \"rssi3\": -63.0, \"real station\": 2, \"station\": 3.0}, {\"ts\": \"2023-08-24 18:05:19\", \"rssi1\": -74.0, \"rssi2\": -64.0, \"rssi3\": -63.0, \"real station\": 2, \"station\": 3.0}, {\"ts\": \"2023-08-24 18:05:20\", \"rssi1\": -74.0, \"rssi2\": -64.0, \"rssi3\": -63.0, \"real station\": 2, \"station\": 3.0}, {\"ts\": \"2023-08-24 18:05:21\", \"rssi1\": -74.0, \"rssi2\": -64.0, \"rssi3\": -63.0, \"real station\": 2, \"station\": 3.0}, {\"ts\": \"2023-08-24 18:07:03\", \"rssi1\": -80.0, \"rssi2\": -63.0, \"rssi3\": -63.0, \"real station\": 3, \"station\": 2.0}, {\"ts\": \"2023-08-24 18:07:04\", \"rssi1\": -80.0, \"rssi2\": -63.0, \"rssi3\": -63.0, \"real station\": 3, \"station\": 2.0}, {\"ts\": \"2023-08-24 18:07:05\", \"rssi1\": -80.0, \"rssi2\": -63.0, \"rssi3\": -63.0, \"real station\": 3, \"station\": 2.0}, {\"ts\": \"2023-08-24 18:07:06\", \"rssi1\": -80.0, \"rssi2\": -63.0, \"rssi3\": -49.0, \"real station\": 3, \"station\": 3.0}, {\"ts\": \"2023-08-24 18:07:07\", \"rssi1\": -80.0, \"rssi2\": -63.0, \"rssi3\": -49.0, \"real station\": 3, \"station\": 3.0}, {\"ts\": \"2023-08-24 18:07:08\", \"rssi1\": -80.0, \"rssi2\": -63.0, \"rssi3\": -49.0, \"real station\": 3, \"station\": 3.0}, {\"ts\": \"2023-08-24 18:07:09\", \"rssi1\": -72.0, \"rssi2\": -63.0, \"rssi3\": -49.0, \"real station\": 3, \"station\": 3.0}, {\"ts\": \"2023-08-24 18:07:10\", \"rssi1\": -72.0, \"rssi2\": -73.0, \"rssi3\": -49.0, \"real station\": 3, \"station\": 3.0}, {\"ts\": \"2023-08-24 18:07:11\", \"rssi1\": -72.0, \"rssi2\": -73.0, \"rssi3\": -49.0, \"real station\": 3, \"station\": 3.0}, {\"ts\": \"2023-08-24 18:07:12\", \"rssi1\": -72.0, \"rssi2\": -73.0, \"rssi3\": -72.0, \"real station\": 3, \"station\": 3.0}, {\"ts\": \"2023-08-24 18:07:13\", \"rssi1\": -72.0, \"rssi2\": -73.0, \"rssi3\": -72.0, \"real station\": 3, \"station\": 3.0}, {\"ts\": \"2023-08-24 18:07:14\", \"rssi1\": -72.0, \"rssi2\": -73.0, \"rssi3\": -72.0, \"real station\": 3, \"station\": 3.0}, {\"ts\": \"2023-08-24 18:07:15\", \"rssi1\": -72.0, \"rssi2\": -73.0, \"rssi3\": -72.0, \"real station\": 3, \"station\": 3.0}, {\"ts\": \"2023-08-24 18:07:16\", \"rssi1\": -72.0, \"rssi2\": -73.0, \"rssi3\": -72.0, \"real station\": 3, \"station\": 3.0}, {\"ts\": \"2023-08-24 18:07:17\", \"rssi1\": -72.0, \"rssi2\": -73.0, \"rssi3\": -72.0, \"real station\": 3, \"station\": 3.0}, {\"ts\": \"2023-08-24 18:07:18\", \"rssi1\": -72.0, \"rssi2\": -73.0, \"rssi3\": -62.0, \"real station\": 3, \"station\": 3.0}, {\"ts\": \"2023-08-24 18:07:19\", \"rssi1\": -72.0, \"rssi2\": -73.0, \"rssi3\": -62.0, \"real station\": 3, \"station\": 3.0}, {\"ts\": \"2023-08-24 18:07:20\", \"rssi1\": -72.0, \"rssi2\": -73.0, \"rssi3\": -62.0, \"real station\": 3, \"station\": 3.0}, {\"ts\": \"2023-08-24 18:07:21\", \"rssi1\": -72.0, \"rssi2\": -73.0, \"rssi3\": -62.0, \"real station\": 3, \"station\": 3.0}, {\"ts\": \"2023-08-24 18:07:22\", \"rssi1\": -72.0, \"rssi2\": -73.0, \"rssi3\": -62.0, \"real station\": 3, \"station\": 3.0}, {\"ts\": \"2023-08-24 18:07:23\", \"rssi1\": -72.0, \"rssi2\": -73.0, \"rssi3\": -62.0, \"real station\": 3, \"station\": 3.0}, {\"ts\": \"2023-08-24 18:07:24\", \"rssi1\": -72.0, \"rssi2\": -73.0, \"rssi3\": -70.0, \"real station\": 3, \"station\": 3.0}, {\"ts\": \"2023-08-24 18:07:25\", \"rssi1\": -72.0, \"rssi2\": -73.0, \"rssi3\": -70.0, \"real station\": 3, \"station\": 3.0}, {\"ts\": \"2023-08-24 18:07:26\", \"rssi1\": -72.0, \"rssi2\": -73.0, \"rssi3\": -70.0, \"real station\": 3, \"station\": 3.0}, {\"ts\": \"2023-08-24 18:07:27\", \"rssi1\": -72.0, \"rssi2\": -73.0, \"rssi3\": -70.0, \"real station\": 3, \"station\": 3.0}, {\"ts\": \"2023-08-24 18:07:28\", \"rssi1\": -72.0, \"rssi2\": -65.0, \"rssi3\": -70.0, \"real station\": 3, \"station\": 3.0}, {\"ts\": \"2023-08-24 18:07:29\", \"rssi1\": -72.0, \"rssi2\": -65.0, \"rssi3\": -70.0, \"real station\": 3, \"station\": 3.0}, {\"ts\": \"2023-08-24 18:07:30\", \"rssi1\": -72.0, \"rssi2\": -65.0, \"rssi3\": -60.0, \"real station\": 3, \"station\": 3.0}, {\"ts\": \"2023-08-24 18:07:31\", \"rssi1\": -72.0, \"rssi2\": -65.0, \"rssi3\": -60.0, \"real station\": 3, \"station\": 3.0}, {\"ts\": \"2023-08-24 18:07:32\", \"rssi1\": -72.0, \"rssi2\": -65.0, \"rssi3\": -60.0, \"real station\": 3, \"station\": 3.0}, {\"ts\": \"2023-08-24 18:07:33\", \"rssi1\": -72.0, \"rssi2\": -65.0, \"rssi3\": -60.0, \"real station\": 3, \"station\": 3.0}, {\"ts\": \"2023-08-24 18:07:34\", \"rssi1\": -72.0, \"rssi2\": -65.0, \"rssi3\": -60.0, \"real station\": 3, \"station\": 3.0}, {\"ts\": \"2023-08-24 18:07:35\", \"rssi1\": -72.0, \"rssi2\": -65.0, \"rssi3\": -60.0, \"real station\": 3, \"station\": 3.0}, {\"ts\": \"2023-08-24 18:07:36\", \"rssi1\": -72.0, \"rssi2\": -65.0, \"rssi3\": -60.0, \"real station\": 3, \"station\": 3.0}, {\"ts\": \"2023-08-24 18:07:37\", \"rssi1\": -72.0, \"rssi2\": -65.0, \"rssi3\": -60.0, \"real station\": 3, \"station\": 3.0}, {\"ts\": \"2023-08-24 18:07:38\", \"rssi1\": -72.0, \"rssi2\": -65.0, \"rssi3\": -60.0, \"real station\": 3, \"station\": 3.0}, {\"ts\": \"2023-08-24 18:07:39\", \"rssi1\": -72.0, \"rssi2\": -65.0, \"rssi3\": -60.0, \"real station\": 3, \"station\": 3.0}, {\"ts\": \"2023-08-24 18:07:40\", \"rssi1\": -72.0, \"rssi2\": -65.0, \"rssi3\": -60.0, \"real station\": 3, \"station\": 3.0}, {\"ts\": \"2023-08-24 18:07:41\", \"rssi1\": -72.0, \"rssi2\": -65.0, \"rssi3\": -60.0, \"real station\": 3, \"station\": 3.0}, {\"ts\": \"2023-08-24 18:07:42\", \"rssi1\": -72.0, \"rssi2\": -65.0, \"rssi3\": -60.0, \"real station\": 3, \"station\": 3.0}, {\"ts\": \"2023-08-24 18:07:43\", \"rssi1\": -72.0, \"rssi2\": -65.0, \"rssi3\": -60.0, \"real station\": 3, \"station\": 3.0}, {\"ts\": \"2023-08-24 18:07:44\", \"rssi1\": -72.0, \"rssi2\": -65.0, \"rssi3\": -60.0, \"real station\": 3, \"station\": 3.0}, {\"ts\": \"2023-08-24 18:07:45\", \"rssi1\": -72.0, \"rssi2\": -65.0, \"rssi3\": -60.0, \"real station\": 3, \"station\": 3.0}, {\"ts\": \"2023-08-24 18:07:46\", \"rssi1\": -72.0, \"rssi2\": -65.0, \"rssi3\": -60.0, \"real station\": 3, \"station\": 3.0}, {\"ts\": \"2023-08-24 18:07:47\", \"rssi1\": -72.0, \"rssi2\": -65.0, \"rssi3\": -60.0, \"real station\": 3, \"station\": 3.0}, {\"ts\": \"2023-08-24 18:07:48\", \"rssi1\": -72.0, \"rssi2\": -65.0, \"rssi3\": -60.0, \"real station\": 3, \"station\": 3.0}, {\"ts\": \"2023-08-24 18:07:49\", \"rssi1\": -72.0, \"rssi2\": -65.0, \"rssi3\": -60.0, \"real station\": 3, \"station\": 3.0}, {\"ts\": \"2023-08-24 18:07:50\", \"rssi1\": -72.0, \"rssi2\": -65.0, \"rssi3\": -60.0, \"real station\": 3, \"station\": 3.0}, {\"ts\": \"2023-08-24 18:07:51\", \"rssi1\": -80.0, \"rssi2\": -65.0, \"rssi3\": -60.0, \"real station\": 3, \"station\": 3.0}, {\"ts\": \"2023-08-24 18:07:52\", \"rssi1\": -80.0, \"rssi2\": -65.0, \"rssi3\": -60.0, \"real station\": 3, \"station\": 3.0}, {\"ts\": \"2023-08-24 18:07:53\", \"rssi1\": -80.0, \"rssi2\": -65.0, \"rssi3\": -60.0, \"real station\": 3, \"station\": 3.0}, {\"ts\": \"2023-08-24 18:07:54\", \"rssi1\": -80.0, \"rssi2\": -65.0, \"rssi3\": -60.0, \"real station\": 3, \"station\": 3.0}, {\"ts\": \"2023-08-24 18:07:55\", \"rssi1\": -80.0, \"rssi2\": -65.0, \"rssi3\": -60.0, \"real station\": 3, \"station\": 3.0}, {\"ts\": \"2023-08-24 18:07:56\", \"rssi1\": -80.0, \"rssi2\": -65.0, \"rssi3\": -60.0, \"real station\": 3, \"station\": 3.0}, {\"ts\": \"2023-08-24 18:07:57\", \"rssi1\": -74.0, \"rssi2\": -65.0, \"rssi3\": -60.0, \"real station\": 3, \"station\": 3.0}, {\"ts\": \"2023-08-24 18:07:58\", \"rssi1\": -74.0, \"rssi2\": -65.0, \"rssi3\": -60.0, \"real station\": 3, \"station\": 3.0}, {\"ts\": \"2023-08-24 18:07:59\", \"rssi1\": -74.0, \"rssi2\": -65.0, \"rssi3\": -60.0, \"real station\": 3, \"station\": 3.0}, {\"ts\": \"2023-08-24 18:08:00\", \"rssi1\": -74.0, \"rssi2\": -65.0, \"rssi3\": -60.0, \"real station\": 3, \"station\": 3.0}, {\"ts\": \"2023-08-24 18:08:01\", \"rssi1\": -74.0, \"rssi2\": -65.0, \"rssi3\": -60.0, \"real station\": 3, \"station\": 3.0}, {\"ts\": \"2023-08-24 18:08:02\", \"rssi1\": -74.0, \"rssi2\": -65.0, \"rssi3\": -60.0, \"real station\": 3, \"station\": 3.0}, {\"ts\": \"2023-08-24 18:08:03\", \"rssi1\": -74.0, \"rssi2\": -65.0, \"rssi3\": -60.0, \"real station\": 3, \"station\": 3.0}, {\"ts\": \"2023-08-24 18:08:04\", \"rssi1\": -74.0, \"rssi2\": -65.0, \"rssi3\": -60.0, \"real station\": 3, \"station\": 3.0}, {\"ts\": \"2023-08-24 18:08:05\", \"rssi1\": -74.0, \"rssi2\": -65.0, \"rssi3\": -60.0, \"real station\": 3, \"station\": 3.0}, {\"ts\": \"2023-08-24 18:08:06\", \"rssi1\": -74.0, \"rssi2\": -65.0, \"rssi3\": -60.0, \"real station\": 3, \"station\": 3.0}, {\"ts\": \"2023-08-24 18:08:07\", \"rssi1\": -74.0, \"rssi2\": -65.0, \"rssi3\": -60.0, \"real station\": 3, \"station\": 3.0}, {\"ts\": \"2023-08-24 18:08:08\", \"rssi1\": -74.0, \"rssi2\": -65.0, \"rssi3\": -60.0, \"real station\": 3, \"station\": 3.0}, {\"ts\": \"2023-08-24 18:08:09\", \"rssi1\": -74.0, \"rssi2\": -65.0, \"rssi3\": -60.0, \"real station\": 3, \"station\": 3.0}, {\"ts\": \"2023-08-24 18:08:10\", \"rssi1\": -74.0, \"rssi2\": -65.0, \"rssi3\": -60.0, \"real station\": 3, \"station\": 3.0}, {\"ts\": \"2023-08-24 18:08:11\", \"rssi1\": -74.0, \"rssi2\": -65.0, \"rssi3\": -60.0, \"real station\": 3, \"station\": 3.0}, {\"ts\": \"2023-08-24 18:08:12\", \"rssi1\": -74.0, \"rssi2\": -65.0, \"rssi3\": -60.0, \"real station\": 3, \"station\": 3.0}, {\"ts\": \"2023-08-24 18:08:13\", \"rssi1\": -74.0, \"rssi2\": -65.0, \"rssi3\": -60.0, \"real station\": 3, \"station\": 3.0}, {\"ts\": \"2023-08-24 18:08:14\", \"rssi1\": -74.0, \"rssi2\": -65.0, \"rssi3\": -60.0, \"real station\": 3, \"station\": 3.0}, {\"ts\": \"2023-08-24 18:08:15\", \"rssi1\": -61.0, \"rssi2\": -65.0, \"rssi3\": -60.0, \"real station\": 3, \"station\": 3.0}, {\"ts\": \"2023-08-24 18:08:16\", \"rssi1\": -61.0, \"rssi2\": -65.0, \"rssi3\": -60.0, \"real station\": 3, \"station\": 3.0}, {\"ts\": \"2023-08-24 18:08:17\", \"rssi1\": -61.0, \"rssi2\": -65.0, \"rssi3\": -60.0, \"real station\": 3, \"station\": 3.0}, {\"ts\": \"2023-08-24 18:08:18\", \"rssi1\": -61.0, \"rssi2\": -65.0, \"rssi3\": -60.0, \"real station\": 3, \"station\": 3.0}, {\"ts\": \"2023-08-24 18:08:19\", \"rssi1\": -61.0, \"rssi2\": -65.0, \"rssi3\": -60.0, \"real station\": 3, \"station\": 3.0}, {\"ts\": \"2023-08-24 18:08:20\", \"rssi1\": -61.0, \"rssi2\": -65.0, \"rssi3\": -60.0, \"real station\": 3, \"station\": 3.0}, {\"ts\": \"2023-08-24 18:08:21\", \"rssi1\": -78.0, \"rssi2\": -65.0, \"rssi3\": -60.0, \"real station\": 3, \"station\": 3.0}, {\"ts\": \"2023-08-24 18:08:22\", \"rssi1\": -78.0, \"rssi2\": -65.0, \"rssi3\": -60.0, \"real station\": 3, \"station\": 3.0}, {\"ts\": \"2023-08-24 18:08:23\", \"rssi1\": -78.0, \"rssi2\": -65.0, \"rssi3\": -60.0, \"real station\": 3, \"station\": 3.0}, {\"ts\": \"2023-08-24 18:08:24\", \"rssi1\": -78.0, \"rssi2\": -65.0, \"rssi3\": -72.0, \"real station\": 3, \"station\": 2.0}, {\"ts\": \"2023-08-24 18:08:25\", \"rssi1\": -78.0, \"rssi2\": -65.0, \"rssi3\": -72.0, \"real station\": 3, \"station\": 2.0}, {\"ts\": \"2023-08-24 18:08:26\", \"rssi1\": -78.0, \"rssi2\": -65.0, \"rssi3\": -72.0, \"real station\": 3, \"station\": 2.0}, {\"ts\": \"2023-08-24 18:08:27\", \"rssi1\": -72.0, \"rssi2\": -65.0, \"rssi3\": -72.0, \"real station\": 3, \"station\": 2.0}, {\"ts\": \"2023-08-24 18:08:28\", \"rssi1\": -72.0, \"rssi2\": -56.0, \"rssi3\": -72.0, \"real station\": 3, \"station\": 2.0}, {\"ts\": \"2023-08-24 18:08:29\", \"rssi1\": -72.0, \"rssi2\": -56.0, \"rssi3\": -72.0, \"real station\": 3, \"station\": 2.0}, {\"ts\": \"2023-08-24 18:08:30\", \"rssi1\": -72.0, \"rssi2\": -56.0, \"rssi3\": -55.0, \"real station\": 3, \"station\": 3.0}, {\"ts\": \"2023-08-24 18:08:31\", \"rssi1\": -72.0, \"rssi2\": -56.0, \"rssi3\": -55.0, \"real station\": 3, \"station\": 3.0}, {\"ts\": \"2023-08-24 18:08:32\", \"rssi1\": -72.0, \"rssi2\": -56.0, \"rssi3\": -55.0, \"real station\": 3, \"station\": 3.0}, {\"ts\": \"2023-08-24 18:08:33\", \"rssi1\": -63.0, \"rssi2\": -56.0, \"rssi3\": -55.0, \"real station\": 3, \"station\": 3.0}, {\"ts\": \"2023-08-24 18:08:34\", \"rssi1\": -63.0, \"rssi2\": -56.0, \"rssi3\": -55.0, \"real station\": 3, \"station\": 3.0}, {\"ts\": \"2023-08-24 18:08:35\", \"rssi1\": -63.0, \"rssi2\": -56.0, \"rssi3\": -55.0, \"real station\": 3, \"station\": 3.0}, {\"ts\": \"2023-08-24 18:08:36\", \"rssi1\": -63.0, \"rssi2\": -56.0, \"rssi3\": -46.0, \"real station\": 3, \"station\": 3.0}, {\"ts\": \"2023-08-24 18:08:37\", \"rssi1\": -63.0, \"rssi2\": -56.0, \"rssi3\": -46.0, \"real station\": 3, \"station\": 3.0}, {\"ts\": \"2023-08-24 18:08:38\", \"rssi1\": -63.0, \"rssi2\": -56.0, \"rssi3\": -46.0, \"real station\": 3, \"station\": 3.0}, {\"ts\": \"2023-08-24 18:08:39\", \"rssi1\": -63.0, \"rssi2\": -56.0, \"rssi3\": -46.0, \"real station\": 3, \"station\": 3.0}, {\"ts\": \"2023-08-24 18:08:40\", \"rssi1\": -63.0, \"rssi2\": -66.0, \"rssi3\": -46.0, \"real station\": 3, \"station\": 3.0}, {\"ts\": \"2023-08-24 18:08:41\", \"rssi1\": -63.0, \"rssi2\": -66.0, \"rssi3\": -46.0, \"real station\": 3, \"station\": 3.0}, {\"ts\": \"2023-08-24 18:08:42\", \"rssi1\": -63.0, \"rssi2\": -66.0, \"rssi3\": -46.0, \"real station\": 3, \"station\": 3.0}, {\"ts\": \"2023-08-24 18:08:43\", \"rssi1\": -63.0, \"rssi2\": -66.0, \"rssi3\": -46.0, \"real station\": 3, \"station\": 3.0}, {\"ts\": \"2023-08-24 18:08:44\", \"rssi1\": -63.0, \"rssi2\": -66.0, \"rssi3\": -46.0, \"real station\": 3, \"station\": 3.0}, {\"ts\": \"2023-08-24 18:08:45\", \"rssi1\": -69.0, \"rssi2\": -66.0, \"rssi3\": -46.0, \"real station\": 3, \"station\": 3.0}, {\"ts\": \"2023-08-24 18:08:46\", \"rssi1\": -69.0, \"rssi2\": -66.0, \"rssi3\": -46.0, \"real station\": 3, \"station\": 3.0}, {\"ts\": \"2023-08-24 18:08:47\", \"rssi1\": -69.0, \"rssi2\": -66.0, \"rssi3\": -46.0, \"real station\": 3, \"station\": 3.0}, {\"ts\": \"2023-08-24 18:08:48\", \"rssi1\": -69.0, \"rssi2\": -66.0, \"rssi3\": -46.0, \"real station\": 3, \"station\": 3.0}, {\"ts\": \"2023-08-24 18:08:49\", \"rssi1\": -69.0, \"rssi2\": -66.0, \"rssi3\": -46.0, \"real station\": 3, \"station\": 3.0}, {\"ts\": \"2023-08-24 18:08:50\", \"rssi1\": -69.0, \"rssi2\": -66.0, \"rssi3\": -46.0, \"real station\": 3, \"station\": 3.0}, {\"ts\": \"2023-08-24 18:08:51\", \"rssi1\": -69.0, \"rssi2\": -66.0, \"rssi3\": -46.0, \"real station\": 3, \"station\": 3.0}, {\"ts\": \"2023-08-24 18:08:52\", \"rssi1\": -69.0, \"rssi2\": -66.0, \"rssi3\": -46.0, \"real station\": 3, \"station\": 3.0}, {\"ts\": \"2023-08-24 18:08:53\", \"rssi1\": -69.0, \"rssi2\": -66.0, \"rssi3\": -46.0, \"real station\": 3, \"station\": 3.0}, {\"ts\": \"2023-08-24 18:08:54\", \"rssi1\": -69.0, \"rssi2\": -66.0, \"rssi3\": -52.0, \"real station\": 3, \"station\": 3.0}, {\"ts\": \"2023-08-24 18:08:55\", \"rssi1\": -69.0, \"rssi2\": -66.0, \"rssi3\": -52.0, \"real station\": 3, \"station\": 3.0}, {\"ts\": \"2023-08-24 18:08:56\", \"rssi1\": -69.0, \"rssi2\": -66.0, \"rssi3\": -52.0, \"real station\": 3, \"station\": 3.0}, {\"ts\": \"2023-08-24 18:08:57\", \"rssi1\": -69.0, \"rssi2\": -66.0, \"rssi3\": -52.0, \"real station\": 3, \"station\": 3.0}, {\"ts\": \"2023-08-24 18:08:58\", \"rssi1\": -69.0, \"rssi2\": -75.0, \"rssi3\": -52.0, \"real station\": 3, \"station\": 3.0}, {\"ts\": \"2023-08-24 18:08:59\", \"rssi1\": -69.0, \"rssi2\": -75.0, \"rssi3\": -52.0, \"real station\": 3, \"station\": 3.0}, {\"ts\": \"2023-08-24 18:09:00\", \"rssi1\": -69.0, \"rssi2\": -75.0, \"rssi3\": -59.0, \"real station\": 3, \"station\": 3.0}, {\"ts\": \"2023-08-24 18:09:01\", \"rssi1\": -69.0, \"rssi2\": -75.0, \"rssi3\": -59.0, \"real station\": 3, \"station\": 3.0}, {\"ts\": \"2023-08-24 18:09:02\", \"rssi1\": -69.0, \"rssi2\": -75.0, \"rssi3\": -59.0, \"real station\": 3, \"station\": 3.0}, {\"ts\": \"2023-08-24 18:09:03\", \"rssi1\": -69.0, \"rssi2\": -75.0, \"rssi3\": -59.0, \"real station\": 3, \"station\": 3.0}, {\"ts\": \"2023-08-24 18:09:04\", \"rssi1\": -69.0, \"rssi2\": -75.0, \"rssi3\": -59.0, \"real station\": 3, \"station\": 3.0}, {\"ts\": \"2023-08-24 18:09:05\", \"rssi1\": -69.0, \"rssi2\": -75.0, \"rssi3\": -59.0, \"real station\": 3, \"station\": 3.0}, {\"ts\": \"2023-08-24 18:09:06\", \"rssi1\": -69.0, \"rssi2\": -75.0, \"rssi3\": -67.0, \"real station\": 3, \"station\": 3.0}, {\"ts\": \"2023-08-24 18:09:07\", \"rssi1\": -69.0, \"rssi2\": -75.0, \"rssi3\": -67.0, \"real station\": 3, \"station\": 3.0}, {\"ts\": \"2023-08-24 18:09:08\", \"rssi1\": -69.0, \"rssi2\": -75.0, \"rssi3\": -67.0, \"real station\": 3, \"station\": 3.0}, {\"ts\": \"2023-08-24 18:09:09\", \"rssi1\": -69.0, \"rssi2\": -75.0, \"rssi3\": -67.0, \"real station\": 3, \"station\": 3.0}, {\"ts\": \"2023-08-24 18:09:10\", \"rssi1\": -69.0, \"rssi2\": -75.0, \"rssi3\": -67.0, \"real station\": 3, \"station\": 3.0}, {\"ts\": \"2023-08-24 18:09:11\", \"rssi1\": -69.0, \"rssi2\": -75.0, \"rssi3\": -67.0, \"real station\": 3, \"station\": 3.0}, {\"ts\": \"2023-08-24 18:09:12\", \"rssi1\": -69.0, \"rssi2\": -75.0, \"rssi3\": -49.0, \"real station\": 3, \"station\": 3.0}, {\"ts\": \"2023-08-24 18:09:13\", \"rssi1\": -69.0, \"rssi2\": -75.0, \"rssi3\": -49.0, \"real station\": 3, \"station\": 3.0}, {\"ts\": \"2023-08-24 18:09:14\", \"rssi1\": -69.0, \"rssi2\": -75.0, \"rssi3\": -49.0, \"real station\": 3, \"station\": 3.0}, {\"ts\": \"2023-08-24 18:09:15\", \"rssi1\": -69.0, \"rssi2\": -75.0, \"rssi3\": -49.0, \"real station\": 3, \"station\": 3.0}, {\"ts\": \"2023-08-24 18:09:16\", \"rssi1\": -69.0, \"rssi2\": -66.0, \"rssi3\": -49.0, \"real station\": 3, \"station\": 3.0}, {\"ts\": \"2023-08-24 18:09:17\", \"rssi1\": -69.0, \"rssi2\": -66.0, \"rssi3\": -49.0, \"real station\": 3, \"station\": 3.0}, {\"ts\": \"2023-08-24 18:09:18\", \"rssi1\": -69.0, \"rssi2\": -66.0, \"rssi3\": -68.0, \"real station\": 3, \"station\": 3.0}, {\"ts\": \"2023-08-24 18:09:19\", \"rssi1\": -69.0, \"rssi2\": -66.0, \"rssi3\": -68.0, \"real station\": 3, \"station\": 3.0}, {\"ts\": \"2023-08-24 18:09:20\", \"rssi1\": -69.0, \"rssi2\": -66.0, \"rssi3\": -68.0, \"real station\": 3, \"station\": 3.0}, {\"ts\": \"2023-08-24 18:09:21\", \"rssi1\": -69.0, \"rssi2\": -66.0, \"rssi3\": -68.0, \"real station\": 3, \"station\": 3.0}, {\"ts\": \"2023-08-24 18:09:22\", \"rssi1\": -69.0, \"rssi2\": -66.0, \"rssi3\": -68.0, \"real station\": 3, \"station\": 3.0}, {\"ts\": \"2023-08-24 18:09:23\", \"rssi1\": -69.0, \"rssi2\": -66.0, \"rssi3\": -68.0, \"real station\": 3, \"station\": 3.0}, {\"ts\": \"2023-08-24 18:09:24\", \"rssi1\": -69.0, \"rssi2\": -66.0, \"rssi3\": -50.0, \"real station\": 3, \"station\": 3.0}, {\"ts\": \"2023-08-24 18:09:25\", \"rssi1\": -69.0, \"rssi2\": -66.0, \"rssi3\": -50.0, \"real station\": 3, \"station\": 3.0}, {\"ts\": \"2023-08-24 18:09:26\", \"rssi1\": -69.0, \"rssi2\": -66.0, \"rssi3\": -50.0, \"real station\": 3, \"station\": 3.0}, {\"ts\": \"2023-08-24 18:09:27\", \"rssi1\": -69.0, \"rssi2\": -66.0, \"rssi3\": -50.0, \"real station\": 3, \"station\": 3.0}, {\"ts\": \"2023-08-24 18:09:28\", \"rssi1\": -69.0, \"rssi2\": -66.0, \"rssi3\": -50.0, \"real station\": 3, \"station\": 3.0}, {\"ts\": \"2023-08-24 18:09:29\", \"rssi1\": -69.0, \"rssi2\": -66.0, \"rssi3\": -50.0, \"real station\": 3, \"station\": 3.0}, {\"ts\": \"2023-08-24 18:09:30\", \"rssi1\": -69.0, \"rssi2\": -66.0, \"rssi3\": -62.0, \"real station\": 3, \"station\": 3.0}, {\"ts\": \"2023-08-24 18:09:31\", \"rssi1\": -69.0, \"rssi2\": -66.0, \"rssi3\": -62.0, \"real station\": 3, \"station\": 3.0}, {\"ts\": \"2023-08-24 18:09:32\", \"rssi1\": -69.0, \"rssi2\": -66.0, \"rssi3\": -62.0, \"real station\": 3, \"station\": 3.0}, {\"ts\": \"2023-08-24 18:09:33\", \"rssi1\": -69.0, \"rssi2\": -66.0, \"rssi3\": -62.0, \"real station\": 3, \"station\": 3.0}, {\"ts\": \"2023-08-24 18:09:34\", \"rssi1\": -69.0, \"rssi2\": -66.0, \"rssi3\": -62.0, \"real station\": 3, \"station\": 3.0}, {\"ts\": \"2023-08-24 18:09:35\", \"rssi1\": -69.0, \"rssi2\": -66.0, \"rssi3\": -62.0, \"real station\": 3, \"station\": 3.0}, {\"ts\": \"2023-08-24 18:09:36\", \"rssi1\": -69.0, \"rssi2\": -66.0, \"rssi3\": -56.0, \"real station\": 3, \"station\": 3.0}, {\"ts\": \"2023-08-24 18:09:37\", \"rssi1\": -69.0, \"rssi2\": -66.0, \"rssi3\": -56.0, \"real station\": 3, \"station\": 3.0}, {\"ts\": \"2023-08-24 18:09:38\", \"rssi1\": -69.0, \"rssi2\": -66.0, \"rssi3\": -56.0, \"real station\": 3, \"station\": 3.0}, {\"ts\": \"2023-08-24 18:09:39\", \"rssi1\": -69.0, \"rssi2\": -66.0, \"rssi3\": -56.0, \"real station\": 3, \"station\": 3.0}, {\"ts\": \"2023-08-24 18:09:40\", \"rssi1\": -69.0, \"rssi2\": -66.0, \"rssi3\": -56.0, \"real station\": 3, \"station\": 3.0}, {\"ts\": \"2023-08-24 18:09:41\", \"rssi1\": -69.0, \"rssi2\": -66.0, \"rssi3\": -56.0, \"real station\": 3, \"station\": 3.0}, {\"ts\": \"2023-08-24 18:09:42\", \"rssi1\": -69.0, \"rssi2\": -66.0, \"rssi3\": -56.0, \"real station\": 3, \"station\": 3.0}, {\"ts\": \"2023-08-24 18:09:43\", \"rssi1\": -69.0, \"rssi2\": -66.0, \"rssi3\": -56.0, \"real station\": 3, \"station\": 3.0}, {\"ts\": \"2023-08-24 18:09:44\", \"rssi1\": -69.0, \"rssi2\": -66.0, \"rssi3\": -56.0, \"real station\": 3, \"station\": 3.0}, {\"ts\": \"2023-08-24 18:09:45\", \"rssi1\": -69.0, \"rssi2\": -66.0, \"rssi3\": -56.0, \"real station\": 3, \"station\": 3.0}, {\"ts\": \"2023-08-24 18:09:46\", \"rssi1\": -69.0, \"rssi2\": -66.0, \"rssi3\": -56.0, \"real station\": 3, \"station\": 3.0}, {\"ts\": \"2023-08-24 18:09:47\", \"rssi1\": -69.0, \"rssi2\": -66.0, \"rssi3\": -56.0, \"real station\": 3, \"station\": 3.0}, {\"ts\": \"2023-08-24 18:09:48\", \"rssi1\": -69.0, \"rssi2\": -66.0, \"rssi3\": -56.0, \"real station\": 3, \"station\": 3.0}, {\"ts\": \"2023-08-24 18:09:49\", \"rssi1\": -69.0, \"rssi2\": -66.0, \"rssi3\": -56.0, \"real station\": 3, \"station\": 3.0}, {\"ts\": \"2023-08-24 18:09:50\", \"rssi1\": -69.0, \"rssi2\": -66.0, \"rssi3\": -56.0, \"real station\": 3, \"station\": 3.0}, {\"ts\": \"2023-08-24 18:09:51\", \"rssi1\": -78.0, \"rssi2\": -66.0, \"rssi3\": -56.0, \"real station\": 3, \"station\": 3.0}, {\"ts\": \"2023-08-24 18:09:52\", \"rssi1\": -78.0, \"rssi2\": -66.0, \"rssi3\": -56.0, \"real station\": 3, \"station\": 3.0}, {\"ts\": \"2023-08-24 18:09:53\", \"rssi1\": -78.0, \"rssi2\": -66.0, \"rssi3\": -56.0, \"real station\": 3, \"station\": 3.0}, {\"ts\": \"2023-08-24 18:09:54\", \"rssi1\": -78.0, \"rssi2\": -66.0, \"rssi3\": -64.0, \"real station\": 3, \"station\": 3.0}, {\"ts\": \"2023-08-24 18:09:55\", \"rssi1\": -78.0, \"rssi2\": -66.0, \"rssi3\": -64.0, \"real station\": 3, \"station\": 3.0}, {\"ts\": \"2023-08-24 18:09:56\", \"rssi1\": -78.0, \"rssi2\": -66.0, \"rssi3\": -64.0, \"real station\": 3, \"station\": 3.0}, {\"ts\": \"2023-08-24 18:09:57\", \"rssi1\": -71.0, \"rssi2\": -66.0, \"rssi3\": -64.0, \"real station\": 3, \"station\": 3.0}]}}, {\"mode\": \"vega-lite\"});\n",
       "</script>"
      ],
      "text/plain": [
       "alt.Chart(...)"
      ]
     },
     "execution_count": 31,
     "metadata": {},
     "output_type": "execute_result"
    }
   ],
   "source": [
    "def strip_plot(df,include_3):\n",
    "    df['ts'] = df['ts'].astype(str)  \n",
    "    if include_3:\n",
    "        y_scale = alt.Scale(domain=[1, 2, 3])  # Set the y-axis range from 1 to 3\n",
    "        # Define color encoding based on the station value\n",
    "        color = alt.Color('real station:N', scale=alt.Scale(\n",
    "            domain=[1, 2, 3], range=['cornflowerblue', 'darkorange', 'violet'])\n",
    "             , legend=alt.Legend(title='Station'))\n",
    "    else:\n",
    "        y_scale = alt.Scale(domain=[1, 2])  # Set the y-axis range from 1 to 3\n",
    "        color = alt.Color('real station:N', scale=alt.Scale(\n",
    "        domain=[1, 2], range=['cornflowerblue', 'darkorange']))\n",
    "\n",
    "\n",
    "    #x_domain = [pd.to_datetime(f'{date_year} 17:57:00'), pd.to_datetime(f'{date_year} 18:10:00')]\n",
    "    custom_x_ticks = ['2023-08-24 17:58:00', '2023-08-24 18:00:00', '2023-08-24 18:02:00', '2023-08-24 18:04:00', '2023-08-24 18:06:00', '2023-08-24 18:08:00', '2023-08-24 18:10:00']    #1 inicio 17:57:30 -> 18:01:00\n",
    "\n",
    "    #1 inicio 17:57:30 -> 18:01:00\n",
    "    # fim 18:02:00 -> 18:06:00\n",
    "    #3 monta cargas 18:07:00 -> 18:10:00\n",
    "\n",
    "    chart = alt.Chart(df).mark_tick().encode(\n",
    "        x=alt.X('ts:T', title='Timestamp', axis=alt.Axis(values=custom_x_ticks)),\n",
    "        y=alt.Y('real station:O', title='Station'),#, scale=y_scale),\n",
    "        color=color  # Apply the color encoding\n",
    "    ).properties(\n",
    "        title=f'Real station of beacon',#{beacon}',\n",
    "        width=400,  # Set the width to 600 pixels (adjust as needed)\n",
    "        height=100  # Set the height to 400 pixels (adjust as needed)\n",
    "    ).configure_tick(\n",
    "    #thickness=5,\n",
    "    bandSize=25,)\n",
    "\n",
    "    return chart\n",
    "\n",
    "\n",
    "#display(df_rssi2_resample)\n",
    "    \n",
    "#chart1 = strip_plot(df_rssi1_,beacon=1)\n",
    "chart2 = strip_plot(df_rssi2_resample.loc[df_rssi2_resample['real station'] != 0],include_3=1)\n",
    "\n",
    "#chart1 | \n",
    "#display(df_rssi2_resample[df_rssi2_resample['real station'] != 0])\n",
    "chart2"
   ]
  }
 ],
 "metadata": {
  "kernelspec": {
   "display_name": "base",
   "language": "python",
   "name": "python3"
  },
  "language_info": {
   "codemirror_mode": {
    "name": "ipython",
    "version": 3
   },
   "file_extension": ".py",
   "mimetype": "text/x-python",
   "name": "python",
   "nbconvert_exporter": "python",
   "pygments_lexer": "ipython3",
   "version": "3.11.4"
  }
 },
 "nbformat": 4,
 "nbformat_minor": 2
}
