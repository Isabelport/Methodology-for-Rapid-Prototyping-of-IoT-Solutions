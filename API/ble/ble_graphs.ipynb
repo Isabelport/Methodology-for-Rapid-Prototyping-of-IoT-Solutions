{
 "cells": [
  {
   "cell_type": "code",
   "execution_count": 3,
   "metadata": {},
   "outputs": [],
   "source": [
    "import plotly.express as px\n",
    "import os\n",
    "import pandas as pd\n",
    "import numpy as np\n",
    "import plotly.graph_objects as go\n",
    "\n",
    "#import csv\n",
    "pd.set_option('display.max_rows', None)  # Display all rows"
   ]
  },
  {
   "cell_type": "code",
   "execution_count": 4,
   "metadata": {},
   "outputs": [],
   "source": [
    "day = \"24\"\n",
    "month = \"08\"\n",
    "dataset = \"ble\"\n",
    "\n",
    "date = day + \"_\" + month #change date accordingly\n",
    "date_year = \"2023-\" + month + \"-\" + day\n",
    "\n",
    "folder_path = dataset + '_base/'\n",
    "\n",
    "\n",
    "def process_file(file_number, date):\n",
    "    file_path = os.path.join(folder_path, f'{dataset}_{date}_{file_number}.csv')\n",
    "\n",
    "    df = pd.read_csv(file_path, parse_dates=['ts'])\n",
    "\n",
    "    # Remove first empty column if it exists\n",
    "    if df.shape[1] == 4:\n",
    "        df = df.drop(df.columns[0], axis=1)\n",
    "    # Remove entries with 'gabarit' equal to 1 or 2\n",
    "    df_filt = df[(df['id'] == 2) | (df['id'] == 1)]\n",
    "\n",
    "    # Write the updated DataFrame back to the CSV file\n",
    "    #df.to_csv(file_path, index = False)\n",
    "    # Reset the index of the DataFrame\n",
    "    df_filt = df_filt.reset_index(drop = True)\n",
    "\n",
    "    return df_filt\n",
    "\n",
    "df1 = process_file(1,date)\n",
    "df2 = process_file(2,date)\n",
    "df3 = process_file(3,date)\n",
    "#display(df1)\n",
    "#display(df2)\n",
    "#display(df3)"
   ]
  },
  {
   "cell_type": "code",
   "execution_count": 5,
   "metadata": {},
   "outputs": [
    {
     "name": "stderr",
     "output_type": "stream",
     "text": [
      "c:\\Users\\isacc\\miniconda3\\Lib\\site-packages\\_plotly_utils\\basevalidators.py:105: FutureWarning: The behavior of DatetimeProperties.to_pydatetime is deprecated, in a future version this will return a Series containing python datetime objects instead of an ndarray. To retain the old behavior, call `np.array` on the result\n",
      "  v = v.dt.to_pydatetime()\n"
     ]
    },
    {
     "data": {
      "application/vnd.plotly.v1+json": {
       "config": {
        "plotlyServerURL": "https://plot.ly"
       },
       "data": [
        {
         "hovertemplate": "id=2<br>ts=%{x}<br>rssi=%{y}<extra></extra>",
         "legendgroup": "2",
         "line": {
          "color": "#636efa",
          "dash": "solid"
         },
         "marker": {
          "symbol": "circle"
         },
         "mode": "lines",
         "name": "2",
         "orientation": "v",
         "showlegend": true,
         "type": "scatter",
         "x": [
          "2023-08-24T17:30:07",
          "2023-08-24T17:30:13",
          "2023-08-24T17:30:31",
          "2023-08-24T17:30:43",
          "2023-08-24T17:31:19",
          "2023-08-24T17:32:31",
          "2023-08-24T17:33:19",
          "2023-08-24T17:33:43",
          "2023-08-24T17:33:49",
          "2023-08-24T17:34:25",
          "2023-08-24T17:34:55",
          "2023-08-24T17:35:13",
          "2023-08-24T17:35:55",
          "2023-08-24T17:36:01",
          "2023-08-24T17:36:07",
          "2023-08-24T17:36:19",
          "2023-08-24T17:36:25",
          "2023-08-24T17:37:31",
          "2023-08-24T17:37:55",
          "2023-08-24T17:38:07",
          "2023-08-24T17:39:25",
          "2023-08-24T17:40:19",
          "2023-08-24T17:40:55",
          "2023-08-24T17:41:19",
          "2023-08-24T17:41:25",
          "2023-08-24T17:41:50",
          "2023-08-24T17:44:26",
          "2023-08-24T17:44:32",
          "2023-08-24T17:44:56",
          "2023-08-24T17:45:02",
          "2023-08-24T17:45:08",
          "2023-08-24T17:45:32",
          "2023-08-24T17:45:50",
          "2023-08-24T17:45:56",
          "2023-08-24T17:46:02",
          "2023-08-24T17:46:50",
          "2023-08-24T17:47:02",
          "2023-08-24T17:47:50",
          "2023-08-24T17:48:44",
          "2023-08-24T17:48:56",
          "2023-08-24T17:49:50",
          "2023-08-24T17:50:26",
          "2023-08-24T17:50:32",
          "2023-08-24T17:50:50",
          "2023-08-24T17:50:56",
          "2023-08-24T17:51:14",
          "2023-08-24T17:51:44",
          "2023-08-24T17:51:50",
          "2023-08-24T17:57:03",
          "2023-08-24T17:57:33",
          "2023-08-24T17:57:39",
          "2023-08-24T17:58:15",
          "2023-08-24T17:58:57",
          "2023-08-24T17:59:15",
          "2023-08-24T17:59:33",
          "2023-08-24T17:59:45",
          "2023-08-24T18:00:09",
          "2023-08-24T18:00:21",
          "2023-08-24T18:00:33",
          "2023-08-24T18:00:39",
          "2023-08-24T18:00:45",
          "2023-08-24T18:00:51",
          "2023-08-24T18:01:15",
          "2023-08-24T18:01:27",
          "2023-08-24T18:01:39",
          "2023-08-24T18:02:27",
          "2023-08-24T18:02:33",
          "2023-08-24T18:02:45",
          "2023-08-24T18:03:04",
          "2023-08-24T18:03:21",
          "2023-08-24T18:03:46",
          "2023-08-24T18:03:52",
          "2023-08-24T18:04:04",
          "2023-08-24T18:04:10",
          "2023-08-24T18:04:34",
          "2023-08-24T18:04:46",
          "2023-08-24T18:05:04",
          "2023-08-24T18:05:22",
          "2023-08-24T18:05:58",
          "2023-08-24T18:06:10",
          "2023-08-24T18:06:16",
          "2023-08-24T18:06:22",
          "2023-08-24T18:06:28",
          "2023-08-24T18:06:46",
          "2023-08-24T18:07:10",
          "2023-08-24T18:07:28",
          "2023-08-24T18:08:28",
          "2023-08-24T18:08:40",
          "2023-08-24T18:08:58",
          "2023-08-24T18:09:16"
         ],
         "xaxis": "x",
         "y": [
          -69,
          -60,
          -67,
          -61,
          -69,
          -73,
          -67,
          -61,
          -67,
          -61,
          -70,
          -60,
          -66,
          -60,
          -66,
          -60,
          -68,
          -75,
          -68,
          -76,
          -64,
          -58,
          -64,
          -58,
          -66,
          -100,
          -71,
          -61,
          -68,
          -78,
          -57,
          -63,
          -77,
          -60,
          -67,
          -76,
          -68,
          -76,
          -82,
          -71,
          -62,
          -56,
          -65,
          -72,
          -54,
          -64,
          -70,
          -60,
          -71,
          -62,
          -68,
          -74,
          -67,
          -73,
          -65,
          -71,
          -100,
          -73,
          -67,
          -78,
          -56,
          -65,
          -53,
          -65,
          -50,
          -57,
          -51,
          -44,
          -52,
          -60,
          -76,
          -54,
          -65,
          -52,
          -72,
          -53,
          -64,
          -54,
          -63,
          -54,
          -71,
          -65,
          -54,
          -63,
          -73,
          -65,
          -56,
          -66,
          -75,
          -66
         ],
         "yaxis": "y"
        },
        {
         "hovertemplate": "id=1<br>ts=%{x}<br>rssi=%{y}<extra></extra>",
         "legendgroup": "1",
         "line": {
          "color": "#EF553B",
          "dash": "solid"
         },
         "marker": {
          "symbol": "circle"
         },
         "mode": "lines",
         "name": "1",
         "orientation": "v",
         "showlegend": true,
         "type": "scatter",
         "x": [
          "2023-08-24T17:30:37",
          "2023-08-24T17:31:49",
          "2023-08-24T17:32:25",
          "2023-08-24T17:32:31",
          "2023-08-24T17:32:49",
          "2023-08-24T17:33:25",
          "2023-08-24T17:33:37",
          "2023-08-24T17:34:55",
          "2023-08-24T17:35:01",
          "2023-08-24T17:35:37",
          "2023-08-24T17:35:49",
          "2023-08-24T17:35:55",
          "2023-08-24T17:36:43",
          "2023-08-24T17:36:49",
          "2023-08-24T17:37:19",
          "2023-08-24T17:37:25",
          "2023-08-24T17:37:37",
          "2023-08-24T17:37:49",
          "2023-08-24T17:37:55",
          "2023-08-24T17:38:37",
          "2023-08-24T17:38:49",
          "2023-08-24T17:38:55",
          "2023-08-24T17:39:07",
          "2023-08-24T17:39:19",
          "2023-08-24T17:39:31",
          "2023-08-24T17:40:01",
          "2023-08-24T17:40:07",
          "2023-08-24T17:40:19",
          "2023-08-24T17:40:25",
          "2023-08-24T17:40:38",
          "2023-08-24T17:40:43",
          "2023-08-24T17:41:01",
          "2023-08-24T17:41:56",
          "2023-08-24T17:42:56",
          "2023-08-24T17:43:02",
          "2023-08-24T17:43:14",
          "2023-08-24T17:43:20",
          "2023-08-24T17:43:38",
          "2023-08-24T17:43:44",
          "2023-08-24T17:44:08",
          "2023-08-24T17:44:26",
          "2023-08-24T17:45:02",
          "2023-08-24T17:45:08",
          "2023-08-24T17:45:20",
          "2023-08-24T17:45:26",
          "2023-08-24T17:45:32",
          "2023-08-24T17:45:44",
          "2023-08-24T17:45:50",
          "2023-08-24T17:46:02",
          "2023-08-24T17:48:50",
          "2023-08-24T17:49:32",
          "2023-08-24T17:49:50",
          "2023-08-24T17:49:56",
          "2023-08-24T17:50:08",
          "2023-08-24T17:50:14",
          "2023-08-24T17:50:20",
          "2023-08-24T17:50:26",
          "2023-08-24T17:50:32",
          "2023-08-24T17:50:50",
          "2023-08-24T17:50:56",
          "2023-08-24T17:51:02",
          "2023-08-24T17:51:08",
          "2023-08-24T17:51:14",
          "2023-08-24T17:51:50",
          "2023-08-24T17:52:08",
          "2023-08-24T17:52:20",
          "2023-08-24T17:55:03",
          "2023-08-24T17:55:09",
          "2023-08-24T18:02:03",
          "2023-08-24T18:02:09",
          "2023-08-24T18:06:10",
          "2023-08-24T18:06:28",
          "2023-08-24T18:06:40",
          "2023-08-24T18:08:52",
          "2023-08-24T18:08:58"
         ],
         "xaxis": "x",
         "y": [
          -44,
          -51,
          -43,
          -51,
          -45,
          -51,
          -45,
          -65,
          -50,
          -58,
          -66,
          -49,
          -55,
          -47,
          -60,
          -66,
          -73,
          -64,
          -71,
          -64,
          -73,
          -65,
          -73,
          -65,
          -57,
          -100,
          -53,
          -67,
          -56,
          -73,
          -53,
          -60,
          -54,
          -67,
          -55,
          -65,
          -54,
          -67,
          -56,
          -66,
          -57,
          -66,
          -52,
          -65,
          -57,
          -69,
          -58,
          -81,
          -73,
          -67,
          -55,
          -74,
          -53,
          -72,
          -62,
          -54,
          -63,
          -57,
          -100,
          -56,
          -65,
          -57,
          -64,
          -57,
          -63,
          -56,
          -62,
          -56,
          -65,
          -56,
          -50,
          -59,
          -51,
          -100,
          -53
         ],
         "yaxis": "y"
        }
       ],
       "layout": {
        "legend": {
         "title": {
          "text": "ID"
         },
         "tracegroupgap": 0
        },
        "template": {
         "data": {
          "bar": [
           {
            "error_x": {
             "color": "#2a3f5f"
            },
            "error_y": {
             "color": "#2a3f5f"
            },
            "marker": {
             "line": {
              "color": "#E5ECF6",
              "width": 0.5
             },
             "pattern": {
              "fillmode": "overlay",
              "size": 10,
              "solidity": 0.2
             }
            },
            "type": "bar"
           }
          ],
          "barpolar": [
           {
            "marker": {
             "line": {
              "color": "#E5ECF6",
              "width": 0.5
             },
             "pattern": {
              "fillmode": "overlay",
              "size": 10,
              "solidity": 0.2
             }
            },
            "type": "barpolar"
           }
          ],
          "carpet": [
           {
            "aaxis": {
             "endlinecolor": "#2a3f5f",
             "gridcolor": "white",
             "linecolor": "white",
             "minorgridcolor": "white",
             "startlinecolor": "#2a3f5f"
            },
            "baxis": {
             "endlinecolor": "#2a3f5f",
             "gridcolor": "white",
             "linecolor": "white",
             "minorgridcolor": "white",
             "startlinecolor": "#2a3f5f"
            },
            "type": "carpet"
           }
          ],
          "choropleth": [
           {
            "colorbar": {
             "outlinewidth": 0,
             "ticks": ""
            },
            "type": "choropleth"
           }
          ],
          "contour": [
           {
            "colorbar": {
             "outlinewidth": 0,
             "ticks": ""
            },
            "colorscale": [
             [
              0,
              "#0d0887"
             ],
             [
              0.1111111111111111,
              "#46039f"
             ],
             [
              0.2222222222222222,
              "#7201a8"
             ],
             [
              0.3333333333333333,
              "#9c179e"
             ],
             [
              0.4444444444444444,
              "#bd3786"
             ],
             [
              0.5555555555555556,
              "#d8576b"
             ],
             [
              0.6666666666666666,
              "#ed7953"
             ],
             [
              0.7777777777777778,
              "#fb9f3a"
             ],
             [
              0.8888888888888888,
              "#fdca26"
             ],
             [
              1,
              "#f0f921"
             ]
            ],
            "type": "contour"
           }
          ],
          "contourcarpet": [
           {
            "colorbar": {
             "outlinewidth": 0,
             "ticks": ""
            },
            "type": "contourcarpet"
           }
          ],
          "heatmap": [
           {
            "colorbar": {
             "outlinewidth": 0,
             "ticks": ""
            },
            "colorscale": [
             [
              0,
              "#0d0887"
             ],
             [
              0.1111111111111111,
              "#46039f"
             ],
             [
              0.2222222222222222,
              "#7201a8"
             ],
             [
              0.3333333333333333,
              "#9c179e"
             ],
             [
              0.4444444444444444,
              "#bd3786"
             ],
             [
              0.5555555555555556,
              "#d8576b"
             ],
             [
              0.6666666666666666,
              "#ed7953"
             ],
             [
              0.7777777777777778,
              "#fb9f3a"
             ],
             [
              0.8888888888888888,
              "#fdca26"
             ],
             [
              1,
              "#f0f921"
             ]
            ],
            "type": "heatmap"
           }
          ],
          "heatmapgl": [
           {
            "colorbar": {
             "outlinewidth": 0,
             "ticks": ""
            },
            "colorscale": [
             [
              0,
              "#0d0887"
             ],
             [
              0.1111111111111111,
              "#46039f"
             ],
             [
              0.2222222222222222,
              "#7201a8"
             ],
             [
              0.3333333333333333,
              "#9c179e"
             ],
             [
              0.4444444444444444,
              "#bd3786"
             ],
             [
              0.5555555555555556,
              "#d8576b"
             ],
             [
              0.6666666666666666,
              "#ed7953"
             ],
             [
              0.7777777777777778,
              "#fb9f3a"
             ],
             [
              0.8888888888888888,
              "#fdca26"
             ],
             [
              1,
              "#f0f921"
             ]
            ],
            "type": "heatmapgl"
           }
          ],
          "histogram": [
           {
            "marker": {
             "pattern": {
              "fillmode": "overlay",
              "size": 10,
              "solidity": 0.2
             }
            },
            "type": "histogram"
           }
          ],
          "histogram2d": [
           {
            "colorbar": {
             "outlinewidth": 0,
             "ticks": ""
            },
            "colorscale": [
             [
              0,
              "#0d0887"
             ],
             [
              0.1111111111111111,
              "#46039f"
             ],
             [
              0.2222222222222222,
              "#7201a8"
             ],
             [
              0.3333333333333333,
              "#9c179e"
             ],
             [
              0.4444444444444444,
              "#bd3786"
             ],
             [
              0.5555555555555556,
              "#d8576b"
             ],
             [
              0.6666666666666666,
              "#ed7953"
             ],
             [
              0.7777777777777778,
              "#fb9f3a"
             ],
             [
              0.8888888888888888,
              "#fdca26"
             ],
             [
              1,
              "#f0f921"
             ]
            ],
            "type": "histogram2d"
           }
          ],
          "histogram2dcontour": [
           {
            "colorbar": {
             "outlinewidth": 0,
             "ticks": ""
            },
            "colorscale": [
             [
              0,
              "#0d0887"
             ],
             [
              0.1111111111111111,
              "#46039f"
             ],
             [
              0.2222222222222222,
              "#7201a8"
             ],
             [
              0.3333333333333333,
              "#9c179e"
             ],
             [
              0.4444444444444444,
              "#bd3786"
             ],
             [
              0.5555555555555556,
              "#d8576b"
             ],
             [
              0.6666666666666666,
              "#ed7953"
             ],
             [
              0.7777777777777778,
              "#fb9f3a"
             ],
             [
              0.8888888888888888,
              "#fdca26"
             ],
             [
              1,
              "#f0f921"
             ]
            ],
            "type": "histogram2dcontour"
           }
          ],
          "mesh3d": [
           {
            "colorbar": {
             "outlinewidth": 0,
             "ticks": ""
            },
            "type": "mesh3d"
           }
          ],
          "parcoords": [
           {
            "line": {
             "colorbar": {
              "outlinewidth": 0,
              "ticks": ""
             }
            },
            "type": "parcoords"
           }
          ],
          "pie": [
           {
            "automargin": true,
            "type": "pie"
           }
          ],
          "scatter": [
           {
            "fillpattern": {
             "fillmode": "overlay",
             "size": 10,
             "solidity": 0.2
            },
            "type": "scatter"
           }
          ],
          "scatter3d": [
           {
            "line": {
             "colorbar": {
              "outlinewidth": 0,
              "ticks": ""
             }
            },
            "marker": {
             "colorbar": {
              "outlinewidth": 0,
              "ticks": ""
             }
            },
            "type": "scatter3d"
           }
          ],
          "scattercarpet": [
           {
            "marker": {
             "colorbar": {
              "outlinewidth": 0,
              "ticks": ""
             }
            },
            "type": "scattercarpet"
           }
          ],
          "scattergeo": [
           {
            "marker": {
             "colorbar": {
              "outlinewidth": 0,
              "ticks": ""
             }
            },
            "type": "scattergeo"
           }
          ],
          "scattergl": [
           {
            "marker": {
             "colorbar": {
              "outlinewidth": 0,
              "ticks": ""
             }
            },
            "type": "scattergl"
           }
          ],
          "scattermapbox": [
           {
            "marker": {
             "colorbar": {
              "outlinewidth": 0,
              "ticks": ""
             }
            },
            "type": "scattermapbox"
           }
          ],
          "scatterpolar": [
           {
            "marker": {
             "colorbar": {
              "outlinewidth": 0,
              "ticks": ""
             }
            },
            "type": "scatterpolar"
           }
          ],
          "scatterpolargl": [
           {
            "marker": {
             "colorbar": {
              "outlinewidth": 0,
              "ticks": ""
             }
            },
            "type": "scatterpolargl"
           }
          ],
          "scatterternary": [
           {
            "marker": {
             "colorbar": {
              "outlinewidth": 0,
              "ticks": ""
             }
            },
            "type": "scatterternary"
           }
          ],
          "surface": [
           {
            "colorbar": {
             "outlinewidth": 0,
             "ticks": ""
            },
            "colorscale": [
             [
              0,
              "#0d0887"
             ],
             [
              0.1111111111111111,
              "#46039f"
             ],
             [
              0.2222222222222222,
              "#7201a8"
             ],
             [
              0.3333333333333333,
              "#9c179e"
             ],
             [
              0.4444444444444444,
              "#bd3786"
             ],
             [
              0.5555555555555556,
              "#d8576b"
             ],
             [
              0.6666666666666666,
              "#ed7953"
             ],
             [
              0.7777777777777778,
              "#fb9f3a"
             ],
             [
              0.8888888888888888,
              "#fdca26"
             ],
             [
              1,
              "#f0f921"
             ]
            ],
            "type": "surface"
           }
          ],
          "table": [
           {
            "cells": {
             "fill": {
              "color": "#EBF0F8"
             },
             "line": {
              "color": "white"
             }
            },
            "header": {
             "fill": {
              "color": "#C8D4E3"
             },
             "line": {
              "color": "white"
             }
            },
            "type": "table"
           }
          ]
         },
         "layout": {
          "annotationdefaults": {
           "arrowcolor": "#2a3f5f",
           "arrowhead": 0,
           "arrowwidth": 1
          },
          "autotypenumbers": "strict",
          "coloraxis": {
           "colorbar": {
            "outlinewidth": 0,
            "ticks": ""
           }
          },
          "colorscale": {
           "diverging": [
            [
             0,
             "#8e0152"
            ],
            [
             0.1,
             "#c51b7d"
            ],
            [
             0.2,
             "#de77ae"
            ],
            [
             0.3,
             "#f1b6da"
            ],
            [
             0.4,
             "#fde0ef"
            ],
            [
             0.5,
             "#f7f7f7"
            ],
            [
             0.6,
             "#e6f5d0"
            ],
            [
             0.7,
             "#b8e186"
            ],
            [
             0.8,
             "#7fbc41"
            ],
            [
             0.9,
             "#4d9221"
            ],
            [
             1,
             "#276419"
            ]
           ],
           "sequential": [
            [
             0,
             "#0d0887"
            ],
            [
             0.1111111111111111,
             "#46039f"
            ],
            [
             0.2222222222222222,
             "#7201a8"
            ],
            [
             0.3333333333333333,
             "#9c179e"
            ],
            [
             0.4444444444444444,
             "#bd3786"
            ],
            [
             0.5555555555555556,
             "#d8576b"
            ],
            [
             0.6666666666666666,
             "#ed7953"
            ],
            [
             0.7777777777777778,
             "#fb9f3a"
            ],
            [
             0.8888888888888888,
             "#fdca26"
            ],
            [
             1,
             "#f0f921"
            ]
           ],
           "sequentialminus": [
            [
             0,
             "#0d0887"
            ],
            [
             0.1111111111111111,
             "#46039f"
            ],
            [
             0.2222222222222222,
             "#7201a8"
            ],
            [
             0.3333333333333333,
             "#9c179e"
            ],
            [
             0.4444444444444444,
             "#bd3786"
            ],
            [
             0.5555555555555556,
             "#d8576b"
            ],
            [
             0.6666666666666666,
             "#ed7953"
            ],
            [
             0.7777777777777778,
             "#fb9f3a"
            ],
            [
             0.8888888888888888,
             "#fdca26"
            ],
            [
             1,
             "#f0f921"
            ]
           ]
          },
          "colorway": [
           "#636efa",
           "#EF553B",
           "#00cc96",
           "#ab63fa",
           "#FFA15A",
           "#19d3f3",
           "#FF6692",
           "#B6E880",
           "#FF97FF",
           "#FECB52"
          ],
          "font": {
           "color": "#2a3f5f"
          },
          "geo": {
           "bgcolor": "white",
           "lakecolor": "white",
           "landcolor": "#E5ECF6",
           "showlakes": true,
           "showland": true,
           "subunitcolor": "white"
          },
          "hoverlabel": {
           "align": "left"
          },
          "hovermode": "closest",
          "mapbox": {
           "style": "light"
          },
          "paper_bgcolor": "white",
          "plot_bgcolor": "#E5ECF6",
          "polar": {
           "angularaxis": {
            "gridcolor": "white",
            "linecolor": "white",
            "ticks": ""
           },
           "bgcolor": "#E5ECF6",
           "radialaxis": {
            "gridcolor": "white",
            "linecolor": "white",
            "ticks": ""
           }
          },
          "scene": {
           "xaxis": {
            "backgroundcolor": "#E5ECF6",
            "gridcolor": "white",
            "gridwidth": 2,
            "linecolor": "white",
            "showbackground": true,
            "ticks": "",
            "zerolinecolor": "white"
           },
           "yaxis": {
            "backgroundcolor": "#E5ECF6",
            "gridcolor": "white",
            "gridwidth": 2,
            "linecolor": "white",
            "showbackground": true,
            "ticks": "",
            "zerolinecolor": "white"
           },
           "zaxis": {
            "backgroundcolor": "#E5ECF6",
            "gridcolor": "white",
            "gridwidth": 2,
            "linecolor": "white",
            "showbackground": true,
            "ticks": "",
            "zerolinecolor": "white"
           }
          },
          "shapedefaults": {
           "line": {
            "color": "#2a3f5f"
           }
          },
          "ternary": {
           "aaxis": {
            "gridcolor": "white",
            "linecolor": "white",
            "ticks": ""
           },
           "baxis": {
            "gridcolor": "white",
            "linecolor": "white",
            "ticks": ""
           },
           "bgcolor": "#E5ECF6",
           "caxis": {
            "gridcolor": "white",
            "linecolor": "white",
            "ticks": ""
           }
          },
          "title": {
           "x": 0.05
          },
          "xaxis": {
           "automargin": true,
           "gridcolor": "white",
           "linecolor": "white",
           "ticks": "",
           "title": {
            "standoff": 15
           },
           "zerolinecolor": "white",
           "zerolinewidth": 2
          },
          "yaxis": {
           "automargin": true,
           "gridcolor": "white",
           "linecolor": "white",
           "ticks": "",
           "title": {
            "standoff": 15
           },
           "zerolinecolor": "white",
           "zerolinewidth": 2
          }
         }
        },
        "title": {
         "text": "Line Graph for Each ID"
        },
        "xaxis": {
         "anchor": "y",
         "domain": [
          0,
          1
         ],
         "title": {
          "text": "Timestamp"
         }
        },
        "yaxis": {
         "anchor": "x",
         "domain": [
          0,
          1
         ],
         "title": {
          "text": "RSSI"
         }
        }
       }
      }
     },
     "metadata": {},
     "output_type": "display_data"
    },
    {
     "name": "stderr",
     "output_type": "stream",
     "text": [
      "c:\\Users\\isacc\\miniconda3\\Lib\\site-packages\\_plotly_utils\\basevalidators.py:105: FutureWarning:\n",
      "\n",
      "The behavior of DatetimeProperties.to_pydatetime is deprecated, in a future version this will return a Series containing python datetime objects instead of an ndarray. To retain the old behavior, call `np.array` on the result\n",
      "\n"
     ]
    },
    {
     "data": {
      "application/vnd.plotly.v1+json": {
       "config": {
        "plotlyServerURL": "https://plot.ly"
       },
       "data": [
        {
         "hovertemplate": "id=1<br>ts=%{x}<br>rssi=%{y}<extra></extra>",
         "legendgroup": "1",
         "line": {
          "color": "#636efa",
          "dash": "solid"
         },
         "marker": {
          "symbol": "circle"
         },
         "mode": "lines",
         "name": "1",
         "orientation": "v",
         "showlegend": true,
         "type": "scatter",
         "x": [
          "2023-08-24T17:49:02",
          "2023-08-24T17:49:07",
          "2023-08-24T17:49:31",
          "2023-08-24T17:49:37",
          "2023-08-24T17:50:01",
          "2023-08-24T17:51:09",
          "2023-08-24T17:57:26",
          "2023-08-24T17:57:32",
          "2023-08-24T17:57:38",
          "2023-08-24T18:02:02",
          "2023-08-24T18:02:08",
          "2023-08-24T18:04:51",
          "2023-08-24T18:05:27",
          "2023-08-24T18:05:33",
          "2023-08-24T18:06:03",
          "2023-08-24T18:06:27",
          "2023-08-24T18:06:57",
          "2023-08-24T18:07:09",
          "2023-08-24T18:07:15",
          "2023-08-24T18:07:27",
          "2023-08-24T18:07:33",
          "2023-08-24T18:08:09"
         ],
         "xaxis": "x",
         "y": [
          0,
          -58,
          -39,
          -32,
          -41,
          -39,
          -70,
          -59,
          -71,
          -79,
          -67,
          -73,
          -65,
          -73,
          -67,
          -56,
          -62,
          -56,
          -62,
          -55,
          -62,
          -100
         ],
         "yaxis": "y"
        },
        {
         "hovertemplate": "id=2<br>ts=%{x}<br>rssi=%{y}<extra></extra>",
         "legendgroup": "2",
         "line": {
          "color": "#EF553B",
          "dash": "solid"
         },
         "marker": {
          "symbol": "circle"
         },
         "mode": "lines",
         "name": "2",
         "orientation": "v",
         "showlegend": true,
         "type": "scatter",
         "x": [
          "2023-08-24T17:49:07",
          "2023-08-24T17:49:19",
          "2023-08-24T17:50:13",
          "2023-08-24T17:50:19",
          "2023-08-24T17:50:42",
          "2023-08-24T17:51:01",
          "2023-08-24T17:51:17",
          "2023-08-24T17:56:45",
          "2023-08-24T17:56:50",
          "2023-08-24T17:57:02",
          "2023-08-24T17:57:32",
          "2023-08-24T17:57:38",
          "2023-08-24T17:57:44",
          "2023-08-24T17:57:50",
          "2023-08-24T17:58:02",
          "2023-08-24T17:58:44",
          "2023-08-24T17:58:50",
          "2023-08-24T17:59:02",
          "2023-08-24T17:59:20",
          "2023-08-24T17:59:38",
          "2023-08-24T17:59:44",
          "2023-08-24T17:59:56",
          "2023-08-24T18:00:08",
          "2023-08-24T18:00:38",
          "2023-08-24T18:00:44",
          "2023-08-24T18:01:20",
          "2023-08-24T18:01:26",
          "2023-08-24T18:01:38",
          "2023-08-24T18:01:50",
          "2023-08-24T18:02:08",
          "2023-08-24T18:02:44",
          "2023-08-24T18:03:09",
          "2023-08-24T18:03:15",
          "2023-08-24T18:03:33",
          "2023-08-24T18:03:39",
          "2023-08-24T18:04:45",
          "2023-08-24T18:05:09",
          "2023-08-24T18:05:27",
          "2023-08-24T18:06:15",
          "2023-08-24T18:06:27",
          "2023-08-24T18:06:33",
          "2023-08-24T18:06:57",
          "2023-08-24T18:07:03",
          "2023-08-24T18:07:09",
          "2023-08-24T18:07:51",
          "2023-08-24T18:07:57",
          "2023-08-24T18:08:15",
          "2023-08-24T18:08:21",
          "2023-08-24T18:08:27",
          "2023-08-24T18:08:33",
          "2023-08-24T18:08:45",
          "2023-08-24T18:09:51",
          "2023-08-24T18:09:57"
         ],
         "xaxis": "x",
         "y": [
          -62,
          -55,
          -26,
          -33,
          -26,
          -35,
          -26,
          -100,
          -61,
          -69,
          -76,
          -68,
          -61,
          -53,
          -61,
          -51,
          -58,
          -65,
          -48,
          -66,
          -60,
          -53,
          -61,
          -67,
          -73,
          -63,
          -69,
          -63,
          -100,
          -67,
          -75,
          -66,
          -72,
          -65,
          -73,
          -63,
          -74,
          -68,
          -80,
          -74,
          -66,
          -72,
          -80,
          -72,
          -80,
          -74,
          -61,
          -78,
          -72,
          -63,
          -69,
          -78,
          -71
         ],
         "yaxis": "y"
        }
       ],
       "layout": {
        "legend": {
         "title": {
          "text": "ID"
         },
         "tracegroupgap": 0
        },
        "template": {
         "data": {
          "bar": [
           {
            "error_x": {
             "color": "#2a3f5f"
            },
            "error_y": {
             "color": "#2a3f5f"
            },
            "marker": {
             "line": {
              "color": "#E5ECF6",
              "width": 0.5
             },
             "pattern": {
              "fillmode": "overlay",
              "size": 10,
              "solidity": 0.2
             }
            },
            "type": "bar"
           }
          ],
          "barpolar": [
           {
            "marker": {
             "line": {
              "color": "#E5ECF6",
              "width": 0.5
             },
             "pattern": {
              "fillmode": "overlay",
              "size": 10,
              "solidity": 0.2
             }
            },
            "type": "barpolar"
           }
          ],
          "carpet": [
           {
            "aaxis": {
             "endlinecolor": "#2a3f5f",
             "gridcolor": "white",
             "linecolor": "white",
             "minorgridcolor": "white",
             "startlinecolor": "#2a3f5f"
            },
            "baxis": {
             "endlinecolor": "#2a3f5f",
             "gridcolor": "white",
             "linecolor": "white",
             "minorgridcolor": "white",
             "startlinecolor": "#2a3f5f"
            },
            "type": "carpet"
           }
          ],
          "choropleth": [
           {
            "colorbar": {
             "outlinewidth": 0,
             "ticks": ""
            },
            "type": "choropleth"
           }
          ],
          "contour": [
           {
            "colorbar": {
             "outlinewidth": 0,
             "ticks": ""
            },
            "colorscale": [
             [
              0,
              "#0d0887"
             ],
             [
              0.1111111111111111,
              "#46039f"
             ],
             [
              0.2222222222222222,
              "#7201a8"
             ],
             [
              0.3333333333333333,
              "#9c179e"
             ],
             [
              0.4444444444444444,
              "#bd3786"
             ],
             [
              0.5555555555555556,
              "#d8576b"
             ],
             [
              0.6666666666666666,
              "#ed7953"
             ],
             [
              0.7777777777777778,
              "#fb9f3a"
             ],
             [
              0.8888888888888888,
              "#fdca26"
             ],
             [
              1,
              "#f0f921"
             ]
            ],
            "type": "contour"
           }
          ],
          "contourcarpet": [
           {
            "colorbar": {
             "outlinewidth": 0,
             "ticks": ""
            },
            "type": "contourcarpet"
           }
          ],
          "heatmap": [
           {
            "colorbar": {
             "outlinewidth": 0,
             "ticks": ""
            },
            "colorscale": [
             [
              0,
              "#0d0887"
             ],
             [
              0.1111111111111111,
              "#46039f"
             ],
             [
              0.2222222222222222,
              "#7201a8"
             ],
             [
              0.3333333333333333,
              "#9c179e"
             ],
             [
              0.4444444444444444,
              "#bd3786"
             ],
             [
              0.5555555555555556,
              "#d8576b"
             ],
             [
              0.6666666666666666,
              "#ed7953"
             ],
             [
              0.7777777777777778,
              "#fb9f3a"
             ],
             [
              0.8888888888888888,
              "#fdca26"
             ],
             [
              1,
              "#f0f921"
             ]
            ],
            "type": "heatmap"
           }
          ],
          "heatmapgl": [
           {
            "colorbar": {
             "outlinewidth": 0,
             "ticks": ""
            },
            "colorscale": [
             [
              0,
              "#0d0887"
             ],
             [
              0.1111111111111111,
              "#46039f"
             ],
             [
              0.2222222222222222,
              "#7201a8"
             ],
             [
              0.3333333333333333,
              "#9c179e"
             ],
             [
              0.4444444444444444,
              "#bd3786"
             ],
             [
              0.5555555555555556,
              "#d8576b"
             ],
             [
              0.6666666666666666,
              "#ed7953"
             ],
             [
              0.7777777777777778,
              "#fb9f3a"
             ],
             [
              0.8888888888888888,
              "#fdca26"
             ],
             [
              1,
              "#f0f921"
             ]
            ],
            "type": "heatmapgl"
           }
          ],
          "histogram": [
           {
            "marker": {
             "pattern": {
              "fillmode": "overlay",
              "size": 10,
              "solidity": 0.2
             }
            },
            "type": "histogram"
           }
          ],
          "histogram2d": [
           {
            "colorbar": {
             "outlinewidth": 0,
             "ticks": ""
            },
            "colorscale": [
             [
              0,
              "#0d0887"
             ],
             [
              0.1111111111111111,
              "#46039f"
             ],
             [
              0.2222222222222222,
              "#7201a8"
             ],
             [
              0.3333333333333333,
              "#9c179e"
             ],
             [
              0.4444444444444444,
              "#bd3786"
             ],
             [
              0.5555555555555556,
              "#d8576b"
             ],
             [
              0.6666666666666666,
              "#ed7953"
             ],
             [
              0.7777777777777778,
              "#fb9f3a"
             ],
             [
              0.8888888888888888,
              "#fdca26"
             ],
             [
              1,
              "#f0f921"
             ]
            ],
            "type": "histogram2d"
           }
          ],
          "histogram2dcontour": [
           {
            "colorbar": {
             "outlinewidth": 0,
             "ticks": ""
            },
            "colorscale": [
             [
              0,
              "#0d0887"
             ],
             [
              0.1111111111111111,
              "#46039f"
             ],
             [
              0.2222222222222222,
              "#7201a8"
             ],
             [
              0.3333333333333333,
              "#9c179e"
             ],
             [
              0.4444444444444444,
              "#bd3786"
             ],
             [
              0.5555555555555556,
              "#d8576b"
             ],
             [
              0.6666666666666666,
              "#ed7953"
             ],
             [
              0.7777777777777778,
              "#fb9f3a"
             ],
             [
              0.8888888888888888,
              "#fdca26"
             ],
             [
              1,
              "#f0f921"
             ]
            ],
            "type": "histogram2dcontour"
           }
          ],
          "mesh3d": [
           {
            "colorbar": {
             "outlinewidth": 0,
             "ticks": ""
            },
            "type": "mesh3d"
           }
          ],
          "parcoords": [
           {
            "line": {
             "colorbar": {
              "outlinewidth": 0,
              "ticks": ""
             }
            },
            "type": "parcoords"
           }
          ],
          "pie": [
           {
            "automargin": true,
            "type": "pie"
           }
          ],
          "scatter": [
           {
            "fillpattern": {
             "fillmode": "overlay",
             "size": 10,
             "solidity": 0.2
            },
            "type": "scatter"
           }
          ],
          "scatter3d": [
           {
            "line": {
             "colorbar": {
              "outlinewidth": 0,
              "ticks": ""
             }
            },
            "marker": {
             "colorbar": {
              "outlinewidth": 0,
              "ticks": ""
             }
            },
            "type": "scatter3d"
           }
          ],
          "scattercarpet": [
           {
            "marker": {
             "colorbar": {
              "outlinewidth": 0,
              "ticks": ""
             }
            },
            "type": "scattercarpet"
           }
          ],
          "scattergeo": [
           {
            "marker": {
             "colorbar": {
              "outlinewidth": 0,
              "ticks": ""
             }
            },
            "type": "scattergeo"
           }
          ],
          "scattergl": [
           {
            "marker": {
             "colorbar": {
              "outlinewidth": 0,
              "ticks": ""
             }
            },
            "type": "scattergl"
           }
          ],
          "scattermapbox": [
           {
            "marker": {
             "colorbar": {
              "outlinewidth": 0,
              "ticks": ""
             }
            },
            "type": "scattermapbox"
           }
          ],
          "scatterpolar": [
           {
            "marker": {
             "colorbar": {
              "outlinewidth": 0,
              "ticks": ""
             }
            },
            "type": "scatterpolar"
           }
          ],
          "scatterpolargl": [
           {
            "marker": {
             "colorbar": {
              "outlinewidth": 0,
              "ticks": ""
             }
            },
            "type": "scatterpolargl"
           }
          ],
          "scatterternary": [
           {
            "marker": {
             "colorbar": {
              "outlinewidth": 0,
              "ticks": ""
             }
            },
            "type": "scatterternary"
           }
          ],
          "surface": [
           {
            "colorbar": {
             "outlinewidth": 0,
             "ticks": ""
            },
            "colorscale": [
             [
              0,
              "#0d0887"
             ],
             [
              0.1111111111111111,
              "#46039f"
             ],
             [
              0.2222222222222222,
              "#7201a8"
             ],
             [
              0.3333333333333333,
              "#9c179e"
             ],
             [
              0.4444444444444444,
              "#bd3786"
             ],
             [
              0.5555555555555556,
              "#d8576b"
             ],
             [
              0.6666666666666666,
              "#ed7953"
             ],
             [
              0.7777777777777778,
              "#fb9f3a"
             ],
             [
              0.8888888888888888,
              "#fdca26"
             ],
             [
              1,
              "#f0f921"
             ]
            ],
            "type": "surface"
           }
          ],
          "table": [
           {
            "cells": {
             "fill": {
              "color": "#EBF0F8"
             },
             "line": {
              "color": "white"
             }
            },
            "header": {
             "fill": {
              "color": "#C8D4E3"
             },
             "line": {
              "color": "white"
             }
            },
            "type": "table"
           }
          ]
         },
         "layout": {
          "annotationdefaults": {
           "arrowcolor": "#2a3f5f",
           "arrowhead": 0,
           "arrowwidth": 1
          },
          "autotypenumbers": "strict",
          "coloraxis": {
           "colorbar": {
            "outlinewidth": 0,
            "ticks": ""
           }
          },
          "colorscale": {
           "diverging": [
            [
             0,
             "#8e0152"
            ],
            [
             0.1,
             "#c51b7d"
            ],
            [
             0.2,
             "#de77ae"
            ],
            [
             0.3,
             "#f1b6da"
            ],
            [
             0.4,
             "#fde0ef"
            ],
            [
             0.5,
             "#f7f7f7"
            ],
            [
             0.6,
             "#e6f5d0"
            ],
            [
             0.7,
             "#b8e186"
            ],
            [
             0.8,
             "#7fbc41"
            ],
            [
             0.9,
             "#4d9221"
            ],
            [
             1,
             "#276419"
            ]
           ],
           "sequential": [
            [
             0,
             "#0d0887"
            ],
            [
             0.1111111111111111,
             "#46039f"
            ],
            [
             0.2222222222222222,
             "#7201a8"
            ],
            [
             0.3333333333333333,
             "#9c179e"
            ],
            [
             0.4444444444444444,
             "#bd3786"
            ],
            [
             0.5555555555555556,
             "#d8576b"
            ],
            [
             0.6666666666666666,
             "#ed7953"
            ],
            [
             0.7777777777777778,
             "#fb9f3a"
            ],
            [
             0.8888888888888888,
             "#fdca26"
            ],
            [
             1,
             "#f0f921"
            ]
           ],
           "sequentialminus": [
            [
             0,
             "#0d0887"
            ],
            [
             0.1111111111111111,
             "#46039f"
            ],
            [
             0.2222222222222222,
             "#7201a8"
            ],
            [
             0.3333333333333333,
             "#9c179e"
            ],
            [
             0.4444444444444444,
             "#bd3786"
            ],
            [
             0.5555555555555556,
             "#d8576b"
            ],
            [
             0.6666666666666666,
             "#ed7953"
            ],
            [
             0.7777777777777778,
             "#fb9f3a"
            ],
            [
             0.8888888888888888,
             "#fdca26"
            ],
            [
             1,
             "#f0f921"
            ]
           ]
          },
          "colorway": [
           "#636efa",
           "#EF553B",
           "#00cc96",
           "#ab63fa",
           "#FFA15A",
           "#19d3f3",
           "#FF6692",
           "#B6E880",
           "#FF97FF",
           "#FECB52"
          ],
          "font": {
           "color": "#2a3f5f"
          },
          "geo": {
           "bgcolor": "white",
           "lakecolor": "white",
           "landcolor": "#E5ECF6",
           "showlakes": true,
           "showland": true,
           "subunitcolor": "white"
          },
          "hoverlabel": {
           "align": "left"
          },
          "hovermode": "closest",
          "mapbox": {
           "style": "light"
          },
          "paper_bgcolor": "white",
          "plot_bgcolor": "#E5ECF6",
          "polar": {
           "angularaxis": {
            "gridcolor": "white",
            "linecolor": "white",
            "ticks": ""
           },
           "bgcolor": "#E5ECF6",
           "radialaxis": {
            "gridcolor": "white",
            "linecolor": "white",
            "ticks": ""
           }
          },
          "scene": {
           "xaxis": {
            "backgroundcolor": "#E5ECF6",
            "gridcolor": "white",
            "gridwidth": 2,
            "linecolor": "white",
            "showbackground": true,
            "ticks": "",
            "zerolinecolor": "white"
           },
           "yaxis": {
            "backgroundcolor": "#E5ECF6",
            "gridcolor": "white",
            "gridwidth": 2,
            "linecolor": "white",
            "showbackground": true,
            "ticks": "",
            "zerolinecolor": "white"
           },
           "zaxis": {
            "backgroundcolor": "#E5ECF6",
            "gridcolor": "white",
            "gridwidth": 2,
            "linecolor": "white",
            "showbackground": true,
            "ticks": "",
            "zerolinecolor": "white"
           }
          },
          "shapedefaults": {
           "line": {
            "color": "#2a3f5f"
           }
          },
          "ternary": {
           "aaxis": {
            "gridcolor": "white",
            "linecolor": "white",
            "ticks": ""
           },
           "baxis": {
            "gridcolor": "white",
            "linecolor": "white",
            "ticks": ""
           },
           "bgcolor": "#E5ECF6",
           "caxis": {
            "gridcolor": "white",
            "linecolor": "white",
            "ticks": ""
           }
          },
          "title": {
           "x": 0.05
          },
          "xaxis": {
           "automargin": true,
           "gridcolor": "white",
           "linecolor": "white",
           "ticks": "",
           "title": {
            "standoff": 15
           },
           "zerolinecolor": "white",
           "zerolinewidth": 2
          },
          "yaxis": {
           "automargin": true,
           "gridcolor": "white",
           "linecolor": "white",
           "ticks": "",
           "title": {
            "standoff": 15
           },
           "zerolinecolor": "white",
           "zerolinewidth": 2
          }
         }
        },
        "title": {
         "text": "Line Graph for Each ID"
        },
        "xaxis": {
         "anchor": "y",
         "domain": [
          0,
          1
         ],
         "title": {
          "text": "Timestamp"
         }
        },
        "yaxis": {
         "anchor": "x",
         "domain": [
          0,
          1
         ],
         "title": {
          "text": "RSSI"
         }
        }
       }
      }
     },
     "metadata": {},
     "output_type": "display_data"
    },
    {
     "name": "stderr",
     "output_type": "stream",
     "text": [
      "c:\\Users\\isacc\\miniconda3\\Lib\\site-packages\\_plotly_utils\\basevalidators.py:105: FutureWarning:\n",
      "\n",
      "The behavior of DatetimeProperties.to_pydatetime is deprecated, in a future version this will return a Series containing python datetime objects instead of an ndarray. To retain the old behavior, call `np.array` on the result\n",
      "\n"
     ]
    },
    {
     "data": {
      "application/vnd.plotly.v1+json": {
       "config": {
        "plotlyServerURL": "https://plot.ly"
       },
       "data": [
        {
         "hovertemplate": "id=1<br>ts=%{x}<br>rssi=%{y}<extra></extra>",
         "legendgroup": "1",
         "line": {
          "color": "#636efa",
          "dash": "solid"
         },
         "marker": {
          "symbol": "circle"
         },
         "mode": "lines",
         "name": "1",
         "orientation": "v",
         "showlegend": true,
         "type": "scatter",
         "x": [
          "2023-08-24T17:30:10",
          "2023-08-24T17:31:22",
          "2023-08-24T17:33:02",
          "2023-08-24T17:33:08",
          "2023-08-24T17:33:26",
          "2023-08-24T17:33:56",
          "2023-08-24T17:34:02",
          "2023-08-24T17:34:14",
          "2023-08-24T17:34:20",
          "2023-08-24T17:34:26",
          "2023-08-24T17:34:32",
          "2023-08-24T17:34:44",
          "2023-08-24T17:35:02",
          "2023-08-24T17:35:14",
          "2023-08-24T17:35:20",
          "2023-08-24T17:36:02",
          "2023-08-24T17:36:08",
          "2023-08-24T17:36:20",
          "2023-08-24T17:36:26",
          "2023-08-24T17:37:14",
          "2023-08-24T17:37:20",
          "2023-08-24T17:37:32",
          "2023-08-24T17:37:44",
          "2023-08-24T17:37:50",
          "2023-08-24T17:37:56",
          "2023-08-24T17:38:02",
          "2023-08-24T17:38:44",
          "2023-08-24T17:38:50",
          "2023-08-24T17:39:02",
          "2023-08-24T17:39:26",
          "2023-08-24T17:39:44",
          "2023-08-24T17:40:02",
          "2023-08-24T17:40:08",
          "2023-08-24T17:40:14",
          "2023-08-24T17:40:20",
          "2023-08-24T17:41:30",
          "2023-08-24T17:41:42",
          "2023-08-24T17:41:48",
          "2023-08-24T17:42:00",
          "2023-08-24T17:42:24",
          "2023-08-24T17:42:30",
          "2023-08-24T17:44:12",
          "2023-08-24T17:44:18",
          "2023-08-24T17:44:24",
          "2023-08-24T17:44:30",
          "2023-08-24T17:44:48",
          "2023-08-24T17:45:06",
          "2023-08-24T17:45:11",
          "2023-08-24T17:45:35",
          "2023-08-24T17:46:05",
          "2023-08-24T17:46:17",
          "2023-08-24T17:47:41",
          "2023-08-24T17:47:47",
          "2023-08-24T17:48:17",
          "2023-08-24T17:58:17",
          "2023-08-24T17:58:59",
          "2023-08-24T17:59:17",
          "2023-08-24T18:00:35",
          "2023-08-24T18:00:42",
          "2023-08-24T18:01:00",
          "2023-08-24T18:01:06",
          "2023-08-24T18:01:12",
          "2023-08-24T18:01:18",
          "2023-08-24T18:02:00",
          "2023-08-24T18:02:18",
          "2023-08-24T18:02:36",
          "2023-08-24T18:02:42",
          "2023-08-24T18:03:06",
          "2023-08-24T18:03:36",
          "2023-08-24T18:04:06",
          "2023-08-24T18:04:18",
          "2023-08-24T18:05:00",
          "2023-08-24T18:05:06",
          "2023-08-24T18:06:18",
          "2023-08-24T18:06:54",
          "2023-08-24T18:07:00",
          "2023-08-24T18:07:48",
          "2023-08-24T18:07:54",
          "2023-08-24T18:09:12",
          "2023-08-24T18:09:18"
         ],
         "xaxis": "x",
         "y": [
          -54,
          -70,
          -66,
          -59,
          -66,
          -73,
          -59,
          -72,
          -59,
          -71,
          -60,
          -70,
          -64,
          -56,
          -70,
          -63,
          -56,
          -69,
          -62,
          -54,
          -71,
          -65,
          -74,
          -67,
          -60,
          -70,
          -59,
          -69,
          -62,
          -42,
          -50,
          0,
          -69,
          -63,
          -44,
          -42,
          -48,
          -55,
          -49,
          -55,
          -49,
          -36,
          -44,
          -32,
          -43,
          -59,
          -100,
          -70,
          -76,
          -66,
          -74,
          -66,
          -77,
          -70,
          -71,
          -71,
          -63,
          -69,
          -60,
          -71,
          -63,
          -71,
          -61,
          -68,
          -61,
          -68,
          -61,
          -67,
          -60,
          -74,
          -59,
          -70,
          -64,
          -56,
          -63,
          -73,
          -100,
          -57,
          -64,
          -57
         ],
         "yaxis": "y"
        },
        {
         "hovertemplate": "id=2<br>ts=%{x}<br>rssi=%{y}<extra></extra>",
         "legendgroup": "2",
         "line": {
          "color": "#EF553B",
          "dash": "solid"
         },
         "marker": {
          "symbol": "circle"
         },
         "mode": "lines",
         "name": "2",
         "orientation": "v",
         "showlegend": true,
         "type": "scatter",
         "x": [
          "2023-08-24T17:30:28",
          "2023-08-24T17:31:57",
          "2023-08-24T17:32:02",
          "2023-08-24T17:32:08",
          "2023-08-24T17:33:08",
          "2023-08-24T17:33:20",
          "2023-08-24T17:33:26",
          "2023-08-24T17:33:38",
          "2023-08-24T17:35:02",
          "2023-08-24T17:35:14",
          "2023-08-24T17:35:32",
          "2023-08-24T17:35:38",
          "2023-08-24T17:35:44",
          "2023-08-24T17:35:50",
          "2023-08-24T17:35:56",
          "2023-08-24T17:37:26",
          "2023-08-24T17:37:32",
          "2023-08-24T17:37:56",
          "2023-08-24T17:38:20",
          "2023-08-24T17:38:32",
          "2023-08-24T17:38:38",
          "2023-08-24T17:39:20",
          "2023-08-24T17:39:26",
          "2023-08-24T17:40:20",
          "2023-08-24T17:40:44",
          "2023-08-24T17:41:29",
          "2023-08-24T17:41:42",
          "2023-08-24T17:44:24",
          "2023-08-24T17:44:30",
          "2023-08-24T17:44:42",
          "2023-08-24T17:44:48",
          "2023-08-24T17:45:29",
          "2023-08-24T17:46:05",
          "2023-08-24T17:46:11",
          "2023-08-24T17:46:23",
          "2023-08-24T17:46:41",
          "2023-08-24T17:46:47",
          "2023-08-24T17:47:29",
          "2023-08-24T17:47:41",
          "2023-08-24T17:57:59",
          "2023-08-24T17:58:11",
          "2023-08-24T17:58:17",
          "2023-08-24T17:58:23",
          "2023-08-24T17:58:41",
          "2023-08-24T17:58:47",
          "2023-08-24T17:58:53",
          "2023-08-24T17:59:05",
          "2023-08-24T18:00:42",
          "2023-08-24T18:01:06",
          "2023-08-24T18:01:12",
          "2023-08-24T18:01:18",
          "2023-08-24T18:01:30",
          "2023-08-24T18:01:36",
          "2023-08-24T18:01:42",
          "2023-08-24T18:01:54",
          "2023-08-24T18:02:06",
          "2023-08-24T18:02:30",
          "2023-08-24T18:02:42",
          "2023-08-24T18:02:48",
          "2023-08-24T18:02:54",
          "2023-08-24T18:03:06",
          "2023-08-24T18:03:12",
          "2023-08-24T18:03:30",
          "2023-08-24T18:03:48",
          "2023-08-24T18:03:54",
          "2023-08-24T18:04:00",
          "2023-08-24T18:04:06",
          "2023-08-24T18:05:18",
          "2023-08-24T18:05:42",
          "2023-08-24T18:06:00",
          "2023-08-24T18:06:06",
          "2023-08-24T18:06:12",
          "2023-08-24T18:06:24",
          "2023-08-24T18:06:48",
          "2023-08-24T18:06:54",
          "2023-08-24T18:07:06",
          "2023-08-24T18:07:12",
          "2023-08-24T18:07:18",
          "2023-08-24T18:07:24",
          "2023-08-24T18:07:30",
          "2023-08-24T18:08:24",
          "2023-08-24T18:08:30",
          "2023-08-24T18:08:36",
          "2023-08-24T18:08:54",
          "2023-08-24T18:09:00",
          "2023-08-24T18:09:06",
          "2023-08-24T18:09:12",
          "2023-08-24T18:09:18",
          "2023-08-24T18:09:24",
          "2023-08-24T18:09:30",
          "2023-08-24T18:09:36",
          "2023-08-24T18:09:54"
         ],
         "xaxis": "x",
         "y": [
          -58,
          0,
          -69,
          -75,
          0,
          -70,
          -76,
          -70,
          -64,
          -77,
          -67,
          -76,
          -68,
          -77,
          -69,
          -58,
          -78,
          -71,
          -77,
          -70,
          -77,
          -69,
          -38,
          -31,
          -38,
          -35,
          0,
          -51,
          -33,
          -39,
          -46,
          -63,
          -79,
          -66,
          -73,
          -66,
          -72,
          -79,
          -73,
          -76,
          -70,
          -78,
          -72,
          -79,
          -67,
          -78,
          -71,
          -65,
          -55,
          -73,
          -64,
          -58,
          -65,
          -73,
          -63,
          -57,
          -63,
          -57,
          -71,
          -63,
          -55,
          -61,
          -68,
          -55,
          -61,
          -67,
          -56,
          -63,
          -57,
          -75,
          -69,
          -75,
          -64,
          -53,
          -63,
          -49,
          -72,
          -62,
          -70,
          -60,
          -72,
          -55,
          -46,
          -52,
          -59,
          -67,
          -49,
          -68,
          -50,
          -62,
          -56,
          -64
         ],
         "yaxis": "y"
        }
       ],
       "layout": {
        "legend": {
         "title": {
          "text": "ID"
         },
         "tracegroupgap": 0
        },
        "template": {
         "data": {
          "bar": [
           {
            "error_x": {
             "color": "#2a3f5f"
            },
            "error_y": {
             "color": "#2a3f5f"
            },
            "marker": {
             "line": {
              "color": "#E5ECF6",
              "width": 0.5
             },
             "pattern": {
              "fillmode": "overlay",
              "size": 10,
              "solidity": 0.2
             }
            },
            "type": "bar"
           }
          ],
          "barpolar": [
           {
            "marker": {
             "line": {
              "color": "#E5ECF6",
              "width": 0.5
             },
             "pattern": {
              "fillmode": "overlay",
              "size": 10,
              "solidity": 0.2
             }
            },
            "type": "barpolar"
           }
          ],
          "carpet": [
           {
            "aaxis": {
             "endlinecolor": "#2a3f5f",
             "gridcolor": "white",
             "linecolor": "white",
             "minorgridcolor": "white",
             "startlinecolor": "#2a3f5f"
            },
            "baxis": {
             "endlinecolor": "#2a3f5f",
             "gridcolor": "white",
             "linecolor": "white",
             "minorgridcolor": "white",
             "startlinecolor": "#2a3f5f"
            },
            "type": "carpet"
           }
          ],
          "choropleth": [
           {
            "colorbar": {
             "outlinewidth": 0,
             "ticks": ""
            },
            "type": "choropleth"
           }
          ],
          "contour": [
           {
            "colorbar": {
             "outlinewidth": 0,
             "ticks": ""
            },
            "colorscale": [
             [
              0,
              "#0d0887"
             ],
             [
              0.1111111111111111,
              "#46039f"
             ],
             [
              0.2222222222222222,
              "#7201a8"
             ],
             [
              0.3333333333333333,
              "#9c179e"
             ],
             [
              0.4444444444444444,
              "#bd3786"
             ],
             [
              0.5555555555555556,
              "#d8576b"
             ],
             [
              0.6666666666666666,
              "#ed7953"
             ],
             [
              0.7777777777777778,
              "#fb9f3a"
             ],
             [
              0.8888888888888888,
              "#fdca26"
             ],
             [
              1,
              "#f0f921"
             ]
            ],
            "type": "contour"
           }
          ],
          "contourcarpet": [
           {
            "colorbar": {
             "outlinewidth": 0,
             "ticks": ""
            },
            "type": "contourcarpet"
           }
          ],
          "heatmap": [
           {
            "colorbar": {
             "outlinewidth": 0,
             "ticks": ""
            },
            "colorscale": [
             [
              0,
              "#0d0887"
             ],
             [
              0.1111111111111111,
              "#46039f"
             ],
             [
              0.2222222222222222,
              "#7201a8"
             ],
             [
              0.3333333333333333,
              "#9c179e"
             ],
             [
              0.4444444444444444,
              "#bd3786"
             ],
             [
              0.5555555555555556,
              "#d8576b"
             ],
             [
              0.6666666666666666,
              "#ed7953"
             ],
             [
              0.7777777777777778,
              "#fb9f3a"
             ],
             [
              0.8888888888888888,
              "#fdca26"
             ],
             [
              1,
              "#f0f921"
             ]
            ],
            "type": "heatmap"
           }
          ],
          "heatmapgl": [
           {
            "colorbar": {
             "outlinewidth": 0,
             "ticks": ""
            },
            "colorscale": [
             [
              0,
              "#0d0887"
             ],
             [
              0.1111111111111111,
              "#46039f"
             ],
             [
              0.2222222222222222,
              "#7201a8"
             ],
             [
              0.3333333333333333,
              "#9c179e"
             ],
             [
              0.4444444444444444,
              "#bd3786"
             ],
             [
              0.5555555555555556,
              "#d8576b"
             ],
             [
              0.6666666666666666,
              "#ed7953"
             ],
             [
              0.7777777777777778,
              "#fb9f3a"
             ],
             [
              0.8888888888888888,
              "#fdca26"
             ],
             [
              1,
              "#f0f921"
             ]
            ],
            "type": "heatmapgl"
           }
          ],
          "histogram": [
           {
            "marker": {
             "pattern": {
              "fillmode": "overlay",
              "size": 10,
              "solidity": 0.2
             }
            },
            "type": "histogram"
           }
          ],
          "histogram2d": [
           {
            "colorbar": {
             "outlinewidth": 0,
             "ticks": ""
            },
            "colorscale": [
             [
              0,
              "#0d0887"
             ],
             [
              0.1111111111111111,
              "#46039f"
             ],
             [
              0.2222222222222222,
              "#7201a8"
             ],
             [
              0.3333333333333333,
              "#9c179e"
             ],
             [
              0.4444444444444444,
              "#bd3786"
             ],
             [
              0.5555555555555556,
              "#d8576b"
             ],
             [
              0.6666666666666666,
              "#ed7953"
             ],
             [
              0.7777777777777778,
              "#fb9f3a"
             ],
             [
              0.8888888888888888,
              "#fdca26"
             ],
             [
              1,
              "#f0f921"
             ]
            ],
            "type": "histogram2d"
           }
          ],
          "histogram2dcontour": [
           {
            "colorbar": {
             "outlinewidth": 0,
             "ticks": ""
            },
            "colorscale": [
             [
              0,
              "#0d0887"
             ],
             [
              0.1111111111111111,
              "#46039f"
             ],
             [
              0.2222222222222222,
              "#7201a8"
             ],
             [
              0.3333333333333333,
              "#9c179e"
             ],
             [
              0.4444444444444444,
              "#bd3786"
             ],
             [
              0.5555555555555556,
              "#d8576b"
             ],
             [
              0.6666666666666666,
              "#ed7953"
             ],
             [
              0.7777777777777778,
              "#fb9f3a"
             ],
             [
              0.8888888888888888,
              "#fdca26"
             ],
             [
              1,
              "#f0f921"
             ]
            ],
            "type": "histogram2dcontour"
           }
          ],
          "mesh3d": [
           {
            "colorbar": {
             "outlinewidth": 0,
             "ticks": ""
            },
            "type": "mesh3d"
           }
          ],
          "parcoords": [
           {
            "line": {
             "colorbar": {
              "outlinewidth": 0,
              "ticks": ""
             }
            },
            "type": "parcoords"
           }
          ],
          "pie": [
           {
            "automargin": true,
            "type": "pie"
           }
          ],
          "scatter": [
           {
            "fillpattern": {
             "fillmode": "overlay",
             "size": 10,
             "solidity": 0.2
            },
            "type": "scatter"
           }
          ],
          "scatter3d": [
           {
            "line": {
             "colorbar": {
              "outlinewidth": 0,
              "ticks": ""
             }
            },
            "marker": {
             "colorbar": {
              "outlinewidth": 0,
              "ticks": ""
             }
            },
            "type": "scatter3d"
           }
          ],
          "scattercarpet": [
           {
            "marker": {
             "colorbar": {
              "outlinewidth": 0,
              "ticks": ""
             }
            },
            "type": "scattercarpet"
           }
          ],
          "scattergeo": [
           {
            "marker": {
             "colorbar": {
              "outlinewidth": 0,
              "ticks": ""
             }
            },
            "type": "scattergeo"
           }
          ],
          "scattergl": [
           {
            "marker": {
             "colorbar": {
              "outlinewidth": 0,
              "ticks": ""
             }
            },
            "type": "scattergl"
           }
          ],
          "scattermapbox": [
           {
            "marker": {
             "colorbar": {
              "outlinewidth": 0,
              "ticks": ""
             }
            },
            "type": "scattermapbox"
           }
          ],
          "scatterpolar": [
           {
            "marker": {
             "colorbar": {
              "outlinewidth": 0,
              "ticks": ""
             }
            },
            "type": "scatterpolar"
           }
          ],
          "scatterpolargl": [
           {
            "marker": {
             "colorbar": {
              "outlinewidth": 0,
              "ticks": ""
             }
            },
            "type": "scatterpolargl"
           }
          ],
          "scatterternary": [
           {
            "marker": {
             "colorbar": {
              "outlinewidth": 0,
              "ticks": ""
             }
            },
            "type": "scatterternary"
           }
          ],
          "surface": [
           {
            "colorbar": {
             "outlinewidth": 0,
             "ticks": ""
            },
            "colorscale": [
             [
              0,
              "#0d0887"
             ],
             [
              0.1111111111111111,
              "#46039f"
             ],
             [
              0.2222222222222222,
              "#7201a8"
             ],
             [
              0.3333333333333333,
              "#9c179e"
             ],
             [
              0.4444444444444444,
              "#bd3786"
             ],
             [
              0.5555555555555556,
              "#d8576b"
             ],
             [
              0.6666666666666666,
              "#ed7953"
             ],
             [
              0.7777777777777778,
              "#fb9f3a"
             ],
             [
              0.8888888888888888,
              "#fdca26"
             ],
             [
              1,
              "#f0f921"
             ]
            ],
            "type": "surface"
           }
          ],
          "table": [
           {
            "cells": {
             "fill": {
              "color": "#EBF0F8"
             },
             "line": {
              "color": "white"
             }
            },
            "header": {
             "fill": {
              "color": "#C8D4E3"
             },
             "line": {
              "color": "white"
             }
            },
            "type": "table"
           }
          ]
         },
         "layout": {
          "annotationdefaults": {
           "arrowcolor": "#2a3f5f",
           "arrowhead": 0,
           "arrowwidth": 1
          },
          "autotypenumbers": "strict",
          "coloraxis": {
           "colorbar": {
            "outlinewidth": 0,
            "ticks": ""
           }
          },
          "colorscale": {
           "diverging": [
            [
             0,
             "#8e0152"
            ],
            [
             0.1,
             "#c51b7d"
            ],
            [
             0.2,
             "#de77ae"
            ],
            [
             0.3,
             "#f1b6da"
            ],
            [
             0.4,
             "#fde0ef"
            ],
            [
             0.5,
             "#f7f7f7"
            ],
            [
             0.6,
             "#e6f5d0"
            ],
            [
             0.7,
             "#b8e186"
            ],
            [
             0.8,
             "#7fbc41"
            ],
            [
             0.9,
             "#4d9221"
            ],
            [
             1,
             "#276419"
            ]
           ],
           "sequential": [
            [
             0,
             "#0d0887"
            ],
            [
             0.1111111111111111,
             "#46039f"
            ],
            [
             0.2222222222222222,
             "#7201a8"
            ],
            [
             0.3333333333333333,
             "#9c179e"
            ],
            [
             0.4444444444444444,
             "#bd3786"
            ],
            [
             0.5555555555555556,
             "#d8576b"
            ],
            [
             0.6666666666666666,
             "#ed7953"
            ],
            [
             0.7777777777777778,
             "#fb9f3a"
            ],
            [
             0.8888888888888888,
             "#fdca26"
            ],
            [
             1,
             "#f0f921"
            ]
           ],
           "sequentialminus": [
            [
             0,
             "#0d0887"
            ],
            [
             0.1111111111111111,
             "#46039f"
            ],
            [
             0.2222222222222222,
             "#7201a8"
            ],
            [
             0.3333333333333333,
             "#9c179e"
            ],
            [
             0.4444444444444444,
             "#bd3786"
            ],
            [
             0.5555555555555556,
             "#d8576b"
            ],
            [
             0.6666666666666666,
             "#ed7953"
            ],
            [
             0.7777777777777778,
             "#fb9f3a"
            ],
            [
             0.8888888888888888,
             "#fdca26"
            ],
            [
             1,
             "#f0f921"
            ]
           ]
          },
          "colorway": [
           "#636efa",
           "#EF553B",
           "#00cc96",
           "#ab63fa",
           "#FFA15A",
           "#19d3f3",
           "#FF6692",
           "#B6E880",
           "#FF97FF",
           "#FECB52"
          ],
          "font": {
           "color": "#2a3f5f"
          },
          "geo": {
           "bgcolor": "white",
           "lakecolor": "white",
           "landcolor": "#E5ECF6",
           "showlakes": true,
           "showland": true,
           "subunitcolor": "white"
          },
          "hoverlabel": {
           "align": "left"
          },
          "hovermode": "closest",
          "mapbox": {
           "style": "light"
          },
          "paper_bgcolor": "white",
          "plot_bgcolor": "#E5ECF6",
          "polar": {
           "angularaxis": {
            "gridcolor": "white",
            "linecolor": "white",
            "ticks": ""
           },
           "bgcolor": "#E5ECF6",
           "radialaxis": {
            "gridcolor": "white",
            "linecolor": "white",
            "ticks": ""
           }
          },
          "scene": {
           "xaxis": {
            "backgroundcolor": "#E5ECF6",
            "gridcolor": "white",
            "gridwidth": 2,
            "linecolor": "white",
            "showbackground": true,
            "ticks": "",
            "zerolinecolor": "white"
           },
           "yaxis": {
            "backgroundcolor": "#E5ECF6",
            "gridcolor": "white",
            "gridwidth": 2,
            "linecolor": "white",
            "showbackground": true,
            "ticks": "",
            "zerolinecolor": "white"
           },
           "zaxis": {
            "backgroundcolor": "#E5ECF6",
            "gridcolor": "white",
            "gridwidth": 2,
            "linecolor": "white",
            "showbackground": true,
            "ticks": "",
            "zerolinecolor": "white"
           }
          },
          "shapedefaults": {
           "line": {
            "color": "#2a3f5f"
           }
          },
          "ternary": {
           "aaxis": {
            "gridcolor": "white",
            "linecolor": "white",
            "ticks": ""
           },
           "baxis": {
            "gridcolor": "white",
            "linecolor": "white",
            "ticks": ""
           },
           "bgcolor": "#E5ECF6",
           "caxis": {
            "gridcolor": "white",
            "linecolor": "white",
            "ticks": ""
           }
          },
          "title": {
           "x": 0.05
          },
          "xaxis": {
           "automargin": true,
           "gridcolor": "white",
           "linecolor": "white",
           "ticks": "",
           "title": {
            "standoff": 15
           },
           "zerolinecolor": "white",
           "zerolinewidth": 2
          },
          "yaxis": {
           "automargin": true,
           "gridcolor": "white",
           "linecolor": "white",
           "ticks": "",
           "title": {
            "standoff": 15
           },
           "zerolinecolor": "white",
           "zerolinewidth": 2
          }
         }
        },
        "title": {
         "text": "Line Graph for Each ID"
        },
        "xaxis": {
         "anchor": "y",
         "domain": [
          0,
          1
         ],
         "title": {
          "text": "Timestamp"
         }
        },
        "yaxis": {
         "anchor": "x",
         "domain": [
          0,
          1
         ],
         "title": {
          "text": "RSSI"
         }
        }
       }
      }
     },
     "metadata": {},
     "output_type": "display_data"
    }
   ],
   "source": [
    "def plot_ble(df):\n",
    "    # Plotly line graph\n",
    "    fig = px.line(df, x='ts', y='rssi', color='id', title='Line Graph for Each ID')\n",
    "    fig.update_layout(xaxis_title='Timestamp', yaxis_title='RSSI', legend_title='ID')\n",
    "    fig.show()\n",
    "\n",
    "plot_ble(df1)\n",
    "plot_ble(df2)\n",
    "plot_ble(df3)"
   ]
  },
  {
   "cell_type": "code",
   "execution_count": 11,
   "metadata": {},
   "outputs": [
    {
     "name": "stdout",
     "output_type": "stream",
     "text": [
      "{'receiver1': -55.0, 'receiver2': -68.0, 'receiver3': -63.0} {'receiver1': -68.0, 'receiver2': -61.0, 'receiver3': -71.0} {'receiver1': -66.0, 'receiver2': -71.5, 'receiver3': -61.0}\n"
     ]
    },
    {
     "data": {
      "text/html": [
       "<div>\n",
       "<style scoped>\n",
       "    .dataframe tbody tr th:only-of-type {\n",
       "        vertical-align: middle;\n",
       "    }\n",
       "\n",
       "    .dataframe tbody tr th {\n",
       "        vertical-align: top;\n",
       "    }\n",
       "\n",
       "    .dataframe thead th {\n",
       "        text-align: right;\n",
       "    }\n",
       "</style>\n",
       "<table border=\"1\" class=\"dataframe\">\n",
       "  <thead>\n",
       "    <tr style=\"text-align: right;\">\n",
       "      <th></th>\n",
       "      <th>ts</th>\n",
       "      <th>id</th>\n",
       "      <th>rssi</th>\n",
       "    </tr>\n",
       "  </thead>\n",
       "  <tbody>\n",
       "    <tr>\n",
       "      <th>101</th>\n",
       "      <td>2023-08-24 17:50:50</td>\n",
       "      <td>2</td>\n",
       "      <td>-72</td>\n",
       "    </tr>\n",
       "    <tr>\n",
       "      <th>103</th>\n",
       "      <td>2023-08-24 17:50:56</td>\n",
       "      <td>2</td>\n",
       "      <td>-54</td>\n",
       "    </tr>\n",
       "    <tr>\n",
       "      <th>107</th>\n",
       "      <td>2023-08-24 17:51:14</td>\n",
       "      <td>2</td>\n",
       "      <td>-64</td>\n",
       "    </tr>\n",
       "    <tr>\n",
       "      <th>109</th>\n",
       "      <td>2023-08-24 17:51:44</td>\n",
       "      <td>2</td>\n",
       "      <td>-70</td>\n",
       "    </tr>\n",
       "    <tr>\n",
       "      <th>110</th>\n",
       "      <td>2023-08-24 17:51:50</td>\n",
       "      <td>2</td>\n",
       "      <td>-60</td>\n",
       "    </tr>\n",
       "  </tbody>\n",
       "</table>\n",
       "</div>"
      ],
      "text/plain": [
       "                     ts  id  rssi\n",
       "101 2023-08-24 17:50:50   2   -72\n",
       "103 2023-08-24 17:50:56   2   -54\n",
       "107 2023-08-24 17:51:14   2   -64\n",
       "109 2023-08-24 17:51:44   2   -70\n",
       "110 2023-08-24 17:51:50   2   -60"
      ]
     },
     "metadata": {},
     "output_type": "display_data"
    },
    {
     "data": {
      "text/html": [
       "<div>\n",
       "<style scoped>\n",
       "    .dataframe tbody tr th:only-of-type {\n",
       "        vertical-align: middle;\n",
       "    }\n",
       "\n",
       "    .dataframe tbody tr th {\n",
       "        vertical-align: top;\n",
       "    }\n",
       "\n",
       "    .dataframe thead th {\n",
       "        text-align: right;\n",
       "    }\n",
       "</style>\n",
       "<table border=\"1\" class=\"dataframe\">\n",
       "  <thead>\n",
       "    <tr style=\"text-align: right;\">\n",
       "      <th></th>\n",
       "      <th>ts</th>\n",
       "      <th>id</th>\n",
       "      <th>rssi</th>\n",
       "    </tr>\n",
       "  </thead>\n",
       "  <tbody>\n",
       "    <tr>\n",
       "      <th>1</th>\n",
       "      <td>2023-08-24 17:49:07</td>\n",
       "      <td>2</td>\n",
       "      <td>-62</td>\n",
       "    </tr>\n",
       "    <tr>\n",
       "      <th>3</th>\n",
       "      <td>2023-08-24 17:49:19</td>\n",
       "      <td>2</td>\n",
       "      <td>-55</td>\n",
       "    </tr>\n",
       "    <tr>\n",
       "      <th>7</th>\n",
       "      <td>2023-08-24 17:50:13</td>\n",
       "      <td>2</td>\n",
       "      <td>-26</td>\n",
       "    </tr>\n",
       "    <tr>\n",
       "      <th>8</th>\n",
       "      <td>2023-08-24 17:50:19</td>\n",
       "      <td>2</td>\n",
       "      <td>-33</td>\n",
       "    </tr>\n",
       "    <tr>\n",
       "      <th>9</th>\n",
       "      <td>2023-08-24 17:50:42</td>\n",
       "      <td>2</td>\n",
       "      <td>-26</td>\n",
       "    </tr>\n",
       "    <tr>\n",
       "      <th>10</th>\n",
       "      <td>2023-08-24 17:51:01</td>\n",
       "      <td>2</td>\n",
       "      <td>-35</td>\n",
       "    </tr>\n",
       "    <tr>\n",
       "      <th>12</th>\n",
       "      <td>2023-08-24 17:51:17</td>\n",
       "      <td>2</td>\n",
       "      <td>-26</td>\n",
       "    </tr>\n",
       "    <tr>\n",
       "      <th>13</th>\n",
       "      <td>2023-08-24 17:56:45</td>\n",
       "      <td>2</td>\n",
       "      <td>-100</td>\n",
       "    </tr>\n",
       "    <tr>\n",
       "      <th>14</th>\n",
       "      <td>2023-08-24 17:56:50</td>\n",
       "      <td>2</td>\n",
       "      <td>-61</td>\n",
       "    </tr>\n",
       "    <tr>\n",
       "      <th>15</th>\n",
       "      <td>2023-08-24 17:57:02</td>\n",
       "      <td>2</td>\n",
       "      <td>-69</td>\n",
       "    </tr>\n",
       "  </tbody>\n",
       "</table>\n",
       "</div>"
      ],
      "text/plain": [
       "                    ts  id  rssi\n",
       "1  2023-08-24 17:49:07   2   -62\n",
       "3  2023-08-24 17:49:19   2   -55\n",
       "7  2023-08-24 17:50:13   2   -26\n",
       "8  2023-08-24 17:50:19   2   -33\n",
       "9  2023-08-24 17:50:42   2   -26\n",
       "10 2023-08-24 17:51:01   2   -35\n",
       "12 2023-08-24 17:51:17   2   -26\n",
       "13 2023-08-24 17:56:45   2  -100\n",
       "14 2023-08-24 17:56:50   2   -61\n",
       "15 2023-08-24 17:57:02   2   -69"
      ]
     },
     "metadata": {},
     "output_type": "display_data"
    },
    {
     "data": {
      "text/html": [
       "<div>\n",
       "<style scoped>\n",
       "    .dataframe tbody tr th:only-of-type {\n",
       "        vertical-align: middle;\n",
       "    }\n",
       "\n",
       "    .dataframe tbody tr th {\n",
       "        vertical-align: top;\n",
       "    }\n",
       "\n",
       "    .dataframe thead th {\n",
       "        text-align: right;\n",
       "    }\n",
       "</style>\n",
       "<table border=\"1\" class=\"dataframe\">\n",
       "  <thead>\n",
       "    <tr style=\"text-align: right;\">\n",
       "      <th></th>\n",
       "      <th>ts</th>\n",
       "      <th>id</th>\n",
       "      <th>rssi</th>\n",
       "    </tr>\n",
       "  </thead>\n",
       "  <tbody>\n",
       "    <tr>\n",
       "      <th>81</th>\n",
       "      <td>2023-08-24 17:46:05</td>\n",
       "      <td>2</td>\n",
       "      <td>-79</td>\n",
       "    </tr>\n",
       "    <tr>\n",
       "      <th>83</th>\n",
       "      <td>2023-08-24 17:46:11</td>\n",
       "      <td>2</td>\n",
       "      <td>-66</td>\n",
       "    </tr>\n",
       "    <tr>\n",
       "      <th>85</th>\n",
       "      <td>2023-08-24 17:46:23</td>\n",
       "      <td>2</td>\n",
       "      <td>-73</td>\n",
       "    </tr>\n",
       "    <tr>\n",
       "      <th>86</th>\n",
       "      <td>2023-08-24 17:46:41</td>\n",
       "      <td>2</td>\n",
       "      <td>-66</td>\n",
       "    </tr>\n",
       "    <tr>\n",
       "      <th>87</th>\n",
       "      <td>2023-08-24 17:46:47</td>\n",
       "      <td>2</td>\n",
       "      <td>-72</td>\n",
       "    </tr>\n",
       "    <tr>\n",
       "      <th>88</th>\n",
       "      <td>2023-08-24 17:47:29</td>\n",
       "      <td>2</td>\n",
       "      <td>-79</td>\n",
       "    </tr>\n",
       "    <tr>\n",
       "      <th>89</th>\n",
       "      <td>2023-08-24 17:47:41</td>\n",
       "      <td>2</td>\n",
       "      <td>-73</td>\n",
       "    </tr>\n",
       "    <tr>\n",
       "      <th>93</th>\n",
       "      <td>2023-08-24 17:57:59</td>\n",
       "      <td>2</td>\n",
       "      <td>-76</td>\n",
       "    </tr>\n",
       "    <tr>\n",
       "      <th>94</th>\n",
       "      <td>2023-08-24 17:58:11</td>\n",
       "      <td>2</td>\n",
       "      <td>-70</td>\n",
       "    </tr>\n",
       "    <tr>\n",
       "      <th>95</th>\n",
       "      <td>2023-08-24 17:58:17</td>\n",
       "      <td>2</td>\n",
       "      <td>-78</td>\n",
       "    </tr>\n",
       "    <tr>\n",
       "      <th>97</th>\n",
       "      <td>2023-08-24 17:58:23</td>\n",
       "      <td>2</td>\n",
       "      <td>-72</td>\n",
       "    </tr>\n",
       "    <tr>\n",
       "      <th>98</th>\n",
       "      <td>2023-08-24 17:58:41</td>\n",
       "      <td>2</td>\n",
       "      <td>-79</td>\n",
       "    </tr>\n",
       "    <tr>\n",
       "      <th>99</th>\n",
       "      <td>2023-08-24 17:58:47</td>\n",
       "      <td>2</td>\n",
       "      <td>-67</td>\n",
       "    </tr>\n",
       "    <tr>\n",
       "      <th>100</th>\n",
       "      <td>2023-08-24 17:58:53</td>\n",
       "      <td>2</td>\n",
       "      <td>-78</td>\n",
       "    </tr>\n",
       "  </tbody>\n",
       "</table>\n",
       "</div>"
      ],
      "text/plain": [
       "                     ts  id  rssi\n",
       "81  2023-08-24 17:46:05   2   -79\n",
       "83  2023-08-24 17:46:11   2   -66\n",
       "85  2023-08-24 17:46:23   2   -73\n",
       "86  2023-08-24 17:46:41   2   -66\n",
       "87  2023-08-24 17:46:47   2   -72\n",
       "88  2023-08-24 17:47:29   2   -79\n",
       "89  2023-08-24 17:47:41   2   -73\n",
       "93  2023-08-24 17:57:59   2   -76\n",
       "94  2023-08-24 17:58:11   2   -70\n",
       "95  2023-08-24 17:58:17   2   -78\n",
       "97  2023-08-24 17:58:23   2   -72\n",
       "98  2023-08-24 17:58:41   2   -79\n",
       "99  2023-08-24 17:58:47   2   -67\n",
       "100 2023-08-24 17:58:53   2   -78"
      ]
     },
     "metadata": {},
     "output_type": "display_data"
    },
    {
     "name": "stdout",
     "output_type": "stream",
     "text": [
      "ts\n",
      "2023-08-24 17:50:50\n",
      "2 next: 2023-08-24 17:51:01\n",
      "2 prev: 2023-08-24 17:50:42\n",
      "3 prev: 2023-08-24 17:47:41\n",
      "\n",
      "ts\n",
      "2023-08-24 17:50:56\n",
      "2 next: 2023-08-24 17:51:01\n",
      "2 prev: 2023-08-24 17:50:42\n",
      "3 prev: 2023-08-24 17:47:41\n",
      "\n",
      "ts\n",
      "2023-08-24 17:51:14\n",
      "2 next: 2023-08-24 17:51:17\n",
      "2 prev: 2023-08-24 17:51:01\n",
      "3 prev: 2023-08-24 17:47:41\n",
      "\n",
      "ts\n",
      "2023-08-24 17:51:44\n",
      "2 prev: 2023-08-24 17:51:17\n",
      "3 prev: 2023-08-24 17:47:41\n",
      "\n",
      "ts\n",
      "2023-08-24 17:51:50\n",
      "2 prev: 2023-08-24 17:51:17\n",
      "3 prev: 2023-08-24 17:47:41\n",
      "\n"
     ]
    }
   ],
   "source": [
    "\"\"\"\n",
    "2 inicio 17:57:30 -> 18:01:00\n",
    "1 fim 18:02:00 -> 18:06:00\n",
    "3 monta cargas 18:07:00 -> 18:10:00\n",
    "\"\"\"\n",
    "def av_ble(df1,df2,df3):\n",
    "    # Set your desired time range\n",
    "    #begginning -> ta no 2\n",
    "    start_time1 = '2023-08-24 17:57:30'\n",
    "    end_time1 = '2023-08-24 18:01:00'\n",
    "\n",
    "    # Filter DataFrame based on the time range\n",
    "    df1_1 = df1[(df1['ts'] >= start_time1) & (df1['ts'] <= end_time1)]\n",
    "    #av_{station}_{time_interval}\n",
    "    med1_1 = df1_1['rssi'].median()\n",
    "\n",
    "    df2_1 = df2[(df2['ts'] >= start_time1) & (df2['ts'] <= end_time1)]\n",
    "    med2_1 = df2_1['rssi'].median()\n",
    "\n",
    "    df3_1 = df3[(df3['ts'] >= start_time1) & (df3['ts'] <= end_time1)]\n",
    "    med3_1 = df3_1['rssi'].median()\n",
    "\n",
    "    #####################################\n",
    "    start_time2 = '2023-08-24 18:01:00'\n",
    "    end_time2 = '2023-08-24 18:04:00'\n",
    "\n",
    "    df1_2 = df1[(df1['ts'] >= start_time2) & (df1['ts'] <= end_time2)]\n",
    "    med1_2 = df1_2['rssi'].median()\n",
    "\n",
    "    df2_2 = df2[(df2['ts'] >= start_time2) & (df2['ts'] <= end_time2)]\n",
    "    med2_2 = df2_2['rssi'].median()\n",
    "\n",
    "    df3_2 = df3[(df3['ts'] >= start_time2) & (df3['ts'] <= end_time2)]\n",
    "    med3_2 = df3_2['rssi'].median()\n",
    "\n",
    "\n",
    "    start_time3 = '2023-08-24 18:07:00'\n",
    "    end_time3 = '2023-08-24 18:10:00'\n",
    "\n",
    "    df1_3 = df1[(df1['ts'] >= start_time3) & (df1['ts'] <= end_time3)]\n",
    "    med1_3 = df1_3['rssi'].median()\n",
    "\n",
    "    df2_3 = df2[(df2['ts'] >= start_time3) & (df2['ts'] <= end_time3)]\n",
    "    med2_3 = df2_3['rssi'].median()\n",
    "\n",
    "    df3_3 = df3[(df3['ts'] >= start_time3) & (df3['ts'] <= end_time3)]\n",
    "    med3_3 = df3_3['rssi'].median()\n",
    "\n",
    "    \"\"\"\n",
    "    2 inicio 17:57:30 -> 18:01:00\n",
    "    1 fim 18:02:00 -> 18:06:00\n",
    "    3 monta cargas 18:07:00 -> 18:10:00\n",
    "    \"\"\"\n",
    "\n",
    "    station1_ref = {'receiver1': med1_2, 'receiver2': med2_2, 'receiver3': med3_2}\n",
    "    station2_ref = {'receiver1': med1_1, 'receiver2': med2_1, 'receiver3': med3_1}\n",
    "    station3_ref = {'receiver1': med1_3, 'receiver2': med2_3, 'receiver3': med3_3}\n",
    "    print(station1_ref, station2_ref, station3_ref)\n",
    "\n",
    "    return station1_ref, station2_ref, station3_ref\n",
    "\n",
    "station1_ref, station2_ref, station3_ref = av_ble(df1,df2,df3)\n",
    "\n",
    "def calculate_rms(df, ref_values):\n",
    "    # Calculate RMS difference for each receiver\n",
    "    rms_diff = np.sqrt(np.mean((df['rssi'] - np.array(list(ref_values.values())))**2))\n",
    "    return rms_diff\n",
    "\n",
    "def analyze_dataframes(df1, df2, df3, id_value):\n",
    "    # Filter DataFrames for the given id value\n",
    "    df1 = df1.loc[100:115]\n",
    "    df2 = df2.loc[:15]\n",
    "    df3 = df3.loc[80:100]\n",
    "    #display(df1,df2,df3)\n",
    "    df1_id = df1[df1['id'] == id_value]\n",
    "    df2_id = df2[df2['id'] == id_value]\n",
    "    df3_id = df3[df3['id'] == id_value]\n",
    "\n",
    "    # Initialize variables for storing results\n",
    "    #min_rms_df = None\n",
    "    #min_rms_value = float('inf')\n",
    "\n",
    "    # Iterate through timestamps in df1\n",
    "    display(df1_id, df2_id, df3_id)\n",
    "    for index, row in df1_id.iterrows():\n",
    "        # Find the current timestamp in df1\n",
    "        #print(row)\n",
    "        print(\"ts\")\n",
    "        #ts_current = df1_id.loc[index, 'ts']\n",
    "        ts_current = pd.to_datetime(row['ts'])\n",
    "        print(ts_current)\n",
    "\n",
    "\n",
    "        ts_end = ts_current + pd.Timedelta(seconds=30)\n",
    "        df2_subset_next = df2_id[(df2_id['ts'] >= ts_current) & (df2_id['ts'] <= ts_end)]\n",
    "        df3_subset_next = df3_id[(df3_id['ts'] >= ts_current) & (df3_id['ts'] <= ts_end)]\n",
    "\n",
    "        if not df2_subset_next.empty:\n",
    "            # Find the first occurrence of the next timestamp in df2 and df3\n",
    "            ts_next_df2 = df2_subset_next.iloc[0]['ts']\n",
    "            print(f'2 next: {ts_next_df2}')\n",
    "        if not df3_subset_next.empty:\n",
    "            ts_next_df3 = df3_subset_next.iloc[0]['ts']\n",
    "            print(f'3 next: {ts_next_df3}')\n",
    "\n",
    "\n",
    "\n",
    "\n",
    "        # Find the corresponding previous timestamp in df2 and df3\n",
    "        df2_subset_prev = df2_id[df2_id['ts'] <= ts_current].tail(1)\n",
    "        df3_subset_prev = df3_id[df3_id['ts'] <= ts_current].tail(1)\n",
    "\n",
    "        # Find the first occurrence of the previous timestamp in df2 and df3\n",
    "        if not df2_subset_prev.empty:\n",
    "            ts_prev_df2 = df2_subset_prev.iloc[0]['ts']\n",
    "            print(f'2 prev: {ts_prev_df2}')\n",
    "        if not df3_subset_prev.empty:\n",
    "            ts_prev_df3 = df3_subset_prev.iloc[0]['ts']\n",
    "            print(f'3 prev: {ts_prev_df3}')\n",
    "        print()\n",
    "    \n",
    "    return\n",
    "\n",
    "        # Calculate RMS difference for each case\n",
    "        #rms_df2_prev = calculate_rms(df2_id[df2_id['ts'] == ts_prev_df2], station2_ref)\n",
    "        #rms_df3_prev = calculate_rms(df3_id[df3_id['ts'] == ts_prev_df3], station3_ref)\n",
    "\n",
    "        #print(\"2\")\n",
    "        #display(df2_subset)\n",
    "        #print(\"3\")\n",
    "        #display(df3_subset)\n",
    "\"\"\"\"\n",
    "        if not df2_subset.empty and not df3_subset.empty:\n",
    "            # Calculate RMS difference for each case\n",
    "            rms_df2 = calculate_rms(df2_subset, station2_ref)\n",
    "            rms_df3 = calculate_rms(df3_subset, station3_ref)\n",
    "\n",
    "            # Sum the RMS values\n",
    "            rms_sum = rms_df2 + rms_df3\"\"\"\n",
    "\n",
    "analyze_dataframes(df1, df2, df3, id_value=2)\n"
   ]
  }
 ],
 "metadata": {
  "kernelspec": {
   "display_name": "base",
   "language": "python",
   "name": "python3"
  },
  "language_info": {
   "codemirror_mode": {
    "name": "ipython",
    "version": 3
   },
   "file_extension": ".py",
   "mimetype": "text/x-python",
   "name": "python",
   "nbconvert_exporter": "python",
   "pygments_lexer": "ipython3",
   "version": "3.11.4"
  }
 },
 "nbformat": 4,
 "nbformat_minor": 2
}
